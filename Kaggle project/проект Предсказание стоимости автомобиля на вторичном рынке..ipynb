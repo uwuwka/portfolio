{
 "metadata": {
  "kernelspec": {
   "language": "python",
   "display_name": "Python 3",
   "name": "python3"
  },
  "language_info": {
   "pygments_lexer": "ipython3",
   "nbconvert_exporter": "python",
   "version": "3.6.4",
   "file_extension": ".py",
   "codemirror_mode": {
    "name": "ipython",
    "version": 3
   },
   "name": "python",
   "mimetype": "text/x-python"
  }
 },
 "nbformat_minor": 4,
 "nbformat": 4,
 "cells": [
  {
   "cell_type": "code",
   "source": [
    "import numpy as np # linear algebra\n",
    "import pandas as pd # data processing, CSV file I/O (e.g. pd.read_csv\n",
    "import matplotlib as plt\n",
    "from tqdm import tqdm\n",
    "\n",
    "import seaborn as sns\n",
    "\n",
    "import os\n",
    "for dirname, _, filenames in os.walk('/kaggle/input/copy-of-used-cars-price-prediction-ds18'):\n",
    "    for filename in filenames:\n",
    "        print(os.path.join(dirname, filename))\n",
    "\n",
    "from sklearn.preprocessing import OneHotEncoder\n",
    "from sklearn.model_selection import train_test_split, GridSearchCV\n",
    "from sklearn.metrics import mean_absolute_percentage_error\n",
    "\n",
    "\n",
    "from catboost import CatBoostRegressor\n",
    "from catboost import Pool, cv\n",
    "\n",
    "import warnings\n",
    "warnings.filterwarnings(\"ignore\")"
   ],
   "metadata": {
    "_uuid": "8f2839f25d086af736a60e9eeb907d3b93b6e0e5",
    "_cell_guid": "b1076dfc-b9ad-4769-8c92-a6c4dae69d19",
    "execution": {
     "iopub.status.busy": "2023-05-26T15:12:43.666071Z",
     "iopub.execute_input": "2023-05-26T15:12:43.666710Z",
     "iopub.status.idle": "2023-05-26T15:12:44.750619Z",
     "shell.execute_reply.started": "2023-05-26T15:12:43.666650Z",
     "shell.execute_reply": "2023-05-26T15:12:44.749603Z"
    },
    "trusted": true
   },
   "execution_count": null,
   "outputs": []
  },
  {
   "cell_type": "markdown",
   "source": [
    "# открываем и смотрим данные"
   ],
   "metadata": {}
  },
  {
   "cell_type": "code",
   "source": [
    "df_train= pd.read_csv('/kaggle/input/copy-of-used-cars-price-prediction-ds18/train.csv')\n",
    "df_test=pd.read_csv('/kaggle/input/copy-of-used-cars-price-prediction-ds18/test.csv')"
   ],
   "metadata": {
    "execution": {
     "iopub.status.busy": "2023-05-26T15:12:44.752355Z",
     "iopub.execute_input": "2023-05-26T15:12:44.752722Z",
     "iopub.status.idle": "2023-05-26T15:12:47.453977Z",
     "shell.execute_reply.started": "2023-05-26T15:12:44.752658Z",
     "shell.execute_reply": "2023-05-26T15:12:47.452987Z"
    },
    "trusted": true
   },
   "execution_count": null,
   "outputs": []
  },
  {
   "cell_type": "code",
   "source": [
    "def data_analis (df):\n",
    "    i=df.info()\n",
    "    h=df.head()\n",
    "    ds=df.describe()\n",
    "    dp=df.duplicated().sum()\n",
    "    null= df.isna().sum()\n",
    "    return print(i),print(),print(h),print(), print(ds),print('дубликаты:',dp),print(),print('пропуски:',null)"
   ],
   "metadata": {
    "execution": {
     "iopub.status.busy": "2023-05-26T15:12:47.455214Z",
     "iopub.execute_input": "2023-05-26T15:12:47.455556Z",
     "iopub.status.idle": "2023-05-26T15:12:47.464508Z",
     "shell.execute_reply.started": "2023-05-26T15:12:47.455525Z",
     "shell.execute_reply": "2023-05-26T15:12:47.463648Z"
    },
    "trusted": true
   },
   "execution_count": null,
   "outputs": []
  },
  {
   "cell_type": "code",
   "source": [
    "data_analis(df_train)"
   ],
   "metadata": {
    "execution": {
     "iopub.status.busy": "2023-05-26T15:12:47.467364Z",
     "iopub.execute_input": "2023-05-26T15:12:47.468180Z",
     "iopub.status.idle": "2023-05-26T15:12:50.956572Z",
     "shell.execute_reply.started": "2023-05-26T15:12:47.468134Z",
     "shell.execute_reply": "2023-05-26T15:12:50.955580Z"
    },
    "trusted": true
   },
   "execution_count": null,
   "outputs": []
  },
  {
   "cell_type": "code",
   "source": [
    "print(df_train.shape)"
   ],
   "metadata": {
    "execution": {
     "iopub.status.busy": "2023-05-26T15:12:50.961515Z",
     "iopub.execute_input": "2023-05-26T15:12:50.964300Z",
     "iopub.status.idle": "2023-05-26T15:12:50.970245Z",
     "shell.execute_reply.started": "2023-05-26T15:12:50.964260Z",
     "shell.execute_reply": "2023-05-26T15:12:50.968656Z"
    },
    "trusted": true
   },
   "execution_count": null,
   "outputs": []
  },
  {
   "cell_type": "markdown",
   "source": [
    "# переработка данных"
   ],
   "metadata": {}
  },
  {
   "cell_type": "code",
   "source": [
    "df_train['make']=df_train['make'].dropna()\n",
    "df_train['model']=df_train['model'].dropna()\n",
    "df_train['body']=df_train['body'].dropna()\n",
    "df_train['trim']=df_train['trim'].dropna()\n",
    "df_train['color']=df_train['color'].dropna()\n",
    "df_train['interior']=df_train['interior'].dropna()\n"
   ],
   "metadata": {
    "execution": {
     "iopub.status.busy": "2023-05-26T15:12:50.971921Z",
     "iopub.execute_input": "2023-05-26T15:12:50.972538Z",
     "iopub.status.idle": "2023-05-26T15:12:51.859532Z",
     "shell.execute_reply.started": "2023-05-26T15:12:50.972503Z",
     "shell.execute_reply": "2023-05-26T15:12:51.858621Z"
    },
    "trusted": true
   },
   "execution_count": null,
   "outputs": []
  },
  {
   "cell_type": "code",
   "source": [
    "df_train['saledate']=pd.to_datetime(df_train['saledate'],utc=True)"
   ],
   "metadata": {
    "execution": {
     "iopub.status.busy": "2023-05-26T15:12:51.861150Z",
     "iopub.execute_input": "2023-05-26T15:12:51.861824Z",
     "iopub.status.idle": "2023-05-26T15:12:52.827081Z",
     "shell.execute_reply.started": "2023-05-26T15:12:51.861789Z",
     "shell.execute_reply": "2023-05-26T15:12:52.825959Z"
    },
    "trusted": true
   },
   "execution_count": null,
   "outputs": []
  },
  {
   "cell_type": "code",
   "source": [
    "df_test['saledate'].info()"
   ],
   "metadata": {
    "execution": {
     "iopub.status.busy": "2023-05-26T15:12:52.828504Z",
     "iopub.execute_input": "2023-05-26T15:12:52.828860Z",
     "iopub.status.idle": "2023-05-26T15:12:52.851493Z",
     "shell.execute_reply.started": "2023-05-26T15:12:52.828828Z",
     "shell.execute_reply": "2023-05-26T15:12:52.850033Z"
    },
    "trusted": true
   },
   "execution_count": null,
   "outputs": []
  },
  {
   "cell_type": "code",
   "source": [
    "df_train['make'].unique()"
   ],
   "metadata": {
    "execution": {
     "iopub.status.busy": "2023-05-26T15:12:52.853149Z",
     "iopub.execute_input": "2023-05-26T15:12:52.853515Z",
     "iopub.status.idle": "2023-05-26T15:12:52.899947Z",
     "shell.execute_reply.started": "2023-05-26T15:12:52.853482Z",
     "shell.execute_reply": "2023-05-26T15:12:52.898591Z"
    },
    "trusted": true
   },
   "execution_count": null,
   "outputs": []
  },
  {
   "cell_type": "code",
   "source": [
    "df_train['make']=df_train['make'].str.lower()\n",
    "df_train['make'].unique()"
   ],
   "metadata": {
    "execution": {
     "iopub.status.busy": "2023-05-26T15:12:52.905044Z",
     "iopub.execute_input": "2023-05-26T15:12:52.905320Z",
     "iopub.status.idle": "2023-05-26T15:12:53.107487Z",
     "shell.execute_reply.started": "2023-05-26T15:12:52.905299Z",
     "shell.execute_reply": "2023-05-26T15:12:53.106521Z"
    },
    "trusted": true
   },
   "execution_count": null,
   "outputs": []
  },
  {
   "cell_type": "code",
   "source": [
    "mers_after=['mercedes','mercedes-b']\n",
    "mers_befor='mercedes-benz'\n",
    "\n",
    "dod_after=['ram','dot']\n",
    "dod_befor='dodge'\n",
    "\n",
    "lr_after=['landrover','land rover']\n",
    "lr_before='land_rover'\n",
    "\n",
    "vw_after='vw'\n",
    "vw_before='volkswagen'\n",
    "\n",
    "df_train['make']= df_train['make'].replace(mers_after,mers_befor)\n",
    "df_train['make']= df_train['make'].replace(dod_after,dod_befor)\n",
    "df_train['make']= df_train['make'].replace(vw_after,vw_before)\n",
    "df_train['make']= df_train['make'].replace(lr_after,lr_before)"
   ],
   "metadata": {
    "execution": {
     "iopub.status.busy": "2023-05-26T15:12:53.108769Z",
     "iopub.execute_input": "2023-05-26T15:12:53.109375Z",
     "iopub.status.idle": "2023-05-26T15:12:53.421146Z",
     "shell.execute_reply.started": "2023-05-26T15:12:53.109341Z",
     "shell.execute_reply": "2023-05-26T15:12:53.420083Z"
    },
    "trusted": true
   },
   "execution_count": null,
   "outputs": []
  },
  {
   "cell_type": "code",
   "source": [
    "df_train['make'].unique()"
   ],
   "metadata": {
    "execution": {
     "iopub.status.busy": "2023-05-26T15:12:53.423461Z",
     "iopub.execute_input": "2023-05-26T15:12:53.424070Z",
     "iopub.status.idle": "2023-05-26T15:12:53.471749Z",
     "shell.execute_reply.started": "2023-05-26T15:12:53.424033Z",
     "shell.execute_reply": "2023-05-26T15:12:53.470790Z"
    },
    "trusted": true
   },
   "execution_count": null,
   "outputs": []
  },
  {
   "cell_type": "code",
   "source": [
    "df_train['model']=df_train['model'].str.lower()"
   ],
   "metadata": {
    "execution": {
     "iopub.status.busy": "2023-05-26T15:12:53.473047Z",
     "iopub.execute_input": "2023-05-26T15:12:53.473552Z",
     "iopub.status.idle": "2023-05-26T15:12:53.627848Z",
     "shell.execute_reply.started": "2023-05-26T15:12:53.473520Z",
     "shell.execute_reply": "2023-05-26T15:12:53.626865Z"
    },
    "trusted": true
   },
   "execution_count": null,
   "outputs": []
  },
  {
   "cell_type": "code",
   "source": [
    "df_train['trim']=df_train['trim'].str.lower()"
   ],
   "metadata": {
    "execution": {
     "iopub.status.busy": "2023-05-26T15:12:53.629425Z",
     "iopub.execute_input": "2023-05-26T15:12:53.630527Z",
     "iopub.status.idle": "2023-05-26T15:12:53.784569Z",
     "shell.execute_reply.started": "2023-05-26T15:12:53.630488Z",
     "shell.execute_reply": "2023-05-26T15:12:53.783605Z"
    },
    "trusted": true
   },
   "execution_count": null,
   "outputs": []
  },
  {
   "cell_type": "code",
   "source": [
    "df_train['body']=df_train['body'].str.lower()\n",
    "df_train['body']=df_train['body'].replace('koup','coupe')\n",
    "\n",
    "df_train['body']=df_train['body'].replace('supercab','super cabe')\n",
    "df_train['body']=df_train['body'].replace('xtracab','xtra cab')\n",
    "df_train['body']=df_train['body'].replace('regular-cab','regular cab')\n",
    "\n",
    "df_train['body']=df_train['body'].fillna('suv')\n",
    "df_train['body'].unique()"
   ],
   "metadata": {
    "execution": {
     "iopub.status.busy": "2023-05-26T15:12:53.786217Z",
     "iopub.execute_input": "2023-05-26T15:12:53.786611Z",
     "iopub.status.idle": "2023-05-26T15:12:54.113515Z",
     "shell.execute_reply.started": "2023-05-26T15:12:53.786576Z",
     "shell.execute_reply": "2023-05-26T15:12:54.112588Z"
    },
    "trusted": true
   },
   "execution_count": null,
   "outputs": []
  },
  {
   "cell_type": "markdown",
   "source": [
    "# смотрим корреляции"
   ],
   "metadata": {}
  },
  {
   "cell_type": "code",
   "source": [
    "sns.heatmap(df_train.corr(),annot=True)"
   ],
   "metadata": {
    "execution": {
     "iopub.status.busy": "2023-05-26T15:12:54.114881Z",
     "iopub.execute_input": "2023-05-26T15:12:54.115395Z",
     "iopub.status.idle": "2023-05-26T15:12:54.523915Z",
     "shell.execute_reply.started": "2023-05-26T15:12:54.115362Z",
     "shell.execute_reply": "2023-05-26T15:12:54.523022Z"
    },
    "trusted": true
   },
   "execution_count": null,
   "outputs": []
  },
  {
   "cell_type": "code",
   "source": [
    "ax=sns.barplot(data=df_train,x='year',y='condition')\n",
    "ax.figure.set_size_inches(20,10)"
   ],
   "metadata": {
    "execution": {
     "iopub.status.busy": "2023-05-26T15:12:54.525216Z",
     "iopub.execute_input": "2023-05-26T15:12:54.526284Z",
     "iopub.status.idle": "2023-05-26T15:13:02.906556Z",
     "shell.execute_reply.started": "2023-05-26T15:12:54.526248Z",
     "shell.execute_reply": "2023-05-26T15:13:02.905605Z"
    },
    "trusted": true
   },
   "execution_count": null,
   "outputs": []
  },
  {
   "cell_type": "code",
   "source": [
    "ax=sns.barplot(data=df_train,x='condition',y='odometer')\n",
    "ax.figure.set_size_inches(20,10)"
   ],
   "metadata": {
    "execution": {
     "iopub.status.busy": "2023-05-26T15:13:02.908066Z",
     "iopub.execute_input": "2023-05-26T15:13:02.908412Z",
     "iopub.status.idle": "2023-05-26T15:13:09.706514Z",
     "shell.execute_reply.started": "2023-05-26T15:13:02.908380Z",
     "shell.execute_reply": "2023-05-26T15:13:09.705598Z"
    },
    "trusted": true
   },
   "execution_count": null,
   "outputs": []
  },
  {
   "cell_type": "code",
   "source": [
    "df_train['condition']=df_train['condition'].fillna(df_train['condition'].corr(df_train['odometer']))"
   ],
   "metadata": {
    "execution": {
     "iopub.status.busy": "2023-05-26T15:13:09.708081Z",
     "iopub.execute_input": "2023-05-26T15:13:09.709166Z",
     "iopub.status.idle": "2023-05-26T15:13:09.727700Z",
     "shell.execute_reply.started": "2023-05-26T15:13:09.709131Z",
     "shell.execute_reply": "2023-05-26T15:13:09.726714Z"
    },
    "trusted": true
   },
   "execution_count": null,
   "outputs": []
  },
  {
   "cell_type": "code",
   "source": [
    "df_train['transmission']=df_train['transmission'].fillna('automatic')"
   ],
   "metadata": {
    "execution": {
     "iopub.status.busy": "2023-05-26T15:13:09.729129Z",
     "iopub.execute_input": "2023-05-26T15:13:09.729471Z",
     "iopub.status.idle": "2023-05-26T15:13:09.794330Z",
     "shell.execute_reply.started": "2023-05-26T15:13:09.729438Z",
     "shell.execute_reply": "2023-05-26T15:13:09.793403Z"
    },
    "trusted": true
   },
   "execution_count": null,
   "outputs": []
  },
  {
   "cell_type": "code",
   "source": [
    "df_train.isna().sum()"
   ],
   "metadata": {
    "execution": {
     "iopub.status.busy": "2023-05-26T15:13:09.795603Z",
     "iopub.execute_input": "2023-05-26T15:13:09.796328Z",
     "iopub.status.idle": "2023-05-26T15:13:10.993643Z",
     "shell.execute_reply.started": "2023-05-26T15:13:09.796294Z",
     "shell.execute_reply": "2023-05-26T15:13:10.992675Z"
    },
    "trusted": true
   },
   "execution_count": null,
   "outputs": []
  },
  {
   "cell_type": "code",
   "source": [
    "ax=sns.barplot(data=df_train,x='condition',y='odometer')\n",
    "ax.figure.set_size_inches(20,10)"
   ],
   "metadata": {
    "execution": {
     "iopub.status.busy": "2023-05-26T15:13:10.994877Z",
     "iopub.execute_input": "2023-05-26T15:13:10.995245Z",
     "iopub.status.idle": "2023-05-26T15:13:18.064511Z",
     "shell.execute_reply.started": "2023-05-26T15:13:10.995213Z",
     "shell.execute_reply": "2023-05-26T15:13:18.063614Z"
    },
    "trusted": true
   },
   "execution_count": null,
   "outputs": []
  },
  {
   "cell_type": "code",
   "source": [
    "ax=sns.barplot(data=df_train,x='sellingprice',y='make')\n",
    "ax.figure.set_size_inches(10,10)"
   ],
   "metadata": {
    "execution": {
     "iopub.status.busy": "2023-05-26T15:13:18.065861Z",
     "iopub.execute_input": "2023-05-26T15:13:18.066635Z",
     "iopub.status.idle": "2023-05-26T15:13:25.720182Z",
     "shell.execute_reply.started": "2023-05-26T15:13:18.066601Z",
     "shell.execute_reply": "2023-05-26T15:13:25.719256Z"
    },
    "trusted": true
   },
   "execution_count": null,
   "outputs": []
  },
  {
   "cell_type": "code",
   "source": [
    "ax=sns.barplot(data=df_train,x='transmission',y='sellingprice' )\n",
    "ax.figure.set_size_inches(10,10)"
   ],
   "metadata": {
    "execution": {
     "iopub.status.busy": "2023-05-26T15:13:25.721213Z",
     "iopub.execute_input": "2023-05-26T15:13:25.721568Z",
     "iopub.status.idle": "2023-05-26T15:13:31.535501Z",
     "shell.execute_reply.started": "2023-05-26T15:13:25.721536Z",
     "shell.execute_reply": "2023-05-26T15:13:31.534625Z"
    },
    "trusted": true
   },
   "execution_count": null,
   "outputs": []
  },
  {
   "cell_type": "markdown",
   "source": [
    "# Подготовка данных для обучения модели"
   ],
   "metadata": {}
  },
  {
   "cell_type": "code",
   "source": [
    "df_train=df_train.drop(['vin','saledate','seller' ],axis=1)"
   ],
   "metadata": {
    "execution": {
     "iopub.status.busy": "2023-05-26T15:13:31.536980Z",
     "iopub.execute_input": "2023-05-26T15:13:31.537554Z",
     "iopub.status.idle": "2023-05-26T15:13:31.624627Z",
     "shell.execute_reply.started": "2023-05-26T15:13:31.537519Z",
     "shell.execute_reply": "2023-05-26T15:13:31.623585Z"
    },
    "trusted": true
   },
   "execution_count": null,
   "outputs": []
  },
  {
   "cell_type": "code",
   "source": [
    "train,test=train_test_split(df_train,random_state=3826)"
   ],
   "metadata": {
    "execution": {
     "iopub.status.busy": "2023-05-26T15:13:31.626218Z",
     "iopub.execute_input": "2023-05-26T15:13:31.626584Z",
     "iopub.status.idle": "2023-05-26T15:13:32.005341Z",
     "shell.execute_reply.started": "2023-05-26T15:13:31.626550Z",
     "shell.execute_reply": "2023-05-26T15:13:32.004371Z"
    },
    "trusted": true
   },
   "execution_count": null,
   "outputs": []
  },
  {
   "cell_type": "code",
   "source": [
    "cat_features=list(train.select_dtypes(include='object').columns)\n",
    "cat_features"
   ],
   "metadata": {
    "execution": {
     "iopub.status.busy": "2023-05-26T15:13:32.007008Z",
     "iopub.execute_input": "2023-05-26T15:13:32.007386Z",
     "iopub.status.idle": "2023-05-26T15:13:32.070338Z",
     "shell.execute_reply.started": "2023-05-26T15:13:32.007352Z",
     "shell.execute_reply": "2023-05-26T15:13:32.068730Z"
    },
    "trusted": true
   },
   "execution_count": null,
   "outputs": []
  },
  {
   "cell_type": "code",
   "source": [
    "train[cat_features]= train[cat_features].fillna('not_info')\n",
    "test[cat_features]= test[cat_features].fillna('not_info')"
   ],
   "metadata": {
    "execution": {
     "iopub.status.busy": "2023-05-26T15:13:32.077101Z",
     "iopub.execute_input": "2023-05-26T15:13:32.077385Z",
     "iopub.status.idle": "2023-05-26T15:13:33.527703Z",
     "shell.execute_reply.started": "2023-05-26T15:13:32.077361Z",
     "shell.execute_reply": "2023-05-26T15:13:33.526714Z"
    },
    "trusted": true
   },
   "execution_count": null,
   "outputs": []
  },
  {
   "cell_type": "code",
   "source": [
    "train.head()"
   ],
   "metadata": {
    "execution": {
     "iopub.status.busy": "2023-05-26T15:13:33.529019Z",
     "iopub.execute_input": "2023-05-26T15:13:33.529368Z",
     "iopub.status.idle": "2023-05-26T15:13:33.550587Z",
     "shell.execute_reply.started": "2023-05-26T15:13:33.529338Z",
     "shell.execute_reply": "2023-05-26T15:13:33.549738Z"
    },
    "trusted": true
   },
   "execution_count": null,
   "outputs": []
  },
  {
   "cell_type": "code",
   "source": [
    "print(test.shape)\n",
    "print(train.shape)"
   ],
   "metadata": {
    "execution": {
     "iopub.status.busy": "2023-05-26T15:13:33.553587Z",
     "iopub.execute_input": "2023-05-26T15:13:33.553922Z",
     "iopub.status.idle": "2023-05-26T15:13:33.558444Z",
     "shell.execute_reply.started": "2023-05-26T15:13:33.553895Z",
     "shell.execute_reply": "2023-05-26T15:13:33.557404Z"
    },
    "trusted": true
   },
   "execution_count": null,
   "outputs": []
  },
  {
   "cell_type": "code",
   "source": [
    "x=['make', 'model', 'body', 'transmission','year','condition','odometer','trim','interior','state','color']\n",
    "y=['sellingprice']"
   ],
   "metadata": {
    "execution": {
     "iopub.status.busy": "2023-05-26T15:13:33.559634Z",
     "iopub.execute_input": "2023-05-26T15:13:33.560430Z",
     "iopub.status.idle": "2023-05-26T15:13:33.568767Z",
     "shell.execute_reply.started": "2023-05-26T15:13:33.560398Z",
     "shell.execute_reply": "2023-05-26T15:13:33.567816Z"
    },
    "trusted": true
   },
   "execution_count": null,
   "outputs": []
  },
  {
   "cell_type": "code",
   "source": [
    "train_data= Pool(data=train[x],\n",
    "                label=train[y],\n",
    "                 cat_features=cat_features)\n",
    "test_data= Pool(data=test[x],\n",
    "                label=test[y],\n",
    "                 cat_features=cat_features)"
   ],
   "metadata": {
    "execution": {
     "iopub.status.busy": "2023-05-26T15:13:33.569928Z",
     "iopub.execute_input": "2023-05-26T15:13:33.570654Z",
     "iopub.status.idle": "2023-05-26T15:13:34.708257Z",
     "shell.execute_reply.started": "2023-05-26T15:13:33.570624Z",
     "shell.execute_reply": "2023-05-26T15:13:34.707297Z"
    },
    "trusted": true
   },
   "execution_count": null,
   "outputs": []
  },
  {
   "cell_type": "code",
   "source": [
    "params={'eval_metric':'MAPE',\n",
    "       'loss_function':'RMSE',\n",
    "        'task_type':'GPU',\n",
    "       'learning_rate':0.1,\n",
    "       'random_seed':3826,\n",
    "       'verbose':100,\n",
    "       'iterations':6000}"
   ],
   "metadata": {
    "execution": {
     "iopub.status.busy": "2023-05-26T15:13:34.709572Z",
     "iopub.execute_input": "2023-05-26T15:13:34.709936Z",
     "iopub.status.idle": "2023-05-26T15:13:34.716576Z",
     "shell.execute_reply.started": "2023-05-26T15:13:34.709906Z",
     "shell.execute_reply": "2023-05-26T15:13:34.715620Z"
    },
    "trusted": true
   },
   "execution_count": null,
   "outputs": []
  },
  {
   "cell_type": "markdown",
   "source": [
    "# обучение и проверка модели"
   ],
   "metadata": {}
  },
  {
   "cell_type": "code",
   "source": [
    "cv_data=cv(params= params,\n",
    "          pool=train_data,\n",
    "          fold_count=5,\n",
    "          shuffle=True,\n",
    "          partition_random_seed=0,\n",
    "          stratified=True,\n",
    "          verbose=False,\n",
    "          early_stopping_rounds=200,)"
   ],
   "metadata": {
    "execution": {
     "iopub.status.busy": "2023-05-26T15:13:34.718111Z",
     "iopub.execute_input": "2023-05-26T15:13:34.718504Z",
     "iopub.status.idle": "2023-05-26T15:29:05.778996Z",
     "shell.execute_reply.started": "2023-05-26T15:13:34.718471Z",
     "shell.execute_reply": "2023-05-26T15:29:05.778059Z"
    },
    "trusted": true
   },
   "execution_count": null,
   "outputs": []
  },
  {
   "cell_type": "code",
   "source": [
    "cv_data[cv_data['test-MAPE-mean']==cv_data['test-MAPE-mean'].min()]"
   ],
   "metadata": {
    "execution": {
     "iopub.status.busy": "2023-05-26T15:29:05.782612Z",
     "iopub.execute_input": "2023-05-26T15:29:05.783620Z",
     "iopub.status.idle": "2023-05-26T15:29:05.803425Z",
     "shell.execute_reply.started": "2023-05-26T15:29:05.783587Z",
     "shell.execute_reply": "2023-05-26T15:29:05.802712Z"
    },
    "trusted": true
   },
   "execution_count": null,
   "outputs": []
  },
  {
   "cell_type": "code",
   "source": [
    "model=CatBoostRegressor(**params)"
   ],
   "metadata": {
    "execution": {
     "iopub.status.busy": "2023-05-26T15:29:05.807171Z",
     "iopub.execute_input": "2023-05-26T15:29:05.808066Z",
     "iopub.status.idle": "2023-05-26T15:29:05.814095Z",
     "shell.execute_reply.started": "2023-05-26T15:29:05.808024Z",
     "shell.execute_reply": "2023-05-26T15:29:05.813142Z"
    },
    "trusted": true
   },
   "execution_count": null,
   "outputs": []
  },
  {
   "cell_type": "code",
   "source": [
    "model.fit(train_data)"
   ],
   "metadata": {
    "execution": {
     "iopub.status.busy": "2023-05-26T15:29:05.817373Z",
     "iopub.execute_input": "2023-05-26T15:29:05.819751Z",
     "iopub.status.idle": "2023-05-26T15:32:26.208274Z",
     "shell.execute_reply.started": "2023-05-26T15:29:05.819718Z",
     "shell.execute_reply": "2023-05-26T15:32:26.207447Z"
    },
    "trusted": true
   },
   "execution_count": null,
   "outputs": []
  },
  {
   "cell_type": "code",
   "source": [
    "test['y_pred'] = model.predict(test_data)"
   ],
   "metadata": {
    "execution": {
     "iopub.status.busy": "2023-05-26T15:32:26.212174Z",
     "iopub.execute_input": "2023-05-26T15:32:26.214195Z",
     "iopub.status.idle": "2023-05-26T15:32:34.445650Z",
     "shell.execute_reply.started": "2023-05-26T15:32:26.214161Z",
     "shell.execute_reply": "2023-05-26T15:32:34.444713Z"
    },
    "trusted": true
   },
   "execution_count": null,
   "outputs": []
  },
  {
   "cell_type": "code",
   "source": [
    "mean_absolute_percentage_error(test['sellingprice'],test['y_pred'])"
   ],
   "metadata": {
    "execution": {
     "iopub.status.busy": "2023-05-26T15:32:34.446933Z",
     "iopub.execute_input": "2023-05-26T15:32:34.447343Z",
     "iopub.status.idle": "2023-05-26T15:32:34.458644Z",
     "shell.execute_reply.started": "2023-05-26T15:32:34.447308Z",
     "shell.execute_reply": "2023-05-26T15:32:34.457319Z"
    },
    "trusted": true
   },
   "execution_count": null,
   "outputs": []
  },
  {
   "cell_type": "code",
   "source": [
    "cv_data[cv_data['test-MAPE-mean'] == cv_data['test-MAPE-mean'].min()]"
   ],
   "metadata": {
    "execution": {
     "iopub.status.busy": "2023-05-26T15:32:34.460122Z",
     "iopub.execute_input": "2023-05-26T15:32:34.460627Z",
     "iopub.status.idle": "2023-05-26T15:32:34.478396Z",
     "shell.execute_reply.started": "2023-05-26T15:32:34.460594Z",
     "shell.execute_reply": "2023-05-26T15:32:34.477479Z"
    },
    "trusted": true
   },
   "execution_count": null,
   "outputs": []
  },
  {
   "cell_type": "markdown",
   "source": [
    "# проверка модели на тестовых данных"
   ],
   "metadata": {}
  },
  {
   "cell_type": "code",
   "source": [
    "df_test_1=df_test.drop(['vin','saledate','seller' ],axis=1)"
   ],
   "metadata": {
    "execution": {
     "iopub.status.busy": "2023-05-26T15:32:34.479526Z",
     "iopub.execute_input": "2023-05-26T15:32:34.479925Z",
     "iopub.status.idle": "2023-05-26T15:32:34.493777Z",
     "shell.execute_reply.started": "2023-05-26T15:32:34.479893Z",
     "shell.execute_reply": "2023-05-26T15:32:34.492789Z"
    },
    "trusted": true
   },
   "execution_count": null,
   "outputs": []
  },
  {
   "cell_type": "code",
   "source": [
    "df_test_1['transmission']=df_test_1['transmission'].fillna('automatic')"
   ],
   "metadata": {
    "execution": {
     "iopub.status.busy": "2023-05-26T15:32:34.494936Z",
     "iopub.execute_input": "2023-05-26T15:32:34.495331Z",
     "iopub.status.idle": "2023-05-26T15:32:34.518218Z",
     "shell.execute_reply.started": "2023-05-26T15:32:34.495300Z",
     "shell.execute_reply": "2023-05-26T15:32:34.517112Z"
    },
    "trusted": true
   },
   "execution_count": null,
   "outputs": []
  },
  {
   "cell_type": "code",
   "source": [
    "cat_features_test=list(df_test_1.select_dtypes(include='object').columns)\n",
    "cat_features_test "
   ],
   "metadata": {
    "execution": {
     "iopub.status.busy": "2023-05-26T15:32:34.519361Z",
     "iopub.execute_input": "2023-05-26T15:32:34.519770Z",
     "iopub.status.idle": "2023-05-26T15:32:34.546273Z",
     "shell.execute_reply.started": "2023-05-26T15:32:34.519739Z",
     "shell.execute_reply": "2023-05-26T15:32:34.545358Z"
    },
    "trusted": true
   },
   "execution_count": null,
   "outputs": []
  },
  {
   "cell_type": "code",
   "source": [
    "df_test_1[cat_features_test]= df_test_1[cat_features_test].fillna('not_info')"
   ],
   "metadata": {
    "execution": {
     "iopub.status.busy": "2023-05-26T15:32:34.547993Z",
     "iopub.execute_input": "2023-05-26T15:32:34.548380Z",
     "iopub.status.idle": "2023-05-26T15:32:34.833619Z",
     "shell.execute_reply.started": "2023-05-26T15:32:34.548347Z",
     "shell.execute_reply": "2023-05-26T15:32:34.832712Z"
    },
    "trusted": true
   },
   "execution_count": null,
   "outputs": []
  },
  {
   "cell_type": "code",
   "source": [
    "mers_after=['mercedes','mercedes-b']\n",
    "mers_befor='mercedes-benz'\n",
    "\n",
    "dod_after=['ram','dot']\n",
    "dod_befor='dodge'\n",
    "\n",
    "lr_after=['landrover','land rover']\n",
    "lr_before='land_rover'\n",
    "\n",
    "vw_after='vw'\n",
    "vw_before='volkswagen'\n",
    "\n",
    "df_test_1['make']= df_test_1['make'].replace(mers_after,mers_befor)\n",
    "df_test_1['make']= df_test_1['make'].replace(dod_after,dod_befor)\n",
    "df_test_1['make']= df_test_1['make'].replace(vw_after,vw_before)\n",
    "df_test_1['make']= df_test_1['make'].replace(lr_after,lr_before)"
   ],
   "metadata": {
    "execution": {
     "iopub.status.busy": "2023-05-26T15:32:34.835098Z",
     "iopub.execute_input": "2023-05-26T15:32:34.835463Z",
     "iopub.status.idle": "2023-05-26T15:32:34.908939Z",
     "shell.execute_reply.started": "2023-05-26T15:32:34.835429Z",
     "shell.execute_reply": "2023-05-26T15:32:34.908083Z"
    },
    "trusted": true
   },
   "execution_count": null,
   "outputs": []
  },
  {
   "cell_type": "code",
   "source": [
    "df_test_1['body']=df_test_1['body'].str.lower()\n",
    "df_test_1['body']=df_test_1['body'].replace('koup','coupe')\n",
    "\n",
    "df_test_1['body']=df_test_1['body'].replace('supercab','super cabe')\n",
    "df_test_1['body']=df_test_1['body'].replace('xtracab','xtra cab')\n",
    "df_test_1['body']=df_test_1['body'].replace('regular-cab','regular cab')\n",
    "\n",
    "df_test_1['body']=df_test_1['body'].fillna('suv')\n",
    "df_test_1['body'].unique()"
   ],
   "metadata": {
    "execution": {
     "iopub.status.busy": "2023-05-26T15:32:34.910172Z",
     "iopub.execute_input": "2023-05-26T15:32:34.910582Z",
     "iopub.status.idle": "2023-05-26T15:32:34.999389Z",
     "shell.execute_reply.started": "2023-05-26T15:32:34.910551Z",
     "shell.execute_reply": "2023-05-26T15:32:34.998320Z"
    },
    "trusted": true
   },
   "execution_count": null,
   "outputs": []
  },
  {
   "cell_type": "code",
   "source": [
    "df_test_1['trim']=df_test_1['trim'].str.lower()"
   ],
   "metadata": {
    "execution": {
     "iopub.status.busy": "2023-05-26T15:32:35.002813Z",
     "iopub.execute_input": "2023-05-26T15:32:35.003169Z",
     "iopub.status.idle": "2023-05-26T15:32:35.047120Z",
     "shell.execute_reply.started": "2023-05-26T15:32:35.003141Z",
     "shell.execute_reply": "2023-05-26T15:32:35.046112Z"
    },
    "trusted": true
   },
   "execution_count": null,
   "outputs": []
  },
  {
   "cell_type": "code",
   "source": [
    "df_test_1['make']=df_test_1['make'].str.lower()"
   ],
   "metadata": {
    "execution": {
     "iopub.status.busy": "2023-05-26T15:32:35.050589Z",
     "iopub.execute_input": "2023-05-26T15:32:35.050917Z",
     "iopub.status.idle": "2023-05-26T15:32:35.096405Z",
     "shell.execute_reply.started": "2023-05-26T15:32:35.050889Z",
     "shell.execute_reply": "2023-05-26T15:32:35.095319Z"
    },
    "trusted": true
   },
   "execution_count": null,
   "outputs": []
  },
  {
   "cell_type": "code",
   "source": [
    "df_test_1['model']=df_test_1['model'].str.lower()"
   ],
   "metadata": {
    "execution": {
     "iopub.status.busy": "2023-05-26T15:32:35.098356Z",
     "iopub.execute_input": "2023-05-26T15:32:35.098761Z",
     "iopub.status.idle": "2023-05-26T15:32:35.142807Z",
     "shell.execute_reply.started": "2023-05-26T15:32:35.098725Z",
     "shell.execute_reply": "2023-05-26T15:32:35.141932Z"
    },
    "trusted": true
   },
   "execution_count": null,
   "outputs": []
  },
  {
   "cell_type": "code",
   "source": [
    "sample_submission=pd.read_csv('/kaggle/input/copy-of-used-cars-price-prediction-ds18/sample_submission.csv')"
   ],
   "metadata": {
    "execution": {
     "iopub.status.busy": "2023-05-26T15:32:35.144123Z",
     "iopub.execute_input": "2023-05-26T15:32:35.144547Z",
     "iopub.status.idle": "2023-05-26T15:32:35.266862Z",
     "shell.execute_reply.started": "2023-05-26T15:32:35.144516Z",
     "shell.execute_reply": "2023-05-26T15:32:35.265889Z"
    },
    "trusted": true
   },
   "execution_count": null,
   "outputs": []
  },
  {
   "cell_type": "code",
   "source": [
    "sample_submission = pd.DataFrame()\n",
    "sample_submission['vin'] = df_test['vin']\n",
    "sample_submission['sellingprice'] = model.predict(df_test_1[x])"
   ],
   "metadata": {
    "execution": {
     "iopub.status.busy": "2023-05-26T15:32:35.268652Z",
     "iopub.execute_input": "2023-05-26T15:32:35.269043Z",
     "iopub.status.idle": "2023-05-26T15:32:42.622278Z",
     "shell.execute_reply.started": "2023-05-26T15:32:35.269010Z",
     "shell.execute_reply": "2023-05-26T15:32:42.621341Z"
    },
    "trusted": true
   },
   "execution_count": null,
   "outputs": []
  },
  {
   "cell_type": "code",
   "source": [
    "df_test['sellingprice']=model.predict(df_test_1[x])"
   ],
   "metadata": {
    "execution": {
     "iopub.status.busy": "2023-05-26T15:32:42.623834Z",
     "iopub.execute_input": "2023-05-26T15:32:42.624202Z",
     "iopub.status.idle": "2023-05-26T15:32:50.074738Z",
     "shell.execute_reply.started": "2023-05-26T15:32:42.624169Z",
     "shell.execute_reply": "2023-05-26T15:32:50.073483Z"
    },
    "trusted": true
   },
   "execution_count": null,
   "outputs": []
  },
  {
   "cell_type": "code",
   "source": [
    "ax=sns.barplot(data=df_test,x='sellingprice',y='make')\n",
    "ax.figure.set_size_inches(10,10)"
   ],
   "metadata": {
    "execution": {
     "iopub.status.busy": "2023-05-26T15:32:50.076114Z",
     "iopub.execute_input": "2023-05-26T15:32:50.076467Z",
     "iopub.status.idle": "2023-05-26T15:32:54.878488Z",
     "shell.execute_reply.started": "2023-05-26T15:32:50.076434Z",
     "shell.execute_reply": "2023-05-26T15:32:54.877604Z"
    },
    "trusted": true
   },
   "execution_count": null,
   "outputs": []
  },
  {
   "cell_type": "code",
   "source": [
    "output = pd.DataFrame(sample_submission)\n",
    "output.to_csv('submission.csv',index=False)"
   ],
   "metadata": {
    "execution": {
     "iopub.status.busy": "2023-05-26T15:32:54.880261Z",
     "iopub.execute_input": "2023-05-26T15:32:54.880927Z",
     "iopub.status.idle": "2023-05-26T15:32:55.326133Z",
     "shell.execute_reply.started": "2023-05-26T15:32:54.880893Z",
     "shell.execute_reply": "2023-05-26T15:32:55.325063Z"
    },
    "trusted": true
   },
   "execution_count": null,
   "outputs": []
  },
  {
   "cell_type": "code",
   "source": [
    "k=pd.read_csv('/kaggle/working/submission.csv')\n",
    "print(k)"
   ],
   "metadata": {
    "execution": {
     "iopub.status.busy": "2023-05-26T15:32:55.327531Z",
     "iopub.execute_input": "2023-05-26T15:32:55.327927Z",
     "iopub.status.idle": "2023-05-26T15:32:55.419000Z",
     "shell.execute_reply.started": "2023-05-26T15:32:55.327892Z",
     "shell.execute_reply": "2023-05-26T15:32:55.417730Z"
    },
    "trusted": true
   },
   "execution_count": null,
   "outputs": []
  }
 ]
}
