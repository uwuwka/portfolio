{
 "cells": [
  {
   "cell_type": "markdown",
   "id": "GEqQaHzsZ_bA",
   "metadata": {
    "id": "GEqQaHzsZ_bA"
   },
   "source": [
    "## Предсказание стоимости жилья\n",
    "\n",
    "В проекте вам нужно обучить модель линейной регрессии на данных о жилье в Калифорнии в 1990 году. На основе данных нужно предсказать медианную стоимость дома в жилом массиве. Обучите модель и сделайте предсказания на тестовой выборке. Для оценки качества модели используйте метрики RMSE, MAE и R2."
   ]
  },
  {
   "cell_type": "markdown",
   "id": "7ec69fa9",
   "metadata": {},
   "source": [
    "импортируем библиотеки"
   ]
  },
  {
   "cell_type": "code",
   "execution_count": 1,
   "id": "8c91dc6d",
   "metadata": {},
   "outputs": [
    {
     "data": {
      "text/html": [
       "<style>.container { width:90% !important; }</style>"
      ],
      "text/plain": [
       "<IPython.core.display.HTML object>"
      ]
     },
     "metadata": {},
     "output_type": "display_data"
    }
   ],
   "source": [
    "from IPython.core.display import display, HTML\n",
    "display(HTML(\"<style>.container { width:90% !important; }</style>\"))\n",
    "\n",
    "import os\n",
    "\n",
    "from tqdm import tqdm\n",
    "import pandas as pd\n",
    "import matplotlib.pyplot as plt\n",
    "import numpy as np\n",
    "import itertools\n",
    "import seaborn as sns\n",
    "import pandas as pd \n",
    "import numpy as np\n",
    "import seaborn as sns\n",
    "\n",
    "import pyspark\n",
    "\n",
    "from pyspark.sql import SparkSession\n",
    "from pyspark.sql.types import *\n",
    "import pyspark.sql.functions as F\n",
    "\n",
    "from pyspark.ml import Pipeline\n",
    "from pyspark.ml.feature import VectorAssembler\n",
    "from pyspark.ml.stat import Correlation\n",
    "from pyspark.mllib.stat import Statistics\n",
    "from pyspark.ml.feature import StringIndexer, VectorAssembler, StandardScaler\n",
    "from pyspark.ml.regression import LinearRegression\n",
    "from pyspark.mllib.evaluation import RegressionMetrics"
   ]
  },
  {
   "cell_type": "code",
   "execution_count": 2,
   "id": "34374baa",
   "metadata": {},
   "outputs": [],
   "source": [
    "pyspark_version = pyspark.__version__\n",
    "if int(pyspark_version[:1]) == 3:\n",
    "    from pyspark.ml.feature import OneHotEncoder    \n",
    "elif int(pyspark_version[:1]) == 2:\n",
    "    from pyspark.ml.feature import OneHotEncodeEstimator"
   ]
  },
  {
   "cell_type": "markdown",
   "id": "731aa84d",
   "metadata": {},
   "source": [
    "запускаем spark сессию"
   ]
  },
  {
   "cell_type": "code",
   "execution_count": 3,
   "id": "d49ef6f5",
   "metadata": {},
   "outputs": [],
   "source": [
    "spark = SparkSession \\\n",
    "    .builder \\\n",
    "    .master(\"local\")\\\n",
    "    .appName(\"spk\") \\\n",
    "    .getOrCreate()"
   ]
  },
  {
   "cell_type": "markdown",
   "id": "53871372",
   "metadata": {
    "id": "53871372"
   },
   "source": [
    "# Подготовка данных"
   ]
  },
  {
   "cell_type": "markdown",
   "id": "2a91d9ba",
   "metadata": {},
   "source": [
    "читаем данные и смотрим их типы"
   ]
  },
  {
   "cell_type": "code",
   "execution_count": 4,
   "id": "df92e3ec",
   "metadata": {
    "id": "df92e3ec",
    "scrolled": true
   },
   "outputs": [
    {
     "name": "stderr",
     "output_type": "stream",
     "text": [
      "[Stage 1:>                                                          (0 + 1) / 1]\r"
     ]
    },
    {
     "name": "stdout",
     "output_type": "stream",
     "text": [
      "root\n",
      " |-- longitude: double (nullable = true)\n",
      " |-- latitude: double (nullable = true)\n",
      " |-- housing_median_age: double (nullable = true)\n",
      " |-- total_rooms: double (nullable = true)\n",
      " |-- total_bedrooms: double (nullable = true)\n",
      " |-- population: double (nullable = true)\n",
      " |-- households: double (nullable = true)\n",
      " |-- median_income: double (nullable = true)\n",
      " |-- median_house_value: double (nullable = true)\n",
      " |-- ocean_proximity: string (nullable = true)\n",
      "\n"
     ]
    },
    {
     "name": "stderr",
     "output_type": "stream",
     "text": [
      "                                                                                \r"
     ]
    }
   ],
   "source": [
    "df = (spark.read\n",
    "      .csv('/datasets/housing.csv',\n",
    "           inferSchema=True,header= True))\n",
    "df.printSchema()"
   ]
  },
  {
   "cell_type": "markdown",
   "id": "0dea6fd8",
   "metadata": {},
   "source": [
    "разделяем на 10 частей и кешируем "
   ]
  },
  {
   "cell_type": "code",
   "execution_count": 5,
   "id": "ba06c4d2",
   "metadata": {},
   "outputs": [],
   "source": [
    "df = df.repartition(10).cache()"
   ]
  },
  {
   "cell_type": "markdown",
   "id": "ed418fbc",
   "metadata": {},
   "source": [
    "смотрим пропуски"
   ]
  },
  {
   "cell_type": "code",
   "execution_count": 6,
   "id": "a2ab104f",
   "metadata": {
    "scrolled": true
   },
   "outputs": [
    {
     "name": "stderr",
     "output_type": "stream",
     "text": [
      "                                                                                \r"
     ]
    },
    {
     "data": {
      "text/plain": [
       "{'longitude': 0,\n",
       " 'latitude': 0,\n",
       " 'housing_median_age': 0,\n",
       " 'total_rooms': 0,\n",
       " 'total_bedrooms': 207,\n",
       " 'population': 0,\n",
       " 'households': 0,\n",
       " 'median_income': 0,\n",
       " 'median_house_value': 0,\n",
       " 'ocean_proximity': 0}"
      ]
     },
     "execution_count": 6,
     "metadata": {},
     "output_type": "execute_result"
    }
   ],
   "source": [
    "Dict_Null = {col:df.filter(df[col].isNull()).count() for col in df.columns}\n",
    "Dict_Null"
   ]
  },
  {
   "cell_type": "markdown",
   "id": "9d6c3202",
   "metadata": {},
   "source": [
    "смотрим корреляции"
   ]
  },
  {
   "cell_type": "code",
   "execution_count": 7,
   "id": "f98c5458",
   "metadata": {
    "scrolled": false
   },
   "outputs": [
    {
     "name": "stderr",
     "output_type": "stream",
     "text": [
      "23/06/10 19:11:04 WARN BLAS: Failed to load implementation from: com.github.fommil.netlib.NativeSystemBLAS\n",
      "23/06/10 19:11:04 WARN BLAS: Failed to load implementation from: com.github.fommil.netlib.NativeRefBLAS\n",
      "                                                                                \r"
     ]
    },
    {
     "name": "stdout",
     "output_type": "stream",
     "text": [
      "+--------------------+--------------------+--------------------+--------------------+--------------+--------------------+--------------------+--------------------+--------------------+\n",
      "|           longitude|            latitude|  housing_median_age|         total_rooms|total_bedrooms|          population|          households|       median_income|  median_house_value|\n",
      "+--------------------+--------------------+--------------------+--------------------+--------------+--------------------+--------------------+--------------------+--------------------+\n",
      "|                 1.0| -0.9246644339150412|-0.10819681311244828| 0.04456797771665521|           NaN| 0.09977322287464552| 0.05531009278239548|-0.01517586541417...|-0.04596661511797851|\n",
      "| -0.9246644339150412|                 1.0|0.011172673530605373|-0.03609959585612...|           NaN|-0.10878474737766748|-0.07103543319190729|-0.07980912745971874| -0.1441602768746591|\n",
      "|-0.10819681311244828|0.011172673530605373|                 1.0|-0.36126220122231223|           NaN| -0.2962442397735357| -0.3029160093572141|-0.11903398993785659| 0.10562341249320979|\n",
      "| 0.04456797771665521|-0.03609959585612...|-0.36126220122231223|                 1.0|           NaN|  0.8571259728659771|  0.9184844926543074|    0.19804964508461| 0.13415311380656292|\n",
      "|                 NaN|                 NaN|                 NaN|                 NaN|           1.0|                 NaN|                 NaN|                 NaN|                 NaN|\n",
      "| 0.09977322287464552|-0.10878474737766748| -0.2962442397735357|  0.8571259728659771|           NaN|                 1.0|  0.9072222660959605|0.004834345627652917|-0.02464967888889486|\n",
      "| 0.05531009278239548|-0.07103543319190729| -0.3029160093572141|  0.9184844926543074|           NaN|  0.9072222660959605|                 1.0|0.013033052400705812| 0.06584265057005644|\n",
      "|-0.01517586541417...|-0.07980912745971874|-0.11903398993785659|    0.19804964508461|           NaN|0.004834345627652917|0.013033052400705812|                 1.0|  0.6880752079585475|\n",
      "|-0.04596661511797851| -0.1441602768746591| 0.10562341249320979| 0.13415311380656292|           NaN|-0.02464967888889486| 0.06584265057005644|  0.6880752079585475|                 1.0|\n",
      "+--------------------+--------------------+--------------------+--------------------+--------------+--------------------+--------------------+--------------------+--------------------+\n",
      "\n"
     ]
    },
    {
     "data": {
      "text/plain": [
       "<AxesSubplot:>"
      ]
     },
     "execution_count": 7,
     "metadata": {},
     "output_type": "execute_result"
    },
    {
     "data": {
      "image/png": "[encoded data removed]",
      "text/plain": [
       "<Figure size 432x288 with 2 Axes>"
      ]
     },
     "metadata": {
      "needs_background": "light"
     },
     "output_type": "display_data"
    }
   ],
   "source": [
    "subset = ['longitude', 'latitude', 'housing_median_age', 'total_rooms', 'total_bedrooms', 'population','households',\n",
    "         'median_income','median_house_value']\n",
    "\n",
    "assembler = VectorAssembler(inputCols=subset, \n",
    "outputCol=\"features\",handleInvalid='keep')\n",
    "data = assembler.transform(df).select(\"features\")\n",
    "\n",
    "correlation = Correlation.corr(data,\"features\",\"pearson\").collect()[0][0]\n",
    "\n",
    "corrmatrix = correlation.toArray().tolist()\n",
    "sup_df = spark.createDataFrame(corrmatrix,subset)\n",
    "sup_df.show()\n",
    "sns.heatmap(sup_df.toPandas())"
   ]
  },
  {
   "cell_type": "markdown",
   "id": "b030381e",
   "metadata": {},
   "source": [
    "заполняем пропуски"
   ]
  },
  {
   "cell_type": "code",
   "execution_count": 8,
   "id": "936a65ae",
   "metadata": {},
   "outputs": [
    {
     "name": "stderr",
     "output_type": "stream",
     "text": [
      "                                                                                \r"
     ]
    }
   ],
   "source": [
    "df=df.na.fill(int(df.approxQuantile('total_bedrooms', [0.5], 0)[0]))"
   ]
  },
  {
   "cell_type": "code",
   "execution_count": 9,
   "id": "37de7644",
   "metadata": {},
   "outputs": [
    {
     "data": {
      "text/plain": [
       "{'longitude': 0,\n",
       " 'latitude': 0,\n",
       " 'housing_median_age': 0,\n",
       " 'total_rooms': 0,\n",
       " 'total_bedrooms': 0,\n",
       " 'population': 0,\n",
       " 'households': 0,\n",
       " 'median_income': 0,\n",
       " 'median_house_value': 0,\n",
       " 'ocean_proximity': 0}"
      ]
     },
     "execution_count": 9,
     "metadata": {},
     "output_type": "execute_result"
    }
   ],
   "source": [
    "Dict_Null = {col:df.filter(df[col].isNull()).count() for col in df.columns}\n",
    "Dict_Null"
   ]
  },
  {
   "cell_type": "code",
   "execution_count": 10,
   "id": "0eea6426",
   "metadata": {},
   "outputs": [
    {
     "name": "stdout",
     "output_type": "stream",
     "text": [
      "+---------+--------+------------------+-----------+--------------+----------+----------+-------------+------------------+---------------+\n",
      "|longitude|latitude|housing_median_age|total_rooms|total_bedrooms|population|households|median_income|median_house_value|ocean_proximity|\n",
      "+---------+--------+------------------+-----------+--------------+----------+----------+-------------+------------------+---------------+\n",
      "|   -116.3|   33.68|              10.0|     2387.0|         481.0|     863.0|     304.0|       2.8882|          137500.0|         INLAND|\n",
      "|   -120.1|   39.33|               9.0|     2738.0|         510.0|    1193.0|     412.0|       4.3958|          124800.0|         INLAND|\n",
      "|  -118.15|   33.85|              36.0|     1491.0|         259.0|     699.0|     266.0|       4.0781|          217300.0|      <1H OCEAN|\n",
      "|  -120.79|   37.49|              44.0|     1186.0|         225.0|     687.0|     234.0|       3.4167|          160700.0|         INLAND|\n",
      "|  -118.38|   33.87|              33.0|     1993.0|         371.0|     918.0|     361.0|       6.9021|          337600.0|      <1H OCEAN|\n",
      "+---------+--------+------------------+-----------+--------------+----------+----------+-------------+------------------+---------------+\n",
      "only showing top 5 rows\n",
      "\n"
     ]
    }
   ],
   "source": [
    "df.show(5)"
   ]
  },
  {
   "cell_type": "markdown",
   "id": "cdd04c41",
   "metadata": {},
   "source": [
    "делим на тренировочную и тестовую выборки"
   ]
  },
  {
   "cell_type": "code",
   "execution_count": 11,
   "id": "62ddffea",
   "metadata": {
    "scrolled": true
   },
   "outputs": [
    {
     "name": "stderr",
     "output_type": "stream",
     "text": [
      "                                                                                \r"
     ]
    },
    {
     "name": "stdout",
     "output_type": "stream",
     "text": [
      "14452 6188\n"
     ]
    },
    {
     "name": "stderr",
     "output_type": "stream",
     "text": [
      "                                                                                \r"
     ]
    }
   ],
   "source": [
    "(train_data, test_data) = df.randomSplit([.7,.3], seed=3826)\n",
    "print(train_data.count(), test_data.count()) "
   ]
  },
  {
   "cell_type": "markdown",
   "id": "efb92609",
   "metadata": {},
   "source": [
    "создаем котегориальне, численные и таргет переменные"
   ]
  },
  {
   "cell_type": "code",
   "execution_count": 12,
   "id": "8187d0dc",
   "metadata": {},
   "outputs": [],
   "source": [
    "numerical_cols = ['longitude', 'latitude', 'housing_median_age', 'total_rooms', 'total_bedrooms', 'population','households',\n",
    "         'median_income']\n",
    "categorical_cols= ['ocean_proximity']\n",
    "target = \"median_house_value\" "
   ]
  },
  {
   "cell_type": "markdown",
   "id": "e6522da9",
   "metadata": {},
   "source": [
    "задаем индекс категориальным переменным"
   ]
  },
  {
   "cell_type": "code",
   "execution_count": 13,
   "id": "e0a3a42a",
   "metadata": {},
   "outputs": [
    {
     "name": "stderr",
     "output_type": "stream",
     "text": [
      "                                                                                \r"
     ]
    },
    {
     "name": "stdout",
     "output_type": "stream",
     "text": [
      "+---------------+-------------------+\n",
      "|ocean_proximity|ocean_proximity_idx|\n",
      "+---------------+-------------------+\n",
      "|     NEAR OCEAN|                2.0|\n",
      "|     NEAR OCEAN|                2.0|\n",
      "|     NEAR OCEAN|                2.0|\n",
      "+---------------+-------------------+\n",
      "only showing top 3 rows\n",
      "\n",
      "+---------------+-------------------+\n",
      "|ocean_proximity|ocean_proximity_idx|\n",
      "+---------------+-------------------+\n",
      "|     NEAR OCEAN|                2.0|\n",
      "|     NEAR OCEAN|                2.0|\n",
      "|     NEAR OCEAN|                2.0|\n",
      "+---------------+-------------------+\n",
      "only showing top 3 rows\n",
      "\n"
     ]
    }
   ],
   "source": [
    "indexer = StringIndexer(inputCols=categorical_cols, \n",
    "                        outputCols=[c+'_idx' for c in categorical_cols],handleInvalid=\"skip\") \n",
    "strInd= indexer.fit(train_data)\n",
    "train_data=strInd.transform(train_data)\n",
    "test_data = strInd.transform(test_data)\n",
    "\n",
    "cols = [c for c in train_data.columns for i in categorical_cols if (c.startswith(i))]\n",
    "train_data.select(cols).show(3) \n",
    "test_data.select(cols).show(3)"
   ]
  },
  {
   "cell_type": "markdown",
   "id": "3a2b9bfc",
   "metadata": {},
   "source": [
    "техникой ohe преобразуем категориальные переменные"
   ]
  },
  {
   "cell_type": "code",
   "execution_count": 14,
   "id": "8e347eaf",
   "metadata": {},
   "outputs": [
    {
     "name": "stdout",
     "output_type": "stream",
     "text": [
      "+---------------+-------------------+-------------------+\n",
      "|ocean_proximity|ocean_proximity_idx|ocean_proximity_ohe|\n",
      "+---------------+-------------------+-------------------+\n",
      "|     NEAR OCEAN|                2.0|      (4,[2],[1.0])|\n",
      "|     NEAR OCEAN|                2.0|      (4,[2],[1.0])|\n",
      "|     NEAR OCEAN|                2.0|      (4,[2],[1.0])|\n",
      "+---------------+-------------------+-------------------+\n",
      "only showing top 3 rows\n",
      "\n",
      "+---------------+-------------------+-------------------+\n",
      "|ocean_proximity|ocean_proximity_idx|ocean_proximity_ohe|\n",
      "+---------------+-------------------+-------------------+\n",
      "|     NEAR OCEAN|                2.0|      (4,[2],[1.0])|\n",
      "|     NEAR OCEAN|                2.0|      (4,[2],[1.0])|\n",
      "|     NEAR OCEAN|                2.0|      (4,[2],[1.0])|\n",
      "+---------------+-------------------+-------------------+\n",
      "only showing top 3 rows\n",
      "\n"
     ]
    }
   ],
   "source": [
    "encoder = OneHotEncoder(inputCols=[c+'_idx' for c in categorical_cols],\n",
    "                        outputCols=[c+'_ohe' for c in categorical_cols])\n",
    "ohe=encoder.fit(train_data)\n",
    "train_data = ohe.transform(train_data)\n",
    "test_data= ohe.transform(test_data)\n",
    "\n",
    "cols = [c for c in train_data.columns for i in categorical_cols if (c.startswith(i))]\n",
    "train_data.select(cols).show(3)\n",
    "test_data.select(cols).show(3)"
   ]
  },
  {
   "cell_type": "markdown",
   "id": "b791269c",
   "metadata": {},
   "source": [
    "преобразуем в векторы"
   ]
  },
  {
   "cell_type": "code",
   "execution_count": 15,
   "id": "a56ba75a",
   "metadata": {},
   "outputs": [],
   "source": [
    "categorical_assembler =VectorAssembler(inputCols=[c+'_ohe' for c in categorical_cols],\n",
    "                                        outputCol=\"categorical_features\")\n",
    "train_data = categorical_assembler.transform(train_data) \n",
    "test_data = categorical_assembler.transform(test_data)"
   ]
  },
  {
   "cell_type": "code",
   "execution_count": 16,
   "id": "5a6b69a8",
   "metadata": {},
   "outputs": [],
   "source": [
    "numerical_assembler = VectorAssembler(inputCols=numerical_cols,outputCol=\"numerical_features\")\n",
    "train_data = numerical_assembler.transform(train_data) \n",
    "test_data = numerical_assembler.transform(test_data)"
   ]
  },
  {
   "cell_type": "markdown",
   "id": "f37778df",
   "metadata": {},
   "source": [
    "преобразуем численные переменные техникой standardScaler"
   ]
  },
  {
   "cell_type": "code",
   "execution_count": 17,
   "id": "c550c33b",
   "metadata": {},
   "outputs": [
    {
     "name": "stderr",
     "output_type": "stream",
     "text": [
      "                                                                                \r"
     ]
    }
   ],
   "source": [
    "standardScaler = StandardScaler(inputCol='numerical_features',\n",
    "                                                                outputCol=\"numerical_features_scaled\")\n",
    "stSc = standardScaler.fit(train_data)\n",
    "train_data=stSc.transform(train_data)\n",
    "test_data=stSc.transform(test_data)"
   ]
  },
  {
   "cell_type": "markdown",
   "id": "21a29df9",
   "metadata": {},
   "source": [
    "сохраням все в переменные"
   ]
  },
  {
   "cell_type": "code",
   "execution_count": 18,
   "id": "f047422d",
   "metadata": {},
   "outputs": [
    {
     "name": "stdout",
     "output_type": "stream",
     "text": [
      "+--------------------+-------------------------+\n",
      "|categorical_features|numerical_features_scaled|\n",
      "+--------------------+-------------------------+\n",
      "|       (4,[2],[1.0])|     [-62.157226929199...|\n",
      "|       (4,[2],[1.0])|     [-62.147215295643...|\n",
      "|       (4,[2],[1.0])|     [-62.117180394977...|\n",
      "+--------------------+-------------------------+\n",
      "only showing top 3 rows\n",
      "\n",
      "+--------------------+-------------------------+\n",
      "|categorical_features|numerical_features_scaled|\n",
      "+--------------------+-------------------------+\n",
      "|       (4,[2],[1.0])|     [-62.177250196310...|\n",
      "|       (4,[2],[1.0])|     [-62.167238562754...|\n",
      "|       (4,[2],[1.0])|     [-62.157226929199...|\n",
      "+--------------------+-------------------------+\n",
      "only showing top 3 rows\n",
      "\n"
     ]
    }
   ],
   "source": [
    "all_features = ['categorical_features','numerical_features_scaled']\n",
    "\n",
    "final_assembler = VectorAssembler(inputCols=all_features, \n",
    "                                  outputCol=\"features\") \n",
    "train_data = final_assembler.transform(train_data)\n",
    "test_data = final_assembler.transform(test_data)\n",
    "\n",
    "train_data.select(all_features).show(3) \n",
    "test_data.select(all_features).show(3)"
   ]
  },
  {
   "cell_type": "markdown",
   "id": "9f0a82f3",
   "metadata": {
    "id": "9f0a82f3"
   },
   "source": [
    "# Обучение моделей"
   ]
  },
  {
   "cell_type": "markdown",
   "id": "afb7d7f1",
   "metadata": {},
   "source": [
    "создаем модель и подбираем гиперпараметры"
   ]
  },
  {
   "cell_type": "code",
   "execution_count": 19,
   "id": "bddb08c4",
   "metadata": {
    "id": "bddb08c4"
   },
   "outputs": [],
   "source": [
    "lr = LinearRegression(labelCol=target,regParam=0.5,elasticNetParam=1,aggregationDepth=10,featuresCol ='features')"
   ]
  },
  {
   "cell_type": "code",
   "execution_count": 20,
   "id": "5e389c0b",
   "metadata": {},
   "outputs": [],
   "source": [
    "lr_ncl= LinearRegression(labelCol=target,regParam=0.5,elasticNetParam=1,aggregationDepth=10,featuresCol ='numerical_features_scaled')"
   ]
  },
  {
   "cell_type": "markdown",
   "id": "e20a7595",
   "metadata": {},
   "source": [
    "обучаем модели"
   ]
  },
  {
   "cell_type": "code",
   "execution_count": 21,
   "id": "6aeb4a75",
   "metadata": {},
   "outputs": [
    {
     "name": "stderr",
     "output_type": "stream",
     "text": [
      "                                                                                \r"
     ]
    }
   ],
   "source": [
    "model = lr.fit(train_data)"
   ]
  },
  {
   "cell_type": "code",
   "execution_count": 22,
   "id": "e1b5f64a",
   "metadata": {},
   "outputs": [
    {
     "name": "stderr",
     "output_type": "stream",
     "text": [
      "                                                                                \r"
     ]
    }
   ],
   "source": [
    "model_ncl = lr_ncl.fit(train_data) "
   ]
  },
  {
   "cell_type": "code",
   "execution_count": 23,
   "id": "e285ff1e",
   "metadata": {
    "scrolled": true
   },
   "outputs": [
    {
     "name": "stdout",
     "output_type": "stream",
     "text": [
      "+------------------+------------------+\n",
      "|median_house_value|        prediction|\n",
      "+------------------+------------------+\n",
      "|           66900.0|119386.80873314757|\n",
      "|           90100.0|198222.32275805017|\n",
      "|           68300.0| 145564.4968442223|\n",
      "|           94800.0|222040.70741731673|\n",
      "|           92100.0|189579.01146639464|\n",
      "|           92600.0| 153030.6342120599|\n",
      "|          151400.0|193514.63561075972|\n",
      "|           95300.0|176520.06441829447|\n",
      "|          100000.0| 155737.3986051767|\n",
      "|           77200.0|143071.98162558582|\n",
      "|          105400.0|157127.90234092483|\n",
      "|           95800.0|178690.83153026737|\n",
      "|           37500.0| 46836.64163172897|\n",
      "|          240900.0|216180.08030076744|\n",
      "|          266700.0| 281518.1231062114|\n",
      "|          134200.0|180790.49676398886|\n",
      "|          269800.0| 255646.5931341052|\n",
      "|           73500.0|25505.504173244815|\n",
      "|          270700.0|254289.28628338082|\n",
      "|          156500.0|214291.06994196493|\n",
      "+------------------+------------------+\n",
      "only showing top 20 rows\n",
      "\n"
     ]
    }
   ],
   "source": [
    "predictions = model.transform(test_data)\n",
    "\n",
    "predictedLabes = predictions.select(\"median_house_value\", \"prediction\")\n",
    "predictedLabes.show() "
   ]
  },
  {
   "cell_type": "code",
   "execution_count": 24,
   "id": "0fda634d",
   "metadata": {
    "scrolled": true
   },
   "outputs": [
    {
     "name": "stdout",
     "output_type": "stream",
     "text": [
      "+------------------+------------------+\n",
      "|median_house_value|        prediction|\n",
      "+------------------+------------------+\n",
      "|           66900.0| 67094.33224156033|\n",
      "|           90100.0| 164434.4621307766|\n",
      "|           68300.0|110703.98011779878|\n",
      "|           94800.0| 200006.5956101399|\n",
      "|           92100.0| 157853.3880141871|\n",
      "|           92600.0|122566.91564230667|\n",
      "|          151400.0|181082.47960770782|\n",
      "|           95300.0|166618.56353698252|\n",
      "|          100000.0| 135443.5224694633|\n",
      "|           77200.0|122188.29400525009|\n",
      "|          105400.0|137752.60984208854|\n",
      "|           95800.0|163821.92033216543|\n",
      "|           37500.0| 44677.75587410759|\n",
      "|          240900.0|206328.47630794626|\n",
      "|          266700.0| 272529.3215388423|\n",
      "|          134200.0|  161356.842925441|\n",
      "|          269800.0|247213.51053347113|\n",
      "|           73500.0| 36918.22086199187|\n",
      "|          270700.0| 247481.0169582311|\n",
      "|          156500.0|201593.28316568304|\n",
      "+------------------+------------------+\n",
      "only showing top 20 rows\n",
      "\n"
     ]
    }
   ],
   "source": [
    "predictions_ncl = model_ncl.transform(test_data)\n",
    "\n",
    "predictedLabes_ncl = predictions_ncl.select(\"median_house_value\", \"prediction\")\n",
    "predictedLabes_ncl.show()"
   ]
  },
  {
   "cell_type": "markdown",
   "id": "757fd103",
   "metadata": {
    "id": "757fd103"
   },
   "source": [
    "# Анализ результатов"
   ]
  },
  {
   "cell_type": "code",
   "execution_count": 27,
   "id": "db42ee2f",
   "metadata": {},
   "outputs": [
    {
     "name": "stderr",
     "output_type": "stream",
     "text": [
      "                                                                                \r"
     ]
    }
   ],
   "source": [
    "predictions_collect = predictedLabes.collect()\n",
    "predictions_list = [ (float(i[0]), float(i[1])) for i in predictions_collect]\n",
    "scoreAndLabels = spark.sparkContext.parallelize(predictions_list)\n",
    "metrics = RegressionMetrics(scoreAndLabels)"
   ]
  },
  {
   "cell_type": "code",
   "execution_count": 28,
   "id": "812d92bc",
   "metadata": {},
   "outputs": [],
   "source": [
    "predictions_ncl_collect = predictedLabes_ncl.collect()\n",
    "predictions_ncl_list = [ (float(i[0]), float(i[1])) for i in predictions_ncl_collect]\n",
    "scoreAndLabels_ncl = spark.sparkContext.parallelize(predictions_ncl_list)\n",
    "metrics_ncl = RegressionMetrics(scoreAndLabels_ncl)"
   ]
  },
  {
   "cell_type": "code",
   "execution_count": 29,
   "id": "5ac6a925",
   "metadata": {},
   "outputs": [
    {
     "name": "stdout",
     "output_type": "stream",
     "text": [
      "0.45433365895750677\n",
      "50126.366255404944\n",
      "67924.52562119954\n"
     ]
    }
   ],
   "source": [
    "print(metrics.r2)\n",
    "print(metrics.meanAbsoluteError)\n",
    "print(metrics.rootMeanSquaredError)"
   ]
  },
  {
   "cell_type": "code",
   "execution_count": 30,
   "id": "d109682a",
   "metadata": {},
   "outputs": [
    {
     "name": "stdout",
     "output_type": "stream",
     "text": [
      "0.4335871888333084\n",
      "51059.11339990333\n",
      "68599.46770678369\n"
     ]
    }
   ],
   "source": [
    "print(metrics_ncl.r2)\n",
    "print(metrics_ncl.meanAbsoluteError)\n",
    "print(metrics_ncl.rootMeanSquaredError)"
   ]
  },
  {
   "cell_type": "code",
   "execution_count": 31,
   "id": "492e9a7f",
   "metadata": {},
   "outputs": [],
   "source": [
    "spark.stop()"
   ]
  },
  {
   "cell_type": "markdown",
   "id": "3ccd018b",
   "metadata": {},
   "source": [
    "# вывод"
   ]
  },
  {
   "cell_type": "markdown",
   "id": "7ea95792",
   "metadata": {},
   "source": [
    "в ходе работы были выполнены следующие этапы:\n",
    "    - запущена spark сессия\n",
    "    - прочитаны и просмотренны данные\n",
    "    - посмотрены пропуски и корреляции\n",
    "    - заполнены пропуски\n",
    "    - данные разбиты на тестовую и тренировочные выборки\n",
    "    - преобразованы категриальные и численные переменные\n",
    "    - обучены две модели линейной регресии:\n",
    "        первая модель обучена на 'полных' данных\n",
    "        вторая модель обучена только на численных данных\n",
    "    - сделаны предсказания моделей\n",
    "    - посмотренны метрики r2, mae,rmse.\n",
    "    у модели обученной на полных данных полуились следующие значения метрик:\n",
    "    r2 = 0.45\n",
    "    MAE = 50126.36\n",
    "    RMSE = 67924.52\n",
    "    \n",
    "    у модели обученной только на численных данных метрики такие:\n",
    "    r2 = 0.43\n",
    "    MAE = 51059.11\n",
    "    RMSE = 68599.46\n",
    "    - исходя из полученных метрик мы можем сделать вывод, что модель обученная на "
   ]
  }
 ],
 "metadata": {
  "ExecuteTimeLog": [
   {
    "duration": 9,
    "start_time": "2023-06-07T10:53:29.766Z"
   },
   {
    "duration": 60,
    "start_time": "2023-06-07T10:53:34.915Z"
   },
   {
    "duration": 3,
    "start_time": "2023-06-07T10:53:38.631Z"
   },
   {
    "duration": 42,
    "start_time": "2023-06-07T10:53:40.183Z"
   },
   {
    "duration": 48,
    "start_time": "2023-06-07T10:54:13.604Z"
   },
   {
    "duration": 20135,
    "start_time": "2023-06-07T10:54:42.298Z"
   },
   {
    "duration": 489,
    "start_time": "2023-06-07T10:55:02.435Z"
   },
   {
    "duration": 0,
    "start_time": "2023-06-07T10:55:02.926Z"
   },
   {
    "duration": 8316,
    "start_time": "2023-06-07T10:59:34.708Z"
   },
   {
    "duration": 4253,
    "start_time": "2023-06-07T10:59:43.077Z"
   },
   {
    "duration": 1029,
    "start_time": "2023-06-07T11:17:55.272Z"
   },
   {
    "duration": 859,
    "start_time": "2023-06-07T11:18:50.341Z"
   },
   {
    "duration": 3,
    "start_time": "2023-06-07T11:20:44.733Z"
   },
   {
    "duration": 11,
    "start_time": "2023-06-07T11:20:46.775Z"
   },
   {
    "duration": 3,
    "start_time": "2023-06-07T11:21:11.764Z"
   },
   {
    "duration": 2233,
    "start_time": "2023-06-07T11:21:13.160Z"
   },
   {
    "duration": 741,
    "start_time": "2023-06-07T11:21:37.236Z"
   },
   {
    "duration": 52,
    "start_time": "2023-06-07T11:22:05.396Z"
   },
   {
    "duration": 110,
    "start_time": "2023-06-07T11:22:52.219Z"
   },
   {
    "duration": 3,
    "start_time": "2023-06-07T11:23:37.840Z"
   },
   {
    "duration": 93,
    "start_time": "2023-06-07T11:23:39.841Z"
   },
   {
    "duration": 85,
    "start_time": "2023-06-07T11:23:45.147Z"
   },
   {
    "duration": 85,
    "start_time": "2023-06-07T11:23:49.994Z"
   },
   {
    "duration": 103,
    "start_time": "2023-06-07T11:23:57.777Z"
   },
   {
    "duration": 1190,
    "start_time": "2023-06-07T11:24:13.048Z"
   },
   {
    "duration": 3,
    "start_time": "2023-06-07T11:24:14.239Z"
   },
   {
    "duration": 15235,
    "start_time": "2023-06-07T11:24:14.244Z"
   },
   {
    "duration": 8535,
    "start_time": "2023-06-07T11:24:29.480Z"
   },
   {
    "duration": 5002,
    "start_time": "2023-06-07T11:24:38.077Z"
   },
   {
    "duration": 1309,
    "start_time": "2023-06-07T11:24:43.081Z"
   },
   {
    "duration": 3,
    "start_time": "2023-06-07T11:24:44.392Z"
   },
   {
    "duration": 2250,
    "start_time": "2023-06-07T11:24:44.397Z"
   },
   {
    "duration": 740,
    "start_time": "2023-06-07T11:24:46.649Z"
   },
   {
    "duration": 116,
    "start_time": "2023-06-07T11:24:47.391Z"
   },
   {
    "duration": 96,
    "start_time": "2023-06-07T11:24:47.511Z"
   },
   {
    "duration": 1501,
    "start_time": "2023-06-07T11:24:47.609Z"
   },
   {
    "duration": 365,
    "start_time": "2023-06-07T11:25:14.175Z"
   },
   {
    "duration": 102,
    "start_time": "2023-06-07T11:32:52.712Z"
   },
   {
    "duration": 4462,
    "start_time": "2023-06-07T11:33:05.676Z"
   },
   {
    "duration": 2922,
    "start_time": "2023-06-07T11:38:34.779Z"
   },
   {
    "duration": 3186,
    "start_time": "2023-06-07T11:44:18.197Z"
   },
   {
    "duration": 3076,
    "start_time": "2023-06-07T11:44:37.081Z"
   },
   {
    "duration": 1968,
    "start_time": "2023-06-07T11:47:16.017Z"
   },
   {
    "duration": 13,
    "start_time": "2023-06-07T11:47:48.528Z"
   },
   {
    "duration": 726,
    "start_time": "2023-06-07T11:49:24.577Z"
   },
   {
    "duration": 3363,
    "start_time": "2023-06-07T11:49:26.094Z"
   },
   {
    "duration": 20,
    "start_time": "2023-06-07T11:49:29.459Z"
   },
   {
    "duration": 11,
    "start_time": "2023-06-07T11:49:45.708Z"
   },
   {
    "duration": 11,
    "start_time": "2023-06-07T11:49:46.889Z"
   },
   {
    "duration": 442,
    "start_time": "2023-06-07T11:49:51.891Z"
   },
   {
    "duration": 602,
    "start_time": "2023-06-07T11:49:52.448Z"
   },
   {
    "duration": 10,
    "start_time": "2023-06-07T11:49:53.660Z"
   },
   {
    "duration": 12,
    "start_time": "2023-06-07T11:50:02.671Z"
   },
   {
    "duration": 427,
    "start_time": "2023-06-07T11:50:15.585Z"
   },
   {
    "duration": 10,
    "start_time": "2023-06-07T11:50:16.790Z"
   },
   {
    "duration": 9,
    "start_time": "2023-06-07T11:50:29.783Z"
   },
   {
    "duration": 1474,
    "start_time": "2023-06-07T11:50:35.335Z"
   },
   {
    "duration": 2178,
    "start_time": "2023-06-07T13:35:42.423Z"
   },
   {
    "duration": 2,
    "start_time": "2023-06-07T13:35:44.603Z"
   },
   {
    "duration": 23508,
    "start_time": "2023-06-07T13:35:44.607Z"
   },
   {
    "duration": 18989,
    "start_time": "2023-06-07T13:36:08.117Z"
   },
   {
    "duration": 9482,
    "start_time": "2023-06-07T13:36:27.111Z"
   },
   {
    "duration": 2081,
    "start_time": "2023-06-07T13:36:36.599Z"
   },
   {
    "duration": 2105,
    "start_time": "2023-06-07T13:36:38.686Z"
   },
   {
    "duration": 6,
    "start_time": "2023-06-07T13:36:40.798Z"
   },
   {
    "duration": 4004,
    "start_time": "2023-06-07T13:36:40.812Z"
   },
   {
    "duration": 1371,
    "start_time": "2023-06-07T13:36:44.822Z"
   },
   {
    "duration": 204,
    "start_time": "2023-06-07T13:36:46.195Z"
   },
   {
    "duration": 107,
    "start_time": "2023-06-07T13:36:46.400Z"
   },
   {
    "duration": 2276,
    "start_time": "2023-06-07T13:36:46.510Z"
   },
   {
    "duration": 819,
    "start_time": "2023-06-07T13:36:48.788Z"
   },
   {
    "duration": 5602,
    "start_time": "2023-06-07T13:36:49.608Z"
   },
   {
    "duration": 1370,
    "start_time": "2023-06-07T13:36:55.211Z"
   },
   {
    "duration": 18,
    "start_time": "2023-06-07T13:36:56.585Z"
   },
   {
    "duration": 3005,
    "start_time": "2023-06-07T13:36:56.607Z"
   },
   {
    "duration": 8876796,
    "start_time": "2023-06-07T13:36:59.614Z"
   },
   {
    "duration": 0,
    "start_time": "2023-06-07T16:04:56.411Z"
   },
   {
    "duration": 0,
    "start_time": "2023-06-07T16:04:56.413Z"
   },
   {
    "duration": 0,
    "start_time": "2023-06-07T16:04:56.414Z"
   },
   {
    "duration": 1759,
    "start_time": "2023-06-08T08:28:29.870Z"
   },
   {
    "duration": 4,
    "start_time": "2023-06-08T08:28:34.722Z"
   },
   {
    "duration": 5,
    "start_time": "2023-06-08T08:29:09.238Z"
   },
   {
    "duration": 25,
    "start_time": "2023-06-08T08:29:09.246Z"
   },
   {
    "duration": 1212,
    "start_time": "2023-06-08T08:29:09.326Z"
   },
   {
    "duration": 6619,
    "start_time": "2023-06-08T08:29:10.540Z"
   },
   {
    "duration": 1393,
    "start_time": "2023-06-08T08:29:17.162Z"
   },
   {
    "duration": 6,
    "start_time": "2023-06-08T08:29:18.557Z"
   },
   {
    "duration": 4,
    "start_time": "2023-06-08T08:29:18.624Z"
   },
   {
    "duration": 2741,
    "start_time": "2023-06-08T08:29:18.632Z"
   },
   {
    "duration": 49,
    "start_time": "2023-06-08T08:31:04.361Z"
   },
   {
    "duration": 45,
    "start_time": "2023-06-08T08:31:12.027Z"
   },
   {
    "duration": 690,
    "start_time": "2023-06-08T08:31:23.272Z"
   },
   {
    "duration": 1550,
    "start_time": "2023-06-08T08:31:24.999Z"
   },
   {
    "duration": 699,
    "start_time": "2023-06-08T08:31:37.609Z"
   },
   {
    "duration": 1476,
    "start_time": "2023-06-08T08:31:44.458Z"
   },
   {
    "duration": 696,
    "start_time": "2023-06-08T08:31:56.860Z"
   },
   {
    "duration": 1053,
    "start_time": "2023-06-08T08:32:03.589Z"
   },
   {
    "duration": 526,
    "start_time": "2023-06-08T08:33:17.749Z"
   },
   {
    "duration": 1087,
    "start_time": "2023-06-08T08:33:18.544Z"
   },
   {
    "duration": 533,
    "start_time": "2023-06-08T08:33:30.042Z"
   },
   {
    "duration": 4,
    "start_time": "2023-06-08T08:33:36.280Z"
   },
   {
    "duration": 3,
    "start_time": "2023-06-08T08:33:36.464Z"
   },
   {
    "duration": 826,
    "start_time": "2023-06-08T08:33:36.606Z"
   },
   {
    "duration": 718,
    "start_time": "2023-06-08T08:33:37.434Z"
   },
   {
    "duration": 1379,
    "start_time": "2023-06-08T08:47:01.659Z"
   },
   {
    "duration": 4,
    "start_time": "2023-06-08T08:47:22.321Z"
   },
   {
    "duration": 10609,
    "start_time": "2023-06-08T08:47:23.037Z"
   },
   {
    "duration": 0,
    "start_time": "2023-06-08T08:47:33.649Z"
   },
   {
    "duration": 4,
    "start_time": "2023-06-08T08:47:34.627Z"
   },
   {
    "duration": 38,
    "start_time": "2023-06-08T08:47:37.764Z"
   },
   {
    "duration": 1365,
    "start_time": "2023-06-08T08:48:15.793Z"
   },
   {
    "duration": 3,
    "start_time": "2023-06-08T08:48:17.160Z"
   },
   {
    "duration": 16665,
    "start_time": "2023-06-08T08:48:17.165Z"
   },
   {
    "duration": 10904,
    "start_time": "2023-06-08T08:48:33.834Z"
   },
   {
    "duration": 5510,
    "start_time": "2023-06-08T08:48:44.740Z"
   },
   {
    "duration": 1098,
    "start_time": "2023-06-08T08:48:50.252Z"
   },
   {
    "duration": 3,
    "start_time": "2023-06-08T08:48:51.352Z"
   },
   {
    "duration": 2625,
    "start_time": "2023-06-08T08:48:51.358Z"
   },
   {
    "duration": 863,
    "start_time": "2023-06-08T08:48:53.985Z"
   },
   {
    "duration": 115,
    "start_time": "2023-06-08T08:48:54.851Z"
   },
   {
    "duration": 100,
    "start_time": "2023-06-08T08:48:54.968Z"
   },
   {
    "duration": 1758,
    "start_time": "2023-06-08T08:48:55.071Z"
   },
   {
    "duration": 607,
    "start_time": "2023-06-08T08:48:56.831Z"
   },
   {
    "duration": 3892,
    "start_time": "2023-06-08T08:48:57.441Z"
   },
   {
    "duration": 991,
    "start_time": "2023-06-08T08:49:01.335Z"
   },
   {
    "duration": 12,
    "start_time": "2023-06-08T08:49:02.329Z"
   },
   {
    "duration": 1790,
    "start_time": "2023-06-08T08:49:02.343Z"
   },
   {
    "duration": 15214,
    "start_time": "2023-06-08T08:49:04.135Z"
   },
   {
    "duration": 0,
    "start_time": "2023-06-08T08:49:19.352Z"
   },
   {
    "duration": 0,
    "start_time": "2023-06-08T08:49:19.354Z"
   },
   {
    "duration": 0,
    "start_time": "2023-06-08T08:49:19.356Z"
   },
   {
    "duration": 177,
    "start_time": "2023-06-08T08:49:34.706Z"
   },
   {
    "duration": 1340,
    "start_time": "2023-06-08T08:56:03.528Z"
   },
   {
    "duration": 4,
    "start_time": "2023-06-08T08:56:06.841Z"
   },
   {
    "duration": 17412,
    "start_time": "2023-06-08T08:56:07.613Z"
   },
   {
    "duration": 11706,
    "start_time": "2023-06-08T08:56:25.029Z"
   },
   {
    "duration": 6206,
    "start_time": "2023-06-08T08:56:36.737Z"
   },
   {
    "duration": 1385,
    "start_time": "2023-06-08T08:56:42.946Z"
   },
   {
    "duration": 4,
    "start_time": "2023-06-08T08:56:47.964Z"
   },
   {
    "duration": 2812,
    "start_time": "2023-06-08T08:56:48.829Z"
   },
   {
    "duration": 998,
    "start_time": "2023-06-08T08:56:51.643Z"
   },
   {
    "duration": 79,
    "start_time": "2023-06-08T08:57:01.972Z"
   },
   {
    "duration": 44,
    "start_time": "2023-06-08T08:57:02.769Z"
   },
   {
    "duration": 2337,
    "start_time": "2023-06-08T08:57:03.394Z"
   },
   {
    "duration": 614,
    "start_time": "2023-06-08T08:57:05.734Z"
   },
   {
    "duration": 4198,
    "start_time": "2023-06-08T08:57:06.350Z"
   },
   {
    "duration": 777,
    "start_time": "2023-06-08T08:57:10.550Z"
   },
   {
    "duration": 10,
    "start_time": "2023-06-08T08:57:11.711Z"
   },
   {
    "duration": 280,
    "start_time": "2023-06-08T08:57:13.179Z"
   },
   {
    "duration": 407,
    "start_time": "2023-06-08T08:58:29.543Z"
   },
   {
    "duration": 5,
    "start_time": "2023-06-08T08:59:01.966Z"
   },
   {
    "duration": 898,
    "start_time": "2023-06-08T08:59:31.434Z"
   },
   {
    "duration": 547,
    "start_time": "2023-06-08T08:59:45.526Z"
   },
   {
    "duration": 93,
    "start_time": "2023-06-08T09:00:15.452Z"
   },
   {
    "duration": 14,
    "start_time": "2023-06-08T09:02:36.900Z"
   },
   {
    "duration": 27,
    "start_time": "2023-06-08T09:03:28.607Z"
   },
   {
    "duration": 5,
    "start_time": "2023-06-08T09:03:30.803Z"
   },
   {
    "duration": 1020,
    "start_time": "2023-06-08T09:03:34.334Z"
   },
   {
    "duration": 2273,
    "start_time": "2023-06-08T09:03:39.056Z"
   },
   {
    "duration": 15,
    "start_time": "2023-06-08T09:03:45.243Z"
   },
   {
    "duration": 86,
    "start_time": "2023-06-08T09:04:04.144Z"
   },
   {
    "duration": 130,
    "start_time": "2023-06-08T09:04:06.975Z"
   },
   {
    "duration": 132,
    "start_time": "2023-06-08T09:04:16.598Z"
   },
   {
    "duration": 15,
    "start_time": "2023-06-08T09:04:18.117Z"
   },
   {
    "duration": 114,
    "start_time": "2023-06-08T09:10:43.801Z"
   },
   {
    "duration": 38,
    "start_time": "2023-06-08T09:10:47.575Z"
   },
   {
    "duration": 1764,
    "start_time": "2023-06-08T09:10:48.991Z"
   },
   {
    "duration": 18,
    "start_time": "2023-06-08T09:10:55.750Z"
   },
   {
    "duration": 453556,
    "start_time": "2023-06-08T09:10:58.777Z"
   },
   {
    "duration": 0,
    "start_time": "2023-06-08T09:18:32.336Z"
   },
   {
    "duration": 0,
    "start_time": "2023-06-08T09:18:32.338Z"
   },
   {
    "duration": 0,
    "start_time": "2023-06-08T09:18:32.339Z"
   },
   {
    "duration": 21,
    "start_time": "2023-06-08T09:18:35.716Z"
   },
   {
    "duration": 17,
    "start_time": "2023-06-08T09:18:52.808Z"
   },
   {
    "duration": 1476,
    "start_time": "2023-06-08T09:19:49.781Z"
   },
   {
    "duration": 5,
    "start_time": "2023-06-08T09:19:51.606Z"
   },
   {
    "duration": 18289,
    "start_time": "2023-06-08T09:19:52.365Z"
   },
   {
    "duration": 12187,
    "start_time": "2023-06-08T09:20:10.658Z"
   },
   {
    "duration": 6179,
    "start_time": "2023-06-08T09:20:22.848Z"
   },
   {
    "duration": 1332,
    "start_time": "2023-06-08T09:20:29.029Z"
   },
   {
    "duration": 4,
    "start_time": "2023-06-08T09:20:30.363Z"
   },
   {
    "duration": 3120,
    "start_time": "2023-06-08T09:20:30.426Z"
   },
   {
    "duration": 999,
    "start_time": "2023-06-08T09:20:33.548Z"
   },
   {
    "duration": 118,
    "start_time": "2023-06-08T09:20:34.550Z"
   },
   {
    "duration": 160,
    "start_time": "2023-06-08T09:20:34.670Z"
   },
   {
    "duration": 1612,
    "start_time": "2023-06-08T09:20:34.836Z"
   },
   {
    "duration": 693,
    "start_time": "2023-06-08T09:20:36.450Z"
   },
   {
    "duration": 4279,
    "start_time": "2023-06-08T09:20:37.146Z"
   },
   {
    "duration": 59,
    "start_time": "2023-06-08T09:20:41.428Z"
   },
   {
    "duration": 0,
    "start_time": "2023-06-08T09:20:41.489Z"
   },
   {
    "duration": 0,
    "start_time": "2023-06-08T09:20:41.491Z"
   },
   {
    "duration": 0,
    "start_time": "2023-06-08T09:20:41.492Z"
   },
   {
    "duration": 0,
    "start_time": "2023-06-08T09:20:41.494Z"
   },
   {
    "duration": 0,
    "start_time": "2023-06-08T09:20:41.525Z"
   },
   {
    "duration": 1,
    "start_time": "2023-06-08T09:20:41.526Z"
   },
   {
    "duration": 0,
    "start_time": "2023-06-08T09:20:41.529Z"
   },
   {
    "duration": 0,
    "start_time": "2023-06-08T09:20:41.531Z"
   },
   {
    "duration": 0,
    "start_time": "2023-06-08T09:20:41.532Z"
   },
   {
    "duration": 0,
    "start_time": "2023-06-08T09:20:41.533Z"
   },
   {
    "duration": 0,
    "start_time": "2023-06-08T09:20:41.535Z"
   },
   {
    "duration": 0,
    "start_time": "2023-06-08T09:20:41.536Z"
   },
   {
    "duration": 50,
    "start_time": "2023-06-08T09:21:56.591Z"
   },
   {
    "duration": 817,
    "start_time": "2023-06-08T09:22:08.921Z"
   },
   {
    "duration": 8,
    "start_time": "2023-06-08T09:22:12.496Z"
   },
   {
    "duration": 11,
    "start_time": "2023-06-08T09:22:13.993Z"
   },
   {
    "duration": 24,
    "start_time": "2023-06-08T09:22:14.911Z"
   },
   {
    "duration": 5,
    "start_time": "2023-06-08T09:22:15.777Z"
   },
   {
    "duration": 1006,
    "start_time": "2023-06-08T09:22:19.435Z"
   },
   {
    "duration": 92,
    "start_time": "2023-06-08T09:22:20.443Z"
   },
   {
    "duration": 2226,
    "start_time": "2023-06-08T09:22:23.321Z"
   },
   {
    "duration": 66,
    "start_time": "2023-06-08T09:24:10.499Z"
   },
   {
    "duration": 9,
    "start_time": "2023-06-08T09:28:10.703Z"
   },
   {
    "duration": 100,
    "start_time": "2023-06-08T09:43:10.750Z"
   },
   {
    "duration": 1534,
    "start_time": "2023-06-08T09:43:17.020Z"
   },
   {
    "duration": 8,
    "start_time": "2023-06-08T09:43:19.095Z"
   },
   {
    "duration": 1645,
    "start_time": "2023-06-08T09:43:53.507Z"
   },
   {
    "duration": 5,
    "start_time": "2023-06-08T09:43:55.156Z"
   },
   {
    "duration": 19469,
    "start_time": "2023-06-08T09:43:55.165Z"
   },
   {
    "duration": 13524,
    "start_time": "2023-06-08T09:44:14.638Z"
   },
   {
    "duration": 127,
    "start_time": "2023-06-08T09:44:28.163Z"
   },
   {
    "duration": 11571,
    "start_time": "2023-06-08T09:44:28.292Z"
   },
   {
    "duration": 1367,
    "start_time": "2023-06-08T09:44:39.865Z"
   },
   {
    "duration": 6,
    "start_time": "2023-06-08T09:44:41.239Z"
   },
   {
    "duration": 3308,
    "start_time": "2023-06-08T09:44:41.251Z"
   },
   {
    "duration": 868,
    "start_time": "2023-06-08T09:44:44.573Z"
   },
   {
    "duration": 190,
    "start_time": "2023-06-08T09:44:45.442Z"
   },
   {
    "duration": 123,
    "start_time": "2023-06-08T09:44:45.634Z"
   },
   {
    "duration": 1983,
    "start_time": "2023-06-08T09:44:45.759Z"
   },
   {
    "duration": 541,
    "start_time": "2023-06-08T09:44:47.743Z"
   },
   {
    "duration": 5597,
    "start_time": "2023-06-08T09:44:48.287Z"
   },
   {
    "duration": 1089,
    "start_time": "2023-06-08T09:44:53.885Z"
   },
   {
    "duration": 93,
    "start_time": "2023-06-08T09:44:54.976Z"
   },
   {
    "duration": 86,
    "start_time": "2023-06-08T09:44:55.071Z"
   },
   {
    "duration": 17,
    "start_time": "2023-06-08T09:44:55.159Z"
   },
   {
    "duration": 170,
    "start_time": "2023-06-08T09:44:55.178Z"
   },
   {
    "duration": 21,
    "start_time": "2023-06-08T09:44:55.350Z"
   },
   {
    "duration": 2450,
    "start_time": "2023-06-08T09:44:55.373Z"
   },
   {
    "duration": 38,
    "start_time": "2023-06-08T09:44:57.825Z"
   },
   {
    "duration": 3108,
    "start_time": "2023-06-08T09:44:57.864Z"
   },
   {
    "duration": 162,
    "start_time": "2023-06-08T09:45:00.974Z"
   },
   {
    "duration": 41,
    "start_time": "2023-06-08T13:29:55.919Z"
   },
   {
    "duration": 1406,
    "start_time": "2023-06-08T13:30:01.293Z"
   },
   {
    "duration": 3,
    "start_time": "2023-06-08T13:30:02.701Z"
   },
   {
    "duration": 18015,
    "start_time": "2023-06-08T13:30:02.705Z"
   },
   {
    "duration": 7886,
    "start_time": "2023-06-08T13:30:20.722Z"
   },
   {
    "duration": 38,
    "start_time": "2023-06-08T13:30:28.611Z"
   },
   {
    "duration": 6882,
    "start_time": "2023-06-08T13:30:28.651Z"
   },
   {
    "duration": 874,
    "start_time": "2023-06-08T13:30:35.535Z"
   },
   {
    "duration": 4,
    "start_time": "2023-06-08T13:30:36.410Z"
   },
   {
    "duration": 2246,
    "start_time": "2023-06-08T13:30:36.415Z"
   },
   {
    "duration": 811,
    "start_time": "2023-06-08T13:30:38.707Z"
   },
   {
    "duration": 117,
    "start_time": "2023-06-08T13:30:39.520Z"
   },
   {
    "duration": 88,
    "start_time": "2023-06-08T13:30:39.640Z"
   },
   {
    "duration": 1503,
    "start_time": "2023-06-08T13:30:39.730Z"
   },
   {
    "duration": 397,
    "start_time": "2023-06-08T13:30:41.235Z"
   },
   {
    "duration": 4006,
    "start_time": "2023-06-08T13:30:41.635Z"
   },
   {
    "duration": 524,
    "start_time": "2023-06-08T13:30:45.706Z"
   },
   {
    "duration": 12,
    "start_time": "2023-06-08T13:30:46.232Z"
   },
   {
    "duration": 74,
    "start_time": "2023-06-08T13:30:46.246Z"
   },
   {
    "duration": 10,
    "start_time": "2023-06-08T13:30:46.322Z"
   },
   {
    "duration": 82,
    "start_time": "2023-06-08T13:30:46.334Z"
   },
   {
    "duration": 3,
    "start_time": "2023-06-08T13:30:46.418Z"
   },
   {
    "duration": 1302,
    "start_time": "2023-06-08T13:30:46.423Z"
   },
   {
    "duration": 87,
    "start_time": "2023-06-08T13:30:47.727Z"
   },
   {
    "duration": 2328,
    "start_time": "2023-06-08T13:30:47.816Z"
   },
   {
    "duration": 261,
    "start_time": "2023-06-08T13:30:50.207Z"
   },
   {
    "duration": 1132641,
    "start_time": "2023-06-08T13:30:50.470Z"
   },
   {
    "duration": 0,
    "start_time": "2023-06-08T13:49:43.113Z"
   },
   {
    "duration": 0,
    "start_time": "2023-06-08T13:49:43.114Z"
   },
   {
    "duration": 0,
    "start_time": "2023-06-08T13:49:43.115Z"
   },
   {
    "duration": 1126,
    "start_time": "2023-06-08T13:52:53.412Z"
   },
   {
    "duration": 3,
    "start_time": "2023-06-08T13:52:54.539Z"
   },
   {
    "duration": 14879,
    "start_time": "2023-06-08T13:52:54.544Z"
   },
   {
    "duration": 8506,
    "start_time": "2023-06-08T13:53:09.425Z"
   },
   {
    "duration": 97,
    "start_time": "2023-06-08T13:53:17.933Z"
   },
   {
    "duration": 7080,
    "start_time": "2023-06-08T13:53:18.031Z"
   },
   {
    "duration": 900,
    "start_time": "2023-06-08T13:53:25.112Z"
   },
   {
    "duration": 3,
    "start_time": "2023-06-08T13:53:26.014Z"
   },
   {
    "duration": 2096,
    "start_time": "2023-06-08T13:53:26.019Z"
   },
   {
    "duration": 614,
    "start_time": "2023-06-08T13:53:28.120Z"
   },
   {
    "duration": 173,
    "start_time": "2023-06-08T13:53:28.735Z"
   },
   {
    "duration": 30,
    "start_time": "2023-06-08T13:53:28.909Z"
   },
   {
    "duration": 1289,
    "start_time": "2023-06-08T13:53:28.941Z"
   },
   {
    "duration": 406,
    "start_time": "2023-06-08T13:53:30.231Z"
   },
   {
    "duration": 3514,
    "start_time": "2023-06-08T13:53:30.707Z"
   },
   {
    "duration": 588,
    "start_time": "2023-06-08T13:53:34.223Z"
   },
   {
    "duration": 6,
    "start_time": "2023-06-08T13:53:34.813Z"
   },
   {
    "duration": 14,
    "start_time": "2023-06-08T13:53:34.820Z"
   },
   {
    "duration": 75,
    "start_time": "2023-06-08T13:53:34.835Z"
   },
   {
    "duration": 14,
    "start_time": "2023-06-08T13:53:34.912Z"
   },
   {
    "duration": 3,
    "start_time": "2023-06-08T13:53:34.927Z"
   },
   {
    "duration": 1276,
    "start_time": "2023-06-08T13:53:34.932Z"
   },
   {
    "duration": 19,
    "start_time": "2023-06-08T13:53:36.210Z"
   },
   {
    "duration": 2110,
    "start_time": "2023-06-08T13:53:36.231Z"
   },
   {
    "duration": 104,
    "start_time": "2023-06-08T13:53:38.343Z"
   },
   {
    "duration": 4676,
    "start_time": "2023-06-08T13:53:38.449Z"
   },
   {
    "duration": 3189,
    "start_time": "2023-06-08T13:53:43.127Z"
   },
   {
    "duration": 392,
    "start_time": "2023-06-08T13:53:46.319Z"
   },
   {
    "duration": 697,
    "start_time": "2023-06-08T13:53:46.713Z"
   },
   {
    "duration": 1589,
    "start_time": "2023-06-08T19:35:24.783Z"
   },
   {
    "duration": 5,
    "start_time": "2023-06-08T19:35:26.375Z"
   },
   {
    "duration": 16502,
    "start_time": "2023-06-08T19:35:26.382Z"
   },
   {
    "duration": 10002,
    "start_time": "2023-06-08T19:35:42.887Z"
   },
   {
    "duration": 167,
    "start_time": "2023-06-08T19:35:52.891Z"
   },
   {
    "duration": 8715,
    "start_time": "2023-06-08T19:35:53.061Z"
   },
   {
    "duration": 989,
    "start_time": "2023-06-08T19:36:01.779Z"
   },
   {
    "duration": 3,
    "start_time": "2023-06-08T19:36:02.770Z"
   },
   {
    "duration": 2703,
    "start_time": "2023-06-08T19:36:02.775Z"
   },
   {
    "duration": 901,
    "start_time": "2023-06-08T19:36:05.486Z"
   },
   {
    "duration": 173,
    "start_time": "2023-06-08T19:36:06.389Z"
   },
   {
    "duration": 98,
    "start_time": "2023-06-08T19:36:06.564Z"
   },
   {
    "duration": 1603,
    "start_time": "2023-06-08T19:36:06.664Z"
   },
   {
    "duration": 589,
    "start_time": "2023-06-08T19:36:08.269Z"
   },
   {
    "duration": 3911,
    "start_time": "2023-06-08T19:36:08.861Z"
   },
   {
    "duration": 893,
    "start_time": "2023-06-08T19:36:12.773Z"
   },
   {
    "duration": 10,
    "start_time": "2023-06-08T19:36:13.669Z"
   },
   {
    "duration": 83,
    "start_time": "2023-06-08T19:36:13.681Z"
   },
   {
    "duration": 13,
    "start_time": "2023-06-08T19:36:13.766Z"
   },
   {
    "duration": 87,
    "start_time": "2023-06-08T19:36:13.782Z"
   },
   {
    "duration": 5,
    "start_time": "2023-06-08T19:36:13.872Z"
   },
   {
    "duration": 1696,
    "start_time": "2023-06-08T19:36:13.878Z"
   },
   {
    "duration": 87,
    "start_time": "2023-06-08T19:36:15.576Z"
   },
   {
    "duration": 2726,
    "start_time": "2023-06-08T19:36:15.667Z"
   },
   {
    "duration": 111,
    "start_time": "2023-06-08T19:36:18.395Z"
   },
   {
    "duration": 6053,
    "start_time": "2023-06-08T19:36:18.509Z"
   },
   {
    "duration": 4027,
    "start_time": "2023-06-08T19:36:24.563Z"
   },
   {
    "duration": 497,
    "start_time": "2023-06-08T19:36:28.594Z"
   },
   {
    "duration": 699,
    "start_time": "2023-06-08T19:36:29.158Z"
   },
   {
    "duration": 1506,
    "start_time": "2023-06-09T08:09:31.913Z"
   },
   {
    "duration": 4,
    "start_time": "2023-06-09T08:09:34.671Z"
   },
   {
    "duration": 15988,
    "start_time": "2023-06-09T08:09:37.117Z"
   },
   {
    "duration": 10237,
    "start_time": "2023-06-09T08:09:53.149Z"
   },
   {
    "duration": 109,
    "start_time": "2023-06-09T08:10:03.387Z"
   },
   {
    "duration": 286,
    "start_time": "2023-06-09T08:10:03.499Z"
   },
   {
    "duration": 134,
    "start_time": "2023-06-09T08:10:35.786Z"
   },
   {
    "duration": 121,
    "start_time": "2023-06-09T08:11:51.520Z"
   },
   {
    "duration": 487,
    "start_time": "2023-06-09T08:12:14.244Z"
   },
   {
    "duration": 1257,
    "start_time": "2023-06-09T08:12:30.171Z"
   },
   {
    "duration": 3,
    "start_time": "2023-06-09T08:12:31.430Z"
   },
   {
    "duration": 14922,
    "start_time": "2023-06-09T08:12:31.643Z"
   },
   {
    "duration": 8603,
    "start_time": "2023-06-09T08:12:46.568Z"
   },
   {
    "duration": 116,
    "start_time": "2023-06-09T08:12:55.173Z"
   },
   {
    "duration": 715,
    "start_time": "2023-06-09T08:12:55.292Z"
   },
   {
    "duration": 59,
    "start_time": "2023-06-09T08:15:40.065Z"
   },
   {
    "duration": 192,
    "start_time": "2023-06-09T08:15:45.074Z"
   },
   {
    "duration": 4,
    "start_time": "2023-06-09T08:20:23.254Z"
   },
   {
    "duration": 8033,
    "start_time": "2023-06-09T08:20:35.860Z"
   },
   {
    "duration": 2150,
    "start_time": "2023-06-09T08:22:11.727Z"
   },
   {
    "duration": 40,
    "start_time": "2023-06-09T08:25:10.427Z"
   },
   {
    "duration": 2035,
    "start_time": "2023-06-09T08:26:48.548Z"
   },
   {
    "duration": 1776,
    "start_time": "2023-06-09T08:27:02.508Z"
   },
   {
    "duration": 1490,
    "start_time": "2023-06-09T08:27:21.069Z"
   },
   {
    "duration": 1427,
    "start_time": "2023-06-09T08:27:30.449Z"
   },
   {
    "duration": 1572,
    "start_time": "2023-06-09T08:27:56.508Z"
   },
   {
    "duration": 58,
    "start_time": "2023-06-09T09:16:03.248Z"
   },
   {
    "duration": 1268,
    "start_time": "2023-06-09T09:16:09.759Z"
   },
   {
    "duration": 5,
    "start_time": "2023-06-09T09:16:24.221Z"
   },
   {
    "duration": 16509,
    "start_time": "2023-06-09T09:16:25.047Z"
   },
   {
    "duration": 9989,
    "start_time": "2023-06-09T09:16:41.562Z"
   },
   {
    "duration": 110,
    "start_time": "2023-06-09T09:16:51.553Z"
   },
   {
    "duration": 215,
    "start_time": "2023-06-09T09:16:51.665Z"
   },
   {
    "duration": 19,
    "start_time": "2023-06-09T09:19:11.996Z"
   },
   {
    "duration": 21,
    "start_time": "2023-06-09T09:19:21.135Z"
   },
   {
    "duration": 4640,
    "start_time": "2023-06-09T09:19:38.350Z"
   },
   {
    "duration": 130,
    "start_time": "2023-06-09T09:21:19.784Z"
   },
   {
    "duration": 12,
    "start_time": "2023-06-09T09:21:32.602Z"
   },
   {
    "duration": 11,
    "start_time": "2023-06-09T09:21:42.965Z"
   },
   {
    "duration": 89,
    "start_time": "2023-06-09T09:21:58.892Z"
   },
   {
    "duration": 85,
    "start_time": "2023-06-09T09:22:38.762Z"
   },
   {
    "duration": 19,
    "start_time": "2023-06-09T09:22:55.198Z"
   },
   {
    "duration": 3,
    "start_time": "2023-06-09T09:24:12.989Z"
   },
   {
    "duration": 16,
    "start_time": "2023-06-09T09:24:13.650Z"
   },
   {
    "duration": 4782,
    "start_time": "2023-06-09T09:25:02.969Z"
   },
   {
    "duration": 139,
    "start_time": "2023-06-09T09:26:33.938Z"
   },
   {
    "duration": 363,
    "start_time": "2023-06-09T09:26:37.818Z"
   },
   {
    "duration": 60,
    "start_time": "2023-06-09T09:27:08.509Z"
   },
   {
    "duration": 1779,
    "start_time": "2023-06-09T09:27:09.082Z"
   },
   {
    "duration": 44,
    "start_time": "2023-06-09T09:47:49.080Z"
   },
   {
    "duration": 3,
    "start_time": "2023-06-09T09:47:49.752Z"
   },
   {
    "duration": 4,
    "start_time": "2023-06-09T09:47:50.294Z"
   },
   {
    "duration": 983,
    "start_time": "2023-06-09T09:47:50.794Z"
   },
   {
    "duration": 74,
    "start_time": "2023-06-09T09:47:51.779Z"
   },
   {
    "duration": 3311,
    "start_time": "2023-06-09T09:47:51.856Z"
   },
   {
    "duration": 83,
    "start_time": "2023-06-09T09:47:55.170Z"
   },
   {
    "duration": 0,
    "start_time": "2023-06-09T09:47:55.255Z"
   },
   {
    "duration": 0,
    "start_time": "2023-06-09T09:47:55.256Z"
   },
   {
    "duration": 0,
    "start_time": "2023-06-09T09:47:55.258Z"
   },
   {
    "duration": 0,
    "start_time": "2023-06-09T09:47:55.259Z"
   },
   {
    "duration": 0,
    "start_time": "2023-06-09T09:47:55.261Z"
   },
   {
    "duration": 14,
    "start_time": "2023-06-09T09:47:55.369Z"
   },
   {
    "duration": 3,
    "start_time": "2023-06-09T09:48:06.536Z"
   },
   {
    "duration": 42,
    "start_time": "2023-06-09T09:48:07.604Z"
   },
   {
    "duration": 4013,
    "start_time": "2023-06-09T09:49:55.354Z"
   },
   {
    "duration": 1306,
    "start_time": "2023-06-09T09:52:46.476Z"
   },
   {
    "duration": 2391,
    "start_time": "2023-06-09T09:53:01.987Z"
   },
   {
    "duration": 1221,
    "start_time": "2023-06-09T09:53:31.054Z"
   },
   {
    "duration": 1928,
    "start_time": "2023-06-09T09:53:45.695Z"
   },
   {
    "duration": 1715,
    "start_time": "2023-06-09T09:54:47.938Z"
   },
   {
    "duration": 37,
    "start_time": "2023-06-09T09:55:09.445Z"
   },
   {
    "duration": 3,
    "start_time": "2023-06-09T09:55:10.079Z"
   },
   {
    "duration": 5,
    "start_time": "2023-06-09T09:55:10.703Z"
   },
   {
    "duration": 380,
    "start_time": "2023-06-09T09:55:11.303Z"
   },
   {
    "duration": 6,
    "start_time": "2023-06-09T09:55:11.881Z"
   },
   {
    "duration": 2323,
    "start_time": "2023-06-09T09:55:12.336Z"
   },
   {
    "duration": 1474,
    "start_time": "2023-06-09T09:55:14.661Z"
   },
   {
    "duration": 115,
    "start_time": "2023-06-09T09:55:16.137Z"
   },
   {
    "duration": 927,
    "start_time": "2023-06-09T09:55:16.256Z"
   },
   {
    "duration": 1335,
    "start_time": "2023-06-09T09:55:17.185Z"
   },
   {
    "duration": 134,
    "start_time": "2023-06-09T09:55:18.522Z"
   },
   {
    "duration": 1446,
    "start_time": "2023-06-09T09:55:19.412Z"
   },
   {
    "duration": 4,
    "start_time": "2023-06-09T09:55:21.040Z"
   },
   {
    "duration": 1646,
    "start_time": "2023-06-09T09:55:22.115Z"
   },
   {
    "duration": 91,
    "start_time": "2023-06-09T09:59:49.210Z"
   },
   {
    "duration": 879,
    "start_time": "2023-06-09T10:00:43.999Z"
   },
   {
    "duration": 6,
    "start_time": "2023-06-09T10:00:46.683Z"
   },
   {
    "duration": 828,
    "start_time": "2023-06-09T10:00:47.733Z"
   },
   {
    "duration": 101,
    "start_time": "2023-06-09T10:00:58.032Z"
   },
   {
    "duration": 729,
    "start_time": "2023-06-09T10:01:06.451Z"
   },
   {
    "duration": 3,
    "start_time": "2023-06-09T10:01:08.414Z"
   },
   {
    "duration": 652,
    "start_time": "2023-06-09T10:01:09.708Z"
   },
   {
    "duration": 595,
    "start_time": "2023-06-09T10:01:32.190Z"
   },
   {
    "duration": 3,
    "start_time": "2023-06-09T10:01:33.805Z"
   },
   {
    "duration": 569,
    "start_time": "2023-06-09T10:01:34.813Z"
   },
   {
    "duration": 29,
    "start_time": "2023-06-09T10:04:06.334Z"
   },
   {
    "duration": 9529,
    "start_time": "2023-06-09T10:07:26.639Z"
   },
   {
    "duration": 76,
    "start_time": "2023-06-09T10:07:50.777Z"
   },
   {
    "duration": 578,
    "start_time": "2023-06-09T10:08:00.023Z"
   },
   {
    "duration": 12,
    "start_time": "2023-06-09T10:08:01.506Z"
   },
   {
    "duration": 7380,
    "start_time": "2023-06-09T10:08:02.673Z"
   },
   {
    "duration": 322,
    "start_time": "2023-06-09T10:08:27.872Z"
   },
   {
    "duration": 493,
    "start_time": "2023-06-09T10:10:21.997Z"
   },
   {
    "duration": 4,
    "start_time": "2023-06-09T10:10:23.527Z"
   },
   {
    "duration": 5898,
    "start_time": "2023-06-09T10:10:25.096Z"
   },
   {
    "duration": 5283,
    "start_time": "2023-06-09T10:10:39.610Z"
   },
   {
    "duration": 86,
    "start_time": "2023-06-09T10:10:49.306Z"
   },
   {
    "duration": 420,
    "start_time": "2023-06-09T10:11:05.292Z"
   },
   {
    "duration": 3,
    "start_time": "2023-06-09T10:11:06.395Z"
   },
   {
    "duration": 4261,
    "start_time": "2023-06-09T10:11:07.410Z"
   },
   {
    "duration": 126,
    "start_time": "2023-06-09T10:11:11.673Z"
   },
   {
    "duration": 318,
    "start_time": "2023-06-09T10:13:40.184Z"
   },
   {
    "duration": 464,
    "start_time": "2023-06-09T10:13:54.014Z"
   },
   {
    "duration": 5,
    "start_time": "2023-06-09T10:13:54.866Z"
   },
   {
    "duration": 593,
    "start_time": "2023-06-09T10:13:55.776Z"
   },
   {
    "duration": 62,
    "start_time": "2023-06-09T10:14:05.070Z"
   },
   {
    "duration": 125,
    "start_time": "2023-06-09T10:14:42.553Z"
   },
   {
    "duration": 390,
    "start_time": "2023-06-09T10:14:48.364Z"
   },
   {
    "duration": 3,
    "start_time": "2023-06-09T10:14:49.024Z"
   },
   {
    "duration": 718,
    "start_time": "2023-06-09T10:14:50.471Z"
   },
   {
    "duration": 434,
    "start_time": "2023-06-09T10:14:51.251Z"
   },
   {
    "duration": 119,
    "start_time": "2023-06-09T10:16:23.468Z"
   },
   {
    "duration": 547,
    "start_time": "2023-06-09T10:16:27.265Z"
   },
   {
    "duration": 3,
    "start_time": "2023-06-09T10:16:28.793Z"
   },
   {
    "duration": 284,
    "start_time": "2023-06-09T10:16:29.022Z"
   },
   {
    "duration": 41,
    "start_time": "2023-06-09T10:23:47.233Z"
   },
   {
    "duration": 510,
    "start_time": "2023-06-09T10:23:58.183Z"
   },
   {
    "duration": 5,
    "start_time": "2023-06-09T10:23:59.239Z"
   },
   {
    "duration": 31,
    "start_time": "2023-06-09T10:24:00.326Z"
   },
   {
    "duration": 37,
    "start_time": "2023-06-09T10:24:27.844Z"
   },
   {
    "duration": 414,
    "start_time": "2023-06-09T10:24:59.697Z"
   },
   {
    "duration": 4,
    "start_time": "2023-06-09T10:25:00.750Z"
   },
   {
    "duration": 32,
    "start_time": "2023-06-09T10:25:01.704Z"
   },
   {
    "duration": 15,
    "start_time": "2023-06-09T10:25:55.467Z"
   },
   {
    "duration": 596,
    "start_time": "2023-06-09T10:26:11.589Z"
   },
   {
    "duration": 3,
    "start_time": "2023-06-09T10:26:12.414Z"
   },
   {
    "duration": 12,
    "start_time": "2023-06-09T10:26:13.300Z"
   },
   {
    "duration": 266,
    "start_time": "2023-06-09T10:27:10.387Z"
   },
   {
    "duration": 101,
    "start_time": "2023-06-09T10:27:43.746Z"
   },
   {
    "duration": 471,
    "start_time": "2023-06-09T10:28:06.899Z"
   },
   {
    "duration": 4,
    "start_time": "2023-06-09T10:28:08.214Z"
   },
   {
    "duration": 745,
    "start_time": "2023-06-09T10:28:09.255Z"
   },
   {
    "duration": 665,
    "start_time": "2023-06-09T10:28:27.514Z"
   },
   {
    "duration": 44,
    "start_time": "2023-06-09T10:28:34.698Z"
   },
   {
    "duration": 40,
    "start_time": "2023-06-09T10:28:43.365Z"
   },
   {
    "duration": 1242,
    "start_time": "2023-06-09T10:29:35.638Z"
   },
   {
    "duration": 841,
    "start_time": "2023-06-09T10:29:46.611Z"
   },
   {
    "duration": 817,
    "start_time": "2023-06-09T10:29:52.157Z"
   },
   {
    "duration": 41,
    "start_time": "2023-06-09T11:00:01.423Z"
   },
   {
    "duration": 3,
    "start_time": "2023-06-09T11:00:01.975Z"
   },
   {
    "duration": 5,
    "start_time": "2023-06-09T11:00:02.985Z"
   },
   {
    "duration": 423,
    "start_time": "2023-06-09T11:00:03.629Z"
   },
   {
    "duration": 7,
    "start_time": "2023-06-09T11:00:04.181Z"
   },
   {
    "duration": 1310,
    "start_time": "2023-06-09T11:00:08.075Z"
   },
   {
    "duration": 3,
    "start_time": "2023-06-09T11:00:09.387Z"
   },
   {
    "duration": 16275,
    "start_time": "2023-06-09T11:00:09.391Z"
   },
   {
    "duration": 10425,
    "start_time": "2023-06-09T11:00:25.669Z"
   },
   {
    "duration": 109,
    "start_time": "2023-06-09T11:00:36.151Z"
   },
   {
    "duration": 7712,
    "start_time": "2023-06-09T11:00:36.263Z"
   },
   {
    "duration": 7127,
    "start_time": "2023-06-09T11:00:43.977Z"
   },
   {
    "duration": 165,
    "start_time": "2023-06-09T11:00:51.106Z"
   },
   {
    "duration": 1699,
    "start_time": "2023-06-09T11:00:51.273Z"
   },
   {
    "duration": 394,
    "start_time": "2023-06-09T11:00:52.976Z"
   },
   {
    "duration": 1788,
    "start_time": "2023-06-09T11:00:53.372Z"
   },
   {
    "duration": 7,
    "start_time": "2023-06-09T11:00:55.162Z"
   },
   {
    "duration": 193,
    "start_time": "2023-06-09T11:00:55.171Z"
   },
   {
    "duration": 0,
    "start_time": "2023-06-09T11:00:55.366Z"
   },
   {
    "duration": 0,
    "start_time": "2023-06-09T11:00:55.368Z"
   },
   {
    "duration": 0,
    "start_time": "2023-06-09T11:00:55.370Z"
   },
   {
    "duration": 0,
    "start_time": "2023-06-09T11:00:55.371Z"
   },
   {
    "duration": 0,
    "start_time": "2023-06-09T11:00:55.373Z"
   },
   {
    "duration": 0,
    "start_time": "2023-06-09T11:00:55.374Z"
   },
   {
    "duration": 0,
    "start_time": "2023-06-09T11:00:55.376Z"
   },
   {
    "duration": 0,
    "start_time": "2023-06-09T11:00:55.377Z"
   },
   {
    "duration": 0,
    "start_time": "2023-06-09T11:00:55.379Z"
   },
   {
    "duration": 0,
    "start_time": "2023-06-09T11:00:55.381Z"
   },
   {
    "duration": 0,
    "start_time": "2023-06-09T11:00:55.382Z"
   },
   {
    "duration": 0,
    "start_time": "2023-06-09T11:00:55.384Z"
   },
   {
    "duration": 0,
    "start_time": "2023-06-09T11:00:55.385Z"
   },
   {
    "duration": 0,
    "start_time": "2023-06-09T11:00:55.387Z"
   },
   {
    "duration": 2761,
    "start_time": "2023-06-09T11:01:53.821Z"
   },
   {
    "duration": 1310,
    "start_time": "2023-06-09T11:02:08.198Z"
   },
   {
    "duration": 3,
    "start_time": "2023-06-09T11:02:09.510Z"
   },
   {
    "duration": 16064,
    "start_time": "2023-06-09T11:02:09.514Z"
   },
   {
    "duration": 9791,
    "start_time": "2023-06-09T11:02:25.580Z"
   },
   {
    "duration": 112,
    "start_time": "2023-06-09T11:02:35.373Z"
   },
   {
    "duration": 7889,
    "start_time": "2023-06-09T11:02:35.487Z"
   },
   {
    "duration": 6967,
    "start_time": "2023-06-09T11:02:43.378Z"
   },
   {
    "duration": 231,
    "start_time": "2023-06-09T11:02:50.347Z"
   },
   {
    "duration": 1691,
    "start_time": "2023-06-09T11:02:50.579Z"
   },
   {
    "duration": 406,
    "start_time": "2023-06-09T11:02:52.273Z"
   },
   {
    "duration": 1804,
    "start_time": "2023-06-09T11:02:52.681Z"
   },
   {
    "duration": 11,
    "start_time": "2023-06-09T11:02:54.550Z"
   },
   {
    "duration": 2816,
    "start_time": "2023-06-09T11:02:54.563Z"
   },
   {
    "duration": 897,
    "start_time": "2023-06-09T11:02:57.380Z"
   },
   {
    "duration": 98,
    "start_time": "2023-06-09T11:02:58.279Z"
   },
   {
    "duration": 178,
    "start_time": "2023-06-09T11:02:58.379Z"
   },
   {
    "duration": 1207,
    "start_time": "2023-06-09T11:02:58.559Z"
   },
   {
    "duration": 889,
    "start_time": "2023-06-09T11:02:59.768Z"
   },
   {
    "duration": 98,
    "start_time": "2023-06-09T11:03:00.659Z"
   },
   {
    "duration": 4626,
    "start_time": "2023-06-09T11:03:00.758Z"
   },
   {
    "duration": 303,
    "start_time": "2023-06-09T11:03:05.386Z"
   },
   {
    "duration": 0,
    "start_time": "2023-06-09T11:03:05.690Z"
   },
   {
    "duration": 0,
    "start_time": "2023-06-09T11:03:05.692Z"
   },
   {
    "duration": 0,
    "start_time": "2023-06-09T11:03:05.693Z"
   },
   {
    "duration": 0,
    "start_time": "2023-06-09T11:03:05.750Z"
   },
   {
    "duration": 0,
    "start_time": "2023-06-09T11:03:05.751Z"
   },
   {
    "duration": 0,
    "start_time": "2023-06-09T11:03:05.753Z"
   },
   {
    "duration": 22,
    "start_time": "2023-06-09T11:08:09.316Z"
   },
   {
    "duration": 21,
    "start_time": "2023-06-09T11:08:50.463Z"
   },
   {
    "duration": 60,
    "start_time": "2023-06-09T11:09:05.593Z"
   },
   {
    "duration": 15,
    "start_time": "2023-06-09T11:10:14.130Z"
   },
   {
    "duration": 9,
    "start_time": "2023-06-09T11:10:46.256Z"
   },
   {
    "duration": 13,
    "start_time": "2023-06-09T11:18:05.647Z"
   },
   {
    "duration": 506,
    "start_time": "2023-06-09T11:18:33.750Z"
   },
   {
    "duration": 11,
    "start_time": "2023-06-09T11:20:18.293Z"
   },
   {
    "duration": 1256,
    "start_time": "2023-06-09T11:20:28.277Z"
   },
   {
    "duration": 3,
    "start_time": "2023-06-09T11:20:29.535Z"
   },
   {
    "duration": 16058,
    "start_time": "2023-06-09T11:20:29.540Z"
   },
   {
    "duration": 9542,
    "start_time": "2023-06-09T11:20:45.651Z"
   },
   {
    "duration": 163,
    "start_time": "2023-06-09T11:20:55.195Z"
   },
   {
    "duration": 7790,
    "start_time": "2023-06-09T11:20:55.360Z"
   },
   {
    "duration": 6343,
    "start_time": "2023-06-09T11:21:03.153Z"
   },
   {
    "duration": 177,
    "start_time": "2023-06-09T11:21:09.498Z"
   },
   {
    "duration": 1974,
    "start_time": "2023-06-09T11:21:09.678Z"
   },
   {
    "duration": 399,
    "start_time": "2023-06-09T11:21:11.654Z"
   },
   {
    "duration": 1935,
    "start_time": "2023-06-09T11:21:12.055Z"
   },
   {
    "duration": 8,
    "start_time": "2023-06-09T11:21:14.051Z"
   },
   {
    "duration": 2905,
    "start_time": "2023-06-09T11:21:14.061Z"
   },
   {
    "duration": 1085,
    "start_time": "2023-06-09T11:21:16.970Z"
   },
   {
    "duration": 103,
    "start_time": "2023-06-09T11:21:18.056Z"
   },
   {
    "duration": 109,
    "start_time": "2023-06-09T11:21:18.161Z"
   },
   {
    "duration": 1286,
    "start_time": "2023-06-09T11:21:18.272Z"
   },
   {
    "duration": 927,
    "start_time": "2023-06-09T11:21:19.561Z"
   },
   {
    "duration": 300,
    "start_time": "2023-06-09T11:21:20.490Z"
   },
   {
    "duration": 0,
    "start_time": "2023-06-09T11:21:20.851Z"
   },
   {
    "duration": 0,
    "start_time": "2023-06-09T11:21:20.852Z"
   },
   {
    "duration": 0,
    "start_time": "2023-06-09T11:21:20.854Z"
   },
   {
    "duration": 0,
    "start_time": "2023-06-09T11:21:20.857Z"
   },
   {
    "duration": 0,
    "start_time": "2023-06-09T11:21:20.858Z"
   },
   {
    "duration": 0,
    "start_time": "2023-06-09T11:21:20.860Z"
   },
   {
    "duration": 0,
    "start_time": "2023-06-09T11:21:20.861Z"
   },
   {
    "duration": 0,
    "start_time": "2023-06-09T11:21:20.862Z"
   },
   {
    "duration": 0,
    "start_time": "2023-06-09T11:21:20.863Z"
   },
   {
    "duration": 0,
    "start_time": "2023-06-09T11:21:20.864Z"
   },
   {
    "duration": 42,
    "start_time": "2023-06-09T11:23:34.109Z"
   },
   {
    "duration": 433,
    "start_time": "2023-06-09T11:23:37.335Z"
   },
   {
    "duration": 14,
    "start_time": "2023-06-09T11:24:23.953Z"
   },
   {
    "duration": 3,
    "start_time": "2023-06-09T11:24:33.927Z"
   },
   {
    "duration": 28,
    "start_time": "2023-06-09T11:24:40.907Z"
   },
   {
    "duration": 302,
    "start_time": "2023-06-09T11:24:42.050Z"
   },
   {
    "duration": 15628,
    "start_time": "2023-06-09T11:25:55.999Z"
   },
   {
    "duration": 9,
    "start_time": "2023-06-09T11:26:11.630Z"
   },
   {
    "duration": 232,
    "start_time": "2023-06-09T11:27:14.063Z"
   },
   {
    "duration": 34,
    "start_time": "2023-06-09T11:27:40.331Z"
   },
   {
    "duration": 3438,
    "start_time": "2023-06-09T11:27:41.619Z"
   },
   {
    "duration": 26,
    "start_time": "2023-06-09T11:27:45.060Z"
   },
   {
    "duration": 11,
    "start_time": "2023-06-09T11:30:13.726Z"
   },
   {
    "duration": 3528,
    "start_time": "2023-06-09T11:30:44.442Z"
   },
   {
    "duration": 21,
    "start_time": "2023-06-09T11:31:03.379Z"
   },
   {
    "duration": 75,
    "start_time": "2023-06-09T11:31:11.434Z"
   },
   {
    "duration": 295,
    "start_time": "2023-06-09T11:31:27.572Z"
   },
   {
    "duration": 221,
    "start_time": "2023-06-09T11:31:45.835Z"
   },
   {
    "duration": 8,
    "start_time": "2023-06-09T11:31:52.519Z"
   },
   {
    "duration": 2252,
    "start_time": "2023-06-09T11:31:53.031Z"
   },
   {
    "duration": 2322,
    "start_time": "2023-06-09T11:31:55.349Z"
   },
   {
    "duration": 167,
    "start_time": "2023-06-09T11:31:57.673Z"
   },
   {
    "duration": 0,
    "start_time": "2023-06-09T11:31:57.842Z"
   },
   {
    "duration": 89,
    "start_time": "2023-06-09T11:32:54.414Z"
   },
   {
    "duration": 10,
    "start_time": "2023-06-09T11:34:12.958Z"
   },
   {
    "duration": 917,
    "start_time": "2023-06-09T11:36:42.576Z"
   },
   {
    "duration": 3,
    "start_time": "2023-06-09T11:36:43.815Z"
   },
   {
    "duration": 1028,
    "start_time": "2023-06-09T11:36:44.131Z"
   },
   {
    "duration": 395,
    "start_time": "2023-06-09T11:36:45.162Z"
   },
   {
    "duration": 23,
    "start_time": "2023-06-09T11:36:45.559Z"
   },
   {
    "duration": 20,
    "start_time": "2023-06-09T11:36:45.651Z"
   },
   {
    "duration": 977,
    "start_time": "2023-06-09T11:36:45.673Z"
   },
   {
    "duration": 194,
    "start_time": "2023-06-09T11:36:47.276Z"
   },
   {
    "duration": 23,
    "start_time": "2023-06-09T11:36:49.031Z"
   },
   {
    "duration": 198,
    "start_time": "2023-06-09T11:36:49.299Z"
   },
   {
    "duration": 8,
    "start_time": "2023-06-09T11:36:53.399Z"
   },
   {
    "duration": 2281,
    "start_time": "2023-06-09T11:36:54.602Z"
   },
   {
    "duration": 2012,
    "start_time": "2023-06-09T11:36:56.886Z"
   },
   {
    "duration": 100,
    "start_time": "2023-06-09T11:37:02.814Z"
   },
   {
    "duration": 112,
    "start_time": "2023-06-09T11:37:04.211Z"
   },
   {
    "duration": 734,
    "start_time": "2023-06-09T11:38:16.523Z"
   },
   {
    "duration": 4,
    "start_time": "2023-06-09T11:38:18.210Z"
   },
   {
    "duration": 1206,
    "start_time": "2023-06-09T11:38:19.545Z"
   },
   {
    "duration": 435,
    "start_time": "2023-06-09T11:38:23.619Z"
   },
   {
    "duration": 33,
    "start_time": "2023-06-09T11:38:29.615Z"
   },
   {
    "duration": 33,
    "start_time": "2023-06-09T11:38:29.650Z"
   },
   {
    "duration": 707,
    "start_time": "2023-06-09T11:38:34.173Z"
   },
   {
    "duration": 637,
    "start_time": "2023-06-09T11:38:36.438Z"
   },
   {
    "duration": 13,
    "start_time": "2023-06-09T11:38:46.139Z"
   },
   {
    "duration": 11,
    "start_time": "2023-06-09T11:38:46.872Z"
   },
   {
    "duration": 2887,
    "start_time": "2023-06-09T11:45:35.408Z"
   },
   {
    "duration": 5,
    "start_time": "2023-06-09T11:45:38.299Z"
   },
   {
    "duration": 17748,
    "start_time": "2023-06-09T11:45:38.306Z"
   },
   {
    "duration": 12009,
    "start_time": "2023-06-09T11:45:56.057Z"
   },
   {
    "duration": 115,
    "start_time": "2023-06-09T11:46:08.069Z"
   },
   {
    "duration": 9502,
    "start_time": "2023-06-09T11:46:08.188Z"
   },
   {
    "duration": 8173,
    "start_time": "2023-06-09T11:46:17.749Z"
   },
   {
    "duration": 238,
    "start_time": "2023-06-09T11:46:25.924Z"
   },
   {
    "duration": 2037,
    "start_time": "2023-06-09T11:46:26.163Z"
   },
   {
    "duration": 514,
    "start_time": "2023-06-09T11:46:28.251Z"
   },
   {
    "duration": 2327,
    "start_time": "2023-06-09T11:46:28.767Z"
   },
   {
    "duration": 66,
    "start_time": "2023-06-09T11:46:31.096Z"
   },
   {
    "duration": 3342,
    "start_time": "2023-06-09T11:46:31.172Z"
   },
   {
    "duration": 1095,
    "start_time": "2023-06-09T11:46:34.555Z"
   },
   {
    "duration": 107,
    "start_time": "2023-06-09T11:46:35.661Z"
   },
   {
    "duration": 111,
    "start_time": "2023-06-09T11:46:35.770Z"
   },
   {
    "duration": 1497,
    "start_time": "2023-06-09T11:46:35.883Z"
   },
   {
    "duration": 1077,
    "start_time": "2023-06-09T11:46:37.381Z"
   },
   {
    "duration": 35,
    "start_time": "2023-06-09T11:46:38.460Z"
   },
   {
    "duration": 209,
    "start_time": "2023-06-09T11:46:38.498Z"
   },
   {
    "duration": 0,
    "start_time": "2023-06-09T11:46:38.709Z"
   },
   {
    "duration": 0,
    "start_time": "2023-06-09T11:46:38.715Z"
   },
   {
    "duration": 1,
    "start_time": "2023-06-09T11:46:38.716Z"
   },
   {
    "duration": 0,
    "start_time": "2023-06-09T11:46:38.718Z"
   },
   {
    "duration": 0,
    "start_time": "2023-06-09T11:46:38.720Z"
   },
   {
    "duration": 0,
    "start_time": "2023-06-09T11:46:38.721Z"
   },
   {
    "duration": 0,
    "start_time": "2023-06-09T11:46:38.722Z"
   },
   {
    "duration": 0,
    "start_time": "2023-06-09T11:46:38.723Z"
   },
   {
    "duration": 0,
    "start_time": "2023-06-09T11:46:38.725Z"
   },
   {
    "duration": 393,
    "start_time": "2023-06-09T11:47:07.210Z"
   },
   {
    "duration": 41,
    "start_time": "2023-06-09T11:47:14.652Z"
   },
   {
    "duration": 3894,
    "start_time": "2023-06-09T11:47:15.682Z"
   },
   {
    "duration": 3277,
    "start_time": "2023-06-09T11:47:19.578Z"
   },
   {
    "duration": 109,
    "start_time": "2023-06-09T11:47:22.857Z"
   },
   {
    "duration": 8,
    "start_time": "2023-06-09T11:52:19.873Z"
   },
   {
    "duration": 2432,
    "start_time": "2023-06-09T11:52:20.932Z"
   },
   {
    "duration": 1988,
    "start_time": "2023-06-09T11:52:23.366Z"
   },
   {
    "duration": 114,
    "start_time": "2023-06-09T11:52:26.993Z"
   },
   {
    "duration": 9,
    "start_time": "2023-06-09T11:53:03.167Z"
   },
   {
    "duration": 2179,
    "start_time": "2023-06-09T11:53:04.213Z"
   },
   {
    "duration": 1957,
    "start_time": "2023-06-09T11:53:06.394Z"
   },
   {
    "duration": 96,
    "start_time": "2023-06-09T11:53:08.353Z"
   },
   {
    "duration": 8,
    "start_time": "2023-06-09T11:53:17.894Z"
   },
   {
    "duration": 1675,
    "start_time": "2023-06-09T11:53:18.813Z"
   },
   {
    "duration": 1700,
    "start_time": "2023-06-09T11:53:21.272Z"
   },
   {
    "duration": 305,
    "start_time": "2023-06-09T11:53:37.968Z"
   },
   {
    "duration": 154,
    "start_time": "2023-06-09T11:53:45.933Z"
   },
   {
    "duration": 1041,
    "start_time": "2023-06-09T11:55:57.432Z"
   },
   {
    "duration": 3,
    "start_time": "2023-06-09T11:56:00.362Z"
   },
   {
    "duration": 1310,
    "start_time": "2023-06-09T11:56:02.475Z"
   },
   {
    "duration": 608,
    "start_time": "2023-06-09T11:56:03.788Z"
   },
   {
    "duration": 152,
    "start_time": "2023-06-09T11:56:04.398Z"
   },
   {
    "duration": 97,
    "start_time": "2023-06-09T11:56:04.553Z"
   },
   {
    "duration": 838,
    "start_time": "2023-06-09T11:56:04.653Z"
   },
   {
    "duration": 692,
    "start_time": "2023-06-09T11:56:05.493Z"
   },
   {
    "duration": 12,
    "start_time": "2023-06-09T11:56:06.188Z"
   },
   {
    "duration": 291,
    "start_time": "2023-06-09T11:56:06.202Z"
   },
   {
    "duration": 7,
    "start_time": "2023-06-09T11:56:07.767Z"
   },
   {
    "duration": 2330,
    "start_time": "2023-06-09T11:56:08.341Z"
   },
   {
    "duration": 1802,
    "start_time": "2023-06-09T11:56:10.673Z"
   },
   {
    "duration": 111,
    "start_time": "2023-06-09T11:56:12.477Z"
   },
   {
    "duration": 4002,
    "start_time": "2023-06-09T11:56:32.392Z"
   },
   {
    "duration": 2518,
    "start_time": "2023-06-09T11:56:52.315Z"
   },
   {
    "duration": 182,
    "start_time": "2023-06-09T11:57:25.295Z"
   },
   {
    "duration": 639,
    "start_time": "2023-06-09T11:57:35.181Z"
   },
   {
    "duration": 3,
    "start_time": "2023-06-09T11:57:37.287Z"
   },
   {
    "duration": 884,
    "start_time": "2023-06-09T11:57:37.907Z"
   },
   {
    "duration": 435,
    "start_time": "2023-06-09T11:57:38.851Z"
   },
   {
    "duration": 92,
    "start_time": "2023-06-09T11:57:39.289Z"
   },
   {
    "duration": 29,
    "start_time": "2023-06-09T11:57:39.575Z"
   },
   {
    "duration": 672,
    "start_time": "2023-06-09T11:57:40.295Z"
   },
   {
    "duration": 493,
    "start_time": "2023-06-09T11:57:40.995Z"
   },
   {
    "duration": 14,
    "start_time": "2023-06-09T11:57:42.574Z"
   },
   {
    "duration": 174,
    "start_time": "2023-06-09T11:57:43.002Z"
   },
   {
    "duration": 10,
    "start_time": "2023-06-09T11:57:43.980Z"
   },
   {
    "duration": 2415,
    "start_time": "2023-06-09T11:57:44.756Z"
   },
   {
    "duration": 2178,
    "start_time": "2023-06-09T11:57:47.173Z"
   },
   {
    "duration": 162,
    "start_time": "2023-06-09T11:57:49.353Z"
   },
   {
    "duration": 91,
    "start_time": "2023-06-09T11:58:13.927Z"
   },
   {
    "duration": 567,
    "start_time": "2023-06-09T11:58:48.645Z"
   },
   {
    "duration": 694,
    "start_time": "2023-06-09T11:59:46.284Z"
   },
   {
    "duration": 10,
    "start_time": "2023-06-09T11:59:47.066Z"
   },
   {
    "duration": 12,
    "start_time": "2023-06-09T12:00:10.321Z"
   },
   {
    "duration": 517,
    "start_time": "2023-06-09T12:00:35.564Z"
   },
   {
    "duration": 413,
    "start_time": "2023-06-09T12:00:37.992Z"
   },
   {
    "duration": 8,
    "start_time": "2023-06-09T12:00:39.533Z"
   },
   {
    "duration": 366,
    "start_time": "2023-06-09T12:00:58.304Z"
   },
   {
    "duration": 2,
    "start_time": "2023-06-09T12:02:35.193Z"
   },
   {
    "duration": 978,
    "start_time": "2023-06-09T12:02:36.613Z"
   },
   {
    "duration": 383,
    "start_time": "2023-06-09T12:02:38.072Z"
   },
   {
    "duration": 26,
    "start_time": "2023-06-09T12:02:38.993Z"
   },
   {
    "duration": 39,
    "start_time": "2023-06-09T12:02:39.393Z"
   },
   {
    "duration": 471,
    "start_time": "2023-06-09T12:02:40.185Z"
   },
   {
    "duration": 387,
    "start_time": "2023-06-09T12:02:40.964Z"
   },
   {
    "duration": 23,
    "start_time": "2023-06-09T12:02:43.193Z"
   },
   {
    "duration": 164,
    "start_time": "2023-06-09T12:02:43.393Z"
   },
   {
    "duration": 2822,
    "start_time": "2023-06-09T12:02:43.733Z"
   },
   {
    "duration": 1578,
    "start_time": "2023-06-09T12:02:46.558Z"
   },
   {
    "duration": 104,
    "start_time": "2023-06-09T12:03:26.813Z"
   },
   {
    "duration": 396,
    "start_time": "2023-06-09T12:03:33.312Z"
   },
   {
    "duration": 3,
    "start_time": "2023-06-09T12:03:33.711Z"
   },
   {
    "duration": 882,
    "start_time": "2023-06-09T12:03:34.033Z"
   },
   {
    "duration": 291,
    "start_time": "2023-06-09T12:03:34.917Z"
   },
   {
    "duration": 69,
    "start_time": "2023-06-09T12:03:35.210Z"
   },
   {
    "duration": 78,
    "start_time": "2023-06-09T12:03:35.282Z"
   },
   {
    "duration": 624,
    "start_time": "2023-06-09T12:03:35.363Z"
   },
   {
    "duration": 361,
    "start_time": "2023-06-09T12:03:35.989Z"
   },
   {
    "duration": 16,
    "start_time": "2023-06-09T12:03:37.413Z"
   },
   {
    "duration": 190,
    "start_time": "2023-06-09T12:03:38.193Z"
   },
   {
    "duration": 2561,
    "start_time": "2023-06-09T12:03:39.273Z"
   },
   {
    "duration": 1091,
    "start_time": "2023-06-09T12:03:41.836Z"
   },
   {
    "duration": 1567,
    "start_time": "2023-06-09T12:04:46.533Z"
   },
   {
    "duration": 3,
    "start_time": "2023-06-09T12:04:48.103Z"
   },
   {
    "duration": 16647,
    "start_time": "2023-06-09T12:04:48.107Z"
   },
   {
    "duration": 11493,
    "start_time": "2023-06-09T12:05:04.757Z"
   },
   {
    "duration": 128,
    "start_time": "2023-06-09T12:05:16.254Z"
   },
   {
    "duration": 9177,
    "start_time": "2023-06-09T12:05:16.385Z"
   },
   {
    "duration": 9106,
    "start_time": "2023-06-09T12:05:25.565Z"
   },
   {
    "duration": 193,
    "start_time": "2023-06-09T12:05:34.673Z"
   },
   {
    "duration": 1716,
    "start_time": "2023-06-09T12:05:34.868Z"
   },
   {
    "duration": 316,
    "start_time": "2023-06-09T12:05:36.651Z"
   },
   {
    "duration": 1982,
    "start_time": "2023-06-09T12:05:36.969Z"
   },
   {
    "duration": 6,
    "start_time": "2023-06-09T12:05:38.953Z"
   },
   {
    "duration": 2997,
    "start_time": "2023-06-09T12:05:38.961Z"
   },
   {
    "duration": 888,
    "start_time": "2023-06-09T12:05:41.963Z"
   },
   {
    "duration": 104,
    "start_time": "2023-06-09T12:05:42.853Z"
   },
   {
    "duration": 112,
    "start_time": "2023-06-09T12:05:42.959Z"
   },
   {
    "duration": 1283,
    "start_time": "2023-06-09T12:05:43.075Z"
   },
   {
    "duration": 900,
    "start_time": "2023-06-09T12:05:44.360Z"
   },
   {
    "duration": 20,
    "start_time": "2023-06-09T12:05:45.261Z"
   },
   {
    "duration": 400,
    "start_time": "2023-06-09T12:05:45.283Z"
   },
   {
    "duration": 169,
    "start_time": "2023-06-09T12:05:45.685Z"
   },
   {
    "duration": 4203,
    "start_time": "2023-06-09T12:05:45.856Z"
   },
   {
    "duration": 2998,
    "start_time": "2023-06-09T12:05:50.060Z"
   },
   {
    "duration": 397,
    "start_time": "2023-06-09T12:05:53.060Z"
   },
   {
    "duration": 326,
    "start_time": "2023-06-09T12:05:53.461Z"
   },
   {
    "duration": 2907,
    "start_time": "2023-06-09T12:05:53.850Z"
   },
   {
    "duration": 2422,
    "start_time": "2023-06-09T12:05:56.759Z"
   },
   {
    "duration": 117,
    "start_time": "2023-06-09T12:05:59.183Z"
   },
   {
    "duration": 0,
    "start_time": "2023-06-09T12:05:59.302Z"
   },
   {
    "duration": 34,
    "start_time": "2023-06-09T12:08:18.017Z"
   },
   {
    "duration": 17,
    "start_time": "2023-06-09T12:08:25.781Z"
   },
   {
    "duration": 2125,
    "start_time": "2023-06-09T12:08:29.327Z"
   },
   {
    "duration": 2027,
    "start_time": "2023-06-09T12:08:31.455Z"
   },
   {
    "duration": 13,
    "start_time": "2023-06-09T12:08:33.485Z"
   },
   {
    "duration": 1719,
    "start_time": "2023-06-09T12:09:37.244Z"
   },
   {
    "duration": 26,
    "start_time": "2023-06-09T12:10:46.330Z"
   },
   {
    "duration": 3,
    "start_time": "2023-06-09T12:10:48.083Z"
   },
   {
    "duration": 5,
    "start_time": "2023-06-09T12:10:48.633Z"
   },
   {
    "duration": 699,
    "start_time": "2023-06-09T12:10:49.100Z"
   },
   {
    "duration": 8,
    "start_time": "2023-06-09T12:10:49.851Z"
   },
   {
    "duration": 2351,
    "start_time": "2023-06-09T12:10:49.916Z"
   },
   {
    "duration": 1854,
    "start_time": "2023-06-09T12:10:52.269Z"
   },
   {
    "duration": 125,
    "start_time": "2023-06-09T12:10:54.125Z"
   },
   {
    "duration": 937,
    "start_time": "2023-06-09T12:10:54.253Z"
   },
   {
    "duration": 186,
    "start_time": "2023-06-09T12:10:55.192Z"
   },
   {
    "duration": 1017,
    "start_time": "2023-06-09T12:10:55.380Z"
   },
   {
    "duration": 5,
    "start_time": "2023-06-09T12:10:56.399Z"
   },
   {
    "duration": 1218,
    "start_time": "2023-06-09T12:10:56.451Z"
   },
   {
    "duration": 519,
    "start_time": "2023-06-09T12:10:57.671Z"
   },
   {
    "duration": 105,
    "start_time": "2023-06-09T12:10:58.251Z"
   },
   {
    "duration": 111,
    "start_time": "2023-06-09T12:10:58.357Z"
   },
   {
    "duration": 803,
    "start_time": "2023-06-09T12:10:58.471Z"
   },
   {
    "duration": 587,
    "start_time": "2023-06-09T12:10:59.276Z"
   },
   {
    "duration": 17,
    "start_time": "2023-06-09T12:10:59.865Z"
   },
   {
    "duration": 218,
    "start_time": "2023-06-09T12:10:59.951Z"
   },
   {
    "duration": 11,
    "start_time": "2023-06-09T12:11:00.172Z"
   },
   {
    "duration": 2372,
    "start_time": "2023-06-09T12:11:00.185Z"
   },
   {
    "duration": 2007,
    "start_time": "2023-06-09T12:11:02.560Z"
   },
   {
    "duration": 229,
    "start_time": "2023-06-09T12:11:04.570Z"
   },
   {
    "duration": 233,
    "start_time": "2023-06-09T12:11:04.851Z"
   },
   {
    "duration": 1414,
    "start_time": "2023-06-09T12:11:05.085Z"
   },
   {
    "duration": 0,
    "start_time": "2023-06-09T12:11:06.501Z"
   },
   {
    "duration": 1412,
    "start_time": "2023-06-09T12:11:36.439Z"
   },
   {
    "duration": 1438,
    "start_time": "2023-06-09T12:11:37.954Z"
   },
   {
    "duration": 10,
    "start_time": "2023-06-09T12:11:41.098Z"
   },
   {
    "duration": 9,
    "start_time": "2023-06-09T12:11:42.773Z"
   },
   {
    "duration": 171,
    "start_time": "2023-06-09T12:12:21.183Z"
   },
   {
    "duration": 72,
    "start_time": "2023-06-09T12:12:22.184Z"
   },
   {
    "duration": 243,
    "start_time": "2023-06-09T12:19:18.428Z"
   },
   {
    "duration": 1761,
    "start_time": "2023-06-10T05:45:01.409Z"
   },
   {
    "duration": 3,
    "start_time": "2023-06-10T05:45:03.173Z"
   },
   {
    "duration": 14970,
    "start_time": "2023-06-10T05:45:03.177Z"
   },
   {
    "duration": 8191,
    "start_time": "2023-06-10T05:45:18.149Z"
   },
   {
    "duration": 95,
    "start_time": "2023-06-10T05:45:26.342Z"
   },
   {
    "duration": 6398,
    "start_time": "2023-06-10T05:45:26.439Z"
   },
   {
    "duration": 6906,
    "start_time": "2023-06-10T05:45:32.839Z"
   },
   {
    "duration": 194,
    "start_time": "2023-06-10T05:45:39.747Z"
   },
   {
    "duration": 1495,
    "start_time": "2023-06-10T05:45:39.943Z"
   },
   {
    "duration": 310,
    "start_time": "2023-06-10T05:45:41.439Z"
   },
   {
    "duration": 1490,
    "start_time": "2023-06-10T05:45:41.751Z"
   },
   {
    "duration": 3,
    "start_time": "2023-06-10T05:45:43.243Z"
   },
   {
    "duration": 13997,
    "start_time": "2023-06-10T05:45:43.248Z"
   },
   {
    "duration": 886,
    "start_time": "2023-06-10T05:45:57.248Z"
   },
   {
    "duration": 95,
    "start_time": "2023-06-10T05:45:58.136Z"
   },
   {
    "duration": 98,
    "start_time": "2023-06-10T05:45:58.233Z"
   },
   {
    "duration": 1030,
    "start_time": "2023-06-10T05:45:58.333Z"
   },
   {
    "duration": 724,
    "start_time": "2023-06-10T05:45:59.424Z"
   },
   {
    "duration": 16,
    "start_time": "2023-06-10T05:46:00.149Z"
   },
   {
    "duration": 331,
    "start_time": "2023-06-10T05:46:00.225Z"
   },
   {
    "duration": 3,
    "start_time": "2023-06-10T05:46:00.557Z"
   },
   {
    "duration": 178,
    "start_time": "2023-06-10T05:46:00.624Z"
   },
   {
    "duration": 3442,
    "start_time": "2023-06-10T05:46:00.804Z"
   },
   {
    "duration": 2379,
    "start_time": "2023-06-10T05:46:04.248Z"
   },
   {
    "duration": 326,
    "start_time": "2023-06-10T05:46:06.629Z"
   },
   {
    "duration": 283,
    "start_time": "2023-06-10T05:46:06.957Z"
   },
   {
    "duration": 2017,
    "start_time": "2023-06-10T05:46:07.242Z"
   },
   {
    "duration": 1884,
    "start_time": "2023-06-10T05:46:09.261Z"
   },
   {
    "duration": 279,
    "start_time": "2023-06-10T05:46:11.147Z"
   },
   {
    "duration": 111,
    "start_time": "2023-06-10T05:46:11.428Z"
   },
   {
    "duration": 1001,
    "start_time": "2023-06-10T05:46:11.541Z"
   },
   {
    "duration": 7,
    "start_time": "2023-06-10T05:51:09.880Z"
   },
   {
    "duration": 148,
    "start_time": "2023-06-10T05:51:10.829Z"
   },
   {
    "duration": 23,
    "start_time": "2023-06-10T05:51:11.270Z"
   },
   {
    "duration": 26,
    "start_time": "2023-06-10T05:51:43.938Z"
   },
   {
    "duration": 10,
    "start_time": "2023-06-10T05:52:06.222Z"
   },
   {
    "duration": 7,
    "start_time": "2023-06-10T05:52:20.658Z"
   },
   {
    "duration": 5,
    "start_time": "2023-06-10T05:52:23.069Z"
   },
   {
    "duration": 28,
    "start_time": "2023-06-10T05:52:24.729Z"
   },
   {
    "duration": 1435,
    "start_time": "2023-06-10T05:52:41.782Z"
   },
   {
    "duration": 8,
    "start_time": "2023-06-10T05:52:43.219Z"
   },
   {
    "duration": 16625,
    "start_time": "2023-06-10T05:52:43.229Z"
   },
   {
    "duration": 9406,
    "start_time": "2023-06-10T05:52:59.857Z"
   },
   {
    "duration": 195,
    "start_time": "2023-06-10T05:53:09.332Z"
   },
   {
    "duration": 8525,
    "start_time": "2023-06-10T05:53:09.530Z"
   },
   {
    "duration": 6712,
    "start_time": "2023-06-10T05:53:18.056Z"
   },
   {
    "duration": 255,
    "start_time": "2023-06-10T05:53:24.771Z"
   },
   {
    "duration": 1714,
    "start_time": "2023-06-10T05:53:25.031Z"
   },
   {
    "duration": 408,
    "start_time": "2023-06-10T05:53:26.747Z"
   },
   {
    "duration": 1883,
    "start_time": "2023-06-10T05:53:27.157Z"
   },
   {
    "duration": 4,
    "start_time": "2023-06-10T05:53:29.042Z"
   },
   {
    "duration": 3018,
    "start_time": "2023-06-10T05:53:29.049Z"
   },
   {
    "duration": 1059,
    "start_time": "2023-06-10T05:53:32.070Z"
   },
   {
    "duration": 118,
    "start_time": "2023-06-10T05:53:33.131Z"
   },
   {
    "duration": 112,
    "start_time": "2023-06-10T05:53:33.250Z"
   },
   {
    "duration": 1374,
    "start_time": "2023-06-10T05:53:33.364Z"
   },
   {
    "duration": 906,
    "start_time": "2023-06-10T05:53:34.744Z"
   },
   {
    "duration": 14,
    "start_time": "2023-06-10T05:53:35.651Z"
   },
   {
    "duration": 499,
    "start_time": "2023-06-10T05:53:35.667Z"
   },
   {
    "duration": 4,
    "start_time": "2023-06-10T05:53:36.224Z"
   },
   {
    "duration": 100,
    "start_time": "2023-06-10T05:53:36.230Z"
   },
   {
    "duration": 8,
    "start_time": "2023-06-10T05:53:36.333Z"
   },
   {
    "duration": 4005,
    "start_time": "2023-06-10T05:53:36.343Z"
   },
   {
    "duration": 3105,
    "start_time": "2023-06-10T05:53:40.350Z"
   },
   {
    "duration": 497,
    "start_time": "2023-06-10T05:53:43.457Z"
   },
   {
    "duration": 300,
    "start_time": "2023-06-10T05:53:43.956Z"
   },
   {
    "duration": 3388,
    "start_time": "2023-06-10T05:53:44.258Z"
   },
   {
    "duration": 2403,
    "start_time": "2023-06-10T05:53:47.651Z"
   },
   {
    "duration": 287,
    "start_time": "2023-06-10T05:53:50.056Z"
   },
   {
    "duration": 127,
    "start_time": "2023-06-10T05:53:50.345Z"
   },
   {
    "duration": 1000,
    "start_time": "2023-06-10T05:53:50.474Z"
   },
   {
    "duration": 1442,
    "start_time": "2023-06-10T05:56:48.515Z"
   },
   {
    "duration": 3,
    "start_time": "2023-06-10T05:56:49.959Z"
   },
   {
    "duration": 16686,
    "start_time": "2023-06-10T05:56:49.963Z"
   },
   {
    "duration": 10495,
    "start_time": "2023-06-10T05:57:06.652Z"
   },
   {
    "duration": 114,
    "start_time": "2023-06-10T05:57:17.150Z"
   },
   {
    "duration": 8260,
    "start_time": "2023-06-10T05:57:17.265Z"
   },
   {
    "duration": 5,
    "start_time": "2023-06-10T05:57:25.528Z"
   },
   {
    "duration": 297,
    "start_time": "2023-06-10T05:57:25.536Z"
   },
   {
    "duration": 1901,
    "start_time": "2023-06-10T05:57:25.834Z"
   },
   {
    "duration": 504,
    "start_time": "2023-06-10T05:57:27.740Z"
   },
   {
    "duration": 1984,
    "start_time": "2023-06-10T05:57:28.247Z"
   },
   {
    "duration": 3,
    "start_time": "2023-06-10T05:57:30.234Z"
   },
   {
    "duration": 3301,
    "start_time": "2023-06-10T05:57:30.240Z"
   },
   {
    "duration": 1286,
    "start_time": "2023-06-10T05:57:33.544Z"
   },
   {
    "duration": 122,
    "start_time": "2023-06-10T05:57:34.832Z"
   },
   {
    "duration": 175,
    "start_time": "2023-06-10T05:57:34.956Z"
   },
   {
    "duration": 1627,
    "start_time": "2023-06-10T05:57:35.133Z"
   },
   {
    "duration": 1066,
    "start_time": "2023-06-10T05:57:36.762Z"
   },
   {
    "duration": 24,
    "start_time": "2023-06-10T05:57:37.831Z"
   },
   {
    "duration": 577,
    "start_time": "2023-06-10T05:57:37.856Z"
   },
   {
    "duration": 4,
    "start_time": "2023-06-10T05:57:38.435Z"
   },
   {
    "duration": 119,
    "start_time": "2023-06-10T05:57:38.441Z"
   },
   {
    "duration": 67,
    "start_time": "2023-06-10T05:57:38.562Z"
   },
   {
    "duration": 4603,
    "start_time": "2023-06-10T05:57:38.632Z"
   },
   {
    "duration": 3024,
    "start_time": "2023-06-10T05:57:43.238Z"
   },
   {
    "duration": 477,
    "start_time": "2023-06-10T05:57:46.263Z"
   },
   {
    "duration": 285,
    "start_time": "2023-06-10T05:57:46.742Z"
   },
   {
    "duration": 4145,
    "start_time": "2023-06-10T05:57:47.031Z"
   },
   {
    "duration": 2337,
    "start_time": "2023-06-10T05:57:51.226Z"
   },
   {
    "duration": 380,
    "start_time": "2023-06-10T05:57:53.565Z"
   },
   {
    "duration": 422,
    "start_time": "2023-06-10T05:57:53.947Z"
   },
   {
    "duration": 1000,
    "start_time": "2023-06-10T05:57:54.371Z"
   },
   {
    "duration": 1377,
    "start_time": "2023-06-10T05:59:22.684Z"
   },
   {
    "duration": 3,
    "start_time": "2023-06-10T05:59:24.062Z"
   },
   {
    "duration": 16403,
    "start_time": "2023-06-10T05:59:24.067Z"
   },
   {
    "duration": 9888,
    "start_time": "2023-06-10T05:59:40.472Z"
   },
   {
    "duration": 105,
    "start_time": "2023-06-10T05:59:50.426Z"
   },
   {
    "duration": 8299,
    "start_time": "2023-06-10T05:59:50.533Z"
   },
   {
    "duration": 4,
    "start_time": "2023-06-10T05:59:58.835Z"
   },
   {
    "duration": 296,
    "start_time": "2023-06-10T05:59:58.841Z"
   },
   {
    "duration": 1883,
    "start_time": "2023-06-10T05:59:59.143Z"
   },
   {
    "duration": 600,
    "start_time": "2023-06-10T06:00:01.027Z"
   },
   {
    "duration": 2115,
    "start_time": "2023-06-10T06:00:01.630Z"
   },
   {
    "duration": 3,
    "start_time": "2023-06-10T06:00:03.750Z"
   },
   {
    "duration": 3286,
    "start_time": "2023-06-10T06:00:03.756Z"
   },
   {
    "duration": 1187,
    "start_time": "2023-06-10T06:00:07.046Z"
   },
   {
    "duration": 190,
    "start_time": "2023-06-10T06:00:08.235Z"
   },
   {
    "duration": 122,
    "start_time": "2023-06-10T06:00:08.428Z"
   },
   {
    "duration": 1595,
    "start_time": "2023-06-10T06:00:08.552Z"
   },
   {
    "duration": 1093,
    "start_time": "2023-06-10T06:00:10.150Z"
   },
   {
    "duration": 15,
    "start_time": "2023-06-10T06:00:11.246Z"
   },
   {
    "duration": 514,
    "start_time": "2023-06-10T06:00:11.326Z"
   },
   {
    "duration": 6,
    "start_time": "2023-06-10T06:00:11.842Z"
   },
   {
    "duration": 115,
    "start_time": "2023-06-10T06:00:11.850Z"
   },
   {
    "duration": 8,
    "start_time": "2023-06-10T06:00:11.967Z"
   },
   {
    "duration": 4967,
    "start_time": "2023-06-10T06:00:11.977Z"
   },
   {
    "duration": 3101,
    "start_time": "2023-06-10T06:00:16.949Z"
   },
   {
    "duration": 487,
    "start_time": "2023-06-10T06:00:20.052Z"
   },
   {
    "duration": 286,
    "start_time": "2023-06-10T06:00:20.540Z"
   },
   {
    "duration": 127,
    "start_time": "2023-06-10T06:01:42.618Z"
   },
   {
    "duration": 3,
    "start_time": "2023-06-10T06:02:10.684Z"
   },
   {
    "duration": 1050,
    "start_time": "2023-06-10T06:02:13.307Z"
   },
   {
    "duration": 4,
    "start_time": "2023-06-10T06:12:28.397Z"
   },
   {
    "duration": 4805,
    "start_time": "2023-06-10T06:12:29.028Z"
   },
   {
    "duration": 2682,
    "start_time": "2023-06-10T06:14:31.867Z"
   },
   {
    "duration": 3,
    "start_time": "2023-06-10T06:14:34.551Z"
   },
   {
    "duration": 2567,
    "start_time": "2023-06-10T06:14:40.462Z"
   },
   {
    "duration": 1109,
    "start_time": "2023-06-10T06:14:43.031Z"
   },
   {
    "duration": 58,
    "start_time": "2023-06-10T06:14:48.284Z"
   },
   {
    "duration": 766,
    "start_time": "2023-06-10T06:17:55.890Z"
   },
   {
    "duration": 882,
    "start_time": "2023-06-10T06:17:59.449Z"
   },
   {
    "duration": 386,
    "start_time": "2023-06-10T06:21:05.366Z"
   },
   {
    "duration": 1137,
    "start_time": "2023-06-10T06:24:58.324Z"
   },
   {
    "duration": 3,
    "start_time": "2023-06-10T06:24:59.463Z"
   },
   {
    "duration": 15782,
    "start_time": "2023-06-10T06:24:59.467Z"
   },
   {
    "duration": 8591,
    "start_time": "2023-06-10T06:25:15.251Z"
   },
   {
    "duration": 100,
    "start_time": "2023-06-10T06:25:23.846Z"
   },
   {
    "duration": 6185,
    "start_time": "2023-06-10T06:25:23.948Z"
   },
   {
    "duration": 6001,
    "start_time": "2023-06-10T06:25:30.135Z"
   },
   {
    "duration": 187,
    "start_time": "2023-06-10T06:25:36.138Z"
   },
   {
    "duration": 1328,
    "start_time": "2023-06-10T06:25:36.326Z"
   },
   {
    "duration": 294,
    "start_time": "2023-06-10T06:25:37.656Z"
   },
   {
    "duration": 1491,
    "start_time": "2023-06-10T06:25:37.952Z"
   },
   {
    "duration": 3,
    "start_time": "2023-06-10T06:25:39.445Z"
   },
   {
    "duration": 2412,
    "start_time": "2023-06-10T06:25:39.450Z"
   },
   {
    "duration": 768,
    "start_time": "2023-06-10T06:25:41.866Z"
   },
   {
    "duration": 89,
    "start_time": "2023-06-10T06:25:42.636Z"
   },
   {
    "duration": 36,
    "start_time": "2023-06-10T06:25:42.726Z"
   },
   {
    "duration": 1070,
    "start_time": "2023-06-10T06:25:42.763Z"
   },
   {
    "duration": 800,
    "start_time": "2023-06-10T06:25:43.834Z"
   },
   {
    "duration": 18,
    "start_time": "2023-06-10T06:25:44.636Z"
   },
   {
    "duration": 475,
    "start_time": "2023-06-10T06:25:44.657Z"
   },
   {
    "duration": 31,
    "start_time": "2023-06-10T06:25:45.133Z"
   },
   {
    "duration": 3163,
    "start_time": "2023-06-10T06:25:45.165Z"
   },
   {
    "duration": 2227,
    "start_time": "2023-06-10T06:25:48.329Z"
   },
   {
    "duration": 401,
    "start_time": "2023-06-10T06:25:50.557Z"
   },
   {
    "duration": 285,
    "start_time": "2023-06-10T06:25:50.960Z"
   },
   {
    "duration": 2393,
    "start_time": "2023-06-10T06:25:51.247Z"
   },
   {
    "duration": 2084,
    "start_time": "2023-06-10T06:25:53.642Z"
   },
   {
    "duration": 205,
    "start_time": "2023-06-10T06:25:55.728Z"
   },
   {
    "duration": 111,
    "start_time": "2023-06-10T06:25:55.935Z"
   },
   {
    "duration": 1001,
    "start_time": "2023-06-10T06:25:56.047Z"
   },
   {
    "duration": 1492,
    "start_time": "2023-06-10T07:47:11.602Z"
   },
   {
    "duration": 3,
    "start_time": "2023-06-10T07:47:13.096Z"
   },
   {
    "duration": 19932,
    "start_time": "2023-06-10T07:47:13.100Z"
   },
   {
    "duration": 9996,
    "start_time": "2023-06-10T07:47:33.035Z"
   },
   {
    "duration": 100,
    "start_time": "2023-06-10T07:47:43.033Z"
   },
   {
    "duration": 7581,
    "start_time": "2023-06-10T07:47:43.135Z"
   },
   {
    "duration": 7209,
    "start_time": "2023-06-10T07:47:50.718Z"
   },
   {
    "duration": 117,
    "start_time": "2023-06-10T07:47:57.929Z"
   },
   {
    "duration": 1,
    "start_time": "2023-06-10T07:47:58.047Z"
   },
   {
    "duration": 0,
    "start_time": "2023-06-10T07:47:58.049Z"
   },
   {
    "duration": 937,
    "start_time": "2023-06-10T07:49:10.600Z"
   },
   {
    "duration": 1342,
    "start_time": "2023-06-10T07:49:19.283Z"
   },
   {
    "duration": 299,
    "start_time": "2023-06-10T07:49:26.151Z"
   },
   {
    "duration": 1509,
    "start_time": "2023-06-10T07:49:30.019Z"
   },
   {
    "duration": 3,
    "start_time": "2023-06-10T07:49:31.530Z"
   },
   {
    "duration": 2646,
    "start_time": "2023-06-10T07:49:32.793Z"
   },
   {
    "duration": 981,
    "start_time": "2023-06-10T07:49:35.441Z"
   },
   {
    "duration": 32,
    "start_time": "2023-06-10T07:49:37.641Z"
   },
   {
    "duration": 38,
    "start_time": "2023-06-10T07:49:38.294Z"
   },
   {
    "duration": 1130,
    "start_time": "2023-06-10T07:49:40.794Z"
   },
   {
    "duration": 791,
    "start_time": "2023-06-10T07:49:41.926Z"
   },
   {
    "duration": 74,
    "start_time": "2023-06-10T07:49:45.669Z"
   },
   {
    "duration": 8,
    "start_time": "2023-06-10T07:49:46.249Z"
   },
   {
    "duration": 3540,
    "start_time": "2023-06-10T07:49:47.807Z"
   },
   {
    "duration": 2500,
    "start_time": "2023-06-10T07:49:51.349Z"
   },
   {
    "duration": 419,
    "start_time": "2023-06-10T07:49:53.916Z"
   },
   {
    "duration": 9,
    "start_time": "2023-06-10T07:49:54.336Z"
   },
   {
    "duration": 1058,
    "start_time": "2023-06-10T07:49:57.184Z"
   },
   {
    "duration": 70,
    "start_time": "2023-06-10T07:49:58.245Z"
   },
   {
    "duration": 287,
    "start_time": "2023-06-10T07:50:22.232Z"
   },
   {
    "duration": 853,
    "start_time": "2023-06-10T07:50:25.375Z"
   },
   {
    "duration": 658,
    "start_time": "2023-06-10T07:50:26.785Z"
   },
   {
    "duration": 209,
    "start_time": "2023-06-10T07:50:29.713Z"
   },
   {
    "duration": 63,
    "start_time": "2023-06-10T07:50:31.060Z"
   },
   {
    "duration": 859,
    "start_time": "2023-06-10T07:50:38.275Z"
   },
   {
    "duration": 2047,
    "start_time": "2023-06-10T18:58:42.490Z"
   },
   {
    "duration": 8,
    "start_time": "2023-06-10T18:58:44.539Z"
   },
   {
    "duration": 25395,
    "start_time": "2023-06-10T18:58:44.554Z"
   },
   {
    "duration": 14080,
    "start_time": "2023-06-10T18:59:09.951Z"
   },
   {
    "duration": 206,
    "start_time": "2023-06-10T18:59:24.038Z"
   },
   {
    "duration": 10883,
    "start_time": "2023-06-10T18:59:24.246Z"
   },
   {
    "duration": 11481,
    "start_time": "2023-06-10T18:59:35.134Z"
   },
   {
    "duration": 1967,
    "start_time": "2023-06-10T18:59:46.618Z"
   },
   {
    "duration": 2180,
    "start_time": "2023-06-10T18:59:48.587Z"
   },
   {
    "duration": 580,
    "start_time": "2023-06-10T18:59:50.769Z"
   },
   {
    "duration": 2688,
    "start_time": "2023-06-10T18:59:51.351Z"
   },
   {
    "duration": 17,
    "start_time": "2023-06-10T18:59:54.047Z"
   },
   {
    "duration": 4291,
    "start_time": "2023-06-10T18:59:54.070Z"
   },
   {
    "duration": 1271,
    "start_time": "2023-06-10T18:59:58.364Z"
   },
   {
    "duration": 148,
    "start_time": "2023-06-10T18:59:59.637Z"
   },
   {
    "duration": 86,
    "start_time": "2023-06-10T18:59:59.788Z"
   },
   {
    "duration": 1869,
    "start_time": "2023-06-10T18:59:59.876Z"
   },
   {
    "duration": 1683,
    "start_time": "2023-06-10T19:00:01.747Z"
   },
   {
    "duration": 168,
    "start_time": "2023-06-10T19:00:03.432Z"
   },
   {
    "duration": 20,
    "start_time": "2023-06-10T19:00:03.603Z"
   },
   {
    "duration": 6375,
    "start_time": "2023-06-10T19:00:03.625Z"
   },
   {
    "duration": 3665,
    "start_time": "2023-06-10T19:00:10.004Z"
   },
   {
    "duration": 673,
    "start_time": "2023-06-10T19:00:13.677Z"
   },
   {
    "duration": 569,
    "start_time": "2023-06-10T19:00:14.362Z"
   },
   {
    "duration": 1703,
    "start_time": "2023-06-10T19:00:14.934Z"
   },
   {
    "duration": 1649,
    "start_time": "2023-06-10T19:00:16.639Z"
   },
   {
    "duration": 482,
    "start_time": "2023-06-10T19:00:18.291Z"
   },
   {
    "duration": 281,
    "start_time": "2023-06-10T19:00:18.785Z"
   },
   {
    "duration": 6,
    "start_time": "2023-06-10T19:00:35.299Z"
   },
   {
    "duration": 1488,
    "start_time": "2023-06-10T19:00:35.724Z"
   },
   {
    "duration": 10,
    "start_time": "2023-06-10T19:01:06.956Z"
   },
   {
    "duration": 12,
    "start_time": "2023-06-10T19:01:07.446Z"
   },
   {
    "duration": 3385,
    "start_time": "2023-06-10T19:01:09.011Z"
   },
   {
    "duration": 3224,
    "start_time": "2023-06-10T19:01:12.441Z"
   },
   {
    "duration": 395,
    "start_time": "2023-06-10T19:01:17.503Z"
   },
   {
    "duration": 376,
    "start_time": "2023-06-10T19:01:18.117Z"
   },
   {
    "duration": 17,
    "start_time": "2023-06-10T19:01:22.010Z"
   },
   {
    "duration": 1525,
    "start_time": "2023-06-10T19:01:23.112Z"
   },
   {
    "duration": 1415,
    "start_time": "2023-06-10T19:01:32.938Z"
   },
   {
    "duration": 1086,
    "start_time": "2023-06-10T19:01:34.356Z"
   },
   {
    "duration": 232,
    "start_time": "2023-06-10T19:01:37.197Z"
   },
   {
    "duration": 265,
    "start_time": "2023-06-10T19:01:41.379Z"
   },
   {
    "duration": 1219,
    "start_time": "2023-06-10T19:01:44.458Z"
   },
   {
    "duration": 8997,
    "start_time": "2023-06-10T19:03:54.090Z"
   },
   {
    "duration": 9,
    "start_time": "2023-06-10T19:04:03.100Z"
   },
   {
    "duration": 31701,
    "start_time": "2023-06-10T19:04:03.117Z"
   },
   {
    "duration": 16758,
    "start_time": "2023-06-10T19:04:34.821Z"
   },
   {
    "duration": 189,
    "start_time": "2023-06-10T19:04:51.624Z"
   },
   {
    "duration": 11284,
    "start_time": "2023-06-10T19:04:51.815Z"
   },
   {
    "duration": 3,
    "start_time": "2023-06-10T19:05:03.101Z"
   },
   {
    "duration": 3350,
    "start_time": "2023-06-10T19:05:03.107Z"
   },
   {
    "duration": 3052,
    "start_time": "2023-06-10T19:05:06.459Z"
   },
   {
    "duration": 836,
    "start_time": "2023-06-10T19:05:09.529Z"
   },
   {
    "duration": 3261,
    "start_time": "2023-06-10T19:05:10.384Z"
   },
   {
    "duration": 11,
    "start_time": "2023-06-10T19:05:13.651Z"
   },
   {
    "duration": 5760,
    "start_time": "2023-06-10T19:05:13.665Z"
   },
   {
    "duration": 2417,
    "start_time": "2023-06-10T19:05:19.428Z"
   },
   {
    "duration": 257,
    "start_time": "2023-06-10T19:05:21.847Z"
   },
   {
    "duration": 221,
    "start_time": "2023-06-10T19:05:22.110Z"
   },
   {
    "duration": 2483,
    "start_time": "2023-06-10T19:05:22.334Z"
   },
   {
    "duration": 1473,
    "start_time": "2023-06-10T19:05:24.819Z"
   },
   {
    "duration": 352,
    "start_time": "2023-06-10T19:05:26.294Z"
   },
   {
    "duration": 33,
    "start_time": "2023-06-10T19:05:26.649Z"
   },
   {
    "duration": 6960,
    "start_time": "2023-06-10T19:05:26.688Z"
   },
   {
    "duration": 3797,
    "start_time": "2023-06-10T19:05:33.660Z"
   },
   {
    "duration": 825,
    "start_time": "2023-06-10T19:05:37.479Z"
   },
   {
    "duration": 535,
    "start_time": "2023-06-10T19:05:38.308Z"
   },
   {
    "duration": 13,
    "start_time": "2023-06-10T19:05:38.845Z"
   },
   {
    "duration": 4247,
    "start_time": "2023-06-10T19:05:38.869Z"
   },
   {
    "duration": 1212,
    "start_time": "2023-06-10T19:05:43.129Z"
   },
   {
    "duration": 1257,
    "start_time": "2023-06-10T19:05:44.344Z"
   },
   {
    "duration": 363,
    "start_time": "2023-06-10T19:05:45.603Z"
   },
   {
    "duration": 314,
    "start_time": "2023-06-10T19:05:45.968Z"
   },
   {
    "duration": 1012,
    "start_time": "2023-06-10T19:05:46.284Z"
   },
   {
    "duration": 2296,
    "start_time": "2023-06-10T19:06:34.115Z"
   },
   {
    "duration": 5,
    "start_time": "2023-06-10T19:06:36.414Z"
   },
   {
    "duration": 25814,
    "start_time": "2023-06-10T19:06:36.423Z"
   },
   {
    "duration": 22814,
    "start_time": "2023-06-10T19:07:02.239Z"
   },
   {
    "duration": 253,
    "start_time": "2023-06-10T19:07:25.106Z"
   },
   {
    "duration": 17959,
    "start_time": "2023-06-10T19:07:25.361Z"
   },
   {
    "duration": 12577,
    "start_time": "2023-06-10T19:07:43.332Z"
   },
   {
    "duration": 1742,
    "start_time": "2023-06-10T19:07:55.936Z"
   },
   {
    "duration": 2578,
    "start_time": "2023-06-10T19:07:57.690Z"
   },
   {
    "duration": 577,
    "start_time": "2023-06-10T19:08:00.273Z"
   },
   {
    "duration": 3030,
    "start_time": "2023-06-10T19:08:00.852Z"
   },
   {
    "duration": 64,
    "start_time": "2023-06-10T19:08:03.884Z"
   },
   {
    "duration": 4299,
    "start_time": "2023-06-10T19:08:03.950Z"
   },
   {
    "duration": 1661,
    "start_time": "2023-06-10T19:08:08.253Z"
   },
   {
    "duration": 113,
    "start_time": "2023-06-10T19:08:09.916Z"
   },
   {
    "duration": 245,
    "start_time": "2023-06-10T19:08:10.031Z"
   },
   {
    "duration": 1878,
    "start_time": "2023-06-10T19:08:10.278Z"
   },
   {
    "duration": 1565,
    "start_time": "2023-06-10T19:08:12.158Z"
   },
   {
    "duration": 169,
    "start_time": "2023-06-10T19:08:13.729Z"
   },
   {
    "duration": 47,
    "start_time": "2023-06-10T19:08:13.900Z"
   },
   {
    "duration": 7211,
    "start_time": "2023-06-10T19:08:13.949Z"
   },
   {
    "duration": 4304,
    "start_time": "2023-06-10T19:08:21.181Z"
   },
   {
    "duration": 695,
    "start_time": "2023-06-10T19:08:25.498Z"
   },
   {
    "duration": 642,
    "start_time": "2023-06-10T19:08:26.195Z"
   },
   {
    "duration": 22,
    "start_time": "2023-06-10T19:08:26.839Z"
   },
   {
    "duration": 2322,
    "start_time": "2023-06-10T19:08:26.863Z"
   },
   {
    "duration": 1572,
    "start_time": "2023-06-10T19:08:29.190Z"
   },
   {
    "duration": 1212,
    "start_time": "2023-06-10T19:08:30.764Z"
   },
   {
    "duration": 296,
    "start_time": "2023-06-10T19:08:31.978Z"
   },
   {
    "duration": 209,
    "start_time": "2023-06-10T19:08:32.276Z"
   },
   {
    "duration": 1011,
    "start_time": "2023-06-10T19:08:32.486Z"
   },
   {
    "duration": 673,
    "start_time": "2023-06-10T19:09:50.043Z"
   },
   {
    "duration": 2582,
    "start_time": "2023-06-10T19:10:07.319Z"
   },
   {
    "duration": 4,
    "start_time": "2023-06-10T19:10:09.904Z"
   },
   {
    "duration": 23658,
    "start_time": "2023-06-10T19:10:09.910Z"
   },
   {
    "duration": 14080,
    "start_time": "2023-06-10T19:10:33.570Z"
   },
   {
    "duration": 132,
    "start_time": "2023-06-10T19:10:47.664Z"
   },
   {
    "duration": 11415,
    "start_time": "2023-06-10T19:10:47.798Z"
   },
   {
    "duration": 11176,
    "start_time": "2023-06-10T19:10:59.217Z"
   },
   {
    "duration": 1961,
    "start_time": "2023-06-10T19:11:10.398Z"
   },
   {
    "duration": 2094,
    "start_time": "2023-06-10T19:11:12.361Z"
   },
   {
    "duration": 383,
    "start_time": "2023-06-10T19:11:14.458Z"
   },
   {
    "duration": 2499,
    "start_time": "2023-06-10T19:11:14.866Z"
   },
   {
    "duration": 21,
    "start_time": "2023-06-10T19:11:17.367Z"
   },
   {
    "duration": 4522,
    "start_time": "2023-06-10T19:11:17.391Z"
   },
   {
    "duration": 1600,
    "start_time": "2023-06-10T19:11:21.926Z"
   },
   {
    "duration": 156,
    "start_time": "2023-06-10T19:11:23.529Z"
   },
   {
    "duration": 173,
    "start_time": "2023-06-10T19:11:23.687Z"
   },
   {
    "duration": 2157,
    "start_time": "2023-06-10T19:11:23.862Z"
   },
   {
    "duration": 1346,
    "start_time": "2023-06-10T19:11:26.021Z"
   },
   {
    "duration": 55,
    "start_time": "2023-06-10T19:11:27.368Z"
   },
   {
    "duration": 371,
    "start_time": "2023-06-10T19:11:27.425Z"
   },
   {
    "duration": 6097,
    "start_time": "2023-06-10T19:11:27.802Z"
   },
   {
    "duration": 5142,
    "start_time": "2023-06-10T19:11:33.910Z"
   },
   {
    "duration": 563,
    "start_time": "2023-06-10T19:11:39.059Z"
   },
   {
    "duration": 637,
    "start_time": "2023-06-10T19:11:39.630Z"
   },
   {
    "duration": 21,
    "start_time": "2023-06-10T19:11:40.269Z"
   },
   {
    "duration": 2591,
    "start_time": "2023-06-10T19:11:40.297Z"
   },
   {
    "duration": 1299,
    "start_time": "2023-06-10T19:11:42.897Z"
   },
   {
    "duration": 1539,
    "start_time": "2023-06-10T19:11:44.198Z"
   },
   {
    "duration": 453,
    "start_time": "2023-06-10T19:11:45.738Z"
   },
   {
    "duration": 453,
    "start_time": "2023-06-10T19:11:46.195Z"
   },
   {
    "duration": 971,
    "start_time": "2023-06-10T19:11:46.650Z"
   }
  ],
  "colab": {
   "name": "PySparkSprint.ipynb",
   "provenance": []
  },
  "kernelspec": {
   "display_name": "Python 3 (ipykernel)",
   "language": "python",
   "name": "python3"
  },
  "language_info": {
   "codemirror_mode": {
    "name": "ipython",
    "version": 3
   },
   "file_extension": ".py",
   "mimetype": "text/x-python",
   "name": "python",
   "nbconvert_exporter": "python",
   "pygments_lexer": "ipython3",
   "version": "3.9.5"
  },
  "toc": {
   "base_numbering": 1,
   "nav_menu": {},
   "number_sections": true,
   "sideBar": true,
   "skip_h1_title": true,
   "title_cell": "Table of Contents",
   "title_sidebar": "Contents",
   "toc_cell": false,
   "toc_position": {},
   "toc_section_display": true,
   "toc_window_display": false
  }
 },
 "nbformat": 4,
 "nbformat_minor": 5
}
