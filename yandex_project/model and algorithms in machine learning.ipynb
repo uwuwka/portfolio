{
 "cells": [
  {
   "cell_type": "markdown",
   "id": "corresponding-armstrong",
   "metadata": {
    "ExecuteTime": {
     "end_time": "2022-05-05T04:58:05.692448Z",
     "start_time": "2022-05-05T04:58:05.688565Z"
    }
   },
   "source": [
    "## Загрузка данных"
   ]
  },
  {
   "cell_type": "code",
   "execution_count": 2,
   "id": "e3af94ef",
   "metadata": {
    "scrolled": false
   },
   "outputs": [],
   "source": [
    "!pip install -q skorch"
   ]
  },
  {
   "cell_type": "code",
   "execution_count": 3,
   "id": "spectacular-folder",
   "metadata": {},
   "outputs": [
    {
     "data": {
      "text/plain": [
       "<torch._C.Generator at 0x7fd4f0959530>"
      ]
     },
     "execution_count": 3,
     "metadata": {},
     "output_type": "execute_result"
    }
   ],
   "source": [
    "import matplotlib.pyplot as plt\n",
    "import numpy as np\n",
    "import pandas as pd\n",
    "import seaborn as sns\n",
    "\n",
    "import torch\n",
    "import torch.nn as nn\n",
    "from torch import tensor\n",
    "from torch.optim import Adam\n",
    "\n",
    "from skorch import NeuralNetRegressor\n",
    "from skorch.callbacks import EpochScoring, EarlyStopping\n",
    "\n",
    "\n",
    "from sklearn.metrics import mean_squared_error,make_scorer\n",
    "from sklearn.utils import shuffle\n",
    "from sklearn.model_selection import train_test_split, RandomizedSearchCV\n",
    "from sklearn.preprocessing import OneHotEncoder,StandardScaler\n",
    "from sklearn.pipeline import Pipeline\n",
    "from sklearn.compose import ColumnTransformer\n",
    "\n",
    "from math import ceil\n",
    "from math import sqrt\n",
    "\n",
    "import warnings\n",
    "warnings.filterwarnings(\"ignore\")\n",
    "\n",
    "SEED = np.random.RandomState(0) # стандратное значение\n",
    "torch.manual_seed(3826)\n"
   ]
  },
  {
   "cell_type": "code",
   "execution_count": 3,
   "id": "a2f36537",
   "metadata": {},
   "outputs": [],
   "source": [
    "data= pd.read_csv('/datasets/6_class.csv', index_col=0) "
   ]
  },
  {
   "cell_type": "code",
   "execution_count": 4,
   "id": "f544cabd",
   "metadata": {},
   "outputs": [
    {
     "data": {
      "text/html": [
       "<div>\n",
       "<style scoped>\n",
       "    .dataframe tbody tr th:only-of-type {\n",
       "        vertical-align: middle;\n",
       "    }\n",
       "\n",
       "    .dataframe tbody tr th {\n",
       "        vertical-align: top;\n",
       "    }\n",
       "\n",
       "    .dataframe thead th {\n",
       "        text-align: right;\n",
       "    }\n",
       "</style>\n",
       "<table border=\"1\" class=\"dataframe\">\n",
       "  <thead>\n",
       "    <tr style=\"text-align: right;\">\n",
       "      <th></th>\n",
       "      <th>Temperature (K)</th>\n",
       "      <th>Luminosity(L/Lo)</th>\n",
       "      <th>Radius(R/Ro)</th>\n",
       "      <th>Absolute magnitude(Mv)</th>\n",
       "      <th>Star type</th>\n",
       "      <th>Star color</th>\n",
       "    </tr>\n",
       "  </thead>\n",
       "  <tbody>\n",
       "    <tr>\n",
       "      <th>0</th>\n",
       "      <td>3068</td>\n",
       "      <td>0.002400</td>\n",
       "      <td>0.1700</td>\n",
       "      <td>16.12</td>\n",
       "      <td>0</td>\n",
       "      <td>Red</td>\n",
       "    </tr>\n",
       "    <tr>\n",
       "      <th>1</th>\n",
       "      <td>3042</td>\n",
       "      <td>0.000500</td>\n",
       "      <td>0.1542</td>\n",
       "      <td>16.60</td>\n",
       "      <td>0</td>\n",
       "      <td>Red</td>\n",
       "    </tr>\n",
       "    <tr>\n",
       "      <th>2</th>\n",
       "      <td>2600</td>\n",
       "      <td>0.000300</td>\n",
       "      <td>0.1020</td>\n",
       "      <td>18.70</td>\n",
       "      <td>0</td>\n",
       "      <td>Red</td>\n",
       "    </tr>\n",
       "    <tr>\n",
       "      <th>3</th>\n",
       "      <td>2800</td>\n",
       "      <td>0.000200</td>\n",
       "      <td>0.1600</td>\n",
       "      <td>16.65</td>\n",
       "      <td>0</td>\n",
       "      <td>Red</td>\n",
       "    </tr>\n",
       "    <tr>\n",
       "      <th>4</th>\n",
       "      <td>1939</td>\n",
       "      <td>0.000138</td>\n",
       "      <td>0.1030</td>\n",
       "      <td>20.06</td>\n",
       "      <td>0</td>\n",
       "      <td>Red</td>\n",
       "    </tr>\n",
       "  </tbody>\n",
       "</table>\n",
       "</div>"
      ],
      "text/plain": [
       "   Temperature (K)  Luminosity(L/Lo)  Radius(R/Ro)  Absolute magnitude(Mv)  \\\n",
       "0             3068          0.002400        0.1700                   16.12   \n",
       "1             3042          0.000500        0.1542                   16.60   \n",
       "2             2600          0.000300        0.1020                   18.70   \n",
       "3             2800          0.000200        0.1600                   16.65   \n",
       "4             1939          0.000138        0.1030                   20.06   \n",
       "\n",
       "   Star type Star color  \n",
       "0          0        Red  \n",
       "1          0        Red  \n",
       "2          0        Red  \n",
       "3          0        Red  \n",
       "4          0        Red  "
      ]
     },
     "metadata": {},
     "output_type": "display_data"
    }
   ],
   "source": [
    "display(data.head())"
   ]
  },
  {
   "cell_type": "code",
   "execution_count": 5,
   "id": "b9231589",
   "metadata": {},
   "outputs": [
    {
     "data": {
      "text/html": [
       "<div>\n",
       "<style scoped>\n",
       "    .dataframe tbody tr th:only-of-type {\n",
       "        vertical-align: middle;\n",
       "    }\n",
       "\n",
       "    .dataframe tbody tr th {\n",
       "        vertical-align: top;\n",
       "    }\n",
       "\n",
       "    .dataframe thead th {\n",
       "        text-align: right;\n",
       "    }\n",
       "</style>\n",
       "<table border=\"1\" class=\"dataframe\">\n",
       "  <thead>\n",
       "    <tr style=\"text-align: right;\">\n",
       "      <th></th>\n",
       "      <th>Temperature (K)</th>\n",
       "      <th>Luminosity(L/Lo)</th>\n",
       "      <th>Radius(R/Ro)</th>\n",
       "      <th>Absolute magnitude(Mv)</th>\n",
       "      <th>Star type</th>\n",
       "    </tr>\n",
       "  </thead>\n",
       "  <tbody>\n",
       "    <tr>\n",
       "      <th>count</th>\n",
       "      <td>240.000000</td>\n",
       "      <td>240.000000</td>\n",
       "      <td>240.000000</td>\n",
       "      <td>240.000000</td>\n",
       "      <td>240.000000</td>\n",
       "    </tr>\n",
       "    <tr>\n",
       "      <th>mean</th>\n",
       "      <td>10497.462500</td>\n",
       "      <td>107188.361635</td>\n",
       "      <td>237.157781</td>\n",
       "      <td>4.382396</td>\n",
       "      <td>2.500000</td>\n",
       "    </tr>\n",
       "    <tr>\n",
       "      <th>std</th>\n",
       "      <td>9552.425037</td>\n",
       "      <td>179432.244940</td>\n",
       "      <td>517.155763</td>\n",
       "      <td>10.532512</td>\n",
       "      <td>1.711394</td>\n",
       "    </tr>\n",
       "    <tr>\n",
       "      <th>min</th>\n",
       "      <td>1939.000000</td>\n",
       "      <td>0.000080</td>\n",
       "      <td>0.008400</td>\n",
       "      <td>-11.920000</td>\n",
       "      <td>0.000000</td>\n",
       "    </tr>\n",
       "    <tr>\n",
       "      <th>25%</th>\n",
       "      <td>3344.250000</td>\n",
       "      <td>0.000865</td>\n",
       "      <td>0.102750</td>\n",
       "      <td>-6.232500</td>\n",
       "      <td>1.000000</td>\n",
       "    </tr>\n",
       "    <tr>\n",
       "      <th>50%</th>\n",
       "      <td>5776.000000</td>\n",
       "      <td>0.070500</td>\n",
       "      <td>0.762500</td>\n",
       "      <td>8.313000</td>\n",
       "      <td>2.500000</td>\n",
       "    </tr>\n",
       "    <tr>\n",
       "      <th>75%</th>\n",
       "      <td>15055.500000</td>\n",
       "      <td>198050.000000</td>\n",
       "      <td>42.750000</td>\n",
       "      <td>13.697500</td>\n",
       "      <td>4.000000</td>\n",
       "    </tr>\n",
       "    <tr>\n",
       "      <th>max</th>\n",
       "      <td>40000.000000</td>\n",
       "      <td>849420.000000</td>\n",
       "      <td>1948.500000</td>\n",
       "      <td>20.060000</td>\n",
       "      <td>5.000000</td>\n",
       "    </tr>\n",
       "  </tbody>\n",
       "</table>\n",
       "</div>"
      ],
      "text/plain": [
       "       Temperature (K)  Luminosity(L/Lo)  Radius(R/Ro)  \\\n",
       "count       240.000000        240.000000    240.000000   \n",
       "mean      10497.462500     107188.361635    237.157781   \n",
       "std        9552.425037     179432.244940    517.155763   \n",
       "min        1939.000000          0.000080      0.008400   \n",
       "25%        3344.250000          0.000865      0.102750   \n",
       "50%        5776.000000          0.070500      0.762500   \n",
       "75%       15055.500000     198050.000000     42.750000   \n",
       "max       40000.000000     849420.000000   1948.500000   \n",
       "\n",
       "       Absolute magnitude(Mv)   Star type  \n",
       "count              240.000000  240.000000  \n",
       "mean                 4.382396    2.500000  \n",
       "std                 10.532512    1.711394  \n",
       "min                -11.920000    0.000000  \n",
       "25%                 -6.232500    1.000000  \n",
       "50%                  8.313000    2.500000  \n",
       "75%                 13.697500    4.000000  \n",
       "max                 20.060000    5.000000  "
      ]
     },
     "execution_count": 5,
     "metadata": {},
     "output_type": "execute_result"
    }
   ],
   "source": [
    "data.describe()"
   ]
  },
  {
   "cell_type": "code",
   "execution_count": 6,
   "id": "6598b720",
   "metadata": {},
   "outputs": [
    {
     "name": "stdout",
     "output_type": "stream",
     "text": [
      "<class 'pandas.core.frame.DataFrame'>\n",
      "Int64Index: 240 entries, 0 to 239\n",
      "Data columns (total 6 columns):\n",
      " #   Column                  Non-Null Count  Dtype  \n",
      "---  ------                  --------------  -----  \n",
      " 0   Temperature (K)         240 non-null    int64  \n",
      " 1   Luminosity(L/Lo)        240 non-null    float64\n",
      " 2   Radius(R/Ro)            240 non-null    float64\n",
      " 3   Absolute magnitude(Mv)  240 non-null    float64\n",
      " 4   Star type               240 non-null    int64  \n",
      " 5   Star color              240 non-null    object \n",
      "dtypes: float64(3), int64(2), object(1)\n",
      "memory usage: 13.1+ KB\n",
      "None\n",
      "\n",
      "0\n",
      "Temperature (K)           0\n",
      "Luminosity(L/Lo)          0\n",
      "Radius(R/Ro)              0\n",
      "Absolute magnitude(Mv)    0\n",
      "Star type                 0\n",
      "Star color                0\n",
      "dtype: int64\n"
     ]
    }
   ],
   "source": [
    "print(data.info())\n",
    "print()\n",
    "print(data.duplicated().sum())\n",
    "print(data.isna().sum())"
   ]
  },
  {
   "cell_type": "markdown",
   "id": "simple-subdivision",
   "metadata": {},
   "source": [
    "## Предобработка и анализ данных"
   ]
  },
  {
   "cell_type": "code",
   "execution_count": 7,
   "id": "6476e650",
   "metadata": {},
   "outputs": [
    {
     "data": {
      "text/plain": [
       "Red                   112\n",
       "Blue                   55\n",
       "Blue-white             26\n",
       "Blue White             10\n",
       "yellow-white            8\n",
       "White                   7\n",
       "Yellowish White         3\n",
       "white                   3\n",
       "Blue white              3\n",
       "yellowish               2\n",
       "Orange                  2\n",
       "Whitish                 2\n",
       "Pale yellow orange      1\n",
       "Blue white              1\n",
       "Blue-White              1\n",
       "Orange-Red              1\n",
       "Yellowish               1\n",
       "White-Yellow            1\n",
       "Blue                    1\n",
       "Name: Star color, dtype: int64"
      ]
     },
     "execution_count": 7,
     "metadata": {},
     "output_type": "execute_result"
    }
   ],
   "source": [
    "data['Star color'].value_counts()"
   ]
  },
  {
   "cell_type": "code",
   "execution_count": 8,
   "id": "614db12e",
   "metadata": {},
   "outputs": [],
   "source": [
    "data['Star color'] = data['Star color'].replace({'Blue White': 'Blue-white', 'Blue white':'Blue-white',\n",
    "                                             'Blue white ':'Blue-white','Blue-White':'Blue-white',\n",
    "                                             'Blue ':'Blue', 'white':'White', 'yellowish':'Yellowish',\n",
    "                                             'yellow-white':'Yellow-white','White-Yellow':'Yellow-white',\n",
    "                                             'Yellowish White':'Yellow-white','Pale yellow orange':'Pale-yellow-orange',\n",
    "                                             'Whitish':'White'})"
   ]
  },
  {
   "cell_type": "code",
   "execution_count": 9,
   "id": "d9d4bbe4",
   "metadata": {
    "scrolled": true
   },
   "outputs": [
    {
     "data": {
      "text/plain": [
       "Red                   112\n",
       "Blue                   56\n",
       "Blue-white             41\n",
       "White                  12\n",
       "Yellow-white           12\n",
       "Yellowish               3\n",
       "Orange                  2\n",
       "Orange-Red              1\n",
       "Pale-yellow-orange      1\n",
       "Name: Star color, dtype: int64"
      ]
     },
     "execution_count": 9,
     "metadata": {},
     "output_type": "execute_result"
    }
   ],
   "source": [
    "data['Star color'].value_counts()"
   ]
  },
  {
   "cell_type": "code",
   "execution_count": 10,
   "id": "2c3fbb9a",
   "metadata": {},
   "outputs": [
    {
     "name": "stdout",
     "output_type": "stream",
     "text": [
      "Red             112\n",
      "Blue             56\n",
      "Blue-white       41\n",
      "White            12\n",
      "Yellow-white     12\n",
      "Name: Star color, dtype: int64\n"
     ]
    }
   ],
   "source": [
    "list_drop = ['Pale-yellow-orange', 'Orange-Red', 'Orange', 'Yellowish']\n",
    "data = data.drop(data[data['Star color'].isin(list_drop)].index)\n",
    "print(data['Star color'].value_counts())"
   ]
  },
  {
   "cell_type": "code",
   "execution_count": 11,
   "id": "flush-dream",
   "metadata": {},
   "outputs": [
    {
     "data": {
      "text/plain": [
       "<AxesSubplot:>"
      ]
     },
     "execution_count": 11,
     "metadata": {},
     "output_type": "execute_result"
    },
    {
     "data": {
      "image/png": "[encoded data removed]",
      "text/plain": [
       "<Figure size 432x288 with 2 Axes>"
      ]
     },
     "metadata": {
      "needs_background": "light"
     },
     "output_type": "display_data"
    }
   ],
   "source": [
    "sns.heatmap(data.corr(),annot=True)"
   ]
  },
  {
   "cell_type": "code",
   "execution_count": 12,
   "id": "d8163e75",
   "metadata": {},
   "outputs": [
    {
     "data": {
      "image/png": "[encoded data removed]",
      "text/plain": [
       "<Figure size 1080x720 with 1 Axes>"
      ]
     },
     "metadata": {
      "needs_background": "light"
     },
     "output_type": "display_data"
    }
   ],
   "source": [
    "ax=sns.barplot(data=data,x='Star color',y='Temperature (K)')\n",
    "ax.figure.set_size_inches(15,10)"
   ]
  },
  {
   "cell_type": "code",
   "execution_count": 13,
   "id": "7f7cb334",
   "metadata": {},
   "outputs": [
    {
     "data": {
      "image/png": "[encoded data removed]",
      "text/plain": [
       "<Figure size 9360x720 with 1 Axes>"
      ]
     },
     "metadata": {
      "needs_background": "light"
     },
     "output_type": "display_data"
    }
   ],
   "source": [
    "ax=sns.barplot(data=data,x='Absolute magnitude(Mv)',y='Star type')\n",
    "ax.figure.set_size_inches(130,10)"
   ]
  },
  {
   "cell_type": "markdown",
   "id": "f6d1bdac",
   "metadata": {},
   "source": [
    "как показывает график, есть прямая зависимость между абсолютной звездной величеной и типом звезды. Так в диапозоне от -11.92 до -7. 58 здезды имеют 5 тип т.е Гипергиганты, от -7.45 до -5.24 звезды имеют 4 тип т.е Сверхгиганты, от -4.7 до 5.49 здезды имеют 3 тип т.е. Звёзды главной последовательности, в диапазоне от 10.12 до14.94 здезды имеют типы 1 и 2 т.е. Белый карлик и Красный карлик. все звезды больше этого значения имеют 0 тип т.е. Коричневый карлик."
   ]
  },
  {
   "cell_type": "code",
   "execution_count": 14,
   "id": "4c98876b",
   "metadata": {},
   "outputs": [
    {
     "data": {
      "image/png": "[encoded data removed]",
      "text/plain": [
       "<Figure size 12240x1080 with 1 Axes>"
      ]
     },
     "metadata": {
      "needs_background": "light"
     },
     "output_type": "display_data"
    }
   ],
   "source": [
    "ax=sns.barplot(data=data,x='Radius(R/Ro)',y='Temperature (K)')\n",
    "ax.figure.set_size_inches(170,15)"
   ]
  },
  {
   "cell_type": "markdown",
   "id": "4c6f8c54",
   "metadata": {},
   "source": [
    "график показывает, что радиус не сильно зависит от температуры звезды "
   ]
  },
  {
   "cell_type": "code",
   "execution_count": 15,
   "id": "e7aa9f63",
   "metadata": {},
   "outputs": [
    {
     "data": {
      "image/png": "[encoded data removed]",
      "text/plain": [
       "<Figure size 9360x1080 with 1 Axes>"
      ]
     },
     "metadata": {
      "needs_background": "light"
     },
     "output_type": "display_data"
    }
   ],
   "source": [
    "ax=sns.barplot(data=data,x='Radius(R/Ro)',y='Absolute magnitude(Mv)')\n",
    "ax.figure.set_size_inches(130,15)"
   ]
  },
  {
   "cell_type": "markdown",
   "id": "ad95cd0f",
   "metadata": {},
   "source": [
    "на графике четко видно, что здезды задусом от 0.0084 до 1.93 имеют положительную магнитуду блеска звезды, а начиная с 5.49 и до 1948.5 здезды имеют отрицательную магнитуду блеска, в диапазоне от 1.93 до 2.89 наблюдаются аномалии в магентуде блеска звезды."
   ]
  },
  {
   "cell_type": "code",
   "execution_count": 16,
   "id": "434c55f3",
   "metadata": {
    "scrolled": false
   },
   "outputs": [
    {
     "data": {
      "image/png": "[encoded data removed]",
      "text/plain": [
       "<Figure size 7200x720 with 1 Axes>"
      ]
     },
     "metadata": {
      "needs_background": "light"
     },
     "output_type": "display_data"
    }
   ],
   "source": [
    "ax=sns.barplot(data=data,x='Radius(R/Ro)',y='Luminosity(L/Lo)')\n",
    "ax.figure.set_size_inches(100,10)"
   ]
  },
  {
   "cell_type": "markdown",
   "id": "268c964c",
   "metadata": {},
   "source": [
    "на графике видна зависимость светимости звезды от ее радиуса"
   ]
  },
  {
   "cell_type": "code",
   "execution_count": 17,
   "id": "14dc4b6d",
   "metadata": {
    "scrolled": true
   },
   "outputs": [
    {
     "data": {
      "image/png": "[encoded data removed]",
      "text/plain": [
       "<Figure size 12240x720 with 1 Axes>"
      ]
     },
     "metadata": {
      "needs_background": "light"
     },
     "output_type": "display_data"
    }
   ],
   "source": [
    "ax=sns.barplot(data=data,x='Radius(R/Ro)',y='Star type')\n",
    "ax.figure.set_size_inches(170,10)"
   ]
  },
  {
   "cell_type": "markdown",
   "id": "e8e41bea",
   "metadata": {},
   "source": [
    "в диапазоне от 0.0084 до 0.015  звезды имеют 2 тип, от  0.196 до 0.9 здезды имеют 1 тип, с 0.057 до 0.19 здезды имеют 0 тип (не включая аномалии), от 0.9 значиния до 12 звезды имеют 3 тип, с 14 до 708.9 это 4 тип звезд, с 876 до конца грфика это 5 тип звезд."
   ]
  },
  {
   "cell_type": "markdown",
   "id": "712db094",
   "metadata": {},
   "source": [
    "### разделение  и переработка данных"
   ]
  },
  {
   "cell_type": "code",
   "execution_count": 18,
   "id": "aa2742a1",
   "metadata": {},
   "outputs": [],
   "source": [
    "features = data.drop('Temperature (K)', axis=1)\n",
    "target = data['Temperature (K)']"
   ]
  },
  {
   "cell_type": "code",
   "execution_count": 19,
   "id": "bf438118",
   "metadata": {},
   "outputs": [
    {
     "data": {
      "text/plain": [
       "(186, 5)"
      ]
     },
     "metadata": {},
     "output_type": "display_data"
    },
    {
     "data": {
      "text/plain": [
       "(47, 5)"
      ]
     },
     "metadata": {},
     "output_type": "display_data"
    },
    {
     "data": {
      "text/plain": [
       "(186,)"
      ]
     },
     "metadata": {},
     "output_type": "display_data"
    },
    {
     "data": {
      "text/plain": [
       "(47,)"
      ]
     },
     "metadata": {},
     "output_type": "display_data"
    }
   ],
   "source": [
    "features_train, features_test, target_train, target_test = train_test_split(features.copy(), target.copy(),\n",
    "                                                                            test_size=.2, shuffle=True, \n",
    "                                                                            random_state=SEED)\n",
    "\n",
    "display(features_train.shape, features_test.shape)\n",
    "display(target_train.shape, target_test.shape)"
   ]
  },
  {
   "cell_type": "code",
   "execution_count": 20,
   "id": "7aae8f31",
   "metadata": {},
   "outputs": [],
   "source": [
    "numeric_features = [\"Luminosity(L/Lo)\", \"Radius(R/Ro)\", \"Absolute magnitude(Mv)\"]\n",
    "numeric_transformer = Pipeline(steps=[\n",
    "    (\"scaler\", StandardScaler())  # Масштабирование числовых признаков\n",
    "])"
   ]
  },
  {
   "cell_type": "code",
   "execution_count": 21,
   "id": "b205e5a1",
   "metadata": {},
   "outputs": [],
   "source": [
    "# Создание трансформера для кодирования категориальных признаков\n",
    "categorical_features = [\"Star color\",\"Star type\"]\n",
    "categorical_transformer = Pipeline(steps=[\n",
    "    (\"label_encoder\", OneHotEncoder(sparse=False))  # Кодирование категориальных признаков\n",
    "])"
   ]
  },
  {
   "cell_type": "code",
   "execution_count": 22,
   "id": "6c968c9a",
   "metadata": {},
   "outputs": [],
   "source": [
    "# Объединение трансформеров в один\n",
    "preprocessor = ColumnTransformer(\n",
    "    transformers=[\n",
    "        (\"num\", numeric_transformer, numeric_features),\n",
    "        (\"cat\", categorical_transformer, categorical_features)\n",
    "    ])"
   ]
  },
  {
   "cell_type": "code",
   "execution_count": 23,
   "id": "3d92a9e2",
   "metadata": {},
   "outputs": [],
   "source": [
    "pipeline = Pipeline(steps=[\n",
    "    (\"preprocessor\", preprocessor),\n",
    "])"
   ]
  },
  {
   "cell_type": "code",
   "execution_count": 24,
   "id": "7dbc176c",
   "metadata": {},
   "outputs": [],
   "source": [
    "features_train_transformed = pipeline.fit_transform(features_train)\n",
    "features_test_transformed = pipeline.transform(features_test)"
   ]
  },
  {
   "cell_type": "markdown",
   "id": "funded-electric",
   "metadata": {},
   "source": [
    "## Построение базовой нейронной сети"
   ]
  },
  {
   "cell_type": "code",
   "execution_count": 25,
   "id": "forced-concentrate",
   "metadata": {},
   "outputs": [],
   "source": [
    "# Создадим тензоры\n",
    "X_train = torch.Tensor(features_train_transformed)\n",
    "X_test = torch.Tensor(features_test_transformed)\n",
    "\n",
    "y_train = torch.FloatTensor(target_train.values)\n",
    "y_test = torch.FloatTensor(target_test.values)"
   ]
  },
  {
   "cell_type": "code",
   "execution_count": 26,
   "id": "dc353ec1",
   "metadata": {},
   "outputs": [
    {
     "name": "stdout",
     "output_type": "stream",
     "text": [
      "Кол-во строк и столбцов в X_train выборке: torch.Size([186, 14])\n",
      "Кол-во строк и столбцов в X_test выборке: torch.Size([47, 14])\n",
      "Кол-во строк и столбцов в y_train выборке: torch.Size([186])\n",
      "Кол-во строк и столбцов в y_test выборке: torch.Size([47])\n"
     ]
    }
   ],
   "source": [
    "print('Кол-во строк и столбцов в X_train выборке:', X_train.shape)\n",
    "print('Кол-во строк и столбцов в X_test выборке:', X_test.shape)\n",
    "\n",
    "print('Кол-во строк и столбцов в y_train выборке:', y_train.shape)\n",
    "print('Кол-во строк и столбцов в y_test выборке:', y_test.shape)"
   ]
  },
  {
   "cell_type": "code",
   "execution_count": 27,
   "id": "cd9c453f",
   "metadata": {},
   "outputs": [],
   "source": [
    "# параметры слоев сети\n",
    "n_in_neurons = 14\n",
    "n_hidden_neurons_1 = 7\n",
    "n_hidden_neurons_2 = 10\n",
    "n_out_neurons = 1"
   ]
  },
  {
   "cell_type": "code",
   "execution_count": 28,
   "id": "5629aff4",
   "metadata": {},
   "outputs": [],
   "source": [
    "class Model(nn.Module):\n",
    "    def __init__(self, n_in_neurons, n_hidden_neurons_1, n_hidden_neurons_2, n_out_neurons):\n",
    "        super(Model, self).__init__()\n",
    "        \n",
    "        self.fc1 = nn.Linear(n_in_neurons, n_hidden_neurons_1)\n",
    "        self.act1 = nn.ReLU()\n",
    "        self.fc2 = nn.Linear(n_hidden_neurons_1, n_hidden_neurons_2)\n",
    "        self.act2 = nn.ReLU()\n",
    "        self.fc3 = nn.Linear(n_hidden_neurons_2, n_out_neurons)\n",
    "        self.act3 = nn.ReLU()\n",
    "        \n",
    "        nn.init.kaiming_uniform_(self.fc1.weight)\n",
    "        nn.init.normal(self.fc1.bias, mean=0, std=sqrt(2/n_in_neurons))\n",
    "        nn.init.kaiming_uniform_(self.fc2.weight)\n",
    "        nn.init.normal_(self.fc2.bias, mean=0, std=sqrt(2/n_hidden_neurons_1))\n",
    "        nn.init.kaiming_uniform_(self.fc3.weight)\n",
    "        nn.init.normal_(self.fc3.bias, mean=0, std=sqrt(2/n_hidden_neurons_2))\n",
    "\n",
    "    def forward(self, x):\n",
    "        x = self.fc1(x)\n",
    "        x = self.act1(x)\n",
    "        x = self.fc2(x)\n",
    "        x = self.act1(x)\n",
    "        x = self.fc3(x)\n",
    "        x = self.act3(x)\n",
    "        \n",
    "        return x"
   ]
  },
  {
   "cell_type": "code",
   "execution_count": 29,
   "id": "beac47d9",
   "metadata": {},
   "outputs": [],
   "source": [
    "# Укажем параметры сети\n",
    "net = Model(n_in_neurons, n_hidden_neurons_1, n_hidden_neurons_2, n_out_neurons)\n",
    "loss = nn.MSELoss()\n",
    "optimizer = torch.optim.Adam(net.parameters(), lr=0.01)\n",
    "num_epochs = 1000\n",
    "batch_size = 20\n",
    "num_batches = ceil(len(X_train)/batch_size)"
   ]
  },
  {
   "cell_type": "code",
   "execution_count": 30,
   "id": "85b96642",
   "metadata": {
    "scrolled": true
   },
   "outputs": [
    {
     "name": "stdout",
     "output_type": "stream",
     "text": [
      "Эпоха [10/1000], Значение функции потерь: 14549.7461\n",
      "Эпоха [20/1000], Значение функции потерь: 11641.0010\n",
      "Эпоха [30/1000], Значение функции потерь: 9595.6182\n",
      "Эпоха [40/1000], Значение функции потерь: 9469.9209\n",
      "Эпоха [50/1000], Значение функции потерь: 9442.3545\n",
      "Эпоха [60/1000], Значение функции потерь: 9429.6855\n",
      "Эпоха [70/1000], Значение функции потерь: 9422.6250\n",
      "Эпоха [80/1000], Значение функции потерь: 9418.1455\n",
      "Эпоха [90/1000], Значение функции потерь: 9413.8770\n",
      "Эпоха [100/1000], Значение функции потерь: 9410.5938\n",
      "Эпоха [110/1000], Значение функции потерь: 9407.7432\n",
      "Эпоха [120/1000], Значение функции потерь: 9404.8408\n",
      "Эпоха [130/1000], Значение функции потерь: 9401.7100\n",
      "Эпоха [140/1000], Значение функции потерь: 9398.3184\n",
      "Эпоха [150/1000], Значение функции потерь: 9394.6133\n",
      "Эпоха [160/1000], Значение функции потерь: 9391.0801\n",
      "Эпоха [170/1000], Значение функции потерь: 9387.2568\n",
      "Эпоха [180/1000], Значение функции потерь: 9383.5049\n",
      "Эпоха [190/1000], Значение функции потерь: 9379.8477\n",
      "Эпоха [200/1000], Значение функции потерь: 9375.8857\n",
      "Эпоха [210/1000], Значение функции потерь: 9371.9512\n",
      "Эпоха [220/1000], Значение функции потерь: 9368.1074\n",
      "Эпоха [230/1000], Значение функции потерь: 9364.0342\n",
      "Эпоха [240/1000], Значение функции потерь: 9360.1670\n",
      "Эпоха [250/1000], Значение функции потерь: 9356.6221\n",
      "Эпоха [260/1000], Значение функции потерь: 9352.8711\n",
      "Эпоха [270/1000], Значение функции потерь: 9349.1787\n",
      "Эпоха [280/1000], Значение функции потерь: 9345.8252\n",
      "Эпоха [290/1000], Значение функции потерь: 9342.2266\n",
      "Эпоха [300/1000], Значение функции потерь: 9338.6230\n",
      "Эпоха [310/1000], Значение функции потерь: 9334.9131\n",
      "Эпоха [320/1000], Значение функции потерь: 9330.3779\n",
      "Эпоха [330/1000], Значение функции потерь: 9326.8975\n",
      "Эпоха [340/1000], Значение функции потерь: 9323.4561\n",
      "Эпоха [350/1000], Значение функции потерь: 9319.5840\n",
      "Эпоха [360/1000], Значение функции потерь: 9315.4941\n",
      "Эпоха [370/1000], Значение функции потерь: 9311.9502\n",
      "Эпоха [380/1000], Значение функции потерь: 9309.0195\n",
      "Эпоха [390/1000], Значение функции потерь: 9305.5547\n",
      "Эпоха [400/1000], Значение функции потерь: 9302.2070\n",
      "Эпоха [410/1000], Значение функции потерь: 9298.8828\n",
      "Эпоха [420/1000], Значение функции потерь: 9295.9346\n",
      "Эпоха [430/1000], Значение функции потерь: 9292.2334\n",
      "Эпоха [440/1000], Значение функции потерь: 9288.2441\n",
      "Эпоха [450/1000], Значение функции потерь: 9285.3301\n",
      "Эпоха [460/1000], Значение функции потерь: 9282.2246\n",
      "Эпоха [470/1000], Значение функции потерь: 9279.2900\n",
      "Эпоха [480/1000], Значение функции потерь: 9276.4053\n",
      "Эпоха [490/1000], Значение функции потерь: 9273.0000\n",
      "Эпоха [500/1000], Значение функции потерь: 9269.9580\n",
      "Эпоха [510/1000], Значение функции потерь: 9267.7676\n",
      "Эпоха [520/1000], Значение функции потерь: 9265.1309\n",
      "Эпоха [530/1000], Значение функции потерь: 9262.2344\n",
      "Эпоха [540/1000], Значение функции потерь: 9259.0449\n",
      "Эпоха [550/1000], Значение функции потерь: 9256.7354\n",
      "Эпоха [560/1000], Значение функции потерь: 9253.9727\n",
      "Эпоха [570/1000], Значение функции потерь: 9251.5010\n",
      "Эпоха [580/1000], Значение функции потерь: 9248.8203\n",
      "Эпоха [590/1000], Значение функции потерь: 9246.6484\n",
      "Эпоха [600/1000], Значение функции потерь: 9244.0801\n",
      "Эпоха [610/1000], Значение функции потерь: 9241.7676\n",
      "Эпоха [620/1000], Значение функции потерь: 9239.2578\n",
      "Эпоха [630/1000], Значение функции потерь: 9236.7910\n",
      "Эпоха [640/1000], Значение функции потерь: 9234.5615\n",
      "Эпоха [650/1000], Значение функции потерь: 9232.0352\n",
      "Эпоха [660/1000], Значение функции потерь: 9229.8711\n",
      "Эпоха [670/1000], Значение функции потерь: 9227.5049\n",
      "Эпоха [680/1000], Значение функции потерь: 9225.4482\n",
      "Эпоха [690/1000], Значение функции потерь: 9223.0342\n",
      "Эпоха [700/1000], Значение функции потерь: 9220.9961\n",
      "Эпоха [710/1000], Значение функции потерь: 9218.7373\n",
      "Эпоха [720/1000], Значение функции потерь: 9216.7881\n",
      "Эпоха [730/1000], Значение функции потерь: 9214.4756\n",
      "Эпоха [740/1000], Значение функции потерь: 9212.5332\n",
      "Эпоха [750/1000], Значение функции потерь: 9210.4902\n",
      "Эпоха [760/1000], Значение функции потерь: 9208.3867\n",
      "Эпоха [770/1000], Значение функции потерь: 9206.7266\n",
      "Эпоха [780/1000], Значение функции потерь: 9204.5410\n",
      "Эпоха [790/1000], Значение функции потерь: 9202.7363\n",
      "Эпоха [800/1000], Значение функции потерь: 9201.0137\n",
      "Эпоха [810/1000], Значение функции потерь: 9199.0430\n",
      "Эпоха [820/1000], Значение функции потерь: 9197.1523\n",
      "Эпоха [830/1000], Значение функции потерь: 9195.5576\n",
      "Эпоха [840/1000], Значение функции потерь: 9193.3281\n",
      "Эпоха [850/1000], Значение функции потерь: 9191.3682\n",
      "Эпоха [860/1000], Значение функции потерь: 9189.8076\n",
      "Эпоха [870/1000], Значение функции потерь: 9187.7822\n",
      "Эпоха [880/1000], Значение функции потерь: 9186.0078\n",
      "Эпоха [890/1000], Значение функции потерь: 9184.4102\n",
      "Эпоха [900/1000], Значение функции потерь: 9182.4209\n",
      "Эпоха [910/1000], Значение функции потерь: 9180.7148\n",
      "Эпоха [920/1000], Значение функции потерь: 9179.3115\n",
      "Эпоха [930/1000], Значение функции потерь: 9177.5635\n",
      "Эпоха [940/1000], Значение функции потерь: 9176.0420\n",
      "Эпоха [950/1000], Значение функции потерь: 9174.1211\n",
      "Эпоха [960/1000], Значение функции потерь: 9172.4736\n",
      "Эпоха [970/1000], Значение функции потерь: 9170.9668\n",
      "Эпоха [980/1000], Значение функции потерь: 9169.2773\n",
      "Эпоха [990/1000], Значение функции потерь: 9168.2305\n",
      "Эпоха [1000/1000], Значение функции потерь: 9166.2441\n",
      "   epoch          rmse\n",
      "0     10  14549.746094\n",
      "1     20  11641.000977\n",
      "2     30   9595.618164\n",
      "3     40   9469.920898\n",
      "4     50   9442.354492\n"
     ]
    }
   ],
   "source": [
    "# Найдем значение RMSE\n",
    "df= {'epoch':[] ,'rmse':[]}\n",
    "total_step = len(X_train)\n",
    "for epoch in range(num_epochs):\n",
    "    net.train()\n",
    "    order = np.random.permutation(len(X_train))\n",
    "    for batch_idx in range(num_batches):\n",
    "        start_idx = batch_idx * batch_size\n",
    "        end_idx = min((batch_idx + 1) * batch_size, len(X_train))\n",
    "        optimizer.zero_grad()\n",
    "        \n",
    "        batch_indexes = order[start_idx:start_idx+batch_size]\n",
    "        X_batch = X_train[start_idx:end_idx]\n",
    "        y_batch = y_train[start_idx:end_idx]\n",
    "        \n",
    "        preds_train = net.forward(X_batch)\n",
    "       \n",
    "        loss_value_train = torch.sqrt(loss(preds_train, y_batch))\n",
    "        loss_value_train.backward()\n",
    "                \n",
    "        optimizer.step()\n",
    "    if (epoch+1) % 10 == 0 or epoch == num_epochs:\n",
    "        \n",
    "        \n",
    "        net.eval()\n",
    "        with torch.no_grad():\n",
    "            for batch_idx in X_test:\n",
    "                preds_test = net.forward(X_test).flatten()\n",
    "                RMSE_loss = torch.sqrt(loss(preds_test, y_test))\n",
    "        print ('Эпоха [{}/{}], Значение функции потерь: {:.4f}'\n",
    "            .format(epoch+1, num_epochs, RMSE_loss.item()))\n",
    "        df['epoch'].append(epoch+1)\n",
    "        df['rmse'].append(RMSE_loss.item())\n",
    "        \n",
    "pivot= pd.DataFrame(data=df)        \n",
    "\n",
    "print(pivot.head())\n"
   ]
  },
  {
   "cell_type": "code",
   "execution_count": 33,
   "id": "5642f772",
   "metadata": {},
   "outputs": [
    {
     "data": {
      "image/png": "[encoded data removed]",
      "text/plain": [
       "<Figure size 432x288 with 1 Axes>"
      ]
     },
     "metadata": {
      "needs_background": "light"
     },
     "output_type": "display_data"
    }
   ],
   "source": [
    "#sns.lineplot(data=pivot,x= 'rmse',y= 'epoch')\n",
    "plt.plot(pivot['rmse'])\n",
    "plt.plot(pivot['epoch'])\n",
    "\n",
    "plt.show()"
   ]
  },
  {
   "cell_type": "code",
   "execution_count": 34,
   "id": "a9af728b",
   "metadata": {},
   "outputs": [
    {
     "data": {
      "text/plain": [
       "tensor(9166.2441)"
      ]
     },
     "execution_count": 34,
     "metadata": {},
     "output_type": "execute_result"
    }
   ],
   "source": [
    "RMSE_loss"
   ]
  },
  {
   "cell_type": "code",
   "execution_count": 35,
   "id": "499693d6",
   "metadata": {},
   "outputs": [],
   "source": [
    "def graph(x, y):\n",
    "        \n",
    "    barWidth1 = 1\n",
    "    barWidth2 = 0.5\n",
    "    x_range = np.arange(len(y))\n",
    "\n",
    "    plt.figure(figsize=(40, 20))\n",
    "\n",
    "    # Построение столбчатой диаграммы для фактических данных\n",
    "    plt.bar(x_range, y.data.numpy(),width=barWidth1/2, color='blue', label='Фактические данные')\n",
    "    # Построение столбчатой диаграммы для предсказанных данных с смещением\n",
    "    plt.bar(x_range, x.data.numpy(), width=barWidth2/2, color='red', label='Предсказанные данные')\n",
    "\n",
    "    # Установка меток на оси X\n",
    "    plt.xticks(x_range + 0.2, x_range)\n",
    "    plt.xlabel('Температура звезды')\n",
    "    plt.ylabel('Номер звезды в таблице данных')\n",
    "    plt.title('Столбчатая диаграмма Фактических и Предсказанных данных')\n",
    "\n",
    "    # Отображение графика\n",
    "    plt.rcParams.update({'font.size': 28})    \n",
    "    plt.box(False)\n",
    "    plt.savefig('plt', bbox_inches = \"tight\")\n",
    "    plt.show()"
   ]
  },
  {
   "cell_type": "code",
   "execution_count": 36,
   "id": "2ea0d3e3",
   "metadata": {},
   "outputs": [
    {
     "data": {
      "image/png": "[encoded data removed]",
      "text/plain": [
       "<Figure size 2880x1440 with 1 Axes>"
      ]
     },
     "metadata": {
      "needs_background": "light"
     },
     "output_type": "display_data"
    }
   ],
   "source": [
    "graph(preds_test, y_test)"
   ]
  },
  {
   "cell_type": "markdown",
   "id": "growing-supply",
   "metadata": {},
   "source": [
    "## Улучшение нейронной сети"
   ]
  },
  {
   "cell_type": "code",
   "execution_count": null,
   "id": "dcecbdd2",
   "metadata": {},
   "outputs": [],
   "source": [
    "X_train_up = tensor(X_train, dtype=torch.float32)\n",
    "X_test_up = tensor(X_test, dtype=torch.float32)\n",
    "\n",
    "y_train_up = tensor(y_train.reshape(-1,1), dtype=torch.float32)\n",
    "y_test_up = tensor(y_test.reshape(-1,1), dtype=torch.float32)\n",
    "\n",
    "X_train.shape, X_test.shape, y_train.shape, y_test.shape"
   ]
  },
  {
   "cell_type": "code",
   "execution_count": null,
   "id": "af81307e",
   "metadata": {},
   "outputs": [],
   "source": [
    "class Model_improve(nn.Module):\n",
    "    def __init__(self, n_in_neurons, n_hidden_neurons_1, n_hidden_neurons_2, n_out_neurons, \n",
    "                 dropout_1, dropout_2, activation_1, activation_2, activation_3):\n",
    "        super(Model_improve, self).__init__()\n",
    "\n",
    "        self.fc1 = nn.Linear(n_in_neurons, n_hidden_neurons_1)\n",
    "        self.bn1 = nn.BatchNorm1d(n_hidden_neurons_1)\n",
    "        self.act1 = activation_1\n",
    "        self.dp1 = nn.Dropout(dropout_1)\n",
    "        \n",
    "        self.fc2 = nn.Linear(n_hidden_neurons_1, n_hidden_neurons_2)\n",
    "        self.bn2 = nn.BatchNorm1d(n_hidden_neurons_2)\n",
    "        self.act2 = activation_2\n",
    "        self.dp2 = nn.Dropout(dropout_2)\n",
    "        \n",
    "        self.fc3 = nn.Linear(n_hidden_neurons_2, n_out_neurons)\n",
    "        self.act3 = activation_3\n",
    "        \n",
    "        nn.init.kaiming_uniform_(self.fc1.weight)\n",
    "        nn.init.normal(self.fc1.bias, mean=0, std=sqrt(2/n_in_neurons))\n",
    "        \n",
    "        nn.init.kaiming_uniform_(self.fc2.weight)\n",
    "        nn.init.normal_(self.fc2.bias, mean=0, std=sqrt(2/n_hidden_neurons_1))\n",
    "       \n",
    "        nn.init.kaiming_uniform_(self.fc3.weight)\n",
    "        nn.init.normal(self.fc3.bias, mean=0, std=sqrt(2/n_hidden_neurons_2))\n",
    "        \n",
    "    def forward(self, x):\n",
    "        x = self.fc1(x)\n",
    "        x = self.bn1(x)\n",
    "        x = self.act1(x)\n",
    "        x = self.dp1(x)\n",
    "        \n",
    "        x = self.fc2(x)\n",
    "        x = self.bn2(x)\n",
    "        x = self.act2(x)\n",
    "        x = self.dp2(x)\n",
    "\n",
    "        x = self.fc3(x)\n",
    "        x = self.act3(x)\n",
    "        \n",
    "        return x"
   ]
  },
  {
   "cell_type": "code",
   "execution_count": null,
   "id": "b9e62625",
   "metadata": {},
   "outputs": [],
   "source": [
    "net = Model_improve(n_in_neurons, n_hidden_neurons_1, 36, n_out_neurons, \n",
    "                    0.8, 0.5, nn.ReLU(), nn.ReLU(), nn.ReLU())"
   ]
  },
  {
   "cell_type": "code",
   "execution_count": null,
   "id": "1f7a3637",
   "metadata": {},
   "outputs": [],
   "source": [
    "rmse_scorer = make_scorer(mean_squared_error, squared=False)\n",
    "\n",
    "skorch_regressor = NeuralNetRegressor(module=net, \n",
    "                                      device='cpu',  \n",
    "                                      verbose=10,\n",
    "                                      batch_size=40,\n",
    "                                      optimizer=torch.optim.Adam, \n",
    "                                      max_epochs=1000, \n",
    "                                      lr=0.01,\n",
    "                                      criterion=torch.nn.MSELoss,\n",
    "                                      callbacks=[\n",
    "                ('val_rmse', EpochScoring(scoring=rmse_scorer, lower_is_better=True, name='RMSE')),\n",
    "                ('estoper', EarlyStopping(lower_is_better=True, monitor='RMSE', patience=5))\n",
    "            ], \n",
    "                                     )"
   ]
  },
  {
   "cell_type": "code",
   "execution_count": null,
   "id": "6151c062",
   "metadata": {
    "scrolled": true
   },
   "outputs": [],
   "source": [
    "skorch_regressor.fit(X_train_up, y_train_up)"
   ]
  },
  {
   "cell_type": "code",
   "execution_count": null,
   "id": "9f172b54",
   "metadata": {},
   "outputs": [],
   "source": [
    "ep = skorch_regressor.history[:, 'epoch']\n",
    "r = skorch_regressor.history[:, 'RMSE']\n",
    "\n",
    "plt.plot(ep)\n",
    "plt.plot(r)\n",
    "\n",
    "plt.xlabel('rmse')\n",
    "plt.ylabel('epoch')\n",
    "\n",
    "plt.legend(r,ep)\n",
    "plt.show()"
   ]
  },
  {
   "cell_type": "code",
   "execution_count": null,
   "id": "4c316066",
   "metadata": {},
   "outputs": [],
   "source": [
    "print(\"Train RMSE : {}\".format(sqrt(mean_squared_error(y_train_up, skorch_regressor.predict(X_train).reshape(-1)))))\n",
    "print(\"Test  RMSE : {}\".format(sqrt(mean_squared_error(y_test_up, skorch_regressor.predict(X_test).reshape(-1)))))"
   ]
  },
  {
   "cell_type": "code",
   "execution_count": null,
   "id": "fb41afa8",
   "metadata": {},
   "outputs": [],
   "source": [
    "params = {\n",
    "    'module__n_in_neurons':[14],\n",
    "    'module__n_hidden_neurons_1': range(1, 150, 5),\n",
    "    'module__n_hidden_neurons_2': range(1, 150, 5),\n",
    "    'module__n_out_neurons':[1],\n",
    "    'module__dropout_1': [0, 0.2, 0.4, 0.6, 0.8],\n",
    "    'module__dropout_2': [0, 0.2, 0.4, 0.6, 0.8],\n",
    "    'module__activation_1': [nn.LeakyReLU(), nn.ReLU(), nn.Tanh(), nn.ELU()],\n",
    "    'module__activation_2': [nn.LeakyReLU(), nn.ReLU(), nn.Tanh(), nn.ELU()],\n",
    "    'module__activation_3': [nn.LeakyReLU(), nn.ReLU(), nn.Tanh(), nn.ELU()],\n",
    "    'lr': [0.1,0.01, 0.001,0.0001]\n",
    "}"
   ]
  },
  {
   "cell_type": "code",
   "execution_count": null,
   "id": "0333caf0",
   "metadata": {
    "scrolled": true
   },
   "outputs": [],
   "source": [
    "grid = RandomizedSearchCV(skorch_regressor, params, cv=3, scoring=\"neg_root_mean_squared_error\", \n",
    "                          verbose=3, random_state=123)\n",
    "param = grid.fit(X_train_up, y_train_up.reshape(-1,1))"
   ]
  },
  {
   "cell_type": "code",
   "execution_count": null,
   "id": "af82660a",
   "metadata": {
    "scrolled": true
   },
   "outputs": [],
   "source": [
    "param.best_params_"
   ]
  },
  {
   "cell_type": "code",
   "execution_count": null,
   "id": "d01faf49",
   "metadata": {},
   "outputs": [],
   "source": [
    "pred = grid.predict(X_test_up)"
   ]
  },
  {
   "cell_type": "code",
   "execution_count": null,
   "id": "8d20b3ef",
   "metadata": {},
   "outputs": [],
   "source": [
    "Train_RMSE = sqrt(mean_squared_error(y_train_up, grid.predict(X_train_up).reshape(-1)))\n",
    "Test_RMSE  = sqrt(mean_squared_error(y_test_up, grid.predict(X_test_up).reshape(-1)))"
   ]
  },
  {
   "cell_type": "code",
   "execution_count": null,
   "id": "0cbcb5ab",
   "metadata": {
    "scrolled": true
   },
   "outputs": [],
   "source": [
    "print(\"Train RMSE : {}\".format(Train_RMSE))\n",
    "print(\"Test  RMSE : {}\".format(Test_RMSE))"
   ]
  },
  {
   "cell_type": "code",
   "execution_count": null,
   "id": "7e0f574f",
   "metadata": {},
   "outputs": [],
   "source": [
    "graph(tensor(pred.reshape(-1)), y_test)"
   ]
  },
  {
   "cell_type": "markdown",
   "id": "accurate-infrastructure",
   "metadata": {},
   "source": [
    "## Выводы"
   ]
  },
  {
   "cell_type": "markdown",
   "id": "77f1c3c3",
   "metadata": {},
   "source": [
    "Базовая модель нейронной сети с параметрами n_hidden_neurons_1 = 7, n_hidden_neurons_2 = 10 показала значение RMSE 7579. Улучшили модель, используя перебор количества нейронов в скрытых слоях, а также используем BatchNorm и Dropout. Установили следующие параметры:\n",
    "\n",
    "    n_in_neurons = 14\n",
    "    n_hidden_neurons_1 = 61\n",
    "    n_hidden_neurons_2 = 141\n",
    "    dropout_1 = 0.8\n",
    "    dropout_2 = 0\n",
    "    BatchNorn = 61\n",
    "    BatchNorn_2 = 141\n",
    "    n_out_neurons = 1\n",
    "функция активации после каждого слоя:\n",
    "    ELU, ReLU, ELU.\n",
    "Также для настройки модели использовали EarlyStopping. С данными параметрами нейронной сети мы достигли значения RMSE 4207."
   ]
  }
 ],
 "metadata": {
  "ExecuteTimeLog": [
   {
    "duration": 129,
    "start_time": "2023-09-16T09:31:23.882Z"
   },
   {
    "duration": 41,
    "start_time": "2023-09-16T09:31:24.299Z"
   },
   {
    "duration": 6,
    "start_time": "2023-09-16T09:31:25.692Z"
   },
   {
    "duration": 123,
    "start_time": "2023-09-16T09:31:51.474Z"
   },
   {
    "duration": 1026,
    "start_time": "2023-09-16T09:32:21.314Z"
   },
   {
    "duration": 143,
    "start_time": "2023-09-16T09:32:23.086Z"
   },
   {
    "duration": 99,
    "start_time": "2023-09-16T09:32:23.994Z"
   },
   {
    "duration": 29,
    "start_time": "2023-09-16T09:32:29.876Z"
   },
   {
    "duration": 11,
    "start_time": "2023-09-16T09:34:24.411Z"
   },
   {
    "duration": 25,
    "start_time": "2023-09-16T09:34:35.935Z"
   },
   {
    "duration": 13,
    "start_time": "2023-09-16T09:42:51.284Z"
   },
   {
    "duration": 67,
    "start_time": "2023-09-16T09:43:18.264Z"
   },
   {
    "duration": 855,
    "start_time": "2023-09-16T09:43:21.806Z"
   },
   {
    "duration": 13,
    "start_time": "2023-09-16T09:43:26.995Z"
   },
   {
    "duration": 10,
    "start_time": "2023-09-16T09:43:27.618Z"
   },
   {
    "duration": 4128,
    "start_time": "2023-09-16T09:43:45.103Z"
   },
   {
    "duration": 635,
    "start_time": "2023-09-16T09:43:49.233Z"
   },
   {
    "duration": 4531,
    "start_time": "2023-09-16T09:44:42.297Z"
   },
   {
    "duration": 5446,
    "start_time": "2023-09-16T09:45:00.785Z"
   },
   {
    "duration": 11106,
    "start_time": "2023-09-16T09:45:14.068Z"
   },
   {
    "duration": 3808,
    "start_time": "2023-09-16T09:46:01.973Z"
   },
   {
    "duration": 4296,
    "start_time": "2023-09-16T09:46:09.509Z"
   },
   {
    "duration": 516,
    "start_time": "2023-09-16T09:46:37.602Z"
   },
   {
    "duration": 541,
    "start_time": "2023-09-16T09:46:53.898Z"
   },
   {
    "duration": 595,
    "start_time": "2023-09-16T09:47:01.034Z"
   },
   {
    "duration": 647,
    "start_time": "2023-09-16T09:47:08.418Z"
   },
   {
    "duration": 4805,
    "start_time": "2023-09-16T09:47:31.971Z"
   },
   {
    "duration": 4312,
    "start_time": "2023-09-16T09:48:00.153Z"
   },
   {
    "duration": 4246,
    "start_time": "2023-09-16T09:48:21.925Z"
   },
   {
    "duration": 4147,
    "start_time": "2023-09-16T09:49:14.870Z"
   },
   {
    "duration": 4864,
    "start_time": "2023-09-16T09:49:49.773Z"
   },
   {
    "duration": 5304,
    "start_time": "2023-09-16T09:50:31.871Z"
   },
   {
    "duration": 4802,
    "start_time": "2023-09-16T09:50:49.903Z"
   },
   {
    "duration": 18,
    "start_time": "2023-09-16T09:51:06.385Z"
   },
   {
    "duration": 4428,
    "start_time": "2023-09-16T09:51:09.327Z"
   },
   {
    "duration": 4921,
    "start_time": "2023-09-16T09:51:19.194Z"
   },
   {
    "duration": 13,
    "start_time": "2023-09-16T09:53:27.409Z"
   },
   {
    "duration": 25,
    "start_time": "2023-09-16T09:53:43.540Z"
   },
   {
    "duration": 4431,
    "start_time": "2023-09-16T09:53:57.570Z"
   },
   {
    "duration": 4377,
    "start_time": "2023-09-16T09:54:25.123Z"
   },
   {
    "duration": 23,
    "start_time": "2023-09-16T10:05:36.204Z"
   },
   {
    "duration": 4,
    "start_time": "2023-09-16T10:05:38.368Z"
   },
   {
    "duration": 766,
    "start_time": "2023-09-16T10:05:40.013Z"
   },
   {
    "duration": 5214,
    "start_time": "2023-09-16T10:05:44.259Z"
   },
   {
    "duration": 716,
    "start_time": "2023-09-16T10:05:49.482Z"
   },
   {
    "duration": 6121,
    "start_time": "2023-09-16T10:05:50.203Z"
   },
   {
    "duration": 5784,
    "start_time": "2023-09-16T10:05:56.330Z"
   },
   {
    "duration": 5371,
    "start_time": "2023-09-16T10:06:02.116Z"
   },
   {
    "duration": 5520,
    "start_time": "2023-09-16T10:06:07.489Z"
   },
   {
    "duration": 635,
    "start_time": "2023-09-16T10:06:13.014Z"
   },
   {
    "duration": 12,
    "start_time": "2023-09-16T10:06:48.611Z"
   },
   {
    "duration": 11,
    "start_time": "2023-09-16T10:06:58.738Z"
   },
   {
    "duration": 10,
    "start_time": "2023-09-16T10:07:06.640Z"
   },
   {
    "duration": 11,
    "start_time": "2023-09-16T10:07:14.719Z"
   },
   {
    "duration": 5,
    "start_time": "2023-09-16T10:07:26.719Z"
   },
   {
    "duration": 6,
    "start_time": "2023-09-16T10:09:00.925Z"
   },
   {
    "duration": 13,
    "start_time": "2023-09-16T10:09:08.974Z"
   },
   {
    "duration": 483,
    "start_time": "2023-09-16T10:09:15.327Z"
   },
   {
    "duration": 4638,
    "start_time": "2023-09-16T10:09:19.571Z"
   },
   {
    "duration": 464,
    "start_time": "2023-09-16T10:09:24.211Z"
   },
   {
    "duration": 5049,
    "start_time": "2023-09-16T10:09:24.680Z"
   },
   {
    "duration": 4961,
    "start_time": "2023-09-16T10:09:29.732Z"
   },
   {
    "duration": 4960,
    "start_time": "2023-09-16T10:09:34.702Z"
   },
   {
    "duration": 4860,
    "start_time": "2023-09-16T10:09:39.664Z"
   },
   {
    "duration": 430,
    "start_time": "2023-09-16T10:09:44.527Z"
   },
   {
    "duration": 5864,
    "start_time": "2023-09-16T10:10:41.463Z"
   },
   {
    "duration": 38,
    "start_time": "2023-09-16T10:12:25.730Z"
   },
   {
    "duration": 13,
    "start_time": "2023-09-16T10:19:41.710Z"
   },
   {
    "duration": 27,
    "start_time": "2023-09-16T10:19:43.941Z"
   },
   {
    "duration": 17,
    "start_time": "2023-09-16T10:19:44.358Z"
   },
   {
    "duration": 8,
    "start_time": "2023-09-16T10:19:55.126Z"
   },
   {
    "duration": 15,
    "start_time": "2023-09-16T10:19:55.818Z"
   },
   {
    "duration": 11,
    "start_time": "2023-09-16T10:19:59.500Z"
   },
   {
    "duration": 11,
    "start_time": "2023-09-16T10:20:02.030Z"
   },
   {
    "duration": 19,
    "start_time": "2023-09-16T10:22:19.334Z"
   },
   {
    "duration": 9,
    "start_time": "2023-09-16T10:22:47.476Z"
   },
   {
    "duration": 36,
    "start_time": "2023-09-16T10:22:47.672Z"
   },
   {
    "duration": 14,
    "start_time": "2023-09-16T10:22:47.910Z"
   },
   {
    "duration": 35,
    "start_time": "2023-09-16T10:22:48.122Z"
   },
   {
    "duration": 45,
    "start_time": "2023-09-16T10:22:48.538Z"
   },
   {
    "duration": 9,
    "start_time": "2023-09-16T10:22:50.806Z"
   },
   {
    "duration": 8,
    "start_time": "2023-09-16T10:22:51.873Z"
   },
   {
    "duration": 7,
    "start_time": "2023-09-16T10:22:52.506Z"
   },
   {
    "duration": 16,
    "start_time": "2023-09-16T10:22:54.085Z"
   },
   {
    "duration": 8,
    "start_time": "2023-09-16T10:22:58.495Z"
   },
   {
    "duration": 9,
    "start_time": "2023-09-16T10:22:59.005Z"
   },
   {
    "duration": 24,
    "start_time": "2023-09-16T10:22:59.665Z"
   },
   {
    "duration": 25,
    "start_time": "2023-09-16T10:23:07.472Z"
   },
   {
    "duration": 9,
    "start_time": "2023-09-16T10:23:46.304Z"
   },
   {
    "duration": 148,
    "start_time": "2023-09-16T10:24:43.786Z"
   },
   {
    "duration": 194,
    "start_time": "2023-09-16T10:24:50.731Z"
   },
   {
    "duration": 8,
    "start_time": "2023-09-16T10:25:04.325Z"
   },
   {
    "duration": 33,
    "start_time": "2023-09-16T10:25:30.629Z"
   },
   {
    "duration": 14,
    "start_time": "2023-09-16T10:26:06.415Z"
   },
   {
    "duration": 11,
    "start_time": "2023-09-16T10:26:41.542Z"
   },
   {
    "duration": 10,
    "start_time": "2023-09-16T10:26:41.805Z"
   },
   {
    "duration": 18,
    "start_time": "2023-09-16T10:26:42.083Z"
   },
   {
    "duration": 11,
    "start_time": "2023-09-16T10:26:42.614Z"
   },
   {
    "duration": 31,
    "start_time": "2023-09-16T10:26:56.996Z"
   },
   {
    "duration": 19,
    "start_time": "2023-09-16T10:27:43.809Z"
   },
   {
    "duration": 12,
    "start_time": "2023-09-16T10:27:50.023Z"
   },
   {
    "duration": 15,
    "start_time": "2023-09-16T10:27:50.592Z"
   },
   {
    "duration": 15,
    "start_time": "2023-09-16T10:27:53.485Z"
   },
   {
    "duration": 22,
    "start_time": "2023-09-16T10:27:53.774Z"
   },
   {
    "duration": 9,
    "start_time": "2023-09-16T10:27:54.224Z"
   },
   {
    "duration": 8,
    "start_time": "2023-09-16T10:27:54.806Z"
   },
   {
    "duration": 83,
    "start_time": "2023-09-16T10:28:05.039Z"
   },
   {
    "duration": 4,
    "start_time": "2023-09-16T10:35:04.914Z"
   },
   {
    "duration": 10,
    "start_time": "2023-09-16T10:35:05.328Z"
   },
   {
    "duration": 24,
    "start_time": "2023-09-16T10:47:51.039Z"
   },
   {
    "duration": 9,
    "start_time": "2023-09-16T10:47:51.321Z"
   },
   {
    "duration": 9,
    "start_time": "2023-09-16T10:47:51.791Z"
   },
   {
    "duration": 9,
    "start_time": "2023-09-16T10:47:52.323Z"
   },
   {
    "duration": 7,
    "start_time": "2023-09-16T10:48:47.813Z"
   },
   {
    "duration": 4,
    "start_time": "2023-09-16T10:48:51.873Z"
   },
   {
    "duration": 9,
    "start_time": "2023-09-16T10:48:52.241Z"
   },
   {
    "duration": 15,
    "start_time": "2023-09-16T10:48:52.941Z"
   },
   {
    "duration": 3,
    "start_time": "2023-09-16T10:48:53.302Z"
   },
   {
    "duration": 14,
    "start_time": "2023-09-16T10:48:54.700Z"
   },
   {
    "duration": 2,
    "start_time": "2023-09-16T10:49:24.295Z"
   },
   {
    "duration": 5,
    "start_time": "2023-09-16T10:49:24.880Z"
   },
   {
    "duration": 3,
    "start_time": "2023-09-16T10:49:25.238Z"
   },
   {
    "duration": 3,
    "start_time": "2023-09-16T10:49:25.701Z"
   },
   {
    "duration": 11,
    "start_time": "2023-09-16T10:49:26.214Z"
   },
   {
    "duration": 5,
    "start_time": "2023-09-16T10:51:25.666Z"
   },
   {
    "duration": 3,
    "start_time": "2023-09-16T10:51:26.096Z"
   },
   {
    "duration": 3,
    "start_time": "2023-09-16T10:51:26.589Z"
   },
   {
    "duration": 4,
    "start_time": "2023-09-16T10:51:27.264Z"
   },
   {
    "duration": 28,
    "start_time": "2023-09-16T10:51:27.943Z"
   },
   {
    "duration": 22,
    "start_time": "2023-09-16T10:52:24.275Z"
   },
   {
    "duration": 3,
    "start_time": "2023-09-16T10:53:38.411Z"
   },
   {
    "duration": 6,
    "start_time": "2023-09-16T10:53:39.061Z"
   },
   {
    "duration": 2014,
    "start_time": "2023-09-16T10:53:39.663Z"
   },
   {
    "duration": 4,
    "start_time": "2023-09-16T10:54:17.569Z"
   },
   {
    "duration": 6,
    "start_time": "2023-09-16T10:54:17.881Z"
   },
   {
    "duration": 2,
    "start_time": "2023-09-16T10:54:18.226Z"
   },
   {
    "duration": 4,
    "start_time": "2023-09-16T10:54:18.595Z"
   },
   {
    "duration": 25,
    "start_time": "2023-09-16T10:54:18.900Z"
   },
   {
    "duration": 35,
    "start_time": "2023-09-16T10:54:28.372Z"
   },
   {
    "duration": 14,
    "start_time": "2023-09-16T10:54:39.863Z"
   },
   {
    "duration": 8,
    "start_time": "2023-09-16T10:54:40.363Z"
   },
   {
    "duration": 4,
    "start_time": "2023-09-16T10:54:40.873Z"
   },
   {
    "duration": 3,
    "start_time": "2023-09-16T10:54:41.305Z"
   },
   {
    "duration": 1920,
    "start_time": "2023-09-16T10:54:41.786Z"
   },
   {
    "duration": 3,
    "start_time": "2023-09-16T10:56:14.927Z"
   },
   {
    "duration": 3,
    "start_time": "2023-09-16T10:56:15.375Z"
   },
   {
    "duration": 12,
    "start_time": "2023-09-16T10:56:15.953Z"
   },
   {
    "duration": 3,
    "start_time": "2023-09-16T10:56:16.416Z"
   },
   {
    "duration": 35,
    "start_time": "2023-09-16T10:56:16.992Z"
   },
   {
    "duration": 36,
    "start_time": "2023-09-16T10:56:31.919Z"
   },
   {
    "duration": 11,
    "start_time": "2023-09-16T10:56:34.684Z"
   },
   {
    "duration": 50,
    "start_time": "2023-09-16T10:56:34.983Z"
   },
   {
    "duration": 8,
    "start_time": "2023-09-16T11:00:23.782Z"
   },
   {
    "duration": 4,
    "start_time": "2023-09-16T11:00:24.724Z"
   },
   {
    "duration": 4,
    "start_time": "2023-09-16T11:00:25.126Z"
   },
   {
    "duration": 3,
    "start_time": "2023-09-16T11:00:25.783Z"
   },
   {
    "duration": 29,
    "start_time": "2023-09-16T11:00:26.297Z"
   },
   {
    "duration": 26,
    "start_time": "2023-09-16T11:00:33.103Z"
   },
   {
    "duration": 3,
    "start_time": "2023-09-16T11:01:14.806Z"
   },
   {
    "duration": 3,
    "start_time": "2023-09-16T11:01:15.815Z"
   },
   {
    "duration": 3,
    "start_time": "2023-09-16T11:01:16.736Z"
   },
   {
    "duration": 2,
    "start_time": "2023-09-16T11:01:17.694Z"
   },
   {
    "duration": 31,
    "start_time": "2023-09-16T11:01:18.271Z"
   },
   {
    "duration": 29,
    "start_time": "2023-09-16T11:06:31.663Z"
   },
   {
    "duration": 32,
    "start_time": "2023-09-16T11:06:39.217Z"
   },
   {
    "duration": 28,
    "start_time": "2023-09-16T11:06:45.269Z"
   },
   {
    "duration": 26,
    "start_time": "2023-09-16T11:07:30.287Z"
   },
   {
    "duration": 11,
    "start_time": "2023-09-16T11:07:49.900Z"
   },
   {
    "duration": 26,
    "start_time": "2023-09-16T11:07:58.483Z"
   },
   {
    "duration": 29,
    "start_time": "2023-09-16T11:08:12.541Z"
   },
   {
    "duration": 4,
    "start_time": "2023-09-16T11:11:21.978Z"
   },
   {
    "duration": 3,
    "start_time": "2023-09-16T11:11:23.725Z"
   },
   {
    "duration": 3,
    "start_time": "2023-09-16T11:11:24.215Z"
   },
   {
    "duration": 38,
    "start_time": "2023-09-16T11:11:24.704Z"
   },
   {
    "duration": 28,
    "start_time": "2023-09-16T11:11:31.763Z"
   },
   {
    "duration": 11,
    "start_time": "2023-09-16T11:11:48.999Z"
   },
   {
    "duration": 13,
    "start_time": "2023-09-16T11:12:33.808Z"
   },
   {
    "duration": 4,
    "start_time": "2023-09-16T11:12:43.140Z"
   },
   {
    "duration": 38,
    "start_time": "2023-09-16T11:12:44.617Z"
   },
   {
    "duration": 7,
    "start_time": "2023-09-16T11:14:12.545Z"
   },
   {
    "duration": 3,
    "start_time": "2023-09-16T11:14:13.606Z"
   },
   {
    "duration": 6,
    "start_time": "2023-09-16T11:14:26.271Z"
   },
   {
    "duration": 3,
    "start_time": "2023-09-16T11:14:26.813Z"
   },
   {
    "duration": 3,
    "start_time": "2023-09-16T11:14:27.201Z"
   },
   {
    "duration": 3,
    "start_time": "2023-09-16T11:14:27.721Z"
   },
   {
    "duration": 27,
    "start_time": "2023-09-16T11:14:28.319Z"
   },
   {
    "duration": 9,
    "start_time": "2023-09-16T11:14:34.063Z"
   },
   {
    "duration": 12,
    "start_time": "2023-09-16T11:14:34.406Z"
   },
   {
    "duration": 3,
    "start_time": "2023-09-16T11:14:34.837Z"
   },
   {
    "duration": 3,
    "start_time": "2023-09-16T11:14:35.298Z"
   },
   {
    "duration": 4,
    "start_time": "2023-09-16T11:14:35.747Z"
   },
   {
    "duration": 3,
    "start_time": "2023-09-16T11:14:36.219Z"
   },
   {
    "duration": 25,
    "start_time": "2023-09-16T11:14:36.713Z"
   },
   {
    "duration": 80,
    "start_time": "2023-09-16T11:14:59.673Z"
   },
   {
    "duration": 42,
    "start_time": "2023-09-16T11:15:00.546Z"
   },
   {
    "duration": 195,
    "start_time": "2023-09-16T11:15:23.576Z"
   },
   {
    "duration": 183,
    "start_time": "2023-09-16T11:15:29.000Z"
   },
   {
    "duration": 3,
    "start_time": "2023-09-16T11:15:39.531Z"
   },
   {
    "duration": 27,
    "start_time": "2023-09-16T11:15:40.086Z"
   },
   {
    "duration": 2,
    "start_time": "2023-09-16T11:16:01.675Z"
   },
   {
    "duration": 10,
    "start_time": "2023-09-16T11:16:02.274Z"
   },
   {
    "duration": 5,
    "start_time": "2023-09-16T11:17:46.159Z"
   },
   {
    "duration": 16,
    "start_time": "2023-09-16T11:17:46.656Z"
   },
   {
    "duration": 3,
    "start_time": "2023-09-16T11:17:47.633Z"
   },
   {
    "duration": 5,
    "start_time": "2023-09-16T11:17:48.246Z"
   },
   {
    "duration": 16,
    "start_time": "2023-09-16T11:17:48.791Z"
   },
   {
    "duration": 10,
    "start_time": "2023-09-16T11:18:22.007Z"
   },
   {
    "duration": 16,
    "start_time": "2023-09-16T11:18:26.638Z"
   },
   {
    "duration": 15,
    "start_time": "2023-09-16T11:18:58.071Z"
   },
   {
    "duration": 6,
    "start_time": "2023-09-16T11:19:13.489Z"
   },
   {
    "duration": 10,
    "start_time": "2023-09-16T11:20:43.169Z"
   },
   {
    "duration": 9,
    "start_time": "2023-09-16T11:29:42.071Z"
   },
   {
    "duration": 168,
    "start_time": "2023-09-16T11:29:46.729Z"
   },
   {
    "duration": 770,
    "start_time": "2023-09-16T11:29:53.392Z"
   },
   {
    "duration": 19,
    "start_time": "2023-09-16T11:29:57.239Z"
   },
   {
    "duration": 29,
    "start_time": "2023-09-16T11:30:27.321Z"
   },
   {
    "duration": 19,
    "start_time": "2023-09-16T11:31:14.480Z"
   },
   {
    "duration": 3,
    "start_time": "2023-09-16T11:31:52.982Z"
   },
   {
    "duration": 3,
    "start_time": "2023-09-16T11:31:53.370Z"
   },
   {
    "duration": 3,
    "start_time": "2023-09-16T11:31:53.927Z"
   },
   {
    "duration": 4,
    "start_time": "2023-09-16T11:31:54.380Z"
   },
   {
    "duration": 19,
    "start_time": "2023-09-16T11:31:54.803Z"
   },
   {
    "duration": 13,
    "start_time": "2023-09-16T11:31:55.771Z"
   },
   {
    "duration": 3,
    "start_time": "2023-09-16T11:31:59.899Z"
   },
   {
    "duration": 10,
    "start_time": "2023-09-16T11:32:00.108Z"
   },
   {
    "duration": 3,
    "start_time": "2023-09-16T11:32:00.312Z"
   },
   {
    "duration": 4,
    "start_time": "2023-09-16T11:32:00.486Z"
   },
   {
    "duration": 3,
    "start_time": "2023-09-16T11:32:00.677Z"
   },
   {
    "duration": 3,
    "start_time": "2023-09-16T11:32:00.874Z"
   },
   {
    "duration": 26,
    "start_time": "2023-09-16T11:32:01.063Z"
   },
   {
    "duration": 17,
    "start_time": "2023-09-16T11:32:02.634Z"
   },
   {
    "duration": 3,
    "start_time": "2023-09-16T11:32:25.802Z"
   },
   {
    "duration": 9,
    "start_time": "2023-09-16T11:32:25.986Z"
   },
   {
    "duration": 3,
    "start_time": "2023-09-16T11:32:26.179Z"
   },
   {
    "duration": 3,
    "start_time": "2023-09-16T11:32:26.435Z"
   },
   {
    "duration": 3,
    "start_time": "2023-09-16T11:32:26.682Z"
   },
   {
    "duration": 3,
    "start_time": "2023-09-16T11:32:27.117Z"
   },
   {
    "duration": 13,
    "start_time": "2023-09-16T11:32:27.470Z"
   },
   {
    "duration": 4,
    "start_time": "2023-09-16T11:32:28.405Z"
   },
   {
    "duration": 199,
    "start_time": "2023-09-16T11:32:46.462Z"
   },
   {
    "duration": 3,
    "start_time": "2023-09-16T11:32:47.666Z"
   },
   {
    "duration": 11,
    "start_time": "2023-09-16T11:32:47.671Z"
   },
   {
    "duration": 11,
    "start_time": "2023-09-16T11:32:47.684Z"
   },
   {
    "duration": 21,
    "start_time": "2023-09-16T11:32:47.696Z"
   },
   {
    "duration": 4,
    "start_time": "2023-09-16T11:32:48.162Z"
   },
   {
    "duration": 17,
    "start_time": "2023-09-16T11:33:34.459Z"
   },
   {
    "duration": 3841,
    "start_time": "2023-09-16T11:33:58.507Z"
   },
   {
    "duration": 77,
    "start_time": "2023-09-16T11:34:04.763Z"
   },
   {
    "duration": 31,
    "start_time": "2023-09-16T11:34:08.463Z"
   },
   {
    "duration": 19,
    "start_time": "2023-09-16T11:34:08.638Z"
   },
   {
    "duration": 28,
    "start_time": "2023-09-16T11:34:08.821Z"
   },
   {
    "duration": 15,
    "start_time": "2023-09-16T11:34:08.992Z"
   },
   {
    "duration": 4,
    "start_time": "2023-09-16T11:34:09.373Z"
   },
   {
    "duration": 7,
    "start_time": "2023-09-16T11:34:09.571Z"
   },
   {
    "duration": 7,
    "start_time": "2023-09-16T11:34:09.759Z"
   },
   {
    "duration": 10,
    "start_time": "2023-09-16T11:34:09.941Z"
   },
   {
    "duration": 461,
    "start_time": "2023-09-16T11:34:10.119Z"
   },
   {
    "duration": 328,
    "start_time": "2023-09-16T11:34:10.582Z"
   },
   {
    "duration": 3992,
    "start_time": "2023-09-16T11:34:10.912Z"
   },
   {
    "duration": 4503,
    "start_time": "2023-09-16T11:34:14.906Z"
   },
   {
    "duration": 4270,
    "start_time": "2023-09-16T11:34:19.412Z"
   },
   {
    "duration": 3571,
    "start_time": "2023-09-16T11:34:23.685Z"
   },
   {
    "duration": 4336,
    "start_time": "2023-09-16T11:34:27.258Z"
   },
   {
    "duration": 4,
    "start_time": "2023-09-16T11:34:31.596Z"
   },
   {
    "duration": 49,
    "start_time": "2023-09-16T11:34:31.602Z"
   },
   {
    "duration": 26,
    "start_time": "2023-09-16T11:34:31.653Z"
   },
   {
    "duration": 39,
    "start_time": "2023-09-16T11:34:31.680Z"
   },
   {
    "duration": 28,
    "start_time": "2023-09-16T11:34:31.720Z"
   },
   {
    "duration": 28,
    "start_time": "2023-09-16T11:34:31.752Z"
   },
   {
    "duration": 2209,
    "start_time": "2023-09-16T11:34:31.781Z"
   },
   {
    "duration": 0,
    "start_time": "2023-09-16T11:34:33.991Z"
   },
   {
    "duration": 3,
    "start_time": "2023-09-16T11:35:03.204Z"
   },
   {
    "duration": 3,
    "start_time": "2023-09-16T11:35:03.535Z"
   },
   {
    "duration": 3,
    "start_time": "2023-09-16T11:35:03.827Z"
   },
   {
    "duration": 6,
    "start_time": "2023-09-16T11:35:04.044Z"
   },
   {
    "duration": 2818,
    "start_time": "2023-09-16T11:35:04.267Z"
   },
   {
    "duration": 2,
    "start_time": "2023-09-16T11:35:33.424Z"
   },
   {
    "duration": 4,
    "start_time": "2023-09-16T11:35:33.604Z"
   },
   {
    "duration": 4,
    "start_time": "2023-09-16T11:35:33.784Z"
   },
   {
    "duration": 3,
    "start_time": "2023-09-16T11:35:33.979Z"
   },
   {
    "duration": 18,
    "start_time": "2023-09-16T11:35:34.303Z"
   },
   {
    "duration": 3,
    "start_time": "2023-09-16T11:35:35.997Z"
   },
   {
    "duration": 12,
    "start_time": "2023-09-16T11:36:07.168Z"
   },
   {
    "duration": 4,
    "start_time": "2023-09-16T11:36:11.896Z"
   },
   {
    "duration": 5,
    "start_time": "2023-09-16T11:36:12.271Z"
   },
   {
    "duration": 7,
    "start_time": "2023-09-16T11:48:54.116Z"
   },
   {
    "duration": 4,
    "start_time": "2023-09-16T11:48:54.696Z"
   },
   {
    "duration": 18,
    "start_time": "2023-09-16T11:48:55.140Z"
   },
   {
    "duration": 5,
    "start_time": "2023-09-16T11:48:55.806Z"
   },
   {
    "duration": 14,
    "start_time": "2023-09-16T11:48:56.670Z"
   },
   {
    "duration": 18,
    "start_time": "2023-09-16T11:51:15.571Z"
   },
   {
    "duration": 21,
    "start_time": "2023-09-16T11:52:20.868Z"
   },
   {
    "duration": 131,
    "start_time": "2023-09-16T11:53:55.637Z"
   },
   {
    "duration": 4,
    "start_time": "2023-09-16T11:54:10.369Z"
   },
   {
    "duration": 5,
    "start_time": "2023-09-16T11:54:10.614Z"
   },
   {
    "duration": 5,
    "start_time": "2023-09-16T11:54:10.870Z"
   },
   {
    "duration": 3,
    "start_time": "2023-09-16T11:54:11.138Z"
   },
   {
    "duration": 6,
    "start_time": "2023-09-16T11:54:11.518Z"
   },
   {
    "duration": 5,
    "start_time": "2023-09-16T11:54:11.988Z"
   },
   {
    "duration": 42,
    "start_time": "2023-09-16T11:54:12.634Z"
   },
   {
    "duration": 5,
    "start_time": "2023-09-16T11:56:11.480Z"
   },
   {
    "duration": 2,
    "start_time": "2023-09-16T11:56:12.202Z"
   },
   {
    "duration": 6,
    "start_time": "2023-09-16T11:56:13.281Z"
   },
   {
    "duration": 6,
    "start_time": "2023-09-16T11:56:13.814Z"
   },
   {
    "duration": 31,
    "start_time": "2023-09-16T11:56:14.222Z"
   },
   {
    "duration": 8,
    "start_time": "2023-09-16T11:57:01.941Z"
   },
   {
    "duration": 20,
    "start_time": "2023-09-16T11:57:02.572Z"
   },
   {
    "duration": 5,
    "start_time": "2023-09-16T11:57:03.180Z"
   },
   {
    "duration": 37,
    "start_time": "2023-09-16T11:57:03.870Z"
   },
   {
    "duration": 5,
    "start_time": "2023-09-16T11:57:18.919Z"
   },
   {
    "duration": 45,
    "start_time": "2023-09-16T11:57:19.545Z"
   },
   {
    "duration": 9,
    "start_time": "2023-09-16T11:57:34.542Z"
   },
   {
    "duration": 10,
    "start_time": "2023-09-16T11:57:34.924Z"
   },
   {
    "duration": 14,
    "start_time": "2023-09-16T11:57:35.241Z"
   },
   {
    "duration": 28,
    "start_time": "2023-09-16T11:57:35.688Z"
   },
   {
    "duration": 38,
    "start_time": "2023-09-16T11:58:03.192Z"
   },
   {
    "duration": 16,
    "start_time": "2023-09-16T11:58:10.566Z"
   },
   {
    "duration": 67,
    "start_time": "2023-09-16T11:58:10.938Z"
   },
   {
    "duration": 6,
    "start_time": "2023-09-16T11:59:04.024Z"
   },
   {
    "duration": 54,
    "start_time": "2023-09-16T11:59:04.218Z"
   },
   {
    "duration": 9,
    "start_time": "2023-09-16T11:59:17.371Z"
   },
   {
    "duration": 57,
    "start_time": "2023-09-16T11:59:17.634Z"
   },
   {
    "duration": 4,
    "start_time": "2023-09-16T12:00:21.994Z"
   },
   {
    "duration": 28,
    "start_time": "2023-09-16T12:00:22.238Z"
   },
   {
    "duration": 10,
    "start_time": "2023-09-16T12:00:22.575Z"
   },
   {
    "duration": 12,
    "start_time": "2023-09-16T12:00:22.974Z"
   },
   {
    "duration": 2,
    "start_time": "2023-09-16T12:00:23.509Z"
   },
   {
    "duration": 3,
    "start_time": "2023-09-16T12:00:26.320Z"
   },
   {
    "duration": 19,
    "start_time": "2023-09-16T12:00:27.075Z"
   },
   {
    "duration": 3,
    "start_time": "2023-09-16T12:00:27.906Z"
   },
   {
    "duration": 4,
    "start_time": "2023-09-16T12:00:28.532Z"
   },
   {
    "duration": 4,
    "start_time": "2023-09-16T12:00:29.233Z"
   },
   {
    "duration": 3,
    "start_time": "2023-09-16T12:00:30.333Z"
   },
   {
    "duration": 6,
    "start_time": "2023-09-16T12:00:31.013Z"
   },
   {
    "duration": 5,
    "start_time": "2023-09-16T12:00:31.794Z"
   },
   {
    "duration": 56,
    "start_time": "2023-09-16T12:00:32.539Z"
   },
   {
    "duration": 2244,
    "start_time": "2023-09-16T12:00:58.589Z"
   },
   {
    "duration": 29,
    "start_time": "2023-09-16T12:01:03.286Z"
   },
   {
    "duration": 19,
    "start_time": "2023-09-16T12:01:03.476Z"
   },
   {
    "duration": 34,
    "start_time": "2023-09-16T12:01:03.663Z"
   },
   {
    "duration": 21,
    "start_time": "2023-09-16T12:01:03.829Z"
   },
   {
    "duration": 4,
    "start_time": "2023-09-16T12:01:04.220Z"
   },
   {
    "duration": 8,
    "start_time": "2023-09-16T12:01:04.434Z"
   },
   {
    "duration": 6,
    "start_time": "2023-09-16T12:01:04.621Z"
   },
   {
    "duration": 8,
    "start_time": "2023-09-16T12:01:04.804Z"
   },
   {
    "duration": 425,
    "start_time": "2023-09-16T12:01:05.299Z"
   },
   {
    "duration": 389,
    "start_time": "2023-09-16T12:01:05.726Z"
   },
   {
    "duration": 4515,
    "start_time": "2023-09-16T12:01:06.117Z"
   },
   {
    "duration": 5050,
    "start_time": "2023-09-16T12:01:10.634Z"
   },
   {
    "duration": 4579,
    "start_time": "2023-09-16T12:01:15.690Z"
   },
   {
    "duration": 4027,
    "start_time": "2023-09-16T12:01:20.270Z"
   },
   {
    "duration": 4735,
    "start_time": "2023-09-16T12:01:24.298Z"
   },
   {
    "duration": 21,
    "start_time": "2023-09-16T12:01:29.043Z"
   },
   {
    "duration": 23,
    "start_time": "2023-09-16T12:01:29.071Z"
   },
   {
    "duration": 9,
    "start_time": "2023-09-16T12:01:29.096Z"
   },
   {
    "duration": 6,
    "start_time": "2023-09-16T12:01:29.106Z"
   },
   {
    "duration": 7,
    "start_time": "2023-09-16T12:01:29.113Z"
   },
   {
    "duration": 4,
    "start_time": "2023-09-16T12:01:29.122Z"
   },
   {
    "duration": 18,
    "start_time": "2023-09-16T12:01:29.127Z"
   },
   {
    "duration": 21,
    "start_time": "2023-09-16T12:01:29.155Z"
   },
   {
    "duration": 7,
    "start_time": "2023-09-16T12:01:29.182Z"
   },
   {
    "duration": 19,
    "start_time": "2023-09-16T12:01:29.191Z"
   },
   {
    "duration": 9,
    "start_time": "2023-09-16T12:01:29.212Z"
   },
   {
    "duration": 7,
    "start_time": "2023-09-16T12:01:29.223Z"
   },
   {
    "duration": 25,
    "start_time": "2023-09-16T12:01:29.232Z"
   },
   {
    "duration": 192,
    "start_time": "2023-09-16T12:01:29.260Z"
   },
   {
    "duration": 36,
    "start_time": "2023-09-16T12:02:08.331Z"
   },
   {
    "duration": 18,
    "start_time": "2023-09-16T12:08:40.629Z"
   },
   {
    "duration": 39,
    "start_time": "2023-09-16T12:08:51.881Z"
   },
   {
    "duration": 13,
    "start_time": "2023-09-16T12:09:13.075Z"
   },
   {
    "duration": 21,
    "start_time": "2023-09-16T12:09:27.179Z"
   },
   {
    "duration": 38,
    "start_time": "2023-09-16T12:09:48.128Z"
   },
   {
    "duration": 21,
    "start_time": "2023-09-16T12:10:00.369Z"
   },
   {
    "duration": 15,
    "start_time": "2023-09-16T12:10:10.416Z"
   },
   {
    "duration": 28,
    "start_time": "2023-09-16T12:10:25.583Z"
   },
   {
    "duration": 29,
    "start_time": "2023-09-16T12:11:16.768Z"
   },
   {
    "duration": 3,
    "start_time": "2023-09-16T12:11:39.377Z"
   },
   {
    "duration": 11,
    "start_time": "2023-09-16T12:11:42.418Z"
   },
   {
    "duration": 7,
    "start_time": "2023-09-16T12:11:42.911Z"
   },
   {
    "duration": 45,
    "start_time": "2023-09-16T12:11:43.508Z"
   },
   {
    "duration": 6,
    "start_time": "2023-09-16T12:14:28.071Z"
   },
   {
    "duration": 11,
    "start_time": "2023-09-16T12:14:28.487Z"
   },
   {
    "duration": 8,
    "start_time": "2023-09-16T12:14:28.838Z"
   },
   {
    "duration": 63,
    "start_time": "2023-09-16T12:14:29.298Z"
   },
   {
    "duration": 3,
    "start_time": "2023-09-16T12:14:40.971Z"
   },
   {
    "duration": 6,
    "start_time": "2023-09-16T12:14:41.381Z"
   },
   {
    "duration": 5,
    "start_time": "2023-09-16T12:14:41.724Z"
   },
   {
    "duration": 31,
    "start_time": "2023-09-16T12:14:42.117Z"
   },
   {
    "duration": 27,
    "start_time": "2023-09-16T12:15:18.893Z"
   },
   {
    "duration": 5,
    "start_time": "2023-09-16T12:15:27.722Z"
   },
   {
    "duration": 40,
    "start_time": "2023-09-16T12:15:28.650Z"
   },
   {
    "duration": 5,
    "start_time": "2023-09-16T12:15:48.274Z"
   },
   {
    "duration": 26,
    "start_time": "2023-09-16T12:15:48.795Z"
   },
   {
    "duration": 3,
    "start_time": "2023-09-16T12:16:01.812Z"
   },
   {
    "duration": 11,
    "start_time": "2023-09-16T12:16:02.042Z"
   },
   {
    "duration": 5,
    "start_time": "2023-09-16T12:16:02.277Z"
   },
   {
    "duration": 9477,
    "start_time": "2023-09-16T12:16:02.691Z"
   },
   {
    "duration": 53,
    "start_time": "2023-09-16T12:19:38.301Z"
   },
   {
    "duration": 22,
    "start_time": "2023-09-16T12:22:21.914Z"
   },
   {
    "duration": 22,
    "start_time": "2023-09-16T12:23:16.515Z"
   },
   {
    "duration": 28,
    "start_time": "2023-09-16T12:29:05.959Z"
   },
   {
    "duration": 27,
    "start_time": "2023-09-16T12:32:28.576Z"
   },
   {
    "duration": 14,
    "start_time": "2023-09-16T12:33:07.209Z"
   },
   {
    "duration": 35,
    "start_time": "2023-09-16T12:33:13.721Z"
   },
   {
    "duration": 34,
    "start_time": "2023-09-16T12:34:09.285Z"
   },
   {
    "duration": 41,
    "start_time": "2023-09-16T12:35:12.439Z"
   },
   {
    "duration": 10930,
    "start_time": "2023-09-16T12:35:34.687Z"
   },
   {
    "duration": 11383,
    "start_time": "2023-09-16T12:36:03.389Z"
   },
   {
    "duration": 10962,
    "start_time": "2023-09-16T12:36:56.670Z"
   },
   {
    "duration": 9434,
    "start_time": "2023-09-16T12:37:14.574Z"
   },
   {
    "duration": 9656,
    "start_time": "2023-09-16T12:37:52.604Z"
   },
   {
    "duration": 23,
    "start_time": "2023-09-16T12:38:28.674Z"
   },
   {
    "duration": 9341,
    "start_time": "2023-09-16T12:38:40.231Z"
   },
   {
    "duration": 8862,
    "start_time": "2023-09-16T12:39:18.105Z"
   },
   {
    "duration": 8735,
    "start_time": "2023-09-16T12:39:48.037Z"
   },
   {
    "duration": 8893,
    "start_time": "2023-09-16T12:40:08.869Z"
   },
   {
    "duration": 14,
    "start_time": "2023-09-16T12:41:43.295Z"
   },
   {
    "duration": 8037,
    "start_time": "2023-09-16T12:41:53.234Z"
   },
   {
    "duration": 5,
    "start_time": "2023-09-16T12:42:12.712Z"
   },
   {
    "duration": 64,
    "start_time": "2023-09-16T12:42:13.509Z"
   },
   {
    "duration": 21,
    "start_time": "2023-09-16T12:42:32.588Z"
   },
   {
    "duration": 29,
    "start_time": "2023-09-16T12:42:43.236Z"
   },
   {
    "duration": 28,
    "start_time": "2023-09-16T12:42:47.987Z"
   },
   {
    "duration": 6,
    "start_time": "2023-09-16T12:42:53.723Z"
   },
   {
    "duration": 8132,
    "start_time": "2023-09-16T12:42:53.890Z"
   },
   {
    "duration": 8517,
    "start_time": "2023-09-16T12:43:30.922Z"
   },
   {
    "duration": 8440,
    "start_time": "2023-09-16T12:43:43.212Z"
   },
   {
    "duration": 16,
    "start_time": "2023-09-16T12:46:14.213Z"
   },
   {
    "duration": 15,
    "start_time": "2023-09-16T12:46:58.700Z"
   },
   {
    "duration": 16,
    "start_time": "2023-09-16T12:47:13.014Z"
   },
   {
    "duration": 15,
    "start_time": "2023-09-16T12:48:10.811Z"
   },
   {
    "duration": 29,
    "start_time": "2023-09-16T12:49:33.777Z"
   },
   {
    "duration": 16,
    "start_time": "2023-09-16T12:49:57.326Z"
   },
   {
    "duration": 16,
    "start_time": "2023-09-16T12:50:48.113Z"
   },
   {
    "duration": 16,
    "start_time": "2023-09-16T12:51:54.941Z"
   },
   {
    "duration": 84,
    "start_time": "2023-09-16T12:52:25.626Z"
   },
   {
    "duration": 8244,
    "start_time": "2023-09-16T12:52:42.803Z"
   },
   {
    "duration": 8849,
    "start_time": "2023-09-16T12:53:58.760Z"
   },
   {
    "duration": 8856,
    "start_time": "2023-09-16T12:55:01.513Z"
   },
   {
    "duration": 8871,
    "start_time": "2023-09-16T12:55:20.072Z"
   },
   {
    "duration": 5,
    "start_time": "2023-09-16T12:55:55.846Z"
   },
   {
    "duration": 29,
    "start_time": "2023-09-16T12:55:56.024Z"
   },
   {
    "duration": 11,
    "start_time": "2023-09-16T12:55:56.183Z"
   },
   {
    "duration": 26,
    "start_time": "2023-09-16T12:55:56.381Z"
   },
   {
    "duration": 15,
    "start_time": "2023-09-16T12:55:56.520Z"
   },
   {
    "duration": 4,
    "start_time": "2023-09-16T12:55:56.903Z"
   },
   {
    "duration": 7,
    "start_time": "2023-09-16T12:55:57.330Z"
   },
   {
    "duration": 6,
    "start_time": "2023-09-16T12:55:57.499Z"
   },
   {
    "duration": 6,
    "start_time": "2023-09-16T12:55:57.689Z"
   },
   {
    "duration": 5,
    "start_time": "2023-09-16T12:56:01.617Z"
   },
   {
    "duration": 11,
    "start_time": "2023-09-16T12:56:01.817Z"
   },
   {
    "duration": 3,
    "start_time": "2023-09-16T12:56:02.028Z"
   },
   {
    "duration": 4,
    "start_time": "2023-09-16T12:56:02.216Z"
   },
   {
    "duration": 3,
    "start_time": "2023-09-16T12:56:02.462Z"
   },
   {
    "duration": 3,
    "start_time": "2023-09-16T12:56:02.678Z"
   },
   {
    "duration": 15,
    "start_time": "2023-09-16T12:56:02.873Z"
   },
   {
    "duration": 4,
    "start_time": "2023-09-16T12:56:03.240Z"
   },
   {
    "duration": 4,
    "start_time": "2023-09-16T12:56:03.430Z"
   },
   {
    "duration": 4,
    "start_time": "2023-09-16T12:56:03.623Z"
   },
   {
    "duration": 3,
    "start_time": "2023-09-16T12:56:03.807Z"
   },
   {
    "duration": 7,
    "start_time": "2023-09-16T12:56:04.013Z"
   },
   {
    "duration": 4,
    "start_time": "2023-09-16T12:56:04.206Z"
   },
   {
    "duration": 8802,
    "start_time": "2023-09-16T12:56:04.392Z"
   },
   {
    "duration": 3,
    "start_time": "2023-09-16T12:57:02.344Z"
   },
   {
    "duration": 6,
    "start_time": "2023-09-16T12:57:02.776Z"
   },
   {
    "duration": 6,
    "start_time": "2023-09-16T12:57:03.221Z"
   },
   {
    "duration": 9051,
    "start_time": "2023-09-16T12:57:03.700Z"
   },
   {
    "duration": 36,
    "start_time": "2023-09-16T12:58:39.718Z"
   },
   {
    "duration": 197,
    "start_time": "2023-09-16T13:01:48.899Z"
   },
   {
    "duration": 173,
    "start_time": "2023-09-16T13:02:26.046Z"
   },
   {
    "duration": 197,
    "start_time": "2023-09-16T13:03:40.659Z"
   },
   {
    "duration": 110,
    "start_time": "2023-09-16T13:09:38.370Z"
   },
   {
    "duration": 100,
    "start_time": "2023-09-16T13:11:37.586Z"
   },
   {
    "duration": 121,
    "start_time": "2023-09-16T13:11:49.644Z"
   },
   {
    "duration": 107,
    "start_time": "2023-09-16T13:12:47.484Z"
   },
   {
    "duration": 107,
    "start_time": "2023-09-16T13:13:11.617Z"
   },
   {
    "duration": 116,
    "start_time": "2023-09-16T13:13:38.640Z"
   },
   {
    "duration": 103,
    "start_time": "2023-09-16T13:13:51.432Z"
   },
   {
    "duration": 10338,
    "start_time": "2023-09-16T13:15:23.855Z"
   },
   {
    "duration": 104,
    "start_time": "2023-09-16T13:15:42.891Z"
   },
   {
    "duration": 103,
    "start_time": "2023-09-16T13:16:25.110Z"
   },
   {
    "duration": 10428,
    "start_time": "2023-09-16T13:16:29.766Z"
   },
   {
    "duration": 8957,
    "start_time": "2023-09-16T13:17:03.409Z"
   },
   {
    "duration": 74,
    "start_time": "2023-09-16T13:17:53.059Z"
   },
   {
    "duration": 8964,
    "start_time": "2023-09-16T13:18:08.016Z"
   },
   {
    "duration": 13,
    "start_time": "2023-09-16T13:23:24.693Z"
   },
   {
    "duration": 15,
    "start_time": "2023-09-16T13:24:00.396Z"
   },
   {
    "duration": 729,
    "start_time": "2023-09-16T13:24:47.053Z"
   },
   {
    "duration": 632,
    "start_time": "2023-09-16T13:25:14.298Z"
   },
   {
    "duration": 582,
    "start_time": "2023-09-16T13:25:25.115Z"
   },
   {
    "duration": 6,
    "start_time": "2023-09-16T13:27:19.170Z"
   },
   {
    "duration": 10,
    "start_time": "2023-09-16T13:27:41.877Z"
   },
   {
    "duration": 9,
    "start_time": "2023-09-16T13:27:42.338Z"
   },
   {
    "duration": 4,
    "start_time": "2023-09-16T13:27:48.138Z"
   },
   {
    "duration": 10054,
    "start_time": "2023-09-16T13:27:57.011Z"
   },
   {
    "duration": 12,
    "start_time": "2023-09-16T13:28:39.156Z"
   },
   {
    "duration": 12,
    "start_time": "2023-09-16T13:30:08.501Z"
   },
   {
    "duration": 7,
    "start_time": "2023-09-16T13:30:14.925Z"
   },
   {
    "duration": 5,
    "start_time": "2023-09-16T13:30:20.907Z"
   },
   {
    "duration": 26,
    "start_time": "2023-09-16T13:30:21.069Z"
   },
   {
    "duration": 9,
    "start_time": "2023-09-16T13:30:21.258Z"
   },
   {
    "duration": 23,
    "start_time": "2023-09-16T13:30:21.429Z"
   },
   {
    "duration": 14,
    "start_time": "2023-09-16T13:30:21.599Z"
   },
   {
    "duration": 3,
    "start_time": "2023-09-16T13:30:21.969Z"
   },
   {
    "duration": 6,
    "start_time": "2023-09-16T13:30:22.165Z"
   },
   {
    "duration": 5,
    "start_time": "2023-09-16T13:30:22.397Z"
   },
   {
    "duration": 5,
    "start_time": "2023-09-16T13:30:22.877Z"
   },
   {
    "duration": 7,
    "start_time": "2023-09-16T13:30:23.293Z"
   },
   {
    "duration": 4,
    "start_time": "2023-09-16T13:30:27.314Z"
   },
   {
    "duration": 10,
    "start_time": "2023-09-16T13:30:27.687Z"
   },
   {
    "duration": 3,
    "start_time": "2023-09-16T13:30:28.574Z"
   },
   {
    "duration": 3,
    "start_time": "2023-09-16T13:30:29.570Z"
   },
   {
    "duration": 2,
    "start_time": "2023-09-16T13:30:30.184Z"
   },
   {
    "duration": 3,
    "start_time": "2023-09-16T13:30:30.915Z"
   },
   {
    "duration": 14,
    "start_time": "2023-09-16T13:30:31.687Z"
   },
   {
    "duration": 4,
    "start_time": "2023-09-16T13:30:32.483Z"
   },
   {
    "duration": 5,
    "start_time": "2023-09-16T13:30:32.949Z"
   },
   {
    "duration": 4,
    "start_time": "2023-09-16T13:30:33.973Z"
   },
   {
    "duration": 3,
    "start_time": "2023-09-16T13:30:34.623Z"
   },
   {
    "duration": 2,
    "start_time": "2023-09-16T13:30:39.524Z"
   },
   {
    "duration": 6,
    "start_time": "2023-09-16T13:30:40.318Z"
   },
   {
    "duration": 2,
    "start_time": "2023-09-16T13:31:05.583Z"
   },
   {
    "duration": 7,
    "start_time": "2023-09-16T13:31:06.224Z"
   },
   {
    "duration": 4,
    "start_time": "2023-09-16T13:31:07.288Z"
   },
   {
    "duration": 8512,
    "start_time": "2023-09-16T13:31:08.044Z"
   },
   {
    "duration": 5,
    "start_time": "2023-09-16T13:31:17.834Z"
   },
   {
    "duration": 580,
    "start_time": "2023-09-16T13:31:19.152Z"
   },
   {
    "duration": 8432,
    "start_time": "2023-09-16T13:32:11.016Z"
   },
   {
    "duration": 5,
    "start_time": "2023-09-16T13:32:22.989Z"
   },
   {
    "duration": 758,
    "start_time": "2023-09-16T13:32:23.336Z"
   },
   {
    "duration": 5,
    "start_time": "2023-09-16T13:32:46.326Z"
   },
   {
    "duration": 27,
    "start_time": "2023-09-16T13:32:46.489Z"
   },
   {
    "duration": 9,
    "start_time": "2023-09-16T13:32:46.690Z"
   },
   {
    "duration": 23,
    "start_time": "2023-09-16T13:32:46.892Z"
   },
   {
    "duration": 19,
    "start_time": "2023-09-16T13:32:47.070Z"
   },
   {
    "duration": 4,
    "start_time": "2023-09-16T13:32:47.490Z"
   },
   {
    "duration": 6,
    "start_time": "2023-09-16T13:32:47.973Z"
   },
   {
    "duration": 5,
    "start_time": "2023-09-16T13:32:48.297Z"
   },
   {
    "duration": 5,
    "start_time": "2023-09-16T13:32:48.784Z"
   },
   {
    "duration": 3,
    "start_time": "2023-09-16T13:32:57.000Z"
   },
   {
    "duration": 9,
    "start_time": "2023-09-16T13:32:57.176Z"
   },
   {
    "duration": 3,
    "start_time": "2023-09-16T13:32:57.372Z"
   },
   {
    "duration": 3,
    "start_time": "2023-09-16T13:32:57.537Z"
   },
   {
    "duration": 3,
    "start_time": "2023-09-16T13:32:57.735Z"
   },
   {
    "duration": 3,
    "start_time": "2023-09-16T13:32:57.933Z"
   },
   {
    "duration": 14,
    "start_time": "2023-09-16T13:32:58.114Z"
   },
   {
    "duration": 4,
    "start_time": "2023-09-16T13:32:59.071Z"
   },
   {
    "duration": 4,
    "start_time": "2023-09-16T13:32:59.325Z"
   },
   {
    "duration": 4,
    "start_time": "2023-09-16T13:33:00.492Z"
   },
   {
    "duration": 2,
    "start_time": "2023-09-16T13:33:19.424Z"
   },
   {
    "duration": 6,
    "start_time": "2023-09-16T13:33:19.954Z"
   },
   {
    "duration": 4,
    "start_time": "2023-09-16T13:33:20.433Z"
   },
   {
    "duration": 8742,
    "start_time": "2023-09-16T13:33:21.175Z"
   },
   {
    "duration": 4,
    "start_time": "2023-09-16T13:33:29.919Z"
   },
   {
    "duration": 611,
    "start_time": "2023-09-16T13:33:29.925Z"
   },
   {
    "duration": 6,
    "start_time": "2023-09-16T13:33:44.354Z"
   },
   {
    "duration": 7,
    "start_time": "2023-09-16T13:33:47.753Z"
   },
   {
    "duration": 9,
    "start_time": "2023-09-16T13:33:47.943Z"
   },
   {
    "duration": 3,
    "start_time": "2023-09-16T13:33:48.145Z"
   },
   {
    "duration": 3,
    "start_time": "2023-09-16T13:33:48.408Z"
   },
   {
    "duration": 3,
    "start_time": "2023-09-16T13:33:48.618Z"
   },
   {
    "duration": 3,
    "start_time": "2023-09-16T13:33:48.850Z"
   },
   {
    "duration": 14,
    "start_time": "2023-09-16T13:33:49.364Z"
   },
   {
    "duration": 4,
    "start_time": "2023-09-16T13:33:49.944Z"
   },
   {
    "duration": 5,
    "start_time": "2023-09-16T13:33:50.255Z"
   },
   {
    "duration": 5,
    "start_time": "2023-09-16T13:33:51.398Z"
   },
   {
    "duration": 3,
    "start_time": "2023-09-16T13:34:01.099Z"
   },
   {
    "duration": 6,
    "start_time": "2023-09-16T13:34:01.379Z"
   },
   {
    "duration": 5,
    "start_time": "2023-09-16T13:34:01.842Z"
   },
   {
    "duration": 8722,
    "start_time": "2023-09-16T13:34:02.255Z"
   },
   {
    "duration": 4,
    "start_time": "2023-09-16T13:34:10.980Z"
   },
   {
    "duration": 603,
    "start_time": "2023-09-16T13:34:10.985Z"
   },
   {
    "duration": 6,
    "start_time": "2023-09-16T13:34:11.589Z"
   },
   {
    "duration": 7,
    "start_time": "2023-09-16T13:34:12.988Z"
   },
   {
    "duration": 4,
    "start_time": "2023-09-16T13:34:15.910Z"
   },
   {
    "duration": 4,
    "start_time": "2023-09-16T13:34:16.682Z"
   },
   {
    "duration": 6015,
    "start_time": "2023-09-16T13:34:25.746Z"
   },
   {
    "duration": 83,
    "start_time": "2023-09-16T13:34:31.764Z"
   },
   {
    "duration": 13,
    "start_time": "2023-09-16T13:37:28.335Z"
   },
   {
    "duration": 12,
    "start_time": "2023-09-16T13:37:35.337Z"
   },
   {
    "duration": 5,
    "start_time": "2023-09-16T13:38:40.109Z"
   },
   {
    "duration": 46554,
    "start_time": "2023-09-16T13:39:09.812Z"
   },
   {
    "duration": 5,
    "start_time": "2023-09-16T13:40:35.735Z"
   },
   {
    "duration": 6,
    "start_time": "2023-09-16T13:41:10.191Z"
   },
   {
    "duration": 13,
    "start_time": "2023-09-16T13:41:21.349Z"
   },
   {
    "duration": 189,
    "start_time": "2023-09-16T13:43:37.580Z"
   },
   {
    "duration": 154,
    "start_time": "2023-09-16T13:44:37.765Z"
   },
   {
    "duration": 176,
    "start_time": "2023-09-16T13:44:55.721Z"
   },
   {
    "duration": 171,
    "start_time": "2023-09-16T13:45:31.053Z"
   },
   {
    "duration": 157,
    "start_time": "2023-09-16T13:45:35.297Z"
   },
   {
    "duration": 3,
    "start_time": "2023-09-16T13:45:42.097Z"
   },
   {
    "duration": 4,
    "start_time": "2023-09-16T13:45:42.623Z"
   },
   {
    "duration": 5,
    "start_time": "2023-09-16T13:45:42.901Z"
   },
   {
    "duration": 3,
    "start_time": "2023-09-16T13:45:43.255Z"
   },
   {
    "duration": 6,
    "start_time": "2023-09-16T13:45:43.756Z"
   },
   {
    "duration": 5,
    "start_time": "2023-09-16T13:45:44.387Z"
   },
   {
    "duration": 8868,
    "start_time": "2023-09-16T13:45:45.067Z"
   },
   {
    "duration": 10,
    "start_time": "2023-09-16T13:45:53.937Z"
   },
   {
    "duration": 856,
    "start_time": "2023-09-16T13:45:53.948Z"
   },
   {
    "duration": 611,
    "start_time": "2023-09-16T13:46:15.457Z"
   },
   {
    "duration": 6,
    "start_time": "2023-09-16T13:47:20.447Z"
   },
   {
    "duration": 7,
    "start_time": "2023-09-16T13:47:21.331Z"
   },
   {
    "duration": 4,
    "start_time": "2023-09-16T13:47:22.509Z"
   },
   {
    "duration": 4,
    "start_time": "2023-09-16T13:47:30.689Z"
   },
   {
    "duration": 5930,
    "start_time": "2023-09-16T13:47:31.331Z"
   },
   {
    "duration": 13,
    "start_time": "2023-09-16T13:47:40.779Z"
   },
   {
    "duration": 5,
    "start_time": "2023-09-16T13:47:42.881Z"
   },
   {
    "duration": 45107,
    "start_time": "2023-09-16T13:47:43.557Z"
   },
   {
    "duration": 4,
    "start_time": "2023-09-16T13:48:28.666Z"
   },
   {
    "duration": 75,
    "start_time": "2023-09-16T13:48:28.671Z"
   },
   {
    "duration": 21,
    "start_time": "2023-09-16T13:48:28.748Z"
   },
   {
    "duration": 208,
    "start_time": "2023-09-16T13:48:28.771Z"
   },
   {
    "duration": 153,
    "start_time": "2023-09-16T13:49:52.681Z"
   },
   {
    "duration": 6,
    "start_time": "2023-09-16T13:53:15.301Z"
   },
   {
    "duration": 4,
    "start_time": "2023-09-16T13:53:54.596Z"
   },
   {
    "duration": 152,
    "start_time": "2023-09-16T13:54:06.416Z"
   },
   {
    "duration": 234,
    "start_time": "2023-09-16T13:54:21.383Z"
   },
   {
    "duration": 632,
    "start_time": "2023-09-16T13:54:37.674Z"
   },
   {
    "duration": 762,
    "start_time": "2023-09-16T13:55:05.073Z"
   },
   {
    "duration": 615,
    "start_time": "2023-09-16T13:55:15.472Z"
   },
   {
    "duration": 657,
    "start_time": "2023-09-16T13:55:24.801Z"
   },
   {
    "duration": 669,
    "start_time": "2023-09-16T13:56:03.451Z"
   },
   {
    "duration": 822,
    "start_time": "2023-09-16T13:56:13.407Z"
   },
   {
    "duration": 621,
    "start_time": "2023-09-16T13:56:22.699Z"
   },
   {
    "duration": 153,
    "start_time": "2023-09-16T13:56:49.442Z"
   },
   {
    "duration": 149,
    "start_time": "2023-09-16T13:56:56.150Z"
   },
   {
    "duration": 618,
    "start_time": "2023-09-16T13:57:00.933Z"
   },
   {
    "duration": 229,
    "start_time": "2023-09-16T13:57:24.212Z"
   },
   {
    "duration": 272,
    "start_time": "2023-09-16T13:57:32.199Z"
   },
   {
    "duration": 6,
    "start_time": "2023-09-16T14:00:01.954Z"
   },
   {
    "duration": 157,
    "start_time": "2023-09-16T14:00:15.546Z"
   },
   {
    "duration": 5,
    "start_time": "2023-09-16T14:00:53.026Z"
   },
   {
    "duration": 192,
    "start_time": "2023-09-16T14:00:53.594Z"
   },
   {
    "duration": 5,
    "start_time": "2023-09-16T14:00:56.843Z"
   },
   {
    "duration": 8555,
    "start_time": "2023-09-16T14:00:57.245Z"
   },
   {
    "duration": 5,
    "start_time": "2023-09-16T14:01:05.803Z"
   },
   {
    "duration": 21,
    "start_time": "2023-09-16T14:01:05.810Z"
   },
   {
    "duration": 195,
    "start_time": "2023-09-16T14:01:05.833Z"
   },
   {
    "duration": 6,
    "start_time": "2023-09-16T14:01:43.956Z"
   },
   {
    "duration": 191,
    "start_time": "2023-09-16T14:01:44.542Z"
   },
   {
    "duration": 4,
    "start_time": "2023-09-16T14:02:00.408Z"
   },
   {
    "duration": 11,
    "start_time": "2023-09-16T14:02:00.607Z"
   },
   {
    "duration": 3,
    "start_time": "2023-09-16T14:02:00.809Z"
   },
   {
    "duration": 3,
    "start_time": "2023-09-16T14:02:01.008Z"
   },
   {
    "duration": 3,
    "start_time": "2023-09-16T14:02:01.416Z"
   },
   {
    "duration": 3,
    "start_time": "2023-09-16T14:02:01.674Z"
   },
   {
    "duration": 15,
    "start_time": "2023-09-16T14:02:01.918Z"
   },
   {
    "duration": 4,
    "start_time": "2023-09-16T14:02:02.508Z"
   },
   {
    "duration": 5,
    "start_time": "2023-09-16T14:02:02.722Z"
   },
   {
    "duration": 4,
    "start_time": "2023-09-16T14:02:02.943Z"
   },
   {
    "duration": 3,
    "start_time": "2023-09-16T14:02:03.205Z"
   },
   {
    "duration": 7,
    "start_time": "2023-09-16T14:02:03.489Z"
   },
   {
    "duration": 5,
    "start_time": "2023-09-16T14:02:03.913Z"
   },
   {
    "duration": 8884,
    "start_time": "2023-09-16T14:02:04.251Z"
   },
   {
    "duration": 7,
    "start_time": "2023-09-16T14:02:13.137Z"
   },
   {
    "duration": 15,
    "start_time": "2023-09-16T14:02:13.145Z"
   },
   {
    "duration": 1195,
    "start_time": "2023-09-16T14:02:13.162Z"
   },
   {
    "duration": 7,
    "start_time": "2023-09-16T14:03:54.531Z"
   },
   {
    "duration": 8,
    "start_time": "2023-09-16T14:03:55.460Z"
   },
   {
    "duration": 4,
    "start_time": "2023-09-16T14:03:55.647Z"
   },
   {
    "duration": 7463,
    "start_time": "2023-09-16T14:03:55.929Z"
   },
   {
    "duration": 10,
    "start_time": "2023-09-16T14:04:33.804Z"
   },
   {
    "duration": 4,
    "start_time": "2023-09-16T14:04:34.264Z"
   },
   {
    "duration": 4,
    "start_time": "2023-09-16T14:04:34.796Z"
   },
   {
    "duration": 8102,
    "start_time": "2023-09-16T14:04:36.751Z"
   },
   {
    "duration": 12,
    "start_time": "2023-09-16T14:04:48.043Z"
   },
   {
    "duration": 5,
    "start_time": "2023-09-16T14:04:48.983Z"
   },
   {
    "duration": 41961,
    "start_time": "2023-09-16T14:04:52.389Z"
   },
   {
    "duration": 4,
    "start_time": "2023-09-16T14:05:34.353Z"
   },
   {
    "duration": 21,
    "start_time": "2023-09-16T14:05:34.358Z"
   },
   {
    "duration": 66,
    "start_time": "2023-09-16T14:05:34.381Z"
   },
   {
    "duration": 9,
    "start_time": "2023-09-16T14:05:42.354Z"
   },
   {
    "duration": 1723,
    "start_time": "2023-09-16T14:05:47.624Z"
   },
   {
    "duration": 171,
    "start_time": "2023-09-16T14:05:59.939Z"
   },
   {
    "duration": 1772,
    "start_time": "2023-09-16T14:06:05.853Z"
   },
   {
    "duration": 5,
    "start_time": "2023-09-16T14:06:46.779Z"
   },
   {
    "duration": 1713,
    "start_time": "2023-09-16T14:06:47.339Z"
   },
   {
    "duration": 5,
    "start_time": "2023-09-16T14:06:57.878Z"
   },
   {
    "duration": 1733,
    "start_time": "2023-09-16T14:06:58.458Z"
   },
   {
    "duration": 5,
    "start_time": "2023-09-16T14:07:13.542Z"
   },
   {
    "duration": 2114,
    "start_time": "2023-09-16T14:07:14.067Z"
   },
   {
    "duration": 2205,
    "start_time": "2023-09-16T14:07:23.641Z"
   },
   {
    "duration": 3802,
    "start_time": "2023-09-16T17:36:42.472Z"
   },
   {
    "duration": 2266,
    "start_time": "2023-09-16T17:36:46.276Z"
   },
   {
    "duration": 83,
    "start_time": "2023-09-16T17:36:48.545Z"
   },
   {
    "duration": 21,
    "start_time": "2023-09-16T17:36:48.631Z"
   },
   {
    "duration": 45,
    "start_time": "2023-09-16T17:36:48.653Z"
   },
   {
    "duration": 22,
    "start_time": "2023-09-16T17:36:48.700Z"
   },
   {
    "duration": 18,
    "start_time": "2023-09-16T17:36:48.724Z"
   },
   {
    "duration": 28,
    "start_time": "2023-09-16T17:36:48.744Z"
   },
   {
    "duration": 239,
    "start_time": "2023-09-16T17:36:48.774Z"
   },
   {
    "duration": 49,
    "start_time": "2023-09-16T17:36:49.016Z"
   },
   {
    "duration": 21,
    "start_time": "2023-09-16T17:36:49.067Z"
   },
   {
    "duration": 472,
    "start_time": "2023-09-16T17:36:49.090Z"
   },
   {
    "duration": 261,
    "start_time": "2023-09-16T17:36:49.564Z"
   },
   {
    "duration": 3735,
    "start_time": "2023-09-16T17:36:49.827Z"
   },
   {
    "duration": 4058,
    "start_time": "2023-09-16T17:36:53.564Z"
   },
   {
    "duration": 3917,
    "start_time": "2023-09-16T17:36:57.624Z"
   },
   {
    "duration": 3399,
    "start_time": "2023-09-16T17:37:01.543Z"
   },
   {
    "duration": 3974,
    "start_time": "2023-09-16T17:37:04.944Z"
   },
   {
    "duration": 4,
    "start_time": "2023-09-16T17:37:08.924Z"
   },
   {
    "duration": 20,
    "start_time": "2023-09-16T17:37:08.930Z"
   },
   {
    "duration": 7,
    "start_time": "2023-09-16T17:37:08.952Z"
   },
   {
    "duration": 12,
    "start_time": "2023-09-16T17:37:08.961Z"
   },
   {
    "duration": 19,
    "start_time": "2023-09-16T17:37:08.976Z"
   },
   {
    "duration": 21,
    "start_time": "2023-09-16T17:37:08.998Z"
   },
   {
    "duration": 153,
    "start_time": "2023-09-16T17:37:09.022Z"
   },
   {
    "duration": 167,
    "start_time": "2023-09-16T17:37:09.177Z"
   },
   {
    "duration": 94,
    "start_time": "2023-09-16T17:37:09.346Z"
   },
   {
    "duration": 14,
    "start_time": "2023-09-16T17:37:09.446Z"
   },
   {
    "duration": 17,
    "start_time": "2023-09-16T17:37:09.462Z"
   },
   {
    "duration": 34,
    "start_time": "2023-09-16T17:37:09.481Z"
   },
   {
    "duration": 10,
    "start_time": "2023-09-16T17:37:09.517Z"
   },
   {
    "duration": 9126,
    "start_time": "2023-09-16T17:37:09.529Z"
   },
   {
    "duration": 7,
    "start_time": "2023-09-16T17:37:18.657Z"
   },
   {
    "duration": 29,
    "start_time": "2023-09-16T17:37:18.666Z"
   },
   {
    "duration": 2094,
    "start_time": "2023-09-16T17:37:18.698Z"
   },
   {
    "duration": 8,
    "start_time": "2023-09-16T17:37:20.793Z"
   },
   {
    "duration": 26,
    "start_time": "2023-09-16T17:37:20.802Z"
   },
   {
    "duration": 33,
    "start_time": "2023-09-16T17:37:20.830Z"
   },
   {
    "duration": 105,
    "start_time": "2023-09-16T17:37:20.865Z"
   },
   {
    "duration": 7256,
    "start_time": "2023-09-16T17:37:20.972Z"
   },
   {
    "duration": 17,
    "start_time": "2023-09-16T17:37:28.231Z"
   },
   {
    "duration": 9,
    "start_time": "2023-09-16T17:37:28.250Z"
   },
   {
    "duration": 48665,
    "start_time": "2023-09-16T17:37:28.261Z"
   },
   {
    "duration": 6,
    "start_time": "2023-09-16T17:38:16.928Z"
   },
   {
    "duration": 14,
    "start_time": "2023-09-16T17:38:16.936Z"
   },
   {
    "duration": 81,
    "start_time": "2023-09-16T17:38:16.952Z"
   },
   {
    "duration": 2319,
    "start_time": "2023-09-16T17:38:17.035Z"
   },
   {
    "duration": 75,
    "start_time": "2023-09-17T11:31:14.328Z"
   },
   {
    "duration": 79,
    "start_time": "2023-09-17T11:34:26.515Z"
   },
   {
    "duration": 91,
    "start_time": "2023-09-17T11:46:02.863Z"
   },
   {
    "duration": 111,
    "start_time": "2023-09-17T11:50:36.545Z"
   },
   {
    "duration": 96,
    "start_time": "2023-09-17T11:57:12.569Z"
   },
   {
    "duration": 2349,
    "start_time": "2023-09-18T02:39:08.211Z"
   },
   {
    "duration": 0,
    "start_time": "2023-09-18T02:39:10.562Z"
   },
   {
    "duration": 3975,
    "start_time": "2023-09-18T02:39:15.731Z"
   },
   {
    "duration": 209,
    "start_time": "2023-09-18T02:39:19.709Z"
   },
   {
    "duration": 22,
    "start_time": "2023-09-18T02:39:31.832Z"
   },
   {
    "duration": 13,
    "start_time": "2023-09-18T02:41:33.851Z"
   },
   {
    "duration": 78,
    "start_time": "2023-09-18T02:41:39.764Z"
   },
   {
    "duration": 18,
    "start_time": "2023-09-18T02:41:40.044Z"
   },
   {
    "duration": 28,
    "start_time": "2023-09-18T02:41:40.204Z"
   },
   {
    "duration": 17,
    "start_time": "2023-09-18T02:41:41.243Z"
   },
   {
    "duration": 21,
    "start_time": "2023-09-18T02:41:44.043Z"
   },
   {
    "duration": 6,
    "start_time": "2023-09-18T02:41:44.323Z"
   },
   {
    "duration": 6,
    "start_time": "2023-09-18T02:41:57.478Z"
   },
   {
    "duration": 6,
    "start_time": "2023-09-18T02:41:58.716Z"
   },
   {
    "duration": 8,
    "start_time": "2023-09-18T02:41:59.315Z"
   },
   {
    "duration": 8,
    "start_time": "2023-09-18T02:42:01.039Z"
   },
   {
    "duration": 496,
    "start_time": "2023-09-18T02:42:02.718Z"
   },
   {
    "duration": 268,
    "start_time": "2023-09-18T02:42:22.746Z"
   },
   {
    "duration": 4139,
    "start_time": "2023-09-18T02:42:25.665Z"
   },
   {
    "duration": 4713,
    "start_time": "2023-09-18T02:42:29.806Z"
   },
   {
    "duration": 4440,
    "start_time": "2023-09-18T02:42:34.522Z"
   },
   {
    "duration": 4135,
    "start_time": "2023-09-18T02:42:38.965Z"
   },
   {
    "duration": 4294,
    "start_time": "2023-09-18T02:42:43.102Z"
   },
   {
    "duration": 5,
    "start_time": "2023-09-18T02:43:12.232Z"
   },
   {
    "duration": 10,
    "start_time": "2023-09-18T02:43:12.325Z"
   },
   {
    "duration": 5,
    "start_time": "2023-09-18T02:43:12.625Z"
   },
   {
    "duration": 4,
    "start_time": "2023-09-18T02:43:12.964Z"
   },
   {
    "duration": 4,
    "start_time": "2023-09-18T02:43:13.746Z"
   },
   {
    "duration": 3,
    "start_time": "2023-09-18T02:43:14.625Z"
   },
   {
    "duration": 17,
    "start_time": "2023-09-18T02:43:15.625Z"
   },
   {
    "duration": 5,
    "start_time": "2023-09-18T02:43:17.486Z"
   },
   {
    "duration": 6,
    "start_time": "2023-09-18T02:43:18.264Z"
   },
   {
    "duration": 4,
    "start_time": "2023-09-18T02:43:19.057Z"
   },
   {
    "duration": 7,
    "start_time": "2023-09-18T02:43:24.945Z"
   },
   {
    "duration": 5,
    "start_time": "2023-09-18T02:43:33.577Z"
   },
   {
    "duration": 9802,
    "start_time": "2023-09-18T02:43:34.225Z"
   },
   {
    "duration": 53,
    "start_time": "2023-09-18T02:43:44.029Z"
   },
   {
    "duration": 6,
    "start_time": "2023-09-18T02:44:30.364Z"
   },
   {
    "duration": 8,
    "start_time": "2023-09-18T02:45:06.203Z"
   },
   {
    "duration": 8,
    "start_time": "2023-09-18T02:45:14.936Z"
   },
   {
    "duration": 7,
    "start_time": "2023-09-18T02:45:15.701Z"
   },
   {
    "duration": 5,
    "start_time": "2023-09-18T02:45:18.281Z"
   },
   {
    "duration": 10010,
    "start_time": "2023-09-18T02:45:20.312Z"
   },
   {
    "duration": 19,
    "start_time": "2023-09-18T02:45:36.193Z"
   },
   {
    "duration": 4,
    "start_time": "2023-09-18T02:45:39.788Z"
   },
   {
    "duration": 56452,
    "start_time": "2023-09-18T02:45:42.681Z"
   },
   {
    "duration": 5,
    "start_time": "2023-09-18T02:46:39.135Z"
   },
   {
    "duration": 7,
    "start_time": "2023-09-18T02:46:39.209Z"
   },
   {
    "duration": 31,
    "start_time": "2023-09-18T02:46:39.219Z"
   },
   {
    "duration": 1741,
    "start_time": "2023-09-18T02:46:56.561Z"
   },
   {
    "duration": 15,
    "start_time": "2023-09-18T02:50:30.762Z"
   },
   {
    "duration": 4,
    "start_time": "2023-09-18T02:50:31.570Z"
   },
   {
    "duration": 113286,
    "start_time": "2023-09-18T02:54:52.551Z"
   },
   {
    "duration": 12513,
    "start_time": "2023-09-18T02:57:30.619Z"
   },
   {
    "duration": 35,
    "start_time": "2023-09-18T02:57:52.704Z"
   },
   {
    "duration": 74,
    "start_time": "2023-09-18T02:58:36.354Z"
   },
   {
    "duration": 36,
    "start_time": "2023-09-18T02:58:43.064Z"
   },
   {
    "duration": 34,
    "start_time": "2023-09-18T02:58:54.064Z"
   },
   {
    "duration": 36,
    "start_time": "2023-09-18T02:58:59.956Z"
   },
   {
    "duration": 110,
    "start_time": "2023-09-18T02:59:14.636Z"
   },
   {
    "duration": 85,
    "start_time": "2023-09-18T02:59:39.165Z"
   },
   {
    "duration": 87,
    "start_time": "2023-09-18T02:59:45.525Z"
   },
   {
    "duration": 37,
    "start_time": "2023-09-18T03:00:24.601Z"
   },
   {
    "duration": 36,
    "start_time": "2023-09-18T03:00:38.492Z"
   },
   {
    "duration": 101,
    "start_time": "2023-09-18T03:00:48.290Z"
   },
   {
    "duration": 650,
    "start_time": "2023-09-18T03:00:58.082Z"
   },
   {
    "duration": 105,
    "start_time": "2023-09-18T03:01:43.790Z"
   },
   {
    "duration": 585,
    "start_time": "2023-09-18T03:01:48.444Z"
   },
   {
    "duration": 30,
    "start_time": "2023-09-18T03:01:54.485Z"
   },
   {
    "duration": 129,
    "start_time": "2023-09-18T03:02:27.223Z"
   },
   {
    "duration": 31,
    "start_time": "2023-09-18T03:02:33.085Z"
   },
   {
    "duration": 76,
    "start_time": "2023-09-18T03:02:41.142Z"
   },
   {
    "duration": 33,
    "start_time": "2023-09-18T03:05:11.483Z"
   },
   {
    "duration": 102,
    "start_time": "2023-09-18T03:05:25.923Z"
   },
   {
    "duration": 32,
    "start_time": "2023-09-18T03:05:57.026Z"
   },
   {
    "duration": 31,
    "start_time": "2023-09-18T03:36:08.463Z"
   },
   {
    "duration": 29,
    "start_time": "2023-09-18T03:36:08.498Z"
   },
   {
    "duration": 14,
    "start_time": "2023-09-18T03:36:08.580Z"
   },
   {
    "duration": 38,
    "start_time": "2023-09-18T03:36:09.741Z"
   },
   {
    "duration": 16,
    "start_time": "2023-09-18T03:36:10.188Z"
   },
   {
    "duration": 7,
    "start_time": "2023-09-18T03:36:11.160Z"
   },
   {
    "duration": 6,
    "start_time": "2023-09-18T03:36:11.348Z"
   },
   {
    "duration": 6,
    "start_time": "2023-09-18T03:36:11.589Z"
   },
   {
    "duration": 7,
    "start_time": "2023-09-18T03:36:11.929Z"
   },
   {
    "duration": 504,
    "start_time": "2023-09-18T03:36:12.161Z"
   },
   {
    "duration": 303,
    "start_time": "2023-09-18T03:36:12.668Z"
   },
   {
    "duration": 173,
    "start_time": "2023-09-18T03:37:13.100Z"
   },
   {
    "duration": 4,
    "start_time": "2023-09-18T03:37:21.980Z"
   },
   {
    "duration": 14,
    "start_time": "2023-09-18T03:37:22.028Z"
   },
   {
    "duration": 6,
    "start_time": "2023-09-18T03:37:22.228Z"
   },
   {
    "duration": 4,
    "start_time": "2023-09-18T03:37:22.461Z"
   },
   {
    "duration": 9,
    "start_time": "2023-09-18T03:37:22.624Z"
   },
   {
    "duration": 3,
    "start_time": "2023-09-18T03:37:22.961Z"
   },
   {
    "duration": 17,
    "start_time": "2023-09-18T03:37:23.760Z"
   },
   {
    "duration": 10,
    "start_time": "2023-09-18T03:37:24.513Z"
   },
   {
    "duration": 6,
    "start_time": "2023-09-18T03:37:24.880Z"
   },
   {
    "duration": 3,
    "start_time": "2023-09-18T03:37:25.628Z"
   },
   {
    "duration": 6,
    "start_time": "2023-09-18T03:37:25.840Z"
   },
   {
    "duration": 7,
    "start_time": "2023-09-18T03:37:26.540Z"
   },
   {
    "duration": 38,
    "start_time": "2023-09-18T03:37:27.280Z"
   },
   {
    "duration": 23531,
    "start_time": "2023-09-18T03:37:50.696Z"
   },
   {
    "duration": 380,
    "start_time": "2023-09-18T03:39:19.625Z"
   },
   {
    "duration": 24244,
    "start_time": "2023-09-18T03:39:56.477Z"
   },
   {
    "duration": 33,
    "start_time": "2023-09-18T03:40:31.197Z"
   },
   {
    "duration": 33,
    "start_time": "2023-09-18T03:40:45.816Z"
   },
   {
    "duration": 13824,
    "start_time": "2023-09-18T03:44:40.307Z"
   },
   {
    "duration": 2461,
    "start_time": "2023-09-18T03:56:11.878Z"
   },
   {
    "duration": 30,
    "start_time": "2023-09-18T03:56:17.329Z"
   },
   {
    "duration": 14,
    "start_time": "2023-09-18T03:56:18.346Z"
   },
   {
    "duration": 8,
    "start_time": "2023-09-18T03:56:25.527Z"
   },
   {
    "duration": 6,
    "start_time": "2023-09-18T03:56:25.869Z"
   },
   {
    "duration": 8,
    "start_time": "2023-09-18T03:56:26.531Z"
   },
   {
    "duration": 11,
    "start_time": "2023-09-18T03:56:28.382Z"
   },
   {
    "duration": 5,
    "start_time": "2023-09-18T03:56:37.290Z"
   },
   {
    "duration": 14,
    "start_time": "2023-09-18T03:56:37.582Z"
   },
   {
    "duration": 3,
    "start_time": "2023-09-18T03:56:37.966Z"
   },
   {
    "duration": 4,
    "start_time": "2023-09-18T03:56:38.646Z"
   },
   {
    "duration": 4,
    "start_time": "2023-09-18T03:56:39.037Z"
   },
   {
    "duration": 3,
    "start_time": "2023-09-18T03:56:39.326Z"
   },
   {
    "duration": 23,
    "start_time": "2023-09-18T03:56:39.631Z"
   },
   {
    "duration": 4,
    "start_time": "2023-09-18T03:56:41.557Z"
   },
   {
    "duration": 6,
    "start_time": "2023-09-18T03:56:42.470Z"
   },
   {
    "duration": 4,
    "start_time": "2023-09-18T03:56:43.262Z"
   },
   {
    "duration": 11,
    "start_time": "2023-09-18T03:56:44.158Z"
   },
   {
    "duration": 7,
    "start_time": "2023-09-18T03:56:44.791Z"
   },
   {
    "duration": 167,
    "start_time": "2023-09-18T03:57:04.624Z"
   },
   {
    "duration": 143,
    "start_time": "2023-09-18T03:57:44.694Z"
   },
   {
    "duration": 9351,
    "start_time": "2023-09-18T03:58:48.540Z"
   },
   {
    "duration": 159,
    "start_time": "2023-09-18T04:01:45.968Z"
   },
   {
    "duration": 16,
    "start_time": "2023-09-18T04:15:08.731Z"
   },
   {
    "duration": 17,
    "start_time": "2023-09-18T04:16:24.093Z"
   },
   {
    "duration": 134,
    "start_time": "2023-09-18T04:16:52.046Z"
   },
   {
    "duration": 115,
    "start_time": "2023-09-18T04:18:03.245Z"
   },
   {
    "duration": 133,
    "start_time": "2023-09-18T04:18:13.805Z"
   },
   {
    "duration": 9684,
    "start_time": "2023-09-18T04:18:26.046Z"
   },
   {
    "duration": 9655,
    "start_time": "2023-09-18T04:18:54.410Z"
   },
   {
    "duration": 113,
    "start_time": "2023-09-18T04:19:38.426Z"
   },
   {
    "duration": 17,
    "start_time": "2023-09-18T04:20:40.952Z"
   },
   {
    "duration": 16,
    "start_time": "2023-09-18T04:20:50.745Z"
   },
   {
    "duration": 302,
    "start_time": "2023-09-18T04:22:22.549Z"
   },
   {
    "duration": 151,
    "start_time": "2023-09-18T04:22:51.826Z"
   },
   {
    "duration": 121,
    "start_time": "2023-09-18T04:23:00.570Z"
   },
   {
    "duration": 137,
    "start_time": "2023-09-18T04:25:11.104Z"
   },
   {
    "duration": 113,
    "start_time": "2023-09-18T04:25:51.672Z"
   },
   {
    "duration": 158,
    "start_time": "2023-09-18T04:26:08.964Z"
   },
   {
    "duration": 140,
    "start_time": "2023-09-18T04:26:27.126Z"
   },
   {
    "duration": 143,
    "start_time": "2023-09-18T04:26:43.044Z"
   },
   {
    "duration": 10710,
    "start_time": "2023-09-18T04:27:02.364Z"
   },
   {
    "duration": 2867,
    "start_time": "2023-09-19T00:08:36.234Z"
   },
   {
    "duration": 0,
    "start_time": "2023-09-19T00:08:39.103Z"
   },
   {
    "duration": 0,
    "start_time": "2023-09-19T00:08:39.109Z"
   },
   {
    "duration": 19,
    "start_time": "2023-09-19T00:08:39.131Z"
   },
   {
    "duration": 17,
    "start_time": "2023-09-19T00:08:39.862Z"
   },
   {
    "duration": 4679,
    "start_time": "2023-09-19T00:08:49.554Z"
   },
   {
    "duration": 224,
    "start_time": "2023-09-19T00:08:54.235Z"
   },
   {
    "duration": 105,
    "start_time": "2023-09-19T00:08:54.462Z"
   },
   {
    "duration": 16,
    "start_time": "2023-09-19T00:08:54.570Z"
   },
   {
    "duration": 31,
    "start_time": "2023-09-19T00:08:54.588Z"
   },
   {
    "duration": 19,
    "start_time": "2023-09-19T00:08:54.765Z"
   },
   {
    "duration": 7,
    "start_time": "2023-09-19T00:08:56.854Z"
   },
   {
    "duration": 12,
    "start_time": "2023-09-19T00:08:57.131Z"
   },
   {
    "duration": 8,
    "start_time": "2023-09-19T00:08:57.546Z"
   },
   {
    "duration": 10,
    "start_time": "2023-09-19T00:08:58.194Z"
   },
   {
    "duration": 171,
    "start_time": "2023-09-19T00:11:08.430Z"
   },
   {
    "duration": 43,
    "start_time": "2023-09-19T00:11:22.731Z"
   },
   {
    "duration": 19,
    "start_time": "2023-09-19T00:11:30.739Z"
   },
   {
    "duration": 13,
    "start_time": "2023-09-19T00:11:31.049Z"
   },
   {
    "duration": 3,
    "start_time": "2023-09-19T00:11:31.275Z"
   },
   {
    "duration": 11,
    "start_time": "2023-09-19T00:11:38.006Z"
   },
   {
    "duration": 31,
    "start_time": "2023-09-19T00:11:38.019Z"
   },
   {
    "duration": 3,
    "start_time": "2023-09-19T00:11:38.062Z"
   },
   {
    "duration": 4,
    "start_time": "2023-09-19T00:11:38.694Z"
   },
   {
    "duration": 4,
    "start_time": "2023-09-19T00:11:38.874Z"
   },
   {
    "duration": 3,
    "start_time": "2023-09-19T00:11:39.274Z"
   },
   {
    "duration": 20,
    "start_time": "2023-09-19T00:11:39.655Z"
   },
   {
    "duration": 4,
    "start_time": "2023-09-19T00:11:40.962Z"
   },
   {
    "duration": 5,
    "start_time": "2023-09-19T00:11:42.195Z"
   },
   {
    "duration": 3,
    "start_time": "2023-09-19T00:11:42.258Z"
   },
   {
    "duration": 16,
    "start_time": "2023-09-19T00:11:42.903Z"
   },
   {
    "duration": 7,
    "start_time": "2023-09-19T00:11:43.650Z"
   },
   {
    "duration": 145,
    "start_time": "2023-09-19T00:11:44.546Z"
   },
   {
    "duration": 161,
    "start_time": "2023-09-19T00:12:35.331Z"
   },
   {
    "duration": 201,
    "start_time": "2023-09-19T00:15:01.259Z"
   },
   {
    "duration": 32,
    "start_time": "2023-09-19T00:15:35.336Z"
   },
   {
    "duration": 22,
    "start_time": "2023-09-19T00:22:13.217Z"
   },
   {
    "duration": 20,
    "start_time": "2023-09-19T00:22:18.683Z"
   },
   {
    "duration": 11225,
    "start_time": "2023-09-19T00:22:26.074Z"
   },
   {
    "duration": 11,
    "start_time": "2023-09-19T00:22:37.302Z"
   },
   {
    "duration": 69,
    "start_time": "2023-09-19T00:22:37.315Z"
   },
   {
    "duration": 174,
    "start_time": "2023-09-19T00:25:49.970Z"
   },
   {
    "duration": 146,
    "start_time": "2023-09-19T00:27:50.739Z"
   },
   {
    "duration": 11012,
    "start_time": "2023-09-19T00:28:23.343Z"
   },
   {
    "duration": 6,
    "start_time": "2023-09-19T00:28:48.555Z"
   },
   {
    "duration": 11279,
    "start_time": "2023-09-19T00:29:32.287Z"
   },
   {
    "duration": 6,
    "start_time": "2023-09-19T00:29:53.470Z"
   },
   {
    "duration": 12004,
    "start_time": "2023-09-19T00:30:26.050Z"
   },
   {
    "duration": 26,
    "start_time": "2023-09-19T00:30:40.798Z"
   },
   {
    "duration": 2198,
    "start_time": "2023-09-19T00:32:26.201Z"
   },
   {
    "duration": 192,
    "start_time": "2023-09-19T00:32:37.472Z"
   },
   {
    "duration": 272,
    "start_time": "2023-09-19T00:33:36.361Z"
   },
   {
    "duration": 214,
    "start_time": "2023-09-19T00:34:22.235Z"
   },
   {
    "duration": 220,
    "start_time": "2023-09-19T00:34:47.990Z"
   },
   {
    "duration": 50,
    "start_time": "2023-09-19T00:35:36.982Z"
   },
   {
    "duration": 21,
    "start_time": "2023-09-19T00:36:04.040Z"
   },
   {
    "duration": 171,
    "start_time": "2023-09-19T00:37:17.298Z"
   },
   {
    "duration": 175,
    "start_time": "2023-09-19T00:37:25.058Z"
   },
   {
    "duration": 214,
    "start_time": "2023-09-19T00:39:10.753Z"
   },
   {
    "duration": 197,
    "start_time": "2023-09-19T00:41:05.710Z"
   },
   {
    "duration": 154,
    "start_time": "2023-09-19T00:41:12.045Z"
   },
   {
    "duration": 165,
    "start_time": "2023-09-19T00:41:23.361Z"
   },
   {
    "duration": 171,
    "start_time": "2023-09-19T00:41:33.936Z"
   },
   {
    "duration": 177,
    "start_time": "2023-09-19T00:41:45.582Z"
   },
   {
    "duration": 33,
    "start_time": "2023-09-19T00:41:58.309Z"
   },
   {
    "duration": 11,
    "start_time": "2023-09-19T00:42:01.935Z"
   },
   {
    "duration": 2328,
    "start_time": "2023-09-19T00:42:02.301Z"
   },
   {
    "duration": 13,
    "start_time": "2023-09-19T01:33:58.096Z"
   },
   {
    "duration": 6,
    "start_time": "2023-09-19T01:34:03.962Z"
   },
   {
    "duration": 6,
    "start_time": "2023-09-19T01:34:05.260Z"
   },
   {
    "duration": 30,
    "start_time": "2023-09-19T01:34:06.006Z"
   },
   {
    "duration": 108,
    "start_time": "2023-09-19T02:13:47.538Z"
   },
   {
    "duration": 107,
    "start_time": "2023-09-19T02:13:55.834Z"
   },
   {
    "duration": 125,
    "start_time": "2023-09-19T02:14:08.402Z"
   },
   {
    "duration": 8,
    "start_time": "2023-09-19T02:14:24.771Z"
   },
   {
    "duration": 29,
    "start_time": "2023-09-19T02:14:25.051Z"
   },
   {
    "duration": 15,
    "start_time": "2023-09-19T02:14:25.540Z"
   },
   {
    "duration": 25,
    "start_time": "2023-09-19T02:14:26.171Z"
   },
   {
    "duration": 16,
    "start_time": "2023-09-19T02:14:26.739Z"
   },
   {
    "duration": 10,
    "start_time": "2023-09-19T02:14:27.222Z"
   },
   {
    "duration": 6,
    "start_time": "2023-09-19T02:14:27.546Z"
   },
   {
    "duration": 8,
    "start_time": "2023-09-19T02:14:28.171Z"
   },
   {
    "duration": 8,
    "start_time": "2023-09-19T02:14:28.572Z"
   },
   {
    "duration": 504,
    "start_time": "2023-09-19T02:14:28.759Z"
   },
   {
    "duration": 333,
    "start_time": "2023-09-19T02:14:29.266Z"
   },
   {
    "duration": 311,
    "start_time": "2023-09-19T02:14:49.351Z"
   },
   {
    "duration": 4648,
    "start_time": "2023-09-19T02:14:50.209Z"
   },
   {
    "duration": 5123,
    "start_time": "2023-09-19T02:14:54.859Z"
   },
   {
    "duration": 5070,
    "start_time": "2023-09-19T02:14:59.984Z"
   },
   {
    "duration": 4553,
    "start_time": "2023-09-19T02:15:05.056Z"
   },
   {
    "duration": 4844,
    "start_time": "2023-09-19T02:15:09.610Z"
   },
   {
    "duration": 12,
    "start_time": "2023-09-19T02:15:19.709Z"
   },
   {
    "duration": 10,
    "start_time": "2023-09-19T02:15:19.869Z"
   },
   {
    "duration": 4,
    "start_time": "2023-09-19T02:15:20.441Z"
   },
   {
    "duration": 17,
    "start_time": "2023-09-19T02:15:20.447Z"
   },
   {
    "duration": 6,
    "start_time": "2023-09-19T02:15:20.509Z"
   },
   {
    "duration": 4,
    "start_time": "2023-09-19T02:15:20.757Z"
   },
   {
    "duration": 16,
    "start_time": "2023-09-19T02:15:20.881Z"
   },
   {
    "duration": 5,
    "start_time": "2023-09-19T02:15:21.334Z"
   },
   {
    "duration": 4,
    "start_time": "2023-09-19T02:15:21.498Z"
   },
   {
    "duration": 3,
    "start_time": "2023-09-19T02:15:21.777Z"
   },
   {
    "duration": 6,
    "start_time": "2023-09-19T02:15:22.342Z"
   },
   {
    "duration": 5,
    "start_time": "2023-09-19T02:15:22.350Z"
   },
   {
    "duration": 10753,
    "start_time": "2023-09-19T02:15:22.498Z"
   },
   {
    "duration": 140,
    "start_time": "2023-09-19T02:15:33.253Z"
   },
   {
    "duration": 36,
    "start_time": "2023-09-19T02:15:33.394Z"
   },
   {
    "duration": 8,
    "start_time": "2023-09-19T02:15:33.436Z"
   },
   {
    "duration": 2406,
    "start_time": "2023-09-19T02:15:33.446Z"
   },
   {
    "duration": 6,
    "start_time": "2023-09-19T02:15:35.854Z"
   },
   {
    "duration": 7,
    "start_time": "2023-09-19T02:15:35.862Z"
   },
   {
    "duration": 15,
    "start_time": "2023-09-19T02:15:35.871Z"
   },
   {
    "duration": 22,
    "start_time": "2023-09-19T02:15:35.888Z"
   },
   {
    "duration": 26102,
    "start_time": "2023-09-19T02:15:35.920Z"
   },
   {
    "duration": 34,
    "start_time": "2023-09-19T02:16:02.025Z"
   },
   {
    "duration": 55,
    "start_time": "2023-09-19T02:16:02.061Z"
   },
   {
    "duration": 116,
    "start_time": "2023-09-19T02:16:02.125Z"
   },
   {
    "duration": 0,
    "start_time": "2023-09-19T02:16:02.243Z"
   },
   {
    "duration": 0,
    "start_time": "2023-09-19T02:16:02.245Z"
   },
   {
    "duration": 0,
    "start_time": "2023-09-19T02:16:02.247Z"
   },
   {
    "duration": 0,
    "start_time": "2023-09-19T02:16:02.248Z"
   },
   {
    "duration": 0,
    "start_time": "2023-09-19T02:16:02.250Z"
   },
   {
    "duration": 0,
    "start_time": "2023-09-19T02:16:02.251Z"
   },
   {
    "duration": 4,
    "start_time": "2023-09-19T02:16:13.738Z"
   },
   {
    "duration": 19,
    "start_time": "2023-09-19T02:16:14.569Z"
   },
   {
    "duration": 4,
    "start_time": "2023-09-19T02:16:31.650Z"
   },
   {
    "duration": 127098,
    "start_time": "2023-09-19T02:16:32.739Z"
   },
   {
    "duration": 0,
    "start_time": "2023-09-19T02:18:39.840Z"
   },
   {
    "duration": 16,
    "start_time": "2023-09-19T02:19:03.690Z"
   },
   {
    "duration": 7,
    "start_time": "2023-09-19T02:19:21.556Z"
   },
   {
    "duration": 12,
    "start_time": "2023-09-19T02:24:43.542Z"
   },
   {
    "duration": 9,
    "start_time": "2023-09-19T02:24:50.735Z"
   },
   {
    "duration": 1413,
    "start_time": "2023-09-19T02:24:50.746Z"
   },
   {
    "duration": 71,
    "start_time": "2023-09-19T02:24:52.161Z"
   },
   {
    "duration": 17,
    "start_time": "2023-09-19T02:24:55.400Z"
   },
   {
    "duration": 125,
    "start_time": "2023-09-19T02:26:08.539Z"
   },
   {
    "duration": 120,
    "start_time": "2023-09-19T02:26:36.200Z"
   },
   {
    "duration": 113,
    "start_time": "2023-09-19T02:27:07.960Z"
   },
   {
    "duration": 13,
    "start_time": "2023-09-19T02:27:39.840Z"
   },
   {
    "duration": 163,
    "start_time": "2023-09-19T02:27:44.872Z"
   },
   {
    "duration": 96,
    "start_time": "2023-09-19T02:28:15.659Z"
   },
   {
    "duration": 163,
    "start_time": "2023-09-19T02:29:06.692Z"
   },
   {
    "duration": 349,
    "start_time": "2023-09-19T02:29:13.901Z"
   },
   {
    "duration": 3,
    "start_time": "2023-09-19T02:29:33.774Z"
   },
   {
    "duration": 10,
    "start_time": "2023-09-19T02:29:34.003Z"
   },
   {
    "duration": 6,
    "start_time": "2023-09-19T02:29:34.173Z"
   },
   {
    "duration": 10459,
    "start_time": "2023-09-19T02:29:35.075Z"
   },
   {
    "duration": 103,
    "start_time": "2023-09-19T02:29:45.540Z"
   },
   {
    "duration": 5,
    "start_time": "2023-09-19T02:29:45.645Z"
   },
   {
    "duration": 2769,
    "start_time": "2023-09-19T02:36:01.201Z"
   },
   {
    "duration": 2289,
    "start_time": "2023-09-19T02:36:03.973Z"
   },
   {
    "duration": 30,
    "start_time": "2023-09-19T02:36:06.264Z"
   },
   {
    "duration": 24,
    "start_time": "2023-09-19T02:36:06.295Z"
   },
   {
    "duration": 30,
    "start_time": "2023-09-19T02:36:06.322Z"
   },
   {
    "duration": 17,
    "start_time": "2023-09-19T02:36:06.354Z"
   },
   {
    "duration": 6,
    "start_time": "2023-09-19T02:36:06.373Z"
   },
   {
    "duration": 43,
    "start_time": "2023-09-19T02:36:06.381Z"
   },
   {
    "duration": 12,
    "start_time": "2023-09-19T02:36:06.427Z"
   },
   {
    "duration": 7,
    "start_time": "2023-09-19T02:36:06.441Z"
   },
   {
    "duration": 449,
    "start_time": "2023-09-19T02:36:06.450Z"
   },
   {
    "duration": 298,
    "start_time": "2023-09-19T02:36:06.902Z"
   },
   {
    "duration": 4409,
    "start_time": "2023-09-19T02:36:07.202Z"
   },
   {
    "duration": 4954,
    "start_time": "2023-09-19T02:36:11.621Z"
   },
   {
    "duration": 4627,
    "start_time": "2023-09-19T02:36:16.577Z"
   },
   {
    "duration": 4377,
    "start_time": "2023-09-19T02:36:21.209Z"
   },
   {
    "duration": 4605,
    "start_time": "2023-09-19T02:36:25.588Z"
   },
   {
    "duration": 4,
    "start_time": "2023-09-19T02:36:30.195Z"
   },
   {
    "duration": 39,
    "start_time": "2023-09-19T02:36:30.201Z"
   },
   {
    "duration": 24,
    "start_time": "2023-09-19T02:36:30.242Z"
   },
   {
    "duration": 18,
    "start_time": "2023-09-19T02:36:30.267Z"
   },
   {
    "duration": 21,
    "start_time": "2023-09-19T02:36:30.287Z"
   },
   {
    "duration": 29,
    "start_time": "2023-09-19T02:36:30.311Z"
   },
   {
    "duration": 31,
    "start_time": "2023-09-19T02:36:30.342Z"
   },
   {
    "duration": 27,
    "start_time": "2023-09-19T02:36:30.375Z"
   },
   {
    "duration": 32,
    "start_time": "2023-09-19T02:36:30.404Z"
   },
   {
    "duration": 18,
    "start_time": "2023-09-19T02:36:30.438Z"
   },
   {
    "duration": 18,
    "start_time": "2023-09-19T02:36:30.458Z"
   },
   {
    "duration": 40,
    "start_time": "2023-09-19T02:36:30.478Z"
   },
   {
    "duration": 10427,
    "start_time": "2023-09-19T02:36:30.519Z"
   },
   {
    "duration": 141,
    "start_time": "2023-09-19T02:36:40.948Z"
   },
   {
    "duration": 35,
    "start_time": "2023-09-19T02:36:41.090Z"
   },
   {
    "duration": 9,
    "start_time": "2023-09-19T02:36:41.131Z"
   },
   {
    "duration": 1923,
    "start_time": "2023-09-19T02:36:41.142Z"
   },
   {
    "duration": 6,
    "start_time": "2023-09-19T02:36:43.067Z"
   },
   {
    "duration": 13,
    "start_time": "2023-09-19T02:36:43.075Z"
   },
   {
    "duration": 27,
    "start_time": "2023-09-19T02:36:43.090Z"
   },
   {
    "duration": 10,
    "start_time": "2023-09-19T02:36:43.129Z"
   },
   {
    "duration": 37888,
    "start_time": "2023-09-19T02:36:43.141Z"
   },
   {
    "duration": 105,
    "start_time": "2023-09-19T02:37:21.043Z"
   },
   {
    "duration": 19,
    "start_time": "2023-09-19T02:37:21.154Z"
   },
   {
    "duration": 64,
    "start_time": "2023-09-19T02:37:21.175Z"
   },
   {
    "duration": 138666,
    "start_time": "2023-09-19T02:37:21.245Z"
   },
   {
    "duration": 165,
    "start_time": "2023-09-19T02:39:39.918Z"
   },
   {
    "duration": 0,
    "start_time": "2023-09-19T02:39:40.085Z"
   },
   {
    "duration": 0,
    "start_time": "2023-09-19T02:39:40.086Z"
   },
   {
    "duration": 0,
    "start_time": "2023-09-19T02:39:40.088Z"
   },
   {
    "duration": 0,
    "start_time": "2023-09-19T02:39:40.090Z"
   },
   {
    "duration": 0,
    "start_time": "2023-09-19T02:39:40.092Z"
   },
   {
    "duration": 107,
    "start_time": "2023-09-19T02:40:18.294Z"
   },
   {
    "duration": 137,
    "start_time": "2023-09-19T02:40:35.696Z"
   },
   {
    "duration": 288,
    "start_time": "2023-09-19T02:40:57.738Z"
   },
   {
    "duration": 110,
    "start_time": "2023-09-19T02:41:08.967Z"
   },
   {
    "duration": 123,
    "start_time": "2023-09-19T02:41:47.678Z"
   },
   {
    "duration": 107,
    "start_time": "2023-09-19T02:42:34.446Z"
   },
   {
    "duration": 109,
    "start_time": "2023-09-19T02:42:59.644Z"
   },
   {
    "duration": 157,
    "start_time": "2023-09-19T02:43:26.287Z"
   },
   {
    "duration": 116,
    "start_time": "2023-09-19T02:43:45.748Z"
   },
   {
    "duration": 127,
    "start_time": "2023-09-19T02:44:06.774Z"
   },
   {
    "duration": 123,
    "start_time": "2023-09-19T02:44:31.471Z"
   },
   {
    "duration": 120,
    "start_time": "2023-09-19T02:44:44.792Z"
   },
   {
    "duration": 75,
    "start_time": "2023-09-19T18:04:28.451Z"
   },
   {
    "duration": 196,
    "start_time": "2023-09-19T18:05:33.709Z"
   },
   {
    "duration": 146,
    "start_time": "2023-09-19T18:08:03.525Z"
   },
   {
    "duration": 51,
    "start_time": "2023-10-03T00:33:16.717Z"
   },
   {
    "duration": 10,
    "start_time": "2023-10-03T00:33:17.239Z"
   },
   {
    "duration": 11,
    "start_time": "2023-10-03T00:33:23.772Z"
   },
   {
    "duration": 2461,
    "start_time": "2023-10-03T00:33:29.890Z"
   },
   {
    "duration": 2112,
    "start_time": "2023-10-03T00:33:32.354Z"
   },
   {
    "duration": 70,
    "start_time": "2023-10-03T00:33:34.468Z"
   },
   {
    "duration": 16,
    "start_time": "2023-10-03T00:33:34.543Z"
   },
   {
    "duration": 30,
    "start_time": "2023-10-03T00:33:34.561Z"
   },
   {
    "duration": 17,
    "start_time": "2023-10-03T00:33:34.594Z"
   },
   {
    "duration": 29,
    "start_time": "2023-10-03T00:33:34.614Z"
   },
   {
    "duration": 15,
    "start_time": "2023-10-03T00:33:34.646Z"
   },
   {
    "duration": 28,
    "start_time": "2023-10-03T00:33:34.663Z"
   },
   {
    "duration": 11,
    "start_time": "2023-10-03T00:33:34.695Z"
   },
   {
    "duration": 521,
    "start_time": "2023-10-03T00:33:34.708Z"
   },
   {
    "duration": 273,
    "start_time": "2023-10-03T00:33:35.231Z"
   },
   {
    "duration": 4064,
    "start_time": "2023-10-03T00:33:35.506Z"
   },
   {
    "duration": 4386,
    "start_time": "2023-10-03T00:33:39.572Z"
   },
   {
    "duration": 4526,
    "start_time": "2023-10-03T00:33:43.961Z"
   },
   {
    "duration": 4021,
    "start_time": "2023-10-03T00:33:48.489Z"
   },
   {
    "duration": 2006,
    "start_time": "2023-10-03T00:33:52.512Z"
   },
   {
    "duration": 4,
    "start_time": "2023-10-03T00:33:54.519Z"
   },
   {
    "duration": 131,
    "start_time": "2023-10-03T00:33:54.538Z"
   },
   {
    "duration": 24,
    "start_time": "2023-10-03T00:33:54.671Z"
   },
   {
    "duration": 19,
    "start_time": "2023-10-03T00:33:54.697Z"
   },
   {
    "duration": 25,
    "start_time": "2023-10-03T00:33:54.718Z"
   },
   {
    "duration": 37,
    "start_time": "2023-10-03T00:33:54.745Z"
   },
   {
    "duration": 42,
    "start_time": "2023-10-03T00:33:54.784Z"
   },
   {
    "duration": 31,
    "start_time": "2023-10-03T00:33:54.828Z"
   },
   {
    "duration": 26,
    "start_time": "2023-10-03T00:33:54.861Z"
   },
   {
    "duration": 37,
    "start_time": "2023-10-03T00:33:54.889Z"
   },
   {
    "duration": 16,
    "start_time": "2023-10-03T00:33:54.929Z"
   },
   {
    "duration": 30,
    "start_time": "2023-10-03T00:33:54.947Z"
   },
   {
    "duration": 191,
    "start_time": "2023-10-03T00:33:54.979Z"
   },
   {
    "duration": 0,
    "start_time": "2023-10-03T00:33:55.172Z"
   },
   {
    "duration": 0,
    "start_time": "2023-10-03T00:33:55.173Z"
   },
   {
    "duration": 0,
    "start_time": "2023-10-03T00:33:55.174Z"
   },
   {
    "duration": 0,
    "start_time": "2023-10-03T00:33:55.175Z"
   },
   {
    "duration": 0,
    "start_time": "2023-10-03T00:33:55.175Z"
   },
   {
    "duration": 0,
    "start_time": "2023-10-03T00:33:55.176Z"
   },
   {
    "duration": 0,
    "start_time": "2023-10-03T00:33:55.177Z"
   },
   {
    "duration": 0,
    "start_time": "2023-10-03T00:33:55.178Z"
   },
   {
    "duration": 0,
    "start_time": "2023-10-03T00:33:55.179Z"
   },
   {
    "duration": 0,
    "start_time": "2023-10-03T00:33:55.201Z"
   },
   {
    "duration": 0,
    "start_time": "2023-10-03T00:33:55.203Z"
   },
   {
    "duration": 0,
    "start_time": "2023-10-03T00:33:55.204Z"
   },
   {
    "duration": 0,
    "start_time": "2023-10-03T00:33:55.206Z"
   },
   {
    "duration": 0,
    "start_time": "2023-10-03T00:33:55.207Z"
   },
   {
    "duration": 0,
    "start_time": "2023-10-03T00:33:55.208Z"
   },
   {
    "duration": 0,
    "start_time": "2023-10-03T00:33:55.210Z"
   },
   {
    "duration": 0,
    "start_time": "2023-10-03T00:33:55.211Z"
   },
   {
    "duration": 0,
    "start_time": "2023-10-03T00:33:55.217Z"
   },
   {
    "duration": 3738,
    "start_time": "2023-10-12T06:22:35.596Z"
   },
   {
    "duration": 2965,
    "start_time": "2023-10-12T06:22:39.337Z"
   },
   {
    "duration": 71,
    "start_time": "2023-10-12T06:22:42.304Z"
   },
   {
    "duration": 12,
    "start_time": "2023-10-12T06:22:42.377Z"
   },
   {
    "duration": 56,
    "start_time": "2023-10-12T06:22:42.391Z"
   },
   {
    "duration": 25,
    "start_time": "2023-10-12T06:22:42.448Z"
   },
   {
    "duration": 18,
    "start_time": "2023-10-12T06:22:42.474Z"
   },
   {
    "duration": 20,
    "start_time": "2023-10-12T06:22:42.494Z"
   },
   {
    "duration": 23,
    "start_time": "2023-10-12T06:22:42.516Z"
   },
   {
    "duration": 14,
    "start_time": "2023-10-12T06:22:42.542Z"
   },
   {
    "duration": 369,
    "start_time": "2023-10-12T06:22:42.558Z"
   },
   {
    "duration": 246,
    "start_time": "2023-10-12T06:22:42.929Z"
   },
   {
    "duration": 3755,
    "start_time": "2023-10-12T06:22:43.177Z"
   },
   {
    "duration": 3914,
    "start_time": "2023-10-12T06:22:46.933Z"
   },
   {
    "duration": 3926,
    "start_time": "2023-10-12T06:22:50.849Z"
   },
   {
    "duration": 3597,
    "start_time": "2023-10-12T06:22:54.777Z"
   },
   {
    "duration": 3767,
    "start_time": "2023-10-12T06:22:58.377Z"
   },
   {
    "duration": 4,
    "start_time": "2023-10-12T06:23:04.219Z"
   },
   {
    "duration": 11,
    "start_time": "2023-10-12T06:23:04.396Z"
   },
   {
    "duration": 4,
    "start_time": "2023-10-12T06:23:04.574Z"
   },
   {
    "duration": 4,
    "start_time": "2023-10-12T06:23:04.825Z"
   },
   {
    "duration": 3,
    "start_time": "2023-10-12T06:23:05.220Z"
   },
   {
    "duration": 3,
    "start_time": "2023-10-12T06:23:05.484Z"
   },
   {
    "duration": 14,
    "start_time": "2023-10-12T06:23:05.827Z"
   },
   {
    "duration": 9,
    "start_time": "2023-10-12T06:23:06.397Z"
   },
   {
    "duration": 5,
    "start_time": "2023-10-12T06:23:06.596Z"
   },
   {
    "duration": 3,
    "start_time": "2023-10-12T06:23:06.820Z"
   },
   {
    "duration": 9,
    "start_time": "2023-10-12T06:23:07.412Z"
   },
   {
    "duration": 4,
    "start_time": "2023-10-12T06:23:07.860Z"
   },
   {
    "duration": 9046,
    "start_time": "2023-10-12T06:23:08.389Z"
   },
   {
    "duration": 250,
    "start_time": "2023-10-12T06:23:17.437Z"
   },
   {
    "duration": 9,
    "start_time": "2023-10-12T06:23:17.901Z"
   },
   {
    "duration": 104,
    "start_time": "2023-10-12T06:23:27.124Z"
   },
   {
    "duration": 5,
    "start_time": "2023-10-12T06:23:33.996Z"
   },
   {
    "duration": 7,
    "start_time": "2023-10-12T06:23:34.574Z"
   },
   {
    "duration": 1483,
    "start_time": "2023-10-12T06:23:36.901Z"
   },
   {
    "duration": 1928,
    "start_time": "2023-12-20T03:59:13.794Z"
   },
   {
    "duration": 3506,
    "start_time": "2023-12-20T03:59:29.026Z"
   },
   {
    "duration": 152,
    "start_time": "2023-12-20T03:59:32.534Z"
   }
  ],
  "kernelspec": {
   "display_name": "Python 3 (ipykernel)",
   "language": "python",
   "name": "python3"
  },
  "language_info": {
   "codemirror_mode": {
    "name": "ipython",
    "version": 3
   },
   "file_extension": ".py",
   "mimetype": "text/x-python",
   "name": "python",
   "nbconvert_exporter": "python",
   "pygments_lexer": "ipython3",
   "version": "3.11.5"
  },
  "toc": {
   "base_numbering": 1,
   "nav_menu": {},
   "number_sections": false,
   "sideBar": true,
   "skip_h1_title": false,
   "title_cell": "Table of Contents",
   "title_sidebar": "Contents",
   "toc_cell": false,
   "toc_position": {},
   "toc_section_display": true,
   "toc_window_display": false
  },
  "varInspector": {
   "cols": {
    "lenName": 16,
    "lenType": 16,
    "lenVar": 40
   },
   "kernels_config": {
    "python": {
     "delete_cmd_postfix": "",
     "delete_cmd_prefix": "del ",
     "library": "var_list.py",
     "varRefreshCmd": "print(var_dic_list())"
    },
    "r": {
     "delete_cmd_postfix": ") ",
     "delete_cmd_prefix": "rm(",
     "library": "var_list.r",
     "varRefreshCmd": "cat(var_dic_list()) "
    }
   },
   "types_to_exclude": [
    "module",
    "function",
    "builtin_function_or_method",
    "instance",
    "_Feature"
   ],
   "window_display": false
  }
 },
 "nbformat": 4,
 "nbformat_minor": 5
}
