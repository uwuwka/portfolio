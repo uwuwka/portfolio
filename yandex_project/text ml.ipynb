{
 "cells": [
  {
   "cell_type": "markdown",
   "metadata": {
    "toc": true
   },
   "source": [
    "<h1>Содержание<span class=\"tocSkip\"></span></h1>\n",
    "<div class=\"toc\"><ul class=\"toc-item\"><li><span><a href=\"#Подготовка\" data-toc-modified-id=\"Подготовка-1\"><span class=\"toc-item-num\">1&nbsp;&nbsp;</span>Подготовка</a></span><ul class=\"toc-item\"><li><span><a href=\"#вывод-по-главе-&quot;Подготовка-данных&quot;\" data-toc-modified-id=\"вывод-по-главе-&quot;Подготовка-данных&quot;-1.1\"><span class=\"toc-item-num\">1.1&nbsp;&nbsp;</span>вывод по главе \"Подготовка данных\"</a></span></li></ul></li><li><span><a href=\"#переработка-комментариев\" data-toc-modified-id=\"переработка-комментариев-2\"><span class=\"toc-item-num\">2&nbsp;&nbsp;</span>переработка комментариев</a></span><ul class=\"toc-item\"><li><span><a href=\"#вывод-по-главе-&quot;переработка-комментариев&quot;\" data-toc-modified-id=\"вывод-по-главе-&quot;переработка-комментариев&quot;-2.1\"><span class=\"toc-item-num\">2.1&nbsp;&nbsp;</span>вывод по главе \"переработка комментариев\"</a></span></li></ul></li><li><span><a href=\"#Обучение\" data-toc-modified-id=\"Обучение-3\"><span class=\"toc-item-num\">3&nbsp;&nbsp;</span>Обучение</a></span><ul class=\"toc-item\"><li><span><a href=\"#вывод-по-главе-&quot;обучение-моделей&quot;\" data-toc-modified-id=\"вывод-по-главе-&quot;обучение-моделей&quot;-3.1\"><span class=\"toc-item-num\">3.1&nbsp;&nbsp;</span>вывод по главе \"обучение моделей\"</a></span></li></ul></li><li><span><a href=\"#тест-лучшей-модели\" data-toc-modified-id=\"тест-лучшей-модели-4\"><span class=\"toc-item-num\">4&nbsp;&nbsp;</span>тест лучшей модели</a></span><ul class=\"toc-item\"><li><span><a href=\"#вывод-по-главе-&quot;тест-лучшей-модели&quot;\" data-toc-modified-id=\"вывод-по-главе-&quot;тест-лучшей-модели&quot;-4.1\"><span class=\"toc-item-num\">4.1&nbsp;&nbsp;</span>вывод по главе \"тест лучшей модели\"</a></span></li></ul></li><li><span><a href=\"#Выводы\" data-toc-modified-id=\"Выводы-5\"><span class=\"toc-item-num\">5&nbsp;&nbsp;</span>Выводы</a></span></li><li><span><a href=\"#Чек-лист-проверки\" data-toc-modified-id=\"Чек-лист-проверки-6\"><span class=\"toc-item-num\">6&nbsp;&nbsp;</span>Чек-лист проверки</a></span></li></ul></div>"
   ]
  },
  {
   "cell_type": "markdown",
   "metadata": {},
   "source": [
    "# Проект для «Викишоп»"
   ]
  },
  {
   "cell_type": "markdown",
   "metadata": {},
   "source": [
    "Интернет-магазин «Викишоп» запускает новый сервис. Теперь пользователи могут редактировать и дополнять описания товаров, как в вики-сообществах. То есть клиенты предлагают свои правки и комментируют изменения других. Магазину нужен инструмент, который будет искать токсичные комментарии и отправлять их на модерацию. \n",
    "\n",
    "Обучите модель классифицировать комментарии на позитивные и негативные. В вашем распоряжении набор данных с разметкой о токсичности правок.\n",
    "\n",
    "Постройте модель со значением метрики качества *F1* не меньше 0.75. \n",
    "\n",
    "**Инструкция по выполнению проекта**\n",
    "\n",
    "1. Загрузите и подготовьте данные.\n",
    "2. Обучите разные модели. \n",
    "3. Сделайте выводы.\n",
    "\n",
    "Для выполнения проекта применять *BERT* необязательно, но вы можете попробовать.\n",
    "\n",
    "**Описание данных**\n",
    "\n",
    "Данные находятся в файле `toxic_comments.csv`. Столбец *text* в нём содержит текст комментария, а *toxic* — целевой признак."
   ]
  },
  {
   "cell_type": "code",
   "execution_count": 1,
   "metadata": {
    "scrolled": true
   },
   "outputs": [
    {
     "name": "stdout",
     "output_type": "stream",
     "text": [
      "Collecting en-core-web-sm==3.2.0\n",
      "  Downloading https://github.com/explosion/spacy-models/releases/download/en_core_web_sm-3.2.0/en_core_web_sm-3.2.0-py3-none-any.whl (13.9 MB)\n",
      "\u001b[K     |████████████████████████████████| 13.9 MB 2.5 MB/s eta 0:00:01\n",
      "\u001b[?25hRequirement already satisfied: spacy<3.3.0,>=3.2.0 in /opt/conda/lib/python3.9/site-packages (from en-core-web-sm==3.2.0) (3.2.0)\n",
      "Requirement already satisfied: langcodes<4.0.0,>=3.2.0 in /opt/conda/lib/python3.9/site-packages (from spacy<3.3.0,>=3.2.0->en-core-web-sm==3.2.0) (3.3.0)\n",
      "Requirement already satisfied: thinc<8.1.0,>=8.0.12 in /opt/conda/lib/python3.9/site-packages (from spacy<3.3.0,>=3.2.0->en-core-web-sm==3.2.0) (8.0.17)\n",
      "Requirement already satisfied: requests<3.0.0,>=2.13.0 in /opt/conda/lib/python3.9/site-packages (from spacy<3.3.0,>=3.2.0->en-core-web-sm==3.2.0) (2.25.1)\n",
      "Requirement already satisfied: spacy-legacy<3.1.0,>=3.0.8 in /opt/conda/lib/python3.9/site-packages (from spacy<3.3.0,>=3.2.0->en-core-web-sm==3.2.0) (3.0.10)\n",
      "Requirement already satisfied: typer<0.5.0,>=0.3.0 in /opt/conda/lib/python3.9/site-packages (from spacy<3.3.0,>=3.2.0->en-core-web-sm==3.2.0) (0.4.2)\n",
      "Requirement already satisfied: blis<0.8.0,>=0.4.0 in /opt/conda/lib/python3.9/site-packages (from spacy<3.3.0,>=3.2.0->en-core-web-sm==3.2.0) (0.7.8)\n",
      "Requirement already satisfied: setuptools in /opt/conda/lib/python3.9/site-packages (from spacy<3.3.0,>=3.2.0->en-core-web-sm==3.2.0) (49.6.0.post20210108)\n",
      "Requirement already satisfied: wasabi<1.1.0,>=0.8.1 in /opt/conda/lib/python3.9/site-packages (from spacy<3.3.0,>=3.2.0->en-core-web-sm==3.2.0) (0.10.1)\n",
      "Requirement already satisfied: pydantic!=1.8,!=1.8.1,<1.9.0,>=1.7.4 in /opt/conda/lib/python3.9/site-packages (from spacy<3.3.0,>=3.2.0->en-core-web-sm==3.2.0) (1.8.2)\n",
      "Requirement already satisfied: murmurhash<1.1.0,>=0.28.0 in /opt/conda/lib/python3.9/site-packages (from spacy<3.3.0,>=3.2.0->en-core-web-sm==3.2.0) (1.0.8)\n",
      "Requirement already satisfied: numpy>=1.15.0 in /opt/conda/lib/python3.9/site-packages (from spacy<3.3.0,>=3.2.0->en-core-web-sm==3.2.0) (1.21.1)\n",
      "Requirement already satisfied: pathy>=0.3.5 in /opt/conda/lib/python3.9/site-packages (from spacy<3.3.0,>=3.2.0->en-core-web-sm==3.2.0) (0.6.2)\n",
      "Requirement already satisfied: preshed<3.1.0,>=3.0.2 in /opt/conda/lib/python3.9/site-packages (from spacy<3.3.0,>=3.2.0->en-core-web-sm==3.2.0) (3.0.7)\n",
      "Requirement already satisfied: spacy-loggers<2.0.0,>=1.0.0 in /opt/conda/lib/python3.9/site-packages (from spacy<3.3.0,>=3.2.0->en-core-web-sm==3.2.0) (1.0.3)\n",
      "Requirement already satisfied: srsly<3.0.0,>=2.4.1 in /opt/conda/lib/python3.9/site-packages (from spacy<3.3.0,>=3.2.0->en-core-web-sm==3.2.0) (2.4.4)\n",
      "Requirement already satisfied: jinja2 in /opt/conda/lib/python3.9/site-packages (from spacy<3.3.0,>=3.2.0->en-core-web-sm==3.2.0) (3.0.1)\n",
      "Requirement already satisfied: cymem<2.1.0,>=2.0.2 in /opt/conda/lib/python3.9/site-packages (from spacy<3.3.0,>=3.2.0->en-core-web-sm==3.2.0) (2.0.6)\n",
      "Requirement already satisfied: tqdm<5.0.0,>=4.38.0 in /opt/conda/lib/python3.9/site-packages (from spacy<3.3.0,>=3.2.0->en-core-web-sm==3.2.0) (4.61.2)\n",
      "Requirement already satisfied: catalogue<2.1.0,>=2.0.6 in /opt/conda/lib/python3.9/site-packages (from spacy<3.3.0,>=3.2.0->en-core-web-sm==3.2.0) (2.0.8)\n",
      "Requirement already satisfied: packaging>=20.0 in /opt/conda/lib/python3.9/site-packages (from spacy<3.3.0,>=3.2.0->en-core-web-sm==3.2.0) (21.3)\n",
      "Requirement already satisfied: pyparsing!=3.0.5,>=2.0.2 in /opt/conda/lib/python3.9/site-packages (from packaging>=20.0->spacy<3.3.0,>=3.2.0->en-core-web-sm==3.2.0) (2.4.7)\n",
      "Requirement already satisfied: smart-open<6.0.0,>=5.2.1 in /opt/conda/lib/python3.9/site-packages (from pathy>=0.3.5->spacy<3.3.0,>=3.2.0->en-core-web-sm==3.2.0) (5.2.1)\n",
      "Requirement already satisfied: typing-extensions>=3.7.4.3 in /opt/conda/lib/python3.9/site-packages (from pydantic!=1.8,!=1.8.1,<1.9.0,>=1.7.4->spacy<3.3.0,>=3.2.0->en-core-web-sm==3.2.0) (4.3.0)\n",
      "Requirement already satisfied: urllib3<1.27,>=1.21.1 in /opt/conda/lib/python3.9/site-packages (from requests<3.0.0,>=2.13.0->spacy<3.3.0,>=3.2.0->en-core-web-sm==3.2.0) (1.26.6)\n",
      "Requirement already satisfied: idna<3,>=2.5 in /opt/conda/lib/python3.9/site-packages (from requests<3.0.0,>=2.13.0->spacy<3.3.0,>=3.2.0->en-core-web-sm==3.2.0) (2.10)\n",
      "Requirement already satisfied: certifi>=2017.4.17 in /opt/conda/lib/python3.9/site-packages (from requests<3.0.0,>=2.13.0->spacy<3.3.0,>=3.2.0->en-core-web-sm==3.2.0) (2022.6.15)\n",
      "Requirement already satisfied: chardet<5,>=3.0.2 in /opt/conda/lib/python3.9/site-packages (from requests<3.0.0,>=2.13.0->spacy<3.3.0,>=3.2.0->en-core-web-sm==3.2.0) (4.0.0)\n",
      "Requirement already satisfied: click<9.0.0,>=7.1.1 in /opt/conda/lib/python3.9/site-packages (from typer<0.5.0,>=0.3.0->spacy<3.3.0,>=3.2.0->en-core-web-sm==3.2.0) (8.1.3)\n",
      "Requirement already satisfied: MarkupSafe>=2.0 in /opt/conda/lib/python3.9/site-packages (from jinja2->spacy<3.3.0,>=3.2.0->en-core-web-sm==3.2.0) (2.1.1)\n",
      "\u001b[38;5;2m✔ Download and installation successful\u001b[0m\n",
      "You can now load the package via spacy.load('en_core_web_sm')\n"
     ]
    }
   ],
   "source": [
    "!python -m spacy download en_core_web_sm"
   ]
  },
  {
   "cell_type": "code",
   "execution_count": 41,
   "metadata": {},
   "outputs": [],
   "source": [
    "import pandas as pd\n",
    "import spacy\n",
    "from spacy.lang.en.stop_words import STOP_WORDS\n",
    "import string\n",
    "import warnings\n",
    "import seaborn as sns\n",
    "from tqdm import tqdm\n",
    "import numpy as np\n",
    "import matplotlib.pyplot as plt\n",
    "\n",
    "from sklearn.feature_extraction.text import TfidfVectorizer\n",
    "from sklearn.model_selection import train_test_split,RandomizedSearchCV\n",
    "from sklearn.pipeline import Pipeline\n",
    "from sklearn.ensemble import RandomForestClassifier\n",
    "from sklearn.tree import DecisionTreeClassifier\n",
    "from sklearn.metrics import f1_score\n",
    "\n",
    "from catboost import CatBoostClassifier\n",
    "\n",
    "# константы\n",
    "SEED = 3826\n",
    "warnings.filterwarnings('ignore')"
   ]
  },
  {
   "cell_type": "markdown",
   "metadata": {},
   "source": [
    "## Подготовка"
   ]
  },
  {
   "cell_type": "code",
   "execution_count": 2,
   "metadata": {},
   "outputs": [],
   "source": [
    "df= pd.read_csv('/datasets/toxic_comments.csv')"
   ]
  },
  {
   "cell_type": "code",
   "execution_count": 3,
   "metadata": {},
   "outputs": [],
   "source": [
    "def data_analis (df):\n",
    "    i=df.info()\n",
    "    h=df.head()\n",
    "    ds=df.describe()\n",
    "    dp=df.duplicated().sum()\n",
    "    isna = df.isna().sum()\n",
    "    i\n",
    "    display(h)\n",
    "    display(ds)\n",
    "    print('дубликаты:',dp)\n",
    "    print('пропуски:', isna,sep=' ')"
   ]
  },
  {
   "cell_type": "code",
   "execution_count": 4,
   "metadata": {},
   "outputs": [
    {
     "name": "stdout",
     "output_type": "stream",
     "text": [
      "<class 'pandas.core.frame.DataFrame'>\n",
      "RangeIndex: 159292 entries, 0 to 159291\n",
      "Data columns (total 3 columns):\n",
      " #   Column      Non-Null Count   Dtype \n",
      "---  ------      --------------   ----- \n",
      " 0   Unnamed: 0  159292 non-null  int64 \n",
      " 1   text        159292 non-null  object\n",
      " 2   toxic       159292 non-null  int64 \n",
      "dtypes: int64(2), object(1)\n",
      "memory usage: 3.6+ MB\n"
     ]
    },
    {
     "data": {
      "text/html": [
       "<div>\n",
       "<style scoped>\n",
       "    .dataframe tbody tr th:only-of-type {\n",
       "        vertical-align: middle;\n",
       "    }\n",
       "\n",
       "    .dataframe tbody tr th {\n",
       "        vertical-align: top;\n",
       "    }\n",
       "\n",
       "    .dataframe thead th {\n",
       "        text-align: right;\n",
       "    }\n",
       "</style>\n",
       "<table border=\"1\" class=\"dataframe\">\n",
       "  <thead>\n",
       "    <tr style=\"text-align: right;\">\n",
       "      <th></th>\n",
       "      <th>Unnamed: 0</th>\n",
       "      <th>text</th>\n",
       "      <th>toxic</th>\n",
       "    </tr>\n",
       "  </thead>\n",
       "  <tbody>\n",
       "    <tr>\n",
       "      <th>0</th>\n",
       "      <td>0</td>\n",
       "      <td>Explanation\\nWhy the edits made under my usern...</td>\n",
       "      <td>0</td>\n",
       "    </tr>\n",
       "    <tr>\n",
       "      <th>1</th>\n",
       "      <td>1</td>\n",
       "      <td>D'aww! He matches this background colour I'm s...</td>\n",
       "      <td>0</td>\n",
       "    </tr>\n",
       "    <tr>\n",
       "      <th>2</th>\n",
       "      <td>2</td>\n",
       "      <td>Hey man, I'm really not trying to edit war. It...</td>\n",
       "      <td>0</td>\n",
       "    </tr>\n",
       "    <tr>\n",
       "      <th>3</th>\n",
       "      <td>3</td>\n",
       "      <td>\"\\nMore\\nI can't make any real suggestions on ...</td>\n",
       "      <td>0</td>\n",
       "    </tr>\n",
       "    <tr>\n",
       "      <th>4</th>\n",
       "      <td>4</td>\n",
       "      <td>You, sir, are my hero. Any chance you remember...</td>\n",
       "      <td>0</td>\n",
       "    </tr>\n",
       "  </tbody>\n",
       "</table>\n",
       "</div>"
      ],
      "text/plain": [
       "   Unnamed: 0                                               text  toxic\n",
       "0           0  Explanation\\nWhy the edits made under my usern...      0\n",
       "1           1  D'aww! He matches this background colour I'm s...      0\n",
       "2           2  Hey man, I'm really not trying to edit war. It...      0\n",
       "3           3  \"\\nMore\\nI can't make any real suggestions on ...      0\n",
       "4           4  You, sir, are my hero. Any chance you remember...      0"
      ]
     },
     "metadata": {},
     "output_type": "display_data"
    },
    {
     "data": {
      "text/html": [
       "<div>\n",
       "<style scoped>\n",
       "    .dataframe tbody tr th:only-of-type {\n",
       "        vertical-align: middle;\n",
       "    }\n",
       "\n",
       "    .dataframe tbody tr th {\n",
       "        vertical-align: top;\n",
       "    }\n",
       "\n",
       "    .dataframe thead th {\n",
       "        text-align: right;\n",
       "    }\n",
       "</style>\n",
       "<table border=\"1\" class=\"dataframe\">\n",
       "  <thead>\n",
       "    <tr style=\"text-align: right;\">\n",
       "      <th></th>\n",
       "      <th>Unnamed: 0</th>\n",
       "      <th>toxic</th>\n",
       "    </tr>\n",
       "  </thead>\n",
       "  <tbody>\n",
       "    <tr>\n",
       "      <th>count</th>\n",
       "      <td>159292.000000</td>\n",
       "      <td>159292.000000</td>\n",
       "    </tr>\n",
       "    <tr>\n",
       "      <th>mean</th>\n",
       "      <td>79725.697242</td>\n",
       "      <td>0.101612</td>\n",
       "    </tr>\n",
       "    <tr>\n",
       "      <th>std</th>\n",
       "      <td>46028.837471</td>\n",
       "      <td>0.302139</td>\n",
       "    </tr>\n",
       "    <tr>\n",
       "      <th>min</th>\n",
       "      <td>0.000000</td>\n",
       "      <td>0.000000</td>\n",
       "    </tr>\n",
       "    <tr>\n",
       "      <th>25%</th>\n",
       "      <td>39872.750000</td>\n",
       "      <td>0.000000</td>\n",
       "    </tr>\n",
       "    <tr>\n",
       "      <th>50%</th>\n",
       "      <td>79721.500000</td>\n",
       "      <td>0.000000</td>\n",
       "    </tr>\n",
       "    <tr>\n",
       "      <th>75%</th>\n",
       "      <td>119573.250000</td>\n",
       "      <td>0.000000</td>\n",
       "    </tr>\n",
       "    <tr>\n",
       "      <th>max</th>\n",
       "      <td>159450.000000</td>\n",
       "      <td>1.000000</td>\n",
       "    </tr>\n",
       "  </tbody>\n",
       "</table>\n",
       "</div>"
      ],
      "text/plain": [
       "          Unnamed: 0          toxic\n",
       "count  159292.000000  159292.000000\n",
       "mean    79725.697242       0.101612\n",
       "std     46028.837471       0.302139\n",
       "min         0.000000       0.000000\n",
       "25%     39872.750000       0.000000\n",
       "50%     79721.500000       0.000000\n",
       "75%    119573.250000       0.000000\n",
       "max    159450.000000       1.000000"
      ]
     },
     "metadata": {},
     "output_type": "display_data"
    },
    {
     "name": "stdout",
     "output_type": "stream",
     "text": [
      "дубликаты: 0\n",
      "пропуски: Unnamed: 0    0\n",
      "text          0\n",
      "toxic         0\n",
      "dtype: int64\n"
     ]
    }
   ],
   "source": [
    "data_analis(df)"
   ]
  },
  {
   "cell_type": "code",
   "execution_count": 5,
   "metadata": {},
   "outputs": [],
   "source": [
    "df=df.drop('Unnamed: 0',axis=1)"
   ]
  },
  {
   "cell_type": "code",
   "execution_count": 6,
   "metadata": {},
   "outputs": [
    {
     "name": "stdout",
     "output_type": "stream",
     "text": [
      "<class 'pandas.core.frame.DataFrame'>\n",
      "RangeIndex: 159292 entries, 0 to 159291\n",
      "Data columns (total 2 columns):\n",
      " #   Column  Non-Null Count   Dtype \n",
      "---  ------  --------------   ----- \n",
      " 0   text    159292 non-null  object\n",
      " 1   toxic   159292 non-null  int64 \n",
      "dtypes: int64(1), object(1)\n",
      "memory usage: 2.4+ MB\n"
     ]
    }
   ],
   "source": [
    "df.info()"
   ]
  },
  {
   "cell_type": "code",
   "execution_count": 7,
   "metadata": {},
   "outputs": [
    {
     "data": {
      "image/png": "[encoded data removed]",
      "text/plain": [
       "<Figure size 432x288 with 1 Axes>"
      ]
     },
     "metadata": {
      "needs_background": "light"
     },
     "output_type": "display_data"
    }
   ],
   "source": [
    "ax=sns.countplot(df['toxic'])\n",
    "ax.set(xlabel='токсичность комментария',\n",
    "       ylabel='количество');"
   ]
  },
  {
   "cell_type": "markdown",
   "metadata": {},
   "source": [
    "<div style=\"padding: 30px 25px; border: 3px #30D5C8 solid\">\n",
    "\n",
    "### вывод по главе \"Подготовка данных\"\n",
    "    \n",
    "  - загрузили и посмотерли данный\n",
    "  - удалили лишние стобцы\n",
    "  - посмотрели распределение классов\n",
    "    \n"
   ]
  },
  {
   "cell_type": "markdown",
   "metadata": {},
   "source": [
    "## переработка комментариев"
   ]
  },
  {
   "cell_type": "code",
   "execution_count": 8,
   "metadata": {},
   "outputs": [],
   "source": [
    "nlp = spacy.load('en_core_web_sm')\n",
    "punctuations = string.punctuation"
   ]
  },
  {
   "cell_type": "code",
   "execution_count": 9,
   "metadata": {
    "scrolled": false
   },
   "outputs": [],
   "source": [
    "def x(df):\n",
    "    lemm_texts=[]\n",
    "    puncts=[]\n",
    "    clear=[]\n",
    "    for doc in tqdm(nlp.pipe(df.values, disable = ['ner', 'parser']), total=df.shape[0]):\n",
    "        lemm_text = \" \".join([i.lemma_ for i in doc])\n",
    "        lemm_texts.append(lemm_text.lower())\n",
    "        \n",
    "    lt=lemm_texts\n",
    "    \n",
    "    for stop in lt:\n",
    "        s=\" \".join(s for s in stop.split() if s not in STOP_WORDS)\n",
    "        puncts.append(s)\n",
    "    \n",
    "    for punct in puncts:\n",
    "        p=\" \".join([p for p in punct.split() if p not in punctuations ])\n",
    "        clear.append(p)\n",
    "    \n",
    "    return clear"
   ]
  },
  {
   "cell_type": "code",
   "execution_count": 10,
   "metadata": {},
   "outputs": [
    {
     "name": "stderr",
     "output_type": "stream",
     "text": [
      "100%|██████████| 159292/159292 [13:23<00:00, 198.34it/s]\n"
     ]
    }
   ],
   "source": [
    "df['lemm_text']=x(df['text'])"
   ]
  },
  {
   "cell_type": "code",
   "execution_count": 11,
   "metadata": {},
   "outputs": [
    {
     "data": {
      "text/html": [
       "<div>\n",
       "<style scoped>\n",
       "    .dataframe tbody tr th:only-of-type {\n",
       "        vertical-align: middle;\n",
       "    }\n",
       "\n",
       "    .dataframe tbody tr th {\n",
       "        vertical-align: top;\n",
       "    }\n",
       "\n",
       "    .dataframe thead th {\n",
       "        text-align: right;\n",
       "    }\n",
       "</style>\n",
       "<table border=\"1\" class=\"dataframe\">\n",
       "  <thead>\n",
       "    <tr style=\"text-align: right;\">\n",
       "      <th></th>\n",
       "      <th>text</th>\n",
       "      <th>toxic</th>\n",
       "      <th>lemm_text</th>\n",
       "    </tr>\n",
       "  </thead>\n",
       "  <tbody>\n",
       "    <tr>\n",
       "      <th>0</th>\n",
       "      <td>Explanation\\nWhy the edits made under my usern...</td>\n",
       "      <td>0</td>\n",
       "      <td>explanation edit username hardcore metallica f...</td>\n",
       "    </tr>\n",
       "    <tr>\n",
       "      <th>1</th>\n",
       "      <td>D'aww! He matches this background colour I'm s...</td>\n",
       "      <td>0</td>\n",
       "      <td>d'aww match background colour seemingly stuck ...</td>\n",
       "    </tr>\n",
       "    <tr>\n",
       "      <th>2</th>\n",
       "      <td>Hey man, I'm really not trying to edit war. It...</td>\n",
       "      <td>0</td>\n",
       "      <td>hey man try edit war guy constantly remove rel...</td>\n",
       "    </tr>\n",
       "    <tr>\n",
       "      <th>3</th>\n",
       "      <td>\"\\nMore\\nI can't make any real suggestions on ...</td>\n",
       "      <td>0</td>\n",
       "      <td>real suggestion improvement wonder section sta...</td>\n",
       "    </tr>\n",
       "    <tr>\n",
       "      <th>4</th>\n",
       "      <td>You, sir, are my hero. Any chance you remember...</td>\n",
       "      <td>0</td>\n",
       "      <td>sir hero chance remember page</td>\n",
       "    </tr>\n",
       "    <tr>\n",
       "      <th>...</th>\n",
       "      <td>...</td>\n",
       "      <td>...</td>\n",
       "      <td>...</td>\n",
       "    </tr>\n",
       "    <tr>\n",
       "      <th>159287</th>\n",
       "      <td>\":::::And for the second time of asking, when ...</td>\n",
       "      <td>0</td>\n",
       "      <td>second time asking view completely contradict ...</td>\n",
       "    </tr>\n",
       "    <tr>\n",
       "      <th>159288</th>\n",
       "      <td>You should be ashamed of yourself \\n\\nThat is ...</td>\n",
       "      <td>0</td>\n",
       "      <td>ashamed horrible thing talk page 128.61.19.93</td>\n",
       "    </tr>\n",
       "    <tr>\n",
       "      <th>159289</th>\n",
       "      <td>Spitzer \\n\\nUmm, theres no actual article for ...</td>\n",
       "      <td>0</td>\n",
       "      <td>spitzer umm s actual article prostitution ring...</td>\n",
       "    </tr>\n",
       "    <tr>\n",
       "      <th>159290</th>\n",
       "      <td>And it looks like it was actually you who put ...</td>\n",
       "      <td>0</td>\n",
       "      <td>look like actually speedy version delete look</td>\n",
       "    </tr>\n",
       "    <tr>\n",
       "      <th>159291</th>\n",
       "      <td>\"\\nAnd ... I really don't think you understand...</td>\n",
       "      <td>0</td>\n",
       "      <td>... think understand come idea bad right away ...</td>\n",
       "    </tr>\n",
       "  </tbody>\n",
       "</table>\n",
       "<p>159292 rows × 3 columns</p>\n",
       "</div>"
      ],
      "text/plain": [
       "                                                     text  toxic  \\\n",
       "0       Explanation\\nWhy the edits made under my usern...      0   \n",
       "1       D'aww! He matches this background colour I'm s...      0   \n",
       "2       Hey man, I'm really not trying to edit war. It...      0   \n",
       "3       \"\\nMore\\nI can't make any real suggestions on ...      0   \n",
       "4       You, sir, are my hero. Any chance you remember...      0   \n",
       "...                                                   ...    ...   \n",
       "159287  \":::::And for the second time of asking, when ...      0   \n",
       "159288  You should be ashamed of yourself \\n\\nThat is ...      0   \n",
       "159289  Spitzer \\n\\nUmm, theres no actual article for ...      0   \n",
       "159290  And it looks like it was actually you who put ...      0   \n",
       "159291  \"\\nAnd ... I really don't think you understand...      0   \n",
       "\n",
       "                                                lemm_text  \n",
       "0       explanation edit username hardcore metallica f...  \n",
       "1       d'aww match background colour seemingly stuck ...  \n",
       "2       hey man try edit war guy constantly remove rel...  \n",
       "3       real suggestion improvement wonder section sta...  \n",
       "4                           sir hero chance remember page  \n",
       "...                                                   ...  \n",
       "159287  second time asking view completely contradict ...  \n",
       "159288      ashamed horrible thing talk page 128.61.19.93  \n",
       "159289  spitzer umm s actual article prostitution ring...  \n",
       "159290      look like actually speedy version delete look  \n",
       "159291  ... think understand come idea bad right away ...  \n",
       "\n",
       "[159292 rows x 3 columns]"
      ]
     },
     "metadata": {},
     "output_type": "display_data"
    }
   ],
   "source": [
    "display(df.head())"
   ]
  },
  {
   "cell_type": "code",
   "execution_count": 12,
   "metadata": {},
   "outputs": [],
   "source": [
    "tfidf_vector = TfidfVectorizer(max_features=45000,stop_words='english',min_df=10)"
   ]
  },
  {
   "cell_type": "markdown",
   "metadata": {},
   "source": [
    "<div style=\"padding: 30px 25px; border: 3px #30D5C8 solid\">\n",
    "\n",
    "### вывод по главе \"переработка комментариев\"\n",
    "   - леметизировали текст\n",
    "   - убрали знаки пунктуации\n",
    "   - убрали стоп слова\n",
    "   - закодировали tf-idf\n",
    "    "
   ]
  },
  {
   "cell_type": "markdown",
   "metadata": {},
   "source": [
    "## Обучение"
   ]
  },
  {
   "cell_type": "code",
   "execution_count": 13,
   "metadata": {},
   "outputs": [],
   "source": [
    "features=df['lemm_text']\n",
    "target = df['toxic']"
   ]
  },
  {
   "cell_type": "code",
   "execution_count": 14,
   "metadata": {},
   "outputs": [
    {
     "name": "stdout",
     "output_type": "stream",
     "text": [
      "размер тренировочной выборки: (127433,), (127433,)\n",
      "размер тестовой выборки:(31859,), (31859,)\n"
     ]
    }
   ],
   "source": [
    "features_train, features_test, target_train, target_test = train_test_split(features, target, test_size=0.2,\n",
    "                                                                              random_state=SEED)\n",
    "\n",
    "print(f'размер тренировочной выборки: {features_train.shape}, {target_train.shape}' )\n",
    "print(f'размер тестовой выборки:{features_test.shape}, {target_test.shape}')"
   ]
  },
  {
   "cell_type": "code",
   "execution_count": 15,
   "metadata": {
    "scrolled": true
   },
   "outputs": [
    {
     "name": "stdout",
     "output_type": "stream",
     "text": [
      "Размерность обучающей матрицы TF-IDF: (127433, 16052)\n",
      "Размерность тестовой матрицы TF-IDF: (31859, 16052)\n",
      "CPU times: user 5.33 s, sys: 40.1 ms, total: 5.37 s\n",
      "Wall time: 5.38 s\n"
     ]
    }
   ],
   "source": [
    "%%time\n",
    "features_train_vectorized = tfidf_vector.fit_transform(features_train)\n",
    "features_test_vectorized = tfidf_vector.transform(features_test)\n",
    "# Вывод размерности матрицы TF-IDF\n",
    "print(\"Размерность обучающей матрицы TF-IDF:\", features_train_vectorized.shape)\n",
    "print(\"Размерность тестовой матрицы TF-IDF:\", features_test_vectorized.shape)\n"
   ]
  },
  {
   "cell_type": "code",
   "execution_count": 16,
   "metadata": {},
   "outputs": [],
   "source": [
    "param_grid = {\n",
    "    'criterion':['entropy'],\n",
    "    'n_estimators': [10,50,100, 150],\n",
    "    'max_depth': [2,5,7,15],\n",
    "    'min_samples_split': [2, 3,5,10],\n",
    "}\n",
    "\n",
    "pipe = RandomForestClassifier()\n",
    "\n",
    "random_search_RF = RandomizedSearchCV(estimator=pipe,\n",
    "                                      param_distributions=param_grid,\n",
    "                                      cv=5,\n",
    "                                      verbose=3,\n",
    "                                      random_state=SEED,\n",
    "                                      scoring=\"f1\")"
   ]
  },
  {
   "cell_type": "code",
   "execution_count": 17,
   "metadata": {
    "scrolled": false
   },
   "outputs": [
    {
     "name": "stdout",
     "output_type": "stream",
     "text": [
      "Fitting 5 folds for each of 10 candidates, totalling 50 fits\n",
      "[CV 1/5] END criterion=entropy, max_depth=7, min_samples_split=5, n_estimators=10; total time=   0.4s\n",
      "[CV 2/5] END criterion=entropy, max_depth=7, min_samples_split=5, n_estimators=10; total time=   0.4s\n",
      "[CV 3/5] END criterion=entropy, max_depth=7, min_samples_split=5, n_estimators=10; total time=   0.4s\n",
      "[CV 4/5] END criterion=entropy, max_depth=7, min_samples_split=5, n_estimators=10; total time=   0.4s\n",
      "[CV 5/5] END criterion=entropy, max_depth=7, min_samples_split=5, n_estimators=10; total time=   0.4s\n",
      "[CV 1/5] END criterion=entropy, max_depth=2, min_samples_split=10, n_estimators=10; total time=   0.3s\n",
      "[CV 2/5] END criterion=entropy, max_depth=2, min_samples_split=10, n_estimators=10; total time=   0.3s\n",
      "[CV 3/5] END criterion=entropy, max_depth=2, min_samples_split=10, n_estimators=10; total time=   0.3s\n",
      "[CV 4/5] END criterion=entropy, max_depth=2, min_samples_split=10, n_estimators=10; total time=   0.3s\n",
      "[CV 5/5] END criterion=entropy, max_depth=2, min_samples_split=10, n_estimators=10; total time=   0.3s\n",
      "[CV 1/5] END criterion=entropy, max_depth=15, min_samples_split=3, n_estimators=10; total time=   0.8s\n",
      "[CV 2/5] END criterion=entropy, max_depth=15, min_samples_split=3, n_estimators=10; total time=   0.7s\n",
      "[CV 3/5] END criterion=entropy, max_depth=15, min_samples_split=3, n_estimators=10; total time=   0.7s\n",
      "[CV 4/5] END criterion=entropy, max_depth=15, min_samples_split=3, n_estimators=10; total time=   0.7s\n",
      "[CV 5/5] END criterion=entropy, max_depth=15, min_samples_split=3, n_estimators=10; total time=   0.7s\n",
      "[CV 1/5] END criterion=entropy, max_depth=15, min_samples_split=10, n_estimators=100; total time=   6.3s\n",
      "[CV 2/5] END criterion=entropy, max_depth=15, min_samples_split=10, n_estimators=100; total time=   6.1s\n",
      "[CV 3/5] END criterion=entropy, max_depth=15, min_samples_split=10, n_estimators=100; total time=   6.0s\n",
      "[CV 4/5] END criterion=entropy, max_depth=15, min_samples_split=10, n_estimators=100; total time=   6.2s\n",
      "[CV 5/5] END criterion=entropy, max_depth=15, min_samples_split=10, n_estimators=100; total time=   6.8s\n",
      "[CV 1/5] END criterion=entropy, max_depth=7, min_samples_split=5, n_estimators=150; total time=   5.2s\n",
      "[CV 2/5] END criterion=entropy, max_depth=7, min_samples_split=5, n_estimators=150; total time=   5.1s\n",
      "[CV 3/5] END criterion=entropy, max_depth=7, min_samples_split=5, n_estimators=150; total time=   5.2s\n",
      "[CV 4/5] END criterion=entropy, max_depth=7, min_samples_split=5, n_estimators=150; total time=   5.1s\n",
      "[CV 5/5] END criterion=entropy, max_depth=7, min_samples_split=5, n_estimators=150; total time=   5.0s\n",
      "[CV 1/5] END criterion=entropy, max_depth=5, min_samples_split=10, n_estimators=10; total time=   0.4s\n",
      "[CV 2/5] END criterion=entropy, max_depth=5, min_samples_split=10, n_estimators=10; total time=   0.4s\n",
      "[CV 3/5] END criterion=entropy, max_depth=5, min_samples_split=10, n_estimators=10; total time=   0.4s\n",
      "[CV 4/5] END criterion=entropy, max_depth=5, min_samples_split=10, n_estimators=10; total time=   0.4s\n",
      "[CV 5/5] END criterion=entropy, max_depth=5, min_samples_split=10, n_estimators=10; total time=   0.4s\n",
      "[CV 1/5] END criterion=entropy, max_depth=7, min_samples_split=10, n_estimators=150; total time=   5.1s\n",
      "[CV 2/5] END criterion=entropy, max_depth=7, min_samples_split=10, n_estimators=150; total time=   5.1s\n",
      "[CV 3/5] END criterion=entropy, max_depth=7, min_samples_split=10, n_estimators=150; total time=   5.0s\n",
      "[CV 4/5] END criterion=entropy, max_depth=7, min_samples_split=10, n_estimators=150; total time=   5.1s\n",
      "[CV 5/5] END criterion=entropy, max_depth=7, min_samples_split=10, n_estimators=150; total time=   5.0s\n",
      "[CV 1/5] END criterion=entropy, max_depth=7, min_samples_split=10, n_estimators=100; total time=   3.5s\n",
      "[CV 2/5] END criterion=entropy, max_depth=7, min_samples_split=10, n_estimators=100; total time=   3.4s\n",
      "[CV 3/5] END criterion=entropy, max_depth=7, min_samples_split=10, n_estimators=100; total time=   3.3s\n",
      "[CV 4/5] END criterion=entropy, max_depth=7, min_samples_split=10, n_estimators=100; total time=   3.6s\n",
      "[CV 5/5] END criterion=entropy, max_depth=7, min_samples_split=10, n_estimators=100; total time=   3.5s\n",
      "[CV 1/5] END criterion=entropy, max_depth=5, min_samples_split=2, n_estimators=10; total time=   0.4s\n",
      "[CV 2/5] END criterion=entropy, max_depth=5, min_samples_split=2, n_estimators=10; total time=   0.4s\n",
      "[CV 3/5] END criterion=entropy, max_depth=5, min_samples_split=2, n_estimators=10; total time=   0.4s\n",
      "[CV 4/5] END criterion=entropy, max_depth=5, min_samples_split=2, n_estimators=10; total time=   0.4s\n",
      "[CV 5/5] END criterion=entropy, max_depth=5, min_samples_split=2, n_estimators=10; total time=   0.4s\n",
      "[CV 1/5] END criterion=entropy, max_depth=15, min_samples_split=5, n_estimators=100; total time=   6.6s\n",
      "[CV 2/5] END criterion=entropy, max_depth=15, min_samples_split=5, n_estimators=100; total time=   6.6s\n",
      "[CV 3/5] END criterion=entropy, max_depth=15, min_samples_split=5, n_estimators=100; total time=   6.8s\n",
      "[CV 4/5] END criterion=entropy, max_depth=15, min_samples_split=5, n_estimators=100; total time=   6.7s\n",
      "[CV 5/5] END criterion=entropy, max_depth=15, min_samples_split=5, n_estimators=100; total time=   6.6s\n",
      "CPU times: user 2min 23s, sys: 373 ms, total: 2min 24s\n",
      "Wall time: 2min 24s\n"
     ]
    }
   ],
   "source": [
    "%%time\n",
    "# обучение модели\n",
    "random_search_RF.fit(features_train_vectorized, target_train)\n",
    "# сохраним лучшую модель\n",
    "best_model_RF = random_search_RF.best_estimator_\n",
    "# сохраним лучшее значение метрики\n",
    "final_metrics_RF = random_search_RF.best_score_\n"
   ]
  },
  {
   "cell_type": "code",
   "execution_count": 18,
   "metadata": {
    "scrolled": true
   },
   "outputs": [
    {
     "name": "stdout",
     "output_type": "stream",
     "text": [
      "Оптимальные гиперпараметры:\n",
      "{'n_estimators': 10, 'min_samples_split': 3, 'max_depth': 15, 'criterion': 'entropy'}\n",
      " F-1: 0.04605490841186605\n"
     ]
    }
   ],
   "source": [
    "print(f'Оптимальные гиперпараметры:\\n{random_search_RF.best_params_}\\n F-1: {final_metrics_RF}')"
   ]
  },
  {
   "cell_type": "code",
   "execution_count": 19,
   "metadata": {},
   "outputs": [],
   "source": [
    "param_grid = {\n",
    "   \n",
    "    'max_depth': [2,5, 7,15],\n",
    "    'min_samples_split': [2, 3,5,10],\n",
    "}\n",
    "\n",
    "dt= DecisionTreeClassifier()\n",
    "\n",
    "\n",
    "random_search_DT = RandomizedSearchCV(estimator=dt,\n",
    "                                      param_distributions=param_grid,\n",
    "                                      cv=5,\n",
    "                                      verbose=3,\n",
    "                                      random_state=SEED,\n",
    "                                      scoring=\"f1\")"
   ]
  },
  {
   "cell_type": "code",
   "execution_count": 20,
   "metadata": {},
   "outputs": [
    {
     "name": "stdout",
     "output_type": "stream",
     "text": [
      "Fitting 5 folds for each of 10 candidates, totalling 50 fits\n",
      "[CV 1/5] END ...............max_depth=7, min_samples_split=3; total time=   2.4s\n",
      "[CV 2/5] END ...............max_depth=7, min_samples_split=3; total time=   2.5s\n",
      "[CV 3/5] END ...............max_depth=7, min_samples_split=3; total time=   2.4s\n",
      "[CV 4/5] END ...............max_depth=7, min_samples_split=3; total time=   2.5s\n",
      "[CV 5/5] END ...............max_depth=7, min_samples_split=3; total time=   2.5s\n",
      "[CV 1/5] END ...............max_depth=2, min_samples_split=3; total time=   0.8s\n",
      "[CV 2/5] END ...............max_depth=2, min_samples_split=3; total time=   0.8s\n",
      "[CV 3/5] END ...............max_depth=2, min_samples_split=3; total time=   0.8s\n",
      "[CV 4/5] END ...............max_depth=2, min_samples_split=3; total time=   0.7s\n",
      "[CV 5/5] END ...............max_depth=2, min_samples_split=3; total time=   0.8s\n",
      "[CV 1/5] END ..............max_depth=7, min_samples_split=10; total time=   2.7s\n",
      "[CV 2/5] END ..............max_depth=7, min_samples_split=10; total time=   2.6s\n",
      "[CV 3/5] END ..............max_depth=7, min_samples_split=10; total time=   2.4s\n",
      "[CV 4/5] END ..............max_depth=7, min_samples_split=10; total time=   2.4s\n",
      "[CV 5/5] END ..............max_depth=7, min_samples_split=10; total time=   2.5s\n",
      "[CV 1/5] END ..............max_depth=15, min_samples_split=3; total time=   5.6s\n",
      "[CV 2/5] END ..............max_depth=15, min_samples_split=3; total time=   5.4s\n",
      "[CV 3/5] END ..............max_depth=15, min_samples_split=3; total time=   5.6s\n",
      "[CV 4/5] END ..............max_depth=15, min_samples_split=3; total time=   7.9s\n",
      "[CV 5/5] END ..............max_depth=15, min_samples_split=3; total time=   6.5s\n",
      "[CV 1/5] END ..............max_depth=15, min_samples_split=5; total time=   5.5s\n",
      "[CV 2/5] END ..............max_depth=15, min_samples_split=5; total time=   5.3s\n",
      "[CV 3/5] END ..............max_depth=15, min_samples_split=5; total time=   5.2s\n",
      "[CV 4/5] END ..............max_depth=15, min_samples_split=5; total time=   5.3s\n",
      "[CV 5/5] END ..............max_depth=15, min_samples_split=5; total time=   5.1s\n",
      "[CV 1/5] END ..............max_depth=5, min_samples_split=10; total time=   1.6s\n",
      "[CV 2/5] END ..............max_depth=5, min_samples_split=10; total time=   1.7s\n",
      "[CV 3/5] END ..............max_depth=5, min_samples_split=10; total time=   1.7s\n",
      "[CV 4/5] END ..............max_depth=5, min_samples_split=10; total time=   1.7s\n",
      "[CV 5/5] END ..............max_depth=5, min_samples_split=10; total time=   1.8s\n",
      "[CV 1/5] END ..............max_depth=15, min_samples_split=2; total time=   5.3s\n",
      "[CV 2/5] END ..............max_depth=15, min_samples_split=2; total time=   5.3s\n",
      "[CV 3/5] END ..............max_depth=15, min_samples_split=2; total time=   5.2s\n",
      "[CV 4/5] END ..............max_depth=15, min_samples_split=2; total time=   5.1s\n",
      "[CV 5/5] END ..............max_depth=15, min_samples_split=2; total time=   5.0s\n",
      "[CV 1/5] END ...............max_depth=2, min_samples_split=5; total time=   0.7s\n",
      "[CV 2/5] END ...............max_depth=2, min_samples_split=5; total time=   0.7s\n",
      "[CV 3/5] END ...............max_depth=2, min_samples_split=5; total time=   0.7s\n",
      "[CV 4/5] END ...............max_depth=2, min_samples_split=5; total time=   0.7s\n",
      "[CV 5/5] END ...............max_depth=2, min_samples_split=5; total time=   0.7s\n",
      "[CV 1/5] END ...............max_depth=7, min_samples_split=2; total time=   2.3s\n",
      "[CV 2/5] END ...............max_depth=7, min_samples_split=2; total time=   2.3s\n",
      "[CV 3/5] END ...............max_depth=7, min_samples_split=2; total time=   2.4s\n",
      "[CV 4/5] END ...............max_depth=7, min_samples_split=2; total time=   2.3s\n",
      "[CV 5/5] END ...............max_depth=7, min_samples_split=2; total time=   2.3s\n",
      "[CV 1/5] END ...............max_depth=5, min_samples_split=3; total time=   1.7s\n",
      "[CV 2/5] END ...............max_depth=5, min_samples_split=3; total time=   1.7s\n",
      "[CV 3/5] END ...............max_depth=5, min_samples_split=3; total time=   1.7s\n",
      "[CV 4/5] END ...............max_depth=5, min_samples_split=3; total time=   1.7s\n",
      "[CV 5/5] END ...............max_depth=5, min_samples_split=3; total time=   1.7s\n",
      "CPU times: user 2min 27s, sys: 207 ms, total: 2min 28s\n",
      "Wall time: 2min 31s\n"
     ]
    }
   ],
   "source": [
    "%%time\n",
    "# обучение модели\n",
    "random_search_DT.fit(features_train_vectorized, target_train)\n",
    "# сохраним лучшую модель\n",
    "best_model_DT = random_search_DT.best_estimator_\n",
    "# сохраним лучшее значение метрики\n",
    "final_metrics_DT = random_search_DT.best_score_"
   ]
  },
  {
   "cell_type": "code",
   "execution_count": 21,
   "metadata": {},
   "outputs": [
    {
     "name": "stdout",
     "output_type": "stream",
     "text": [
      "Оптимальные гиперпараметры:\n",
      "{'min_samples_split': 5, 'max_depth': 15}\n",
      " f-1: 0.6379621312987234\n"
     ]
    }
   ],
   "source": [
    "print(f'Оптимальные гиперпараметры:\\n{random_search_DT.best_params_}\\n f-1: {final_metrics_DT}')"
   ]
  },
  {
   "cell_type": "code",
   "execution_count": 28,
   "metadata": {},
   "outputs": [],
   "source": [
    "grid = {\n",
    "        'iterations': [100,120],\n",
    "        'learning_rate': [1,0.1,0.01],\n",
    "        'depth': [2,5,7]\n",
    "       }\n",
    "model_cat= CatBoostClassifier(loss_function='Logloss', eval_metric='F1')"
   ]
  },
  {
   "cell_type": "code",
   "execution_count": 32,
   "metadata": {},
   "outputs": [],
   "source": [
    "# обучение модели\n",
    "catboost_grid = RandomizedSearchCV(estimator=model_cat,\n",
    "                                   param_distributions=grid,\n",
    "                                      cv=2, \n",
    "                                  verbose=2,\n",
    "                                  random_state=SEED,\n",
    "                                  scoring='f1')\n"
   ]
  },
  {
   "cell_type": "code",
   "execution_count": 33,
   "metadata": {
    "scrolled": true
   },
   "outputs": [
    {
     "name": "stdout",
     "output_type": "stream",
     "text": [
      "Fitting 2 folds for each of 6 candidates, totalling 12 fits\n"
     ]
    },
    {
     "name": "stderr",
     "output_type": "stream",
     "text": [
      "Custom logger is already specified. Specify more than one logger at same time is not thread safe."
     ]
    },
    {
     "name": "stdout",
     "output_type": "stream",
     "text": [
      "0:\tlearn: 0.2731395\ttotal: 331ms\tremaining: 32.7s\n",
      "1:\tlearn: 0.4251590\ttotal: 631ms\tremaining: 30.9s\n",
      "2:\tlearn: 0.5043923\ttotal: 932ms\tremaining: 30.1s\n",
      "3:\tlearn: 0.5627320\ttotal: 1.23s\tremaining: 29.5s\n",
      "4:\tlearn: 0.5895250\ttotal: 1.53s\tremaining: 29s\n",
      "5:\tlearn: 0.6056820\ttotal: 1.82s\tremaining: 28.5s\n",
      "6:\tlearn: 0.6278018\ttotal: 2.11s\tremaining: 28.1s\n",
      "7:\tlearn: 0.6405673\ttotal: 2.4s\tremaining: 27.6s\n",
      "8:\tlearn: 0.6535456\ttotal: 2.72s\tremaining: 27.5s\n",
      "9:\tlearn: 0.6639336\ttotal: 3s\tremaining: 27s\n",
      "10:\tlearn: 0.6657682\ttotal: 3.29s\tremaining: 26.6s\n",
      "11:\tlearn: 0.6747929\ttotal: 3.57s\tremaining: 26.2s\n",
      "12:\tlearn: 0.6784291\ttotal: 3.85s\tremaining: 25.8s\n",
      "13:\tlearn: 0.6857841\ttotal: 4.14s\tremaining: 25.4s\n",
      "14:\tlearn: 0.6865139\ttotal: 4.43s\tremaining: 25.1s\n",
      "15:\tlearn: 0.6915330\ttotal: 4.72s\tremaining: 24.8s\n",
      "16:\tlearn: 0.6961193\ttotal: 5.01s\tremaining: 24.5s\n",
      "17:\tlearn: 0.6989664\ttotal: 5.32s\tremaining: 24.2s\n",
      "18:\tlearn: 0.7027872\ttotal: 5.63s\tremaining: 24s\n",
      "19:\tlearn: 0.7058716\ttotal: 5.92s\tremaining: 23.7s\n",
      "20:\tlearn: 0.7062615\ttotal: 6.24s\tremaining: 23.5s\n",
      "21:\tlearn: 0.7085588\ttotal: 6.52s\tremaining: 23.1s\n",
      "22:\tlearn: 0.7112045\ttotal: 6.81s\tremaining: 22.8s\n",
      "23:\tlearn: 0.7139342\ttotal: 7.09s\tremaining: 22.5s\n",
      "24:\tlearn: 0.7161818\ttotal: 7.38s\tremaining: 22.1s\n",
      "25:\tlearn: 0.7178465\ttotal: 7.7s\tremaining: 21.9s\n",
      "26:\tlearn: 0.7160314\ttotal: 7.98s\tremaining: 21.6s\n",
      "27:\tlearn: 0.7181959\ttotal: 8.26s\tremaining: 21.2s\n",
      "28:\tlearn: 0.7200436\ttotal: 8.54s\tremaining: 20.9s\n",
      "29:\tlearn: 0.7223529\ttotal: 8.82s\tremaining: 20.6s\n",
      "30:\tlearn: 0.7248758\ttotal: 9.12s\tremaining: 20.3s\n",
      "31:\tlearn: 0.7278942\ttotal: 9.4s\tremaining: 20s\n",
      "32:\tlearn: 0.7297322\ttotal: 9.7s\tremaining: 19.7s\n",
      "33:\tlearn: 0.7314500\ttotal: 9.99s\tremaining: 19.4s\n",
      "34:\tlearn: 0.7331132\ttotal: 10.3s\tremaining: 19.1s\n",
      "35:\tlearn: 0.7349119\ttotal: 10.6s\tremaining: 18.8s\n",
      "36:\tlearn: 0.7280781\ttotal: 10.9s\tremaining: 18.5s\n",
      "37:\tlearn: 0.7294564\ttotal: 11.1s\tremaining: 18.2s\n",
      "38:\tlearn: 0.7310743\ttotal: 11.4s\tremaining: 17.8s\n",
      "39:\tlearn: 0.7327942\ttotal: 11.7s\tremaining: 17.6s\n",
      "40:\tlearn: 0.7339795\ttotal: 12s\tremaining: 17.2s\n",
      "41:\tlearn: 0.7351148\ttotal: 12.3s\tremaining: 16.9s\n",
      "42:\tlearn: 0.7353311\ttotal: 12.6s\tremaining: 16.6s\n",
      "43:\tlearn: 0.7365876\ttotal: 12.8s\tremaining: 16.3s\n",
      "44:\tlearn: 0.7425267\ttotal: 13.1s\tremaining: 16s\n",
      "45:\tlearn: 0.7442108\ttotal: 13.4s\tremaining: 15.7s\n",
      "46:\tlearn: 0.7459488\ttotal: 13.7s\tremaining: 15.4s\n",
      "47:\tlearn: 0.7469048\ttotal: 14s\tremaining: 15.1s\n",
      "48:\tlearn: 0.7471925\ttotal: 14.3s\tremaining: 14.8s\n",
      "49:\tlearn: 0.7467164\ttotal: 14.5s\tremaining: 14.5s\n",
      "50:\tlearn: 0.7472742\ttotal: 14.8s\tremaining: 14.2s\n",
      "51:\tlearn: 0.7484076\ttotal: 15.1s\tremaining: 14s\n",
      "52:\tlearn: 0.7503088\ttotal: 15.4s\tremaining: 13.7s\n",
      "53:\tlearn: 0.7510578\ttotal: 15.7s\tremaining: 13.4s\n",
      "54:\tlearn: 0.7523759\ttotal: 16s\tremaining: 13.1s\n",
      "55:\tlearn: 0.7514114\ttotal: 16.3s\tremaining: 12.8s\n",
      "56:\tlearn: 0.7534777\ttotal: 16.6s\tremaining: 12.5s\n",
      "57:\tlearn: 0.7535900\ttotal: 16.9s\tremaining: 12.2s\n",
      "58:\tlearn: 0.7538584\ttotal: 17.1s\tremaining: 11.9s\n",
      "59:\tlearn: 0.7563866\ttotal: 17.4s\tremaining: 11.6s\n",
      "60:\tlearn: 0.7569749\ttotal: 17.7s\tremaining: 11.3s\n",
      "61:\tlearn: 0.7576050\ttotal: 18s\tremaining: 11s\n",
      "62:\tlearn: 0.7583851\ttotal: 18.3s\tremaining: 10.7s\n",
      "63:\tlearn: 0.7587052\ttotal: 18.6s\tremaining: 10.5s\n",
      "64:\tlearn: 0.7596087\ttotal: 18.9s\tremaining: 10.2s\n",
      "65:\tlearn: 0.7605830\ttotal: 19.2s\tremaining: 9.87s\n",
      "66:\tlearn: 0.7604895\ttotal: 19.4s\tremaining: 9.57s\n",
      "67:\tlearn: 0.7608734\ttotal: 19.7s\tremaining: 9.28s\n",
      "68:\tlearn: 0.7614559\ttotal: 20s\tremaining: 8.99s\n",
      "69:\tlearn: 0.7621042\ttotal: 20.3s\tremaining: 8.69s\n",
      "70:\tlearn: 0.7623780\ttotal: 20.6s\tremaining: 8.4s\n",
      "71:\tlearn: 0.7640664\ttotal: 20.9s\tremaining: 8.12s\n",
      "72:\tlearn: 0.7648897\ttotal: 21.2s\tremaining: 7.83s\n",
      "73:\tlearn: 0.7657470\ttotal: 21.4s\tremaining: 7.54s\n",
      "74:\tlearn: 0.7655394\ttotal: 21.7s\tremaining: 7.24s\n",
      "75:\tlearn: 0.7661571\ttotal: 22s\tremaining: 6.95s\n",
      "76:\tlearn: 0.7667998\ttotal: 22.3s\tremaining: 6.66s\n",
      "77:\tlearn: 0.7673087\ttotal: 22.6s\tremaining: 6.37s\n",
      "78:\tlearn: 0.7678835\ttotal: 22.9s\tremaining: 6.07s\n",
      "79:\tlearn: 0.7684037\ttotal: 23.1s\tremaining: 5.78s\n",
      "80:\tlearn: 0.7695238\ttotal: 23.4s\tremaining: 5.49s\n",
      "81:\tlearn: 0.7704563\ttotal: 23.7s\tremaining: 5.2s\n",
      "82:\tlearn: 0.7693911\ttotal: 24s\tremaining: 4.91s\n",
      "83:\tlearn: 0.7692708\ttotal: 24.3s\tremaining: 4.62s\n",
      "84:\tlearn: 0.7699913\ttotal: 24.5s\tremaining: 4.33s\n",
      "85:\tlearn: 0.7706040\ttotal: 24.8s\tremaining: 4.04s\n",
      "86:\tlearn: 0.7712158\ttotal: 25.1s\tremaining: 3.75s\n",
      "87:\tlearn: 0.7717871\ttotal: 25.4s\tremaining: 3.46s\n",
      "88:\tlearn: 0.7732503\ttotal: 25.7s\tremaining: 3.18s\n",
      "89:\tlearn: 0.7738702\ttotal: 26s\tremaining: 2.89s\n",
      "90:\tlearn: 0.7744387\ttotal: 26.3s\tremaining: 2.6s\n",
      "91:\tlearn: 0.7750734\ttotal: 26.6s\tremaining: 2.31s\n",
      "92:\tlearn: 0.7755630\ttotal: 26.9s\tremaining: 2.02s\n",
      "93:\tlearn: 0.7760628\ttotal: 27.1s\tremaining: 1.73s\n",
      "94:\tlearn: 0.7754750\ttotal: 27.4s\tremaining: 1.44s\n",
      "95:\tlearn: 0.7754644\ttotal: 27.7s\tremaining: 1.16s\n",
      "96:\tlearn: 0.7761452\ttotal: 28s\tremaining: 866ms\n",
      "97:\tlearn: 0.7767880\ttotal: 28.3s\tremaining: 577ms\n",
      "98:\tlearn: 0.7763625\ttotal: 28.6s\tremaining: 289ms\n",
      "99:\tlearn: 0.7773258\ttotal: 28.9s\tremaining: 0us\n",
      "[CV] END ...........depth=2, iterations=100, learning_rate=1; total time=  32.9s\n",
      "0:\tlearn: 0.3629929\ttotal: 320ms\tremaining: 31.6s\n",
      "1:\tlearn: 0.4678567\ttotal: 610ms\tremaining: 29.9s\n",
      "2:\tlearn: 0.5330256\ttotal: 907ms\tremaining: 29.3s\n",
      "3:\tlearn: 0.5721189\ttotal: 1.2s\tremaining: 28.8s\n",
      "4:\tlearn: 0.6030253\ttotal: 1.5s\tremaining: 28.4s\n",
      "5:\tlearn: 0.6264310\ttotal: 1.78s\tremaining: 27.9s\n",
      "6:\tlearn: 0.6341901\ttotal: 2.06s\tremaining: 27.4s\n",
      "7:\tlearn: 0.6432518\ttotal: 2.36s\tremaining: 27.1s\n",
      "8:\tlearn: 0.6494855\ttotal: 2.68s\tremaining: 27.1s\n",
      "9:\tlearn: 0.6526829\ttotal: 3s\tremaining: 27s\n",
      "10:\tlearn: 0.6532013\ttotal: 3.31s\tremaining: 26.7s\n",
      "11:\tlearn: 0.6610416\ttotal: 3.59s\tremaining: 26.4s\n",
      "12:\tlearn: 0.6721768\ttotal: 3.88s\tremaining: 26s\n",
      "13:\tlearn: 0.6784554\ttotal: 4.16s\tremaining: 25.5s\n",
      "14:\tlearn: 0.6814252\ttotal: 4.44s\tremaining: 25.1s\n",
      "15:\tlearn: 0.6876058\ttotal: 4.75s\tremaining: 24.9s\n",
      "16:\tlearn: 0.6863748\ttotal: 5.03s\tremaining: 24.5s\n",
      "17:\tlearn: 0.6855244\ttotal: 5.31s\tremaining: 24.2s\n",
      "18:\tlearn: 0.6904244\ttotal: 5.59s\tremaining: 23.9s\n",
      "19:\tlearn: 0.7007449\ttotal: 5.87s\tremaining: 23.5s\n",
      "20:\tlearn: 0.7032600\ttotal: 6.15s\tremaining: 23.1s\n",
      "21:\tlearn: 0.7073599\ttotal: 6.43s\tremaining: 22.8s\n",
      "22:\tlearn: 0.7020401\ttotal: 6.71s\tremaining: 22.5s\n",
      "23:\tlearn: 0.7028646\ttotal: 6.98s\tremaining: 22.1s\n",
      "24:\tlearn: 0.7053113\ttotal: 7.26s\tremaining: 21.8s\n",
      "25:\tlearn: 0.7090537\ttotal: 7.54s\tremaining: 21.5s\n",
      "26:\tlearn: 0.7099703\ttotal: 7.83s\tremaining: 21.2s\n",
      "27:\tlearn: 0.7131511\ttotal: 8.1s\tremaining: 20.8s\n",
      "28:\tlearn: 0.7167736\ttotal: 8.38s\tremaining: 20.5s\n",
      "29:\tlearn: 0.7186044\ttotal: 8.66s\tremaining: 20.2s\n",
      "30:\tlearn: 0.7202918\ttotal: 8.94s\tremaining: 19.9s\n",
      "31:\tlearn: 0.7223386\ttotal: 9.22s\tremaining: 19.6s\n",
      "32:\tlearn: 0.7234931\ttotal: 9.5s\tremaining: 19.3s\n",
      "33:\tlearn: 0.7261181\ttotal: 9.77s\tremaining: 19s\n",
      "34:\tlearn: 0.7277340\ttotal: 10s\tremaining: 18.7s\n",
      "35:\tlearn: 0.7301616\ttotal: 10.3s\tremaining: 18.3s\n",
      "36:\tlearn: 0.7314038\ttotal: 10.6s\tremaining: 18s\n",
      "37:\tlearn: 0.7326911\ttotal: 10.9s\tremaining: 17.7s\n",
      "38:\tlearn: 0.7353970\ttotal: 11.1s\tremaining: 17.4s\n",
      "39:\tlearn: 0.7368138\ttotal: 11.4s\tremaining: 17.1s\n",
      "40:\tlearn: 0.7392586\ttotal: 11.7s\tremaining: 16.8s\n",
      "41:\tlearn: 0.7406813\ttotal: 12s\tremaining: 16.5s\n",
      "42:\tlearn: 0.7412226\ttotal: 12.2s\tremaining: 16.2s\n",
      "43:\tlearn: 0.7427249\ttotal: 12.6s\tremaining: 16s\n",
      "44:\tlearn: 0.7417857\ttotal: 12.8s\tremaining: 15.7s\n",
      "45:\tlearn: 0.7428011\ttotal: 13.1s\tremaining: 15.4s\n",
      "46:\tlearn: 0.7439665\ttotal: 13.4s\tremaining: 15.1s\n",
      "47:\tlearn: 0.7439700\ttotal: 13.7s\tremaining: 14.8s\n",
      "48:\tlearn: 0.7458111\ttotal: 14s\tremaining: 14.5s\n",
      "49:\tlearn: 0.7461408\ttotal: 14.2s\tremaining: 14.2s\n",
      "50:\tlearn: 0.7473956\ttotal: 14.5s\tremaining: 14s\n",
      "51:\tlearn: 0.7485526\ttotal: 14.8s\tremaining: 13.7s\n",
      "52:\tlearn: 0.7494883\ttotal: 15.1s\tremaining: 13.4s\n",
      "53:\tlearn: 0.7500889\ttotal: 15.4s\tremaining: 13.1s\n",
      "54:\tlearn: 0.7511328\ttotal: 15.7s\tremaining: 12.8s\n",
      "55:\tlearn: 0.7527851\ttotal: 15.9s\tremaining: 12.5s\n",
      "56:\tlearn: 0.7535566\ttotal: 16.2s\tremaining: 12.2s\n",
      "57:\tlearn: 0.7538312\ttotal: 16.5s\tremaining: 12s\n",
      "58:\tlearn: 0.7550407\ttotal: 16.8s\tremaining: 11.7s\n",
      "59:\tlearn: 0.7555477\ttotal: 17.1s\tremaining: 11.4s\n",
      "60:\tlearn: 0.7563797\ttotal: 17.3s\tremaining: 11.1s\n",
      "61:\tlearn: 0.7556894\ttotal: 17.6s\tremaining: 10.8s\n",
      "62:\tlearn: 0.7565656\ttotal: 17.9s\tremaining: 10.5s\n",
      "63:\tlearn: 0.7569193\ttotal: 18.2s\tremaining: 10.2s\n",
      "64:\tlearn: 0.7584017\ttotal: 18.4s\tremaining: 9.93s\n",
      "65:\tlearn: 0.7593196\ttotal: 18.7s\tremaining: 9.64s\n",
      "66:\tlearn: 0.7599753\ttotal: 19s\tremaining: 9.35s\n",
      "67:\tlearn: 0.7606303\ttotal: 19.3s\tremaining: 9.06s\n",
      "68:\tlearn: 0.7616535\ttotal: 19.5s\tremaining: 8.78s\n",
      "69:\tlearn: 0.7622814\ttotal: 19.8s\tremaining: 8.49s\n",
      "70:\tlearn: 0.7630169\ttotal: 20.1s\tremaining: 8.2s\n",
      "71:\tlearn: 0.7636683\ttotal: 20.4s\tremaining: 7.92s\n",
      "72:\tlearn: 0.7636268\ttotal: 20.6s\tremaining: 7.64s\n",
      "73:\tlearn: 0.7650771\ttotal: 20.9s\tremaining: 7.35s\n",
      "74:\tlearn: 0.7657153\ttotal: 21.2s\tremaining: 7.07s\n",
      "75:\tlearn: 0.7661213\ttotal: 21.5s\tremaining: 6.79s\n",
      "76:\tlearn: 0.7659351\ttotal: 21.8s\tremaining: 6.5s\n",
      "77:\tlearn: 0.7663666\ttotal: 22s\tremaining: 6.22s\n",
      "78:\tlearn: 0.7669055\ttotal: 22.4s\tremaining: 5.94s\n",
      "79:\tlearn: 0.7670921\ttotal: 22.7s\tremaining: 5.67s\n",
      "80:\tlearn: 0.7674561\ttotal: 22.9s\tremaining: 5.38s\n",
      "81:\tlearn: 0.7681020\ttotal: 23.2s\tremaining: 5.1s\n",
      "82:\tlearn: 0.7692576\ttotal: 23.5s\tremaining: 4.82s\n",
      "83:\tlearn: 0.7697535\ttotal: 23.8s\tremaining: 4.53s\n",
      "84:\tlearn: 0.7701149\ttotal: 24.1s\tremaining: 4.25s\n",
      "85:\tlearn: 0.7728537\ttotal: 24.4s\tremaining: 3.97s\n",
      "86:\tlearn: 0.7715754\ttotal: 24.7s\tremaining: 3.69s\n",
      "87:\tlearn: 0.7722686\ttotal: 25s\tremaining: 3.4s\n",
      "88:\tlearn: 0.7729763\ttotal: 25.2s\tremaining: 3.12s\n",
      "89:\tlearn: 0.7734816\ttotal: 25.5s\tremaining: 2.83s\n",
      "90:\tlearn: 0.7738405\ttotal: 25.8s\tremaining: 2.55s\n",
      "91:\tlearn: 0.7744119\ttotal: 26.1s\tremaining: 2.27s\n",
      "92:\tlearn: 0.7747701\ttotal: 26.3s\tremaining: 1.98s\n",
      "93:\tlearn: 0.7749545\ttotal: 26.6s\tremaining: 1.7s\n",
      "94:\tlearn: 0.7761323\ttotal: 26.9s\tremaining: 1.42s\n",
      "95:\tlearn: 0.7783251\ttotal: 27.2s\tremaining: 1.13s\n",
      "96:\tlearn: 0.7788910\ttotal: 27.5s\tremaining: 850ms\n",
      "97:\tlearn: 0.7793508\ttotal: 27.7s\tremaining: 566ms\n",
      "98:\tlearn: 0.7797722\ttotal: 28s\tremaining: 283ms\n",
      "99:\tlearn: 0.7803488\ttotal: 28.3s\tremaining: 0us\n",
      "[CV] END ...........depth=2, iterations=100, learning_rate=1; total time=  32.4s\n",
      "0:\tlearn: 0.2731395\ttotal: 348ms\tremaining: 41.4s\n",
      "1:\tlearn: 0.4251590\ttotal: 645ms\tremaining: 38.1s\n",
      "2:\tlearn: 0.5043923\ttotal: 955ms\tremaining: 37.2s\n",
      "3:\tlearn: 0.5627320\ttotal: 1.25s\tremaining: 36.3s\n",
      "4:\tlearn: 0.5895250\ttotal: 1.54s\tremaining: 35.4s\n",
      "5:\tlearn: 0.6056820\ttotal: 1.83s\tremaining: 34.7s\n",
      "6:\tlearn: 0.6278018\ttotal: 2.13s\tremaining: 34.4s\n",
      "7:\tlearn: 0.6405673\ttotal: 2.44s\tremaining: 34.2s\n",
      "8:\tlearn: 0.6535456\ttotal: 2.76s\tremaining: 34s\n",
      "9:\tlearn: 0.6639336\ttotal: 3.04s\tremaining: 33.4s\n",
      "10:\tlearn: 0.6657682\ttotal: 3.33s\tremaining: 33s\n",
      "11:\tlearn: 0.6747929\ttotal: 3.62s\tremaining: 32.6s\n",
      "12:\tlearn: 0.6784291\ttotal: 3.9s\tremaining: 32.1s\n",
      "13:\tlearn: 0.6857841\ttotal: 4.17s\tremaining: 31.6s\n",
      "14:\tlearn: 0.6865139\ttotal: 4.47s\tremaining: 31.3s\n",
      "15:\tlearn: 0.6915330\ttotal: 4.76s\tremaining: 30.9s\n",
      "16:\tlearn: 0.6961193\ttotal: 5.04s\tremaining: 30.6s\n",
      "17:\tlearn: 0.6989664\ttotal: 5.32s\tremaining: 30.2s\n",
      "18:\tlearn: 0.7027872\ttotal: 5.6s\tremaining: 29.8s\n",
      "19:\tlearn: 0.7058716\ttotal: 5.87s\tremaining: 29.4s\n",
      "20:\tlearn: 0.7062615\ttotal: 6.17s\tremaining: 29.1s\n",
      "21:\tlearn: 0.7085588\ttotal: 6.45s\tremaining: 28.7s\n",
      "22:\tlearn: 0.7112045\ttotal: 6.73s\tremaining: 28.4s\n",
      "23:\tlearn: 0.7139342\ttotal: 7s\tremaining: 28s\n",
      "24:\tlearn: 0.7161818\ttotal: 7.29s\tremaining: 27.7s\n",
      "25:\tlearn: 0.7178465\ttotal: 7.57s\tremaining: 27.4s\n",
      "26:\tlearn: 0.7160314\ttotal: 7.86s\tremaining: 27.1s\n",
      "27:\tlearn: 0.7181959\ttotal: 8.14s\tremaining: 26.7s\n",
      "28:\tlearn: 0.7200436\ttotal: 8.41s\tremaining: 26.4s\n",
      "29:\tlearn: 0.7223529\ttotal: 8.69s\tremaining: 26.1s\n",
      "30:\tlearn: 0.7248758\ttotal: 8.97s\tremaining: 25.8s\n",
      "31:\tlearn: 0.7278942\ttotal: 9.25s\tremaining: 25.4s\n",
      "32:\tlearn: 0.7297322\ttotal: 9.53s\tremaining: 25.1s\n",
      "33:\tlearn: 0.7314500\ttotal: 9.82s\tremaining: 24.8s\n",
      "34:\tlearn: 0.7331132\ttotal: 10.1s\tremaining: 24.6s\n",
      "35:\tlearn: 0.7349119\ttotal: 10.4s\tremaining: 24.3s\n",
      "36:\tlearn: 0.7280781\ttotal: 10.7s\tremaining: 24s\n",
      "37:\tlearn: 0.7294564\ttotal: 11s\tremaining: 23.7s\n",
      "38:\tlearn: 0.7310743\ttotal: 11.3s\tremaining: 23.4s\n",
      "39:\tlearn: 0.7327942\ttotal: 11.5s\tremaining: 23.1s\n",
      "40:\tlearn: 0.7339795\ttotal: 11.8s\tremaining: 22.8s\n",
      "41:\tlearn: 0.7351148\ttotal: 12.1s\tremaining: 22.5s\n",
      "42:\tlearn: 0.7353311\ttotal: 12.4s\tremaining: 22.2s\n",
      "43:\tlearn: 0.7365876\ttotal: 12.7s\tremaining: 21.9s\n",
      "44:\tlearn: 0.7425267\ttotal: 13s\tremaining: 21.6s\n",
      "45:\tlearn: 0.7442108\ttotal: 13.3s\tremaining: 21.3s\n",
      "46:\tlearn: 0.7459488\ttotal: 13.5s\tremaining: 21s\n",
      "47:\tlearn: 0.7469048\ttotal: 13.8s\tremaining: 20.7s\n",
      "48:\tlearn: 0.7471925\ttotal: 14.1s\tremaining: 20.4s\n",
      "49:\tlearn: 0.7467164\ttotal: 14.3s\tremaining: 20.1s\n",
      "50:\tlearn: 0.7472742\ttotal: 14.6s\tremaining: 19.8s\n",
      "51:\tlearn: 0.7484076\ttotal: 14.9s\tremaining: 19.5s\n",
      "52:\tlearn: 0.7503088\ttotal: 15.2s\tremaining: 19.2s\n",
      "53:\tlearn: 0.7510578\ttotal: 15.5s\tremaining: 18.9s\n",
      "54:\tlearn: 0.7523759\ttotal: 15.8s\tremaining: 18.6s\n",
      "55:\tlearn: 0.7514114\ttotal: 16s\tremaining: 18.3s\n",
      "56:\tlearn: 0.7534777\ttotal: 16.3s\tremaining: 18s\n",
      "57:\tlearn: 0.7535900\ttotal: 16.6s\tremaining: 17.8s\n",
      "58:\tlearn: 0.7538584\ttotal: 16.9s\tremaining: 17.5s\n",
      "59:\tlearn: 0.7563866\ttotal: 17.2s\tremaining: 17.2s\n",
      "60:\tlearn: 0.7569749\ttotal: 17.4s\tremaining: 16.9s\n",
      "61:\tlearn: 0.7576050\ttotal: 17.7s\tremaining: 16.6s\n",
      "62:\tlearn: 0.7583851\ttotal: 18s\tremaining: 16.3s\n",
      "63:\tlearn: 0.7587052\ttotal: 18.3s\tremaining: 16s\n",
      "64:\tlearn: 0.7596087\ttotal: 18.5s\tremaining: 15.7s\n",
      "65:\tlearn: 0.7605830\ttotal: 18.8s\tremaining: 15.4s\n",
      "66:\tlearn: 0.7604895\ttotal: 19.1s\tremaining: 15.1s\n",
      "67:\tlearn: 0.7608734\ttotal: 19.4s\tremaining: 14.8s\n",
      "68:\tlearn: 0.7614559\ttotal: 19.7s\tremaining: 14.6s\n",
      "69:\tlearn: 0.7621042\ttotal: 20s\tremaining: 14.3s\n",
      "70:\tlearn: 0.7623780\ttotal: 20.3s\tremaining: 14s\n",
      "71:\tlearn: 0.7640664\ttotal: 20.6s\tremaining: 13.7s\n",
      "72:\tlearn: 0.7648897\ttotal: 20.9s\tremaining: 13.4s\n",
      "73:\tlearn: 0.7657470\ttotal: 21.2s\tremaining: 13.2s\n",
      "74:\tlearn: 0.7655394\ttotal: 21.4s\tremaining: 12.9s\n",
      "75:\tlearn: 0.7661571\ttotal: 21.7s\tremaining: 12.6s\n",
      "76:\tlearn: 0.7667998\ttotal: 22s\tremaining: 12.3s\n",
      "77:\tlearn: 0.7673087\ttotal: 22.3s\tremaining: 12s\n",
      "78:\tlearn: 0.7678835\ttotal: 22.6s\tremaining: 11.7s\n",
      "79:\tlearn: 0.7684037\ttotal: 22.9s\tremaining: 11.4s\n",
      "80:\tlearn: 0.7695238\ttotal: 23.1s\tremaining: 11.1s\n",
      "81:\tlearn: 0.7704563\ttotal: 23.4s\tremaining: 10.9s\n",
      "82:\tlearn: 0.7693911\ttotal: 23.7s\tremaining: 10.6s\n",
      "83:\tlearn: 0.7692708\ttotal: 24s\tremaining: 10.3s\n",
      "84:\tlearn: 0.7699913\ttotal: 24.2s\tremaining: 9.98s\n",
      "85:\tlearn: 0.7706040\ttotal: 24.5s\tremaining: 9.7s\n",
      "86:\tlearn: 0.7712158\ttotal: 24.8s\tremaining: 9.41s\n",
      "87:\tlearn: 0.7717871\ttotal: 25.1s\tremaining: 9.13s\n",
      "88:\tlearn: 0.7732503\ttotal: 25.4s\tremaining: 8.84s\n",
      "89:\tlearn: 0.7738702\ttotal: 25.7s\tremaining: 8.56s\n",
      "90:\tlearn: 0.7744387\ttotal: 26s\tremaining: 8.27s\n",
      "91:\tlearn: 0.7750734\ttotal: 26.2s\tremaining: 7.98s\n",
      "92:\tlearn: 0.7755630\ttotal: 26.5s\tremaining: 7.7s\n",
      "93:\tlearn: 0.7760628\ttotal: 26.8s\tremaining: 7.41s\n",
      "94:\tlearn: 0.7754750\ttotal: 27.1s\tremaining: 7.12s\n",
      "95:\tlearn: 0.7754644\ttotal: 27.3s\tremaining: 6.84s\n",
      "96:\tlearn: 0.7761452\ttotal: 27.6s\tremaining: 6.55s\n",
      "97:\tlearn: 0.7767880\ttotal: 27.9s\tremaining: 6.26s\n",
      "98:\tlearn: 0.7763625\ttotal: 28.2s\tremaining: 5.98s\n",
      "99:\tlearn: 0.7773258\ttotal: 28.4s\tremaining: 5.69s\n",
      "100:\tlearn: 0.7774316\ttotal: 28.7s\tremaining: 5.4s\n",
      "101:\tlearn: 0.7779315\ttotal: 29s\tremaining: 5.12s\n",
      "102:\tlearn: 0.7782868\ttotal: 29.3s\tremaining: 4.83s\n",
      "103:\tlearn: 0.7790256\ttotal: 29.6s\tremaining: 4.55s\n",
      "104:\tlearn: 0.7764665\ttotal: 29.9s\tremaining: 4.26s\n",
      "105:\tlearn: 0.7769971\ttotal: 30.2s\tremaining: 3.98s\n",
      "106:\tlearn: 0.7826835\ttotal: 30.5s\tremaining: 3.7s\n",
      "107:\tlearn: 0.7823012\ttotal: 30.8s\tremaining: 3.42s\n",
      "108:\tlearn: 0.7827286\ttotal: 31s\tremaining: 3.13s\n",
      "109:\tlearn: 0.7832529\ttotal: 31.3s\tremaining: 2.85s\n",
      "110:\tlearn: 0.7841956\ttotal: 31.6s\tremaining: 2.56s\n",
      "111:\tlearn: 0.7842259\ttotal: 31.9s\tremaining: 2.28s\n",
      "112:\tlearn: 0.7847491\ttotal: 32.2s\tremaining: 1.99s\n",
      "113:\tlearn: 0.7848907\ttotal: 32.5s\tremaining: 1.71s\n",
      "114:\tlearn: 0.7849888\ttotal: 32.7s\tremaining: 1.42s\n",
      "115:\tlearn: 0.7852349\ttotal: 33s\tremaining: 1.14s\n",
      "116:\tlearn: 0.7855484\ttotal: 33.3s\tremaining: 854ms\n",
      "117:\tlearn: 0.7855853\ttotal: 33.6s\tremaining: 569ms\n",
      "118:\tlearn: 0.7865922\ttotal: 33.9s\tremaining: 285ms\n",
      "119:\tlearn: 0.7870458\ttotal: 34.1s\tremaining: 0us\n",
      "[CV] END ...........depth=2, iterations=120, learning_rate=1; total time=  38.2s\n",
      "0:\tlearn: 0.3629929\ttotal: 343ms\tremaining: 40.8s\n",
      "1:\tlearn: 0.4678567\ttotal: 633ms\tremaining: 37.4s\n",
      "2:\tlearn: 0.5330256\ttotal: 923ms\tremaining: 36s\n",
      "3:\tlearn: 0.5721189\ttotal: 1.21s\tremaining: 35.2s\n",
      "4:\tlearn: 0.6030253\ttotal: 1.5s\tremaining: 34.5s\n",
      "5:\tlearn: 0.6264310\ttotal: 1.82s\tremaining: 34.7s\n",
      "6:\tlearn: 0.6341901\ttotal: 2.12s\tremaining: 34.1s\n",
      "7:\tlearn: 0.6432518\ttotal: 2.4s\tremaining: 33.6s\n",
      "8:\tlearn: 0.6494855\ttotal: 2.69s\tremaining: 33.2s\n",
      "9:\tlearn: 0.6526829\ttotal: 3.01s\tremaining: 33.1s\n",
      "10:\tlearn: 0.6532013\ttotal: 3.3s\tremaining: 32.7s\n",
      "11:\tlearn: 0.6610416\ttotal: 3.58s\tremaining: 32.3s\n",
      "12:\tlearn: 0.6721768\ttotal: 3.87s\tremaining: 31.8s\n",
      "13:\tlearn: 0.6784554\ttotal: 4.17s\tremaining: 31.5s\n",
      "14:\tlearn: 0.6814252\ttotal: 4.44s\tremaining: 31.1s\n",
      "15:\tlearn: 0.6876058\ttotal: 4.73s\tremaining: 30.7s\n",
      "16:\tlearn: 0.6863748\ttotal: 5s\tremaining: 30.3s\n",
      "17:\tlearn: 0.6855244\ttotal: 5.3s\tremaining: 30.1s\n",
      "18:\tlearn: 0.6904244\ttotal: 5.58s\tremaining: 29.7s\n",
      "19:\tlearn: 0.7007449\ttotal: 5.86s\tremaining: 29.3s\n",
      "20:\tlearn: 0.7032600\ttotal: 6.14s\tremaining: 29s\n",
      "21:\tlearn: 0.7073599\ttotal: 6.42s\tremaining: 28.6s\n",
      "22:\tlearn: 0.7020401\ttotal: 6.71s\tremaining: 28.3s\n",
      "23:\tlearn: 0.7028646\ttotal: 6.98s\tremaining: 27.9s\n",
      "24:\tlearn: 0.7053113\ttotal: 7.26s\tremaining: 27.6s\n",
      "25:\tlearn: 0.7090537\ttotal: 7.54s\tremaining: 27.3s\n",
      "26:\tlearn: 0.7099703\ttotal: 7.82s\tremaining: 27s\n",
      "27:\tlearn: 0.7131511\ttotal: 8.1s\tremaining: 26.6s\n",
      "28:\tlearn: 0.7167736\ttotal: 8.37s\tremaining: 26.3s\n",
      "29:\tlearn: 0.7186044\ttotal: 8.65s\tremaining: 26s\n",
      "30:\tlearn: 0.7202918\ttotal: 8.92s\tremaining: 25.6s\n",
      "31:\tlearn: 0.7223386\ttotal: 9.2s\tremaining: 25.3s\n",
      "32:\tlearn: 0.7234931\ttotal: 9.48s\tremaining: 25s\n",
      "33:\tlearn: 0.7261181\ttotal: 9.77s\tremaining: 24.7s\n",
      "34:\tlearn: 0.7277340\ttotal: 10s\tremaining: 24.4s\n",
      "35:\tlearn: 0.7301616\ttotal: 10.3s\tremaining: 24.1s\n",
      "36:\tlearn: 0.7314038\ttotal: 10.6s\tremaining: 23.8s\n",
      "37:\tlearn: 0.7326911\ttotal: 10.9s\tremaining: 23.5s\n",
      "38:\tlearn: 0.7353970\ttotal: 11.1s\tremaining: 23.1s\n",
      "39:\tlearn: 0.7368138\ttotal: 11.4s\tremaining: 22.8s\n",
      "40:\tlearn: 0.7392586\ttotal: 11.7s\tremaining: 22.6s\n",
      "41:\tlearn: 0.7406813\ttotal: 12s\tremaining: 22.3s\n",
      "42:\tlearn: 0.7412226\ttotal: 12.3s\tremaining: 22s\n",
      "43:\tlearn: 0.7427249\ttotal: 12.6s\tremaining: 21.7s\n",
      "44:\tlearn: 0.7417857\ttotal: 12.9s\tremaining: 21.4s\n",
      "45:\tlearn: 0.7428011\ttotal: 13.1s\tremaining: 21.1s\n",
      "46:\tlearn: 0.7439665\ttotal: 13.4s\tremaining: 20.8s\n",
      "47:\tlearn: 0.7439700\ttotal: 13.7s\tremaining: 20.6s\n",
      "48:\tlearn: 0.7458111\ttotal: 14s\tremaining: 20.3s\n",
      "49:\tlearn: 0.7461408\ttotal: 14.3s\tremaining: 20s\n",
      "50:\tlearn: 0.7473956\ttotal: 14.6s\tremaining: 19.7s\n",
      "51:\tlearn: 0.7485526\ttotal: 14.8s\tremaining: 19.4s\n",
      "52:\tlearn: 0.7494883\ttotal: 15.1s\tremaining: 19.1s\n",
      "53:\tlearn: 0.7500889\ttotal: 15.4s\tremaining: 18.8s\n",
      "54:\tlearn: 0.7511328\ttotal: 15.7s\tremaining: 18.5s\n",
      "55:\tlearn: 0.7527851\ttotal: 16s\tremaining: 18.3s\n",
      "56:\tlearn: 0.7535566\ttotal: 16.2s\tremaining: 18s\n",
      "57:\tlearn: 0.7538312\ttotal: 16.5s\tremaining: 17.7s\n",
      "58:\tlearn: 0.7550407\ttotal: 16.8s\tremaining: 17.4s\n",
      "59:\tlearn: 0.7555477\ttotal: 17.1s\tremaining: 17.1s\n",
      "60:\tlearn: 0.7563797\ttotal: 17.4s\tremaining: 16.8s\n",
      "61:\tlearn: 0.7556894\ttotal: 17.6s\tremaining: 16.5s\n",
      "62:\tlearn: 0.7565656\ttotal: 17.9s\tremaining: 16.2s\n",
      "63:\tlearn: 0.7569193\ttotal: 18.2s\tremaining: 15.9s\n",
      "64:\tlearn: 0.7584017\ttotal: 18.5s\tremaining: 15.6s\n",
      "65:\tlearn: 0.7593196\ttotal: 18.8s\tremaining: 15.4s\n",
      "66:\tlearn: 0.7599753\ttotal: 19s\tremaining: 15.1s\n",
      "67:\tlearn: 0.7606303\ttotal: 19.3s\tremaining: 14.8s\n",
      "68:\tlearn: 0.7616535\ttotal: 19.6s\tremaining: 14.5s\n",
      "69:\tlearn: 0.7622814\ttotal: 19.9s\tremaining: 14.2s\n",
      "70:\tlearn: 0.7630169\ttotal: 20.2s\tremaining: 13.9s\n",
      "71:\tlearn: 0.7636683\ttotal: 20.5s\tremaining: 13.6s\n",
      "72:\tlearn: 0.7636268\ttotal: 20.8s\tremaining: 13.4s\n",
      "73:\tlearn: 0.7650771\ttotal: 21s\tremaining: 13.1s\n",
      "74:\tlearn: 0.7657153\ttotal: 21.3s\tremaining: 12.8s\n",
      "75:\tlearn: 0.7661213\ttotal: 21.6s\tremaining: 12.5s\n",
      "76:\tlearn: 0.7659351\ttotal: 21.9s\tremaining: 12.2s\n",
      "77:\tlearn: 0.7663666\ttotal: 22.2s\tremaining: 12s\n",
      "78:\tlearn: 0.7669055\ttotal: 22.5s\tremaining: 11.7s\n",
      "79:\tlearn: 0.7670921\ttotal: 22.8s\tremaining: 11.4s\n",
      "80:\tlearn: 0.7674561\ttotal: 23s\tremaining: 11.1s\n",
      "81:\tlearn: 0.7681020\ttotal: 23.3s\tremaining: 10.8s\n",
      "82:\tlearn: 0.7692576\ttotal: 23.6s\tremaining: 10.5s\n",
      "83:\tlearn: 0.7697535\ttotal: 23.9s\tremaining: 10.2s\n",
      "84:\tlearn: 0.7701149\ttotal: 24.2s\tremaining: 9.95s\n",
      "85:\tlearn: 0.7728537\ttotal: 24.4s\tremaining: 9.66s\n",
      "86:\tlearn: 0.7715754\ttotal: 24.7s\tremaining: 9.37s\n",
      "87:\tlearn: 0.7722686\ttotal: 25s\tremaining: 9.09s\n",
      "88:\tlearn: 0.7729763\ttotal: 25.3s\tremaining: 8.8s\n",
      "89:\tlearn: 0.7734816\ttotal: 25.5s\tremaining: 8.51s\n",
      "90:\tlearn: 0.7738405\ttotal: 25.8s\tremaining: 8.23s\n",
      "91:\tlearn: 0.7744119\ttotal: 26.1s\tremaining: 7.95s\n",
      "92:\tlearn: 0.7747701\ttotal: 26.4s\tremaining: 7.66s\n",
      "93:\tlearn: 0.7749545\ttotal: 26.7s\tremaining: 7.37s\n",
      "94:\tlearn: 0.7761323\ttotal: 26.9s\tremaining: 7.09s\n",
      "95:\tlearn: 0.7783251\ttotal: 27.2s\tremaining: 6.8s\n",
      "96:\tlearn: 0.7788910\ttotal: 27.5s\tremaining: 6.52s\n",
      "97:\tlearn: 0.7793508\ttotal: 27.8s\tremaining: 6.23s\n",
      "98:\tlearn: 0.7797722\ttotal: 28.1s\tremaining: 5.95s\n",
      "99:\tlearn: 0.7803488\ttotal: 28.3s\tremaining: 5.67s\n",
      "100:\tlearn: 0.7809803\ttotal: 28.6s\tremaining: 5.38s\n",
      "101:\tlearn: 0.7813632\ttotal: 28.9s\tremaining: 5.1s\n",
      "102:\tlearn: 0.7814604\ttotal: 29.2s\tremaining: 4.81s\n",
      "103:\tlearn: 0.7814764\ttotal: 29.4s\tremaining: 4.53s\n",
      "104:\tlearn: 0.7823915\ttotal: 29.7s\tremaining: 4.25s\n",
      "105:\tlearn: 0.7828783\ttotal: 30s\tremaining: 3.96s\n",
      "106:\tlearn: 0.7829831\ttotal: 30.3s\tremaining: 3.68s\n",
      "107:\tlearn: 0.7832975\ttotal: 30.6s\tremaining: 3.4s\n",
      "108:\tlearn: 0.7835069\ttotal: 30.8s\tremaining: 3.11s\n",
      "109:\tlearn: 0.7835442\ttotal: 31.1s\tremaining: 2.83s\n",
      "110:\tlearn: 0.7843272\ttotal: 31.4s\tremaining: 2.54s\n",
      "111:\tlearn: 0.7850949\ttotal: 31.7s\tremaining: 2.26s\n",
      "112:\tlearn: 0.7854077\ttotal: 32s\tremaining: 1.98s\n",
      "113:\tlearn: 0.7857204\ttotal: 32.3s\tremaining: 1.7s\n",
      "114:\tlearn: 0.7861738\ttotal: 32.6s\tremaining: 1.42s\n",
      "115:\tlearn: 0.7863512\ttotal: 32.8s\tremaining: 1.13s\n",
      "116:\tlearn: 0.7863145\ttotal: 33.1s\tremaining: 849ms\n",
      "117:\tlearn: 0.7867981\ttotal: 33.4s\tremaining: 566ms\n",
      "118:\tlearn: 0.7869021\ttotal: 33.7s\tremaining: 283ms\n",
      "119:\tlearn: 0.7871100\ttotal: 34s\tremaining: 0us\n",
      "[CV] END ...........depth=2, iterations=120, learning_rate=1; total time=  38.1s\n",
      "0:\tlearn: 0.3431410\ttotal: 940ms\tremaining: 1m 33s\n",
      "1:\tlearn: 0.5304484\ttotal: 1.65s\tremaining: 1m 20s\n",
      "2:\tlearn: 0.5978640\ttotal: 2.38s\tremaining: 1m 16s\n",
      "3:\tlearn: 0.6414063\ttotal: 3.09s\tremaining: 1m 14s\n",
      "4:\tlearn: 0.6512584\ttotal: 3.77s\tremaining: 1m 11s\n",
      "5:\tlearn: 0.6770376\ttotal: 4.5s\tremaining: 1m 10s\n",
      "6:\tlearn: 0.6871119\ttotal: 5.21s\tremaining: 1m 9s\n",
      "7:\tlearn: 0.6955469\ttotal: 5.9s\tremaining: 1m 7s\n",
      "8:\tlearn: 0.7039601\ttotal: 6.6s\tremaining: 1m 6s\n",
      "9:\tlearn: 0.7097131\ttotal: 7.29s\tremaining: 1m 5s\n",
      "10:\tlearn: 0.7157105\ttotal: 7.99s\tremaining: 1m 4s\n",
      "11:\tlearn: 0.7190847\ttotal: 8.7s\tremaining: 1m 3s\n",
      "12:\tlearn: 0.7233076\ttotal: 9.42s\tremaining: 1m 3s\n",
      "13:\tlearn: 0.7283884\ttotal: 10.1s\tremaining: 1m 1s\n",
      "14:\tlearn: 0.7325258\ttotal: 10.8s\tremaining: 1m 1s\n",
      "15:\tlearn: 0.7356301\ttotal: 11.5s\tremaining: 1m\n",
      "16:\tlearn: 0.7399019\ttotal: 12.2s\tremaining: 59.4s\n",
      "17:\tlearn: 0.7431568\ttotal: 12.8s\tremaining: 58.4s\n",
      "18:\tlearn: 0.7452512\ttotal: 13.5s\tremaining: 57.4s\n",
      "19:\tlearn: 0.7478092\ttotal: 14.2s\tremaining: 56.7s\n",
      "20:\tlearn: 0.7523877\ttotal: 14.9s\tremaining: 56s\n",
      "21:\tlearn: 0.7553360\ttotal: 15.5s\tremaining: 55.1s\n",
      "22:\tlearn: 0.7583969\ttotal: 16.3s\tremaining: 54.4s\n",
      "23:\tlearn: 0.7590881\ttotal: 16.9s\tremaining: 53.6s\n",
      "24:\tlearn: 0.7607071\ttotal: 17.6s\tremaining: 52.7s\n",
      "25:\tlearn: 0.7626568\ttotal: 18.2s\tremaining: 51.8s\n",
      "26:\tlearn: 0.7644328\ttotal: 18.9s\tremaining: 51s\n",
      "27:\tlearn: 0.7672188\ttotal: 19.6s\tremaining: 50.4s\n",
      "28:\tlearn: 0.7684943\ttotal: 20.2s\tremaining: 49.5s\n",
      "29:\tlearn: 0.7696321\ttotal: 20.9s\tremaining: 48.7s\n",
      "30:\tlearn: 0.7682628\ttotal: 21.5s\tremaining: 47.9s\n",
      "31:\tlearn: 0.7696198\ttotal: 22.2s\tremaining: 47.1s\n",
      "32:\tlearn: 0.7707716\ttotal: 22.8s\tremaining: 46.3s\n",
      "33:\tlearn: 0.7727431\ttotal: 23.5s\tremaining: 45.5s\n",
      "34:\tlearn: 0.7742607\ttotal: 24.2s\tremaining: 44.9s\n",
      "35:\tlearn: 0.7756021\ttotal: 24.8s\tremaining: 44.1s\n",
      "36:\tlearn: 0.7770568\ttotal: 25.5s\tremaining: 43.4s\n",
      "37:\tlearn: 0.7782000\ttotal: 26.2s\tremaining: 42.7s\n",
      "38:\tlearn: 0.7796961\ttotal: 26.8s\tremaining: 42s\n",
      "39:\tlearn: 0.7805172\ttotal: 27.5s\tremaining: 41.2s\n",
      "40:\tlearn: 0.7815003\ttotal: 28.1s\tremaining: 40.4s\n",
      "41:\tlearn: 0.7822345\ttotal: 28.8s\tremaining: 39.7s\n",
      "42:\tlearn: 0.7839257\ttotal: 29.5s\tremaining: 39.1s\n",
      "43:\tlearn: 0.7843812\ttotal: 30.1s\tremaining: 38.3s\n",
      "44:\tlearn: 0.7859722\ttotal: 30.8s\tremaining: 37.6s\n",
      "45:\tlearn: 0.7871555\ttotal: 31.4s\tremaining: 36.8s\n",
      "46:\tlearn: 0.7883312\ttotal: 32s\tremaining: 36.1s\n",
      "47:\tlearn: 0.7888193\ttotal: 32.7s\tremaining: 35.4s\n",
      "48:\tlearn: 0.7893068\ttotal: 33.3s\tremaining: 34.7s\n",
      "49:\tlearn: 0.7900368\ttotal: 34s\tremaining: 34s\n",
      "50:\tlearn: 0.7924818\ttotal: 34.7s\tremaining: 33.4s\n",
      "51:\tlearn: 0.7940599\ttotal: 35.4s\tremaining: 32.7s\n",
      "52:\tlearn: 0.7949505\ttotal: 36s\tremaining: 31.9s\n",
      "53:\tlearn: 0.7960801\ttotal: 36.7s\tremaining: 31.3s\n",
      "54:\tlearn: 0.7970027\ttotal: 37.3s\tremaining: 30.5s\n",
      "55:\tlearn: 0.7978560\ttotal: 38s\tremaining: 29.8s\n",
      "56:\tlearn: 0.7983672\ttotal: 38.6s\tremaining: 29.1s\n",
      "57:\tlearn: 0.7992518\ttotal: 39.3s\tremaining: 28.4s\n",
      "58:\tlearn: 0.8002040\ttotal: 40s\tremaining: 27.8s\n",
      "59:\tlearn: 0.7997276\ttotal: 40.6s\tremaining: 27.1s\n",
      "60:\tlearn: 0.8002722\ttotal: 41.2s\tremaining: 26.4s\n",
      "61:\tlearn: 0.8009519\ttotal: 41.9s\tremaining: 25.7s\n",
      "62:\tlearn: 0.8013239\ttotal: 42.5s\tremaining: 25s\n",
      "63:\tlearn: 0.8015274\ttotal: 43.2s\tremaining: 24.3s\n",
      "64:\tlearn: 0.8025780\ttotal: 43.8s\tremaining: 23.6s\n",
      "65:\tlearn: 0.8034550\ttotal: 44.5s\tremaining: 22.9s\n",
      "66:\tlearn: 0.8041656\ttotal: 45.2s\tremaining: 22.3s\n",
      "67:\tlearn: 0.8044362\ttotal: 45.9s\tremaining: 21.6s\n",
      "68:\tlearn: 0.8048760\ttotal: 46.5s\tremaining: 20.9s\n",
      "69:\tlearn: 0.8051134\ttotal: 47.2s\tremaining: 20.2s\n",
      "70:\tlearn: 0.8053532\ttotal: 47.8s\tremaining: 19.5s\n",
      "71:\tlearn: 0.8062357\ttotal: 48.5s\tremaining: 18.8s\n",
      "72:\tlearn: 0.8066757\ttotal: 49.1s\tremaining: 18.2s\n",
      "73:\tlearn: 0.8073892\ttotal: 49.7s\tremaining: 17.5s\n",
      "74:\tlearn: 0.8073892\ttotal: 50.4s\tremaining: 16.8s\n",
      "75:\tlearn: 0.8081287\ttotal: 51s\tremaining: 16.1s\n",
      "76:\tlearn: 0.8097536\ttotal: 51.7s\tremaining: 15.5s\n",
      "77:\tlearn: 0.8096288\ttotal: 52.4s\tremaining: 14.8s\n",
      "78:\tlearn: 0.8096651\ttotal: 53.1s\tremaining: 14.1s\n",
      "79:\tlearn: 0.8095642\ttotal: 53.8s\tremaining: 13.4s\n",
      "80:\tlearn: 0.8104398\ttotal: 54.5s\tremaining: 12.8s\n",
      "81:\tlearn: 0.8110810\ttotal: 55.1s\tremaining: 12.1s\n",
      "82:\tlearn: 0.8114837\ttotal: 55.8s\tremaining: 11.4s\n",
      "83:\tlearn: 0.8115525\ttotal: 56.5s\tremaining: 10.8s\n",
      "84:\tlearn: 0.8115525\ttotal: 57.2s\tremaining: 10.1s\n",
      "85:\tlearn: 0.8117856\ttotal: 57.8s\tremaining: 9.41s\n",
      "86:\tlearn: 0.8128596\ttotal: 58.5s\tremaining: 8.74s\n",
      "87:\tlearn: 0.8147022\ttotal: 59.2s\tremaining: 8.07s\n",
      "88:\tlearn: 0.8165401\ttotal: 59.9s\tremaining: 7.4s\n",
      "89:\tlearn: 0.8164851\ttotal: 1m\tremaining: 6.73s\n",
      "90:\tlearn: 0.8164578\ttotal: 1m 1s\tremaining: 6.05s\n",
      "91:\tlearn: 0.8178827\ttotal: 1m 1s\tremaining: 5.38s\n",
      "92:\tlearn: 0.8181895\ttotal: 1m 2s\tremaining: 4.71s\n",
      "93:\tlearn: 0.8184277\ttotal: 1m 3s\tremaining: 4.03s\n",
      "94:\tlearn: 0.8191040\ttotal: 1m 3s\tremaining: 3.36s\n",
      "95:\tlearn: 0.8205171\ttotal: 1m 4s\tremaining: 2.69s\n",
      "96:\tlearn: 0.8207937\ttotal: 1m 5s\tremaining: 2.02s\n",
      "97:\tlearn: 0.8207077\ttotal: 1m 5s\tremaining: 1.34s\n",
      "98:\tlearn: 0.8212960\ttotal: 1m 6s\tremaining: 672ms\n",
      "99:\tlearn: 0.8217329\ttotal: 1m 7s\tremaining: 0us\n",
      "[CV] END ...........depth=5, iterations=100, learning_rate=1; total time= 1.2min\n",
      "0:\tlearn: 0.4643150\ttotal: 936ms\tremaining: 1m 32s\n",
      "1:\tlearn: 0.5929669\ttotal: 1.65s\tremaining: 1m 20s\n",
      "2:\tlearn: 0.6423386\ttotal: 2.33s\tremaining: 1m 15s\n",
      "3:\tlearn: 0.6577220\ttotal: 3.12s\tremaining: 1m 14s\n",
      "4:\tlearn: 0.6748166\ttotal: 3.8s\tremaining: 1m 12s\n",
      "5:\tlearn: 0.6808310\ttotal: 4.47s\tremaining: 1m 10s\n",
      "6:\tlearn: 0.6903563\ttotal: 5.19s\tremaining: 1m 8s\n",
      "7:\tlearn: 0.6998335\ttotal: 5.84s\tremaining: 1m 7s\n",
      "8:\tlearn: 0.7056122\ttotal: 6.51s\tremaining: 1m 5s\n",
      "9:\tlearn: 0.7091458\ttotal: 7.19s\tremaining: 1m 4s\n",
      "10:\tlearn: 0.7163852\ttotal: 7.83s\tremaining: 1m 3s\n",
      "11:\tlearn: 0.7207485\ttotal: 8.5s\tremaining: 1m 2s\n",
      "12:\tlearn: 0.7253324\ttotal: 9.15s\tremaining: 1m 1s\n",
      "13:\tlearn: 0.7288258\ttotal: 9.82s\tremaining: 1m\n",
      "14:\tlearn: 0.7312157\ttotal: 10.5s\tremaining: 59.5s\n",
      "15:\tlearn: 0.7353047\ttotal: 11.1s\tremaining: 58.4s\n",
      "16:\tlearn: 0.7404172\ttotal: 11.8s\tremaining: 57.5s\n",
      "17:\tlearn: 0.7437561\ttotal: 12.4s\tremaining: 56.7s\n",
      "18:\tlearn: 0.7451851\ttotal: 13.1s\tremaining: 55.9s\n",
      "19:\tlearn: 0.7477214\ttotal: 13.8s\tremaining: 55.2s\n",
      "20:\tlearn: 0.7515429\ttotal: 14.5s\tremaining: 54.6s\n",
      "21:\tlearn: 0.7539801\ttotal: 15.2s\tremaining: 53.9s\n",
      "22:\tlearn: 0.7562495\ttotal: 15.9s\tremaining: 53.2s\n",
      "23:\tlearn: 0.7589043\ttotal: 16.5s\tremaining: 52.4s\n",
      "24:\tlearn: 0.7605904\ttotal: 17.2s\tremaining: 51.6s\n",
      "25:\tlearn: 0.7627340\ttotal: 17.8s\tremaining: 50.8s\n",
      "26:\tlearn: 0.7654621\ttotal: 18.5s\tremaining: 50s\n",
      "27:\tlearn: 0.7661326\ttotal: 19.1s\tremaining: 49.2s\n",
      "28:\tlearn: 0.7677916\ttotal: 19.8s\tremaining: 48.4s\n",
      "29:\tlearn: 0.7693113\ttotal: 20.4s\tremaining: 47.7s\n",
      "30:\tlearn: 0.7704117\ttotal: 21.1s\tremaining: 46.9s\n",
      "31:\tlearn: 0.7720428\ttotal: 21.8s\tremaining: 46.3s\n",
      "32:\tlearn: 0.7727590\ttotal: 22.5s\tremaining: 45.6s\n",
      "33:\tlearn: 0.7727986\ttotal: 23.1s\tremaining: 44.9s\n",
      "34:\tlearn: 0.7742104\ttotal: 23.8s\tremaining: 44.2s\n",
      "35:\tlearn: 0.7757302\ttotal: 24.5s\tremaining: 43.5s\n",
      "36:\tlearn: 0.7779896\ttotal: 25.1s\tremaining: 42.8s\n",
      "37:\tlearn: 0.7779705\ttotal: 25.8s\tremaining: 42.1s\n",
      "38:\tlearn: 0.7777489\ttotal: 26.4s\tremaining: 41.4s\n",
      "39:\tlearn: 0.7792320\ttotal: 27.1s\tremaining: 40.6s\n",
      "40:\tlearn: 0.7829390\ttotal: 27.8s\tremaining: 40s\n",
      "41:\tlearn: 0.7828942\ttotal: 28.5s\tremaining: 39.3s\n",
      "42:\tlearn: 0.7835247\ttotal: 29.1s\tremaining: 38.6s\n",
      "43:\tlearn: 0.7846791\ttotal: 29.8s\tremaining: 37.9s\n",
      "44:\tlearn: 0.7854495\ttotal: 30.4s\tremaining: 37.2s\n",
      "45:\tlearn: 0.7865633\ttotal: 31.1s\tremaining: 36.5s\n",
      "46:\tlearn: 0.7875032\ttotal: 31.7s\tremaining: 35.8s\n",
      "47:\tlearn: 0.7860731\ttotal: 32.4s\tremaining: 35s\n",
      "48:\tlearn: 0.7867717\ttotal: 33s\tremaining: 34.4s\n",
      "49:\tlearn: 0.7872488\ttotal: 33.7s\tremaining: 33.7s\n",
      "50:\tlearn: 0.7878473\ttotal: 34.3s\tremaining: 33s\n",
      "51:\tlearn: 0.7879889\ttotal: 35s\tremaining: 32.3s\n",
      "52:\tlearn: 0.7881305\ttotal: 35.7s\tremaining: 31.7s\n",
      "53:\tlearn: 0.7885131\ttotal: 36.3s\tremaining: 30.9s\n",
      "54:\tlearn: 0.7891780\ttotal: 37s\tremaining: 30.3s\n",
      "55:\tlearn: 0.7895283\ttotal: 37.6s\tremaining: 29.6s\n",
      "56:\tlearn: 0.7898782\ttotal: 38.3s\tremaining: 28.9s\n",
      "57:\tlearn: 0.7933998\ttotal: 39s\tremaining: 28.3s\n",
      "58:\tlearn: 0.7939811\ttotal: 39.7s\tremaining: 27.6s\n",
      "59:\tlearn: 0.7946030\ttotal: 40.4s\tremaining: 26.9s\n",
      "60:\tlearn: 0.7948056\ttotal: 41.1s\tremaining: 26.3s\n",
      "61:\tlearn: 0.7958079\ttotal: 41.7s\tremaining: 25.6s\n",
      "62:\tlearn: 0.7963933\ttotal: 42.4s\tremaining: 24.9s\n",
      "63:\tlearn: 0.7972172\ttotal: 43.1s\tremaining: 24.3s\n",
      "64:\tlearn: 0.7982833\ttotal: 43.8s\tremaining: 23.6s\n",
      "65:\tlearn: 0.7986957\ttotal: 44.5s\tremaining: 22.9s\n",
      "66:\tlearn: 0.7992795\ttotal: 45.2s\tremaining: 22.2s\n",
      "67:\tlearn: 0.8030420\ttotal: 45.9s\tremaining: 21.6s\n",
      "68:\tlearn: 0.8051195\ttotal: 46.6s\tremaining: 20.9s\n",
      "69:\tlearn: 0.8077838\ttotal: 47.3s\tremaining: 20.3s\n",
      "70:\tlearn: 0.8079538\ttotal: 48s\tremaining: 19.6s\n",
      "71:\tlearn: 0.8101051\ttotal: 48.7s\tremaining: 18.9s\n",
      "72:\tlearn: 0.8118493\ttotal: 49.4s\tremaining: 18.3s\n",
      "73:\tlearn: 0.8130233\ttotal: 50s\tremaining: 17.6s\n",
      "74:\tlearn: 0.8141518\ttotal: 50.7s\tremaining: 16.9s\n",
      "75:\tlearn: 0.8152963\ttotal: 51.4s\tremaining: 16.2s\n",
      "76:\tlearn: 0.8162714\ttotal: 52.1s\tremaining: 15.6s\n",
      "77:\tlearn: 0.8167089\ttotal: 52.8s\tremaining: 14.9s\n",
      "78:\tlearn: 0.8173766\ttotal: 53.5s\tremaining: 14.2s\n",
      "79:\tlearn: 0.8176069\ttotal: 54.1s\tremaining: 13.5s\n",
      "80:\tlearn: 0.8189706\ttotal: 54.9s\tremaining: 12.9s\n",
      "81:\tlearn: 0.8192913\ttotal: 55.6s\tremaining: 12.2s\n",
      "82:\tlearn: 0.8196583\ttotal: 56.2s\tremaining: 11.5s\n",
      "83:\tlearn: 0.8201850\ttotal: 56.9s\tremaining: 10.8s\n",
      "84:\tlearn: 0.8207285\ttotal: 57.5s\tremaining: 10.2s\n",
      "85:\tlearn: 0.8214196\ttotal: 58.3s\tremaining: 9.48s\n",
      "86:\tlearn: 0.8224897\ttotal: 58.9s\tremaining: 8.81s\n",
      "87:\tlearn: 0.8227273\ttotal: 59.6s\tremaining: 8.13s\n",
      "88:\tlearn: 0.8231533\ttotal: 1m\tremaining: 7.45s\n",
      "89:\tlearn: 0.8229858\ttotal: 1m\tremaining: 6.78s\n",
      "90:\tlearn: 0.8233121\ttotal: 1m 1s\tremaining: 6.1s\n",
      "91:\tlearn: 0.8239052\ttotal: 1m 2s\tremaining: 5.42s\n",
      "92:\tlearn: 0.8247752\ttotal: 1m 3s\tremaining: 4.74s\n",
      "93:\tlearn: 0.8252501\ttotal: 1m 3s\tremaining: 4.06s\n",
      "94:\tlearn: 0.8260979\ttotal: 1m 4s\tremaining: 3.39s\n",
      "95:\tlearn: 0.8267069\ttotal: 1m 5s\tremaining: 2.71s\n",
      "96:\tlearn: 0.8275573\ttotal: 1m 5s\tremaining: 2.03s\n",
      "97:\tlearn: 0.8285786\ttotal: 1m 6s\tremaining: 1.35s\n",
      "98:\tlearn: 0.8278456\ttotal: 1m 7s\tremaining: 678ms\n",
      "99:\tlearn: 0.8282778\ttotal: 1m 7s\tremaining: 0us\n",
      "[CV] END ...........depth=5, iterations=100, learning_rate=1; total time= 1.2min\n",
      "0:\tlearn: 0.3431410\ttotal: 976ms\tremaining: 1m 56s\n",
      "1:\tlearn: 0.5304484\ttotal: 1.69s\tremaining: 1m 39s\n",
      "2:\tlearn: 0.5978640\ttotal: 2.43s\tremaining: 1m 34s\n",
      "3:\tlearn: 0.6414063\ttotal: 3.19s\tremaining: 1m 32s\n",
      "4:\tlearn: 0.6512584\ttotal: 3.87s\tremaining: 1m 29s\n",
      "5:\tlearn: 0.6770376\ttotal: 4.58s\tremaining: 1m 27s\n",
      "6:\tlearn: 0.6871119\ttotal: 5.26s\tremaining: 1m 24s\n",
      "7:\tlearn: 0.6955469\ttotal: 5.95s\tremaining: 1m 23s\n",
      "8:\tlearn: 0.7039601\ttotal: 6.65s\tremaining: 1m 22s\n",
      "9:\tlearn: 0.7097131\ttotal: 7.36s\tremaining: 1m 20s\n",
      "10:\tlearn: 0.7157105\ttotal: 8.04s\tremaining: 1m 19s\n",
      "11:\tlearn: 0.7190847\ttotal: 8.71s\tremaining: 1m 18s\n",
      "12:\tlearn: 0.7233076\ttotal: 9.37s\tremaining: 1m 17s\n",
      "13:\tlearn: 0.7283884\ttotal: 10s\tremaining: 1m 15s\n",
      "14:\tlearn: 0.7325258\ttotal: 10.7s\tremaining: 1m 15s\n",
      "15:\tlearn: 0.7356301\ttotal: 11.4s\tremaining: 1m 14s\n",
      "16:\tlearn: 0.7399019\ttotal: 12.1s\tremaining: 1m 13s\n",
      "17:\tlearn: 0.7431568\ttotal: 12.8s\tremaining: 1m 12s\n",
      "18:\tlearn: 0.7452512\ttotal: 13.5s\tremaining: 1m 11s\n",
      "19:\tlearn: 0.7478092\ttotal: 14.2s\tremaining: 1m 10s\n",
      "20:\tlearn: 0.7523877\ttotal: 14.8s\tremaining: 1m 9s\n",
      "21:\tlearn: 0.7553360\ttotal: 15.5s\tremaining: 1m 9s\n",
      "22:\tlearn: 0.7583969\ttotal: 16.2s\tremaining: 1m 8s\n",
      "23:\tlearn: 0.7590881\ttotal: 16.9s\tremaining: 1m 7s\n",
      "24:\tlearn: 0.7607071\ttotal: 17.6s\tremaining: 1m 6s\n",
      "25:\tlearn: 0.7626568\ttotal: 18.3s\tremaining: 1m 6s\n",
      "26:\tlearn: 0.7644328\ttotal: 18.9s\tremaining: 1m 5s\n",
      "27:\tlearn: 0.7672188\ttotal: 19.6s\tremaining: 1m 4s\n",
      "28:\tlearn: 0.7684943\ttotal: 20.3s\tremaining: 1m 3s\n",
      "29:\tlearn: 0.7696321\ttotal: 21.1s\tremaining: 1m 3s\n",
      "30:\tlearn: 0.7682628\ttotal: 21.7s\tremaining: 1m 2s\n",
      "31:\tlearn: 0.7696198\ttotal: 22.4s\tremaining: 1m 1s\n",
      "32:\tlearn: 0.7707716\ttotal: 23.1s\tremaining: 1m\n",
      "33:\tlearn: 0.7727431\ttotal: 23.8s\tremaining: 1m\n",
      "34:\tlearn: 0.7742607\ttotal: 24.5s\tremaining: 59.5s\n",
      "35:\tlearn: 0.7756021\ttotal: 25.2s\tremaining: 58.8s\n",
      "36:\tlearn: 0.7770568\ttotal: 25.9s\tremaining: 58.1s\n",
      "37:\tlearn: 0.7782000\ttotal: 26.5s\tremaining: 57.3s\n",
      "38:\tlearn: 0.7796961\ttotal: 27.2s\tremaining: 56.5s\n",
      "39:\tlearn: 0.7805172\ttotal: 27.8s\tremaining: 55.6s\n",
      "40:\tlearn: 0.7815003\ttotal: 28.5s\tremaining: 54.9s\n",
      "41:\tlearn: 0.7822345\ttotal: 29.1s\tremaining: 54.1s\n",
      "42:\tlearn: 0.7839257\ttotal: 29.8s\tremaining: 53.4s\n",
      "43:\tlearn: 0.7843812\ttotal: 30.5s\tremaining: 52.6s\n",
      "44:\tlearn: 0.7859722\ttotal: 31.1s\tremaining: 51.9s\n",
      "45:\tlearn: 0.7871555\ttotal: 31.8s\tremaining: 51.2s\n",
      "46:\tlearn: 0.7883312\ttotal: 32.5s\tremaining: 50.5s\n",
      "47:\tlearn: 0.7888193\ttotal: 33.2s\tremaining: 49.7s\n",
      "48:\tlearn: 0.7893068\ttotal: 33.8s\tremaining: 49s\n",
      "49:\tlearn: 0.7900368\ttotal: 34.5s\tremaining: 48.2s\n",
      "50:\tlearn: 0.7924818\ttotal: 35.2s\tremaining: 47.6s\n",
      "51:\tlearn: 0.7940599\ttotal: 35.8s\tremaining: 46.8s\n",
      "52:\tlearn: 0.7949505\ttotal: 36.5s\tremaining: 46.1s\n",
      "53:\tlearn: 0.7960801\ttotal: 37.1s\tremaining: 45.3s\n",
      "54:\tlearn: 0.7970027\ttotal: 37.7s\tremaining: 44.6s\n",
      "55:\tlearn: 0.7978560\ttotal: 38.4s\tremaining: 43.9s\n",
      "56:\tlearn: 0.7983672\ttotal: 39s\tremaining: 43.1s\n",
      "57:\tlearn: 0.7992518\ttotal: 39.7s\tremaining: 42.4s\n",
      "58:\tlearn: 0.8002040\ttotal: 40.3s\tremaining: 41.7s\n",
      "59:\tlearn: 0.7997276\ttotal: 41s\tremaining: 41s\n",
      "60:\tlearn: 0.8002722\ttotal: 41.6s\tremaining: 40.3s\n",
      "61:\tlearn: 0.8009519\ttotal: 42.3s\tremaining: 39.6s\n",
      "62:\tlearn: 0.8013239\ttotal: 43s\tremaining: 38.9s\n",
      "63:\tlearn: 0.8015274\ttotal: 43.7s\tremaining: 38.2s\n",
      "64:\tlearn: 0.8025780\ttotal: 44.3s\tremaining: 37.5s\n",
      "65:\tlearn: 0.8034550\ttotal: 45s\tremaining: 36.8s\n",
      "66:\tlearn: 0.8041656\ttotal: 45.7s\tremaining: 36.1s\n",
      "67:\tlearn: 0.8044362\ttotal: 46.3s\tremaining: 35.4s\n",
      "68:\tlearn: 0.8048760\ttotal: 47s\tremaining: 34.7s\n",
      "69:\tlearn: 0.8051134\ttotal: 47.6s\tremaining: 34s\n",
      "70:\tlearn: 0.8053532\ttotal: 48.2s\tremaining: 33.3s\n",
      "71:\tlearn: 0.8062357\ttotal: 48.9s\tremaining: 32.6s\n",
      "72:\tlearn: 0.8066757\ttotal: 49.5s\tremaining: 31.9s\n",
      "73:\tlearn: 0.8073892\ttotal: 50.2s\tremaining: 31.2s\n",
      "74:\tlearn: 0.8073892\ttotal: 50.9s\tremaining: 30.5s\n",
      "75:\tlearn: 0.8081287\ttotal: 51.6s\tremaining: 29.9s\n",
      "76:\tlearn: 0.8097536\ttotal: 52.3s\tremaining: 29.2s\n",
      "77:\tlearn: 0.8096288\ttotal: 53s\tremaining: 28.5s\n",
      "78:\tlearn: 0.8096651\ttotal: 53.7s\tremaining: 27.9s\n",
      "79:\tlearn: 0.8095642\ttotal: 54.3s\tremaining: 27.2s\n",
      "80:\tlearn: 0.8104398\ttotal: 55s\tremaining: 26.5s\n",
      "81:\tlearn: 0.8110810\ttotal: 55.6s\tremaining: 25.8s\n",
      "82:\tlearn: 0.8114837\ttotal: 56.3s\tremaining: 25.1s\n",
      "83:\tlearn: 0.8115525\ttotal: 56.9s\tremaining: 24.4s\n",
      "84:\tlearn: 0.8115525\ttotal: 57.6s\tremaining: 23.7s\n",
      "85:\tlearn: 0.8117856\ttotal: 58.2s\tremaining: 23s\n",
      "86:\tlearn: 0.8128596\ttotal: 58.9s\tremaining: 22.3s\n",
      "87:\tlearn: 0.8147022\ttotal: 59.6s\tremaining: 21.7s\n",
      "88:\tlearn: 0.8165401\ttotal: 1m\tremaining: 21s\n",
      "89:\tlearn: 0.8164851\ttotal: 1m\tremaining: 20.3s\n",
      "90:\tlearn: 0.8164578\ttotal: 1m 1s\tremaining: 19.6s\n",
      "91:\tlearn: 0.8178827\ttotal: 1m 2s\tremaining: 19s\n",
      "92:\tlearn: 0.8181895\ttotal: 1m 3s\tremaining: 18.3s\n",
      "93:\tlearn: 0.8184277\ttotal: 1m 3s\tremaining: 17.6s\n",
      "94:\tlearn: 0.8191040\ttotal: 1m 4s\tremaining: 16.9s\n",
      "95:\tlearn: 0.8205171\ttotal: 1m 4s\tremaining: 16.2s\n",
      "96:\tlearn: 0.8207937\ttotal: 1m 5s\tremaining: 15.6s\n",
      "97:\tlearn: 0.8207077\ttotal: 1m 6s\tremaining: 14.9s\n",
      "98:\tlearn: 0.8212960\ttotal: 1m 6s\tremaining: 14.2s\n",
      "99:\tlearn: 0.8217329\ttotal: 1m 7s\tremaining: 13.5s\n",
      "100:\tlearn: 0.8235790\ttotal: 1m 8s\tremaining: 12.8s\n",
      "101:\tlearn: 0.8243323\ttotal: 1m 8s\tremaining: 12.2s\n",
      "102:\tlearn: 0.8245703\ttotal: 1m 9s\tremaining: 11.5s\n",
      "103:\tlearn: 0.8250653\ttotal: 1m 10s\tremaining: 10.8s\n",
      "104:\tlearn: 0.8269716\ttotal: 1m 10s\tremaining: 10.1s\n",
      "105:\tlearn: 0.8274645\ttotal: 1m 11s\tremaining: 9.46s\n",
      "106:\tlearn: 0.8282930\ttotal: 1m 12s\tremaining: 8.78s\n",
      "107:\tlearn: 0.8285882\ttotal: 1m 13s\tremaining: 8.12s\n",
      "108:\tlearn: 0.8308854\ttotal: 1m 13s\tremaining: 7.44s\n",
      "109:\tlearn: 0.8318792\ttotal: 1m 14s\tremaining: 6.76s\n",
      "110:\tlearn: 0.8321450\ttotal: 1m 15s\tremaining: 6.08s\n",
      "111:\tlearn: 0.8328023\ttotal: 1m 15s\tremaining: 5.41s\n",
      "112:\tlearn: 0.8336546\ttotal: 1m 16s\tremaining: 4.73s\n",
      "113:\tlearn: 0.8339898\ttotal: 1m 17s\tremaining: 4.05s\n",
      "114:\tlearn: 0.8350230\ttotal: 1m 17s\tremaining: 3.38s\n",
      "115:\tlearn: 0.8355109\ttotal: 1m 18s\tremaining: 2.7s\n",
      "116:\tlearn: 0.8357059\ttotal: 1m 19s\tremaining: 2.02s\n",
      "117:\tlearn: 0.8357059\ttotal: 1m 19s\tremaining: 1.35s\n",
      "118:\tlearn: 0.8360134\ttotal: 1m 20s\tremaining: 675ms\n",
      "119:\tlearn: 0.8357909\ttotal: 1m 20s\tremaining: 0us\n",
      "[CV] END ...........depth=5, iterations=120, learning_rate=1; total time= 1.4min\n",
      "0:\tlearn: 0.4643150\ttotal: 919ms\tremaining: 1m 49s\n",
      "1:\tlearn: 0.5929669\ttotal: 1.64s\tremaining: 1m 36s\n",
      "2:\tlearn: 0.6423386\ttotal: 2.32s\tremaining: 1m 30s\n",
      "3:\tlearn: 0.6577220\ttotal: 3.07s\tremaining: 1m 28s\n",
      "4:\tlearn: 0.6748166\ttotal: 3.74s\tremaining: 1m 25s\n",
      "5:\tlearn: 0.6808310\ttotal: 4.41s\tremaining: 1m 23s\n",
      "6:\tlearn: 0.6903563\ttotal: 5.15s\tremaining: 1m 23s\n",
      "7:\tlearn: 0.6998335\ttotal: 5.82s\tremaining: 1m 21s\n",
      "8:\tlearn: 0.7056122\ttotal: 6.48s\tremaining: 1m 19s\n",
      "9:\tlearn: 0.7091458\ttotal: 7.2s\tremaining: 1m 19s\n",
      "10:\tlearn: 0.7163852\ttotal: 7.88s\tremaining: 1m 18s\n",
      "11:\tlearn: 0.7207485\ttotal: 8.56s\tremaining: 1m 17s\n",
      "12:\tlearn: 0.7253324\ttotal: 9.2s\tremaining: 1m 15s\n",
      "13:\tlearn: 0.7288258\ttotal: 9.86s\tremaining: 1m 14s\n",
      "14:\tlearn: 0.7312157\ttotal: 10.6s\tremaining: 1m 14s\n",
      "15:\tlearn: 0.7353047\ttotal: 11.2s\tremaining: 1m 12s\n",
      "16:\tlearn: 0.7404172\ttotal: 11.9s\tremaining: 1m 12s\n",
      "17:\tlearn: 0.7437561\ttotal: 12.6s\tremaining: 1m 11s\n",
      "18:\tlearn: 0.7451851\ttotal: 13.3s\tremaining: 1m 10s\n",
      "19:\tlearn: 0.7477214\ttotal: 14s\tremaining: 1m 9s\n",
      "20:\tlearn: 0.7515429\ttotal: 14.8s\tremaining: 1m 9s\n",
      "21:\tlearn: 0.7539801\ttotal: 15.6s\tremaining: 1m 9s\n",
      "22:\tlearn: 0.7562495\ttotal: 16.3s\tremaining: 1m 8s\n",
      "23:\tlearn: 0.7589043\ttotal: 17.1s\tremaining: 1m 8s\n",
      "24:\tlearn: 0.7605904\ttotal: 17.8s\tremaining: 1m 7s\n",
      "25:\tlearn: 0.7627340\ttotal: 18.5s\tremaining: 1m 6s\n",
      "26:\tlearn: 0.7654621\ttotal: 19.2s\tremaining: 1m 6s\n",
      "27:\tlearn: 0.7661326\ttotal: 19.9s\tremaining: 1m 5s\n",
      "28:\tlearn: 0.7677916\ttotal: 20.6s\tremaining: 1m 4s\n",
      "29:\tlearn: 0.7693113\ttotal: 21.2s\tremaining: 1m 3s\n",
      "30:\tlearn: 0.7704117\ttotal: 21.9s\tremaining: 1m 2s\n",
      "31:\tlearn: 0.7720428\ttotal: 22.6s\tremaining: 1m 2s\n",
      "32:\tlearn: 0.7727590\ttotal: 23.3s\tremaining: 1m 1s\n",
      "33:\tlearn: 0.7727986\ttotal: 23.9s\tremaining: 1m\n",
      "34:\tlearn: 0.7742104\ttotal: 24.6s\tremaining: 59.8s\n",
      "35:\tlearn: 0.7757302\ttotal: 25.4s\tremaining: 59.2s\n",
      "36:\tlearn: 0.7779896\ttotal: 26.1s\tremaining: 58.4s\n",
      "37:\tlearn: 0.7779705\ttotal: 26.7s\tremaining: 57.6s\n",
      "38:\tlearn: 0.7777489\ttotal: 27.4s\tremaining: 56.9s\n",
      "39:\tlearn: 0.7792320\ttotal: 28s\tremaining: 56.1s\n",
      "40:\tlearn: 0.7829390\ttotal: 28.7s\tremaining: 55.3s\n",
      "41:\tlearn: 0.7828942\ttotal: 29.4s\tremaining: 54.6s\n",
      "42:\tlearn: 0.7835247\ttotal: 30s\tremaining: 53.8s\n",
      "43:\tlearn: 0.7846791\ttotal: 30.6s\tremaining: 52.9s\n",
      "44:\tlearn: 0.7854495\ttotal: 31.3s\tremaining: 52.1s\n",
      "45:\tlearn: 0.7865633\ttotal: 31.9s\tremaining: 51.4s\n",
      "46:\tlearn: 0.7875032\ttotal: 32.6s\tremaining: 50.6s\n",
      "47:\tlearn: 0.7860731\ttotal: 33.3s\tremaining: 49.9s\n",
      "48:\tlearn: 0.7867717\ttotal: 33.9s\tremaining: 49.1s\n",
      "49:\tlearn: 0.7872488\ttotal: 34.6s\tremaining: 48.4s\n",
      "50:\tlearn: 0.7878473\ttotal: 35.2s\tremaining: 47.7s\n",
      "51:\tlearn: 0.7879889\ttotal: 35.9s\tremaining: 46.9s\n",
      "52:\tlearn: 0.7881305\ttotal: 36.5s\tremaining: 46.2s\n",
      "53:\tlearn: 0.7885131\ttotal: 37.2s\tremaining: 45.5s\n",
      "54:\tlearn: 0.7891780\ttotal: 37.9s\tremaining: 44.8s\n",
      "55:\tlearn: 0.7895283\ttotal: 38.5s\tremaining: 44s\n",
      "56:\tlearn: 0.7898782\ttotal: 39.2s\tremaining: 43.3s\n",
      "57:\tlearn: 0.7933998\ttotal: 39.9s\tremaining: 42.6s\n",
      "58:\tlearn: 0.7939811\ttotal: 40.5s\tremaining: 41.9s\n",
      "59:\tlearn: 0.7946030\ttotal: 41.2s\tremaining: 41.2s\n",
      "60:\tlearn: 0.7948056\ttotal: 41.8s\tremaining: 40.4s\n",
      "61:\tlearn: 0.7958079\ttotal: 42.4s\tremaining: 39.7s\n",
      "62:\tlearn: 0.7963933\ttotal: 43.1s\tremaining: 39s\n",
      "63:\tlearn: 0.7972172\ttotal: 43.7s\tremaining: 38.3s\n",
      "64:\tlearn: 0.7982833\ttotal: 44.4s\tremaining: 37.5s\n",
      "65:\tlearn: 0.7986957\ttotal: 45.1s\tremaining: 36.9s\n",
      "66:\tlearn: 0.7992795\ttotal: 45.7s\tremaining: 36.2s\n",
      "67:\tlearn: 0.8030420\ttotal: 46.5s\tremaining: 35.5s\n",
      "68:\tlearn: 0.8051195\ttotal: 47.2s\tremaining: 34.9s\n",
      "69:\tlearn: 0.8077838\ttotal: 47.9s\tremaining: 34.2s\n",
      "70:\tlearn: 0.8079538\ttotal: 48.5s\tremaining: 33.5s\n",
      "71:\tlearn: 0.8101051\ttotal: 49.2s\tremaining: 32.8s\n",
      "72:\tlearn: 0.8118493\ttotal: 49.9s\tremaining: 32.1s\n",
      "73:\tlearn: 0.8130233\ttotal: 50.5s\tremaining: 31.4s\n",
      "74:\tlearn: 0.8141518\ttotal: 51.2s\tremaining: 30.7s\n",
      "75:\tlearn: 0.8152963\ttotal: 51.9s\tremaining: 30s\n",
      "76:\tlearn: 0.8162714\ttotal: 52.5s\tremaining: 29.3s\n",
      "77:\tlearn: 0.8167089\ttotal: 53.2s\tremaining: 28.6s\n",
      "78:\tlearn: 0.8173766\ttotal: 53.8s\tremaining: 27.9s\n",
      "79:\tlearn: 0.8176069\ttotal: 54.5s\tremaining: 27.2s\n",
      "80:\tlearn: 0.8189706\ttotal: 55.2s\tremaining: 26.6s\n",
      "81:\tlearn: 0.8192913\ttotal: 55.9s\tremaining: 25.9s\n",
      "82:\tlearn: 0.8196583\ttotal: 56.5s\tremaining: 25.2s\n",
      "83:\tlearn: 0.8201850\ttotal: 57.2s\tremaining: 24.5s\n",
      "84:\tlearn: 0.8207285\ttotal: 57.8s\tremaining: 23.8s\n",
      "85:\tlearn: 0.8214196\ttotal: 58.5s\tremaining: 23.1s\n",
      "86:\tlearn: 0.8224897\ttotal: 59.2s\tremaining: 22.5s\n",
      "87:\tlearn: 0.8227273\ttotal: 59.9s\tremaining: 21.8s\n",
      "88:\tlearn: 0.8231533\ttotal: 1m\tremaining: 21.1s\n",
      "89:\tlearn: 0.8229858\ttotal: 1m 1s\tremaining: 20.4s\n",
      "90:\tlearn: 0.8233121\ttotal: 1m 1s\tremaining: 19.7s\n",
      "91:\tlearn: 0.8239052\ttotal: 1m 2s\tremaining: 19s\n",
      "92:\tlearn: 0.8247752\ttotal: 1m 3s\tremaining: 18.3s\n",
      "93:\tlearn: 0.8252501\ttotal: 1m 3s\tremaining: 17.7s\n",
      "94:\tlearn: 0.8260979\ttotal: 1m 4s\tremaining: 17s\n",
      "95:\tlearn: 0.8267069\ttotal: 1m 5s\tremaining: 16.3s\n",
      "96:\tlearn: 0.8275573\ttotal: 1m 5s\tremaining: 15.6s\n",
      "97:\tlearn: 0.8285786\ttotal: 1m 6s\tremaining: 15s\n",
      "98:\tlearn: 0.8278456\ttotal: 1m 7s\tremaining: 14.3s\n",
      "99:\tlearn: 0.8282778\ttotal: 1m 7s\tremaining: 13.6s\n",
      "100:\tlearn: 0.8283115\ttotal: 1m 8s\tremaining: 12.9s\n",
      "101:\tlearn: 0.8286167\ttotal: 1m 9s\tremaining: 12.2s\n",
      "102:\tlearn: 0.8292439\ttotal: 1m 9s\tremaining: 11.5s\n",
      "103:\tlearn: 0.8298707\ttotal: 1m 10s\tremaining: 10.9s\n",
      "104:\tlearn: 0.8302611\ttotal: 1m 11s\tremaining: 10.2s\n",
      "105:\tlearn: 0.8303586\ttotal: 1m 11s\tremaining: 9.49s\n",
      "106:\tlearn: 0.8309847\ttotal: 1m 12s\tremaining: 8.8s\n",
      "107:\tlearn: 0.8308873\ttotal: 1m 13s\tremaining: 8.12s\n",
      "108:\tlearn: 0.8323603\ttotal: 1m 13s\tremaining: 7.45s\n",
      "109:\tlearn: 0.8329581\ttotal: 1m 14s\tremaining: 6.77s\n",
      "110:\tlearn: 0.8328328\ttotal: 1m 15s\tremaining: 6.09s\n",
      "111:\tlearn: 0.8329023\ttotal: 1m 15s\tremaining: 5.41s\n",
      "112:\tlearn: 0.8332638\ttotal: 1m 16s\tremaining: 4.73s\n",
      "113:\tlearn: 0.8334862\ttotal: 1m 17s\tremaining: 4.06s\n",
      "114:\tlearn: 0.8338474\ttotal: 1m 17s\tremaining: 3.38s\n",
      "115:\tlearn: 0.8336530\ttotal: 1m 18s\tremaining: 2.7s\n",
      "116:\tlearn: 0.8340837\ttotal: 1m 19s\tremaining: 2.03s\n",
      "117:\tlearn: 0.8343753\ttotal: 1m 19s\tremaining: 1.35s\n",
      "118:\tlearn: 0.8343476\ttotal: 1m 20s\tremaining: 676ms\n",
      "119:\tlearn: 0.8347362\ttotal: 1m 21s\tremaining: 0us\n",
      "[CV] END ...........depth=5, iterations=120, learning_rate=1; total time= 1.4min\n",
      "0:\tlearn: 0.3722792\ttotal: 2.49s\tremaining: 4m 6s\n",
      "1:\tlearn: 0.5837781\ttotal: 4.2s\tremaining: 3m 25s\n",
      "2:\tlearn: 0.6493258\ttotal: 5.88s\tremaining: 3m 10s\n",
      "3:\tlearn: 0.6781609\ttotal: 7.55s\tremaining: 3m 1s\n",
      "4:\tlearn: 0.6847369\ttotal: 9.23s\tremaining: 2m 55s\n",
      "5:\tlearn: 0.6973963\ttotal: 10.9s\tremaining: 2m 50s\n",
      "6:\tlearn: 0.6977650\ttotal: 12.6s\tremaining: 2m 47s\n",
      "7:\tlearn: 0.7090411\ttotal: 14.2s\tremaining: 2m 43s\n",
      "8:\tlearn: 0.7112618\ttotal: 15.9s\tremaining: 2m 40s\n",
      "9:\tlearn: 0.7181735\ttotal: 17.5s\tremaining: 2m 37s\n",
      "10:\tlearn: 0.7233040\ttotal: 19.2s\tremaining: 2m 35s\n",
      "11:\tlearn: 0.7296810\ttotal: 20.9s\tremaining: 2m 33s\n",
      "12:\tlearn: 0.7348804\ttotal: 22.6s\tremaining: 2m 31s\n",
      "13:\tlearn: 0.7428977\ttotal: 24.2s\tremaining: 2m 28s\n",
      "14:\tlearn: 0.7465536\ttotal: 25.9s\tremaining: 2m 26s\n",
      "15:\tlearn: 0.7488311\ttotal: 27.5s\tremaining: 2m 24s\n",
      "16:\tlearn: 0.7505075\ttotal: 29.1s\tremaining: 2m 21s\n",
      "17:\tlearn: 0.7542918\ttotal: 30.7s\tremaining: 2m 19s\n",
      "18:\tlearn: 0.7589294\ttotal: 32.3s\tremaining: 2m 17s\n",
      "19:\tlearn: 0.7612960\ttotal: 33.9s\tremaining: 2m 15s\n",
      "20:\tlearn: 0.7622213\ttotal: 35.5s\tremaining: 2m 13s\n",
      "21:\tlearn: 0.7636014\ttotal: 37.1s\tremaining: 2m 11s\n",
      "22:\tlearn: 0.7649319\ttotal: 38.7s\tremaining: 2m 9s\n",
      "23:\tlearn: 0.7685764\ttotal: 40.4s\tremaining: 2m 7s\n",
      "24:\tlearn: 0.7698447\ttotal: 42s\tremaining: 2m 5s\n",
      "25:\tlearn: 0.7705658\ttotal: 43.6s\tremaining: 2m 4s\n",
      "26:\tlearn: 0.7723373\ttotal: 45.1s\tremaining: 2m 2s\n",
      "27:\tlearn: 0.7733357\ttotal: 46.8s\tremaining: 2m\n",
      "28:\tlearn: 0.7749436\ttotal: 48.4s\tremaining: 1m 58s\n",
      "29:\tlearn: 0.7776913\ttotal: 50.1s\tremaining: 1m 56s\n",
      "30:\tlearn: 0.7802900\ttotal: 51.7s\tremaining: 1m 55s\n",
      "31:\tlearn: 0.7813497\ttotal: 53.3s\tremaining: 1m 53s\n",
      "32:\tlearn: 0.7823691\ttotal: 54.9s\tremaining: 1m 51s\n",
      "33:\tlearn: 0.7835513\ttotal: 56.5s\tremaining: 1m 49s\n",
      "34:\tlearn: 0.7823606\ttotal: 58.1s\tremaining: 1m 47s\n",
      "35:\tlearn: 0.7854677\ttotal: 59.8s\tremaining: 1m 46s\n",
      "36:\tlearn: 0.7867241\ttotal: 1m 1s\tremaining: 1m 44s\n",
      "37:\tlearn: 0.7882333\ttotal: 1m 2s\tremaining: 1m 42s\n",
      "38:\tlearn: 0.7886500\ttotal: 1m 4s\tremaining: 1m 40s\n",
      "39:\tlearn: 0.7895551\ttotal: 1m 6s\tremaining: 1m 39s\n",
      "40:\tlearn: 0.7918521\ttotal: 1m 7s\tremaining: 1m 37s\n",
      "41:\tlearn: 0.7942535\ttotal: 1m 9s\tremaining: 1m 35s\n",
      "42:\tlearn: 0.7949441\ttotal: 1m 11s\tremaining: 1m 34s\n",
      "43:\tlearn: 0.7964496\ttotal: 1m 12s\tremaining: 1m 32s\n",
      "44:\tlearn: 0.7974759\ttotal: 1m 14s\tremaining: 1m 30s\n",
      "45:\tlearn: 0.7982957\ttotal: 1m 15s\tremaining: 1m 28s\n",
      "46:\tlearn: 0.7988075\ttotal: 1m 17s\tremaining: 1m 27s\n",
      "47:\tlearn: 0.8000000\ttotal: 1m 18s\tremaining: 1m 25s\n",
      "48:\tlearn: 0.8018033\ttotal: 1m 20s\tremaining: 1m 23s\n",
      "49:\tlearn: 0.8020071\ttotal: 1m 22s\tremaining: 1m 22s\n",
      "50:\tlearn: 0.8028912\ttotal: 1m 23s\tremaining: 1m 20s\n",
      "51:\tlearn: 0.8039816\ttotal: 1m 25s\tremaining: 1m 18s\n",
      "52:\tlearn: 0.8047660\ttotal: 1m 27s\tremaining: 1m 17s\n",
      "53:\tlearn: 0.8049609\ttotal: 1m 28s\tremaining: 1m 15s\n",
      "54:\tlearn: 0.8059093\ttotal: 1m 30s\tremaining: 1m 14s\n",
      "55:\tlearn: 0.8071993\ttotal: 1m 32s\tremaining: 1m 12s\n",
      "56:\tlearn: 0.8080088\ttotal: 1m 33s\tremaining: 1m 10s\n",
      "57:\tlearn: 0.8088957\ttotal: 1m 35s\tremaining: 1m 9s\n",
      "58:\tlearn: 0.8098377\ttotal: 1m 37s\tremaining: 1m 7s\n",
      "59:\tlearn: 0.8120148\ttotal: 1m 38s\tremaining: 1m 5s\n",
      "60:\tlearn: 0.8127900\ttotal: 1m 40s\tremaining: 1m 4s\n",
      "61:\tlearn: 0.8137338\ttotal: 1m 42s\tremaining: 1m 2s\n",
      "62:\tlearn: 0.8160445\ttotal: 1m 43s\tremaining: 1m\n",
      "63:\tlearn: 0.8166428\ttotal: 1m 45s\tremaining: 59.3s\n",
      "64:\tlearn: 0.8164813\ttotal: 1m 47s\tremaining: 57.7s\n",
      "65:\tlearn: 0.8171482\ttotal: 1m 48s\tremaining: 56s\n",
      "66:\tlearn: 0.8178526\ttotal: 1m 50s\tremaining: 54.4s\n",
      "67:\tlearn: 0.8219570\ttotal: 1m 52s\tremaining: 52.8s\n",
      "68:\tlearn: 0.8226186\ttotal: 1m 53s\tremaining: 51.2s\n",
      "69:\tlearn: 0.8237174\ttotal: 1m 55s\tremaining: 49.5s\n",
      "70:\tlearn: 0.8248065\ttotal: 1m 57s\tremaining: 47.9s\n",
      "71:\tlearn: 0.8252125\ttotal: 1m 58s\tremaining: 46.2s\n",
      "72:\tlearn: 0.8265366\ttotal: 2m\tremaining: 44.6s\n",
      "73:\tlearn: 0.8277078\ttotal: 2m 2s\tremaining: 42.9s\n",
      "74:\tlearn: 0.8288424\ttotal: 2m 3s\tremaining: 41.3s\n",
      "75:\tlearn: 0.8292642\ttotal: 2m 5s\tremaining: 39.6s\n",
      "76:\tlearn: 0.8313495\ttotal: 2m 7s\tremaining: 38s\n",
      "77:\tlearn: 0.8323419\ttotal: 2m 8s\tremaining: 36.3s\n",
      "78:\tlearn: 0.8336261\ttotal: 2m 10s\tremaining: 34.7s\n",
      "79:\tlearn: 0.8353521\ttotal: 2m 12s\tremaining: 33s\n",
      "80:\tlearn: 0.8359780\ttotal: 2m 13s\tremaining: 31.4s\n",
      "81:\tlearn: 0.8363393\ttotal: 2m 15s\tremaining: 29.7s\n",
      "82:\tlearn: 0.8371977\ttotal: 2m 17s\tremaining: 28.1s\n",
      "83:\tlearn: 0.8371433\ttotal: 2m 18s\tremaining: 26.4s\n",
      "84:\tlearn: 0.8370191\ttotal: 2m 20s\tremaining: 24.8s\n",
      "85:\tlearn: 0.8369220\ttotal: 2m 21s\tremaining: 23.1s\n",
      "86:\tlearn: 0.8376011\ttotal: 2m 23s\tremaining: 21.5s\n",
      "87:\tlearn: 0.8392961\ttotal: 2m 25s\tremaining: 19.8s\n",
      "88:\tlearn: 0.8395597\ttotal: 2m 26s\tremaining: 18.1s\n",
      "89:\tlearn: 0.8394794\ttotal: 2m 28s\tremaining: 16.5s\n",
      "90:\tlearn: 0.8402535\ttotal: 2m 30s\tremaining: 14.8s\n",
      "91:\tlearn: 0.8404468\ttotal: 2m 31s\tremaining: 13.2s\n",
      "92:\tlearn: 0.8410171\ttotal: 2m 33s\tremaining: 11.5s\n",
      "93:\tlearn: 0.8410872\ttotal: 2m 34s\tremaining: 9.89s\n",
      "94:\tlearn: 0.8407973\ttotal: 2m 36s\tremaining: 8.24s\n",
      "95:\tlearn: 0.8407006\ttotal: 2m 38s\tremaining: 6.59s\n",
      "96:\tlearn: 0.8407006\ttotal: 2m 39s\tremaining: 4.94s\n",
      "97:\tlearn: 0.8408408\ttotal: 2m 41s\tremaining: 3.29s\n",
      "98:\tlearn: 0.8411043\ttotal: 2m 42s\tremaining: 1.65s\n",
      "99:\tlearn: 0.8411745\ttotal: 2m 44s\tremaining: 0us\n",
      "[CV] END ...........depth=7, iterations=100, learning_rate=1; total time= 2.8min\n",
      "0:\tlearn: 0.5057213\ttotal: 2.6s\tremaining: 4m 17s\n",
      "1:\tlearn: 0.6167223\ttotal: 4.31s\tremaining: 3m 31s\n",
      "2:\tlearn: 0.6537450\ttotal: 5.98s\tremaining: 3m 13s\n",
      "3:\tlearn: 0.6715091\ttotal: 7.65s\tremaining: 3m 3s\n",
      "4:\tlearn: 0.6841612\ttotal: 9.28s\tremaining: 2m 56s\n",
      "5:\tlearn: 0.6988861\ttotal: 10.9s\tremaining: 2m 51s\n",
      "6:\tlearn: 0.7067144\ttotal: 12.6s\tremaining: 2m 47s\n",
      "7:\tlearn: 0.7160382\ttotal: 14.3s\tremaining: 2m 44s\n",
      "8:\tlearn: 0.7207353\ttotal: 15.9s\tremaining: 2m 40s\n",
      "9:\tlearn: 0.7288136\ttotal: 17.5s\tremaining: 2m 37s\n",
      "10:\tlearn: 0.7311963\ttotal: 19.1s\tremaining: 2m 34s\n",
      "11:\tlearn: 0.7366735\ttotal: 20.8s\tremaining: 2m 32s\n",
      "12:\tlearn: 0.7382634\ttotal: 22.4s\tremaining: 2m 29s\n",
      "13:\tlearn: 0.7439459\ttotal: 24s\tremaining: 2m 27s\n",
      "14:\tlearn: 0.7479386\ttotal: 25.6s\tremaining: 2m 25s\n",
      "15:\tlearn: 0.7516138\ttotal: 27.3s\tremaining: 2m 23s\n",
      "16:\tlearn: 0.7500223\ttotal: 28.9s\tremaining: 2m 20s\n",
      "17:\tlearn: 0.7538830\ttotal: 30.5s\tremaining: 2m 18s\n",
      "18:\tlearn: 0.7556621\ttotal: 32.1s\tremaining: 2m 16s\n",
      "19:\tlearn: 0.7588527\ttotal: 33.7s\tremaining: 2m 14s\n",
      "20:\tlearn: 0.7609541\ttotal: 35.3s\tremaining: 2m 12s\n",
      "21:\tlearn: 0.7644883\ttotal: 36.9s\tremaining: 2m 10s\n",
      "22:\tlearn: 0.7661858\ttotal: 38.4s\tremaining: 2m 8s\n",
      "23:\tlearn: 0.7685031\ttotal: 40s\tremaining: 2m 6s\n",
      "24:\tlearn: 0.7709957\ttotal: 41.7s\tremaining: 2m 5s\n",
      "25:\tlearn: 0.7789748\ttotal: 43.3s\tremaining: 2m 3s\n",
      "26:\tlearn: 0.7808896\ttotal: 44.9s\tremaining: 2m 1s\n",
      "27:\tlearn: 0.7823147\ttotal: 46.5s\tremaining: 1m 59s\n",
      "28:\tlearn: 0.7840014\ttotal: 48s\tremaining: 1m 57s\n",
      "29:\tlearn: 0.7851762\ttotal: 49.6s\tremaining: 1m 55s\n",
      "30:\tlearn: 0.7869674\ttotal: 51.3s\tremaining: 1m 54s\n",
      "31:\tlearn: 0.7883237\ttotal: 52.9s\tremaining: 1m 52s\n",
      "32:\tlearn: 0.7911899\ttotal: 54.5s\tremaining: 1m 50s\n",
      "33:\tlearn: 0.7924723\ttotal: 56.4s\tremaining: 1m 49s\n",
      "34:\tlearn: 0.7934736\ttotal: 58.1s\tremaining: 1m 47s\n",
      "35:\tlearn: 0.7933471\ttotal: 59.8s\tremaining: 1m 46s\n",
      "36:\tlearn: 0.7935823\ttotal: 1m 1s\tremaining: 1m 44s\n",
      "37:\tlearn: 0.7946575\ttotal: 1m 3s\tremaining: 1m 43s\n",
      "38:\tlearn: 0.7952803\ttotal: 1m 4s\tremaining: 1m 41s\n",
      "39:\tlearn: 0.7960764\ttotal: 1m 6s\tremaining: 1m 39s\n",
      "40:\tlearn: 0.7969046\ttotal: 1m 7s\tremaining: 1m 37s\n",
      "41:\tlearn: 0.7973159\ttotal: 1m 9s\tremaining: 1m 36s\n",
      "42:\tlearn: 0.7983843\ttotal: 1m 11s\tremaining: 1m 34s\n",
      "43:\tlearn: 0.8021583\ttotal: 1m 12s\tremaining: 1m 32s\n",
      "44:\tlearn: 0.8029097\ttotal: 1m 14s\tremaining: 1m 31s\n",
      "45:\tlearn: 0.8028085\ttotal: 1m 16s\tremaining: 1m 29s\n",
      "46:\tlearn: 0.8052811\ttotal: 1m 17s\tremaining: 1m 27s\n",
      "47:\tlearn: 0.8059930\ttotal: 1m 19s\tremaining: 1m 25s\n",
      "48:\tlearn: 0.8065038\ttotal: 1m 20s\tremaining: 1m 24s\n",
      "49:\tlearn: 0.8071818\ttotal: 1m 22s\tremaining: 1m 22s\n",
      "50:\tlearn: 0.8082320\ttotal: 1m 24s\tremaining: 1m 20s\n",
      "51:\tlearn: 0.8095157\ttotal: 1m 25s\tremaining: 1m 19s\n",
      "52:\tlearn: 0.8106639\ttotal: 1m 27s\tremaining: 1m 17s\n",
      "53:\tlearn: 0.8115352\ttotal: 1m 28s\tremaining: 1m 15s\n",
      "54:\tlearn: 0.8125795\ttotal: 1m 30s\tremaining: 1m 14s\n",
      "55:\tlearn: 0.8140678\ttotal: 1m 32s\tremaining: 1m 12s\n",
      "56:\tlearn: 0.8162194\ttotal: 1m 33s\tremaining: 1m 10s\n",
      "57:\tlearn: 0.8164819\ttotal: 1m 35s\tremaining: 1m 9s\n",
      "58:\tlearn: 0.8173207\ttotal: 1m 37s\tremaining: 1m 7s\n",
      "59:\tlearn: 0.8180281\ttotal: 1m 38s\tremaining: 1m 5s\n",
      "60:\tlearn: 0.8185354\ttotal: 1m 40s\tremaining: 1m 4s\n",
      "61:\tlearn: 0.8205172\ttotal: 1m 41s\tremaining: 1m 2s\n",
      "62:\tlearn: 0.8207165\ttotal: 1m 43s\tremaining: 1m\n",
      "63:\tlearn: 0.8209850\ttotal: 1m 45s\tremaining: 59.1s\n",
      "64:\tlearn: 0.8216216\ttotal: 1m 46s\tremaining: 57.4s\n",
      "65:\tlearn: 0.8221284\ttotal: 1m 48s\tremaining: 55.8s\n",
      "66:\tlearn: 0.8228639\ttotal: 1m 49s\tremaining: 54.1s\n",
      "67:\tlearn: 0.8226447\ttotal: 1m 51s\tremaining: 52.5s\n",
      "68:\tlearn: 0.8231316\ttotal: 1m 53s\tremaining: 50.8s\n",
      "69:\tlearn: 0.8241554\ttotal: 1m 54s\tremaining: 49.2s\n",
      "70:\tlearn: 0.8251772\ttotal: 1m 56s\tremaining: 47.5s\n",
      "71:\tlearn: 0.8262776\ttotal: 1m 58s\tremaining: 45.9s\n",
      "72:\tlearn: 0.8265857\ttotal: 1m 59s\tremaining: 44.3s\n",
      "73:\tlearn: 0.8271386\ttotal: 2m 1s\tremaining: 42.6s\n",
      "74:\tlearn: 0.8274060\ttotal: 2m 3s\tremaining: 41s\n",
      "75:\tlearn: 0.8289108\ttotal: 2m 4s\tremaining: 39.4s\n",
      "76:\tlearn: 0.8298518\ttotal: 2m 6s\tremaining: 37.7s\n",
      "77:\tlearn: 0.8305956\ttotal: 2m 7s\tremaining: 36.1s\n",
      "78:\tlearn: 0.8311579\ttotal: 2m 9s\tremaining: 34.4s\n",
      "79:\tlearn: 0.8315648\ttotal: 2m 11s\tremaining: 32.8s\n",
      "80:\tlearn: 0.8340905\ttotal: 2m 12s\tremaining: 31.2s\n",
      "81:\tlearn: 0.8341607\ttotal: 2m 14s\tremaining: 29.5s\n",
      "82:\tlearn: 0.8348747\ttotal: 2m 16s\tremaining: 27.9s\n",
      "83:\tlearn: 0.8347490\ttotal: 2m 17s\tremaining: 26.3s\n",
      "84:\tlearn: 0.8346231\ttotal: 2m 19s\tremaining: 24.6s\n",
      "85:\tlearn: 0.8347212\ttotal: 2m 21s\tremaining: 23s\n",
      "86:\tlearn: 0.8352813\ttotal: 2m 22s\tremaining: 21.3s\n",
      "87:\tlearn: 0.8351556\ttotal: 2m 24s\tremaining: 19.7s\n",
      "88:\tlearn: 0.8366266\ttotal: 2m 25s\tremaining: 18s\n",
      "89:\tlearn: 0.8383354\ttotal: 2m 27s\tremaining: 16.4s\n",
      "90:\tlearn: 0.8383516\ttotal: 2m 29s\tremaining: 14.8s\n",
      "91:\tlearn: 0.8383516\ttotal: 2m 30s\tremaining: 13.1s\n",
      "92:\tlearn: 0.8382538\ttotal: 2m 32s\tremaining: 11.5s\n",
      "93:\tlearn: 0.8387151\ttotal: 2m 34s\tremaining: 9.84s\n",
      "94:\tlearn: 0.8395933\ttotal: 2m 35s\tremaining: 8.2s\n",
      "95:\tlearn: 0.8394688\ttotal: 2m 37s\tremaining: 6.56s\n",
      "96:\tlearn: 0.8394148\ttotal: 2m 39s\tremaining: 4.92s\n",
      "97:\tlearn: 0.8393172\ttotal: 2m 40s\tremaining: 3.28s\n",
      "98:\tlearn: 0.8393878\ttotal: 2m 42s\tremaining: 1.64s\n",
      "99:\tlearn: 0.8395228\ttotal: 2m 43s\tremaining: 0us\n",
      "[CV] END ...........depth=7, iterations=100, learning_rate=1; total time= 2.8min\n",
      "0:\tlearn: 0.3722792\ttotal: 2.56s\tremaining: 5m 4s\n",
      "1:\tlearn: 0.5837781\ttotal: 4.39s\tremaining: 4m 18s\n",
      "2:\tlearn: 0.6493258\ttotal: 6.08s\tremaining: 3m 57s\n",
      "3:\tlearn: 0.6781609\ttotal: 7.77s\tremaining: 3m 45s\n",
      "4:\tlearn: 0.6847369\ttotal: 9.46s\tremaining: 3m 37s\n",
      "5:\tlearn: 0.6973963\ttotal: 11.1s\tremaining: 3m 31s\n",
      "6:\tlearn: 0.6977650\ttotal: 12.9s\tremaining: 3m 28s\n",
      "7:\tlearn: 0.7090411\ttotal: 14.6s\tremaining: 3m 24s\n",
      "8:\tlearn: 0.7112618\ttotal: 16.2s\tremaining: 3m 19s\n",
      "9:\tlearn: 0.7181735\ttotal: 17.8s\tremaining: 3m 15s\n",
      "10:\tlearn: 0.7233040\ttotal: 19.4s\tremaining: 3m 12s\n",
      "11:\tlearn: 0.7296810\ttotal: 21s\tremaining: 3m 9s\n",
      "12:\tlearn: 0.7348804\ttotal: 22.7s\tremaining: 3m 6s\n",
      "13:\tlearn: 0.7428977\ttotal: 24.3s\tremaining: 3m 4s\n",
      "14:\tlearn: 0.7465536\ttotal: 25.9s\tremaining: 3m 1s\n",
      "15:\tlearn: 0.7488311\ttotal: 27.6s\tremaining: 2m 59s\n",
      "16:\tlearn: 0.7505075\ttotal: 29.2s\tremaining: 2m 56s\n",
      "17:\tlearn: 0.7542918\ttotal: 30.8s\tremaining: 2m 54s\n",
      "18:\tlearn: 0.7589294\ttotal: 32.5s\tremaining: 2m 52s\n",
      "19:\tlearn: 0.7612960\ttotal: 34s\tremaining: 2m 50s\n",
      "20:\tlearn: 0.7622213\ttotal: 35.7s\tremaining: 2m 48s\n",
      "21:\tlearn: 0.7636014\ttotal: 37.3s\tremaining: 2m 45s\n",
      "22:\tlearn: 0.7649319\ttotal: 38.8s\tremaining: 2m 43s\n",
      "23:\tlearn: 0.7685764\ttotal: 40.5s\tremaining: 2m 41s\n",
      "24:\tlearn: 0.7698447\ttotal: 42.1s\tremaining: 2m 39s\n",
      "25:\tlearn: 0.7705658\ttotal: 43.7s\tremaining: 2m 38s\n",
      "26:\tlearn: 0.7723373\ttotal: 45.3s\tremaining: 2m 36s\n",
      "27:\tlearn: 0.7733357\ttotal: 47s\tremaining: 2m 34s\n",
      "28:\tlearn: 0.7749436\ttotal: 48.6s\tremaining: 2m 32s\n",
      "29:\tlearn: 0.7776913\ttotal: 50.2s\tremaining: 2m 30s\n",
      "30:\tlearn: 0.7802900\ttotal: 51.8s\tremaining: 2m 28s\n",
      "31:\tlearn: 0.7813497\ttotal: 53.4s\tremaining: 2m 26s\n",
      "32:\tlearn: 0.7823691\ttotal: 55.1s\tremaining: 2m 25s\n",
      "33:\tlearn: 0.7835513\ttotal: 56.6s\tremaining: 2m 23s\n",
      "34:\tlearn: 0.7823606\ttotal: 58.3s\tremaining: 2m 21s\n",
      "35:\tlearn: 0.7854677\ttotal: 59.8s\tremaining: 2m 19s\n",
      "36:\tlearn: 0.7867241\ttotal: 1m 1s\tremaining: 2m 17s\n",
      "37:\tlearn: 0.7882333\ttotal: 1m 3s\tremaining: 2m 16s\n",
      "38:\tlearn: 0.7886500\ttotal: 1m 4s\tremaining: 2m 14s\n",
      "39:\tlearn: 0.7895551\ttotal: 1m 6s\tremaining: 2m 13s\n",
      "40:\tlearn: 0.7918521\ttotal: 1m 8s\tremaining: 2m 11s\n",
      "41:\tlearn: 0.7942535\ttotal: 1m 9s\tremaining: 2m 9s\n",
      "42:\tlearn: 0.7949441\ttotal: 1m 11s\tremaining: 2m 7s\n",
      "43:\tlearn: 0.7964496\ttotal: 1m 13s\tremaining: 2m 6s\n",
      "44:\tlearn: 0.7974759\ttotal: 1m 14s\tremaining: 2m 4s\n",
      "45:\tlearn: 0.7982957\ttotal: 1m 16s\tremaining: 2m 2s\n",
      "46:\tlearn: 0.7988075\ttotal: 1m 17s\tremaining: 2m 1s\n",
      "47:\tlearn: 0.8000000\ttotal: 1m 19s\tremaining: 1m 59s\n",
      "48:\tlearn: 0.8018033\ttotal: 1m 21s\tremaining: 1m 57s\n",
      "49:\tlearn: 0.8020071\ttotal: 1m 22s\tremaining: 1m 56s\n",
      "50:\tlearn: 0.8028912\ttotal: 1m 24s\tremaining: 1m 54s\n",
      "51:\tlearn: 0.8039816\ttotal: 1m 26s\tremaining: 1m 52s\n",
      "52:\tlearn: 0.8047660\ttotal: 1m 28s\tremaining: 1m 51s\n",
      "53:\tlearn: 0.8049609\ttotal: 1m 29s\tremaining: 1m 49s\n",
      "54:\tlearn: 0.8059093\ttotal: 1m 31s\tremaining: 1m 48s\n",
      "55:\tlearn: 0.8071993\ttotal: 1m 33s\tremaining: 1m 46s\n",
      "56:\tlearn: 0.8080088\ttotal: 1m 34s\tremaining: 1m 44s\n",
      "57:\tlearn: 0.8088957\ttotal: 1m 36s\tremaining: 1m 43s\n",
      "58:\tlearn: 0.8098377\ttotal: 1m 38s\tremaining: 1m 41s\n",
      "59:\tlearn: 0.8120148\ttotal: 1m 39s\tremaining: 1m 39s\n",
      "60:\tlearn: 0.8127900\ttotal: 1m 41s\tremaining: 1m 37s\n",
      "61:\tlearn: 0.8137338\ttotal: 1m 43s\tremaining: 1m 36s\n",
      "62:\tlearn: 0.8160445\ttotal: 1m 44s\tremaining: 1m 34s\n",
      "63:\tlearn: 0.8166428\ttotal: 1m 46s\tremaining: 1m 33s\n",
      "64:\tlearn: 0.8164813\ttotal: 1m 48s\tremaining: 1m 31s\n",
      "65:\tlearn: 0.8171482\ttotal: 1m 49s\tremaining: 1m 29s\n",
      "66:\tlearn: 0.8178526\ttotal: 1m 51s\tremaining: 1m 27s\n",
      "67:\tlearn: 0.8219570\ttotal: 1m 52s\tremaining: 1m 26s\n",
      "68:\tlearn: 0.8226186\ttotal: 1m 54s\tremaining: 1m 24s\n",
      "69:\tlearn: 0.8237174\ttotal: 1m 56s\tremaining: 1m 23s\n",
      "70:\tlearn: 0.8248065\ttotal: 1m 57s\tremaining: 1m 21s\n",
      "71:\tlearn: 0.8252125\ttotal: 1m 59s\tremaining: 1m 19s\n",
      "72:\tlearn: 0.8265366\ttotal: 2m 1s\tremaining: 1m 17s\n",
      "73:\tlearn: 0.8277078\ttotal: 2m 2s\tremaining: 1m 16s\n",
      "74:\tlearn: 0.8288424\ttotal: 2m 4s\tremaining: 1m 14s\n",
      "75:\tlearn: 0.8292642\ttotal: 2m 6s\tremaining: 1m 12s\n",
      "76:\tlearn: 0.8313495\ttotal: 2m 7s\tremaining: 1m 11s\n",
      "77:\tlearn: 0.8323419\ttotal: 2m 9s\tremaining: 1m 9s\n",
      "78:\tlearn: 0.8336261\ttotal: 2m 10s\tremaining: 1m 7s\n",
      "79:\tlearn: 0.8353521\ttotal: 2m 12s\tremaining: 1m 6s\n",
      "80:\tlearn: 0.8359780\ttotal: 2m 14s\tremaining: 1m 4s\n",
      "81:\tlearn: 0.8363393\ttotal: 2m 15s\tremaining: 1m 2s\n",
      "82:\tlearn: 0.8371977\ttotal: 2m 17s\tremaining: 1m 1s\n",
      "83:\tlearn: 0.8371433\ttotal: 2m 19s\tremaining: 59.6s\n",
      "84:\tlearn: 0.8370191\ttotal: 2m 20s\tremaining: 57.9s\n",
      "85:\tlearn: 0.8369220\ttotal: 2m 22s\tremaining: 56.3s\n",
      "86:\tlearn: 0.8376011\ttotal: 2m 23s\tremaining: 54.6s\n",
      "87:\tlearn: 0.8392961\ttotal: 2m 25s\tremaining: 52.9s\n",
      "88:\tlearn: 0.8395597\ttotal: 2m 27s\tremaining: 51.3s\n",
      "89:\tlearn: 0.8394794\ttotal: 2m 28s\tremaining: 49.6s\n",
      "90:\tlearn: 0.8402535\ttotal: 2m 30s\tremaining: 47.9s\n",
      "91:\tlearn: 0.8404468\ttotal: 2m 31s\tremaining: 46.2s\n",
      "92:\tlearn: 0.8410171\ttotal: 2m 33s\tremaining: 44.6s\n",
      "93:\tlearn: 0.8410872\ttotal: 2m 35s\tremaining: 42.9s\n",
      "94:\tlearn: 0.8407973\ttotal: 2m 36s\tremaining: 41.2s\n",
      "95:\tlearn: 0.8407006\ttotal: 2m 38s\tremaining: 39.6s\n",
      "96:\tlearn: 0.8407006\ttotal: 2m 39s\tremaining: 37.9s\n",
      "97:\tlearn: 0.8408408\ttotal: 2m 41s\tremaining: 36.3s\n",
      "98:\tlearn: 0.8411043\ttotal: 2m 43s\tremaining: 34.6s\n",
      "99:\tlearn: 0.8411745\ttotal: 2m 44s\tremaining: 33s\n",
      "100:\tlearn: 0.8410513\ttotal: 2m 46s\tremaining: 31.3s\n",
      "101:\tlearn: 0.8409546\ttotal: 2m 47s\tremaining: 29.6s\n",
      "102:\tlearn: 0.8411480\ttotal: 2m 49s\tremaining: 28s\n",
      "103:\tlearn: 0.8417452\ttotal: 2m 51s\tremaining: 26.3s\n",
      "104:\tlearn: 0.8417891\ttotal: 2m 52s\tremaining: 24.7s\n",
      "105:\tlearn: 0.8417891\ttotal: 2m 54s\tremaining: 23.1s\n",
      "106:\tlearn: 0.8418857\ttotal: 2m 56s\tremaining: 21.4s\n",
      "107:\tlearn: 0.8419296\ttotal: 2m 57s\tremaining: 19.8s\n",
      "108:\tlearn: 0.8428428\ttotal: 2m 59s\tremaining: 18.1s\n",
      "109:\tlearn: 0.8435805\ttotal: 3m 1s\tremaining: 16.5s\n",
      "110:\tlearn: 0.8437213\ttotal: 3m 2s\tremaining: 14.8s\n",
      "111:\tlearn: 0.8441255\ttotal: 3m 4s\tremaining: 13.2s\n",
      "112:\tlearn: 0.8441255\ttotal: 3m 5s\tremaining: 11.5s\n",
      "113:\tlearn: 0.8439326\ttotal: 3m 7s\tremaining: 9.87s\n",
      "114:\tlearn: 0.8439065\ttotal: 3m 9s\tremaining: 8.22s\n",
      "115:\tlearn: 0.8442144\ttotal: 3m 10s\tremaining: 6.57s\n",
      "116:\tlearn: 0.8439953\ttotal: 3m 12s\tremaining: 4.93s\n",
      "117:\tlearn: 0.8441884\ttotal: 3m 13s\tremaining: 3.29s\n",
      "118:\tlearn: 0.8446002\ttotal: 3m 15s\tremaining: 1.64s\n",
      "119:\tlearn: 0.8451198\ttotal: 3m 17s\tremaining: 0us\n",
      "[CV] END ...........depth=7, iterations=120, learning_rate=1; total time= 3.4min\n",
      "0:\tlearn: 0.5057213\ttotal: 2.54s\tremaining: 5m 2s\n",
      "1:\tlearn: 0.6167223\ttotal: 4.29s\tremaining: 4m 13s\n",
      "2:\tlearn: 0.6537450\ttotal: 5.95s\tremaining: 3m 52s\n",
      "3:\tlearn: 0.6715091\ttotal: 7.64s\tremaining: 3m 41s\n",
      "4:\tlearn: 0.6841612\ttotal: 9.28s\tremaining: 3m 33s\n",
      "5:\tlearn: 0.6988861\ttotal: 11s\tremaining: 3m 28s\n",
      "6:\tlearn: 0.7067144\ttotal: 12.7s\tremaining: 3m 24s\n",
      "7:\tlearn: 0.7160382\ttotal: 14.3s\tremaining: 3m 20s\n",
      "8:\tlearn: 0.7207353\ttotal: 16s\tremaining: 3m 16s\n",
      "9:\tlearn: 0.7288136\ttotal: 17.6s\tremaining: 3m 14s\n",
      "10:\tlearn: 0.7311963\ttotal: 19.2s\tremaining: 3m 10s\n",
      "11:\tlearn: 0.7366735\ttotal: 20.9s\tremaining: 3m 8s\n",
      "12:\tlearn: 0.7382634\ttotal: 22.6s\tremaining: 3m 6s\n",
      "13:\tlearn: 0.7439459\ttotal: 24.3s\tremaining: 3m 3s\n",
      "14:\tlearn: 0.7479386\ttotal: 25.9s\tremaining: 3m 1s\n",
      "15:\tlearn: 0.7516138\ttotal: 27.5s\tremaining: 2m 58s\n",
      "16:\tlearn: 0.7500223\ttotal: 29.1s\tremaining: 2m 56s\n",
      "17:\tlearn: 0.7538830\ttotal: 30.6s\tremaining: 2m 53s\n",
      "18:\tlearn: 0.7556621\ttotal: 32.3s\tremaining: 2m 51s\n",
      "19:\tlearn: 0.7588527\ttotal: 33.9s\tremaining: 2m 49s\n",
      "20:\tlearn: 0.7609541\ttotal: 35.5s\tremaining: 2m 47s\n",
      "21:\tlearn: 0.7644883\ttotal: 37.1s\tremaining: 2m 45s\n",
      "22:\tlearn: 0.7661858\ttotal: 38.7s\tremaining: 2m 43s\n",
      "23:\tlearn: 0.7685031\ttotal: 40.3s\tremaining: 2m 41s\n",
      "24:\tlearn: 0.7709957\ttotal: 42s\tremaining: 2m 39s\n",
      "25:\tlearn: 0.7789748\ttotal: 43.6s\tremaining: 2m 37s\n",
      "26:\tlearn: 0.7808896\ttotal: 45.2s\tremaining: 2m 35s\n",
      "27:\tlearn: 0.7823147\ttotal: 46.8s\tremaining: 2m 33s\n",
      "28:\tlearn: 0.7840014\ttotal: 48.4s\tremaining: 2m 31s\n",
      "29:\tlearn: 0.7851762\ttotal: 50s\tremaining: 2m 29s\n",
      "30:\tlearn: 0.7869674\ttotal: 51.7s\tremaining: 2m 28s\n",
      "31:\tlearn: 0.7883237\ttotal: 53.4s\tremaining: 2m 26s\n",
      "32:\tlearn: 0.7911899\ttotal: 55s\tremaining: 2m 24s\n",
      "33:\tlearn: 0.7924723\ttotal: 56.7s\tremaining: 2m 23s\n",
      "34:\tlearn: 0.7934736\ttotal: 58.3s\tremaining: 2m 21s\n",
      "35:\tlearn: 0.7933471\ttotal: 59.9s\tremaining: 2m 19s\n",
      "36:\tlearn: 0.7935823\ttotal: 1m 1s\tremaining: 2m 18s\n",
      "37:\tlearn: 0.7946575\ttotal: 1m 3s\tremaining: 2m 16s\n",
      "38:\tlearn: 0.7952803\ttotal: 1m 4s\tremaining: 2m 14s\n",
      "39:\tlearn: 0.7960764\ttotal: 1m 6s\tremaining: 2m 12s\n",
      "40:\tlearn: 0.7969046\ttotal: 1m 7s\tremaining: 2m 10s\n",
      "41:\tlearn: 0.7973159\ttotal: 1m 9s\tremaining: 2m 9s\n",
      "42:\tlearn: 0.7983843\ttotal: 1m 11s\tremaining: 2m 7s\n",
      "43:\tlearn: 0.8021583\ttotal: 1m 12s\tremaining: 2m 5s\n",
      "44:\tlearn: 0.8029097\ttotal: 1m 14s\tremaining: 2m 4s\n",
      "45:\tlearn: 0.8028085\ttotal: 1m 16s\tremaining: 2m 2s\n",
      "46:\tlearn: 0.8052811\ttotal: 1m 17s\tremaining: 2m\n",
      "47:\tlearn: 0.8059930\ttotal: 1m 19s\tremaining: 1m 58s\n",
      "48:\tlearn: 0.8065038\ttotal: 1m 20s\tremaining: 1m 57s\n",
      "49:\tlearn: 0.8071818\ttotal: 1m 22s\tremaining: 1m 55s\n",
      "50:\tlearn: 0.8082320\ttotal: 1m 24s\tremaining: 1m 53s\n",
      "51:\tlearn: 0.8095157\ttotal: 1m 25s\tremaining: 1m 52s\n",
      "52:\tlearn: 0.8106639\ttotal: 1m 27s\tremaining: 1m 50s\n",
      "53:\tlearn: 0.8115352\ttotal: 1m 29s\tremaining: 1m 48s\n",
      "54:\tlearn: 0.8125795\ttotal: 1m 30s\tremaining: 1m 47s\n",
      "55:\tlearn: 0.8140678\ttotal: 1m 32s\tremaining: 1m 45s\n",
      "56:\tlearn: 0.8162194\ttotal: 1m 33s\tremaining: 1m 43s\n",
      "57:\tlearn: 0.8164819\ttotal: 1m 35s\tremaining: 1m 42s\n",
      "58:\tlearn: 0.8173207\ttotal: 1m 37s\tremaining: 1m 40s\n",
      "59:\tlearn: 0.8180281\ttotal: 1m 38s\tremaining: 1m 38s\n",
      "60:\tlearn: 0.8185354\ttotal: 1m 40s\tremaining: 1m 36s\n",
      "61:\tlearn: 0.8205172\ttotal: 1m 41s\tremaining: 1m 35s\n",
      "62:\tlearn: 0.8207165\ttotal: 1m 43s\tremaining: 1m 33s\n",
      "63:\tlearn: 0.8209850\ttotal: 1m 45s\tremaining: 1m 31s\n",
      "64:\tlearn: 0.8216216\ttotal: 1m 46s\tremaining: 1m 30s\n",
      "65:\tlearn: 0.8221284\ttotal: 1m 48s\tremaining: 1m 28s\n",
      "66:\tlearn: 0.8228639\ttotal: 1m 49s\tremaining: 1m 26s\n",
      "67:\tlearn: 0.8226447\ttotal: 1m 51s\tremaining: 1m 25s\n",
      "68:\tlearn: 0.8231316\ttotal: 1m 53s\tremaining: 1m 23s\n",
      "69:\tlearn: 0.8241554\ttotal: 1m 54s\tremaining: 1m 22s\n",
      "70:\tlearn: 0.8251772\ttotal: 1m 56s\tremaining: 1m 20s\n",
      "71:\tlearn: 0.8262776\ttotal: 1m 58s\tremaining: 1m 18s\n",
      "72:\tlearn: 0.8265857\ttotal: 1m 59s\tremaining: 1m 17s\n",
      "73:\tlearn: 0.8271386\ttotal: 2m 1s\tremaining: 1m 15s\n",
      "74:\tlearn: 0.8274060\ttotal: 2m 2s\tremaining: 1m 13s\n",
      "75:\tlearn: 0.8289108\ttotal: 2m 4s\tremaining: 1m 12s\n",
      "76:\tlearn: 0.8298518\ttotal: 2m 6s\tremaining: 1m 10s\n",
      "77:\tlearn: 0.8305956\ttotal: 2m 7s\tremaining: 1m 8s\n",
      "78:\tlearn: 0.8311579\ttotal: 2m 9s\tremaining: 1m 7s\n",
      "79:\tlearn: 0.8315648\ttotal: 2m 10s\tremaining: 1m 5s\n",
      "80:\tlearn: 0.8340905\ttotal: 2m 12s\tremaining: 1m 3s\n",
      "81:\tlearn: 0.8341607\ttotal: 2m 14s\tremaining: 1m 2s\n",
      "82:\tlearn: 0.8348747\ttotal: 2m 15s\tremaining: 1m\n",
      "83:\tlearn: 0.8347490\ttotal: 2m 17s\tremaining: 58.8s\n",
      "84:\tlearn: 0.8346231\ttotal: 2m 18s\tremaining: 57.1s\n",
      "85:\tlearn: 0.8347212\ttotal: 2m 20s\tremaining: 55.5s\n",
      "86:\tlearn: 0.8352813\ttotal: 2m 22s\tremaining: 53.9s\n",
      "87:\tlearn: 0.8351556\ttotal: 2m 23s\tremaining: 52.2s\n",
      "88:\tlearn: 0.8366266\ttotal: 2m 25s\tremaining: 50.6s\n",
      "89:\tlearn: 0.8383354\ttotal: 2m 26s\tremaining: 49s\n",
      "90:\tlearn: 0.8383516\ttotal: 2m 28s\tremaining: 47.3s\n",
      "91:\tlearn: 0.8383516\ttotal: 2m 30s\tremaining: 45.7s\n",
      "92:\tlearn: 0.8382538\ttotal: 2m 31s\tremaining: 44s\n",
      "93:\tlearn: 0.8387151\ttotal: 2m 33s\tremaining: 42.4s\n",
      "94:\tlearn: 0.8395933\ttotal: 2m 34s\tremaining: 40.8s\n",
      "95:\tlearn: 0.8394688\ttotal: 2m 36s\tremaining: 39.1s\n",
      "96:\tlearn: 0.8394148\ttotal: 2m 38s\tremaining: 37.5s\n",
      "97:\tlearn: 0.8393172\ttotal: 2m 39s\tremaining: 35.8s\n",
      "98:\tlearn: 0.8393878\ttotal: 2m 41s\tremaining: 34.2s\n",
      "99:\tlearn: 0.8395228\ttotal: 2m 42s\tremaining: 32.6s\n",
      "100:\tlearn: 0.8395664\ttotal: 2m 44s\tremaining: 30.9s\n",
      "101:\tlearn: 0.8395394\ttotal: 2m 46s\tremaining: 29.3s\n",
      "102:\tlearn: 0.8394418\ttotal: 2m 47s\tremaining: 27.7s\n",
      "103:\tlearn: 0.8410351\ttotal: 2m 49s\tremaining: 26.1s\n",
      "104:\tlearn: 0.8409377\ttotal: 2m 51s\tremaining: 24.4s\n",
      "105:\tlearn: 0.8409377\ttotal: 2m 52s\tremaining: 22.8s\n",
      "106:\tlearn: 0.8415925\ttotal: 2m 54s\tremaining: 21.2s\n",
      "107:\tlearn: 0.8416632\ttotal: 2m 55s\tremaining: 19.5s\n",
      "108:\tlearn: 0.8412738\ttotal: 2m 57s\tremaining: 17.9s\n",
      "109:\tlearn: 0.8413445\ttotal: 2m 59s\tremaining: 16.3s\n",
      "110:\tlearn: 0.8420964\ttotal: 3m\tremaining: 14.7s\n",
      "111:\tlearn: 0.8421406\ttotal: 3m 2s\tremaining: 13s\n",
      "112:\tlearn: 0.8430418\ttotal: 3m 3s\tremaining: 11.4s\n",
      "113:\tlearn: 0.8430862\ttotal: 3m 5s\tremaining: 9.77s\n",
      "114:\tlearn: 0.8447090\ttotal: 3m 7s\tremaining: 8.14s\n",
      "115:\tlearn: 0.8451932\ttotal: 3m 8s\tremaining: 6.51s\n",
      "116:\tlearn: 0.8453349\ttotal: 3m 10s\tremaining: 4.88s\n",
      "117:\tlearn: 0.8451153\ttotal: 3m 11s\tremaining: 3.25s\n",
      "118:\tlearn: 0.8449925\ttotal: 3m 13s\tremaining: 1.63s\n",
      "119:\tlearn: 0.8449925\ttotal: 3m 15s\tremaining: 0us\n",
      "[CV] END ...........depth=7, iterations=120, learning_rate=1; total time= 3.3min\n",
      "0:\tlearn: 0.4028891\ttotal: 1.75s\tremaining: 3m 28s\n",
      "1:\tlearn: 0.5646508\ttotal: 3.17s\tremaining: 3m 7s\n",
      "2:\tlearn: 0.6270549\ttotal: 4.56s\tremaining: 2m 57s\n",
      "3:\tlearn: 0.6524939\ttotal: 5.89s\tremaining: 2m 50s\n",
      "4:\tlearn: 0.6724358\ttotal: 7.17s\tremaining: 2m 44s\n",
      "5:\tlearn: 0.6805015\ttotal: 8.49s\tremaining: 2m 41s\n",
      "6:\tlearn: 0.6887591\ttotal: 9.84s\tremaining: 2m 38s\n",
      "7:\tlearn: 0.6917350\ttotal: 11.1s\tremaining: 2m 35s\n",
      "8:\tlearn: 0.6991915\ttotal: 12.4s\tremaining: 2m 33s\n",
      "9:\tlearn: 0.7052860\ttotal: 13.7s\tremaining: 2m 30s\n",
      "10:\tlearn: 0.7098870\ttotal: 14.9s\tremaining: 2m 27s\n",
      "11:\tlearn: 0.7137970\ttotal: 16.1s\tremaining: 2m 25s\n",
      "12:\tlearn: 0.7195801\ttotal: 17.4s\tremaining: 2m 23s\n",
      "13:\tlearn: 0.7236735\ttotal: 18.7s\tremaining: 2m 21s\n",
      "14:\tlearn: 0.7282604\ttotal: 20s\tremaining: 2m 19s\n",
      "15:\tlearn: 0.7317160\ttotal: 21.2s\tremaining: 2m 18s\n",
      "16:\tlearn: 0.7347321\ttotal: 22.5s\tremaining: 2m 16s\n",
      "17:\tlearn: 0.7353492\ttotal: 23.7s\tremaining: 2m 14s\n",
      "18:\tlearn: 0.7366827\ttotal: 24.9s\tremaining: 2m 12s\n",
      "19:\tlearn: 0.7395436\ttotal: 26.1s\tremaining: 2m 10s\n",
      "20:\tlearn: 0.7420658\ttotal: 27.3s\tremaining: 2m 8s\n",
      "21:\tlearn: 0.7430217\ttotal: 28.5s\tremaining: 2m 7s\n",
      "22:\tlearn: 0.7444784\ttotal: 29.7s\tremaining: 2m 5s\n",
      "23:\tlearn: 0.7465983\ttotal: 30.9s\tremaining: 2m 3s\n",
      "24:\tlearn: 0.7486527\ttotal: 32.2s\tremaining: 2m 2s\n",
      "25:\tlearn: 0.7527465\ttotal: 33.5s\tremaining: 2m 1s\n",
      "26:\tlearn: 0.7546593\ttotal: 34.7s\tremaining: 1m 59s\n",
      "27:\tlearn: 0.7563750\ttotal: 35.9s\tremaining: 1m 57s\n",
      "28:\tlearn: 0.7575718\ttotal: 37.2s\tremaining: 1m 56s\n",
      "29:\tlearn: 0.7604692\ttotal: 38.5s\tremaining: 1m 55s\n",
      "30:\tlearn: 0.7620905\ttotal: 39.7s\tremaining: 1m 53s\n",
      "31:\tlearn: 0.7628732\ttotal: 40.9s\tremaining: 1m 52s\n",
      "32:\tlearn: 0.7641139\ttotal: 42.1s\tremaining: 1m 50s\n",
      "33:\tlearn: 0.7648202\ttotal: 43.4s\tremaining: 1m 49s\n",
      "34:\tlearn: 0.7660640\ttotal: 44.5s\tremaining: 1m 48s\n",
      "35:\tlearn: 0.7671256\ttotal: 45.8s\tremaining: 1m 46s\n",
      "36:\tlearn: 0.7680543\ttotal: 47s\tremaining: 1m 45s\n",
      "37:\tlearn: 0.7692175\ttotal: 48.2s\tremaining: 1m 44s\n",
      "38:\tlearn: 0.7698522\ttotal: 49.5s\tremaining: 1m 42s\n",
      "39:\tlearn: 0.7697269\ttotal: 50.6s\tremaining: 1m 41s\n",
      "40:\tlearn: 0.7709651\ttotal: 51.9s\tremaining: 1m 40s\n",
      "41:\tlearn: 0.7714040\ttotal: 53.1s\tremaining: 1m 38s\n",
      "42:\tlearn: 0.7739832\ttotal: 54.3s\tremaining: 1m 37s\n",
      "43:\tlearn: 0.7740827\ttotal: 55.5s\tremaining: 1m 35s\n",
      "44:\tlearn: 0.7745739\ttotal: 56.7s\tremaining: 1m 34s\n",
      "45:\tlearn: 0.7765756\ttotal: 57.9s\tremaining: 1m 33s\n",
      "46:\tlearn: 0.7771674\ttotal: 59.2s\tremaining: 1m 31s\n",
      "47:\tlearn: 0.7786534\ttotal: 1m\tremaining: 1m 30s\n",
      "48:\tlearn: 0.7789167\ttotal: 1m 1s\tremaining: 1m 29s\n",
      "49:\tlearn: 0.7796828\ttotal: 1m 2s\tremaining: 1m 27s\n",
      "50:\tlearn: 0.7802998\ttotal: 1m 3s\tremaining: 1m 26s\n",
      "51:\tlearn: 0.7808741\ttotal: 1m 5s\tremaining: 1m 25s\n",
      "52:\tlearn: 0.7823892\ttotal: 1m 6s\tremaining: 1m 23s\n",
      "53:\tlearn: 0.7830027\ttotal: 1m 7s\tremaining: 1m 22s\n",
      "54:\tlearn: 0.7821200\ttotal: 1m 8s\tremaining: 1m 21s\n",
      "55:\tlearn: 0.7824445\ttotal: 1m 9s\tremaining: 1m 19s\n",
      "56:\tlearn: 0.7828883\ttotal: 1m 11s\tremaining: 1m 18s\n",
      "57:\tlearn: 0.7835926\ttotal: 1m 12s\tremaining: 1m 17s\n",
      "58:\tlearn: 0.7842516\ttotal: 1m 13s\tremaining: 1m 15s\n",
      "59:\tlearn: 0.7842734\ttotal: 1m 14s\tremaining: 1m 14s\n",
      "60:\tlearn: 0.7862831\ttotal: 1m 15s\tremaining: 1m 13s\n",
      "61:\tlearn: 0.7872840\ttotal: 1m 17s\tremaining: 1m 12s\n",
      "62:\tlearn: 0.7875816\ttotal: 1m 18s\tremaining: 1m 10s\n",
      "63:\tlearn: 0.7881136\ttotal: 1m 19s\tremaining: 1m 9s\n",
      "64:\tlearn: 0.7886269\ttotal: 1m 20s\tremaining: 1m 8s\n",
      "65:\tlearn: 0.7898030\ttotal: 1m 22s\tremaining: 1m 7s\n",
      "66:\tlearn: 0.7905394\ttotal: 1m 23s\tremaining: 1m 5s\n",
      "67:\tlearn: 0.7917216\ttotal: 1m 24s\tremaining: 1m 4s\n",
      "68:\tlearn: 0.7924544\ttotal: 1m 25s\tremaining: 1m 3s\n",
      "69:\tlearn: 0.7924224\ttotal: 1m 26s\tremaining: 1m 2s\n",
      "70:\tlearn: 0.7929336\ttotal: 1m 28s\tremaining: 1m\n",
      "71:\tlearn: 0.7931034\ttotal: 1m 29s\tremaining: 59.5s\n",
      "72:\tlearn: 0.7933919\ttotal: 1m 30s\tremaining: 58.2s\n",
      "73:\tlearn: 0.7942051\ttotal: 1m 31s\tremaining: 57.1s\n",
      "74:\tlearn: 0.7953966\ttotal: 1m 33s\tremaining: 55.8s\n",
      "75:\tlearn: 0.7956697\ttotal: 1m 34s\tremaining: 54.6s\n",
      "76:\tlearn: 0.7959937\ttotal: 1m 35s\tremaining: 53.3s\n",
      "77:\tlearn: 0.7970308\ttotal: 1m 36s\tremaining: 52.1s\n",
      "78:\tlearn: 0.7974211\ttotal: 1m 37s\tremaining: 50.8s\n",
      "79:\tlearn: 0.7976594\ttotal: 1m 39s\tremaining: 49.5s\n",
      "80:\tlearn: 0.7980676\ttotal: 1m 40s\tremaining: 48.2s\n",
      "81:\tlearn: 0.7984240\ttotal: 1m 41s\tremaining: 47s\n",
      "82:\tlearn: 0.7992218\ttotal: 1m 42s\tremaining: 45.7s\n",
      "83:\tlearn: 0.7999662\ttotal: 1m 43s\tremaining: 44.5s\n",
      "84:\tlearn: 0.8005073\ttotal: 1m 44s\tremaining: 43.2s\n",
      "85:\tlearn: 0.8008285\ttotal: 1m 46s\tremaining: 42s\n",
      "86:\tlearn: 0.8012848\ttotal: 1m 47s\tremaining: 40.7s\n",
      "87:\tlearn: 0.8020609\ttotal: 1m 48s\tremaining: 39.4s\n",
      "88:\tlearn: 0.8023816\ttotal: 1m 49s\tremaining: 38.2s\n",
      "89:\tlearn: 0.8030898\ttotal: 1m 50s\tremaining: 37s\n",
      "90:\tlearn: 0.8039637\ttotal: 1m 52s\tremaining: 35.7s\n",
      "91:\tlearn: 0.8040646\ttotal: 1m 53s\tremaining: 34.5s\n",
      "92:\tlearn: 0.8043845\ttotal: 1m 54s\tremaining: 33.2s\n",
      "93:\tlearn: 0.8047382\ttotal: 1m 55s\tremaining: 32s\n",
      "94:\tlearn: 0.8052211\ttotal: 1m 56s\tremaining: 30.7s\n",
      "95:\tlearn: 0.8064503\ttotal: 1m 57s\tremaining: 29.5s\n",
      "96:\tlearn: 0.8076680\ttotal: 1m 59s\tremaining: 28.3s\n",
      "97:\tlearn: 0.8086737\ttotal: 2m\tremaining: 27.1s\n",
      "98:\tlearn: 0.8087901\ttotal: 2m 1s\tremaining: 25.9s\n",
      "99:\tlearn: 0.8091970\ttotal: 2m 3s\tremaining: 24.6s\n",
      "100:\tlearn: 0.8093654\ttotal: 2m 4s\tremaining: 23.4s\n",
      "101:\tlearn: 0.8102012\ttotal: 2m 5s\tremaining: 22.2s\n",
      "102:\tlearn: 0.8105786\ttotal: 2m 6s\tremaining: 20.9s\n",
      "103:\tlearn: 0.8108427\ttotal: 2m 8s\tremaining: 19.7s\n",
      "104:\tlearn: 0.8109928\ttotal: 2m 9s\tremaining: 18.5s\n",
      "105:\tlearn: 0.8113430\ttotal: 2m 10s\tremaining: 17.2s\n",
      "106:\tlearn: 0.8116588\ttotal: 2m 11s\tremaining: 16s\n",
      "107:\tlearn: 0.8120743\ttotal: 2m 12s\tremaining: 14.8s\n",
      "108:\tlearn: 0.8123240\ttotal: 2m 14s\tremaining: 13.5s\n",
      "109:\tlearn: 0.8126287\ttotal: 2m 15s\tremaining: 12.3s\n",
      "110:\tlearn: 0.8130963\ttotal: 2m 16s\tremaining: 11.1s\n",
      "111:\tlearn: 0.8133244\ttotal: 2m 17s\tremaining: 9.83s\n",
      "112:\tlearn: 0.8133473\ttotal: 2m 19s\tremaining: 8.61s\n",
      "113:\tlearn: 0.8138053\ttotal: 2m 20s\tremaining: 7.38s\n",
      "114:\tlearn: 0.8138735\ttotal: 2m 21s\tremaining: 6.15s\n",
      "115:\tlearn: 0.8141378\ttotal: 2m 22s\tremaining: 4.92s\n",
      "116:\tlearn: 0.8146875\ttotal: 2m 23s\tremaining: 3.69s\n",
      "117:\tlearn: 0.8148552\ttotal: 2m 24s\tremaining: 2.46s\n",
      "118:\tlearn: 0.8150880\ttotal: 2m 26s\tremaining: 1.23s\n",
      "119:\tlearn: 0.8154046\ttotal: 2m 27s\tremaining: 0us\n",
      "CPU times: user 22min 3s, sys: 8.61 s, total: 22min 12s\n",
      "Wall time: 22min 27s\n"
     ]
    }
   ],
   "source": [
    "%%time\n",
    "catboost_grid.fit(features_train_vectorized,target_train)\n",
    "# сохраним лучшую модель\n",
    "best_model_CB = catboost_grid.best_estimator_\n",
    "# сохраним лучшее значение метрики\n",
    "final_metrics_CB = best_model_CB.best_score_"
   ]
  },
  {
   "cell_type": "code",
   "execution_count": 34,
   "metadata": {},
   "outputs": [
    {
     "name": "stdout",
     "output_type": "stream",
     "text": [
      "Оптимальные гиперпараметры:\n",
      "{'learning_rate': 1, 'iterations': 120, 'depth': 5}\n",
      " f-1: {'learn': {'Logloss': 0.10568883029560532, 'F1': 0.8154046012655576}}\n"
     ]
    }
   ],
   "source": [
    "print(f'Оптимальные гиперпараметры:\\n{catboost_grid.best_params_}\\n f-1: {final_metrics_CB}')"
   ]
  },
  {
   "cell_type": "markdown",
   "metadata": {},
   "source": [
    "<div style=\"padding: 30px 25px; border: 3px #30D5C8 solid\">\n",
    "\n",
    "### вывод по главе \"обучение моделей\"\n",
    "- векторизировали данные\n",
    "- обучили 3 модели\n",
    "- выбрали лучшую\n",
    "---\n",
    "лучшая модель это catboost с параметрами и значением f1 на тренировочной выборке:\n",
    "    \n",
    "   - кол-во итераций: 120,\n",
    "   - скорость обучения: 1\n",
    "   - глубина: 7\n",
    "   - F1: 81%"
   ]
  },
  {
   "cell_type": "markdown",
   "metadata": {},
   "source": [
    "## тест лучшей модели"
   ]
  },
  {
   "cell_type": "code",
   "execution_count": 44,
   "metadata": {},
   "outputs": [
    {
     "name": "stdout",
     "output_type": "stream",
     "text": [
      "0.7643397813288477\n"
     ]
    }
   ],
   "source": [
    "pred=best_model_CB.predict(features_test_vectorized)\n",
    "print(f1_score(target_test,pred))"
   ]
  },
  {
   "cell_type": "code",
   "execution_count": 107,
   "metadata": {},
   "outputs": [
    {
     "data": {
      "image/png": "[encoded data removed]",
      "text/plain": [
       "<Figure size 2880x1440 with 1 Axes>"
      ]
     },
     "metadata": {
      "needs_background": "light"
     },
     "output_type": "display_data"
    }
   ],
   "source": [
    "plt.figure(figsize=(40, 20))\n",
    "\n",
    "bx=sns.countplot(pred, color='red',)\n",
    "bx.set(xlabel='токсичность комментария',\n",
    "       ylabel='количество');\n",
    "\n",
    "ax=sns.countplot(target_test,color='black',alpha=0.5)\n",
    "ax.set(label = 'истинные',\n",
    "        xlabel='токсичность комментария',\n",
    "        ylabel='количество',\n",
    "         title='разница медлу истиными и предсказанными данными');"
   ]
  },
  {
   "cell_type": "markdown",
   "metadata": {},
   "source": [
    "<div style=\"padding: 30px 25px; border: 3px #30D5C8 solid\">\n",
    "\n",
    "### вывод по главе \"тест лучшей модели\"\n",
    "    - протестировали лучшую модели и получили значение F1: 76%\n",
    "    - визуализировали различия между предсказаниями и реальным данными"
   ]
  },
  {
   "cell_type": "markdown",
   "metadata": {},
   "source": [
    "<div style=\"padding: 30px 25px; border: 3px red solid\">\n",
    "    \n",
    "## Выводы\n",
    "- загрузили и обработали данные используя spacy,puncuation,stop_words\n",
    "- векторезировали комментарии с помощью tf-idf \n",
    "- на векорезированных данных обучили 3 модели, выбрали и протестировали лучшую \n",
    "   - получили значение метрики f1 на тестовой выборке в 76%, что по условиям проекта достаточно\n",
    "    \n",
    "- постоили график расхождения предсказаний модели относительно реальных данных"
   ]
  }
 ],
 "metadata": {
  "ExecuteTimeLog": [
   {
    "duration": 469,
    "start_time": "2023-10-23T03:05:49.873Z"
   },
   {
    "duration": 123,
    "start_time": "2023-10-23T03:06:02.087Z"
   },
   {
    "duration": 3535,
    "start_time": "2023-10-23T03:06:26.929Z"
   },
   {
    "duration": 9465,
    "start_time": "2023-10-23T03:09:59.399Z"
   },
   {
    "duration": 499,
    "start_time": "2023-10-23T03:10:10.883Z"
   },
   {
    "duration": 1002,
    "start_time": "2023-10-23T03:19:38.629Z"
   },
   {
    "duration": 5,
    "start_time": "2023-10-23T03:19:39.637Z"
   },
   {
    "duration": 382,
    "start_time": "2023-10-23T03:19:54.578Z"
   },
   {
    "duration": 4,
    "start_time": "2023-10-23T03:21:29.735Z"
   },
   {
    "duration": 344,
    "start_time": "2023-10-23T03:21:32.204Z"
   },
   {
    "duration": 4,
    "start_time": "2023-10-23T03:23:33.577Z"
   },
   {
    "duration": 314,
    "start_time": "2023-10-23T03:23:33.859Z"
   },
   {
    "duration": 13,
    "start_time": "2023-10-23T03:23:54.307Z"
   },
   {
    "duration": 316,
    "start_time": "2023-10-23T03:23:56.031Z"
   },
   {
    "duration": 5,
    "start_time": "2023-10-23T03:24:07.623Z"
   },
   {
    "duration": 311,
    "start_time": "2023-10-23T03:24:33.975Z"
   },
   {
    "duration": 10,
    "start_time": "2023-10-23T03:27:32.347Z"
   },
   {
    "duration": 43,
    "start_time": "2023-10-23T03:27:47.586Z"
   },
   {
    "duration": 10,
    "start_time": "2023-10-23T03:29:10.154Z"
   },
   {
    "duration": 4159,
    "start_time": "2023-10-23T03:29:53.419Z"
   },
   {
    "duration": 533,
    "start_time": "2023-10-23T03:29:58.845Z"
   },
   {
    "duration": 95,
    "start_time": "2023-10-23T03:31:22.880Z"
   },
   {
    "duration": 123,
    "start_time": "2023-10-23T03:31:57.031Z"
   },
   {
    "duration": 2384,
    "start_time": "2023-10-23T03:32:04.645Z"
   },
   {
    "duration": 2260,
    "start_time": "2023-10-23T03:32:25.831Z"
   },
   {
    "duration": 150,
    "start_time": "2023-10-23T03:34:00.483Z"
   },
   {
    "duration": 7571,
    "start_time": "2023-10-24T03:07:32.662Z"
   },
   {
    "duration": 7418,
    "start_time": "2023-10-24T03:07:40.235Z"
   },
   {
    "duration": 4481,
    "start_time": "2023-10-24T03:07:47.655Z"
   },
   {
    "duration": 2158,
    "start_time": "2023-10-24T03:07:55.995Z"
   },
   {
    "duration": 3,
    "start_time": "2023-10-24T03:07:58.155Z"
   },
   {
    "duration": 311,
    "start_time": "2023-10-24T03:07:58.159Z"
   },
   {
    "duration": 9,
    "start_time": "2023-10-24T03:07:58.472Z"
   },
   {
    "duration": 35,
    "start_time": "2023-10-24T03:07:58.482Z"
   },
   {
    "duration": 1634,
    "start_time": "2023-10-24T03:08:10.833Z"
   },
   {
    "duration": 1062,
    "start_time": "2023-10-24T03:09:57.035Z"
   },
   {
    "duration": 60,
    "start_time": "2023-10-24T03:10:23.624Z"
   },
   {
    "duration": 1135,
    "start_time": "2023-10-24T03:10:28.543Z"
   },
   {
    "duration": 1082,
    "start_time": "2023-10-24T03:10:40.289Z"
   },
   {
    "duration": 3,
    "start_time": "2023-10-24T03:11:51.054Z"
   },
   {
    "duration": 3,
    "start_time": "2023-10-24T03:12:18.708Z"
   },
   {
    "duration": 4,
    "start_time": "2023-10-24T03:13:46.476Z"
   },
   {
    "duration": 2,
    "start_time": "2023-10-24T03:13:47.226Z"
   },
   {
    "duration": 3,
    "start_time": "2023-10-24T03:14:19.928Z"
   },
   {
    "duration": 2,
    "start_time": "2023-10-24T03:14:20.000Z"
   },
   {
    "duration": 13,
    "start_time": "2023-10-24T03:15:28.240Z"
   },
   {
    "duration": 659,
    "start_time": "2023-10-24T03:16:05.729Z"
   },
   {
    "duration": 171,
    "start_time": "2023-10-24T03:16:11.767Z"
   },
   {
    "duration": 162,
    "start_time": "2023-10-24T03:16:22.868Z"
   },
   {
    "duration": 156,
    "start_time": "2023-10-24T03:16:27.380Z"
   },
   {
    "duration": 167,
    "start_time": "2023-10-24T03:16:33.528Z"
   },
   {
    "duration": 163,
    "start_time": "2023-10-24T03:16:44.000Z"
   },
   {
    "duration": 5,
    "start_time": "2023-10-24T03:18:20.643Z"
   },
   {
    "duration": 8300,
    "start_time": "2023-10-25T00:02:04.315Z"
   },
   {
    "duration": 9610,
    "start_time": "2023-10-25T00:02:12.617Z"
   },
   {
    "duration": 6728,
    "start_time": "2023-10-25T00:02:22.230Z"
   },
   {
    "duration": 2533,
    "start_time": "2023-10-25T00:02:28.961Z"
   },
   {
    "duration": 4,
    "start_time": "2023-10-25T00:02:31.498Z"
   },
   {
    "duration": 404,
    "start_time": "2023-10-25T00:02:31.505Z"
   },
   {
    "duration": 15,
    "start_time": "2023-10-25T00:02:31.911Z"
   },
   {
    "duration": 69,
    "start_time": "2023-10-25T00:02:31.928Z"
   },
   {
    "duration": 267,
    "start_time": "2023-10-25T00:02:31.999Z"
   },
   {
    "duration": 2744,
    "start_time": "2023-10-25T00:02:32.272Z"
   },
   {
    "duration": 4,
    "start_time": "2023-10-25T00:02:35.018Z"
   },
   {
    "duration": 68,
    "start_time": "2023-10-25T00:02:35.024Z"
   },
   {
    "duration": 536,
    "start_time": "2023-10-25T00:02:35.094Z"
   },
   {
    "duration": 3,
    "start_time": "2023-10-25T00:03:21.907Z"
   },
   {
    "duration": 56,
    "start_time": "2023-10-25T00:08:15.405Z"
   },
   {
    "duration": 27,
    "start_time": "2023-10-25T00:54:34.532Z"
   },
   {
    "duration": 23,
    "start_time": "2023-10-25T00:54:53.144Z"
   },
   {
    "duration": 65,
    "start_time": "2023-10-25T00:55:17.845Z"
   },
   {
    "duration": 4,
    "start_time": "2023-10-25T00:55:21.764Z"
   },
   {
    "duration": 125,
    "start_time": "2023-10-25T00:55:26.070Z"
   },
   {
    "duration": 5,
    "start_time": "2023-10-25T00:55:41.396Z"
   },
   {
    "duration": 139,
    "start_time": "2023-10-25T00:55:41.876Z"
   },
   {
    "duration": 5,
    "start_time": "2023-10-25T00:55:51.250Z"
   },
   {
    "duration": 1558,
    "start_time": "2023-10-25T00:55:51.731Z"
   },
   {
    "duration": 21,
    "start_time": "2023-10-25T00:56:16.683Z"
   },
   {
    "duration": 26,
    "start_time": "2023-10-25T01:00:08.143Z"
   },
   {
    "duration": 32,
    "start_time": "2023-10-25T01:00:19.091Z"
   },
   {
    "duration": 27,
    "start_time": "2023-10-25T01:00:59.119Z"
   },
   {
    "duration": 32,
    "start_time": "2023-10-25T01:01:59.793Z"
   },
   {
    "duration": 1081,
    "start_time": "2023-10-25T01:02:16.597Z"
   },
   {
    "duration": 24,
    "start_time": "2023-10-25T01:02:24.436Z"
   },
   {
    "duration": 67,
    "start_time": "2023-10-25T01:05:52.734Z"
   },
   {
    "duration": 3,
    "start_time": "2023-10-25T01:15:53.950Z"
   },
   {
    "duration": 3,
    "start_time": "2023-10-25T01:15:54.887Z"
   },
   {
    "duration": 3,
    "start_time": "2023-10-25T01:15:55.388Z"
   },
   {
    "duration": 53,
    "start_time": "2023-10-25T01:15:55.948Z"
   },
   {
    "duration": 59,
    "start_time": "2023-10-25T01:15:56.949Z"
   },
   {
    "duration": 4,
    "start_time": "2023-10-25T01:15:58.038Z"
   },
   {
    "duration": 4,
    "start_time": "2023-10-25T01:16:27.780Z"
   },
   {
    "duration": 3,
    "start_time": "2023-10-25T01:16:28.069Z"
   },
   {
    "duration": 3,
    "start_time": "2023-10-25T01:16:28.559Z"
   },
   {
    "duration": 54,
    "start_time": "2023-10-25T01:16:28.970Z"
   },
   {
    "duration": 62,
    "start_time": "2023-10-25T01:16:29.610Z"
   },
   {
    "duration": 3,
    "start_time": "2023-10-25T01:16:40.460Z"
   },
   {
    "duration": 3,
    "start_time": "2023-10-25T01:16:41.508Z"
   },
   {
    "duration": 3,
    "start_time": "2023-10-25T01:16:42.308Z"
   },
   {
    "duration": 53,
    "start_time": "2023-10-25T01:16:43.268Z"
   },
   {
    "duration": 67,
    "start_time": "2023-10-25T01:16:44.148Z"
   },
   {
    "duration": 4,
    "start_time": "2023-10-25T01:20:13.568Z"
   },
   {
    "duration": 3,
    "start_time": "2023-10-25T01:20:14.348Z"
   },
   {
    "duration": 3,
    "start_time": "2023-10-25T01:20:14.968Z"
   },
   {
    "duration": 55,
    "start_time": "2023-10-25T01:20:15.496Z"
   },
   {
    "duration": 73,
    "start_time": "2023-10-25T01:20:16.608Z"
   },
   {
    "duration": 1581,
    "start_time": "2023-10-25T01:22:36.607Z"
   },
   {
    "duration": 3,
    "start_time": "2023-10-25T01:22:38.190Z"
   },
   {
    "duration": 3,
    "start_time": "2023-10-25T01:22:40.360Z"
   },
   {
    "duration": 2,
    "start_time": "2023-10-25T01:22:40.968Z"
   },
   {
    "duration": 64,
    "start_time": "2023-10-25T01:22:43.408Z"
   },
   {
    "duration": 26312,
    "start_time": "2023-10-25T01:22:44.360Z"
   },
   {
    "duration": 0,
    "start_time": "2023-10-25T01:23:10.674Z"
   },
   {
    "duration": 42650,
    "start_time": "2023-10-25T01:23:48.468Z"
   },
   {
    "duration": 7760,
    "start_time": "2023-10-26T08:34:19.312Z"
   },
   {
    "duration": 9004,
    "start_time": "2023-10-26T08:34:27.074Z"
   },
   {
    "duration": 6784,
    "start_time": "2023-10-26T08:34:36.079Z"
   },
   {
    "duration": 3205,
    "start_time": "2023-10-26T08:34:42.865Z"
   },
   {
    "duration": 4,
    "start_time": "2023-10-26T08:34:46.071Z"
   },
   {
    "duration": 344,
    "start_time": "2023-10-26T08:34:46.077Z"
   },
   {
    "duration": 21,
    "start_time": "2023-10-26T08:34:46.423Z"
   },
   {
    "duration": 30,
    "start_time": "2023-10-26T08:34:46.446Z"
   },
   {
    "duration": 235,
    "start_time": "2023-10-26T08:34:46.478Z"
   },
   {
    "duration": 1351,
    "start_time": "2023-10-26T08:34:46.717Z"
   },
   {
    "duration": 3,
    "start_time": "2023-10-26T08:34:48.070Z"
   },
   {
    "duration": 18,
    "start_time": "2023-10-26T08:34:48.075Z"
   },
   {
    "duration": 32,
    "start_time": "2023-10-26T08:34:48.095Z"
   },
   {
    "duration": 71,
    "start_time": "2023-10-26T08:34:48.129Z"
   },
   {
    "duration": 2500436,
    "start_time": "2023-10-26T08:34:48.202Z"
   },
   {
    "duration": 12,
    "start_time": "2023-10-26T09:16:28.644Z"
   },
   {
    "duration": 1099,
    "start_time": "2023-10-26T09:16:28.667Z"
   },
   {
    "duration": 19,
    "start_time": "2023-10-26T09:16:29.769Z"
   },
   {
    "duration": 0,
    "start_time": "2023-10-26T09:16:29.789Z"
   },
   {
    "duration": 0,
    "start_time": "2023-10-26T09:16:29.791Z"
   },
   {
    "duration": 0,
    "start_time": "2023-10-26T09:16:29.791Z"
   },
   {
    "duration": 0,
    "start_time": "2023-10-26T09:16:29.792Z"
   },
   {
    "duration": 0,
    "start_time": "2023-10-26T09:16:29.794Z"
   },
   {
    "duration": 0,
    "start_time": "2023-10-26T09:16:29.795Z"
   },
   {
    "duration": 0,
    "start_time": "2023-10-26T09:16:29.796Z"
   },
   {
    "duration": 0,
    "start_time": "2023-10-26T09:16:29.797Z"
   },
   {
    "duration": 7953,
    "start_time": "2023-11-03T03:52:56.244Z"
   },
   {
    "duration": 10661,
    "start_time": "2023-11-03T03:53:04.199Z"
   },
   {
    "duration": 5788,
    "start_time": "2023-11-03T03:53:14.861Z"
   },
   {
    "duration": 2609,
    "start_time": "2023-11-03T03:53:20.651Z"
   },
   {
    "duration": 3,
    "start_time": "2023-11-03T03:53:23.263Z"
   },
   {
    "duration": 335,
    "start_time": "2023-11-03T03:53:23.267Z"
   },
   {
    "duration": 20,
    "start_time": "2023-11-03T03:53:23.604Z"
   },
   {
    "duration": 32,
    "start_time": "2023-11-03T03:53:23.626Z"
   },
   {
    "duration": 240,
    "start_time": "2023-11-03T03:53:23.659Z"
   },
   {
    "duration": 1497,
    "start_time": "2023-11-03T03:53:23.902Z"
   },
   {
    "duration": 13,
    "start_time": "2023-11-03T03:53:25.402Z"
   },
   {
    "duration": 17,
    "start_time": "2023-11-03T03:53:25.417Z"
   },
   {
    "duration": 28,
    "start_time": "2023-11-03T03:53:25.436Z"
   },
   {
    "duration": 79,
    "start_time": "2023-11-03T03:53:25.466Z"
   },
   {
    "duration": 2727159,
    "start_time": "2023-11-03T03:53:25.548Z"
   },
   {
    "duration": 8,
    "start_time": "2023-11-03T04:38:52.709Z"
   },
   {
    "duration": 468638,
    "start_time": "2023-11-03T04:38:52.719Z"
   },
   {
    "duration": 3,
    "start_time": "2023-11-03T04:46:41.358Z"
   },
   {
    "duration": 394,
    "start_time": "2023-11-03T04:46:41.363Z"
   },
   {
    "duration": 0,
    "start_time": "2023-11-03T04:46:41.758Z"
   },
   {
    "duration": 0,
    "start_time": "2023-11-03T04:46:41.759Z"
   },
   {
    "duration": 0,
    "start_time": "2023-11-03T04:46:41.761Z"
   },
   {
    "duration": 0,
    "start_time": "2023-11-03T04:46:41.762Z"
   },
   {
    "duration": 0,
    "start_time": "2023-11-03T04:46:41.763Z"
   },
   {
    "duration": 0,
    "start_time": "2023-11-03T04:46:41.764Z"
   },
   {
    "duration": 0,
    "start_time": "2023-11-03T04:46:41.765Z"
   },
   {
    "duration": 73,
    "start_time": "2023-11-03T04:49:32.169Z"
   },
   {
    "duration": 10,
    "start_time": "2023-11-03T04:50:19.601Z"
   },
   {
    "duration": 5,
    "start_time": "2023-11-03T04:50:24.686Z"
   },
   {
    "duration": 39820,
    "start_time": "2023-11-03T04:50:25.496Z"
   },
   {
    "duration": 3,
    "start_time": "2023-11-03T04:51:05.321Z"
   },
   {
    "duration": 37,
    "start_time": "2023-11-03T04:51:05.326Z"
   },
   {
    "duration": 0,
    "start_time": "2023-11-03T04:51:05.365Z"
   },
   {
    "duration": 0,
    "start_time": "2023-11-03T04:51:05.366Z"
   },
   {
    "duration": 0,
    "start_time": "2023-11-03T04:51:05.367Z"
   },
   {
    "duration": 0,
    "start_time": "2023-11-03T04:51:05.369Z"
   },
   {
    "duration": 25,
    "start_time": "2023-11-03T04:51:43.602Z"
   },
   {
    "duration": 19,
    "start_time": "2023-11-03T04:54:22.323Z"
   },
   {
    "duration": 25,
    "start_time": "2023-11-03T04:54:35.683Z"
   },
   {
    "duration": 98,
    "start_time": "2023-11-03T04:54:46.803Z"
   },
   {
    "duration": 3,
    "start_time": "2023-11-03T04:55:21.141Z"
   },
   {
    "duration": 111,
    "start_time": "2023-11-03T04:55:21.875Z"
   },
   {
    "duration": 4,
    "start_time": "2023-11-03T04:55:33.978Z"
   },
   {
    "duration": 134,
    "start_time": "2023-11-03T04:55:34.634Z"
   },
   {
    "duration": 3,
    "start_time": "2023-11-03T04:55:57.883Z"
   },
   {
    "duration": 131,
    "start_time": "2023-11-03T04:55:58.391Z"
   },
   {
    "duration": 7,
    "start_time": "2023-11-03T04:56:15.397Z"
   },
   {
    "duration": 133,
    "start_time": "2023-11-03T04:56:16.301Z"
   },
   {
    "duration": 5,
    "start_time": "2023-11-03T04:56:30.900Z"
   },
   {
    "duration": 196,
    "start_time": "2023-11-03T04:56:31.339Z"
   },
   {
    "duration": 5,
    "start_time": "2023-11-03T04:59:06.010Z"
   },
   {
    "duration": 6841,
    "start_time": "2023-11-03T04:59:06.829Z"
   },
   {
    "duration": 5,
    "start_time": "2023-11-03T04:59:14.988Z"
   },
   {
    "duration": 122,
    "start_time": "2023-11-03T04:59:15.431Z"
   },
   {
    "duration": 5,
    "start_time": "2023-11-03T04:59:21.060Z"
   },
   {
    "duration": 35864,
    "start_time": "2023-11-03T04:59:21.563Z"
   },
   {
    "duration": 20,
    "start_time": "2023-11-03T04:59:57.429Z"
   },
   {
    "duration": 0,
    "start_time": "2023-11-03T04:59:57.451Z"
   },
   {
    "duration": 4,
    "start_time": "2023-11-03T05:00:17.939Z"
   },
   {
    "duration": 469060,
    "start_time": "2023-11-03T05:00:18.294Z"
   },
   {
    "duration": 3,
    "start_time": "2023-11-03T05:08:07.357Z"
   },
   {
    "duration": 74,
    "start_time": "2023-11-03T05:08:07.362Z"
   },
   {
    "duration": 0,
    "start_time": "2023-11-03T05:08:07.438Z"
   },
   {
    "duration": 195,
    "start_time": "2023-11-03T05:32:01.679Z"
   },
   {
    "duration": 19,
    "start_time": "2023-11-03T05:32:22.115Z"
   },
   {
    "duration": 21,
    "start_time": "2023-11-03T05:32:32.716Z"
   },
   {
    "duration": 22,
    "start_time": "2023-11-03T05:36:05.975Z"
   },
   {
    "duration": 9,
    "start_time": "2023-11-03T05:36:20.416Z"
   },
   {
    "duration": 691,
    "start_time": "2023-11-03T05:36:28.433Z"
   },
   {
    "duration": 635,
    "start_time": "2023-11-03T05:37:19.393Z"
   },
   {
    "duration": 4,
    "start_time": "2023-11-03T05:37:26.320Z"
   },
   {
    "duration": 38875,
    "start_time": "2023-11-03T05:37:27.088Z"
   },
   {
    "duration": 4,
    "start_time": "2023-11-03T05:38:05.965Z"
   },
   {
    "duration": 69,
    "start_time": "2023-11-03T05:38:05.971Z"
   },
   {
    "duration": 4,
    "start_time": "2023-11-03T05:41:42.443Z"
   },
   {
    "duration": 4,
    "start_time": "2023-11-03T05:41:42.945Z"
   },
   {
    "duration": 5,
    "start_time": "2023-11-03T05:41:43.697Z"
   },
   {
    "duration": 3,
    "start_time": "2023-11-03T05:41:44.681Z"
   },
   {
    "duration": 98074,
    "start_time": "2023-11-03T05:41:45.218Z"
   },
   {
    "duration": 141,
    "start_time": "2023-11-03T05:43:29.518Z"
   },
   {
    "duration": 103,
    "start_time": "2023-11-03T05:44:06.550Z"
   },
   {
    "duration": 13444358,
    "start_time": "2023-11-03T05:44:13.981Z"
   },
   {
    "duration": 4,
    "start_time": "2023-11-03T09:28:18.341Z"
   },
   {
    "duration": 118,
    "start_time": "2023-11-03T09:28:18.349Z"
   },
   {
    "duration": 595,
    "start_time": "2023-11-03T09:33:00.519Z"
   },
   {
    "duration": 4,
    "start_time": "2023-11-03T09:33:02.511Z"
   },
   {
    "duration": 68863,
    "start_time": "2023-11-03T09:33:03.335Z"
   },
   {
    "duration": 3,
    "start_time": "2023-11-03T09:34:12.202Z"
   },
   {
    "duration": 62,
    "start_time": "2023-11-03T09:34:12.206Z"
   },
   {
    "duration": 5,
    "start_time": "2023-11-03T09:36:34.223Z"
   },
   {
    "duration": 513271,
    "start_time": "2023-11-03T09:36:35.556Z"
   },
   {
    "duration": 3,
    "start_time": "2023-11-03T09:45:08.830Z"
   },
   {
    "duration": 155,
    "start_time": "2023-11-03T09:45:08.834Z"
   },
   {
    "duration": 3051,
    "start_time": "2023-11-05T03:50:44.951Z"
   },
   {
    "duration": 3776,
    "start_time": "2023-11-05T03:50:53.592Z"
   },
   {
    "duration": 8911,
    "start_time": "2023-11-05T03:50:59.120Z"
   },
   {
    "duration": 3376,
    "start_time": "2023-11-05T03:51:08.033Z"
   },
   {
    "duration": 2339,
    "start_time": "2023-11-05T03:51:17.039Z"
   },
   {
    "duration": 3,
    "start_time": "2023-11-05T03:51:19.380Z"
   },
   {
    "duration": 295,
    "start_time": "2023-11-05T03:51:22.172Z"
   },
   {
    "duration": 5,
    "start_time": "2023-11-05T03:51:50.600Z"
   },
   {
    "duration": 274,
    "start_time": "2023-11-05T03:51:52.294Z"
   },
   {
    "duration": 4,
    "start_time": "2023-11-05T03:52:09.495Z"
   },
   {
    "duration": 259,
    "start_time": "2023-11-05T03:52:12.479Z"
   },
   {
    "duration": 101,
    "start_time": "2023-11-05T03:52:43.447Z"
   },
   {
    "duration": 114,
    "start_time": "2023-11-05T03:52:53.751Z"
   },
   {
    "duration": 83,
    "start_time": "2023-11-05T03:53:01.873Z"
   },
   {
    "duration": 82,
    "start_time": "2023-11-05T03:53:10.152Z"
   },
   {
    "duration": 4,
    "start_time": "2023-11-05T03:53:13.143Z"
   },
   {
    "duration": 247,
    "start_time": "2023-11-05T03:53:15.176Z"
   },
   {
    "duration": 254,
    "start_time": "2023-11-05T03:53:22.279Z"
   },
   {
    "duration": 91,
    "start_time": "2023-11-05T03:54:21.104Z"
   },
   {
    "duration": 4,
    "start_time": "2023-11-05T03:54:33.513Z"
   },
   {
    "duration": 262,
    "start_time": "2023-11-05T03:54:35.200Z"
   },
   {
    "duration": 10,
    "start_time": "2023-11-05T03:57:47.513Z"
   },
   {
    "duration": 30,
    "start_time": "2023-11-05T03:57:47.969Z"
   },
   {
    "duration": 204,
    "start_time": "2023-11-05T03:57:48.472Z"
   },
   {
    "duration": 1219,
    "start_time": "2023-11-05T03:59:23.417Z"
   },
   {
    "duration": 1169,
    "start_time": "2023-11-05T03:59:42.473Z"
   },
   {
    "duration": 254,
    "start_time": "2023-11-05T04:00:09.625Z"
   },
   {
    "duration": 23,
    "start_time": "2023-11-05T04:01:15.080Z"
   },
   {
    "duration": 21,
    "start_time": "2023-11-05T04:01:22.937Z"
   },
   {
    "duration": 23,
    "start_time": "2023-11-05T04:01:36.089Z"
   },
   {
    "duration": 19,
    "start_time": "2023-11-05T04:01:42.817Z"
   },
   {
    "duration": 1151,
    "start_time": "2023-11-05T04:01:49.025Z"
   },
   {
    "duration": 101,
    "start_time": "2023-11-05T04:02:51.633Z"
   },
   {
    "duration": 133,
    "start_time": "2023-11-05T04:12:43.696Z"
   },
   {
    "duration": 18,
    "start_time": "2023-11-05T04:12:51.625Z"
   },
   {
    "duration": 103,
    "start_time": "2023-11-05T04:13:06.552Z"
   },
   {
    "duration": 21,
    "start_time": "2023-11-05T04:13:19.304Z"
   },
   {
    "duration": 17,
    "start_time": "2023-11-05T04:13:58.729Z"
   },
   {
    "duration": 23,
    "start_time": "2023-11-05T04:14:14.687Z"
   },
   {
    "duration": 19,
    "start_time": "2023-11-05T04:14:24.070Z"
   },
   {
    "duration": 19,
    "start_time": "2023-11-05T04:14:32.975Z"
   },
   {
    "duration": 17,
    "start_time": "2023-11-05T04:15:03.417Z"
   },
   {
    "duration": 20,
    "start_time": "2023-11-05T04:15:15.113Z"
   },
   {
    "duration": 19,
    "start_time": "2023-11-05T04:15:49.265Z"
   },
   {
    "duration": 6,
    "start_time": "2023-11-05T04:17:59.011Z"
   },
   {
    "duration": 101,
    "start_time": "2023-11-05T04:18:07.506Z"
   },
   {
    "duration": 111,
    "start_time": "2023-11-05T04:18:16.340Z"
   },
   {
    "duration": 115,
    "start_time": "2023-11-05T04:18:59.178Z"
   },
   {
    "duration": 323,
    "start_time": "2023-11-05T04:19:09.906Z"
   },
   {
    "duration": 110,
    "start_time": "2023-11-05T04:19:33.482Z"
   },
   {
    "duration": 98,
    "start_time": "2023-11-05T04:19:39.386Z"
   },
   {
    "duration": 115,
    "start_time": "2023-11-05T04:35:28.244Z"
   },
   {
    "duration": 101,
    "start_time": "2023-11-05T04:35:39.089Z"
   },
   {
    "duration": 112,
    "start_time": "2023-11-05T04:35:45.899Z"
   },
   {
    "duration": 105,
    "start_time": "2023-11-05T04:35:52.146Z"
   },
   {
    "duration": 109,
    "start_time": "2023-11-05T04:35:56.530Z"
   },
   {
    "duration": 125,
    "start_time": "2023-11-05T04:36:06.362Z"
   },
   {
    "duration": 411,
    "start_time": "2023-11-05T04:36:13.386Z"
   },
   {
    "duration": 120,
    "start_time": "2023-11-05T04:36:22.338Z"
   },
   {
    "duration": 147,
    "start_time": "2023-11-05T04:36:37.811Z"
   },
   {
    "duration": 125,
    "start_time": "2023-11-05T04:39:44.014Z"
   },
   {
    "duration": 134,
    "start_time": "2023-11-05T04:39:48.901Z"
   },
   {
    "duration": 86,
    "start_time": "2023-11-05T04:39:56.165Z"
   },
   {
    "duration": 78,
    "start_time": "2023-11-05T04:40:09.316Z"
   },
   {
    "duration": 79,
    "start_time": "2023-11-05T04:40:17.397Z"
   },
   {
    "duration": 122,
    "start_time": "2023-11-05T04:40:26.236Z"
   },
   {
    "duration": 117,
    "start_time": "2023-11-05T04:40:57.182Z"
   },
   {
    "duration": 73,
    "start_time": "2023-11-05T04:42:06.926Z"
   },
   {
    "duration": 136,
    "start_time": "2023-11-05T04:42:12.029Z"
   },
   {
    "duration": 32,
    "start_time": "2023-11-05T04:46:38.761Z"
   },
   {
    "duration": 109,
    "start_time": "2023-11-05T04:46:46.938Z"
   },
   {
    "duration": 112,
    "start_time": "2023-11-05T04:48:19.890Z"
   },
   {
    "duration": 109,
    "start_time": "2023-11-05T04:49:07.994Z"
   },
   {
    "duration": 8520,
    "start_time": "2023-11-05T04:58:29.998Z"
   },
   {
    "duration": 216,
    "start_time": "2023-11-05T04:58:41.801Z"
   },
   {
    "duration": 628,
    "start_time": "2023-11-05T04:58:51.329Z"
   },
   {
    "duration": 470,
    "start_time": "2023-11-05T04:58:59.857Z"
   },
   {
    "duration": 7,
    "start_time": "2023-11-05T05:15:31.823Z"
   },
   {
    "duration": 3,
    "start_time": "2023-11-05T05:21:18.971Z"
   },
   {
    "duration": 3,
    "start_time": "2023-11-05T05:21:26.249Z"
   },
   {
    "duration": 3,
    "start_time": "2023-11-05T05:27:21.062Z"
   },
   {
    "duration": 54,
    "start_time": "2023-11-05T05:27:21.383Z"
   },
   {
    "duration": 86,
    "start_time": "2023-11-05T05:48:49.127Z"
   },
   {
    "duration": 88,
    "start_time": "2023-11-05T05:49:00.908Z"
   },
   {
    "duration": 21,
    "start_time": "2023-11-05T05:49:36.825Z"
   },
   {
    "duration": 703,
    "start_time": "2023-11-05T05:49:50.353Z"
   },
   {
    "duration": 5,
    "start_time": "2023-11-05T05:49:52.193Z"
   },
   {
    "duration": 4,
    "start_time": "2023-11-05T05:49:53.752Z"
   },
   {
    "duration": 3,
    "start_time": "2023-11-05T05:49:57.968Z"
   },
   {
    "duration": 34,
    "start_time": "2023-11-05T05:49:58.352Z"
   },
   {
    "duration": 22,
    "start_time": "2023-11-05T05:50:03.768Z"
   },
   {
    "duration": 21,
    "start_time": "2023-11-05T05:50:40.640Z"
   },
   {
    "duration": 3,
    "start_time": "2023-11-05T05:51:16.519Z"
   },
   {
    "duration": 28,
    "start_time": "2023-11-05T05:51:26.219Z"
   },
   {
    "duration": 126,
    "start_time": "2023-11-05T05:51:28.978Z"
   },
   {
    "duration": 6,
    "start_time": "2023-11-05T05:51:42.946Z"
   },
   {
    "duration": 876,
    "start_time": "2023-11-05T05:51:43.722Z"
   },
   {
    "duration": 5,
    "start_time": "2023-11-05T05:51:44.601Z"
   },
   {
    "duration": 323,
    "start_time": "2023-11-05T05:51:44.627Z"
   },
   {
    "duration": 13,
    "start_time": "2023-11-05T05:51:44.952Z"
   },
   {
    "duration": 31,
    "start_time": "2023-11-05T05:51:45.193Z"
   },
   {
    "duration": 110,
    "start_time": "2023-11-05T05:51:45.386Z"
   },
   {
    "duration": 701,
    "start_time": "2023-11-05T05:51:47.329Z"
   },
   {
    "duration": 4,
    "start_time": "2023-11-05T05:51:48.506Z"
   },
   {
    "duration": 3,
    "start_time": "2023-11-05T05:51:50.025Z"
   },
   {
    "duration": 5,
    "start_time": "2023-11-05T05:51:52.471Z"
   },
   {
    "duration": 42,
    "start_time": "2023-11-05T05:51:52.666Z"
   },
   {
    "duration": 120,
    "start_time": "2023-11-05T05:51:54.690Z"
   },
   {
    "duration": 3,
    "start_time": "2023-11-05T05:53:43.876Z"
   },
   {
    "duration": 3,
    "start_time": "2023-11-05T05:53:45.043Z"
   },
   {
    "duration": 2,
    "start_time": "2023-11-05T05:53:46.675Z"
   },
   {
    "duration": 31,
    "start_time": "2023-11-05T05:53:47.035Z"
   },
   {
    "duration": 105,
    "start_time": "2023-11-05T05:53:48.826Z"
   },
   {
    "duration": 21,
    "start_time": "2023-11-05T05:53:52.442Z"
   },
   {
    "duration": 440,
    "start_time": "2023-11-05T05:54:32.571Z"
   },
   {
    "duration": 4,
    "start_time": "2023-11-05T05:54:34.259Z"
   },
   {
    "duration": 120,
    "start_time": "2023-11-05T05:54:43.775Z"
   },
   {
    "duration": 9812,
    "start_time": "2023-11-06T03:00:32.613Z"
   },
   {
    "duration": 5171,
    "start_time": "2023-11-06T03:00:42.428Z"
   },
   {
    "duration": 0,
    "start_time": "2023-11-06T03:00:47.601Z"
   },
   {
    "duration": 0,
    "start_time": "2023-11-06T03:00:47.603Z"
   },
   {
    "duration": 0,
    "start_time": "2023-11-06T03:00:47.604Z"
   },
   {
    "duration": 0,
    "start_time": "2023-11-06T03:00:47.605Z"
   },
   {
    "duration": 0,
    "start_time": "2023-11-06T03:00:47.607Z"
   },
   {
    "duration": 0,
    "start_time": "2023-11-06T03:00:47.608Z"
   },
   {
    "duration": 0,
    "start_time": "2023-11-06T03:00:47.609Z"
   },
   {
    "duration": 0,
    "start_time": "2023-11-06T03:00:47.610Z"
   },
   {
    "duration": 0,
    "start_time": "2023-11-06T03:00:47.611Z"
   },
   {
    "duration": 0,
    "start_time": "2023-11-06T03:00:47.612Z"
   },
   {
    "duration": 0,
    "start_time": "2023-11-06T03:00:47.613Z"
   },
   {
    "duration": 0,
    "start_time": "2023-11-06T03:00:47.614Z"
   },
   {
    "duration": 0,
    "start_time": "2023-11-06T03:00:47.615Z"
   },
   {
    "duration": 0,
    "start_time": "2023-11-06T03:00:47.616Z"
   },
   {
    "duration": 0,
    "start_time": "2023-11-06T03:00:47.617Z"
   },
   {
    "duration": 0,
    "start_time": "2023-11-06T03:00:47.618Z"
   },
   {
    "duration": 0,
    "start_time": "2023-11-06T03:00:47.619Z"
   },
   {
    "duration": 0,
    "start_time": "2023-11-06T03:00:47.645Z"
   },
   {
    "duration": 0,
    "start_time": "2023-11-06T03:00:47.646Z"
   },
   {
    "duration": 0,
    "start_time": "2023-11-06T03:00:47.648Z"
   },
   {
    "duration": 0,
    "start_time": "2023-11-06T03:00:47.649Z"
   },
   {
    "duration": 0,
    "start_time": "2023-11-06T03:00:47.650Z"
   },
   {
    "duration": 3471,
    "start_time": "2023-11-06T03:01:10.105Z"
   },
   {
    "duration": 3123,
    "start_time": "2023-11-06T03:01:13.579Z"
   },
   {
    "duration": 3,
    "start_time": "2023-11-06T03:01:16.704Z"
   },
   {
    "duration": 347,
    "start_time": "2023-11-06T03:01:16.709Z"
   },
   {
    "duration": 28,
    "start_time": "2023-11-06T03:01:17.058Z"
   },
   {
    "duration": 49,
    "start_time": "2023-11-06T03:01:17.089Z"
   },
   {
    "duration": 158,
    "start_time": "2023-11-06T03:01:17.140Z"
   },
   {
    "duration": 576,
    "start_time": "2023-11-06T03:01:17.772Z"
   },
   {
    "duration": 3,
    "start_time": "2023-11-06T03:01:19.491Z"
   },
   {
    "duration": 4,
    "start_time": "2023-11-06T03:01:25.742Z"
   },
   {
    "duration": 3,
    "start_time": "2023-11-06T03:01:28.675Z"
   },
   {
    "duration": 32,
    "start_time": "2023-11-06T03:01:28.996Z"
   },
   {
    "duration": 447,
    "start_time": "2023-11-06T03:01:30.263Z"
   },
   {
    "duration": 5,
    "start_time": "2023-11-06T03:05:26.871Z"
   },
   {
    "duration": 5,
    "start_time": "2023-11-06T03:05:27.767Z"
   },
   {
    "duration": 3,
    "start_time": "2023-11-06T03:05:28.980Z"
   },
   {
    "duration": 44,
    "start_time": "2023-11-06T03:05:29.273Z"
   },
   {
    "duration": 175,
    "start_time": "2023-11-06T03:05:30.448Z"
   },
   {
    "duration": 9,
    "start_time": "2023-11-06T03:06:24.520Z"
   },
   {
    "duration": 4,
    "start_time": "2023-11-06T03:06:25.183Z"
   },
   {
    "duration": 3,
    "start_time": "2023-11-06T03:06:26.171Z"
   },
   {
    "duration": 34,
    "start_time": "2023-11-06T03:06:26.408Z"
   },
   {
    "duration": 151,
    "start_time": "2023-11-06T03:06:27.614Z"
   },
   {
    "duration": 5,
    "start_time": "2023-11-06T03:07:15.972Z"
   },
   {
    "duration": 4,
    "start_time": "2023-11-06T03:07:16.531Z"
   },
   {
    "duration": 4,
    "start_time": "2023-11-06T03:07:17.207Z"
   },
   {
    "duration": 32,
    "start_time": "2023-11-06T03:07:17.383Z"
   },
   {
    "duration": 148,
    "start_time": "2023-11-06T03:07:18.368Z"
   },
   {
    "duration": 4,
    "start_time": "2023-11-06T03:09:08.700Z"
   },
   {
    "duration": 3,
    "start_time": "2023-11-06T03:09:09.199Z"
   },
   {
    "duration": 3,
    "start_time": "2023-11-06T03:09:09.888Z"
   },
   {
    "duration": 43,
    "start_time": "2023-11-06T03:09:10.089Z"
   },
   {
    "duration": 153,
    "start_time": "2023-11-06T03:09:10.928Z"
   },
   {
    "duration": 3,
    "start_time": "2023-11-06T03:09:18.120Z"
   },
   {
    "duration": 6,
    "start_time": "2023-11-06T03:09:18.658Z"
   },
   {
    "duration": 2,
    "start_time": "2023-11-06T03:09:19.400Z"
   },
   {
    "duration": 33,
    "start_time": "2023-11-06T03:09:19.593Z"
   },
   {
    "duration": 156,
    "start_time": "2023-11-06T03:09:20.832Z"
   },
   {
    "duration": 5,
    "start_time": "2023-11-06T03:13:18.671Z"
   },
   {
    "duration": 3,
    "start_time": "2023-11-06T03:13:19.172Z"
   },
   {
    "duration": 3,
    "start_time": "2023-11-06T03:13:20.034Z"
   },
   {
    "duration": 67,
    "start_time": "2023-11-06T03:13:20.219Z"
   },
   {
    "duration": 154,
    "start_time": "2023-11-06T03:13:21.068Z"
   },
   {
    "duration": 4,
    "start_time": "2023-11-06T03:14:05.828Z"
   },
   {
    "duration": 3,
    "start_time": "2023-11-06T03:14:06.490Z"
   },
   {
    "duration": 6,
    "start_time": "2023-11-06T03:14:07.566Z"
   },
   {
    "duration": 31,
    "start_time": "2023-11-06T03:14:07.773Z"
   },
   {
    "duration": 171,
    "start_time": "2023-11-06T03:14:08.895Z"
   },
   {
    "duration": 5,
    "start_time": "2023-11-06T03:14:21.171Z"
   },
   {
    "duration": 3,
    "start_time": "2023-11-06T03:14:21.679Z"
   },
   {
    "duration": 2,
    "start_time": "2023-11-06T03:14:22.410Z"
   },
   {
    "duration": 31,
    "start_time": "2023-11-06T03:14:22.601Z"
   },
   {
    "duration": 161,
    "start_time": "2023-11-06T03:14:23.739Z"
   },
   {
    "duration": 21,
    "start_time": "2023-11-06T03:15:35.771Z"
   },
   {
    "duration": 21,
    "start_time": "2023-11-06T03:16:46.791Z"
   },
   {
    "duration": 6,
    "start_time": "2023-11-06T03:17:59.007Z"
   },
   {
    "duration": 959,
    "start_time": "2023-11-06T03:17:59.663Z"
   },
   {
    "duration": 3,
    "start_time": "2023-11-06T03:18:00.624Z"
   },
   {
    "duration": 378,
    "start_time": "2023-11-06T03:18:00.629Z"
   },
   {
    "duration": 14,
    "start_time": "2023-11-06T03:18:01.009Z"
   },
   {
    "duration": 34,
    "start_time": "2023-11-06T03:18:01.101Z"
   },
   {
    "duration": 142,
    "start_time": "2023-11-06T03:18:01.275Z"
   },
   {
    "duration": 5541,
    "start_time": "2023-11-06T03:18:03.178Z"
   },
   {
    "duration": 3,
    "start_time": "2023-11-06T03:18:08.722Z"
   },
   {
    "duration": 39615,
    "start_time": "2023-11-06T03:18:08.727Z"
   },
   {
    "duration": 1,
    "start_time": "2023-11-06T03:18:48.348Z"
   },
   {
    "duration": 0,
    "start_time": "2023-11-06T03:18:48.350Z"
   },
   {
    "duration": 0,
    "start_time": "2023-11-06T03:18:48.354Z"
   },
   {
    "duration": 5,
    "start_time": "2023-11-06T03:18:50.266Z"
   },
   {
    "duration": 16,
    "start_time": "2023-11-06T03:18:51.045Z"
   },
   {
    "duration": 70,
    "start_time": "2023-11-06T03:18:51.251Z"
   },
   {
    "duration": 136,
    "start_time": "2023-11-06T03:18:52.872Z"
   },
   {
    "duration": 32,
    "start_time": "2023-11-06T03:20:02.886Z"
   },
   {
    "duration": 31,
    "start_time": "2023-11-06T03:20:15.176Z"
   },
   {
    "duration": 4,
    "start_time": "2023-11-06T03:22:02.434Z"
   },
   {
    "duration": 4,
    "start_time": "2023-11-06T03:22:03.533Z"
   },
   {
    "duration": 4,
    "start_time": "2023-11-06T03:22:04.910Z"
   },
   {
    "duration": 52,
    "start_time": "2023-11-06T03:22:05.198Z"
   },
   {
    "duration": 719,
    "start_time": "2023-11-06T03:22:07.017Z"
   },
   {
    "duration": 3,
    "start_time": "2023-11-06T03:24:34.291Z"
   },
   {
    "duration": 3,
    "start_time": "2023-11-06T03:24:34.824Z"
   },
   {
    "duration": 3,
    "start_time": "2023-11-06T03:24:36.123Z"
   },
   {
    "duration": 51,
    "start_time": "2023-11-06T03:24:36.523Z"
   },
   {
    "duration": 174,
    "start_time": "2023-11-06T03:24:38.201Z"
   },
   {
    "duration": 12,
    "start_time": "2023-11-06T03:25:03.866Z"
   },
   {
    "duration": 3,
    "start_time": "2023-11-06T03:25:04.319Z"
   },
   {
    "duration": 3,
    "start_time": "2023-11-06T03:25:05.076Z"
   },
   {
    "duration": 41,
    "start_time": "2023-11-06T03:25:05.246Z"
   },
   {
    "duration": 239,
    "start_time": "2023-11-06T03:25:06.142Z"
   },
   {
    "duration": 6,
    "start_time": "2023-11-06T03:27:25.194Z"
   },
   {
    "duration": 97,
    "start_time": "2023-11-06T03:29:02.219Z"
   },
   {
    "duration": 3,
    "start_time": "2023-11-06T03:29:06.699Z"
   },
   {
    "duration": 3,
    "start_time": "2023-11-06T03:29:07.315Z"
   },
   {
    "duration": 4,
    "start_time": "2023-11-06T03:29:08.052Z"
   },
   {
    "duration": 45,
    "start_time": "2023-11-06T03:29:08.228Z"
   },
   {
    "duration": 146,
    "start_time": "2023-11-06T03:29:09.359Z"
   },
   {
    "duration": 5,
    "start_time": "2023-11-06T03:29:23.716Z"
   },
   {
    "duration": 3,
    "start_time": "2023-11-06T03:29:24.634Z"
   },
   {
    "duration": 8,
    "start_time": "2023-11-06T03:29:25.363Z"
   },
   {
    "duration": 47,
    "start_time": "2023-11-06T03:29:25.537Z"
   },
   {
    "duration": 177,
    "start_time": "2023-11-06T03:29:26.485Z"
   },
   {
    "duration": 3,
    "start_time": "2023-11-06T03:29:41.108Z"
   },
   {
    "duration": 4,
    "start_time": "2023-11-06T03:29:41.876Z"
   },
   {
    "duration": 3,
    "start_time": "2023-11-06T03:29:42.633Z"
   },
   {
    "duration": 38,
    "start_time": "2023-11-06T03:29:42.819Z"
   },
   {
    "duration": 163,
    "start_time": "2023-11-06T03:29:43.760Z"
   },
   {
    "duration": 4,
    "start_time": "2023-11-06T03:29:54.722Z"
   },
   {
    "duration": 3,
    "start_time": "2023-11-06T03:29:55.226Z"
   },
   {
    "duration": 4,
    "start_time": "2023-11-06T03:29:55.906Z"
   },
   {
    "duration": 46,
    "start_time": "2023-11-06T03:29:56.088Z"
   },
   {
    "duration": 131,
    "start_time": "2023-11-06T03:29:56.831Z"
   },
   {
    "duration": 4,
    "start_time": "2023-11-06T03:30:25.500Z"
   },
   {
    "duration": 4,
    "start_time": "2023-11-06T03:30:25.971Z"
   },
   {
    "duration": 3,
    "start_time": "2023-11-06T03:30:26.674Z"
   },
   {
    "duration": 42,
    "start_time": "2023-11-06T03:30:27.227Z"
   },
   {
    "duration": 360,
    "start_time": "2023-11-06T03:30:29.260Z"
   },
   {
    "duration": 3,
    "start_time": "2023-11-06T03:30:44.374Z"
   },
   {
    "duration": 3,
    "start_time": "2023-11-06T03:30:44.892Z"
   },
   {
    "duration": 4,
    "start_time": "2023-11-06T03:30:45.570Z"
   },
   {
    "duration": 33,
    "start_time": "2023-11-06T03:30:45.767Z"
   },
   {
    "duration": 136,
    "start_time": "2023-11-06T03:30:46.770Z"
   },
   {
    "duration": 6,
    "start_time": "2023-11-06T03:33:00.275Z"
   },
   {
    "duration": 4,
    "start_time": "2023-11-06T03:33:00.826Z"
   },
   {
    "duration": 4,
    "start_time": "2023-11-06T03:33:14.098Z"
   },
   {
    "duration": 3,
    "start_time": "2023-11-06T03:33:14.573Z"
   },
   {
    "duration": 7,
    "start_time": "2023-11-06T03:33:15.363Z"
   },
   {
    "duration": 45,
    "start_time": "2023-11-06T03:33:15.532Z"
   },
   {
    "duration": 346,
    "start_time": "2023-11-06T03:33:16.473Z"
   },
   {
    "duration": 7,
    "start_time": "2023-11-06T03:34:45.039Z"
   },
   {
    "duration": 3,
    "start_time": "2023-11-06T03:34:45.534Z"
   },
   {
    "duration": 3,
    "start_time": "2023-11-06T03:34:46.232Z"
   },
   {
    "duration": 32,
    "start_time": "2023-11-06T03:34:46.469Z"
   },
   {
    "duration": 133,
    "start_time": "2023-11-06T03:34:47.301Z"
   },
   {
    "duration": 3,
    "start_time": "2023-11-06T03:36:42.894Z"
   },
   {
    "duration": 3,
    "start_time": "2023-11-06T03:36:43.394Z"
   },
   {
    "duration": 2,
    "start_time": "2023-11-06T03:36:44.197Z"
   },
   {
    "duration": 32,
    "start_time": "2023-11-06T03:36:44.293Z"
   },
   {
    "duration": 122,
    "start_time": "2023-11-06T03:36:45.300Z"
   },
   {
    "duration": 133,
    "start_time": "2023-11-06T03:37:49.636Z"
   },
   {
    "duration": 3,
    "start_time": "2023-11-06T03:37:50.139Z"
   },
   {
    "duration": 115,
    "start_time": "2023-11-06T03:38:00.360Z"
   },
   {
    "duration": 118,
    "start_time": "2023-11-06T03:38:26.405Z"
   },
   {
    "duration": 143,
    "start_time": "2023-11-06T03:38:46.439Z"
   },
   {
    "duration": 110,
    "start_time": "2023-11-06T03:41:26.865Z"
   },
   {
    "duration": 7,
    "start_time": "2023-11-06T03:41:34.768Z"
   },
   {
    "duration": 3,
    "start_time": "2023-11-06T03:41:35.713Z"
   },
   {
    "duration": 3,
    "start_time": "2023-11-06T03:41:36.537Z"
   },
   {
    "duration": 40,
    "start_time": "2023-11-06T03:41:36.721Z"
   },
   {
    "duration": 409,
    "start_time": "2023-11-06T03:41:37.571Z"
   },
   {
    "duration": 120,
    "start_time": "2023-11-06T03:42:31.516Z"
   },
   {
    "duration": 2,
    "start_time": "2023-11-06T03:42:32.091Z"
   },
   {
    "duration": 3,
    "start_time": "2023-11-06T03:42:37.898Z"
   },
   {
    "duration": 3,
    "start_time": "2023-11-06T03:42:38.514Z"
   },
   {
    "duration": 3,
    "start_time": "2023-11-06T03:42:39.321Z"
   },
   {
    "duration": 37,
    "start_time": "2023-11-06T03:42:39.514Z"
   },
   {
    "duration": 154,
    "start_time": "2023-11-06T03:42:40.522Z"
   },
   {
    "duration": 4,
    "start_time": "2023-11-06T03:44:36.979Z"
   },
   {
    "duration": 3,
    "start_time": "2023-11-06T03:44:37.498Z"
   },
   {
    "duration": 4,
    "start_time": "2023-11-06T03:44:38.369Z"
   },
   {
    "duration": 30,
    "start_time": "2023-11-06T03:44:38.571Z"
   },
   {
    "duration": 174,
    "start_time": "2023-11-06T03:44:39.843Z"
   },
   {
    "duration": 4,
    "start_time": "2023-11-06T03:44:46.596Z"
   },
   {
    "duration": 3,
    "start_time": "2023-11-06T03:44:47.116Z"
   },
   {
    "duration": 4,
    "start_time": "2023-11-06T03:44:47.868Z"
   },
   {
    "duration": 50,
    "start_time": "2023-11-06T03:44:48.038Z"
   },
   {
    "duration": 380,
    "start_time": "2023-11-06T03:44:49.140Z"
   },
   {
    "duration": 4,
    "start_time": "2023-11-06T03:45:19.692Z"
   },
   {
    "duration": 3,
    "start_time": "2023-11-06T03:45:20.227Z"
   },
   {
    "duration": 4,
    "start_time": "2023-11-06T03:45:20.969Z"
   },
   {
    "duration": 45,
    "start_time": "2023-11-06T03:45:21.132Z"
   },
   {
    "duration": 1558,
    "start_time": "2023-11-06T03:45:21.867Z"
   },
   {
    "duration": 4,
    "start_time": "2023-11-06T03:46:13.419Z"
   },
   {
    "duration": 3,
    "start_time": "2023-11-06T03:46:13.914Z"
   },
   {
    "duration": 2,
    "start_time": "2023-11-06T03:46:14.636Z"
   },
   {
    "duration": 30,
    "start_time": "2023-11-06T03:46:14.899Z"
   },
   {
    "duration": 2045,
    "start_time": "2023-11-06T03:46:15.879Z"
   },
   {
    "duration": 4,
    "start_time": "2023-11-06T03:52:48.282Z"
   },
   {
    "duration": 3,
    "start_time": "2023-11-06T03:52:48.793Z"
   },
   {
    "duration": 4,
    "start_time": "2023-11-06T03:52:49.520Z"
   },
   {
    "duration": 44,
    "start_time": "2023-11-06T03:52:49.698Z"
   },
   {
    "duration": 146,
    "start_time": "2023-11-06T03:52:50.503Z"
   },
   {
    "duration": 4,
    "start_time": "2023-11-06T03:53:06.218Z"
   },
   {
    "duration": 2,
    "start_time": "2023-11-06T03:53:07.474Z"
   },
   {
    "duration": 2,
    "start_time": "2023-11-06T03:53:08.210Z"
   },
   {
    "duration": 33,
    "start_time": "2023-11-06T03:53:08.394Z"
   },
   {
    "duration": 356,
    "start_time": "2023-11-06T03:53:09.583Z"
   },
   {
    "duration": 3,
    "start_time": "2023-11-06T03:53:42.123Z"
   },
   {
    "duration": 4,
    "start_time": "2023-11-06T03:53:42.675Z"
   },
   {
    "duration": 3,
    "start_time": "2023-11-06T03:53:43.402Z"
   },
   {
    "duration": 60,
    "start_time": "2023-11-06T03:53:43.602Z"
   },
   {
    "duration": 33684,
    "start_time": "2023-11-06T03:53:44.675Z"
   },
   {
    "duration": 5,
    "start_time": "2023-11-06T03:54:45.500Z"
   },
   {
    "duration": 3,
    "start_time": "2023-11-06T03:54:46.013Z"
   },
   {
    "duration": 3,
    "start_time": "2023-11-06T03:54:46.815Z"
   },
   {
    "duration": 42,
    "start_time": "2023-11-06T03:54:47.063Z"
   },
   {
    "duration": 130,
    "start_time": "2023-11-06T03:54:48.266Z"
   },
   {
    "duration": 8,
    "start_time": "2023-11-06T03:54:58.445Z"
   },
   {
    "duration": 3,
    "start_time": "2023-11-06T03:54:58.898Z"
   },
   {
    "duration": 2,
    "start_time": "2023-11-06T03:54:59.506Z"
   },
   {
    "duration": 47,
    "start_time": "2023-11-06T03:54:59.668Z"
   },
   {
    "duration": 189,
    "start_time": "2023-11-06T03:55:01.595Z"
   },
   {
    "duration": 154,
    "start_time": "2023-11-06T03:56:28.925Z"
   },
   {
    "duration": 125,
    "start_time": "2023-11-06T03:56:40.169Z"
   },
   {
    "duration": 587,
    "start_time": "2023-11-06T04:01:24.511Z"
   },
   {
    "duration": 8,
    "start_time": "2023-11-06T04:01:28.342Z"
   },
   {
    "duration": 134,
    "start_time": "2023-11-06T04:05:15.205Z"
   },
   {
    "duration": 3,
    "start_time": "2023-11-06T04:05:25.893Z"
   },
   {
    "duration": 6,
    "start_time": "2023-11-06T04:05:26.966Z"
   },
   {
    "duration": 3,
    "start_time": "2023-11-06T04:05:27.757Z"
   },
   {
    "duration": 37,
    "start_time": "2023-11-06T04:05:27.969Z"
   },
   {
    "duration": 279946,
    "start_time": "2023-11-06T04:05:28.761Z"
   },
   {
    "duration": 806063,
    "start_time": "2023-11-06T04:10:11.773Z"
   },
   {
    "duration": 6,
    "start_time": "2023-11-06T04:24:20.441Z"
   },
   {
    "duration": 35,
    "start_time": "2023-11-06T04:24:25.270Z"
   },
   {
    "duration": 52,
    "start_time": "2023-11-06T04:24:34.387Z"
   },
   {
    "duration": 38,
    "start_time": "2023-11-06T04:25:46.339Z"
   },
   {
    "duration": 67,
    "start_time": "2023-11-06T04:26:07.419Z"
   },
   {
    "duration": 188,
    "start_time": "2023-11-06T04:26:45.291Z"
   },
   {
    "duration": 952,
    "start_time": "2023-11-06T04:26:45.978Z"
   },
   {
    "duration": 4,
    "start_time": "2023-11-06T04:26:46.932Z"
   },
   {
    "duration": 346,
    "start_time": "2023-11-06T04:26:46.938Z"
   },
   {
    "duration": 13,
    "start_time": "2023-11-06T04:26:47.286Z"
   },
   {
    "duration": 42,
    "start_time": "2023-11-06T04:26:47.425Z"
   },
   {
    "duration": 121,
    "start_time": "2023-11-06T04:26:47.596Z"
   },
   {
    "duration": 585,
    "start_time": "2023-11-06T04:26:50.098Z"
   },
   {
    "duration": 4,
    "start_time": "2023-11-06T04:26:53.211Z"
   },
   {
    "duration": 2814,
    "start_time": "2023-11-06T04:28:06.835Z"
   },
   {
    "duration": 1679,
    "start_time": "2023-11-06T04:28:52.923Z"
   },
   {
    "duration": 1533,
    "start_time": "2023-11-06T04:29:09.961Z"
   },
   {
    "duration": 948,
    "start_time": "2023-11-06T04:29:20.420Z"
   },
   {
    "duration": 27,
    "start_time": "2023-11-06T04:29:44.952Z"
   },
   {
    "duration": 26,
    "start_time": "2023-11-06T04:29:51.387Z"
   },
   {
    "duration": 18,
    "start_time": "2023-11-06T04:29:56.835Z"
   },
   {
    "duration": 47,
    "start_time": "2023-11-06T04:30:29.236Z"
   },
   {
    "duration": 6,
    "start_time": "2023-11-06T04:30:33.140Z"
   },
   {
    "duration": 918,
    "start_time": "2023-11-06T04:30:33.763Z"
   },
   {
    "duration": 4,
    "start_time": "2023-11-06T04:30:34.685Z"
   },
   {
    "duration": 328,
    "start_time": "2023-11-06T04:30:34.691Z"
   },
   {
    "duration": 33,
    "start_time": "2023-11-06T04:30:35.020Z"
   },
   {
    "duration": 36,
    "start_time": "2023-11-06T04:30:35.059Z"
   },
   {
    "duration": 114,
    "start_time": "2023-11-06T04:30:35.220Z"
   },
   {
    "duration": 480,
    "start_time": "2023-11-06T04:30:36.972Z"
   },
   {
    "duration": 8,
    "start_time": "2023-11-06T04:30:38.066Z"
   },
   {
    "duration": 815776,
    "start_time": "2023-11-06T04:30:38.440Z"
   },
   {
    "duration": 61,
    "start_time": "2023-11-06T04:44:14.219Z"
   },
   {
    "duration": 25,
    "start_time": "2023-11-06T04:44:14.289Z"
   },
   {
    "duration": 9,
    "start_time": "2023-11-06T04:44:25.264Z"
   },
   {
    "duration": 41,
    "start_time": "2023-11-06T04:44:25.687Z"
   },
   {
    "duration": 9347,
    "start_time": "2023-11-06T04:44:27.272Z"
   },
   {
    "duration": 31,
    "start_time": "2023-11-06T04:44:41.670Z"
   },
   {
    "duration": 5,
    "start_time": "2023-11-06T04:45:28.223Z"
   },
   {
    "duration": 143,
    "start_time": "2023-11-06T04:45:29.273Z"
   },
   {
    "duration": 4,
    "start_time": "2023-11-06T04:45:39.535Z"
   },
   {
    "duration": 354247,
    "start_time": "2023-11-06T04:45:39.800Z"
   },
   {
    "duration": 5,
    "start_time": "2023-11-06T04:51:34.049Z"
   },
   {
    "duration": 4,
    "start_time": "2023-11-06T04:52:04.939Z"
   },
   {
    "duration": 184198,
    "start_time": "2023-11-06T04:52:05.323Z"
   },
   {
    "duration": 17,
    "start_time": "2023-11-06T04:55:09.523Z"
   },
   {
    "duration": 0,
    "start_time": "2023-11-06T04:55:09.542Z"
   },
   {
    "duration": 25,
    "start_time": "2023-11-06T04:55:13.979Z"
   },
   {
    "duration": 25,
    "start_time": "2023-11-06T04:55:20.171Z"
   },
   {
    "duration": 29,
    "start_time": "2023-11-06T04:55:40.871Z"
   },
   {
    "duration": 28,
    "start_time": "2023-11-06T04:55:48.539Z"
   },
   {
    "duration": 24,
    "start_time": "2023-11-06T04:55:53.595Z"
   },
   {
    "duration": 102,
    "start_time": "2023-11-06T04:56:23.276Z"
   },
   {
    "duration": 20,
    "start_time": "2023-11-06T04:56:31.491Z"
   },
   {
    "duration": 23,
    "start_time": "2023-11-06T04:56:36.116Z"
   },
   {
    "duration": 22,
    "start_time": "2023-11-06T04:56:42.370Z"
   },
   {
    "duration": 22,
    "start_time": "2023-11-06T04:56:47.621Z"
   },
   {
    "duration": 4,
    "start_time": "2023-11-06T04:58:29.076Z"
   },
   {
    "duration": 1147,
    "start_time": "2023-11-06T04:58:30.071Z"
   },
   {
    "duration": 9463,
    "start_time": "2023-11-06T04:58:41.642Z"
   },
   {
    "duration": 6,
    "start_time": "2023-11-06T04:58:54.691Z"
   },
   {
    "duration": 354036,
    "start_time": "2023-11-06T04:58:56.063Z"
   },
   {
    "duration": 4,
    "start_time": "2023-11-06T05:04:50.101Z"
   },
   {
    "duration": 9,
    "start_time": "2023-11-06T05:04:50.107Z"
   },
   {
    "duration": 61714,
    "start_time": "2023-11-06T05:04:50.118Z"
   },
   {
    "duration": 35,
    "start_time": "2023-11-06T05:05:51.833Z"
   },
   {
    "duration": 0,
    "start_time": "2023-11-06T05:05:51.870Z"
   },
   {
    "duration": 105,
    "start_time": "2023-11-06T05:05:59.433Z"
   },
   {
    "duration": 3,
    "start_time": "2023-11-06T05:06:11.377Z"
   },
   {
    "duration": 13,
    "start_time": "2023-11-06T05:06:14.890Z"
   },
   {
    "duration": 3,
    "start_time": "2023-11-06T05:06:17.427Z"
   },
   {
    "duration": 47,
    "start_time": "2023-11-06T05:06:17.835Z"
   },
   {
    "duration": 130,
    "start_time": "2023-11-06T05:06:19.786Z"
   },
   {
    "duration": 8,
    "start_time": "2023-11-06T05:07:16.564Z"
   },
   {
    "duration": 31,
    "start_time": "2023-11-06T05:07:17.088Z"
   },
   {
    "duration": 3,
    "start_time": "2023-11-06T05:07:17.714Z"
   },
   {
    "duration": 3,
    "start_time": "2023-11-06T05:07:18.937Z"
   },
   {
    "duration": 38,
    "start_time": "2023-11-06T05:07:19.254Z"
   },
   {
    "duration": 146,
    "start_time": "2023-11-06T05:07:20.317Z"
   },
   {
    "duration": 3,
    "start_time": "2023-11-06T05:08:21.090Z"
   },
   {
    "duration": 40,
    "start_time": "2023-11-06T05:08:21.475Z"
   },
   {
    "duration": 3,
    "start_time": "2023-11-06T05:08:25.905Z"
   },
   {
    "duration": 6,
    "start_time": "2023-11-06T05:08:26.625Z"
   },
   {
    "duration": 48,
    "start_time": "2023-11-06T05:08:26.817Z"
   },
   {
    "duration": 166,
    "start_time": "2023-11-06T05:08:27.937Z"
   },
   {
    "duration": 5,
    "start_time": "2023-11-06T05:09:04.394Z"
   },
   {
    "duration": 3,
    "start_time": "2023-11-06T05:09:04.898Z"
   },
   {
    "duration": 9,
    "start_time": "2023-11-06T05:09:05.547Z"
   },
   {
    "duration": 61,
    "start_time": "2023-11-06T05:09:05.706Z"
   },
   {
    "duration": 164,
    "start_time": "2023-11-06T05:09:07.069Z"
   },
   {
    "duration": 4,
    "start_time": "2023-11-06T05:09:28.892Z"
   },
   {
    "duration": 5,
    "start_time": "2023-11-06T05:09:31.566Z"
   },
   {
    "duration": 3,
    "start_time": "2023-11-06T05:09:32.500Z"
   },
   {
    "duration": 35,
    "start_time": "2023-11-06T05:09:32.917Z"
   },
   {
    "duration": 146,
    "start_time": "2023-11-06T05:09:34.483Z"
   },
   {
    "duration": 4,
    "start_time": "2023-11-06T05:09:44.174Z"
   },
   {
    "duration": 3,
    "start_time": "2023-11-06T05:09:44.692Z"
   },
   {
    "duration": 2,
    "start_time": "2023-11-06T05:09:45.338Z"
   },
   {
    "duration": 32,
    "start_time": "2023-11-06T05:09:45.507Z"
   },
   {
    "duration": 155,
    "start_time": "2023-11-06T05:09:46.514Z"
   },
   {
    "duration": 4,
    "start_time": "2023-11-06T05:10:05.001Z"
   },
   {
    "duration": 3,
    "start_time": "2023-11-06T05:10:05.569Z"
   },
   {
    "duration": 6,
    "start_time": "2023-11-06T05:10:06.255Z"
   },
   {
    "duration": 32,
    "start_time": "2023-11-06T05:10:06.407Z"
   },
   {
    "duration": 247,
    "start_time": "2023-11-06T05:10:07.272Z"
   },
   {
    "duration": 4,
    "start_time": "2023-11-06T05:10:25.706Z"
   },
   {
    "duration": 3,
    "start_time": "2023-11-06T05:10:26.186Z"
   },
   {
    "duration": 3,
    "start_time": "2023-11-06T05:10:26.882Z"
   },
   {
    "duration": 37,
    "start_time": "2023-11-06T05:10:27.218Z"
   },
   {
    "duration": 165,
    "start_time": "2023-11-06T05:10:28.202Z"
   },
   {
    "duration": 105,
    "start_time": "2023-11-06T05:11:38.090Z"
   },
   {
    "duration": 4,
    "start_time": "2023-11-06T05:11:43.237Z"
   },
   {
    "duration": 4,
    "start_time": "2023-11-06T05:11:44.267Z"
   },
   {
    "duration": 4,
    "start_time": "2023-11-06T05:11:50.795Z"
   },
   {
    "duration": 3,
    "start_time": "2023-11-06T05:11:51.471Z"
   },
   {
    "duration": 4,
    "start_time": "2023-11-06T05:11:52.220Z"
   },
   {
    "duration": 35,
    "start_time": "2023-11-06T05:11:52.786Z"
   },
   {
    "duration": 138,
    "start_time": "2023-11-06T05:11:53.939Z"
   },
   {
    "duration": 7,
    "start_time": "2023-11-06T05:12:11.167Z"
   },
   {
    "duration": 9,
    "start_time": "2023-11-06T05:12:11.642Z"
   },
   {
    "duration": 5,
    "start_time": "2023-11-06T05:12:12.359Z"
   },
   {
    "duration": 32,
    "start_time": "2023-11-06T05:12:12.872Z"
   },
   {
    "duration": 162,
    "start_time": "2023-11-06T05:12:14.114Z"
   },
   {
    "duration": 5,
    "start_time": "2023-11-06T05:12:31.372Z"
   },
   {
    "duration": 4,
    "start_time": "2023-11-06T05:12:31.833Z"
   },
   {
    "duration": 4,
    "start_time": "2023-11-06T05:12:32.569Z"
   },
   {
    "duration": 36,
    "start_time": "2023-11-06T05:12:32.763Z"
   },
   {
    "duration": 128,
    "start_time": "2023-11-06T05:12:33.802Z"
   },
   {
    "duration": 4,
    "start_time": "2023-11-06T05:13:06.114Z"
   },
   {
    "duration": 9,
    "start_time": "2023-11-06T05:13:06.642Z"
   },
   {
    "duration": 3,
    "start_time": "2023-11-06T05:13:07.418Z"
   },
   {
    "duration": 40,
    "start_time": "2023-11-06T05:13:07.854Z"
   },
   {
    "duration": 54559,
    "start_time": "2023-11-06T05:13:09.073Z"
   },
   {
    "duration": 4,
    "start_time": "2023-11-06T05:14:03.633Z"
   },
   {
    "duration": 4,
    "start_time": "2023-11-06T05:14:08.236Z"
   },
   {
    "duration": 3,
    "start_time": "2023-11-06T05:14:08.803Z"
   },
   {
    "duration": 2,
    "start_time": "2023-11-06T05:14:09.939Z"
   },
   {
    "duration": 40,
    "start_time": "2023-11-06T05:14:10.362Z"
   },
   {
    "duration": 149,
    "start_time": "2023-11-06T05:14:12.300Z"
   },
   {
    "duration": 8,
    "start_time": "2023-11-06T05:14:24.641Z"
   },
   {
    "duration": 6,
    "start_time": "2023-11-06T05:14:25.164Z"
   },
   {
    "duration": 3,
    "start_time": "2023-11-06T05:14:25.970Z"
   },
   {
    "duration": 32,
    "start_time": "2023-11-06T05:14:26.203Z"
   },
   {
    "duration": 127,
    "start_time": "2023-11-06T05:14:28.894Z"
   },
   {
    "duration": 12,
    "start_time": "2023-11-06T05:14:50.761Z"
   },
   {
    "duration": 2,
    "start_time": "2023-11-06T05:14:51.282Z"
   },
   {
    "duration": 3,
    "start_time": "2023-11-06T05:14:52.011Z"
   },
   {
    "duration": 33,
    "start_time": "2023-11-06T05:14:52.272Z"
   },
   {
    "duration": 125,
    "start_time": "2023-11-06T05:14:53.203Z"
   },
   {
    "duration": 4,
    "start_time": "2023-11-06T05:15:17.572Z"
   },
   {
    "duration": 4,
    "start_time": "2023-11-06T05:15:18.073Z"
   },
   {
    "duration": 5,
    "start_time": "2023-11-06T05:15:18.766Z"
   },
   {
    "duration": 40,
    "start_time": "2023-11-06T05:15:18.922Z"
   },
   {
    "duration": 143,
    "start_time": "2023-11-06T05:15:19.971Z"
   },
   {
    "duration": 99,
    "start_time": "2023-11-06T05:15:49.012Z"
   },
   {
    "duration": 135,
    "start_time": "2023-11-06T05:15:54.364Z"
   },
   {
    "duration": 4,
    "start_time": "2023-11-06T05:20:54.300Z"
   },
   {
    "duration": 2,
    "start_time": "2023-11-06T05:20:57.796Z"
   },
   {
    "duration": 3,
    "start_time": "2023-11-06T05:20:58.524Z"
   },
   {
    "duration": 32,
    "start_time": "2023-11-06T05:20:58.701Z"
   },
   {
    "duration": 125,
    "start_time": "2023-11-06T05:20:59.813Z"
   },
   {
    "duration": 8,
    "start_time": "2023-11-06T05:21:56.540Z"
   },
   {
    "duration": 3,
    "start_time": "2023-11-06T05:21:57.100Z"
   },
   {
    "duration": 5,
    "start_time": "2023-11-06T05:21:57.868Z"
   },
   {
    "duration": 61,
    "start_time": "2023-11-06T05:21:58.023Z"
   },
   {
    "duration": 54305,
    "start_time": "2023-11-06T05:21:59.036Z"
   },
   {
    "duration": 8,
    "start_time": "2023-11-06T05:22:53.344Z"
   },
   {
    "duration": 5,
    "start_time": "2023-11-06T05:22:54.932Z"
   },
   {
    "duration": 5,
    "start_time": "2023-11-06T05:22:55.811Z"
   },
   {
    "duration": 3,
    "start_time": "2023-11-06T05:22:56.973Z"
   },
   {
    "duration": 31,
    "start_time": "2023-11-06T05:22:57.402Z"
   },
   {
    "duration": 329,
    "start_time": "2023-11-06T05:22:58.276Z"
   },
   {
    "duration": 135,
    "start_time": "2023-11-06T05:23:46.473Z"
   },
   {
    "duration": 6,
    "start_time": "2023-11-06T05:23:51.970Z"
   },
   {
    "duration": 135,
    "start_time": "2023-11-06T05:23:55.065Z"
   },
   {
    "duration": 9,
    "start_time": "2023-11-06T05:24:09.865Z"
   },
   {
    "duration": 3,
    "start_time": "2023-11-06T05:24:10.404Z"
   },
   {
    "duration": 3,
    "start_time": "2023-11-06T05:24:11.111Z"
   },
   {
    "duration": 34,
    "start_time": "2023-11-06T05:24:11.270Z"
   },
   {
    "duration": 19521,
    "start_time": "2023-11-06T05:24:12.093Z"
   },
   {
    "duration": 528,
    "start_time": "2023-11-06T05:26:27.004Z"
   },
   {
    "duration": 3,
    "start_time": "2023-11-06T05:26:46.398Z"
   },
   {
    "duration": 5,
    "start_time": "2023-11-06T05:26:47.569Z"
   },
   {
    "duration": 2,
    "start_time": "2023-11-06T05:26:49.272Z"
   },
   {
    "duration": 31,
    "start_time": "2023-11-06T05:26:49.701Z"
   },
   {
    "duration": 6516,
    "start_time": "2023-11-06T05:34:25.667Z"
   },
   {
    "duration": 3062,
    "start_time": "2023-11-06T05:34:32.185Z"
   },
   {
    "duration": 7,
    "start_time": "2023-11-06T05:34:35.249Z"
   },
   {
    "duration": 370,
    "start_time": "2023-11-06T05:34:35.259Z"
   },
   {
    "duration": 24,
    "start_time": "2023-11-06T05:34:35.630Z"
   },
   {
    "duration": 38,
    "start_time": "2023-11-06T05:34:35.662Z"
   },
   {
    "duration": 136,
    "start_time": "2023-11-06T05:34:35.702Z"
   },
   {
    "duration": 599,
    "start_time": "2023-11-06T05:34:35.839Z"
   },
   {
    "duration": 5,
    "start_time": "2023-11-06T05:34:36.440Z"
   },
   {
    "duration": 2,
    "start_time": "2023-11-06T05:34:39.880Z"
   },
   {
    "duration": 5,
    "start_time": "2023-11-06T05:34:47.870Z"
   },
   {
    "duration": 45,
    "start_time": "2023-11-06T05:34:48.023Z"
   },
   {
    "duration": 7513,
    "start_time": "2023-11-06T05:34:48.783Z"
   },
   {
    "duration": 4,
    "start_time": "2023-11-06T05:35:21.584Z"
   },
   {
    "duration": 4,
    "start_time": "2023-11-06T05:35:23.384Z"
   },
   {
    "duration": 2,
    "start_time": "2023-11-06T05:35:25.271Z"
   },
   {
    "duration": 45,
    "start_time": "2023-11-06T05:35:25.504Z"
   },
   {
    "duration": 33936,
    "start_time": "2023-11-06T05:35:27.098Z"
   },
   {
    "duration": 4,
    "start_time": "2023-11-06T05:41:30.996Z"
   },
   {
    "duration": 3,
    "start_time": "2023-11-06T05:41:32.209Z"
   },
   {
    "duration": 2,
    "start_time": "2023-11-06T05:41:33.675Z"
   },
   {
    "duration": 45,
    "start_time": "2023-11-06T05:41:34.147Z"
   },
   {
    "duration": 8244,
    "start_time": "2023-11-06T05:41:35.722Z"
   },
   {
    "duration": 102,
    "start_time": "2023-11-06T05:46:56.726Z"
   },
   {
    "duration": 5,
    "start_time": "2023-11-06T05:47:03.774Z"
   },
   {
    "duration": 3,
    "start_time": "2023-11-06T05:47:05.099Z"
   },
   {
    "duration": 3,
    "start_time": "2023-11-06T05:47:06.737Z"
   },
   {
    "duration": 35,
    "start_time": "2023-11-06T05:47:07.167Z"
   },
   {
    "duration": 189,
    "start_time": "2023-11-06T05:47:08.038Z"
   },
   {
    "duration": 4,
    "start_time": "2023-11-06T05:47:29.660Z"
   },
   {
    "duration": 3,
    "start_time": "2023-11-06T05:47:30.635Z"
   },
   {
    "duration": 5,
    "start_time": "2023-11-06T05:47:32.064Z"
   },
   {
    "duration": 30,
    "start_time": "2023-11-06T05:47:32.507Z"
   },
   {
    "duration": 147,
    "start_time": "2023-11-06T05:47:33.761Z"
   },
   {
    "duration": 3,
    "start_time": "2023-11-06T05:48:08.122Z"
   },
   {
    "duration": 3,
    "start_time": "2023-11-06T05:48:09.227Z"
   },
   {
    "duration": 5,
    "start_time": "2023-11-06T05:48:11.055Z"
   },
   {
    "duration": 43,
    "start_time": "2023-11-06T05:48:11.425Z"
   },
   {
    "duration": 30118,
    "start_time": "2023-11-06T05:48:13.107Z"
   },
   {
    "duration": 3,
    "start_time": "2023-11-06T05:48:44.303Z"
   },
   {
    "duration": 3,
    "start_time": "2023-11-06T05:48:45.507Z"
   },
   {
    "duration": 3,
    "start_time": "2023-11-06T05:48:46.406Z"
   },
   {
    "duration": 29,
    "start_time": "2023-11-06T05:48:46.587Z"
   },
   {
    "duration": 857335,
    "start_time": "2023-11-06T05:48:47.501Z"
   },
   {
    "duration": 1019,
    "start_time": "2023-11-06T06:05:19.692Z"
   },
   {
    "duration": 74118,
    "start_time": "2023-11-06T06:05:55.976Z"
   },
   {
    "duration": 0,
    "start_time": "2023-11-06T06:07:10.099Z"
   },
   {
    "duration": 0,
    "start_time": "2023-11-06T06:07:10.100Z"
   },
   {
    "duration": 0,
    "start_time": "2023-11-06T06:07:10.102Z"
   },
   {
    "duration": 0,
    "start_time": "2023-11-06T06:07:10.103Z"
   },
   {
    "duration": 809792,
    "start_time": "2023-11-06T06:07:10.897Z"
   },
   {
    "duration": 4,
    "start_time": "2023-11-06T06:20:40.692Z"
   },
   {
    "duration": 31,
    "start_time": "2023-11-06T06:20:40.698Z"
   },
   {
    "duration": 108,
    "start_time": "2023-11-06T06:20:40.732Z"
   },
   {
    "duration": 4818,
    "start_time": "2023-11-06T06:20:40.841Z"
   },
   {
    "duration": 8,
    "start_time": "2023-11-06T06:20:45.661Z"
   },
   {
    "duration": 119,
    "start_time": "2023-11-06T06:20:45.671Z"
   },
   {
    "duration": 5063,
    "start_time": "2023-11-06T06:21:22.162Z"
   },
   {
    "duration": 2053101,
    "start_time": "2023-11-06T06:21:48.433Z"
   },
   {
    "duration": 0,
    "start_time": "2023-11-06T06:56:01.538Z"
   },
   {
    "duration": 0,
    "start_time": "2023-11-06T06:56:01.540Z"
   },
   {
    "duration": 0,
    "start_time": "2023-11-06T06:56:01.541Z"
   },
   {
    "duration": 0,
    "start_time": "2023-11-06T06:56:01.543Z"
   },
   {
    "duration": 0,
    "start_time": "2023-11-06T06:56:01.545Z"
   },
   {
    "duration": 0,
    "start_time": "2023-11-06T06:56:01.550Z"
   },
   {
    "duration": 0,
    "start_time": "2023-11-06T06:56:01.551Z"
   },
   {
    "duration": 0,
    "start_time": "2023-11-06T06:56:01.552Z"
   },
   {
    "duration": 0,
    "start_time": "2023-11-06T06:56:01.553Z"
   },
   {
    "duration": 0,
    "start_time": "2023-11-06T06:56:01.558Z"
   },
   {
    "duration": 0,
    "start_time": "2023-11-06T06:56:01.562Z"
   },
   {
    "duration": 0,
    "start_time": "2023-11-06T06:56:01.563Z"
   },
   {
    "duration": 0,
    "start_time": "2023-11-06T06:56:01.565Z"
   },
   {
    "duration": 0,
    "start_time": "2023-11-06T06:56:01.568Z"
   },
   {
    "duration": 229,
    "start_time": "2023-11-06T06:56:06.702Z"
   },
   {
    "duration": 1078,
    "start_time": "2023-11-06T06:56:07.328Z"
   },
   {
    "duration": 7,
    "start_time": "2023-11-06T06:56:08.410Z"
   },
   {
    "duration": 352,
    "start_time": "2023-11-06T06:56:08.419Z"
   },
   {
    "duration": 23,
    "start_time": "2023-11-06T06:56:08.774Z"
   },
   {
    "duration": 30,
    "start_time": "2023-11-06T06:56:08.808Z"
   },
   {
    "duration": 161,
    "start_time": "2023-11-06T06:56:08.942Z"
   },
   {
    "duration": 710,
    "start_time": "2023-11-06T06:56:10.831Z"
   },
   {
    "duration": 31550,
    "start_time": "2023-11-06T06:56:14.271Z"
   },
   {
    "duration": 917094,
    "start_time": "2023-11-06T06:56:51.699Z"
   },
   {
    "duration": 61,
    "start_time": "2023-11-06T07:12:08.795Z"
   },
   {
    "duration": 34,
    "start_time": "2023-11-06T07:12:08.860Z"
   },
   {
    "duration": 10,
    "start_time": "2023-11-06T07:12:08.896Z"
   },
   {
    "duration": 91,
    "start_time": "2023-11-06T07:12:08.908Z"
   },
   {
    "duration": 11194,
    "start_time": "2023-11-06T07:12:09.001Z"
   },
   {
    "duration": 4,
    "start_time": "2023-11-06T07:12:20.205Z"
   },
   {
    "duration": 403028,
    "start_time": "2023-11-06T07:12:20.211Z"
   },
   {
    "duration": 13,
    "start_time": "2023-11-06T07:19:03.241Z"
   },
   {
    "duration": 46,
    "start_time": "2023-11-06T07:19:03.258Z"
   },
   {
    "duration": 708955,
    "start_time": "2023-11-06T07:19:03.307Z"
   },
   {
    "duration": 14,
    "start_time": "2023-11-06T07:30:52.269Z"
   },
   {
    "duration": 20,
    "start_time": "2023-11-06T07:30:52.289Z"
   },
   {
    "duration": 30,
    "start_time": "2023-11-06T07:30:52.312Z"
   },
   {
    "duration": 12065910,
    "start_time": "2023-11-06T07:30:52.350Z"
   },
   {
    "duration": 27,
    "start_time": "2023-11-06T10:51:58.263Z"
   },
   {
    "duration": 5,
    "start_time": "2023-11-06T10:52:04.666Z"
   },
   {
    "duration": 4,
    "start_time": "2023-11-06T10:52:05.025Z"
   },
   {
    "duration": 20936,
    "start_time": "2023-11-06T10:52:05.884Z"
   },
   {
    "duration": 25,
    "start_time": "2023-11-06T10:52:26.823Z"
   },
   {
    "duration": 4,
    "start_time": "2023-11-06T10:52:31.418Z"
   },
   {
    "duration": 8,
    "start_time": "2023-11-06T10:52:31.595Z"
   },
   {
    "duration": 82,
    "start_time": "2023-11-06T14:03:26.417Z"
   },
   {
    "duration": 18141,
    "start_time": "2023-11-06T14:06:58.864Z"
   },
   {
    "duration": 2263,
    "start_time": "2023-11-06T14:07:27.632Z"
   },
   {
    "duration": 4,
    "start_time": "2023-11-06T14:07:29.897Z"
   },
   {
    "duration": 317,
    "start_time": "2023-11-06T14:07:29.902Z"
   },
   {
    "duration": 21,
    "start_time": "2023-11-06T14:07:30.221Z"
   },
   {
    "duration": 48,
    "start_time": "2023-11-06T14:07:30.243Z"
   },
   {
    "duration": 126,
    "start_time": "2023-11-06T14:07:30.293Z"
   },
   {
    "duration": 465,
    "start_time": "2023-11-06T14:07:33.414Z"
   },
   {
    "duration": 73,
    "start_time": "2023-11-06T14:22:11.370Z"
   },
   {
    "duration": 7,
    "start_time": "2023-11-06T14:22:17.434Z"
   },
   {
    "duration": 1368,
    "start_time": "2023-11-06T14:22:30.541Z"
   },
   {
    "duration": 9,
    "start_time": "2023-11-06T14:23:36.532Z"
   },
   {
    "duration": 9,
    "start_time": "2023-11-06T14:23:40.678Z"
   },
   {
    "duration": 3,
    "start_time": "2023-11-06T14:24:53.187Z"
   },
   {
    "duration": 28,
    "start_time": "2023-11-06T14:25:06.806Z"
   },
   {
    "duration": 74,
    "start_time": "2023-11-06T14:27:39.849Z"
   },
   {
    "duration": 72,
    "start_time": "2023-11-06T14:27:58.464Z"
   },
   {
    "duration": 3,
    "start_time": "2023-11-06T14:28:16.747Z"
   },
   {
    "duration": 26124,
    "start_time": "2023-11-06T14:28:18.385Z"
   },
   {
    "duration": 20213,
    "start_time": "2023-11-06T14:28:45.372Z"
   },
   {
    "duration": 4,
    "start_time": "2023-11-06T14:31:21.568Z"
   },
   {
    "duration": 16,
    "start_time": "2023-11-06T14:31:29.594Z"
   },
   {
    "duration": 647,
    "start_time": "2023-11-06T14:31:38.985Z"
   },
   {
    "duration": 3,
    "start_time": "2023-11-06T14:32:02.042Z"
   },
   {
    "duration": 645,
    "start_time": "2023-11-06T14:32:02.483Z"
   },
   {
    "duration": 3,
    "start_time": "2023-11-06T14:32:15.339Z"
   },
   {
    "duration": 643,
    "start_time": "2023-11-06T14:32:15.826Z"
   },
   {
    "duration": 3,
    "start_time": "2023-11-06T14:32:43.818Z"
   },
   {
    "duration": 632,
    "start_time": "2023-11-06T14:32:44.034Z"
   },
   {
    "duration": 3,
    "start_time": "2023-11-06T14:33:22.915Z"
   },
   {
    "duration": 23,
    "start_time": "2023-11-06T14:33:23.396Z"
   },
   {
    "duration": 4,
    "start_time": "2023-11-06T14:37:30.602Z"
   },
   {
    "duration": 55330,
    "start_time": "2023-11-06T14:37:30.985Z"
   },
   {
    "duration": 0,
    "start_time": "2023-11-06T14:38:26.318Z"
   },
   {
    "duration": 5,
    "start_time": "2023-11-06T14:38:28.354Z"
   },
   {
    "duration": 90251,
    "start_time": "2023-11-06T14:38:29.084Z"
   },
   {
    "duration": 72,
    "start_time": "2023-11-06T14:42:16.400Z"
   },
   {
    "duration": 14481,
    "start_time": "2023-11-06T14:42:17.019Z"
   },
   {
    "duration": 0,
    "start_time": "2023-11-06T14:42:31.503Z"
   },
   {
    "duration": 70,
    "start_time": "2023-11-06T14:42:33.291Z"
   },
   {
    "duration": 3,
    "start_time": "2023-11-06T14:43:19.076Z"
   },
   {
    "duration": 16523,
    "start_time": "2023-11-06T14:43:21.615Z"
   },
   {
    "duration": 5,
    "start_time": "2023-11-06T14:43:53.812Z"
   },
   {
    "duration": 646,
    "start_time": "2023-11-06T14:43:54.326Z"
   },
   {
    "duration": 70,
    "start_time": "2023-11-06T14:44:25.013Z"
   },
   {
    "duration": 66,
    "start_time": "2023-11-06T14:44:30.908Z"
   },
   {
    "duration": 3,
    "start_time": "2023-11-06T14:44:34.773Z"
   },
   {
    "duration": 640,
    "start_time": "2023-11-06T14:44:35.900Z"
   },
   {
    "duration": 4,
    "start_time": "2023-11-06T14:44:56.992Z"
   },
   {
    "duration": 631,
    "start_time": "2023-11-06T14:44:57.397Z"
   },
   {
    "duration": 3,
    "start_time": "2023-11-06T14:46:10.581Z"
   },
   {
    "duration": 677,
    "start_time": "2023-11-06T14:46:11.509Z"
   },
   {
    "duration": 3,
    "start_time": "2023-11-06T14:46:57.040Z"
   },
   {
    "duration": 648,
    "start_time": "2023-11-06T14:46:57.533Z"
   },
   {
    "duration": 84,
    "start_time": "2023-11-06T14:51:28.632Z"
   },
   {
    "duration": 656,
    "start_time": "2023-11-06T14:51:29.111Z"
   },
   {
    "duration": 88,
    "start_time": "2023-11-06T14:51:38.680Z"
   },
   {
    "duration": 4,
    "start_time": "2023-11-06T14:52:03.145Z"
   },
   {
    "duration": 651,
    "start_time": "2023-11-06T14:52:03.897Z"
   },
   {
    "duration": 70,
    "start_time": "2023-11-06T14:56:50.467Z"
   },
   {
    "duration": 71,
    "start_time": "2023-11-06T14:57:05.117Z"
   },
   {
    "duration": 76,
    "start_time": "2023-11-06T14:57:11.618Z"
   },
   {
    "duration": 4,
    "start_time": "2023-11-06T14:59:18.812Z"
   },
   {
    "duration": 648,
    "start_time": "2023-11-06T14:59:20.356Z"
   },
   {
    "duration": 5,
    "start_time": "2023-11-06T14:59:50.676Z"
   },
   {
    "duration": 659,
    "start_time": "2023-11-06T14:59:51.414Z"
   },
   {
    "duration": 99,
    "start_time": "2023-11-06T15:00:47.660Z"
   },
   {
    "duration": 650,
    "start_time": "2023-11-06T15:00:47.863Z"
   },
   {
    "duration": 4,
    "start_time": "2023-11-06T15:00:52.188Z"
   },
   {
    "duration": 7256,
    "start_time": "2023-11-06T15:00:52.371Z"
   },
   {
    "duration": 4,
    "start_time": "2023-11-06T15:01:25.388Z"
   },
   {
    "duration": 11175,
    "start_time": "2023-11-06T15:01:25.974Z"
   },
   {
    "duration": 4,
    "start_time": "2023-11-06T15:02:59.476Z"
   },
   {
    "duration": 711,
    "start_time": "2023-11-06T15:03:00.367Z"
   },
   {
    "duration": 4,
    "start_time": "2023-11-06T15:03:34.500Z"
   },
   {
    "duration": 665,
    "start_time": "2023-11-06T15:03:34.998Z"
   },
   {
    "duration": 4,
    "start_time": "2023-11-06T15:03:47.077Z"
   },
   {
    "duration": 834,
    "start_time": "2023-11-06T15:03:47.575Z"
   },
   {
    "duration": 4,
    "start_time": "2023-11-06T15:04:46.510Z"
   },
   {
    "duration": 639,
    "start_time": "2023-11-06T15:04:46.973Z"
   },
   {
    "duration": 4,
    "start_time": "2023-11-06T15:06:53.039Z"
   },
   {
    "duration": 674,
    "start_time": "2023-11-06T15:06:54.110Z"
   },
   {
    "duration": 8228,
    "start_time": "2023-11-08T00:44:26.596Z"
   },
   {
    "duration": 6030,
    "start_time": "2023-11-08T00:44:34.826Z"
   },
   {
    "duration": 55,
    "start_time": "2023-11-08T00:44:48.904Z"
   },
   {
    "duration": 2307,
    "start_time": "2023-11-08T00:44:51.103Z"
   },
   {
    "duration": 4,
    "start_time": "2023-11-08T00:44:53.412Z"
   },
   {
    "duration": 318,
    "start_time": "2023-11-08T00:44:53.418Z"
   },
   {
    "duration": 14,
    "start_time": "2023-11-08T00:44:53.738Z"
   },
   {
    "duration": 55,
    "start_time": "2023-11-08T00:44:53.753Z"
   },
   {
    "duration": 111,
    "start_time": "2023-11-08T00:44:53.810Z"
   },
   {
    "duration": 477,
    "start_time": "2023-11-08T00:44:58.995Z"
   },
   {
    "duration": 5,
    "start_time": "2023-11-08T00:45:05.763Z"
   },
   {
    "duration": 1314,
    "start_time": "2023-11-08T00:45:08.682Z"
   },
   {
    "duration": 4,
    "start_time": "2023-11-08T00:45:50.798Z"
   },
   {
    "duration": 4,
    "start_time": "2023-11-08T00:46:09.452Z"
   },
   {
    "duration": 133,
    "start_time": "2023-11-08T00:47:44.845Z"
   },
   {
    "duration": 4,
    "start_time": "2023-11-08T00:47:51.525Z"
   },
   {
    "duration": 713,
    "start_time": "2023-11-08T00:47:53.303Z"
   },
   {
    "duration": 4,
    "start_time": "2023-11-08T00:48:52.012Z"
   },
   {
    "duration": 691,
    "start_time": "2023-11-08T00:48:53.023Z"
   },
   {
    "duration": 4,
    "start_time": "2023-11-08T00:49:08.564Z"
   },
   {
    "duration": 688,
    "start_time": "2023-11-08T00:49:08.983Z"
   },
   {
    "duration": 4,
    "start_time": "2023-11-08T00:49:40.865Z"
   },
   {
    "duration": 714,
    "start_time": "2023-11-08T00:49:41.373Z"
   },
   {
    "duration": 39,
    "start_time": "2023-11-08T00:50:17.831Z"
   },
   {
    "duration": 4,
    "start_time": "2023-11-08T00:50:55.372Z"
   },
   {
    "duration": 711,
    "start_time": "2023-11-08T00:50:57.346Z"
   },
   {
    "duration": 4,
    "start_time": "2023-11-08T00:51:03.085Z"
   },
   {
    "duration": 5,
    "start_time": "2023-11-08T00:51:11.284Z"
   },
   {
    "duration": 4,
    "start_time": "2023-11-08T00:51:38.072Z"
   },
   {
    "duration": 701,
    "start_time": "2023-11-08T00:51:38.415Z"
   },
   {
    "duration": 5,
    "start_time": "2023-11-08T00:51:47.225Z"
   },
   {
    "duration": 676,
    "start_time": "2023-11-08T00:51:47.823Z"
   },
   {
    "duration": 4,
    "start_time": "2023-11-08T00:52:27.992Z"
   },
   {
    "duration": 689,
    "start_time": "2023-11-08T00:52:28.423Z"
   },
   {
    "duration": 6,
    "start_time": "2023-11-08T00:53:16.154Z"
   },
   {
    "duration": 790,
    "start_time": "2023-11-08T00:53:16.904Z"
   },
   {
    "duration": 4,
    "start_time": "2023-11-08T00:54:18.824Z"
   },
   {
    "duration": 724,
    "start_time": "2023-11-08T00:54:19.184Z"
   },
   {
    "duration": 4,
    "start_time": "2023-11-08T00:56:26.704Z"
   },
   {
    "duration": 689,
    "start_time": "2023-11-08T00:56:27.398Z"
   },
   {
    "duration": 4,
    "start_time": "2023-11-08T00:56:41.579Z"
   },
   {
    "duration": 685,
    "start_time": "2023-11-08T00:56:42.383Z"
   },
   {
    "duration": 4,
    "start_time": "2023-11-08T00:57:11.773Z"
   },
   {
    "duration": 678,
    "start_time": "2023-11-08T00:57:12.463Z"
   },
   {
    "duration": 4,
    "start_time": "2023-11-08T00:57:29.063Z"
   },
   {
    "duration": 32,
    "start_time": "2023-11-08T00:57:29.695Z"
   },
   {
    "duration": 14346,
    "start_time": "2023-11-08T01:02:16.316Z"
   },
   {
    "duration": 5,
    "start_time": "2023-11-08T01:03:39.598Z"
   },
   {
    "duration": 701,
    "start_time": "2023-11-08T01:03:39.975Z"
   },
   {
    "duration": 4,
    "start_time": "2023-11-08T01:03:47.362Z"
   },
   {
    "duration": 670,
    "start_time": "2023-11-08T01:03:49.435Z"
   },
   {
    "duration": 474,
    "start_time": "2023-11-08T01:04:27.052Z"
   },
   {
    "duration": 426,
    "start_time": "2023-11-08T01:04:38.435Z"
   },
   {
    "duration": 4,
    "start_time": "2023-11-08T01:04:43.529Z"
   },
   {
    "duration": 793,
    "start_time": "2023-11-08T01:04:43.657Z"
   },
   {
    "duration": 724,
    "start_time": "2023-11-08T01:04:52.129Z"
   },
   {
    "duration": 4,
    "start_time": "2023-11-08T01:05:13.377Z"
   },
   {
    "duration": 686,
    "start_time": "2023-11-08T01:05:14.815Z"
   },
   {
    "duration": 4,
    "start_time": "2023-11-08T01:05:41.333Z"
   },
   {
    "duration": 30,
    "start_time": "2023-11-08T01:05:42.818Z"
   },
   {
    "duration": 4,
    "start_time": "2023-11-08T01:06:19.726Z"
   },
   {
    "duration": 51538,
    "start_time": "2023-11-08T01:06:24.615Z"
   },
   {
    "duration": 4,
    "start_time": "2023-11-08T01:07:25.828Z"
   },
   {
    "duration": 70838,
    "start_time": "2023-11-08T01:07:29.148Z"
   },
   {
    "duration": 79,
    "start_time": "2023-11-08T01:08:43.140Z"
   },
   {
    "duration": 4,
    "start_time": "2023-11-08T01:09:24.990Z"
   },
   {
    "duration": 24375,
    "start_time": "2023-11-08T01:09:25.738Z"
   },
   {
    "duration": 5,
    "start_time": "2023-11-08T01:10:22.633Z"
   },
   {
    "duration": 29071,
    "start_time": "2023-11-08T01:10:23.593Z"
   },
   {
    "duration": 9,
    "start_time": "2023-11-08T01:17:42.868Z"
   },
   {
    "duration": 41,
    "start_time": "2023-11-08T01:17:43.967Z"
   },
   {
    "duration": 4820,
    "start_time": "2023-11-08T01:17:51.770Z"
   },
   {
    "duration": 2421,
    "start_time": "2023-11-08T01:17:56.592Z"
   },
   {
    "duration": 4,
    "start_time": "2023-11-08T01:17:59.014Z"
   },
   {
    "duration": 14,
    "start_time": "2023-11-08T01:18:07.381Z"
   },
   {
    "duration": 595,
    "start_time": "2023-11-08T01:18:13.100Z"
   },
   {
    "duration": 4,
    "start_time": "2023-11-08T01:18:25.388Z"
   },
   {
    "duration": 14805,
    "start_time": "2023-11-08T01:18:27.252Z"
   },
   {
    "duration": 6,
    "start_time": "2023-11-08T01:24:15.400Z"
   },
   {
    "duration": 10,
    "start_time": "2023-11-08T01:29:08.937Z"
   },
   {
    "duration": 42,
    "start_time": "2023-11-08T01:29:09.773Z"
   },
   {
    "duration": 4763,
    "start_time": "2023-11-08T01:29:17.565Z"
   },
   {
    "duration": 2251,
    "start_time": "2023-11-08T01:29:22.330Z"
   },
   {
    "duration": 3,
    "start_time": "2023-11-08T01:29:24.583Z"
   },
   {
    "duration": 299,
    "start_time": "2023-11-08T01:29:24.588Z"
   },
   {
    "duration": 24,
    "start_time": "2023-11-08T01:29:24.889Z"
   },
   {
    "duration": 30,
    "start_time": "2023-11-08T01:29:24.914Z"
   },
   {
    "duration": 122,
    "start_time": "2023-11-08T01:29:24.945Z"
   },
   {
    "duration": 489,
    "start_time": "2023-11-08T01:29:25.068Z"
   },
   {
    "duration": 4,
    "start_time": "2023-11-08T01:29:25.559Z"
   },
   {
    "duration": 298,
    "start_time": "2023-11-08T01:29:25.565Z"
   },
   {
    "duration": 5,
    "start_time": "2023-11-08T01:29:38.581Z"
   },
   {
    "duration": 13468,
    "start_time": "2023-11-08T01:29:39.187Z"
   },
   {
    "duration": 5,
    "start_time": "2023-11-08T01:29:56.937Z"
   },
   {
    "duration": 7565,
    "start_time": "2023-11-08T01:29:57.438Z"
   },
   {
    "duration": 5,
    "start_time": "2023-11-08T01:31:05.115Z"
   },
   {
    "duration": 735,
    "start_time": "2023-11-08T01:31:05.888Z"
   },
   {
    "duration": 5,
    "start_time": "2023-11-08T01:31:13.068Z"
   },
   {
    "duration": 45,
    "start_time": "2023-11-08T01:36:18.900Z"
   },
   {
    "duration": 5,
    "start_time": "2023-11-08T01:36:23.899Z"
   },
   {
    "duration": 5,
    "start_time": "2023-11-08T01:36:24.872Z"
   },
   {
    "duration": 6,
    "start_time": "2023-11-08T02:12:08.616Z"
   },
   {
    "duration": 4819,
    "start_time": "2023-11-08T15:13:42.732Z"
   },
   {
    "duration": 2354,
    "start_time": "2023-11-08T15:13:48.090Z"
   },
   {
    "duration": 5,
    "start_time": "2023-11-08T15:13:50.446Z"
   },
   {
    "duration": 14,
    "start_time": "2023-11-08T15:13:52.450Z"
   },
   {
    "duration": 120,
    "start_time": "2023-11-08T15:13:55.627Z"
   },
   {
    "duration": 532,
    "start_time": "2023-11-08T15:14:01.245Z"
   },
   {
    "duration": 3,
    "start_time": "2023-11-08T15:14:37.092Z"
   },
   {
    "duration": 790968,
    "start_time": "2023-11-08T15:14:41.307Z"
   },
   {
    "duration": 5,
    "start_time": "2023-11-08T15:27:52.277Z"
   },
   {
    "duration": 4,
    "start_time": "2023-11-08T15:27:58.024Z"
   },
   {
    "duration": 5,
    "start_time": "2023-11-08T15:28:06.341Z"
   },
   {
    "duration": 9,
    "start_time": "2023-11-08T15:28:15.804Z"
   },
   {
    "duration": 741715,
    "start_time": "2023-11-08T15:28:57.979Z"
   },
   {
    "duration": 13,
    "start_time": "2023-11-08T15:41:19.697Z"
   },
   {
    "duration": 10,
    "start_time": "2023-11-08T15:41:19.712Z"
   },
   {
    "duration": 4,
    "start_time": "2023-11-08T15:41:58.378Z"
   },
   {
    "duration": 5285,
    "start_time": "2023-11-08T15:41:58.969Z"
   },
   {
    "duration": 5028,
    "start_time": "2023-11-09T07:33:23.182Z"
   },
   {
    "duration": 2462,
    "start_time": "2023-11-09T07:33:28.212Z"
   },
   {
    "duration": 4,
    "start_time": "2023-11-09T07:33:30.676Z"
   },
   {
    "duration": 384,
    "start_time": "2023-11-09T07:33:30.683Z"
   },
   {
    "duration": 14,
    "start_time": "2023-11-09T07:33:31.069Z"
   },
   {
    "duration": 322,
    "start_time": "2023-11-09T07:33:31.085Z"
   },
   {
    "duration": 134,
    "start_time": "2023-11-09T07:33:31.409Z"
   },
   {
    "duration": 561,
    "start_time": "2023-11-09T07:33:31.547Z"
   },
   {
    "duration": 4,
    "start_time": "2023-11-09T07:33:32.109Z"
   },
   {
    "duration": 765901,
    "start_time": "2023-11-09T07:33:32.115Z"
   },
   {
    "duration": 32,
    "start_time": "2023-11-09T07:46:18.018Z"
   },
   {
    "duration": 14,
    "start_time": "2023-11-09T07:46:18.053Z"
   },
   {
    "duration": 9,
    "start_time": "2023-11-09T07:46:45.802Z"
   },
   {
    "duration": 13,
    "start_time": "2023-11-09T07:47:30.106Z"
   },
   {
    "duration": 5,
    "start_time": "2023-11-09T07:51:23.200Z"
   },
   {
    "duration": 95,
    "start_time": "2023-11-09T07:55:34.198Z"
   },
   {
    "duration": 361,
    "start_time": "2023-11-09T07:55:43.209Z"
   },
   {
    "duration": 16197,
    "start_time": "2023-11-09T07:55:54.165Z"
   },
   {
    "duration": 0,
    "start_time": "2023-11-09T07:56:10.364Z"
   },
   {
    "duration": 1844,
    "start_time": "2023-11-09T07:56:22.926Z"
   },
   {
    "duration": 14,
    "start_time": "2023-11-09T07:56:24.773Z"
   },
   {
    "duration": 2020,
    "start_time": "2023-11-09T07:56:37.110Z"
   },
   {
    "duration": 16,
    "start_time": "2023-11-09T07:56:39.133Z"
   },
   {
    "duration": 1794,
    "start_time": "2023-11-09T07:57:07.327Z"
   },
   {
    "duration": 13,
    "start_time": "2023-11-09T07:57:09.710Z"
   },
   {
    "duration": 1931,
    "start_time": "2023-11-09T07:57:15.079Z"
   },
   {
    "duration": 13,
    "start_time": "2023-11-09T07:57:17.012Z"
   },
   {
    "duration": 30,
    "start_time": "2023-11-09T07:57:26.014Z"
   },
   {
    "duration": 117,
    "start_time": "2023-11-09T07:57:37.529Z"
   },
   {
    "duration": 89,
    "start_time": "2023-11-09T07:58:17.951Z"
   },
   {
    "duration": 84,
    "start_time": "2023-11-09T07:58:43.895Z"
   },
   {
    "duration": 29,
    "start_time": "2023-11-09T07:59:02.815Z"
   },
   {
    "duration": 33,
    "start_time": "2023-11-09T07:59:34.680Z"
   },
   {
    "duration": 34,
    "start_time": "2023-11-09T07:59:43.001Z"
   },
   {
    "duration": 1990,
    "start_time": "2023-11-09T07:59:59.945Z"
   },
   {
    "duration": 12,
    "start_time": "2023-11-09T08:00:01.976Z"
   },
   {
    "duration": 2065,
    "start_time": "2023-11-09T08:00:07.608Z"
   },
   {
    "duration": 14,
    "start_time": "2023-11-09T08:00:09.675Z"
   },
   {
    "duration": 2002,
    "start_time": "2023-11-09T08:00:25.305Z"
   },
   {
    "duration": 14,
    "start_time": "2023-11-09T08:00:27.309Z"
   },
   {
    "duration": 134,
    "start_time": "2023-11-09T08:00:57.329Z"
   },
   {
    "duration": 10940,
    "start_time": "2023-11-09T08:01:07.424Z"
   },
   {
    "duration": 14,
    "start_time": "2023-11-09T08:01:18.366Z"
   },
   {
    "duration": 6660,
    "start_time": "2023-11-09T08:01:40.928Z"
   },
   {
    "duration": 13,
    "start_time": "2023-11-09T08:01:47.591Z"
   },
   {
    "duration": 4740,
    "start_time": "2023-11-09T08:01:57.146Z"
   },
   {
    "duration": 16,
    "start_time": "2023-11-09T08:02:01.888Z"
   },
   {
    "duration": 4690,
    "start_time": "2023-11-09T08:02:07.577Z"
   },
   {
    "duration": 4,
    "start_time": "2023-11-09T08:02:12.269Z"
   },
   {
    "duration": 8637,
    "start_time": "2023-11-09T08:02:18.360Z"
   },
   {
    "duration": 13,
    "start_time": "2023-11-09T08:02:26.999Z"
   },
   {
    "duration": 46,
    "start_time": "2023-11-09T08:02:48.576Z"
   },
   {
    "duration": 241,
    "start_time": "2023-11-09T08:04:25.338Z"
   },
   {
    "duration": 146,
    "start_time": "2023-11-09T08:04:34.394Z"
   },
   {
    "duration": 506,
    "start_time": "2023-11-09T08:04:41.729Z"
   },
   {
    "duration": 2065,
    "start_time": "2023-11-09T08:04:49.873Z"
   },
   {
    "duration": 15,
    "start_time": "2023-11-09T08:04:51.940Z"
   },
   {
    "duration": 2097,
    "start_time": "2023-11-09T08:04:58.360Z"
   },
   {
    "duration": 15,
    "start_time": "2023-11-09T08:05:00.460Z"
   },
   {
    "duration": 2093,
    "start_time": "2023-11-09T08:06:31.892Z"
   },
   {
    "duration": 13,
    "start_time": "2023-11-09T08:06:33.987Z"
   },
   {
    "duration": 2471,
    "start_time": "2023-11-09T08:06:56.163Z"
   },
   {
    "duration": 17,
    "start_time": "2023-11-09T08:06:58.636Z"
   },
   {
    "duration": 2121,
    "start_time": "2023-11-09T08:07:06.059Z"
   },
   {
    "duration": 13,
    "start_time": "2023-11-09T08:07:08.183Z"
   },
   {
    "duration": 78,
    "start_time": "2023-11-09T08:07:17.524Z"
   },
   {
    "duration": 150,
    "start_time": "2023-11-09T08:07:22.842Z"
   },
   {
    "duration": 2092,
    "start_time": "2023-11-09T08:08:05.157Z"
   },
   {
    "duration": 13,
    "start_time": "2023-11-09T08:08:07.252Z"
   },
   {
    "duration": 2193,
    "start_time": "2023-11-09T08:08:14.571Z"
   },
   {
    "duration": 14,
    "start_time": "2023-11-09T08:08:16.766Z"
   },
   {
    "duration": 2044,
    "start_time": "2023-11-09T08:08:26.843Z"
   },
   {
    "duration": 13,
    "start_time": "2023-11-09T08:08:28.889Z"
   },
   {
    "duration": 88,
    "start_time": "2023-11-09T08:08:34.860Z"
   },
   {
    "duration": 17,
    "start_time": "2023-11-09T08:08:35.293Z"
   },
   {
    "duration": 2193,
    "start_time": "2023-11-09T08:08:54.518Z"
   },
   {
    "duration": 14,
    "start_time": "2023-11-09T08:08:57.455Z"
   },
   {
    "duration": 4666,
    "start_time": "2023-11-09T08:09:20.228Z"
   },
   {
    "duration": 5,
    "start_time": "2023-11-09T08:09:24.896Z"
   },
   {
    "duration": 8744,
    "start_time": "2023-11-09T08:09:29.203Z"
   },
   {
    "duration": 13,
    "start_time": "2023-11-09T08:09:37.949Z"
   },
   {
    "duration": 4753,
    "start_time": "2023-11-09T08:09:42.572Z"
   },
   {
    "duration": 13,
    "start_time": "2023-11-09T08:09:47.327Z"
   },
   {
    "duration": 4709,
    "start_time": "2023-11-09T08:09:51.724Z"
   },
   {
    "duration": 4,
    "start_time": "2023-11-09T08:09:56.435Z"
   },
   {
    "duration": 9116,
    "start_time": "2023-11-09T08:11:01.980Z"
   },
   {
    "duration": 4611,
    "start_time": "2023-11-09T08:11:11.098Z"
   },
   {
    "duration": 2473,
    "start_time": "2023-11-09T08:11:15.711Z"
   },
   {
    "duration": 5,
    "start_time": "2023-11-09T08:11:18.186Z"
   },
   {
    "duration": 342,
    "start_time": "2023-11-09T08:11:18.192Z"
   },
   {
    "duration": 21,
    "start_time": "2023-11-09T08:11:18.536Z"
   },
   {
    "duration": 47,
    "start_time": "2023-11-09T08:11:18.559Z"
   },
   {
    "duration": 127,
    "start_time": "2023-11-09T08:11:18.608Z"
   },
   {
    "duration": 567,
    "start_time": "2023-11-09T08:11:18.747Z"
   },
   {
    "duration": 391946,
    "start_time": "2023-11-09T08:11:19.317Z"
   },
   {
    "duration": 0,
    "start_time": "2023-11-09T08:17:51.265Z"
   },
   {
    "duration": 0,
    "start_time": "2023-11-09T08:17:51.267Z"
   },
   {
    "duration": 0,
    "start_time": "2023-11-09T08:17:51.268Z"
   },
   {
    "duration": 0,
    "start_time": "2023-11-09T08:17:51.269Z"
   },
   {
    "duration": 0,
    "start_time": "2023-11-09T08:17:51.271Z"
   },
   {
    "duration": 0,
    "start_time": "2023-11-09T08:17:51.272Z"
   },
   {
    "duration": 0,
    "start_time": "2023-11-09T08:17:51.273Z"
   },
   {
    "duration": 0,
    "start_time": "2023-11-09T08:17:51.274Z"
   },
   {
    "duration": 1,
    "start_time": "2023-11-09T08:17:51.274Z"
   },
   {
    "duration": 0,
    "start_time": "2023-11-09T08:17:51.276Z"
   },
   {
    "duration": 0,
    "start_time": "2023-11-09T08:17:51.277Z"
   },
   {
    "duration": 0,
    "start_time": "2023-11-09T08:17:51.278Z"
   },
   {
    "duration": 0,
    "start_time": "2023-11-09T08:17:51.278Z"
   },
   {
    "duration": 0,
    "start_time": "2023-11-09T08:17:51.279Z"
   },
   {
    "duration": 0,
    "start_time": "2023-11-09T08:17:51.281Z"
   },
   {
    "duration": 0,
    "start_time": "2023-11-09T08:17:51.282Z"
   },
   {
    "duration": 0,
    "start_time": "2023-11-09T08:17:51.283Z"
   },
   {
    "duration": 0,
    "start_time": "2023-11-09T08:17:51.284Z"
   },
   {
    "duration": 0,
    "start_time": "2023-11-09T08:17:51.285Z"
   },
   {
    "duration": 0,
    "start_time": "2023-11-09T08:17:51.285Z"
   },
   {
    "duration": 0,
    "start_time": "2023-11-09T08:17:51.286Z"
   },
   {
    "duration": 28,
    "start_time": "2023-11-09T08:17:56.108Z"
   },
   {
    "duration": 753276,
    "start_time": "2023-11-09T08:18:03.631Z"
   },
   {
    "duration": 37,
    "start_time": "2023-11-09T08:30:36.910Z"
   },
   {
    "duration": 3035,
    "start_time": "2023-11-09T08:30:36.949Z"
   },
   {
    "duration": 0,
    "start_time": "2023-11-09T08:30:39.986Z"
   },
   {
    "duration": 0,
    "start_time": "2023-11-09T08:30:39.988Z"
   },
   {
    "duration": 3800,
    "start_time": "2023-11-09T08:30:53.168Z"
   },
   {
    "duration": 4,
    "start_time": "2023-11-09T08:30:57.401Z"
   },
   {
    "duration": 3822,
    "start_time": "2023-11-09T08:31:05.446Z"
   },
   {
    "duration": 3,
    "start_time": "2023-11-09T08:31:09.270Z"
   },
   {
    "duration": 41,
    "start_time": "2023-11-09T08:31:58.950Z"
   },
   {
    "duration": 4,
    "start_time": "2023-11-09T08:32:00.310Z"
   },
   {
    "duration": 113,
    "start_time": "2023-11-09T08:32:09.989Z"
   },
   {
    "duration": 13,
    "start_time": "2023-11-09T08:32:10.638Z"
   },
   {
    "duration": 63,
    "start_time": "2023-11-09T08:32:32.752Z"
   },
   {
    "duration": 13,
    "start_time": "2023-11-09T08:32:33.193Z"
   },
   {
    "duration": 61,
    "start_time": "2023-11-09T08:32:38.758Z"
   },
   {
    "duration": 12,
    "start_time": "2023-11-09T08:32:39.527Z"
   },
   {
    "duration": 57,
    "start_time": "2023-11-09T08:32:52.871Z"
   },
   {
    "duration": 71,
    "start_time": "2023-11-09T08:32:53.511Z"
   },
   {
    "duration": 4,
    "start_time": "2023-11-09T08:33:38.239Z"
   },
   {
    "duration": 22,
    "start_time": "2023-11-09T08:33:39.391Z"
   },
   {
    "duration": 6,
    "start_time": "2023-11-09T08:33:52.760Z"
   },
   {
    "duration": 25,
    "start_time": "2023-11-09T08:34:29.445Z"
   },
   {
    "duration": 60,
    "start_time": "2023-11-09T08:34:30.558Z"
   },
   {
    "duration": 25,
    "start_time": "2023-11-09T08:34:34.991Z"
   },
   {
    "duration": 32,
    "start_time": "2023-11-09T08:34:45.608Z"
   },
   {
    "duration": 12,
    "start_time": "2023-11-09T08:34:47.440Z"
   },
   {
    "duration": 60,
    "start_time": "2023-11-09T08:37:38.855Z"
   },
   {
    "duration": 25,
    "start_time": "2023-11-09T08:37:49.079Z"
   },
   {
    "duration": 47,
    "start_time": "2023-11-09T08:38:02.394Z"
   },
   {
    "duration": 4,
    "start_time": "2023-11-09T08:38:03.810Z"
   },
   {
    "duration": 99,
    "start_time": "2023-11-09T08:38:13.386Z"
   },
   {
    "duration": 3,
    "start_time": "2023-11-09T08:38:13.845Z"
   },
   {
    "duration": 106,
    "start_time": "2023-11-09T08:38:29.315Z"
   },
   {
    "duration": 84,
    "start_time": "2023-11-09T08:38:35.499Z"
   },
   {
    "duration": 47,
    "start_time": "2023-11-09T08:38:40.888Z"
   },
   {
    "duration": 4,
    "start_time": "2023-11-09T08:38:41.482Z"
   },
   {
    "duration": 61,
    "start_time": "2023-11-09T08:38:50.322Z"
   },
   {
    "duration": 25,
    "start_time": "2023-11-09T08:38:50.907Z"
   },
   {
    "duration": 4,
    "start_time": "2023-11-09T08:39:05.890Z"
   },
   {
    "duration": 392,
    "start_time": "2023-11-09T08:40:03.139Z"
   },
   {
    "duration": 416,
    "start_time": "2023-11-09T08:40:11.884Z"
   },
   {
    "duration": 3,
    "start_time": "2023-11-09T08:40:12.739Z"
   },
   {
    "duration": 158,
    "start_time": "2023-11-09T08:40:16.066Z"
   },
   {
    "duration": 3,
    "start_time": "2023-11-09T08:40:16.547Z"
   },
   {
    "duration": 227,
    "start_time": "2023-11-09T08:40:19.285Z"
   },
   {
    "duration": 157,
    "start_time": "2023-11-09T08:41:44.572Z"
   },
   {
    "duration": 4,
    "start_time": "2023-11-09T08:41:45.499Z"
   },
   {
    "duration": 59,
    "start_time": "2023-11-09T08:42:07.317Z"
   },
   {
    "duration": 25,
    "start_time": "2023-11-09T08:42:07.860Z"
   },
   {
    "duration": 27,
    "start_time": "2023-11-09T08:42:12.915Z"
   },
   {
    "duration": 60,
    "start_time": "2023-11-09T08:42:44.540Z"
   },
   {
    "duration": 7,
    "start_time": "2023-11-09T08:42:47.299Z"
   },
   {
    "duration": 36,
    "start_time": "2023-11-09T08:42:49.318Z"
   },
   {
    "duration": 29,
    "start_time": "2023-11-09T08:43:02.421Z"
   },
   {
    "duration": 13,
    "start_time": "2023-11-09T08:43:05.548Z"
   },
   {
    "duration": 393,
    "start_time": "2023-11-09T08:43:42.509Z"
   },
   {
    "duration": 4899,
    "start_time": "2023-11-09T08:48:26.447Z"
   },
   {
    "duration": 2416,
    "start_time": "2023-11-09T08:48:31.348Z"
   },
   {
    "duration": 4,
    "start_time": "2023-11-09T08:48:33.766Z"
   },
   {
    "duration": 351,
    "start_time": "2023-11-09T08:48:33.772Z"
   },
   {
    "duration": 26,
    "start_time": "2023-11-09T08:48:34.124Z"
   },
   {
    "duration": 33,
    "start_time": "2023-11-09T08:48:34.152Z"
   },
   {
    "duration": 138,
    "start_time": "2023-11-09T08:48:34.187Z"
   },
   {
    "duration": 549,
    "start_time": "2023-11-09T08:48:34.327Z"
   },
   {
    "duration": 72,
    "start_time": "2023-11-09T08:48:34.877Z"
   },
   {
    "duration": 0,
    "start_time": "2023-11-09T08:48:34.951Z"
   },
   {
    "duration": 0,
    "start_time": "2023-11-09T08:48:34.952Z"
   },
   {
    "duration": 0,
    "start_time": "2023-11-09T08:48:34.953Z"
   },
   {
    "duration": 2083,
    "start_time": "2023-11-09T08:48:40.271Z"
   },
   {
    "duration": 772222,
    "start_time": "2023-11-09T08:48:58.960Z"
   },
   {
    "duration": 2580,
    "start_time": "2023-11-09T09:01:51.185Z"
   },
   {
    "duration": 23,
    "start_time": "2023-11-09T09:04:26.887Z"
   },
   {
    "duration": 59,
    "start_time": "2023-11-09T09:04:33.447Z"
   },
   {
    "duration": 64,
    "start_time": "2023-11-09T09:05:21.611Z"
   },
   {
    "duration": 16,
    "start_time": "2023-11-09T09:05:24.088Z"
   },
   {
    "duration": 1259,
    "start_time": "2023-11-09T09:05:43.420Z"
   },
   {
    "duration": 48,
    "start_time": "2023-11-09T09:05:46.090Z"
   },
   {
    "duration": 29,
    "start_time": "2023-11-09T09:06:11.264Z"
   },
   {
    "duration": 11,
    "start_time": "2023-11-09T09:06:22.314Z"
   },
   {
    "duration": 83,
    "start_time": "2023-11-09T09:07:16.933Z"
   },
   {
    "duration": 20,
    "start_time": "2023-11-09T09:07:56.227Z"
   },
   {
    "duration": 1297,
    "start_time": "2023-11-09T09:08:03.264Z"
   },
   {
    "duration": 8,
    "start_time": "2023-11-09T09:08:08.675Z"
   },
   {
    "duration": 12,
    "start_time": "2023-11-09T09:08:10.554Z"
   },
   {
    "duration": 28,
    "start_time": "2023-11-09T09:08:41.245Z"
   },
   {
    "duration": 21,
    "start_time": "2023-11-09T09:08:44.812Z"
   },
   {
    "duration": 36,
    "start_time": "2023-11-09T09:09:32.948Z"
   },
   {
    "duration": 21,
    "start_time": "2023-11-09T09:09:37.210Z"
   },
   {
    "duration": 23,
    "start_time": "2023-11-09T09:09:41.204Z"
   },
   {
    "duration": 1343,
    "start_time": "2023-11-09T09:09:44.204Z"
   },
   {
    "duration": 29,
    "start_time": "2023-11-09T09:09:45.549Z"
   },
   {
    "duration": 29,
    "start_time": "2023-11-09T09:09:49.421Z"
   },
   {
    "duration": 1355,
    "start_time": "2023-11-09T09:09:56.766Z"
   },
   {
    "duration": 27,
    "start_time": "2023-11-09T09:10:08.691Z"
   },
   {
    "duration": 12,
    "start_time": "2023-11-09T09:10:29.353Z"
   },
   {
    "duration": 31,
    "start_time": "2023-11-09T09:10:36.490Z"
   },
   {
    "duration": 37,
    "start_time": "2023-11-09T09:10:38.405Z"
   },
   {
    "duration": 2,
    "start_time": "2023-11-09T09:10:47.842Z"
   },
   {
    "duration": 18,
    "start_time": "2023-11-09T09:10:48.991Z"
   },
   {
    "duration": 4,
    "start_time": "2023-11-09T09:11:02.415Z"
   },
   {
    "duration": 35,
    "start_time": "2023-11-09T09:11:03.114Z"
   },
   {
    "duration": 9081,
    "start_time": "2023-11-09T09:11:05.349Z"
   },
   {
    "duration": 3,
    "start_time": "2023-11-09T09:11:14.432Z"
   },
   {
    "duration": 151650,
    "start_time": "2023-11-09T09:11:14.437Z"
   },
   {
    "duration": 20,
    "start_time": "2023-11-09T09:13:46.089Z"
   },
   {
    "duration": 0,
    "start_time": "2023-11-09T09:13:46.111Z"
   },
   {
    "duration": 0,
    "start_time": "2023-11-09T09:13:46.113Z"
   },
   {
    "duration": 0,
    "start_time": "2023-11-09T09:13:46.114Z"
   },
   {
    "duration": 0,
    "start_time": "2023-11-09T09:13:46.116Z"
   },
   {
    "duration": 0,
    "start_time": "2023-11-09T09:13:46.117Z"
   },
   {
    "duration": 0,
    "start_time": "2023-11-09T09:13:46.119Z"
   },
   {
    "duration": 0,
    "start_time": "2023-11-09T09:13:46.121Z"
   },
   {
    "duration": 3,
    "start_time": "2023-11-09T09:13:58.740Z"
   },
   {
    "duration": 33,
    "start_time": "2023-11-09T09:13:59.428Z"
   },
   {
    "duration": 8981,
    "start_time": "2023-11-09T09:14:01.406Z"
   },
   {
    "duration": 43,
    "start_time": "2023-11-09T09:14:26.562Z"
   },
   {
    "duration": 4,
    "start_time": "2023-11-09T09:14:49.626Z"
   },
   {
    "duration": 353221,
    "start_time": "2023-11-09T09:14:53.266Z"
   },
   {
    "duration": 3,
    "start_time": "2023-11-09T09:20:46.490Z"
   },
   {
    "duration": 29,
    "start_time": "2023-11-09T09:20:46.495Z"
   },
   {
    "duration": 62889,
    "start_time": "2023-11-09T09:20:46.526Z"
   },
   {
    "duration": 18,
    "start_time": "2023-11-09T09:21:49.416Z"
   },
   {
    "duration": 0,
    "start_time": "2023-11-09T09:21:49.436Z"
   },
   {
    "duration": 0,
    "start_time": "2023-11-09T09:21:49.437Z"
   },
   {
    "duration": 0,
    "start_time": "2023-11-09T09:21:49.438Z"
   },
   {
    "duration": 0,
    "start_time": "2023-11-09T09:21:49.439Z"
   },
   {
    "duration": 4,
    "start_time": "2023-11-09T09:21:54.291Z"
   },
   {
    "duration": 312315,
    "start_time": "2023-11-09T09:21:54.745Z"
   },
   {
    "duration": 3,
    "start_time": "2023-11-09T09:27:07.062Z"
   },
   {
    "duration": 16,
    "start_time": "2023-11-09T09:27:07.067Z"
   },
   {
    "duration": 31,
    "start_time": "2023-11-09T09:27:07.085Z"
   },
   {
    "duration": 8597,
    "start_time": "2023-11-09T13:10:49.425Z"
   },
   {
    "duration": 4295,
    "start_time": "2023-11-09T13:10:58.024Z"
   },
   {
    "duration": 2392,
    "start_time": "2023-11-09T13:11:02.321Z"
   },
   {
    "duration": 4,
    "start_time": "2023-11-09T13:11:04.716Z"
   },
   {
    "duration": 328,
    "start_time": "2023-11-09T13:11:04.721Z"
   },
   {
    "duration": 13,
    "start_time": "2023-11-09T13:11:05.051Z"
   },
   {
    "duration": 34,
    "start_time": "2023-11-09T13:11:05.066Z"
   },
   {
    "duration": 149,
    "start_time": "2023-11-09T13:11:05.103Z"
   },
   {
    "duration": 592,
    "start_time": "2023-11-09T13:11:05.255Z"
   },
   {
    "duration": 777578,
    "start_time": "2023-11-09T13:11:05.850Z"
   },
   {
    "duration": 368,
    "start_time": "2023-11-09T13:24:03.430Z"
   },
   {
    "duration": 0,
    "start_time": "2023-11-09T13:24:03.800Z"
   },
   {
    "duration": 0,
    "start_time": "2023-11-09T13:24:03.802Z"
   },
   {
    "duration": 0,
    "start_time": "2023-11-09T13:24:03.803Z"
   },
   {
    "duration": 0,
    "start_time": "2023-11-09T13:24:03.804Z"
   },
   {
    "duration": 0,
    "start_time": "2023-11-09T13:24:03.805Z"
   },
   {
    "duration": 0,
    "start_time": "2023-11-09T13:24:03.806Z"
   },
   {
    "duration": 0,
    "start_time": "2023-11-09T13:24:03.807Z"
   },
   {
    "duration": 0,
    "start_time": "2023-11-09T13:24:03.809Z"
   },
   {
    "duration": 0,
    "start_time": "2023-11-09T13:24:03.810Z"
   },
   {
    "duration": 0,
    "start_time": "2023-11-09T13:24:03.811Z"
   },
   {
    "duration": 0,
    "start_time": "2023-11-09T13:24:03.813Z"
   },
   {
    "duration": 0,
    "start_time": "2023-11-09T13:24:03.814Z"
   },
   {
    "duration": 0,
    "start_time": "2023-11-09T13:24:03.815Z"
   },
   {
    "duration": 0,
    "start_time": "2023-11-09T13:24:03.817Z"
   },
   {
    "duration": 0,
    "start_time": "2023-11-09T13:24:03.818Z"
   },
   {
    "duration": 0,
    "start_time": "2023-11-09T13:24:03.819Z"
   },
   {
    "duration": 0,
    "start_time": "2023-11-09T13:24:03.820Z"
   },
   {
    "duration": 0,
    "start_time": "2023-11-09T13:24:03.847Z"
   },
   {
    "duration": 0,
    "start_time": "2023-11-09T13:24:03.848Z"
   },
   {
    "duration": 0,
    "start_time": "2023-11-09T13:24:03.850Z"
   },
   {
    "duration": 0,
    "start_time": "2023-11-09T13:24:03.850Z"
   },
   {
    "duration": 24,
    "start_time": "2023-11-09T13:44:31.691Z"
   },
   {
    "duration": 1332,
    "start_time": "2023-11-09T13:44:31.959Z"
   },
   {
    "duration": 29,
    "start_time": "2023-11-09T13:44:33.293Z"
   },
   {
    "duration": 1341,
    "start_time": "2023-11-09T13:44:33.324Z"
   },
   {
    "duration": 29,
    "start_time": "2023-11-09T13:44:34.668Z"
   },
   {
    "duration": 22,
    "start_time": "2023-11-09T13:44:34.699Z"
   },
   {
    "duration": 3,
    "start_time": "2023-11-09T13:44:38.947Z"
   },
   {
    "duration": 3,
    "start_time": "2023-11-09T13:44:40.125Z"
   },
   {
    "duration": 34,
    "start_time": "2023-11-09T13:44:40.338Z"
   },
   {
    "duration": 9074,
    "start_time": "2023-11-09T13:44:42.290Z"
   },
   {
    "duration": 5,
    "start_time": "2023-11-09T13:44:51.366Z"
   },
   {
    "duration": 420481,
    "start_time": "2023-11-09T13:44:51.372Z"
   },
   {
    "duration": 3,
    "start_time": "2023-11-09T13:54:50.720Z"
   },
   {
    "duration": 14,
    "start_time": "2023-11-09T13:55:06.849Z"
   },
   {
    "duration": 3,
    "start_time": "2023-11-09T13:55:08.040Z"
   },
   {
    "duration": 32,
    "start_time": "2023-11-09T13:55:08.618Z"
   },
   {
    "duration": 7952,
    "start_time": "2023-11-09T13:55:10.096Z"
   },
   {
    "duration": 4,
    "start_time": "2023-11-09T13:55:26.712Z"
   },
   {
    "duration": 134514,
    "start_time": "2023-11-09T13:55:27.367Z"
   },
   {
    "duration": 4,
    "start_time": "2023-11-09T14:02:21.263Z"
   },
   {
    "duration": 4,
    "start_time": "2023-11-09T14:02:25.007Z"
   },
   {
    "duration": 133928,
    "start_time": "2023-11-09T14:02:25.664Z"
   },
   {
    "duration": 3,
    "start_time": "2023-11-09T14:04:39.594Z"
   },
   {
    "duration": 3,
    "start_time": "2023-11-09T14:05:04.256Z"
   },
   {
    "duration": 3,
    "start_time": "2023-11-09T14:05:04.542Z"
   },
   {
    "duration": 2633577,
    "start_time": "2023-11-09T14:05:05.979Z"
   },
   {
    "duration": 4,
    "start_time": "2023-11-09T14:48:59.559Z"
   },
   {
    "duration": 124,
    "start_time": "2023-11-09T14:49:06.374Z"
   },
   {
    "duration": 5,
    "start_time": "2023-11-09T14:50:25.663Z"
   },
   {
    "duration": 122,
    "start_time": "2023-11-09T14:50:31.732Z"
   },
   {
    "duration": 116,
    "start_time": "2023-11-09T14:50:47.682Z"
   },
   {
    "duration": 105,
    "start_time": "2023-11-09T14:51:49.446Z"
   },
   {
    "duration": 75,
    "start_time": "2023-11-09T14:51:56.075Z"
   },
   {
    "duration": 89,
    "start_time": "2023-11-09T14:52:06.084Z"
   },
   {
    "duration": 1975,
    "start_time": "2023-11-09T14:53:09.836Z"
   },
   {
    "duration": 68,
    "start_time": "2023-11-09T14:53:11.814Z"
   },
   {
    "duration": 4143,
    "start_time": "2023-11-09T14:53:30.539Z"
   },
   {
    "duration": 77,
    "start_time": "2023-11-09T14:53:55.582Z"
   },
   {
    "duration": 5,
    "start_time": "2023-11-09T15:00:13.583Z"
   },
   {
    "duration": 2574,
    "start_time": "2023-11-09T15:00:34.534Z"
   },
   {
    "duration": 6,
    "start_time": "2023-11-09T15:01:02.097Z"
   },
   {
    "duration": 2275,
    "start_time": "2023-11-09T15:01:03.086Z"
   },
   {
    "duration": 29,
    "start_time": "2023-11-09T15:01:22.902Z"
   },
   {
    "duration": 4,
    "start_time": "2023-11-09T15:01:46.455Z"
   },
   {
    "duration": 566,
    "start_time": "2023-11-09T15:01:47.205Z"
   },
   {
    "duration": 97,
    "start_time": "2023-11-09T15:03:51.734Z"
   },
   {
    "duration": 4,
    "start_time": "2023-11-09T15:04:04.017Z"
   },
   {
    "duration": 11,
    "start_time": "2023-11-09T15:05:15.216Z"
   },
   {
    "duration": 49,
    "start_time": "2023-11-09T15:05:16.015Z"
   },
   {
    "duration": 4720,
    "start_time": "2023-11-09T15:05:23.319Z"
   },
   {
    "duration": 2483,
    "start_time": "2023-11-09T15:05:28.041Z"
   },
   {
    "duration": 4,
    "start_time": "2023-11-09T15:05:30.526Z"
   },
   {
    "duration": 420,
    "start_time": "2023-11-09T15:05:30.532Z"
   },
   {
    "duration": 15,
    "start_time": "2023-11-09T15:05:30.954Z"
   },
   {
    "duration": 93,
    "start_time": "2023-11-09T15:05:30.971Z"
   },
   {
    "duration": 159,
    "start_time": "2023-11-09T15:05:31.066Z"
   },
   {
    "duration": 558,
    "start_time": "2023-11-09T15:05:31.227Z"
   },
   {
    "duration": 5,
    "start_time": "2023-11-09T15:05:31.787Z"
   },
   {
    "duration": 316,
    "start_time": "2023-11-09T15:05:32.503Z"
   },
   {
    "duration": 6,
    "start_time": "2023-11-09T15:05:45.023Z"
   },
   {
    "duration": 572,
    "start_time": "2023-11-09T15:05:45.826Z"
   },
   {
    "duration": 5,
    "start_time": "2023-11-09T15:06:17.655Z"
   },
   {
    "duration": 540,
    "start_time": "2023-11-09T15:06:18.710Z"
   },
   {
    "duration": 5,
    "start_time": "2023-11-09T15:06:33.152Z"
   },
   {
    "duration": 534,
    "start_time": "2023-11-09T15:06:33.671Z"
   },
   {
    "duration": 6,
    "start_time": "2023-11-09T15:06:38.974Z"
   },
   {
    "duration": 529,
    "start_time": "2023-11-09T15:06:40.862Z"
   },
   {
    "duration": 5,
    "start_time": "2023-11-09T15:06:49.391Z"
   },
   {
    "duration": 540,
    "start_time": "2023-11-09T15:06:49.815Z"
   },
   {
    "duration": 4,
    "start_time": "2023-11-09T15:07:42.712Z"
   },
   {
    "duration": 734,
    "start_time": "2023-11-09T15:07:43.672Z"
   },
   {
    "duration": 580,
    "start_time": "2023-11-09T15:09:17.368Z"
   },
   {
    "duration": 12,
    "start_time": "2023-11-09T15:09:29.248Z"
   },
   {
    "duration": 5,
    "start_time": "2023-11-09T15:11:04.457Z"
   },
   {
    "duration": 36,
    "start_time": "2023-11-09T15:11:09.817Z"
   },
   {
    "duration": 5,
    "start_time": "2023-11-09T15:11:28.645Z"
   },
   {
    "duration": 5576,
    "start_time": "2023-11-09T15:11:35.313Z"
   },
   {
    "duration": 44298,
    "start_time": "2023-11-09T15:12:15.674Z"
   },
   {
    "duration": 776922,
    "start_time": "2023-11-09T15:13:06.923Z"
   },
   {
    "duration": 1910,
    "start_time": "2023-11-09T15:27:35.273Z"
   },
   {
    "duration": 19,
    "start_time": "2023-11-09T15:27:44.687Z"
   },
   {
    "duration": 20,
    "start_time": "2023-11-09T15:30:18.179Z"
   },
   {
    "duration": 13,
    "start_time": "2023-11-09T15:30:19.138Z"
   },
   {
    "duration": 1606,
    "start_time": "2023-11-09T15:30:54.755Z"
   },
   {
    "duration": 22,
    "start_time": "2023-11-09T15:31:07.149Z"
   },
   {
    "duration": 22,
    "start_time": "2023-11-09T15:31:31.590Z"
   },
   {
    "duration": 1849,
    "start_time": "2023-11-09T15:31:51.484Z"
   },
   {
    "duration": 20,
    "start_time": "2023-11-09T15:31:53.335Z"
   },
   {
    "duration": 28,
    "start_time": "2023-11-09T15:32:48.019Z"
   },
   {
    "duration": 13,
    "start_time": "2023-11-09T15:32:48.854Z"
   },
   {
    "duration": 3,
    "start_time": "2023-11-09T15:33:03.051Z"
   },
   {
    "duration": 4,
    "start_time": "2023-11-09T15:33:08.595Z"
   },
   {
    "duration": 36,
    "start_time": "2023-11-09T15:33:09.165Z"
   },
   {
    "duration": 5340,
    "start_time": "2023-11-09T15:33:18.020Z"
   },
   {
    "duration": 4,
    "start_time": "2023-11-09T15:33:29.411Z"
   },
   {
    "duration": 131260,
    "start_time": "2023-11-09T15:33:29.612Z"
   },
   {
    "duration": 3,
    "start_time": "2023-11-09T15:35:40.874Z"
   },
   {
    "duration": 8524,
    "start_time": "2023-11-10T00:47:34.489Z"
   },
   {
    "duration": 4383,
    "start_time": "2023-11-10T00:47:43.015Z"
   },
   {
    "duration": 2331,
    "start_time": "2023-11-10T00:47:47.400Z"
   },
   {
    "duration": 4,
    "start_time": "2023-11-10T00:47:49.733Z"
   },
   {
    "duration": 329,
    "start_time": "2023-11-10T00:47:49.738Z"
   },
   {
    "duration": 24,
    "start_time": "2023-11-10T00:47:50.069Z"
   },
   {
    "duration": 39,
    "start_time": "2023-11-10T00:47:50.095Z"
   },
   {
    "duration": 134,
    "start_time": "2023-11-10T00:47:50.136Z"
   },
   {
    "duration": 567,
    "start_time": "2023-11-10T00:48:20.989Z"
   },
   {
    "duration": 106,
    "start_time": "2023-11-10T01:34:31.445Z"
   },
   {
    "duration": 4,
    "start_time": "2023-11-10T01:40:20.617Z"
   },
   {
    "duration": 934,
    "start_time": "2023-11-10T01:40:21.464Z"
   },
   {
    "duration": 4,
    "start_time": "2023-11-10T01:40:22.401Z"
   },
   {
    "duration": 310,
    "start_time": "2023-11-10T01:40:22.408Z"
   },
   {
    "duration": 14,
    "start_time": "2023-11-10T01:40:23.365Z"
   },
   {
    "duration": 33,
    "start_time": "2023-11-10T01:40:23.600Z"
   },
   {
    "duration": 111,
    "start_time": "2023-11-10T01:40:23.733Z"
   },
   {
    "duration": 538,
    "start_time": "2023-11-10T01:40:27.152Z"
   },
   {
    "duration": 5375,
    "start_time": "2023-11-10T01:40:28.436Z"
   },
   {
    "duration": 44,
    "start_time": "2023-11-10T01:40:59.564Z"
   },
   {
    "duration": 76,
    "start_time": "2023-11-10T01:41:12.565Z"
   },
   {
    "duration": 25,
    "start_time": "2023-11-10T01:42:09.865Z"
   },
   {
    "duration": 4,
    "start_time": "2023-11-10T01:42:23.964Z"
   },
   {
    "duration": 90,
    "start_time": "2023-11-10T01:45:21.113Z"
   },
   {
    "duration": 5,
    "start_time": "2023-11-10T01:45:26.025Z"
   },
   {
    "duration": 27,
    "start_time": "2023-11-10T01:45:26.765Z"
   },
   {
    "duration": 5,
    "start_time": "2023-11-10T01:45:53.185Z"
   },
   {
    "duration": 24,
    "start_time": "2023-11-10T01:45:53.725Z"
   },
   {
    "duration": 5,
    "start_time": "2023-11-10T01:46:33.755Z"
   },
   {
    "duration": 25,
    "start_time": "2023-11-10T01:46:34.504Z"
   },
   {
    "duration": 5,
    "start_time": "2023-11-10T01:48:18.705Z"
   },
   {
    "duration": 10,
    "start_time": "2023-11-10T01:48:25.885Z"
   },
   {
    "duration": 3,
    "start_time": "2023-11-10T01:48:44.211Z"
   },
   {
    "duration": 3,
    "start_time": "2023-11-10T01:48:52.984Z"
   },
   {
    "duration": 30,
    "start_time": "2023-11-10T01:48:54.685Z"
   },
   {
    "duration": 7359,
    "start_time": "2023-11-10T01:48:56.745Z"
   },
   {
    "duration": 4,
    "start_time": "2023-11-10T01:49:17.964Z"
   },
   {
    "duration": 4,
    "start_time": "2023-11-10T01:50:15.025Z"
   },
   {
    "duration": 4,
    "start_time": "2023-11-10T02:37:53.675Z"
   },
   {
    "duration": 20,
    "start_time": "2023-11-10T02:38:01.815Z"
   },
   {
    "duration": 20,
    "start_time": "2023-11-10T02:38:11.155Z"
   },
   {
    "duration": 3,
    "start_time": "2023-11-10T02:38:22.884Z"
   },
   {
    "duration": 122199,
    "start_time": "2023-11-10T02:38:23.282Z"
   },
   {
    "duration": 16,
    "start_time": "2023-11-10T02:40:25.482Z"
   },
   {
    "duration": 14,
    "start_time": "2023-11-10T02:40:25.500Z"
   },
   {
    "duration": 4,
    "start_time": "2023-11-10T02:40:37.483Z"
   },
   {
    "duration": 131238,
    "start_time": "2023-11-10T02:40:38.042Z"
   },
   {
    "duration": 3,
    "start_time": "2023-11-10T02:42:49.282Z"
   },
   {
    "duration": 9,
    "start_time": "2023-11-10T02:42:49.286Z"
   },
   {
    "duration": 5,
    "start_time": "2023-11-10T02:43:29.582Z"
   },
   {
    "duration": 4,
    "start_time": "2023-11-10T02:43:47.507Z"
   },
   {
    "duration": 3,
    "start_time": "2023-11-10T02:43:55.314Z"
   },
   {
    "duration": 3,
    "start_time": "2023-11-10T02:43:59.435Z"
   },
   {
    "duration": 35,
    "start_time": "2023-11-10T02:43:59.915Z"
   },
   {
    "duration": 111,
    "start_time": "2023-11-10T02:44:02.014Z"
   },
   {
    "duration": 6,
    "start_time": "2023-11-10T02:44:43.462Z"
   },
   {
    "duration": 3,
    "start_time": "2023-11-10T02:44:51.203Z"
   },
   {
    "duration": 102,
    "start_time": "2023-11-10T02:44:55.050Z"
   },
   {
    "duration": 5,
    "start_time": "2023-11-10T02:45:19.474Z"
   },
   {
    "duration": 3,
    "start_time": "2023-11-10T02:45:23.734Z"
   },
   {
    "duration": 125,
    "start_time": "2023-11-10T02:45:27.875Z"
   },
   {
    "duration": 7,
    "start_time": "2023-11-10T02:46:40.435Z"
   },
   {
    "duration": 10,
    "start_time": "2023-11-10T02:46:48.654Z"
   },
   {
    "duration": 3,
    "start_time": "2023-11-10T02:46:55.414Z"
   },
   {
    "duration": 1315,
    "start_time": "2023-11-10T02:46:57.754Z"
   },
   {
    "duration": 38,
    "start_time": "2023-11-10T02:46:59.134Z"
   },
   {
    "duration": 48002,
    "start_time": "2023-11-10T02:47:04.262Z"
   },
   {
    "duration": 0,
    "start_time": "2023-11-10T02:47:52.267Z"
   },
   {
    "duration": 5,
    "start_time": "2023-11-10T02:48:35.453Z"
   },
   {
    "duration": 21,
    "start_time": "2023-11-10T02:48:50.514Z"
   },
   {
    "duration": 32,
    "start_time": "2023-11-10T02:48:56.594Z"
   },
   {
    "duration": 5,
    "start_time": "2023-11-10T02:49:01.386Z"
   },
   {
    "duration": 6551,
    "start_time": "2023-11-10T02:49:25.573Z"
   },
   {
    "duration": 4933,
    "start_time": "2023-11-10T07:02:47.215Z"
   },
   {
    "duration": 2457,
    "start_time": "2023-11-10T07:02:54.655Z"
   },
   {
    "duration": 4,
    "start_time": "2023-11-10T07:02:57.114Z"
   },
   {
    "duration": 367,
    "start_time": "2023-11-10T07:02:57.120Z"
   },
   {
    "duration": 15,
    "start_time": "2023-11-10T07:02:57.491Z"
   },
   {
    "duration": 65,
    "start_time": "2023-11-10T07:02:57.508Z"
   },
   {
    "duration": 134,
    "start_time": "2023-11-10T07:02:57.575Z"
   },
   {
    "duration": 564,
    "start_time": "2023-11-10T07:02:58.574Z"
   },
   {
    "duration": 5,
    "start_time": "2023-11-10T07:02:59.382Z"
   },
   {
    "duration": 806478,
    "start_time": "2023-11-10T07:02:59.600Z"
   },
   {
    "duration": 18,
    "start_time": "2023-11-10T07:16:26.080Z"
   },
   {
    "duration": 4,
    "start_time": "2023-11-10T07:16:26.100Z"
   },
   {
    "duration": 17,
    "start_time": "2023-11-10T07:16:26.107Z"
   },
   {
    "duration": 45,
    "start_time": "2023-11-10T07:16:26.126Z"
   },
   {
    "duration": 5385,
    "start_time": "2023-11-10T07:16:26.174Z"
   },
   {
    "duration": 4,
    "start_time": "2023-11-10T07:16:31.561Z"
   },
   {
    "duration": 144946,
    "start_time": "2023-11-10T07:16:31.567Z"
   },
   {
    "duration": 4,
    "start_time": "2023-11-10T07:18:56.514Z"
   },
   {
    "duration": 55,
    "start_time": "2023-11-10T07:18:56.521Z"
   },
   {
    "duration": 151124,
    "start_time": "2023-11-10T07:18:56.579Z"
   },
   {
    "duration": 4,
    "start_time": "2023-11-10T07:21:27.706Z"
   },
   {
    "duration": 7,
    "start_time": "2023-11-10T07:21:27.712Z"
   },
   {
    "duration": 6,
    "start_time": "2023-11-10T07:21:27.721Z"
   },
   {
    "duration": 4366211,
    "start_time": "2023-11-10T07:21:27.749Z"
   },
   {
    "duration": 31,
    "start_time": "2023-11-10T08:34:13.962Z"
   },
   {
    "duration": 0,
    "start_time": "2023-11-10T08:34:13.995Z"
   },
   {
    "duration": 0,
    "start_time": "2023-11-10T08:34:13.997Z"
   },
   {
    "duration": 0,
    "start_time": "2023-11-10T08:34:14.000Z"
   },
   {
    "duration": 4,
    "start_time": "2023-11-10T08:34:25.752Z"
   },
   {
    "duration": 4,
    "start_time": "2023-11-10T08:34:26.088Z"
   },
   {
    "duration": 5,
    "start_time": "2023-11-10T08:34:32.432Z"
   },
   {
    "duration": 4,
    "start_time": "2023-11-10T08:34:32.689Z"
   },
   {
    "duration": 16400,
    "start_time": "2023-11-10T08:34:33.346Z"
   },
   {
    "duration": 24,
    "start_time": "2023-11-10T08:34:49.749Z"
   },
   {
    "duration": 4,
    "start_time": "2023-11-10T08:34:56.000Z"
   },
   {
    "duration": 1347538,
    "start_time": "2023-11-10T08:34:56.543Z"
   },
   {
    "duration": 4,
    "start_time": "2023-11-10T08:57:24.084Z"
   },
   {
    "duration": 157,
    "start_time": "2023-11-10T08:58:35.095Z"
   },
   {
    "duration": 7,
    "start_time": "2023-11-10T08:58:36.053Z"
   },
   {
    "duration": 33,
    "start_time": "2023-11-10T08:58:37.439Z"
   },
   {
    "duration": 5,
    "start_time": "2023-11-10T08:59:16.534Z"
   },
   {
    "duration": 5,
    "start_time": "2023-11-10T08:59:23.846Z"
   },
   {
    "duration": 38,
    "start_time": "2023-11-10T08:59:24.247Z"
   },
   {
    "duration": 4,
    "start_time": "2023-11-10T09:00:17.304Z"
   },
   {
    "duration": 5,
    "start_time": "2023-11-10T09:00:24.096Z"
   },
   {
    "duration": 0,
    "start_time": "2023-11-10T09:01:47.071Z"
   },
   {
    "duration": 0,
    "start_time": "2023-11-10T09:01:47.074Z"
   },
   {
    "duration": 133,
    "start_time": "2023-11-10T09:01:49.480Z"
   },
   {
    "duration": 6,
    "start_time": "2023-11-10T09:01:56.513Z"
   },
   {
    "duration": 992,
    "start_time": "2023-11-10T09:01:57.207Z"
   },
   {
    "duration": 0,
    "start_time": "2023-11-10T09:10:14.583Z"
   },
   {
    "duration": 0,
    "start_time": "2023-11-10T09:10:14.584Z"
   },
   {
    "duration": 4,
    "start_time": "2023-11-10T09:12:03.738Z"
   },
   {
    "duration": 5,
    "start_time": "2023-11-10T09:12:16.970Z"
   },
   {
    "duration": 30,
    "start_time": "2023-11-10T09:12:18.570Z"
   },
   {
    "duration": 6,
    "start_time": "2023-11-10T09:12:38.735Z"
   },
   {
    "duration": 36,
    "start_time": "2023-11-10T09:12:39.114Z"
   },
   {
    "duration": 5,
    "start_time": "2023-11-10T09:12:53.083Z"
   },
   {
    "duration": 33,
    "start_time": "2023-11-10T09:12:53.577Z"
   },
   {
    "duration": 6,
    "start_time": "2023-11-10T09:13:02.104Z"
   },
   {
    "duration": 0,
    "start_time": "2023-11-10T09:14:39.153Z"
   },
   {
    "duration": 0,
    "start_time": "2023-11-10T09:14:39.154Z"
   },
   {
    "duration": 97,
    "start_time": "2023-11-10T09:15:16.403Z"
   },
   {
    "duration": 6,
    "start_time": "2023-11-10T09:15:21.518Z"
   },
   {
    "duration": 139510,
    "start_time": "2023-11-10T09:15:22.162Z"
   },
   {
    "duration": 0,
    "start_time": "2023-11-10T09:17:41.679Z"
   },
   {
    "duration": 5,
    "start_time": "2023-11-10T09:17:58.381Z"
   },
   {
    "duration": 30,
    "start_time": "2023-11-10T09:17:59.306Z"
   },
   {
    "duration": 5,
    "start_time": "2023-11-10T09:18:10.803Z"
   },
   {
    "duration": 32,
    "start_time": "2023-11-10T09:18:11.599Z"
   },
   {
    "duration": 5,
    "start_time": "2023-11-10T09:18:27.588Z"
   },
   {
    "duration": 182,
    "start_time": "2023-11-10T09:18:28.037Z"
   },
   {
    "duration": 8,
    "start_time": "2023-11-10T09:18:44.249Z"
   },
   {
    "duration": 181,
    "start_time": "2023-11-10T09:18:44.740Z"
   },
   {
    "duration": 5,
    "start_time": "2023-11-10T09:19:26.628Z"
   },
   {
    "duration": 0,
    "start_time": "2023-11-10T09:20:50.603Z"
   },
   {
    "duration": 0,
    "start_time": "2023-11-10T09:20:50.604Z"
   },
   {
    "duration": 4,
    "start_time": "2023-11-10T09:20:52.931Z"
   },
   {
    "duration": 98,
    "start_time": "2023-11-10T09:20:54.374Z"
   },
   {
    "duration": 109,
    "start_time": "2023-11-10T09:24:10.249Z"
   },
   {
    "duration": 103,
    "start_time": "2023-11-10T09:26:21.862Z"
   },
   {
    "duration": 107,
    "start_time": "2023-11-10T09:26:22.750Z"
   },
   {
    "duration": 115,
    "start_time": "2023-11-10T09:27:53.320Z"
   },
   {
    "duration": 70,
    "start_time": "2023-11-10T09:28:35.580Z"
   },
   {
    "duration": 159,
    "start_time": "2023-11-10T09:28:50.975Z"
   },
   {
    "duration": 154,
    "start_time": "2023-11-10T09:29:27.923Z"
   },
   {
    "duration": 190,
    "start_time": "2023-11-10T09:30:15.412Z"
   },
   {
    "duration": 113,
    "start_time": "2023-11-10T09:41:59.609Z"
   },
   {
    "duration": 113,
    "start_time": "2023-11-10T09:44:15.458Z"
   },
   {
    "duration": 114,
    "start_time": "2023-11-10T09:45:49.600Z"
   },
   {
    "duration": 115,
    "start_time": "2023-11-10T09:46:02.107Z"
   },
   {
    "duration": 121,
    "start_time": "2023-11-10T09:46:16.141Z"
   },
   {
    "duration": 114,
    "start_time": "2023-11-10T09:46:49.662Z"
   },
   {
    "duration": 115,
    "start_time": "2023-11-10T09:46:54.684Z"
   },
   {
    "duration": 118,
    "start_time": "2023-11-10T09:47:01.875Z"
   },
   {
    "duration": 113,
    "start_time": "2023-11-10T09:47:07.002Z"
   },
   {
    "duration": 114,
    "start_time": "2023-11-10T09:47:18.636Z"
   },
   {
    "duration": 189,
    "start_time": "2023-11-10T09:47:22.718Z"
   },
   {
    "duration": 181,
    "start_time": "2023-11-10T09:47:37.396Z"
   },
   {
    "duration": 123,
    "start_time": "2023-11-10T09:47:44.043Z"
   },
   {
    "duration": 116,
    "start_time": "2023-11-10T09:47:51.957Z"
   },
   {
    "duration": 128,
    "start_time": "2023-11-10T09:48:04.996Z"
   },
   {
    "duration": 115,
    "start_time": "2023-11-10T09:48:26.558Z"
   },
   {
    "duration": 118,
    "start_time": "2023-11-10T09:48:30.580Z"
   },
   {
    "duration": 116,
    "start_time": "2023-11-10T09:48:49.035Z"
   },
   {
    "duration": 298,
    "start_time": "2023-11-10T09:49:11.781Z"
   },
   {
    "duration": 236,
    "start_time": "2023-11-10T09:49:45.622Z"
   },
   {
    "duration": 345,
    "start_time": "2023-11-10T09:50:40.304Z"
   },
   {
    "duration": 86,
    "start_time": "2023-11-10T09:52:11.174Z"
   },
   {
    "duration": 113,
    "start_time": "2023-11-10T09:52:19.420Z"
   },
   {
    "duration": 619,
    "start_time": "2023-11-10T09:53:02.913Z"
   },
   {
    "duration": 609,
    "start_time": "2023-11-10T09:54:39.458Z"
   },
   {
    "duration": 637,
    "start_time": "2023-11-10T09:54:57.394Z"
   },
   {
    "duration": 628,
    "start_time": "2023-11-10T09:55:09.615Z"
   },
   {
    "duration": 594,
    "start_time": "2023-11-10T09:55:29.843Z"
   },
   {
    "duration": 178,
    "start_time": "2023-11-10T10:03:15.641Z"
   }
  ],
  "kernelspec": {
   "display_name": "Python 3 (ipykernel)",
   "language": "python",
   "name": "python3"
  },
  "language_info": {
   "codemirror_mode": {
    "name": "ipython",
    "version": 3
   },
   "file_extension": ".py",
   "mimetype": "text/x-python",
   "name": "python",
   "nbconvert_exporter": "python",
   "pygments_lexer": "ipython3",
   "version": "3.11.5"
  },
  "toc": {
   "base_numbering": 1,
   "nav_menu": {},
   "number_sections": true,
   "sideBar": true,
   "skip_h1_title": true,
   "title_cell": "Содержание",
   "title_sidebar": "Contents",
   "toc_cell": true,
   "toc_position": {
    "height": "calc(100% - 180px)",
    "left": "10px",
    "top": "150px",
    "width": "302.391px"
   },
   "toc_section_display": true,
   "toc_window_display": false
  }
 },
 "nbformat": 4,
 "nbformat_minor": 2
}
