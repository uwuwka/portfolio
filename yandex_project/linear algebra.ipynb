{
 "cells": [
  {
   "cell_type": "markdown",
   "metadata": {
    "toc": true
   },
   "source": [
    "<h1>Содержание<span class=\"tocSkip\"></span></h1>\n",
    "<div class=\"toc\"><ul class=\"toc-item\"><li><span><a href=\"#Загрузка-данных\" data-toc-modified-id=\"Загрузка-данных-1\"><span class=\"toc-item-num\">1&nbsp;&nbsp;</span>Загрузка данных</a></span></li><li><span><a href=\"#Умножение-матриц\" data-toc-modified-id=\"Умножение-матриц-2\"><span class=\"toc-item-num\">2&nbsp;&nbsp;</span>Умножение матриц</a></span></li><li><span><a href=\"#Алгоритм-преобразования\" data-toc-modified-id=\"Алгоритм-преобразования-3\"><span class=\"toc-item-num\">3&nbsp;&nbsp;</span>Алгоритм преобразования</a></span></li><li><span><a href=\"#Проверка-алгоритма\" data-toc-modified-id=\"Проверка-алгоритма-4\"><span class=\"toc-item-num\">4&nbsp;&nbsp;</span>Проверка алгоритма</a></span><ul class=\"toc-item\"><li><span><a href=\"#Обучение-без-преобразования\" data-toc-modified-id=\"Обучение-без-преобразования-4.1\"><span class=\"toc-item-num\">4.1&nbsp;&nbsp;</span>Обучение без преобразования</a></span></li><li><span><a href=\"#Обучение-с-преобразованием\" data-toc-modified-id=\"Обучение-с-преобразованием-4.2\"><span class=\"toc-item-num\">4.2&nbsp;&nbsp;</span>Обучение с преобразованием</a></span></li></ul></li><li><span><a href=\"#вывод\" data-toc-modified-id=\"вывод-5\"><span class=\"toc-item-num\">5&nbsp;&nbsp;</span>вывод</a></span></li><li><span><a href=\"#Чек-лист-проверки\" data-toc-modified-id=\"Чек-лист-проверки-6\"><span class=\"toc-item-num\">6&nbsp;&nbsp;</span>Чек-лист проверки</a></span></li></ul></div>"
   ]
  },
  {
   "cell_type": "markdown",
   "metadata": {},
   "source": [
    "# Защита персональных данных клиентов"
   ]
  },
  {
   "cell_type": "markdown",
   "metadata": {},
   "source": [
    "Вам нужно защитить данные клиентов страховой компании «Хоть потоп». Разработайте такой метод преобразования данных, чтобы по ним было сложно восстановить персональную информацию. Обоснуйте корректность его работы.\n",
    "\n",
    "Нужно защитить данные, чтобы при преобразовании качество моделей машинного обучения не ухудшилось. Подбирать наилучшую модель не требуется."
   ]
  },
  {
   "cell_type": "code",
   "execution_count": 1,
   "metadata": {},
   "outputs": [],
   "source": [
    "import pandas as pd\n",
    "import numpy  as np\n",
    "\n",
    "from sklearn.model_selection import train_test_split\n",
    "from sklearn.linear_model import LinearRegression\n",
    "from sklearn.metrics import r2_score\n",
    "\n",
    "import seaborn as sns\n",
    "import matplotlib.pyplot as plt"
   ]
  },
  {
   "cell_type": "markdown",
   "metadata": {},
   "source": [
    "## Загрузка данных"
   ]
  },
  {
   "cell_type": "code",
   "execution_count": 2,
   "metadata": {},
   "outputs": [
    {
     "data": {
      "text/html": [
       "<div>\n",
       "<style scoped>\n",
       "    .dataframe tbody tr th:only-of-type {\n",
       "        vertical-align: middle;\n",
       "    }\n",
       "\n",
       "    .dataframe tbody tr th {\n",
       "        vertical-align: top;\n",
       "    }\n",
       "\n",
       "    .dataframe thead th {\n",
       "        text-align: right;\n",
       "    }\n",
       "</style>\n",
       "<table border=\"1\" class=\"dataframe\">\n",
       "  <thead>\n",
       "    <tr style=\"text-align: right;\">\n",
       "      <th></th>\n",
       "      <th>Пол</th>\n",
       "      <th>Возраст</th>\n",
       "      <th>Зарплата</th>\n",
       "      <th>Члены семьи</th>\n",
       "      <th>Страховые выплаты</th>\n",
       "    </tr>\n",
       "  </thead>\n",
       "  <tbody>\n",
       "    <tr>\n",
       "      <th>0</th>\n",
       "      <td>1</td>\n",
       "      <td>41.0</td>\n",
       "      <td>49600.0</td>\n",
       "      <td>1</td>\n",
       "      <td>0</td>\n",
       "    </tr>\n",
       "    <tr>\n",
       "      <th>1</th>\n",
       "      <td>0</td>\n",
       "      <td>46.0</td>\n",
       "      <td>38000.0</td>\n",
       "      <td>1</td>\n",
       "      <td>1</td>\n",
       "    </tr>\n",
       "    <tr>\n",
       "      <th>2</th>\n",
       "      <td>0</td>\n",
       "      <td>29.0</td>\n",
       "      <td>21000.0</td>\n",
       "      <td>0</td>\n",
       "      <td>0</td>\n",
       "    </tr>\n",
       "    <tr>\n",
       "      <th>3</th>\n",
       "      <td>0</td>\n",
       "      <td>21.0</td>\n",
       "      <td>41700.0</td>\n",
       "      <td>2</td>\n",
       "      <td>0</td>\n",
       "    </tr>\n",
       "    <tr>\n",
       "      <th>4</th>\n",
       "      <td>1</td>\n",
       "      <td>28.0</td>\n",
       "      <td>26100.0</td>\n",
       "      <td>0</td>\n",
       "      <td>0</td>\n",
       "    </tr>\n",
       "  </tbody>\n",
       "</table>\n",
       "</div>"
      ],
      "text/plain": [
       "   Пол  Возраст  Зарплата  Члены семьи  Страховые выплаты\n",
       "0    1     41.0   49600.0            1                  0\n",
       "1    0     46.0   38000.0            1                  1\n",
       "2    0     29.0   21000.0            0                  0\n",
       "3    0     21.0   41700.0            2                  0\n",
       "4    1     28.0   26100.0            0                  0"
      ]
     },
     "execution_count": 2,
     "metadata": {},
     "output_type": "execute_result"
    }
   ],
   "source": [
    "df= pd.read_csv('/datasets/insurance.csv')\n",
    "df.head()"
   ]
  },
  {
   "cell_type": "code",
   "execution_count": 3,
   "metadata": {},
   "outputs": [],
   "source": [
    "def data_analis (df):\n",
    "    i=df.info()\n",
    "    h=df.head()\n",
    "    ds=df.describe()\n",
    "    dp=df.duplicated().sum()\n",
    "    return print(i),print(h), print(ds), print('дубликаты:',dp)"
   ]
  },
  {
   "cell_type": "code",
   "execution_count": 4,
   "metadata": {},
   "outputs": [
    {
     "name": "stdout",
     "output_type": "stream",
     "text": [
      "<class 'pandas.core.frame.DataFrame'>\n",
      "RangeIndex: 5000 entries, 0 to 4999\n",
      "Data columns (total 5 columns):\n",
      " #   Column             Non-Null Count  Dtype  \n",
      "---  ------             --------------  -----  \n",
      " 0   Пол                5000 non-null   int64  \n",
      " 1   Возраст            5000 non-null   float64\n",
      " 2   Зарплата           5000 non-null   float64\n",
      " 3   Члены семьи        5000 non-null   int64  \n",
      " 4   Страховые выплаты  5000 non-null   int64  \n",
      "dtypes: float64(2), int64(3)\n",
      "memory usage: 195.4 KB\n",
      "None\n",
      "   Пол  Возраст  Зарплата  Члены семьи  Страховые выплаты\n",
      "0    1     41.0   49600.0            1                  0\n",
      "1    0     46.0   38000.0            1                  1\n",
      "2    0     29.0   21000.0            0                  0\n",
      "3    0     21.0   41700.0            2                  0\n",
      "4    1     28.0   26100.0            0                  0\n",
      "               Пол      Возраст      Зарплата  Члены семьи  Страховые выплаты\n",
      "count  5000.000000  5000.000000   5000.000000  5000.000000        5000.000000\n",
      "mean      0.499000    30.952800  39916.360000     1.194200           0.148000\n",
      "std       0.500049     8.440807   9900.083569     1.091387           0.463183\n",
      "min       0.000000    18.000000   5300.000000     0.000000           0.000000\n",
      "25%       0.000000    24.000000  33300.000000     0.000000           0.000000\n",
      "50%       0.000000    30.000000  40200.000000     1.000000           0.000000\n",
      "75%       1.000000    37.000000  46600.000000     2.000000           0.000000\n",
      "max       1.000000    65.000000  79000.000000     6.000000           5.000000\n",
      "дубликаты: 153\n"
     ]
    },
    {
     "data": {
      "text/plain": [
       "(None, None, None, None)"
      ]
     },
     "execution_count": 4,
     "metadata": {},
     "output_type": "execute_result"
    }
   ],
   "source": [
    "data_analis (df)"
   ]
  },
  {
   "cell_type": "code",
   "execution_count": 5,
   "metadata": {},
   "outputs": [
    {
     "name": "stdout",
     "output_type": "stream",
     "text": [
      "<class 'pandas.core.frame.DataFrame'>\n",
      "Int64Index: 4847 entries, 0 to 4999\n",
      "Data columns (total 5 columns):\n",
      " #   Column             Non-Null Count  Dtype\n",
      "---  ------             --------------  -----\n",
      " 0   Пол                4847 non-null   int64\n",
      " 1   Возраст            4847 non-null   int64\n",
      " 2   Зарплата           4847 non-null   int64\n",
      " 3   Члены семьи        4847 non-null   int64\n",
      " 4   Страховые выплаты  4847 non-null   int64\n",
      "dtypes: int64(5)\n",
      "memory usage: 227.2 KB\n",
      "\n",
      "Количество дубликатов: 0\n"
     ]
    }
   ],
   "source": [
    "df = df.drop_duplicates()\n",
    "df[['Возраст', 'Зарплата']] = df[['Возраст', 'Зарплата']].astype(int)\n",
    "df.info()\n",
    "print()\n",
    "print('Количество дубликатов:', df.duplicated().sum())"
   ]
  },
  {
   "cell_type": "code",
   "execution_count": 6,
   "metadata": {
    "scrolled": true
   },
   "outputs": [
    {
     "data": {
      "text/plain": [
       "<AxesSubplot:>"
      ]
     },
     "execution_count": 6,
     "metadata": {},
     "output_type": "execute_result"
    },
    {
     "data": {
      "image/png": "[encoded data removed]",
      "text/plain": [
       "<Figure size 504x360 with 2 Axes>"
      ]
     },
     "metadata": {
      "needs_background": "light"
     },
     "output_type": "display_data"
    }
   ],
   "source": [
    "plt.figure(figsize=(7, 5))\n",
    "sns.heatmap(df.corr())"
   ]
  },
  {
   "cell_type": "markdown",
   "metadata": {},
   "source": [
    "## Умножение матриц"
   ]
  },
  {
   "cell_type": "markdown",
   "metadata": {},
   "source": [
    "В этом задании вы можете записывать формулы в *Jupyter Notebook.*\n",
    "\n",
    "Чтобы записать формулу внутри текста, окружите её символами доллара \\\\$; если снаружи —  двойными символами \\\\$\\\\$. Эти формулы записываются на языке вёрстки *LaTeX.* \n",
    "\n",
    "Для примера мы записали формулы линейной регрессии. Можете их скопировать и отредактировать, чтобы решить задачу.\n",
    "\n",
    "Работать в *LaTeX* необязательно."
   ]
  },
  {
   "cell_type": "markdown",
   "metadata": {},
   "source": [
    "Обозначения:\n",
    "\n",
    "- $X$ — матрица признаков (нулевой столбец состоит из единиц)\n",
    "\n",
    "- $y$ — вектор целевого признака\n",
    "\n",
    "- $P$ — матрица, на которую умножаются признаки\n",
    "\n",
    "- $w$ — вектор весов линейной регрессии (нулевой элемент равен сдвигу)"
   ]
  },
  {
   "cell_type": "markdown",
   "metadata": {},
   "source": [
    "Предсказания:\n",
    "\n",
    "$$\n",
    "a = Xw\n",
    "$$\n",
    "\n",
    "Задача обучения:\n",
    "\n",
    "$$\n",
    "w = \\arg\\min_w MSE(Xw, y)\n",
    "$$\n",
    "\n",
    "Формула обучения:\n",
    "\n",
    "$$\n",
    "w = (X^T X)^{-1} X^T y\n",
    "$$"
   ]
  },
  {
   "cell_type": "markdown",
   "metadata": {},
   "source": [
    "**Ответ:** останется прежним\n",
    "\n",
    "**Обоснование:** \n",
    "\n",
    "$\n",
    "X' =  XP $,где Р - обратимая матрица, на которую умножается матрица Х.\n",
    "\n",
    "Рассчитываем новый вектор весов:\n",
    "\n",
    "$w' = ((XP)^T XP)^{-1} (XP)^T y = (P^T X^T XP)^{-1} P^T X^T y = P^{-1}(X^T X)^{-1}(P^T)^{-1} P^T X^T y = P^{-1}w$,\n",
    "\n",
    "где\n",
    "\n",
    "$(P^T)^{-1} P^T = E$  \n",
    "\n",
    "Тогда: \n",
    "\n",
    "$a' = X'w' = XPP^{-1} w = XEw = Xw = a$ \n",
    "\n",
    "Предсказания модели не изменились, соответственно качество осталось прежним."
   ]
  },
  {
   "cell_type": "markdown",
   "metadata": {},
   "source": [
    "## Алгоритм преобразования"
   ]
  },
  {
   "cell_type": "markdown",
   "metadata": {},
   "source": [
    "**Алгоритм**\n",
    "\n",
    "Создадим случайную матрицу Р с размерностью, равной количеству признаков.\n",
    "\n",
    "Проверим матрицы Р на обратимость. Если матрица вдруг окажется необратимой, создадим новую.\n",
    "\n",
    "Умножим матрицу Р на матрицу признаков Х и получим матрицу преобразованных признаков Х'."
   ]
  },
  {
   "cell_type": "markdown",
   "metadata": {},
   "source": [
    "**Обоснование**\n",
    "\n",
    "При умножении признаков на обратимую матрицу качество линейной регрессии не меняется, а значит алгоритм поможет защитить персональную информацию клиентов, но не повлияет на работу модели."
   ]
  },
  {
   "cell_type": "markdown",
   "metadata": {},
   "source": [
    "## Проверка алгоритма"
   ]
  },
  {
   "cell_type": "code",
   "execution_count": 7,
   "metadata": {},
   "outputs": [
    {
     "name": "stdout",
     "output_type": "stream",
     "text": [
      "Признаки: (4847, 4)\n",
      "Целевой признак: (4847,)\n"
     ]
    }
   ],
   "source": [
    "features = df.drop(['Страховые выплаты'], axis=1)\n",
    "target = df['Страховые выплаты']\n",
    "\n",
    "print('Признаки:', features.shape)\n",
    "print('Целевой признак:', target.shape)"
   ]
  },
  {
   "cell_type": "code",
   "execution_count": 8,
   "metadata": {},
   "outputs": [],
   "source": [
    "def get_rand_matrix():\n",
    "    det = 0\n",
    "    while det == 0:\n",
    "        matrix = np.random.normal(size=(features.shape[1], features.shape[1]))\n",
    "        det = np.linalg.det(matrix)\n",
    "    return matrix\n",
    "matrix=get_rand_matrix()"
   ]
  },
  {
   "cell_type": "code",
   "execution_count": 9,
   "metadata": {},
   "outputs": [
    {
     "data": {
      "text/plain": [
       "array([[ 4870.41403934,  3390.68301165,  8742.52992989, 98195.85430137],\n",
       "       [ 3708.91815126,  2621.26057964,  6687.79661982, 75254.0866388 ],\n",
       "       [ 2043.94853597,  1454.55159112,  3692.38961396, 41594.00563969],\n",
       "       ...,\n",
       "       [ 3341.10075932,  2304.39406995,  5984.08671039, 67099.61649076],\n",
       "       [ 3220.14869902,  2226.10799753,  5770.15434749, 64728.10796845],\n",
       "       [ 3995.29743305,  2766.39283543,  7160.52473416, 80368.92524139]])"
      ]
     },
     "execution_count": 9,
     "metadata": {},
     "output_type": "execute_result"
    }
   ],
   "source": [
    "new_matrix = features.values @ get_rand_matrix()\n",
    "new_matrix"
   ]
  },
  {
   "cell_type": "markdown",
   "metadata": {},
   "source": [
    "### Обучение без преобразования"
   ]
  },
  {
   "cell_type": "code",
   "execution_count": 10,
   "metadata": {},
   "outputs": [],
   "source": [
    "features_train, features_test, target_train, target_test = train_test_split(\n",
    "    features, target, test_size=0.25, random_state=12345)"
   ]
  },
  {
   "cell_type": "code",
   "execution_count": 11,
   "metadata": {},
   "outputs": [
    {
     "name": "stdout",
     "output_type": "stream",
     "text": [
      "R2: 0.42307727615837565\n"
     ]
    }
   ],
   "source": [
    "model_1 = LinearRegression()\n",
    "model_1.fit(features_train, target_train)\n",
    "predictions_1 = model_1.predict(features_test)\n",
    "r2_1 = r2_score(target_test, predictions_1)\n",
    "\n",
    "print('R2:', r2_1)"
   ]
  },
  {
   "cell_type": "markdown",
   "metadata": {},
   "source": [
    "### Обучение с преобразованием"
   ]
  },
  {
   "cell_type": "code",
   "execution_count": 12,
   "metadata": {},
   "outputs": [],
   "source": [
    "enc_features_train, enc_features_test, enc_target_train, enc_target_test = train_test_split(\n",
    "    new_matrix, target, test_size=0.25, random_state=12345)"
   ]
  },
  {
   "cell_type": "code",
   "execution_count": 13,
   "metadata": {},
   "outputs": [
    {
     "name": "stdout",
     "output_type": "stream",
     "text": [
      "R2: 0.4230772761583369\n"
     ]
    }
   ],
   "source": [
    "model_2 = LinearRegression()\n",
    "model_2.fit(enc_features_train, enc_target_train)\n",
    "predictions_2 = model_2.predict(enc_features_test)\n",
    "r2_2 = r2_score(enc_target_test, predictions_2)\n",
    "\n",
    "print('R2:', r2_2)"
   ]
  },
  {
   "cell_type": "markdown",
   "metadata": {},
   "source": [
    "## вывод"
   ]
  },
  {
   "cell_type": "markdown",
   "metadata": {},
   "source": [
    "Для защиты данных клиентов был предложен метод преобразования данных путем умножения признаков на обратимую матрицу, не теряя при этом качество линейной регрессии."
   ]
  }
 ],
 "metadata": {
  "ExecuteTimeLog": [
   {
    "duration": 328,
    "start_time": "2023-07-18T10:59:32.355Z"
   },
   {
    "duration": 54,
    "start_time": "2023-07-18T10:59:33.363Z"
   },
   {
    "duration": 87,
    "start_time": "2023-07-18T10:59:41.462Z"
   },
   {
    "duration": 41,
    "start_time": "2023-07-18T10:59:49.883Z"
   },
   {
    "duration": 33,
    "start_time": "2023-07-18T11:00:00.712Z"
   },
   {
    "duration": 7,
    "start_time": "2023-07-18T11:03:07.357Z"
   },
   {
    "duration": 11,
    "start_time": "2023-07-18T11:03:30.323Z"
   },
   {
    "duration": 7,
    "start_time": "2023-07-18T11:03:58.965Z"
   },
   {
    "duration": 7,
    "start_time": "2023-07-18T11:04:10.672Z"
   },
   {
    "duration": 13,
    "start_time": "2023-07-18T11:04:16.094Z"
   },
   {
    "duration": 13,
    "start_time": "2023-07-18T11:04:30.187Z"
   },
   {
    "duration": 13,
    "start_time": "2023-07-18T11:04:52.784Z"
   },
   {
    "duration": 11,
    "start_time": "2023-07-18T11:04:58.419Z"
   },
   {
    "duration": 12,
    "start_time": "2023-07-18T11:04:59.385Z"
   },
   {
    "duration": 6,
    "start_time": "2023-07-18T11:05:57.763Z"
   },
   {
    "duration": 1091,
    "start_time": "2023-07-18T11:06:01.302Z"
   },
   {
    "duration": 47,
    "start_time": "2023-07-18T11:06:03.995Z"
   },
   {
    "duration": 337,
    "start_time": "2023-07-18T11:06:10.952Z"
   },
   {
    "duration": 72,
    "start_time": "2023-07-18T11:06:50.366Z"
   },
   {
    "duration": 97,
    "start_time": "2023-07-18T11:07:02.765Z"
   },
   {
    "duration": 93,
    "start_time": "2023-07-18T11:07:10.988Z"
   },
   {
    "duration": 67,
    "start_time": "2023-07-18T11:07:27.464Z"
   },
   {
    "duration": 95,
    "start_time": "2023-07-18T11:08:01.365Z"
   },
   {
    "duration": 156,
    "start_time": "2023-07-18T11:08:09.192Z"
   },
   {
    "duration": 2,
    "start_time": "2023-07-18T11:08:48.479Z"
   },
   {
    "duration": 97,
    "start_time": "2023-07-18T11:08:54.258Z"
   },
   {
    "duration": 8,
    "start_time": "2023-07-18T11:09:14.207Z"
   },
   {
    "duration": 317,
    "start_time": "2023-07-18T11:09:30.468Z"
   },
   {
    "duration": 280,
    "start_time": "2023-07-18T11:09:38.264Z"
   },
   {
    "duration": 257,
    "start_time": "2023-07-18T11:09:52.051Z"
   },
   {
    "duration": 259,
    "start_time": "2023-07-18T11:09:59.860Z"
   },
   {
    "duration": 264,
    "start_time": "2023-07-18T11:10:06.359Z"
   },
   {
    "duration": 278,
    "start_time": "2023-07-18T11:10:23.406Z"
   },
   {
    "duration": 279,
    "start_time": "2023-07-18T11:10:29.963Z"
   },
   {
    "duration": 3,
    "start_time": "2023-07-18T11:26:16.166Z"
   },
   {
    "duration": 2,
    "start_time": "2023-07-18T11:27:49.021Z"
   },
   {
    "duration": 2,
    "start_time": "2023-07-18T11:28:11.176Z"
   },
   {
    "duration": 34,
    "start_time": "2023-07-18T11:28:11.566Z"
   },
   {
    "duration": 12,
    "start_time": "2023-07-18T11:28:11.745Z"
   },
   {
    "duration": 15,
    "start_time": "2023-07-18T11:28:11.904Z"
   },
   {
    "duration": 293,
    "start_time": "2023-07-18T11:28:12.086Z"
   },
   {
    "duration": 6,
    "start_time": "2023-07-18T11:28:14.849Z"
   },
   {
    "duration": 9,
    "start_time": "2023-07-18T11:28:15.378Z"
   },
   {
    "duration": 3,
    "start_time": "2023-07-18T11:28:48.721Z"
   },
   {
    "duration": 8,
    "start_time": "2023-07-18T11:28:49.374Z"
   },
   {
    "duration": 4,
    "start_time": "2023-07-18T11:29:38.209Z"
   },
   {
    "duration": 8,
    "start_time": "2023-07-18T11:29:53.954Z"
   },
   {
    "duration": 8,
    "start_time": "2023-07-18T11:29:57.084Z"
   },
   {
    "duration": 4,
    "start_time": "2023-07-18T11:30:11.191Z"
   },
   {
    "duration": 8,
    "start_time": "2023-07-18T11:30:12.774Z"
   },
   {
    "duration": 4,
    "start_time": "2023-07-18T11:30:58.974Z"
   },
   {
    "duration": 5,
    "start_time": "2023-07-18T11:31:06.057Z"
   },
   {
    "duration": 9,
    "start_time": "2023-07-18T11:31:07.116Z"
   },
   {
    "duration": 8,
    "start_time": "2023-07-18T11:31:08.670Z"
   },
   {
    "duration": 4,
    "start_time": "2023-07-18T11:33:37.774Z"
   },
   {
    "duration": 8,
    "start_time": "2023-07-18T11:33:40.461Z"
   },
   {
    "duration": 5,
    "start_time": "2023-07-18T11:33:43.457Z"
   },
   {
    "duration": 8,
    "start_time": "2023-07-18T11:33:44.153Z"
   },
   {
    "duration": 1304,
    "start_time": "2023-07-18T11:34:11.957Z"
   },
   {
    "duration": 35,
    "start_time": "2023-07-18T11:34:13.263Z"
   },
   {
    "duration": 11,
    "start_time": "2023-07-18T11:34:13.300Z"
   },
   {
    "duration": 26,
    "start_time": "2023-07-18T11:34:13.312Z"
   },
   {
    "duration": 259,
    "start_time": "2023-07-18T11:34:13.339Z"
   },
   {
    "duration": 9,
    "start_time": "2023-07-18T11:34:13.600Z"
   },
   {
    "duration": 109,
    "start_time": "2023-07-18T11:34:13.610Z"
   },
   {
    "duration": 0,
    "start_time": "2023-07-18T11:34:13.720Z"
   },
   {
    "duration": 0,
    "start_time": "2023-07-18T11:34:13.721Z"
   },
   {
    "duration": 0,
    "start_time": "2023-07-18T11:34:13.722Z"
   },
   {
    "duration": 0,
    "start_time": "2023-07-18T11:34:13.723Z"
   },
   {
    "duration": 0,
    "start_time": "2023-07-18T11:34:13.724Z"
   },
   {
    "duration": 8,
    "start_time": "2023-07-18T11:34:44.949Z"
   },
   {
    "duration": 8,
    "start_time": "2023-07-18T11:34:57.791Z"
   },
   {
    "duration": 4,
    "start_time": "2023-07-18T11:35:03.256Z"
   },
   {
    "duration": 5,
    "start_time": "2023-07-18T11:35:09.660Z"
   },
   {
    "duration": 7,
    "start_time": "2023-07-18T11:35:17.754Z"
   },
   {
    "duration": 3,
    "start_time": "2023-07-18T11:35:35.115Z"
   },
   {
    "duration": 8,
    "start_time": "2023-07-18T11:35:37.892Z"
   },
   {
    "duration": 3272,
    "start_time": "2023-07-18T13:35:26.259Z"
   },
   {
    "duration": 102,
    "start_time": "2023-07-18T13:35:29.534Z"
   },
   {
    "duration": 13,
    "start_time": "2023-07-18T13:35:29.638Z"
   },
   {
    "duration": 24,
    "start_time": "2023-07-18T13:35:29.654Z"
   },
   {
    "duration": 447,
    "start_time": "2023-07-18T13:35:29.680Z"
   },
   {
    "duration": 7,
    "start_time": "2023-07-18T13:35:30.128Z"
   },
   {
    "duration": 69,
    "start_time": "2023-07-18T13:35:30.137Z"
   },
   {
    "duration": 214,
    "start_time": "2023-07-18T13:35:30.208Z"
   },
   {
    "duration": 0,
    "start_time": "2023-07-18T13:35:30.424Z"
   },
   {
    "duration": 0,
    "start_time": "2023-07-18T13:35:30.425Z"
   },
   {
    "duration": 0,
    "start_time": "2023-07-18T13:35:30.426Z"
   },
   {
    "duration": 0,
    "start_time": "2023-07-18T13:35:30.427Z"
   },
   {
    "duration": 39,
    "start_time": "2023-07-19T02:23:07.153Z"
   },
   {
    "duration": 1443,
    "start_time": "2023-07-19T02:23:11.276Z"
   },
   {
    "duration": 97,
    "start_time": "2023-07-19T02:23:12.721Z"
   },
   {
    "duration": 3,
    "start_time": "2023-07-19T02:23:12.820Z"
   },
   {
    "duration": 35,
    "start_time": "2023-07-19T02:23:12.824Z"
   },
   {
    "duration": 13,
    "start_time": "2023-07-19T02:23:29.483Z"
   },
   {
    "duration": 344,
    "start_time": "2023-07-19T02:23:32.992Z"
   },
   {
    "duration": 5,
    "start_time": "2023-07-19T02:24:38.009Z"
   },
   {
    "duration": 3,
    "start_time": "2023-07-19T02:24:38.590Z"
   },
   {
    "duration": 6,
    "start_time": "2023-07-19T02:24:39.697Z"
   },
   {
    "duration": 4,
    "start_time": "2023-07-19T02:24:45.503Z"
   },
   {
    "duration": 10,
    "start_time": "2023-07-19T02:24:46.016Z"
   },
   {
    "duration": 4,
    "start_time": "2023-07-19T02:24:47.135Z"
   },
   {
    "duration": 5,
    "start_time": "2023-07-19T02:24:47.368Z"
   },
   {
    "duration": 5,
    "start_time": "2023-07-19T02:26:09.909Z"
   },
   {
    "duration": 8,
    "start_time": "2023-07-19T02:26:10.258Z"
   },
   {
    "duration": 1308,
    "start_time": "2023-07-19T02:26:15.633Z"
   },
   {
    "duration": 37,
    "start_time": "2023-07-19T02:26:16.943Z"
   },
   {
    "duration": 4,
    "start_time": "2023-07-19T02:26:16.982Z"
   },
   {
    "duration": 38,
    "start_time": "2023-07-19T02:26:16.987Z"
   },
   {
    "duration": 13,
    "start_time": "2023-07-19T02:26:17.027Z"
   },
   {
    "duration": 270,
    "start_time": "2023-07-19T02:26:17.041Z"
   },
   {
    "duration": 5,
    "start_time": "2023-07-19T02:26:17.312Z"
   },
   {
    "duration": 12,
    "start_time": "2023-07-19T02:26:17.319Z"
   },
   {
    "duration": 10,
    "start_time": "2023-07-19T02:26:17.332Z"
   },
   {
    "duration": 13,
    "start_time": "2023-07-19T02:26:17.344Z"
   },
   {
    "duration": 29,
    "start_time": "2023-07-19T02:26:17.358Z"
   },
   {
    "duration": 11,
    "start_time": "2023-07-19T02:26:17.388Z"
   },
   {
    "duration": 11,
    "start_time": "2023-07-19T02:26:17.400Z"
   },
   {
    "duration": 3091,
    "start_time": "2023-07-19T06:06:20.524Z"
   },
   {
    "duration": 99,
    "start_time": "2023-07-19T06:06:23.617Z"
   },
   {
    "duration": 3,
    "start_time": "2023-07-19T06:06:23.717Z"
   },
   {
    "duration": 51,
    "start_time": "2023-07-19T06:06:23.722Z"
   },
   {
    "duration": 13,
    "start_time": "2023-07-19T06:06:23.775Z"
   },
   {
    "duration": 335,
    "start_time": "2023-07-19T06:06:23.790Z"
   },
   {
    "duration": 6,
    "start_time": "2023-07-19T06:06:24.126Z"
   },
   {
    "duration": 15,
    "start_time": "2023-07-19T06:06:24.133Z"
   },
   {
    "duration": 6,
    "start_time": "2023-07-19T06:06:24.149Z"
   },
   {
    "duration": 5,
    "start_time": "2023-07-19T06:06:24.157Z"
   },
   {
    "duration": 43,
    "start_time": "2023-07-19T06:06:24.164Z"
   },
   {
    "duration": 9,
    "start_time": "2023-07-19T06:06:24.209Z"
   },
   {
    "duration": 98,
    "start_time": "2023-07-19T06:06:24.219Z"
   },
   {
    "duration": 2940,
    "start_time": "2023-07-19T06:11:45.395Z"
   },
   {
    "duration": 36,
    "start_time": "2023-07-19T06:11:48.337Z"
   },
   {
    "duration": 3,
    "start_time": "2023-07-19T06:11:48.375Z"
   },
   {
    "duration": 39,
    "start_time": "2023-07-19T06:11:48.379Z"
   },
   {
    "duration": 13,
    "start_time": "2023-07-19T06:11:48.420Z"
   },
   {
    "duration": 290,
    "start_time": "2023-07-19T06:11:48.434Z"
   },
   {
    "duration": 5,
    "start_time": "2023-07-19T06:11:48.725Z"
   },
   {
    "duration": 10,
    "start_time": "2023-07-19T06:11:48.731Z"
   },
   {
    "duration": 13,
    "start_time": "2023-07-19T06:11:48.742Z"
   },
   {
    "duration": 5,
    "start_time": "2023-07-19T06:11:48.756Z"
   },
   {
    "duration": 8,
    "start_time": "2023-07-19T06:11:48.762Z"
   },
   {
    "duration": 4,
    "start_time": "2023-07-19T06:11:48.771Z"
   },
   {
    "duration": 11,
    "start_time": "2023-07-19T06:11:48.776Z"
   },
   {
    "duration": 5,
    "start_time": "2023-07-19T06:12:02.838Z"
   }
  ],
  "kernelspec": {
   "display_name": "Python 3 (ipykernel)",
   "language": "python",
   "name": "python3"
  },
  "language_info": {
   "codemirror_mode": {
    "name": "ipython",
    "version": 3
   },
   "file_extension": ".py",
   "mimetype": "text/x-python",
   "name": "python",
   "nbconvert_exporter": "python",
   "pygments_lexer": "ipython3",
   "version": "3.11.5"
  },
  "toc": {
   "base_numbering": 1,
   "nav_menu": {},
   "number_sections": true,
   "sideBar": true,
   "skip_h1_title": true,
   "title_cell": "Содержание",
   "title_sidebar": "Contents",
   "toc_cell": true,
   "toc_position": {},
   "toc_section_display": true,
   "toc_window_display": false
  }
 },
 "nbformat": 4,
 "nbformat_minor": 2
}
