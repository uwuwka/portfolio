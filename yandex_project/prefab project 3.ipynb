{
 "cells": [
  {
   "cell_type": "markdown",
   "id": "b2dc5582",
   "metadata": {},
   "source": [
    "# Сборный проект: создание модели оценки риска дтп на определенном маршруте\n",
    " Задачи:\n",
    " \n",
    "- Создать модель предсказания ДТП (целевое значение — at_fault (виновник) в таблице parties)\n",
    "\n",
    "- Для модели выбрать тип виновника — только машина (car).\n",
    "\n",
    "- Выбрать случаи, когда ДТП привело к любым повреждениям транспортного средства, кроме типа SCRATCH (царапина).\n",
    "\n",
    "- Для моделирования ограничиться данными за 2012 год — они самые свежие.\n",
    "\n",
    "- Обязательное условие — учесть фактор возраста автомобиля.\n",
    "\n",
    "- На основе модели исследовать основные факторы ДТП.\n",
    "\n",
    "- Понять, помогут ли результаты моделирования и анализ важности факторов ответить на вопросы:\n",
    "    - Возможно ли создать адекватную системы оценки водительского риска при выдаче авто? \n",
    "    - Какие ещё факторы нужно учесть?\n",
    "    - Нужно ли оборудовать автомобиль какими-либо датчиками или камерой?\n",
    "    \n",
    "Краткое описание таблиц:\n",
    "  - collisions — общая информация о ДТП\n",
    "\n",
    "  - Имеет уникальный case_id. Эта таблица описывает общую информацию о ДТП. Например, где оно произошло и когда.\n",
    "  - parties — информация об участниках ДТП\n",
    "    Имеет неуникальный case_id, который сопоставляется с соответствующим ДТП в таблице collisions. Каждая строка здесь описывает одну из сторон, участвующих в ДТП. Если столкнулись две машины, в этой таблице должно быть две строки с совпадением case_id. Если нужен уникальный идентификатор, это case_id and party_number.\n",
    "    \n",
    "    \n",
    "  - vehicles — информация о пострадавших машинах\n",
    "    Имеет неуникальные case_id и неуникальные party_number, которые сопоставляются с таблицей collisions и таблицей parties. Если нужен уникальный идентификатор, это case_id and party_number.\n",
    "    "
   ]
  },
  {
   "cell_type": "code",
   "execution_count": 4,
   "id": "840d7654",
   "metadata": {},
   "outputs": [],
   "source": [
    "!pip -q install skorch"
   ]
  },
  {
   "cell_type": "code",
   "execution_count": 5,
   "id": "25624617",
   "metadata": {},
   "outputs": [],
   "source": [
    "!pip -q install torcheval"
   ]
  },
  {
   "cell_type": "code",
   "execution_count": 6,
   "id": "2ca67aaf",
   "metadata": {},
   "outputs": [
    {
     "data": {
      "text/plain": [
       "<torch._C.Generator at 0x7ff6163ed0d0>"
      ]
     },
     "execution_count": 6,
     "metadata": {},
     "output_type": "execute_result"
    }
   ],
   "source": [
    "import pandas as pd\n",
    "import numpy as np\n",
    "from sqlalchemy import create_engine \n",
    "import matplotlib.pyplot as plt\n",
    "import seaborn as sns\n",
    "\n",
    "import torch\n",
    "import torch.nn.init as init\n",
    "import torch.nn as nn\n",
    "from torch import tensor\n",
    "from torch.optim import Adam\n",
    "from torcheval.metrics.functional import multiclass_f1_score\n",
    "\n",
    "from skorch import NeuralNetClassifier\n",
    "from skorch.callbacks import EpochScoring, EarlyStopping\n",
    "\n",
    "from sklearn.metrics import make_scorer, f1_score, roc_auc_score, confusion_matrix,fbeta_score,precision_recall_curve,PrecisionRecallDisplay,plot_roc_curve\n",
    "    \n",
    "from sklearn.utils import shuffle\n",
    "from sklearn.model_selection import train_test_split, RandomizedSearchCV , cross_val_score\n",
    "from sklearn.preprocessing import OneHotEncoder,StandardScaler\n",
    "from sklearn.pipeline import Pipeline\n",
    "from sklearn.svm import SVC\n",
    "from sklearn.compose import ColumnTransformer\n",
    "\n",
    "\n",
    "from sklearn.ensemble import RandomForestClassifier\n",
    "from sklearn.tree import DecisionTreeClassifier\n",
    "from catboost import CatBoostClassifier\n",
    "from catboost import  Pool\n",
    "\n",
    "from math import ceil\n",
    "\n",
    "import warnings\n",
    "warnings.filterwarnings(\"ignore\")\n",
    "\n",
    "SEED = np.random.RandomState(0)\n",
    "torch.manual_seed(3826)"
   ]
  },
  {
   "cell_type": "markdown",
   "id": "7e88980c",
   "metadata": {
    "ExecuteTime": {
     "end_time": "2022-05-05T04:58:05.692448Z",
     "start_time": "2022-05-05T04:58:05.688565Z"
    }
   },
   "source": [
    "## Подключитесь к базе. Загрузите таблицы sql"
   ]
  },
  {
   "cell_type": "code",
   "execution_count": 7,
   "id": "62047e17",
   "metadata": {},
   "outputs": [],
   "source": [
    "db_config = {\n",
    "'user': 'praktikum_student', # имя пользователя,\n",
    "'pwd': 'Sdf4$2;d-d30pp', # пароль,\n",
    "'host': 'rc1b-wcoijxj3yxfsf3fs.mdb.yandexcloud.net',\n",
    "'port': 6432, # порт подключения,\n",
    "'db': 'data-science-vehicle-db' # название базы данных,\n",
    "} \n",
    "\n",
    "connection_string = 'postgresql://{}:{}@{}:{}/{}'.format(\n",
    "    db_config['user'],\n",
    "    db_config['pwd'],\n",
    "    db_config['host'],\n",
    "    db_config['port'],\n",
    "    db_config['db'],\n",
    ")"
   ]
  },
  {
   "cell_type": "code",
   "execution_count": 8,
   "id": "e48e9d17",
   "metadata": {},
   "outputs": [],
   "source": [
    "engine = create_engine(connection_string) "
   ]
  },
  {
   "cell_type": "markdown",
   "id": "31c6a499",
   "metadata": {},
   "source": [
    "## Проведите первичное исследование таблиц"
   ]
  },
  {
   "cell_type": "code",
   "execution_count": 10,
   "id": "bccf0467",
   "metadata": {},
   "outputs": [],
   "source": [
    "query = '''\n",
    "SELECT table_name\n",
    "FROM information_schema.tables\n",
    "WHERE table_type = 'BASE TABLE'\n",
    "'''\n",
    "sample_df=pd.read_sql_query(query, con=engine) "
   ]
  },
  {
   "cell_type": "code",
   "execution_count": 11,
   "id": "8bd07b18",
   "metadata": {},
   "outputs": [
    {
     "data": {
      "text/html": [
       "<div>\n",
       "<style scoped>\n",
       "    .dataframe tbody tr th:only-of-type {\n",
       "        vertical-align: middle;\n",
       "    }\n",
       "\n",
       "    .dataframe tbody tr th {\n",
       "        vertical-align: top;\n",
       "    }\n",
       "\n",
       "    .dataframe thead th {\n",
       "        text-align: right;\n",
       "    }\n",
       "</style>\n",
       "<table border=\"1\" class=\"dataframe\">\n",
       "  <thead>\n",
       "    <tr style=\"text-align: right;\">\n",
       "      <th></th>\n",
       "      <th>table_name</th>\n",
       "    </tr>\n",
       "  </thead>\n",
       "  <tbody>\n",
       "    <tr>\n",
       "      <th>0</th>\n",
       "      <td>pg_type</td>\n",
       "    </tr>\n",
       "    <tr>\n",
       "      <th>1</th>\n",
       "      <td>pg_foreign_table</td>\n",
       "    </tr>\n",
       "    <tr>\n",
       "      <th>2</th>\n",
       "      <td>pg_amop</td>\n",
       "    </tr>\n",
       "    <tr>\n",
       "      <th>3</th>\n",
       "      <td>pg_amproc</td>\n",
       "    </tr>\n",
       "    <tr>\n",
       "      <th>4</th>\n",
       "      <td>pg_language</td>\n",
       "    </tr>\n",
       "    <tr>\n",
       "      <th>...</th>\n",
       "      <td>...</td>\n",
       "    </tr>\n",
       "    <tr>\n",
       "      <th>59</th>\n",
       "      <td>pg_inherits</td>\n",
       "    </tr>\n",
       "    <tr>\n",
       "      <th>60</th>\n",
       "      <td>collisions</td>\n",
       "    </tr>\n",
       "    <tr>\n",
       "      <th>61</th>\n",
       "      <td>case_ids</td>\n",
       "    </tr>\n",
       "    <tr>\n",
       "      <th>62</th>\n",
       "      <td>parties</td>\n",
       "    </tr>\n",
       "    <tr>\n",
       "      <th>63</th>\n",
       "      <td>vehicles</td>\n",
       "    </tr>\n",
       "  </tbody>\n",
       "</table>\n",
       "<p>64 rows × 1 columns</p>\n",
       "</div>"
      ],
      "text/plain": [
       "          table_name\n",
       "0            pg_type\n",
       "1   pg_foreign_table\n",
       "2            pg_amop\n",
       "3          pg_amproc\n",
       "4        pg_language\n",
       "..               ...\n",
       "59       pg_inherits\n",
       "60        collisions\n",
       "61          case_ids\n",
       "62           parties\n",
       "63          vehicles\n",
       "\n",
       "[64 rows x 1 columns]"
      ]
     },
     "metadata": {},
     "output_type": "display_data"
    }
   ],
   "source": [
    "display(sample_df)"
   ]
  },
  {
   "cell_type": "code",
   "execution_count": 12,
   "id": "218d8c6c",
   "metadata": {
    "scrolled": false
   },
   "outputs": [],
   "source": [
    "query = '''\n",
    "SELECT *\n",
    "FROM collisions\n",
    "LIMIT 10\n",
    "'''\n",
    "\n",
    "sample_df_coll = pd.read_sql_query(query, con=engine) "
   ]
  },
  {
   "cell_type": "code",
   "execution_count": 13,
   "id": "f489a0b5",
   "metadata": {},
   "outputs": [
    {
     "data": {
      "text/html": [
       "<div>\n",
       "<style scoped>\n",
       "    .dataframe tbody tr th:only-of-type {\n",
       "        vertical-align: middle;\n",
       "    }\n",
       "\n",
       "    .dataframe tbody tr th {\n",
       "        vertical-align: top;\n",
       "    }\n",
       "\n",
       "    .dataframe thead th {\n",
       "        text-align: right;\n",
       "    }\n",
       "</style>\n",
       "<table border=\"1\" class=\"dataframe\">\n",
       "  <thead>\n",
       "    <tr style=\"text-align: right;\">\n",
       "      <th></th>\n",
       "      <th>case_id</th>\n",
       "      <th>county_city_location</th>\n",
       "      <th>county_location</th>\n",
       "      <th>distance</th>\n",
       "      <th>direction</th>\n",
       "      <th>intersection</th>\n",
       "      <th>weather_1</th>\n",
       "      <th>location_type</th>\n",
       "      <th>collision_damage</th>\n",
       "      <th>party_count</th>\n",
       "      <th>primary_collision_factor</th>\n",
       "      <th>pcf_violation_category</th>\n",
       "      <th>type_of_collision</th>\n",
       "      <th>motor_vehicle_involved_with</th>\n",
       "      <th>road_surface</th>\n",
       "      <th>road_condition_1</th>\n",
       "      <th>lighting</th>\n",
       "      <th>control_device</th>\n",
       "      <th>collision_date</th>\n",
       "      <th>collision_time</th>\n",
       "    </tr>\n",
       "  </thead>\n",
       "  <tbody>\n",
       "    <tr>\n",
       "      <th>0</th>\n",
       "      <td>4083072</td>\n",
       "      <td>1942</td>\n",
       "      <td>los angeles</td>\n",
       "      <td>528.0</td>\n",
       "      <td>north</td>\n",
       "      <td>0</td>\n",
       "      <td>cloudy</td>\n",
       "      <td>highway</td>\n",
       "      <td>small damage</td>\n",
       "      <td>2</td>\n",
       "      <td>vehicle code violation</td>\n",
       "      <td>unsafe lane change</td>\n",
       "      <td>sideswipe</td>\n",
       "      <td>other motor vehicle</td>\n",
       "      <td>wet</td>\n",
       "      <td>normal</td>\n",
       "      <td>daylight</td>\n",
       "      <td>none</td>\n",
       "      <td>2009-01-22</td>\n",
       "      <td>07:25:00</td>\n",
       "    </tr>\n",
       "    <tr>\n",
       "      <th>1</th>\n",
       "      <td>4083075</td>\n",
       "      <td>4313</td>\n",
       "      <td>santa clara</td>\n",
       "      <td>0.0</td>\n",
       "      <td>None</td>\n",
       "      <td>1</td>\n",
       "      <td>clear</td>\n",
       "      <td>None</td>\n",
       "      <td>small damage</td>\n",
       "      <td>1</td>\n",
       "      <td>vehicle code violation</td>\n",
       "      <td>improper passing</td>\n",
       "      <td>hit object</td>\n",
       "      <td>fixed object</td>\n",
       "      <td>dry</td>\n",
       "      <td>normal</td>\n",
       "      <td>dark with street lights</td>\n",
       "      <td>functioning</td>\n",
       "      <td>2009-01-03</td>\n",
       "      <td>02:26:00</td>\n",
       "    </tr>\n",
       "    <tr>\n",
       "      <th>2</th>\n",
       "      <td>4083073</td>\n",
       "      <td>0109</td>\n",
       "      <td>alameda</td>\n",
       "      <td>0.0</td>\n",
       "      <td>None</td>\n",
       "      <td>1</td>\n",
       "      <td>clear</td>\n",
       "      <td>None</td>\n",
       "      <td>scratch</td>\n",
       "      <td>2</td>\n",
       "      <td>vehicle code violation</td>\n",
       "      <td>improper turning</td>\n",
       "      <td>broadside</td>\n",
       "      <td>other motor vehicle</td>\n",
       "      <td>dry</td>\n",
       "      <td>normal</td>\n",
       "      <td>dark with street lights</td>\n",
       "      <td>functioning</td>\n",
       "      <td>2009-01-11</td>\n",
       "      <td>03:32:00</td>\n",
       "    </tr>\n",
       "    <tr>\n",
       "      <th>3</th>\n",
       "      <td>4083077</td>\n",
       "      <td>0109</td>\n",
       "      <td>alameda</td>\n",
       "      <td>0.0</td>\n",
       "      <td>None</td>\n",
       "      <td>1</td>\n",
       "      <td>clear</td>\n",
       "      <td>None</td>\n",
       "      <td>scratch</td>\n",
       "      <td>2</td>\n",
       "      <td>vehicle code violation</td>\n",
       "      <td>automobile right of way</td>\n",
       "      <td>broadside</td>\n",
       "      <td>other motor vehicle</td>\n",
       "      <td>dry</td>\n",
       "      <td>normal</td>\n",
       "      <td>daylight</td>\n",
       "      <td>functioning</td>\n",
       "      <td>2009-01-11</td>\n",
       "      <td>10:35:00</td>\n",
       "    </tr>\n",
       "    <tr>\n",
       "      <th>4</th>\n",
       "      <td>4083087</td>\n",
       "      <td>4313</td>\n",
       "      <td>santa clara</td>\n",
       "      <td>0.0</td>\n",
       "      <td>None</td>\n",
       "      <td>1</td>\n",
       "      <td>clear</td>\n",
       "      <td>None</td>\n",
       "      <td>scratch</td>\n",
       "      <td>2</td>\n",
       "      <td>vehicle code violation</td>\n",
       "      <td>speeding</td>\n",
       "      <td>rear end</td>\n",
       "      <td>other motor vehicle</td>\n",
       "      <td>dry</td>\n",
       "      <td>None</td>\n",
       "      <td>dark with street lights</td>\n",
       "      <td>functioning</td>\n",
       "      <td>2009-01-02</td>\n",
       "      <td>22:43:00</td>\n",
       "    </tr>\n",
       "    <tr>\n",
       "      <th>5</th>\n",
       "      <td>4083097</td>\n",
       "      <td>0109</td>\n",
       "      <td>alameda</td>\n",
       "      <td>0.0</td>\n",
       "      <td>None</td>\n",
       "      <td>1</td>\n",
       "      <td>clear</td>\n",
       "      <td>ramp</td>\n",
       "      <td>small damage</td>\n",
       "      <td>2</td>\n",
       "      <td>vehicle code violation</td>\n",
       "      <td>speeding</td>\n",
       "      <td>rear end</td>\n",
       "      <td>other motor vehicle</td>\n",
       "      <td>dry</td>\n",
       "      <td>normal</td>\n",
       "      <td>dark with street lights</td>\n",
       "      <td>functioning</td>\n",
       "      <td>2009-01-18</td>\n",
       "      <td>02:18:00</td>\n",
       "    </tr>\n",
       "    <tr>\n",
       "      <th>6</th>\n",
       "      <td>4083092</td>\n",
       "      <td>1942</td>\n",
       "      <td>los angeles</td>\n",
       "      <td>1320.0</td>\n",
       "      <td>south</td>\n",
       "      <td>0</td>\n",
       "      <td>clear</td>\n",
       "      <td>highway</td>\n",
       "      <td>scratch</td>\n",
       "      <td>2</td>\n",
       "      <td>vehicle code violation</td>\n",
       "      <td>unsafe lane change</td>\n",
       "      <td>rear end</td>\n",
       "      <td>other motor vehicle</td>\n",
       "      <td>dry</td>\n",
       "      <td>normal</td>\n",
       "      <td>daylight</td>\n",
       "      <td>none</td>\n",
       "      <td>2009-01-21</td>\n",
       "      <td>10:30:00</td>\n",
       "    </tr>\n",
       "    <tr>\n",
       "      <th>7</th>\n",
       "      <td>4083096</td>\n",
       "      <td>1942</td>\n",
       "      <td>los angeles</td>\n",
       "      <td>200.0</td>\n",
       "      <td>south</td>\n",
       "      <td>0</td>\n",
       "      <td>clear</td>\n",
       "      <td>highway</td>\n",
       "      <td>scratch</td>\n",
       "      <td>3</td>\n",
       "      <td>vehicle code violation</td>\n",
       "      <td>speeding</td>\n",
       "      <td>rear end</td>\n",
       "      <td>other motor vehicle</td>\n",
       "      <td>dry</td>\n",
       "      <td>normal</td>\n",
       "      <td>daylight</td>\n",
       "      <td>none</td>\n",
       "      <td>2009-01-21</td>\n",
       "      <td>08:55:00</td>\n",
       "    </tr>\n",
       "    <tr>\n",
       "      <th>8</th>\n",
       "      <td>4083100</td>\n",
       "      <td>1942</td>\n",
       "      <td>los angeles</td>\n",
       "      <td>2112.0</td>\n",
       "      <td>north</td>\n",
       "      <td>0</td>\n",
       "      <td>cloudy</td>\n",
       "      <td>highway</td>\n",
       "      <td>scratch</td>\n",
       "      <td>2</td>\n",
       "      <td>vehicle code violation</td>\n",
       "      <td>speeding</td>\n",
       "      <td>rear end</td>\n",
       "      <td>other motor vehicle</td>\n",
       "      <td>dry</td>\n",
       "      <td>normal</td>\n",
       "      <td>daylight</td>\n",
       "      <td>none</td>\n",
       "      <td>2009-01-21</td>\n",
       "      <td>16:20:00</td>\n",
       "    </tr>\n",
       "    <tr>\n",
       "      <th>9</th>\n",
       "      <td>4083103</td>\n",
       "      <td>4313</td>\n",
       "      <td>santa clara</td>\n",
       "      <td>0.0</td>\n",
       "      <td>None</td>\n",
       "      <td>1</td>\n",
       "      <td>cloudy</td>\n",
       "      <td>None</td>\n",
       "      <td>scratch</td>\n",
       "      <td>2</td>\n",
       "      <td>vehicle code violation</td>\n",
       "      <td>None</td>\n",
       "      <td>broadside</td>\n",
       "      <td>other motor vehicle</td>\n",
       "      <td>wet</td>\n",
       "      <td>normal</td>\n",
       "      <td>dusk or dawn</td>\n",
       "      <td>functioning</td>\n",
       "      <td>2009-01-02</td>\n",
       "      <td>15:55:00</td>\n",
       "    </tr>\n",
       "  </tbody>\n",
       "</table>\n",
       "</div>"
      ],
      "text/plain": [
       "   case_id county_city_location county_location  distance direction  \\\n",
       "0  4083072                 1942     los angeles     528.0     north   \n",
       "1  4083075                 4313     santa clara       0.0      None   \n",
       "2  4083073                 0109         alameda       0.0      None   \n",
       "3  4083077                 0109         alameda       0.0      None   \n",
       "4  4083087                 4313     santa clara       0.0      None   \n",
       "5  4083097                 0109         alameda       0.0      None   \n",
       "6  4083092                 1942     los angeles    1320.0     south   \n",
       "7  4083096                 1942     los angeles     200.0     south   \n",
       "8  4083100                 1942     los angeles    2112.0     north   \n",
       "9  4083103                 4313     santa clara       0.0      None   \n",
       "\n",
       "   intersection weather_1 location_type collision_damage  party_count  \\\n",
       "0             0    cloudy       highway     small damage            2   \n",
       "1             1     clear          None     small damage            1   \n",
       "2             1     clear          None          scratch            2   \n",
       "3             1     clear          None          scratch            2   \n",
       "4             1     clear          None          scratch            2   \n",
       "5             1     clear          ramp     small damage            2   \n",
       "6             0     clear       highway          scratch            2   \n",
       "7             0     clear       highway          scratch            3   \n",
       "8             0    cloudy       highway          scratch            2   \n",
       "9             1    cloudy          None          scratch            2   \n",
       "\n",
       "  primary_collision_factor   pcf_violation_category type_of_collision  \\\n",
       "0   vehicle code violation       unsafe lane change         sideswipe   \n",
       "1   vehicle code violation         improper passing        hit object   \n",
       "2   vehicle code violation         improper turning         broadside   \n",
       "3   vehicle code violation  automobile right of way         broadside   \n",
       "4   vehicle code violation                 speeding          rear end   \n",
       "5   vehicle code violation                 speeding          rear end   \n",
       "6   vehicle code violation       unsafe lane change          rear end   \n",
       "7   vehicle code violation                 speeding          rear end   \n",
       "8   vehicle code violation                 speeding          rear end   \n",
       "9   vehicle code violation                     None         broadside   \n",
       "\n",
       "  motor_vehicle_involved_with road_surface road_condition_1  \\\n",
       "0         other motor vehicle          wet           normal   \n",
       "1                fixed object          dry           normal   \n",
       "2         other motor vehicle          dry           normal   \n",
       "3         other motor vehicle          dry           normal   \n",
       "4         other motor vehicle          dry             None   \n",
       "5         other motor vehicle          dry           normal   \n",
       "6         other motor vehicle          dry           normal   \n",
       "7         other motor vehicle          dry           normal   \n",
       "8         other motor vehicle          dry           normal   \n",
       "9         other motor vehicle          wet           normal   \n",
       "\n",
       "                  lighting control_device collision_date collision_time  \n",
       "0                 daylight           none     2009-01-22       07:25:00  \n",
       "1  dark with street lights    functioning     2009-01-03       02:26:00  \n",
       "2  dark with street lights    functioning     2009-01-11       03:32:00  \n",
       "3                 daylight    functioning     2009-01-11       10:35:00  \n",
       "4  dark with street lights    functioning     2009-01-02       22:43:00  \n",
       "5  dark with street lights    functioning     2009-01-18       02:18:00  \n",
       "6                 daylight           none     2009-01-21       10:30:00  \n",
       "7                 daylight           none     2009-01-21       08:55:00  \n",
       "8                 daylight           none     2009-01-21       16:20:00  \n",
       "9             dusk or dawn    functioning     2009-01-02       15:55:00  "
      ]
     },
     "execution_count": 13,
     "metadata": {},
     "output_type": "execute_result"
    }
   ],
   "source": [
    "sample_df_coll"
   ]
  },
  {
   "cell_type": "code",
   "execution_count": 14,
   "id": "caa4b14c",
   "metadata": {},
   "outputs": [],
   "source": [
    "query = '''\n",
    "SELECT *\n",
    "FROM Parties\n",
    "LIMIT 10\n",
    "'''\n",
    "\n",
    "sample_df_part = pd.read_sql_query(query, con=engine) "
   ]
  },
  {
   "cell_type": "code",
   "execution_count": 15,
   "id": "3bbe80e7",
   "metadata": {},
   "outputs": [
    {
     "data": {
      "text/html": [
       "<div>\n",
       "<style scoped>\n",
       "    .dataframe tbody tr th:only-of-type {\n",
       "        vertical-align: middle;\n",
       "    }\n",
       "\n",
       "    .dataframe tbody tr th {\n",
       "        vertical-align: top;\n",
       "    }\n",
       "\n",
       "    .dataframe thead th {\n",
       "        text-align: right;\n",
       "    }\n",
       "</style>\n",
       "<table border=\"1\" class=\"dataframe\">\n",
       "  <thead>\n",
       "    <tr style=\"text-align: right;\">\n",
       "      <th></th>\n",
       "      <th>id</th>\n",
       "      <th>case_id</th>\n",
       "      <th>party_number</th>\n",
       "      <th>party_type</th>\n",
       "      <th>at_fault</th>\n",
       "      <th>insurance_premium</th>\n",
       "      <th>party_sobriety</th>\n",
       "      <th>party_drug_physical</th>\n",
       "      <th>cellphone_in_use</th>\n",
       "    </tr>\n",
       "  </thead>\n",
       "  <tbody>\n",
       "    <tr>\n",
       "      <th>0</th>\n",
       "      <td>22</td>\n",
       "      <td>3899454</td>\n",
       "      <td>1</td>\n",
       "      <td>road signs</td>\n",
       "      <td>1</td>\n",
       "      <td>29.0</td>\n",
       "      <td>had not been drinking</td>\n",
       "      <td>None</td>\n",
       "      <td>0.0</td>\n",
       "    </tr>\n",
       "    <tr>\n",
       "      <th>1</th>\n",
       "      <td>23</td>\n",
       "      <td>3899454</td>\n",
       "      <td>2</td>\n",
       "      <td>road signs</td>\n",
       "      <td>0</td>\n",
       "      <td>7.0</td>\n",
       "      <td>had not been drinking</td>\n",
       "      <td>None</td>\n",
       "      <td>0.0</td>\n",
       "    </tr>\n",
       "    <tr>\n",
       "      <th>2</th>\n",
       "      <td>29</td>\n",
       "      <td>3899462</td>\n",
       "      <td>2</td>\n",
       "      <td>car</td>\n",
       "      <td>0</td>\n",
       "      <td>21.0</td>\n",
       "      <td>had not been drinking</td>\n",
       "      <td>None</td>\n",
       "      <td>0.0</td>\n",
       "    </tr>\n",
       "    <tr>\n",
       "      <th>3</th>\n",
       "      <td>31</td>\n",
       "      <td>3899465</td>\n",
       "      <td>2</td>\n",
       "      <td>road signs</td>\n",
       "      <td>0</td>\n",
       "      <td>24.0</td>\n",
       "      <td>had not been drinking</td>\n",
       "      <td>None</td>\n",
       "      <td>0.0</td>\n",
       "    </tr>\n",
       "    <tr>\n",
       "      <th>4</th>\n",
       "      <td>41</td>\n",
       "      <td>3899478</td>\n",
       "      <td>2</td>\n",
       "      <td>road bumper</td>\n",
       "      <td>0</td>\n",
       "      <td>NaN</td>\n",
       "      <td>not applicable</td>\n",
       "      <td>not applicable</td>\n",
       "      <td>0.0</td>\n",
       "    </tr>\n",
       "    <tr>\n",
       "      <th>5</th>\n",
       "      <td>43</td>\n",
       "      <td>3899481</td>\n",
       "      <td>2</td>\n",
       "      <td>road bumper</td>\n",
       "      <td>0</td>\n",
       "      <td>NaN</td>\n",
       "      <td>not applicable</td>\n",
       "      <td>not applicable</td>\n",
       "      <td>0.0</td>\n",
       "    </tr>\n",
       "    <tr>\n",
       "      <th>6</th>\n",
       "      <td>72</td>\n",
       "      <td>3899505</td>\n",
       "      <td>2</td>\n",
       "      <td>road bumper</td>\n",
       "      <td>0</td>\n",
       "      <td>NaN</td>\n",
       "      <td>not applicable</td>\n",
       "      <td>not applicable</td>\n",
       "      <td>0.0</td>\n",
       "    </tr>\n",
       "    <tr>\n",
       "      <th>7</th>\n",
       "      <td>73</td>\n",
       "      <td>3899505</td>\n",
       "      <td>3</td>\n",
       "      <td>road bumper</td>\n",
       "      <td>0</td>\n",
       "      <td>NaN</td>\n",
       "      <td>not applicable</td>\n",
       "      <td>not applicable</td>\n",
       "      <td>0.0</td>\n",
       "    </tr>\n",
       "    <tr>\n",
       "      <th>8</th>\n",
       "      <td>76</td>\n",
       "      <td>3899509</td>\n",
       "      <td>1</td>\n",
       "      <td>road bumper</td>\n",
       "      <td>0</td>\n",
       "      <td>NaN</td>\n",
       "      <td>had not been drinking</td>\n",
       "      <td>None</td>\n",
       "      <td>0.0</td>\n",
       "    </tr>\n",
       "    <tr>\n",
       "      <th>9</th>\n",
       "      <td>93</td>\n",
       "      <td>3981292</td>\n",
       "      <td>2</td>\n",
       "      <td>road bumper</td>\n",
       "      <td>0</td>\n",
       "      <td>NaN</td>\n",
       "      <td>had not been drinking</td>\n",
       "      <td>None</td>\n",
       "      <td>NaN</td>\n",
       "    </tr>\n",
       "  </tbody>\n",
       "</table>\n",
       "</div>"
      ],
      "text/plain": [
       "   id  case_id  party_number   party_type  at_fault  insurance_premium  \\\n",
       "0  22  3899454             1   road signs         1               29.0   \n",
       "1  23  3899454             2   road signs         0                7.0   \n",
       "2  29  3899462             2          car         0               21.0   \n",
       "3  31  3899465             2   road signs         0               24.0   \n",
       "4  41  3899478             2  road bumper         0                NaN   \n",
       "5  43  3899481             2  road bumper         0                NaN   \n",
       "6  72  3899505             2  road bumper         0                NaN   \n",
       "7  73  3899505             3  road bumper         0                NaN   \n",
       "8  76  3899509             1  road bumper         0                NaN   \n",
       "9  93  3981292             2  road bumper         0                NaN   \n",
       "\n",
       "          party_sobriety party_drug_physical  cellphone_in_use  \n",
       "0  had not been drinking                None               0.0  \n",
       "1  had not been drinking                None               0.0  \n",
       "2  had not been drinking                None               0.0  \n",
       "3  had not been drinking                None               0.0  \n",
       "4         not applicable      not applicable               0.0  \n",
       "5         not applicable      not applicable               0.0  \n",
       "6         not applicable      not applicable               0.0  \n",
       "7         not applicable      not applicable               0.0  \n",
       "8  had not been drinking                None               0.0  \n",
       "9  had not been drinking                None               NaN  "
      ]
     },
     "execution_count": 15,
     "metadata": {},
     "output_type": "execute_result"
    }
   ],
   "source": [
    "sample_df_part"
   ]
  },
  {
   "cell_type": "code",
   "execution_count": 12,
   "id": "ffd63427",
   "metadata": {},
   "outputs": [],
   "source": [
    "query = '''\n",
    "SELECT *\n",
    "FROM Vehicles\n",
    "LIMIT 10\n",
    "'''\n",
    "\n",
    "sample_df_veh = pd.read_sql_query(query, con=engine) "
   ]
  },
  {
   "cell_type": "code",
   "execution_count": 13,
   "id": "d00de5ba",
   "metadata": {},
   "outputs": [
    {
     "data": {
      "text/html": [
       "<div>\n",
       "<style scoped>\n",
       "    .dataframe tbody tr th:only-of-type {\n",
       "        vertical-align: middle;\n",
       "    }\n",
       "\n",
       "    .dataframe tbody tr th {\n",
       "        vertical-align: top;\n",
       "    }\n",
       "\n",
       "    .dataframe thead th {\n",
       "        text-align: right;\n",
       "    }\n",
       "</style>\n",
       "<table border=\"1\" class=\"dataframe\">\n",
       "  <thead>\n",
       "    <tr style=\"text-align: right;\">\n",
       "      <th></th>\n",
       "      <th>id</th>\n",
       "      <th>case_id</th>\n",
       "      <th>party_number</th>\n",
       "      <th>vehicle_type</th>\n",
       "      <th>vehicle_transmission</th>\n",
       "      <th>vehicle_age</th>\n",
       "    </tr>\n",
       "  </thead>\n",
       "  <tbody>\n",
       "    <tr>\n",
       "      <th>0</th>\n",
       "      <td>1175713</td>\n",
       "      <td>5305032</td>\n",
       "      <td>2</td>\n",
       "      <td>sedan</td>\n",
       "      <td>manual</td>\n",
       "      <td>3</td>\n",
       "    </tr>\n",
       "    <tr>\n",
       "      <th>1</th>\n",
       "      <td>1</td>\n",
       "      <td>3858022</td>\n",
       "      <td>1</td>\n",
       "      <td>sedan</td>\n",
       "      <td>auto</td>\n",
       "      <td>3</td>\n",
       "    </tr>\n",
       "    <tr>\n",
       "      <th>2</th>\n",
       "      <td>1175712</td>\n",
       "      <td>5305030</td>\n",
       "      <td>1</td>\n",
       "      <td>sedan</td>\n",
       "      <td>auto</td>\n",
       "      <td>3</td>\n",
       "    </tr>\n",
       "    <tr>\n",
       "      <th>3</th>\n",
       "      <td>1175717</td>\n",
       "      <td>5305033</td>\n",
       "      <td>3</td>\n",
       "      <td>sedan</td>\n",
       "      <td>auto</td>\n",
       "      <td>5</td>\n",
       "    </tr>\n",
       "    <tr>\n",
       "      <th>4</th>\n",
       "      <td>1175722</td>\n",
       "      <td>5305034</td>\n",
       "      <td>2</td>\n",
       "      <td>sedan</td>\n",
       "      <td>auto</td>\n",
       "      <td>5</td>\n",
       "    </tr>\n",
       "    <tr>\n",
       "      <th>5</th>\n",
       "      <td>1175737</td>\n",
       "      <td>5305046</td>\n",
       "      <td>2</td>\n",
       "      <td>sedan</td>\n",
       "      <td>auto</td>\n",
       "      <td>5</td>\n",
       "    </tr>\n",
       "    <tr>\n",
       "      <th>6</th>\n",
       "      <td>1175750</td>\n",
       "      <td>5305053</td>\n",
       "      <td>3</td>\n",
       "      <td>sedan</td>\n",
       "      <td>auto</td>\n",
       "      <td>9</td>\n",
       "    </tr>\n",
       "    <tr>\n",
       "      <th>7</th>\n",
       "      <td>1175715</td>\n",
       "      <td>5305033</td>\n",
       "      <td>1</td>\n",
       "      <td>sedan</td>\n",
       "      <td>manual</td>\n",
       "      <td>10</td>\n",
       "    </tr>\n",
       "    <tr>\n",
       "      <th>8</th>\n",
       "      <td>1175716</td>\n",
       "      <td>5305033</td>\n",
       "      <td>2</td>\n",
       "      <td>sedan</td>\n",
       "      <td>manual</td>\n",
       "      <td>4</td>\n",
       "    </tr>\n",
       "    <tr>\n",
       "      <th>9</th>\n",
       "      <td>1175758</td>\n",
       "      <td>5305060</td>\n",
       "      <td>2</td>\n",
       "      <td>sedan</td>\n",
       "      <td>auto</td>\n",
       "      <td>11</td>\n",
       "    </tr>\n",
       "  </tbody>\n",
       "</table>\n",
       "</div>"
      ],
      "text/plain": [
       "        id  case_id  party_number vehicle_type vehicle_transmission  \\\n",
       "0  1175713  5305032             2        sedan               manual   \n",
       "1        1  3858022             1        sedan                 auto   \n",
       "2  1175712  5305030             1        sedan                 auto   \n",
       "3  1175717  5305033             3        sedan                 auto   \n",
       "4  1175722  5305034             2        sedan                 auto   \n",
       "5  1175737  5305046             2        sedan                 auto   \n",
       "6  1175750  5305053             3        sedan                 auto   \n",
       "7  1175715  5305033             1        sedan               manual   \n",
       "8  1175716  5305033             2        sedan               manual   \n",
       "9  1175758  5305060             2        sedan                 auto   \n",
       "\n",
       "   vehicle_age  \n",
       "0            3  \n",
       "1            3  \n",
       "2            3  \n",
       "3            5  \n",
       "4            5  \n",
       "5            5  \n",
       "6            9  \n",
       "7           10  \n",
       "8            4  \n",
       "9           11  "
      ]
     },
     "execution_count": 13,
     "metadata": {},
     "output_type": "execute_result"
    }
   ],
   "source": [
    "sample_df_veh"
   ]
  },
  {
   "cell_type": "markdown",
   "id": "12c945e1",
   "metadata": {},
   "source": [
    "<div style=\"padding: 30px 25px; border: 5px #9966FF solid\">\n",
    "    \n",
    "### вывод по главе 'Подключекние к базе. Загрузка таблиц sql':\n",
    "- подключились к бд\n",
    "- посмотрели на связь таблиц между собой\n",
    "- посмотрели на данные из таблиц collisions,Parties,Vehicles"
   ]
  },
  {
   "cell_type": "markdown",
   "id": "dd1ebedb",
   "metadata": {},
   "source": [
    "##  Проведите статистический анализ факторов ДТП"
   ]
  },
  {
   "cell_type": "markdown",
   "id": "966b9a2b",
   "metadata": {},
   "source": [
    "<div style=\"padding:0px 20px 10px; \n",
    "            color:#004346;\n",
    "            font-size:15px;\n",
    "            display:fill;\n",
    "            text-align:center;\n",
    "            border-radius:0px;\n",
    "            border: 5px double;\n",
    "            border-color:#9966FF;\n",
    "            background-color: #FFFFCC;\n",
    "            overflow:hidden;\n",
    "            font-weight:400\"> \n",
    "    \n",
    "### sql"
   ]
  },
  {
   "cell_type": "code",
   "execution_count": 14,
   "id": "92dc1339",
   "metadata": {},
   "outputs": [],
   "source": [
    "#дтп по годам и месяцам \n",
    "query = '''\n",
    "SELECT EXTRACT(month from collision_date) AS month_date,\n",
    "       EXTRACT(YEAR FROM collision_date) AS year,\n",
    "      COUNT(case_id) AS total_collisions\n",
    "FROM collisions\n",
    "GROUP BY 1,2\n",
    "ORDER BY 1,2 desc\n",
    "'''\n",
    "\n",
    "count_collions = pd.read_sql_query(query, con=engine)"
   ]
  },
  {
   "cell_type": "code",
   "execution_count": 15,
   "id": "f361d401",
   "metadata": {},
   "outputs": [],
   "source": [
    "#кол-во дтп по тяжести в зависимости от состояния дороги\n",
    "query = '''\n",
    "SELECT collision_damage,\n",
    "       road_condition_1 AS road_condition,\n",
    "       COUNT(collision_damage)  \n",
    "FROM collisions\n",
    "WHERE road_condition_1 != 'normal'\n",
    "GROUP BY 1,2\n",
    "ORDER BY 1,2 ASC\n",
    "'''\n",
    "road_collisions = pd.read_sql_query(query, con=engine)"
   ]
  },
  {
   "cell_type": "code",
   "execution_count": 16,
   "id": "690683f2",
   "metadata": {},
   "outputs": [],
   "source": [
    "#кол-во дтп по тяжести в зависимости от покрытия дороги\n",
    "query = '''\n",
    "SELECT  collision_damage,\n",
    "        road_surface,\n",
    "        COUNT(collision_damage)\n",
    "FROM collisions\n",
    "GROUP BY 1,2\n",
    "ORDER BY 1,2 ASC\n",
    "'''\n",
    "road_surface= pd.read_sql_query(query, con=engine)"
   ]
  },
  {
   "cell_type": "code",
   "execution_count": 17,
   "id": "fb5286c9",
   "metadata": {},
   "outputs": [],
   "source": [
    "#основной фактор аварии\n",
    "query = '''\n",
    "SELECT primary_collision_factor,\n",
    "       COUNT(primary_collision_factor) cnt_col_factor\n",
    "FROM collisions\n",
    "WHERE primary_collision_factor != 'unknown' \n",
    "GROUP BY 1\n",
    "ORDER BY 2 DESC\n",
    "'''\n",
    "collisions_reasons = pd.read_sql_query(query, con=engine)"
   ]
  },
  {
   "cell_type": "code",
   "execution_count": 18,
   "id": "67bec28d",
   "metadata": {},
   "outputs": [],
   "source": [
    "# нарушение пдд\n",
    "query = '''\n",
    "SELECT PCF_VIOLATION_CATEGORY,\n",
    "       COUNT(PCF_VIOLATION_CATEGORY) cnt_col_factor\n",
    "FROM collisions\n",
    "GROUP BY 1\n",
    "ORDER BY 2 DESC\n",
    "'''\n",
    "collisions_category = pd.read_sql_query(query, con=engine)"
   ]
  },
  {
   "cell_type": "code",
   "execution_count": 19,
   "id": "77ce0f3a",
   "metadata": {},
   "outputs": [],
   "source": [
    "#тяжесть аварии в зависимости от состояния водителя(лекарства)\n",
    "query = '''\n",
    "SELECT  c.collision_damage,\n",
    "        COUNT(c.collision_damage) cnt,\n",
    "        p.PARTY_DRUG_PHYSICAL\n",
    "FROM collisions as c\n",
    "LEFT JOIN Parties as p ON c.case_id=p.case_id\n",
    "WHERE (party_drug_physical != 'not applicable' AND party_drug_physical != 'G')\n",
    "GROUP BY 1,3\n",
    "ORDER BY 3 ASC\n",
    "'''\n",
    "party_drug_physical = pd.read_sql_query(query, con=engine)"
   ]
  },
  {
   "cell_type": "code",
   "execution_count": 20,
   "id": "f38a0402",
   "metadata": {},
   "outputs": [
    {
     "data": {
      "text/html": [
       "<div>\n",
       "<style scoped>\n",
       "    .dataframe tbody tr th:only-of-type {\n",
       "        vertical-align: middle;\n",
       "    }\n",
       "\n",
       "    .dataframe tbody tr th {\n",
       "        vertical-align: top;\n",
       "    }\n",
       "\n",
       "    .dataframe thead th {\n",
       "        text-align: right;\n",
       "    }\n",
       "</style>\n",
       "<table border=\"1\" class=\"dataframe\">\n",
       "  <thead>\n",
       "    <tr style=\"text-align: right;\">\n",
       "      <th></th>\n",
       "      <th>collision_damage</th>\n",
       "      <th>cnt</th>\n",
       "      <th>party_drug_physical</th>\n",
       "    </tr>\n",
       "  </thead>\n",
       "  <tbody>\n",
       "    <tr>\n",
       "      <th>0</th>\n",
       "      <td>fatal</td>\n",
       "      <td>62</td>\n",
       "      <td>impairment - physical</td>\n",
       "    </tr>\n",
       "    <tr>\n",
       "      <th>1</th>\n",
       "      <td>middle damage</td>\n",
       "      <td>738</td>\n",
       "      <td>impairment - physical</td>\n",
       "    </tr>\n",
       "    <tr>\n",
       "      <th>2</th>\n",
       "      <td>scratch</td>\n",
       "      <td>1064</td>\n",
       "      <td>impairment - physical</td>\n",
       "    </tr>\n",
       "    <tr>\n",
       "      <th>3</th>\n",
       "      <td>severe damage</td>\n",
       "      <td>163</td>\n",
       "      <td>impairment - physical</td>\n",
       "    </tr>\n",
       "    <tr>\n",
       "      <th>4</th>\n",
       "      <td>small damage</td>\n",
       "      <td>2161</td>\n",
       "      <td>impairment - physical</td>\n",
       "    </tr>\n",
       "    <tr>\n",
       "      <th>5</th>\n",
       "      <td>fatal</td>\n",
       "      <td>133</td>\n",
       "      <td>sleepy/fatigued</td>\n",
       "    </tr>\n",
       "    <tr>\n",
       "      <th>6</th>\n",
       "      <td>middle damage</td>\n",
       "      <td>2243</td>\n",
       "      <td>sleepy/fatigued</td>\n",
       "    </tr>\n",
       "    <tr>\n",
       "      <th>7</th>\n",
       "      <td>scratch</td>\n",
       "      <td>2859</td>\n",
       "      <td>sleepy/fatigued</td>\n",
       "    </tr>\n",
       "    <tr>\n",
       "      <th>8</th>\n",
       "      <td>severe damage</td>\n",
       "      <td>379</td>\n",
       "      <td>sleepy/fatigued</td>\n",
       "    </tr>\n",
       "    <tr>\n",
       "      <th>9</th>\n",
       "      <td>small damage</td>\n",
       "      <td>7027</td>\n",
       "      <td>sleepy/fatigued</td>\n",
       "    </tr>\n",
       "    <tr>\n",
       "      <th>10</th>\n",
       "      <td>fatal</td>\n",
       "      <td>2868</td>\n",
       "      <td>under drug influence</td>\n",
       "    </tr>\n",
       "    <tr>\n",
       "      <th>11</th>\n",
       "      <td>middle damage</td>\n",
       "      <td>1712</td>\n",
       "      <td>under drug influence</td>\n",
       "    </tr>\n",
       "    <tr>\n",
       "      <th>12</th>\n",
       "      <td>scratch</td>\n",
       "      <td>2135</td>\n",
       "      <td>under drug influence</td>\n",
       "    </tr>\n",
       "    <tr>\n",
       "      <th>13</th>\n",
       "      <td>severe damage</td>\n",
       "      <td>566</td>\n",
       "      <td>under drug influence</td>\n",
       "    </tr>\n",
       "    <tr>\n",
       "      <th>14</th>\n",
       "      <td>small damage</td>\n",
       "      <td>5934</td>\n",
       "      <td>under drug influence</td>\n",
       "    </tr>\n",
       "  </tbody>\n",
       "</table>\n",
       "</div>"
      ],
      "text/plain": [
       "   collision_damage   cnt    party_drug_physical\n",
       "0             fatal    62  impairment - physical\n",
       "1     middle damage   738  impairment - physical\n",
       "2           scratch  1064  impairment - physical\n",
       "3     severe damage   163  impairment - physical\n",
       "4      small damage  2161  impairment - physical\n",
       "5             fatal   133        sleepy/fatigued\n",
       "6     middle damage  2243        sleepy/fatigued\n",
       "7           scratch  2859        sleepy/fatigued\n",
       "8     severe damage   379        sleepy/fatigued\n",
       "9      small damage  7027        sleepy/fatigued\n",
       "10            fatal  2868   under drug influence\n",
       "11    middle damage  1712   under drug influence\n",
       "12          scratch  2135   under drug influence\n",
       "13    severe damage   566   under drug influence\n",
       "14     small damage  5934   under drug influence"
      ]
     },
     "execution_count": 20,
     "metadata": {},
     "output_type": "execute_result"
    }
   ],
   "source": [
    "party_drug_physical"
   ]
  },
  {
   "cell_type": "code",
   "execution_count": 21,
   "id": "3d865bdb",
   "metadata": {},
   "outputs": [],
   "source": [
    "#тяжесть аварии в зависимости от состояния водителя(алкоголь)\n",
    "query = '''\n",
    "SELECT  c.collision_damage,\n",
    "        COUNT(c.collision_damage) cnt,\n",
    "        p.PARTY_SOBRIETY\n",
    "FROM collisions as c\n",
    "LEFT JOIN Parties as p ON c.case_id=p.case_id\n",
    "WHERE( PARTY_SOBRIETY != 'not applicable' and PARTY_SOBRIETY != 'G')\n",
    "\n",
    "GROUP BY 1,3\n",
    "ORDER BY 3 DESC\n",
    "'''\n",
    "party_sobriety = pd.read_sql_query(query, con=engine)"
   ]
  },
  {
   "cell_type": "code",
   "execution_count": 22,
   "id": "398611cb",
   "metadata": {
    "scrolled": true
   },
   "outputs": [
    {
     "data": {
      "text/html": [
       "<div>\n",
       "<style scoped>\n",
       "    .dataframe tbody tr th:only-of-type {\n",
       "        vertical-align: middle;\n",
       "    }\n",
       "\n",
       "    .dataframe tbody tr th {\n",
       "        vertical-align: top;\n",
       "    }\n",
       "\n",
       "    .dataframe thead th {\n",
       "        text-align: right;\n",
       "    }\n",
       "</style>\n",
       "<table border=\"1\" class=\"dataframe\">\n",
       "  <thead>\n",
       "    <tr style=\"text-align: right;\">\n",
       "      <th></th>\n",
       "      <th>collision_damage</th>\n",
       "      <th>cnt</th>\n",
       "      <th>party_sobriety</th>\n",
       "    </tr>\n",
       "  </thead>\n",
       "  <tbody>\n",
       "    <tr>\n",
       "      <th>0</th>\n",
       "      <td>fatal</td>\n",
       "      <td>1871</td>\n",
       "      <td>impairment unknown</td>\n",
       "    </tr>\n",
       "    <tr>\n",
       "      <th>1</th>\n",
       "      <td>middle damage</td>\n",
       "      <td>14281</td>\n",
       "      <td>impairment unknown</td>\n",
       "    </tr>\n",
       "    <tr>\n",
       "      <th>2</th>\n",
       "      <td>scratch</td>\n",
       "      <td>34345</td>\n",
       "      <td>impairment unknown</td>\n",
       "    </tr>\n",
       "    <tr>\n",
       "      <th>3</th>\n",
       "      <td>severe damage</td>\n",
       "      <td>4384</td>\n",
       "      <td>impairment unknown</td>\n",
       "    </tr>\n",
       "    <tr>\n",
       "      <th>4</th>\n",
       "      <td>small damage</td>\n",
       "      <td>178020</td>\n",
       "      <td>impairment unknown</td>\n",
       "    </tr>\n",
       "    <tr>\n",
       "      <th>5</th>\n",
       "      <td>fatal</td>\n",
       "      <td>12263</td>\n",
       "      <td>had not been drinking</td>\n",
       "    </tr>\n",
       "    <tr>\n",
       "      <th>6</th>\n",
       "      <td>middle damage</td>\n",
       "      <td>248863</td>\n",
       "      <td>had not been drinking</td>\n",
       "    </tr>\n",
       "    <tr>\n",
       "      <th>7</th>\n",
       "      <td>scratch</td>\n",
       "      <td>638601</td>\n",
       "      <td>had not been drinking</td>\n",
       "    </tr>\n",
       "    <tr>\n",
       "      <th>8</th>\n",
       "      <td>severe damage</td>\n",
       "      <td>39527</td>\n",
       "      <td>had not been drinking</td>\n",
       "    </tr>\n",
       "    <tr>\n",
       "      <th>9</th>\n",
       "      <td>small damage</td>\n",
       "      <td>1185473</td>\n",
       "      <td>had not been drinking</td>\n",
       "    </tr>\n",
       "    <tr>\n",
       "      <th>10</th>\n",
       "      <td>fatal</td>\n",
       "      <td>3681</td>\n",
       "      <td>had been drinking, under influence</td>\n",
       "    </tr>\n",
       "    <tr>\n",
       "      <th>11</th>\n",
       "      <td>middle damage</td>\n",
       "      <td>22197</td>\n",
       "      <td>had been drinking, under influence</td>\n",
       "    </tr>\n",
       "    <tr>\n",
       "      <th>12</th>\n",
       "      <td>scratch</td>\n",
       "      <td>16462</td>\n",
       "      <td>had been drinking, under influence</td>\n",
       "    </tr>\n",
       "    <tr>\n",
       "      <th>13</th>\n",
       "      <td>severe damage</td>\n",
       "      <td>6101</td>\n",
       "      <td>had been drinking, under influence</td>\n",
       "    </tr>\n",
       "    <tr>\n",
       "      <th>14</th>\n",
       "      <td>small damage</td>\n",
       "      <td>63972</td>\n",
       "      <td>had been drinking, under influence</td>\n",
       "    </tr>\n",
       "    <tr>\n",
       "      <th>15</th>\n",
       "      <td>fatal</td>\n",
       "      <td>368</td>\n",
       "      <td>had been drinking, not under influence</td>\n",
       "    </tr>\n",
       "    <tr>\n",
       "      <th>16</th>\n",
       "      <td>middle damage</td>\n",
       "      <td>3167</td>\n",
       "      <td>had been drinking, not under influence</td>\n",
       "    </tr>\n",
       "    <tr>\n",
       "      <th>17</th>\n",
       "      <td>scratch</td>\n",
       "      <td>4443</td>\n",
       "      <td>had been drinking, not under influence</td>\n",
       "    </tr>\n",
       "    <tr>\n",
       "      <th>18</th>\n",
       "      <td>severe damage</td>\n",
       "      <td>711</td>\n",
       "      <td>had been drinking, not under influence</td>\n",
       "    </tr>\n",
       "    <tr>\n",
       "      <th>19</th>\n",
       "      <td>small damage</td>\n",
       "      <td>8961</td>\n",
       "      <td>had been drinking, not under influence</td>\n",
       "    </tr>\n",
       "    <tr>\n",
       "      <th>20</th>\n",
       "      <td>fatal</td>\n",
       "      <td>436</td>\n",
       "      <td>had been drinking, impairment unknown</td>\n",
       "    </tr>\n",
       "    <tr>\n",
       "      <th>21</th>\n",
       "      <td>middle damage</td>\n",
       "      <td>2512</td>\n",
       "      <td>had been drinking, impairment unknown</td>\n",
       "    </tr>\n",
       "    <tr>\n",
       "      <th>22</th>\n",
       "      <td>scratch</td>\n",
       "      <td>3032</td>\n",
       "      <td>had been drinking, impairment unknown</td>\n",
       "    </tr>\n",
       "    <tr>\n",
       "      <th>23</th>\n",
       "      <td>severe damage</td>\n",
       "      <td>1144</td>\n",
       "      <td>had been drinking, impairment unknown</td>\n",
       "    </tr>\n",
       "    <tr>\n",
       "      <th>24</th>\n",
       "      <td>small damage</td>\n",
       "      <td>14295</td>\n",
       "      <td>had been drinking, impairment unknown</td>\n",
       "    </tr>\n",
       "  </tbody>\n",
       "</table>\n",
       "</div>"
      ],
      "text/plain": [
       "   collision_damage      cnt                          party_sobriety\n",
       "0             fatal     1871                      impairment unknown\n",
       "1     middle damage    14281                      impairment unknown\n",
       "2           scratch    34345                      impairment unknown\n",
       "3     severe damage     4384                      impairment unknown\n",
       "4      small damage   178020                      impairment unknown\n",
       "5             fatal    12263                   had not been drinking\n",
       "6     middle damage   248863                   had not been drinking\n",
       "7           scratch   638601                   had not been drinking\n",
       "8     severe damage    39527                   had not been drinking\n",
       "9      small damage  1185473                   had not been drinking\n",
       "10            fatal     3681      had been drinking, under influence\n",
       "11    middle damage    22197      had been drinking, under influence\n",
       "12          scratch    16462      had been drinking, under influence\n",
       "13    severe damage     6101      had been drinking, under influence\n",
       "14     small damage    63972      had been drinking, under influence\n",
       "15            fatal      368  had been drinking, not under influence\n",
       "16    middle damage     3167  had been drinking, not under influence\n",
       "17          scratch     4443  had been drinking, not under influence\n",
       "18    severe damage      711  had been drinking, not under influence\n",
       "19     small damage     8961  had been drinking, not under influence\n",
       "20            fatal      436   had been drinking, impairment unknown\n",
       "21    middle damage     2512   had been drinking, impairment unknown\n",
       "22          scratch     3032   had been drinking, impairment unknown\n",
       "23    severe damage     1144   had been drinking, impairment unknown\n",
       "24     small damage    14295   had been drinking, impairment unknown"
      ]
     },
     "execution_count": 22,
     "metadata": {},
     "output_type": "execute_result"
    }
   ],
   "source": [
    "party_sobriety"
   ]
  },
  {
   "cell_type": "markdown",
   "id": "2f53584f",
   "metadata": {},
   "source": [
    "<div style=\"padding:0px 20px 10px; \n",
    "            color:#004346;\n",
    "            font-size:15px;\n",
    "            display:fill;\n",
    "            text-align:center;\n",
    "            border-radius:0px;\n",
    "            border: 5px double;\n",
    "            border-color:#9966FF;\n",
    "            background-color: #FFFFCC;\n",
    "            overflow:hidden;\n",
    "            font-weight:400\"> \n",
    "    \n",
    "### графики"
   ]
  },
  {
   "cell_type": "code",
   "execution_count": 23,
   "id": "6185c381",
   "metadata": {},
   "outputs": [
    {
     "data": {
      "image/png": "[encoded data removed]",
      "text/plain": [
       "<Figure size 1080x720 with 1 Axes>"
      ]
     },
     "metadata": {
      "needs_background": "light"
     },
     "output_type": "display_data"
    }
   ],
   "source": [
    "fig, ax = plt.subplots(figsize=(15, 10))\n",
    "\n",
    "sns.barplot(data = count_collions, x='month_date', y='total_collisions', hue='year')\n",
    "\n",
    "plt.title('Количество аварий в месяц')\n",
    "plt.xlabel('Месяцы')\n",
    "plt.ylabel('Количество аварий')\n",
    "plt.show()"
   ]
  },
  {
   "cell_type": "markdown",
   "id": "1f289600",
   "metadata": {},
   "source": [
    "<div style=\"padding: 30px 25px; border: 2px #9966FF solid\">\n",
    "вывод: график показывает, что с каждым годом количество аварий снижается, также видно, что аварии не сильно зависят от месяца однако из иобщего графика выделяется октябрь.Естть аномалии в 2012 году, с 1 по 6 месяц количество аварий заметно снижалось(кроме марта, в этом месяце количество аварий за 2012 год было таким же как и в январе) по сравнению с остальными годами, а с 7 по 12 месяцы количество аварий не сильно менялось "
   ]
  },
  {
   "cell_type": "code",
   "execution_count": 24,
   "id": "42441598",
   "metadata": {
    "collapsed": true
   },
   "outputs": [
    {
     "data": {
      "image/png": "[encoded data removed]",
      "text/plain": [
       "<Figure size 720x720 with 1 Axes>"
      ]
     },
     "metadata": {
      "needs_background": "light"
     },
     "output_type": "display_data"
    }
   ],
   "source": [
    "fig, ax = plt.subplots(figsize=(10, 10))\n",
    "\n",
    "sns.barplot(data = road_surface, x ='collision_damage', y ='count',hue=\"road_surface\",\n",
    "            order=['small damage','scratch',  'middle damage', 'severe damage', 'fatal'])\n",
    "\n",
    "plt.title('Количество повреждений транспортных средств, зависимости от дорожного покрытия')\n",
    "plt.xlabel('Серьезность повреждений')\n",
    "plt.ylabel('Количество повреждений')\n",
    "plt.show()"
   ]
  },
  {
   "cell_type": "markdown",
   "id": "04bdc580",
   "metadata": {},
   "source": [
    "<div style=\"padding: 30px 25px; border: 2px #9966FF solid\">\n",
    "вывод: большенство повреждений происходят на сухой дороге могу предположить, что это связано с ошибочной увереностью водителей о том что сухая дорога абсолютно безопасна и они всехда успеют вовремя затормозить или обьехать препятствие."
   ]
  },
  {
   "cell_type": "code",
   "execution_count": 25,
   "id": "3c6dcf9b",
   "metadata": {},
   "outputs": [
    {
     "data": {
      "image/png": "[encoded data removed]",
      "text/plain": [
       "<Figure size 720x576 with 1 Axes>"
      ]
     },
     "metadata": {
      "needs_background": "light"
     },
     "output_type": "display_data"
    }
   ],
   "source": [
    "fig, ax = plt.subplots(figsize=(10, 8))\n",
    "\n",
    "sns.barplot(data = road_collisions, x ='collision_damage', y ='count',hue=\"road_condition\",\n",
    "            order=['small damage','scratch',  'middle damage', 'severe damage', 'fatal'])\n",
    "\n",
    "plt.title('Количество повреждений транспортных средств,в зависимости от состония дороги')\n",
    "plt.xlabel('Серьезность повреждений')\n",
    "plt.ylabel('Количество повреждений')\n",
    "plt.show()"
   ]
  },
  {
   "cell_type": "markdown",
   "id": "c66a2b92",
   "metadata": {},
   "source": [
    "<div style=\"padding: 30px 25px; border: 2px #9966FF solid\">\n",
    "вывод: значительная часть дтп происходит из-за дорожных работ, скорее всего строители не помечают должным образом место проведения работ, либо водители хотят проехать подобное место по быстрее в следствии чего нарушают пдд."
   ]
  },
  {
   "cell_type": "code",
   "execution_count": 26,
   "id": "31c3a75f",
   "metadata": {},
   "outputs": [
    {
     "data": {
      "image/png": "[encoded data removed]",
      "text/plain": [
       "<Figure size 1080x432 with 1 Axes>"
      ]
     },
     "metadata": {
      "needs_background": "light"
     },
     "output_type": "display_data"
    }
   ],
   "source": [
    "fig, ax = plt.subplots(figsize=(15, 6))\n",
    "\n",
    "sns.barplot(x='collision_damage', y='cnt', hue= 'party_drug_physical',data=party_drug_physical,\n",
    "            order=['small damage','scratch',  'middle damage', 'severe damage', 'fatal'])\n",
    "\n",
    "plt.title('Причины ДТП')\n",
    "plt.xlabel('Количество ДТП')\n",
    "plt.ylabel('Категория нарушения')\n",
    "plt.show()"
   ]
  },
  {
   "cell_type": "markdown",
   "id": "e6513858",
   "metadata": {},
   "source": [
    "<div style=\"padding: 30px 25px; border: 2px #9966FF solid\">\n",
    "вывод: четко видно звависимость усталости водителя и кол-во аварий"
   ]
  },
  {
   "cell_type": "code",
   "execution_count": 27,
   "id": "c21913d1",
   "metadata": {},
   "outputs": [
    {
     "data": {
      "image/png": "[encoded data removed]",
      "text/plain": [
       "<Figure size 1080x432 with 1 Axes>"
      ]
     },
     "metadata": {
      "needs_background": "light"
     },
     "output_type": "display_data"
    }
   ],
   "source": [
    "fig, ax = plt.subplots(figsize=(15, 6))\n",
    "\n",
    "sns.barplot(x='collision_damage', y='cnt',hue='party_sobriety', data=party_sobriety,\n",
    "           order=['small damage','scratch',  'middle damage', 'severe damage', 'fatal'])\n",
    "\n",
    "plt.title('Причины ДТП')\n",
    "plt.xlabel('состояние водителя')\n",
    "plt.ylabel('Количество ДТП')\n",
    "plt.show()"
   ]
  },
  {
   "cell_type": "markdown",
   "id": "a8d01d7a",
   "metadata": {},
   "source": [
    "<div style=\"padding: 30px 25px; border: 2px #9966FF solid\">\n",
    "вывод: четко видно звависимость трезвости водителя и кол-во аварий, в основном аварии происходят когда водитель не пил"
   ]
  },
  {
   "cell_type": "code",
   "execution_count": 28,
   "id": "7623a0af",
   "metadata": {},
   "outputs": [
    {
     "data": {
      "image/png": "[encoded data removed]",
      "text/plain": [
       "<Figure size 1080x432 with 1 Axes>"
      ]
     },
     "metadata": {
      "needs_background": "light"
     },
     "output_type": "display_data"
    }
   ],
   "source": [
    "ig, ax = plt.subplots(figsize=(15, 6))\n",
    "sns.barplot(x='cnt_col_factor', y='pcf_violation_category',data=collisions_category)\n",
    "plt.title('Причины ДТП')\n",
    "plt.xlabel('Количество ДТП')\n",
    "plt.ylabel('Категория нарушения')\n",
    "plt.show()"
   ]
  },
  {
   "cell_type": "markdown",
   "id": "629ef2e0",
   "metadata": {},
   "source": [
    "<div style=\"padding: 30px 25px; border: 2px #9966FF solid\">\n",
    "вывод: основной причитной дтп является не соблюдение скоростного режима, это нарушение пдд встречается почти в 2 раза чаще чем вторая самая частая причина аварий поворот в неустановленном месте."
   ]
  },
  {
   "cell_type": "markdown",
   "id": "579cea5b",
   "metadata": {},
   "source": [
    "<div style=\"padding: 30px 25px; border: 5px #9966FF solid\">\n",
    "    \n",
    "### вывод по главе 'статистический анализ факторов ДТП':\n",
    "    \n",
    "выяснили, что количество дтп не зависит от месяца и времни года, и с каждым годом уменьшается.\n",
    "    \n",
    "основыми причинами дтп являются:\n",
    "- сухая дорога на которой водители не соблюдают скоростной режим\n",
    "- дорогжные работы\n",
    "- поворот в не разрешенном для этого месте\n",
    "-усталость водителя"
   ]
  },
  {
   "cell_type": "markdown",
   "id": "4e955ab2",
   "metadata": {},
   "source": [
    "## Создайте модель для оценки водительского риска"
   ]
  },
  {
   "cell_type": "markdown",
   "id": "1b0ba6d5",
   "metadata": {},
   "source": [
    "<div style=\"padding:0px 20px 10px; \n",
    "            color:#004346;\n",
    "            font-size:15px;\n",
    "            display:fill;\n",
    "            text-align:center;\n",
    "            border-radius:0px;\n",
    "            border: 5px double;\n",
    "            border-color:#9966FF;\n",
    "            background-color: #FFFFCC;\n",
    "            overflow:hidden;\n",
    "            font-weight:400\"> \n",
    "\n",
    "### Подготовка данных"
   ]
  },
  {
   "cell_type": "code",
   "execution_count": 29,
   "id": "c4e1ecbc",
   "metadata": {},
   "outputs": [],
   "source": [
    "def data_analis (df):\n",
    "    i=df.info()\n",
    "    h=df.head()\n",
    "    ds=df.describe()\n",
    "    dp=df.duplicated().sum()\n",
    "    isna = df.isna().sum()\n",
    "    return print(i),display(h), display(ds), print('дубликаты:',dp), print('пропуски:', isna,sep=' ')"
   ]
  },
  {
   "cell_type": "markdown",
   "id": "06198630",
   "metadata": {},
   "source": [
    "Для создания модели нам понадобятся следующие признаки:\n",
    "\n",
    "таблица collisions:\n",
    "intersection (является ли место происшествия перекрестком)\n",
    "weather_1 (погода)\n",
    "road_surface (состояние дороги)\n",
    "lighting (освещение)\n",
    "location_type (тип дороги)\n",
    "road_condition_1 (состояние дорожного покрытия)\n",
    "таблица parties:\n",
    "at_fault (виновность участника) - целевой признак\n",
    "party_sobriety (трезвость участника\n",
    "party_drug_physical (состояние участника: физическое или с учётом принятых лекарств)\n",
    "cellphone_in_use (наличие телефона в автомобиле - возможности разговаривать по громкой связи)\n",
    "таблица vehicles:\n",
    "vehicle_type (тип кузова)\n",
    "vehicle_transmission (тип КПП)\n",
    "vehicle_age (возраст автомобиля)\n",
    "Все эти признаки важны, так как отражают и объективные причины ДТП (состояние дороги и транспортного средства), и субъективные - состояние участника ДТП."
   ]
  },
  {
   "cell_type": "code",
   "execution_count": 30,
   "id": "14c5ea7e",
   "metadata": {},
   "outputs": [],
   "source": [
    "query = '''\n",
    "with \n",
    "c AS (SELECT DISTINCT case_id,\n",
    "             intersection,\n",
    "             weather_1,\n",
    "             road_surface,\n",
    "             lighting,\n",
    "             location_type,\n",
    "             road_condition_1,\n",
    "             control_device\n",
    "      FROM collisions\n",
    "      WHERE EXTRACT(YEAR FROM collision_date) = 2012\n",
    "            AND collision_damage != 'scratch'),\n",
    "p AS (SELECT  DISTINCT case_id,\n",
    "             at_fault,\n",
    "             party_sobriety,\n",
    "             party_drug_physical,\n",
    "             cellphone_in_use\n",
    "      FROM parties\n",
    "      WHERE party_type = 'car'),\n",
    "      \n",
    "v AS (SELECT  DISTINCT case_id,\n",
    "             vehicle_type,\n",
    "             vehicle_transmission,\n",
    "             vehicle_age\n",
    "       FROM vehicles),\n",
    "       \n",
    "c_i as (SELECT DISTINCT case_id\n",
    "        FROM case_ids)\n",
    "        \n",
    "SELECT  p.at_fault,\n",
    "        p.party_sobriety,\n",
    "        p.party_drug_physical,\n",
    "        p.cellphone_in_use,\n",
    "        c.intersection,\n",
    "        c.weather_1,\n",
    "        c.road_surface,\n",
    "        c.lighting,\n",
    "        c.location_type,\n",
    "        c.road_condition_1,\n",
    "        c.control_device,\n",
    "        v.vehicle_type,           \n",
    "        v.vehicle_transmission,\n",
    "        v.vehicle_age\n",
    "FROM c_i\n",
    "JOIN c on c_i.case_id = c.case_id\n",
    "JOIN p on c_i.case_id = p.case_id\n",
    "JOIN v on c_i.case_id = v.case_id\n",
    "'''\n",
    "df = pd.read_sql_query(query, con=engine)"
   ]
  },
  {
   "cell_type": "code",
   "execution_count": 31,
   "id": "b2ab3fff",
   "metadata": {
    "scrolled": true
   },
   "outputs": [
    {
     "name": "stdout",
     "output_type": "stream",
     "text": [
      "<class 'pandas.core.frame.DataFrame'>\n",
      "RangeIndex: 103445 entries, 0 to 103444\n",
      "Data columns (total 14 columns):\n",
      " #   Column                Non-Null Count   Dtype  \n",
      "---  ------                --------------   -----  \n",
      " 0   at_fault              103445 non-null  int64  \n",
      " 1   party_sobriety        101841 non-null  object \n",
      " 2   party_drug_physical   8525 non-null    object \n",
      " 3   cellphone_in_use      93431 non-null   float64\n",
      " 4   intersection          103108 non-null  float64\n",
      " 5   weather_1             103135 non-null  object \n",
      " 6   road_surface          102812 non-null  object \n",
      " 7   lighting              103161 non-null  object \n",
      " 8   location_type         46284 non-null   object \n",
      " 9   road_condition_1      102983 non-null  object \n",
      " 10  control_device        103044 non-null  object \n",
      " 11  vehicle_type          103445 non-null  object \n",
      " 12  vehicle_transmission  101787 non-null  object \n",
      " 13  vehicle_age           100457 non-null  float64\n",
      "dtypes: float64(3), int64(1), object(10)\n",
      "memory usage: 11.0+ MB\n",
      "None\n"
     ]
    },
    {
     "data": {
      "text/html": [
       "<div>\n",
       "<style scoped>\n",
       "    .dataframe tbody tr th:only-of-type {\n",
       "        vertical-align: middle;\n",
       "    }\n",
       "\n",
       "    .dataframe tbody tr th {\n",
       "        vertical-align: top;\n",
       "    }\n",
       "\n",
       "    .dataframe thead th {\n",
       "        text-align: right;\n",
       "    }\n",
       "</style>\n",
       "<table border=\"1\" class=\"dataframe\">\n",
       "  <thead>\n",
       "    <tr style=\"text-align: right;\">\n",
       "      <th></th>\n",
       "      <th>at_fault</th>\n",
       "      <th>party_sobriety</th>\n",
       "      <th>party_drug_physical</th>\n",
       "      <th>cellphone_in_use</th>\n",
       "      <th>intersection</th>\n",
       "      <th>weather_1</th>\n",
       "      <th>road_surface</th>\n",
       "      <th>lighting</th>\n",
       "      <th>location_type</th>\n",
       "      <th>road_condition_1</th>\n",
       "      <th>control_device</th>\n",
       "      <th>vehicle_type</th>\n",
       "      <th>vehicle_transmission</th>\n",
       "      <th>vehicle_age</th>\n",
       "    </tr>\n",
       "  </thead>\n",
       "  <tbody>\n",
       "    <tr>\n",
       "      <th>0</th>\n",
       "      <td>1</td>\n",
       "      <td>had not been drinking</td>\n",
       "      <td>None</td>\n",
       "      <td>0.0</td>\n",
       "      <td>0.0</td>\n",
       "      <td>clear</td>\n",
       "      <td>dry</td>\n",
       "      <td>dark with no street lights</td>\n",
       "      <td>None</td>\n",
       "      <td>normal</td>\n",
       "      <td>none</td>\n",
       "      <td>sedan</td>\n",
       "      <td>auto</td>\n",
       "      <td>0.0</td>\n",
       "    </tr>\n",
       "    <tr>\n",
       "      <th>1</th>\n",
       "      <td>1</td>\n",
       "      <td>had not been drinking</td>\n",
       "      <td>None</td>\n",
       "      <td>0.0</td>\n",
       "      <td>0.0</td>\n",
       "      <td>clear</td>\n",
       "      <td>dry</td>\n",
       "      <td>daylight</td>\n",
       "      <td>highway</td>\n",
       "      <td>normal</td>\n",
       "      <td>none</td>\n",
       "      <td>sedan</td>\n",
       "      <td>manual</td>\n",
       "      <td>11.0</td>\n",
       "    </tr>\n",
       "    <tr>\n",
       "      <th>2</th>\n",
       "      <td>0</td>\n",
       "      <td>impairment unknown</td>\n",
       "      <td>G</td>\n",
       "      <td>NaN</td>\n",
       "      <td>0.0</td>\n",
       "      <td>clear</td>\n",
       "      <td>dry</td>\n",
       "      <td>dark with street lights</td>\n",
       "      <td>None</td>\n",
       "      <td>normal</td>\n",
       "      <td>functioning</td>\n",
       "      <td>coupe</td>\n",
       "      <td>manual</td>\n",
       "      <td>2.0</td>\n",
       "    </tr>\n",
       "    <tr>\n",
       "      <th>3</th>\n",
       "      <td>0</td>\n",
       "      <td>impairment unknown</td>\n",
       "      <td>G</td>\n",
       "      <td>NaN</td>\n",
       "      <td>0.0</td>\n",
       "      <td>clear</td>\n",
       "      <td>dry</td>\n",
       "      <td>dark with street lights</td>\n",
       "      <td>None</td>\n",
       "      <td>normal</td>\n",
       "      <td>functioning</td>\n",
       "      <td>coupe</td>\n",
       "      <td>auto</td>\n",
       "      <td>7.0</td>\n",
       "    </tr>\n",
       "    <tr>\n",
       "      <th>4</th>\n",
       "      <td>0</td>\n",
       "      <td>had not been drinking</td>\n",
       "      <td>None</td>\n",
       "      <td>0.0</td>\n",
       "      <td>0.0</td>\n",
       "      <td>cloudy</td>\n",
       "      <td>dry</td>\n",
       "      <td>daylight</td>\n",
       "      <td>None</td>\n",
       "      <td>holes</td>\n",
       "      <td>none</td>\n",
       "      <td>coupe</td>\n",
       "      <td>auto</td>\n",
       "      <td>4.0</td>\n",
       "    </tr>\n",
       "  </tbody>\n",
       "</table>\n",
       "</div>"
      ],
      "text/plain": [
       "   at_fault         party_sobriety party_drug_physical  cellphone_in_use  \\\n",
       "0         1  had not been drinking                None               0.0   \n",
       "1         1  had not been drinking                None               0.0   \n",
       "2         0     impairment unknown                   G               NaN   \n",
       "3         0     impairment unknown                   G               NaN   \n",
       "4         0  had not been drinking                None               0.0   \n",
       "\n",
       "   intersection weather_1 road_surface                    lighting  \\\n",
       "0           0.0     clear          dry  dark with no street lights   \n",
       "1           0.0     clear          dry                    daylight   \n",
       "2           0.0     clear          dry     dark with street lights   \n",
       "3           0.0     clear          dry     dark with street lights   \n",
       "4           0.0    cloudy          dry                    daylight   \n",
       "\n",
       "  location_type road_condition_1 control_device vehicle_type  \\\n",
       "0          None           normal           none        sedan   \n",
       "1       highway           normal           none        sedan   \n",
       "2          None           normal    functioning        coupe   \n",
       "3          None           normal    functioning        coupe   \n",
       "4          None            holes           none        coupe   \n",
       "\n",
       "  vehicle_transmission  vehicle_age  \n",
       "0                 auto          0.0  \n",
       "1               manual         11.0  \n",
       "2               manual          2.0  \n",
       "3                 auto          7.0  \n",
       "4                 auto          4.0  "
      ]
     },
     "metadata": {},
     "output_type": "display_data"
    },
    {
     "data": {
      "text/html": [
       "<div>\n",
       "<style scoped>\n",
       "    .dataframe tbody tr th:only-of-type {\n",
       "        vertical-align: middle;\n",
       "    }\n",
       "\n",
       "    .dataframe tbody tr th {\n",
       "        vertical-align: top;\n",
       "    }\n",
       "\n",
       "    .dataframe thead th {\n",
       "        text-align: right;\n",
       "    }\n",
       "</style>\n",
       "<table border=\"1\" class=\"dataframe\">\n",
       "  <thead>\n",
       "    <tr style=\"text-align: right;\">\n",
       "      <th></th>\n",
       "      <th>at_fault</th>\n",
       "      <th>cellphone_in_use</th>\n",
       "      <th>intersection</th>\n",
       "      <th>vehicle_age</th>\n",
       "    </tr>\n",
       "  </thead>\n",
       "  <tbody>\n",
       "    <tr>\n",
       "      <th>count</th>\n",
       "      <td>103445.000000</td>\n",
       "      <td>93431.000000</td>\n",
       "      <td>103108.000000</td>\n",
       "      <td>100457.000000</td>\n",
       "    </tr>\n",
       "    <tr>\n",
       "      <th>mean</th>\n",
       "      <td>0.530775</td>\n",
       "      <td>0.021278</td>\n",
       "      <td>0.241591</td>\n",
       "      <td>4.898753</td>\n",
       "    </tr>\n",
       "    <tr>\n",
       "      <th>std</th>\n",
       "      <td>0.499054</td>\n",
       "      <td>0.144309</td>\n",
       "      <td>0.428050</td>\n",
       "      <td>3.289448</td>\n",
       "    </tr>\n",
       "    <tr>\n",
       "      <th>min</th>\n",
       "      <td>0.000000</td>\n",
       "      <td>0.000000</td>\n",
       "      <td>0.000000</td>\n",
       "      <td>0.000000</td>\n",
       "    </tr>\n",
       "    <tr>\n",
       "      <th>25%</th>\n",
       "      <td>0.000000</td>\n",
       "      <td>0.000000</td>\n",
       "      <td>0.000000</td>\n",
       "      <td>3.000000</td>\n",
       "    </tr>\n",
       "    <tr>\n",
       "      <th>50%</th>\n",
       "      <td>1.000000</td>\n",
       "      <td>0.000000</td>\n",
       "      <td>0.000000</td>\n",
       "      <td>4.000000</td>\n",
       "    </tr>\n",
       "    <tr>\n",
       "      <th>75%</th>\n",
       "      <td>1.000000</td>\n",
       "      <td>0.000000</td>\n",
       "      <td>0.000000</td>\n",
       "      <td>7.000000</td>\n",
       "    </tr>\n",
       "    <tr>\n",
       "      <th>max</th>\n",
       "      <td>1.000000</td>\n",
       "      <td>1.000000</td>\n",
       "      <td>1.000000</td>\n",
       "      <td>161.000000</td>\n",
       "    </tr>\n",
       "  </tbody>\n",
       "</table>\n",
       "</div>"
      ],
      "text/plain": [
       "            at_fault  cellphone_in_use   intersection    vehicle_age\n",
       "count  103445.000000      93431.000000  103108.000000  100457.000000\n",
       "mean        0.530775          0.021278       0.241591       4.898753\n",
       "std         0.499054          0.144309       0.428050       3.289448\n",
       "min         0.000000          0.000000       0.000000       0.000000\n",
       "25%         0.000000          0.000000       0.000000       3.000000\n",
       "50%         1.000000          0.000000       0.000000       4.000000\n",
       "75%         1.000000          0.000000       0.000000       7.000000\n",
       "max         1.000000          1.000000       1.000000     161.000000"
      ]
     },
     "metadata": {},
     "output_type": "display_data"
    },
    {
     "name": "stdout",
     "output_type": "stream",
     "text": [
      "дубликаты: 76449\n",
      "пропуски: at_fault                    0\n",
      "party_sobriety           1604\n",
      "party_drug_physical     94920\n",
      "cellphone_in_use        10014\n",
      "intersection              337\n",
      "weather_1                 310\n",
      "road_surface              633\n",
      "lighting                  284\n",
      "location_type           57161\n",
      "road_condition_1          462\n",
      "control_device            401\n",
      "vehicle_type                0\n",
      "vehicle_transmission     1658\n",
      "vehicle_age              2988\n",
      "dtype: int64\n"
     ]
    },
    {
     "data": {
      "text/plain": [
       "(None, None, None, None, None)"
      ]
     },
     "execution_count": 31,
     "metadata": {},
     "output_type": "execute_result"
    }
   ],
   "source": [
    "data_analis(df)"
   ]
  },
  {
   "cell_type": "code",
   "execution_count": 32,
   "id": "f789dcc7",
   "metadata": {},
   "outputs": [
    {
     "data": {
      "text/plain": [
       "at_fault                0.000000\n",
       "party_sobriety          0.015506\n",
       "party_drug_physical     0.917589\n",
       "cellphone_in_use        0.096805\n",
       "intersection            0.003258\n",
       "weather_1               0.002997\n",
       "road_surface            0.006119\n",
       "lighting                0.002745\n",
       "location_type           0.552574\n",
       "road_condition_1        0.004466\n",
       "control_device          0.003876\n",
       "vehicle_type            0.000000\n",
       "vehicle_transmission    0.016028\n",
       "vehicle_age             0.028885\n",
       "dtype: float64"
      ]
     },
     "execution_count": 32,
     "metadata": {},
     "output_type": "execute_result"
    }
   ],
   "source": [
    "df.isna().mean()"
   ]
  },
  {
   "cell_type": "code",
   "execution_count": 33,
   "id": "5f489006",
   "metadata": {},
   "outputs": [],
   "source": [
    "# Заменим значения возраста автомобиля > 15 на 15\n",
    "df.loc[df['vehicle_age'] > 10, 'vehicle_age'] = 10"
   ]
  },
  {
   "cell_type": "code",
   "execution_count": 34,
   "id": "05c6840e",
   "metadata": {},
   "outputs": [],
   "source": [
    "df = df.drop('party_drug_physical', axis=1)"
   ]
  },
  {
   "cell_type": "code",
   "execution_count": 35,
   "id": "39b38cf0",
   "metadata": {},
   "outputs": [],
   "source": [
    "for i in df[['location_type', 'party_sobriety', 'weather_1', 'road_surface',\n",
    "             'lighting', 'road_condition_1','control_device', 'vehicle_transmission']]:\n",
    "    \n",
    "    mask = df[i].isna()\n",
    "    p = df[i].value_counts() / len(df[i].dropna())\n",
    "    df.loc[mask, i] = np.random.choice(p.index.to_list(), size=mask.sum(), p=p.to_list())"
   ]
  },
  {
   "cell_type": "code",
   "execution_count": 36,
   "id": "65546f02",
   "metadata": {},
   "outputs": [],
   "source": [
    "df=df.fillna(df[{'vehicle_age','cellphone_in_use','intersection'}].median())"
   ]
  },
  {
   "cell_type": "code",
   "execution_count": 37,
   "id": "d8ee9380",
   "metadata": {},
   "outputs": [
    {
     "data": {
      "text/plain": [
       "at_fault                0\n",
       "party_sobriety          0\n",
       "cellphone_in_use        0\n",
       "intersection            0\n",
       "weather_1               0\n",
       "road_surface            0\n",
       "lighting                0\n",
       "location_type           0\n",
       "road_condition_1        0\n",
       "control_device          0\n",
       "vehicle_type            0\n",
       "vehicle_transmission    0\n",
       "vehicle_age             0\n",
       "dtype: int64"
      ]
     },
     "execution_count": 37,
     "metadata": {},
     "output_type": "execute_result"
    }
   ],
   "source": [
    "df.isna().sum()"
   ]
  },
  {
   "cell_type": "code",
   "execution_count": 38,
   "id": "719d43d0",
   "metadata": {},
   "outputs": [],
   "source": [
    "features = df.copy().drop('at_fault', axis=1)\n",
    "target = df['at_fault']"
   ]
  },
  {
   "cell_type": "code",
   "execution_count": 39,
   "id": "eca1173f",
   "metadata": {},
   "outputs": [
    {
     "data": {
      "text/plain": [
       "<AxesSubplot:ylabel='Count'>"
      ]
     },
     "execution_count": 39,
     "metadata": {},
     "output_type": "execute_result"
    },
    {
     "data": {
      "image/png": "[encoded data removed]",
      "text/plain": [
       "<Figure size 432x288 with 1 Axes>"
      ]
     },
     "metadata": {
      "needs_background": "light"
     },
     "output_type": "display_data"
    }
   ],
   "source": [
    "sns.histplot(features,bins=50)"
   ]
  },
  {
   "cell_type": "markdown",
   "id": "b926ec56",
   "metadata": {},
   "source": [
    "четко видно,что в стобце испоьзовал ли телефон водитель сильно больше записей нежели в другиих слотбцах"
   ]
  },
  {
   "cell_type": "code",
   "execution_count": 40,
   "id": "ff623474",
   "metadata": {
    "scrolled": true
   },
   "outputs": [
    {
     "data": {
      "text/plain": [
       "<AxesSubplot:xlabel='at_fault', ylabel='Count'>"
      ]
     },
     "execution_count": 40,
     "metadata": {},
     "output_type": "execute_result"
    },
    {
     "data": {
      "image/png": "[encoded data removed]",
      "text/plain": [
       "<Figure size 432x288 with 1 Axes>"
      ]
     },
     "metadata": {
      "needs_background": "light"
     },
     "output_type": "display_data"
    }
   ],
   "source": [
    "sns.histplot(target,bins=2)"
   ]
  },
  {
   "cell_type": "markdown",
   "id": "f1e857c1",
   "metadata": {},
   "source": [
    "дсибаланс классов присутствует,но он незначительный,можно ничего не делать с ним"
   ]
  },
  {
   "cell_type": "code",
   "execution_count": 41,
   "id": "29b62497",
   "metadata": {},
   "outputs": [
    {
     "data": {
      "text/plain": [
       "(31033, 12)"
      ]
     },
     "metadata": {},
     "output_type": "display_data"
    },
    {
     "data": {
      "text/plain": [
       "(41378, 12)"
      ]
     },
     "metadata": {},
     "output_type": "display_data"
    },
    {
     "data": {
      "text/plain": [
       "(31034, 12)"
      ]
     },
     "metadata": {},
     "output_type": "display_data"
    },
    {
     "data": {
      "text/plain": [
       "(31033,)"
      ]
     },
     "metadata": {},
     "output_type": "display_data"
    },
    {
     "data": {
      "text/plain": [
       "(41378,)"
      ]
     },
     "metadata": {},
     "output_type": "display_data"
    },
    {
     "data": {
      "text/plain": [
       "(31034,)"
      ]
     },
     "metadata": {},
     "output_type": "display_data"
    }
   ],
   "source": [
    "features_train, features_test, target_train, target_test = train_test_split(features.copy(), target.copy(),\n",
    "                                                                            test_size=.4, shuffle=True, \n",
    "                                                                            random_state=SEED)\n",
    "\n",
    "features_train, features_valid, target_train, target_valid = train_test_split(features_train, target_train,\n",
    "                                                                            test_size=.5, shuffle=True, \n",
    "                                                                            random_state=SEED)\n",
    "\n",
    "display(features_train.shape, features_test.shape,features_valid.shape)\n",
    "display(target_train.shape, target_test.shape,target_valid.shape)"
   ]
  },
  {
   "cell_type": "code",
   "execution_count": 42,
   "id": "c1c11f19",
   "metadata": {},
   "outputs": [],
   "source": [
    "features_train_valid = pd.concat([features_train.copy(), features_valid.copy()])\n",
    "target_train_valid = pd.concat([target_train.copy(), target_valid.copy()])"
   ]
  },
  {
   "cell_type": "code",
   "execution_count": 43,
   "id": "09b8ed8e",
   "metadata": {},
   "outputs": [],
   "source": [
    "# Создание трансформера для кодирования числовых признаков\n",
    "numeric_features = ['cellphone_in_use','intersection','vehicle_age']\n",
    "\n",
    "# Создание трансформера для кодирования категориальных признаков\n",
    "categorical_features = ['party_sobriety', 'weather_1', 'road_surface', 'lighting', 'location_type', 'road_condition_1', \n",
    "              'vehicle_type', 'vehicle_transmission','control_device']"
   ]
  },
  {
   "cell_type": "code",
   "execution_count": 44,
   "id": "c3cf1462",
   "metadata": {},
   "outputs": [],
   "source": [
    "ct = ColumnTransformer(\n",
    "                        [(\"text_preprocess\", OneHotEncoder(handle_unknown='ignore',sparse=False), categorical_features),\n",
    "                        (\"num_preprocess\", StandardScaler(),numeric_features )])"
   ]
  },
  {
   "cell_type": "code",
   "execution_count": 45,
   "id": "64e55d62",
   "metadata": {},
   "outputs": [],
   "source": [
    "clf = SVC()\n",
    "pipe = Pipeline([('transformer', ct), ('classifier', clf)])"
   ]
  },
  {
   "cell_type": "code",
   "execution_count": 46,
   "id": "695d2c75",
   "metadata": {},
   "outputs": [
    {
     "name": "stdout",
     "output_type": "stream",
     "text": [
      "CPU times: user 8min 22s, sys: 1.15 s, total: 8min 23s\n",
      "Wall time: 8min 24s\n"
     ]
    }
   ],
   "source": [
    "%%time\n",
    "model = pipe.fit(features_train_valid, target_train_valid)"
   ]
  },
  {
   "cell_type": "code",
   "execution_count": 47,
   "id": "3d1d9bc3",
   "metadata": {},
   "outputs": [
    {
     "name": "stdout",
     "output_type": "stream",
     "text": [
      "CPU times: user 4min 21s, sys: 540 ms, total: 4min 21s\n",
      "Wall time: 4min 21s\n"
     ]
    },
    {
     "data": {
      "text/plain": [
       "0.581758422350041"
      ]
     },
     "execution_count": 47,
     "metadata": {},
     "output_type": "execute_result"
    }
   ],
   "source": [
    "%%time\n",
    "model.score(features_test, target_test)"
   ]
  },
  {
   "cell_type": "code",
   "execution_count": 48,
   "id": "d422d28f",
   "metadata": {
    "scrolled": true
   },
   "outputs": [
    {
     "name": "stdout",
     "output_type": "stream",
     "text": [
      "CPU times: user 12min 35s, sys: 1.68 s, total: 12min 37s\n",
      "Wall time: 12min 37s\n"
     ]
    }
   ],
   "source": [
    "%%time\n",
    "scores = cross_val_score(model,features_train_valid, target_train_valid,cv = 3)"
   ]
  },
  {
   "cell_type": "code",
   "execution_count": 49,
   "id": "0c30992f",
   "metadata": {},
   "outputs": [
    {
     "data": {
      "text/plain": [
       "0.583643482043598"
      ]
     },
     "execution_count": 49,
     "metadata": {},
     "output_type": "execute_result"
    }
   ],
   "source": [
    "scores.mean()"
   ]
  },
  {
   "cell_type": "code",
   "execution_count": 50,
   "id": "823fead0",
   "metadata": {},
   "outputs": [
    {
     "name": "stdout",
     "output_type": "stream",
     "text": [
      "CPU times: user 3min 51s, sys: 396 ms, total: 3min 52s\n",
      "Wall time: 3min 52s\n"
     ]
    }
   ],
   "source": [
    "%%time\n",
    "pred=model.predict(features_test)"
   ]
  },
  {
   "cell_type": "markdown",
   "id": "f9bdb986",
   "metadata": {},
   "source": [
    "<div style=\"padding:0px 20px 10px; \n",
    "            color:#004346;\n",
    "            font-size:15px;\n",
    "            display:fill;\n",
    "            text-align:center;\n",
    "            border-radius:0px;\n",
    "            border: 5px double;\n",
    "            border-color:#9966FF;\n",
    "            background-color: #FFFFCC;\n",
    "            overflow:hidden;\n",
    "            font-weight:400\"> \n",
    "    \n",
    "### создание и обучение моделей"
   ]
  },
  {
   "cell_type": "markdown",
   "id": "d488f7d4",
   "metadata": {},
   "source": [
    "<div style=\"padding: 10px 15px;\n",
    "            border: 4px #6495ed solid;\n",
    "            text-align:center>\"\n",
    "    \n",
    "### RandomForestClassifier"
   ]
  },
  {
   "cell_type": "code",
   "execution_count": 51,
   "id": "41c64854",
   "metadata": {},
   "outputs": [],
   "source": [
    "# гиперпараметры модели\n",
    "param_grid = {\n",
    "    'classifier__criterion':['entropy'],\n",
    "    'classifier__n_estimators': [10,50,100, 150],\n",
    "    'classifier__max_depth': [2,5, 7,15],\n",
    "    'classifier__min_samples_split': [2, 3,5],\n",
    "    'classifier__class_weight':['balanced']\n",
    "}\n",
    "\n",
    "pipe_rf=Pipeline([('transformer', ct),\n",
    "                  ('classifier', RandomForestClassifier())])\n",
    "\n",
    "scorer = make_scorer(fbeta_score, beta=2)\n",
    "# параметры RandomizedSearchCV\n",
    "random_search_RF = RandomizedSearchCV(estimator=pipe_rf,\n",
    "                                      param_distributions=param_grid,\n",
    "                                      cv=5,\n",
    "                                      verbose=2,\n",
    "                                      random_state=SEED,\n",
    "                                      scoring=scorer)"
   ]
  },
  {
   "cell_type": "code",
   "execution_count": 52,
   "id": "4ed5d79c",
   "metadata": {
    "scrolled": true
   },
   "outputs": [
    {
     "name": "stdout",
     "output_type": "stream",
     "text": [
      "Fitting 5 folds for each of 10 candidates, totalling 50 fits\n",
      "[CV] END classifier__class_weight=balanced, classifier__criterion=entropy, classifier__max_depth=5, classifier__min_samples_split=3, classifier__n_estimators=150; total time=   1.5s\n",
      "[CV] END classifier__class_weight=balanced, classifier__criterion=entropy, classifier__max_depth=5, classifier__min_samples_split=3, classifier__n_estimators=150; total time=   1.4s\n",
      "[CV] END classifier__class_weight=balanced, classifier__criterion=entropy, classifier__max_depth=5, classifier__min_samples_split=3, classifier__n_estimators=150; total time=   1.4s\n",
      "[CV] END classifier__class_weight=balanced, classifier__criterion=entropy, classifier__max_depth=5, classifier__min_samples_split=3, classifier__n_estimators=150; total time=   1.5s\n",
      "[CV] END classifier__class_weight=balanced, classifier__criterion=entropy, classifier__max_depth=5, classifier__min_samples_split=3, classifier__n_estimators=150; total time=   1.5s\n",
      "[CV] END classifier__class_weight=balanced, classifier__criterion=entropy, classifier__max_depth=2, classifier__min_samples_split=3, classifier__n_estimators=150; total time=   1.1s\n",
      "[CV] END classifier__class_weight=balanced, classifier__criterion=entropy, classifier__max_depth=2, classifier__min_samples_split=3, classifier__n_estimators=150; total time=   1.1s\n",
      "[CV] END classifier__class_weight=balanced, classifier__criterion=entropy, classifier__max_depth=2, classifier__min_samples_split=3, classifier__n_estimators=150; total time=   1.2s\n",
      "[CV] END classifier__class_weight=balanced, classifier__criterion=entropy, classifier__max_depth=2, classifier__min_samples_split=3, classifier__n_estimators=150; total time=   1.1s\n",
      "[CV] END classifier__class_weight=balanced, classifier__criterion=entropy, classifier__max_depth=2, classifier__min_samples_split=3, classifier__n_estimators=150; total time=   1.1s\n",
      "[CV] END classifier__class_weight=balanced, classifier__criterion=entropy, classifier__max_depth=7, classifier__min_samples_split=5, classifier__n_estimators=10; total time=   0.3s\n",
      "[CV] END classifier__class_weight=balanced, classifier__criterion=entropy, classifier__max_depth=7, classifier__min_samples_split=5, classifier__n_estimators=10; total time=   0.3s\n",
      "[CV] END classifier__class_weight=balanced, classifier__criterion=entropy, classifier__max_depth=7, classifier__min_samples_split=5, classifier__n_estimators=10; total time=   0.3s\n",
      "[CV] END classifier__class_weight=balanced, classifier__criterion=entropy, classifier__max_depth=7, classifier__min_samples_split=5, classifier__n_estimators=10; total time=   0.3s\n",
      "[CV] END classifier__class_weight=balanced, classifier__criterion=entropy, classifier__max_depth=7, classifier__min_samples_split=5, classifier__n_estimators=10; total time=   0.4s\n",
      "[CV] END classifier__class_weight=balanced, classifier__criterion=entropy, classifier__max_depth=7, classifier__min_samples_split=5, classifier__n_estimators=50; total time=   0.7s\n",
      "[CV] END classifier__class_weight=balanced, classifier__criterion=entropy, classifier__max_depth=7, classifier__min_samples_split=5, classifier__n_estimators=50; total time=   0.7s\n",
      "[CV] END classifier__class_weight=balanced, classifier__criterion=entropy, classifier__max_depth=7, classifier__min_samples_split=5, classifier__n_estimators=50; total time=   0.7s\n",
      "[CV] END classifier__class_weight=balanced, classifier__criterion=entropy, classifier__max_depth=7, classifier__min_samples_split=5, classifier__n_estimators=50; total time=   0.7s\n",
      "[CV] END classifier__class_weight=balanced, classifier__criterion=entropy, classifier__max_depth=7, classifier__min_samples_split=5, classifier__n_estimators=50; total time=   0.7s\n",
      "[CV] END classifier__class_weight=balanced, classifier__criterion=entropy, classifier__max_depth=2, classifier__min_samples_split=5, classifier__n_estimators=50; total time=   0.5s\n",
      "[CV] END classifier__class_weight=balanced, classifier__criterion=entropy, classifier__max_depth=2, classifier__min_samples_split=5, classifier__n_estimators=50; total time=   0.5s\n",
      "[CV] END classifier__class_weight=balanced, classifier__criterion=entropy, classifier__max_depth=2, classifier__min_samples_split=5, classifier__n_estimators=50; total time=   0.5s\n",
      "[CV] END classifier__class_weight=balanced, classifier__criterion=entropy, classifier__max_depth=2, classifier__min_samples_split=5, classifier__n_estimators=50; total time=   0.6s\n",
      "[CV] END classifier__class_weight=balanced, classifier__criterion=entropy, classifier__max_depth=2, classifier__min_samples_split=5, classifier__n_estimators=50; total time=   0.6s\n",
      "[CV] END classifier__class_weight=balanced, classifier__criterion=entropy, classifier__max_depth=7, classifier__min_samples_split=2, classifier__n_estimators=100; total time=   1.1s\n",
      "[CV] END classifier__class_weight=balanced, classifier__criterion=entropy, classifier__max_depth=7, classifier__min_samples_split=2, classifier__n_estimators=100; total time=   1.1s\n",
      "[CV] END classifier__class_weight=balanced, classifier__criterion=entropy, classifier__max_depth=7, classifier__min_samples_split=2, classifier__n_estimators=100; total time=   1.2s\n",
      "[CV] END classifier__class_weight=balanced, classifier__criterion=entropy, classifier__max_depth=7, classifier__min_samples_split=2, classifier__n_estimators=100; total time=   1.2s\n",
      "[CV] END classifier__class_weight=balanced, classifier__criterion=entropy, classifier__max_depth=7, classifier__min_samples_split=2, classifier__n_estimators=100; total time=   1.1s\n",
      "[CV] END classifier__class_weight=balanced, classifier__criterion=entropy, classifier__max_depth=2, classifier__min_samples_split=5, classifier__n_estimators=10; total time=   0.3s\n",
      "[CV] END classifier__class_weight=balanced, classifier__criterion=entropy, classifier__max_depth=2, classifier__min_samples_split=5, classifier__n_estimators=10; total time=   0.3s\n",
      "[CV] END classifier__class_weight=balanced, classifier__criterion=entropy, classifier__max_depth=2, classifier__min_samples_split=5, classifier__n_estimators=10; total time=   0.3s\n",
      "[CV] END classifier__class_weight=balanced, classifier__criterion=entropy, classifier__max_depth=2, classifier__min_samples_split=5, classifier__n_estimators=10; total time=   0.3s\n",
      "[CV] END classifier__class_weight=balanced, classifier__criterion=entropy, classifier__max_depth=2, classifier__min_samples_split=5, classifier__n_estimators=10; total time=   0.3s\n",
      "[CV] END classifier__class_weight=balanced, classifier__criterion=entropy, classifier__max_depth=5, classifier__min_samples_split=5, classifier__n_estimators=150; total time=   1.4s\n",
      "[CV] END classifier__class_weight=balanced, classifier__criterion=entropy, classifier__max_depth=5, classifier__min_samples_split=5, classifier__n_estimators=150; total time=   1.5s\n",
      "[CV] END classifier__class_weight=balanced, classifier__criterion=entropy, classifier__max_depth=5, classifier__min_samples_split=5, classifier__n_estimators=150; total time=   1.4s\n",
      "[CV] END classifier__class_weight=balanced, classifier__criterion=entropy, classifier__max_depth=5, classifier__min_samples_split=5, classifier__n_estimators=150; total time=   1.4s\n",
      "[CV] END classifier__class_weight=balanced, classifier__criterion=entropy, classifier__max_depth=5, classifier__min_samples_split=5, classifier__n_estimators=150; total time=   1.5s\n",
      "[CV] END classifier__class_weight=balanced, classifier__criterion=entropy, classifier__max_depth=15, classifier__min_samples_split=5, classifier__n_estimators=10; total time=   0.4s\n",
      "[CV] END classifier__class_weight=balanced, classifier__criterion=entropy, classifier__max_depth=15, classifier__min_samples_split=5, classifier__n_estimators=10; total time=   0.4s\n",
      "[CV] END classifier__class_weight=balanced, classifier__criterion=entropy, classifier__max_depth=15, classifier__min_samples_split=5, classifier__n_estimators=10; total time=   0.4s\n",
      "[CV] END classifier__class_weight=balanced, classifier__criterion=entropy, classifier__max_depth=15, classifier__min_samples_split=5, classifier__n_estimators=10; total time=   0.4s\n",
      "[CV] END classifier__class_weight=balanced, classifier__criterion=entropy, classifier__max_depth=15, classifier__min_samples_split=5, classifier__n_estimators=10; total time=   0.4s\n",
      "[CV] END classifier__class_weight=balanced, classifier__criterion=entropy, classifier__max_depth=7, classifier__min_samples_split=3, classifier__n_estimators=150; total time=   1.6s\n",
      "[CV] END classifier__class_weight=balanced, classifier__criterion=entropy, classifier__max_depth=7, classifier__min_samples_split=3, classifier__n_estimators=150; total time=   1.7s\n",
      "[CV] END classifier__class_weight=balanced, classifier__criterion=entropy, classifier__max_depth=7, classifier__min_samples_split=3, classifier__n_estimators=150; total time=   1.6s\n",
      "[CV] END classifier__class_weight=balanced, classifier__criterion=entropy, classifier__max_depth=7, classifier__min_samples_split=3, classifier__n_estimators=150; total time=   1.6s\n",
      "[CV] END classifier__class_weight=balanced, classifier__criterion=entropy, classifier__max_depth=7, classifier__min_samples_split=3, classifier__n_estimators=150; total time=   1.7s\n",
      "CPU times: user 46 s, sys: 180 ms, total: 46.2 s\n",
      "Wall time: 46.3 s\n"
     ]
    }
   ],
   "source": [
    "%%time\n",
    "# обучение модели\n",
    "random_search_RF.fit(features_train, target_train)\n",
    "# сохраним лучшую модель\n",
    "best_model_RF = random_search_RF.best_estimator_\n",
    "# сохраним лучшее значение метрики\n",
    "final_metrics_RF = random_search_RF.best_score_\n",
    "# вывод результатов\n"
   ]
  },
  {
   "cell_type": "code",
   "execution_count": 53,
   "id": "17519aa0",
   "metadata": {
    "scrolled": true
   },
   "outputs": [
    {
     "name": "stdout",
     "output_type": "stream",
     "text": [
      "Оптимальные гиперпараметры:\n",
      "{'classifier__n_estimators': 10, 'classifier__min_samples_split': 5, 'classifier__max_depth': 15, 'classifier__criterion': 'entropy', 'classifier__class_weight': 'balanced'}\n",
      " F-beta: 0.4259594735564717\n"
     ]
    }
   ],
   "source": [
    "print(f'Оптимальные гиперпараметры:\\n{random_search_RF.best_params_}\\n F-beta: {final_metrics_RF}')"
   ]
  },
  {
   "cell_type": "code",
   "execution_count": 54,
   "id": "52d014c5",
   "metadata": {},
   "outputs": [
    {
     "data": {
      "text/plain": [
       "0.5725989656339118"
      ]
     },
     "execution_count": 54,
     "metadata": {},
     "output_type": "execute_result"
    }
   ],
   "source": [
    "# КОД РЕВЬЮЕРА\n",
    "from sklearn.metrics import accuracy_score\n",
    "\n",
    "accuracy_score(target_test, best_model_RF.predict(features_test))"
   ]
  },
  {
   "cell_type": "markdown",
   "id": "6db908b3",
   "metadata": {},
   "source": [
    "<div style=\"padding: 30px 25px; border: 2px #6495ed solid\">\n",
    "\n",
    "#### промежуточный вывод:\n",
    "- Оптимальные гитерпараметры для алгоритма RandomForest:\n",
    "    - 'n_estimators': 10\n",
    "    - 'min_samples_split': 5\n",
    "    - 'max_depth': 15\n",
    "---\n",
    "- Метрика качества F-beta на обучающих данных составляет: 0.43\n",
    "\n",
    "    \n",
    "</div>"
   ]
  },
  {
   "cell_type": "markdown",
   "id": "0b80034a",
   "metadata": {},
   "source": [
    "<div style=\"padding: 10px 15px;\n",
    "            border: 4px #6495ed solid;\n",
    "            text-align:center>\"\n",
    "    \n",
    "### Decision Tree Classifier"
   ]
  },
  {
   "cell_type": "code",
   "execution_count": 55,
   "id": "82f19a78",
   "metadata": {},
   "outputs": [],
   "source": [
    "\n",
    "param_grid = {\n",
    "   \n",
    "    'classifier__max_depth': [2,5, 7,15],\n",
    "    'classifier__min_samples_split': [2, 3,5],\n",
    "    'classifier__class_weight':['balanced']\n",
    "}\n",
    "\n",
    "scorer = make_scorer(fbeta_score, beta=2)\n",
    "\n",
    "pipe_dt=Pipeline([('transformer', ct),\n",
    "          ('classifier', DecisionTreeClassifier())])\n",
    "\n",
    "\n",
    "random_search_DT = RandomizedSearchCV(estimator=pipe_dt,\n",
    "                                      param_distributions=param_grid,\n",
    "                                      cv=5,\n",
    "                                      verbose=2,\n",
    "                                      random_state=SEED,\n",
    "                                      scoring=scorer)"
   ]
  },
  {
   "cell_type": "code",
   "execution_count": 56,
   "id": "45460eac",
   "metadata": {
    "scrolled": true
   },
   "outputs": [
    {
     "name": "stdout",
     "output_type": "stream",
     "text": [
      "Fitting 5 folds for each of 10 candidates, totalling 50 fits\n",
      "[CV] END classifier__class_weight=balanced, classifier__max_depth=15, classifier__min_samples_split=3; total time=   0.3s\n",
      "[CV] END classifier__class_weight=balanced, classifier__max_depth=15, classifier__min_samples_split=3; total time=   0.3s\n",
      "[CV] END classifier__class_weight=balanced, classifier__max_depth=15, classifier__min_samples_split=3; total time=   0.3s\n",
      "[CV] END classifier__class_weight=balanced, classifier__max_depth=15, classifier__min_samples_split=3; total time=   0.3s\n",
      "[CV] END classifier__class_weight=balanced, classifier__max_depth=15, classifier__min_samples_split=3; total time=   0.3s\n",
      "[CV] END classifier__class_weight=balanced, classifier__max_depth=15, classifier__min_samples_split=2; total time=   0.3s\n",
      "[CV] END classifier__class_weight=balanced, classifier__max_depth=15, classifier__min_samples_split=2; total time=   0.3s\n",
      "[CV] END classifier__class_weight=balanced, classifier__max_depth=15, classifier__min_samples_split=2; total time=   0.3s\n",
      "[CV] END classifier__class_weight=balanced, classifier__max_depth=15, classifier__min_samples_split=2; total time=   0.3s\n",
      "[CV] END classifier__class_weight=balanced, classifier__max_depth=15, classifier__min_samples_split=2; total time=   0.3s\n",
      "[CV] END classifier__class_weight=balanced, classifier__max_depth=2, classifier__min_samples_split=5; total time=   0.3s\n",
      "[CV] END classifier__class_weight=balanced, classifier__max_depth=2, classifier__min_samples_split=5; total time=   0.3s\n",
      "[CV] END classifier__class_weight=balanced, classifier__max_depth=2, classifier__min_samples_split=5; total time=   0.3s\n",
      "[CV] END classifier__class_weight=balanced, classifier__max_depth=2, classifier__min_samples_split=5; total time=   0.3s\n",
      "[CV] END classifier__class_weight=balanced, classifier__max_depth=2, classifier__min_samples_split=5; total time=   0.3s\n",
      "[CV] END classifier__class_weight=balanced, classifier__max_depth=7, classifier__min_samples_split=5; total time=   0.3s\n",
      "[CV] END classifier__class_weight=balanced, classifier__max_depth=7, classifier__min_samples_split=5; total time=   0.3s\n",
      "[CV] END classifier__class_weight=balanced, classifier__max_depth=7, classifier__min_samples_split=5; total time=   0.3s\n",
      "[CV] END classifier__class_weight=balanced, classifier__max_depth=7, classifier__min_samples_split=5; total time=   0.3s\n",
      "[CV] END classifier__class_weight=balanced, classifier__max_depth=7, classifier__min_samples_split=5; total time=   0.3s\n",
      "[CV] END classifier__class_weight=balanced, classifier__max_depth=5, classifier__min_samples_split=3; total time=   0.3s\n",
      "[CV] END classifier__class_weight=balanced, classifier__max_depth=5, classifier__min_samples_split=3; total time=   0.3s\n",
      "[CV] END classifier__class_weight=balanced, classifier__max_depth=5, classifier__min_samples_split=3; total time=   0.3s\n",
      "[CV] END classifier__class_weight=balanced, classifier__max_depth=5, classifier__min_samples_split=3; total time=   0.3s\n",
      "[CV] END classifier__class_weight=balanced, classifier__max_depth=5, classifier__min_samples_split=3; total time=   0.3s\n",
      "[CV] END classifier__class_weight=balanced, classifier__max_depth=5, classifier__min_samples_split=2; total time=   0.3s\n",
      "[CV] END classifier__class_weight=balanced, classifier__max_depth=5, classifier__min_samples_split=2; total time=   0.3s\n",
      "[CV] END classifier__class_weight=balanced, classifier__max_depth=5, classifier__min_samples_split=2; total time=   0.3s\n",
      "[CV] END classifier__class_weight=balanced, classifier__max_depth=5, classifier__min_samples_split=2; total time=   0.3s\n",
      "[CV] END classifier__class_weight=balanced, classifier__max_depth=5, classifier__min_samples_split=2; total time=   0.3s\n",
      "[CV] END classifier__class_weight=balanced, classifier__max_depth=2, classifier__min_samples_split=3; total time=   0.3s\n",
      "[CV] END classifier__class_weight=balanced, classifier__max_depth=2, classifier__min_samples_split=3; total time=   0.3s\n",
      "[CV] END classifier__class_weight=balanced, classifier__max_depth=2, classifier__min_samples_split=3; total time=   0.3s\n",
      "[CV] END classifier__class_weight=balanced, classifier__max_depth=2, classifier__min_samples_split=3; total time=   0.3s\n",
      "[CV] END classifier__class_weight=balanced, classifier__max_depth=2, classifier__min_samples_split=3; total time=   0.3s\n",
      "[CV] END classifier__class_weight=balanced, classifier__max_depth=7, classifier__min_samples_split=2; total time=   0.3s\n",
      "[CV] END classifier__class_weight=balanced, classifier__max_depth=7, classifier__min_samples_split=2; total time=   0.3s\n",
      "[CV] END classifier__class_weight=balanced, classifier__max_depth=7, classifier__min_samples_split=2; total time=   0.3s\n",
      "[CV] END classifier__class_weight=balanced, classifier__max_depth=7, classifier__min_samples_split=2; total time=   0.3s\n",
      "[CV] END classifier__class_weight=balanced, classifier__max_depth=7, classifier__min_samples_split=2; total time=   0.3s\n",
      "[CV] END classifier__class_weight=balanced, classifier__max_depth=5, classifier__min_samples_split=5; total time=   0.3s\n",
      "[CV] END classifier__class_weight=balanced, classifier__max_depth=5, classifier__min_samples_split=5; total time=   0.3s\n",
      "[CV] END classifier__class_weight=balanced, classifier__max_depth=5, classifier__min_samples_split=5; total time=   0.3s\n",
      "[CV] END classifier__class_weight=balanced, classifier__max_depth=5, classifier__min_samples_split=5; total time=   0.3s\n",
      "[CV] END classifier__class_weight=balanced, classifier__max_depth=5, classifier__min_samples_split=5; total time=   0.4s\n",
      "[CV] END classifier__class_weight=balanced, classifier__max_depth=7, classifier__min_samples_split=3; total time=   0.3s\n",
      "[CV] END classifier__class_weight=balanced, classifier__max_depth=7, classifier__min_samples_split=3; total time=   0.3s\n",
      "[CV] END classifier__class_weight=balanced, classifier__max_depth=7, classifier__min_samples_split=3; total time=   0.3s\n",
      "[CV] END classifier__class_weight=balanced, classifier__max_depth=7, classifier__min_samples_split=3; total time=   0.3s\n",
      "[CV] END classifier__class_weight=balanced, classifier__max_depth=7, classifier__min_samples_split=3; total time=   0.3s\n",
      "CPU times: user 15.1 s, sys: 39.5 ms, total: 15.2 s\n",
      "Wall time: 15.3 s\n"
     ]
    }
   ],
   "source": [
    "%%time\n",
    "# обучение модели\n",
    "random_search_DT.fit(features_train, target_train)\n",
    "# сохраним лучшую модель\n",
    "best_model_DT = random_search_DT.best_estimator_\n",
    "# сохраним лучшее значение метрики\n",
    "final_metrics_DT = random_search_DT.best_score_"
   ]
  },
  {
   "cell_type": "code",
   "execution_count": 57,
   "id": "92c25b78",
   "metadata": {},
   "outputs": [
    {
     "name": "stdout",
     "output_type": "stream",
     "text": [
      "Оптимальные гиперпараметры:\n",
      "{'classifier__min_samples_split': 5, 'classifier__max_depth': 7, 'classifier__class_weight': 'balanced'}\n",
      " f-beta: 0.43082447420038517\n"
     ]
    }
   ],
   "source": [
    "print(f'Оптимальные гиперпараметры:\\n{random_search_DT.best_params_}\\n f-beta: {final_metrics_DT}')"
   ]
  },
  {
   "cell_type": "markdown",
   "id": "f29a68ed",
   "metadata": {},
   "source": [
    "<div style=\"padding: 30px 25px; border: 2px #6495ed solid\">\n",
    "\n",
    "#### промежуточный вывод:\n",
    "- Оптимальные гитерпараметры для алгоритма Decision Tree:\n",
    "    \n",
    "    - 'min_samples_split': 7\n",
    "    - 'max_depth': 7\n",
    "---\n",
    "- Метрика качества F-beta на обучающих данных составляет: 0.43\n",
    "    \n",
    "</div>"
   ]
  },
  {
   "cell_type": "markdown",
   "id": "ee4c8f3e",
   "metadata": {},
   "source": [
    "<div style=\"padding: 10px 15px;\n",
    "            border: 4px #6495ed solid;\n",
    "            text-align:center>\"\n",
    "    \n",
    "### Catboost"
   ]
  },
  {
   "cell_type": "code",
   "execution_count": 58,
   "id": "e4d538cc",
   "metadata": {},
   "outputs": [],
   "source": [
    "grid = {\n",
    "        'iterations': [100, 120],\n",
    "        'learning_rate': [1,0.1,0.01,0.001, 0.005],\n",
    "        'depth': [2,5,7,15]\n",
    "       }\n",
    "scorer = make_scorer(fbeta_score)\n",
    "model_cat= CatBoostClassifier(loss_function='Logloss', eval_metric='F1')\n"
   ]
  },
  {
   "cell_type": "code",
   "execution_count": 59,
   "id": "d7c32640",
   "metadata": {},
   "outputs": [],
   "source": [
    "\n",
    "# обучение модели\n",
    "catboost_grid = RandomizedSearchCV(estimator=model_cat,\n",
    "                                   param_distributions=grid,\n",
    "                                      cv=5, \n",
    "                                  verbose=2,\n",
    "                                  random_state=SEED,\n",
    "                                  scoring=scorer)\n"
   ]
  },
  {
   "cell_type": "code",
   "execution_count": 60,
   "id": "39fb76d8",
   "metadata": {
    "scrolled": true
   },
   "outputs": [
    {
     "name": "stdout",
     "output_type": "stream",
     "text": [
      "Fitting 5 folds for each of 10 candidates, totalling 50 fits\n",
      "0:\tlearn: 0.3432017\ttotal: 91.3ms\tremaining: 10.9s\n",
      "1:\tlearn: 0.5404827\ttotal: 109ms\tremaining: 6.45s\n",
      "2:\tlearn: 0.5355162\ttotal: 124ms\tremaining: 4.84s\n",
      "3:\tlearn: 0.5336173\ttotal: 137ms\tremaining: 3.97s\n",
      "4:\tlearn: 0.5675561\ttotal: 150ms\tremaining: 3.44s\n",
      "5:\tlearn: 0.5632667\ttotal: 162ms\tremaining: 3.08s\n",
      "6:\tlearn: 0.5582944\ttotal: 176ms\tremaining: 2.84s\n",
      "7:\tlearn: 0.5707039\ttotal: 186ms\tremaining: 2.6s\n",
      "8:\tlearn: 0.5707647\ttotal: 199ms\tremaining: 2.46s\n",
      "9:\tlearn: 0.5609241\ttotal: 212ms\tremaining: 2.33s\n",
      "10:\tlearn: 0.5614761\ttotal: 225ms\tremaining: 2.23s\n",
      "11:\tlearn: 0.5771115\ttotal: 238ms\tremaining: 2.14s\n",
      "12:\tlearn: 0.5780538\ttotal: 251ms\tremaining: 2.07s\n",
      "13:\tlearn: 0.5658615\ttotal: 265ms\tremaining: 2s\n",
      "14:\tlearn: 0.5694603\ttotal: 279ms\tremaining: 1.95s\n",
      "15:\tlearn: 0.5709709\ttotal: 296ms\tremaining: 1.92s\n",
      "16:\tlearn: 0.5709585\ttotal: 311ms\tremaining: 1.89s\n",
      "17:\tlearn: 0.5711275\ttotal: 327ms\tremaining: 1.85s\n",
      "18:\tlearn: 0.5749069\ttotal: 340ms\tremaining: 1.81s\n",
      "19:\tlearn: 0.5748408\ttotal: 353ms\tremaining: 1.77s\n",
      "20:\tlearn: 0.5758908\ttotal: 367ms\tremaining: 1.73s\n",
      "21:\tlearn: 0.5738560\ttotal: 381ms\tremaining: 1.7s\n",
      "22:\tlearn: 0.5735925\ttotal: 395ms\tremaining: 1.66s\n",
      "23:\tlearn: 0.5774789\ttotal: 409ms\tremaining: 1.64s\n",
      "24:\tlearn: 0.5777425\ttotal: 423ms\tremaining: 1.61s\n",
      "25:\tlearn: 0.5819835\ttotal: 436ms\tremaining: 1.58s\n",
      "26:\tlearn: 0.5821025\ttotal: 449ms\tremaining: 1.55s\n",
      "27:\tlearn: 0.5827065\ttotal: 463ms\tremaining: 1.52s\n",
      "28:\tlearn: 0.5832782\ttotal: 478ms\tremaining: 1.5s\n",
      "29:\tlearn: 0.5835743\ttotal: 494ms\tremaining: 1.48s\n",
      "30:\tlearn: 0.5833540\ttotal: 508ms\tremaining: 1.46s\n",
      "31:\tlearn: 0.5799458\ttotal: 522ms\tremaining: 1.44s\n",
      "32:\tlearn: 0.5834815\ttotal: 535ms\tremaining: 1.41s\n",
      "33:\tlearn: 0.5849568\ttotal: 548ms\tremaining: 1.39s\n",
      "34:\tlearn: 0.5814002\ttotal: 562ms\tremaining: 1.36s\n",
      "35:\tlearn: 0.5814349\ttotal: 575ms\tremaining: 1.34s\n",
      "36:\tlearn: 0.5815662\ttotal: 589ms\tremaining: 1.32s\n",
      "37:\tlearn: 0.5820580\ttotal: 603ms\tremaining: 1.3s\n",
      "38:\tlearn: 0.5820580\ttotal: 616ms\tremaining: 1.28s\n",
      "39:\tlearn: 0.5856667\ttotal: 630ms\tremaining: 1.26s\n",
      "40:\tlearn: 0.5855504\ttotal: 643ms\tremaining: 1.24s\n",
      "41:\tlearn: 0.5855986\ttotal: 657ms\tremaining: 1.22s\n",
      "42:\tlearn: 0.5860193\ttotal: 670ms\tremaining: 1.2s\n",
      "43:\tlearn: 0.5860051\ttotal: 684ms\tremaining: 1.18s\n",
      "44:\tlearn: 0.5859127\ttotal: 697ms\tremaining: 1.16s\n",
      "45:\tlearn: 0.5862738\ttotal: 711ms\tremaining: 1.14s\n",
      "46:\tlearn: 0.5888694\ttotal: 734ms\tremaining: 1.14s\n",
      "47:\tlearn: 0.5917001\ttotal: 747ms\tremaining: 1.12s\n",
      "48:\tlearn: 0.5931565\ttotal: 761ms\tremaining: 1.1s\n",
      "49:\tlearn: 0.5931476\ttotal: 775ms\tremaining: 1.08s\n",
      "50:\tlearn: 0.5932464\ttotal: 788ms\tremaining: 1.07s\n",
      "51:\tlearn: 0.5935583\ttotal: 801ms\tremaining: 1.05s\n",
      "52:\tlearn: 0.5936967\ttotal: 814ms\tremaining: 1.03s\n",
      "53:\tlearn: 0.5941100\ttotal: 827ms\tremaining: 1.01s\n",
      "54:\tlearn: 0.5950433\ttotal: 840ms\tremaining: 993ms\n",
      "55:\tlearn: 0.5945814\ttotal: 854ms\tremaining: 976ms\n",
      "56:\tlearn: 0.5947503\ttotal: 867ms\tremaining: 958ms\n",
      "57:\tlearn: 0.5941664\ttotal: 881ms\tremaining: 941ms\n",
      "58:\tlearn: 0.5953537\ttotal: 894ms\tremaining: 924ms\n",
      "59:\tlearn: 0.5930872\ttotal: 907ms\tremaining: 907ms\n",
      "60:\tlearn: 0.5931927\ttotal: 921ms\tremaining: 891ms\n",
      "61:\tlearn: 0.5936229\ttotal: 935ms\tremaining: 874ms\n",
      "62:\tlearn: 0.5932921\ttotal: 950ms\tremaining: 860ms\n",
      "63:\tlearn: 0.5933618\ttotal: 963ms\tremaining: 842ms\n",
      "64:\tlearn: 0.5935452\ttotal: 977ms\tremaining: 826ms\n",
      "65:\tlearn: 0.5950621\ttotal: 990ms\tremaining: 810ms\n",
      "66:\tlearn: 0.5944805\ttotal: 1s\tremaining: 794ms\n",
      "67:\tlearn: 0.5961772\ttotal: 1.02s\tremaining: 778ms\n",
      "68:\tlearn: 0.5955102\ttotal: 1.03s\tremaining: 761ms\n",
      "69:\tlearn: 0.5957481\ttotal: 1.04s\tremaining: 746ms\n",
      "70:\tlearn: 0.5982024\ttotal: 1.06s\tremaining: 729ms\n",
      "71:\tlearn: 0.5980238\ttotal: 1.07s\tremaining: 714ms\n",
      "72:\tlearn: 0.5992271\ttotal: 1.08s\tremaining: 697ms\n",
      "73:\tlearn: 0.5995738\ttotal: 1.1s\tremaining: 682ms\n",
      "74:\tlearn: 0.5995416\ttotal: 1.11s\tremaining: 667ms\n",
      "75:\tlearn: 0.6003540\ttotal: 1.13s\tremaining: 653ms\n",
      "76:\tlearn: 0.6000805\ttotal: 1.14s\tremaining: 639ms\n",
      "77:\tlearn: 0.5966918\ttotal: 1.16s\tremaining: 625ms\n",
      "78:\tlearn: 0.5975067\ttotal: 1.18s\tremaining: 610ms\n",
      "79:\tlearn: 0.5980884\ttotal: 1.19s\tremaining: 597ms\n",
      "80:\tlearn: 0.5982457\ttotal: 1.21s\tremaining: 584ms\n",
      "81:\tlearn: 0.5984545\ttotal: 1.23s\tremaining: 568ms\n",
      "82:\tlearn: 0.5984545\ttotal: 1.24s\tremaining: 554ms\n",
      "83:\tlearn: 0.5988184\ttotal: 1.26s\tremaining: 540ms\n",
      "84:\tlearn: 0.5989885\ttotal: 1.27s\tremaining: 524ms\n",
      "85:\tlearn: 0.5982573\ttotal: 1.29s\tremaining: 509ms\n",
      "86:\tlearn: 0.5983135\ttotal: 1.3s\tremaining: 493ms\n",
      "87:\tlearn: 0.5979323\ttotal: 1.31s\tremaining: 478ms\n",
      "88:\tlearn: 0.5987359\ttotal: 1.33s\tremaining: 462ms\n",
      "89:\tlearn: 0.5984354\ttotal: 1.34s\tremaining: 447ms\n",
      "90:\tlearn: 0.5981255\ttotal: 1.35s\tremaining: 432ms\n",
      "91:\tlearn: 0.5987261\ttotal: 1.37s\tremaining: 417ms\n",
      "92:\tlearn: 0.5967400\ttotal: 1.38s\tremaining: 401ms\n",
      "93:\tlearn: 0.5969614\ttotal: 1.4s\tremaining: 386ms\n",
      "94:\tlearn: 0.5966057\ttotal: 1.41s\tremaining: 371ms\n",
      "95:\tlearn: 0.5971050\ttotal: 1.42s\tremaining: 356ms\n",
      "96:\tlearn: 0.5993837\ttotal: 1.44s\tremaining: 341ms\n",
      "97:\tlearn: 0.5992783\ttotal: 1.45s\tremaining: 326ms\n",
      "98:\tlearn: 0.5992783\ttotal: 1.47s\tremaining: 311ms\n",
      "99:\tlearn: 0.5993351\ttotal: 1.48s\tremaining: 297ms\n",
      "100:\tlearn: 0.5992944\ttotal: 1.5s\tremaining: 282ms\n",
      "101:\tlearn: 0.5994972\ttotal: 1.51s\tremaining: 267ms\n",
      "102:\tlearn: 0.5993596\ttotal: 1.52s\tremaining: 251ms\n",
      "103:\tlearn: 0.5987251\ttotal: 1.54s\tremaining: 236ms\n",
      "104:\tlearn: 0.5985924\ttotal: 1.55s\tremaining: 221ms\n",
      "105:\tlearn: 0.5983560\ttotal: 1.56s\tremaining: 207ms\n",
      "106:\tlearn: 0.5979465\ttotal: 1.58s\tremaining: 192ms\n",
      "107:\tlearn: 0.5978894\ttotal: 1.59s\tremaining: 177ms\n",
      "108:\tlearn: 0.5982398\ttotal: 1.6s\tremaining: 162ms\n",
      "109:\tlearn: 0.5980684\ttotal: 1.62s\tremaining: 147ms\n",
      "110:\tlearn: 0.5981826\ttotal: 1.63s\tremaining: 132ms\n",
      "111:\tlearn: 0.5981339\ttotal: 1.65s\tremaining: 118ms\n",
      "112:\tlearn: 0.5978717\ttotal: 1.66s\tremaining: 103ms\n",
      "113:\tlearn: 0.5977986\ttotal: 1.68s\tremaining: 88.3ms\n",
      "114:\tlearn: 0.5978230\ttotal: 1.69s\tremaining: 73.6ms\n",
      "115:\tlearn: 0.5988063\ttotal: 1.71s\tremaining: 58.8ms\n",
      "116:\tlearn: 0.5986422\ttotal: 1.72s\tremaining: 44.1ms\n",
      "117:\tlearn: 0.5986494\ttotal: 1.73s\tremaining: 29.4ms\n",
      "118:\tlearn: 0.5984855\ttotal: 1.75s\tremaining: 14.7ms\n",
      "119:\tlearn: 0.5978735\ttotal: 1.76s\tremaining: 0us\n",
      "[CV] END ...........depth=5, iterations=120, learning_rate=1; total time=   2.7s\n",
      "0:\tlearn: 0.3444411\ttotal: 17.1ms\tremaining: 2.04s\n",
      "1:\tlearn: 0.5464272\ttotal: 34.4ms\tremaining: 2.03s\n",
      "2:\tlearn: 0.4961083\ttotal: 43.8ms\tremaining: 1.71s\n",
      "3:\tlearn: 0.5290742\ttotal: 57.7ms\tremaining: 1.67s\n",
      "4:\tlearn: 0.5528462\ttotal: 71.6ms\tremaining: 1.65s\n",
      "5:\tlearn: 0.5724210\ttotal: 84.6ms\tremaining: 1.61s\n",
      "6:\tlearn: 0.5813848\ttotal: 96.9ms\tremaining: 1.56s\n",
      "7:\tlearn: 0.5685786\ttotal: 111ms\tremaining: 1.55s\n",
      "8:\tlearn: 0.5807699\ttotal: 126ms\tremaining: 1.55s\n",
      "9:\tlearn: 0.5793166\ttotal: 138ms\tremaining: 1.52s\n",
      "10:\tlearn: 0.5736635\ttotal: 153ms\tremaining: 1.51s\n",
      "11:\tlearn: 0.5722096\ttotal: 167ms\tremaining: 1.51s\n",
      "12:\tlearn: 0.5741494\ttotal: 182ms\tremaining: 1.5s\n",
      "13:\tlearn: 0.5621659\ttotal: 195ms\tremaining: 1.48s\n",
      "14:\tlearn: 0.5633318\ttotal: 209ms\tremaining: 1.46s\n",
      "15:\tlearn: 0.5625970\ttotal: 225ms\tremaining: 1.46s\n",
      "16:\tlearn: 0.5672597\ttotal: 242ms\tremaining: 1.47s\n",
      "17:\tlearn: 0.5661733\ttotal: 255ms\tremaining: 1.44s\n",
      "18:\tlearn: 0.5666083\ttotal: 269ms\tremaining: 1.43s\n",
      "19:\tlearn: 0.5668404\ttotal: 285ms\tremaining: 1.42s\n",
      "20:\tlearn: 0.5677370\ttotal: 300ms\tremaining: 1.42s\n",
      "21:\tlearn: 0.5676148\ttotal: 314ms\tremaining: 1.4s\n",
      "22:\tlearn: 0.5676390\ttotal: 329ms\tremaining: 1.39s\n",
      "23:\tlearn: 0.5677970\ttotal: 343ms\tremaining: 1.37s\n",
      "24:\tlearn: 0.5677717\ttotal: 356ms\tremaining: 1.35s\n",
      "25:\tlearn: 0.5690213\ttotal: 370ms\tremaining: 1.34s\n",
      "26:\tlearn: 0.5677678\ttotal: 383ms\tremaining: 1.32s\n",
      "27:\tlearn: 0.5688760\ttotal: 397ms\tremaining: 1.3s\n",
      "28:\tlearn: 0.5693412\ttotal: 411ms\tremaining: 1.29s\n",
      "29:\tlearn: 0.5693778\ttotal: 425ms\tremaining: 1.27s\n",
      "30:\tlearn: 0.5748161\ttotal: 437ms\tremaining: 1.25s\n",
      "31:\tlearn: 0.5744332\ttotal: 450ms\tremaining: 1.24s\n",
      "32:\tlearn: 0.5744457\ttotal: 464ms\tremaining: 1.22s\n",
      "33:\tlearn: 0.5730104\ttotal: 478ms\tremaining: 1.21s\n",
      "34:\tlearn: 0.5729871\ttotal: 492ms\tremaining: 1.19s\n",
      "35:\tlearn: 0.5734822\ttotal: 506ms\tremaining: 1.18s\n",
      "36:\tlearn: 0.5746768\ttotal: 519ms\tremaining: 1.16s\n",
      "37:\tlearn: 0.5731444\ttotal: 531ms\tremaining: 1.15s\n",
      "38:\tlearn: 0.5734822\ttotal: 545ms\tremaining: 1.13s\n",
      "39:\tlearn: 0.5750316\ttotal: 559ms\tremaining: 1.12s\n",
      "40:\tlearn: 0.5748523\ttotal: 572ms\tremaining: 1.1s\n",
      "41:\tlearn: 0.5745623\ttotal: 585ms\tremaining: 1.09s\n",
      "42:\tlearn: 0.5763468\ttotal: 599ms\tremaining: 1.07s\n",
      "43:\tlearn: 0.5740404\ttotal: 620ms\tremaining: 1.07s\n",
      "44:\tlearn: 0.5730984\ttotal: 643ms\tremaining: 1.07s\n",
      "45:\tlearn: 0.5730018\ttotal: 659ms\tremaining: 1.06s\n",
      "46:\tlearn: 0.5734952\ttotal: 673ms\tremaining: 1.04s\n",
      "47:\tlearn: 0.5736165\ttotal: 688ms\tremaining: 1.03s\n",
      "48:\tlearn: 0.5747679\ttotal: 702ms\tremaining: 1.02s\n",
      "49:\tlearn: 0.5770085\ttotal: 716ms\tremaining: 1s\n",
      "50:\tlearn: 0.5770440\ttotal: 731ms\tremaining: 989ms\n",
      "51:\tlearn: 0.5771761\ttotal: 745ms\tremaining: 975ms\n",
      "52:\tlearn: 0.5775320\ttotal: 760ms\tremaining: 961ms\n",
      "53:\tlearn: 0.5776606\ttotal: 775ms\tremaining: 948ms\n",
      "54:\tlearn: 0.5759993\ttotal: 791ms\tremaining: 935ms\n",
      "55:\tlearn: 0.5759392\ttotal: 808ms\tremaining: 924ms\n",
      "56:\tlearn: 0.5761438\ttotal: 825ms\tremaining: 911ms\n",
      "57:\tlearn: 0.5757652\ttotal: 842ms\tremaining: 900ms\n",
      "58:\tlearn: 0.5759224\ttotal: 858ms\tremaining: 888ms\n",
      "59:\tlearn: 0.5756616\ttotal: 872ms\tremaining: 872ms\n",
      "60:\tlearn: 0.5755657\ttotal: 888ms\tremaining: 858ms\n",
      "61:\tlearn: 0.5755298\ttotal: 910ms\tremaining: 851ms\n",
      "62:\tlearn: 0.5755541\ttotal: 933ms\tremaining: 844ms\n",
      "63:\tlearn: 0.5758036\ttotal: 954ms\tremaining: 834ms\n",
      "64:\tlearn: 0.5759595\ttotal: 968ms\tremaining: 819ms\n",
      "65:\tlearn: 0.5792601\ttotal: 984ms\tremaining: 805ms\n",
      "66:\tlearn: 0.5787288\ttotal: 998ms\tremaining: 789ms\n",
      "67:\tlearn: 0.5780036\ttotal: 1.01s\tremaining: 774ms\n",
      "68:\tlearn: 0.5798302\ttotal: 1.02s\tremaining: 758ms\n",
      "69:\tlearn: 0.5821886\ttotal: 1.04s\tremaining: 742ms\n",
      "70:\tlearn: 0.5830658\ttotal: 1.05s\tremaining: 726ms\n",
      "71:\tlearn: 0.5852869\ttotal: 1.07s\tremaining: 711ms\n",
      "72:\tlearn: 0.5859624\ttotal: 1.08s\tremaining: 695ms\n",
      "73:\tlearn: 0.5863141\ttotal: 1.09s\tremaining: 681ms\n",
      "74:\tlearn: 0.5860995\ttotal: 1.11s\tremaining: 667ms\n",
      "75:\tlearn: 0.5861582\ttotal: 1.13s\tremaining: 652ms\n",
      "76:\tlearn: 0.5862169\ttotal: 1.14s\tremaining: 638ms\n",
      "77:\tlearn: 0.5861983\ttotal: 1.16s\tremaining: 624ms\n",
      "78:\tlearn: 0.5828514\ttotal: 1.17s\tremaining: 609ms\n",
      "79:\tlearn: 0.5834380\ttotal: 1.19s\tremaining: 594ms\n",
      "80:\tlearn: 0.5835637\ttotal: 1.2s\tremaining: 580ms\n",
      "81:\tlearn: 0.5837729\ttotal: 1.22s\tremaining: 565ms\n",
      "82:\tlearn: 0.5831414\ttotal: 1.24s\tremaining: 551ms\n",
      "83:\tlearn: 0.5843391\ttotal: 1.25s\tremaining: 536ms\n",
      "84:\tlearn: 0.5821892\ttotal: 1.27s\tremaining: 521ms\n",
      "85:\tlearn: 0.5821892\ttotal: 1.28s\tremaining: 507ms\n",
      "86:\tlearn: 0.5821521\ttotal: 1.29s\tremaining: 491ms\n",
      "87:\tlearn: 0.5825919\ttotal: 1.31s\tremaining: 476ms\n",
      "88:\tlearn: 0.5842537\ttotal: 1.32s\tremaining: 461ms\n",
      "89:\tlearn: 0.5827142\ttotal: 1.34s\tremaining: 446ms\n",
      "90:\tlearn: 0.5840901\ttotal: 1.35s\tremaining: 431ms\n",
      "91:\tlearn: 0.5867077\ttotal: 1.36s\tremaining: 415ms\n",
      "92:\tlearn: 0.5865200\ttotal: 1.38s\tremaining: 400ms\n",
      "93:\tlearn: 0.5855005\ttotal: 1.39s\tremaining: 385ms\n",
      "94:\tlearn: 0.5900145\ttotal: 1.4s\tremaining: 369ms\n",
      "95:\tlearn: 0.5875833\ttotal: 1.42s\tremaining: 354ms\n",
      "96:\tlearn: 0.5873916\ttotal: 1.43s\tremaining: 339ms\n",
      "97:\tlearn: 0.5876125\ttotal: 1.44s\tremaining: 324ms\n",
      "98:\tlearn: 0.5872844\ttotal: 1.46s\tremaining: 309ms\n",
      "99:\tlearn: 0.5891948\ttotal: 1.47s\tremaining: 295ms\n",
      "100:\tlearn: 0.5891364\ttotal: 1.49s\tremaining: 280ms\n",
      "101:\tlearn: 0.5891024\ttotal: 1.5s\tremaining: 265ms\n",
      "102:\tlearn: 0.5891267\ttotal: 1.52s\tremaining: 250ms\n",
      "103:\tlearn: 0.5890978\ttotal: 1.53s\tremaining: 236ms\n",
      "104:\tlearn: 0.5888396\ttotal: 1.54s\tremaining: 221ms\n",
      "105:\tlearn: 0.5894240\ttotal: 1.56s\tremaining: 206ms\n",
      "106:\tlearn: 0.5888893\ttotal: 1.57s\tremaining: 191ms\n",
      "107:\tlearn: 0.5887916\ttotal: 1.59s\tremaining: 176ms\n",
      "108:\tlearn: 0.5893472\ttotal: 1.6s\tremaining: 161ms\n",
      "109:\tlearn: 0.5889341\ttotal: 1.61s\tremaining: 147ms\n",
      "110:\tlearn: 0.5875391\ttotal: 1.63s\tremaining: 132ms\n",
      "111:\tlearn: 0.5863655\ttotal: 1.64s\tremaining: 117ms\n",
      "112:\tlearn: 0.5863064\ttotal: 1.65s\tremaining: 102ms\n",
      "113:\tlearn: 0.5861982\ttotal: 1.67s\tremaining: 87.8ms\n",
      "114:\tlearn: 0.5861737\ttotal: 1.68s\tremaining: 73.1ms\n",
      "115:\tlearn: 0.5872426\ttotal: 1.7s\tremaining: 58.5ms\n",
      "116:\tlearn: 0.5873215\ttotal: 1.71s\tremaining: 43.9ms\n",
      "117:\tlearn: 0.5873016\ttotal: 1.72s\tremaining: 29.2ms\n",
      "118:\tlearn: 0.5872180\ttotal: 1.74s\tremaining: 14.6ms\n",
      "119:\tlearn: 0.5877244\ttotal: 1.75s\tremaining: 0us\n",
      "[CV] END ...........depth=5, iterations=120, learning_rate=1; total time=   3.5s\n",
      "0:\tlearn: 0.3522918\ttotal: 17ms\tremaining: 2.02s\n",
      "1:\tlearn: 0.4986862\ttotal: 33.4ms\tremaining: 1.97s\n",
      "2:\tlearn: 0.4950398\ttotal: 47.3ms\tremaining: 1.84s\n",
      "3:\tlearn: 0.5299762\ttotal: 60.1ms\tremaining: 1.74s\n",
      "4:\tlearn: 0.5520003\ttotal: 72.5ms\tremaining: 1.67s\n",
      "5:\tlearn: 0.5574237\ttotal: 87.5ms\tremaining: 1.66s\n",
      "6:\tlearn: 0.5601207\ttotal: 143ms\tremaining: 2.31s\n",
      "7:\tlearn: 0.5614413\ttotal: 156ms\tremaining: 2.18s\n",
      "8:\tlearn: 0.5615033\ttotal: 163ms\tremaining: 2.01s\n",
      "9:\tlearn: 0.5616137\ttotal: 177ms\tremaining: 1.94s\n",
      "10:\tlearn: 0.5627773\ttotal: 241ms\tremaining: 2.38s\n",
      "11:\tlearn: 0.5571435\ttotal: 253ms\tremaining: 2.28s\n",
      "12:\tlearn: 0.5566533\ttotal: 267ms\tremaining: 2.2s\n",
      "13:\tlearn: 0.5568470\ttotal: 280ms\tremaining: 2.12s\n",
      "14:\tlearn: 0.5581782\ttotal: 292ms\tremaining: 2.05s\n",
      "15:\tlearn: 0.5691886\ttotal: 305ms\tremaining: 1.99s\n",
      "16:\tlearn: 0.5700231\ttotal: 333ms\tremaining: 2.02s\n",
      "17:\tlearn: 0.5700231\ttotal: 347ms\tremaining: 1.97s\n",
      "18:\tlearn: 0.5669597\ttotal: 361ms\tremaining: 1.92s\n",
      "19:\tlearn: 0.5660426\ttotal: 375ms\tremaining: 1.88s\n",
      "20:\tlearn: 0.5662656\ttotal: 423ms\tremaining: 2s\n",
      "21:\tlearn: 0.5672092\ttotal: 438ms\tremaining: 1.95s\n",
      "22:\tlearn: 0.5674314\ttotal: 451ms\tremaining: 1.9s\n",
      "23:\tlearn: 0.5685619\ttotal: 464ms\tremaining: 1.85s\n",
      "24:\tlearn: 0.5664411\ttotal: 478ms\tremaining: 1.81s\n",
      "25:\tlearn: 0.5692492\ttotal: 491ms\tremaining: 1.78s\n",
      "26:\tlearn: 0.5658065\ttotal: 528ms\tremaining: 1.82s\n",
      "27:\tlearn: 0.5655345\ttotal: 542ms\tremaining: 1.78s\n",
      "28:\tlearn: 0.5709762\ttotal: 555ms\tremaining: 1.74s\n",
      "29:\tlearn: 0.5709766\ttotal: 569ms\tremaining: 1.71s\n",
      "30:\tlearn: 0.5712574\ttotal: 583ms\tremaining: 1.67s\n",
      "31:\tlearn: 0.5706089\ttotal: 596ms\tremaining: 1.64s\n",
      "32:\tlearn: 0.5708538\ttotal: 610ms\tremaining: 1.61s\n",
      "33:\tlearn: 0.5717705\ttotal: 624ms\tremaining: 1.58s\n",
      "34:\tlearn: 0.5694194\ttotal: 638ms\tremaining: 1.55s\n",
      "35:\tlearn: 0.5694313\ttotal: 652ms\tremaining: 1.52s\n",
      "36:\tlearn: 0.5695552\ttotal: 665ms\tremaining: 1.49s\n",
      "37:\tlearn: 0.5735269\ttotal: 678ms\tremaining: 1.46s\n",
      "38:\tlearn: 0.5682772\ttotal: 690ms\tremaining: 1.43s\n",
      "39:\tlearn: 0.5684129\ttotal: 703ms\tremaining: 1.41s\n",
      "40:\tlearn: 0.5691372\ttotal: 716ms\tremaining: 1.38s\n",
      "41:\tlearn: 0.5703688\ttotal: 729ms\tremaining: 1.35s\n",
      "42:\tlearn: 0.5722160\ttotal: 743ms\tremaining: 1.33s\n",
      "43:\tlearn: 0.5726804\ttotal: 756ms\tremaining: 1.3s\n",
      "44:\tlearn: 0.5726316\ttotal: 769ms\tremaining: 1.28s\n",
      "45:\tlearn: 0.5718218\ttotal: 783ms\tremaining: 1.26s\n",
      "46:\tlearn: 0.5721164\ttotal: 797ms\tremaining: 1.24s\n",
      "47:\tlearn: 0.5731049\ttotal: 810ms\tremaining: 1.21s\n",
      "48:\tlearn: 0.5733013\ttotal: 822ms\tremaining: 1.19s\n",
      "49:\tlearn: 0.5737417\ttotal: 836ms\tremaining: 1.17s\n",
      "50:\tlearn: 0.5736441\ttotal: 849ms\tremaining: 1.15s\n",
      "51:\tlearn: 0.5791591\ttotal: 863ms\tremaining: 1.13s\n",
      "52:\tlearn: 0.5788827\ttotal: 876ms\tremaining: 1.11s\n",
      "53:\tlearn: 0.5770017\ttotal: 889ms\tremaining: 1.09s\n",
      "54:\tlearn: 0.5766380\ttotal: 903ms\tremaining: 1.07s\n",
      "55:\tlearn: 0.5712305\ttotal: 916ms\tremaining: 1.05s\n",
      "56:\tlearn: 0.5795672\ttotal: 929ms\tremaining: 1.03s\n",
      "57:\tlearn: 0.5794957\ttotal: 942ms\tremaining: 1.01s\n",
      "58:\tlearn: 0.5798691\ttotal: 955ms\tremaining: 988ms\n",
      "59:\tlearn: 0.5824404\ttotal: 969ms\tremaining: 969ms\n",
      "60:\tlearn: 0.5804695\ttotal: 982ms\tremaining: 949ms\n",
      "61:\tlearn: 0.5809220\ttotal: 996ms\tremaining: 932ms\n",
      "62:\tlearn: 0.5830189\ttotal: 1.01s\tremaining: 912ms\n",
      "63:\tlearn: 0.5819031\ttotal: 1.02s\tremaining: 894ms\n",
      "64:\tlearn: 0.5825309\ttotal: 1.03s\tremaining: 875ms\n",
      "65:\tlearn: 0.5822151\ttotal: 1.05s\tremaining: 857ms\n",
      "66:\tlearn: 0.5838099\ttotal: 1.06s\tremaining: 839ms\n",
      "67:\tlearn: 0.5836157\ttotal: 1.07s\tremaining: 821ms\n",
      "68:\tlearn: 0.5885848\ttotal: 1.09s\tremaining: 803ms\n",
      "69:\tlearn: 0.5852649\ttotal: 1.1s\tremaining: 789ms\n",
      "70:\tlearn: 0.5862592\ttotal: 1.12s\tremaining: 774ms\n",
      "71:\tlearn: 0.5871513\ttotal: 1.14s\tremaining: 758ms\n",
      "72:\tlearn: 0.5871513\ttotal: 1.15s\tremaining: 743ms\n",
      "73:\tlearn: 0.5870672\ttotal: 1.17s\tremaining: 728ms\n",
      "74:\tlearn: 0.5874679\ttotal: 1.19s\tremaining: 714ms\n",
      "75:\tlearn: 0.5868384\ttotal: 1.21s\tremaining: 699ms\n",
      "76:\tlearn: 0.5868384\ttotal: 1.22s\tremaining: 683ms\n",
      "77:\tlearn: 0.5866352\ttotal: 1.24s\tremaining: 667ms\n",
      "78:\tlearn: 0.5869593\ttotal: 1.25s\tremaining: 651ms\n",
      "79:\tlearn: 0.5881465\ttotal: 1.27s\tremaining: 635ms\n",
      "80:\tlearn: 0.5878846\ttotal: 1.29s\tremaining: 621ms\n",
      "81:\tlearn: 0.5878401\ttotal: 1.31s\tremaining: 606ms\n",
      "82:\tlearn: 0.5889215\ttotal: 1.32s\tremaining: 590ms\n",
      "83:\tlearn: 0.5886209\ttotal: 1.34s\tremaining: 575ms\n",
      "84:\tlearn: 0.5886358\ttotal: 1.36s\tremaining: 559ms\n",
      "85:\tlearn: 0.5886358\ttotal: 1.37s\tremaining: 544ms\n",
      "86:\tlearn: 0.5904059\ttotal: 1.39s\tremaining: 527ms\n",
      "87:\tlearn: 0.5894190\ttotal: 1.4s\tremaining: 510ms\n",
      "88:\tlearn: 0.5894781\ttotal: 1.42s\tremaining: 493ms\n",
      "89:\tlearn: 0.5893201\ttotal: 1.43s\tremaining: 476ms\n",
      "90:\tlearn: 0.5900621\ttotal: 1.44s\tremaining: 460ms\n",
      "91:\tlearn: 0.5903195\ttotal: 1.46s\tremaining: 444ms\n",
      "92:\tlearn: 0.5909034\ttotal: 1.47s\tremaining: 428ms\n",
      "93:\tlearn: 0.5913262\ttotal: 1.49s\tremaining: 412ms\n",
      "94:\tlearn: 0.5904378\ttotal: 1.5s\tremaining: 396ms\n",
      "95:\tlearn: 0.5910731\ttotal: 1.52s\tremaining: 380ms\n",
      "96:\tlearn: 0.5905922\ttotal: 1.53s\tremaining: 363ms\n",
      "97:\tlearn: 0.5907180\ttotal: 1.55s\tremaining: 347ms\n",
      "98:\tlearn: 0.5901653\ttotal: 1.56s\tremaining: 331ms\n",
      "99:\tlearn: 0.5897652\ttotal: 1.57s\tremaining: 315ms\n",
      "100:\tlearn: 0.5896465\ttotal: 1.59s\tremaining: 299ms\n",
      "101:\tlearn: 0.5895083\ttotal: 1.6s\tremaining: 283ms\n",
      "102:\tlearn: 0.5932253\ttotal: 1.62s\tremaining: 267ms\n",
      "103:\tlearn: 0.5932926\ttotal: 1.63s\tremaining: 251ms\n",
      "104:\tlearn: 0.5920771\ttotal: 1.64s\tremaining: 235ms\n",
      "105:\tlearn: 0.5920771\ttotal: 1.66s\tremaining: 219ms\n",
      "106:\tlearn: 0.5932550\ttotal: 1.67s\tremaining: 203ms\n",
      "107:\tlearn: 0.5920396\ttotal: 1.68s\tremaining: 187ms\n",
      "108:\tlearn: 0.5920986\ttotal: 1.7s\tremaining: 171ms\n",
      "109:\tlearn: 0.5923038\ttotal: 1.71s\tremaining: 156ms\n",
      "110:\tlearn: 0.5922696\ttotal: 1.73s\tremaining: 140ms\n",
      "111:\tlearn: 0.5921610\ttotal: 1.74s\tremaining: 124ms\n",
      "112:\tlearn: 0.5922293\ttotal: 1.75s\tremaining: 109ms\n",
      "113:\tlearn: 0.5915339\ttotal: 1.76s\tremaining: 92.9ms\n",
      "114:\tlearn: 0.5917477\ttotal: 1.78s\tremaining: 77.4ms\n",
      "115:\tlearn: 0.5921882\ttotal: 1.79s\tremaining: 61.8ms\n",
      "116:\tlearn: 0.5956241\ttotal: 1.81s\tremaining: 46.3ms\n",
      "117:\tlearn: 0.5954243\ttotal: 1.82s\tremaining: 30.9ms\n",
      "118:\tlearn: 0.5956473\ttotal: 1.83s\tremaining: 15.4ms\n",
      "119:\tlearn: 0.5956721\ttotal: 1.85s\tremaining: 0us\n",
      "[CV] END ...........depth=5, iterations=120, learning_rate=1; total time=   3.1s\n",
      "0:\tlearn: 0.3606538\ttotal: 26.7ms\tremaining: 3.17s\n",
      "1:\tlearn: 0.5307785\ttotal: 44.6ms\tremaining: 2.63s\n",
      "2:\tlearn: 0.5128109\ttotal: 56.3ms\tremaining: 2.19s\n",
      "3:\tlearn: 0.6091807\ttotal: 71.3ms\tremaining: 2.07s\n",
      "4:\tlearn: 0.5934351\ttotal: 83.8ms\tremaining: 1.93s\n",
      "5:\tlearn: 0.5928991\ttotal: 98.8ms\tremaining: 1.88s\n",
      "6:\tlearn: 0.5929284\ttotal: 109ms\tremaining: 1.75s\n",
      "7:\tlearn: 0.5788280\ttotal: 120ms\tremaining: 1.69s\n",
      "8:\tlearn: 0.5821979\ttotal: 134ms\tremaining: 1.65s\n",
      "9:\tlearn: 0.5820451\ttotal: 148ms\tremaining: 1.63s\n",
      "10:\tlearn: 0.5932136\ttotal: 161ms\tremaining: 1.59s\n",
      "11:\tlearn: 0.5782132\ttotal: 174ms\tremaining: 1.56s\n",
      "12:\tlearn: 0.5866077\ttotal: 187ms\tremaining: 1.54s\n",
      "13:\tlearn: 0.5745977\ttotal: 201ms\tremaining: 1.52s\n",
      "14:\tlearn: 0.5810306\ttotal: 215ms\tremaining: 1.51s\n",
      "15:\tlearn: 0.5783838\ttotal: 229ms\tremaining: 1.49s\n",
      "16:\tlearn: 0.5834850\ttotal: 243ms\tremaining: 1.47s\n",
      "17:\tlearn: 0.5837400\ttotal: 257ms\tremaining: 1.46s\n",
      "18:\tlearn: 0.5860706\ttotal: 270ms\tremaining: 1.44s\n",
      "19:\tlearn: 0.5888939\ttotal: 284ms\tremaining: 1.42s\n",
      "20:\tlearn: 0.5896473\ttotal: 299ms\tremaining: 1.41s\n",
      "21:\tlearn: 0.5920551\ttotal: 313ms\tremaining: 1.39s\n",
      "22:\tlearn: 0.5921271\ttotal: 326ms\tremaining: 1.37s\n",
      "23:\tlearn: 0.5893724\ttotal: 340ms\tremaining: 1.36s\n",
      "24:\tlearn: 0.5893141\ttotal: 354ms\tremaining: 1.35s\n",
      "25:\tlearn: 0.5850486\ttotal: 368ms\tremaining: 1.33s\n",
      "26:\tlearn: 0.5919772\ttotal: 382ms\tremaining: 1.31s\n",
      "27:\tlearn: 0.5921888\ttotal: 396ms\tremaining: 1.3s\n",
      "28:\tlearn: 0.5859709\ttotal: 409ms\tremaining: 1.28s\n",
      "29:\tlearn: 0.5859693\ttotal: 423ms\tremaining: 1.27s\n",
      "30:\tlearn: 0.5860839\ttotal: 435ms\tremaining: 1.25s\n",
      "31:\tlearn: 0.5862355\ttotal: 449ms\tremaining: 1.23s\n",
      "32:\tlearn: 0.5861869\ttotal: 463ms\tremaining: 1.22s\n",
      "33:\tlearn: 0.5859550\ttotal: 482ms\tremaining: 1.22s\n",
      "34:\tlearn: 0.5887561\ttotal: 505ms\tremaining: 1.23s\n",
      "35:\tlearn: 0.5883910\ttotal: 521ms\tremaining: 1.21s\n",
      "36:\tlearn: 0.5887985\ttotal: 533ms\tremaining: 1.2s\n",
      "37:\tlearn: 0.5905045\ttotal: 547ms\tremaining: 1.18s\n",
      "38:\tlearn: 0.5896875\ttotal: 560ms\tremaining: 1.16s\n",
      "39:\tlearn: 0.5890518\ttotal: 574ms\tremaining: 1.15s\n",
      "40:\tlearn: 0.5900519\ttotal: 586ms\tremaining: 1.13s\n",
      "41:\tlearn: 0.5897774\ttotal: 600ms\tremaining: 1.11s\n",
      "42:\tlearn: 0.5898112\ttotal: 614ms\tremaining: 1.1s\n",
      "43:\tlearn: 0.5898112\ttotal: 630ms\tremaining: 1.09s\n",
      "44:\tlearn: 0.5932932\ttotal: 644ms\tremaining: 1.07s\n",
      "45:\tlearn: 0.5930118\ttotal: 657ms\tremaining: 1.06s\n",
      "46:\tlearn: 0.5929175\ttotal: 671ms\tremaining: 1.04s\n",
      "47:\tlearn: 0.5928841\ttotal: 686ms\tremaining: 1.03s\n",
      "48:\tlearn: 0.5977310\ttotal: 700ms\tremaining: 1.01s\n",
      "49:\tlearn: 0.5976173\ttotal: 714ms\tremaining: 999ms\n",
      "50:\tlearn: 0.5979014\ttotal: 727ms\tremaining: 984ms\n",
      "51:\tlearn: 0.5912379\ttotal: 740ms\tremaining: 968ms\n",
      "52:\tlearn: 0.5912379\ttotal: 754ms\tremaining: 953ms\n",
      "53:\tlearn: 0.5925926\ttotal: 768ms\tremaining: 938ms\n",
      "54:\tlearn: 0.5926078\ttotal: 781ms\tremaining: 923ms\n",
      "55:\tlearn: 0.5890933\ttotal: 795ms\tremaining: 909ms\n",
      "56:\tlearn: 0.5927083\ttotal: 808ms\tremaining: 893ms\n",
      "57:\tlearn: 0.5924007\ttotal: 822ms\tremaining: 879ms\n",
      "58:\tlearn: 0.5914054\ttotal: 835ms\tremaining: 864ms\n",
      "59:\tlearn: 0.5936910\ttotal: 849ms\tremaining: 849ms\n",
      "60:\tlearn: 0.5949331\ttotal: 862ms\tremaining: 834ms\n",
      "61:\tlearn: 0.5958177\ttotal: 875ms\tremaining: 819ms\n",
      "62:\tlearn: 0.5973920\ttotal: 889ms\tremaining: 805ms\n",
      "63:\tlearn: 0.5950717\ttotal: 903ms\tremaining: 790ms\n",
      "64:\tlearn: 0.5951523\ttotal: 918ms\tremaining: 777ms\n",
      "65:\tlearn: 0.5958801\ttotal: 933ms\tremaining: 763ms\n",
      "66:\tlearn: 0.5970913\ttotal: 946ms\tremaining: 749ms\n",
      "67:\tlearn: 0.5974996\ttotal: 959ms\tremaining: 734ms\n",
      "68:\tlearn: 0.5974595\ttotal: 973ms\tremaining: 719ms\n",
      "69:\tlearn: 0.5970405\ttotal: 990ms\tremaining: 707ms\n",
      "70:\tlearn: 0.5970320\ttotal: 1.01s\tremaining: 695ms\n",
      "71:\tlearn: 0.5970892\ttotal: 1.02s\tremaining: 681ms\n",
      "72:\tlearn: 0.5968458\ttotal: 1.03s\tremaining: 667ms\n",
      "73:\tlearn: 0.5970599\ttotal: 1.05s\tremaining: 652ms\n",
      "74:\tlearn: 0.5972449\ttotal: 1.06s\tremaining: 638ms\n",
      "75:\tlearn: 0.5973592\ttotal: 1.08s\tremaining: 624ms\n",
      "76:\tlearn: 0.5970721\ttotal: 1.09s\tremaining: 609ms\n",
      "77:\tlearn: 0.5979683\ttotal: 1.11s\tremaining: 596ms\n",
      "78:\tlearn: 0.5980822\ttotal: 1.12s\tremaining: 582ms\n",
      "79:\tlearn: 0.5980898\ttotal: 1.14s\tremaining: 568ms\n",
      "80:\tlearn: 0.5982774\ttotal: 1.15s\tremaining: 554ms\n",
      "81:\tlearn: 0.5980762\ttotal: 1.16s\tremaining: 539ms\n",
      "82:\tlearn: 0.5978812\ttotal: 1.18s\tremaining: 525ms\n",
      "83:\tlearn: 0.5970186\ttotal: 1.19s\tremaining: 511ms\n",
      "84:\tlearn: 0.5969943\ttotal: 1.21s\tremaining: 496ms\n",
      "85:\tlearn: 0.5971264\ttotal: 1.22s\tremaining: 482ms\n",
      "86:\tlearn: 0.5969442\ttotal: 1.23s\tremaining: 467ms\n",
      "87:\tlearn: 0.5977284\ttotal: 1.25s\tremaining: 453ms\n",
      "88:\tlearn: 0.5983011\ttotal: 1.26s\tremaining: 439ms\n",
      "89:\tlearn: 0.5968659\ttotal: 1.27s\tremaining: 424ms\n",
      "90:\tlearn: 0.5968659\ttotal: 1.29s\tremaining: 410ms\n",
      "91:\tlearn: 0.5976570\ttotal: 1.3s\tremaining: 396ms\n",
      "92:\tlearn: 0.5976327\ttotal: 1.31s\tremaining: 382ms\n",
      "93:\tlearn: 0.5971967\ttotal: 1.33s\tremaining: 368ms\n",
      "94:\tlearn: 0.5946722\ttotal: 1.34s\tremaining: 353ms\n",
      "95:\tlearn: 0.5953854\ttotal: 1.36s\tremaining: 339ms\n",
      "96:\tlearn: 0.5953191\ttotal: 1.37s\tremaining: 325ms\n",
      "97:\tlearn: 0.5952615\ttotal: 1.38s\tremaining: 311ms\n",
      "98:\tlearn: 0.5952283\ttotal: 1.4s\tremaining: 297ms\n",
      "99:\tlearn: 0.5949979\ttotal: 1.41s\tremaining: 282ms\n",
      "100:\tlearn: 0.5951707\ttotal: 1.43s\tremaining: 268ms\n",
      "101:\tlearn: 0.5952283\ttotal: 1.44s\tremaining: 254ms\n",
      "102:\tlearn: 0.5939464\ttotal: 1.45s\tremaining: 240ms\n",
      "103:\tlearn: 0.5956033\ttotal: 1.47s\tremaining: 226ms\n",
      "104:\tlearn: 0.6003813\ttotal: 1.48s\tremaining: 212ms\n",
      "105:\tlearn: 0.5955716\ttotal: 1.5s\tremaining: 198ms\n",
      "106:\tlearn: 0.5956206\ttotal: 1.51s\tremaining: 183ms\n",
      "107:\tlearn: 0.6005852\ttotal: 1.52s\tremaining: 169ms\n",
      "108:\tlearn: 0.6003983\ttotal: 1.54s\tremaining: 155ms\n",
      "109:\tlearn: 0.6004221\ttotal: 1.55s\tremaining: 141ms\n",
      "110:\tlearn: 0.5954023\ttotal: 1.56s\tremaining: 127ms\n",
      "111:\tlearn: 0.5963559\ttotal: 1.58s\tremaining: 113ms\n",
      "112:\tlearn: 0.6018203\ttotal: 1.59s\tremaining: 98.5ms\n",
      "113:\tlearn: 0.6019828\ttotal: 1.6s\tremaining: 84.4ms\n",
      "114:\tlearn: 0.6031397\ttotal: 1.62s\tremaining: 70.3ms\n",
      "115:\tlearn: 0.6031630\ttotal: 1.63s\tremaining: 56.2ms\n",
      "116:\tlearn: 0.6030547\ttotal: 1.64s\tremaining: 42.2ms\n",
      "117:\tlearn: 0.6030624\ttotal: 1.66s\tremaining: 28.1ms\n",
      "118:\tlearn: 0.6027921\ttotal: 1.67s\tremaining: 14.1ms\n",
      "119:\tlearn: 0.6028412\ttotal: 1.69s\tremaining: 0us\n",
      "[CV] END ...........depth=5, iterations=120, learning_rate=1; total time=   2.7s\n",
      "0:\tlearn: 0.3444211\ttotal: 12.2ms\tremaining: 1.46s\n",
      "1:\tlearn: 0.5398831\ttotal: 29.5ms\tremaining: 1.74s\n",
      "2:\tlearn: 0.5206679\ttotal: 46.6ms\tremaining: 1.81s\n",
      "3:\tlearn: 0.5703112\ttotal: 60.1ms\tremaining: 1.74s\n",
      "4:\tlearn: 0.5647429\ttotal: 69.8ms\tremaining: 1.6s\n",
      "5:\tlearn: 0.5648038\ttotal: 84.3ms\tremaining: 1.6s\n",
      "6:\tlearn: 0.5667992\ttotal: 98.5ms\tremaining: 1.59s\n",
      "7:\tlearn: 0.5662375\ttotal: 113ms\tremaining: 1.57s\n",
      "8:\tlearn: 0.5667979\ttotal: 126ms\tremaining: 1.56s\n",
      "9:\tlearn: 0.5681617\ttotal: 140ms\tremaining: 1.54s\n",
      "10:\tlearn: 0.5681617\ttotal: 148ms\tremaining: 1.47s\n",
      "11:\tlearn: 0.5677730\ttotal: 162ms\tremaining: 1.46s\n",
      "12:\tlearn: 0.5534525\ttotal: 176ms\tremaining: 1.45s\n",
      "13:\tlearn: 0.5536317\ttotal: 190ms\tremaining: 1.44s\n",
      "14:\tlearn: 0.5536168\ttotal: 204ms\tremaining: 1.43s\n",
      "15:\tlearn: 0.5696064\ttotal: 217ms\tremaining: 1.41s\n",
      "16:\tlearn: 0.5696422\ttotal: 230ms\tremaining: 1.4s\n",
      "17:\tlearn: 0.5594788\ttotal: 254ms\tremaining: 1.44s\n",
      "18:\tlearn: 0.5725609\ttotal: 274ms\tremaining: 1.45s\n",
      "19:\tlearn: 0.5729939\ttotal: 289ms\tremaining: 1.45s\n",
      "20:\tlearn: 0.5763464\ttotal: 303ms\tremaining: 1.43s\n",
      "21:\tlearn: 0.5750683\ttotal: 317ms\tremaining: 1.41s\n",
      "22:\tlearn: 0.5749968\ttotal: 331ms\tremaining: 1.39s\n",
      "23:\tlearn: 0.5749737\ttotal: 344ms\tremaining: 1.38s\n",
      "24:\tlearn: 0.5744493\ttotal: 358ms\tremaining: 1.36s\n",
      "25:\tlearn: 0.5762313\ttotal: 372ms\tremaining: 1.34s\n",
      "26:\tlearn: 0.5769958\ttotal: 385ms\tremaining: 1.32s\n",
      "27:\tlearn: 0.5743469\ttotal: 398ms\tremaining: 1.31s\n",
      "28:\tlearn: 0.5743953\ttotal: 412ms\tremaining: 1.29s\n",
      "29:\tlearn: 0.5743953\ttotal: 426ms\tremaining: 1.28s\n",
      "30:\tlearn: 0.5749135\ttotal: 441ms\tremaining: 1.27s\n",
      "31:\tlearn: 0.5750338\ttotal: 456ms\tremaining: 1.25s\n",
      "32:\tlearn: 0.5731163\ttotal: 475ms\tremaining: 1.25s\n",
      "33:\tlearn: 0.5755590\ttotal: 490ms\tremaining: 1.24s\n",
      "34:\tlearn: 0.5755590\ttotal: 506ms\tremaining: 1.23s\n",
      "35:\tlearn: 0.5752149\ttotal: 520ms\tremaining: 1.21s\n",
      "36:\tlearn: 0.5752044\ttotal: 535ms\tremaining: 1.2s\n",
      "37:\tlearn: 0.5731536\ttotal: 549ms\tremaining: 1.19s\n",
      "38:\tlearn: 0.5732880\ttotal: 564ms\tremaining: 1.17s\n",
      "39:\tlearn: 0.5752171\ttotal: 577ms\tremaining: 1.15s\n",
      "40:\tlearn: 0.5739404\ttotal: 591ms\tremaining: 1.14s\n",
      "41:\tlearn: 0.5742415\ttotal: 605ms\tremaining: 1.12s\n",
      "42:\tlearn: 0.5744952\ttotal: 618ms\tremaining: 1.11s\n",
      "43:\tlearn: 0.5771455\ttotal: 632ms\tremaining: 1.09s\n",
      "44:\tlearn: 0.5750286\ttotal: 644ms\tremaining: 1.07s\n",
      "45:\tlearn: 0.5760353\ttotal: 657ms\tremaining: 1.06s\n",
      "46:\tlearn: 0.5790340\ttotal: 672ms\tremaining: 1.04s\n",
      "47:\tlearn: 0.5797590\ttotal: 686ms\tremaining: 1.03s\n",
      "48:\tlearn: 0.5839392\ttotal: 699ms\tremaining: 1.01s\n",
      "49:\tlearn: 0.5830750\ttotal: 713ms\tremaining: 998ms\n",
      "50:\tlearn: 0.5842292\ttotal: 726ms\tremaining: 982ms\n",
      "51:\tlearn: 0.5842885\ttotal: 740ms\tremaining: 968ms\n",
      "52:\tlearn: 0.5846951\ttotal: 754ms\tremaining: 953ms\n",
      "53:\tlearn: 0.5847054\ttotal: 767ms\tremaining: 938ms\n",
      "54:\tlearn: 0.5850391\ttotal: 781ms\tremaining: 923ms\n",
      "55:\tlearn: 0.5892168\ttotal: 798ms\tremaining: 911ms\n",
      "56:\tlearn: 0.5887680\ttotal: 812ms\tremaining: 897ms\n",
      "57:\tlearn: 0.5885384\ttotal: 825ms\tremaining: 882ms\n",
      "58:\tlearn: 0.5872539\ttotal: 838ms\tremaining: 866ms\n",
      "59:\tlearn: 0.5874651\ttotal: 852ms\tremaining: 852ms\n",
      "60:\tlearn: 0.5875683\ttotal: 865ms\tremaining: 837ms\n",
      "61:\tlearn: 0.5876224\ttotal: 878ms\tremaining: 822ms\n",
      "62:\tlearn: 0.5862703\ttotal: 892ms\tremaining: 807ms\n",
      "63:\tlearn: 0.5859649\ttotal: 906ms\tremaining: 792ms\n",
      "64:\tlearn: 0.5859447\ttotal: 919ms\tremaining: 778ms\n",
      "65:\tlearn: 0.5859590\ttotal: 933ms\tremaining: 763ms\n",
      "66:\tlearn: 0.5851554\ttotal: 946ms\tremaining: 749ms\n",
      "67:\tlearn: 0.5854966\ttotal: 960ms\tremaining: 734ms\n",
      "68:\tlearn: 0.5854883\ttotal: 973ms\tremaining: 719ms\n",
      "69:\tlearn: 0.5854148\ttotal: 987ms\tremaining: 705ms\n",
      "70:\tlearn: 0.5854740\ttotal: 1s\tremaining: 691ms\n",
      "71:\tlearn: 0.5859777\ttotal: 1.01s\tremaining: 676ms\n",
      "72:\tlearn: 0.5861161\ttotal: 1.03s\tremaining: 662ms\n",
      "73:\tlearn: 0.5861406\ttotal: 1.04s\tremaining: 647ms\n",
      "74:\tlearn: 0.5858603\ttotal: 1.05s\tremaining: 633ms\n",
      "75:\tlearn: 0.5859516\ttotal: 1.07s\tremaining: 618ms\n",
      "76:\tlearn: 0.5857681\ttotal: 1.08s\tremaining: 604ms\n",
      "77:\tlearn: 0.5858171\ttotal: 1.09s\tremaining: 590ms\n",
      "78:\tlearn: 0.5857579\ttotal: 1.11s\tremaining: 576ms\n",
      "79:\tlearn: 0.5852923\ttotal: 1.12s\tremaining: 561ms\n",
      "80:\tlearn: 0.5854047\ttotal: 1.14s\tremaining: 547ms\n",
      "81:\tlearn: 0.5853188\ttotal: 1.15s\tremaining: 533ms\n",
      "82:\tlearn: 0.5877971\ttotal: 1.16s\tremaining: 518ms\n",
      "83:\tlearn: 0.5877920\ttotal: 1.18s\tremaining: 504ms\n",
      "84:\tlearn: 0.5871160\ttotal: 1.19s\tremaining: 490ms\n",
      "85:\tlearn: 0.5872290\ttotal: 1.2s\tremaining: 475ms\n",
      "86:\tlearn: 0.5868927\ttotal: 1.22s\tremaining: 461ms\n",
      "87:\tlearn: 0.5873189\ttotal: 1.23s\tremaining: 447ms\n",
      "88:\tlearn: 0.5872790\ttotal: 1.24s\tremaining: 433ms\n",
      "89:\tlearn: 0.5879595\ttotal: 1.26s\tremaining: 419ms\n",
      "90:\tlearn: 0.5877575\ttotal: 1.27s\tremaining: 405ms\n",
      "91:\tlearn: 0.5894869\ttotal: 1.28s\tremaining: 390ms\n",
      "92:\tlearn: 0.5894763\ttotal: 1.3s\tremaining: 376ms\n",
      "93:\tlearn: 0.5891822\ttotal: 1.31s\tremaining: 362ms\n",
      "94:\tlearn: 0.5897105\ttotal: 1.32s\tremaining: 348ms\n",
      "95:\tlearn: 0.5908959\ttotal: 1.34s\tremaining: 334ms\n",
      "96:\tlearn: 0.5894886\ttotal: 1.35s\tremaining: 320ms\n",
      "97:\tlearn: 0.5907792\ttotal: 1.36s\tremaining: 306ms\n",
      "98:\tlearn: 0.5912382\ttotal: 1.38s\tremaining: 292ms\n",
      "99:\tlearn: 0.5950203\ttotal: 1.39s\tremaining: 278ms\n",
      "100:\tlearn: 0.5949050\ttotal: 1.4s\tremaining: 264ms\n",
      "101:\tlearn: 0.5930448\ttotal: 1.42s\tremaining: 250ms\n",
      "102:\tlearn: 0.5949850\ttotal: 1.43s\tremaining: 236ms\n",
      "103:\tlearn: 0.5946968\ttotal: 1.45s\tremaining: 222ms\n",
      "104:\tlearn: 0.5967530\ttotal: 1.46s\tremaining: 208ms\n",
      "105:\tlearn: 0.5974760\ttotal: 1.47s\tremaining: 194ms\n",
      "106:\tlearn: 0.5981194\ttotal: 1.49s\tremaining: 180ms\n",
      "107:\tlearn: 0.5986367\ttotal: 1.5s\tremaining: 167ms\n",
      "108:\tlearn: 0.5985306\ttotal: 1.51s\tremaining: 153ms\n",
      "109:\tlearn: 0.5977923\ttotal: 1.53s\tremaining: 139ms\n",
      "110:\tlearn: 0.5986367\ttotal: 1.54s\tremaining: 125ms\n",
      "111:\tlearn: 0.5984078\ttotal: 1.55s\tremaining: 111ms\n",
      "112:\tlearn: 0.5963789\ttotal: 1.57s\tremaining: 97ms\n",
      "113:\tlearn: 0.5953067\ttotal: 1.58s\tremaining: 83.1ms\n",
      "114:\tlearn: 0.5947906\ttotal: 1.59s\tremaining: 69.2ms\n",
      "115:\tlearn: 0.5947661\ttotal: 1.61s\tremaining: 55.4ms\n",
      "116:\tlearn: 0.5955625\ttotal: 1.62s\tremaining: 41.6ms\n",
      "117:\tlearn: 0.5952361\ttotal: 1.64s\tremaining: 27.7ms\n",
      "118:\tlearn: 0.5957867\ttotal: 1.65s\tremaining: 13.9ms\n",
      "119:\tlearn: 0.5957289\ttotal: 1.66s\tremaining: 0us\n",
      "[CV] END ...........depth=5, iterations=120, learning_rate=1; total time=   2.8s\n",
      "0:\tlearn: 0.3432017\ttotal: 16.6ms\tremaining: 1.65s\n",
      "1:\tlearn: 0.3432017\ttotal: 31.8ms\tremaining: 1.56s\n",
      "2:\tlearn: 0.3432017\ttotal: 44.7ms\tremaining: 1.44s\n",
      "3:\tlearn: 0.3436596\ttotal: 58.1ms\tremaining: 1.39s\n",
      "4:\tlearn: 0.3436596\ttotal: 71.4ms\tremaining: 1.36s\n",
      "5:\tlearn: 0.3436596\ttotal: 80.4ms\tremaining: 1.26s\n",
      "6:\tlearn: 0.3436596\ttotal: 92.9ms\tremaining: 1.23s\n",
      "7:\tlearn: 0.3436596\ttotal: 106ms\tremaining: 1.21s\n",
      "8:\tlearn: 0.3436596\ttotal: 118ms\tremaining: 1.2s\n",
      "9:\tlearn: 0.3439138\ttotal: 131ms\tremaining: 1.18s\n",
      "10:\tlearn: 0.3436389\ttotal: 144ms\tremaining: 1.17s\n",
      "11:\tlearn: 0.3436596\ttotal: 157ms\tremaining: 1.15s\n",
      "12:\tlearn: 0.3436596\ttotal: 167ms\tremaining: 1.12s\n",
      "13:\tlearn: 0.3436596\ttotal: 176ms\tremaining: 1.08s\n",
      "14:\tlearn: 0.3439590\ttotal: 189ms\tremaining: 1.07s\n",
      "15:\tlearn: 0.3436596\ttotal: 202ms\tremaining: 1.06s\n",
      "16:\tlearn: 0.3436596\ttotal: 215ms\tremaining: 1.05s\n",
      "17:\tlearn: 0.3436596\ttotal: 224ms\tremaining: 1.02s\n",
      "18:\tlearn: 0.3436596\ttotal: 233ms\tremaining: 994ms\n",
      "19:\tlearn: 0.3436596\ttotal: 246ms\tremaining: 983ms\n",
      "20:\tlearn: 0.3436596\ttotal: 255ms\tremaining: 958ms\n",
      "21:\tlearn: 0.3436596\ttotal: 267ms\tremaining: 947ms\n",
      "22:\tlearn: 0.3436596\ttotal: 280ms\tremaining: 938ms\n",
      "23:\tlearn: 0.3436596\ttotal: 294ms\tremaining: 930ms\n",
      "24:\tlearn: 0.3436596\ttotal: 307ms\tremaining: 920ms\n",
      "25:\tlearn: 0.3436596\ttotal: 319ms\tremaining: 909ms\n",
      "26:\tlearn: 0.3437180\ttotal: 332ms\tremaining: 898ms\n",
      "27:\tlearn: 0.3438140\ttotal: 345ms\tremaining: 886ms\n",
      "28:\tlearn: 0.3438140\ttotal: 358ms\tremaining: 876ms\n",
      "29:\tlearn: 0.3437142\ttotal: 370ms\tremaining: 864ms\n",
      "30:\tlearn: 0.3436766\ttotal: 383ms\tremaining: 853ms\n",
      "31:\tlearn: 0.3436559\ttotal: 396ms\tremaining: 842ms\n",
      "32:\tlearn: 0.3436766\ttotal: 405ms\tremaining: 823ms\n",
      "33:\tlearn: 0.3437594\ttotal: 418ms\tremaining: 812ms\n",
      "34:\tlearn: 0.3437594\ttotal: 429ms\tremaining: 798ms\n",
      "35:\tlearn: 0.3437594\ttotal: 442ms\tremaining: 785ms\n",
      "36:\tlearn: 0.3435598\ttotal: 451ms\tremaining: 768ms\n",
      "37:\tlearn: 0.3435598\ttotal: 464ms\tremaining: 756ms\n",
      "38:\tlearn: 0.3435598\ttotal: 475ms\tremaining: 742ms\n",
      "39:\tlearn: 0.3435598\ttotal: 484ms\tremaining: 726ms\n",
      "40:\tlearn: 0.3435391\ttotal: 497ms\tremaining: 716ms\n",
      "41:\tlearn: 0.3435391\ttotal: 510ms\tremaining: 704ms\n",
      "42:\tlearn: 0.3435391\ttotal: 523ms\tremaining: 694ms\n",
      "43:\tlearn: 0.3435598\ttotal: 537ms\tremaining: 684ms\n",
      "44:\tlearn: 0.3435598\ttotal: 550ms\tremaining: 673ms\n",
      "45:\tlearn: 0.3435598\ttotal: 563ms\tremaining: 661ms\n",
      "46:\tlearn: 0.3435598\ttotal: 575ms\tremaining: 649ms\n",
      "47:\tlearn: 0.3435598\ttotal: 584ms\tremaining: 633ms\n",
      "48:\tlearn: 0.3435598\ttotal: 598ms\tremaining: 622ms\n",
      "49:\tlearn: 0.3436596\ttotal: 609ms\tremaining: 609ms\n",
      "50:\tlearn: 0.3436596\ttotal: 622ms\tremaining: 597ms\n",
      "51:\tlearn: 0.3436389\ttotal: 636ms\tremaining: 587ms\n",
      "52:\tlearn: 0.3436389\ttotal: 650ms\tremaining: 576ms\n",
      "53:\tlearn: 0.3436389\ttotal: 664ms\tremaining: 566ms\n",
      "54:\tlearn: 0.3435391\ttotal: 678ms\tremaining: 555ms\n",
      "55:\tlearn: 0.3436389\ttotal: 691ms\tremaining: 543ms\n",
      "56:\tlearn: 0.3436389\ttotal: 706ms\tremaining: 532ms\n",
      "57:\tlearn: 0.3435391\ttotal: 715ms\tremaining: 518ms\n",
      "58:\tlearn: 0.3435391\ttotal: 728ms\tremaining: 506ms\n",
      "59:\tlearn: 0.3435391\ttotal: 740ms\tremaining: 493ms\n",
      "60:\tlearn: 0.3435391\ttotal: 753ms\tremaining: 481ms\n",
      "61:\tlearn: 0.3437387\ttotal: 766ms\tremaining: 469ms\n",
      "62:\tlearn: 0.3436389\ttotal: 778ms\tremaining: 457ms\n",
      "63:\tlearn: 0.3436389\ttotal: 791ms\tremaining: 445ms\n",
      "64:\tlearn: 0.3436389\ttotal: 803ms\tremaining: 432ms\n",
      "65:\tlearn: 0.3436389\ttotal: 816ms\tremaining: 420ms\n",
      "66:\tlearn: 0.3436389\ttotal: 828ms\tremaining: 408ms\n",
      "67:\tlearn: 0.3436389\ttotal: 835ms\tremaining: 393ms\n",
      "68:\tlearn: 0.3436389\ttotal: 848ms\tremaining: 381ms\n",
      "69:\tlearn: 0.3436389\ttotal: 860ms\tremaining: 369ms\n",
      "70:\tlearn: 0.3435391\ttotal: 867ms\tremaining: 354ms\n",
      "71:\tlearn: 0.3435391\ttotal: 877ms\tremaining: 341ms\n",
      "72:\tlearn: 0.3435391\ttotal: 886ms\tremaining: 328ms\n",
      "73:\tlearn: 0.3435391\ttotal: 899ms\tremaining: 316ms\n",
      "74:\tlearn: 0.3435391\ttotal: 912ms\tremaining: 304ms\n",
      "75:\tlearn: 0.3435391\ttotal: 921ms\tremaining: 291ms\n",
      "76:\tlearn: 0.3435391\ttotal: 933ms\tremaining: 279ms\n",
      "77:\tlearn: 0.3435391\ttotal: 943ms\tremaining: 266ms\n",
      "78:\tlearn: 0.3435391\ttotal: 956ms\tremaining: 254ms\n",
      "79:\tlearn: 0.3435391\ttotal: 963ms\tremaining: 241ms\n",
      "80:\tlearn: 0.3435391\ttotal: 976ms\tremaining: 229ms\n",
      "81:\tlearn: 0.3435391\ttotal: 987ms\tremaining: 217ms\n",
      "82:\tlearn: 0.3435391\ttotal: 1000ms\tremaining: 205ms\n",
      "83:\tlearn: 0.3435391\ttotal: 1.01s\tremaining: 193ms\n",
      "84:\tlearn: 0.3435391\ttotal: 1.03s\tremaining: 181ms\n",
      "85:\tlearn: 0.3435391\ttotal: 1.04s\tremaining: 169ms\n",
      "86:\tlearn: 0.3435391\ttotal: 1.05s\tremaining: 157ms\n",
      "87:\tlearn: 0.3435391\ttotal: 1.06s\tremaining: 145ms\n",
      "88:\tlearn: 0.3434392\ttotal: 1.08s\tremaining: 133ms\n",
      "89:\tlearn: 0.3435184\ttotal: 1.09s\tremaining: 121ms\n",
      "90:\tlearn: 0.3435391\ttotal: 1.1s\tremaining: 109ms\n",
      "91:\tlearn: 0.3435391\ttotal: 1.11s\tremaining: 96.8ms\n",
      "92:\tlearn: 0.3436389\ttotal: 1.13s\tremaining: 84.7ms\n",
      "93:\tlearn: 0.3436389\ttotal: 1.14s\tremaining: 72.5ms\n",
      "94:\tlearn: 0.3436389\ttotal: 1.15s\tremaining: 60.5ms\n",
      "95:\tlearn: 0.3436389\ttotal: 1.16s\tremaining: 48.5ms\n",
      "96:\tlearn: 0.3436182\ttotal: 1.18s\tremaining: 36.4ms\n",
      "97:\tlearn: 0.3436182\ttotal: 1.19s\tremaining: 24.3ms\n",
      "98:\tlearn: 0.3436182\ttotal: 1.2s\tremaining: 12.1ms\n",
      "99:\tlearn: 0.3435184\ttotal: 1.21s\tremaining: 0us\n",
      "[CV] END .......depth=5, iterations=100, learning_rate=0.005; total time=   2.8s\n",
      "0:\tlearn: 0.3444411\ttotal: 17.1ms\tremaining: 1.69s\n",
      "1:\tlearn: 0.3446198\ttotal: 32ms\tremaining: 1.57s\n",
      "2:\tlearn: 0.3458692\ttotal: 47.5ms\tremaining: 1.53s\n",
      "3:\tlearn: 0.3463942\ttotal: 56.7ms\tremaining: 1.36s\n",
      "4:\tlearn: 0.3507828\ttotal: 69.7ms\tremaining: 1.32s\n",
      "5:\tlearn: 0.3507828\ttotal: 82.5ms\tremaining: 1.29s\n",
      "6:\tlearn: 0.3506843\ttotal: 95.2ms\tremaining: 1.26s\n",
      "7:\tlearn: 0.3506843\ttotal: 107ms\tremaining: 1.23s\n",
      "8:\tlearn: 0.3505857\ttotal: 124ms\tremaining: 1.25s\n",
      "9:\tlearn: 0.3510784\ttotal: 137ms\tremaining: 1.23s\n",
      "10:\tlearn: 0.3507828\ttotal: 148ms\tremaining: 1.2s\n",
      "11:\tlearn: 0.3507828\ttotal: 158ms\tremaining: 1.16s\n",
      "12:\tlearn: 0.3507828\ttotal: 169ms\tremaining: 1.13s\n",
      "13:\tlearn: 0.3507828\ttotal: 181ms\tremaining: 1.11s\n",
      "14:\tlearn: 0.3507828\ttotal: 194ms\tremaining: 1.1s\n",
      "15:\tlearn: 0.3539075\ttotal: 207ms\tremaining: 1.09s\n",
      "16:\tlearn: 0.3512900\ttotal: 221ms\tremaining: 1.08s\n",
      "17:\tlearn: 0.3512900\ttotal: 234ms\tremaining: 1.06s\n",
      "18:\tlearn: 0.3507828\ttotal: 244ms\tremaining: 1.04s\n",
      "19:\tlearn: 0.3507828\ttotal: 254ms\tremaining: 1.01s\n",
      "20:\tlearn: 0.3508814\ttotal: 265ms\tremaining: 995ms\n",
      "21:\tlearn: 0.3514095\ttotal: 278ms\tremaining: 985ms\n",
      "22:\tlearn: 0.3510009\ttotal: 287ms\tremaining: 962ms\n",
      "23:\tlearn: 0.3510009\ttotal: 300ms\tremaining: 950ms\n",
      "24:\tlearn: 0.3510009\ttotal: 313ms\tremaining: 939ms\n",
      "25:\tlearn: 0.3509024\ttotal: 322ms\tremaining: 917ms\n",
      "26:\tlearn: 0.3509024\ttotal: 337ms\tremaining: 912ms\n",
      "27:\tlearn: 0.3508038\ttotal: 349ms\tremaining: 897ms\n",
      "28:\tlearn: 0.3508038\ttotal: 358ms\tremaining: 877ms\n",
      "29:\tlearn: 0.3508038\ttotal: 372ms\tremaining: 868ms\n",
      "30:\tlearn: 0.3509024\ttotal: 386ms\tremaining: 859ms\n",
      "31:\tlearn: 0.3509024\ttotal: 399ms\tremaining: 847ms\n",
      "32:\tlearn: 0.3508038\ttotal: 411ms\tremaining: 835ms\n",
      "33:\tlearn: 0.3508038\ttotal: 421ms\tremaining: 817ms\n",
      "34:\tlearn: 0.3508038\ttotal: 434ms\tremaining: 806ms\n",
      "35:\tlearn: 0.3508038\ttotal: 447ms\tremaining: 794ms\n",
      "36:\tlearn: 0.3507828\ttotal: 454ms\tremaining: 773ms\n",
      "37:\tlearn: 0.3509799\ttotal: 467ms\tremaining: 762ms\n",
      "38:\tlearn: 0.3509799\ttotal: 480ms\tremaining: 751ms\n",
      "39:\tlearn: 0.3509799\ttotal: 493ms\tremaining: 739ms\n",
      "40:\tlearn: 0.3508814\ttotal: 505ms\tremaining: 727ms\n",
      "41:\tlearn: 0.3508814\ttotal: 518ms\tremaining: 715ms\n",
      "42:\tlearn: 0.3508814\ttotal: 530ms\tremaining: 703ms\n",
      "43:\tlearn: 0.3507828\ttotal: 543ms\tremaining: 691ms\n",
      "44:\tlearn: 0.3508814\ttotal: 555ms\tremaining: 678ms\n",
      "45:\tlearn: 0.3508814\ttotal: 568ms\tremaining: 667ms\n",
      "46:\tlearn: 0.3509799\ttotal: 581ms\tremaining: 655ms\n",
      "47:\tlearn: 0.3509799\ttotal: 590ms\tremaining: 639ms\n",
      "48:\tlearn: 0.3508814\ttotal: 601ms\tremaining: 626ms\n",
      "49:\tlearn: 0.3508814\ttotal: 610ms\tremaining: 610ms\n",
      "50:\tlearn: 0.3508814\ttotal: 623ms\tremaining: 599ms\n",
      "51:\tlearn: 0.3507828\ttotal: 636ms\tremaining: 587ms\n",
      "52:\tlearn: 0.3509024\ttotal: 648ms\tremaining: 575ms\n",
      "53:\tlearn: 0.3508038\ttotal: 659ms\tremaining: 562ms\n",
      "54:\tlearn: 0.3508038\ttotal: 672ms\tremaining: 550ms\n",
      "55:\tlearn: 0.3510009\ttotal: 685ms\tremaining: 538ms\n",
      "56:\tlearn: 0.3510009\ttotal: 698ms\tremaining: 527ms\n",
      "57:\tlearn: 0.3510009\ttotal: 712ms\tremaining: 515ms\n",
      "58:\tlearn: 0.3510009\ttotal: 724ms\tremaining: 503ms\n",
      "59:\tlearn: 0.3510009\ttotal: 735ms\tremaining: 490ms\n",
      "60:\tlearn: 0.3508038\ttotal: 744ms\tremaining: 476ms\n",
      "61:\tlearn: 0.3509024\ttotal: 757ms\tremaining: 464ms\n",
      "62:\tlearn: 0.3509024\ttotal: 764ms\tremaining: 449ms\n",
      "63:\tlearn: 0.3509024\ttotal: 772ms\tremaining: 434ms\n",
      "64:\tlearn: 0.3509024\ttotal: 784ms\tremaining: 422ms\n",
      "65:\tlearn: 0.3509024\ttotal: 795ms\tremaining: 410ms\n",
      "66:\tlearn: 0.3509024\ttotal: 809ms\tremaining: 398ms\n",
      "67:\tlearn: 0.3509024\ttotal: 822ms\tremaining: 387ms\n",
      "68:\tlearn: 0.3509024\ttotal: 836ms\tremaining: 375ms\n",
      "69:\tlearn: 0.3509024\ttotal: 848ms\tremaining: 364ms\n",
      "70:\tlearn: 0.3509024\ttotal: 855ms\tremaining: 349ms\n",
      "71:\tlearn: 0.3509024\ttotal: 868ms\tremaining: 338ms\n",
      "72:\tlearn: 0.3508038\ttotal: 883ms\tremaining: 327ms\n",
      "73:\tlearn: 0.3508038\ttotal: 891ms\tremaining: 313ms\n",
      "74:\tlearn: 0.3508038\ttotal: 900ms\tremaining: 300ms\n",
      "75:\tlearn: 0.3508038\ttotal: 909ms\tremaining: 287ms\n",
      "76:\tlearn: 0.3508038\ttotal: 922ms\tremaining: 275ms\n",
      "77:\tlearn: 0.3508038\ttotal: 937ms\tremaining: 264ms\n",
      "78:\tlearn: 0.3508038\ttotal: 946ms\tremaining: 252ms\n",
      "79:\tlearn: 0.3508038\ttotal: 959ms\tremaining: 240ms\n",
      "80:\tlearn: 0.3508038\ttotal: 973ms\tremaining: 228ms\n",
      "81:\tlearn: 0.3508038\ttotal: 985ms\tremaining: 216ms\n",
      "82:\tlearn: 0.3508038\ttotal: 998ms\tremaining: 204ms\n",
      "83:\tlearn: 0.3508038\ttotal: 1.01s\tremaining: 193ms\n",
      "84:\tlearn: 0.3508038\ttotal: 1.02s\tremaining: 180ms\n",
      "85:\tlearn: 0.3508038\ttotal: 1.03s\tremaining: 168ms\n",
      "86:\tlearn: 0.3508814\ttotal: 1.05s\tremaining: 156ms\n",
      "87:\tlearn: 0.3507828\ttotal: 1.06s\tremaining: 144ms\n",
      "88:\tlearn: 0.3507828\ttotal: 1.06s\tremaining: 132ms\n",
      "89:\tlearn: 0.3507828\ttotal: 1.08s\tremaining: 120ms\n",
      "90:\tlearn: 0.3507828\ttotal: 1.09s\tremaining: 108ms\n",
      "91:\tlearn: 0.3507828\ttotal: 1.11s\tremaining: 96.2ms\n",
      "92:\tlearn: 0.3507828\ttotal: 1.12s\tremaining: 84.2ms\n",
      "93:\tlearn: 0.3507828\ttotal: 1.13s\tremaining: 72.3ms\n",
      "94:\tlearn: 0.3507828\ttotal: 1.15s\tremaining: 60.3ms\n",
      "95:\tlearn: 0.3508038\ttotal: 1.16s\tremaining: 48.3ms\n",
      "96:\tlearn: 0.3510009\ttotal: 1.17s\tremaining: 36.3ms\n",
      "97:\tlearn: 0.3509024\ttotal: 1.19s\tremaining: 24.2ms\n",
      "98:\tlearn: 0.3508814\ttotal: 1.2s\tremaining: 12.1ms\n",
      "99:\tlearn: 0.3509799\ttotal: 1.21s\tremaining: 0us\n",
      "[CV] END .......depth=5, iterations=100, learning_rate=0.005; total time=   2.6s\n",
      "0:\tlearn: 0.3522918\ttotal: 17.1ms\tremaining: 1.69s\n",
      "1:\tlearn: 0.3576317\ttotal: 32.6ms\tremaining: 1.6s\n",
      "2:\tlearn: 0.3523130\ttotal: 45.8ms\tremaining: 1.48s\n",
      "3:\tlearn: 0.3527508\ttotal: 59.5ms\tremaining: 1.43s\n",
      "4:\tlearn: 0.3527508\ttotal: 73.4ms\tremaining: 1.4s\n",
      "5:\tlearn: 0.3527720\ttotal: 82.8ms\tremaining: 1.3s\n",
      "6:\tlearn: 0.3572577\ttotal: 96.4ms\tremaining: 1.28s\n",
      "7:\tlearn: 0.3569854\ttotal: 109ms\tremaining: 1.26s\n",
      "8:\tlearn: 0.3568321\ttotal: 123ms\tremaining: 1.24s\n",
      "9:\tlearn: 0.3571599\ttotal: 136ms\tremaining: 1.23s\n",
      "10:\tlearn: 0.3571599\ttotal: 150ms\tremaining: 1.21s\n",
      "11:\tlearn: 0.3572024\ttotal: 163ms\tremaining: 1.2s\n",
      "12:\tlearn: 0.3572024\ttotal: 176ms\tremaining: 1.18s\n",
      "13:\tlearn: 0.3572024\ttotal: 189ms\tremaining: 1.16s\n",
      "14:\tlearn: 0.3572024\ttotal: 202ms\tremaining: 1.15s\n",
      "15:\tlearn: 0.3571599\ttotal: 216ms\tremaining: 1.13s\n",
      "16:\tlearn: 0.3571812\ttotal: 230ms\tremaining: 1.12s\n",
      "17:\tlearn: 0.3573981\ttotal: 242ms\tremaining: 1.1s\n",
      "18:\tlearn: 0.3573981\ttotal: 255ms\tremaining: 1.09s\n",
      "19:\tlearn: 0.3573003\ttotal: 269ms\tremaining: 1.08s\n",
      "20:\tlearn: 0.3573003\ttotal: 283ms\tremaining: 1.06s\n",
      "21:\tlearn: 0.3573003\ttotal: 296ms\tremaining: 1.05s\n",
      "22:\tlearn: 0.3573003\ttotal: 310ms\tremaining: 1.04s\n",
      "23:\tlearn: 0.3572024\ttotal: 323ms\tremaining: 1.02s\n",
      "24:\tlearn: 0.3572024\ttotal: 336ms\tremaining: 1.01s\n",
      "25:\tlearn: 0.3572024\ttotal: 350ms\tremaining: 995ms\n",
      "26:\tlearn: 0.3571258\ttotal: 363ms\tremaining: 982ms\n",
      "27:\tlearn: 0.3573216\ttotal: 377ms\tremaining: 969ms\n",
      "28:\tlearn: 0.3573216\ttotal: 391ms\tremaining: 957ms\n",
      "29:\tlearn: 0.3573216\ttotal: 404ms\tremaining: 943ms\n",
      "30:\tlearn: 0.3572790\ttotal: 418ms\tremaining: 930ms\n",
      "31:\tlearn: 0.3572790\ttotal: 430ms\tremaining: 915ms\n",
      "32:\tlearn: 0.3572790\ttotal: 444ms\tremaining: 901ms\n",
      "33:\tlearn: 0.3572790\ttotal: 457ms\tremaining: 887ms\n",
      "34:\tlearn: 0.3573003\ttotal: 469ms\tremaining: 872ms\n",
      "35:\tlearn: 0.3573003\ttotal: 483ms\tremaining: 858ms\n",
      "36:\tlearn: 0.3572790\ttotal: 496ms\tremaining: 844ms\n",
      "37:\tlearn: 0.3572790\ttotal: 509ms\tremaining: 831ms\n",
      "38:\tlearn: 0.3571812\ttotal: 521ms\tremaining: 815ms\n",
      "39:\tlearn: 0.3571812\ttotal: 534ms\tremaining: 801ms\n",
      "40:\tlearn: 0.3571812\ttotal: 548ms\tremaining: 788ms\n",
      "41:\tlearn: 0.3573003\ttotal: 561ms\tremaining: 774ms\n",
      "42:\tlearn: 0.3573003\ttotal: 573ms\tremaining: 760ms\n",
      "43:\tlearn: 0.3573003\ttotal: 587ms\tremaining: 747ms\n",
      "44:\tlearn: 0.3573216\ttotal: 600ms\tremaining: 734ms\n",
      "45:\tlearn: 0.3573216\ttotal: 614ms\tremaining: 720ms\n",
      "46:\tlearn: 0.3572237\ttotal: 623ms\tremaining: 703ms\n",
      "47:\tlearn: 0.3572237\ttotal: 636ms\tremaining: 689ms\n",
      "48:\tlearn: 0.3572237\ttotal: 649ms\tremaining: 676ms\n",
      "49:\tlearn: 0.3572237\ttotal: 662ms\tremaining: 662ms\n",
      "50:\tlearn: 0.3571258\ttotal: 676ms\tremaining: 650ms\n",
      "51:\tlearn: 0.3571258\ttotal: 690ms\tremaining: 637ms\n",
      "52:\tlearn: 0.3571258\ttotal: 713ms\tremaining: 632ms\n",
      "53:\tlearn: 0.3571258\ttotal: 727ms\tremaining: 619ms\n",
      "54:\tlearn: 0.3571258\ttotal: 742ms\tremaining: 607ms\n",
      "55:\tlearn: 0.3571258\ttotal: 755ms\tremaining: 594ms\n",
      "56:\tlearn: 0.3570279\ttotal: 769ms\tremaining: 580ms\n",
      "57:\tlearn: 0.3570279\ttotal: 782ms\tremaining: 566ms\n",
      "58:\tlearn: 0.3570279\ttotal: 795ms\tremaining: 553ms\n",
      "59:\tlearn: 0.3570279\ttotal: 809ms\tremaining: 539ms\n",
      "60:\tlearn: 0.3570279\ttotal: 822ms\tremaining: 526ms\n",
      "61:\tlearn: 0.3570492\ttotal: 834ms\tremaining: 511ms\n",
      "62:\tlearn: 0.3570492\ttotal: 846ms\tremaining: 497ms\n",
      "63:\tlearn: 0.3570279\ttotal: 859ms\tremaining: 483ms\n",
      "64:\tlearn: 0.3570279\ttotal: 873ms\tremaining: 470ms\n",
      "65:\tlearn: 0.3570279\ttotal: 888ms\tremaining: 457ms\n",
      "66:\tlearn: 0.3571258\ttotal: 903ms\tremaining: 445ms\n",
      "67:\tlearn: 0.3571258\ttotal: 915ms\tremaining: 431ms\n",
      "68:\tlearn: 0.3571258\ttotal: 928ms\tremaining: 417ms\n",
      "69:\tlearn: 0.3571258\ttotal: 938ms\tremaining: 402ms\n",
      "70:\tlearn: 0.3571258\ttotal: 950ms\tremaining: 388ms\n",
      "71:\tlearn: 0.3571258\ttotal: 962ms\tremaining: 374ms\n",
      "72:\tlearn: 0.3570279\ttotal: 975ms\tremaining: 361ms\n",
      "73:\tlearn: 0.3570279\ttotal: 982ms\tremaining: 345ms\n",
      "74:\tlearn: 0.3570279\ttotal: 993ms\tremaining: 331ms\n",
      "75:\tlearn: 0.3570279\ttotal: 1.01s\tremaining: 318ms\n",
      "76:\tlearn: 0.3570279\ttotal: 1.02s\tremaining: 305ms\n",
      "77:\tlearn: 0.3569300\ttotal: 1.03s\tremaining: 291ms\n",
      "78:\tlearn: 0.3569300\ttotal: 1.04s\tremaining: 278ms\n",
      "79:\tlearn: 0.3571258\ttotal: 1.06s\tremaining: 264ms\n",
      "80:\tlearn: 0.3571258\ttotal: 1.07s\tremaining: 251ms\n",
      "81:\tlearn: 0.3571258\ttotal: 1.08s\tremaining: 238ms\n",
      "82:\tlearn: 0.3570279\ttotal: 1.1s\tremaining: 224ms\n",
      "83:\tlearn: 0.3570279\ttotal: 1.11s\tremaining: 211ms\n",
      "84:\tlearn: 0.3570279\ttotal: 1.12s\tremaining: 198ms\n",
      "85:\tlearn: 0.3570279\ttotal: 1.13s\tremaining: 185ms\n",
      "86:\tlearn: 0.3570279\ttotal: 1.15s\tremaining: 171ms\n",
      "87:\tlearn: 0.3570279\ttotal: 1.16s\tremaining: 158ms\n",
      "88:\tlearn: 0.3570279\ttotal: 1.17s\tremaining: 145ms\n",
      "89:\tlearn: 0.3570279\ttotal: 1.18s\tremaining: 131ms\n",
      "90:\tlearn: 0.3570279\ttotal: 1.2s\tremaining: 118ms\n",
      "91:\tlearn: 0.3570279\ttotal: 1.2s\tremaining: 105ms\n",
      "92:\tlearn: 0.3570279\ttotal: 1.22s\tremaining: 91.6ms\n",
      "93:\tlearn: 0.3570279\ttotal: 1.23s\tremaining: 78.4ms\n",
      "94:\tlearn: 0.3570279\ttotal: 1.24s\tremaining: 65.2ms\n",
      "95:\tlearn: 0.3570279\ttotal: 1.25s\tremaining: 52.1ms\n",
      "96:\tlearn: 0.3570279\ttotal: 1.26s\tremaining: 39.1ms\n",
      "97:\tlearn: 0.3570279\ttotal: 1.28s\tremaining: 26.1ms\n",
      "98:\tlearn: 0.3570279\ttotal: 1.29s\tremaining: 13ms\n",
      "99:\tlearn: 0.3570279\ttotal: 1.3s\tremaining: 0us\n",
      "[CV] END .......depth=5, iterations=100, learning_rate=0.005; total time=   2.5s\n",
      "0:\tlearn: 0.3606538\ttotal: 16.9ms\tremaining: 1.67s\n",
      "1:\tlearn: 0.3461793\ttotal: 33.8ms\tremaining: 1.65s\n",
      "2:\tlearn: 0.3570498\ttotal: 56.2ms\tremaining: 1.82s\n",
      "3:\tlearn: 0.3581684\ttotal: 71.8ms\tremaining: 1.72s\n",
      "4:\tlearn: 0.3592468\ttotal: 84.9ms\tremaining: 1.61s\n",
      "5:\tlearn: 0.3495181\ttotal: 98.1ms\tremaining: 1.54s\n",
      "6:\tlearn: 0.3583747\ttotal: 111ms\tremaining: 1.48s\n",
      "7:\tlearn: 0.3499222\ttotal: 124ms\tremaining: 1.43s\n",
      "8:\tlearn: 0.3550436\ttotal: 137ms\tremaining: 1.39s\n",
      "9:\tlearn: 0.3537391\ttotal: 150ms\tremaining: 1.35s\n",
      "10:\tlearn: 0.3534103\ttotal: 163ms\tremaining: 1.32s\n",
      "11:\tlearn: 0.3548368\ttotal: 177ms\tremaining: 1.29s\n",
      "12:\tlearn: 0.3541171\ttotal: 189ms\tremaining: 1.27s\n",
      "13:\tlearn: 0.3544590\ttotal: 203ms\tremaining: 1.24s\n",
      "14:\tlearn: 0.3537180\ttotal: 216ms\tremaining: 1.22s\n",
      "15:\tlearn: 0.3522890\ttotal: 229ms\tremaining: 1.2s\n",
      "16:\tlearn: 0.3481388\ttotal: 241ms\tremaining: 1.18s\n",
      "17:\tlearn: 0.3481388\ttotal: 253ms\tremaining: 1.15s\n",
      "18:\tlearn: 0.3481388\ttotal: 266ms\tremaining: 1.13s\n",
      "19:\tlearn: 0.3465513\ttotal: 281ms\tremaining: 1.12s\n",
      "20:\tlearn: 0.3464520\ttotal: 293ms\tremaining: 1.1s\n",
      "21:\tlearn: 0.3483368\ttotal: 307ms\tremaining: 1.09s\n",
      "22:\tlearn: 0.3464520\ttotal: 316ms\tremaining: 1.06s\n",
      "23:\tlearn: 0.3481388\ttotal: 329ms\tremaining: 1.04s\n",
      "24:\tlearn: 0.3471372\ttotal: 342ms\tremaining: 1.03s\n",
      "25:\tlearn: 0.3471372\ttotal: 355ms\tremaining: 1.01s\n",
      "26:\tlearn: 0.3490126\ttotal: 368ms\tremaining: 995ms\n",
      "27:\tlearn: 0.3476853\ttotal: 381ms\tremaining: 980ms\n",
      "28:\tlearn: 0.3471372\ttotal: 394ms\tremaining: 965ms\n",
      "29:\tlearn: 0.3464520\ttotal: 403ms\tremaining: 941ms\n",
      "30:\tlearn: 0.3464520\ttotal: 416ms\tremaining: 926ms\n",
      "31:\tlearn: 0.3471422\ttotal: 429ms\tremaining: 911ms\n",
      "32:\tlearn: 0.3464520\ttotal: 439ms\tremaining: 890ms\n",
      "33:\tlearn: 0.3471422\ttotal: 451ms\tremaining: 875ms\n",
      "34:\tlearn: 0.3471422\ttotal: 466ms\tremaining: 866ms\n",
      "35:\tlearn: 0.3484567\ttotal: 479ms\tremaining: 852ms\n",
      "36:\tlearn: 0.3472414\ttotal: 493ms\tremaining: 839ms\n",
      "37:\tlearn: 0.3472206\ttotal: 505ms\tremaining: 824ms\n",
      "38:\tlearn: 0.3472206\ttotal: 518ms\tremaining: 810ms\n",
      "39:\tlearn: 0.3465305\ttotal: 530ms\tremaining: 795ms\n",
      "40:\tlearn: 0.3465305\ttotal: 545ms\tremaining: 784ms\n",
      "41:\tlearn: 0.3465305\ttotal: 558ms\tremaining: 770ms\n",
      "42:\tlearn: 0.3465513\ttotal: 571ms\tremaining: 757ms\n",
      "43:\tlearn: 0.3465513\ttotal: 584ms\tremaining: 743ms\n",
      "44:\tlearn: 0.3465513\ttotal: 596ms\tremaining: 729ms\n",
      "45:\tlearn: 0.3465513\ttotal: 609ms\tremaining: 715ms\n",
      "46:\tlearn: 0.3465513\ttotal: 620ms\tremaining: 699ms\n",
      "47:\tlearn: 0.3465513\ttotal: 632ms\tremaining: 685ms\n",
      "48:\tlearn: 0.3465513\ttotal: 645ms\tremaining: 672ms\n",
      "49:\tlearn: 0.3465513\ttotal: 658ms\tremaining: 658ms\n",
      "50:\tlearn: 0.3464520\ttotal: 670ms\tremaining: 644ms\n",
      "51:\tlearn: 0.3464520\ttotal: 683ms\tremaining: 631ms\n",
      "52:\tlearn: 0.3464520\ttotal: 696ms\tremaining: 617ms\n",
      "53:\tlearn: 0.3464520\ttotal: 709ms\tremaining: 604ms\n",
      "54:\tlearn: 0.3464520\ttotal: 722ms\tremaining: 591ms\n",
      "55:\tlearn: 0.3464520\ttotal: 735ms\tremaining: 578ms\n",
      "56:\tlearn: 0.3464520\ttotal: 749ms\tremaining: 565ms\n",
      "57:\tlearn: 0.3464520\ttotal: 761ms\tremaining: 551ms\n",
      "58:\tlearn: 0.3464520\ttotal: 774ms\tremaining: 538ms\n",
      "59:\tlearn: 0.3464520\ttotal: 788ms\tremaining: 525ms\n",
      "60:\tlearn: 0.3464520\ttotal: 801ms\tremaining: 512ms\n",
      "61:\tlearn: 0.3464520\ttotal: 814ms\tremaining: 499ms\n",
      "62:\tlearn: 0.3464520\ttotal: 826ms\tremaining: 485ms\n",
      "63:\tlearn: 0.3465513\ttotal: 840ms\tremaining: 472ms\n",
      "64:\tlearn: 0.3464520\ttotal: 854ms\tremaining: 460ms\n",
      "65:\tlearn: 0.3464520\ttotal: 867ms\tremaining: 447ms\n",
      "66:\tlearn: 0.3464520\ttotal: 879ms\tremaining: 433ms\n",
      "67:\tlearn: 0.3464520\ttotal: 890ms\tremaining: 419ms\n",
      "68:\tlearn: 0.3464520\ttotal: 901ms\tremaining: 405ms\n",
      "69:\tlearn: 0.3464520\ttotal: 913ms\tremaining: 391ms\n",
      "70:\tlearn: 0.3464520\ttotal: 924ms\tremaining: 378ms\n",
      "71:\tlearn: 0.3464520\ttotal: 938ms\tremaining: 365ms\n",
      "72:\tlearn: 0.3464520\ttotal: 952ms\tremaining: 352ms\n",
      "73:\tlearn: 0.3464520\ttotal: 965ms\tremaining: 339ms\n",
      "74:\tlearn: 0.3464520\ttotal: 972ms\tremaining: 324ms\n",
      "75:\tlearn: 0.3464520\ttotal: 980ms\tremaining: 309ms\n",
      "76:\tlearn: 0.3464520\ttotal: 992ms\tremaining: 296ms\n",
      "77:\tlearn: 0.3464520\ttotal: 1s\tremaining: 283ms\n",
      "78:\tlearn: 0.3464520\ttotal: 1.02s\tremaining: 271ms\n",
      "79:\tlearn: 0.3464520\ttotal: 1.03s\tremaining: 258ms\n",
      "80:\tlearn: 0.3464520\ttotal: 1.04s\tremaining: 244ms\n",
      "81:\tlearn: 0.3464520\ttotal: 1.05s\tremaining: 231ms\n",
      "82:\tlearn: 0.3464520\ttotal: 1.06s\tremaining: 218ms\n",
      "83:\tlearn: 0.3464520\ttotal: 1.08s\tremaining: 205ms\n",
      "84:\tlearn: 0.3464520\ttotal: 1.09s\tremaining: 192ms\n",
      "85:\tlearn: 0.3464520\ttotal: 1.1s\tremaining: 179ms\n",
      "86:\tlearn: 0.3465513\ttotal: 1.11s\tremaining: 165ms\n",
      "87:\tlearn: 0.3465513\ttotal: 1.12s\tremaining: 153ms\n",
      "88:\tlearn: 0.3465513\ttotal: 1.13s\tremaining: 140ms\n",
      "89:\tlearn: 0.3465513\ttotal: 1.14s\tremaining: 127ms\n",
      "90:\tlearn: 0.3465513\ttotal: 1.16s\tremaining: 114ms\n",
      "91:\tlearn: 0.3465513\ttotal: 1.17s\tremaining: 102ms\n",
      "92:\tlearn: 0.3465513\ttotal: 1.18s\tremaining: 88.9ms\n",
      "93:\tlearn: 0.3465513\ttotal: 1.19s\tremaining: 76.2ms\n",
      "94:\tlearn: 0.3465513\ttotal: 1.21s\tremaining: 63.5ms\n",
      "95:\tlearn: 0.3465513\ttotal: 1.22s\tremaining: 50.9ms\n",
      "96:\tlearn: 0.3465513\ttotal: 1.23s\tremaining: 38.2ms\n",
      "97:\tlearn: 0.3465513\ttotal: 1.25s\tremaining: 25.4ms\n",
      "98:\tlearn: 0.3465513\ttotal: 1.26s\tremaining: 12.7ms\n",
      "99:\tlearn: 0.3465513\ttotal: 1.27s\tremaining: 0us\n",
      "[CV] END .......depth=5, iterations=100, learning_rate=0.005; total time=   2.4s\n",
      "0:\tlearn: 0.3444211\ttotal: 11ms\tremaining: 1.09s\n",
      "1:\tlearn: 0.3606962\ttotal: 29ms\tremaining: 1.42s\n",
      "2:\tlearn: 0.3472472\ttotal: 44.5ms\tremaining: 1.44s\n",
      "3:\tlearn: 0.3524087\ttotal: 58.3ms\tremaining: 1.4s\n",
      "4:\tlearn: 0.3480554\ttotal: 70.9ms\tremaining: 1.35s\n",
      "5:\tlearn: 0.3514949\ttotal: 84.5ms\tremaining: 1.32s\n",
      "6:\tlearn: 0.3499013\ttotal: 98.2ms\tremaining: 1.3s\n",
      "7:\tlearn: 0.3503615\ttotal: 111ms\tremaining: 1.27s\n",
      "8:\tlearn: 0.3505167\ttotal: 125ms\tremaining: 1.26s\n",
      "9:\tlearn: 0.3505376\ttotal: 138ms\tremaining: 1.24s\n",
      "10:\tlearn: 0.3489708\ttotal: 151ms\tremaining: 1.22s\n",
      "11:\tlearn: 0.3497431\ttotal: 163ms\tremaining: 1.2s\n",
      "12:\tlearn: 0.3493335\ttotal: 176ms\tremaining: 1.18s\n",
      "13:\tlearn: 0.3493335\ttotal: 190ms\tremaining: 1.17s\n",
      "14:\tlearn: 0.3492348\ttotal: 202ms\tremaining: 1.14s\n",
      "15:\tlearn: 0.3492557\ttotal: 212ms\tremaining: 1.11s\n",
      "16:\tlearn: 0.3491418\ttotal: 226ms\tremaining: 1.1s\n",
      "17:\tlearn: 0.3490278\ttotal: 239ms\tremaining: 1.09s\n",
      "18:\tlearn: 0.3486326\ttotal: 252ms\tremaining: 1.07s\n",
      "19:\tlearn: 0.3490696\ttotal: 265ms\tremaining: 1.06s\n",
      "20:\tlearn: 0.3490696\ttotal: 276ms\tremaining: 1.04s\n",
      "21:\tlearn: 0.3490696\ttotal: 287ms\tremaining: 1.02s\n",
      "22:\tlearn: 0.3492348\ttotal: 301ms\tremaining: 1.01s\n",
      "23:\tlearn: 0.3492348\ttotal: 314ms\tremaining: 995ms\n",
      "24:\tlearn: 0.3492766\ttotal: 327ms\tremaining: 982ms\n",
      "25:\tlearn: 0.3491418\ttotal: 337ms\tremaining: 959ms\n",
      "26:\tlearn: 0.3497222\ttotal: 347ms\tremaining: 937ms\n",
      "27:\tlearn: 0.3497222\ttotal: 360ms\tremaining: 927ms\n",
      "28:\tlearn: 0.3497222\ttotal: 370ms\tremaining: 905ms\n",
      "29:\tlearn: 0.3497640\ttotal: 382ms\tremaining: 892ms\n",
      "30:\tlearn: 0.3497072\ttotal: 395ms\tremaining: 879ms\n",
      "31:\tlearn: 0.3495308\ttotal: 408ms\tremaining: 867ms\n",
      "32:\tlearn: 0.3494322\ttotal: 420ms\tremaining: 852ms\n",
      "33:\tlearn: 0.3494322\ttotal: 433ms\tremaining: 841ms\n",
      "34:\tlearn: 0.3495877\ttotal: 446ms\tremaining: 828ms\n",
      "35:\tlearn: 0.3497222\ttotal: 459ms\tremaining: 815ms\n",
      "36:\tlearn: 0.3497222\ttotal: 472ms\tremaining: 804ms\n",
      "37:\tlearn: 0.3497640\ttotal: 486ms\tremaining: 792ms\n",
      "38:\tlearn: 0.3497222\ttotal: 500ms\tremaining: 782ms\n",
      "39:\tlearn: 0.3497222\ttotal: 513ms\tremaining: 770ms\n",
      "40:\tlearn: 0.3497640\ttotal: 527ms\tremaining: 758ms\n",
      "41:\tlearn: 0.3497640\ttotal: 539ms\tremaining: 744ms\n",
      "42:\tlearn: 0.3498058\ttotal: 548ms\tremaining: 727ms\n",
      "43:\tlearn: 0.3497072\ttotal: 563ms\tremaining: 716ms\n",
      "44:\tlearn: 0.3496295\ttotal: 575ms\tremaining: 703ms\n",
      "45:\tlearn: 0.3495308\ttotal: 589ms\tremaining: 691ms\n",
      "46:\tlearn: 0.3495308\ttotal: 598ms\tremaining: 675ms\n",
      "47:\tlearn: 0.3494322\ttotal: 612ms\tremaining: 663ms\n",
      "48:\tlearn: 0.3494322\ttotal: 625ms\tremaining: 651ms\n",
      "49:\tlearn: 0.3494322\ttotal: 638ms\tremaining: 638ms\n",
      "50:\tlearn: 0.3494322\ttotal: 651ms\tremaining: 625ms\n",
      "51:\tlearn: 0.3494322\ttotal: 665ms\tremaining: 614ms\n",
      "52:\tlearn: 0.3494322\ttotal: 678ms\tremaining: 602ms\n",
      "53:\tlearn: 0.3494322\ttotal: 692ms\tremaining: 589ms\n",
      "54:\tlearn: 0.3494322\ttotal: 704ms\tremaining: 576ms\n",
      "55:\tlearn: 0.3494322\ttotal: 714ms\tremaining: 561ms\n",
      "56:\tlearn: 0.3494322\ttotal: 726ms\tremaining: 548ms\n",
      "57:\tlearn: 0.3494322\ttotal: 738ms\tremaining: 534ms\n",
      "58:\tlearn: 0.3494322\ttotal: 750ms\tremaining: 521ms\n",
      "59:\tlearn: 0.3494530\ttotal: 764ms\tremaining: 509ms\n",
      "60:\tlearn: 0.3494530\ttotal: 777ms\tremaining: 497ms\n",
      "61:\tlearn: 0.3494530\ttotal: 787ms\tremaining: 482ms\n",
      "62:\tlearn: 0.3494530\ttotal: 802ms\tremaining: 471ms\n",
      "63:\tlearn: 0.3494530\ttotal: 813ms\tremaining: 457ms\n",
      "64:\tlearn: 0.3493961\ttotal: 827ms\tremaining: 445ms\n",
      "65:\tlearn: 0.3493961\ttotal: 839ms\tremaining: 432ms\n",
      "66:\tlearn: 0.3493961\ttotal: 850ms\tremaining: 419ms\n",
      "67:\tlearn: 0.3493961\ttotal: 863ms\tremaining: 406ms\n",
      "68:\tlearn: 0.3492975\ttotal: 877ms\tremaining: 394ms\n",
      "69:\tlearn: 0.3493183\ttotal: 890ms\tremaining: 382ms\n",
      "70:\tlearn: 0.3493183\ttotal: 905ms\tremaining: 370ms\n",
      "71:\tlearn: 0.3494019\ttotal: 917ms\tremaining: 357ms\n",
      "72:\tlearn: 0.3494019\ttotal: 931ms\tremaining: 344ms\n",
      "73:\tlearn: 0.3494019\ttotal: 944ms\tremaining: 332ms\n",
      "74:\tlearn: 0.3494019\ttotal: 958ms\tremaining: 319ms\n",
      "75:\tlearn: 0.3494019\ttotal: 971ms\tremaining: 307ms\n",
      "76:\tlearn: 0.3494379\ttotal: 984ms\tremaining: 294ms\n",
      "77:\tlearn: 0.3494797\ttotal: 995ms\tremaining: 281ms\n",
      "78:\tlearn: 0.3494797\ttotal: 1.01s\tremaining: 268ms\n",
      "79:\tlearn: 0.3495006\ttotal: 1.02s\tremaining: 255ms\n",
      "80:\tlearn: 0.3494530\ttotal: 1.03s\tremaining: 243ms\n",
      "81:\tlearn: 0.3494530\ttotal: 1.05s\tremaining: 230ms\n",
      "82:\tlearn: 0.3494530\ttotal: 1.06s\tremaining: 217ms\n",
      "83:\tlearn: 0.3494530\ttotal: 1.07s\tremaining: 204ms\n",
      "84:\tlearn: 0.3494322\ttotal: 1.08s\tremaining: 191ms\n",
      "85:\tlearn: 0.3494322\ttotal: 1.1s\tremaining: 179ms\n",
      "86:\tlearn: 0.3494322\ttotal: 1.11s\tremaining: 166ms\n",
      "87:\tlearn: 0.3494322\ttotal: 1.13s\tremaining: 154ms\n",
      "88:\tlearn: 0.3494322\ttotal: 1.15s\tremaining: 142ms\n",
      "89:\tlearn: 0.3494322\ttotal: 1.16s\tremaining: 129ms\n",
      "90:\tlearn: 0.3494322\ttotal: 1.17s\tremaining: 116ms\n",
      "91:\tlearn: 0.3494322\ttotal: 1.19s\tremaining: 103ms\n",
      "92:\tlearn: 0.3494322\ttotal: 1.2s\tremaining: 90.3ms\n",
      "93:\tlearn: 0.3494322\ttotal: 1.21s\tremaining: 77.5ms\n",
      "94:\tlearn: 0.3494322\ttotal: 1.23s\tremaining: 64.5ms\n",
      "95:\tlearn: 0.3494322\ttotal: 1.24s\tremaining: 51.6ms\n",
      "96:\tlearn: 0.3494322\ttotal: 1.25s\tremaining: 38.7ms\n",
      "97:\tlearn: 0.3494530\ttotal: 1.26s\tremaining: 25.8ms\n",
      "98:\tlearn: 0.3494530\ttotal: 1.28s\tremaining: 12.9ms\n",
      "99:\tlearn: 0.3494530\ttotal: 1.29s\tremaining: 0us\n",
      "[CV] END .......depth=5, iterations=100, learning_rate=0.005; total time=   2.4s\n",
      "0:\tlearn: 0.3431225\ttotal: 24.2ms\tremaining: 2.39s\n",
      "1:\tlearn: 0.3611242\ttotal: 42.1ms\tremaining: 2.06s\n",
      "2:\tlearn: 0.3495041\ttotal: 58.8ms\tremaining: 1.9s\n",
      "3:\tlearn: 0.3464794\ttotal: 75.3ms\tremaining: 1.81s\n",
      "4:\tlearn: 0.3448442\ttotal: 92.1ms\tremaining: 1.75s\n",
      "5:\tlearn: 0.3437594\ttotal: 109ms\tremaining: 1.71s\n",
      "6:\tlearn: 0.3438385\ttotal: 127ms\tremaining: 1.68s\n",
      "7:\tlearn: 0.3438347\ttotal: 137ms\tremaining: 1.57s\n",
      "8:\tlearn: 0.3436352\ttotal: 146ms\tremaining: 1.47s\n",
      "9:\tlearn: 0.3436352\ttotal: 159ms\tremaining: 1.43s\n",
      "10:\tlearn: 0.3444458\ttotal: 184ms\tremaining: 1.49s\n",
      "11:\tlearn: 0.3435561\ttotal: 193ms\tremaining: 1.42s\n",
      "12:\tlearn: 0.3470380\ttotal: 212ms\tremaining: 1.42s\n",
      "13:\tlearn: 0.3458764\ttotal: 230ms\tremaining: 1.41s\n",
      "14:\tlearn: 0.3457770\ttotal: 247ms\tremaining: 1.4s\n",
      "15:\tlearn: 0.3457978\ttotal: 266ms\tremaining: 1.4s\n",
      "16:\tlearn: 0.3449479\ttotal: 279ms\tremaining: 1.36s\n",
      "17:\tlearn: 0.3449687\ttotal: 295ms\tremaining: 1.34s\n",
      "18:\tlearn: 0.3441547\ttotal: 305ms\tremaining: 1.3s\n",
      "19:\tlearn: 0.3437180\ttotal: 312ms\tremaining: 1.25s\n",
      "20:\tlearn: 0.3449895\ttotal: 329ms\tremaining: 1.24s\n",
      "21:\tlearn: 0.3449687\ttotal: 346ms\tremaining: 1.23s\n",
      "22:\tlearn: 0.3449687\ttotal: 356ms\tremaining: 1.19s\n",
      "23:\tlearn: 0.3458186\ttotal: 372ms\tremaining: 1.18s\n",
      "24:\tlearn: 0.3458764\ttotal: 389ms\tremaining: 1.17s\n",
      "25:\tlearn: 0.3446117\ttotal: 404ms\tremaining: 1.15s\n",
      "26:\tlearn: 0.3461746\ttotal: 420ms\tremaining: 1.14s\n",
      "27:\tlearn: 0.3461955\ttotal: 437ms\tremaining: 1.12s\n",
      "28:\tlearn: 0.3446532\ttotal: 444ms\tremaining: 1.09s\n",
      "29:\tlearn: 0.3446324\ttotal: 459ms\tremaining: 1.07s\n",
      "30:\tlearn: 0.3446324\ttotal: 475ms\tremaining: 1.06s\n",
      "31:\tlearn: 0.3446532\ttotal: 492ms\tremaining: 1.05s\n",
      "32:\tlearn: 0.3446117\ttotal: 505ms\tremaining: 1.02s\n",
      "33:\tlearn: 0.3445328\ttotal: 515ms\tremaining: 999ms\n",
      "34:\tlearn: 0.3445328\ttotal: 527ms\tremaining: 979ms\n",
      "35:\tlearn: 0.3445328\ttotal: 542ms\tremaining: 964ms\n",
      "36:\tlearn: 0.3445328\ttotal: 554ms\tremaining: 944ms\n",
      "37:\tlearn: 0.3445328\ttotal: 564ms\tremaining: 920ms\n",
      "38:\tlearn: 0.3445535\ttotal: 573ms\tremaining: 896ms\n",
      "39:\tlearn: 0.3445535\ttotal: 588ms\tremaining: 882ms\n",
      "40:\tlearn: 0.3445535\ttotal: 599ms\tremaining: 862ms\n",
      "41:\tlearn: 0.3445535\ttotal: 613ms\tremaining: 846ms\n",
      "42:\tlearn: 0.3445535\ttotal: 627ms\tremaining: 831ms\n",
      "43:\tlearn: 0.3446739\ttotal: 645ms\tremaining: 821ms\n",
      "44:\tlearn: 0.3445743\ttotal: 659ms\tremaining: 805ms\n",
      "45:\tlearn: 0.3446739\ttotal: 676ms\tremaining: 794ms\n",
      "46:\tlearn: 0.3446324\ttotal: 684ms\tremaining: 771ms\n",
      "47:\tlearn: 0.3448899\ttotal: 701ms\tremaining: 759ms\n",
      "48:\tlearn: 0.3448899\ttotal: 708ms\tremaining: 737ms\n",
      "49:\tlearn: 0.3453047\ttotal: 725ms\tremaining: 725ms\n",
      "50:\tlearn: 0.3453047\ttotal: 743ms\tremaining: 714ms\n",
      "51:\tlearn: 0.3453255\ttotal: 761ms\tremaining: 703ms\n",
      "52:\tlearn: 0.3457191\ttotal: 779ms\tremaining: 691ms\n",
      "53:\tlearn: 0.3454042\ttotal: 794ms\tremaining: 676ms\n",
      "54:\tlearn: 0.3454042\ttotal: 811ms\tremaining: 664ms\n",
      "55:\tlearn: 0.3454042\ttotal: 828ms\tremaining: 651ms\n",
      "56:\tlearn: 0.3454250\ttotal: 847ms\tremaining: 639ms\n",
      "57:\tlearn: 0.3454250\ttotal: 863ms\tremaining: 625ms\n",
      "58:\tlearn: 0.3454250\ttotal: 877ms\tremaining: 610ms\n",
      "59:\tlearn: 0.3454458\ttotal: 887ms\tremaining: 591ms\n",
      "60:\tlearn: 0.3454458\ttotal: 899ms\tremaining: 575ms\n",
      "61:\tlearn: 0.3450102\ttotal: 911ms\tremaining: 558ms\n",
      "62:\tlearn: 0.3450102\ttotal: 922ms\tremaining: 542ms\n",
      "63:\tlearn: 0.3450102\ttotal: 940ms\tremaining: 529ms\n",
      "64:\tlearn: 0.3454250\ttotal: 956ms\tremaining: 515ms\n",
      "65:\tlearn: 0.3454458\ttotal: 965ms\tremaining: 497ms\n",
      "66:\tlearn: 0.3454458\ttotal: 982ms\tremaining: 484ms\n",
      "67:\tlearn: 0.3449895\ttotal: 998ms\tremaining: 470ms\n",
      "68:\tlearn: 0.3449895\ttotal: 1.02s\tremaining: 457ms\n",
      "69:\tlearn: 0.3449895\ttotal: 1.02s\tremaining: 439ms\n",
      "70:\tlearn: 0.3449895\ttotal: 1.03s\tremaining: 423ms\n",
      "71:\tlearn: 0.3449895\ttotal: 1.05s\tremaining: 409ms\n",
      "72:\tlearn: 0.3449895\ttotal: 1.07s\tremaining: 396ms\n",
      "73:\tlearn: 0.3450102\ttotal: 1.09s\tremaining: 382ms\n",
      "74:\tlearn: 0.3450102\ttotal: 1.1s\tremaining: 368ms\n",
      "75:\tlearn: 0.3449895\ttotal: 1.12s\tremaining: 354ms\n",
      "76:\tlearn: 0.3449895\ttotal: 1.14s\tremaining: 339ms\n",
      "77:\tlearn: 0.3468444\ttotal: 1.15s\tremaining: 325ms\n",
      "78:\tlearn: 0.3454250\ttotal: 1.16s\tremaining: 310ms\n",
      "79:\tlearn: 0.3475130\ttotal: 1.18s\tremaining: 296ms\n",
      "80:\tlearn: 0.3475130\ttotal: 1.19s\tremaining: 280ms\n",
      "81:\tlearn: 0.3497248\ttotal: 1.21s\tremaining: 266ms\n",
      "82:\tlearn: 0.3495483\ttotal: 1.23s\tremaining: 252ms\n",
      "83:\tlearn: 0.3483577\ttotal: 1.24s\tremaining: 237ms\n",
      "84:\tlearn: 0.3483577\ttotal: 1.26s\tremaining: 222ms\n",
      "85:\tlearn: 0.3483577\ttotal: 1.27s\tremaining: 207ms\n",
      "86:\tlearn: 0.3502899\ttotal: 1.28s\tremaining: 192ms\n",
      "87:\tlearn: 0.3488832\ttotal: 1.3s\tremaining: 178ms\n",
      "88:\tlearn: 0.3488623\ttotal: 1.32s\tremaining: 163ms\n",
      "89:\tlearn: 0.3488623\ttotal: 1.34s\tremaining: 149ms\n",
      "90:\tlearn: 0.3488623\ttotal: 1.35s\tremaining: 133ms\n",
      "91:\tlearn: 0.3488623\ttotal: 1.36s\tremaining: 119ms\n",
      "92:\tlearn: 0.3488623\ttotal: 1.37s\tremaining: 103ms\n",
      "93:\tlearn: 0.3483160\ttotal: 1.39s\tremaining: 88.7ms\n",
      "94:\tlearn: 0.3496830\ttotal: 1.41s\tremaining: 74ms\n",
      "95:\tlearn: 0.3495843\ttotal: 1.42s\tremaining: 59.3ms\n",
      "96:\tlearn: 0.3495843\ttotal: 1.43s\tremaining: 44.3ms\n",
      "97:\tlearn: 0.3510867\ttotal: 1.45s\tremaining: 29.6ms\n",
      "98:\tlearn: 0.3524854\ttotal: 1.47s\tremaining: 14.8ms\n",
      "99:\tlearn: 0.3524854\ttotal: 1.48s\tremaining: 0us\n",
      "[CV] END ........depth=7, iterations=100, learning_rate=0.01; total time=   3.2s\n",
      "0:\tlearn: 0.3446198\ttotal: 20.8ms\tremaining: 2.06s\n",
      "1:\tlearn: 0.3602287\ttotal: 39ms\tremaining: 1.91s\n",
      "2:\tlearn: 0.3483631\ttotal: 55ms\tremaining: 1.78s\n",
      "3:\tlearn: 0.3482486\ttotal: 70.6ms\tremaining: 1.7s\n",
      "4:\tlearn: 0.3445616\ttotal: 87.5ms\tremaining: 1.66s\n",
      "5:\tlearn: 0.3458972\ttotal: 96.6ms\tremaining: 1.51s\n",
      "6:\tlearn: 0.3504304\ttotal: 106ms\tremaining: 1.4s\n",
      "7:\tlearn: 0.3505857\ttotal: 116ms\tremaining: 1.34s\n",
      "8:\tlearn: 0.3508038\ttotal: 134ms\tremaining: 1.35s\n",
      "9:\tlearn: 0.3507052\ttotal: 150ms\tremaining: 1.35s\n",
      "10:\tlearn: 0.3504095\ttotal: 159ms\tremaining: 1.28s\n",
      "11:\tlearn: 0.3498445\ttotal: 175ms\tremaining: 1.29s\n",
      "12:\tlearn: 0.3498445\ttotal: 189ms\tremaining: 1.26s\n",
      "13:\tlearn: 0.3508038\ttotal: 204ms\tremaining: 1.25s\n",
      "14:\tlearn: 0.3507052\ttotal: 223ms\tremaining: 1.26s\n",
      "15:\tlearn: 0.3508038\ttotal: 239ms\tremaining: 1.25s\n",
      "16:\tlearn: 0.3507052\ttotal: 255ms\tremaining: 1.25s\n",
      "17:\tlearn: 0.3507472\ttotal: 271ms\tremaining: 1.24s\n",
      "18:\tlearn: 0.3508038\ttotal: 289ms\tremaining: 1.23s\n",
      "19:\tlearn: 0.3509443\ttotal: 306ms\tremaining: 1.22s\n",
      "20:\tlearn: 0.3509443\ttotal: 318ms\tremaining: 1.2s\n",
      "21:\tlearn: 0.3509024\ttotal: 328ms\tremaining: 1.16s\n",
      "22:\tlearn: 0.3508038\ttotal: 337ms\tremaining: 1.13s\n",
      "23:\tlearn: 0.3509024\ttotal: 355ms\tremaining: 1.12s\n",
      "24:\tlearn: 0.3510009\ttotal: 372ms\tremaining: 1.12s\n",
      "25:\tlearn: 0.3510994\ttotal: 385ms\tremaining: 1.1s\n",
      "26:\tlearn: 0.3510994\ttotal: 402ms\tremaining: 1.09s\n",
      "27:\tlearn: 0.3511414\ttotal: 421ms\tremaining: 1.08s\n",
      "28:\tlearn: 0.3510994\ttotal: 438ms\tremaining: 1.07s\n",
      "29:\tlearn: 0.3510994\ttotal: 450ms\tremaining: 1.05s\n",
      "30:\tlearn: 0.3510994\ttotal: 468ms\tremaining: 1.04s\n",
      "31:\tlearn: 0.3510994\ttotal: 488ms\tremaining: 1.04s\n",
      "32:\tlearn: 0.3516064\ttotal: 509ms\tremaining: 1.03s\n",
      "33:\tlearn: 0.3516064\ttotal: 522ms\tremaining: 1.01s\n",
      "34:\tlearn: 0.3515079\ttotal: 542ms\tremaining: 1.01s\n",
      "35:\tlearn: 0.3527166\ttotal: 560ms\tremaining: 996ms\n",
      "36:\tlearn: 0.3514095\ttotal: 580ms\tremaining: 987ms\n",
      "37:\tlearn: 0.3514095\ttotal: 597ms\tremaining: 975ms\n",
      "38:\tlearn: 0.3514095\ttotal: 615ms\tremaining: 962ms\n",
      "39:\tlearn: 0.3536629\ttotal: 631ms\tremaining: 947ms\n",
      "40:\tlearn: 0.3536629\ttotal: 659ms\tremaining: 948ms\n",
      "41:\tlearn: 0.3536629\ttotal: 668ms\tremaining: 922ms\n",
      "42:\tlearn: 0.3514095\ttotal: 680ms\tremaining: 901ms\n",
      "43:\tlearn: 0.3549135\ttotal: 697ms\tremaining: 887ms\n",
      "44:\tlearn: 0.3558406\ttotal: 718ms\tremaining: 878ms\n",
      "45:\tlearn: 0.3558406\ttotal: 733ms\tremaining: 861ms\n",
      "46:\tlearn: 0.3555899\ttotal: 751ms\tremaining: 847ms\n",
      "47:\tlearn: 0.3558406\ttotal: 764ms\tremaining: 828ms\n",
      "48:\tlearn: 0.3558406\ttotal: 773ms\tremaining: 805ms\n",
      "49:\tlearn: 0.3558406\ttotal: 785ms\tremaining: 785ms\n",
      "50:\tlearn: 0.3555899\ttotal: 796ms\tremaining: 765ms\n",
      "51:\tlearn: 0.3549135\ttotal: 814ms\tremaining: 751ms\n",
      "52:\tlearn: 0.3549135\ttotal: 831ms\tremaining: 737ms\n",
      "53:\tlearn: 0.3549135\ttotal: 841ms\tremaining: 716ms\n",
      "54:\tlearn: 0.3549135\ttotal: 858ms\tremaining: 702ms\n",
      "55:\tlearn: 0.3559382\ttotal: 876ms\tremaining: 688ms\n",
      "56:\tlearn: 0.3565579\ttotal: 891ms\tremaining: 672ms\n",
      "57:\tlearn: 0.3583397\ttotal: 908ms\tremaining: 658ms\n",
      "58:\tlearn: 0.3577650\ttotal: 925ms\tremaining: 643ms\n",
      "59:\tlearn: 0.3577650\ttotal: 943ms\tremaining: 628ms\n",
      "60:\tlearn: 0.3577862\ttotal: 959ms\tremaining: 613ms\n",
      "61:\tlearn: 0.3577862\ttotal: 970ms\tremaining: 595ms\n",
      "62:\tlearn: 0.3577862\ttotal: 986ms\tremaining: 579ms\n",
      "63:\tlearn: 0.3568209\ttotal: 997ms\tremaining: 561ms\n",
      "64:\tlearn: 0.3571471\ttotal: 1.01s\tremaining: 546ms\n",
      "65:\tlearn: 0.3568209\ttotal: 1.03s\tremaining: 529ms\n",
      "66:\tlearn: 0.3571471\ttotal: 1.04s\tremaining: 514ms\n",
      "67:\tlearn: 0.3571471\ttotal: 1.06s\tremaining: 499ms\n",
      "68:\tlearn: 0.3571471\ttotal: 1.07s\tremaining: 481ms\n",
      "69:\tlearn: 0.3564732\ttotal: 1.09s\tremaining: 467ms\n",
      "70:\tlearn: 0.3577862\ttotal: 1.11s\tremaining: 452ms\n",
      "71:\tlearn: 0.3571471\ttotal: 1.12s\tremaining: 436ms\n",
      "72:\tlearn: 0.3578748\ttotal: 1.14s\tremaining: 420ms\n",
      "73:\tlearn: 0.3577862\ttotal: 1.15s\tremaining: 403ms\n",
      "74:\tlearn: 0.3582125\ttotal: 1.16s\tremaining: 388ms\n",
      "75:\tlearn: 0.3582125\ttotal: 1.17s\tremaining: 370ms\n",
      "76:\tlearn: 0.3582125\ttotal: 1.19s\tremaining: 356ms\n",
      "77:\tlearn: 0.3582125\ttotal: 1.21s\tremaining: 341ms\n",
      "78:\tlearn: 0.3587863\ttotal: 1.23s\tremaining: 326ms\n",
      "79:\tlearn: 0.3582125\ttotal: 1.24s\tremaining: 311ms\n",
      "80:\tlearn: 0.3582125\ttotal: 1.26s\tremaining: 296ms\n",
      "81:\tlearn: 0.3592836\ttotal: 1.28s\tremaining: 281ms\n",
      "82:\tlearn: 0.3592836\ttotal: 1.29s\tremaining: 264ms\n",
      "83:\tlearn: 0.3592836\ttotal: 1.3s\tremaining: 248ms\n",
      "84:\tlearn: 0.3592836\ttotal: 1.32s\tremaining: 233ms\n",
      "85:\tlearn: 0.3592836\ttotal: 1.34s\tremaining: 218ms\n",
      "86:\tlearn: 0.3592836\ttotal: 1.35s\tremaining: 202ms\n",
      "87:\tlearn: 0.3592836\ttotal: 1.37s\tremaining: 187ms\n",
      "88:\tlearn: 0.3592836\ttotal: 1.38s\tremaining: 171ms\n",
      "89:\tlearn: 0.3592836\ttotal: 1.4s\tremaining: 155ms\n",
      "90:\tlearn: 0.3592411\ttotal: 1.41s\tremaining: 140ms\n",
      "91:\tlearn: 0.3592623\ttotal: 1.43s\tremaining: 124ms\n",
      "92:\tlearn: 0.3592623\ttotal: 1.45s\tremaining: 109ms\n",
      "93:\tlearn: 0.3593593\ttotal: 1.46s\tremaining: 93.3ms\n",
      "94:\tlearn: 0.3592623\ttotal: 1.47s\tremaining: 77.6ms\n",
      "95:\tlearn: 0.3595227\ttotal: 1.49s\tremaining: 62.1ms\n",
      "96:\tlearn: 0.3603306\ttotal: 1.51s\tremaining: 46.6ms\n",
      "97:\tlearn: 0.3603306\ttotal: 1.52s\tremaining: 31.1ms\n",
      "98:\tlearn: 0.3603306\ttotal: 1.55s\tremaining: 15.7ms\n",
      "99:\tlearn: 0.3603306\ttotal: 1.56s\tremaining: 0us\n",
      "[CV] END ........depth=7, iterations=100, learning_rate=0.01; total time=   2.6s\n",
      "0:\tlearn: 0.3522564\ttotal: 20.5ms\tremaining: 2.03s\n",
      "1:\tlearn: 0.3522352\ttotal: 37.7ms\tremaining: 1.84s\n",
      "2:\tlearn: 0.3520586\ttotal: 53.7ms\tremaining: 1.74s\n",
      "3:\tlearn: 0.3524330\ttotal: 69.8ms\tremaining: 1.68s\n",
      "4:\tlearn: 0.3522564\ttotal: 86.6ms\tremaining: 1.65s\n",
      "5:\tlearn: 0.3568747\ttotal: 93.9ms\tremaining: 1.47s\n",
      "6:\tlearn: 0.3568747\ttotal: 103ms\tremaining: 1.37s\n",
      "7:\tlearn: 0.3569726\ttotal: 120ms\tremaining: 1.38s\n",
      "8:\tlearn: 0.3569300\ttotal: 128ms\tremaining: 1.29s\n",
      "9:\tlearn: 0.3569300\ttotal: 139ms\tremaining: 1.25s\n",
      "10:\tlearn: 0.3570620\ttotal: 151ms\tremaining: 1.22s\n",
      "11:\tlearn: 0.3570620\ttotal: 168ms\tremaining: 1.23s\n",
      "12:\tlearn: 0.3570620\ttotal: 185ms\tremaining: 1.24s\n",
      "13:\tlearn: 0.3569641\ttotal: 199ms\tremaining: 1.22s\n",
      "14:\tlearn: 0.3569854\ttotal: 215ms\tremaining: 1.22s\n",
      "15:\tlearn: 0.3570833\ttotal: 230ms\tremaining: 1.21s\n",
      "16:\tlearn: 0.3571599\ttotal: 247ms\tremaining: 1.21s\n",
      "17:\tlearn: 0.3571599\ttotal: 258ms\tremaining: 1.18s\n",
      "18:\tlearn: 0.3570620\ttotal: 267ms\tremaining: 1.14s\n",
      "19:\tlearn: 0.3569641\ttotal: 278ms\tremaining: 1.11s\n",
      "20:\tlearn: 0.3569641\ttotal: 295ms\tremaining: 1.11s\n",
      "21:\tlearn: 0.3569854\ttotal: 313ms\tremaining: 1.11s\n",
      "22:\tlearn: 0.3570067\ttotal: 325ms\tremaining: 1.09s\n",
      "23:\tlearn: 0.3570833\ttotal: 341ms\tremaining: 1.08s\n",
      "24:\tlearn: 0.3570833\ttotal: 359ms\tremaining: 1.07s\n",
      "25:\tlearn: 0.3571046\ttotal: 371ms\tremaining: 1.05s\n",
      "26:\tlearn: 0.3570833\ttotal: 387ms\tremaining: 1.05s\n",
      "27:\tlearn: 0.3570833\ttotal: 403ms\tremaining: 1.03s\n",
      "28:\tlearn: 0.3568662\ttotal: 420ms\tremaining: 1.03s\n",
      "29:\tlearn: 0.3568875\ttotal: 437ms\tremaining: 1.02s\n",
      "30:\tlearn: 0.3568875\ttotal: 453ms\tremaining: 1.01s\n",
      "31:\tlearn: 0.3568875\ttotal: 468ms\tremaining: 994ms\n",
      "32:\tlearn: 0.3569088\ttotal: 487ms\tremaining: 989ms\n",
      "33:\tlearn: 0.3569088\ttotal: 501ms\tremaining: 973ms\n",
      "34:\tlearn: 0.3568959\ttotal: 519ms\tremaining: 963ms\n",
      "35:\tlearn: 0.3568959\ttotal: 535ms\tremaining: 950ms\n",
      "36:\tlearn: 0.3571258\ttotal: 552ms\tremaining: 940ms\n",
      "37:\tlearn: 0.3570067\ttotal: 569ms\tremaining: 928ms\n",
      "38:\tlearn: 0.3570067\ttotal: 587ms\tremaining: 917ms\n",
      "39:\tlearn: 0.3570067\ttotal: 604ms\tremaining: 905ms\n",
      "40:\tlearn: 0.3570067\ttotal: 619ms\tremaining: 891ms\n",
      "41:\tlearn: 0.3570279\ttotal: 638ms\tremaining: 882ms\n",
      "42:\tlearn: 0.3570279\ttotal: 653ms\tremaining: 866ms\n",
      "43:\tlearn: 0.3569300\ttotal: 672ms\tremaining: 855ms\n",
      "44:\tlearn: 0.3569300\ttotal: 693ms\tremaining: 846ms\n",
      "45:\tlearn: 0.3570279\ttotal: 711ms\tremaining: 834ms\n",
      "46:\tlearn: 0.3570279\ttotal: 728ms\tremaining: 821ms\n",
      "47:\tlearn: 0.3570279\ttotal: 747ms\tremaining: 809ms\n",
      "48:\tlearn: 0.3570279\ttotal: 764ms\tremaining: 795ms\n",
      "49:\tlearn: 0.3570279\ttotal: 777ms\tremaining: 777ms\n",
      "50:\tlearn: 0.3570279\ttotal: 797ms\tremaining: 765ms\n",
      "51:\tlearn: 0.3570279\ttotal: 811ms\tremaining: 749ms\n",
      "52:\tlearn: 0.3570279\ttotal: 830ms\tremaining: 736ms\n",
      "53:\tlearn: 0.3570279\ttotal: 849ms\tremaining: 724ms\n",
      "54:\tlearn: 0.3570279\ttotal: 869ms\tremaining: 711ms\n",
      "55:\tlearn: 0.3577381\ttotal: 892ms\tremaining: 701ms\n",
      "56:\tlearn: 0.3577381\ttotal: 914ms\tremaining: 690ms\n",
      "57:\tlearn: 0.3570279\ttotal: 933ms\tremaining: 676ms\n",
      "58:\tlearn: 0.3570279\ttotal: 952ms\tremaining: 662ms\n",
      "59:\tlearn: 0.3570279\ttotal: 970ms\tremaining: 647ms\n",
      "60:\tlearn: 0.3570279\ttotal: 981ms\tremaining: 627ms\n",
      "61:\tlearn: 0.3570279\ttotal: 999ms\tremaining: 612ms\n",
      "62:\tlearn: 0.3570279\ttotal: 1.01s\tremaining: 597ms\n",
      "63:\tlearn: 0.3570279\ttotal: 1.03s\tremaining: 578ms\n",
      "64:\tlearn: 0.3570279\ttotal: 1.04s\tremaining: 560ms\n",
      "65:\tlearn: 0.3570279\ttotal: 1.05s\tremaining: 543ms\n",
      "66:\tlearn: 0.3598242\ttotal: 1.07s\tremaining: 528ms\n",
      "67:\tlearn: 0.3582605\ttotal: 1.09s\tremaining: 512ms\n",
      "68:\tlearn: 0.3577381\ttotal: 1.1s\tremaining: 494ms\n",
      "69:\tlearn: 0.3577381\ttotal: 1.11s\tremaining: 476ms\n",
      "70:\tlearn: 0.3577381\ttotal: 1.12s\tremaining: 459ms\n",
      "71:\tlearn: 0.3577381\ttotal: 1.14s\tremaining: 443ms\n",
      "72:\tlearn: 0.3582605\ttotal: 1.15s\tremaining: 427ms\n",
      "73:\tlearn: 0.3582605\ttotal: 1.17s\tremaining: 411ms\n",
      "74:\tlearn: 0.3582605\ttotal: 1.18s\tremaining: 393ms\n",
      "75:\tlearn: 0.3582605\ttotal: 1.2s\tremaining: 378ms\n",
      "76:\tlearn: 0.3582605\ttotal: 1.21s\tremaining: 361ms\n",
      "77:\tlearn: 0.3582605\ttotal: 1.23s\tremaining: 346ms\n",
      "78:\tlearn: 0.3598242\ttotal: 1.24s\tremaining: 330ms\n",
      "79:\tlearn: 0.3598242\ttotal: 1.26s\tremaining: 315ms\n",
      "80:\tlearn: 0.3598242\ttotal: 1.27s\tremaining: 298ms\n",
      "81:\tlearn: 0.3598242\ttotal: 1.28s\tremaining: 282ms\n",
      "82:\tlearn: 0.3598242\ttotal: 1.3s\tremaining: 266ms\n",
      "83:\tlearn: 0.3598242\ttotal: 1.31s\tremaining: 250ms\n",
      "84:\tlearn: 0.3598242\ttotal: 1.33s\tremaining: 235ms\n",
      "85:\tlearn: 0.3598242\ttotal: 1.34s\tremaining: 219ms\n",
      "86:\tlearn: 0.3598242\ttotal: 1.36s\tremaining: 203ms\n",
      "87:\tlearn: 0.3598242\ttotal: 1.37s\tremaining: 187ms\n",
      "88:\tlearn: 0.3598242\ttotal: 1.39s\tremaining: 172ms\n",
      "89:\tlearn: 0.3608113\ttotal: 1.41s\tremaining: 157ms\n",
      "90:\tlearn: 0.3608113\ttotal: 1.43s\tremaining: 141ms\n",
      "91:\tlearn: 0.3608113\ttotal: 1.44s\tremaining: 126ms\n",
      "92:\tlearn: 0.3608113\ttotal: 1.46s\tremaining: 110ms\n",
      "93:\tlearn: 0.3608113\ttotal: 1.48s\tremaining: 94.6ms\n",
      "94:\tlearn: 0.3608113\ttotal: 1.49s\tremaining: 78.5ms\n",
      "95:\tlearn: 0.3612659\ttotal: 1.51s\tremaining: 62.9ms\n",
      "96:\tlearn: 0.3612659\ttotal: 1.52s\tremaining: 47.2ms\n",
      "97:\tlearn: 0.3612659\ttotal: 1.54s\tremaining: 31.5ms\n",
      "98:\tlearn: 0.3612659\ttotal: 1.55s\tremaining: 15.7ms\n",
      "99:\tlearn: 0.3612659\ttotal: 1.56s\tremaining: 0us\n",
      "[CV] END ........depth=7, iterations=100, learning_rate=0.01; total time=   3.0s\n",
      "0:\tlearn: 0.3623988\ttotal: 21.5ms\tremaining: 2.13s\n",
      "1:\tlearn: 0.3499581\ttotal: 29ms\tremaining: 1.42s\n",
      "2:\tlearn: 0.3464520\ttotal: 50.1ms\tremaining: 1.62s\n",
      "3:\tlearn: 0.3465305\ttotal: 63.9ms\tremaining: 1.53s\n",
      "4:\tlearn: 0.3474607\ttotal: 82ms\tremaining: 1.56s\n",
      "5:\tlearn: 0.3474607\ttotal: 101ms\tremaining: 1.59s\n",
      "6:\tlearn: 0.3465305\ttotal: 119ms\tremaining: 1.58s\n",
      "7:\tlearn: 0.3465305\ttotal: 132ms\tremaining: 1.51s\n",
      "8:\tlearn: 0.3465305\ttotal: 148ms\tremaining: 1.5s\n",
      "9:\tlearn: 0.3465305\ttotal: 164ms\tremaining: 1.48s\n",
      "10:\tlearn: 0.3468284\ttotal: 177ms\tremaining: 1.44s\n",
      "11:\tlearn: 0.3468284\ttotal: 195ms\tremaining: 1.43s\n",
      "12:\tlearn: 0.3468284\ttotal: 212ms\tremaining: 1.42s\n",
      "13:\tlearn: 0.3468284\ttotal: 225ms\tremaining: 1.38s\n",
      "14:\tlearn: 0.3468284\ttotal: 243ms\tremaining: 1.37s\n",
      "15:\tlearn: 0.3468284\ttotal: 256ms\tremaining: 1.34s\n",
      "16:\tlearn: 0.3468284\ttotal: 272ms\tremaining: 1.33s\n",
      "17:\tlearn: 0.3471055\ttotal: 283ms\tremaining: 1.29s\n",
      "18:\tlearn: 0.3473823\ttotal: 299ms\tremaining: 1.27s\n",
      "19:\tlearn: 0.3473823\ttotal: 312ms\tremaining: 1.25s\n",
      "20:\tlearn: 0.3471055\ttotal: 328ms\tremaining: 1.23s\n",
      "21:\tlearn: 0.3470062\ttotal: 337ms\tremaining: 1.19s\n",
      "22:\tlearn: 0.3469069\ttotal: 344ms\tremaining: 1.15s\n",
      "23:\tlearn: 0.3466298\ttotal: 361ms\tremaining: 1.14s\n",
      "24:\tlearn: 0.3466298\ttotal: 383ms\tremaining: 1.15s\n",
      "25:\tlearn: 0.3466298\ttotal: 399ms\tremaining: 1.13s\n",
      "26:\tlearn: 0.3466298\ttotal: 412ms\tremaining: 1.11s\n",
      "27:\tlearn: 0.3466298\ttotal: 429ms\tremaining: 1.1s\n",
      "28:\tlearn: 0.3466298\ttotal: 444ms\tremaining: 1.09s\n",
      "29:\tlearn: 0.3466298\ttotal: 461ms\tremaining: 1.08s\n",
      "30:\tlearn: 0.3466298\ttotal: 472ms\tremaining: 1.05s\n",
      "31:\tlearn: 0.3466298\ttotal: 483ms\tremaining: 1.02s\n",
      "32:\tlearn: 0.3466298\ttotal: 501ms\tremaining: 1.02s\n",
      "33:\tlearn: 0.3466298\ttotal: 516ms\tremaining: 1s\n",
      "34:\tlearn: 0.3466298\ttotal: 535ms\tremaining: 994ms\n",
      "35:\tlearn: 0.3466298\ttotal: 554ms\tremaining: 985ms\n",
      "36:\tlearn: 0.3466298\ttotal: 570ms\tremaining: 971ms\n",
      "37:\tlearn: 0.3466298\ttotal: 588ms\tremaining: 960ms\n",
      "38:\tlearn: 0.3466298\ttotal: 599ms\tremaining: 937ms\n",
      "39:\tlearn: 0.3466298\ttotal: 614ms\tremaining: 921ms\n",
      "40:\tlearn: 0.3465305\ttotal: 627ms\tremaining: 902ms\n",
      "41:\tlearn: 0.3465305\ttotal: 644ms\tremaining: 889ms\n",
      "42:\tlearn: 0.3466298\ttotal: 662ms\tremaining: 877ms\n",
      "43:\tlearn: 0.3465305\ttotal: 671ms\tremaining: 854ms\n",
      "44:\tlearn: 0.3465305\ttotal: 685ms\tremaining: 837ms\n",
      "45:\tlearn: 0.3465305\ttotal: 702ms\tremaining: 824ms\n",
      "46:\tlearn: 0.3465513\ttotal: 718ms\tremaining: 810ms\n",
      "47:\tlearn: 0.3465513\ttotal: 734ms\tremaining: 795ms\n",
      "48:\tlearn: 0.3465513\ttotal: 744ms\tremaining: 774ms\n",
      "49:\tlearn: 0.3465513\ttotal: 759ms\tremaining: 759ms\n",
      "50:\tlearn: 0.3465513\ttotal: 766ms\tremaining: 736ms\n",
      "51:\tlearn: 0.3465513\ttotal: 780ms\tremaining: 720ms\n",
      "52:\tlearn: 0.3465513\ttotal: 796ms\tremaining: 706ms\n",
      "53:\tlearn: 0.3465513\ttotal: 809ms\tremaining: 689ms\n",
      "54:\tlearn: 0.3465513\ttotal: 822ms\tremaining: 672ms\n",
      "55:\tlearn: 0.3465513\ttotal: 836ms\tremaining: 657ms\n",
      "56:\tlearn: 0.3468493\ttotal: 854ms\tremaining: 644ms\n",
      "57:\tlearn: 0.3468493\ttotal: 871ms\tremaining: 631ms\n",
      "58:\tlearn: 0.3467500\ttotal: 888ms\tremaining: 617ms\n",
      "59:\tlearn: 0.3464520\ttotal: 895ms\tremaining: 597ms\n",
      "60:\tlearn: 0.3470638\ttotal: 912ms\tremaining: 583ms\n",
      "61:\tlearn: 0.3470638\ttotal: 927ms\tremaining: 568ms\n",
      "62:\tlearn: 0.3470638\ttotal: 944ms\tremaining: 555ms\n",
      "63:\tlearn: 0.3467660\ttotal: 962ms\tremaining: 541ms\n",
      "64:\tlearn: 0.3467660\ttotal: 979ms\tremaining: 527ms\n",
      "65:\tlearn: 0.3470638\ttotal: 995ms\tremaining: 513ms\n",
      "66:\tlearn: 0.3470638\ttotal: 1.02s\tremaining: 501ms\n",
      "67:\tlearn: 0.3477530\ttotal: 1.04s\tremaining: 489ms\n",
      "68:\tlearn: 0.3477530\ttotal: 1.05s\tremaining: 474ms\n",
      "69:\tlearn: 0.3470638\ttotal: 1.08s\tremaining: 461ms\n",
      "70:\tlearn: 0.3477530\ttotal: 1.1s\tremaining: 448ms\n",
      "71:\tlearn: 0.3470638\ttotal: 1.11s\tremaining: 431ms\n",
      "72:\tlearn: 0.3477530\ttotal: 1.12s\tremaining: 416ms\n",
      "73:\tlearn: 0.3477530\ttotal: 1.16s\tremaining: 406ms\n",
      "74:\tlearn: 0.3477530\ttotal: 1.19s\tremaining: 396ms\n",
      "75:\tlearn: 0.3477530\ttotal: 1.22s\tremaining: 384ms\n",
      "76:\tlearn: 0.3477530\ttotal: 1.25s\tremaining: 372ms\n",
      "77:\tlearn: 0.3474556\ttotal: 1.27s\tremaining: 360ms\n",
      "78:\tlearn: 0.3474556\ttotal: 1.29s\tremaining: 344ms\n",
      "79:\tlearn: 0.3474556\ttotal: 1.31s\tremaining: 328ms\n",
      "80:\tlearn: 0.3474556\ttotal: 1.32s\tremaining: 310ms\n",
      "81:\tlearn: 0.3474556\ttotal: 1.34s\tremaining: 294ms\n",
      "82:\tlearn: 0.3477530\ttotal: 1.35s\tremaining: 278ms\n",
      "83:\tlearn: 0.3477530\ttotal: 1.36s\tremaining: 260ms\n",
      "84:\tlearn: 0.3477530\ttotal: 1.38s\tremaining: 244ms\n",
      "85:\tlearn: 0.3477530\ttotal: 1.39s\tremaining: 227ms\n",
      "86:\tlearn: 0.3477530\ttotal: 1.41s\tremaining: 211ms\n",
      "87:\tlearn: 0.3477530\ttotal: 1.42s\tremaining: 194ms\n",
      "88:\tlearn: 0.3477530\ttotal: 1.43s\tremaining: 177ms\n",
      "89:\tlearn: 0.3477530\ttotal: 1.45s\tremaining: 161ms\n",
      "90:\tlearn: 0.3477530\ttotal: 1.47s\tremaining: 145ms\n",
      "91:\tlearn: 0.3477530\ttotal: 1.48s\tremaining: 129ms\n",
      "92:\tlearn: 0.3477530\ttotal: 1.5s\tremaining: 113ms\n",
      "93:\tlearn: 0.3477530\ttotal: 1.51s\tremaining: 96.6ms\n",
      "94:\tlearn: 0.3490656\ttotal: 1.53s\tremaining: 80.5ms\n",
      "95:\tlearn: 0.3490656\ttotal: 1.54s\tremaining: 64.2ms\n",
      "96:\tlearn: 0.3490656\ttotal: 1.56s\tremaining: 48.1ms\n",
      "97:\tlearn: 0.3490656\ttotal: 1.57s\tremaining: 32.1ms\n",
      "98:\tlearn: 0.3495332\ttotal: 1.59s\tremaining: 16.1ms\n",
      "99:\tlearn: 0.3490656\ttotal: 1.6s\tremaining: 0us\n",
      "[CV] END ........depth=7, iterations=100, learning_rate=0.01; total time=   3.6s\n",
      "0:\tlearn: 0.3444211\ttotal: 11.1ms\tremaining: 1.1s\n",
      "1:\tlearn: 0.3607926\ttotal: 31.9ms\tremaining: 1.56s\n",
      "2:\tlearn: 0.3491266\ttotal: 45.5ms\tremaining: 1.47s\n",
      "3:\tlearn: 0.3486744\ttotal: 64.1ms\tremaining: 1.54s\n",
      "4:\tlearn: 0.3486744\ttotal: 75.8ms\tremaining: 1.44s\n",
      "5:\tlearn: 0.3491266\ttotal: 91.2ms\tremaining: 1.43s\n",
      "6:\tlearn: 0.3491266\ttotal: 101ms\tremaining: 1.34s\n",
      "7:\tlearn: 0.3490278\ttotal: 118ms\tremaining: 1.36s\n",
      "8:\tlearn: 0.3490278\ttotal: 135ms\tremaining: 1.36s\n",
      "9:\tlearn: 0.3486535\ttotal: 146ms\tremaining: 1.31s\n",
      "10:\tlearn: 0.3492045\ttotal: 160ms\tremaining: 1.3s\n",
      "11:\tlearn: 0.3499880\ttotal: 178ms\tremaining: 1.31s\n",
      "12:\tlearn: 0.3506509\ttotal: 196ms\tremaining: 1.31s\n",
      "13:\tlearn: 0.3505524\ttotal: 214ms\tremaining: 1.32s\n",
      "14:\tlearn: 0.3490069\ttotal: 224ms\tremaining: 1.27s\n",
      "15:\tlearn: 0.3490069\ttotal: 236ms\tremaining: 1.24s\n",
      "16:\tlearn: 0.3490278\ttotal: 244ms\tremaining: 1.19s\n",
      "17:\tlearn: 0.3491057\ttotal: 260ms\tremaining: 1.19s\n",
      "18:\tlearn: 0.3518397\ttotal: 283ms\tremaining: 1.21s\n",
      "19:\tlearn: 0.3506509\ttotal: 295ms\tremaining: 1.18s\n",
      "20:\tlearn: 0.3518397\ttotal: 306ms\tremaining: 1.15s\n",
      "21:\tlearn: 0.3514320\ttotal: 324ms\tremaining: 1.15s\n",
      "22:\tlearn: 0.3506509\ttotal: 331ms\tremaining: 1.11s\n",
      "23:\tlearn: 0.3506509\ttotal: 339ms\tremaining: 1.07s\n",
      "24:\tlearn: 0.3492405\ttotal: 348ms\tremaining: 1.04s\n",
      "25:\tlearn: 0.3491057\ttotal: 365ms\tremaining: 1.04s\n",
      "26:\tlearn: 0.3491057\ttotal: 382ms\tremaining: 1.03s\n",
      "27:\tlearn: 0.3492045\ttotal: 399ms\tremaining: 1.03s\n",
      "28:\tlearn: 0.3492045\ttotal: 412ms\tremaining: 1.01s\n",
      "29:\tlearn: 0.3491057\ttotal: 427ms\tremaining: 997ms\n",
      "30:\tlearn: 0.3491057\ttotal: 446ms\tremaining: 992ms\n",
      "31:\tlearn: 0.3492045\ttotal: 463ms\tremaining: 983ms\n",
      "32:\tlearn: 0.3492045\ttotal: 474ms\tremaining: 961ms\n",
      "33:\tlearn: 0.3492045\ttotal: 492ms\tremaining: 955ms\n",
      "34:\tlearn: 0.3492045\ttotal: 506ms\tremaining: 940ms\n",
      "35:\tlearn: 0.3492196\ttotal: 523ms\tremaining: 930ms\n",
      "36:\tlearn: 0.3491209\ttotal: 535ms\tremaining: 912ms\n",
      "37:\tlearn: 0.3491209\ttotal: 550ms\tremaining: 898ms\n",
      "38:\tlearn: 0.3492614\ttotal: 567ms\tremaining: 888ms\n",
      "39:\tlearn: 0.3493544\ttotal: 585ms\tremaining: 877ms\n",
      "40:\tlearn: 0.3492196\ttotal: 602ms\tremaining: 867ms\n",
      "41:\tlearn: 0.3492196\ttotal: 614ms\tremaining: 848ms\n",
      "42:\tlearn: 0.3492196\ttotal: 629ms\tremaining: 834ms\n",
      "43:\tlearn: 0.3492196\ttotal: 644ms\tremaining: 819ms\n",
      "44:\tlearn: 0.3493753\ttotal: 661ms\tremaining: 807ms\n",
      "45:\tlearn: 0.3493032\ttotal: 672ms\tremaining: 789ms\n",
      "46:\tlearn: 0.3493032\ttotal: 681ms\tremaining: 768ms\n",
      "47:\tlearn: 0.3493032\ttotal: 698ms\tremaining: 756ms\n",
      "48:\tlearn: 0.3493032\ttotal: 713ms\tremaining: 742ms\n",
      "49:\tlearn: 0.3492045\ttotal: 727ms\tremaining: 727ms\n",
      "50:\tlearn: 0.3492045\ttotal: 744ms\tremaining: 715ms\n",
      "51:\tlearn: 0.3492045\ttotal: 760ms\tremaining: 702ms\n",
      "52:\tlearn: 0.3492045\ttotal: 776ms\tremaining: 688ms\n",
      "53:\tlearn: 0.3491057\ttotal: 787ms\tremaining: 671ms\n",
      "54:\tlearn: 0.3492405\ttotal: 802ms\tremaining: 657ms\n",
      "55:\tlearn: 0.3506509\ttotal: 819ms\tremaining: 643ms\n",
      "56:\tlearn: 0.3506509\ttotal: 835ms\tremaining: 630ms\n",
      "57:\tlearn: 0.3506509\ttotal: 853ms\tremaining: 617ms\n",
      "58:\tlearn: 0.3492405\ttotal: 867ms\tremaining: 603ms\n",
      "59:\tlearn: 0.3492405\ttotal: 882ms\tremaining: 588ms\n",
      "60:\tlearn: 0.3519313\ttotal: 896ms\tremaining: 573ms\n",
      "61:\tlearn: 0.3519313\ttotal: 913ms\tremaining: 560ms\n",
      "62:\tlearn: 0.3519313\ttotal: 929ms\tremaining: 545ms\n",
      "63:\tlearn: 0.3506509\ttotal: 942ms\tremaining: 530ms\n",
      "64:\tlearn: 0.3519313\ttotal: 959ms\tremaining: 517ms\n",
      "65:\tlearn: 0.3519313\ttotal: 978ms\tremaining: 504ms\n",
      "66:\tlearn: 0.3523384\ttotal: 995ms\tremaining: 490ms\n",
      "67:\tlearn: 0.3519313\ttotal: 1s\tremaining: 473ms\n",
      "68:\tlearn: 0.3520296\ttotal: 1.02s\tremaining: 458ms\n",
      "69:\tlearn: 0.3524366\ttotal: 1.03s\tremaining: 444ms\n",
      "70:\tlearn: 0.3524366\ttotal: 1.05s\tremaining: 428ms\n",
      "71:\tlearn: 0.3524366\ttotal: 1.06s\tremaining: 414ms\n",
      "72:\tlearn: 0.3524366\ttotal: 1.08s\tremaining: 401ms\n",
      "73:\tlearn: 0.3524366\ttotal: 1.09s\tremaining: 385ms\n",
      "74:\tlearn: 0.3524366\ttotal: 1.11s\tremaining: 371ms\n",
      "75:\tlearn: 0.3525347\ttotal: 1.13s\tremaining: 357ms\n",
      "76:\tlearn: 0.3537180\ttotal: 1.14s\tremaining: 341ms\n",
      "77:\tlearn: 0.3537180\ttotal: 1.16s\tremaining: 327ms\n",
      "78:\tlearn: 0.3537180\ttotal: 1.18s\tremaining: 313ms\n",
      "79:\tlearn: 0.3537949\ttotal: 1.2s\tremaining: 299ms\n",
      "80:\tlearn: 0.3537949\ttotal: 1.21s\tremaining: 283ms\n",
      "81:\tlearn: 0.3538160\ttotal: 1.22s\tremaining: 269ms\n",
      "82:\tlearn: 0.3538160\ttotal: 1.24s\tremaining: 254ms\n",
      "83:\tlearn: 0.3538160\ttotal: 1.25s\tremaining: 239ms\n",
      "84:\tlearn: 0.3538160\ttotal: 1.27s\tremaining: 225ms\n",
      "85:\tlearn: 0.3543054\ttotal: 1.29s\tremaining: 210ms\n",
      "86:\tlearn: 0.3533615\ttotal: 1.31s\tremaining: 195ms\n",
      "87:\tlearn: 0.3532075\ttotal: 1.32s\tremaining: 180ms\n",
      "88:\tlearn: 0.3535155\ttotal: 1.34s\tremaining: 166ms\n",
      "89:\tlearn: 0.3534175\ttotal: 1.35s\tremaining: 150ms\n",
      "90:\tlearn: 0.3536135\ttotal: 1.37s\tremaining: 135ms\n",
      "91:\tlearn: 0.3536135\ttotal: 1.38s\tremaining: 120ms\n",
      "92:\tlearn: 0.3541034\ttotal: 1.39s\tremaining: 105ms\n",
      "93:\tlearn: 0.3549557\ttotal: 1.41s\tremaining: 90.1ms\n",
      "94:\tlearn: 0.3567696\ttotal: 1.43s\tremaining: 75.2ms\n",
      "95:\tlearn: 0.3568800\ttotal: 1.45s\tremaining: 60.3ms\n",
      "96:\tlearn: 0.3568800\ttotal: 1.46s\tremaining: 45.1ms\n",
      "97:\tlearn: 0.3572276\ttotal: 1.48s\tremaining: 30.2ms\n",
      "98:\tlearn: 0.3568800\ttotal: 1.49s\tremaining: 15ms\n",
      "99:\tlearn: 0.3568928\ttotal: 1.5s\tremaining: 0us\n",
      "[CV] END ........depth=7, iterations=100, learning_rate=0.01; total time=   2.6s\n",
      "0:\tlearn: 0.3431432\ttotal: 29.4ms\tremaining: 2.92s\n",
      "1:\tlearn: 0.3432017\ttotal: 51.3ms\tremaining: 2.51s\n",
      "2:\tlearn: 0.3564098\ttotal: 322ms\tremaining: 10.4s\n",
      "3:\tlearn: 0.3517756\ttotal: 368ms\tremaining: 8.84s\n",
      "4:\tlearn: 0.3468604\ttotal: 379ms\tremaining: 7.2s\n",
      "5:\tlearn: 0.3466827\ttotal: 394ms\tremaining: 6.18s\n",
      "6:\tlearn: 0.3453999\ttotal: 407ms\tremaining: 5.4s\n",
      "7:\tlearn: 0.3449438\ttotal: 418ms\tremaining: 4.8s\n",
      "8:\tlearn: 0.3478000\ttotal: 452ms\tremaining: 4.57s\n",
      "9:\tlearn: 0.3531094\ttotal: 470ms\tremaining: 4.23s\n",
      "10:\tlearn: 0.3525416\ttotal: 487ms\tremaining: 3.94s\n",
      "11:\tlearn: 0.3490335\ttotal: 496ms\tremaining: 3.64s\n",
      "12:\tlearn: 0.3483678\ttotal: 507ms\tremaining: 3.39s\n",
      "13:\tlearn: 0.3462278\ttotal: 516ms\tremaining: 3.17s\n",
      "14:\tlearn: 0.3475445\ttotal: 539ms\tremaining: 3.05s\n",
      "15:\tlearn: 0.3468763\ttotal: 558ms\tremaining: 2.93s\n",
      "16:\tlearn: 0.3514804\ttotal: 572ms\tremaining: 2.79s\n",
      "17:\tlearn: 0.3513046\ttotal: 584ms\tremaining: 2.66s\n",
      "18:\tlearn: 0.3529552\ttotal: 595ms\tremaining: 2.54s\n",
      "19:\tlearn: 0.3523168\ttotal: 945ms\tremaining: 3.78s\n",
      "20:\tlearn: 0.3508332\ttotal: 965ms\tremaining: 3.63s\n",
      "21:\tlearn: 0.3545720\ttotal: 1.04s\tremaining: 3.7s\n",
      "22:\tlearn: 0.3535366\ttotal: 1.05s\tremaining: 3.52s\n",
      "23:\tlearn: 0.3514804\ttotal: 1.07s\tremaining: 3.38s\n",
      "24:\tlearn: 0.3515788\ttotal: 1.32s\tremaining: 3.97s\n",
      "25:\tlearn: 0.3499372\ttotal: 1.33s\tremaining: 3.79s\n",
      "26:\tlearn: 0.3498385\ttotal: 1.35s\tremaining: 3.66s\n",
      "27:\tlearn: 0.3487843\ttotal: 1.37s\tremaining: 3.51s\n",
      "28:\tlearn: 0.3465834\ttotal: 1.38s\tremaining: 3.38s\n",
      "29:\tlearn: 0.3460707\ttotal: 1.39s\tremaining: 3.25s\n",
      "30:\tlearn: 0.3449853\ttotal: 1.42s\tremaining: 3.15s\n",
      "31:\tlearn: 0.3481597\ttotal: 1.44s\tremaining: 3.05s\n",
      "32:\tlearn: 0.3467819\ttotal: 1.45s\tremaining: 2.95s\n",
      "33:\tlearn: 0.3505709\ttotal: 1.47s\tremaining: 2.85s\n",
      "34:\tlearn: 0.3497307\ttotal: 1.48s\tremaining: 2.74s\n",
      "35:\tlearn: 0.3467611\ttotal: 1.49s\tremaining: 2.65s\n",
      "36:\tlearn: 0.3464633\ttotal: 1.5s\tremaining: 2.56s\n",
      "37:\tlearn: 0.3452424\ttotal: 1.51s\tremaining: 2.46s\n",
      "38:\tlearn: 0.3448857\ttotal: 1.52s\tremaining: 2.38s\n",
      "39:\tlearn: 0.3448857\ttotal: 1.54s\tremaining: 2.31s\n",
      "40:\tlearn: 0.3448857\ttotal: 1.57s\tremaining: 2.26s\n",
      "41:\tlearn: 0.3452796\ttotal: 1.59s\tremaining: 2.19s\n",
      "42:\tlearn: 0.3447861\ttotal: 1.6s\tremaining: 2.12s\n",
      "43:\tlearn: 0.3447861\ttotal: 1.61s\tremaining: 2.05s\n",
      "44:\tlearn: 0.3480762\ttotal: 1.65s\tremaining: 2.02s\n",
      "45:\tlearn: 0.3478417\ttotal: 1.68s\tremaining: 1.98s\n",
      "46:\tlearn: 0.3456152\ttotal: 1.69s\tremaining: 1.91s\n",
      "47:\tlearn: 0.3448857\ttotal: 1.71s\tremaining: 1.85s\n",
      "48:\tlearn: 0.3465626\ttotal: 1.73s\tremaining: 1.8s\n",
      "49:\tlearn: 0.3512690\ttotal: 1.75s\tremaining: 1.75s\n",
      "50:\tlearn: 0.3479408\ttotal: 1.76s\tremaining: 1.7s\n",
      "51:\tlearn: 0.3472314\ttotal: 1.78s\tremaining: 1.64s\n",
      "52:\tlearn: 0.3459505\ttotal: 1.79s\tremaining: 1.58s\n",
      "53:\tlearn: 0.3467771\ttotal: 1.84s\tremaining: 1.56s\n",
      "54:\tlearn: 0.3459505\ttotal: 1.86s\tremaining: 1.52s\n",
      "55:\tlearn: 0.3455365\ttotal: 1.88s\tremaining: 1.48s\n",
      "56:\tlearn: 0.3486700\ttotal: 1.93s\tremaining: 1.45s\n",
      "57:\tlearn: 0.3515014\ttotal: 1.97s\tremaining: 1.42s\n",
      "58:\tlearn: 0.3515014\ttotal: 1.98s\tremaining: 1.37s\n",
      "59:\tlearn: 0.3527307\ttotal: 2.06s\tremaining: 1.37s\n",
      "60:\tlearn: 0.3518740\ttotal: 2.14s\tremaining: 1.37s\n",
      "61:\tlearn: 0.3540824\ttotal: 2.28s\tremaining: 1.4s\n",
      "62:\tlearn: 0.3526115\ttotal: 2.29s\tremaining: 1.34s\n",
      "63:\tlearn: 0.3544319\ttotal: 2.34s\tremaining: 1.32s\n",
      "64:\tlearn: 0.3544952\ttotal: 2.58s\tremaining: 1.39s\n",
      "65:\tlearn: 0.3544952\ttotal: 2.6s\tremaining: 1.34s\n",
      "66:\tlearn: 0.3546276\ttotal: 2.61s\tremaining: 1.29s\n",
      "67:\tlearn: 0.3542782\ttotal: 2.62s\tremaining: 1.23s\n",
      "68:\tlearn: 0.3542014\ttotal: 2.63s\tremaining: 1.18s\n",
      "69:\tlearn: 0.3528079\ttotal: 2.64s\tremaining: 1.13s\n",
      "70:\tlearn: 0.3545509\ttotal: 2.66s\tremaining: 1.09s\n",
      "71:\tlearn: 0.3543551\ttotal: 2.68s\tremaining: 1.04s\n",
      "72:\tlearn: 0.3543551\ttotal: 2.75s\tremaining: 1.02s\n",
      "73:\tlearn: 0.3541034\ttotal: 2.77s\tremaining: 974ms\n",
      "74:\tlearn: 0.3541034\ttotal: 2.78s\tremaining: 928ms\n",
      "75:\tlearn: 0.3543551\ttotal: 2.8s\tremaining: 884ms\n",
      "76:\tlearn: 0.3546698\ttotal: 2.83s\tremaining: 844ms\n",
      "77:\tlearn: 0.3553336\ttotal: 2.87s\tremaining: 808ms\n",
      "78:\tlearn: 0.3552358\ttotal: 2.88s\tremaining: 765ms\n",
      "79:\tlearn: 0.3546698\ttotal: 2.89s\tremaining: 724ms\n",
      "80:\tlearn: 0.3546698\ttotal: 2.93s\tremaining: 687ms\n",
      "81:\tlearn: 0.3553124\ttotal: 3.07s\tremaining: 674ms\n",
      "82:\tlearn: 0.3546698\ttotal: 3.09s\tremaining: 633ms\n",
      "83:\tlearn: 0.3545720\ttotal: 3.1s\tremaining: 591ms\n",
      "84:\tlearn: 0.3545720\ttotal: 3.13s\tremaining: 552ms\n",
      "85:\tlearn: 0.3543762\ttotal: 3.14s\tremaining: 511ms\n",
      "86:\tlearn: 0.3543762\ttotal: 3.15s\tremaining: 470ms\n",
      "87:\tlearn: 0.3542225\ttotal: 3.16s\tremaining: 431ms\n",
      "88:\tlearn: 0.3542225\ttotal: 3.17s\tremaining: 392ms\n",
      "89:\tlearn: 0.3542225\ttotal: 3.19s\tremaining: 354ms\n",
      "90:\tlearn: 0.3543551\ttotal: 3.2s\tremaining: 317ms\n",
      "91:\tlearn: 0.3543551\ttotal: 3.21s\tremaining: 279ms\n",
      "92:\tlearn: 0.3542014\ttotal: 3.23s\tremaining: 243ms\n",
      "93:\tlearn: 0.3543551\ttotal: 3.25s\tremaining: 207ms\n",
      "94:\tlearn: 0.3543551\ttotal: 3.26s\tremaining: 171ms\n",
      "95:\tlearn: 0.3542014\ttotal: 3.33s\tremaining: 139ms\n",
      "96:\tlearn: 0.3528079\ttotal: 3.35s\tremaining: 103ms\n",
      "97:\tlearn: 0.3528079\ttotal: 3.36s\tremaining: 68.6ms\n",
      "98:\tlearn: 0.3528290\ttotal: 3.37s\tremaining: 34.1ms\n",
      "99:\tlearn: 0.3526535\ttotal: 3.4s\tremaining: 0us\n",
      "[CV] END ......depth=15, iterations=100, learning_rate=0.001; total time=   4.8s\n",
      "0:\tlearn: 0.3446198\ttotal: 25.7ms\tremaining: 2.55s\n",
      "1:\tlearn: 0.3455289\ttotal: 40.9ms\tremaining: 2s\n",
      "2:\tlearn: 0.3481286\ttotal: 58.1ms\tremaining: 1.88s\n",
      "3:\tlearn: 0.3482277\ttotal: 75.1ms\tremaining: 1.8s\n",
      "4:\tlearn: 0.3484830\ttotal: 88.2ms\tremaining: 1.68s\n",
      "5:\tlearn: 0.3482068\ttotal: 102ms\tremaining: 1.6s\n",
      "6:\tlearn: 0.3494459\ttotal: 151ms\tremaining: 2.01s\n",
      "7:\tlearn: 0.3503230\ttotal: 164ms\tremaining: 1.89s\n",
      "8:\tlearn: 0.3512755\ttotal: 174ms\tremaining: 1.75s\n",
      "9:\tlearn: 0.3512545\ttotal: 184ms\tremaining: 1.66s\n",
      "10:\tlearn: 0.3512545\ttotal: 199ms\tremaining: 1.61s\n",
      "11:\tlearn: 0.3510575\ttotal: 233ms\tremaining: 1.71s\n",
      "12:\tlearn: 0.3511560\ttotal: 254ms\tremaining: 1.7s\n",
      "13:\tlearn: 0.3511560\ttotal: 273ms\tremaining: 1.67s\n",
      "14:\tlearn: 0.3510575\ttotal: 289ms\tremaining: 1.64s\n",
      "15:\tlearn: 0.3511350\ttotal: 317ms\tremaining: 1.66s\n",
      "16:\tlearn: 0.3512755\ttotal: 346ms\tremaining: 1.69s\n",
      "17:\tlearn: 0.3511770\ttotal: 374ms\tremaining: 1.7s\n",
      "18:\tlearn: 0.3510784\ttotal: 388ms\tremaining: 1.66s\n",
      "19:\tlearn: 0.3511770\ttotal: 445ms\tremaining: 1.78s\n",
      "20:\tlearn: 0.3512545\ttotal: 466ms\tremaining: 1.75s\n",
      "21:\tlearn: 0.3512755\ttotal: 485ms\tremaining: 1.72s\n",
      "22:\tlearn: 0.3512755\ttotal: 508ms\tremaining: 1.7s\n",
      "23:\tlearn: 0.3512755\ttotal: 534ms\tremaining: 1.69s\n",
      "24:\tlearn: 0.3512755\ttotal: 548ms\tremaining: 1.64s\n",
      "25:\tlearn: 0.3511770\ttotal: 562ms\tremaining: 1.6s\n",
      "26:\tlearn: 0.3511770\ttotal: 583ms\tremaining: 1.58s\n",
      "27:\tlearn: 0.3511770\ttotal: 632ms\tremaining: 1.63s\n",
      "28:\tlearn: 0.3511770\ttotal: 648ms\tremaining: 1.58s\n",
      "29:\tlearn: 0.3511770\ttotal: 657ms\tremaining: 1.53s\n",
      "30:\tlearn: 0.3511770\ttotal: 671ms\tremaining: 1.49s\n",
      "31:\tlearn: 0.3511770\ttotal: 680ms\tremaining: 1.44s\n",
      "32:\tlearn: 0.3511770\ttotal: 694ms\tremaining: 1.41s\n",
      "33:\tlearn: 0.3511770\ttotal: 1.02s\tremaining: 1.98s\n",
      "34:\tlearn: 0.3511770\ttotal: 1.04s\tremaining: 1.93s\n",
      "35:\tlearn: 0.3511770\ttotal: 1.05s\tremaining: 1.87s\n",
      "36:\tlearn: 0.3515854\ttotal: 1.07s\tremaining: 1.82s\n",
      "37:\tlearn: 0.3532146\ttotal: 1.12s\tremaining: 1.82s\n",
      "38:\tlearn: 0.3525343\ttotal: 1.13s\tremaining: 1.77s\n",
      "39:\tlearn: 0.3545162\ttotal: 1.16s\tremaining: 1.74s\n",
      "40:\tlearn: 0.3545162\ttotal: 1.21s\tremaining: 1.74s\n",
      "41:\tlearn: 0.3533127\ttotal: 1.23s\tremaining: 1.7s\n",
      "42:\tlearn: 0.3553336\ttotal: 1.25s\tremaining: 1.65s\n",
      "43:\tlearn: 0.3545162\ttotal: 1.26s\tremaining: 1.6s\n",
      "44:\tlearn: 0.3526325\ttotal: 1.28s\tremaining: 1.56s\n",
      "45:\tlearn: 0.3515854\ttotal: 1.29s\tremaining: 1.52s\n",
      "46:\tlearn: 0.3553336\ttotal: 1.33s\tremaining: 1.5s\n",
      "47:\tlearn: 0.3553336\ttotal: 1.35s\tremaining: 1.46s\n",
      "48:\tlearn: 0.3555846\ttotal: 1.37s\tremaining: 1.43s\n",
      "49:\tlearn: 0.3567824\ttotal: 1.38s\tremaining: 1.38s\n",
      "50:\tlearn: 0.3562051\ttotal: 1.4s\tremaining: 1.34s\n",
      "51:\tlearn: 0.3562051\ttotal: 1.41s\tremaining: 1.3s\n",
      "52:\tlearn: 0.3567824\ttotal: 1.44s\tremaining: 1.27s\n",
      "53:\tlearn: 0.3562051\ttotal: 1.45s\tremaining: 1.23s\n",
      "54:\tlearn: 0.3575240\ttotal: 1.71s\tremaining: 1.4s\n",
      "55:\tlearn: 0.3571852\ttotal: 1.73s\tremaining: 1.35s\n",
      "56:\tlearn: 0.3562051\ttotal: 1.74s\tremaining: 1.31s\n",
      "57:\tlearn: 0.3555846\ttotal: 1.75s\tremaining: 1.27s\n",
      "58:\tlearn: 0.3575240\ttotal: 2s\tremaining: 1.39s\n",
      "59:\tlearn: 0.3577862\ttotal: 2.03s\tremaining: 1.35s\n",
      "60:\tlearn: 0.3577862\ttotal: 2.04s\tremaining: 1.3s\n",
      "61:\tlearn: 0.3577862\ttotal: 2.05s\tremaining: 1.26s\n",
      "62:\tlearn: 0.3575240\ttotal: 2.06s\tremaining: 1.21s\n",
      "63:\tlearn: 0.3571852\ttotal: 2.08s\tremaining: 1.17s\n",
      "64:\tlearn: 0.3566849\ttotal: 2.1s\tremaining: 1.13s\n",
      "65:\tlearn: 0.3555846\ttotal: 2.13s\tremaining: 1.1s\n",
      "66:\tlearn: 0.3555846\ttotal: 2.15s\tremaining: 1.06s\n",
      "67:\tlearn: 0.3553336\ttotal: 2.16s\tremaining: 1.02s\n",
      "68:\tlearn: 0.3541319\ttotal: 2.18s\tremaining: 978ms\n",
      "69:\tlearn: 0.3541319\ttotal: 2.2s\tremaining: 942ms\n",
      "70:\tlearn: 0.3541319\ttotal: 2.21s\tremaining: 903ms\n",
      "71:\tlearn: 0.3530885\ttotal: 2.22s\tremaining: 864ms\n",
      "72:\tlearn: 0.3541319\ttotal: 2.53s\tremaining: 936ms\n",
      "73:\tlearn: 0.3541319\ttotal: 2.56s\tremaining: 899ms\n",
      "74:\tlearn: 0.3541319\ttotal: 2.57s\tremaining: 857ms\n",
      "75:\tlearn: 0.3541319\ttotal: 2.58s\tremaining: 814ms\n",
      "76:\tlearn: 0.3553336\ttotal: 2.59s\tremaining: 774ms\n",
      "77:\tlearn: 0.3567060\ttotal: 2.61s\tremaining: 736ms\n",
      "78:\tlearn: 0.3567060\ttotal: 2.62s\tremaining: 697ms\n",
      "79:\tlearn: 0.3555846\ttotal: 2.64s\tremaining: 661ms\n",
      "80:\tlearn: 0.3562051\ttotal: 2.66s\tremaining: 625ms\n",
      "81:\tlearn: 0.3562051\ttotal: 2.68s\tremaining: 588ms\n",
      "82:\tlearn: 0.3570454\ttotal: 2.71s\tremaining: 556ms\n",
      "83:\tlearn: 0.3562051\ttotal: 2.73s\tremaining: 519ms\n",
      "84:\tlearn: 0.3562051\ttotal: 2.75s\tremaining: 486ms\n",
      "85:\tlearn: 0.3562051\ttotal: 2.78s\tremaining: 453ms\n",
      "86:\tlearn: 0.3562051\ttotal: 2.8s\tremaining: 418ms\n",
      "87:\tlearn: 0.3562051\ttotal: 2.81s\tremaining: 384ms\n",
      "88:\tlearn: 0.3555846\ttotal: 2.87s\tremaining: 354ms\n",
      "89:\tlearn: 0.3555846\ttotal: 2.89s\tremaining: 321ms\n",
      "90:\tlearn: 0.3545162\ttotal: 2.9s\tremaining: 287ms\n",
      "91:\tlearn: 0.3555846\ttotal: 2.95s\tremaining: 257ms\n",
      "92:\tlearn: 0.3555846\ttotal: 3.1s\tremaining: 233ms\n",
      "93:\tlearn: 0.3553336\ttotal: 3.11s\tremaining: 199ms\n",
      "94:\tlearn: 0.3553336\ttotal: 3.13s\tremaining: 165ms\n",
      "95:\tlearn: 0.3555846\ttotal: 3.21s\tremaining: 134ms\n",
      "96:\tlearn: 0.3555846\ttotal: 3.23s\tremaining: 99.9ms\n",
      "97:\tlearn: 0.3555846\ttotal: 3.24s\tremaining: 66.1ms\n",
      "98:\tlearn: 0.3555846\ttotal: 3.25s\tremaining: 32.9ms\n",
      "99:\tlearn: 0.3555846\ttotal: 3.51s\tremaining: 0us\n",
      "[CV] END ......depth=15, iterations=100, learning_rate=0.001; total time=   4.6s\n",
      "0:\tlearn: 0.3748110\ttotal: 137ms\tremaining: 13.5s\n",
      "1:\tlearn: 0.3832521\ttotal: 156ms\tremaining: 7.62s\n",
      "2:\tlearn: 0.3558876\ttotal: 182ms\tremaining: 5.89s\n",
      "3:\tlearn: 0.3584894\ttotal: 196ms\tremaining: 4.71s\n",
      "4:\tlearn: 0.3594798\ttotal: 212ms\tremaining: 4.02s\n",
      "5:\tlearn: 0.4102649\ttotal: 230ms\tremaining: 3.6s\n",
      "6:\tlearn: 0.3584894\ttotal: 243ms\tremaining: 3.22s\n",
      "7:\tlearn: 0.3572577\ttotal: 256ms\tremaining: 2.94s\n",
      "8:\tlearn: 0.3572577\ttotal: 267ms\tremaining: 2.7s\n",
      "9:\tlearn: 0.3571599\ttotal: 280ms\tremaining: 2.52s\n",
      "10:\tlearn: 0.3570620\ttotal: 295ms\tremaining: 2.39s\n",
      "11:\tlearn: 0.3570620\ttotal: 331ms\tremaining: 2.43s\n",
      "12:\tlearn: 0.3570620\ttotal: 350ms\tremaining: 2.34s\n",
      "13:\tlearn: 0.3571599\ttotal: 486ms\tremaining: 2.98s\n",
      "14:\tlearn: 0.3571599\ttotal: 501ms\tremaining: 2.84s\n",
      "15:\tlearn: 0.3570620\ttotal: 524ms\tremaining: 2.75s\n",
      "16:\tlearn: 0.3570620\ttotal: 538ms\tremaining: 2.62s\n",
      "17:\tlearn: 0.3570620\ttotal: 554ms\tremaining: 2.52s\n",
      "18:\tlearn: 0.3570620\ttotal: 589ms\tremaining: 2.51s\n",
      "19:\tlearn: 0.3570620\ttotal: 611ms\tremaining: 2.44s\n",
      "20:\tlearn: 0.3570620\ttotal: 622ms\tremaining: 2.34s\n",
      "21:\tlearn: 0.3570620\ttotal: 631ms\tremaining: 2.24s\n",
      "22:\tlearn: 0.3570620\ttotal: 659ms\tremaining: 2.21s\n",
      "23:\tlearn: 0.3570833\ttotal: 679ms\tremaining: 2.15s\n",
      "24:\tlearn: 0.3571258\ttotal: 693ms\tremaining: 2.08s\n",
      "25:\tlearn: 0.3570492\ttotal: 707ms\tremaining: 2.01s\n",
      "26:\tlearn: 0.3575725\ttotal: 734ms\tremaining: 1.98s\n",
      "27:\tlearn: 0.3571471\ttotal: 774ms\tremaining: 1.99s\n",
      "28:\tlearn: 0.3571684\ttotal: 789ms\tremaining: 1.93s\n",
      "29:\tlearn: 0.3571599\ttotal: 798ms\tremaining: 1.86s\n",
      "30:\tlearn: 0.3571599\ttotal: 809ms\tremaining: 1.8s\n",
      "31:\tlearn: 0.3571599\ttotal: 816ms\tremaining: 1.73s\n",
      "32:\tlearn: 0.3571599\ttotal: 825ms\tremaining: 1.67s\n",
      "33:\tlearn: 0.3571599\ttotal: 846ms\tremaining: 1.64s\n",
      "34:\tlearn: 0.3571599\ttotal: 923ms\tremaining: 1.71s\n",
      "35:\tlearn: 0.3587700\ttotal: 1s\tremaining: 1.78s\n",
      "36:\tlearn: 0.3587700\ttotal: 1.03s\tremaining: 1.75s\n",
      "37:\tlearn: 0.3571812\ttotal: 1.03s\tremaining: 1.69s\n",
      "38:\tlearn: 0.3571812\ttotal: 1.05s\tremaining: 1.64s\n",
      "39:\tlearn: 0.3572024\ttotal: 1.06s\tremaining: 1.59s\n",
      "40:\tlearn: 0.3587913\ttotal: 1.11s\tremaining: 1.6s\n",
      "41:\tlearn: 0.3572237\ttotal: 1.12s\tremaining: 1.55s\n",
      "42:\tlearn: 0.3587700\ttotal: 1.37s\tremaining: 1.82s\n",
      "43:\tlearn: 0.3587700\ttotal: 1.39s\tremaining: 1.77s\n",
      "44:\tlearn: 0.3587913\ttotal: 1.4s\tremaining: 1.71s\n",
      "45:\tlearn: 0.3595626\ttotal: 1.45s\tremaining: 1.7s\n",
      "46:\tlearn: 0.3595626\ttotal: 1.46s\tremaining: 1.65s\n",
      "47:\tlearn: 0.3587151\ttotal: 1.48s\tremaining: 1.61s\n",
      "48:\tlearn: 0.3592366\ttotal: 1.51s\tremaining: 1.57s\n",
      "49:\tlearn: 0.3595626\ttotal: 1.53s\tremaining: 1.53s\n",
      "50:\tlearn: 0.3594651\ttotal: 1.54s\tremaining: 1.48s\n",
      "51:\tlearn: 0.3596934\ttotal: 1.6s\tremaining: 1.48s\n",
      "52:\tlearn: 0.3594651\ttotal: 1.61s\tremaining: 1.43s\n",
      "53:\tlearn: 0.3594651\ttotal: 1.64s\tremaining: 1.4s\n",
      "54:\tlearn: 0.3603989\ttotal: 1.95s\tremaining: 1.59s\n",
      "55:\tlearn: 0.3603989\ttotal: 1.96s\tremaining: 1.54s\n",
      "56:\tlearn: 0.3603989\ttotal: 1.97s\tremaining: 1.49s\n",
      "57:\tlearn: 0.3603989\ttotal: 1.99s\tremaining: 1.44s\n",
      "58:\tlearn: 0.3603989\ttotal: 2.01s\tremaining: 1.4s\n",
      "59:\tlearn: 0.3603989\ttotal: 2.04s\tremaining: 1.36s\n",
      "60:\tlearn: 0.3608211\ttotal: 2.06s\tremaining: 1.31s\n",
      "61:\tlearn: 0.3603989\ttotal: 2.06s\tremaining: 1.27s\n",
      "62:\tlearn: 0.3603989\ttotal: 2.08s\tremaining: 1.22s\n",
      "63:\tlearn: 0.3594651\ttotal: 2.1s\tremaining: 1.18s\n",
      "64:\tlearn: 0.3594651\ttotal: 2.12s\tremaining: 1.14s\n",
      "65:\tlearn: 0.3603989\ttotal: 2.26s\tremaining: 1.16s\n",
      "66:\tlearn: 0.3601710\ttotal: 2.29s\tremaining: 1.13s\n",
      "67:\tlearn: 0.3594651\ttotal: 2.31s\tremaining: 1.08s\n",
      "68:\tlearn: 0.3594651\ttotal: 2.32s\tremaining: 1.04s\n",
      "69:\tlearn: 0.3594651\ttotal: 2.33s\tremaining: 998ms\n",
      "70:\tlearn: 0.3593462\ttotal: 2.34s\tremaining: 956ms\n",
      "71:\tlearn: 0.3593676\ttotal: 2.36s\tremaining: 918ms\n",
      "72:\tlearn: 0.3591390\ttotal: 2.37s\tremaining: 876ms\n",
      "73:\tlearn: 0.3591390\ttotal: 2.38s\tremaining: 836ms\n",
      "74:\tlearn: 0.3595626\ttotal: 2.41s\tremaining: 805ms\n",
      "75:\tlearn: 0.3590414\ttotal: 2.43s\tremaining: 768ms\n",
      "76:\tlearn: 0.3595412\ttotal: 2.45s\tremaining: 732ms\n",
      "77:\tlearn: 0.3590201\ttotal: 2.46s\tremaining: 693ms\n",
      "78:\tlearn: 0.3590201\ttotal: 2.48s\tremaining: 659ms\n",
      "79:\tlearn: 0.3590201\ttotal: 2.5s\tremaining: 625ms\n",
      "80:\tlearn: 0.3586174\ttotal: 2.53s\tremaining: 593ms\n",
      "81:\tlearn: 0.3593676\ttotal: 2.56s\tremaining: 563ms\n",
      "82:\tlearn: 0.3591390\ttotal: 2.81s\tremaining: 576ms\n",
      "83:\tlearn: 0.3591390\ttotal: 2.83s\tremaining: 540ms\n",
      "84:\tlearn: 0.3591390\ttotal: 2.91s\tremaining: 514ms\n",
      "85:\tlearn: 0.3591390\ttotal: 2.92s\tremaining: 476ms\n",
      "86:\tlearn: 0.3591604\ttotal: 2.94s\tremaining: 439ms\n",
      "87:\tlearn: 0.3586174\ttotal: 2.94s\tremaining: 401ms\n",
      "88:\tlearn: 0.3586174\ttotal: 2.96s\tremaining: 366ms\n",
      "89:\tlearn: 0.3586174\ttotal: 2.98s\tremaining: 331ms\n",
      "90:\tlearn: 0.3586174\ttotal: 2.99s\tremaining: 296ms\n",
      "91:\tlearn: 0.3586174\ttotal: 3.01s\tremaining: 262ms\n",
      "92:\tlearn: 0.3586174\ttotal: 3.02s\tremaining: 227ms\n",
      "93:\tlearn: 0.3586174\ttotal: 3.03s\tremaining: 193ms\n",
      "94:\tlearn: 0.3586174\ttotal: 3.07s\tremaining: 161ms\n",
      "95:\tlearn: 0.3586174\ttotal: 3.09s\tremaining: 129ms\n",
      "96:\tlearn: 0.3586174\ttotal: 3.11s\tremaining: 96.2ms\n",
      "97:\tlearn: 0.3586174\ttotal: 3.12s\tremaining: 63.8ms\n",
      "98:\tlearn: 0.3586174\ttotal: 3.13s\tremaining: 31.7ms\n",
      "99:\tlearn: 0.3586174\ttotal: 3.16s\tremaining: 0us\n",
      "[CV] END ......depth=15, iterations=100, learning_rate=0.001; total time=   4.0s\n",
      "0:\tlearn: 0.3623988\ttotal: 21.7ms\tremaining: 2.15s\n",
      "1:\tlearn: 0.3499581\ttotal: 29.9ms\tremaining: 1.46s\n",
      "2:\tlearn: 0.3464520\ttotal: 49.2ms\tremaining: 1.59s\n",
      "3:\tlearn: 0.3513885\ttotal: 87.1ms\tremaining: 2.09s\n",
      "4:\tlearn: 0.3477896\ttotal: 108ms\tremaining: 2.05s\n",
      "5:\tlearn: 0.3464520\ttotal: 126ms\tremaining: 1.98s\n",
      "6:\tlearn: 0.3464520\ttotal: 137ms\tremaining: 1.82s\n",
      "7:\tlearn: 0.3464520\ttotal: 153ms\tremaining: 1.76s\n",
      "8:\tlearn: 0.3509463\ttotal: 171ms\tremaining: 1.72s\n",
      "9:\tlearn: 0.3464520\ttotal: 180ms\tremaining: 1.62s\n",
      "10:\tlearn: 0.3464520\ttotal: 194ms\tremaining: 1.57s\n",
      "11:\tlearn: 0.3504033\ttotal: 207ms\tremaining: 1.52s\n",
      "12:\tlearn: 0.3464520\ttotal: 219ms\tremaining: 1.47s\n",
      "13:\tlearn: 0.3464520\ttotal: 236ms\tremaining: 1.45s\n",
      "14:\tlearn: 0.3477687\ttotal: 247ms\tremaining: 1.4s\n",
      "15:\tlearn: 0.3477687\ttotal: 275ms\tremaining: 1.44s\n",
      "16:\tlearn: 0.3464520\ttotal: 297ms\tremaining: 1.45s\n",
      "17:\tlearn: 0.3464520\ttotal: 318ms\tremaining: 1.45s\n",
      "18:\tlearn: 0.3464520\ttotal: 346ms\tremaining: 1.48s\n",
      "19:\tlearn: 0.3464520\ttotal: 359ms\tremaining: 1.44s\n",
      "20:\tlearn: 0.3464520\ttotal: 381ms\tremaining: 1.43s\n",
      "21:\tlearn: 0.3471422\ttotal: 396ms\tremaining: 1.4s\n",
      "22:\tlearn: 0.3471422\ttotal: 411ms\tremaining: 1.38s\n",
      "23:\tlearn: 0.3487689\ttotal: 444ms\tremaining: 1.41s\n",
      "24:\tlearn: 0.3490656\ttotal: 466ms\tremaining: 1.4s\n",
      "25:\tlearn: 0.3477530\ttotal: 479ms\tremaining: 1.36s\n",
      "26:\tlearn: 0.3477530\ttotal: 515ms\tremaining: 1.39s\n",
      "27:\tlearn: 0.3499641\ttotal: 533ms\tremaining: 1.37s\n",
      "28:\tlearn: 0.3492216\ttotal: 541ms\tremaining: 1.32s\n",
      "29:\tlearn: 0.3500419\ttotal: 555ms\tremaining: 1.3s\n",
      "30:\tlearn: 0.3495541\ttotal: 582ms\tremaining: 1.29s\n",
      "31:\tlearn: 0.3493983\ttotal: 603ms\tremaining: 1.28s\n",
      "32:\tlearn: 0.3490656\ttotal: 621ms\tremaining: 1.26s\n",
      "33:\tlearn: 0.3477530\ttotal: 628ms\tremaining: 1.22s\n",
      "34:\tlearn: 0.3495541\ttotal: 649ms\tremaining: 1.21s\n",
      "35:\tlearn: 0.3496319\ttotal: 663ms\tremaining: 1.18s\n",
      "36:\tlearn: 0.3496319\ttotal: 679ms\tremaining: 1.16s\n",
      "37:\tlearn: 0.3496319\ttotal: 927ms\tremaining: 1.51s\n",
      "38:\tlearn: 0.3503318\ttotal: 948ms\tremaining: 1.48s\n",
      "39:\tlearn: 0.3515159\ttotal: 1.19s\tremaining: 1.79s\n",
      "40:\tlearn: 0.3523588\ttotal: 1.24s\tremaining: 1.78s\n",
      "41:\tlearn: 0.3519303\ttotal: 1.32s\tremaining: 1.82s\n",
      "42:\tlearn: 0.3510009\ttotal: 1.33s\tremaining: 1.77s\n",
      "43:\tlearn: 0.3509024\ttotal: 1.35s\tremaining: 1.72s\n",
      "44:\tlearn: 0.3516352\ttotal: 1.44s\tremaining: 1.76s\n",
      "45:\tlearn: 0.3514385\ttotal: 1.47s\tremaining: 1.72s\n",
      "46:\tlearn: 0.3503318\ttotal: 1.48s\tremaining: 1.67s\n",
      "47:\tlearn: 0.3503318\ttotal: 1.49s\tremaining: 1.61s\n",
      "48:\tlearn: 0.3503318\ttotal: 1.52s\tremaining: 1.58s\n",
      "49:\tlearn: 0.3503318\ttotal: 1.54s\tremaining: 1.54s\n",
      "50:\tlearn: 0.3503318\ttotal: 1.56s\tremaining: 1.5s\n",
      "51:\tlearn: 0.3518320\ttotal: 1.6s\tremaining: 1.48s\n",
      "52:\tlearn: 0.3518320\ttotal: 1.62s\tremaining: 1.44s\n",
      "53:\tlearn: 0.3508038\ttotal: 1.63s\tremaining: 1.39s\n",
      "54:\tlearn: 0.3508038\ttotal: 1.65s\tremaining: 1.35s\n",
      "55:\tlearn: 0.3503169\ttotal: 1.72s\tremaining: 1.35s\n",
      "56:\tlearn: 0.3504304\ttotal: 1.75s\tremaining: 1.32s\n",
      "57:\tlearn: 0.3504304\ttotal: 1.75s\tremaining: 1.27s\n",
      "58:\tlearn: 0.3504304\ttotal: 1.77s\tremaining: 1.23s\n",
      "59:\tlearn: 0.3503318\ttotal: 1.79s\tremaining: 1.19s\n",
      "60:\tlearn: 0.3506067\ttotal: 2.1s\tremaining: 1.34s\n",
      "61:\tlearn: 0.3507052\ttotal: 2.15s\tremaining: 1.32s\n",
      "62:\tlearn: 0.3516352\ttotal: 2.17s\tremaining: 1.27s\n",
      "63:\tlearn: 0.3517126\ttotal: 2.22s\tremaining: 1.25s\n",
      "64:\tlearn: 0.3516143\ttotal: 2.24s\tremaining: 1.2s\n",
      "65:\tlearn: 0.3510511\ttotal: 2.25s\tremaining: 1.16s\n",
      "66:\tlearn: 0.3510511\ttotal: 2.27s\tremaining: 1.12s\n",
      "67:\tlearn: 0.3501196\ttotal: 2.29s\tremaining: 1.08s\n",
      "68:\tlearn: 0.3512271\ttotal: 2.61s\tremaining: 1.17s\n",
      "69:\tlearn: 0.3504933\ttotal: 2.63s\tremaining: 1.13s\n",
      "70:\tlearn: 0.3504933\ttotal: 2.64s\tremaining: 1.08s\n",
      "71:\tlearn: 0.3503946\ttotal: 2.65s\tremaining: 1.03s\n",
      "72:\tlearn: 0.3512271\ttotal: 2.66s\tremaining: 984ms\n",
      "73:\tlearn: 0.3514030\ttotal: 2.68s\tremaining: 941ms\n",
      "74:\tlearn: 0.3512271\ttotal: 2.69s\tremaining: 897ms\n",
      "75:\tlearn: 0.3512271\ttotal: 2.71s\tremaining: 855ms\n",
      "76:\tlearn: 0.3510721\ttotal: 2.72s\tremaining: 812ms\n",
      "77:\tlearn: 0.3512900\ttotal: 2.75s\tremaining: 777ms\n",
      "78:\tlearn: 0.3514449\ttotal: 2.78s\tremaining: 739ms\n",
      "79:\tlearn: 0.3514449\ttotal: 2.79s\tremaining: 699ms\n",
      "80:\tlearn: 0.3514449\ttotal: 2.82s\tremaining: 661ms\n",
      "81:\tlearn: 0.3514449\ttotal: 2.83s\tremaining: 621ms\n",
      "82:\tlearn: 0.3511496\ttotal: 2.84s\tremaining: 581ms\n",
      "83:\tlearn: 0.3510511\ttotal: 2.91s\tremaining: 554ms\n",
      "84:\tlearn: 0.3510511\ttotal: 2.92s\tremaining: 515ms\n",
      "85:\tlearn: 0.3510511\ttotal: 2.93s\tremaining: 476ms\n",
      "86:\tlearn: 0.3510511\ttotal: 2.95s\tremaining: 441ms\n",
      "87:\tlearn: 0.3501196\ttotal: 2.97s\tremaining: 405ms\n",
      "88:\tlearn: 0.3499641\ttotal: 2.99s\tremaining: 370ms\n",
      "89:\tlearn: 0.3501196\ttotal: 3.04s\tremaining: 338ms\n",
      "90:\tlearn: 0.3499641\ttotal: 3.06s\tremaining: 303ms\n",
      "91:\tlearn: 0.3499641\ttotal: 3.07s\tremaining: 267ms\n",
      "92:\tlearn: 0.3499641\ttotal: 3.1s\tremaining: 233ms\n",
      "93:\tlearn: 0.3499641\ttotal: 3.11s\tremaining: 199ms\n",
      "94:\tlearn: 0.3508961\ttotal: 3.16s\tremaining: 166ms\n",
      "95:\tlearn: 0.3510511\ttotal: 3.47s\tremaining: 145ms\n",
      "96:\tlearn: 0.3501196\ttotal: 3.49s\tremaining: 108ms\n",
      "97:\tlearn: 0.3512271\ttotal: 3.52s\tremaining: 71.9ms\n",
      "98:\tlearn: 0.3510511\ttotal: 3.53s\tremaining: 35.7ms\n",
      "99:\tlearn: 0.3510511\ttotal: 3.55s\tremaining: 0us\n",
      "[CV] END ......depth=15, iterations=100, learning_rate=0.001; total time=   4.6s\n",
      "0:\tlearn: 0.3444211\ttotal: 11ms\tremaining: 1.09s\n",
      "1:\tlearn: 0.3607926\ttotal: 30.1ms\tremaining: 1.47s\n",
      "2:\tlearn: 0.3491266\ttotal: 43.5ms\tremaining: 1.41s\n",
      "3:\tlearn: 0.3486744\ttotal: 62.2ms\tremaining: 1.49s\n",
      "4:\tlearn: 0.3577091\ttotal: 78.8ms\tremaining: 1.5s\n",
      "5:\tlearn: 0.3518960\ttotal: 98ms\tremaining: 1.53s\n",
      "6:\tlearn: 0.3578611\ttotal: 174ms\tremaining: 2.31s\n",
      "7:\tlearn: 0.3561595\ttotal: 200ms\tremaining: 2.29s\n",
      "8:\tlearn: 0.3582037\ttotal: 226ms\tremaining: 2.29s\n",
      "9:\tlearn: 0.3582407\ttotal: 241ms\tremaining: 2.17s\n",
      "10:\tlearn: 0.3571429\ttotal: 267ms\tremaining: 2.16s\n",
      "11:\tlearn: 0.3582831\ttotal: 276ms\tremaining: 2.02s\n",
      "12:\tlearn: 0.3565965\ttotal: 297ms\tremaining: 1.99s\n",
      "13:\tlearn: 0.3582372\ttotal: 319ms\tremaining: 1.96s\n",
      "14:\tlearn: 0.3573924\ttotal: 338ms\tremaining: 1.91s\n",
      "15:\tlearn: 0.3583801\ttotal: 351ms\tremaining: 1.84s\n",
      "16:\tlearn: 0.3579159\ttotal: 364ms\tremaining: 1.78s\n",
      "17:\tlearn: 0.3579371\ttotal: 377ms\tremaining: 1.72s\n",
      "18:\tlearn: 0.3559694\ttotal: 392ms\tremaining: 1.67s\n",
      "19:\tlearn: 0.3560116\ttotal: 409ms\tremaining: 1.64s\n",
      "20:\tlearn: 0.3575869\ttotal: 427ms\tremaining: 1.61s\n",
      "21:\tlearn: 0.3563171\ttotal: 442ms\tremaining: 1.56s\n",
      "22:\tlearn: 0.3577515\ttotal: 452ms\tremaining: 1.51s\n",
      "23:\tlearn: 0.3566773\ttotal: 473ms\tremaining: 1.5s\n",
      "24:\tlearn: 0.3563852\ttotal: 495ms\tremaining: 1.48s\n",
      "25:\tlearn: 0.3543597\ttotal: 509ms\tremaining: 1.45s\n",
      "26:\tlearn: 0.3544018\ttotal: 525ms\tremaining: 1.42s\n",
      "27:\tlearn: 0.3539834\ttotal: 535ms\tremaining: 1.38s\n",
      "28:\tlearn: 0.3539834\ttotal: 542ms\tremaining: 1.33s\n",
      "29:\tlearn: 0.3512143\ttotal: 555ms\tremaining: 1.29s\n",
      "30:\tlearn: 0.3527099\ttotal: 569ms\tremaining: 1.27s\n",
      "31:\tlearn: 0.3512143\ttotal: 617ms\tremaining: 1.31s\n",
      "32:\tlearn: 0.3512143\ttotal: 627ms\tremaining: 1.27s\n",
      "33:\tlearn: 0.3512143\ttotal: 634ms\tremaining: 1.23s\n",
      "34:\tlearn: 0.3512143\ttotal: 646ms\tremaining: 1.2s\n",
      "35:\tlearn: 0.3497431\ttotal: 659ms\tremaining: 1.17s\n",
      "36:\tlearn: 0.3497431\ttotal: 676ms\tremaining: 1.15s\n",
      "37:\tlearn: 0.3497640\ttotal: 701ms\tremaining: 1.14s\n",
      "38:\tlearn: 0.3497640\ttotal: 722ms\tremaining: 1.13s\n",
      "39:\tlearn: 0.3497281\ttotal: 743ms\tremaining: 1.11s\n",
      "40:\tlearn: 0.3496295\ttotal: 764ms\tremaining: 1.1s\n",
      "41:\tlearn: 0.3496295\ttotal: 813ms\tremaining: 1.12s\n",
      "42:\tlearn: 0.3496295\ttotal: 826ms\tremaining: 1.09s\n",
      "43:\tlearn: 0.3496295\ttotal: 862ms\tremaining: 1.1s\n",
      "44:\tlearn: 0.3496295\ttotal: 873ms\tremaining: 1.07s\n",
      "45:\tlearn: 0.3496712\ttotal: 881ms\tremaining: 1.03s\n",
      "46:\tlearn: 0.3496712\ttotal: 929ms\tremaining: 1.05s\n",
      "47:\tlearn: 0.3496712\ttotal: 941ms\tremaining: 1.02s\n",
      "48:\tlearn: 0.3498058\ttotal: 955ms\tremaining: 994ms\n",
      "49:\tlearn: 0.3494948\ttotal: 977ms\tremaining: 977ms\n",
      "50:\tlearn: 0.3494948\ttotal: 988ms\tremaining: 949ms\n",
      "51:\tlearn: 0.3496295\ttotal: 1s\tremaining: 927ms\n",
      "52:\tlearn: 0.3496295\ttotal: 1.02s\tremaining: 905ms\n",
      "53:\tlearn: 0.3495726\ttotal: 1.03s\tremaining: 882ms\n",
      "54:\tlearn: 0.3496086\ttotal: 1.06s\tremaining: 868ms\n",
      "55:\tlearn: 0.3496086\ttotal: 1.07s\tremaining: 843ms\n",
      "56:\tlearn: 0.3496295\ttotal: 1.09s\tremaining: 820ms\n",
      "57:\tlearn: 0.3496295\ttotal: 1.12s\tremaining: 812ms\n",
      "58:\tlearn: 0.3496295\ttotal: 1.17s\tremaining: 812ms\n",
      "59:\tlearn: 0.3496295\ttotal: 1.18s\tremaining: 786ms\n",
      "60:\tlearn: 0.3496295\ttotal: 1.19s\tremaining: 762ms\n",
      "61:\tlearn: 0.3496295\ttotal: 1.21s\tremaining: 742ms\n",
      "62:\tlearn: 0.3497640\ttotal: 1.45s\tremaining: 853ms\n",
      "63:\tlearn: 0.3511724\ttotal: 1.47s\tremaining: 825ms\n",
      "64:\tlearn: 0.3513481\ttotal: 1.48s\tremaining: 795ms\n",
      "65:\tlearn: 0.3512498\ttotal: 1.49s\tremaining: 768ms\n",
      "66:\tlearn: 0.3497431\ttotal: 1.53s\tremaining: 753ms\n",
      "67:\tlearn: 0.3497431\ttotal: 1.56s\tremaining: 732ms\n",
      "68:\tlearn: 0.3511514\ttotal: 1.57s\tremaining: 707ms\n",
      "69:\tlearn: 0.3511514\ttotal: 1.9s\tremaining: 815ms\n",
      "70:\tlearn: 0.3512853\ttotal: 1.91s\tremaining: 782ms\n",
      "71:\tlearn: 0.3512853\ttotal: 1.93s\tremaining: 750ms\n",
      "72:\tlearn: 0.3513062\ttotal: 1.94s\tremaining: 718ms\n",
      "73:\tlearn: 0.3513062\ttotal: 1.95s\tremaining: 687ms\n",
      "74:\tlearn: 0.3513481\ttotal: 1.97s\tremaining: 656ms\n",
      "75:\tlearn: 0.3513481\ttotal: 1.98s\tremaining: 626ms\n",
      "76:\tlearn: 0.3513481\ttotal: 1.99s\tremaining: 595ms\n",
      "77:\tlearn: 0.3513481\ttotal: 2.02s\tremaining: 570ms\n",
      "78:\tlearn: 0.3516575\ttotal: 2.16s\tremaining: 573ms\n",
      "79:\tlearn: 0.3517558\ttotal: 2.18s\tremaining: 545ms\n",
      "80:\tlearn: 0.3516575\ttotal: 2.2s\tremaining: 516ms\n",
      "81:\tlearn: 0.3516575\ttotal: 2.22s\tremaining: 487ms\n",
      "82:\tlearn: 0.3528221\ttotal: 2.23s\tremaining: 457ms\n",
      "83:\tlearn: 0.3517558\ttotal: 2.25s\tremaining: 428ms\n",
      "84:\tlearn: 0.3516575\ttotal: 2.26s\tremaining: 399ms\n",
      "85:\tlearn: 0.3516575\ttotal: 2.28s\tremaining: 371ms\n",
      "86:\tlearn: 0.3518541\ttotal: 2.29s\tremaining: 342ms\n",
      "87:\tlearn: 0.3518541\ttotal: 2.54s\tremaining: 347ms\n",
      "88:\tlearn: 0.3518541\ttotal: 2.56s\tremaining: 316ms\n",
      "89:\tlearn: 0.3518541\ttotal: 2.57s\tremaining: 285ms\n",
      "90:\tlearn: 0.3518541\ttotal: 2.62s\tremaining: 259ms\n",
      "91:\tlearn: 0.3518541\ttotal: 2.67s\tremaining: 232ms\n",
      "92:\tlearn: 0.3518541\ttotal: 2.7s\tremaining: 203ms\n",
      "93:\tlearn: 0.3518541\ttotal: 2.72s\tremaining: 173ms\n",
      "94:\tlearn: 0.3518541\ttotal: 3.04s\tremaining: 160ms\n",
      "95:\tlearn: 0.3518541\ttotal: 3.05s\tremaining: 127ms\n",
      "96:\tlearn: 0.3513481\ttotal: 3.19s\tremaining: 98.6ms\n",
      "97:\tlearn: 0.3513481\ttotal: 3.21s\tremaining: 65.4ms\n",
      "98:\tlearn: 0.3513481\ttotal: 3.23s\tremaining: 32.6ms\n",
      "99:\tlearn: 0.3513481\ttotal: 3.24s\tremaining: 0us\n",
      "[CV] END ......depth=15, iterations=100, learning_rate=0.001; total time=   4.5s\n",
      "0:\tlearn: 0.3431432\ttotal: 25.4ms\tremaining: 3.03s\n",
      "1:\tlearn: 0.5574012\ttotal: 342ms\tremaining: 20.2s\n",
      "2:\tlearn: 0.5531934\ttotal: 357ms\tremaining: 13.9s\n",
      "3:\tlearn: 0.5876621\ttotal: 668ms\tremaining: 19.4s\n",
      "4:\tlearn: 0.6041940\ttotal: 974ms\tremaining: 22.4s\n",
      "5:\tlearn: 0.6050296\ttotal: 991ms\tremaining: 18.8s\n",
      "6:\tlearn: 0.6018713\ttotal: 1s\tremaining: 16.2s\n",
      "7:\tlearn: 0.6306486\ttotal: 1.35s\tremaining: 18.9s\n",
      "8:\tlearn: 0.6305182\ttotal: 1.37s\tremaining: 16.9s\n",
      "9:\tlearn: 0.6305182\ttotal: 1.38s\tremaining: 15.2s\n",
      "10:\tlearn: 0.6386481\ttotal: 1.7s\tremaining: 16.8s\n",
      "11:\tlearn: 0.6389465\ttotal: 2.01s\tremaining: 18.1s\n",
      "12:\tlearn: 0.6492878\ttotal: 2.35s\tremaining: 19.4s\n",
      "13:\tlearn: 0.6664351\ttotal: 2.69s\tremaining: 20.3s\n",
      "14:\tlearn: 0.6697671\ttotal: 3.02s\tremaining: 21.1s\n",
      "15:\tlearn: 0.6789916\ttotal: 3.36s\tremaining: 21.8s\n",
      "16:\tlearn: 0.6776268\ttotal: 3.68s\tremaining: 22.3s\n",
      "17:\tlearn: 0.6799311\ttotal: 4s\tremaining: 22.7s\n",
      "18:\tlearn: 0.6805838\ttotal: 4.32s\tremaining: 23s\n",
      "19:\tlearn: 0.6791991\ttotal: 4.64s\tremaining: 23.2s\n",
      "20:\tlearn: 0.6899799\ttotal: 4.96s\tremaining: 23.4s\n",
      "21:\tlearn: 0.6909298\ttotal: 5.3s\tremaining: 23.6s\n",
      "22:\tlearn: 0.6921844\ttotal: 5.61s\tremaining: 23.7s\n",
      "23:\tlearn: 0.6941529\ttotal: 5.93s\tremaining: 23.7s\n",
      "24:\tlearn: 0.6941521\ttotal: 6.27s\tremaining: 23.8s\n",
      "25:\tlearn: 0.6928304\ttotal: 6.59s\tremaining: 23.8s\n",
      "26:\tlearn: 0.6933842\ttotal: 6.92s\tremaining: 23.8s\n",
      "27:\tlearn: 0.6969628\ttotal: 7.25s\tremaining: 23.8s\n",
      "28:\tlearn: 0.6996212\ttotal: 7.58s\tremaining: 23.8s\n",
      "29:\tlearn: 0.6995816\ttotal: 7.89s\tremaining: 23.7s\n",
      "30:\tlearn: 0.6984528\ttotal: 8.21s\tremaining: 23.6s\n",
      "31:\tlearn: 0.6985136\ttotal: 8.52s\tremaining: 23.4s\n",
      "32:\tlearn: 0.6975565\ttotal: 8.86s\tremaining: 23.4s\n",
      "33:\tlearn: 0.7008239\ttotal: 9.18s\tremaining: 23.2s\n",
      "34:\tlearn: 0.7029673\ttotal: 9.5s\tremaining: 23.1s\n",
      "35:\tlearn: 0.7001580\ttotal: 9.82s\tremaining: 22.9s\n",
      "36:\tlearn: 0.7096553\ttotal: 10.2s\tremaining: 22.8s\n",
      "37:\tlearn: 0.7112932\ttotal: 10.5s\tremaining: 22.6s\n",
      "38:\tlearn: 0.7133338\ttotal: 10.8s\tremaining: 22.5s\n",
      "39:\tlearn: 0.7136945\ttotal: 11.1s\tremaining: 22.3s\n",
      "40:\tlearn: 0.7159338\ttotal: 11.5s\tremaining: 22.1s\n",
      "41:\tlearn: 0.7168074\ttotal: 11.8s\tremaining: 21.9s\n",
      "42:\tlearn: 0.7181183\ttotal: 12.1s\tremaining: 21.7s\n",
      "43:\tlearn: 0.7195020\ttotal: 12.5s\tremaining: 21.5s\n",
      "44:\tlearn: 0.7198205\ttotal: 12.9s\tremaining: 21.4s\n",
      "45:\tlearn: 0.7195321\ttotal: 13.2s\tremaining: 21.2s\n",
      "46:\tlearn: 0.7189169\ttotal: 13.5s\tremaining: 21s\n",
      "47:\tlearn: 0.7197861\ttotal: 13.8s\tremaining: 20.7s\n",
      "48:\tlearn: 0.7191003\ttotal: 14.1s\tremaining: 20.5s\n",
      "49:\tlearn: 0.7203018\ttotal: 14.5s\tremaining: 20.2s\n",
      "50:\tlearn: 0.7205546\ttotal: 14.8s\tremaining: 20s\n",
      "51:\tlearn: 0.7218926\ttotal: 15.1s\tremaining: 19.8s\n",
      "52:\tlearn: 0.7230389\ttotal: 15.4s\tremaining: 19.5s\n",
      "53:\tlearn: 0.7227990\ttotal: 15.7s\tremaining: 19.2s\n",
      "54:\tlearn: 0.7240012\ttotal: 16.1s\tremaining: 19s\n",
      "55:\tlearn: 0.7255535\ttotal: 16.4s\tremaining: 18.7s\n",
      "56:\tlearn: 0.7254567\ttotal: 16.7s\tremaining: 18.4s\n",
      "57:\tlearn: 0.7258401\ttotal: 17s\tremaining: 18.2s\n",
      "58:\tlearn: 0.7262274\ttotal: 17.3s\tremaining: 17.9s\n",
      "59:\tlearn: 0.7261602\ttotal: 17.7s\tremaining: 17.7s\n",
      "60:\tlearn: 0.7281745\ttotal: 18s\tremaining: 17.4s\n",
      "61:\tlearn: 0.7281159\ttotal: 18.3s\tremaining: 17.1s\n",
      "62:\tlearn: 0.7310308\ttotal: 18.6s\tremaining: 16.8s\n",
      "63:\tlearn: 0.7313258\ttotal: 18.9s\tremaining: 16.6s\n",
      "64:\tlearn: 0.7321685\ttotal: 19.2s\tremaining: 16.3s\n",
      "65:\tlearn: 0.7334562\ttotal: 19.6s\tremaining: 16s\n",
      "66:\tlearn: 0.7343416\ttotal: 19.9s\tremaining: 15.7s\n",
      "67:\tlearn: 0.7339809\ttotal: 20.2s\tremaining: 15.4s\n",
      "68:\tlearn: 0.7330993\ttotal: 20.5s\tremaining: 15.2s\n",
      "69:\tlearn: 0.7339235\ttotal: 20.8s\tremaining: 14.9s\n",
      "70:\tlearn: 0.7331948\ttotal: 21.1s\tremaining: 14.6s\n",
      "71:\tlearn: 0.7344876\ttotal: 21.5s\tremaining: 14.3s\n",
      "72:\tlearn: 0.7335790\ttotal: 21.8s\tremaining: 14s\n",
      "73:\tlearn: 0.7355635\ttotal: 22.1s\tremaining: 13.7s\n",
      "74:\tlearn: 0.7356670\ttotal: 22.5s\tremaining: 13.5s\n",
      "75:\tlearn: 0.7360817\ttotal: 22.8s\tremaining: 13.2s\n",
      "76:\tlearn: 0.7359818\ttotal: 22.8s\tremaining: 12.7s\n",
      "77:\tlearn: 0.7365385\ttotal: 23.1s\tremaining: 12.5s\n",
      "78:\tlearn: 0.7367822\ttotal: 23.5s\tremaining: 12.2s\n",
      "79:\tlearn: 0.7384265\ttotal: 23.8s\tremaining: 11.9s\n",
      "80:\tlearn: 0.7385257\ttotal: 24.1s\tremaining: 11.6s\n",
      "81:\tlearn: 0.7382163\ttotal: 24.4s\tremaining: 11.3s\n",
      "82:\tlearn: 0.7378692\ttotal: 24.7s\tremaining: 11s\n",
      "83:\tlearn: 0.7375741\ttotal: 25s\tremaining: 10.7s\n",
      "84:\tlearn: 0.7395751\ttotal: 25.4s\tremaining: 10.4s\n",
      "85:\tlearn: 0.7401320\ttotal: 25.7s\tremaining: 10.1s\n",
      "86:\tlearn: 0.7387675\ttotal: 26s\tremaining: 9.86s\n",
      "87:\tlearn: 0.7407183\ttotal: 26.3s\tremaining: 9.57s\n",
      "88:\tlearn: 0.7413930\ttotal: 26.6s\tremaining: 9.27s\n",
      "89:\tlearn: 0.7411056\ttotal: 26.9s\tremaining: 8.98s\n",
      "90:\tlearn: 0.7428269\ttotal: 27.3s\tremaining: 8.7s\n",
      "91:\tlearn: 0.7425286\ttotal: 27.6s\tremaining: 8.41s\n",
      "92:\tlearn: 0.7432387\ttotal: 28s\tremaining: 8.12s\n",
      "93:\tlearn: 0.7428767\ttotal: 28.3s\tremaining: 7.82s\n",
      "94:\tlearn: 0.7423402\ttotal: 28.6s\tremaining: 7.53s\n",
      "95:\tlearn: 0.7421661\ttotal: 28.9s\tremaining: 7.23s\n",
      "96:\tlearn: 0.7420904\ttotal: 29.3s\tremaining: 6.94s\n",
      "97:\tlearn: 0.7425027\ttotal: 29.6s\tremaining: 6.64s\n",
      "98:\tlearn: 0.7437472\ttotal: 29.9s\tremaining: 6.34s\n",
      "99:\tlearn: 0.7453487\ttotal: 30.2s\tremaining: 6.04s\n",
      "100:\tlearn: 0.7442320\ttotal: 30.5s\tremaining: 5.75s\n",
      "101:\tlearn: 0.7447905\ttotal: 30.9s\tremaining: 5.45s\n",
      "102:\tlearn: 0.7451547\ttotal: 31.2s\tremaining: 5.14s\n",
      "103:\tlearn: 0.7452471\ttotal: 31.5s\tremaining: 4.84s\n",
      "104:\tlearn: 0.7453572\ttotal: 31.8s\tremaining: 4.54s\n",
      "105:\tlearn: 0.7450040\ttotal: 32.1s\tremaining: 4.24s\n",
      "106:\tlearn: 0.7455230\ttotal: 32.5s\tremaining: 3.95s\n",
      "107:\tlearn: 0.7465725\ttotal: 32.8s\tremaining: 3.65s\n",
      "108:\tlearn: 0.7463435\ttotal: 33.1s\tremaining: 3.34s\n",
      "109:\tlearn: 0.7465452\ttotal: 33.4s\tremaining: 3.04s\n",
      "110:\tlearn: 0.7464297\ttotal: 33.8s\tremaining: 2.74s\n",
      "111:\tlearn: 0.7468864\ttotal: 34.1s\tremaining: 2.43s\n",
      "112:\tlearn: 0.7468864\ttotal: 34.4s\tremaining: 2.13s\n",
      "113:\tlearn: 0.7470994\ttotal: 34.7s\tremaining: 1.83s\n",
      "114:\tlearn: 0.7480893\ttotal: 35s\tremaining: 1.52s\n",
      "115:\tlearn: 0.7481465\ttotal: 35.3s\tremaining: 1.22s\n",
      "116:\tlearn: 0.7481748\ttotal: 35.4s\tremaining: 906ms\n",
      "117:\tlearn: 0.7496331\ttotal: 35.7s\tremaining: 604ms\n",
      "118:\tlearn: 0.7491898\ttotal: 36s\tremaining: 302ms\n",
      "119:\tlearn: 0.7507627\ttotal: 36.3s\tremaining: 0us\n",
      "[CV] END ..........depth=15, iterations=120, learning_rate=1; total time=  37.7s\n",
      "0:\tlearn: 0.3446198\ttotal: 25.9ms\tremaining: 3.09s\n",
      "1:\tlearn: 0.5669138\ttotal: 408ms\tremaining: 24.1s\n",
      "2:\tlearn: 0.5553709\ttotal: 420ms\tremaining: 16.4s\n",
      "3:\tlearn: 0.5684795\ttotal: 729ms\tremaining: 21.2s\n",
      "4:\tlearn: 0.6152390\ttotal: 1.04s\tremaining: 24s\n",
      "5:\tlearn: 0.6179671\ttotal: 1.38s\tremaining: 26.2s\n",
      "6:\tlearn: 0.6185683\ttotal: 1.4s\tremaining: 22.5s\n",
      "7:\tlearn: 0.6286447\ttotal: 1.71s\tremaining: 24s\n",
      "8:\tlearn: 0.6294919\ttotal: 1.72s\tremaining: 21.3s\n",
      "9:\tlearn: 0.6296088\ttotal: 2.05s\tremaining: 22.6s\n",
      "10:\tlearn: 0.6297191\ttotal: 2.06s\tremaining: 20.5s\n",
      "11:\tlearn: 0.6336459\ttotal: 2.38s\tremaining: 21.4s\n",
      "12:\tlearn: 0.6324938\ttotal: 2.7s\tremaining: 22.3s\n",
      "13:\tlearn: 0.6383728\ttotal: 3.02s\tremaining: 22.9s\n",
      "14:\tlearn: 0.6383506\ttotal: 3.34s\tremaining: 23.4s\n",
      "15:\tlearn: 0.6447901\ttotal: 3.65s\tremaining: 23.8s\n",
      "16:\tlearn: 0.6414006\ttotal: 4s\tremaining: 24.2s\n",
      "17:\tlearn: 0.6420297\ttotal: 4.24s\tremaining: 24s\n",
      "18:\tlearn: 0.6557193\ttotal: 4.55s\tremaining: 24.2s\n",
      "19:\tlearn: 0.6622071\ttotal: 4.87s\tremaining: 24.3s\n",
      "20:\tlearn: 0.6631012\ttotal: 5.23s\tremaining: 24.7s\n",
      "21:\tlearn: 0.6657730\ttotal: 5.56s\tremaining: 24.8s\n",
      "22:\tlearn: 0.6657197\ttotal: 5.88s\tremaining: 24.8s\n",
      "23:\tlearn: 0.6670088\ttotal: 6.19s\tremaining: 24.8s\n",
      "24:\tlearn: 0.6741149\ttotal: 6.51s\tremaining: 24.7s\n",
      "25:\tlearn: 0.6789070\ttotal: 6.82s\tremaining: 24.7s\n",
      "26:\tlearn: 0.6843729\ttotal: 7.14s\tremaining: 24.6s\n",
      "27:\tlearn: 0.6968964\ttotal: 7.48s\tremaining: 24.6s\n",
      "28:\tlearn: 0.6980017\ttotal: 7.83s\tremaining: 24.6s\n",
      "29:\tlearn: 0.7011964\ttotal: 8.15s\tremaining: 24.5s\n",
      "30:\tlearn: 0.7013007\ttotal: 8.49s\tremaining: 24.4s\n",
      "31:\tlearn: 0.7071139\ttotal: 8.82s\tremaining: 24.2s\n",
      "32:\tlearn: 0.7072279\ttotal: 9.14s\tremaining: 24.1s\n",
      "33:\tlearn: 0.7096124\ttotal: 9.46s\tremaining: 23.9s\n",
      "34:\tlearn: 0.7151071\ttotal: 9.79s\tremaining: 23.8s\n",
      "35:\tlearn: 0.7144952\ttotal: 10.1s\tremaining: 23.6s\n",
      "36:\tlearn: 0.7119318\ttotal: 10.4s\tremaining: 23.4s\n",
      "37:\tlearn: 0.7130151\ttotal: 10.7s\tremaining: 23.2s\n",
      "38:\tlearn: 0.7167053\ttotal: 11.1s\tremaining: 23s\n",
      "39:\tlearn: 0.7180635\ttotal: 11.4s\tremaining: 22.7s\n",
      "40:\tlearn: 0.7191704\ttotal: 11.7s\tremaining: 22.6s\n",
      "41:\tlearn: 0.7194112\ttotal: 12s\tremaining: 22.3s\n",
      "42:\tlearn: 0.7195117\ttotal: 12.3s\tremaining: 22.1s\n",
      "43:\tlearn: 0.7198638\ttotal: 12.7s\tremaining: 21.9s\n",
      "44:\tlearn: 0.7215151\ttotal: 13s\tremaining: 21.6s\n",
      "45:\tlearn: 0.7248712\ttotal: 13.3s\tremaining: 21.4s\n",
      "46:\tlearn: 0.7251671\ttotal: 13.6s\tremaining: 21.1s\n",
      "47:\tlearn: 0.7329020\ttotal: 13.9s\tremaining: 20.9s\n",
      "48:\tlearn: 0.7349639\ttotal: 14.2s\tremaining: 20.6s\n",
      "49:\tlearn: 0.7346543\ttotal: 14.6s\tremaining: 20.4s\n",
      "50:\tlearn: 0.7349010\ttotal: 14.9s\tremaining: 20.2s\n",
      "51:\tlearn: 0.7360736\ttotal: 15.2s\tremaining: 19.9s\n",
      "52:\tlearn: 0.7339514\ttotal: 15.5s\tremaining: 19.7s\n",
      "53:\tlearn: 0.7362799\ttotal: 15.9s\tremaining: 19.4s\n",
      "54:\tlearn: 0.7392448\ttotal: 16.2s\tremaining: 19.1s\n",
      "55:\tlearn: 0.7397620\ttotal: 16.5s\tremaining: 18.9s\n",
      "56:\tlearn: 0.7390125\ttotal: 16.8s\tremaining: 18.6s\n",
      "57:\tlearn: 0.7389346\ttotal: 17.1s\tremaining: 18.3s\n",
      "58:\tlearn: 0.7407350\ttotal: 17.5s\tremaining: 18.1s\n",
      "59:\tlearn: 0.7410147\ttotal: 17.8s\tremaining: 17.8s\n",
      "60:\tlearn: 0.7407207\ttotal: 18.1s\tremaining: 17.5s\n",
      "61:\tlearn: 0.7411633\ttotal: 18.5s\tremaining: 17.3s\n",
      "62:\tlearn: 0.7419529\ttotal: 18.7s\tremaining: 17s\n",
      "63:\tlearn: 0.7430553\ttotal: 19.1s\tremaining: 16.7s\n",
      "64:\tlearn: 0.7433656\ttotal: 19.4s\tremaining: 16.5s\n",
      "65:\tlearn: 0.7438615\ttotal: 19.8s\tremaining: 16.2s\n",
      "66:\tlearn: 0.7442004\ttotal: 20.1s\tremaining: 15.9s\n",
      "67:\tlearn: 0.7438405\ttotal: 20.5s\tremaining: 15.6s\n",
      "68:\tlearn: 0.7440928\ttotal: 20.8s\tremaining: 15.4s\n",
      "69:\tlearn: 0.7444642\ttotal: 21.1s\tremaining: 15.1s\n",
      "70:\tlearn: 0.7452895\ttotal: 21.5s\tremaining: 14.8s\n",
      "71:\tlearn: 0.7462687\ttotal: 21.8s\tremaining: 14.6s\n",
      "72:\tlearn: 0.7459045\ttotal: 22.2s\tremaining: 14.3s\n",
      "73:\tlearn: 0.7466636\ttotal: 22.6s\tremaining: 14s\n",
      "74:\tlearn: 0.7472080\ttotal: 22.9s\tremaining: 13.7s\n",
      "75:\tlearn: 0.7468115\ttotal: 23.2s\tremaining: 13.4s\n",
      "76:\tlearn: 0.7480565\ttotal: 23.7s\tremaining: 13.2s\n",
      "77:\tlearn: 0.7500673\ttotal: 24.1s\tremaining: 13s\n",
      "78:\tlearn: 0.7516954\ttotal: 24.4s\tremaining: 12.7s\n",
      "79:\tlearn: 0.7537480\ttotal: 24.8s\tremaining: 12.4s\n",
      "80:\tlearn: 0.7532387\ttotal: 25.1s\tremaining: 12.1s\n",
      "81:\tlearn: 0.7538195\ttotal: 25.5s\tremaining: 11.8s\n",
      "82:\tlearn: 0.7528190\ttotal: 25.8s\tremaining: 11.5s\n",
      "83:\tlearn: 0.7555163\ttotal: 26.1s\tremaining: 11.2s\n",
      "84:\tlearn: 0.7554695\ttotal: 26.4s\tremaining: 10.9s\n",
      "85:\tlearn: 0.7559342\ttotal: 26.8s\tremaining: 10.6s\n",
      "86:\tlearn: 0.7577932\ttotal: 27.1s\tremaining: 10.3s\n",
      "87:\tlearn: 0.7574949\ttotal: 27.4s\tremaining: 9.96s\n",
      "88:\tlearn: 0.7588573\ttotal: 27.7s\tremaining: 9.65s\n",
      "89:\tlearn: 0.7600446\ttotal: 28s\tremaining: 9.34s\n",
      "90:\tlearn: 0.7589262\ttotal: 28.3s\tremaining: 9.03s\n",
      "91:\tlearn: 0.7603395\ttotal: 28.7s\tremaining: 8.73s\n",
      "92:\tlearn: 0.7606844\ttotal: 29s\tremaining: 8.42s\n",
      "93:\tlearn: 0.7615955\ttotal: 29.3s\tremaining: 8.11s\n",
      "94:\tlearn: 0.7614858\ttotal: 29.6s\tremaining: 7.8s\n",
      "95:\tlearn: 0.7624656\ttotal: 30s\tremaining: 7.49s\n",
      "96:\tlearn: 0.7618537\ttotal: 30.3s\tremaining: 7.18s\n",
      "97:\tlearn: 0.7632263\ttotal: 30.6s\tremaining: 6.87s\n",
      "98:\tlearn: 0.7620220\ttotal: 30.9s\tremaining: 6.55s\n",
      "99:\tlearn: 0.7616590\ttotal: 31.2s\tremaining: 6.24s\n",
      "100:\tlearn: 0.7637158\ttotal: 31.5s\tremaining: 5.93s\n",
      "101:\tlearn: 0.7627308\ttotal: 31.9s\tremaining: 5.62s\n",
      "102:\tlearn: 0.7635453\ttotal: 32.2s\tremaining: 5.31s\n",
      "103:\tlearn: 0.7640761\ttotal: 32.5s\tremaining: 5s\n",
      "104:\tlearn: 0.7653089\ttotal: 32.8s\tremaining: 4.69s\n",
      "105:\tlearn: 0.7647625\ttotal: 33.1s\tremaining: 4.37s\n",
      "106:\tlearn: 0.7646425\ttotal: 33.4s\tremaining: 4.06s\n",
      "107:\tlearn: 0.7645382\ttotal: 33.7s\tremaining: 3.75s\n",
      "108:\tlearn: 0.7650328\ttotal: 34.1s\tremaining: 3.44s\n",
      "109:\tlearn: 0.7666859\ttotal: 34.4s\tremaining: 3.12s\n",
      "110:\tlearn: 0.7661374\ttotal: 34.7s\tremaining: 2.81s\n",
      "111:\tlearn: 0.7663192\ttotal: 35s\tremaining: 2.5s\n",
      "112:\tlearn: 0.7668665\ttotal: 35.4s\tremaining: 2.19s\n",
      "113:\tlearn: 0.7685125\ttotal: 35.7s\tremaining: 1.88s\n",
      "114:\tlearn: 0.7687658\ttotal: 36s\tremaining: 1.57s\n",
      "115:\tlearn: 0.7684009\ttotal: 36.4s\tremaining: 1.25s\n",
      "116:\tlearn: 0.7684126\ttotal: 36.7s\tremaining: 940ms\n",
      "117:\tlearn: 0.7690780\ttotal: 37s\tremaining: 627ms\n",
      "118:\tlearn: 0.7693191\ttotal: 37.3s\tremaining: 313ms\n",
      "119:\tlearn: 0.7692544\ttotal: 37.6s\tremaining: 0us\n",
      "[CV] END ..........depth=15, iterations=120, learning_rate=1; total time=  38.9s\n",
      "0:\tlearn: 0.3748110\ttotal: 139ms\tremaining: 16.6s\n",
      "1:\tlearn: 0.5590238\ttotal: 465ms\tremaining: 27.4s\n",
      "2:\tlearn: 0.5741979\ttotal: 797ms\tremaining: 31.1s\n",
      "3:\tlearn: 0.5764921\ttotal: 1.11s\tremaining: 32.1s\n",
      "4:\tlearn: 0.5766897\ttotal: 1.12s\tremaining: 25.8s\n",
      "5:\tlearn: 0.5766897\ttotal: 1.13s\tremaining: 21.5s\n",
      "6:\tlearn: 0.5762538\ttotal: 1.14s\tremaining: 18.4s\n",
      "7:\tlearn: 0.5797385\ttotal: 1.15s\tremaining: 16.1s\n",
      "8:\tlearn: 0.5829517\ttotal: 1.47s\tremaining: 18.1s\n",
      "9:\tlearn: 0.5831178\ttotal: 1.47s\tremaining: 16.2s\n",
      "10:\tlearn: 0.6069267\ttotal: 1.78s\tremaining: 17.7s\n",
      "11:\tlearn: 0.6112913\ttotal: 2.11s\tremaining: 19s\n",
      "12:\tlearn: 0.6206841\ttotal: 2.43s\tremaining: 20s\n",
      "13:\tlearn: 0.6209579\ttotal: 2.75s\tremaining: 20.8s\n",
      "14:\tlearn: 0.6176034\ttotal: 3.07s\tremaining: 21.5s\n",
      "15:\tlearn: 0.6269361\ttotal: 3.38s\tremaining: 22s\n",
      "16:\tlearn: 0.6271978\ttotal: 3.7s\tremaining: 22.4s\n",
      "17:\tlearn: 0.6404594\ttotal: 4.01s\tremaining: 22.8s\n",
      "18:\tlearn: 0.6477684\ttotal: 4.33s\tremaining: 23s\n",
      "19:\tlearn: 0.6564511\ttotal: 4.66s\tremaining: 23.3s\n",
      "20:\tlearn: 0.6587998\ttotal: 4.97s\tremaining: 23.4s\n",
      "21:\tlearn: 0.6640867\ttotal: 5.28s\tremaining: 23.5s\n",
      "22:\tlearn: 0.6681002\ttotal: 5.63s\tremaining: 23.8s\n",
      "23:\tlearn: 0.6705091\ttotal: 5.98s\tremaining: 23.9s\n",
      "24:\tlearn: 0.6719202\ttotal: 6.3s\tremaining: 23.9s\n",
      "25:\tlearn: 0.6765702\ttotal: 6.63s\tremaining: 24s\n",
      "26:\tlearn: 0.6722357\ttotal: 6.95s\tremaining: 23.9s\n",
      "27:\tlearn: 0.6785198\ttotal: 7.26s\tremaining: 23.9s\n",
      "28:\tlearn: 0.6835523\ttotal: 7.59s\tremaining: 23.8s\n",
      "29:\tlearn: 0.6836573\ttotal: 7.9s\tremaining: 23.7s\n",
      "30:\tlearn: 0.6850996\ttotal: 8.21s\tremaining: 23.6s\n",
      "31:\tlearn: 0.6895480\ttotal: 8.53s\tremaining: 23.5s\n",
      "32:\tlearn: 0.6951576\ttotal: 8.84s\tremaining: 23.3s\n",
      "33:\tlearn: 0.6957894\ttotal: 9.15s\tremaining: 23.1s\n",
      "34:\tlearn: 0.7026985\ttotal: 9.48s\tremaining: 23s\n",
      "35:\tlearn: 0.7029068\ttotal: 9.79s\tremaining: 22.9s\n",
      "36:\tlearn: 0.7059885\ttotal: 10.1s\tremaining: 22.7s\n",
      "37:\tlearn: 0.7089286\ttotal: 10.4s\tremaining: 22.5s\n",
      "38:\tlearn: 0.7120695\ttotal: 10.8s\tremaining: 22.4s\n",
      "39:\tlearn: 0.7159940\ttotal: 11.1s\tremaining: 22.1s\n",
      "40:\tlearn: 0.7175685\ttotal: 11.4s\tremaining: 21.9s\n",
      "41:\tlearn: 0.7163714\ttotal: 11.7s\tremaining: 21.7s\n",
      "42:\tlearn: 0.7178195\ttotal: 12s\tremaining: 21.5s\n",
      "43:\tlearn: 0.7181336\ttotal: 12.3s\tremaining: 21.3s\n",
      "44:\tlearn: 0.7215626\ttotal: 12.7s\tremaining: 21.2s\n",
      "45:\tlearn: 0.7219417\ttotal: 13s\tremaining: 20.9s\n",
      "46:\tlearn: 0.7243808\ttotal: 13.3s\tremaining: 20.7s\n",
      "47:\tlearn: 0.7230411\ttotal: 13.6s\tremaining: 20.5s\n",
      "48:\tlearn: 0.7250319\ttotal: 14s\tremaining: 20.2s\n",
      "49:\tlearn: 0.7262221\ttotal: 14.3s\tremaining: 20s\n",
      "50:\tlearn: 0.7256781\ttotal: 14.6s\tremaining: 19.7s\n",
      "51:\tlearn: 0.7255731\ttotal: 14.9s\tremaining: 19.5s\n",
      "52:\tlearn: 0.7262449\ttotal: 15.2s\tremaining: 19.2s\n",
      "53:\tlearn: 0.7255868\ttotal: 15.5s\tremaining: 19s\n",
      "54:\tlearn: 0.7262856\ttotal: 15.9s\tremaining: 18.8s\n",
      "55:\tlearn: 0.7288731\ttotal: 16.2s\tremaining: 18.5s\n",
      "56:\tlearn: 0.7286983\ttotal: 16.5s\tremaining: 18.3s\n",
      "57:\tlearn: 0.7302889\ttotal: 16.9s\tremaining: 18s\n",
      "58:\tlearn: 0.7301280\ttotal: 17.2s\tremaining: 17.7s\n",
      "59:\tlearn: 0.7292486\ttotal: 17.5s\tremaining: 17.5s\n",
      "60:\tlearn: 0.7314660\ttotal: 17.8s\tremaining: 17.2s\n",
      "61:\tlearn: 0.7323878\ttotal: 18.2s\tremaining: 17s\n",
      "62:\tlearn: 0.7322187\ttotal: 18.5s\tremaining: 16.7s\n",
      "63:\tlearn: 0.7337241\ttotal: 18.8s\tremaining: 16.4s\n",
      "64:\tlearn: 0.7340632\ttotal: 19.1s\tremaining: 16.2s\n",
      "65:\tlearn: 0.7346051\ttotal: 19.4s\tremaining: 15.9s\n",
      "66:\tlearn: 0.7357029\ttotal: 19.7s\tremaining: 15.6s\n",
      "67:\tlearn: 0.7351334\ttotal: 20s\tremaining: 15.3s\n",
      "68:\tlearn: 0.7358909\ttotal: 20.4s\tremaining: 15.1s\n",
      "69:\tlearn: 0.7364196\ttotal: 20.7s\tremaining: 14.8s\n",
      "70:\tlearn: 0.7365304\ttotal: 21s\tremaining: 14.5s\n",
      "71:\tlearn: 0.7367806\ttotal: 21.3s\tremaining: 14.2s\n",
      "72:\tlearn: 0.7372604\ttotal: 21.7s\tremaining: 14s\n",
      "73:\tlearn: 0.7377459\ttotal: 22s\tremaining: 13.7s\n",
      "74:\tlearn: 0.7380534\ttotal: 22.3s\tremaining: 13.4s\n",
      "75:\tlearn: 0.7394128\ttotal: 22.6s\tremaining: 13.1s\n",
      "76:\tlearn: 0.7386404\ttotal: 22.9s\tremaining: 12.8s\n",
      "77:\tlearn: 0.7385386\ttotal: 23.3s\tremaining: 12.5s\n",
      "78:\tlearn: 0.7398269\ttotal: 23.6s\tremaining: 12.2s\n",
      "79:\tlearn: 0.7409777\ttotal: 23.9s\tremaining: 11.9s\n",
      "80:\tlearn: 0.7404982\ttotal: 24.2s\tremaining: 11.6s\n",
      "81:\tlearn: 0.7414444\ttotal: 24.5s\tremaining: 11.4s\n",
      "82:\tlearn: 0.7425131\ttotal: 24.8s\tremaining: 11.1s\n",
      "83:\tlearn: 0.7414406\ttotal: 25.1s\tremaining: 10.8s\n",
      "84:\tlearn: 0.7427392\ttotal: 25.5s\tremaining: 10.5s\n",
      "85:\tlearn: 0.7434759\ttotal: 25.8s\tremaining: 10.2s\n",
      "86:\tlearn: 0.7445938\ttotal: 26.2s\tremaining: 9.92s\n",
      "87:\tlearn: 0.7474396\ttotal: 26.5s\tremaining: 9.63s\n",
      "88:\tlearn: 0.7472077\ttotal: 26.8s\tremaining: 9.34s\n",
      "89:\tlearn: 0.7470140\ttotal: 27.1s\tremaining: 9.04s\n",
      "90:\tlearn: 0.7470233\ttotal: 27.4s\tremaining: 8.74s\n",
      "91:\tlearn: 0.7450338\ttotal: 27.8s\tremaining: 8.45s\n",
      "92:\tlearn: 0.7477279\ttotal: 28.1s\tremaining: 8.15s\n",
      "93:\tlearn: 0.7461709\ttotal: 28.4s\tremaining: 7.86s\n",
      "94:\tlearn: 0.7459877\ttotal: 28.7s\tremaining: 7.56s\n",
      "95:\tlearn: 0.7465240\ttotal: 29s\tremaining: 7.26s\n",
      "96:\tlearn: 0.7467479\ttotal: 29.4s\tremaining: 6.96s\n",
      "97:\tlearn: 0.7464822\ttotal: 29.7s\tremaining: 6.66s\n",
      "98:\tlearn: 0.7481303\ttotal: 30s\tremaining: 6.37s\n",
      "99:\tlearn: 0.7482776\ttotal: 30.3s\tremaining: 6.07s\n",
      "100:\tlearn: 0.7480934\ttotal: 30.7s\tremaining: 5.77s\n",
      "101:\tlearn: 0.7488719\ttotal: 31s\tremaining: 5.47s\n",
      "102:\tlearn: 0.7494071\ttotal: 31.3s\tremaining: 5.17s\n",
      "103:\tlearn: 0.7495626\ttotal: 31.6s\tremaining: 4.86s\n",
      "104:\tlearn: 0.7501941\ttotal: 31.9s\tremaining: 4.56s\n",
      "105:\tlearn: 0.7503111\ttotal: 32.3s\tremaining: 4.26s\n",
      "106:\tlearn: 0.7505267\ttotal: 32.6s\tremaining: 3.96s\n",
      "107:\tlearn: 0.7510914\ttotal: 32.9s\tremaining: 3.66s\n",
      "108:\tlearn: 0.7517421\ttotal: 33.2s\tremaining: 3.35s\n",
      "109:\tlearn: 0.7516648\ttotal: 33.5s\tremaining: 3.05s\n",
      "110:\tlearn: 0.7513838\ttotal: 33.9s\tremaining: 2.75s\n",
      "111:\tlearn: 0.7516167\ttotal: 34.2s\tremaining: 2.44s\n",
      "112:\tlearn: 0.7524166\ttotal: 34.5s\tremaining: 2.14s\n",
      "113:\tlearn: 0.7531922\ttotal: 34.8s\tremaining: 1.83s\n",
      "114:\tlearn: 0.7526562\ttotal: 35.1s\tremaining: 1.53s\n",
      "115:\tlearn: 0.7523209\ttotal: 35.5s\tremaining: 1.22s\n",
      "116:\tlearn: 0.7530855\ttotal: 35.8s\tremaining: 918ms\n",
      "117:\tlearn: 0.7533846\ttotal: 36.1s\tremaining: 613ms\n",
      "118:\tlearn: 0.7538186\ttotal: 36.5s\tremaining: 306ms\n",
      "119:\tlearn: 0.7550569\ttotal: 36.8s\tremaining: 0us\n",
      "[CV] END ..........depth=15, iterations=120, learning_rate=1; total time=  38.4s\n",
      "0:\tlearn: 0.3623988\ttotal: 20.3ms\tremaining: 2.41s\n",
      "1:\tlearn: 0.4338052\ttotal: 35.7ms\tremaining: 2.1s\n",
      "2:\tlearn: 0.6018680\ttotal: 358ms\tremaining: 14s\n",
      "3:\tlearn: 0.6005815\ttotal: 684ms\tremaining: 19.8s\n",
      "4:\tlearn: 0.5936129\ttotal: 697ms\tremaining: 16s\n",
      "5:\tlearn: 0.6243294\ttotal: 1.01s\tremaining: 19.1s\n",
      "6:\tlearn: 0.6342506\ttotal: 1.34s\tremaining: 21.6s\n",
      "7:\tlearn: 0.6347675\ttotal: 1.36s\tremaining: 19.1s\n",
      "8:\tlearn: 0.6329084\ttotal: 1.39s\tremaining: 17.1s\n",
      "9:\tlearn: 0.6350858\ttotal: 1.53s\tremaining: 16.8s\n",
      "10:\tlearn: 0.6540467\ttotal: 1.84s\tremaining: 18.2s\n",
      "11:\tlearn: 0.6540987\ttotal: 1.85s\tremaining: 16.7s\n",
      "12:\tlearn: 0.6655967\ttotal: 2.17s\tremaining: 17.8s\n",
      "13:\tlearn: 0.6681747\ttotal: 2.51s\tremaining: 19s\n",
      "14:\tlearn: 0.6710851\ttotal: 2.83s\tremaining: 19.8s\n",
      "15:\tlearn: 0.6724384\ttotal: 3.15s\tremaining: 20.5s\n",
      "16:\tlearn: 0.6718871\ttotal: 3.47s\tremaining: 21s\n",
      "17:\tlearn: 0.6704298\ttotal: 3.78s\tremaining: 21.4s\n",
      "18:\tlearn: 0.6785174\ttotal: 4.1s\tremaining: 21.8s\n",
      "19:\tlearn: 0.6810857\ttotal: 4.42s\tremaining: 22.1s\n",
      "20:\tlearn: 0.6832030\ttotal: 4.75s\tremaining: 22.4s\n",
      "21:\tlearn: 0.6838357\ttotal: 5.06s\tremaining: 22.5s\n",
      "22:\tlearn: 0.6841882\ttotal: 5.37s\tremaining: 22.7s\n",
      "23:\tlearn: 0.6847118\ttotal: 5.69s\tremaining: 22.8s\n",
      "24:\tlearn: 0.6888076\ttotal: 6s\tremaining: 22.8s\n",
      "25:\tlearn: 0.6909091\ttotal: 6.32s\tremaining: 22.8s\n",
      "26:\tlearn: 0.6915045\ttotal: 6.38s\tremaining: 22s\n",
      "27:\tlearn: 0.6932014\ttotal: 6.69s\tremaining: 22s\n",
      "28:\tlearn: 0.6927713\ttotal: 7s\tremaining: 22s\n",
      "29:\tlearn: 0.6932849\ttotal: 7.33s\tremaining: 22s\n",
      "30:\tlearn: 0.6922719\ttotal: 7.71s\tremaining: 22.1s\n",
      "31:\tlearn: 0.6952826\ttotal: 8.03s\tremaining: 22.1s\n",
      "32:\tlearn: 0.6961816\ttotal: 8.35s\tremaining: 22s\n",
      "33:\tlearn: 0.6979788\ttotal: 8.67s\tremaining: 21.9s\n",
      "34:\tlearn: 0.7012059\ttotal: 8.98s\tremaining: 21.8s\n",
      "35:\tlearn: 0.7005880\ttotal: 9.29s\tremaining: 21.7s\n",
      "36:\tlearn: 0.7001542\ttotal: 9.6s\tremaining: 21.5s\n",
      "37:\tlearn: 0.7026756\ttotal: 9.92s\tremaining: 21.4s\n",
      "38:\tlearn: 0.7032459\ttotal: 10.2s\tremaining: 21.3s\n",
      "39:\tlearn: 0.7053836\ttotal: 10.6s\tremaining: 21.1s\n",
      "40:\tlearn: 0.7062245\ttotal: 10.9s\tremaining: 21s\n",
      "41:\tlearn: 0.7074141\ttotal: 11.2s\tremaining: 20.8s\n",
      "42:\tlearn: 0.7090629\ttotal: 11.5s\tremaining: 20.7s\n",
      "43:\tlearn: 0.7098115\ttotal: 11.9s\tremaining: 20.5s\n",
      "44:\tlearn: 0.7101410\ttotal: 12.2s\tremaining: 20.3s\n",
      "45:\tlearn: 0.7107400\ttotal: 12.5s\tremaining: 20.1s\n",
      "46:\tlearn: 0.7107074\ttotal: 12.8s\tremaining: 19.9s\n",
      "47:\tlearn: 0.7109221\ttotal: 13.2s\tremaining: 19.7s\n",
      "48:\tlearn: 0.7111696\ttotal: 13.5s\tremaining: 19.5s\n",
      "49:\tlearn: 0.7127110\ttotal: 13.7s\tremaining: 19.2s\n",
      "50:\tlearn: 0.7122758\ttotal: 14.1s\tremaining: 19s\n",
      "51:\tlearn: 0.7113646\ttotal: 14.4s\tremaining: 18.8s\n",
      "52:\tlearn: 0.7110852\ttotal: 14.7s\tremaining: 18.6s\n",
      "53:\tlearn: 0.7126481\ttotal: 15s\tremaining: 18.4s\n",
      "54:\tlearn: 0.7128368\ttotal: 15.3s\tremaining: 18.1s\n",
      "55:\tlearn: 0.7145899\ttotal: 15.6s\tremaining: 17.9s\n",
      "56:\tlearn: 0.7148218\ttotal: 16s\tremaining: 17.6s\n",
      "57:\tlearn: 0.7164720\ttotal: 16.3s\tremaining: 17.4s\n",
      "58:\tlearn: 0.7175013\ttotal: 16.6s\tremaining: 17.2s\n",
      "59:\tlearn: 0.7186754\ttotal: 16.9s\tremaining: 16.9s\n",
      "60:\tlearn: 0.7190864\ttotal: 17.2s\tremaining: 16.7s\n",
      "61:\tlearn: 0.7187947\ttotal: 17.6s\tremaining: 16.5s\n",
      "62:\tlearn: 0.7186559\ttotal: 17.9s\tremaining: 16.2s\n",
      "63:\tlearn: 0.7176644\ttotal: 18.3s\tremaining: 16s\n",
      "64:\tlearn: 0.7220921\ttotal: 18.6s\tremaining: 15.7s\n",
      "65:\tlearn: 0.7232266\ttotal: 18.9s\tremaining: 15.5s\n",
      "66:\tlearn: 0.7229175\ttotal: 19.2s\tremaining: 15.2s\n",
      "67:\tlearn: 0.7213965\ttotal: 19.5s\tremaining: 14.9s\n",
      "68:\tlearn: 0.7217906\ttotal: 19.8s\tremaining: 14.7s\n",
      "69:\tlearn: 0.7230568\ttotal: 20.1s\tremaining: 14.4s\n",
      "70:\tlearn: 0.7238073\ttotal: 20.5s\tremaining: 14.1s\n",
      "71:\tlearn: 0.7242507\ttotal: 20.8s\tremaining: 13.8s\n",
      "72:\tlearn: 0.7242919\ttotal: 21.1s\tremaining: 13.6s\n",
      "73:\tlearn: 0.7243410\ttotal: 21.4s\tremaining: 13.3s\n",
      "74:\tlearn: 0.7242070\ttotal: 21.7s\tremaining: 13s\n",
      "75:\tlearn: 0.7244525\ttotal: 22s\tremaining: 12.8s\n",
      "76:\tlearn: 0.7250950\ttotal: 22.4s\tremaining: 12.5s\n",
      "77:\tlearn: 0.7252410\ttotal: 22.7s\tremaining: 12.2s\n",
      "78:\tlearn: 0.7269806\ttotal: 23s\tremaining: 11.9s\n",
      "79:\tlearn: 0.7242151\ttotal: 23.3s\tremaining: 11.7s\n",
      "80:\tlearn: 0.7256868\ttotal: 23.6s\tremaining: 11.4s\n",
      "81:\tlearn: 0.7270776\ttotal: 24s\tremaining: 11.1s\n",
      "82:\tlearn: 0.7269941\ttotal: 24.3s\tremaining: 10.8s\n",
      "83:\tlearn: 0.7293022\ttotal: 24.6s\tremaining: 10.5s\n",
      "84:\tlearn: 0.7288398\ttotal: 24.9s\tremaining: 10.3s\n",
      "85:\tlearn: 0.7284963\ttotal: 25.3s\tremaining: 9.98s\n",
      "86:\tlearn: 0.7285316\ttotal: 25.6s\tremaining: 9.7s\n",
      "87:\tlearn: 0.7292254\ttotal: 25.9s\tremaining: 9.41s\n",
      "88:\tlearn: 0.7283998\ttotal: 26.2s\tremaining: 9.13s\n",
      "89:\tlearn: 0.7309813\ttotal: 26.5s\tremaining: 8.84s\n",
      "90:\tlearn: 0.7309962\ttotal: 26.8s\tremaining: 8.55s\n",
      "91:\tlearn: 0.7309727\ttotal: 27.1s\tremaining: 8.26s\n",
      "92:\tlearn: 0.7315999\ttotal: 27.5s\tremaining: 7.99s\n",
      "93:\tlearn: 0.7313017\ttotal: 27.8s\tremaining: 7.7s\n",
      "94:\tlearn: 0.7318166\ttotal: 28.2s\tremaining: 7.41s\n",
      "95:\tlearn: 0.7318166\ttotal: 28.5s\tremaining: 7.12s\n",
      "96:\tlearn: 0.7313363\ttotal: 28.8s\tremaining: 6.83s\n",
      "97:\tlearn: 0.7313554\ttotal: 29.1s\tremaining: 6.53s\n",
      "98:\tlearn: 0.7334978\ttotal: 29.4s\tremaining: 6.24s\n",
      "99:\tlearn: 0.7343192\ttotal: 29.7s\tremaining: 5.95s\n",
      "100:\tlearn: 0.7353246\ttotal: 30.1s\tremaining: 5.66s\n",
      "101:\tlearn: 0.7355185\ttotal: 30.4s\tremaining: 5.36s\n",
      "102:\tlearn: 0.7355978\ttotal: 30.7s\tremaining: 5.07s\n",
      "103:\tlearn: 0.7343834\ttotal: 31s\tremaining: 4.77s\n",
      "104:\tlearn: 0.7349783\ttotal: 31.3s\tremaining: 4.48s\n",
      "105:\tlearn: 0.7340273\ttotal: 31.7s\tremaining: 4.18s\n",
      "106:\tlearn: 0.7360283\ttotal: 32s\tremaining: 3.88s\n",
      "107:\tlearn: 0.7358498\ttotal: 32.3s\tremaining: 3.59s\n",
      "108:\tlearn: 0.7347855\ttotal: 32.7s\tremaining: 3.3s\n",
      "109:\tlearn: 0.7359217\ttotal: 33s\tremaining: 3s\n",
      "110:\tlearn: 0.7359864\ttotal: 33.3s\tremaining: 2.7s\n",
      "111:\tlearn: 0.7363601\ttotal: 33.6s\tremaining: 2.4s\n",
      "112:\tlearn: 0.7365502\ttotal: 34s\tremaining: 2.1s\n",
      "113:\tlearn: 0.7367691\ttotal: 34.3s\tremaining: 1.8s\n",
      "114:\tlearn: 0.7367935\ttotal: 34.6s\tremaining: 1.5s\n",
      "115:\tlearn: 0.7367935\ttotal: 34.9s\tremaining: 1.2s\n",
      "116:\tlearn: 0.7351469\ttotal: 35.2s\tremaining: 904ms\n",
      "117:\tlearn: 0.7362200\ttotal: 35.6s\tremaining: 603ms\n",
      "118:\tlearn: 0.7362608\ttotal: 35.9s\tremaining: 301ms\n",
      "119:\tlearn: 0.7366716\ttotal: 36.2s\tremaining: 0us\n",
      "[CV] END ..........depth=15, iterations=120, learning_rate=1; total time=  37.9s\n",
      "0:\tlearn: 0.3444211\ttotal: 10.8ms\tremaining: 1.28s\n",
      "1:\tlearn: 0.5633720\ttotal: 47.2ms\tremaining: 2.78s\n",
      "2:\tlearn: 0.5893402\ttotal: 355ms\tremaining: 13.8s\n",
      "3:\tlearn: 0.5788505\ttotal: 370ms\tremaining: 10.7s\n",
      "4:\tlearn: 0.5944855\ttotal: 390ms\tremaining: 8.97s\n",
      "5:\tlearn: 0.5991933\ttotal: 707ms\tremaining: 13.4s\n",
      "6:\tlearn: 0.6013550\ttotal: 1.02s\tremaining: 16.4s\n",
      "7:\tlearn: 0.6005194\ttotal: 1.07s\tremaining: 14.9s\n",
      "8:\tlearn: 0.6147955\ttotal: 1.39s\tremaining: 17.1s\n",
      "9:\tlearn: 0.6194497\ttotal: 1.71s\tremaining: 18.8s\n",
      "10:\tlearn: 0.6203670\ttotal: 1.84s\tremaining: 18.2s\n",
      "11:\tlearn: 0.6209090\ttotal: 2.15s\tremaining: 19.4s\n",
      "12:\tlearn: 0.6217316\ttotal: 2.48s\tremaining: 20.4s\n",
      "13:\tlearn: 0.6395120\ttotal: 2.81s\tremaining: 21.3s\n",
      "14:\tlearn: 0.6417622\ttotal: 3.15s\tremaining: 22s\n",
      "15:\tlearn: 0.6433241\ttotal: 3.48s\tremaining: 22.6s\n",
      "16:\tlearn: 0.6497109\ttotal: 3.82s\tremaining: 23.2s\n",
      "17:\tlearn: 0.6517791\ttotal: 4.14s\tremaining: 23.5s\n",
      "18:\tlearn: 0.6667435\ttotal: 4.48s\tremaining: 23.8s\n",
      "19:\tlearn: 0.6704781\ttotal: 4.81s\tremaining: 24s\n",
      "20:\tlearn: 0.6709970\ttotal: 5.12s\tremaining: 24.1s\n",
      "21:\tlearn: 0.6727841\ttotal: 5.44s\tremaining: 24.3s\n",
      "22:\tlearn: 0.6772426\ttotal: 5.76s\tremaining: 24.3s\n",
      "23:\tlearn: 0.6791053\ttotal: 6.08s\tremaining: 24.3s\n",
      "24:\tlearn: 0.6786234\ttotal: 6.4s\tremaining: 24.3s\n",
      "25:\tlearn: 0.6788055\ttotal: 6.71s\tremaining: 24.3s\n",
      "26:\tlearn: 0.6925391\ttotal: 7.03s\tremaining: 24.2s\n",
      "27:\tlearn: 0.6949798\ttotal: 7.34s\tremaining: 24.1s\n",
      "28:\tlearn: 0.6967535\ttotal: 7.59s\tremaining: 23.8s\n",
      "29:\tlearn: 0.6972812\ttotal: 7.91s\tremaining: 23.7s\n",
      "30:\tlearn: 0.6971777\ttotal: 8.23s\tremaining: 23.6s\n",
      "31:\tlearn: 0.6978305\ttotal: 8.55s\tremaining: 23.5s\n",
      "32:\tlearn: 0.6993823\ttotal: 8.91s\tremaining: 23.5s\n",
      "33:\tlearn: 0.6984359\ttotal: 9.23s\tremaining: 23.4s\n",
      "34:\tlearn: 0.6990254\ttotal: 9.54s\tremaining: 23.2s\n",
      "35:\tlearn: 0.7023224\ttotal: 9.68s\tremaining: 22.6s\n",
      "36:\tlearn: 0.7047001\ttotal: 9.99s\tremaining: 22.4s\n",
      "37:\tlearn: 0.7094615\ttotal: 10.3s\tremaining: 22.2s\n",
      "38:\tlearn: 0.7076805\ttotal: 10.6s\tremaining: 22.1s\n",
      "39:\tlearn: 0.7099614\ttotal: 10.9s\tremaining: 21.9s\n",
      "40:\tlearn: 0.7101886\ttotal: 11.3s\tremaining: 21.7s\n",
      "41:\tlearn: 0.7133266\ttotal: 11.6s\tremaining: 21.6s\n",
      "42:\tlearn: 0.7154509\ttotal: 11.9s\tremaining: 21.4s\n",
      "43:\tlearn: 0.7146394\ttotal: 12.3s\tremaining: 21.2s\n",
      "44:\tlearn: 0.7216880\ttotal: 12.6s\tremaining: 21s\n",
      "45:\tlearn: 0.7228577\ttotal: 12.8s\tremaining: 20.6s\n",
      "46:\tlearn: 0.7199969\ttotal: 13.2s\tremaining: 20.4s\n",
      "47:\tlearn: 0.7197189\ttotal: 13.5s\tremaining: 20.2s\n",
      "48:\tlearn: 0.7213749\ttotal: 13.8s\tremaining: 20s\n",
      "49:\tlearn: 0.7275732\ttotal: 14.2s\tremaining: 19.8s\n",
      "50:\tlearn: 0.7283860\ttotal: 14.5s\tremaining: 19.6s\n",
      "51:\tlearn: 0.7301782\ttotal: 14.8s\tremaining: 19.3s\n",
      "52:\tlearn: 0.7297580\ttotal: 15.1s\tremaining: 19.1s\n",
      "53:\tlearn: 0.7300248\ttotal: 15.4s\tremaining: 18.9s\n",
      "54:\tlearn: 0.7338598\ttotal: 15.7s\tremaining: 18.6s\n",
      "55:\tlearn: 0.7342189\ttotal: 16.1s\tremaining: 18.4s\n",
      "56:\tlearn: 0.7346344\ttotal: 16.4s\tremaining: 18.1s\n",
      "57:\tlearn: 0.7353933\ttotal: 16.7s\tremaining: 17.8s\n",
      "58:\tlearn: 0.7358476\ttotal: 17s\tremaining: 17.6s\n",
      "59:\tlearn: 0.7367858\ttotal: 17.3s\tremaining: 17.3s\n",
      "60:\tlearn: 0.7363032\ttotal: 17.6s\tremaining: 17.1s\n",
      "61:\tlearn: 0.7369666\ttotal: 18s\tremaining: 16.8s\n",
      "62:\tlearn: 0.7383364\ttotal: 18.3s\tremaining: 16.6s\n",
      "63:\tlearn: 0.7381691\ttotal: 18.7s\tremaining: 16.3s\n",
      "64:\tlearn: 0.7386442\ttotal: 19s\tremaining: 16s\n",
      "65:\tlearn: 0.7392541\ttotal: 19.3s\tremaining: 15.8s\n",
      "66:\tlearn: 0.7408177\ttotal: 19.6s\tremaining: 15.5s\n",
      "67:\tlearn: 0.7421307\ttotal: 19.9s\tremaining: 15.2s\n",
      "68:\tlearn: 0.7419812\ttotal: 20.2s\tremaining: 14.9s\n",
      "69:\tlearn: 0.7423061\ttotal: 20.5s\tremaining: 14.7s\n",
      "70:\tlearn: 0.7445033\ttotal: 20.9s\tremaining: 14.4s\n",
      "71:\tlearn: 0.7459257\ttotal: 21.2s\tremaining: 14.1s\n",
      "72:\tlearn: 0.7470503\ttotal: 21.5s\tremaining: 13.8s\n",
      "73:\tlearn: 0.7469458\ttotal: 21.8s\tremaining: 13.6s\n",
      "74:\tlearn: 0.7455131\ttotal: 22.1s\tremaining: 13.3s\n",
      "75:\tlearn: 0.7488422\ttotal: 22.5s\tremaining: 13s\n",
      "76:\tlearn: 0.7484546\ttotal: 22.8s\tremaining: 12.7s\n",
      "77:\tlearn: 0.7474422\ttotal: 23.1s\tremaining: 12.4s\n",
      "78:\tlearn: 0.7482900\ttotal: 23.4s\tremaining: 12.2s\n",
      "79:\tlearn: 0.7484823\ttotal: 23.8s\tremaining: 11.9s\n",
      "80:\tlearn: 0.7484045\ttotal: 24.1s\tremaining: 11.6s\n",
      "81:\tlearn: 0.7493876\ttotal: 24.4s\tremaining: 11.3s\n",
      "82:\tlearn: 0.7492422\ttotal: 24.7s\tremaining: 11s\n",
      "83:\tlearn: 0.7484596\ttotal: 25.1s\tremaining: 10.7s\n",
      "84:\tlearn: 0.7488444\ttotal: 25.4s\tremaining: 10.5s\n",
      "85:\tlearn: 0.7494327\ttotal: 25.8s\tremaining: 10.2s\n",
      "86:\tlearn: 0.7487389\ttotal: 26.1s\tremaining: 9.9s\n",
      "87:\tlearn: 0.7514163\ttotal: 26.4s\tremaining: 9.61s\n",
      "88:\tlearn: 0.7525214\ttotal: 26.8s\tremaining: 9.32s\n",
      "89:\tlearn: 0.7526783\ttotal: 27.2s\tremaining: 9.05s\n",
      "90:\tlearn: 0.7516139\ttotal: 27.5s\tremaining: 8.78s\n",
      "91:\tlearn: 0.7509824\ttotal: 27.9s\tremaining: 8.48s\n",
      "92:\tlearn: 0.7523550\ttotal: 28.2s\tremaining: 8.19s\n",
      "93:\tlearn: 0.7520610\ttotal: 28.5s\tremaining: 7.89s\n",
      "94:\tlearn: 0.7522710\ttotal: 28.9s\tremaining: 7.59s\n",
      "95:\tlearn: 0.7520228\ttotal: 29.2s\tremaining: 7.29s\n",
      "96:\tlearn: 0.7508329\ttotal: 29.5s\tremaining: 6.99s\n",
      "97:\tlearn: 0.7524333\ttotal: 29.8s\tremaining: 6.69s\n",
      "98:\tlearn: 0.7536032\ttotal: 30.1s\tremaining: 6.39s\n",
      "99:\tlearn: 0.7540858\ttotal: 30.4s\tremaining: 6.09s\n",
      "100:\tlearn: 0.7538456\ttotal: 30.8s\tremaining: 5.79s\n",
      "101:\tlearn: 0.7529366\ttotal: 31.1s\tremaining: 5.49s\n",
      "102:\tlearn: 0.7524982\ttotal: 31.4s\tremaining: 5.19s\n",
      "103:\tlearn: 0.7529139\ttotal: 31.8s\tremaining: 4.88s\n",
      "104:\tlearn: 0.7535406\ttotal: 32.1s\tremaining: 4.58s\n",
      "105:\tlearn: 0.7533079\ttotal: 32.4s\tremaining: 4.28s\n",
      "106:\tlearn: 0.7536120\ttotal: 32.7s\tremaining: 3.97s\n",
      "107:\tlearn: 0.7547793\ttotal: 33s\tremaining: 3.67s\n",
      "108:\tlearn: 0.7548082\ttotal: 33.4s\tremaining: 3.37s\n",
      "109:\tlearn: 0.7553866\ttotal: 33.7s\tremaining: 3.06s\n",
      "110:\tlearn: 0.7558131\ttotal: 34.1s\tremaining: 2.76s\n",
      "111:\tlearn: 0.7555846\ttotal: 34.4s\tremaining: 2.46s\n",
      "112:\tlearn: 0.7558113\ttotal: 34.7s\tremaining: 2.15s\n",
      "113:\tlearn: 0.7549909\ttotal: 35s\tremaining: 1.84s\n",
      "114:\tlearn: 0.7551611\ttotal: 35.3s\tremaining: 1.53s\n",
      "115:\tlearn: 0.7550359\ttotal: 35.6s\tremaining: 1.23s\n",
      "116:\tlearn: 0.7548177\ttotal: 36s\tremaining: 922ms\n",
      "117:\tlearn: 0.7545958\ttotal: 36.3s\tremaining: 615ms\n",
      "118:\tlearn: 0.7552512\ttotal: 36.6s\tremaining: 307ms\n",
      "119:\tlearn: 0.7560740\ttotal: 36.9s\tremaining: 0us\n",
      "[CV] END ..........depth=15, iterations=120, learning_rate=1; total time=  39.7s\n",
      "0:\tlearn: 0.3431432\ttotal: 33.5ms\tremaining: 3.31s\n",
      "1:\tlearn: 0.5574012\ttotal: 379ms\tremaining: 18.6s\n",
      "2:\tlearn: 0.5531934\ttotal: 392ms\tremaining: 12.7s\n",
      "3:\tlearn: 0.5876621\ttotal: 707ms\tremaining: 17s\n",
      "4:\tlearn: 0.6041940\ttotal: 1.02s\tremaining: 19.4s\n",
      "5:\tlearn: 0.6050296\ttotal: 1.03s\tremaining: 16.2s\n",
      "6:\tlearn: 0.6018713\ttotal: 1.05s\tremaining: 13.9s\n",
      "7:\tlearn: 0.6306486\ttotal: 1.36s\tremaining: 15.7s\n",
      "8:\tlearn: 0.6305182\ttotal: 1.38s\tremaining: 13.9s\n",
      "9:\tlearn: 0.6305182\ttotal: 1.38s\tremaining: 12.5s\n",
      "10:\tlearn: 0.6386481\ttotal: 1.71s\tremaining: 13.8s\n",
      "11:\tlearn: 0.6389465\ttotal: 2.02s\tremaining: 14.8s\n",
      "12:\tlearn: 0.6492878\ttotal: 2.33s\tremaining: 15.6s\n",
      "13:\tlearn: 0.6664351\ttotal: 2.64s\tremaining: 16.2s\n",
      "14:\tlearn: 0.6697671\ttotal: 2.95s\tremaining: 16.7s\n",
      "15:\tlearn: 0.6789916\ttotal: 3.27s\tremaining: 17.2s\n",
      "16:\tlearn: 0.6776268\ttotal: 3.59s\tremaining: 17.5s\n",
      "17:\tlearn: 0.6799311\ttotal: 3.89s\tremaining: 17.7s\n",
      "18:\tlearn: 0.6805838\ttotal: 4.2s\tremaining: 17.9s\n",
      "19:\tlearn: 0.6791991\ttotal: 4.52s\tremaining: 18.1s\n",
      "20:\tlearn: 0.6899799\ttotal: 4.85s\tremaining: 18.3s\n",
      "21:\tlearn: 0.6909298\ttotal: 5.17s\tremaining: 18.3s\n",
      "22:\tlearn: 0.6921844\ttotal: 5.49s\tremaining: 18.4s\n",
      "23:\tlearn: 0.6941529\ttotal: 5.82s\tremaining: 18.4s\n",
      "24:\tlearn: 0.6941521\ttotal: 6.15s\tremaining: 18.5s\n",
      "25:\tlearn: 0.6928304\ttotal: 6.47s\tremaining: 18.4s\n",
      "26:\tlearn: 0.6933842\ttotal: 6.8s\tremaining: 18.4s\n",
      "27:\tlearn: 0.6969628\ttotal: 7.12s\tremaining: 18.3s\n",
      "28:\tlearn: 0.6996212\ttotal: 7.43s\tremaining: 18.2s\n",
      "29:\tlearn: 0.6995816\ttotal: 7.74s\tremaining: 18.1s\n",
      "30:\tlearn: 0.6984528\ttotal: 8.05s\tremaining: 17.9s\n",
      "31:\tlearn: 0.6985136\ttotal: 8.36s\tremaining: 17.8s\n",
      "32:\tlearn: 0.6975565\ttotal: 8.67s\tremaining: 17.6s\n",
      "33:\tlearn: 0.7008239\ttotal: 8.98s\tremaining: 17.4s\n",
      "34:\tlearn: 0.7029673\ttotal: 9.29s\tremaining: 17.3s\n",
      "35:\tlearn: 0.7001580\ttotal: 9.63s\tremaining: 17.1s\n",
      "36:\tlearn: 0.7096553\ttotal: 9.99s\tremaining: 17s\n",
      "37:\tlearn: 0.7112932\ttotal: 10.3s\tremaining: 16.8s\n",
      "38:\tlearn: 0.7133338\ttotal: 10.6s\tremaining: 16.6s\n",
      "39:\tlearn: 0.7136945\ttotal: 11s\tremaining: 16.4s\n",
      "40:\tlearn: 0.7159338\ttotal: 11.3s\tremaining: 16.2s\n",
      "41:\tlearn: 0.7168074\ttotal: 11.6s\tremaining: 16s\n",
      "42:\tlearn: 0.7181183\ttotal: 11.9s\tremaining: 15.8s\n",
      "43:\tlearn: 0.7195020\ttotal: 12.2s\tremaining: 15.6s\n",
      "44:\tlearn: 0.7198205\ttotal: 12.6s\tremaining: 15.4s\n",
      "45:\tlearn: 0.7195321\ttotal: 12.9s\tremaining: 15.1s\n",
      "46:\tlearn: 0.7189169\ttotal: 13.2s\tremaining: 14.9s\n",
      "47:\tlearn: 0.7197861\ttotal: 13.5s\tremaining: 14.6s\n",
      "48:\tlearn: 0.7191003\ttotal: 13.8s\tremaining: 14.4s\n",
      "49:\tlearn: 0.7203018\ttotal: 14.1s\tremaining: 14.1s\n",
      "50:\tlearn: 0.7205546\ttotal: 14.5s\tremaining: 13.9s\n",
      "51:\tlearn: 0.7218926\ttotal: 14.8s\tremaining: 13.7s\n",
      "52:\tlearn: 0.7230389\ttotal: 15.1s\tremaining: 13.4s\n",
      "53:\tlearn: 0.7227990\ttotal: 15.4s\tremaining: 13.2s\n",
      "54:\tlearn: 0.7240012\ttotal: 15.8s\tremaining: 12.9s\n",
      "55:\tlearn: 0.7255535\ttotal: 16.1s\tremaining: 12.6s\n",
      "56:\tlearn: 0.7254567\ttotal: 16.4s\tremaining: 12.4s\n",
      "57:\tlearn: 0.7258401\ttotal: 16.8s\tremaining: 12.1s\n",
      "58:\tlearn: 0.7262274\ttotal: 17.1s\tremaining: 11.9s\n",
      "59:\tlearn: 0.7261602\ttotal: 17.4s\tremaining: 11.6s\n",
      "60:\tlearn: 0.7281745\ttotal: 17.7s\tremaining: 11.3s\n",
      "61:\tlearn: 0.7281159\ttotal: 18.1s\tremaining: 11.1s\n",
      "62:\tlearn: 0.7310308\ttotal: 18.4s\tremaining: 10.8s\n",
      "63:\tlearn: 0.7313258\ttotal: 18.7s\tremaining: 10.5s\n",
      "64:\tlearn: 0.7321685\ttotal: 19s\tremaining: 10.2s\n",
      "65:\tlearn: 0.7334562\ttotal: 19.3s\tremaining: 9.95s\n",
      "66:\tlearn: 0.7343416\ttotal: 19.6s\tremaining: 9.67s\n",
      "67:\tlearn: 0.7339809\ttotal: 20s\tremaining: 9.42s\n",
      "68:\tlearn: 0.7330993\ttotal: 20.3s\tremaining: 9.13s\n",
      "69:\tlearn: 0.7339235\ttotal: 20.7s\tremaining: 8.85s\n",
      "70:\tlearn: 0.7331948\ttotal: 21s\tremaining: 8.56s\n",
      "71:\tlearn: 0.7344876\ttotal: 21.3s\tremaining: 8.28s\n",
      "72:\tlearn: 0.7335790\ttotal: 21.6s\tremaining: 7.99s\n",
      "73:\tlearn: 0.7355635\ttotal: 21.9s\tremaining: 7.7s\n",
      "74:\tlearn: 0.7356670\ttotal: 22.2s\tremaining: 7.41s\n",
      "75:\tlearn: 0.7360817\ttotal: 22.5s\tremaining: 7.12s\n",
      "76:\tlearn: 0.7359818\ttotal: 22.6s\tremaining: 6.75s\n",
      "77:\tlearn: 0.7365385\ttotal: 22.9s\tremaining: 6.46s\n",
      "78:\tlearn: 0.7367822\ttotal: 23.2s\tremaining: 6.18s\n",
      "79:\tlearn: 0.7384265\ttotal: 23.6s\tremaining: 5.89s\n",
      "80:\tlearn: 0.7385257\ttotal: 23.9s\tremaining: 5.6s\n",
      "81:\tlearn: 0.7382163\ttotal: 24.2s\tremaining: 5.31s\n",
      "82:\tlearn: 0.7378692\ttotal: 24.5s\tremaining: 5.02s\n",
      "83:\tlearn: 0.7375741\ttotal: 24.8s\tremaining: 4.73s\n",
      "84:\tlearn: 0.7395751\ttotal: 25.1s\tremaining: 4.44s\n",
      "85:\tlearn: 0.7401320\ttotal: 25.5s\tremaining: 4.14s\n",
      "86:\tlearn: 0.7387675\ttotal: 25.8s\tremaining: 3.85s\n",
      "87:\tlearn: 0.7407183\ttotal: 26.1s\tremaining: 3.56s\n",
      "88:\tlearn: 0.7413930\ttotal: 26.4s\tremaining: 3.27s\n",
      "89:\tlearn: 0.7411056\ttotal: 26.8s\tremaining: 2.98s\n",
      "90:\tlearn: 0.7428269\ttotal: 27.1s\tremaining: 2.68s\n",
      "91:\tlearn: 0.7425286\ttotal: 27.4s\tremaining: 2.38s\n",
      "92:\tlearn: 0.7432387\ttotal: 27.7s\tremaining: 2.09s\n",
      "93:\tlearn: 0.7428767\ttotal: 28.1s\tremaining: 1.79s\n",
      "94:\tlearn: 0.7423402\ttotal: 28.4s\tremaining: 1.49s\n",
      "95:\tlearn: 0.7421661\ttotal: 28.7s\tremaining: 1.19s\n",
      "96:\tlearn: 0.7420904\ttotal: 29s\tremaining: 897ms\n",
      "97:\tlearn: 0.7425027\ttotal: 29.3s\tremaining: 598ms\n",
      "98:\tlearn: 0.7437472\ttotal: 29.6s\tremaining: 299ms\n",
      "99:\tlearn: 0.7453487\ttotal: 30s\tremaining: 0us\n",
      "[CV] END ..........depth=15, iterations=100, learning_rate=1; total time=  31.3s\n",
      "0:\tlearn: 0.3446198\ttotal: 25.7ms\tremaining: 2.55s\n",
      "1:\tlearn: 0.5669138\ttotal: 340ms\tremaining: 16.7s\n",
      "2:\tlearn: 0.5553709\ttotal: 352ms\tremaining: 11.4s\n",
      "3:\tlearn: 0.5684795\ttotal: 662ms\tremaining: 15.9s\n",
      "4:\tlearn: 0.6152390\ttotal: 969ms\tremaining: 18.4s\n",
      "5:\tlearn: 0.6179671\ttotal: 1.29s\tremaining: 20.1s\n",
      "6:\tlearn: 0.6185683\ttotal: 1.3s\tremaining: 17.3s\n",
      "7:\tlearn: 0.6286447\ttotal: 1.61s\tremaining: 18.6s\n",
      "8:\tlearn: 0.6294919\ttotal: 1.63s\tremaining: 16.4s\n",
      "9:\tlearn: 0.6296088\ttotal: 1.94s\tremaining: 17.4s\n",
      "10:\tlearn: 0.6297191\ttotal: 1.95s\tremaining: 15.8s\n",
      "11:\tlearn: 0.6336459\ttotal: 2.27s\tremaining: 16.6s\n",
      "12:\tlearn: 0.6324938\ttotal: 2.58s\tremaining: 17.3s\n",
      "13:\tlearn: 0.6383728\ttotal: 2.9s\tremaining: 17.8s\n",
      "14:\tlearn: 0.6383506\ttotal: 3.21s\tremaining: 18.2s\n",
      "15:\tlearn: 0.6447901\ttotal: 3.52s\tremaining: 18.5s\n",
      "16:\tlearn: 0.6414006\ttotal: 3.85s\tremaining: 18.8s\n",
      "17:\tlearn: 0.6420297\ttotal: 4.09s\tremaining: 18.6s\n",
      "18:\tlearn: 0.6557193\ttotal: 4.42s\tremaining: 18.9s\n",
      "19:\tlearn: 0.6622071\ttotal: 4.73s\tremaining: 18.9s\n",
      "20:\tlearn: 0.6631012\ttotal: 5.04s\tremaining: 19s\n",
      "21:\tlearn: 0.6657730\ttotal: 5.36s\tremaining: 19s\n",
      "22:\tlearn: 0.6657197\ttotal: 5.67s\tremaining: 19s\n",
      "23:\tlearn: 0.6670088\ttotal: 5.99s\tremaining: 19s\n",
      "24:\tlearn: 0.6741149\ttotal: 6.3s\tremaining: 18.9s\n",
      "25:\tlearn: 0.6789070\ttotal: 6.61s\tremaining: 18.8s\n",
      "26:\tlearn: 0.6843729\ttotal: 6.91s\tremaining: 18.7s\n",
      "27:\tlearn: 0.6968964\ttotal: 7.22s\tremaining: 18.6s\n",
      "28:\tlearn: 0.6980017\ttotal: 7.53s\tremaining: 18.4s\n",
      "29:\tlearn: 0.7011964\ttotal: 7.85s\tremaining: 18.3s\n",
      "30:\tlearn: 0.7013007\ttotal: 8.16s\tremaining: 18.2s\n",
      "31:\tlearn: 0.7071139\ttotal: 8.49s\tremaining: 18s\n",
      "32:\tlearn: 0.7072279\ttotal: 8.84s\tremaining: 18s\n",
      "33:\tlearn: 0.7096124\ttotal: 9.15s\tremaining: 17.8s\n",
      "34:\tlearn: 0.7151071\ttotal: 9.48s\tremaining: 17.6s\n",
      "35:\tlearn: 0.7144952\ttotal: 9.8s\tremaining: 17.4s\n",
      "36:\tlearn: 0.7119318\ttotal: 10.1s\tremaining: 17.2s\n",
      "37:\tlearn: 0.7130151\ttotal: 10.4s\tremaining: 17s\n",
      "38:\tlearn: 0.7167053\ttotal: 10.8s\tremaining: 16.8s\n",
      "39:\tlearn: 0.7180635\ttotal: 11.1s\tremaining: 16.6s\n",
      "40:\tlearn: 0.7191704\ttotal: 11.4s\tremaining: 16.4s\n",
      "41:\tlearn: 0.7194112\ttotal: 11.7s\tremaining: 16.2s\n",
      "42:\tlearn: 0.7195117\ttotal: 12s\tremaining: 15.9s\n",
      "43:\tlearn: 0.7198638\ttotal: 12.3s\tremaining: 15.7s\n",
      "44:\tlearn: 0.7215151\ttotal: 12.7s\tremaining: 15.5s\n",
      "45:\tlearn: 0.7248712\ttotal: 13s\tremaining: 15.2s\n",
      "46:\tlearn: 0.7251671\ttotal: 13.3s\tremaining: 15s\n",
      "47:\tlearn: 0.7329020\ttotal: 13.6s\tremaining: 14.8s\n",
      "48:\tlearn: 0.7349639\ttotal: 13.9s\tremaining: 14.5s\n",
      "49:\tlearn: 0.7346543\ttotal: 14.3s\tremaining: 14.3s\n",
      "50:\tlearn: 0.7349010\ttotal: 14.6s\tremaining: 14s\n",
      "51:\tlearn: 0.7360736\ttotal: 14.9s\tremaining: 13.7s\n",
      "52:\tlearn: 0.7339514\ttotal: 15.2s\tremaining: 13.5s\n",
      "53:\tlearn: 0.7362799\ttotal: 15.5s\tremaining: 13.2s\n",
      "54:\tlearn: 0.7392448\ttotal: 15.9s\tremaining: 13s\n",
      "55:\tlearn: 0.7397620\ttotal: 16.2s\tremaining: 12.7s\n",
      "56:\tlearn: 0.7390125\ttotal: 16.5s\tremaining: 12.4s\n",
      "57:\tlearn: 0.7389346\ttotal: 16.8s\tremaining: 12.2s\n",
      "58:\tlearn: 0.7407350\ttotal: 17.1s\tremaining: 11.9s\n",
      "59:\tlearn: 0.7410147\ttotal: 17.4s\tremaining: 11.6s\n",
      "60:\tlearn: 0.7407207\ttotal: 17.7s\tremaining: 11.3s\n",
      "61:\tlearn: 0.7411633\ttotal: 18s\tremaining: 11s\n",
      "62:\tlearn: 0.7419529\ttotal: 18.3s\tremaining: 10.7s\n",
      "63:\tlearn: 0.7430553\ttotal: 18.6s\tremaining: 10.5s\n",
      "64:\tlearn: 0.7433656\ttotal: 19s\tremaining: 10.2s\n",
      "65:\tlearn: 0.7438615\ttotal: 19.3s\tremaining: 9.93s\n",
      "66:\tlearn: 0.7442004\ttotal: 19.6s\tremaining: 9.65s\n",
      "67:\tlearn: 0.7438405\ttotal: 19.9s\tremaining: 9.37s\n",
      "68:\tlearn: 0.7440928\ttotal: 20.2s\tremaining: 9.08s\n",
      "69:\tlearn: 0.7444642\ttotal: 20.5s\tremaining: 8.8s\n",
      "70:\tlearn: 0.7452895\ttotal: 20.8s\tremaining: 8.52s\n",
      "71:\tlearn: 0.7462687\ttotal: 21.2s\tremaining: 8.23s\n",
      "72:\tlearn: 0.7459045\ttotal: 21.5s\tremaining: 7.95s\n",
      "73:\tlearn: 0.7466636\ttotal: 21.8s\tremaining: 7.66s\n",
      "74:\tlearn: 0.7472080\ttotal: 22.1s\tremaining: 7.38s\n",
      "75:\tlearn: 0.7468115\ttotal: 22.5s\tremaining: 7.09s\n",
      "76:\tlearn: 0.7480565\ttotal: 22.8s\tremaining: 6.81s\n",
      "77:\tlearn: 0.7500673\ttotal: 23.1s\tremaining: 6.52s\n",
      "78:\tlearn: 0.7516954\ttotal: 23.4s\tremaining: 6.23s\n",
      "79:\tlearn: 0.7537480\ttotal: 23.8s\tremaining: 5.95s\n",
      "80:\tlearn: 0.7532387\ttotal: 24.1s\tremaining: 5.66s\n",
      "81:\tlearn: 0.7538195\ttotal: 24.4s\tremaining: 5.36s\n",
      "82:\tlearn: 0.7528190\ttotal: 24.7s\tremaining: 5.07s\n",
      "83:\tlearn: 0.7555163\ttotal: 25.1s\tremaining: 4.77s\n",
      "84:\tlearn: 0.7554695\ttotal: 25.4s\tremaining: 4.48s\n",
      "85:\tlearn: 0.7559342\ttotal: 25.7s\tremaining: 4.19s\n",
      "86:\tlearn: 0.7577932\ttotal: 26s\tremaining: 3.89s\n",
      "87:\tlearn: 0.7574949\ttotal: 26.4s\tremaining: 3.6s\n",
      "88:\tlearn: 0.7588573\ttotal: 26.7s\tremaining: 3.3s\n",
      "89:\tlearn: 0.7600446\ttotal: 27s\tremaining: 3s\n",
      "90:\tlearn: 0.7589262\ttotal: 27.4s\tremaining: 2.71s\n",
      "91:\tlearn: 0.7603395\ttotal: 27.7s\tremaining: 2.41s\n",
      "92:\tlearn: 0.7606844\ttotal: 28s\tremaining: 2.11s\n",
      "93:\tlearn: 0.7615955\ttotal: 28.3s\tremaining: 1.81s\n",
      "94:\tlearn: 0.7614858\ttotal: 28.7s\tremaining: 1.51s\n",
      "95:\tlearn: 0.7624656\ttotal: 29s\tremaining: 1.21s\n",
      "96:\tlearn: 0.7618537\ttotal: 29.3s\tremaining: 906ms\n",
      "97:\tlearn: 0.7632263\ttotal: 29.6s\tremaining: 604ms\n",
      "98:\tlearn: 0.7620220\ttotal: 29.9s\tremaining: 302ms\n",
      "99:\tlearn: 0.7616590\ttotal: 30.2s\tremaining: 0us\n",
      "[CV] END ..........depth=15, iterations=100, learning_rate=1; total time=  31.4s\n",
      "0:\tlearn: 0.3748110\ttotal: 144ms\tremaining: 14.2s\n",
      "1:\tlearn: 0.5590238\ttotal: 461ms\tremaining: 22.6s\n",
      "2:\tlearn: 0.5741979\ttotal: 776ms\tremaining: 25.1s\n",
      "3:\tlearn: 0.5764921\ttotal: 1.12s\tremaining: 26.9s\n",
      "4:\tlearn: 0.5766897\ttotal: 1.14s\tremaining: 21.6s\n",
      "5:\tlearn: 0.5766897\ttotal: 1.15s\tremaining: 17.9s\n",
      "6:\tlearn: 0.5762538\ttotal: 1.15s\tremaining: 15.3s\n",
      "7:\tlearn: 0.5797385\ttotal: 1.17s\tremaining: 13.5s\n",
      "8:\tlearn: 0.5829517\ttotal: 1.48s\tremaining: 15s\n",
      "9:\tlearn: 0.5831178\ttotal: 1.49s\tremaining: 13.4s\n",
      "10:\tlearn: 0.6069267\ttotal: 1.81s\tremaining: 14.7s\n",
      "11:\tlearn: 0.6112913\ttotal: 2.14s\tremaining: 15.7s\n",
      "12:\tlearn: 0.6206841\ttotal: 2.48s\tremaining: 16.6s\n",
      "13:\tlearn: 0.6209579\ttotal: 2.8s\tremaining: 17.2s\n",
      "14:\tlearn: 0.6176034\ttotal: 3.11s\tremaining: 17.6s\n",
      "15:\tlearn: 0.6269361\ttotal: 3.42s\tremaining: 18s\n",
      "16:\tlearn: 0.6271978\ttotal: 3.73s\tremaining: 18.2s\n",
      "17:\tlearn: 0.6404594\ttotal: 4.05s\tremaining: 18.5s\n",
      "18:\tlearn: 0.6477684\ttotal: 4.37s\tremaining: 18.6s\n",
      "19:\tlearn: 0.6564511\ttotal: 4.7s\tremaining: 18.8s\n",
      "20:\tlearn: 0.6587998\ttotal: 5.02s\tremaining: 18.9s\n",
      "21:\tlearn: 0.6640867\ttotal: 5.33s\tremaining: 18.9s\n",
      "22:\tlearn: 0.6681002\ttotal: 5.65s\tremaining: 18.9s\n",
      "23:\tlearn: 0.6705091\ttotal: 5.98s\tremaining: 18.9s\n",
      "24:\tlearn: 0.6719202\ttotal: 6.29s\tremaining: 18.9s\n",
      "25:\tlearn: 0.6765702\ttotal: 6.6s\tremaining: 18.8s\n",
      "26:\tlearn: 0.6722357\ttotal: 6.92s\tremaining: 18.7s\n",
      "27:\tlearn: 0.6785198\ttotal: 7.3s\tremaining: 18.8s\n",
      "28:\tlearn: 0.6835523\ttotal: 7.61s\tremaining: 18.6s\n",
      "29:\tlearn: 0.6836573\ttotal: 7.93s\tremaining: 18.5s\n",
      "30:\tlearn: 0.6850996\ttotal: 8.24s\tremaining: 18.3s\n",
      "31:\tlearn: 0.6895480\ttotal: 8.54s\tremaining: 18.2s\n",
      "32:\tlearn: 0.6951576\ttotal: 8.85s\tremaining: 18s\n",
      "33:\tlearn: 0.6957894\ttotal: 9.16s\tremaining: 17.8s\n",
      "34:\tlearn: 0.7026985\ttotal: 9.47s\tremaining: 17.6s\n",
      "35:\tlearn: 0.7029068\ttotal: 9.78s\tremaining: 17.4s\n",
      "36:\tlearn: 0.7059885\ttotal: 10.1s\tremaining: 17.2s\n",
      "37:\tlearn: 0.7089286\ttotal: 10.4s\tremaining: 17s\n",
      "38:\tlearn: 0.7120695\ttotal: 10.7s\tremaining: 16.8s\n",
      "39:\tlearn: 0.7159940\ttotal: 11s\tremaining: 16.5s\n",
      "40:\tlearn: 0.7175685\ttotal: 11.3s\tremaining: 16.3s\n",
      "41:\tlearn: 0.7163714\ttotal: 11.7s\tremaining: 16.1s\n",
      "42:\tlearn: 0.7178195\ttotal: 12s\tremaining: 15.9s\n",
      "43:\tlearn: 0.7181336\ttotal: 12.3s\tremaining: 15.7s\n",
      "44:\tlearn: 0.7215626\ttotal: 12.6s\tremaining: 15.4s\n",
      "45:\tlearn: 0.7219417\ttotal: 13s\tremaining: 15.2s\n",
      "46:\tlearn: 0.7243808\ttotal: 13.3s\tremaining: 15s\n",
      "47:\tlearn: 0.7230411\ttotal: 13.6s\tremaining: 14.7s\n",
      "48:\tlearn: 0.7250319\ttotal: 13.9s\tremaining: 14.5s\n",
      "49:\tlearn: 0.7262221\ttotal: 14.3s\tremaining: 14.3s\n",
      "50:\tlearn: 0.7256781\ttotal: 14.6s\tremaining: 14s\n",
      "51:\tlearn: 0.7255731\ttotal: 14.9s\tremaining: 13.7s\n",
      "52:\tlearn: 0.7262449\ttotal: 15.2s\tremaining: 13.5s\n",
      "53:\tlearn: 0.7255868\ttotal: 15.6s\tremaining: 13.3s\n",
      "54:\tlearn: 0.7262856\ttotal: 15.9s\tremaining: 13s\n",
      "55:\tlearn: 0.7288731\ttotal: 16.3s\tremaining: 12.8s\n",
      "56:\tlearn: 0.7286983\ttotal: 16.6s\tremaining: 12.5s\n",
      "57:\tlearn: 0.7302889\ttotal: 16.9s\tremaining: 12.2s\n",
      "58:\tlearn: 0.7301280\ttotal: 17.3s\tremaining: 12s\n",
      "59:\tlearn: 0.7292486\ttotal: 17.6s\tremaining: 11.7s\n",
      "60:\tlearn: 0.7314660\ttotal: 17.9s\tremaining: 11.5s\n",
      "61:\tlearn: 0.7323878\ttotal: 18.3s\tremaining: 11.2s\n",
      "62:\tlearn: 0.7322187\ttotal: 18.6s\tremaining: 10.9s\n",
      "63:\tlearn: 0.7337241\ttotal: 18.9s\tremaining: 10.6s\n",
      "64:\tlearn: 0.7340632\ttotal: 19.2s\tremaining: 10.4s\n",
      "65:\tlearn: 0.7346051\ttotal: 19.7s\tremaining: 10.2s\n",
      "66:\tlearn: 0.7357029\ttotal: 20.1s\tremaining: 9.88s\n",
      "67:\tlearn: 0.7351334\ttotal: 20.4s\tremaining: 9.6s\n",
      "68:\tlearn: 0.7358909\ttotal: 20.7s\tremaining: 9.3s\n",
      "69:\tlearn: 0.7364196\ttotal: 21.1s\tremaining: 9.02s\n",
      "70:\tlearn: 0.7365304\ttotal: 21.4s\tremaining: 8.73s\n",
      "71:\tlearn: 0.7367806\ttotal: 21.7s\tremaining: 8.44s\n",
      "72:\tlearn: 0.7372604\ttotal: 22.1s\tremaining: 8.16s\n",
      "73:\tlearn: 0.7377459\ttotal: 22.4s\tremaining: 7.88s\n",
      "74:\tlearn: 0.7380534\ttotal: 22.7s\tremaining: 7.58s\n",
      "75:\tlearn: 0.7394128\ttotal: 23.1s\tremaining: 7.29s\n",
      "76:\tlearn: 0.7386404\ttotal: 23.4s\tremaining: 6.99s\n",
      "77:\tlearn: 0.7385386\ttotal: 23.7s\tremaining: 6.7s\n",
      "78:\tlearn: 0.7398269\ttotal: 24.1s\tremaining: 6.4s\n",
      "79:\tlearn: 0.7409777\ttotal: 24.4s\tremaining: 6.1s\n",
      "80:\tlearn: 0.7404982\ttotal: 24.7s\tremaining: 5.8s\n",
      "81:\tlearn: 0.7414444\ttotal: 25.1s\tremaining: 5.51s\n",
      "82:\tlearn: 0.7425131\ttotal: 25.4s\tremaining: 5.21s\n",
      "83:\tlearn: 0.7414406\ttotal: 25.7s\tremaining: 4.9s\n",
      "84:\tlearn: 0.7427392\ttotal: 26.1s\tremaining: 4.61s\n",
      "85:\tlearn: 0.7434759\ttotal: 26.4s\tremaining: 4.3s\n",
      "86:\tlearn: 0.7445938\ttotal: 26.8s\tremaining: 4s\n",
      "87:\tlearn: 0.7474396\ttotal: 27.1s\tremaining: 3.7s\n",
      "88:\tlearn: 0.7472077\ttotal: 27.4s\tremaining: 3.39s\n",
      "89:\tlearn: 0.7470140\ttotal: 27.8s\tremaining: 3.09s\n",
      "90:\tlearn: 0.7470233\ttotal: 28.1s\tremaining: 2.78s\n",
      "91:\tlearn: 0.7450338\ttotal: 28.4s\tremaining: 2.47s\n",
      "92:\tlearn: 0.7477279\ttotal: 28.8s\tremaining: 2.16s\n",
      "93:\tlearn: 0.7461709\ttotal: 29.1s\tremaining: 1.85s\n",
      "94:\tlearn: 0.7459877\ttotal: 29.4s\tremaining: 1.55s\n",
      "95:\tlearn: 0.7465240\ttotal: 29.7s\tremaining: 1.24s\n",
      "96:\tlearn: 0.7467479\ttotal: 30s\tremaining: 929ms\n",
      "97:\tlearn: 0.7464822\ttotal: 30.3s\tremaining: 619ms\n",
      "98:\tlearn: 0.7481303\ttotal: 30.7s\tremaining: 310ms\n",
      "99:\tlearn: 0.7482776\ttotal: 31s\tremaining: 0us\n",
      "[CV] END ..........depth=15, iterations=100, learning_rate=1; total time=  32.2s\n",
      "0:\tlearn: 0.3623988\ttotal: 20.3ms\tremaining: 2.01s\n",
      "1:\tlearn: 0.4338052\ttotal: 36ms\tremaining: 1.76s\n",
      "2:\tlearn: 0.6018680\ttotal: 350ms\tremaining: 11.3s\n",
      "3:\tlearn: 0.6005815\ttotal: 662ms\tremaining: 15.9s\n",
      "4:\tlearn: 0.5936129\ttotal: 676ms\tremaining: 12.8s\n",
      "5:\tlearn: 0.6243294\ttotal: 984ms\tremaining: 15.4s\n",
      "6:\tlearn: 0.6342506\ttotal: 1.29s\tremaining: 17.1s\n",
      "7:\tlearn: 0.6347675\ttotal: 1.31s\tremaining: 15.1s\n",
      "8:\tlearn: 0.6329084\ttotal: 1.34s\tremaining: 13.5s\n",
      "9:\tlearn: 0.6350858\ttotal: 1.48s\tremaining: 13.3s\n",
      "10:\tlearn: 0.6540467\ttotal: 1.79s\tremaining: 14.5s\n",
      "11:\tlearn: 0.6540987\ttotal: 1.81s\tremaining: 13.3s\n",
      "12:\tlearn: 0.6655967\ttotal: 2.12s\tremaining: 14.2s\n",
      "13:\tlearn: 0.6681747\ttotal: 2.44s\tremaining: 15s\n",
      "14:\tlearn: 0.6710851\ttotal: 2.75s\tremaining: 15.6s\n",
      "15:\tlearn: 0.6724384\ttotal: 3.07s\tremaining: 16.1s\n",
      "16:\tlearn: 0.6718871\ttotal: 3.38s\tremaining: 16.5s\n",
      "17:\tlearn: 0.6704298\ttotal: 3.71s\tremaining: 16.9s\n",
      "18:\tlearn: 0.6785174\ttotal: 4.04s\tremaining: 17.2s\n",
      "19:\tlearn: 0.6810857\ttotal: 4.36s\tremaining: 17.4s\n",
      "20:\tlearn: 0.6832030\ttotal: 4.71s\tremaining: 17.7s\n",
      "21:\tlearn: 0.6838357\ttotal: 5.08s\tremaining: 18s\n",
      "22:\tlearn: 0.6841882\ttotal: 5.38s\tremaining: 18s\n",
      "23:\tlearn: 0.6847118\ttotal: 5.7s\tremaining: 18.1s\n",
      "24:\tlearn: 0.6888076\ttotal: 6.02s\tremaining: 18.1s\n",
      "25:\tlearn: 0.6909091\ttotal: 6.33s\tremaining: 18s\n",
      "26:\tlearn: 0.6915045\ttotal: 6.39s\tremaining: 17.3s\n",
      "27:\tlearn: 0.6932014\ttotal: 6.7s\tremaining: 17.2s\n",
      "28:\tlearn: 0.6927713\ttotal: 7.01s\tremaining: 17.2s\n",
      "29:\tlearn: 0.6932849\ttotal: 7.32s\tremaining: 17.1s\n",
      "30:\tlearn: 0.6922719\ttotal: 7.63s\tremaining: 17s\n",
      "31:\tlearn: 0.6952826\ttotal: 7.95s\tremaining: 16.9s\n",
      "32:\tlearn: 0.6961816\ttotal: 8.27s\tremaining: 16.8s\n",
      "33:\tlearn: 0.6979788\ttotal: 8.59s\tremaining: 16.7s\n",
      "34:\tlearn: 0.7012059\ttotal: 8.91s\tremaining: 16.6s\n",
      "35:\tlearn: 0.7005880\ttotal: 9.24s\tremaining: 16.4s\n",
      "36:\tlearn: 0.7001542\ttotal: 9.56s\tremaining: 16.3s\n",
      "37:\tlearn: 0.7026756\ttotal: 9.9s\tremaining: 16.1s\n",
      "38:\tlearn: 0.7032459\ttotal: 10.2s\tremaining: 16s\n",
      "39:\tlearn: 0.7053836\ttotal: 10.6s\tremaining: 15.8s\n",
      "40:\tlearn: 0.7062245\ttotal: 10.9s\tremaining: 15.7s\n",
      "41:\tlearn: 0.7074141\ttotal: 11.2s\tremaining: 15.5s\n",
      "42:\tlearn: 0.7090629\ttotal: 11.5s\tremaining: 15.3s\n",
      "43:\tlearn: 0.7098115\ttotal: 11.9s\tremaining: 15.1s\n",
      "44:\tlearn: 0.7101410\ttotal: 12.2s\tremaining: 14.9s\n",
      "45:\tlearn: 0.7107400\ttotal: 12.6s\tremaining: 14.8s\n",
      "46:\tlearn: 0.7107074\ttotal: 12.9s\tremaining: 14.5s\n",
      "47:\tlearn: 0.7109221\ttotal: 13.3s\tremaining: 14.4s\n",
      "48:\tlearn: 0.7111696\ttotal: 13.7s\tremaining: 14.3s\n",
      "49:\tlearn: 0.7127110\ttotal: 13.9s\tremaining: 13.9s\n",
      "50:\tlearn: 0.7122758\ttotal: 14.3s\tremaining: 13.7s\n",
      "51:\tlearn: 0.7113646\ttotal: 14.6s\tremaining: 13.5s\n",
      "52:\tlearn: 0.7110852\ttotal: 14.9s\tremaining: 13.2s\n",
      "53:\tlearn: 0.7126481\ttotal: 15.2s\tremaining: 13s\n",
      "54:\tlearn: 0.7128368\ttotal: 15.6s\tremaining: 12.7s\n",
      "55:\tlearn: 0.7145899\ttotal: 15.9s\tremaining: 12.5s\n",
      "56:\tlearn: 0.7148218\ttotal: 16.2s\tremaining: 12.2s\n",
      "57:\tlearn: 0.7164720\ttotal: 16.6s\tremaining: 12s\n",
      "58:\tlearn: 0.7175013\ttotal: 16.9s\tremaining: 11.7s\n",
      "59:\tlearn: 0.7186754\ttotal: 17.2s\tremaining: 11.5s\n",
      "60:\tlearn: 0.7190864\ttotal: 17.5s\tremaining: 11.2s\n",
      "61:\tlearn: 0.7187947\ttotal: 17.8s\tremaining: 10.9s\n",
      "62:\tlearn: 0.7186559\ttotal: 18.2s\tremaining: 10.7s\n",
      "63:\tlearn: 0.7176644\ttotal: 18.5s\tremaining: 10.4s\n",
      "64:\tlearn: 0.7220921\ttotal: 18.8s\tremaining: 10.1s\n",
      "65:\tlearn: 0.7232266\ttotal: 19.1s\tremaining: 9.86s\n",
      "66:\tlearn: 0.7229175\ttotal: 19.5s\tremaining: 9.59s\n",
      "67:\tlearn: 0.7213965\ttotal: 19.8s\tremaining: 9.32s\n",
      "68:\tlearn: 0.7217906\ttotal: 20.1s\tremaining: 9.04s\n",
      "69:\tlearn: 0.7230568\ttotal: 20.4s\tremaining: 8.76s\n",
      "70:\tlearn: 0.7238073\ttotal: 20.8s\tremaining: 8.48s\n",
      "71:\tlearn: 0.7242507\ttotal: 21.1s\tremaining: 8.19s\n",
      "72:\tlearn: 0.7242919\ttotal: 21.4s\tremaining: 7.91s\n",
      "73:\tlearn: 0.7243410\ttotal: 21.7s\tremaining: 7.62s\n",
      "74:\tlearn: 0.7242070\ttotal: 22s\tremaining: 7.34s\n",
      "75:\tlearn: 0.7244525\ttotal: 22.3s\tremaining: 7.05s\n",
      "76:\tlearn: 0.7250950\ttotal: 22.6s\tremaining: 6.76s\n",
      "77:\tlearn: 0.7252410\ttotal: 23s\tremaining: 6.47s\n",
      "78:\tlearn: 0.7269806\ttotal: 23.3s\tremaining: 6.18s\n",
      "79:\tlearn: 0.7242151\ttotal: 23.6s\tremaining: 5.9s\n",
      "80:\tlearn: 0.7256868\ttotal: 23.9s\tremaining: 5.61s\n",
      "81:\tlearn: 0.7270776\ttotal: 24.2s\tremaining: 5.32s\n",
      "82:\tlearn: 0.7269941\ttotal: 24.5s\tremaining: 5.03s\n",
      "83:\tlearn: 0.7293022\ttotal: 24.9s\tremaining: 4.75s\n",
      "84:\tlearn: 0.7288398\ttotal: 25.3s\tremaining: 4.46s\n",
      "85:\tlearn: 0.7284963\ttotal: 25.6s\tremaining: 4.17s\n",
      "86:\tlearn: 0.7285316\ttotal: 25.9s\tremaining: 3.87s\n",
      "87:\tlearn: 0.7292254\ttotal: 26.2s\tremaining: 3.58s\n",
      "88:\tlearn: 0.7283998\ttotal: 26.5s\tremaining: 3.28s\n",
      "89:\tlearn: 0.7309813\ttotal: 26.9s\tremaining: 2.98s\n",
      "90:\tlearn: 0.7309962\ttotal: 27.2s\tremaining: 2.69s\n",
      "91:\tlearn: 0.7309727\ttotal: 27.5s\tremaining: 2.39s\n",
      "92:\tlearn: 0.7315999\ttotal: 27.8s\tremaining: 2.09s\n",
      "93:\tlearn: 0.7313017\ttotal: 28.1s\tremaining: 1.79s\n",
      "94:\tlearn: 0.7318166\ttotal: 28.5s\tremaining: 1.5s\n",
      "95:\tlearn: 0.7318166\ttotal: 28.8s\tremaining: 1.2s\n",
      "96:\tlearn: 0.7313363\ttotal: 29.1s\tremaining: 899ms\n",
      "97:\tlearn: 0.7313554\ttotal: 29.4s\tremaining: 600ms\n",
      "98:\tlearn: 0.7334978\ttotal: 29.8s\tremaining: 301ms\n",
      "99:\tlearn: 0.7343192\ttotal: 30.1s\tremaining: 0us\n",
      "[CV] END ..........depth=15, iterations=100, learning_rate=1; total time=  31.6s\n",
      "0:\tlearn: 0.3444211\ttotal: 10.6ms\tremaining: 1.05s\n",
      "1:\tlearn: 0.5633720\ttotal: 48.1ms\tremaining: 2.36s\n",
      "2:\tlearn: 0.5893402\ttotal: 373ms\tremaining: 12.1s\n",
      "3:\tlearn: 0.5788505\ttotal: 387ms\tremaining: 9.3s\n",
      "4:\tlearn: 0.5944855\ttotal: 407ms\tremaining: 7.74s\n",
      "5:\tlearn: 0.5991933\ttotal: 720ms\tremaining: 11.3s\n",
      "6:\tlearn: 0.6013550\ttotal: 1.03s\tremaining: 13.7s\n",
      "7:\tlearn: 0.6005194\ttotal: 1.08s\tremaining: 12.4s\n",
      "8:\tlearn: 0.6147955\ttotal: 1.42s\tremaining: 14.4s\n",
      "9:\tlearn: 0.6194497\ttotal: 1.74s\tremaining: 15.6s\n",
      "10:\tlearn: 0.6203670\ttotal: 1.87s\tremaining: 15.1s\n",
      "11:\tlearn: 0.6209090\ttotal: 2.19s\tremaining: 16s\n",
      "12:\tlearn: 0.6217316\ttotal: 2.57s\tremaining: 17.2s\n",
      "13:\tlearn: 0.6395120\ttotal: 2.9s\tremaining: 17.8s\n",
      "14:\tlearn: 0.6417622\ttotal: 3.22s\tremaining: 18.2s\n",
      "15:\tlearn: 0.6433241\ttotal: 3.57s\tremaining: 18.7s\n",
      "16:\tlearn: 0.6497109\ttotal: 3.88s\tremaining: 19s\n",
      "17:\tlearn: 0.6517791\ttotal: 4.2s\tremaining: 19.1s\n",
      "18:\tlearn: 0.6667435\ttotal: 4.56s\tremaining: 19.4s\n",
      "19:\tlearn: 0.6704781\ttotal: 4.87s\tremaining: 19.5s\n",
      "20:\tlearn: 0.6709970\ttotal: 5.29s\tremaining: 19.9s\n",
      "21:\tlearn: 0.6727841\ttotal: 5.61s\tremaining: 19.9s\n",
      "22:\tlearn: 0.6772426\ttotal: 5.92s\tremaining: 19.8s\n",
      "23:\tlearn: 0.6791053\ttotal: 6.24s\tremaining: 19.8s\n",
      "24:\tlearn: 0.6786234\ttotal: 6.56s\tremaining: 19.7s\n",
      "25:\tlearn: 0.6788055\ttotal: 6.87s\tremaining: 19.5s\n",
      "26:\tlearn: 0.6925391\ttotal: 7.19s\tremaining: 19.4s\n",
      "27:\tlearn: 0.6949798\ttotal: 7.52s\tremaining: 19.3s\n",
      "28:\tlearn: 0.6967535\ttotal: 7.77s\tremaining: 19s\n",
      "29:\tlearn: 0.6972812\ttotal: 8.08s\tremaining: 18.9s\n",
      "30:\tlearn: 0.6971777\ttotal: 8.4s\tremaining: 18.7s\n",
      "31:\tlearn: 0.6978305\ttotal: 8.71s\tremaining: 18.5s\n",
      "32:\tlearn: 0.6993823\ttotal: 9.03s\tremaining: 18.3s\n",
      "33:\tlearn: 0.6984359\ttotal: 9.36s\tremaining: 18.2s\n",
      "34:\tlearn: 0.6990254\ttotal: 9.69s\tremaining: 18s\n",
      "35:\tlearn: 0.7023224\ttotal: 9.83s\tremaining: 17.5s\n",
      "36:\tlearn: 0.7047001\ttotal: 10.1s\tremaining: 17.3s\n",
      "37:\tlearn: 0.7094615\ttotal: 10.5s\tremaining: 17.1s\n",
      "38:\tlearn: 0.7076805\ttotal: 10.8s\tremaining: 16.9s\n",
      "39:\tlearn: 0.7099614\ttotal: 11.1s\tremaining: 16.6s\n",
      "40:\tlearn: 0.7101886\ttotal: 11.4s\tremaining: 16.4s\n",
      "41:\tlearn: 0.7133266\ttotal: 11.7s\tremaining: 16.2s\n",
      "42:\tlearn: 0.7154509\ttotal: 12s\tremaining: 16s\n",
      "43:\tlearn: 0.7146394\ttotal: 12.4s\tremaining: 15.8s\n",
      "44:\tlearn: 0.7216880\ttotal: 12.7s\tremaining: 15.5s\n",
      "45:\tlearn: 0.7228577\ttotal: 13s\tremaining: 15.2s\n",
      "46:\tlearn: 0.7199969\ttotal: 13.3s\tremaining: 15s\n",
      "47:\tlearn: 0.7197189\ttotal: 13.6s\tremaining: 14.7s\n",
      "48:\tlearn: 0.7213749\ttotal: 13.9s\tremaining: 14.5s\n",
      "49:\tlearn: 0.7275732\ttotal: 14.3s\tremaining: 14.3s\n",
      "50:\tlearn: 0.7283860\ttotal: 14.6s\tremaining: 14s\n",
      "51:\tlearn: 0.7301782\ttotal: 14.9s\tremaining: 13.7s\n",
      "52:\tlearn: 0.7297580\ttotal: 15.2s\tremaining: 13.5s\n",
      "53:\tlearn: 0.7300248\ttotal: 15.5s\tremaining: 13.2s\n",
      "54:\tlearn: 0.7338598\ttotal: 15.8s\tremaining: 13s\n",
      "55:\tlearn: 0.7342189\ttotal: 16.2s\tremaining: 12.7s\n",
      "56:\tlearn: 0.7346344\ttotal: 16.5s\tremaining: 12.4s\n",
      "57:\tlearn: 0.7353933\ttotal: 16.8s\tremaining: 12.2s\n",
      "58:\tlearn: 0.7358476\ttotal: 17.1s\tremaining: 11.9s\n",
      "59:\tlearn: 0.7367858\ttotal: 17.4s\tremaining: 11.6s\n",
      "60:\tlearn: 0.7363032\ttotal: 17.8s\tremaining: 11.3s\n",
      "61:\tlearn: 0.7369666\ttotal: 18.1s\tremaining: 11.1s\n",
      "62:\tlearn: 0.7383364\ttotal: 18.4s\tremaining: 10.8s\n",
      "63:\tlearn: 0.7381691\ttotal: 18.7s\tremaining: 10.5s\n",
      "64:\tlearn: 0.7386442\ttotal: 19s\tremaining: 10.2s\n",
      "65:\tlearn: 0.7392541\ttotal: 19.3s\tremaining: 9.96s\n",
      "66:\tlearn: 0.7408177\ttotal: 19.7s\tremaining: 9.68s\n",
      "67:\tlearn: 0.7421307\ttotal: 20s\tremaining: 9.4s\n",
      "68:\tlearn: 0.7419812\ttotal: 20.3s\tremaining: 9.12s\n",
      "69:\tlearn: 0.7423061\ttotal: 20.6s\tremaining: 8.83s\n",
      "70:\tlearn: 0.7445033\ttotal: 20.9s\tremaining: 8.54s\n",
      "71:\tlearn: 0.7459257\ttotal: 21.2s\tremaining: 8.26s\n",
      "72:\tlearn: 0.7470503\ttotal: 21.6s\tremaining: 7.97s\n",
      "73:\tlearn: 0.7469458\ttotal: 21.9s\tremaining: 7.68s\n",
      "74:\tlearn: 0.7455131\ttotal: 22.2s\tremaining: 7.39s\n",
      "75:\tlearn: 0.7488422\ttotal: 22.5s\tremaining: 7.11s\n",
      "76:\tlearn: 0.7484546\ttotal: 22.9s\tremaining: 6.83s\n",
      "77:\tlearn: 0.7474422\ttotal: 23.2s\tremaining: 6.54s\n",
      "78:\tlearn: 0.7482900\ttotal: 23.5s\tremaining: 6.25s\n",
      "79:\tlearn: 0.7484823\ttotal: 23.8s\tremaining: 5.96s\n",
      "80:\tlearn: 0.7484045\ttotal: 24.2s\tremaining: 5.67s\n",
      "81:\tlearn: 0.7493876\ttotal: 24.5s\tremaining: 5.37s\n",
      "82:\tlearn: 0.7492422\ttotal: 24.8s\tremaining: 5.08s\n",
      "83:\tlearn: 0.7484596\ttotal: 25.1s\tremaining: 4.78s\n",
      "84:\tlearn: 0.7488444\ttotal: 25.4s\tremaining: 4.48s\n",
      "85:\tlearn: 0.7494327\ttotal: 25.7s\tremaining: 4.19s\n",
      "86:\tlearn: 0.7487389\ttotal: 26s\tremaining: 3.89s\n",
      "87:\tlearn: 0.7514163\ttotal: 26.4s\tremaining: 3.59s\n",
      "88:\tlearn: 0.7525214\ttotal: 26.7s\tremaining: 3.3s\n",
      "89:\tlearn: 0.7526783\ttotal: 27s\tremaining: 3s\n",
      "90:\tlearn: 0.7516139\ttotal: 27.3s\tremaining: 2.7s\n",
      "91:\tlearn: 0.7509824\ttotal: 27.6s\tremaining: 2.4s\n",
      "92:\tlearn: 0.7523550\ttotal: 27.9s\tremaining: 2.1s\n",
      "93:\tlearn: 0.7520610\ttotal: 28.3s\tremaining: 1.8s\n",
      "94:\tlearn: 0.7522710\ttotal: 28.6s\tremaining: 1.5s\n",
      "95:\tlearn: 0.7520228\ttotal: 28.9s\tremaining: 1.2s\n",
      "96:\tlearn: 0.7508329\ttotal: 29.2s\tremaining: 904ms\n",
      "97:\tlearn: 0.7524333\ttotal: 29.5s\tremaining: 603ms\n",
      "98:\tlearn: 0.7536032\ttotal: 29.8s\tremaining: 301ms\n",
      "99:\tlearn: 0.7540858\ttotal: 30.2s\tremaining: 0us\n",
      "[CV] END ..........depth=15, iterations=100, learning_rate=1; total time=  32.4s\n",
      "0:\tlearn: 0.3431432\ttotal: 25ms\tremaining: 2.47s\n",
      "1:\tlearn: 0.3432017\ttotal: 39.4ms\tremaining: 1.93s\n",
      "2:\tlearn: 0.3437010\ttotal: 54.9ms\tremaining: 1.77s\n",
      "3:\tlearn: 0.3436012\ttotal: 73ms\tremaining: 1.75s\n",
      "4:\tlearn: 0.3445368\ttotal: 83.6ms\tremaining: 1.59s\n",
      "5:\tlearn: 0.3445161\ttotal: 99.4ms\tremaining: 1.56s\n",
      "6:\tlearn: 0.3445950\ttotal: 150ms\tremaining: 1.99s\n",
      "7:\tlearn: 0.3446532\ttotal: 163ms\tremaining: 1.87s\n",
      "8:\tlearn: 0.3447154\ttotal: 172ms\tremaining: 1.74s\n",
      "9:\tlearn: 0.3446824\ttotal: 184ms\tremaining: 1.66s\n",
      "10:\tlearn: 0.3446824\ttotal: 196ms\tremaining: 1.58s\n",
      "11:\tlearn: 0.3445828\ttotal: 203ms\tremaining: 1.49s\n",
      "12:\tlearn: 0.3448442\ttotal: 281ms\tremaining: 1.88s\n",
      "13:\tlearn: 0.3447446\ttotal: 299ms\tremaining: 1.83s\n",
      "14:\tlearn: 0.3458556\ttotal: 314ms\tremaining: 1.78s\n",
      "15:\tlearn: 0.3444913\ttotal: 334ms\tremaining: 1.75s\n",
      "16:\tlearn: 0.3468028\ttotal: 350ms\tremaining: 1.71s\n",
      "17:\tlearn: 0.3456404\ttotal: 361ms\tremaining: 1.64s\n",
      "18:\tlearn: 0.3456404\ttotal: 372ms\tremaining: 1.58s\n",
      "19:\tlearn: 0.3445120\ttotal: 379ms\tremaining: 1.51s\n",
      "20:\tlearn: 0.3444953\ttotal: 405ms\tremaining: 1.52s\n",
      "21:\tlearn: 0.3444953\ttotal: 648ms\tremaining: 2.3s\n",
      "22:\tlearn: 0.3443956\ttotal: 665ms\tremaining: 2.23s\n",
      "23:\tlearn: 0.3444163\ttotal: 674ms\tremaining: 2.13s\n",
      "24:\tlearn: 0.3448317\ttotal: 689ms\tremaining: 2.07s\n",
      "25:\tlearn: 0.3448110\ttotal: 702ms\tremaining: 2s\n",
      "26:\tlearn: 0.3446906\ttotal: 720ms\tremaining: 1.95s\n",
      "27:\tlearn: 0.3446906\ttotal: 731ms\tremaining: 1.88s\n",
      "28:\tlearn: 0.3446739\ttotal: 759ms\tremaining: 1.86s\n",
      "29:\tlearn: 0.3445950\ttotal: 769ms\tremaining: 1.79s\n",
      "30:\tlearn: 0.3445743\ttotal: 781ms\tremaining: 1.74s\n",
      "31:\tlearn: 0.3445743\ttotal: 808ms\tremaining: 1.72s\n",
      "32:\tlearn: 0.3445743\ttotal: 828ms\tremaining: 1.68s\n",
      "33:\tlearn: 0.3445743\ttotal: 842ms\tremaining: 1.63s\n",
      "34:\tlearn: 0.3456656\ttotal: 869ms\tremaining: 1.61s\n",
      "35:\tlearn: 0.3473615\ttotal: 897ms\tremaining: 1.59s\n",
      "36:\tlearn: 0.3459433\ttotal: 906ms\tremaining: 1.54s\n",
      "37:\tlearn: 0.3488107\ttotal: 923ms\tremaining: 1.5s\n",
      "38:\tlearn: 0.3518176\ttotal: 973ms\tremaining: 1.52s\n",
      "39:\tlearn: 0.3510575\ttotal: 992ms\tremaining: 1.49s\n",
      "40:\tlearn: 0.3539359\ttotal: 1.05s\tremaining: 1.52s\n",
      "41:\tlearn: 0.3524639\ttotal: 1.09s\tremaining: 1.51s\n",
      "42:\tlearn: 0.3520496\ttotal: 1.12s\tremaining: 1.49s\n",
      "43:\tlearn: 0.3508248\ttotal: 1.14s\tremaining: 1.45s\n",
      "44:\tlearn: 0.3508457\ttotal: 1.16s\tremaining: 1.41s\n",
      "45:\tlearn: 0.3497516\ttotal: 1.18s\tremaining: 1.38s\n",
      "46:\tlearn: 0.3477322\ttotal: 1.18s\tremaining: 1.33s\n",
      "47:\tlearn: 0.3470638\ttotal: 1.2s\tremaining: 1.3s\n",
      "48:\tlearn: 0.3471422\ttotal: 1.33s\tremaining: 1.39s\n",
      "49:\tlearn: 0.3470429\ttotal: 1.34s\tremaining: 1.34s\n",
      "50:\tlearn: 0.3456449\ttotal: 1.36s\tremaining: 1.31s\n",
      "51:\tlearn: 0.3457444\ttotal: 1.37s\tremaining: 1.27s\n",
      "52:\tlearn: 0.3456449\ttotal: 1.4s\tremaining: 1.24s\n",
      "53:\tlearn: 0.3456449\ttotal: 1.41s\tremaining: 1.2s\n",
      "54:\tlearn: 0.3456449\ttotal: 1.42s\tremaining: 1.16s\n",
      "55:\tlearn: 0.3456449\ttotal: 1.42s\tremaining: 1.12s\n",
      "56:\tlearn: 0.3456449\ttotal: 1.45s\tremaining: 1.09s\n",
      "57:\tlearn: 0.3456656\ttotal: 1.48s\tremaining: 1.07s\n",
      "58:\tlearn: 0.3456656\ttotal: 1.49s\tremaining: 1.04s\n",
      "59:\tlearn: 0.3456449\ttotal: 1.5s\tremaining: 1s\n",
      "60:\tlearn: 0.3456449\ttotal: 1.52s\tremaining: 971ms\n",
      "61:\tlearn: 0.3456656\ttotal: 1.53s\tremaining: 938ms\n",
      "62:\tlearn: 0.3456864\ttotal: 1.54s\tremaining: 908ms\n",
      "63:\tlearn: 0.3456864\ttotal: 1.56s\tremaining: 879ms\n",
      "64:\tlearn: 0.3468284\ttotal: 1.64s\tremaining: 884ms\n",
      "65:\tlearn: 0.3468284\ttotal: 1.65s\tremaining: 849ms\n",
      "66:\tlearn: 0.3454294\ttotal: 1.66s\tremaining: 816ms\n",
      "67:\tlearn: 0.3454294\ttotal: 1.73s\tremaining: 816ms\n",
      "68:\tlearn: 0.3454294\ttotal: 1.75s\tremaining: 784ms\n",
      "69:\tlearn: 0.3455289\ttotal: 1.8s\tremaining: 771ms\n",
      "70:\tlearn: 0.3454294\ttotal: 1.82s\tremaining: 742ms\n",
      "71:\tlearn: 0.3454294\ttotal: 1.83s\tremaining: 713ms\n",
      "72:\tlearn: 0.3454294\ttotal: 1.88s\tremaining: 695ms\n",
      "73:\tlearn: 0.3454294\ttotal: 1.89s\tremaining: 665ms\n",
      "74:\tlearn: 0.3455869\ttotal: 1.92s\tremaining: 639ms\n",
      "75:\tlearn: 0.3478313\ttotal: 1.93s\tremaining: 609ms\n",
      "76:\tlearn: 0.3469853\ttotal: 1.94s\tremaining: 578ms\n",
      "77:\tlearn: 0.3484985\ttotal: 1.97s\tremaining: 554ms\n",
      "78:\tlearn: 0.3485975\ttotal: 2.01s\tremaining: 535ms\n",
      "79:\tlearn: 0.3485975\ttotal: 2.02s\tremaining: 505ms\n",
      "80:\tlearn: 0.3484412\ttotal: 2.03s\tremaining: 476ms\n",
      "81:\tlearn: 0.3480086\ttotal: 2.04s\tremaining: 447ms\n",
      "82:\tlearn: 0.3480086\ttotal: 2.04s\tremaining: 418ms\n",
      "83:\tlearn: 0.3477530\ttotal: 2.05s\tremaining: 391ms\n",
      "84:\tlearn: 0.3477530\ttotal: 2.06s\tremaining: 364ms\n",
      "85:\tlearn: 0.3477530\ttotal: 2.07s\tremaining: 337ms\n",
      "86:\tlearn: 0.3504575\ttotal: 2.09s\tremaining: 312ms\n",
      "87:\tlearn: 0.3497307\ttotal: 2.1s\tremaining: 287ms\n",
      "88:\tlearn: 0.3486546\ttotal: 2.12s\tremaining: 261ms\n",
      "89:\tlearn: 0.3511834\ttotal: 2.42s\tremaining: 269ms\n",
      "90:\tlearn: 0.3501885\ttotal: 2.43s\tremaining: 241ms\n",
      "91:\tlearn: 0.3501885\ttotal: 2.44s\tremaining: 212ms\n",
      "92:\tlearn: 0.3502872\ttotal: 2.46s\tremaining: 185ms\n",
      "93:\tlearn: 0.3522178\ttotal: 2.53s\tremaining: 162ms\n",
      "94:\tlearn: 0.3522178\ttotal: 2.55s\tremaining: 134ms\n",
      "95:\tlearn: 0.3520210\ttotal: 2.56s\tremaining: 107ms\n",
      "96:\tlearn: 0.3536491\ttotal: 2.57s\tremaining: 79.5ms\n",
      "97:\tlearn: 0.3539011\ttotal: 2.58s\tremaining: 52.6ms\n",
      "98:\tlearn: 0.3538031\ttotal: 2.59s\tremaining: 26.2ms\n",
      "99:\tlearn: 0.3541952\ttotal: 2.6s\tremaining: 0us\n",
      "[CV] END .......depth=15, iterations=100, learning_rate=0.01; total time=   3.4s\n",
      "0:\tlearn: 0.3446198\ttotal: 25.2ms\tremaining: 2.49s\n",
      "1:\tlearn: 0.3455289\ttotal: 39.7ms\tremaining: 1.94s\n",
      "2:\tlearn: 0.3481286\ttotal: 56.6ms\tremaining: 1.83s\n",
      "3:\tlearn: 0.3482277\ttotal: 72.6ms\tremaining: 1.74s\n",
      "4:\tlearn: 0.3484830\ttotal: 85ms\tremaining: 1.61s\n",
      "5:\tlearn: 0.3482068\ttotal: 101ms\tremaining: 1.58s\n",
      "6:\tlearn: 0.3494459\ttotal: 152ms\tremaining: 2.02s\n",
      "7:\tlearn: 0.3500120\ttotal: 168ms\tremaining: 1.93s\n",
      "8:\tlearn: 0.3512755\ttotal: 178ms\tremaining: 1.8s\n",
      "9:\tlearn: 0.3512545\ttotal: 189ms\tremaining: 1.7s\n",
      "10:\tlearn: 0.3512545\ttotal: 206ms\tremaining: 1.67s\n",
      "11:\tlearn: 0.3510575\ttotal: 241ms\tremaining: 1.77s\n",
      "12:\tlearn: 0.3511560\ttotal: 262ms\tremaining: 1.75s\n",
      "13:\tlearn: 0.3511560\ttotal: 295ms\tremaining: 1.81s\n",
      "14:\tlearn: 0.3511560\ttotal: 306ms\tremaining: 1.73s\n",
      "15:\tlearn: 0.3512335\ttotal: 324ms\tremaining: 1.7s\n",
      "16:\tlearn: 0.3512755\ttotal: 345ms\tremaining: 1.69s\n",
      "17:\tlearn: 0.3512755\ttotal: 365ms\tremaining: 1.66s\n",
      "18:\tlearn: 0.3510784\ttotal: 380ms\tremaining: 1.62s\n",
      "19:\tlearn: 0.3510784\ttotal: 394ms\tremaining: 1.58s\n",
      "20:\tlearn: 0.3510784\ttotal: 407ms\tremaining: 1.53s\n",
      "21:\tlearn: 0.3511350\ttotal: 433ms\tremaining: 1.54s\n",
      "22:\tlearn: 0.3511560\ttotal: 448ms\tremaining: 1.5s\n",
      "23:\tlearn: 0.3511350\ttotal: 689ms\tremaining: 2.18s\n",
      "24:\tlearn: 0.3533897\ttotal: 707ms\tremaining: 2.12s\n",
      "25:\tlearn: 0.3518176\ttotal: 714ms\tremaining: 2.03s\n",
      "26:\tlearn: 0.3514095\ttotal: 725ms\tremaining: 1.96s\n",
      "27:\tlearn: 0.3510784\ttotal: 734ms\tremaining: 1.89s\n",
      "28:\tlearn: 0.3510784\ttotal: 746ms\tremaining: 1.83s\n",
      "29:\tlearn: 0.3510784\ttotal: 781ms\tremaining: 1.82s\n",
      "30:\tlearn: 0.3510784\ttotal: 792ms\tremaining: 1.76s\n",
      "31:\tlearn: 0.3514869\ttotal: 808ms\tremaining: 1.72s\n",
      "32:\tlearn: 0.3510784\ttotal: 815ms\tremaining: 1.65s\n",
      "33:\tlearn: 0.3510784\ttotal: 890ms\tremaining: 1.73s\n",
      "34:\tlearn: 0.3510784\ttotal: 909ms\tremaining: 1.69s\n",
      "35:\tlearn: 0.3509799\ttotal: 923ms\tremaining: 1.64s\n",
      "36:\tlearn: 0.3509799\ttotal: 932ms\tremaining: 1.59s\n",
      "37:\tlearn: 0.3509799\ttotal: 948ms\tremaining: 1.55s\n",
      "38:\tlearn: 0.3509799\ttotal: 965ms\tremaining: 1.51s\n",
      "39:\tlearn: 0.3510784\ttotal: 985ms\tremaining: 1.48s\n",
      "40:\tlearn: 0.3510784\ttotal: 1s\tremaining: 1.44s\n",
      "41:\tlearn: 0.3510784\ttotal: 1.01s\tremaining: 1.4s\n",
      "42:\tlearn: 0.3510784\ttotal: 1.02s\tremaining: 1.35s\n",
      "43:\tlearn: 0.3510784\ttotal: 1.03s\tremaining: 1.31s\n",
      "44:\tlearn: 0.3510784\ttotal: 1.04s\tremaining: 1.28s\n",
      "45:\tlearn: 0.3510784\ttotal: 1.06s\tremaining: 1.25s\n",
      "46:\tlearn: 0.3510784\ttotal: 1.07s\tremaining: 1.21s\n",
      "47:\tlearn: 0.3517612\ttotal: 1.38s\tremaining: 1.49s\n",
      "48:\tlearn: 0.3521690\ttotal: 1.41s\tremaining: 1.46s\n",
      "49:\tlearn: 0.3521690\ttotal: 1.44s\tremaining: 1.44s\n",
      "50:\tlearn: 0.3521690\ttotal: 1.45s\tremaining: 1.39s\n",
      "51:\tlearn: 0.3521690\ttotal: 1.46s\tremaining: 1.34s\n",
      "52:\tlearn: 0.3521690\ttotal: 1.54s\tremaining: 1.36s\n",
      "53:\tlearn: 0.3521690\ttotal: 1.54s\tremaining: 1.32s\n",
      "54:\tlearn: 0.3521690\ttotal: 1.55s\tremaining: 1.27s\n",
      "55:\tlearn: 0.3521690\ttotal: 1.56s\tremaining: 1.23s\n",
      "56:\tlearn: 0.3521690\ttotal: 1.58s\tremaining: 1.19s\n",
      "57:\tlearn: 0.3521690\ttotal: 1.59s\tremaining: 1.15s\n",
      "58:\tlearn: 0.3552913\ttotal: 1.72s\tremaining: 1.2s\n",
      "59:\tlearn: 0.3563287\ttotal: 1.75s\tremaining: 1.16s\n",
      "60:\tlearn: 0.3564262\ttotal: 1.76s\tremaining: 1.13s\n",
      "61:\tlearn: 0.3565238\ttotal: 1.77s\tremaining: 1.09s\n",
      "62:\tlearn: 0.3590866\ttotal: 1.8s\tremaining: 1.05s\n",
      "63:\tlearn: 0.3582302\ttotal: 1.82s\tremaining: 1.02s\n",
      "64:\tlearn: 0.3577313\ttotal: 1.83s\tremaining: 986ms\n",
      "65:\tlearn: 0.3565238\ttotal: 1.84s\tremaining: 949ms\n",
      "66:\tlearn: 0.3565238\ttotal: 1.85s\tremaining: 914ms\n",
      "67:\tlearn: 0.3577313\ttotal: 1.99s\tremaining: 935ms\n",
      "68:\tlearn: 0.3574054\ttotal: 2s\tremaining: 900ms\n",
      "69:\tlearn: 0.3604157\ttotal: 2.25s\tremaining: 967ms\n",
      "70:\tlearn: 0.3604157\ttotal: 2.28s\tremaining: 933ms\n",
      "71:\tlearn: 0.3603944\ttotal: 2.3s\tremaining: 895ms\n",
      "72:\tlearn: 0.3600804\ttotal: 2.32s\tremaining: 858ms\n",
      "73:\tlearn: 0.3594655\ttotal: 2.33s\tremaining: 820ms\n",
      "74:\tlearn: 0.3594655\ttotal: 2.35s\tremaining: 782ms\n",
      "75:\tlearn: 0.3604157\ttotal: 2.36s\tremaining: 746ms\n",
      "76:\tlearn: 0.3604157\ttotal: 2.37s\tremaining: 709ms\n",
      "77:\tlearn: 0.3604157\ttotal: 2.38s\tremaining: 673ms\n",
      "78:\tlearn: 0.3610832\ttotal: 2.41s\tremaining: 641ms\n",
      "79:\tlearn: 0.3610832\ttotal: 2.74s\tremaining: 686ms\n",
      "80:\tlearn: 0.3610832\ttotal: 2.76s\tremaining: 648ms\n",
      "81:\tlearn: 0.3610832\ttotal: 2.78s\tremaining: 609ms\n",
      "82:\tlearn: 0.3610832\ttotal: 2.79s\tremaining: 572ms\n",
      "83:\tlearn: 0.3610832\ttotal: 2.8s\tremaining: 534ms\n",
      "84:\tlearn: 0.3610832\ttotal: 2.84s\tremaining: 501ms\n",
      "85:\tlearn: 0.3610832\ttotal: 2.85s\tremaining: 464ms\n",
      "86:\tlearn: 0.3611586\ttotal: 2.87s\tremaining: 428ms\n",
      "87:\tlearn: 0.3611586\ttotal: 2.87s\tremaining: 392ms\n",
      "88:\tlearn: 0.3611586\ttotal: 2.89s\tremaining: 357ms\n",
      "89:\tlearn: 0.3611586\ttotal: 2.9s\tremaining: 322ms\n",
      "90:\tlearn: 0.3611586\ttotal: 2.91s\tremaining: 288ms\n",
      "91:\tlearn: 0.3611586\ttotal: 2.92s\tremaining: 254ms\n",
      "92:\tlearn: 0.3611586\ttotal: 2.93s\tremaining: 221ms\n",
      "93:\tlearn: 0.3611586\ttotal: 2.97s\tremaining: 189ms\n",
      "94:\tlearn: 0.3611586\ttotal: 2.98s\tremaining: 157ms\n",
      "95:\tlearn: 0.3611586\ttotal: 3s\tremaining: 125ms\n",
      "96:\tlearn: 0.3611586\ttotal: 3.03s\tremaining: 93.6ms\n",
      "97:\tlearn: 0.3611586\ttotal: 3.04s\tremaining: 62.1ms\n",
      "98:\tlearn: 0.3611586\ttotal: 3.06s\tremaining: 30.9ms\n",
      "99:\tlearn: 0.3611586\ttotal: 3.07s\tremaining: 0us\n",
      "[CV] END .......depth=15, iterations=100, learning_rate=0.01; total time=   4.1s\n",
      "0:\tlearn: 0.3748110\ttotal: 133ms\tremaining: 13.2s\n",
      "1:\tlearn: 0.3832521\ttotal: 152ms\tremaining: 7.43s\n",
      "2:\tlearn: 0.3558876\ttotal: 178ms\tremaining: 5.76s\n",
      "3:\tlearn: 0.3593063\ttotal: 192ms\tremaining: 4.6s\n",
      "4:\tlearn: 0.3594798\ttotal: 207ms\tremaining: 3.93s\n",
      "5:\tlearn: 0.4102649\ttotal: 225ms\tremaining: 3.52s\n",
      "6:\tlearn: 0.3584894\ttotal: 237ms\tremaining: 3.15s\n",
      "7:\tlearn: 0.3584894\ttotal: 250ms\tremaining: 2.88s\n",
      "8:\tlearn: 0.3572577\ttotal: 261ms\tremaining: 2.64s\n",
      "9:\tlearn: 0.3571599\ttotal: 274ms\tremaining: 2.46s\n",
      "10:\tlearn: 0.3570620\ttotal: 288ms\tremaining: 2.33s\n",
      "11:\tlearn: 0.3570620\ttotal: 327ms\tremaining: 2.4s\n",
      "12:\tlearn: 0.3570620\ttotal: 348ms\tremaining: 2.33s\n",
      "13:\tlearn: 0.3571599\ttotal: 502ms\tremaining: 3.08s\n",
      "14:\tlearn: 0.3571599\ttotal: 519ms\tremaining: 2.94s\n",
      "15:\tlearn: 0.3571599\ttotal: 545ms\tremaining: 2.86s\n",
      "16:\tlearn: 0.3570620\ttotal: 560ms\tremaining: 2.73s\n",
      "17:\tlearn: 0.3570620\ttotal: 578ms\tremaining: 2.63s\n",
      "18:\tlearn: 0.3578571\ttotal: 615ms\tremaining: 2.62s\n",
      "19:\tlearn: 0.3576829\ttotal: 639ms\tremaining: 2.56s\n",
      "20:\tlearn: 0.3570620\ttotal: 651ms\tremaining: 2.45s\n",
      "21:\tlearn: 0.3570620\ttotal: 661ms\tremaining: 2.35s\n",
      "22:\tlearn: 0.3570620\ttotal: 676ms\tremaining: 2.26s\n",
      "23:\tlearn: 0.3570833\ttotal: 686ms\tremaining: 2.17s\n",
      "24:\tlearn: 0.3572024\ttotal: 767ms\tremaining: 2.3s\n",
      "25:\tlearn: 0.3571046\ttotal: 789ms\tremaining: 2.25s\n",
      "26:\tlearn: 0.3595772\ttotal: 815ms\tremaining: 2.2s\n",
      "27:\tlearn: 0.3624312\ttotal: 834ms\tremaining: 2.14s\n",
      "28:\tlearn: 0.3624527\ttotal: 869ms\tremaining: 2.13s\n",
      "29:\tlearn: 0.3595986\ttotal: 883ms\tremaining: 2.06s\n",
      "30:\tlearn: 0.3597080\ttotal: 892ms\tremaining: 1.99s\n",
      "31:\tlearn: 0.3612659\ttotal: 918ms\tremaining: 1.95s\n",
      "32:\tlearn: 0.3596319\ttotal: 945ms\tremaining: 1.92s\n",
      "33:\tlearn: 0.3597293\ttotal: 1.02s\tremaining: 1.98s\n",
      "34:\tlearn: 0.3596319\ttotal: 1.05s\tremaining: 1.94s\n",
      "35:\tlearn: 0.3596319\ttotal: 1.06s\tremaining: 1.89s\n",
      "36:\tlearn: 0.3611901\ttotal: 1.08s\tremaining: 1.84s\n",
      "37:\tlearn: 0.3596319\ttotal: 1.09s\tremaining: 1.78s\n",
      "38:\tlearn: 0.3596533\ttotal: 1.11s\tremaining: 1.73s\n",
      "39:\tlearn: 0.3596319\ttotal: 1.12s\tremaining: 1.69s\n",
      "40:\tlearn: 0.3596319\ttotal: 1.14s\tremaining: 1.64s\n",
      "41:\tlearn: 0.3596533\ttotal: 1.16s\tremaining: 1.6s\n",
      "42:\tlearn: 0.3612115\ttotal: 1.18s\tremaining: 1.56s\n",
      "43:\tlearn: 0.3596533\ttotal: 1.2s\tremaining: 1.53s\n",
      "44:\tlearn: 0.3596746\ttotal: 1.33s\tremaining: 1.63s\n",
      "45:\tlearn: 0.3596746\ttotal: 1.35s\tremaining: 1.58s\n",
      "46:\tlearn: 0.3596533\ttotal: 1.36s\tremaining: 1.54s\n",
      "47:\tlearn: 0.3596746\ttotal: 1.37s\tremaining: 1.49s\n",
      "48:\tlearn: 0.3596746\ttotal: 1.38s\tremaining: 1.44s\n",
      "49:\tlearn: 0.3596746\ttotal: 1.52s\tremaining: 1.52s\n",
      "50:\tlearn: 0.3625281\ttotal: 1.54s\tremaining: 1.48s\n",
      "51:\tlearn: 0.3625281\ttotal: 1.56s\tremaining: 1.44s\n",
      "52:\tlearn: 0.3625281\ttotal: 1.58s\tremaining: 1.4s\n",
      "53:\tlearn: 0.3625496\ttotal: 1.71s\tremaining: 1.46s\n",
      "54:\tlearn: 0.3630988\ttotal: 1.76s\tremaining: 1.44s\n",
      "55:\tlearn: 0.3631202\ttotal: 1.78s\tremaining: 1.4s\n",
      "56:\tlearn: 0.3631202\ttotal: 1.8s\tremaining: 1.35s\n",
      "57:\tlearn: 0.3632170\ttotal: 1.81s\tremaining: 1.31s\n",
      "58:\tlearn: 0.3632170\ttotal: 1.82s\tremaining: 1.27s\n",
      "59:\tlearn: 0.3632170\ttotal: 1.84s\tremaining: 1.23s\n",
      "60:\tlearn: 0.3632170\ttotal: 1.85s\tremaining: 1.19s\n",
      "61:\tlearn: 0.3627973\ttotal: 1.87s\tremaining: 1.15s\n",
      "62:\tlearn: 0.3627973\ttotal: 1.88s\tremaining: 1.1s\n",
      "63:\tlearn: 0.3627973\ttotal: 1.89s\tremaining: 1.06s\n",
      "64:\tlearn: 0.3624741\ttotal: 2.02s\tremaining: 1.09s\n",
      "65:\tlearn: 0.3624741\ttotal: 2.03s\tremaining: 1.04s\n",
      "66:\tlearn: 0.3624741\ttotal: 2.05s\tremaining: 1.01s\n",
      "67:\tlearn: 0.3624741\ttotal: 2.06s\tremaining: 969ms\n",
      "68:\tlearn: 0.3611786\ttotal: 2.07s\tremaining: 929ms\n",
      "69:\tlearn: 0.3611786\ttotal: 2.08s\tremaining: 891ms\n",
      "70:\tlearn: 0.3624741\ttotal: 2.1s\tremaining: 860ms\n",
      "71:\tlearn: 0.3627004\ttotal: 2.13s\tremaining: 828ms\n",
      "72:\tlearn: 0.3627004\ttotal: 2.15s\tremaining: 794ms\n",
      "73:\tlearn: 0.3627004\ttotal: 2.29s\tremaining: 805ms\n",
      "74:\tlearn: 0.3624741\ttotal: 2.31s\tremaining: 771ms\n",
      "75:\tlearn: 0.3624741\ttotal: 2.32s\tremaining: 733ms\n",
      "76:\tlearn: 0.3624741\ttotal: 2.34s\tremaining: 699ms\n",
      "77:\tlearn: 0.3624741\ttotal: 2.35s\tremaining: 663ms\n",
      "78:\tlearn: 0.3624741\ttotal: 2.36s\tremaining: 629ms\n",
      "79:\tlearn: 0.3624741\ttotal: 2.4s\tremaining: 599ms\n",
      "80:\tlearn: 0.3624741\ttotal: 2.41s\tremaining: 565ms\n",
      "81:\tlearn: 0.3631202\ttotal: 2.43s\tremaining: 534ms\n",
      "82:\tlearn: 0.3631202\ttotal: 2.46s\tremaining: 504ms\n",
      "83:\tlearn: 0.3630988\ttotal: 2.77s\tremaining: 528ms\n",
      "84:\tlearn: 0.3630988\ttotal: 2.79s\tremaining: 492ms\n",
      "85:\tlearn: 0.3630988\ttotal: 2.81s\tremaining: 458ms\n",
      "86:\tlearn: 0.3630988\ttotal: 2.82s\tremaining: 422ms\n",
      "87:\tlearn: 0.3630988\ttotal: 2.83s\tremaining: 386ms\n",
      "88:\tlearn: 0.3631202\ttotal: 2.97s\tremaining: 367ms\n",
      "89:\tlearn: 0.3631202\ttotal: 2.98s\tremaining: 331ms\n",
      "90:\tlearn: 0.3631202\ttotal: 3.03s\tremaining: 300ms\n",
      "91:\tlearn: 0.3631202\ttotal: 3.04s\tremaining: 264ms\n",
      "92:\tlearn: 0.3631202\ttotal: 3.06s\tremaining: 230ms\n",
      "93:\tlearn: 0.3631202\ttotal: 3.09s\tremaining: 197ms\n",
      "94:\tlearn: 0.3634752\ttotal: 3.36s\tremaining: 177ms\n",
      "95:\tlearn: 0.3631202\ttotal: 3.38s\tremaining: 141ms\n",
      "96:\tlearn: 0.3634752\ttotal: 3.4s\tremaining: 105ms\n",
      "97:\tlearn: 0.3634752\ttotal: 3.49s\tremaining: 71.2ms\n",
      "98:\tlearn: 0.3634752\ttotal: 3.5s\tremaining: 35.4ms\n",
      "99:\tlearn: 0.3650850\ttotal: 3.81s\tremaining: 0us\n",
      "[CV] END .......depth=15, iterations=100, learning_rate=0.01; total time=   4.9s\n",
      "0:\tlearn: 0.3623988\ttotal: 20.1ms\tremaining: 1.99s\n",
      "1:\tlearn: 0.3499581\ttotal: 28ms\tremaining: 1.37s\n",
      "2:\tlearn: 0.3464520\ttotal: 45.1ms\tremaining: 1.46s\n",
      "3:\tlearn: 0.3465305\ttotal: 57.7ms\tremaining: 1.38s\n",
      "4:\tlearn: 0.3472831\ttotal: 136ms\tremaining: 2.58s\n",
      "5:\tlearn: 0.3472831\ttotal: 151ms\tremaining: 2.37s\n",
      "6:\tlearn: 0.3470270\ttotal: 164ms\tremaining: 2.18s\n",
      "7:\tlearn: 0.3470270\ttotal: 179ms\tremaining: 2.06s\n",
      "8:\tlearn: 0.3470270\ttotal: 259ms\tremaining: 2.62s\n",
      "9:\tlearn: 0.3471263\ttotal: 515ms\tremaining: 4.64s\n",
      "10:\tlearn: 0.3471471\ttotal: 525ms\tremaining: 4.25s\n",
      "11:\tlearn: 0.3470479\ttotal: 547ms\tremaining: 4.01s\n",
      "12:\tlearn: 0.3470479\ttotal: 563ms\tremaining: 3.77s\n",
      "13:\tlearn: 0.3470479\ttotal: 582ms\tremaining: 3.57s\n",
      "14:\tlearn: 0.3465721\ttotal: 593ms\tremaining: 3.36s\n",
      "15:\tlearn: 0.3465305\ttotal: 610ms\tremaining: 3.2s\n",
      "16:\tlearn: 0.3465513\ttotal: 634ms\tremaining: 3.1s\n",
      "17:\tlearn: 0.3465513\ttotal: 644ms\tremaining: 2.93s\n",
      "18:\tlearn: 0.3465513\ttotal: 654ms\tremaining: 2.79s\n",
      "19:\tlearn: 0.3465513\ttotal: 661ms\tremaining: 2.64s\n",
      "20:\tlearn: 0.3465513\ttotal: 679ms\tremaining: 2.55s\n",
      "21:\tlearn: 0.3465513\ttotal: 702ms\tremaining: 2.49s\n",
      "22:\tlearn: 0.3465513\ttotal: 764ms\tremaining: 2.56s\n",
      "23:\tlearn: 0.3465513\ttotal: 792ms\tremaining: 2.51s\n",
      "24:\tlearn: 0.3465513\ttotal: 815ms\tremaining: 2.44s\n",
      "25:\tlearn: 0.3465513\ttotal: 830ms\tremaining: 2.36s\n",
      "26:\tlearn: 0.3465513\ttotal: 847ms\tremaining: 2.29s\n",
      "27:\tlearn: 0.3476173\ttotal: 873ms\tremaining: 2.24s\n",
      "28:\tlearn: 0.3475390\ttotal: 888ms\tremaining: 2.17s\n",
      "29:\tlearn: 0.3473406\ttotal: 902ms\tremaining: 2.1s\n",
      "30:\tlearn: 0.3473406\ttotal: 919ms\tremaining: 2.05s\n",
      "31:\tlearn: 0.3473198\ttotal: 931ms\tremaining: 1.98s\n",
      "32:\tlearn: 0.3466506\ttotal: 953ms\tremaining: 1.94s\n",
      "33:\tlearn: 0.3466506\ttotal: 973ms\tremaining: 1.89s\n",
      "34:\tlearn: 0.3466506\ttotal: 985ms\tremaining: 1.83s\n",
      "35:\tlearn: 0.3466506\ttotal: 1.06s\tremaining: 1.89s\n",
      "36:\tlearn: 0.3474398\ttotal: 1.21s\tremaining: 2.06s\n",
      "37:\tlearn: 0.3473406\ttotal: 1.25s\tremaining: 2.03s\n",
      "38:\tlearn: 0.3473406\ttotal: 1.25s\tremaining: 1.96s\n",
      "39:\tlearn: 0.3472414\ttotal: 1.28s\tremaining: 1.92s\n",
      "40:\tlearn: 0.3485557\ttotal: 1.31s\tremaining: 1.89s\n",
      "41:\tlearn: 0.3485557\ttotal: 1.33s\tremaining: 1.84s\n",
      "42:\tlearn: 0.3489515\ttotal: 1.36s\tremaining: 1.8s\n",
      "43:\tlearn: 0.3492634\ttotal: 1.39s\tremaining: 1.77s\n",
      "44:\tlearn: 0.3496587\ttotal: 1.44s\tremaining: 1.76s\n",
      "45:\tlearn: 0.3500479\ttotal: 1.58s\tremaining: 1.86s\n",
      "46:\tlearn: 0.3504785\ttotal: 1.83s\tremaining: 2.07s\n",
      "47:\tlearn: 0.3517192\ttotal: 2.09s\tremaining: 2.27s\n",
      "48:\tlearn: 0.3510784\ttotal: 2.12s\tremaining: 2.2s\n",
      "49:\tlearn: 0.3501466\ttotal: 2.13s\tremaining: 2.13s\n",
      "50:\tlearn: 0.3501466\ttotal: 2.15s\tremaining: 2.07s\n",
      "51:\tlearn: 0.3498354\ttotal: 2.17s\tremaining: 2s\n",
      "52:\tlearn: 0.3496587\ttotal: 2.17s\tremaining: 1.93s\n",
      "53:\tlearn: 0.3496587\ttotal: 2.23s\tremaining: 1.9s\n",
      "54:\tlearn: 0.3509233\ttotal: 2.26s\tremaining: 1.85s\n",
      "55:\tlearn: 0.3513885\ttotal: 2.28s\tremaining: 1.79s\n",
      "56:\tlearn: 0.3510784\ttotal: 2.29s\tremaining: 1.73s\n",
      "57:\tlearn: 0.3509024\ttotal: 2.33s\tremaining: 1.68s\n",
      "58:\tlearn: 0.3507681\ttotal: 2.35s\tremaining: 1.63s\n",
      "59:\tlearn: 0.3515644\ttotal: 2.38s\tremaining: 1.59s\n",
      "60:\tlearn: 0.3513110\ttotal: 2.39s\tremaining: 1.53s\n",
      "61:\tlearn: 0.3514659\ttotal: 2.41s\tremaining: 1.48s\n",
      "62:\tlearn: 0.3517192\ttotal: 2.42s\tremaining: 1.42s\n",
      "63:\tlearn: 0.3514659\ttotal: 2.45s\tremaining: 1.38s\n",
      "64:\tlearn: 0.3514659\ttotal: 2.46s\tremaining: 1.32s\n",
      "65:\tlearn: 0.3514659\ttotal: 2.47s\tremaining: 1.27s\n",
      "66:\tlearn: 0.3516208\ttotal: 2.48s\tremaining: 1.22s\n",
      "67:\tlearn: 0.3517756\ttotal: 2.5s\tremaining: 1.18s\n",
      "68:\tlearn: 0.3517756\ttotal: 2.51s\tremaining: 1.13s\n",
      "69:\tlearn: 0.3524360\ttotal: 2.53s\tremaining: 1.08s\n",
      "70:\tlearn: 0.3524360\ttotal: 2.54s\tremaining: 1.04s\n",
      "71:\tlearn: 0.3524360\ttotal: 2.56s\tremaining: 998ms\n",
      "72:\tlearn: 0.3522815\ttotal: 2.58s\tremaining: 954ms\n",
      "73:\tlearn: 0.3527097\ttotal: 2.89s\tremaining: 1.02s\n",
      "74:\tlearn: 0.3542782\ttotal: 3.14s\tremaining: 1.05s\n",
      "75:\tlearn: 0.3542782\ttotal: 3.17s\tremaining: 1000ms\n",
      "76:\tlearn: 0.3527097\ttotal: 3.18s\tremaining: 950ms\n",
      "77:\tlearn: 0.3527097\ttotal: 3.2s\tremaining: 902ms\n",
      "78:\tlearn: 0.3527097\ttotal: 3.21s\tremaining: 852ms\n",
      "79:\tlearn: 0.3527097\ttotal: 3.22s\tremaining: 806ms\n",
      "80:\tlearn: 0.3527097\ttotal: 3.24s\tremaining: 760ms\n",
      "81:\tlearn: 0.3526325\ttotal: 3.25s\tremaining: 714ms\n",
      "82:\tlearn: 0.3542014\ttotal: 3.4s\tremaining: 696ms\n",
      "83:\tlearn: 0.3542014\ttotal: 3.42s\tremaining: 652ms\n",
      "84:\tlearn: 0.3542014\ttotal: 3.43s\tremaining: 605ms\n",
      "85:\tlearn: 0.3526325\ttotal: 3.56s\tremaining: 580ms\n",
      "86:\tlearn: 0.3527097\ttotal: 3.59s\tremaining: 536ms\n",
      "87:\tlearn: 0.3527097\ttotal: 3.9s\tremaining: 532ms\n",
      "88:\tlearn: 0.3531375\ttotal: 3.91s\tremaining: 484ms\n",
      "89:\tlearn: 0.3531375\ttotal: 3.93s\tremaining: 437ms\n",
      "90:\tlearn: 0.3527097\ttotal: 3.95s\tremaining: 391ms\n",
      "91:\tlearn: 0.3530604\ttotal: 3.98s\tremaining: 346ms\n",
      "92:\tlearn: 0.3527097\ttotal: 3.99s\tremaining: 300ms\n",
      "93:\tlearn: 0.3530604\ttotal: 4.07s\tremaining: 260ms\n",
      "94:\tlearn: 0.3530604\ttotal: 4.08s\tremaining: 215ms\n",
      "95:\tlearn: 0.3530604\ttotal: 4.09s\tremaining: 170ms\n",
      "96:\tlearn: 0.3530604\ttotal: 4.11s\tremaining: 127ms\n",
      "97:\tlearn: 0.3542014\ttotal: 4.13s\tremaining: 84.3ms\n",
      "98:\tlearn: 0.3530604\ttotal: 4.14s\tremaining: 41.8ms\n",
      "99:\tlearn: 0.3529622\ttotal: 4.15s\tremaining: 0us\n",
      "[CV] END .......depth=15, iterations=100, learning_rate=0.01; total time=   5.3s\n",
      "0:\tlearn: 0.3444211\ttotal: 10.6ms\tremaining: 1.05s\n",
      "1:\tlearn: 0.3607926\ttotal: 29.1ms\tremaining: 1.43s\n",
      "2:\tlearn: 0.3491266\ttotal: 41.6ms\tremaining: 1.35s\n",
      "3:\tlearn: 0.3486744\ttotal: 61.1ms\tremaining: 1.47s\n",
      "4:\tlearn: 0.3577091\ttotal: 77.8ms\tremaining: 1.48s\n",
      "5:\tlearn: 0.3518960\ttotal: 96.8ms\tremaining: 1.52s\n",
      "6:\tlearn: 0.3578611\ttotal: 176ms\tremaining: 2.33s\n",
      "7:\tlearn: 0.3561595\ttotal: 204ms\tremaining: 2.35s\n",
      "8:\tlearn: 0.3581489\ttotal: 231ms\tremaining: 2.33s\n",
      "9:\tlearn: 0.3582407\ttotal: 245ms\tremaining: 2.21s\n",
      "10:\tlearn: 0.3572402\ttotal: 275ms\tremaining: 2.22s\n",
      "11:\tlearn: 0.3583043\ttotal: 284ms\tremaining: 2.08s\n",
      "12:\tlearn: 0.3582372\ttotal: 305ms\tremaining: 2.04s\n",
      "13:\tlearn: 0.3582796\ttotal: 327ms\tremaining: 2.01s\n",
      "14:\tlearn: 0.3577602\ttotal: 346ms\tremaining: 1.96s\n",
      "15:\tlearn: 0.3583801\ttotal: 360ms\tremaining: 1.89s\n",
      "16:\tlearn: 0.3584136\ttotal: 373ms\tremaining: 1.82s\n",
      "17:\tlearn: 0.3579371\ttotal: 386ms\tremaining: 1.76s\n",
      "18:\tlearn: 0.3575445\ttotal: 401ms\tremaining: 1.71s\n",
      "19:\tlearn: 0.3575657\ttotal: 418ms\tremaining: 1.67s\n",
      "20:\tlearn: 0.3581525\ttotal: 436ms\tremaining: 1.64s\n",
      "21:\tlearn: 0.3573924\ttotal: 451ms\tremaining: 1.6s\n",
      "22:\tlearn: 0.3584136\ttotal: 467ms\tremaining: 1.56s\n",
      "23:\tlearn: 0.3570117\ttotal: 485ms\tremaining: 1.53s\n",
      "24:\tlearn: 0.3563252\ttotal: 503ms\tremaining: 1.51s\n",
      "25:\tlearn: 0.3562489\ttotal: 515ms\tremaining: 1.47s\n",
      "26:\tlearn: 0.3554975\ttotal: 529ms\tremaining: 1.43s\n",
      "27:\tlearn: 0.3554975\ttotal: 543ms\tremaining: 1.4s\n",
      "28:\tlearn: 0.3549958\ttotal: 559ms\tremaining: 1.37s\n",
      "29:\tlearn: 0.3545703\ttotal: 572ms\tremaining: 1.33s\n",
      "30:\tlearn: 0.3562912\ttotal: 650ms\tremaining: 1.45s\n",
      "31:\tlearn: 0.3565331\ttotal: 788ms\tremaining: 1.67s\n",
      "32:\tlearn: 0.3562700\ttotal: 795ms\tremaining: 1.61s\n",
      "33:\tlearn: 0.3562489\ttotal: 817ms\tremaining: 1.58s\n",
      "34:\tlearn: 0.3554553\ttotal: 843ms\tremaining: 1.56s\n",
      "35:\tlearn: 0.3552678\ttotal: 976ms\tremaining: 1.74s\n",
      "36:\tlearn: 0.3545147\ttotal: 1s\tremaining: 1.71s\n",
      "37:\tlearn: 0.3540886\ttotal: 1.02s\tremaining: 1.66s\n",
      "38:\tlearn: 0.3544936\ttotal: 1.03s\tremaining: 1.61s\n",
      "39:\tlearn: 0.3544936\ttotal: 1.04s\tremaining: 1.56s\n",
      "40:\tlearn: 0.3536622\ttotal: 1.05s\tremaining: 1.51s\n",
      "41:\tlearn: 0.3536832\ttotal: 1.06s\tremaining: 1.47s\n",
      "42:\tlearn: 0.3536832\ttotal: 1.08s\tremaining: 1.43s\n",
      "43:\tlearn: 0.3540886\ttotal: 1.1s\tremaining: 1.4s\n",
      "44:\tlearn: 0.3560408\ttotal: 1.13s\tremaining: 1.39s\n",
      "45:\tlearn: 0.3568042\ttotal: 1.17s\tremaining: 1.37s\n",
      "46:\tlearn: 0.3565413\ttotal: 1.19s\tremaining: 1.34s\n",
      "47:\tlearn: 0.3565413\ttotal: 1.21s\tremaining: 1.31s\n",
      "48:\tlearn: 0.3564861\ttotal: 1.22s\tremaining: 1.27s\n",
      "49:\tlearn: 0.3564861\ttotal: 1.24s\tremaining: 1.24s\n",
      "50:\tlearn: 0.3564861\ttotal: 1.25s\tremaining: 1.21s\n",
      "51:\tlearn: 0.3564861\ttotal: 1.31s\tremaining: 1.21s\n",
      "52:\tlearn: 0.3564861\ttotal: 1.32s\tremaining: 1.17s\n",
      "53:\tlearn: 0.3564861\ttotal: 1.33s\tremaining: 1.14s\n",
      "54:\tlearn: 0.3564861\ttotal: 1.35s\tremaining: 1.1s\n",
      "55:\tlearn: 0.3567702\ttotal: 1.38s\tremaining: 1.08s\n",
      "56:\tlearn: 0.3567702\ttotal: 1.39s\tremaining: 1.05s\n",
      "57:\tlearn: 0.3566728\ttotal: 1.4s\tremaining: 1.02s\n",
      "58:\tlearn: 0.3575618\ttotal: 1.46s\tremaining: 1.01s\n",
      "59:\tlearn: 0.3566728\ttotal: 1.46s\tremaining: 977ms\n",
      "60:\tlearn: 0.3566728\ttotal: 1.48s\tremaining: 946ms\n",
      "61:\tlearn: 0.3574645\ttotal: 1.72s\tremaining: 1.06s\n",
      "62:\tlearn: 0.3574645\ttotal: 1.74s\tremaining: 1.02s\n",
      "63:\tlearn: 0.3573883\ttotal: 1.76s\tremaining: 991ms\n",
      "64:\tlearn: 0.3573883\ttotal: 1.77s\tremaining: 955ms\n",
      "65:\tlearn: 0.3573883\ttotal: 1.79s\tremaining: 924ms\n",
      "66:\tlearn: 0.3573883\ttotal: 1.81s\tremaining: 893ms\n",
      "67:\tlearn: 0.3573883\ttotal: 1.82s\tremaining: 858ms\n",
      "68:\tlearn: 0.3573883\ttotal: 1.87s\tremaining: 842ms\n",
      "69:\tlearn: 0.3573883\ttotal: 1.89s\tremaining: 809ms\n",
      "70:\tlearn: 0.3573883\ttotal: 1.9s\tremaining: 776ms\n",
      "71:\tlearn: 0.3573883\ttotal: 1.97s\tremaining: 768ms\n",
      "72:\tlearn: 0.3578536\ttotal: 1.99s\tremaining: 737ms\n",
      "73:\tlearn: 0.3578536\ttotal: 2s\tremaining: 704ms\n",
      "74:\tlearn: 0.3574856\ttotal: 2.02s\tremaining: 674ms\n",
      "75:\tlearn: 0.3574856\ttotal: 2.06s\tremaining: 649ms\n",
      "76:\tlearn: 0.3574856\ttotal: 2.07s\tremaining: 617ms\n",
      "77:\tlearn: 0.3574856\ttotal: 2.21s\tremaining: 622ms\n",
      "78:\tlearn: 0.3581577\ttotal: 2.26s\tremaining: 601ms\n",
      "79:\tlearn: 0.3580605\ttotal: 2.58s\tremaining: 644ms\n",
      "80:\tlearn: 0.3584738\ttotal: 2.88s\tremaining: 677ms\n",
      "81:\tlearn: 0.3584526\ttotal: 2.9s\tremaining: 638ms\n",
      "82:\tlearn: 0.3580941\ttotal: 2.93s\tremaining: 600ms\n",
      "83:\tlearn: 0.3578873\ttotal: 2.96s\tremaining: 564ms\n",
      "84:\tlearn: 0.3578873\ttotal: 2.97s\tremaining: 525ms\n",
      "85:\tlearn: 0.3582125\ttotal: 2.99s\tremaining: 487ms\n",
      "86:\tlearn: 0.3582673\ttotal: 3s\tremaining: 448ms\n",
      "87:\tlearn: 0.3579633\ttotal: 3.01s\tremaining: 410ms\n",
      "88:\tlearn: 0.3579421\ttotal: 3.02s\tremaining: 374ms\n",
      "89:\tlearn: 0.3583432\ttotal: 3.05s\tremaining: 339ms\n",
      "90:\tlearn: 0.3583432\ttotal: 3.06s\tremaining: 303ms\n",
      "91:\tlearn: 0.3580393\ttotal: 3.07s\tremaining: 267ms\n",
      "92:\tlearn: 0.3580393\ttotal: 3.08s\tremaining: 232ms\n",
      "93:\tlearn: 0.3583432\ttotal: 3.09s\tremaining: 197ms\n",
      "94:\tlearn: 0.3583008\ttotal: 3.24s\tremaining: 171ms\n",
      "95:\tlearn: 0.3583008\ttotal: 3.26s\tremaining: 136ms\n",
      "96:\tlearn: 0.3587773\ttotal: 3.48s\tremaining: 108ms\n",
      "97:\tlearn: 0.3585921\ttotal: 3.5s\tremaining: 71.5ms\n",
      "98:\tlearn: 0.3584950\ttotal: 3.51s\tremaining: 35.5ms\n",
      "99:\tlearn: 0.3583008\ttotal: 3.56s\tremaining: 0us\n",
      "[CV] END .......depth=15, iterations=100, learning_rate=0.01; total time=   4.5s\n",
      "0:\tlearn: 0.3432017\ttotal: 17.6ms\tremaining: 2.1s\n",
      "1:\tlearn: 0.3432017\ttotal: 32.8ms\tremaining: 1.94s\n",
      "2:\tlearn: 0.3432017\ttotal: 46ms\tremaining: 1.79s\n",
      "3:\tlearn: 0.3436596\ttotal: 60.6ms\tremaining: 1.76s\n",
      "4:\tlearn: 0.3436596\ttotal: 73.7ms\tremaining: 1.7s\n",
      "5:\tlearn: 0.3436596\ttotal: 82.7ms\tremaining: 1.57s\n",
      "6:\tlearn: 0.3436596\ttotal: 96.3ms\tremaining: 1.55s\n",
      "7:\tlearn: 0.3436596\ttotal: 109ms\tremaining: 1.52s\n",
      "8:\tlearn: 0.3436596\ttotal: 122ms\tremaining: 1.51s\n",
      "9:\tlearn: 0.3439138\ttotal: 136ms\tremaining: 1.49s\n",
      "10:\tlearn: 0.3436389\ttotal: 148ms\tremaining: 1.47s\n",
      "11:\tlearn: 0.3436596\ttotal: 161ms\tremaining: 1.45s\n",
      "12:\tlearn: 0.3436596\ttotal: 172ms\tremaining: 1.41s\n",
      "13:\tlearn: 0.3436596\ttotal: 181ms\tremaining: 1.37s\n",
      "14:\tlearn: 0.3436596\ttotal: 194ms\tremaining: 1.36s\n",
      "15:\tlearn: 0.3436596\ttotal: 207ms\tremaining: 1.35s\n",
      "16:\tlearn: 0.3436389\ttotal: 221ms\tremaining: 1.34s\n",
      "17:\tlearn: 0.3436389\ttotal: 236ms\tremaining: 1.33s\n",
      "18:\tlearn: 0.3436596\ttotal: 249ms\tremaining: 1.32s\n",
      "19:\tlearn: 0.3436596\ttotal: 262ms\tremaining: 1.31s\n",
      "20:\tlearn: 0.3437594\ttotal: 275ms\tremaining: 1.3s\n",
      "21:\tlearn: 0.3438385\ttotal: 288ms\tremaining: 1.28s\n",
      "22:\tlearn: 0.3439176\ttotal: 301ms\tremaining: 1.27s\n",
      "23:\tlearn: 0.3438385\ttotal: 313ms\tremaining: 1.25s\n",
      "24:\tlearn: 0.3437971\ttotal: 326ms\tremaining: 1.24s\n",
      "25:\tlearn: 0.3438178\ttotal: 339ms\tremaining: 1.23s\n",
      "26:\tlearn: 0.3438178\ttotal: 352ms\tremaining: 1.21s\n",
      "27:\tlearn: 0.3438385\ttotal: 361ms\tremaining: 1.19s\n",
      "28:\tlearn: 0.3438178\ttotal: 373ms\tremaining: 1.17s\n",
      "29:\tlearn: 0.3438385\ttotal: 381ms\tremaining: 1.14s\n",
      "30:\tlearn: 0.3438385\ttotal: 394ms\tremaining: 1.13s\n",
      "31:\tlearn: 0.3438592\ttotal: 407ms\tremaining: 1.12s\n",
      "32:\tlearn: 0.3438592\ttotal: 420ms\tremaining: 1.11s\n",
      "33:\tlearn: 0.3438385\ttotal: 433ms\tremaining: 1.09s\n",
      "34:\tlearn: 0.3438385\ttotal: 445ms\tremaining: 1.08s\n",
      "35:\tlearn: 0.3438385\ttotal: 458ms\tremaining: 1.07s\n",
      "36:\tlearn: 0.3437387\ttotal: 470ms\tremaining: 1.05s\n",
      "37:\tlearn: 0.3437594\ttotal: 482ms\tremaining: 1.04s\n",
      "38:\tlearn: 0.3437387\ttotal: 495ms\tremaining: 1.03s\n",
      "39:\tlearn: 0.3437387\ttotal: 508ms\tremaining: 1.02s\n",
      "40:\tlearn: 0.3437387\ttotal: 519ms\tremaining: 1s\n",
      "41:\tlearn: 0.3438761\ttotal: 533ms\tremaining: 989ms\n",
      "42:\tlearn: 0.3438178\ttotal: 546ms\tremaining: 977ms\n",
      "43:\tlearn: 0.3437180\ttotal: 555ms\tremaining: 959ms\n",
      "44:\tlearn: 0.3437180\ttotal: 567ms\tremaining: 946ms\n",
      "45:\tlearn: 0.3437180\ttotal: 578ms\tremaining: 930ms\n",
      "46:\tlearn: 0.3438385\ttotal: 591ms\tremaining: 918ms\n",
      "47:\tlearn: 0.3438385\ttotal: 604ms\tremaining: 906ms\n",
      "48:\tlearn: 0.3438385\ttotal: 617ms\tremaining: 893ms\n",
      "49:\tlearn: 0.3438385\ttotal: 629ms\tremaining: 880ms\n",
      "50:\tlearn: 0.3438385\ttotal: 638ms\tremaining: 863ms\n",
      "51:\tlearn: 0.3438385\ttotal: 650ms\tremaining: 850ms\n",
      "52:\tlearn: 0.3439176\ttotal: 663ms\tremaining: 838ms\n",
      "53:\tlearn: 0.3439176\ttotal: 676ms\tremaining: 827ms\n",
      "54:\tlearn: 0.3439176\ttotal: 689ms\tremaining: 815ms\n",
      "55:\tlearn: 0.3438178\ttotal: 702ms\tremaining: 802ms\n",
      "56:\tlearn: 0.3438385\ttotal: 711ms\tremaining: 785ms\n",
      "57:\tlearn: 0.3438385\ttotal: 723ms\tremaining: 773ms\n",
      "58:\tlearn: 0.3440174\ttotal: 735ms\tremaining: 760ms\n",
      "59:\tlearn: 0.3440174\ttotal: 748ms\tremaining: 748ms\n",
      "60:\tlearn: 0.3439176\ttotal: 762ms\tremaining: 737ms\n",
      "61:\tlearn: 0.3438178\ttotal: 774ms\tremaining: 724ms\n",
      "62:\tlearn: 0.3438385\ttotal: 785ms\tremaining: 710ms\n",
      "63:\tlearn: 0.3438969\ttotal: 798ms\tremaining: 699ms\n",
      "64:\tlearn: 0.3438969\ttotal: 812ms\tremaining: 687ms\n",
      "65:\tlearn: 0.3438969\ttotal: 819ms\tremaining: 670ms\n",
      "66:\tlearn: 0.3438969\ttotal: 832ms\tremaining: 658ms\n",
      "67:\tlearn: 0.3438969\ttotal: 844ms\tremaining: 646ms\n",
      "68:\tlearn: 0.3438969\ttotal: 857ms\tremaining: 633ms\n",
      "69:\tlearn: 0.3438516\ttotal: 869ms\tremaining: 621ms\n",
      "70:\tlearn: 0.3438516\ttotal: 880ms\tremaining: 607ms\n",
      "71:\tlearn: 0.3438516\ttotal: 890ms\tremaining: 594ms\n",
      "72:\tlearn: 0.3438516\ttotal: 904ms\tremaining: 582ms\n",
      "73:\tlearn: 0.3438516\ttotal: 917ms\tremaining: 570ms\n",
      "74:\tlearn: 0.3438516\ttotal: 928ms\tremaining: 557ms\n",
      "75:\tlearn: 0.3438723\ttotal: 939ms\tremaining: 544ms\n",
      "76:\tlearn: 0.3437726\ttotal: 951ms\tremaining: 531ms\n",
      "77:\tlearn: 0.3438554\ttotal: 962ms\tremaining: 518ms\n",
      "78:\tlearn: 0.3438554\ttotal: 976ms\tremaining: 506ms\n",
      "79:\tlearn: 0.3438554\ttotal: 989ms\tremaining: 495ms\n",
      "80:\tlearn: 0.3439966\ttotal: 1s\tremaining: 484ms\n",
      "81:\tlearn: 0.3439513\ttotal: 1.02s\tremaining: 472ms\n",
      "82:\tlearn: 0.3439513\ttotal: 1.03s\tremaining: 460ms\n",
      "83:\tlearn: 0.3439513\ttotal: 1.05s\tremaining: 448ms\n",
      "84:\tlearn: 0.3439513\ttotal: 1.06s\tremaining: 435ms\n",
      "85:\tlearn: 0.3438516\ttotal: 1.07s\tremaining: 423ms\n",
      "86:\tlearn: 0.3438516\ttotal: 1.08s\tremaining: 409ms\n",
      "87:\tlearn: 0.3438516\ttotal: 1.09s\tremaining: 397ms\n",
      "88:\tlearn: 0.3438516\ttotal: 1.11s\tremaining: 387ms\n",
      "89:\tlearn: 0.3440886\ttotal: 1.12s\tremaining: 374ms\n",
      "90:\tlearn: 0.3441093\ttotal: 1.14s\tremaining: 362ms\n",
      "91:\tlearn: 0.3441093\ttotal: 1.15s\tremaining: 350ms\n",
      "92:\tlearn: 0.3440303\ttotal: 1.17s\tremaining: 339ms\n",
      "93:\tlearn: 0.3441300\ttotal: 1.18s\tremaining: 327ms\n",
      "94:\tlearn: 0.3439513\ttotal: 1.2s\tremaining: 315ms\n",
      "95:\tlearn: 0.3439513\ttotal: 1.21s\tremaining: 303ms\n",
      "96:\tlearn: 0.3439513\ttotal: 1.22s\tremaining: 290ms\n",
      "97:\tlearn: 0.3439513\ttotal: 1.24s\tremaining: 277ms\n",
      "98:\tlearn: 0.3439513\ttotal: 1.25s\tremaining: 265ms\n",
      "99:\tlearn: 0.3439513\ttotal: 1.26s\tremaining: 252ms\n",
      "100:\tlearn: 0.3439513\ttotal: 1.27s\tremaining: 240ms\n",
      "101:\tlearn: 0.3439513\ttotal: 1.29s\tremaining: 227ms\n",
      "102:\tlearn: 0.3438516\ttotal: 1.3s\tremaining: 215ms\n",
      "103:\tlearn: 0.3438516\ttotal: 1.31s\tremaining: 202ms\n",
      "104:\tlearn: 0.3441093\ttotal: 1.33s\tremaining: 189ms\n",
      "105:\tlearn: 0.3441093\ttotal: 1.34s\tremaining: 177ms\n",
      "106:\tlearn: 0.3441093\ttotal: 1.35s\tremaining: 164ms\n",
      "107:\tlearn: 0.3441093\ttotal: 1.36s\tremaining: 152ms\n",
      "108:\tlearn: 0.3441093\ttotal: 1.38s\tremaining: 139ms\n",
      "109:\tlearn: 0.3441093\ttotal: 1.39s\tremaining: 126ms\n",
      "110:\tlearn: 0.3441093\ttotal: 1.41s\tremaining: 114ms\n",
      "111:\tlearn: 0.3440886\ttotal: 1.43s\tremaining: 102ms\n",
      "112:\tlearn: 0.3440096\ttotal: 1.45s\tremaining: 89.6ms\n",
      "113:\tlearn: 0.3440096\ttotal: 1.46s\tremaining: 76.7ms\n",
      "114:\tlearn: 0.3440303\ttotal: 1.47s\tremaining: 63.9ms\n",
      "115:\tlearn: 0.3440303\ttotal: 1.48s\tremaining: 51.1ms\n",
      "116:\tlearn: 0.3440303\ttotal: 1.5s\tremaining: 38.3ms\n",
      "117:\tlearn: 0.3440303\ttotal: 1.51s\tremaining: 25.6ms\n",
      "118:\tlearn: 0.3440303\ttotal: 1.52s\tremaining: 12.8ms\n",
      "119:\tlearn: 0.3440303\ttotal: 1.53s\tremaining: 0us\n",
      "[CV] END .......depth=5, iterations=120, learning_rate=0.001; total time=   2.7s\n",
      "0:\tlearn: 0.3444411\ttotal: 16.8ms\tremaining: 2s\n",
      "1:\tlearn: 0.3446198\ttotal: 31.5ms\tremaining: 1.86s\n",
      "2:\tlearn: 0.3458692\ttotal: 47.1ms\tremaining: 1.83s\n",
      "3:\tlearn: 0.3463942\ttotal: 57.2ms\tremaining: 1.66s\n",
      "4:\tlearn: 0.3507828\ttotal: 70.1ms\tremaining: 1.61s\n",
      "5:\tlearn: 0.3507828\ttotal: 82.9ms\tremaining: 1.57s\n",
      "6:\tlearn: 0.3506843\ttotal: 95.4ms\tremaining: 1.54s\n",
      "7:\tlearn: 0.3506843\ttotal: 106ms\tremaining: 1.49s\n",
      "8:\tlearn: 0.3505857\ttotal: 120ms\tremaining: 1.48s\n",
      "9:\tlearn: 0.3505857\ttotal: 132ms\tremaining: 1.46s\n",
      "10:\tlearn: 0.3505857\ttotal: 143ms\tremaining: 1.42s\n",
      "11:\tlearn: 0.3505857\ttotal: 151ms\tremaining: 1.35s\n",
      "12:\tlearn: 0.3505857\ttotal: 161ms\tremaining: 1.33s\n",
      "13:\tlearn: 0.3505857\ttotal: 176ms\tremaining: 1.33s\n",
      "14:\tlearn: 0.3505857\ttotal: 184ms\tremaining: 1.29s\n",
      "15:\tlearn: 0.3505857\ttotal: 198ms\tremaining: 1.28s\n",
      "16:\tlearn: 0.3505857\ttotal: 211ms\tremaining: 1.28s\n",
      "17:\tlearn: 0.3505857\ttotal: 225ms\tremaining: 1.27s\n",
      "18:\tlearn: 0.3505857\ttotal: 238ms\tremaining: 1.27s\n",
      "19:\tlearn: 0.3505857\ttotal: 254ms\tremaining: 1.27s\n",
      "20:\tlearn: 0.3505857\ttotal: 268ms\tremaining: 1.26s\n",
      "21:\tlearn: 0.3505857\ttotal: 282ms\tremaining: 1.25s\n",
      "22:\tlearn: 0.3505857\ttotal: 295ms\tremaining: 1.24s\n",
      "23:\tlearn: 0.3505857\ttotal: 308ms\tremaining: 1.23s\n",
      "24:\tlearn: 0.3505857\ttotal: 319ms\tremaining: 1.21s\n",
      "25:\tlearn: 0.3505857\ttotal: 328ms\tremaining: 1.19s\n",
      "26:\tlearn: 0.3505857\ttotal: 341ms\tremaining: 1.18s\n",
      "27:\tlearn: 0.3505857\ttotal: 354ms\tremaining: 1.16s\n",
      "28:\tlearn: 0.3505857\ttotal: 368ms\tremaining: 1.15s\n",
      "29:\tlearn: 0.3505857\ttotal: 375ms\tremaining: 1.13s\n",
      "30:\tlearn: 0.3505857\ttotal: 389ms\tremaining: 1.11s\n",
      "31:\tlearn: 0.3505857\ttotal: 402ms\tremaining: 1.1s\n",
      "32:\tlearn: 0.3505857\ttotal: 413ms\tremaining: 1.09s\n",
      "33:\tlearn: 0.3505857\ttotal: 427ms\tremaining: 1.08s\n",
      "34:\tlearn: 0.3505857\ttotal: 441ms\tremaining: 1.07s\n",
      "35:\tlearn: 0.3505857\ttotal: 456ms\tremaining: 1.06s\n",
      "36:\tlearn: 0.3505857\ttotal: 469ms\tremaining: 1.05s\n",
      "37:\tlearn: 0.3505857\ttotal: 482ms\tremaining: 1.04s\n",
      "38:\tlearn: 0.3505857\ttotal: 494ms\tremaining: 1.03s\n",
      "39:\tlearn: 0.3505857\ttotal: 502ms\tremaining: 1s\n",
      "40:\tlearn: 0.3505857\ttotal: 514ms\tremaining: 991ms\n",
      "41:\tlearn: 0.3505857\ttotal: 527ms\tremaining: 979ms\n",
      "42:\tlearn: 0.3505857\ttotal: 537ms\tremaining: 961ms\n",
      "43:\tlearn: 0.3505857\ttotal: 546ms\tremaining: 943ms\n",
      "44:\tlearn: 0.3505857\ttotal: 558ms\tremaining: 931ms\n",
      "45:\tlearn: 0.3505857\ttotal: 572ms\tremaining: 920ms\n",
      "46:\tlearn: 0.3505857\ttotal: 583ms\tremaining: 905ms\n",
      "47:\tlearn: 0.3505857\ttotal: 595ms\tremaining: 893ms\n",
      "48:\tlearn: 0.3505857\ttotal: 604ms\tremaining: 876ms\n",
      "49:\tlearn: 0.3505857\ttotal: 612ms\tremaining: 857ms\n",
      "50:\tlearn: 0.3505857\ttotal: 625ms\tremaining: 846ms\n",
      "51:\tlearn: 0.3505857\ttotal: 639ms\tremaining: 836ms\n",
      "52:\tlearn: 0.3505857\ttotal: 653ms\tremaining: 825ms\n",
      "53:\tlearn: 0.3505857\ttotal: 668ms\tremaining: 816ms\n",
      "54:\tlearn: 0.3505857\ttotal: 683ms\tremaining: 807ms\n",
      "55:\tlearn: 0.3505857\ttotal: 696ms\tremaining: 795ms\n",
      "56:\tlearn: 0.3505857\ttotal: 710ms\tremaining: 784ms\n",
      "57:\tlearn: 0.3505857\ttotal: 724ms\tremaining: 774ms\n",
      "58:\tlearn: 0.3505857\ttotal: 738ms\tremaining: 763ms\n",
      "59:\tlearn: 0.3505857\ttotal: 752ms\tremaining: 752ms\n",
      "60:\tlearn: 0.3505857\ttotal: 766ms\tremaining: 741ms\n",
      "61:\tlearn: 0.3506067\ttotal: 775ms\tremaining: 725ms\n",
      "62:\tlearn: 0.3506067\ttotal: 790ms\tremaining: 714ms\n",
      "63:\tlearn: 0.3506067\ttotal: 803ms\tremaining: 703ms\n",
      "64:\tlearn: 0.3506067\ttotal: 812ms\tremaining: 687ms\n",
      "65:\tlearn: 0.3506067\ttotal: 821ms\tremaining: 672ms\n",
      "66:\tlearn: 0.3505857\ttotal: 833ms\tremaining: 659ms\n",
      "67:\tlearn: 0.3505857\ttotal: 846ms\tremaining: 647ms\n",
      "68:\tlearn: 0.3505857\ttotal: 856ms\tremaining: 633ms\n",
      "69:\tlearn: 0.3505857\ttotal: 869ms\tremaining: 621ms\n",
      "70:\tlearn: 0.3505857\ttotal: 883ms\tremaining: 609ms\n",
      "71:\tlearn: 0.3505857\ttotal: 892ms\tremaining: 595ms\n",
      "72:\tlearn: 0.3505857\ttotal: 906ms\tremaining: 583ms\n",
      "73:\tlearn: 0.3505857\ttotal: 919ms\tremaining: 571ms\n",
      "74:\tlearn: 0.3505857\ttotal: 932ms\tremaining: 559ms\n",
      "75:\tlearn: 0.3505857\ttotal: 945ms\tremaining: 547ms\n",
      "76:\tlearn: 0.3505857\ttotal: 952ms\tremaining: 532ms\n",
      "77:\tlearn: 0.3505857\ttotal: 965ms\tremaining: 520ms\n",
      "78:\tlearn: 0.3505857\ttotal: 978ms\tremaining: 508ms\n",
      "79:\tlearn: 0.3505857\ttotal: 992ms\tremaining: 496ms\n",
      "80:\tlearn: 0.3505857\ttotal: 1s\tremaining: 484ms\n",
      "81:\tlearn: 0.3505857\ttotal: 1.02s\tremaining: 472ms\n",
      "82:\tlearn: 0.3505857\ttotal: 1.03s\tremaining: 461ms\n",
      "83:\tlearn: 0.3505857\ttotal: 1.05s\tremaining: 449ms\n",
      "84:\tlearn: 0.3505857\ttotal: 1.06s\tremaining: 436ms\n",
      "85:\tlearn: 0.3505857\ttotal: 1.07s\tremaining: 424ms\n",
      "86:\tlearn: 0.3505857\ttotal: 1.08s\tremaining: 412ms\n",
      "87:\tlearn: 0.3505857\ttotal: 1.09s\tremaining: 398ms\n",
      "88:\tlearn: 0.3505857\ttotal: 1.1s\tremaining: 385ms\n",
      "89:\tlearn: 0.3506843\ttotal: 1.12s\tremaining: 372ms\n",
      "90:\tlearn: 0.3505857\ttotal: 1.13s\tremaining: 360ms\n",
      "91:\tlearn: 0.3505857\ttotal: 1.14s\tremaining: 348ms\n",
      "92:\tlearn: 0.3505857\ttotal: 1.16s\tremaining: 335ms\n",
      "93:\tlearn: 0.3505857\ttotal: 1.17s\tremaining: 323ms\n",
      "94:\tlearn: 0.3505857\ttotal: 1.18s\tremaining: 311ms\n",
      "95:\tlearn: 0.3506843\ttotal: 1.2s\tremaining: 299ms\n",
      "96:\tlearn: 0.3506843\ttotal: 1.21s\tremaining: 288ms\n",
      "97:\tlearn: 0.3506843\ttotal: 1.23s\tremaining: 276ms\n",
      "98:\tlearn: 0.3506843\ttotal: 1.25s\tremaining: 264ms\n",
      "99:\tlearn: 0.3506843\ttotal: 1.26s\tremaining: 251ms\n",
      "100:\tlearn: 0.3506843\ttotal: 1.27s\tremaining: 239ms\n",
      "101:\tlearn: 0.3506843\ttotal: 1.28s\tremaining: 226ms\n",
      "102:\tlearn: 0.3506843\ttotal: 1.29s\tremaining: 214ms\n",
      "103:\tlearn: 0.3506843\ttotal: 1.31s\tremaining: 201ms\n",
      "104:\tlearn: 0.3506843\ttotal: 1.32s\tremaining: 189ms\n",
      "105:\tlearn: 0.3506843\ttotal: 1.33s\tremaining: 176ms\n",
      "106:\tlearn: 0.3506843\ttotal: 1.35s\tremaining: 164ms\n",
      "107:\tlearn: 0.3506843\ttotal: 1.36s\tremaining: 151ms\n",
      "108:\tlearn: 0.3506843\ttotal: 1.37s\tremaining: 139ms\n",
      "109:\tlearn: 0.3506843\ttotal: 1.39s\tremaining: 126ms\n",
      "110:\tlearn: 0.3506843\ttotal: 1.4s\tremaining: 114ms\n",
      "111:\tlearn: 0.3506843\ttotal: 1.41s\tremaining: 101ms\n",
      "112:\tlearn: 0.3506843\ttotal: 1.43s\tremaining: 88.5ms\n",
      "113:\tlearn: 0.3507828\ttotal: 1.44s\tremaining: 76ms\n",
      "114:\tlearn: 0.3507828\ttotal: 1.46s\tremaining: 63.3ms\n",
      "115:\tlearn: 0.3507828\ttotal: 1.47s\tremaining: 50.7ms\n",
      "116:\tlearn: 0.3507828\ttotal: 1.48s\tremaining: 38ms\n",
      "117:\tlearn: 0.3507828\ttotal: 1.5s\tremaining: 25.4ms\n",
      "118:\tlearn: 0.3507828\ttotal: 1.51s\tremaining: 12.7ms\n",
      "119:\tlearn: 0.3507828\ttotal: 1.52s\tremaining: 0us\n",
      "[CV] END .......depth=5, iterations=120, learning_rate=0.001; total time=   2.8s\n",
      "0:\tlearn: 0.3522918\ttotal: 18.8ms\tremaining: 2.24s\n",
      "1:\tlearn: 0.3576317\ttotal: 37.8ms\tremaining: 2.23s\n",
      "2:\tlearn: 0.3523130\ttotal: 54.4ms\tremaining: 2.12s\n",
      "3:\tlearn: 0.3527508\ttotal: 69.5ms\tremaining: 2.01s\n",
      "4:\tlearn: 0.3527720\ttotal: 85ms\tremaining: 1.95s\n",
      "5:\tlearn: 0.3527720\ttotal: 96.8ms\tremaining: 1.84s\n",
      "6:\tlearn: 0.3572577\ttotal: 110ms\tremaining: 1.78s\n",
      "7:\tlearn: 0.3569854\ttotal: 123ms\tremaining: 1.72s\n",
      "8:\tlearn: 0.3568321\ttotal: 136ms\tremaining: 1.68s\n",
      "9:\tlearn: 0.3571599\ttotal: 150ms\tremaining: 1.65s\n",
      "10:\tlearn: 0.3571599\ttotal: 164ms\tremaining: 1.62s\n",
      "11:\tlearn: 0.3572024\ttotal: 177ms\tremaining: 1.59s\n",
      "12:\tlearn: 0.3572024\ttotal: 191ms\tremaining: 1.57s\n",
      "13:\tlearn: 0.3572024\ttotal: 204ms\tremaining: 1.55s\n",
      "14:\tlearn: 0.3572024\ttotal: 218ms\tremaining: 1.53s\n",
      "15:\tlearn: 0.3571599\ttotal: 232ms\tremaining: 1.51s\n",
      "16:\tlearn: 0.3571812\ttotal: 246ms\tremaining: 1.49s\n",
      "17:\tlearn: 0.3573003\ttotal: 259ms\tremaining: 1.47s\n",
      "18:\tlearn: 0.3573981\ttotal: 272ms\tremaining: 1.44s\n",
      "19:\tlearn: 0.3573003\ttotal: 285ms\tremaining: 1.43s\n",
      "20:\tlearn: 0.3573003\ttotal: 298ms\tremaining: 1.41s\n",
      "21:\tlearn: 0.3573003\ttotal: 311ms\tremaining: 1.39s\n",
      "22:\tlearn: 0.3573003\ttotal: 325ms\tremaining: 1.37s\n",
      "23:\tlearn: 0.3572024\ttotal: 339ms\tremaining: 1.35s\n",
      "24:\tlearn: 0.3572024\ttotal: 351ms\tremaining: 1.33s\n",
      "25:\tlearn: 0.3571046\ttotal: 365ms\tremaining: 1.32s\n",
      "26:\tlearn: 0.3571258\ttotal: 378ms\tremaining: 1.3s\n",
      "27:\tlearn: 0.3573216\ttotal: 391ms\tremaining: 1.29s\n",
      "28:\tlearn: 0.3573216\ttotal: 405ms\tremaining: 1.27s\n",
      "29:\tlearn: 0.3573216\ttotal: 420ms\tremaining: 1.26s\n",
      "30:\tlearn: 0.3572790\ttotal: 434ms\tremaining: 1.25s\n",
      "31:\tlearn: 0.3572790\ttotal: 447ms\tremaining: 1.23s\n",
      "32:\tlearn: 0.3572790\ttotal: 461ms\tremaining: 1.21s\n",
      "33:\tlearn: 0.3572790\ttotal: 474ms\tremaining: 1.2s\n",
      "34:\tlearn: 0.3573003\ttotal: 487ms\tremaining: 1.18s\n",
      "35:\tlearn: 0.3573003\ttotal: 500ms\tremaining: 1.17s\n",
      "36:\tlearn: 0.3572790\ttotal: 514ms\tremaining: 1.15s\n",
      "37:\tlearn: 0.3572790\ttotal: 528ms\tremaining: 1.14s\n",
      "38:\tlearn: 0.3572790\ttotal: 539ms\tremaining: 1.12s\n",
      "39:\tlearn: 0.3572790\ttotal: 552ms\tremaining: 1.1s\n",
      "40:\tlearn: 0.3572790\ttotal: 566ms\tremaining: 1.09s\n",
      "41:\tlearn: 0.3573003\ttotal: 578ms\tremaining: 1.07s\n",
      "42:\tlearn: 0.3573003\ttotal: 591ms\tremaining: 1.06s\n",
      "43:\tlearn: 0.3573216\ttotal: 604ms\tremaining: 1.04s\n",
      "44:\tlearn: 0.3573216\ttotal: 618ms\tremaining: 1.03s\n",
      "45:\tlearn: 0.3573216\ttotal: 632ms\tremaining: 1.01s\n",
      "46:\tlearn: 0.3573216\ttotal: 641ms\tremaining: 995ms\n",
      "47:\tlearn: 0.3573216\ttotal: 653ms\tremaining: 980ms\n",
      "48:\tlearn: 0.3571258\ttotal: 667ms\tremaining: 966ms\n",
      "49:\tlearn: 0.3571258\ttotal: 678ms\tremaining: 949ms\n",
      "50:\tlearn: 0.3571471\ttotal: 689ms\tremaining: 932ms\n",
      "51:\tlearn: 0.3571471\ttotal: 700ms\tremaining: 915ms\n",
      "52:\tlearn: 0.3570492\ttotal: 713ms\tremaining: 902ms\n",
      "53:\tlearn: 0.3570492\ttotal: 726ms\tremaining: 888ms\n",
      "54:\tlearn: 0.3570492\ttotal: 740ms\tremaining: 874ms\n",
      "55:\tlearn: 0.3570705\ttotal: 753ms\tremaining: 860ms\n",
      "56:\tlearn: 0.3570705\ttotal: 764ms\tremaining: 844ms\n",
      "57:\tlearn: 0.3570705\ttotal: 777ms\tremaining: 831ms\n",
      "58:\tlearn: 0.3570918\ttotal: 792ms\tremaining: 819ms\n",
      "59:\tlearn: 0.3570918\ttotal: 799ms\tremaining: 799ms\n",
      "60:\tlearn: 0.3568959\ttotal: 808ms\tremaining: 782ms\n",
      "61:\tlearn: 0.3572237\ttotal: 819ms\tremaining: 767ms\n",
      "62:\tlearn: 0.3572237\ttotal: 832ms\tremaining: 753ms\n",
      "63:\tlearn: 0.3571258\ttotal: 843ms\tremaining: 738ms\n",
      "64:\tlearn: 0.3571258\ttotal: 856ms\tremaining: 724ms\n",
      "65:\tlearn: 0.3571258\ttotal: 870ms\tremaining: 712ms\n",
      "66:\tlearn: 0.3571258\ttotal: 884ms\tremaining: 699ms\n",
      "67:\tlearn: 0.3571258\ttotal: 897ms\tremaining: 686ms\n",
      "68:\tlearn: 0.3570492\ttotal: 910ms\tremaining: 673ms\n",
      "69:\tlearn: 0.3570492\ttotal: 923ms\tremaining: 659ms\n",
      "70:\tlearn: 0.3570492\ttotal: 936ms\tremaining: 646ms\n",
      "71:\tlearn: 0.3570492\ttotal: 945ms\tremaining: 630ms\n",
      "72:\tlearn: 0.3570492\ttotal: 958ms\tremaining: 617ms\n",
      "73:\tlearn: 0.3570492\ttotal: 968ms\tremaining: 601ms\n",
      "74:\tlearn: 0.3570492\ttotal: 979ms\tremaining: 587ms\n",
      "75:\tlearn: 0.3568534\ttotal: 992ms\tremaining: 574ms\n",
      "76:\tlearn: 0.3571684\ttotal: 1s\tremaining: 561ms\n",
      "77:\tlearn: 0.3571684\ttotal: 1.02s\tremaining: 549ms\n",
      "78:\tlearn: 0.3571684\ttotal: 1.03s\tremaining: 537ms\n",
      "79:\tlearn: 0.3571684\ttotal: 1.05s\tremaining: 524ms\n",
      "80:\tlearn: 0.3571684\ttotal: 1.06s\tremaining: 511ms\n",
      "81:\tlearn: 0.3570705\ttotal: 1.07s\tremaining: 498ms\n",
      "82:\tlearn: 0.3570705\ttotal: 1.09s\tremaining: 485ms\n",
      "83:\tlearn: 0.3570705\ttotal: 1.1s\tremaining: 471ms\n",
      "84:\tlearn: 0.3570705\ttotal: 1.11s\tremaining: 458ms\n",
      "85:\tlearn: 0.3570705\ttotal: 1.12s\tremaining: 445ms\n",
      "86:\tlearn: 0.3570705\ttotal: 1.14s\tremaining: 431ms\n",
      "87:\tlearn: 0.3570705\ttotal: 1.15s\tremaining: 418ms\n",
      "88:\tlearn: 0.3568747\ttotal: 1.16s\tremaining: 405ms\n",
      "89:\tlearn: 0.3568959\ttotal: 1.17s\tremaining: 392ms\n",
      "90:\tlearn: 0.3568959\ttotal: 1.19s\tremaining: 379ms\n",
      "91:\tlearn: 0.3567980\ttotal: 1.2s\tremaining: 365ms\n",
      "92:\tlearn: 0.3567980\ttotal: 1.21s\tremaining: 353ms\n",
      "93:\tlearn: 0.3567980\ttotal: 1.23s\tremaining: 339ms\n",
      "94:\tlearn: 0.3567980\ttotal: 1.24s\tremaining: 326ms\n",
      "95:\tlearn: 0.3567980\ttotal: 1.25s\tremaining: 313ms\n",
      "96:\tlearn: 0.3567980\ttotal: 1.27s\tremaining: 300ms\n",
      "97:\tlearn: 0.3567000\ttotal: 1.28s\tremaining: 287ms\n",
      "98:\tlearn: 0.3567000\ttotal: 1.29s\tremaining: 273ms\n",
      "99:\tlearn: 0.3567000\ttotal: 1.3s\tremaining: 260ms\n",
      "100:\tlearn: 0.3567000\ttotal: 1.31s\tremaining: 247ms\n",
      "101:\tlearn: 0.3567980\ttotal: 1.33s\tremaining: 234ms\n",
      "102:\tlearn: 0.3567000\ttotal: 1.34s\tremaining: 221ms\n",
      "103:\tlearn: 0.3570492\ttotal: 1.35s\tremaining: 207ms\n",
      "104:\tlearn: 0.3570492\ttotal: 1.36s\tremaining: 195ms\n",
      "105:\tlearn: 0.3570492\ttotal: 1.37s\tremaining: 181ms\n",
      "106:\tlearn: 0.3570705\ttotal: 1.38s\tremaining: 168ms\n",
      "107:\tlearn: 0.3570705\ttotal: 1.4s\tremaining: 155ms\n",
      "108:\tlearn: 0.3570705\ttotal: 1.41s\tremaining: 142ms\n",
      "109:\tlearn: 0.3570705\ttotal: 1.42s\tremaining: 129ms\n",
      "110:\tlearn: 0.3570705\ttotal: 1.43s\tremaining: 116ms\n",
      "111:\tlearn: 0.3570705\ttotal: 1.44s\tremaining: 103ms\n",
      "112:\tlearn: 0.3568747\ttotal: 1.46s\tremaining: 90.3ms\n",
      "113:\tlearn: 0.3568747\ttotal: 1.47s\tremaining: 77.2ms\n",
      "114:\tlearn: 0.3568747\ttotal: 1.48s\tremaining: 64.3ms\n",
      "115:\tlearn: 0.3568747\ttotal: 1.49s\tremaining: 51.5ms\n",
      "116:\tlearn: 0.3567980\ttotal: 1.5s\tremaining: 38.5ms\n",
      "117:\tlearn: 0.3567980\ttotal: 1.51s\tremaining: 25.6ms\n",
      "118:\tlearn: 0.3567980\ttotal: 1.52s\tremaining: 12.8ms\n",
      "119:\tlearn: 0.3567980\ttotal: 1.54s\tremaining: 0us\n",
      "[CV] END .......depth=5, iterations=120, learning_rate=0.001; total time=   2.4s\n",
      "0:\tlearn: 0.3606538\ttotal: 16.9ms\tremaining: 2.01s\n",
      "1:\tlearn: 0.3461793\ttotal: 32.9ms\tremaining: 1.94s\n",
      "2:\tlearn: 0.3570498\ttotal: 47ms\tremaining: 1.83s\n",
      "3:\tlearn: 0.3581684\ttotal: 62.6ms\tremaining: 1.82s\n",
      "4:\tlearn: 0.3592468\ttotal: 75.5ms\tremaining: 1.74s\n",
      "5:\tlearn: 0.3495181\ttotal: 88.5ms\tremaining: 1.68s\n",
      "6:\tlearn: 0.3549383\ttotal: 103ms\tremaining: 1.66s\n",
      "7:\tlearn: 0.3506276\ttotal: 116ms\tremaining: 1.63s\n",
      "8:\tlearn: 0.3494820\ttotal: 130ms\tremaining: 1.6s\n",
      "9:\tlearn: 0.3480868\ttotal: 141ms\tremaining: 1.55s\n",
      "10:\tlearn: 0.3463734\ttotal: 152ms\tremaining: 1.5s\n",
      "11:\tlearn: 0.3463734\ttotal: 164ms\tremaining: 1.48s\n",
      "12:\tlearn: 0.3471630\ttotal: 177ms\tremaining: 1.46s\n",
      "13:\tlearn: 0.3472256\ttotal: 191ms\tremaining: 1.44s\n",
      "14:\tlearn: 0.3466715\ttotal: 205ms\tremaining: 1.43s\n",
      "15:\tlearn: 0.3467916\ttotal: 217ms\tremaining: 1.41s\n",
      "16:\tlearn: 0.3467916\ttotal: 229ms\tremaining: 1.39s\n",
      "17:\tlearn: 0.3466506\ttotal: 243ms\tremaining: 1.38s\n",
      "18:\tlearn: 0.3466506\ttotal: 256ms\tremaining: 1.36s\n",
      "19:\tlearn: 0.3466506\ttotal: 269ms\tremaining: 1.34s\n",
      "20:\tlearn: 0.3469486\ttotal: 282ms\tremaining: 1.33s\n",
      "21:\tlearn: 0.3473406\ttotal: 295ms\tremaining: 1.31s\n",
      "22:\tlearn: 0.3476330\ttotal: 308ms\tremaining: 1.3s\n",
      "23:\tlearn: 0.3474764\ttotal: 319ms\tremaining: 1.28s\n",
      "24:\tlearn: 0.3473198\ttotal: 334ms\tremaining: 1.27s\n",
      "25:\tlearn: 0.3481024\ttotal: 347ms\tremaining: 1.25s\n",
      "26:\tlearn: 0.3473198\ttotal: 360ms\tremaining: 1.24s\n",
      "27:\tlearn: 0.3470638\ttotal: 373ms\tremaining: 1.22s\n",
      "28:\tlearn: 0.3470638\ttotal: 386ms\tremaining: 1.21s\n",
      "29:\tlearn: 0.3470638\ttotal: 397ms\tremaining: 1.19s\n",
      "30:\tlearn: 0.3470638\ttotal: 412ms\tremaining: 1.18s\n",
      "31:\tlearn: 0.3467660\ttotal: 426ms\tremaining: 1.17s\n",
      "32:\tlearn: 0.3467660\ttotal: 439ms\tremaining: 1.16s\n",
      "33:\tlearn: 0.3464520\ttotal: 452ms\tremaining: 1.14s\n",
      "34:\tlearn: 0.3464520\ttotal: 461ms\tremaining: 1.12s\n",
      "35:\tlearn: 0.3464520\ttotal: 471ms\tremaining: 1.1s\n",
      "36:\tlearn: 0.3464520\ttotal: 483ms\tremaining: 1.08s\n",
      "37:\tlearn: 0.3464520\ttotal: 497ms\tremaining: 1.07s\n",
      "38:\tlearn: 0.3464520\ttotal: 509ms\tremaining: 1.06s\n",
      "39:\tlearn: 0.3464520\ttotal: 524ms\tremaining: 1.05s\n",
      "40:\tlearn: 0.3465513\ttotal: 543ms\tremaining: 1.05s\n",
      "41:\tlearn: 0.3465513\ttotal: 553ms\tremaining: 1.03s\n",
      "42:\tlearn: 0.3465513\ttotal: 569ms\tremaining: 1.02s\n",
      "43:\tlearn: 0.3465305\ttotal: 585ms\tremaining: 1.01s\n",
      "44:\tlearn: 0.3465305\ttotal: 601ms\tremaining: 1s\n",
      "45:\tlearn: 0.3465305\ttotal: 615ms\tremaining: 989ms\n",
      "46:\tlearn: 0.3465305\ttotal: 631ms\tremaining: 980ms\n",
      "47:\tlearn: 0.3465305\ttotal: 648ms\tremaining: 972ms\n",
      "48:\tlearn: 0.3465305\ttotal: 666ms\tremaining: 965ms\n",
      "49:\tlearn: 0.3465305\ttotal: 681ms\tremaining: 954ms\n",
      "50:\tlearn: 0.3465305\ttotal: 696ms\tremaining: 941ms\n",
      "51:\tlearn: 0.3465305\ttotal: 712ms\tremaining: 931ms\n",
      "52:\tlearn: 0.3465305\ttotal: 727ms\tremaining: 919ms\n",
      "53:\tlearn: 0.3465305\ttotal: 742ms\tremaining: 907ms\n",
      "54:\tlearn: 0.3465305\ttotal: 765ms\tremaining: 904ms\n",
      "55:\tlearn: 0.3465513\ttotal: 788ms\tremaining: 901ms\n",
      "56:\tlearn: 0.3465513\ttotal: 806ms\tremaining: 891ms\n",
      "57:\tlearn: 0.3465513\ttotal: 820ms\tremaining: 877ms\n",
      "58:\tlearn: 0.3465513\ttotal: 833ms\tremaining: 862ms\n",
      "59:\tlearn: 0.3465513\ttotal: 847ms\tremaining: 847ms\n",
      "60:\tlearn: 0.3465513\ttotal: 860ms\tremaining: 832ms\n",
      "61:\tlearn: 0.3465513\ttotal: 873ms\tremaining: 817ms\n",
      "62:\tlearn: 0.3465513\ttotal: 886ms\tremaining: 801ms\n",
      "63:\tlearn: 0.3465513\ttotal: 899ms\tremaining: 786ms\n",
      "64:\tlearn: 0.3465513\ttotal: 910ms\tremaining: 770ms\n",
      "65:\tlearn: 0.3465513\ttotal: 921ms\tremaining: 753ms\n",
      "66:\tlearn: 0.3465513\ttotal: 933ms\tremaining: 738ms\n",
      "67:\tlearn: 0.3465513\ttotal: 946ms\tremaining: 724ms\n",
      "68:\tlearn: 0.3464520\ttotal: 958ms\tremaining: 708ms\n",
      "69:\tlearn: 0.3464520\ttotal: 971ms\tremaining: 694ms\n",
      "70:\tlearn: 0.3464520\ttotal: 984ms\tremaining: 679ms\n",
      "71:\tlearn: 0.3464520\ttotal: 998ms\tremaining: 665ms\n",
      "72:\tlearn: 0.3464520\ttotal: 1.01s\tremaining: 651ms\n",
      "73:\tlearn: 0.3464520\ttotal: 1.02s\tremaining: 637ms\n",
      "74:\tlearn: 0.3464520\ttotal: 1.04s\tremaining: 623ms\n",
      "75:\tlearn: 0.3465513\ttotal: 1.05s\tremaining: 608ms\n",
      "76:\tlearn: 0.3465305\ttotal: 1.06s\tremaining: 594ms\n",
      "77:\tlearn: 0.3465513\ttotal: 1.08s\tremaining: 580ms\n",
      "78:\tlearn: 0.3465513\ttotal: 1.09s\tremaining: 565ms\n",
      "79:\tlearn: 0.3465513\ttotal: 1.1s\tremaining: 552ms\n",
      "80:\tlearn: 0.3465513\ttotal: 1.12s\tremaining: 537ms\n",
      "81:\tlearn: 0.3465513\ttotal: 1.13s\tremaining: 523ms\n",
      "82:\tlearn: 0.3465513\ttotal: 1.14s\tremaining: 509ms\n",
      "83:\tlearn: 0.3465513\ttotal: 1.15s\tremaining: 495ms\n",
      "84:\tlearn: 0.3465513\ttotal: 1.17s\tremaining: 481ms\n",
      "85:\tlearn: 0.3465513\ttotal: 1.18s\tremaining: 465ms\n",
      "86:\tlearn: 0.3465513\ttotal: 1.19s\tremaining: 451ms\n",
      "87:\tlearn: 0.3465513\ttotal: 1.2s\tremaining: 437ms\n",
      "88:\tlearn: 0.3465513\ttotal: 1.21s\tremaining: 423ms\n",
      "89:\tlearn: 0.3464520\ttotal: 1.23s\tremaining: 409ms\n",
      "90:\tlearn: 0.3464520\ttotal: 1.24s\tremaining: 395ms\n",
      "91:\tlearn: 0.3464520\ttotal: 1.25s\tremaining: 381ms\n",
      "92:\tlearn: 0.3464520\ttotal: 1.26s\tremaining: 367ms\n",
      "93:\tlearn: 0.3465513\ttotal: 1.28s\tremaining: 354ms\n",
      "94:\tlearn: 0.3464520\ttotal: 1.29s\tremaining: 340ms\n",
      "95:\tlearn: 0.3464520\ttotal: 1.3s\tremaining: 326ms\n",
      "96:\tlearn: 0.3464520\ttotal: 1.32s\tremaining: 313ms\n",
      "97:\tlearn: 0.3464520\ttotal: 1.33s\tremaining: 299ms\n",
      "98:\tlearn: 0.3464520\ttotal: 1.34s\tremaining: 285ms\n",
      "99:\tlearn: 0.3464520\ttotal: 1.35s\tremaining: 271ms\n",
      "100:\tlearn: 0.3464520\ttotal: 1.37s\tremaining: 257ms\n",
      "101:\tlearn: 0.3464520\ttotal: 1.39s\tremaining: 244ms\n",
      "102:\tlearn: 0.3464520\ttotal: 1.4s\tremaining: 231ms\n",
      "103:\tlearn: 0.3464520\ttotal: 1.42s\tremaining: 218ms\n",
      "104:\tlearn: 0.3464520\ttotal: 1.43s\tremaining: 204ms\n",
      "105:\tlearn: 0.3465513\ttotal: 1.44s\tremaining: 191ms\n",
      "106:\tlearn: 0.3465513\ttotal: 1.46s\tremaining: 177ms\n",
      "107:\tlearn: 0.3465513\ttotal: 1.46s\tremaining: 162ms\n",
      "108:\tlearn: 0.3465513\ttotal: 1.47s\tremaining: 149ms\n",
      "109:\tlearn: 0.3465513\ttotal: 1.48s\tremaining: 135ms\n",
      "110:\tlearn: 0.3465513\ttotal: 1.5s\tremaining: 121ms\n",
      "111:\tlearn: 0.3465513\ttotal: 1.51s\tremaining: 108ms\n",
      "112:\tlearn: 0.3465513\ttotal: 1.52s\tremaining: 94.3ms\n",
      "113:\tlearn: 0.3465513\ttotal: 1.53s\tremaining: 80.8ms\n",
      "114:\tlearn: 0.3464520\ttotal: 1.55s\tremaining: 67.3ms\n",
      "115:\tlearn: 0.3464520\ttotal: 1.56s\tremaining: 53.8ms\n",
      "116:\tlearn: 0.3464520\ttotal: 1.57s\tremaining: 40.4ms\n",
      "117:\tlearn: 0.3464520\ttotal: 1.59s\tremaining: 26.9ms\n",
      "118:\tlearn: 0.3464520\ttotal: 1.6s\tremaining: 13.4ms\n",
      "119:\tlearn: 0.3464520\ttotal: 1.61s\tremaining: 0us\n",
      "[CV] END .......depth=5, iterations=120, learning_rate=0.001; total time=   2.6s\n",
      "0:\tlearn: 0.3444211\ttotal: 12ms\tremaining: 1.43s\n",
      "1:\tlearn: 0.3606962\ttotal: 27.9ms\tremaining: 1.65s\n",
      "2:\tlearn: 0.3472472\ttotal: 42.2ms\tremaining: 1.65s\n",
      "3:\tlearn: 0.3524087\ttotal: 55.4ms\tremaining: 1.6s\n",
      "4:\tlearn: 0.3480554\ttotal: 67.6ms\tremaining: 1.55s\n",
      "5:\tlearn: 0.3514949\ttotal: 80.5ms\tremaining: 1.53s\n",
      "6:\tlearn: 0.3499013\ttotal: 93.4ms\tremaining: 1.51s\n",
      "7:\tlearn: 0.3503615\ttotal: 105ms\tremaining: 1.47s\n",
      "8:\tlearn: 0.3505167\ttotal: 118ms\tremaining: 1.45s\n",
      "9:\tlearn: 0.3505167\ttotal: 130ms\tremaining: 1.43s\n",
      "10:\tlearn: 0.3489708\ttotal: 143ms\tremaining: 1.42s\n",
      "11:\tlearn: 0.3498417\ttotal: 155ms\tremaining: 1.4s\n",
      "12:\tlearn: 0.3493335\ttotal: 168ms\tremaining: 1.38s\n",
      "13:\tlearn: 0.3493335\ttotal: 181ms\tremaining: 1.37s\n",
      "14:\tlearn: 0.3492348\ttotal: 192ms\tremaining: 1.35s\n",
      "15:\tlearn: 0.3492557\ttotal: 202ms\tremaining: 1.31s\n",
      "16:\tlearn: 0.3491836\ttotal: 215ms\tremaining: 1.3s\n",
      "17:\tlearn: 0.3487315\ttotal: 228ms\tremaining: 1.29s\n",
      "18:\tlearn: 0.3487315\ttotal: 242ms\tremaining: 1.28s\n",
      "19:\tlearn: 0.3490069\ttotal: 257ms\tremaining: 1.28s\n",
      "20:\tlearn: 0.3490696\ttotal: 267ms\tremaining: 1.26s\n",
      "21:\tlearn: 0.3490696\ttotal: 278ms\tremaining: 1.24s\n",
      "22:\tlearn: 0.3493335\ttotal: 291ms\tremaining: 1.23s\n",
      "23:\tlearn: 0.3493335\ttotal: 304ms\tremaining: 1.22s\n",
      "24:\tlearn: 0.3492557\ttotal: 317ms\tremaining: 1.2s\n",
      "25:\tlearn: 0.3492196\ttotal: 326ms\tremaining: 1.18s\n",
      "26:\tlearn: 0.3497222\ttotal: 335ms\tremaining: 1.15s\n",
      "27:\tlearn: 0.3497222\ttotal: 349ms\tremaining: 1.15s\n",
      "28:\tlearn: 0.3497222\ttotal: 362ms\tremaining: 1.14s\n",
      "29:\tlearn: 0.3497222\ttotal: 375ms\tremaining: 1.12s\n",
      "30:\tlearn: 0.3497222\ttotal: 388ms\tremaining: 1.11s\n",
      "31:\tlearn: 0.3497222\ttotal: 400ms\tremaining: 1.1s\n",
      "32:\tlearn: 0.3497222\ttotal: 414ms\tremaining: 1.09s\n",
      "33:\tlearn: 0.3497640\ttotal: 425ms\tremaining: 1.07s\n",
      "34:\tlearn: 0.3497640\ttotal: 438ms\tremaining: 1.06s\n",
      "35:\tlearn: 0.3495877\ttotal: 450ms\tremaining: 1.05s\n",
      "36:\tlearn: 0.3496295\ttotal: 464ms\tremaining: 1.04s\n",
      "37:\tlearn: 0.3494322\ttotal: 477ms\tremaining: 1.03s\n",
      "38:\tlearn: 0.3494322\ttotal: 485ms\tremaining: 1.01s\n",
      "39:\tlearn: 0.3497222\ttotal: 498ms\tremaining: 996ms\n",
      "40:\tlearn: 0.3497222\ttotal: 511ms\tremaining: 985ms\n",
      "41:\tlearn: 0.3497222\ttotal: 524ms\tremaining: 973ms\n",
      "42:\tlearn: 0.3497222\ttotal: 536ms\tremaining: 960ms\n",
      "43:\tlearn: 0.3497222\ttotal: 549ms\tremaining: 948ms\n",
      "44:\tlearn: 0.3497222\ttotal: 559ms\tremaining: 932ms\n",
      "45:\tlearn: 0.3497222\ttotal: 572ms\tremaining: 920ms\n",
      "46:\tlearn: 0.3497222\ttotal: 584ms\tremaining: 907ms\n",
      "47:\tlearn: 0.3497222\ttotal: 595ms\tremaining: 893ms\n",
      "48:\tlearn: 0.3497222\ttotal: 608ms\tremaining: 881ms\n",
      "49:\tlearn: 0.3497640\ttotal: 621ms\tremaining: 869ms\n",
      "50:\tlearn: 0.3497640\ttotal: 630ms\tremaining: 852ms\n",
      "51:\tlearn: 0.3497640\ttotal: 639ms\tremaining: 835ms\n",
      "52:\tlearn: 0.3497640\ttotal: 651ms\tremaining: 823ms\n",
      "53:\tlearn: 0.3497640\ttotal: 664ms\tremaining: 811ms\n",
      "54:\tlearn: 0.3497640\ttotal: 676ms\tremaining: 799ms\n",
      "55:\tlearn: 0.3497640\ttotal: 689ms\tremaining: 788ms\n",
      "56:\tlearn: 0.3497640\ttotal: 702ms\tremaining: 776ms\n",
      "57:\tlearn: 0.3496654\ttotal: 713ms\tremaining: 763ms\n",
      "58:\tlearn: 0.3495877\ttotal: 727ms\tremaining: 752ms\n",
      "59:\tlearn: 0.3494890\ttotal: 740ms\tremaining: 740ms\n",
      "60:\tlearn: 0.3495308\ttotal: 753ms\tremaining: 728ms\n",
      "61:\tlearn: 0.3495308\ttotal: 764ms\tremaining: 715ms\n",
      "62:\tlearn: 0.3495308\ttotal: 775ms\tremaining: 701ms\n",
      "63:\tlearn: 0.3495308\ttotal: 785ms\tremaining: 687ms\n",
      "64:\tlearn: 0.3495308\ttotal: 799ms\tremaining: 676ms\n",
      "65:\tlearn: 0.3495517\ttotal: 808ms\tremaining: 661ms\n",
      "66:\tlearn: 0.3495517\ttotal: 819ms\tremaining: 648ms\n",
      "67:\tlearn: 0.3495517\ttotal: 832ms\tremaining: 636ms\n",
      "68:\tlearn: 0.3494739\ttotal: 843ms\tremaining: 623ms\n",
      "69:\tlearn: 0.3494739\ttotal: 858ms\tremaining: 613ms\n",
      "70:\tlearn: 0.3494948\ttotal: 871ms\tremaining: 601ms\n",
      "71:\tlearn: 0.3493961\ttotal: 884ms\tremaining: 589ms\n",
      "72:\tlearn: 0.3493961\ttotal: 897ms\tremaining: 578ms\n",
      "73:\tlearn: 0.3492975\ttotal: 910ms\tremaining: 565ms\n",
      "74:\tlearn: 0.3492975\ttotal: 921ms\tremaining: 553ms\n",
      "75:\tlearn: 0.3492975\ttotal: 932ms\tremaining: 540ms\n",
      "76:\tlearn: 0.3492975\ttotal: 945ms\tremaining: 528ms\n",
      "77:\tlearn: 0.3492975\ttotal: 956ms\tremaining: 515ms\n",
      "78:\tlearn: 0.3492975\ttotal: 970ms\tremaining: 503ms\n",
      "79:\tlearn: 0.3492975\ttotal: 984ms\tremaining: 492ms\n",
      "80:\tlearn: 0.3492975\ttotal: 997ms\tremaining: 480ms\n",
      "81:\tlearn: 0.3492975\ttotal: 1.01s\tremaining: 467ms\n",
      "82:\tlearn: 0.3492975\ttotal: 1.02s\tremaining: 455ms\n",
      "83:\tlearn: 0.3492975\ttotal: 1.03s\tremaining: 443ms\n",
      "84:\tlearn: 0.3493601\ttotal: 1.05s\tremaining: 432ms\n",
      "85:\tlearn: 0.3493601\ttotal: 1.06s\tremaining: 420ms\n",
      "86:\tlearn: 0.3493601\ttotal: 1.08s\tremaining: 408ms\n",
      "87:\tlearn: 0.3493601\ttotal: 1.09s\tremaining: 397ms\n",
      "88:\tlearn: 0.3493601\ttotal: 1.1s\tremaining: 385ms\n",
      "89:\tlearn: 0.3493601\ttotal: 1.11s\tremaining: 372ms\n",
      "90:\tlearn: 0.3493601\ttotal: 1.13s\tremaining: 359ms\n",
      "91:\tlearn: 0.3493601\ttotal: 1.14s\tremaining: 347ms\n",
      "92:\tlearn: 0.3493601\ttotal: 1.15s\tremaining: 335ms\n",
      "93:\tlearn: 0.3493601\ttotal: 1.16s\tremaining: 322ms\n",
      "94:\tlearn: 0.3493601\ttotal: 1.18s\tremaining: 310ms\n",
      "95:\tlearn: 0.3492614\ttotal: 1.19s\tremaining: 297ms\n",
      "96:\tlearn: 0.3492614\ttotal: 1.2s\tremaining: 285ms\n",
      "97:\tlearn: 0.3492614\ttotal: 1.22s\tremaining: 273ms\n",
      "98:\tlearn: 0.3492614\ttotal: 1.23s\tremaining: 261ms\n",
      "99:\tlearn: 0.3493601\ttotal: 1.24s\tremaining: 248ms\n",
      "100:\tlearn: 0.3493601\ttotal: 1.25s\tremaining: 236ms\n",
      "101:\tlearn: 0.3494019\ttotal: 1.26s\tremaining: 223ms\n",
      "102:\tlearn: 0.3493032\ttotal: 1.28s\tremaining: 211ms\n",
      "103:\tlearn: 0.3493601\ttotal: 1.29s\tremaining: 198ms\n",
      "104:\tlearn: 0.3493753\ttotal: 1.3s\tremaining: 186ms\n",
      "105:\tlearn: 0.3492766\ttotal: 1.31s\tremaining: 174ms\n",
      "106:\tlearn: 0.3492766\ttotal: 1.33s\tremaining: 161ms\n",
      "107:\tlearn: 0.3495308\ttotal: 1.34s\tremaining: 149ms\n",
      "108:\tlearn: 0.3495308\ttotal: 1.35s\tremaining: 137ms\n",
      "109:\tlearn: 0.3495308\ttotal: 1.37s\tremaining: 124ms\n",
      "110:\tlearn: 0.3495308\ttotal: 1.38s\tremaining: 112ms\n",
      "111:\tlearn: 0.3495308\ttotal: 1.39s\tremaining: 99.3ms\n",
      "112:\tlearn: 0.3494322\ttotal: 1.4s\tremaining: 86.9ms\n",
      "113:\tlearn: 0.3494530\ttotal: 1.41s\tremaining: 74.2ms\n",
      "114:\tlearn: 0.3494530\ttotal: 1.42s\tremaining: 61.9ms\n",
      "115:\tlearn: 0.3495308\ttotal: 1.44s\tremaining: 49.6ms\n",
      "116:\tlearn: 0.3495308\ttotal: 1.45s\tremaining: 37.2ms\n",
      "117:\tlearn: 0.3495308\ttotal: 1.46s\tremaining: 24.8ms\n",
      "118:\tlearn: 0.3495308\ttotal: 1.47s\tremaining: 12.4ms\n",
      "119:\tlearn: 0.3494322\ttotal: 1.48s\tremaining: 0us\n",
      "[CV] END .......depth=5, iterations=120, learning_rate=0.001; total time=   3.1s\n",
      "0:\tlearn: 0.3431225\ttotal: 21.1ms\tremaining: 2.52s\n",
      "1:\tlearn: 0.3611242\ttotal: 40.4ms\tremaining: 2.39s\n",
      "2:\tlearn: 0.3534580\ttotal: 57.8ms\tremaining: 2.25s\n",
      "3:\tlearn: 0.3507494\ttotal: 74.5ms\tremaining: 2.16s\n",
      "4:\tlearn: 0.3517426\ttotal: 91.6ms\tremaining: 2.11s\n",
      "5:\tlearn: 0.3451178\ttotal: 109ms\tremaining: 2.07s\n",
      "6:\tlearn: 0.3452173\ttotal: 126ms\tremaining: 2.04s\n",
      "7:\tlearn: 0.3439138\ttotal: 138ms\tremaining: 1.93s\n",
      "8:\tlearn: 0.3444418\ttotal: 151ms\tremaining: 1.86s\n",
      "9:\tlearn: 0.3495308\ttotal: 167ms\tremaining: 1.84s\n",
      "10:\tlearn: 0.3493544\ttotal: 183ms\tremaining: 1.82s\n",
      "11:\tlearn: 0.3727474\ttotal: 210ms\tremaining: 1.89s\n",
      "12:\tlearn: 0.4002467\ttotal: 229ms\tremaining: 1.88s\n",
      "13:\tlearn: 0.4104177\ttotal: 246ms\tremaining: 1.86s\n",
      "14:\tlearn: 0.4052295\ttotal: 258ms\tremaining: 1.8s\n",
      "15:\tlearn: 0.4113889\ttotal: 277ms\tremaining: 1.8s\n",
      "16:\tlearn: 0.4087640\ttotal: 294ms\tremaining: 1.78s\n",
      "17:\tlearn: 0.4112129\ttotal: 312ms\tremaining: 1.77s\n",
      "18:\tlearn: 0.4257254\ttotal: 329ms\tremaining: 1.75s\n",
      "19:\tlearn: 0.4685645\ttotal: 347ms\tremaining: 1.73s\n",
      "20:\tlearn: 0.4926460\ttotal: 364ms\tremaining: 1.72s\n",
      "21:\tlearn: 0.5006272\ttotal: 381ms\tremaining: 1.7s\n",
      "22:\tlearn: 0.5047856\ttotal: 398ms\tremaining: 1.68s\n",
      "23:\tlearn: 0.5059470\ttotal: 415ms\tremaining: 1.66s\n",
      "24:\tlearn: 0.5047159\ttotal: 431ms\tremaining: 1.64s\n",
      "25:\tlearn: 0.5036213\ttotal: 447ms\tremaining: 1.62s\n",
      "26:\tlearn: 0.5097463\ttotal: 464ms\tremaining: 1.6s\n",
      "27:\tlearn: 0.5171588\ttotal: 480ms\tremaining: 1.58s\n",
      "28:\tlearn: 0.5241655\ttotal: 498ms\tremaining: 1.56s\n",
      "29:\tlearn: 0.5240085\ttotal: 507ms\tremaining: 1.52s\n",
      "30:\tlearn: 0.5258081\ttotal: 525ms\tremaining: 1.51s\n",
      "31:\tlearn: 0.5257254\ttotal: 543ms\tremaining: 1.49s\n",
      "32:\tlearn: 0.5262476\ttotal: 554ms\tremaining: 1.46s\n",
      "33:\tlearn: 0.5271433\ttotal: 573ms\tremaining: 1.45s\n",
      "34:\tlearn: 0.5293630\ttotal: 590ms\tremaining: 1.43s\n",
      "35:\tlearn: 0.5283315\ttotal: 609ms\tremaining: 1.42s\n",
      "36:\tlearn: 0.5292924\ttotal: 625ms\tremaining: 1.4s\n",
      "37:\tlearn: 0.5295284\ttotal: 645ms\tremaining: 1.39s\n",
      "38:\tlearn: 0.5379060\ttotal: 663ms\tremaining: 1.38s\n",
      "39:\tlearn: 0.5394838\ttotal: 680ms\tremaining: 1.36s\n",
      "40:\tlearn: 0.5392157\ttotal: 698ms\tremaining: 1.34s\n",
      "41:\tlearn: 0.5401559\ttotal: 717ms\tremaining: 1.33s\n",
      "42:\tlearn: 0.5407143\ttotal: 734ms\tremaining: 1.31s\n",
      "43:\tlearn: 0.5406408\ttotal: 751ms\tremaining: 1.3s\n",
      "44:\tlearn: 0.5407314\ttotal: 761ms\tremaining: 1.27s\n",
      "45:\tlearn: 0.5376706\ttotal: 779ms\tremaining: 1.25s\n",
      "46:\tlearn: 0.5381574\ttotal: 788ms\tremaining: 1.22s\n",
      "47:\tlearn: 0.5408099\ttotal: 805ms\tremaining: 1.21s\n",
      "48:\tlearn: 0.5389478\ttotal: 824ms\tremaining: 1.19s\n",
      "49:\tlearn: 0.5384895\ttotal: 842ms\tremaining: 1.18s\n",
      "50:\tlearn: 0.5400082\ttotal: 859ms\tremaining: 1.16s\n",
      "51:\tlearn: 0.5435930\ttotal: 877ms\tremaining: 1.15s\n",
      "52:\tlearn: 0.5442336\ttotal: 896ms\tremaining: 1.13s\n",
      "53:\tlearn: 0.5445874\ttotal: 915ms\tremaining: 1.12s\n",
      "54:\tlearn: 0.5441852\ttotal: 926ms\tremaining: 1.09s\n",
      "55:\tlearn: 0.5463108\ttotal: 944ms\tremaining: 1.08s\n",
      "56:\tlearn: 0.5463353\ttotal: 959ms\tremaining: 1.06s\n",
      "57:\tlearn: 0.5507350\ttotal: 977ms\tremaining: 1.04s\n",
      "58:\tlearn: 0.5507543\ttotal: 993ms\tremaining: 1.03s\n",
      "59:\tlearn: 0.5470346\ttotal: 1s\tremaining: 1s\n",
      "60:\tlearn: 0.5509659\ttotal: 1.02s\tremaining: 991ms\n",
      "61:\tlearn: 0.5515125\ttotal: 1.05s\tremaining: 984ms\n",
      "62:\tlearn: 0.5521625\ttotal: 1.07s\tremaining: 969ms\n",
      "63:\tlearn: 0.5524140\ttotal: 1.09s\tremaining: 951ms\n",
      "64:\tlearn: 0.5524842\ttotal: 1.09s\tremaining: 927ms\n",
      "65:\tlearn: 0.5528686\ttotal: 1.11s\tremaining: 911ms\n",
      "66:\tlearn: 0.5530575\ttotal: 1.13s\tremaining: 898ms\n",
      "67:\tlearn: 0.5532141\ttotal: 1.16s\tremaining: 884ms\n",
      "68:\tlearn: 0.5534781\ttotal: 1.18s\tremaining: 873ms\n",
      "69:\tlearn: 0.5505152\ttotal: 1.2s\tremaining: 860ms\n",
      "70:\tlearn: 0.5502787\ttotal: 1.22s\tremaining: 844ms\n",
      "71:\tlearn: 0.5504481\ttotal: 1.24s\tremaining: 828ms\n",
      "72:\tlearn: 0.5497791\ttotal: 1.26s\tremaining: 809ms\n",
      "73:\tlearn: 0.5537384\ttotal: 1.28s\tremaining: 794ms\n",
      "74:\tlearn: 0.5537889\ttotal: 1.29s\tremaining: 777ms\n",
      "75:\tlearn: 0.5537794\ttotal: 1.31s\tremaining: 761ms\n",
      "76:\tlearn: 0.5537439\ttotal: 1.33s\tremaining: 744ms\n",
      "77:\tlearn: 0.5538666\ttotal: 1.35s\tremaining: 728ms\n",
      "78:\tlearn: 0.5538325\ttotal: 1.37s\tremaining: 711ms\n",
      "79:\tlearn: 0.5538966\ttotal: 1.38s\tremaining: 691ms\n",
      "80:\tlearn: 0.5539403\ttotal: 1.4s\tremaining: 675ms\n",
      "81:\tlearn: 0.5539403\ttotal: 1.41s\tremaining: 654ms\n",
      "82:\tlearn: 0.5539211\ttotal: 1.43s\tremaining: 638ms\n",
      "83:\tlearn: 0.5536648\ttotal: 1.45s\tremaining: 622ms\n",
      "84:\tlearn: 0.5541731\ttotal: 1.47s\tremaining: 606ms\n",
      "85:\tlearn: 0.5560514\ttotal: 1.49s\tremaining: 590ms\n",
      "86:\tlearn: 0.5565763\ttotal: 1.51s\tremaining: 573ms\n",
      "87:\tlearn: 0.5562522\ttotal: 1.53s\tremaining: 557ms\n",
      "88:\tlearn: 0.5603882\ttotal: 1.55s\tremaining: 540ms\n",
      "89:\tlearn: 0.5604127\ttotal: 1.57s\tremaining: 523ms\n",
      "90:\tlearn: 0.5622822\ttotal: 1.59s\tremaining: 506ms\n",
      "91:\tlearn: 0.5625109\ttotal: 1.61s\tremaining: 489ms\n",
      "92:\tlearn: 0.5626251\ttotal: 1.62s\tremaining: 472ms\n",
      "93:\tlearn: 0.5633668\ttotal: 1.64s\tremaining: 454ms\n",
      "94:\tlearn: 0.5627773\ttotal: 1.67s\tremaining: 440ms\n",
      "95:\tlearn: 0.5634341\ttotal: 1.69s\tremaining: 422ms\n",
      "96:\tlearn: 0.5636948\ttotal: 1.71s\tremaining: 404ms\n",
      "97:\tlearn: 0.5639287\ttotal: 1.72s\tremaining: 387ms\n",
      "98:\tlearn: 0.5642295\ttotal: 1.74s\tremaining: 370ms\n",
      "99:\tlearn: 0.5647835\ttotal: 1.76s\tremaining: 352ms\n",
      "100:\tlearn: 0.5649590\ttotal: 1.78s\tremaining: 334ms\n",
      "101:\tlearn: 0.5651250\ttotal: 1.79s\tremaining: 317ms\n",
      "102:\tlearn: 0.5650232\ttotal: 1.81s\tremaining: 299ms\n",
      "103:\tlearn: 0.5651231\ttotal: 1.83s\tremaining: 281ms\n",
      "104:\tlearn: 0.5652834\ttotal: 1.85s\tremaining: 264ms\n",
      "105:\tlearn: 0.5653211\ttotal: 1.86s\tremaining: 246ms\n",
      "106:\tlearn: 0.5653343\ttotal: 1.88s\tremaining: 229ms\n",
      "107:\tlearn: 0.5653965\ttotal: 1.9s\tremaining: 211ms\n",
      "108:\tlearn: 0.5655585\ttotal: 1.92s\tremaining: 194ms\n",
      "109:\tlearn: 0.5655585\ttotal: 1.93s\tremaining: 175ms\n",
      "110:\tlearn: 0.5658465\ttotal: 1.95s\tremaining: 158ms\n",
      "111:\tlearn: 0.5654736\ttotal: 1.96s\tremaining: 140ms\n",
      "112:\tlearn: 0.5658237\ttotal: 1.98s\tremaining: 123ms\n",
      "113:\tlearn: 0.5656994\ttotal: 2s\tremaining: 105ms\n",
      "114:\tlearn: 0.5655376\ttotal: 2.02s\tremaining: 87.6ms\n",
      "115:\tlearn: 0.5655489\ttotal: 2.03s\tremaining: 70.2ms\n",
      "116:\tlearn: 0.5649762\ttotal: 2.05s\tremaining: 52.6ms\n",
      "117:\tlearn: 0.5650893\ttotal: 2.07s\tremaining: 35.1ms\n",
      "118:\tlearn: 0.5655471\ttotal: 2.09s\tremaining: 17.6ms\n",
      "119:\tlearn: 0.5654096\ttotal: 2.11s\tremaining: 0us\n",
      "[CV] END .........depth=7, iterations=120, learning_rate=0.1; total time=   3.8s\n",
      "0:\tlearn: 0.3446198\ttotal: 21.4ms\tremaining: 2.54s\n",
      "1:\tlearn: 0.3602287\ttotal: 39.4ms\tremaining: 2.33s\n",
      "2:\tlearn: 0.3582989\ttotal: 56.4ms\tremaining: 2.2s\n",
      "3:\tlearn: 0.3539844\ttotal: 72.8ms\tremaining: 2.11s\n",
      "4:\tlearn: 0.3539844\ttotal: 90.3ms\tremaining: 2.08s\n",
      "5:\tlearn: 0.3542572\ttotal: 108ms\tremaining: 2.06s\n",
      "6:\tlearn: 0.3520984\ttotal: 126ms\tremaining: 2.03s\n",
      "7:\tlearn: 0.3511058\ttotal: 135ms\tremaining: 1.9s\n",
      "8:\tlearn: 0.3510072\ttotal: 143ms\tremaining: 1.76s\n",
      "9:\tlearn: 0.3514159\ttotal: 164ms\tremaining: 1.8s\n",
      "10:\tlearn: 0.3514159\ttotal: 171ms\tremaining: 1.7s\n",
      "11:\tlearn: 0.3548445\ttotal: 188ms\tremaining: 1.7s\n",
      "12:\tlearn: 0.3613109\ttotal: 206ms\tremaining: 1.7s\n",
      "13:\tlearn: 0.3612470\ttotal: 223ms\tremaining: 1.69s\n",
      "14:\tlearn: 0.3700240\ttotal: 241ms\tremaining: 1.68s\n",
      "15:\tlearn: 0.3851682\ttotal: 258ms\tremaining: 1.68s\n",
      "16:\tlearn: 0.4178466\ttotal: 274ms\tremaining: 1.66s\n",
      "17:\tlearn: 0.4178466\ttotal: 281ms\tremaining: 1.59s\n",
      "18:\tlearn: 0.4925220\ttotal: 299ms\tremaining: 1.59s\n",
      "19:\tlearn: 0.4869076\ttotal: 316ms\tremaining: 1.58s\n",
      "20:\tlearn: 0.5119797\ttotal: 333ms\tremaining: 1.57s\n",
      "21:\tlearn: 0.5115164\ttotal: 352ms\tremaining: 1.57s\n",
      "22:\tlearn: 0.5100646\ttotal: 368ms\tremaining: 1.55s\n",
      "23:\tlearn: 0.5102512\ttotal: 379ms\tremaining: 1.52s\n",
      "24:\tlearn: 0.5094402\ttotal: 396ms\tremaining: 1.5s\n",
      "25:\tlearn: 0.5083072\ttotal: 413ms\tremaining: 1.49s\n",
      "26:\tlearn: 0.5126851\ttotal: 430ms\tremaining: 1.48s\n",
      "27:\tlearn: 0.5136705\ttotal: 446ms\tremaining: 1.47s\n",
      "28:\tlearn: 0.5211346\ttotal: 460ms\tremaining: 1.44s\n",
      "29:\tlearn: 0.5218161\ttotal: 478ms\tremaining: 1.43s\n",
      "30:\tlearn: 0.5293848\ttotal: 495ms\tremaining: 1.42s\n",
      "31:\tlearn: 0.5297635\ttotal: 511ms\tremaining: 1.41s\n",
      "32:\tlearn: 0.5296501\ttotal: 529ms\tremaining: 1.39s\n",
      "33:\tlearn: 0.5306066\ttotal: 546ms\tremaining: 1.38s\n",
      "34:\tlearn: 0.5323187\ttotal: 563ms\tremaining: 1.37s\n",
      "35:\tlearn: 0.5361613\ttotal: 579ms\tremaining: 1.35s\n",
      "36:\tlearn: 0.5377907\ttotal: 588ms\tremaining: 1.32s\n",
      "37:\tlearn: 0.5378915\ttotal: 605ms\tremaining: 1.3s\n",
      "38:\tlearn: 0.5455359\ttotal: 623ms\tremaining: 1.29s\n",
      "39:\tlearn: 0.5514015\ttotal: 641ms\tremaining: 1.28s\n",
      "40:\tlearn: 0.5514774\ttotal: 652ms\tremaining: 1.26s\n",
      "41:\tlearn: 0.5394367\ttotal: 671ms\tremaining: 1.25s\n",
      "42:\tlearn: 0.5395905\ttotal: 690ms\tremaining: 1.23s\n",
      "43:\tlearn: 0.5384790\ttotal: 706ms\tremaining: 1.22s\n",
      "44:\tlearn: 0.5385975\ttotal: 725ms\tremaining: 1.21s\n",
      "45:\tlearn: 0.5384860\ttotal: 742ms\tremaining: 1.19s\n",
      "46:\tlearn: 0.5412943\ttotal: 760ms\tremaining: 1.18s\n",
      "47:\tlearn: 0.5477104\ttotal: 777ms\tremaining: 1.17s\n",
      "48:\tlearn: 0.5493577\ttotal: 794ms\tremaining: 1.15s\n",
      "49:\tlearn: 0.5509317\ttotal: 811ms\tremaining: 1.13s\n",
      "50:\tlearn: 0.5506577\ttotal: 830ms\tremaining: 1.12s\n",
      "51:\tlearn: 0.5459440\ttotal: 848ms\tremaining: 1.11s\n",
      "52:\tlearn: 0.5440295\ttotal: 856ms\tremaining: 1.08s\n",
      "53:\tlearn: 0.5493253\ttotal: 874ms\tremaining: 1.07s\n",
      "54:\tlearn: 0.5523168\ttotal: 890ms\tremaining: 1.05s\n",
      "55:\tlearn: 0.5493528\ttotal: 907ms\tremaining: 1.04s\n",
      "56:\tlearn: 0.5526758\ttotal: 926ms\tremaining: 1.02s\n",
      "57:\tlearn: 0.5542179\ttotal: 935ms\tremaining: 1000ms\n",
      "58:\tlearn: 0.5536384\ttotal: 958ms\tremaining: 990ms\n",
      "59:\tlearn: 0.5539778\ttotal: 979ms\tremaining: 979ms\n",
      "60:\tlearn: 0.5547361\ttotal: 999ms\tremaining: 966ms\n",
      "61:\tlearn: 0.5532404\ttotal: 1.02s\tremaining: 953ms\n",
      "62:\tlearn: 0.5552076\ttotal: 1.04s\tremaining: 943ms\n",
      "63:\tlearn: 0.5534781\ttotal: 1.06s\tremaining: 931ms\n",
      "64:\tlearn: 0.5534234\ttotal: 1.08s\tremaining: 918ms\n",
      "65:\tlearn: 0.5536948\ttotal: 1.1s\tremaining: 905ms\n",
      "66:\tlearn: 0.5566349\ttotal: 1.13s\tremaining: 892ms\n",
      "67:\tlearn: 0.5568496\ttotal: 1.15s\tremaining: 879ms\n",
      "68:\tlearn: 0.5568741\ttotal: 1.16s\tremaining: 856ms\n",
      "69:\tlearn: 0.5568741\ttotal: 1.17s\tremaining: 835ms\n",
      "70:\tlearn: 0.5554135\ttotal: 1.2s\tremaining: 829ms\n",
      "71:\tlearn: 0.5551875\ttotal: 1.23s\tremaining: 820ms\n",
      "72:\tlearn: 0.5551875\ttotal: 1.24s\tremaining: 799ms\n",
      "73:\tlearn: 0.5579192\ttotal: 1.27s\tremaining: 790ms\n",
      "74:\tlearn: 0.5580457\ttotal: 1.29s\tremaining: 773ms\n",
      "75:\tlearn: 0.5580457\ttotal: 1.29s\tremaining: 750ms\n",
      "76:\tlearn: 0.5586020\ttotal: 1.31s\tremaining: 733ms\n",
      "77:\tlearn: 0.5586020\ttotal: 1.33s\tremaining: 714ms\n",
      "78:\tlearn: 0.5605029\ttotal: 1.34s\tremaining: 697ms\n",
      "79:\tlearn: 0.5603075\ttotal: 1.36s\tremaining: 681ms\n",
      "80:\tlearn: 0.5645273\ttotal: 1.38s\tremaining: 663ms\n",
      "81:\tlearn: 0.5642873\ttotal: 1.4s\tremaining: 647ms\n",
      "82:\tlearn: 0.5647967\ttotal: 1.41s\tremaining: 630ms\n",
      "83:\tlearn: 0.5647967\ttotal: 1.42s\tremaining: 608ms\n",
      "84:\tlearn: 0.5632479\ttotal: 1.44s\tremaining: 592ms\n",
      "85:\tlearn: 0.5632234\ttotal: 1.45s\tremaining: 573ms\n",
      "86:\tlearn: 0.5633214\ttotal: 1.47s\tremaining: 557ms\n",
      "87:\tlearn: 0.5627015\ttotal: 1.49s\tremaining: 541ms\n",
      "88:\tlearn: 0.5654550\ttotal: 1.51s\tremaining: 525ms\n",
      "89:\tlearn: 0.5651683\ttotal: 1.52s\tremaining: 506ms\n",
      "90:\tlearn: 0.5646793\ttotal: 1.54s\tremaining: 490ms\n",
      "91:\tlearn: 0.5640647\ttotal: 1.55s\tremaining: 471ms\n",
      "92:\tlearn: 0.5647130\ttotal: 1.57s\tremaining: 455ms\n",
      "93:\tlearn: 0.5638931\ttotal: 1.58s\tremaining: 438ms\n",
      "94:\tlearn: 0.5665020\ttotal: 1.6s\tremaining: 421ms\n",
      "95:\tlearn: 0.5665627\ttotal: 1.62s\tremaining: 405ms\n",
      "96:\tlearn: 0.5664990\ttotal: 1.64s\tremaining: 388ms\n",
      "97:\tlearn: 0.5664239\ttotal: 1.64s\tremaining: 369ms\n",
      "98:\tlearn: 0.5664239\ttotal: 1.65s\tremaining: 351ms\n",
      "99:\tlearn: 0.5664730\ttotal: 1.67s\tremaining: 334ms\n",
      "100:\tlearn: 0.5667086\ttotal: 1.69s\tremaining: 318ms\n",
      "101:\tlearn: 0.5664961\ttotal: 1.71s\tremaining: 302ms\n",
      "102:\tlearn: 0.5664369\ttotal: 1.73s\tremaining: 286ms\n",
      "103:\tlearn: 0.5666132\ttotal: 1.75s\tremaining: 269ms\n",
      "104:\tlearn: 0.5680729\ttotal: 1.76s\tremaining: 252ms\n",
      "105:\tlearn: 0.5679236\ttotal: 1.78s\tremaining: 235ms\n",
      "106:\tlearn: 0.5680846\ttotal: 1.81s\tremaining: 220ms\n",
      "107:\tlearn: 0.5679727\ttotal: 1.83s\tremaining: 203ms\n",
      "108:\tlearn: 0.5683820\ttotal: 1.86s\tremaining: 187ms\n",
      "109:\tlearn: 0.5680816\ttotal: 1.89s\tremaining: 172ms\n",
      "110:\tlearn: 0.5682673\ttotal: 1.92s\tremaining: 155ms\n",
      "111:\tlearn: 0.5677117\ttotal: 1.93s\tremaining: 138ms\n",
      "112:\tlearn: 0.5676261\ttotal: 1.95s\tremaining: 121ms\n",
      "113:\tlearn: 0.5674761\ttotal: 1.97s\tremaining: 104ms\n",
      "114:\tlearn: 0.5675887\ttotal: 1.99s\tremaining: 86.3ms\n",
      "115:\tlearn: 0.5705062\ttotal: 2s\tremaining: 69ms\n",
      "116:\tlearn: 0.5704816\ttotal: 2.02s\tremaining: 51.8ms\n",
      "117:\tlearn: 0.5706047\ttotal: 2.04s\tremaining: 34.6ms\n",
      "118:\tlearn: 0.5705308\ttotal: 2.06s\tremaining: 17.3ms\n",
      "119:\tlearn: 0.5696410\ttotal: 2.08s\tremaining: 0us\n",
      "[CV] END .........depth=7, iterations=120, learning_rate=0.1; total time=   3.3s\n",
      "0:\tlearn: 0.3522564\ttotal: 20.5ms\tremaining: 2.44s\n",
      "1:\tlearn: 0.3610848\ttotal: 37.6ms\tremaining: 2.22s\n",
      "2:\tlearn: 0.3673062\ttotal: 55.1ms\tremaining: 2.15s\n",
      "3:\tlearn: 0.3636686\ttotal: 74.2ms\tremaining: 2.15s\n",
      "4:\tlearn: 0.3555423\ttotal: 86.9ms\tremaining: 2s\n",
      "5:\tlearn: 0.3571684\ttotal: 104ms\tremaining: 1.97s\n",
      "6:\tlearn: 0.3635398\ttotal: 121ms\tremaining: 1.95s\n",
      "7:\tlearn: 0.3647517\ttotal: 140ms\tremaining: 1.96s\n",
      "8:\tlearn: 0.3671236\ttotal: 157ms\tremaining: 1.94s\n",
      "9:\tlearn: 0.3668688\ttotal: 166ms\tremaining: 1.83s\n",
      "10:\tlearn: 0.3662602\ttotal: 179ms\tremaining: 1.77s\n",
      "11:\tlearn: 0.3656079\ttotal: 194ms\tremaining: 1.74s\n",
      "12:\tlearn: 0.3984489\ttotal: 211ms\tremaining: 1.74s\n",
      "13:\tlearn: 0.3914377\ttotal: 229ms\tremaining: 1.74s\n",
      "14:\tlearn: 0.3918789\ttotal: 251ms\tremaining: 1.76s\n",
      "15:\tlearn: 0.3919723\ttotal: 264ms\tremaining: 1.71s\n",
      "16:\tlearn: 0.3925922\ttotal: 274ms\tremaining: 1.66s\n",
      "17:\tlearn: 0.4536555\ttotal: 293ms\tremaining: 1.66s\n",
      "18:\tlearn: 0.4807356\ttotal: 310ms\tremaining: 1.65s\n",
      "19:\tlearn: 0.4966489\ttotal: 326ms\tremaining: 1.63s\n",
      "20:\tlearn: 0.4994194\ttotal: 342ms\tremaining: 1.61s\n",
      "21:\tlearn: 0.4993949\ttotal: 358ms\tremaining: 1.59s\n",
      "22:\tlearn: 0.5049662\ttotal: 370ms\tremaining: 1.56s\n",
      "23:\tlearn: 0.5079517\ttotal: 386ms\tremaining: 1.54s\n",
      "24:\tlearn: 0.5083079\ttotal: 402ms\tremaining: 1.53s\n",
      "25:\tlearn: 0.5142884\ttotal: 419ms\tremaining: 1.51s\n",
      "26:\tlearn: 0.5155888\ttotal: 435ms\tremaining: 1.5s\n",
      "27:\tlearn: 0.5191449\ttotal: 452ms\tremaining: 1.49s\n",
      "28:\tlearn: 0.5254040\ttotal: 469ms\tremaining: 1.47s\n",
      "29:\tlearn: 0.5277172\ttotal: 490ms\tremaining: 1.47s\n",
      "30:\tlearn: 0.5315954\ttotal: 507ms\tremaining: 1.46s\n",
      "31:\tlearn: 0.5351623\ttotal: 523ms\tremaining: 1.44s\n",
      "32:\tlearn: 0.5354647\ttotal: 541ms\tremaining: 1.43s\n",
      "33:\tlearn: 0.5360157\ttotal: 556ms\tremaining: 1.41s\n",
      "34:\tlearn: 0.5395974\ttotal: 579ms\tremaining: 1.41s\n",
      "35:\tlearn: 0.5402419\ttotal: 597ms\tremaining: 1.39s\n",
      "36:\tlearn: 0.5410370\ttotal: 619ms\tremaining: 1.39s\n",
      "37:\tlearn: 0.5447429\ttotal: 636ms\tremaining: 1.37s\n",
      "38:\tlearn: 0.5442770\ttotal: 654ms\tremaining: 1.36s\n",
      "39:\tlearn: 0.5463677\ttotal: 673ms\tremaining: 1.35s\n",
      "40:\tlearn: 0.5471960\ttotal: 692ms\tremaining: 1.33s\n",
      "41:\tlearn: 0.5509051\ttotal: 711ms\tremaining: 1.32s\n",
      "42:\tlearn: 0.5512798\ttotal: 730ms\tremaining: 1.31s\n",
      "43:\tlearn: 0.5492348\ttotal: 749ms\tremaining: 1.29s\n",
      "44:\tlearn: 0.5512098\ttotal: 767ms\tremaining: 1.28s\n",
      "45:\tlearn: 0.5484332\ttotal: 787ms\tremaining: 1.26s\n",
      "46:\tlearn: 0.5487832\ttotal: 807ms\tremaining: 1.25s\n",
      "47:\tlearn: 0.5487461\ttotal: 824ms\tremaining: 1.24s\n",
      "48:\tlearn: 0.5491928\ttotal: 841ms\tremaining: 1.22s\n",
      "49:\tlearn: 0.5491770\ttotal: 852ms\tremaining: 1.19s\n",
      "50:\tlearn: 0.5490651\ttotal: 872ms\tremaining: 1.18s\n",
      "51:\tlearn: 0.5500869\ttotal: 890ms\tremaining: 1.16s\n",
      "52:\tlearn: 0.5497859\ttotal: 907ms\tremaining: 1.15s\n",
      "53:\tlearn: 0.5500357\ttotal: 925ms\tremaining: 1.13s\n",
      "54:\tlearn: 0.5526911\ttotal: 943ms\tremaining: 1.11s\n",
      "55:\tlearn: 0.5503499\ttotal: 961ms\tremaining: 1.1s\n",
      "56:\tlearn: 0.5530952\ttotal: 979ms\tremaining: 1.08s\n",
      "57:\tlearn: 0.5530952\ttotal: 987ms\tremaining: 1.05s\n",
      "58:\tlearn: 0.5531140\ttotal: 1s\tremaining: 1.04s\n",
      "59:\tlearn: 0.5529177\ttotal: 1.02s\tremaining: 1.02s\n",
      "60:\tlearn: 0.5529177\ttotal: 1.04s\tremaining: 1s\n",
      "61:\tlearn: 0.5528289\ttotal: 1.06s\tremaining: 991ms\n",
      "62:\tlearn: 0.5524867\ttotal: 1.08s\tremaining: 979ms\n",
      "63:\tlearn: 0.5540505\ttotal: 1.1s\tremaining: 967ms\n",
      "64:\tlearn: 0.5534140\ttotal: 1.12s\tremaining: 950ms\n",
      "65:\tlearn: 0.5534931\ttotal: 1.14s\tremaining: 933ms\n",
      "66:\tlearn: 0.5548770\ttotal: 1.16s\tremaining: 915ms\n",
      "67:\tlearn: 0.5551132\ttotal: 1.17s\tremaining: 898ms\n",
      "68:\tlearn: 0.5554818\ttotal: 1.19s\tremaining: 880ms\n",
      "69:\tlearn: 0.5555064\ttotal: 1.2s\tremaining: 857ms\n",
      "70:\tlearn: 0.5566217\ttotal: 1.22s\tremaining: 840ms\n",
      "71:\tlearn: 0.5568569\ttotal: 1.23s\tremaining: 822ms\n",
      "72:\tlearn: 0.5568569\ttotal: 1.24s\tremaining: 801ms\n",
      "73:\tlearn: 0.5568614\ttotal: 1.26s\tremaining: 785ms\n",
      "74:\tlearn: 0.5568815\ttotal: 1.28s\tremaining: 769ms\n",
      "75:\tlearn: 0.5575827\ttotal: 1.3s\tremaining: 751ms\n",
      "76:\tlearn: 0.5582976\ttotal: 1.31s\tremaining: 734ms\n",
      "77:\tlearn: 0.5588352\ttotal: 1.33s\tremaining: 718ms\n",
      "78:\tlearn: 0.5590117\ttotal: 1.35s\tremaining: 701ms\n",
      "79:\tlearn: 0.5590117\ttotal: 1.36s\tremaining: 682ms\n",
      "80:\tlearn: 0.5602500\ttotal: 1.38s\tremaining: 665ms\n",
      "81:\tlearn: 0.5605348\ttotal: 1.4s\tremaining: 647ms\n",
      "82:\tlearn: 0.5605594\ttotal: 1.4s\tremaining: 626ms\n",
      "83:\tlearn: 0.5651662\ttotal: 1.42s\tremaining: 609ms\n",
      "84:\tlearn: 0.5610935\ttotal: 1.44s\tremaining: 593ms\n",
      "85:\tlearn: 0.5613881\ttotal: 1.47s\tremaining: 582ms\n",
      "86:\tlearn: 0.5614020\ttotal: 1.48s\tremaining: 563ms\n",
      "87:\tlearn: 0.5619682\ttotal: 1.5s\tremaining: 546ms\n",
      "88:\tlearn: 0.5619073\ttotal: 1.52s\tremaining: 529ms\n",
      "89:\tlearn: 0.5619102\ttotal: 1.53s\tremaining: 509ms\n",
      "90:\tlearn: 0.5646083\ttotal: 1.54s\tremaining: 493ms\n",
      "91:\tlearn: 0.5657620\ttotal: 1.56s\tremaining: 476ms\n",
      "92:\tlearn: 0.5657620\ttotal: 1.57s\tremaining: 457ms\n",
      "93:\tlearn: 0.5657242\ttotal: 1.59s\tremaining: 440ms\n",
      "94:\tlearn: 0.5656829\ttotal: 1.61s\tremaining: 423ms\n",
      "95:\tlearn: 0.5668956\ttotal: 1.63s\tremaining: 406ms\n",
      "96:\tlearn: 0.5670565\ttotal: 1.64s\tremaining: 390ms\n",
      "97:\tlearn: 0.5669825\ttotal: 1.66s\tremaining: 372ms\n",
      "98:\tlearn: 0.5671071\ttotal: 1.67s\tremaining: 355ms\n",
      "99:\tlearn: 0.5667826\ttotal: 1.69s\tremaining: 338ms\n",
      "100:\tlearn: 0.5669449\ttotal: 1.71s\tremaining: 321ms\n",
      "101:\tlearn: 0.5708493\ttotal: 1.72s\tremaining: 304ms\n",
      "102:\tlearn: 0.5708247\ttotal: 1.74s\tremaining: 287ms\n",
      "103:\tlearn: 0.5711082\ttotal: 1.76s\tremaining: 271ms\n",
      "104:\tlearn: 0.5704411\ttotal: 1.78s\tremaining: 254ms\n",
      "105:\tlearn: 0.5705275\ttotal: 1.8s\tremaining: 237ms\n",
      "106:\tlearn: 0.5709723\ttotal: 1.81s\tremaining: 220ms\n",
      "107:\tlearn: 0.5709722\ttotal: 1.83s\tremaining: 203ms\n",
      "108:\tlearn: 0.5710832\ttotal: 1.85s\tremaining: 187ms\n",
      "109:\tlearn: 0.5715149\ttotal: 1.87s\tremaining: 170ms\n",
      "110:\tlearn: 0.5713053\ttotal: 1.89s\tremaining: 153ms\n",
      "111:\tlearn: 0.5712559\ttotal: 1.9s\tremaining: 136ms\n",
      "112:\tlearn: 0.5714039\ttotal: 1.92s\tremaining: 119ms\n",
      "113:\tlearn: 0.5710217\ttotal: 1.94s\tremaining: 102ms\n",
      "114:\tlearn: 0.5709725\ttotal: 1.96s\tremaining: 85.2ms\n",
      "115:\tlearn: 0.5712436\ttotal: 1.98s\tremaining: 68.2ms\n",
      "116:\tlearn: 0.5719335\ttotal: 2s\tremaining: 51.2ms\n",
      "117:\tlearn: 0.5721179\ttotal: 2.01s\tremaining: 34.1ms\n",
      "118:\tlearn: 0.5721301\ttotal: 2.03s\tremaining: 17.1ms\n",
      "119:\tlearn: 0.5728673\ttotal: 2.05s\tremaining: 0us\n",
      "[CV] END .........depth=7, iterations=120, learning_rate=0.1; total time=   3.7s\n",
      "0:\tlearn: 0.3623988\ttotal: 21.1ms\tremaining: 2.5s\n",
      "1:\tlearn: 0.3499581\ttotal: 28.6ms\tremaining: 1.69s\n",
      "2:\tlearn: 0.3464520\ttotal: 46ms\tremaining: 1.79s\n",
      "3:\tlearn: 0.3464520\ttotal: 57.7ms\tremaining: 1.67s\n",
      "4:\tlearn: 0.3464520\ttotal: 77.1ms\tremaining: 1.77s\n",
      "5:\tlearn: 0.3464520\ttotal: 92.2ms\tremaining: 1.75s\n",
      "6:\tlearn: 0.3464520\ttotal: 109ms\tremaining: 1.76s\n",
      "7:\tlearn: 0.3463526\ttotal: 125ms\tremaining: 1.76s\n",
      "8:\tlearn: 0.3466667\ttotal: 142ms\tremaining: 1.75s\n",
      "9:\tlearn: 0.3511997\ttotal: 160ms\tremaining: 1.76s\n",
      "10:\tlearn: 0.3511997\ttotal: 168ms\tremaining: 1.66s\n",
      "11:\tlearn: 0.3511788\ttotal: 181ms\tremaining: 1.63s\n",
      "12:\tlearn: 0.3520992\ttotal: 199ms\tremaining: 1.64s\n",
      "13:\tlearn: 0.3494495\ttotal: 209ms\tremaining: 1.58s\n",
      "14:\tlearn: 0.3513401\ttotal: 224ms\tremaining: 1.57s\n",
      "15:\tlearn: 0.3743545\ttotal: 242ms\tremaining: 1.57s\n",
      "16:\tlearn: 0.4106259\ttotal: 258ms\tremaining: 1.56s\n",
      "17:\tlearn: 0.4547327\ttotal: 278ms\tremaining: 1.58s\n",
      "18:\tlearn: 0.4758597\ttotal: 296ms\tremaining: 1.57s\n",
      "19:\tlearn: 0.4867606\ttotal: 314ms\tremaining: 1.57s\n",
      "20:\tlearn: 0.4886208\ttotal: 331ms\tremaining: 1.56s\n",
      "21:\tlearn: 0.4930623\ttotal: 347ms\tremaining: 1.55s\n",
      "22:\tlearn: 0.5182478\ttotal: 364ms\tremaining: 1.53s\n",
      "23:\tlearn: 0.5282792\ttotal: 381ms\tremaining: 1.52s\n",
      "24:\tlearn: 0.5308676\ttotal: 398ms\tremaining: 1.51s\n",
      "25:\tlearn: 0.5366231\ttotal: 415ms\tremaining: 1.5s\n",
      "26:\tlearn: 0.5404551\ttotal: 432ms\tremaining: 1.49s\n",
      "27:\tlearn: 0.5635677\ttotal: 450ms\tremaining: 1.48s\n",
      "28:\tlearn: 0.5641817\ttotal: 461ms\tremaining: 1.45s\n",
      "29:\tlearn: 0.5584065\ttotal: 477ms\tremaining: 1.43s\n",
      "30:\tlearn: 0.5615934\ttotal: 496ms\tremaining: 1.42s\n",
      "31:\tlearn: 0.5618182\ttotal: 513ms\tremaining: 1.41s\n",
      "32:\tlearn: 0.5660021\ttotal: 530ms\tremaining: 1.4s\n",
      "33:\tlearn: 0.5640074\ttotal: 548ms\tremaining: 1.39s\n",
      "34:\tlearn: 0.5640959\ttotal: 562ms\tremaining: 1.36s\n",
      "35:\tlearn: 0.5655202\ttotal: 579ms\tremaining: 1.35s\n",
      "36:\tlearn: 0.5653896\ttotal: 588ms\tremaining: 1.32s\n",
      "37:\tlearn: 0.5647881\ttotal: 599ms\tremaining: 1.29s\n",
      "38:\tlearn: 0.5459362\ttotal: 606ms\tremaining: 1.26s\n",
      "39:\tlearn: 0.5671142\ttotal: 623ms\tremaining: 1.25s\n",
      "40:\tlearn: 0.5574476\ttotal: 640ms\tremaining: 1.23s\n",
      "41:\tlearn: 0.5683373\ttotal: 658ms\tremaining: 1.22s\n",
      "42:\tlearn: 0.5699641\ttotal: 675ms\tremaining: 1.21s\n",
      "43:\tlearn: 0.5756221\ttotal: 691ms\tremaining: 1.19s\n",
      "44:\tlearn: 0.5754176\ttotal: 707ms\tremaining: 1.18s\n",
      "45:\tlearn: 0.5756591\ttotal: 724ms\tremaining: 1.16s\n",
      "46:\tlearn: 0.5763997\ttotal: 741ms\tremaining: 1.15s\n",
      "47:\tlearn: 0.5766319\ttotal: 758ms\tremaining: 1.14s\n",
      "48:\tlearn: 0.5764310\ttotal: 776ms\tremaining: 1.12s\n",
      "49:\tlearn: 0.5764939\ttotal: 793ms\tremaining: 1.11s\n",
      "50:\tlearn: 0.5764582\ttotal: 809ms\tremaining: 1.09s\n",
      "51:\tlearn: 0.5768276\ttotal: 820ms\tremaining: 1.07s\n",
      "52:\tlearn: 0.5772641\ttotal: 840ms\tremaining: 1.06s\n",
      "53:\tlearn: 0.5770541\ttotal: 865ms\tremaining: 1.06s\n",
      "54:\tlearn: 0.5770541\ttotal: 879ms\tremaining: 1.04s\n",
      "55:\tlearn: 0.5776079\ttotal: 897ms\tremaining: 1.02s\n",
      "56:\tlearn: 0.5771897\ttotal: 915ms\tremaining: 1.01s\n",
      "57:\tlearn: 0.5776658\ttotal: 932ms\tremaining: 997ms\n",
      "58:\tlearn: 0.5771671\ttotal: 949ms\tremaining: 981ms\n",
      "59:\tlearn: 0.5774612\ttotal: 966ms\tremaining: 966ms\n",
      "60:\tlearn: 0.5726237\ttotal: 983ms\tremaining: 951ms\n",
      "61:\tlearn: 0.5728429\ttotal: 1s\tremaining: 936ms\n",
      "62:\tlearn: 0.5729162\ttotal: 1.01s\tremaining: 914ms\n",
      "63:\tlearn: 0.5723077\ttotal: 1.03s\tremaining: 900ms\n",
      "64:\tlearn: 0.5727832\ttotal: 1.04s\tremaining: 884ms\n",
      "65:\tlearn: 0.5727832\ttotal: 1.05s\tremaining: 863ms\n",
      "66:\tlearn: 0.5730999\ttotal: 1.07s\tremaining: 848ms\n",
      "67:\tlearn: 0.5732207\ttotal: 1.08s\tremaining: 827ms\n",
      "68:\tlearn: 0.5732207\ttotal: 1.09s\tremaining: 809ms\n",
      "69:\tlearn: 0.5734284\ttotal: 1.11s\tremaining: 794ms\n",
      "70:\tlearn: 0.5736110\ttotal: 1.13s\tremaining: 779ms\n",
      "71:\tlearn: 0.5736229\ttotal: 1.14s\tremaining: 758ms\n",
      "72:\tlearn: 0.5737069\ttotal: 1.16s\tremaining: 744ms\n",
      "73:\tlearn: 0.5737181\ttotal: 1.17s\tremaining: 730ms\n",
      "74:\tlearn: 0.5737181\ttotal: 1.18s\tremaining: 709ms\n",
      "75:\tlearn: 0.5737181\ttotal: 1.19s\tremaining: 687ms\n",
      "76:\tlearn: 0.5758398\ttotal: 1.21s\tremaining: 673ms\n",
      "77:\tlearn: 0.5770306\ttotal: 1.22s\tremaining: 659ms\n",
      "78:\tlearn: 0.5769573\ttotal: 1.23s\tremaining: 641ms\n",
      "79:\tlearn: 0.5769084\ttotal: 1.25s\tremaining: 623ms\n",
      "80:\tlearn: 0.5769084\ttotal: 1.26s\tremaining: 605ms\n",
      "81:\tlearn: 0.5769084\ttotal: 1.26s\tremaining: 586ms\n",
      "82:\tlearn: 0.5782063\ttotal: 1.28s\tremaining: 571ms\n",
      "83:\tlearn: 0.5782063\ttotal: 1.29s\tremaining: 552ms\n",
      "84:\tlearn: 0.5762453\ttotal: 1.31s\tremaining: 538ms\n",
      "85:\tlearn: 0.5752107\ttotal: 1.32s\tremaining: 524ms\n",
      "86:\tlearn: 0.5755139\ttotal: 1.34s\tremaining: 509ms\n",
      "87:\tlearn: 0.5755861\ttotal: 1.36s\tremaining: 495ms\n",
      "88:\tlearn: 0.5760306\ttotal: 1.38s\tremaining: 479ms\n",
      "89:\tlearn: 0.5766491\ttotal: 1.39s\tremaining: 464ms\n",
      "90:\tlearn: 0.5766913\ttotal: 1.41s\tremaining: 449ms\n",
      "91:\tlearn: 0.5767517\ttotal: 1.43s\tremaining: 435ms\n",
      "92:\tlearn: 0.5790873\ttotal: 1.45s\tremaining: 420ms\n",
      "93:\tlearn: 0.5791385\ttotal: 1.46s\tremaining: 405ms\n",
      "94:\tlearn: 0.5779300\ttotal: 1.48s\tremaining: 390ms\n",
      "95:\tlearn: 0.5769100\ttotal: 1.5s\tremaining: 374ms\n",
      "96:\tlearn: 0.5772330\ttotal: 1.51s\tremaining: 359ms\n",
      "97:\tlearn: 0.5777119\ttotal: 1.53s\tremaining: 344ms\n",
      "98:\tlearn: 0.5782949\ttotal: 1.55s\tremaining: 329ms\n",
      "99:\tlearn: 0.5785264\ttotal: 1.57s\tremaining: 313ms\n",
      "100:\tlearn: 0.5785621\ttotal: 1.58s\tremaining: 298ms\n",
      "101:\tlearn: 0.5786824\ttotal: 1.59s\tremaining: 281ms\n",
      "102:\tlearn: 0.5784600\ttotal: 1.61s\tremaining: 266ms\n",
      "103:\tlearn: 0.5780523\ttotal: 1.63s\tremaining: 251ms\n",
      "104:\tlearn: 0.5781349\ttotal: 1.65s\tremaining: 235ms\n",
      "105:\tlearn: 0.5785663\ttotal: 1.66s\tremaining: 220ms\n",
      "106:\tlearn: 0.5791186\ttotal: 1.68s\tremaining: 204ms\n",
      "107:\tlearn: 0.5792544\ttotal: 1.7s\tremaining: 189ms\n",
      "108:\tlearn: 0.5790853\ttotal: 1.72s\tremaining: 174ms\n",
      "109:\tlearn: 0.5793121\ttotal: 1.74s\tremaining: 158ms\n",
      "110:\tlearn: 0.5791809\ttotal: 1.75s\tremaining: 142ms\n",
      "111:\tlearn: 0.5784152\ttotal: 1.77s\tremaining: 127ms\n",
      "112:\tlearn: 0.5793162\ttotal: 1.79s\tremaining: 111ms\n",
      "113:\tlearn: 0.5801392\ttotal: 1.81s\tremaining: 95.2ms\n",
      "114:\tlearn: 0.5800928\ttotal: 1.83s\tremaining: 79.4ms\n",
      "115:\tlearn: 0.5802370\ttotal: 1.84s\tremaining: 63.6ms\n",
      "116:\tlearn: 0.5802126\ttotal: 1.86s\tremaining: 47.8ms\n",
      "117:\tlearn: 0.5799646\ttotal: 1.88s\tremaining: 31.9ms\n",
      "118:\tlearn: 0.5801746\ttotal: 1.91s\tremaining: 16ms\n",
      "119:\tlearn: 0.5808302\ttotal: 1.92s\tremaining: 0us\n",
      "[CV] END .........depth=7, iterations=120, learning_rate=0.1; total time=   3.2s\n",
      "0:\tlearn: 0.3444211\ttotal: 10.8ms\tremaining: 1.29s\n",
      "1:\tlearn: 0.3607926\ttotal: 30.4ms\tremaining: 1.79s\n",
      "2:\tlearn: 0.3491266\ttotal: 45.5ms\tremaining: 1.77s\n",
      "3:\tlearn: 0.3486744\ttotal: 66.5ms\tremaining: 1.93s\n",
      "4:\tlearn: 0.3486744\ttotal: 77.7ms\tremaining: 1.79s\n",
      "5:\tlearn: 0.3491057\ttotal: 86.9ms\tremaining: 1.65s\n",
      "6:\tlearn: 0.3491266\ttotal: 104ms\tremaining: 1.68s\n",
      "7:\tlearn: 0.3491266\ttotal: 122ms\tremaining: 1.71s\n",
      "8:\tlearn: 0.3491266\ttotal: 134ms\tremaining: 1.65s\n",
      "9:\tlearn: 0.3492045\ttotal: 151ms\tremaining: 1.66s\n",
      "10:\tlearn: 0.3491057\ttotal: 163ms\tremaining: 1.62s\n",
      "11:\tlearn: 0.3492045\ttotal: 172ms\tremaining: 1.55s\n",
      "12:\tlearn: 0.3492045\ttotal: 190ms\tremaining: 1.56s\n",
      "13:\tlearn: 0.3492045\ttotal: 209ms\tremaining: 1.58s\n",
      "14:\tlearn: 0.3507578\ttotal: 226ms\tremaining: 1.58s\n",
      "15:\tlearn: 0.3528642\ttotal: 237ms\tremaining: 1.54s\n",
      "16:\tlearn: 0.3793441\ttotal: 256ms\tremaining: 1.55s\n",
      "17:\tlearn: 0.4734104\ttotal: 272ms\tremaining: 1.54s\n",
      "18:\tlearn: 0.4844886\ttotal: 289ms\tremaining: 1.54s\n",
      "19:\tlearn: 0.4868759\ttotal: 308ms\tremaining: 1.54s\n",
      "20:\tlearn: 0.4918017\ttotal: 325ms\tremaining: 1.53s\n",
      "21:\tlearn: 0.4918017\ttotal: 333ms\tremaining: 1.48s\n",
      "22:\tlearn: 0.5006528\ttotal: 350ms\tremaining: 1.48s\n",
      "23:\tlearn: 0.5084374\ttotal: 367ms\tremaining: 1.47s\n",
      "24:\tlearn: 0.5092103\ttotal: 384ms\tremaining: 1.46s\n",
      "25:\tlearn: 0.5106484\ttotal: 402ms\tremaining: 1.45s\n",
      "26:\tlearn: 0.5106788\ttotal: 412ms\tremaining: 1.42s\n",
      "27:\tlearn: 0.5146016\ttotal: 429ms\tremaining: 1.41s\n",
      "28:\tlearn: 0.5144315\ttotal: 446ms\tremaining: 1.4s\n",
      "29:\tlearn: 0.5170042\ttotal: 462ms\tremaining: 1.39s\n",
      "30:\tlearn: 0.5179050\ttotal: 479ms\tremaining: 1.37s\n",
      "31:\tlearn: 0.5194671\ttotal: 495ms\tremaining: 1.36s\n",
      "32:\tlearn: 0.5195720\ttotal: 513ms\tremaining: 1.35s\n",
      "33:\tlearn: 0.5211565\ttotal: 529ms\tremaining: 1.34s\n",
      "34:\tlearn: 0.5232623\ttotal: 545ms\tremaining: 1.32s\n",
      "35:\tlearn: 0.5241161\ttotal: 552ms\tremaining: 1.29s\n",
      "36:\tlearn: 0.5246681\ttotal: 569ms\tremaining: 1.27s\n",
      "37:\tlearn: 0.5260419\ttotal: 586ms\tremaining: 1.26s\n",
      "38:\tlearn: 0.5257775\ttotal: 603ms\tremaining: 1.25s\n",
      "39:\tlearn: 0.5256154\ttotal: 620ms\tremaining: 1.24s\n",
      "40:\tlearn: 0.5253014\ttotal: 632ms\tremaining: 1.22s\n",
      "41:\tlearn: 0.5269367\ttotal: 650ms\tremaining: 1.21s\n",
      "42:\tlearn: 0.5290466\ttotal: 667ms\tremaining: 1.19s\n",
      "43:\tlearn: 0.5307536\ttotal: 684ms\tremaining: 1.18s\n",
      "44:\tlearn: 0.5316479\ttotal: 702ms\tremaining: 1.17s\n",
      "45:\tlearn: 0.5312096\ttotal: 720ms\tremaining: 1.16s\n",
      "46:\tlearn: 0.5316105\ttotal: 729ms\tremaining: 1.13s\n",
      "47:\tlearn: 0.5377199\ttotal: 745ms\tremaining: 1.12s\n",
      "48:\tlearn: 0.5379241\ttotal: 762ms\tremaining: 1.1s\n",
      "49:\tlearn: 0.5378995\ttotal: 770ms\tremaining: 1.08s\n",
      "50:\tlearn: 0.5376884\ttotal: 788ms\tremaining: 1.06s\n",
      "51:\tlearn: 0.5384651\ttotal: 805ms\tremaining: 1.05s\n",
      "52:\tlearn: 0.5388648\ttotal: 825ms\tremaining: 1.04s\n",
      "53:\tlearn: 0.5386440\ttotal: 842ms\tremaining: 1.03s\n",
      "54:\tlearn: 0.5392470\ttotal: 861ms\tremaining: 1.02s\n",
      "55:\tlearn: 0.5431518\ttotal: 870ms\tremaining: 994ms\n",
      "56:\tlearn: 0.5426399\ttotal: 889ms\tremaining: 983ms\n",
      "57:\tlearn: 0.5428222\ttotal: 908ms\tremaining: 970ms\n",
      "58:\tlearn: 0.5429942\ttotal: 926ms\tremaining: 957ms\n",
      "59:\tlearn: 0.5447165\ttotal: 944ms\tremaining: 944ms\n",
      "60:\tlearn: 0.5445937\ttotal: 960ms\tremaining: 929ms\n",
      "61:\tlearn: 0.5451760\ttotal: 979ms\tremaining: 916ms\n",
      "62:\tlearn: 0.5449132\ttotal: 997ms\tremaining: 902ms\n",
      "63:\tlearn: 0.5451760\ttotal: 1.01s\tremaining: 888ms\n",
      "64:\tlearn: 0.5457818\ttotal: 1.03s\tremaining: 874ms\n",
      "65:\tlearn: 0.5457327\ttotal: 1.04s\tremaining: 852ms\n",
      "66:\tlearn: 0.5461909\ttotal: 1.05s\tremaining: 831ms\n",
      "67:\tlearn: 0.5470707\ttotal: 1.07s\tremaining: 817ms\n",
      "68:\tlearn: 0.5475688\ttotal: 1.08s\tremaining: 803ms\n",
      "69:\tlearn: 0.5482497\ttotal: 1.1s\tremaining: 788ms\n",
      "70:\tlearn: 0.5486702\ttotal: 1.12s\tremaining: 776ms\n",
      "71:\tlearn: 0.5548239\ttotal: 1.15s\tremaining: 764ms\n",
      "72:\tlearn: 0.5512323\ttotal: 1.17s\tremaining: 752ms\n",
      "73:\tlearn: 0.5516474\ttotal: 1.19s\tremaining: 741ms\n",
      "74:\tlearn: 0.5513494\ttotal: 1.21s\tremaining: 725ms\n",
      "75:\tlearn: 0.5510113\ttotal: 1.23s\tremaining: 711ms\n",
      "76:\tlearn: 0.5514663\ttotal: 1.25s\tremaining: 697ms\n",
      "77:\tlearn: 0.5512021\ttotal: 1.26s\tremaining: 681ms\n",
      "78:\tlearn: 0.5518715\ttotal: 1.29s\tremaining: 668ms\n",
      "79:\tlearn: 0.5521598\ttotal: 1.32s\tremaining: 659ms\n",
      "80:\tlearn: 0.5564658\ttotal: 1.34s\tremaining: 644ms\n",
      "81:\tlearn: 0.5565294\ttotal: 1.36s\tremaining: 630ms\n",
      "82:\tlearn: 0.5566956\ttotal: 1.38s\tremaining: 617ms\n",
      "83:\tlearn: 0.5577794\ttotal: 1.41s\tremaining: 603ms\n",
      "84:\tlearn: 0.5570077\ttotal: 1.43s\tremaining: 588ms\n",
      "85:\tlearn: 0.5569442\ttotal: 1.44s\tremaining: 569ms\n",
      "86:\tlearn: 0.5575112\ttotal: 1.47s\tremaining: 558ms\n",
      "87:\tlearn: 0.5598914\ttotal: 1.5s\tremaining: 545ms\n",
      "88:\tlearn: 0.5597652\ttotal: 1.51s\tremaining: 528ms\n",
      "89:\tlearn: 0.5597652\ttotal: 1.53s\tremaining: 511ms\n",
      "90:\tlearn: 0.5582275\ttotal: 1.55s\tremaining: 495ms\n",
      "91:\tlearn: 0.5578471\ttotal: 1.57s\tremaining: 478ms\n",
      "92:\tlearn: 0.5587279\ttotal: 1.59s\tremaining: 462ms\n",
      "93:\tlearn: 0.5587034\ttotal: 1.61s\tremaining: 445ms\n",
      "94:\tlearn: 0.5587034\ttotal: 1.61s\tremaining: 425ms\n",
      "95:\tlearn: 0.5590095\ttotal: 1.63s\tremaining: 408ms\n",
      "96:\tlearn: 0.5591115\ttotal: 1.65s\tremaining: 392ms\n",
      "97:\tlearn: 0.5589462\ttotal: 1.67s\tremaining: 375ms\n",
      "98:\tlearn: 0.5594946\ttotal: 1.69s\tremaining: 358ms\n",
      "99:\tlearn: 0.5621211\ttotal: 1.71s\tremaining: 341ms\n",
      "100:\tlearn: 0.5620664\ttotal: 1.72s\tremaining: 324ms\n",
      "101:\tlearn: 0.5620664\ttotal: 1.73s\tremaining: 306ms\n",
      "102:\tlearn: 0.5607599\ttotal: 1.75s\tremaining: 289ms\n",
      "103:\tlearn: 0.5624265\ttotal: 1.77s\tremaining: 272ms\n",
      "104:\tlearn: 0.5655280\ttotal: 1.79s\tremaining: 256ms\n",
      "105:\tlearn: 0.5655280\ttotal: 1.8s\tremaining: 238ms\n",
      "106:\tlearn: 0.5673985\ttotal: 1.82s\tremaining: 221ms\n",
      "107:\tlearn: 0.5678799\ttotal: 1.83s\tremaining: 204ms\n",
      "108:\tlearn: 0.5675221\ttotal: 1.85s\tremaining: 187ms\n",
      "109:\tlearn: 0.5683484\ttotal: 1.87s\tremaining: 170ms\n",
      "110:\tlearn: 0.5685599\ttotal: 1.89s\tremaining: 153ms\n",
      "111:\tlearn: 0.5684120\ttotal: 1.91s\tremaining: 136ms\n",
      "112:\tlearn: 0.5686562\ttotal: 1.93s\tremaining: 119ms\n",
      "113:\tlearn: 0.5688034\ttotal: 1.94s\tremaining: 102ms\n",
      "114:\tlearn: 0.5703095\ttotal: 1.96s\tremaining: 85.3ms\n",
      "115:\tlearn: 0.5704932\ttotal: 1.98s\tremaining: 68.3ms\n",
      "116:\tlearn: 0.5720788\ttotal: 2s\tremaining: 51.2ms\n",
      "117:\tlearn: 0.5719930\ttotal: 2.01s\tremaining: 34.1ms\n",
      "118:\tlearn: 0.5755107\ttotal: 2.03s\tremaining: 17.1ms\n",
      "119:\tlearn: 0.5757059\ttotal: 2.05s\tremaining: 0us\n",
      "[CV] END .........depth=7, iterations=120, learning_rate=0.1; total time=   3.6s\n",
      "0:\tlearn: 0.3431432\ttotal: 25ms\tremaining: 2.98s\n",
      "1:\tlearn: 0.3432017\ttotal: 49.6ms\tremaining: 2.92s\n",
      "2:\tlearn: 0.3564098\ttotal: 299ms\tremaining: 11.7s\n",
      "3:\tlearn: 0.3517756\ttotal: 352ms\tremaining: 10.2s\n",
      "4:\tlearn: 0.3468604\ttotal: 363ms\tremaining: 8.34s\n",
      "5:\tlearn: 0.3466827\ttotal: 378ms\tremaining: 7.19s\n",
      "6:\tlearn: 0.3453999\ttotal: 392ms\tremaining: 6.32s\n",
      "7:\tlearn: 0.3449438\ttotal: 403ms\tremaining: 5.64s\n",
      "8:\tlearn: 0.3478000\ttotal: 438ms\tremaining: 5.4s\n",
      "9:\tlearn: 0.3531094\ttotal: 457ms\tremaining: 5.02s\n",
      "10:\tlearn: 0.3525416\ttotal: 473ms\tremaining: 4.69s\n",
      "11:\tlearn: 0.3490335\ttotal: 482ms\tremaining: 4.34s\n",
      "12:\tlearn: 0.3483678\ttotal: 493ms\tremaining: 4.06s\n",
      "13:\tlearn: 0.3525626\ttotal: 506ms\tremaining: 3.83s\n",
      "14:\tlearn: 0.3517204\ttotal: 518ms\tremaining: 3.63s\n",
      "15:\tlearn: 0.3489555\ttotal: 531ms\tremaining: 3.45s\n",
      "16:\tlearn: 0.3484667\ttotal: 544ms\tremaining: 3.3s\n",
      "17:\tlearn: 0.3473880\ttotal: 552ms\tremaining: 3.13s\n",
      "18:\tlearn: 0.3459713\ttotal: 566ms\tremaining: 3.01s\n",
      "19:\tlearn: 0.3433394\ttotal: 580ms\tremaining: 2.9s\n",
      "20:\tlearn: 0.3473880\ttotal: 589ms\tremaining: 2.77s\n",
      "21:\tlearn: 0.3463063\ttotal: 623ms\tremaining: 2.77s\n",
      "22:\tlearn: 0.3450641\ttotal: 648ms\tremaining: 2.73s\n",
      "23:\tlearn: 0.3476853\ttotal: 664ms\tremaining: 2.65s\n",
      "24:\tlearn: 0.3476853\ttotal: 675ms\tremaining: 2.56s\n",
      "25:\tlearn: 0.3493298\ttotal: 697ms\tremaining: 2.52s\n",
      "26:\tlearn: 0.3493298\ttotal: 705ms\tremaining: 2.43s\n",
      "27:\tlearn: 0.3532916\ttotal: 766ms\tremaining: 2.52s\n",
      "28:\tlearn: 0.3532916\ttotal: 785ms\tremaining: 2.46s\n",
      "29:\tlearn: 0.3532916\ttotal: 803ms\tremaining: 2.41s\n",
      "30:\tlearn: 0.3535438\ttotal: 843ms\tremaining: 2.42s\n",
      "31:\tlearn: 0.3535648\ttotal: 872ms\tremaining: 2.4s\n",
      "32:\tlearn: 0.3535648\ttotal: 881ms\tremaining: 2.32s\n",
      "33:\tlearn: 0.3535438\ttotal: 900ms\tremaining: 2.27s\n",
      "34:\tlearn: 0.3543551\ttotal: 920ms\tremaining: 2.23s\n",
      "35:\tlearn: 0.3535438\ttotal: 930ms\tremaining: 2.17s\n",
      "36:\tlearn: 0.3536629\ttotal: 937ms\tremaining: 2.1s\n",
      "37:\tlearn: 0.3535648\ttotal: 947ms\tremaining: 2.04s\n",
      "38:\tlearn: 0.3535648\ttotal: 959ms\tremaining: 1.99s\n",
      "39:\tlearn: 0.3532706\ttotal: 972ms\tremaining: 1.94s\n",
      "40:\tlearn: 0.3535648\ttotal: 1.05s\tremaining: 2.02s\n",
      "41:\tlearn: 0.3535648\ttotal: 1.06s\tremaining: 1.97s\n",
      "42:\tlearn: 0.3535648\ttotal: 1.07s\tremaining: 1.91s\n",
      "43:\tlearn: 0.3537609\ttotal: 1.2s\tremaining: 2.08s\n",
      "44:\tlearn: 0.3556876\ttotal: 1.25s\tremaining: 2.09s\n",
      "45:\tlearn: 0.3540129\ttotal: 1.26s\tremaining: 2.03s\n",
      "46:\tlearn: 0.3537747\ttotal: 1.27s\tremaining: 1.97s\n",
      "47:\tlearn: 0.3537747\ttotal: 1.28s\tremaining: 1.92s\n",
      "48:\tlearn: 0.3535227\ttotal: 1.29s\tremaining: 1.86s\n",
      "49:\tlearn: 0.3535227\ttotal: 1.3s\tremaining: 1.81s\n",
      "50:\tlearn: 0.3535438\ttotal: 1.32s\tremaining: 1.78s\n",
      "51:\tlearn: 0.3535227\ttotal: 1.34s\tremaining: 1.75s\n",
      "52:\tlearn: 0.3536418\ttotal: 1.36s\tremaining: 1.72s\n",
      "53:\tlearn: 0.3536418\ttotal: 1.38s\tremaining: 1.69s\n",
      "54:\tlearn: 0.3536629\ttotal: 1.4s\tremaining: 1.65s\n",
      "55:\tlearn: 0.3531025\ttotal: 1.42s\tremaining: 1.62s\n",
      "56:\tlearn: 0.3531025\ttotal: 1.45s\tremaining: 1.6s\n",
      "57:\tlearn: 0.3531235\ttotal: 1.48s\tremaining: 1.58s\n",
      "58:\tlearn: 0.3537820\ttotal: 1.5s\tremaining: 1.55s\n",
      "59:\tlearn: 0.3537820\ttotal: 1.51s\tremaining: 1.51s\n",
      "60:\tlearn: 0.3537609\ttotal: 1.54s\tremaining: 1.49s\n",
      "61:\tlearn: 0.3531025\ttotal: 1.56s\tremaining: 1.46s\n",
      "62:\tlearn: 0.3540129\ttotal: 1.58s\tremaining: 1.43s\n",
      "63:\tlearn: 0.3540129\ttotal: 1.6s\tremaining: 1.4s\n",
      "64:\tlearn: 0.3540129\ttotal: 1.61s\tremaining: 1.37s\n",
      "65:\tlearn: 0.3540129\ttotal: 1.64s\tremaining: 1.34s\n",
      "66:\tlearn: 0.3540129\ttotal: 1.65s\tremaining: 1.31s\n",
      "67:\tlearn: 0.3540129\ttotal: 1.67s\tremaining: 1.27s\n",
      "68:\tlearn: 0.3540129\ttotal: 1.68s\tremaining: 1.24s\n",
      "69:\tlearn: 0.3540129\ttotal: 1.71s\tremaining: 1.22s\n",
      "70:\tlearn: 0.3548023\ttotal: 1.79s\tremaining: 1.24s\n",
      "71:\tlearn: 0.3548023\ttotal: 1.85s\tremaining: 1.23s\n",
      "72:\tlearn: 0.3550190\ttotal: 1.86s\tremaining: 1.2s\n",
      "73:\tlearn: 0.3549979\ttotal: 1.88s\tremaining: 1.17s\n",
      "74:\tlearn: 0.3550190\ttotal: 1.9s\tremaining: 1.14s\n",
      "75:\tlearn: 0.3550190\ttotal: 1.91s\tremaining: 1.1s\n",
      "76:\tlearn: 0.3549979\ttotal: 1.92s\tremaining: 1.07s\n",
      "77:\tlearn: 0.3549979\ttotal: 1.94s\tremaining: 1.04s\n",
      "78:\tlearn: 0.3550190\ttotal: 1.95s\tremaining: 1.01s\n",
      "79:\tlearn: 0.3550190\ttotal: 1.96s\tremaining: 981ms\n",
      "80:\tlearn: 0.3550190\ttotal: 1.98s\tremaining: 952ms\n",
      "81:\tlearn: 0.3550190\ttotal: 1.99s\tremaining: 923ms\n",
      "82:\tlearn: 0.3550190\ttotal: 2.01s\tremaining: 895ms\n",
      "83:\tlearn: 0.3550190\ttotal: 2.02s\tremaining: 865ms\n",
      "84:\tlearn: 0.3549212\ttotal: 2.05s\tremaining: 843ms\n",
      "85:\tlearn: 0.3549212\ttotal: 2.06s\tremaining: 813ms\n",
      "86:\tlearn: 0.3549001\ttotal: 2.07s\tremaining: 786ms\n",
      "87:\tlearn: 0.3549212\ttotal: 2.09s\tremaining: 759ms\n",
      "88:\tlearn: 0.3549001\ttotal: 2.1s\tremaining: 731ms\n",
      "89:\tlearn: 0.3549001\ttotal: 2.11s\tremaining: 705ms\n",
      "90:\tlearn: 0.3549979\ttotal: 2.14s\tremaining: 682ms\n",
      "91:\tlearn: 0.3550190\ttotal: 2.16s\tremaining: 656ms\n",
      "92:\tlearn: 0.3550957\ttotal: 2.41s\tremaining: 700ms\n",
      "93:\tlearn: 0.3550957\ttotal: 2.42s\tremaining: 670ms\n",
      "94:\tlearn: 0.3550957\ttotal: 2.45s\tremaining: 645ms\n",
      "95:\tlearn: 0.3550957\ttotal: 2.46s\tremaining: 615ms\n",
      "96:\tlearn: 0.3550957\ttotal: 2.47s\tremaining: 586ms\n",
      "97:\tlearn: 0.3550957\ttotal: 2.48s\tremaining: 557ms\n",
      "98:\tlearn: 0.3550957\ttotal: 2.49s\tremaining: 529ms\n",
      "99:\tlearn: 0.3550957\ttotal: 2.5s\tremaining: 501ms\n",
      "100:\tlearn: 0.3551168\ttotal: 2.82s\tremaining: 530ms\n",
      "101:\tlearn: 0.3551168\ttotal: 2.83s\tremaining: 499ms\n",
      "102:\tlearn: 0.3553124\ttotal: 2.86s\tremaining: 473ms\n",
      "103:\tlearn: 0.3554102\ttotal: 2.88s\tremaining: 443ms\n",
      "104:\tlearn: 0.3554102\ttotal: 2.93s\tremaining: 418ms\n",
      "105:\tlearn: 0.3554102\ttotal: 2.94s\tremaining: 388ms\n",
      "106:\tlearn: 0.3554102\ttotal: 2.95s\tremaining: 359ms\n",
      "107:\tlearn: 0.3554102\ttotal: 2.97s\tremaining: 330ms\n",
      "108:\tlearn: 0.3553891\ttotal: 2.99s\tremaining: 302ms\n",
      "109:\tlearn: 0.3553891\ttotal: 3s\tremaining: 273ms\n",
      "110:\tlearn: 0.3552147\ttotal: 3.02s\tremaining: 245ms\n",
      "111:\tlearn: 0.3552147\ttotal: 3.03s\tremaining: 217ms\n",
      "112:\tlearn: 0.3553891\ttotal: 3.05s\tremaining: 189ms\n",
      "113:\tlearn: 0.3551935\ttotal: 3.07s\tremaining: 162ms\n",
      "114:\tlearn: 0.3551935\ttotal: 3.08s\tremaining: 134ms\n",
      "115:\tlearn: 0.3551935\ttotal: 3.09s\tremaining: 106ms\n",
      "116:\tlearn: 0.3551935\ttotal: 3.11s\tremaining: 79.7ms\n",
      "117:\tlearn: 0.3553891\ttotal: 3.12s\tremaining: 53ms\n",
      "118:\tlearn: 0.3551935\ttotal: 3.13s\tremaining: 26.3ms\n",
      "119:\tlearn: 0.3551935\ttotal: 3.15s\tremaining: 0us\n",
      "[CV] END ......depth=15, iterations=120, learning_rate=0.005; total time=   4.5s\n",
      "0:\tlearn: 0.3446198\ttotal: 25.4ms\tremaining: 3.02s\n",
      "1:\tlearn: 0.3455289\ttotal: 40.2ms\tremaining: 2.37s\n",
      "2:\tlearn: 0.3481286\ttotal: 57.1ms\tremaining: 2.23s\n",
      "3:\tlearn: 0.3482277\ttotal: 73.6ms\tremaining: 2.13s\n",
      "4:\tlearn: 0.3484830\ttotal: 86.5ms\tremaining: 1.99s\n",
      "5:\tlearn: 0.3482068\ttotal: 101ms\tremaining: 1.91s\n",
      "6:\tlearn: 0.3494459\ttotal: 151ms\tremaining: 2.44s\n",
      "7:\tlearn: 0.3500120\ttotal: 164ms\tremaining: 2.29s\n",
      "8:\tlearn: 0.3512755\ttotal: 173ms\tremaining: 2.13s\n",
      "9:\tlearn: 0.3512545\ttotal: 184ms\tremaining: 2.02s\n",
      "10:\tlearn: 0.3512545\ttotal: 198ms\tremaining: 1.96s\n",
      "11:\tlearn: 0.3510575\ttotal: 232ms\tremaining: 2.09s\n",
      "12:\tlearn: 0.3511560\ttotal: 250ms\tremaining: 2.06s\n",
      "13:\tlearn: 0.3511560\ttotal: 269ms\tremaining: 2.04s\n",
      "14:\tlearn: 0.3510575\ttotal: 279ms\tremaining: 1.96s\n",
      "15:\tlearn: 0.3511350\ttotal: 298ms\tremaining: 1.94s\n",
      "16:\tlearn: 0.3512755\ttotal: 320ms\tremaining: 1.94s\n",
      "17:\tlearn: 0.3511770\ttotal: 339ms\tremaining: 1.92s\n",
      "18:\tlearn: 0.3510784\ttotal: 354ms\tremaining: 1.88s\n",
      "19:\tlearn: 0.3510784\ttotal: 368ms\tremaining: 1.84s\n",
      "20:\tlearn: 0.3510784\ttotal: 380ms\tremaining: 1.79s\n",
      "21:\tlearn: 0.3511560\ttotal: 407ms\tremaining: 1.81s\n",
      "22:\tlearn: 0.3511770\ttotal: 419ms\tremaining: 1.77s\n",
      "23:\tlearn: 0.3511770\ttotal: 667ms\tremaining: 2.67s\n",
      "24:\tlearn: 0.3518176\ttotal: 683ms\tremaining: 2.6s\n",
      "25:\tlearn: 0.3514869\ttotal: 706ms\tremaining: 2.55s\n",
      "26:\tlearn: 0.3525763\ttotal: 734ms\tremaining: 2.53s\n",
      "27:\tlearn: 0.3523446\ttotal: 812ms\tremaining: 2.67s\n",
      "28:\tlearn: 0.3523446\ttotal: 826ms\tremaining: 2.59s\n",
      "29:\tlearn: 0.3511560\ttotal: 840ms\tremaining: 2.52s\n",
      "30:\tlearn: 0.3547179\ttotal: 853ms\tremaining: 2.45s\n",
      "31:\tlearn: 0.3515854\ttotal: 876ms\tremaining: 2.41s\n",
      "32:\tlearn: 0.3511560\ttotal: 885ms\tremaining: 2.33s\n",
      "33:\tlearn: 0.3511560\ttotal: 899ms\tremaining: 2.27s\n",
      "34:\tlearn: 0.3512545\ttotal: 1.03s\tremaining: 2.51s\n",
      "35:\tlearn: 0.3546968\ttotal: 1.05s\tremaining: 2.45s\n",
      "36:\tlearn: 0.3546968\ttotal: 1.06s\tremaining: 2.39s\n",
      "37:\tlearn: 0.3546968\ttotal: 1.07s\tremaining: 2.32s\n",
      "38:\tlearn: 0.3534036\ttotal: 1.09s\tremaining: 2.26s\n",
      "39:\tlearn: 0.3512545\ttotal: 1.1s\tremaining: 2.2s\n",
      "40:\tlearn: 0.3511560\ttotal: 1.11s\tremaining: 2.14s\n",
      "41:\tlearn: 0.3520496\ttotal: 1.12s\tremaining: 2.08s\n",
      "42:\tlearn: 0.3511560\ttotal: 1.13s\tremaining: 2.03s\n",
      "43:\tlearn: 0.3512545\ttotal: 1.17s\tremaining: 2.02s\n",
      "44:\tlearn: 0.3512545\ttotal: 1.18s\tremaining: 1.97s\n",
      "45:\tlearn: 0.3512545\ttotal: 1.2s\tremaining: 1.93s\n",
      "46:\tlearn: 0.3512545\ttotal: 1.21s\tremaining: 1.88s\n",
      "47:\tlearn: 0.3523026\ttotal: 1.23s\tremaining: 1.85s\n",
      "48:\tlearn: 0.3512545\ttotal: 1.26s\tremaining: 1.83s\n",
      "49:\tlearn: 0.3512545\ttotal: 1.3s\tremaining: 1.82s\n",
      "50:\tlearn: 0.3531935\ttotal: 1.31s\tremaining: 1.77s\n",
      "51:\tlearn: 0.3531935\ttotal: 1.32s\tremaining: 1.73s\n",
      "52:\tlearn: 0.3512545\ttotal: 1.34s\tremaining: 1.69s\n",
      "53:\tlearn: 0.3512545\ttotal: 1.35s\tremaining: 1.65s\n",
      "54:\tlearn: 0.3512545\ttotal: 1.36s\tremaining: 1.61s\n",
      "55:\tlearn: 0.3523026\ttotal: 1.38s\tremaining: 1.58s\n",
      "56:\tlearn: 0.3521480\ttotal: 1.4s\tremaining: 1.55s\n",
      "57:\tlearn: 0.3512545\ttotal: 1.42s\tremaining: 1.52s\n",
      "58:\tlearn: 0.3535997\ttotal: 1.47s\tremaining: 1.52s\n",
      "59:\tlearn: 0.3554790\ttotal: 1.52s\tremaining: 1.52s\n",
      "60:\tlearn: 0.3554790\ttotal: 1.55s\tremaining: 1.5s\n",
      "61:\tlearn: 0.3548023\ttotal: 1.57s\tremaining: 1.47s\n",
      "62:\tlearn: 0.3548023\ttotal: 1.59s\tremaining: 1.44s\n",
      "63:\tlearn: 0.3554790\ttotal: 1.6s\tremaining: 1.4s\n",
      "64:\tlearn: 0.3554790\ttotal: 1.62s\tremaining: 1.37s\n",
      "65:\tlearn: 0.3554790\ttotal: 1.63s\tremaining: 1.33s\n",
      "66:\tlearn: 0.3554790\ttotal: 1.64s\tremaining: 1.3s\n",
      "67:\tlearn: 0.3554790\ttotal: 1.66s\tremaining: 1.27s\n",
      "68:\tlearn: 0.3560570\ttotal: 1.68s\tremaining: 1.24s\n",
      "69:\tlearn: 0.3554790\ttotal: 1.69s\tremaining: 1.21s\n",
      "70:\tlearn: 0.3554790\ttotal: 1.7s\tremaining: 1.18s\n",
      "71:\tlearn: 0.3554790\ttotal: 1.71s\tremaining: 1.14s\n",
      "72:\tlearn: 0.3545931\ttotal: 1.72s\tremaining: 1.11s\n",
      "73:\tlearn: 0.3554235\ttotal: 1.98s\tremaining: 1.23s\n",
      "74:\tlearn: 0.3568081\ttotal: 2.02s\tremaining: 1.21s\n",
      "75:\tlearn: 0.3574266\ttotal: 2.04s\tremaining: 1.18s\n",
      "76:\tlearn: 0.3590017\ttotal: 2.05s\tremaining: 1.15s\n",
      "77:\tlearn: 0.3590017\ttotal: 2.07s\tremaining: 1.11s\n",
      "78:\tlearn: 0.3600921\ttotal: 2.38s\tremaining: 1.24s\n",
      "79:\tlearn: 0.3600921\ttotal: 2.4s\tremaining: 1.2s\n",
      "80:\tlearn: 0.3600921\ttotal: 2.41s\tremaining: 1.16s\n",
      "81:\tlearn: 0.3600709\ttotal: 2.46s\tremaining: 1.14s\n",
      "82:\tlearn: 0.3600921\ttotal: 2.46s\tremaining: 1.1s\n",
      "83:\tlearn: 0.3600921\ttotal: 2.49s\tremaining: 1.07s\n",
      "84:\tlearn: 0.3615892\ttotal: 2.52s\tremaining: 1.03s\n",
      "85:\tlearn: 0.3615892\ttotal: 2.52s\tremaining: 998ms\n",
      "86:\tlearn: 0.3608898\ttotal: 2.66s\tremaining: 1.01s\n",
      "87:\tlearn: 0.3608898\ttotal: 2.67s\tremaining: 972ms\n",
      "88:\tlearn: 0.3608898\ttotal: 2.7s\tremaining: 941ms\n",
      "89:\tlearn: 0.3608898\ttotal: 2.71s\tremaining: 904ms\n",
      "90:\tlearn: 0.3608898\ttotal: 2.72s\tremaining: 867ms\n",
      "91:\tlearn: 0.3608898\ttotal: 2.73s\tremaining: 831ms\n",
      "92:\tlearn: 0.3608898\ttotal: 2.75s\tremaining: 799ms\n",
      "93:\tlearn: 0.3608898\ttotal: 2.76s\tremaining: 764ms\n",
      "94:\tlearn: 0.3605667\ttotal: 2.77s\tremaining: 729ms\n",
      "95:\tlearn: 0.3605667\ttotal: 2.87s\tremaining: 719ms\n",
      "96:\tlearn: 0.3605667\ttotal: 3.24s\tremaining: 769ms\n",
      "97:\tlearn: 0.3608898\ttotal: 3.25s\tremaining: 731ms\n",
      "98:\tlearn: 0.3608898\ttotal: 3.27s\tremaining: 694ms\n",
      "99:\tlearn: 0.3620619\ttotal: 3.28s\tremaining: 657ms\n",
      "100:\tlearn: 0.3620619\ttotal: 3.31s\tremaining: 623ms\n",
      "101:\tlearn: 0.3620619\ttotal: 3.32s\tremaining: 587ms\n",
      "102:\tlearn: 0.3608898\ttotal: 3.34s\tremaining: 551ms\n",
      "103:\tlearn: 0.3608898\ttotal: 3.35s\tremaining: 516ms\n",
      "104:\tlearn: 0.3608898\ttotal: 3.37s\tremaining: 482ms\n",
      "105:\tlearn: 0.3608898\ttotal: 3.38s\tremaining: 447ms\n",
      "106:\tlearn: 0.3608898\ttotal: 3.4s\tremaining: 413ms\n",
      "107:\tlearn: 0.3604157\ttotal: 3.45s\tremaining: 383ms\n",
      "108:\tlearn: 0.3608898\ttotal: 3.53s\tremaining: 356ms\n",
      "109:\tlearn: 0.3609768\ttotal: 3.55s\tremaining: 323ms\n",
      "110:\tlearn: 0.3608898\ttotal: 3.56s\tremaining: 289ms\n",
      "111:\tlearn: 0.3621482\ttotal: 3.58s\tremaining: 256ms\n",
      "112:\tlearn: 0.3621482\ttotal: 3.6s\tremaining: 223ms\n",
      "113:\tlearn: 0.3621482\ttotal: 3.62s\tremaining: 190ms\n",
      "114:\tlearn: 0.3621482\ttotal: 3.63s\tremaining: 158ms\n",
      "115:\tlearn: 0.3609768\ttotal: 3.65s\tremaining: 126ms\n",
      "116:\tlearn: 0.3609768\ttotal: 3.67s\tremaining: 94ms\n",
      "117:\tlearn: 0.3621482\ttotal: 3.69s\tremaining: 62.6ms\n",
      "118:\tlearn: 0.3609768\ttotal: 3.71s\tremaining: 31.1ms\n",
      "119:\tlearn: 0.3621482\ttotal: 3.72s\tremaining: 0us\n",
      "[CV] END ......depth=15, iterations=120, learning_rate=0.005; total time=   4.6s\n",
      "0:\tlearn: 0.3748110\ttotal: 135ms\tremaining: 16s\n",
      "1:\tlearn: 0.3832521\ttotal: 154ms\tremaining: 9.11s\n",
      "2:\tlearn: 0.3558876\ttotal: 180ms\tremaining: 7.03s\n",
      "3:\tlearn: 0.3593063\ttotal: 194ms\tremaining: 5.63s\n",
      "4:\tlearn: 0.3594798\ttotal: 223ms\tremaining: 5.12s\n",
      "5:\tlearn: 0.4102649\ttotal: 244ms\tremaining: 4.63s\n",
      "6:\tlearn: 0.3584894\ttotal: 256ms\tremaining: 4.13s\n",
      "7:\tlearn: 0.3579674\ttotal: 269ms\tremaining: 3.77s\n",
      "8:\tlearn: 0.3572577\ttotal: 280ms\tremaining: 3.45s\n",
      "9:\tlearn: 0.3571599\ttotal: 292ms\tremaining: 3.21s\n",
      "10:\tlearn: 0.3570620\ttotal: 306ms\tremaining: 3.03s\n",
      "11:\tlearn: 0.3570620\ttotal: 340ms\tremaining: 3.06s\n",
      "12:\tlearn: 0.3570620\ttotal: 358ms\tremaining: 2.95s\n",
      "13:\tlearn: 0.3571599\ttotal: 488ms\tremaining: 3.7s\n",
      "14:\tlearn: 0.3571599\ttotal: 503ms\tremaining: 3.52s\n",
      "15:\tlearn: 0.3570620\ttotal: 525ms\tremaining: 3.41s\n",
      "16:\tlearn: 0.3570620\ttotal: 538ms\tremaining: 3.26s\n",
      "17:\tlearn: 0.3570620\ttotal: 554ms\tremaining: 3.14s\n",
      "18:\tlearn: 0.3571599\ttotal: 589ms\tremaining: 3.13s\n",
      "19:\tlearn: 0.3575851\ttotal: 611ms\tremaining: 3.05s\n",
      "20:\tlearn: 0.3570620\ttotal: 622ms\tremaining: 2.93s\n",
      "21:\tlearn: 0.3570620\ttotal: 633ms\tremaining: 2.82s\n",
      "22:\tlearn: 0.3570620\ttotal: 647ms\tremaining: 2.73s\n",
      "23:\tlearn: 0.3570833\ttotal: 666ms\tremaining: 2.66s\n",
      "24:\tlearn: 0.3571046\ttotal: 677ms\tremaining: 2.57s\n",
      "25:\tlearn: 0.3571046\ttotal: 694ms\tremaining: 2.51s\n",
      "26:\tlearn: 0.3571046\ttotal: 710ms\tremaining: 2.45s\n",
      "27:\tlearn: 0.3570279\ttotal: 725ms\tremaining: 2.38s\n",
      "28:\tlearn: 0.3571258\ttotal: 752ms\tremaining: 2.36s\n",
      "29:\tlearn: 0.3571258\ttotal: 766ms\tremaining: 2.3s\n",
      "30:\tlearn: 0.3571599\ttotal: 775ms\tremaining: 2.22s\n",
      "31:\tlearn: 0.3571599\ttotal: 785ms\tremaining: 2.16s\n",
      "32:\tlearn: 0.3571599\ttotal: 792ms\tremaining: 2.09s\n",
      "33:\tlearn: 0.3571599\ttotal: 801ms\tremaining: 2.03s\n",
      "34:\tlearn: 0.3571599\ttotal: 808ms\tremaining: 1.96s\n",
      "35:\tlearn: 0.3571599\ttotal: 824ms\tremaining: 1.92s\n",
      "36:\tlearn: 0.3571599\ttotal: 849ms\tremaining: 1.91s\n",
      "37:\tlearn: 0.3571599\ttotal: 868ms\tremaining: 1.87s\n",
      "38:\tlearn: 0.3571599\ttotal: 880ms\tremaining: 1.83s\n",
      "39:\tlearn: 0.3571599\ttotal: 929ms\tremaining: 1.86s\n",
      "40:\tlearn: 0.3571599\ttotal: 946ms\tremaining: 1.82s\n",
      "41:\tlearn: 0.3571812\ttotal: 956ms\tremaining: 1.77s\n",
      "42:\tlearn: 0.3571812\ttotal: 1.03s\tremaining: 1.85s\n",
      "43:\tlearn: 0.3572024\ttotal: 1.06s\tremaining: 1.84s\n",
      "44:\tlearn: 0.3572024\ttotal: 1.08s\tremaining: 1.8s\n",
      "45:\tlearn: 0.3572024\ttotal: 1.09s\tremaining: 1.76s\n",
      "46:\tlearn: 0.3572237\ttotal: 1.1s\tremaining: 1.72s\n",
      "47:\tlearn: 0.3572237\ttotal: 1.12s\tremaining: 1.68s\n",
      "48:\tlearn: 0.3572237\ttotal: 1.14s\tremaining: 1.65s\n",
      "49:\tlearn: 0.3572237\ttotal: 1.17s\tremaining: 1.64s\n",
      "50:\tlearn: 0.3572024\ttotal: 1.19s\tremaining: 1.6s\n",
      "51:\tlearn: 0.3572237\ttotal: 1.22s\tremaining: 1.6s\n",
      "52:\tlearn: 0.3572237\ttotal: 1.24s\tremaining: 1.56s\n",
      "53:\tlearn: 0.3572024\ttotal: 1.26s\tremaining: 1.54s\n",
      "54:\tlearn: 0.3572024\ttotal: 1.27s\tremaining: 1.5s\n",
      "55:\tlearn: 0.3572024\ttotal: 1.28s\tremaining: 1.46s\n",
      "56:\tlearn: 0.3572024\ttotal: 1.31s\tremaining: 1.45s\n",
      "57:\tlearn: 0.3572024\ttotal: 1.4s\tremaining: 1.49s\n",
      "58:\tlearn: 0.3572237\ttotal: 1.41s\tremaining: 1.46s\n",
      "59:\tlearn: 0.3572237\ttotal: 1.42s\tremaining: 1.42s\n",
      "60:\tlearn: 0.3572237\ttotal: 1.48s\tremaining: 1.43s\n",
      "61:\tlearn: 0.3572237\ttotal: 1.51s\tremaining: 1.41s\n",
      "62:\tlearn: 0.3572237\ttotal: 1.54s\tremaining: 1.39s\n",
      "63:\tlearn: 0.3571258\ttotal: 1.55s\tremaining: 1.36s\n",
      "64:\tlearn: 0.3571258\ttotal: 1.57s\tremaining: 1.33s\n",
      "65:\tlearn: 0.3571258\ttotal: 1.59s\tremaining: 1.3s\n",
      "66:\tlearn: 0.3571258\ttotal: 1.6s\tremaining: 1.26s\n",
      "67:\tlearn: 0.3571258\ttotal: 1.61s\tremaining: 1.23s\n",
      "68:\tlearn: 0.3571258\ttotal: 1.63s\tremaining: 1.2s\n",
      "69:\tlearn: 0.3571258\ttotal: 1.64s\tremaining: 1.17s\n",
      "70:\tlearn: 0.3571258\ttotal: 1.66s\tremaining: 1.14s\n",
      "71:\tlearn: 0.3571258\ttotal: 1.67s\tremaining: 1.11s\n",
      "72:\tlearn: 0.3571258\ttotal: 1.68s\tremaining: 1.08s\n",
      "73:\tlearn: 0.3571258\ttotal: 1.71s\tremaining: 1.06s\n",
      "74:\tlearn: 0.3571258\ttotal: 1.72s\tremaining: 1.03s\n",
      "75:\tlearn: 0.3572237\ttotal: 1.73s\tremaining: 1s\n",
      "76:\tlearn: 0.3572237\ttotal: 1.75s\tremaining: 979ms\n",
      "77:\tlearn: 0.3572237\ttotal: 1.76s\tremaining: 950ms\n",
      "78:\tlearn: 0.3572237\ttotal: 1.78s\tremaining: 923ms\n",
      "79:\tlearn: 0.3571258\ttotal: 1.79s\tremaining: 898ms\n",
      "80:\tlearn: 0.3571258\ttotal: 1.8s\tremaining: 869ms\n",
      "81:\tlearn: 0.3571258\ttotal: 1.88s\tremaining: 872ms\n",
      "82:\tlearn: 0.3571258\ttotal: 1.9s\tremaining: 845ms\n",
      "83:\tlearn: 0.3571258\ttotal: 1.9s\tremaining: 816ms\n",
      "84:\tlearn: 0.3571258\ttotal: 1.92s\tremaining: 791ms\n",
      "85:\tlearn: 0.3571258\ttotal: 1.93s\tremaining: 763ms\n",
      "86:\tlearn: 0.3571258\ttotal: 1.94s\tremaining: 736ms\n",
      "87:\tlearn: 0.3571258\ttotal: 1.97s\tremaining: 715ms\n",
      "88:\tlearn: 0.3571258\ttotal: 1.98s\tremaining: 688ms\n",
      "89:\tlearn: 0.3576490\ttotal: 2.01s\tremaining: 671ms\n",
      "90:\tlearn: 0.3576490\ttotal: 2.05s\tremaining: 652ms\n",
      "91:\tlearn: 0.3576490\ttotal: 2.38s\tremaining: 724ms\n",
      "92:\tlearn: 0.3576490\ttotal: 2.4s\tremaining: 696ms\n",
      "93:\tlearn: 0.3575512\ttotal: 2.43s\tremaining: 671ms\n",
      "94:\tlearn: 0.3575512\ttotal: 2.44s\tremaining: 642ms\n",
      "95:\tlearn: 0.3575512\ttotal: 2.45s\tremaining: 613ms\n",
      "96:\tlearn: 0.3575512\ttotal: 2.52s\tremaining: 597ms\n",
      "97:\tlearn: 0.3575512\ttotal: 2.57s\tremaining: 577ms\n",
      "98:\tlearn: 0.3575512\ttotal: 2.59s\tremaining: 549ms\n",
      "99:\tlearn: 0.3575512\ttotal: 2.63s\tremaining: 526ms\n",
      "100:\tlearn: 0.3575512\ttotal: 2.64s\tremaining: 497ms\n",
      "101:\tlearn: 0.3575512\ttotal: 2.66s\tremaining: 469ms\n",
      "102:\tlearn: 0.3575512\ttotal: 2.68s\tremaining: 443ms\n",
      "103:\tlearn: 0.3575512\ttotal: 2.69s\tremaining: 414ms\n",
      "104:\tlearn: 0.3575512\ttotal: 2.71s\tremaining: 388ms\n",
      "105:\tlearn: 0.3582605\ttotal: 2.73s\tremaining: 361ms\n",
      "106:\tlearn: 0.3582605\ttotal: 2.74s\tremaining: 333ms\n",
      "107:\tlearn: 0.3582605\ttotal: 2.76s\tremaining: 307ms\n",
      "108:\tlearn: 0.3582605\ttotal: 2.79s\tremaining: 282ms\n",
      "109:\tlearn: 0.3582605\ttotal: 2.8s\tremaining: 255ms\n",
      "110:\tlearn: 0.3575512\ttotal: 2.81s\tremaining: 228ms\n",
      "111:\tlearn: 0.3575512\ttotal: 2.84s\tremaining: 203ms\n",
      "112:\tlearn: 0.3575512\ttotal: 2.85s\tremaining: 177ms\n",
      "113:\tlearn: 0.3575512\ttotal: 2.87s\tremaining: 151ms\n",
      "114:\tlearn: 0.3575512\ttotal: 2.88s\tremaining: 125ms\n",
      "115:\tlearn: 0.3575512\ttotal: 2.91s\tremaining: 100ms\n",
      "116:\tlearn: 0.3575512\ttotal: 2.92s\tremaining: 75ms\n",
      "117:\tlearn: 0.3575512\ttotal: 2.94s\tremaining: 49.8ms\n",
      "118:\tlearn: 0.3575512\ttotal: 2.94s\tremaining: 24.8ms\n",
      "119:\tlearn: 0.3575512\ttotal: 2.97s\tremaining: 0us\n",
      "[CV] END ......depth=15, iterations=120, learning_rate=0.005; total time=   5.4s\n",
      "0:\tlearn: 0.3623988\ttotal: 19.9ms\tremaining: 2.37s\n",
      "1:\tlearn: 0.3499581\ttotal: 27.2ms\tremaining: 1.6s\n",
      "2:\tlearn: 0.3464520\ttotal: 44.1ms\tremaining: 1.72s\n",
      "3:\tlearn: 0.3513885\ttotal: 80.8ms\tremaining: 2.34s\n",
      "4:\tlearn: 0.3477896\ttotal: 98.8ms\tremaining: 2.27s\n",
      "5:\tlearn: 0.3464520\ttotal: 115ms\tremaining: 2.18s\n",
      "6:\tlearn: 0.3464520\ttotal: 125ms\tremaining: 2.02s\n",
      "7:\tlearn: 0.3464520\ttotal: 140ms\tremaining: 1.95s\n",
      "8:\tlearn: 0.3509463\ttotal: 156ms\tremaining: 1.92s\n",
      "9:\tlearn: 0.3464520\ttotal: 165ms\tremaining: 1.81s\n",
      "10:\tlearn: 0.3464520\ttotal: 181ms\tremaining: 1.79s\n",
      "11:\tlearn: 0.3504033\ttotal: 194ms\tremaining: 1.75s\n",
      "12:\tlearn: 0.3464520\ttotal: 207ms\tremaining: 1.7s\n",
      "13:\tlearn: 0.3464520\ttotal: 227ms\tremaining: 1.72s\n",
      "14:\tlearn: 0.3477687\ttotal: 238ms\tremaining: 1.66s\n",
      "15:\tlearn: 0.3478469\ttotal: 319ms\tremaining: 2.08s\n",
      "16:\tlearn: 0.3478469\ttotal: 340ms\tremaining: 2.06s\n",
      "17:\tlearn: 0.3477687\ttotal: 361ms\tremaining: 2.04s\n",
      "18:\tlearn: 0.3484776\ttotal: 380ms\tremaining: 2.02s\n",
      "19:\tlearn: 0.3474556\ttotal: 392ms\tremaining: 1.96s\n",
      "20:\tlearn: 0.3481442\ttotal: 477ms\tremaining: 2.25s\n",
      "21:\tlearn: 0.3478469\ttotal: 487ms\tremaining: 2.17s\n",
      "22:\tlearn: 0.3478469\ttotal: 502ms\tremaining: 2.12s\n",
      "23:\tlearn: 0.3478469\ttotal: 517ms\tremaining: 2.07s\n",
      "24:\tlearn: 0.3481442\ttotal: 567ms\tremaining: 2.15s\n",
      "25:\tlearn: 0.3481442\ttotal: 579ms\tremaining: 2.09s\n",
      "26:\tlearn: 0.3482432\ttotal: 640ms\tremaining: 2.21s\n",
      "27:\tlearn: 0.3481442\ttotal: 663ms\tremaining: 2.18s\n",
      "28:\tlearn: 0.3481442\ttotal: 679ms\tremaining: 2.13s\n",
      "29:\tlearn: 0.3481442\ttotal: 690ms\tremaining: 2.07s\n",
      "30:\tlearn: 0.3474556\ttotal: 705ms\tremaining: 2.02s\n",
      "31:\tlearn: 0.3473773\ttotal: 729ms\tremaining: 2s\n",
      "32:\tlearn: 0.3464520\ttotal: 740ms\tremaining: 1.95s\n",
      "33:\tlearn: 0.3470797\ttotal: 752ms\tremaining: 1.9s\n",
      "34:\tlearn: 0.3470797\ttotal: 775ms\tremaining: 1.88s\n",
      "35:\tlearn: 0.3470797\ttotal: 806ms\tremaining: 1.88s\n",
      "36:\tlearn: 0.3477687\ttotal: 939ms\tremaining: 2.11s\n",
      "37:\tlearn: 0.3470797\ttotal: 961ms\tremaining: 2.07s\n",
      "38:\tlearn: 0.3470797\ttotal: 980ms\tremaining: 2.04s\n",
      "39:\tlearn: 0.3470797\ttotal: 991ms\tremaining: 1.98s\n",
      "40:\tlearn: 0.3470797\ttotal: 1.01s\tremaining: 1.94s\n",
      "41:\tlearn: 0.3477687\ttotal: 1.02s\tremaining: 1.89s\n",
      "42:\tlearn: 0.3477687\ttotal: 1.04s\tremaining: 1.86s\n",
      "43:\tlearn: 0.3477687\ttotal: 1.05s\tremaining: 1.81s\n",
      "44:\tlearn: 0.3474398\ttotal: 1.07s\tremaining: 1.78s\n",
      "45:\tlearn: 0.3474398\ttotal: 1.29s\tremaining: 2.07s\n",
      "46:\tlearn: 0.3471422\ttotal: 1.31s\tremaining: 2.03s\n",
      "47:\tlearn: 0.3471422\ttotal: 1.32s\tremaining: 1.98s\n",
      "48:\tlearn: 0.3471422\ttotal: 1.36s\tremaining: 1.98s\n",
      "49:\tlearn: 0.3471422\ttotal: 1.39s\tremaining: 1.94s\n",
      "50:\tlearn: 0.3471422\ttotal: 1.4s\tremaining: 1.89s\n",
      "51:\tlearn: 0.3477687\ttotal: 1.41s\tremaining: 1.84s\n",
      "52:\tlearn: 0.3477687\ttotal: 1.42s\tremaining: 1.8s\n",
      "53:\tlearn: 0.3477687\ttotal: 1.47s\tremaining: 1.79s\n",
      "54:\tlearn: 0.3477687\ttotal: 1.63s\tremaining: 1.93s\n",
      "55:\tlearn: 0.3477687\ttotal: 1.65s\tremaining: 1.88s\n",
      "56:\tlearn: 0.3480815\ttotal: 1.66s\tremaining: 1.84s\n",
      "57:\tlearn: 0.3480815\ttotal: 1.69s\tremaining: 1.8s\n",
      "58:\tlearn: 0.3477530\ttotal: 2s\tremaining: 2.06s\n",
      "59:\tlearn: 0.3477530\ttotal: 2.01s\tremaining: 2.01s\n",
      "60:\tlearn: 0.3474556\ttotal: 2.02s\tremaining: 1.95s\n",
      "61:\tlearn: 0.3474556\ttotal: 2.05s\tremaining: 1.91s\n",
      "62:\tlearn: 0.3491645\ttotal: 2.07s\tremaining: 1.87s\n",
      "63:\tlearn: 0.3491645\ttotal: 2.08s\tremaining: 1.82s\n",
      "64:\tlearn: 0.3494762\ttotal: 2.16s\tremaining: 1.83s\n",
      "65:\tlearn: 0.3494762\ttotal: 2.18s\tremaining: 1.78s\n",
      "66:\tlearn: 0.3494762\ttotal: 2.19s\tremaining: 1.73s\n",
      "67:\tlearn: 0.3494762\ttotal: 2.21s\tremaining: 1.69s\n",
      "68:\tlearn: 0.3494762\ttotal: 2.22s\tremaining: 1.64s\n",
      "69:\tlearn: 0.3494762\ttotal: 2.23s\tremaining: 1.59s\n",
      "70:\tlearn: 0.3491645\ttotal: 2.24s\tremaining: 1.55s\n",
      "71:\tlearn: 0.3490656\ttotal: 2.25s\tremaining: 1.5s\n",
      "72:\tlearn: 0.3490656\ttotal: 2.26s\tremaining: 1.46s\n",
      "73:\tlearn: 0.3490656\ttotal: 2.27s\tremaining: 1.41s\n",
      "74:\tlearn: 0.3490656\ttotal: 2.29s\tremaining: 1.38s\n",
      "75:\tlearn: 0.3490656\ttotal: 2.31s\tremaining: 1.34s\n",
      "76:\tlearn: 0.3490656\ttotal: 2.32s\tremaining: 1.3s\n",
      "77:\tlearn: 0.3490656\ttotal: 2.35s\tremaining: 1.26s\n",
      "78:\tlearn: 0.3494762\ttotal: 2.42s\tremaining: 1.26s\n",
      "79:\tlearn: 0.3494762\ttotal: 2.43s\tremaining: 1.22s\n",
      "80:\tlearn: 0.3494762\ttotal: 2.45s\tremaining: 1.18s\n",
      "81:\tlearn: 0.3490656\ttotal: 2.46s\tremaining: 1.14s\n",
      "82:\tlearn: 0.3490656\ttotal: 2.48s\tremaining: 1.11s\n",
      "83:\tlearn: 0.3491645\ttotal: 2.5s\tremaining: 1.07s\n",
      "84:\tlearn: 0.3491645\ttotal: 2.54s\tremaining: 1.05s\n",
      "85:\tlearn: 0.3496319\ttotal: 2.57s\tremaining: 1.02s\n",
      "86:\tlearn: 0.3492216\ttotal: 2.59s\tremaining: 984ms\n",
      "87:\tlearn: 0.3490656\ttotal: 2.61s\tremaining: 949ms\n",
      "88:\tlearn: 0.3490656\ttotal: 2.63s\tremaining: 915ms\n",
      "89:\tlearn: 0.3490656\ttotal: 2.65s\tremaining: 884ms\n",
      "90:\tlearn: 0.3490656\ttotal: 2.71s\tremaining: 865ms\n",
      "91:\tlearn: 0.3490656\ttotal: 2.79s\tremaining: 850ms\n",
      "92:\tlearn: 0.3490656\ttotal: 2.84s\tremaining: 824ms\n",
      "93:\tlearn: 0.3491645\ttotal: 2.87s\tremaining: 795ms\n",
      "94:\tlearn: 0.3490656\ttotal: 2.89s\tremaining: 760ms\n",
      "95:\tlearn: 0.3496319\ttotal: 2.92s\tremaining: 731ms\n",
      "96:\tlearn: 0.3496319\ttotal: 3.06s\tremaining: 724ms\n",
      "97:\tlearn: 0.3496319\ttotal: 3.37s\tremaining: 756ms\n",
      "98:\tlearn: 0.3496319\ttotal: 3.39s\tremaining: 719ms\n",
      "99:\tlearn: 0.3496319\ttotal: 3.44s\tremaining: 688ms\n",
      "100:\tlearn: 0.3496319\ttotal: 3.46s\tremaining: 651ms\n",
      "101:\tlearn: 0.3496319\ttotal: 3.49s\tremaining: 615ms\n",
      "102:\tlearn: 0.3496319\ttotal: 3.5s\tremaining: 577ms\n",
      "103:\tlearn: 0.3496319\ttotal: 3.52s\tremaining: 542ms\n",
      "104:\tlearn: 0.3493204\ttotal: 3.53s\tremaining: 505ms\n",
      "105:\tlearn: 0.3492216\ttotal: 3.57s\tremaining: 471ms\n",
      "106:\tlearn: 0.3490656\ttotal: 3.58s\tremaining: 435ms\n",
      "107:\tlearn: 0.3490656\ttotal: 3.59s\tremaining: 399ms\n",
      "108:\tlearn: 0.3490656\ttotal: 3.6s\tremaining: 363ms\n",
      "109:\tlearn: 0.3490656\ttotal: 3.61s\tremaining: 328ms\n",
      "110:\tlearn: 0.3490656\ttotal: 3.62s\tremaining: 294ms\n",
      "111:\tlearn: 0.3492216\ttotal: 3.66s\tremaining: 261ms\n",
      "112:\tlearn: 0.3492216\ttotal: 3.69s\tremaining: 228ms\n",
      "113:\tlearn: 0.3490656\ttotal: 3.7s\tremaining: 195ms\n",
      "114:\tlearn: 0.3490656\ttotal: 3.77s\tremaining: 164ms\n",
      "115:\tlearn: 0.3492216\ttotal: 3.79s\tremaining: 131ms\n",
      "116:\tlearn: 0.3495332\ttotal: 3.92s\tremaining: 101ms\n",
      "117:\tlearn: 0.3495332\ttotal: 3.94s\tremaining: 66.8ms\n",
      "118:\tlearn: 0.3495332\ttotal: 3.97s\tremaining: 33.3ms\n",
      "119:\tlearn: 0.3495332\ttotal: 3.99s\tremaining: 0us\n",
      "[CV] END ......depth=15, iterations=120, learning_rate=0.005; total time=   5.1s\n",
      "0:\tlearn: 0.3444211\ttotal: 10.7ms\tremaining: 1.27s\n",
      "1:\tlearn: 0.3607926\ttotal: 29.7ms\tremaining: 1.75s\n",
      "2:\tlearn: 0.3491266\ttotal: 42.1ms\tremaining: 1.64s\n",
      "3:\tlearn: 0.3486744\ttotal: 61.5ms\tremaining: 1.78s\n",
      "4:\tlearn: 0.3577091\ttotal: 77.5ms\tremaining: 1.78s\n",
      "5:\tlearn: 0.3518960\ttotal: 96.6ms\tremaining: 1.83s\n",
      "6:\tlearn: 0.3578611\ttotal: 171ms\tremaining: 2.77s\n",
      "7:\tlearn: 0.3561595\ttotal: 197ms\tremaining: 2.76s\n",
      "8:\tlearn: 0.3581489\ttotal: 224ms\tremaining: 2.77s\n",
      "9:\tlearn: 0.3582407\ttotal: 239ms\tremaining: 2.63s\n",
      "10:\tlearn: 0.3571429\ttotal: 265ms\tremaining: 2.62s\n",
      "11:\tlearn: 0.3583043\ttotal: 274ms\tremaining: 2.46s\n",
      "12:\tlearn: 0.3569862\ttotal: 297ms\tremaining: 2.44s\n",
      "13:\tlearn: 0.3582372\ttotal: 318ms\tremaining: 2.41s\n",
      "14:\tlearn: 0.3573924\ttotal: 337ms\tremaining: 2.36s\n",
      "15:\tlearn: 0.3583801\ttotal: 350ms\tremaining: 2.28s\n",
      "16:\tlearn: 0.3582831\ttotal: 363ms\tremaining: 2.2s\n",
      "17:\tlearn: 0.3579371\ttotal: 376ms\tremaining: 2.13s\n",
      "18:\tlearn: 0.3575022\ttotal: 391ms\tremaining: 2.08s\n",
      "19:\tlearn: 0.3560116\ttotal: 407ms\tremaining: 2.04s\n",
      "20:\tlearn: 0.3574896\ttotal: 424ms\tremaining: 2s\n",
      "21:\tlearn: 0.3573924\ttotal: 438ms\tremaining: 1.95s\n",
      "22:\tlearn: 0.3573712\ttotal: 489ms\tremaining: 2.06s\n",
      "23:\tlearn: 0.3562619\ttotal: 501ms\tremaining: 2s\n",
      "24:\tlearn: 0.3562066\ttotal: 512ms\tremaining: 1.95s\n",
      "25:\tlearn: 0.3577602\ttotal: 534ms\tremaining: 1.93s\n",
      "26:\tlearn: 0.3577602\ttotal: 548ms\tremaining: 1.89s\n",
      "27:\tlearn: 0.3554342\ttotal: 562ms\tremaining: 1.85s\n",
      "28:\tlearn: 0.3554764\ttotal: 574ms\tremaining: 1.8s\n",
      "29:\tlearn: 0.3554764\ttotal: 583ms\tremaining: 1.75s\n",
      "30:\tlearn: 0.3549958\ttotal: 597ms\tremaining: 1.72s\n",
      "31:\tlearn: 0.3549958\ttotal: 683ms\tremaining: 1.88s\n",
      "32:\tlearn: 0.3548981\ttotal: 694ms\tremaining: 1.83s\n",
      "33:\tlearn: 0.3572275\ttotal: 719ms\tremaining: 1.82s\n",
      "34:\tlearn: 0.3573586\ttotal: 850ms\tremaining: 2.06s\n",
      "35:\tlearn: 0.3572275\ttotal: 861ms\tremaining: 2.01s\n",
      "36:\tlearn: 0.3573586\ttotal: 883ms\tremaining: 1.98s\n",
      "37:\tlearn: 0.3572487\ttotal: 894ms\tremaining: 1.93s\n",
      "38:\tlearn: 0.3572487\ttotal: 911ms\tremaining: 1.89s\n",
      "39:\tlearn: 0.3573460\ttotal: 938ms\tremaining: 1.88s\n",
      "40:\tlearn: 0.3573460\ttotal: 952ms\tremaining: 1.83s\n",
      "41:\tlearn: 0.3573460\ttotal: 965ms\tremaining: 1.79s\n",
      "42:\tlearn: 0.3573460\ttotal: 976ms\tremaining: 1.75s\n",
      "43:\tlearn: 0.3568676\ttotal: 996ms\tremaining: 1.72s\n",
      "44:\tlearn: 0.3568676\ttotal: 1.01s\tremaining: 1.69s\n",
      "45:\tlearn: 0.3571513\ttotal: 1.05s\tremaining: 1.68s\n",
      "46:\tlearn: 0.3578449\ttotal: 1.07s\tremaining: 1.66s\n",
      "47:\tlearn: 0.3577476\ttotal: 1.15s\tremaining: 1.72s\n",
      "48:\tlearn: 0.3577476\ttotal: 1.16s\tremaining: 1.67s\n",
      "49:\tlearn: 0.3577476\ttotal: 1.17s\tremaining: 1.64s\n",
      "50:\tlearn: 0.3577476\ttotal: 1.22s\tremaining: 1.65s\n",
      "51:\tlearn: 0.3578449\ttotal: 1.23s\tremaining: 1.61s\n",
      "52:\tlearn: 0.3578449\ttotal: 1.27s\tremaining: 1.6s\n",
      "53:\tlearn: 0.3578449\ttotal: 1.28s\tremaining: 1.57s\n",
      "54:\tlearn: 0.3574771\ttotal: 1.3s\tremaining: 1.54s\n",
      "55:\tlearn: 0.3574771\ttotal: 1.31s\tremaining: 1.5s\n",
      "56:\tlearn: 0.3571513\ttotal: 1.34s\tremaining: 1.48s\n",
      "57:\tlearn: 0.3571513\ttotal: 1.35s\tremaining: 1.45s\n",
      "58:\tlearn: 0.3571513\ttotal: 1.37s\tremaining: 1.42s\n",
      "59:\tlearn: 0.3570540\ttotal: 1.4s\tremaining: 1.4s\n",
      "60:\tlearn: 0.3570540\ttotal: 1.41s\tremaining: 1.36s\n",
      "61:\tlearn: 0.3569566\ttotal: 1.43s\tremaining: 1.33s\n",
      "62:\tlearn: 0.3573248\ttotal: 1.46s\tremaining: 1.32s\n",
      "63:\tlearn: 0.3573248\ttotal: 1.48s\tremaining: 1.29s\n",
      "64:\tlearn: 0.3573248\ttotal: 1.5s\tremaining: 1.26s\n",
      "65:\tlearn: 0.3573248\ttotal: 1.51s\tremaining: 1.24s\n",
      "66:\tlearn: 0.3573248\ttotal: 1.53s\tremaining: 1.21s\n",
      "67:\tlearn: 0.3573248\ttotal: 1.61s\tremaining: 1.24s\n",
      "68:\tlearn: 0.3573248\ttotal: 1.62s\tremaining: 1.2s\n",
      "69:\tlearn: 0.3569566\ttotal: 1.67s\tremaining: 1.2s\n",
      "70:\tlearn: 0.3573248\ttotal: 1.69s\tremaining: 1.17s\n",
      "71:\tlearn: 0.3569566\ttotal: 1.7s\tremaining: 1.14s\n",
      "72:\tlearn: 0.3569566\ttotal: 1.73s\tremaining: 1.11s\n",
      "73:\tlearn: 0.3569566\ttotal: 1.74s\tremaining: 1.08s\n",
      "74:\tlearn: 0.3569566\ttotal: 1.76s\tremaining: 1.05s\n",
      "75:\tlearn: 0.3569566\ttotal: 1.77s\tremaining: 1.03s\n",
      "76:\tlearn: 0.3569566\ttotal: 1.79s\tremaining: 998ms\n",
      "77:\tlearn: 0.3569566\ttotal: 1.8s\tremaining: 972ms\n",
      "78:\tlearn: 0.3569566\ttotal: 1.82s\tremaining: 944ms\n",
      "79:\tlearn: 0.3569566\ttotal: 1.83s\tremaining: 916ms\n",
      "80:\tlearn: 0.3569566\ttotal: 1.85s\tremaining: 890ms\n",
      "81:\tlearn: 0.3570540\ttotal: 1.98s\tremaining: 917ms\n",
      "82:\tlearn: 0.3570540\ttotal: 2.12s\tremaining: 943ms\n",
      "83:\tlearn: 0.3570540\ttotal: 2.12s\tremaining: 911ms\n",
      "84:\tlearn: 0.3570540\ttotal: 2.17s\tremaining: 896ms\n",
      "85:\tlearn: 0.3570540\ttotal: 2.19s\tremaining: 867ms\n",
      "86:\tlearn: 0.3570540\ttotal: 2.21s\tremaining: 839ms\n",
      "87:\tlearn: 0.3570540\ttotal: 2.24s\tremaining: 813ms\n",
      "88:\tlearn: 0.3570540\ttotal: 2.25s\tremaining: 783ms\n",
      "89:\tlearn: 0.3570540\ttotal: 2.28s\tremaining: 762ms\n",
      "90:\tlearn: 0.3570540\ttotal: 2.34s\tremaining: 746ms\n",
      "91:\tlearn: 0.3570540\ttotal: 2.36s\tremaining: 718ms\n",
      "92:\tlearn: 0.3570540\ttotal: 2.4s\tremaining: 696ms\n",
      "93:\tlearn: 0.3570540\ttotal: 2.41s\tremaining: 667ms\n",
      "94:\tlearn: 0.3570540\ttotal: 2.43s\tremaining: 640ms\n",
      "95:\tlearn: 0.3570540\ttotal: 2.45s\tremaining: 612ms\n",
      "96:\tlearn: 0.3570540\ttotal: 2.46s\tremaining: 582ms\n",
      "97:\tlearn: 0.3570540\ttotal: 2.47s\tremaining: 555ms\n",
      "98:\tlearn: 0.3570540\ttotal: 2.48s\tremaining: 526ms\n",
      "99:\tlearn: 0.3570540\ttotal: 2.5s\tremaining: 501ms\n",
      "100:\tlearn: 0.3570540\ttotal: 2.56s\tremaining: 481ms\n",
      "101:\tlearn: 0.3570540\ttotal: 2.58s\tremaining: 455ms\n",
      "102:\tlearn: 0.3570540\ttotal: 2.59s\tremaining: 428ms\n",
      "103:\tlearn: 0.3570540\ttotal: 2.6s\tremaining: 401ms\n",
      "104:\tlearn: 0.3570540\ttotal: 2.62s\tremaining: 374ms\n",
      "105:\tlearn: 0.3570540\ttotal: 2.63s\tremaining: 347ms\n",
      "106:\tlearn: 0.3570540\ttotal: 2.64s\tremaining: 320ms\n",
      "107:\tlearn: 0.3570540\ttotal: 2.67s\tremaining: 297ms\n",
      "108:\tlearn: 0.3570540\ttotal: 2.68s\tremaining: 271ms\n",
      "109:\tlearn: 0.3570540\ttotal: 2.73s\tremaining: 249ms\n",
      "110:\tlearn: 0.3570540\ttotal: 2.74s\tremaining: 222ms\n",
      "111:\tlearn: 0.3570540\ttotal: 2.75s\tremaining: 196ms\n",
      "112:\tlearn: 0.3570540\ttotal: 2.83s\tremaining: 175ms\n",
      "113:\tlearn: 0.3570540\ttotal: 2.85s\tremaining: 150ms\n",
      "114:\tlearn: 0.3570540\ttotal: 2.87s\tremaining: 125ms\n",
      "115:\tlearn: 0.3570540\ttotal: 2.88s\tremaining: 99.4ms\n",
      "116:\tlearn: 0.3570540\ttotal: 2.94s\tremaining: 75.3ms\n",
      "117:\tlearn: 0.3570540\ttotal: 2.99s\tremaining: 50.6ms\n",
      "118:\tlearn: 0.3572487\ttotal: 3s\tremaining: 25.2ms\n",
      "119:\tlearn: 0.3572487\ttotal: 3.05s\tremaining: 0us\n",
      "[CV] END ......depth=15, iterations=120, learning_rate=0.005; total time=   4.1s\n",
      "0:\tlearn: 0.3454291\ttotal: 17.8ms\tremaining: 2.12s\n",
      "1:\tlearn: 0.3465166\ttotal: 37.6ms\tremaining: 2.22s\n",
      "2:\tlearn: 0.5006264\ttotal: 54.6ms\tremaining: 2.13s\n",
      "3:\tlearn: 0.5485025\ttotal: 71.4ms\tremaining: 2.07s\n",
      "4:\tlearn: 0.5489880\ttotal: 87.9ms\tremaining: 2.02s\n",
      "5:\tlearn: 0.5885367\ttotal: 104ms\tremaining: 1.98s\n",
      "6:\tlearn: 0.5700642\ttotal: 121ms\tremaining: 1.95s\n",
      "7:\tlearn: 0.5724730\ttotal: 138ms\tremaining: 1.93s\n",
      "8:\tlearn: 0.5799354\ttotal: 154ms\tremaining: 1.9s\n",
      "9:\tlearn: 0.5821243\ttotal: 171ms\tremaining: 1.88s\n",
      "10:\tlearn: 0.5787305\ttotal: 188ms\tremaining: 1.87s\n",
      "11:\tlearn: 0.5707515\ttotal: 204ms\tremaining: 1.83s\n",
      "12:\tlearn: 0.5707611\ttotal: 222ms\tremaining: 1.83s\n",
      "13:\tlearn: 0.5749344\ttotal: 238ms\tremaining: 1.8s\n",
      "14:\tlearn: 0.5660429\ttotal: 255ms\tremaining: 1.78s\n",
      "15:\tlearn: 0.5696792\ttotal: 272ms\tremaining: 1.77s\n",
      "16:\tlearn: 0.5686114\ttotal: 290ms\tremaining: 1.75s\n",
      "17:\tlearn: 0.5748233\ttotal: 307ms\tremaining: 1.74s\n",
      "18:\tlearn: 0.5707680\ttotal: 324ms\tremaining: 1.72s\n",
      "19:\tlearn: 0.5708554\ttotal: 341ms\tremaining: 1.71s\n",
      "20:\tlearn: 0.5726493\ttotal: 358ms\tremaining: 1.69s\n",
      "21:\tlearn: 0.5745329\ttotal: 374ms\tremaining: 1.67s\n",
      "22:\tlearn: 0.5761879\ttotal: 391ms\tremaining: 1.65s\n",
      "23:\tlearn: 0.5753757\ttotal: 407ms\tremaining: 1.63s\n",
      "24:\tlearn: 0.5769723\ttotal: 424ms\tremaining: 1.61s\n",
      "25:\tlearn: 0.5757412\ttotal: 441ms\tremaining: 1.59s\n",
      "26:\tlearn: 0.5755779\ttotal: 458ms\tremaining: 1.58s\n",
      "27:\tlearn: 0.5757596\ttotal: 475ms\tremaining: 1.56s\n",
      "28:\tlearn: 0.5756167\ttotal: 493ms\tremaining: 1.55s\n",
      "29:\tlearn: 0.5787637\ttotal: 510ms\tremaining: 1.53s\n",
      "30:\tlearn: 0.5785940\ttotal: 527ms\tremaining: 1.51s\n",
      "31:\tlearn: 0.5806279\ttotal: 547ms\tremaining: 1.5s\n",
      "32:\tlearn: 0.5808678\ttotal: 567ms\tremaining: 1.49s\n",
      "33:\tlearn: 0.5808658\ttotal: 584ms\tremaining: 1.48s\n",
      "34:\tlearn: 0.5807166\ttotal: 601ms\tremaining: 1.46s\n",
      "35:\tlearn: 0.5812098\ttotal: 620ms\tremaining: 1.45s\n",
      "36:\tlearn: 0.5813135\ttotal: 638ms\tremaining: 1.43s\n",
      "37:\tlearn: 0.5817573\ttotal: 657ms\tremaining: 1.42s\n",
      "38:\tlearn: 0.5809154\ttotal: 673ms\tremaining: 1.4s\n",
      "39:\tlearn: 0.5847672\ttotal: 689ms\tremaining: 1.38s\n",
      "40:\tlearn: 0.5829938\ttotal: 706ms\tremaining: 1.36s\n",
      "41:\tlearn: 0.5858331\ttotal: 721ms\tremaining: 1.34s\n",
      "42:\tlearn: 0.5858102\ttotal: 737ms\tremaining: 1.32s\n",
      "43:\tlearn: 0.5861266\ttotal: 753ms\tremaining: 1.3s\n",
      "44:\tlearn: 0.5861266\ttotal: 770ms\tremaining: 1.28s\n",
      "45:\tlearn: 0.5861347\ttotal: 787ms\tremaining: 1.26s\n",
      "46:\tlearn: 0.5861106\ttotal: 804ms\tremaining: 1.25s\n",
      "47:\tlearn: 0.5860440\ttotal: 820ms\tremaining: 1.23s\n",
      "48:\tlearn: 0.5860555\ttotal: 839ms\tremaining: 1.22s\n",
      "49:\tlearn: 0.5863307\ttotal: 856ms\tremaining: 1.2s\n",
      "50:\tlearn: 0.5868887\ttotal: 873ms\tremaining: 1.18s\n",
      "51:\tlearn: 0.5866029\ttotal: 890ms\tremaining: 1.16s\n",
      "52:\tlearn: 0.5873774\ttotal: 906ms\tremaining: 1.15s\n",
      "53:\tlearn: 0.5872563\ttotal: 932ms\tremaining: 1.14s\n",
      "54:\tlearn: 0.5880326\ttotal: 959ms\tremaining: 1.13s\n",
      "55:\tlearn: 0.5881456\ttotal: 982ms\tremaining: 1.12s\n",
      "56:\tlearn: 0.5850087\ttotal: 997ms\tremaining: 1.1s\n",
      "57:\tlearn: 0.5880521\ttotal: 1.01s\tremaining: 1.08s\n",
      "58:\tlearn: 0.5877789\ttotal: 1.03s\tremaining: 1.06s\n",
      "59:\tlearn: 0.5867722\ttotal: 1.05s\tremaining: 1.05s\n",
      "60:\tlearn: 0.5868857\ttotal: 1.06s\tremaining: 1.03s\n",
      "61:\tlearn: 0.5868936\ttotal: 1.08s\tremaining: 1.01s\n",
      "62:\tlearn: 0.5869132\ttotal: 1.1s\tremaining: 993ms\n",
      "63:\tlearn: 0.5854406\ttotal: 1.11s\tremaining: 975ms\n",
      "64:\tlearn: 0.5854260\ttotal: 1.13s\tremaining: 957ms\n",
      "65:\tlearn: 0.5844477\ttotal: 1.15s\tremaining: 939ms\n",
      "66:\tlearn: 0.5844703\ttotal: 1.16s\tremaining: 921ms\n",
      "67:\tlearn: 0.5856235\ttotal: 1.18s\tremaining: 903ms\n",
      "68:\tlearn: 0.5895869\ttotal: 1.2s\tremaining: 884ms\n",
      "69:\tlearn: 0.5868731\ttotal: 1.21s\tremaining: 866ms\n",
      "70:\tlearn: 0.5866684\ttotal: 1.23s\tremaining: 849ms\n",
      "71:\tlearn: 0.5855259\ttotal: 1.25s\tremaining: 831ms\n",
      "72:\tlearn: 0.5856842\ttotal: 1.26s\tremaining: 814ms\n",
      "73:\tlearn: 0.5856842\ttotal: 1.28s\tremaining: 796ms\n",
      "74:\tlearn: 0.5826348\ttotal: 1.3s\tremaining: 778ms\n",
      "75:\tlearn: 0.5843323\ttotal: 1.31s\tremaining: 761ms\n",
      "76:\tlearn: 0.5847691\ttotal: 1.33s\tremaining: 744ms\n",
      "77:\tlearn: 0.5847125\ttotal: 1.35s\tremaining: 726ms\n",
      "78:\tlearn: 0.5848518\ttotal: 1.36s\tremaining: 709ms\n",
      "79:\tlearn: 0.5847580\ttotal: 1.38s\tremaining: 691ms\n",
      "80:\tlearn: 0.5851071\ttotal: 1.4s\tremaining: 673ms\n",
      "81:\tlearn: 0.5858085\ttotal: 1.42s\tremaining: 656ms\n",
      "82:\tlearn: 0.5868047\ttotal: 1.43s\tremaining: 638ms\n",
      "83:\tlearn: 0.5877445\ttotal: 1.45s\tremaining: 621ms\n",
      "84:\tlearn: 0.5877796\ttotal: 1.47s\tremaining: 604ms\n",
      "85:\tlearn: 0.5877796\ttotal: 1.48s\tremaining: 587ms\n",
      "86:\tlearn: 0.5877559\ttotal: 1.5s\tremaining: 569ms\n",
      "87:\tlearn: 0.5889836\ttotal: 1.52s\tremaining: 552ms\n",
      "88:\tlearn: 0.5889836\ttotal: 1.54s\tremaining: 535ms\n",
      "89:\tlearn: 0.5889321\ttotal: 1.55s\tremaining: 518ms\n",
      "90:\tlearn: 0.5878534\ttotal: 1.57s\tremaining: 501ms\n",
      "91:\tlearn: 0.5879952\ttotal: 1.59s\tremaining: 483ms\n",
      "92:\tlearn: 0.5879952\ttotal: 1.6s\tremaining: 466ms\n",
      "93:\tlearn: 0.5867830\ttotal: 1.62s\tremaining: 448ms\n",
      "94:\tlearn: 0.5868931\ttotal: 1.64s\tremaining: 431ms\n",
      "95:\tlearn: 0.5874126\ttotal: 1.65s\tremaining: 414ms\n",
      "96:\tlearn: 0.5878335\ttotal: 1.67s\tremaining: 396ms\n",
      "97:\tlearn: 0.5883219\ttotal: 1.69s\tremaining: 379ms\n",
      "98:\tlearn: 0.5883219\ttotal: 1.71s\tremaining: 362ms\n",
      "99:\tlearn: 0.5883101\ttotal: 1.72s\tremaining: 345ms\n",
      "100:\tlearn: 0.5879283\ttotal: 1.74s\tremaining: 327ms\n",
      "101:\tlearn: 0.5876787\ttotal: 1.76s\tremaining: 310ms\n",
      "102:\tlearn: 0.5876271\ttotal: 1.77s\tremaining: 293ms\n",
      "103:\tlearn: 0.5880421\ttotal: 1.79s\tremaining: 275ms\n",
      "104:\tlearn: 0.5882550\ttotal: 1.81s\tremaining: 258ms\n",
      "105:\tlearn: 0.5880499\ttotal: 1.82s\tremaining: 241ms\n",
      "106:\tlearn: 0.5879631\ttotal: 1.84s\tremaining: 224ms\n",
      "107:\tlearn: 0.5879476\ttotal: 1.86s\tremaining: 206ms\n",
      "108:\tlearn: 0.5880933\ttotal: 1.87s\tremaining: 189ms\n",
      "109:\tlearn: 0.5877378\ttotal: 1.89s\tremaining: 172ms\n",
      "110:\tlearn: 0.5871597\ttotal: 1.91s\tremaining: 155ms\n",
      "111:\tlearn: 0.5855057\ttotal: 1.93s\tremaining: 138ms\n",
      "112:\tlearn: 0.5882709\ttotal: 1.95s\tremaining: 120ms\n",
      "113:\tlearn: 0.5882432\ttotal: 1.96s\tremaining: 103ms\n",
      "114:\tlearn: 0.5882827\ttotal: 1.98s\tremaining: 86ms\n",
      "115:\tlearn: 0.5882827\ttotal: 2s\tremaining: 68.8ms\n",
      "116:\tlearn: 0.5885315\ttotal: 2.01s\tremaining: 51.6ms\n",
      "117:\tlearn: 0.5849770\ttotal: 2.03s\tremaining: 34.4ms\n",
      "118:\tlearn: 0.5896081\ttotal: 2.04s\tremaining: 17.2ms\n",
      "119:\tlearn: 0.5897530\ttotal: 2.06s\tremaining: 0us\n",
      "CPU times: user 7min 14s, sys: 3.38 s, total: 7min 18s\n",
      "Wall time: 8min 16s\n"
     ]
    }
   ],
   "source": [
    "%%time\n",
    "catboost_grid.fit(features_train,target_train,cat_features=categorical_features)\n",
    "# сохраним лучшую модель\n",
    "best_model_CB = catboost_grid.best_estimator_\n",
    "# сохраним лучшее значение метрики\n",
    "final_metrics_CB = best_model_CB.best_score_"
   ]
  },
  {
   "cell_type": "code",
   "execution_count": 61,
   "id": "23aaaa40",
   "metadata": {},
   "outputs": [
    {
     "name": "stdout",
     "output_type": "stream",
     "text": [
      "Оптимальные гиперпараметры:\n",
      "{'learning_rate': 1, 'iterations': 120, 'depth': 5}\n",
      " f-beta: {'learn': {'Logloss': 0.6321290270192292, 'F1': 0.589753016276194}}\n"
     ]
    }
   ],
   "source": [
    "print(f'Оптимальные гиперпараметры:\\n{catboost_grid.best_params_}\\n f-beta: {final_metrics_CB}')"
   ]
  },
  {
   "cell_type": "code",
   "execution_count": 62,
   "id": "1aa2eccf",
   "metadata": {
    "scrolled": true
   },
   "outputs": [
    {
     "name": "stdout",
     "output_type": "stream",
     "text": [
      "F-beta на валидационной выборке: 0.603536612385067\n"
     ]
    }
   ],
   "source": [
    "pred_cat = best_model_CB.predict(features_valid)\n",
    "print('F-beta на валидационной выборке:', fbeta_score(pred_cat, target_valid,beta=2))"
   ]
  },
  {
   "cell_type": "markdown",
   "id": "a10369fb",
   "metadata": {},
   "source": [
    "<div style=\"padding: 30px 25px; border: 2px #6495ed solid\">\n",
    "\n",
    "#### промежуточный вывод:\n",
    "- Оптимальные гитерпараметры для алгоритма catboost:\n",
    "    - 'iterations': 100\n",
    "    - 'learning_rate': 1\n",
    "    - 'depth': 5\n",
    "---\n",
    "- Метрика качества f1 на обучающих данных составляет: 0.55\n",
    "\n",
    "    \n",
    "</div>"
   ]
  },
  {
   "cell_type": "markdown",
   "id": "71fe5d6d",
   "metadata": {},
   "source": [
    "<div style=\"padding: 10px 15px;\n",
    "            border: 4px #6495ed solid;\n",
    "            text-align:center>\"\n",
    "    \n",
    "### своя нейросеть"
   ]
  },
  {
   "cell_type": "markdown",
   "id": "43dec9b2",
   "metadata": {},
   "source": [
    "# Создадим тензоры\n",
    "X_train = torch.Tensor(features_train_transformed)\n",
    "X_test = torch.Tensor(features_test_transformed)\n",
    "\n",
    "y_train = torch.FloatTensor(target_train.values)\n",
    "y_test = torch.FloatTensor(target_test.values)"
   ]
  },
  {
   "cell_type": "markdown",
   "id": "cdd9e9ba",
   "metadata": {},
   "source": [
    "print('Кол-во строк и столбцов в X_train выборке:', X_train.shape)\n",
    "print('Кол-во строк и столбцов в X_test выборке:', X_test.shape)\n",
    "\n",
    "print('Кол-во строк и столбцов в y_train выборке:', y_train.shape)\n",
    "print('Кол-во строк и столбцов в y_test выборке:', y_test.shape)"
   ]
  },
  {
   "cell_type": "markdown",
   "id": "c8d0a504",
   "metadata": {},
   "source": [
    "# параметры слоев сети\n",
    "n_in_neurons = 47\n",
    "n_hidden_neurons_1 = 24\n",
    "n_hidden_neurons_2 = 12\n",
    "n_out_neurons = 1"
   ]
  },
  {
   "cell_type": "markdown",
   "id": "332824ad",
   "metadata": {},
   "source": [
    "class Model(nn.Module):\n",
    "    def __init__(self, n_in_neurons, n_hidden_neurons_1, n_hidden_neurons_2, n_out_neurons):\n",
    "        super(Model, self).__init__()\n",
    "        \n",
    "        self.fc1 = nn.Linear(n_in_neurons, n_hidden_neurons_1)\n",
    "        self.act1 = nn.ReLU()\n",
    "        self.fc2 = nn.Linear(n_hidden_neurons_1, n_hidden_neurons_2)\n",
    "        self.act2 = nn.ReLU()\n",
    "        self.fc3 = nn.Linear(n_hidden_neurons_2, n_out_neurons)\n",
    "        self.act3 = nn.ReLU()\n",
    "        \n",
    "        # Инициализация весов и смещений с помощью Xavier (Glorot initialization)\n",
    "        init.xavier_uniform_(self.fc1.weight)\n",
    "        init.constant_(self.fc1.bias, 0)  # Мы инициализируем смещения нулями\n",
    "        init.xavier_uniform_(self.fc2.weight)\n",
    "        init.constant_(self.fc2.bias, 0)\n",
    "        init.xavier_uniform_(self.fc3.weight)\n",
    "        init.constant_(self.fc3.bias, 0)\n",
    "        \n",
    "    def forward(self, x):\n",
    "        x = self.fc1(x)\n",
    "        x = self.act1(x)\n",
    "        x = self.fc2(x)\n",
    "        x = self.act1(x)\n",
    "        x = self.fc3(x)\n",
    "        x = self.act3(x)\n",
    "        \n",
    "        return x"
   ]
  },
  {
   "cell_type": "markdown",
   "id": "ad38f40d",
   "metadata": {},
   "source": [
    "# Укажем параметры сети\n",
    "net = Model(n_in_neurons, n_hidden_neurons_1, n_hidden_neurons_2, n_out_neurons)\n",
    "loss =  nn.CrossEntropyLoss()\n",
    "optimizer = torch.optim.Adam(net.parameters(), lr=0.01)\n",
    "num_epochs = 200\n",
    "batch_size = 20\n",
    "num_batches = ceil(len(X_train)/batch_size)"
   ]
  },
  {
   "cell_type": "markdown",
   "id": "c6a6a40b",
   "metadata": {},
   "source": [
    "from torch.utils.data import DataLoader, TensorDataset\n",
    "\n",
    "# Создание DataLoader для тестовых данных\n",
    "test_dataset = TensorDataset(X_test, y_test)\n",
    "test_dataloader = DataLoader(test_dataset, batch_size=batch_size, shuffle=False)\n"
   ]
  },
  {
   "cell_type": "markdown",
   "id": "e52cd0d0",
   "metadata": {},
   "source": [
    " %%time\n",
    "# Найдем значение f1\n",
    "df = {'epoch': [], 'f1': []}\n",
    "total_step = len(X_train)\n",
    "\n",
    "for epoch in range(num_epochs):\n",
    "    net.train()\n",
    "    order = np.random.permutation(len(X_train))\n",
    "    \n",
    "    for batch_idx in range(num_batches):\n",
    "        start_idx = batch_idx * batch_size\n",
    "        end_idx = min((batch_idx + 1) * batch_size, len(X_train))\n",
    "        optimizer.zero_grad()\n",
    "        \n",
    "        batch_indexes = order[start_idx:end_idx]\n",
    "        X_batch = X_train[batch_indexes]\n",
    "        y_batch = y_train[batch_indexes]\n",
    "        y_batch = y_batch.view(-1,1)\n",
    "        \n",
    "        preds_train = net.forward(X_batch)\n",
    "        loss_value_train = loss(preds_train, y_batch)\n",
    "        loss_value_train.backward()\n",
    "        optimizer.step()\n",
    "    \n",
    "    if (epoch+1) % 10 == 0 or epoch == num_epochs:\n",
    "        net.eval()\n",
    "        true_labels = []\n",
    "        predicted_labels = []\n",
    "        \n",
    "    with torch.no_grad():\n",
    "        true_labels = []\n",
    "        predicted_labels = []\n",
    "    \n",
    "        for X_test_batch, y_test_batch in test_dataloader:\n",
    "            preds_test = net.forward(X_test_batch).argmax(dim=1).cpu().numpy()  # argmax для получения предсказанных классов\n",
    "            true_labels.extend(y_test_batch.cpu().numpy())\n",
    "            predicted_labels.extend(preds_test)\n",
    "        \n",
    "        f1 = f1_score(true_labels, predicted_labels)\n",
    "        print('Эпоха [{}/{}], F1 Score: {:.4f}'.format(epoch+1, num_epochs, f1))\n",
    "        df['epoch'].append(epoch+1)\n",
    "        df['f1'].append(f1)\n",
    "\n",
    "pivot = pd.DataFrame(data=df)\n",
    "print(pivot.head())\n"
   ]
  },
  {
   "cell_type": "markdown",
   "id": "0e8d5340",
   "metadata": {
    "scrolled": true
   },
   "source": [
    "fig, ax = plt.subplots(figsize=(5,5))\n",
    "\n",
    "sns.lineplot(data = df, y='f1', x='epoch')\n",
    "\n",
    "plt.title('зависимость f1 от эпохи')\n",
    "plt.xlabel('эпохи')\n",
    "plt.ylabel('f1')\n",
    "plt.show()"
   ]
  },
  {
   "cell_type": "markdown",
   "id": "32f7230b",
   "metadata": {},
   "source": [
    "<div style=\"padding:0px 20px 10px; \n",
    "            color:#004346;\n",
    "            font-size:15px;\n",
    "            display:fill;\n",
    "            text-align:center;\n",
    "            border-radius:0px;\n",
    "            border: 5px double;\n",
    "            border-color:#9966FF;\n",
    "            background-color: #FFFFCC;\n",
    "            overflow:hidden;\n",
    "            font-weight:400\"> \n",
    "    \n",
    "### выбор и тестирование финальной модели"
   ]
  },
  {
   "cell_type": "code",
   "execution_count": 63,
   "id": "84e9f7fc",
   "metadata": {},
   "outputs": [
    {
     "data": {
      "text/html": [
       "<div>\n",
       "<style scoped>\n",
       "    .dataframe tbody tr th:only-of-type {\n",
       "        vertical-align: middle;\n",
       "    }\n",
       "\n",
       "    .dataframe tbody tr th {\n",
       "        vertical-align: top;\n",
       "    }\n",
       "\n",
       "    .dataframe thead th {\n",
       "        text-align: right;\n",
       "    }\n",
       "</style>\n",
       "<table border=\"1\" class=\"dataframe\">\n",
       "  <thead>\n",
       "    <tr style=\"text-align: right;\">\n",
       "      <th></th>\n",
       "      <th>model</th>\n",
       "      <th>training_f-beta</th>\n",
       "    </tr>\n",
       "  </thead>\n",
       "  <tbody>\n",
       "    <tr>\n",
       "      <th>0</th>\n",
       "      <td>SVC</td>\n",
       "      <td>0.596507</td>\n",
       "    </tr>\n",
       "    <tr>\n",
       "      <th>1</th>\n",
       "      <td>Decision Tree</td>\n",
       "      <td>0.592500</td>\n",
       "    </tr>\n",
       "    <tr>\n",
       "      <th>2</th>\n",
       "      <td>Random Forest</td>\n",
       "      <td>0.579958</td>\n",
       "    </tr>\n",
       "    <tr>\n",
       "      <th>3</th>\n",
       "      <td>CatBoost</td>\n",
       "      <td>0.598273</td>\n",
       "    </tr>\n",
       "  </tbody>\n",
       "</table>\n",
       "</div>"
      ],
      "text/plain": [
       "           model  training_f-beta\n",
       "0            SVC         0.596507\n",
       "1  Decision Tree         0.592500\n",
       "2  Random Forest         0.579958\n",
       "3       CatBoost         0.598273"
      ]
     },
     "execution_count": 63,
     "metadata": {},
     "output_type": "execute_result"
    }
   ],
   "source": [
    "predictive_model_scores = pd.DataFrame(data= [('SVC',fbeta_score\n",
    "                                              (pred,target_test,beta=2)),\n",
    "                                              \n",
    "                                              ('Decision Tree',fbeta_score\n",
    "                                              (best_model_DT.predict(features_test),target_test,beta=2)), \n",
    "                                             \n",
    "                                             ('Random Forest',fbeta_score\n",
    "                                              (best_model_RF.predict(features_test),target_test,beta=2)),\n",
    "                                             \n",
    "                                            ('CatBoost',fbeta_score\n",
    "                                             (best_model_CB.predict(features_test),target_test,beta=2))], \n",
    "                                       columns=['model', 'training_f-beta'])\n",
    "predictive_model_scores"
   ]
  },
  {
   "cell_type": "code",
   "execution_count": 64,
   "id": "f7a46679",
   "metadata": {},
   "outputs": [],
   "source": [
    "predicted_test_cb = best_model_CB.predict(features_test)"
   ]
  },
  {
   "cell_type": "code",
   "execution_count": 76,
   "id": "49725884",
   "metadata": {},
   "outputs": [],
   "source": [
    "predct_proba_test_cb=best_model_CB.predict_proba(features_test)"
   ]
  },
  {
   "cell_type": "code",
   "execution_count": 79,
   "id": "d3482b8a",
   "metadata": {},
   "outputs": [],
   "source": [
    "predct_proba_test_cb= predct_proba_test_cb[:, 1]"
   ]
  },
  {
   "cell_type": "code",
   "execution_count": 65,
   "id": "71b5e8c7",
   "metadata": {},
   "outputs": [],
   "source": [
    "cm_cb = confusion_matrix(target_test, predicted_test_cb)"
   ]
  },
  {
   "cell_type": "code",
   "execution_count": 66,
   "id": "6661ef33",
   "metadata": {},
   "outputs": [],
   "source": [
    "cm_df_cb = pd.DataFrame(cm_cb, index=['Actually Not At Fault', 'Actually At Fault'],\n",
    "                 columns=['Predicted Not At Fault', 'Predicted At Fault'])"
   ]
  },
  {
   "cell_type": "code",
   "execution_count": 68,
   "id": "825d4f72",
   "metadata": {
    "scrolled": true
   },
   "outputs": [
    {
     "data": {
      "image/png": "[encoded data removed]",
      "text/plain": [
       "<Figure size 720x288 with 2 Axes>"
      ]
     },
     "metadata": {},
     "output_type": "display_data"
    }
   ],
   "source": [
    "sns.set(font_scale=1.2)\n",
    "plt.figure(figsize=(10,4))\n",
    "    \n",
    "sns.heatmap(cm_cb, annot=True, fmt='g', cmap=\"Blues\",xticklabels=cm_df_cb.columns, yticklabels=cm_df_cb.index, annot_kws={\"size\": 20})\n",
    "plt.title(\"Матрица ошибок\", size=20)\n",
    "plt.xlabel('Класс предсказаний')\n",
    "plt.ylabel('Реальный класс');"
   ]
  },
  {
   "cell_type": "code",
   "execution_count": 80,
   "id": "311bb90c",
   "metadata": {
    "scrolled": true
   },
   "outputs": [
    {
     "data": {
      "image/png": "[encoded data removed]",
      "text/plain": [
       "<Figure size 432x288 with 1 Axes>"
      ]
     },
     "metadata": {},
     "output_type": "display_data"
    }
   ],
   "source": [
    "prec, recall, _ = precision_recall_curve(target_test,predct_proba_test_cb)\n",
    "pr_display = PrecisionRecallDisplay(precision=prec, recall=recall).plot()"
   ]
  },
  {
   "cell_type": "code",
   "execution_count": null,
   "id": "937279f9",
   "metadata": {},
   "outputs": [],
   "source": [
    "TP = cm_cb[0][0]\n",
    "TN = cm_cb[1][1]\n",
    "FP = cm_cb[0][1]\n",
    "FN = cm_cb[1][0]\n",
    "total = cm_cb[0][0]+cm_cb[1][1]+cm_cb[0][1]+cm_cb[1][0]\n",
    "\n",
    "print('Всего предсказаний:',total)\n",
    "print(f'Правильно классифицированные: {np.round((TP+TN)/total*100)}%')\n",
    "print(f'Правильно классифицированная вина: {np.round(TP/(TP+FN)*100)}%')\n",
    "print(f'Правильно классифицированое отсутствие вины: {np.round(TN/(TN+FP)*100)}%')\n",
    "print(f'Прогнозируемая вина, соответствующая действительности: {np.round(TP/(TP+FP)*100)}%')\n",
    "print(f'Прогнозируемое отсутствие вины, которой так же на самом деле нет: {np.round(TN/(TN+FN)*100)}%')"
   ]
  },
  {
   "cell_type": "markdown",
   "id": "08e7994a",
   "metadata": {},
   "source": [
    "<div style=\"padding: 30px 25px; border: 5px #9966FF solid\">\n",
    "    \n",
    "### вывод по главе 'модель для оценки водительского риска':\n",
    "    \n",
    "- создали и протестировали 4 модели\n",
    "- построили матрицу ошибок лучшей модели\n",
    "- сделали выводы на основе этой матрицы\n",
    "    \n",
    "---\n",
    "- лучшей моделью для финального тестирования окалазась модель Catboost"
   ]
  },
  {
   "cell_type": "markdown",
   "id": "f55505f9",
   "metadata": {},
   "source": [
    "## Проведите анализ важности факторов ДТП"
   ]
  },
  {
   "cell_type": "code",
   "execution_count": null,
   "id": "6bcf8dd2",
   "metadata": {},
   "outputs": [],
   "source": [
    "feat_importances_dt = pd.Series((best_model_CB.feature_importances_), index=features.columns)\n",
    "feat_importances_dt.nlargest(5).plot(kind='barh')\n",
    "plt.show()"
   ]
  },
  {
   "cell_type": "code",
   "execution_count": null,
   "id": "338d3d88",
   "metadata": {},
   "outputs": [],
   "source": [
    "pred=best_model_CB.predict(features_test)"
   ]
  },
  {
   "cell_type": "code",
   "execution_count": null,
   "id": "034cd7c0",
   "metadata": {},
   "outputs": [],
   "source": [
    "importances = best_model_CB.feature_importances_"
   ]
  },
  {
   "cell_type": "code",
   "execution_count": null,
   "id": "83272a67",
   "metadata": {},
   "outputs": [],
   "source": [
    "feature_list = list(features_train.columns)"
   ]
  },
  {
   "cell_type": "code",
   "execution_count": null,
   "id": "d264df38",
   "metadata": {
    "scrolled": true
   },
   "outputs": [],
   "source": [
    "feature_results = pd.DataFrame({'feature': feature_list,'importance': importances})"
   ]
  },
  {
   "cell_type": "code",
   "execution_count": null,
   "id": "895c89e8",
   "metadata": {
    "scrolled": true
   },
   "outputs": [],
   "source": [
    "feature_results.head()"
   ]
  },
  {
   "cell_type": "code",
   "execution_count": null,
   "id": "d2284d00",
   "metadata": {
    "scrolled": true
   },
   "outputs": [],
   "source": [
    "indices = np.argsort(importances)\n",
    "\n",
    "fig, ax = plt.subplots(figsize=(15, 6))\n",
    "ax.barh(range(len(importances)), importances[indices])\n",
    "ax.set_yticks(range(len(importances)))\n",
    "_ = ax.set_yticklabels(np.array(features_train.columns)[indices])"
   ]
  },
  {
   "cell_type": "code",
   "execution_count": null,
   "id": "addd8719",
   "metadata": {
    "scrolled": true
   },
   "outputs": [],
   "source": [
    "group_vehicle_age = df[df['at_fault'] == 1].groupby('vehicle_age')['at_fault'].count().plot(kind='bar', figsize=(15, 6))"
   ]
  },
  {
   "cell_type": "code",
   "execution_count": null,
   "id": "b52ecd62",
   "metadata": {},
   "outputs": [],
   "source": [
    "y_vehicle_age = df[df['at_fault'] == 0].groupby('vehicle_age')['at_fault'].count().plot(kind='bar', figsize=(15, 6))"
   ]
  },
  {
   "cell_type": "code",
   "execution_count": null,
   "id": "80836d7f",
   "metadata": {
    "scrolled": true
   },
   "outputs": [],
   "source": [
    "group_party_sobriety = df[df['at_fault'] == 1].groupby('party_sobriety')['at_fault'].count().plot(kind='bar', figsize=(15, 6))"
   ]
  },
  {
   "cell_type": "code",
   "execution_count": null,
   "id": "62459f80",
   "metadata": {},
   "outputs": [],
   "source": [
    "y_sobriety = df[df['at_fault'] == 0].groupby('party_sobriety')['at_fault'].count().plot(kind='bar', figsize=(15, 6))"
   ]
  },
  {
   "cell_type": "markdown",
   "id": "de8da063",
   "metadata": {},
   "source": [
    "## Выводы"
   ]
  },
  {
   "cell_type": "markdown",
   "id": "8801079c",
   "metadata": {},
   "source": [
    "\n",
    "<div  style=\"padding: 30px 25px; border: 5px #9966FF solid\">\n",
    "    \n",
    "# вывод\n",
    "- выявили, что самый важный фактор ДТП — уровень трезвости виновника party_sobriety. Из таблицы исходных данных известно, что     есть несколько уровней трезвости. Благодоря столбчатой диаграмм, которая отражает зависимость числа ДТП от уровня трезвости, можно сделать вывод, что в основном ДТП происходят, когда участник трезв, но вероятность виновности в ДТП выше, когда участник пьян. Для решения проблемы необходимо оборудовать автомобиль анализатором алкогольного опьянения. Измерение состояния при посадке сделать обязательным условием допуска за руль. А чтобы убедиться, что в трубку дышит именно водитель, добавить камеру с машинным зрением, направленную на водительское место.\n",
    "--- \n",
    "модель с лучшеми параметрми это catboost :\n",
    "- 'depth': 7,\n",
    "- 'iterations': 100,\n",
    "- 'learning_rate': 0.001\n",
    "</div> "
   ]
  }
 ],
 "metadata": {
  "ExecuteTimeLog": [
   {
    "duration": 430,
    "start_time": "2023-09-27T02:38:25.657Z"
   },
   {
    "duration": 93,
    "start_time": "2023-09-27T02:38:34.149Z"
   },
   {
    "duration": 2,
    "start_time": "2023-09-27T02:39:04.058Z"
   },
   {
    "duration": 8,
    "start_time": "2023-09-27T02:39:39.699Z"
   },
   {
    "duration": 4,
    "start_time": "2023-09-27T02:52:18.096Z"
   },
   {
    "duration": 9,
    "start_time": "2023-09-27T02:52:19.336Z"
   },
   {
    "duration": 131,
    "start_time": "2023-09-27T02:52:38.165Z"
   },
   {
    "duration": 9640,
    "start_time": "2023-09-27T02:52:41.970Z"
   },
   {
    "duration": 352,
    "start_time": "2023-09-27T02:52:54.518Z"
   },
   {
    "duration": 48,
    "start_time": "2023-09-27T03:38:20.262Z"
   },
   {
    "duration": 668,
    "start_time": "2023-09-27T03:38:25.541Z"
   },
   {
    "duration": 32,
    "start_time": "2023-09-27T03:38:28.721Z"
   },
   {
    "duration": 4,
    "start_time": "2023-09-27T03:38:32.542Z"
   },
   {
    "duration": 19615,
    "start_time": "2023-09-27T03:38:32.961Z"
   },
   {
    "duration": 381,
    "start_time": "2023-09-27T03:38:52.579Z"
   },
   {
    "duration": 39,
    "start_time": "2023-09-27T03:39:05.846Z"
   },
   {
    "duration": 39,
    "start_time": "2023-09-27T03:39:09.805Z"
   },
   {
    "duration": 26,
    "start_time": "2023-09-27T03:39:18.438Z"
   },
   {
    "duration": 49,
    "start_time": "2023-09-28T02:10:27.482Z"
   },
   {
    "duration": 641,
    "start_time": "2023-09-28T02:10:31.118Z"
   },
   {
    "duration": 3,
    "start_time": "2023-09-28T02:10:36.015Z"
   },
   {
    "duration": 10845,
    "start_time": "2023-09-28T02:10:36.020Z"
   },
   {
    "duration": 216,
    "start_time": "2023-09-28T02:10:46.866Z"
   },
   {
    "duration": 33,
    "start_time": "2023-09-28T02:10:47.083Z"
   },
   {
    "duration": 0,
    "start_time": "2023-09-28T02:10:47.118Z"
   },
   {
    "duration": 0,
    "start_time": "2023-09-28T02:10:47.119Z"
   },
   {
    "duration": 38,
    "start_time": "2023-09-28T02:11:18.906Z"
   },
   {
    "duration": 26,
    "start_time": "2023-09-28T02:11:19.278Z"
   },
   {
    "duration": 36,
    "start_time": "2023-09-28T02:11:23.499Z"
   },
   {
    "duration": 12,
    "start_time": "2023-09-28T02:11:23.699Z"
   },
   {
    "duration": 37,
    "start_time": "2023-09-28T02:12:15.414Z"
   },
   {
    "duration": 9,
    "start_time": "2023-09-28T02:12:15.453Z"
   },
   {
    "duration": 3723,
    "start_time": "2023-09-28T02:45:58.163Z"
   },
   {
    "duration": 18,
    "start_time": "2023-09-28T02:46:01.889Z"
   },
   {
    "duration": 11,
    "start_time": "2023-09-28T02:46:13.651Z"
   },
   {
    "duration": 627,
    "start_time": "2023-09-28T03:25:32.950Z"
   },
   {
    "duration": 5,
    "start_time": "2023-09-28T03:25:33.579Z"
   },
   {
    "duration": 3,
    "start_time": "2023-09-28T03:25:44.279Z"
   },
   {
    "duration": 37,
    "start_time": "2023-09-28T03:25:44.284Z"
   },
   {
    "duration": 22,
    "start_time": "2023-09-28T03:25:44.323Z"
   },
   {
    "duration": 17869,
    "start_time": "2023-09-28T03:25:44.347Z"
   },
   {
    "duration": 37,
    "start_time": "2023-09-28T03:26:02.218Z"
   },
   {
    "duration": 11509,
    "start_time": "2023-09-28T03:26:02.257Z"
   },
   {
    "duration": 11,
    "start_time": "2023-09-28T03:26:13.767Z"
   },
   {
    "duration": 3424,
    "start_time": "2023-09-28T03:26:13.780Z"
   },
   {
    "duration": 10,
    "start_time": "2023-09-28T03:26:17.206Z"
   },
   {
    "duration": 49,
    "start_time": "2023-09-28T03:26:17.218Z"
   },
   {
    "duration": 8753,
    "start_time": "2023-09-28T03:26:17.269Z"
   },
   {
    "duration": 3419,
    "start_time": "2023-09-28T03:26:34.357Z"
   },
   {
    "duration": 1281,
    "start_time": "2023-09-28T03:26:37.778Z"
   },
   {
    "duration": 309,
    "start_time": "2023-09-28T03:28:41.716Z"
   },
   {
    "duration": 633,
    "start_time": "2023-09-28T03:55:37.567Z"
   },
   {
    "duration": 4,
    "start_time": "2023-09-28T03:55:38.202Z"
   },
   {
    "duration": 9662,
    "start_time": "2023-09-28T03:55:38.207Z"
   },
   {
    "duration": 17282,
    "start_time": "2023-09-28T03:55:47.871Z"
   },
   {
    "duration": 25,
    "start_time": "2023-09-28T03:56:05.156Z"
   },
   {
    "duration": 11196,
    "start_time": "2023-09-28T03:56:05.183Z"
   },
   {
    "duration": 12,
    "start_time": "2023-09-28T03:56:16.381Z"
   },
   {
    "duration": 3361,
    "start_time": "2023-09-28T03:56:16.401Z"
   },
   {
    "duration": 10,
    "start_time": "2023-09-28T03:56:19.764Z"
   },
   {
    "duration": 16,
    "start_time": "2023-09-28T03:56:19.776Z"
   },
   {
    "duration": 9127,
    "start_time": "2023-09-28T03:56:19.793Z"
   },
   {
    "duration": 3513,
    "start_time": "2023-09-28T03:56:28.922Z"
   },
   {
    "duration": 1302,
    "start_time": "2023-09-28T03:56:32.437Z"
   },
   {
    "duration": 331,
    "start_time": "2023-09-28T03:56:33.742Z"
   },
   {
    "duration": 381,
    "start_time": "2023-09-28T03:56:49.078Z"
   },
   {
    "duration": 357,
    "start_time": "2023-09-28T04:07:23.131Z"
   },
   {
    "duration": 20,
    "start_time": "2023-09-28T04:07:39.196Z"
   },
   {
    "duration": 697,
    "start_time": "2023-09-28T04:08:23.904Z"
   },
   {
    "duration": 10,
    "start_time": "2023-09-28T04:08:24.606Z"
   },
   {
    "duration": 12252,
    "start_time": "2023-09-28T04:08:24.624Z"
   },
   {
    "duration": 17999,
    "start_time": "2023-09-28T04:08:36.878Z"
   },
   {
    "duration": 35,
    "start_time": "2023-09-28T04:08:54.879Z"
   },
   {
    "duration": 12325,
    "start_time": "2023-09-28T04:08:54.918Z"
   },
   {
    "duration": 12,
    "start_time": "2023-09-28T04:09:07.245Z"
   },
   {
    "duration": 3717,
    "start_time": "2023-09-28T04:09:07.259Z"
   },
   {
    "duration": 11,
    "start_time": "2023-09-28T04:09:10.978Z"
   },
   {
    "duration": 22,
    "start_time": "2023-09-28T04:09:11.003Z"
   },
   {
    "duration": 9659,
    "start_time": "2023-09-28T04:09:11.026Z"
   },
   {
    "duration": 3744,
    "start_time": "2023-09-28T04:09:20.701Z"
   },
   {
    "duration": 1480,
    "start_time": "2023-09-28T04:09:24.446Z"
   },
   {
    "duration": 2359,
    "start_time": "2023-09-28T04:09:25.928Z"
   },
   {
    "duration": 1058,
    "start_time": "2023-09-28T04:09:57.168Z"
   },
   {
    "duration": 1131,
    "start_time": "2023-09-28T04:10:24.757Z"
   },
   {
    "duration": 898,
    "start_time": "2023-09-28T04:12:46.530Z"
   },
   {
    "duration": 1463,
    "start_time": "2023-09-28T04:13:05.286Z"
   },
   {
    "duration": 2796,
    "start_time": "2023-09-28T04:14:13.927Z"
   },
   {
    "duration": 9,
    "start_time": "2023-09-28T05:08:40.230Z"
   },
   {
    "duration": 9,
    "start_time": "2023-09-28T05:08:50.576Z"
   },
   {
    "duration": 10,
    "start_time": "2023-09-28T05:09:04.331Z"
   },
   {
    "duration": 13,
    "start_time": "2023-09-28T05:09:16.206Z"
   },
   {
    "duration": 16,
    "start_time": "2023-09-28T05:13:33.221Z"
   },
   {
    "duration": 13,
    "start_time": "2023-09-28T05:13:50.468Z"
   },
   {
    "duration": 13,
    "start_time": "2023-09-28T05:14:45.075Z"
   },
   {
    "duration": 141,
    "start_time": "2023-09-28T05:14:59.375Z"
   },
   {
    "duration": 12,
    "start_time": "2023-09-28T05:15:17.227Z"
   },
   {
    "duration": 18,
    "start_time": "2023-09-28T05:15:35.447Z"
   },
   {
    "duration": 14,
    "start_time": "2023-09-28T05:15:58.425Z"
   },
   {
    "duration": 25,
    "start_time": "2023-09-28T05:16:18.346Z"
   },
   {
    "duration": 614,
    "start_time": "2023-09-28T05:17:30.951Z"
   },
   {
    "duration": 4,
    "start_time": "2023-09-28T05:17:31.567Z"
   },
   {
    "duration": 12199,
    "start_time": "2023-09-28T05:17:31.572Z"
   },
   {
    "duration": 18072,
    "start_time": "2023-09-28T05:17:43.773Z"
   },
   {
    "duration": 27,
    "start_time": "2023-09-28T05:18:01.846Z"
   },
   {
    "duration": 12349,
    "start_time": "2023-09-28T05:18:01.875Z"
   },
   {
    "duration": 13,
    "start_time": "2023-09-28T05:18:14.226Z"
   },
   {
    "duration": 3768,
    "start_time": "2023-09-28T05:18:14.241Z"
   },
   {
    "duration": 11,
    "start_time": "2023-09-28T05:18:18.015Z"
   },
   {
    "duration": 22,
    "start_time": "2023-09-28T05:18:18.028Z"
   },
   {
    "duration": 9752,
    "start_time": "2023-09-28T05:18:18.052Z"
   },
   {
    "duration": 4113,
    "start_time": "2023-09-28T05:18:27.806Z"
   },
   {
    "duration": 1408,
    "start_time": "2023-09-28T05:18:31.921Z"
   },
   {
    "duration": 2824,
    "start_time": "2023-09-28T05:18:33.331Z"
   },
   {
    "duration": 2619,
    "start_time": "2023-09-28T05:18:36.158Z"
   },
   {
    "duration": 43,
    "start_time": "2023-09-28T05:18:38.779Z"
   },
   {
    "duration": 98,
    "start_time": "2023-09-28T05:18:38.824Z"
   },
   {
    "duration": 52,
    "start_time": "2023-09-30T11:21:09.498Z"
   },
   {
    "duration": 1613,
    "start_time": "2023-09-30T11:21:15.051Z"
   },
   {
    "duration": 4,
    "start_time": "2023-09-30T11:21:16.666Z"
   },
   {
    "duration": 9890,
    "start_time": "2023-09-30T11:21:16.672Z"
   },
   {
    "duration": 263,
    "start_time": "2023-09-30T11:21:26.564Z"
   },
   {
    "duration": 22,
    "start_time": "2023-09-30T11:21:26.829Z"
   },
   {
    "duration": 197,
    "start_time": "2023-09-30T11:21:26.853Z"
   },
   {
    "duration": 0,
    "start_time": "2023-09-30T11:21:27.052Z"
   },
   {
    "duration": 1,
    "start_time": "2023-09-30T11:21:27.053Z"
   },
   {
    "duration": 0,
    "start_time": "2023-09-30T11:21:27.055Z"
   },
   {
    "duration": 38,
    "start_time": "2023-09-30T11:21:59.928Z"
   },
   {
    "duration": 12,
    "start_time": "2023-09-30T11:22:00.290Z"
   },
   {
    "duration": 40,
    "start_time": "2023-09-30T11:22:01.028Z"
   },
   {
    "duration": 9,
    "start_time": "2023-09-30T11:22:01.124Z"
   },
   {
    "duration": 314,
    "start_time": "2023-09-30T11:22:02.025Z"
   },
   {
    "duration": 219,
    "start_time": "2023-09-30T11:22:04.852Z"
   },
   {
    "duration": 195,
    "start_time": "2023-09-30T11:22:44.356Z"
   },
   {
    "duration": 187,
    "start_time": "2023-09-30T11:23:13.820Z"
   },
   {
    "duration": 187,
    "start_time": "2023-09-30T11:24:13.661Z"
   },
   {
    "duration": 1382,
    "start_time": "2023-09-30T11:24:23.452Z"
   },
   {
    "duration": 3,
    "start_time": "2023-09-30T11:24:24.837Z"
   },
   {
    "duration": 10785,
    "start_time": "2023-09-30T11:24:24.842Z"
   },
   {
    "duration": 205,
    "start_time": "2023-09-30T11:24:35.629Z"
   },
   {
    "duration": 23,
    "start_time": "2023-09-30T11:24:35.837Z"
   },
   {
    "duration": 49,
    "start_time": "2023-09-30T11:24:35.862Z"
   },
   {
    "duration": 12,
    "start_time": "2023-09-30T11:24:35.913Z"
   },
   {
    "duration": 44,
    "start_time": "2023-09-30T11:24:35.926Z"
   },
   {
    "duration": 8,
    "start_time": "2023-09-30T11:24:35.972Z"
   },
   {
    "duration": 303,
    "start_time": "2023-09-30T11:24:35.982Z"
   },
   {
    "duration": 314,
    "start_time": "2023-09-30T11:24:36.287Z"
   },
   {
    "duration": 203,
    "start_time": "2023-09-30T11:25:00.101Z"
   },
   {
    "duration": 194,
    "start_time": "2023-09-30T11:25:05.502Z"
   },
   {
    "duration": 204,
    "start_time": "2023-09-30T11:25:13.045Z"
   },
   {
    "duration": 270,
    "start_time": "2023-09-30T11:25:16.797Z"
   },
   {
    "duration": 3,
    "start_time": "2023-09-30T11:26:04.630Z"
   },
   {
    "duration": 308,
    "start_time": "2023-09-30T11:26:09.469Z"
   },
   {
    "duration": 195,
    "start_time": "2023-09-30T11:26:09.779Z"
   },
   {
    "duration": 3,
    "start_time": "2023-09-30T11:26:30.663Z"
   },
   {
    "duration": 189,
    "start_time": "2023-09-30T11:26:36.374Z"
   },
   {
    "duration": 81,
    "start_time": "2023-09-30T11:26:44.773Z"
   },
   {
    "duration": 196,
    "start_time": "2023-09-30T11:26:48.653Z"
   },
   {
    "duration": 10,
    "start_time": "2023-09-30T11:27:15.877Z"
   },
   {
    "duration": 14,
    "start_time": "2023-09-30T11:27:21.527Z"
   },
   {
    "duration": 10,
    "start_time": "2023-09-30T11:27:31.673Z"
   },
   {
    "duration": 193,
    "start_time": "2023-09-30T11:27:40.853Z"
   },
   {
    "duration": 3,
    "start_time": "2023-09-30T11:27:48.526Z"
   },
   {
    "duration": 194,
    "start_time": "2023-09-30T11:27:51.638Z"
   },
   {
    "duration": 144,
    "start_time": "2023-09-30T11:28:21.854Z"
   },
   {
    "duration": 187,
    "start_time": "2023-09-30T11:29:36.917Z"
   },
   {
    "duration": 214,
    "start_time": "2023-09-30T11:29:45.662Z"
   },
   {
    "duration": 189,
    "start_time": "2023-09-30T11:29:53.006Z"
   },
   {
    "duration": 211,
    "start_time": "2023-09-30T11:30:02.038Z"
   },
   {
    "duration": 292,
    "start_time": "2023-09-30T11:30:08.326Z"
   },
   {
    "duration": 196,
    "start_time": "2023-09-30T11:30:16.520Z"
   },
   {
    "duration": 4,
    "start_time": "2023-09-30T11:34:38.489Z"
   },
   {
    "duration": 4,
    "start_time": "2023-09-30T11:34:38.665Z"
   },
   {
    "duration": 17135,
    "start_time": "2023-09-30T11:34:39.001Z"
   },
   {
    "duration": 25,
    "start_time": "2023-09-30T11:34:56.139Z"
   },
   {
    "duration": 11935,
    "start_time": "2023-09-30T11:34:56.169Z"
   },
   {
    "duration": 12,
    "start_time": "2023-09-30T11:35:08.106Z"
   },
   {
    "duration": 3262,
    "start_time": "2023-09-30T11:35:08.120Z"
   },
   {
    "duration": 10,
    "start_time": "2023-09-30T11:35:11.383Z"
   },
   {
    "duration": 10,
    "start_time": "2023-09-30T11:35:11.395Z"
   },
   {
    "duration": 8928,
    "start_time": "2023-09-30T11:35:11.406Z"
   },
   {
    "duration": 3470,
    "start_time": "2023-09-30T11:35:20.347Z"
   },
   {
    "duration": 1306,
    "start_time": "2023-09-30T11:35:23.819Z"
   },
   {
    "duration": 551,
    "start_time": "2023-09-30T11:35:30.356Z"
   },
   {
    "duration": 2453,
    "start_time": "2023-09-30T11:35:30.909Z"
   },
   {
    "duration": 28,
    "start_time": "2023-09-30T11:35:33.364Z"
   },
   {
    "duration": 185,
    "start_time": "2023-09-30T11:38:17.868Z"
   },
   {
    "duration": 142,
    "start_time": "2023-09-30T11:38:20.986Z"
   },
   {
    "duration": 179,
    "start_time": "2023-09-30T11:39:59.316Z"
   },
   {
    "duration": 313,
    "start_time": "2023-09-30T11:40:23.038Z"
   },
   {
    "duration": 305,
    "start_time": "2023-09-30T11:40:42.326Z"
   },
   {
    "duration": 17,
    "start_time": "2023-09-30T11:42:20.183Z"
   },
   {
    "duration": 16,
    "start_time": "2023-09-30T11:42:43.166Z"
   },
   {
    "duration": 175,
    "start_time": "2023-09-30T11:42:53.606Z"
   },
   {
    "duration": 16,
    "start_time": "2023-09-30T11:42:57.814Z"
   },
   {
    "duration": 253,
    "start_time": "2023-09-30T11:43:26.247Z"
   },
   {
    "duration": 240,
    "start_time": "2023-09-30T11:44:03.270Z"
   },
   {
    "duration": 244,
    "start_time": "2023-09-30T11:44:25.447Z"
   },
   {
    "duration": 408,
    "start_time": "2023-09-30T11:44:50.848Z"
   },
   {
    "duration": 266,
    "start_time": "2023-09-30T11:45:03.847Z"
   },
   {
    "duration": 247,
    "start_time": "2023-09-30T11:45:19.897Z"
   },
   {
    "duration": 258,
    "start_time": "2023-09-30T11:45:27.241Z"
   },
   {
    "duration": 90,
    "start_time": "2023-09-30T11:46:13.360Z"
   },
   {
    "duration": 343,
    "start_time": "2023-09-30T11:46:23.640Z"
   },
   {
    "duration": 361,
    "start_time": "2023-09-30T11:46:51.706Z"
   },
   {
    "duration": 347,
    "start_time": "2023-09-30T11:46:59.208Z"
   },
   {
    "duration": 350,
    "start_time": "2023-09-30T11:48:07.537Z"
   },
   {
    "duration": 350,
    "start_time": "2023-09-30T11:51:23.580Z"
   },
   {
    "duration": 305,
    "start_time": "2023-09-30T11:51:58.518Z"
   },
   {
    "duration": 176,
    "start_time": "2023-09-30T11:52:01.440Z"
   },
   {
    "duration": 193,
    "start_time": "2023-09-30T11:52:01.622Z"
   },
   {
    "duration": 186,
    "start_time": "2023-09-30T12:13:47.873Z"
   },
   {
    "duration": 185,
    "start_time": "2023-09-30T12:14:12.995Z"
   },
   {
    "duration": 431,
    "start_time": "2023-09-30T12:14:30.643Z"
   },
   {
    "duration": 630,
    "start_time": "2023-09-30T12:14:55.666Z"
   },
   {
    "duration": 688,
    "start_time": "2023-09-30T12:15:04.674Z"
   },
   {
    "duration": 652,
    "start_time": "2023-09-30T12:15:10.482Z"
   },
   {
    "duration": 645,
    "start_time": "2023-09-30T12:15:26.195Z"
   },
   {
    "duration": 15,
    "start_time": "2023-09-30T12:18:00.559Z"
   },
   {
    "duration": 183,
    "start_time": "2023-09-30T12:19:01.348Z"
   },
   {
    "duration": 651,
    "start_time": "2023-09-30T12:19:05.627Z"
   },
   {
    "duration": 618,
    "start_time": "2023-09-30T12:19:07.085Z"
   },
   {
    "duration": 130,
    "start_time": "2023-09-30T12:20:03.694Z"
   },
   {
    "duration": 182,
    "start_time": "2023-09-30T12:20:09.092Z"
   },
   {
    "duration": 873,
    "start_time": "2023-09-30T12:20:13.197Z"
   },
   {
    "duration": 640,
    "start_time": "2023-09-30T12:20:14.072Z"
   },
   {
    "duration": 1028,
    "start_time": "2023-09-30T12:20:14.714Z"
   },
   {
    "duration": 137,
    "start_time": "2023-09-30T12:21:21.222Z"
   },
   {
    "duration": 177,
    "start_time": "2023-09-30T12:21:26.502Z"
   },
   {
    "duration": 653,
    "start_time": "2023-09-30T12:21:31.710Z"
   },
   {
    "duration": 937,
    "start_time": "2023-09-30T12:21:33.069Z"
   },
   {
    "duration": 223,
    "start_time": "2023-09-30T12:21:44.358Z"
   },
   {
    "duration": 297,
    "start_time": "2023-09-30T12:21:57.789Z"
   },
   {
    "duration": 961,
    "start_time": "2023-09-30T12:22:27.206Z"
   },
   {
    "duration": 723,
    "start_time": "2023-09-30T12:22:37.614Z"
   },
   {
    "duration": 132,
    "start_time": "2023-09-30T12:23:23.458Z"
   },
   {
    "duration": 144,
    "start_time": "2023-09-30T12:23:40.156Z"
   },
   {
    "duration": 1531,
    "start_time": "2023-10-01T01:56:52.246Z"
   },
   {
    "duration": 3,
    "start_time": "2023-10-01T01:56:53.780Z"
   },
   {
    "duration": 10130,
    "start_time": "2023-10-01T01:56:53.785Z"
   },
   {
    "duration": 18952,
    "start_time": "2023-10-01T01:57:03.918Z"
   },
   {
    "duration": 44,
    "start_time": "2023-10-01T01:57:22.872Z"
   },
   {
    "duration": 13248,
    "start_time": "2023-10-01T01:57:22.917Z"
   },
   {
    "duration": 13,
    "start_time": "2023-10-01T01:57:36.166Z"
   },
   {
    "duration": 4107,
    "start_time": "2023-10-01T01:57:36.181Z"
   },
   {
    "duration": 14,
    "start_time": "2023-10-01T01:57:40.289Z"
   },
   {
    "duration": 31,
    "start_time": "2023-10-01T01:57:40.312Z"
   },
   {
    "duration": 10484,
    "start_time": "2023-10-01T01:57:40.344Z"
   },
   {
    "duration": 3792,
    "start_time": "2023-10-01T01:57:50.831Z"
   },
   {
    "duration": 1422,
    "start_time": "2023-10-01T01:57:54.624Z"
   },
   {
    "duration": 408,
    "start_time": "2023-10-01T01:57:56.048Z"
   },
   {
    "duration": 263,
    "start_time": "2023-10-01T01:57:56.458Z"
   },
   {
    "duration": 0,
    "start_time": "2023-10-01T01:57:56.724Z"
   },
   {
    "duration": 0,
    "start_time": "2023-10-01T01:57:56.725Z"
   },
   {
    "duration": 0,
    "start_time": "2023-10-01T01:57:56.727Z"
   },
   {
    "duration": 192,
    "start_time": "2023-10-01T01:59:08.901Z"
   },
   {
    "duration": 664,
    "start_time": "2023-10-01T01:59:12.185Z"
   },
   {
    "duration": 13,
    "start_time": "2023-10-01T01:59:12.851Z"
   },
   {
    "duration": 1013,
    "start_time": "2023-10-01T01:59:13.186Z"
   },
   {
    "duration": 178,
    "start_time": "2023-10-01T02:02:11.417Z"
   },
   {
    "duration": 1015,
    "start_time": "2023-10-01T02:02:17.931Z"
   },
   {
    "duration": 162,
    "start_time": "2023-10-01T02:03:42.851Z"
   },
   {
    "duration": 259,
    "start_time": "2023-10-01T02:03:48.750Z"
   },
   {
    "duration": 269,
    "start_time": "2023-10-01T02:04:15.117Z"
   },
   {
    "duration": 269,
    "start_time": "2023-10-01T02:05:09.293Z"
   },
   {
    "duration": 296,
    "start_time": "2023-10-01T02:05:17.540Z"
   },
   {
    "duration": 264,
    "start_time": "2023-10-01T02:05:29.500Z"
   },
   {
    "duration": 301,
    "start_time": "2023-10-01T02:05:31.512Z"
   },
   {
    "duration": 952,
    "start_time": "2023-10-01T02:05:38.764Z"
   },
   {
    "duration": 175,
    "start_time": "2023-10-01T02:05:56.156Z"
   },
   {
    "duration": 383,
    "start_time": "2023-10-01T02:06:01.139Z"
   },
   {
    "duration": 179,
    "start_time": "2023-10-01T02:06:15.207Z"
   },
   {
    "duration": 363,
    "start_time": "2023-10-01T02:06:17.918Z"
   },
   {
    "duration": 173,
    "start_time": "2023-10-01T02:06:26.326Z"
   },
   {
    "duration": 365,
    "start_time": "2023-10-01T02:06:29.100Z"
   },
   {
    "duration": 297,
    "start_time": "2023-10-01T02:08:59.794Z"
   },
   {
    "duration": 359,
    "start_time": "2023-10-01T02:09:02.611Z"
   },
   {
    "duration": 255,
    "start_time": "2023-10-01T02:10:24.114Z"
   },
   {
    "duration": 298,
    "start_time": "2023-10-01T02:10:28.857Z"
   },
   {
    "duration": 256,
    "start_time": "2023-10-01T02:10:43.393Z"
   },
   {
    "duration": 292,
    "start_time": "2023-10-01T02:10:45.442Z"
   },
   {
    "duration": 259,
    "start_time": "2023-10-01T02:11:00.884Z"
   },
   {
    "duration": 279,
    "start_time": "2023-10-01T02:11:03.146Z"
   },
   {
    "duration": 250,
    "start_time": "2023-10-01T02:11:18.410Z"
   },
   {
    "duration": 291,
    "start_time": "2023-10-01T02:11:20.314Z"
   },
   {
    "duration": 189,
    "start_time": "2023-10-01T03:15:32.618Z"
   },
   {
    "duration": 428,
    "start_time": "2023-10-01T03:15:59.991Z"
   },
   {
    "duration": 179,
    "start_time": "2023-10-01T03:16:01.932Z"
   },
   {
    "duration": 253,
    "start_time": "2023-10-01T03:16:02.237Z"
   },
   {
    "duration": 231,
    "start_time": "2023-10-01T03:16:02.682Z"
   },
   {
    "duration": 228,
    "start_time": "2023-10-01T03:16:05.154Z"
   },
   {
    "duration": 227,
    "start_time": "2023-10-01T03:16:18.283Z"
   },
   {
    "duration": 225,
    "start_time": "2023-10-01T03:16:18.512Z"
   },
   {
    "duration": 222,
    "start_time": "2023-10-01T03:18:05.172Z"
   },
   {
    "duration": 226,
    "start_time": "2023-10-01T03:18:05.939Z"
   },
   {
    "duration": 228,
    "start_time": "2023-10-01T03:18:53.411Z"
   },
   {
    "duration": 222,
    "start_time": "2023-10-01T03:18:53.715Z"
   },
   {
    "duration": 129,
    "start_time": "2023-10-01T03:19:25.572Z"
   },
   {
    "duration": 136,
    "start_time": "2023-10-01T03:20:03.190Z"
   },
   {
    "duration": 165,
    "start_time": "2023-10-01T03:20:24.549Z"
   },
   {
    "duration": 131,
    "start_time": "2023-10-01T03:22:06.287Z"
   },
   {
    "duration": 223,
    "start_time": "2023-10-01T03:22:13.829Z"
   },
   {
    "duration": 222,
    "start_time": "2023-10-01T03:22:14.054Z"
   },
   {
    "duration": 272,
    "start_time": "2023-10-01T03:22:26.047Z"
   },
   {
    "duration": 124,
    "start_time": "2023-10-01T03:24:32.198Z"
   },
   {
    "duration": 192,
    "start_time": "2023-10-01T03:49:07.715Z"
   },
   {
    "duration": 1347,
    "start_time": "2023-10-01T03:51:45.703Z"
   },
   {
    "duration": 4,
    "start_time": "2023-10-01T03:51:47.052Z"
   },
   {
    "duration": 10734,
    "start_time": "2023-10-01T03:51:47.057Z"
   },
   {
    "duration": 18324,
    "start_time": "2023-10-01T03:51:57.792Z"
   },
   {
    "duration": 21,
    "start_time": "2023-10-01T03:52:16.118Z"
   },
   {
    "duration": 12613,
    "start_time": "2023-10-01T03:52:16.141Z"
   },
   {
    "duration": 11,
    "start_time": "2023-10-01T03:52:28.755Z"
   },
   {
    "duration": 4021,
    "start_time": "2023-10-01T03:52:28.768Z"
   },
   {
    "duration": 22,
    "start_time": "2023-10-01T03:52:32.791Z"
   },
   {
    "duration": 158,
    "start_time": "2023-10-01T03:52:32.816Z"
   },
   {
    "duration": 10251,
    "start_time": "2023-10-01T03:52:32.976Z"
   },
   {
    "duration": 3589,
    "start_time": "2023-10-01T03:52:43.228Z"
   },
   {
    "duration": 1358,
    "start_time": "2023-10-01T03:52:46.819Z"
   },
   {
    "duration": 417,
    "start_time": "2023-10-01T03:52:48.181Z"
   },
   {
    "duration": 180,
    "start_time": "2023-10-01T03:52:48.599Z"
   },
   {
    "duration": 260,
    "start_time": "2023-10-01T03:52:48.781Z"
   },
   {
    "duration": 230,
    "start_time": "2023-10-01T03:52:49.043Z"
   },
   {
    "duration": 223,
    "start_time": "2023-10-01T03:52:49.275Z"
   },
   {
    "duration": 1336,
    "start_time": "2023-10-01T03:57:08.794Z"
   },
   {
    "duration": 4,
    "start_time": "2023-10-01T03:57:10.132Z"
   },
   {
    "duration": 9683,
    "start_time": "2023-10-01T03:57:10.137Z"
   },
   {
    "duration": 206,
    "start_time": "2023-10-01T03:57:19.822Z"
   },
   {
    "duration": 23,
    "start_time": "2023-10-01T03:57:20.030Z"
   },
   {
    "duration": 61,
    "start_time": "2023-10-01T03:57:20.055Z"
   },
   {
    "duration": 21,
    "start_time": "2023-10-01T03:57:20.118Z"
   },
   {
    "duration": 94,
    "start_time": "2023-10-01T03:57:20.141Z"
   },
   {
    "duration": 75,
    "start_time": "2023-10-01T03:57:20.236Z"
   },
   {
    "duration": 20,
    "start_time": "2023-10-01T03:57:20.313Z"
   },
   {
    "duration": 98,
    "start_time": "2023-10-01T03:57:20.335Z"
   },
   {
    "duration": 43,
    "start_time": "2023-10-01T03:57:20.435Z"
   },
   {
    "duration": 43,
    "start_time": "2023-10-01T03:57:20.500Z"
   },
   {
    "duration": 455,
    "start_time": "2023-10-01T03:57:20.545Z"
   },
   {
    "duration": 177,
    "start_time": "2023-10-01T03:57:21.002Z"
   },
   {
    "duration": 255,
    "start_time": "2023-10-01T03:57:21.181Z"
   },
   {
    "duration": 226,
    "start_time": "2023-10-01T03:57:21.438Z"
   },
   {
    "duration": 220,
    "start_time": "2023-10-01T03:57:21.666Z"
   },
   {
    "duration": 5060,
    "start_time": "2023-10-01T03:57:21.888Z"
   },
   {
    "duration": 3,
    "start_time": "2023-10-01T03:57:26.950Z"
   },
   {
    "duration": 643,
    "start_time": "2023-10-01T03:57:26.954Z"
   },
   {
    "duration": 262,
    "start_time": "2023-10-01T03:57:27.603Z"
   },
   {
    "duration": 413,
    "start_time": "2023-10-01T03:57:27.867Z"
   },
   {
    "duration": 313,
    "start_time": "2023-10-01T03:57:28.281Z"
   },
   {
    "duration": 10,
    "start_time": "2023-10-01T04:03:26.912Z"
   },
   {
    "duration": 561,
    "start_time": "2023-10-01T04:05:27.554Z"
   },
   {
    "duration": 9,
    "start_time": "2023-10-01T04:05:28.205Z"
   },
   {
    "duration": 582,
    "start_time": "2023-10-01T04:05:51.866Z"
   },
   {
    "duration": 8,
    "start_time": "2023-10-01T04:05:53.636Z"
   },
   {
    "duration": 526,
    "start_time": "2023-10-01T04:06:03.994Z"
   },
   {
    "duration": 9,
    "start_time": "2023-10-01T04:06:05.678Z"
   },
   {
    "duration": 566,
    "start_time": "2023-10-01T04:07:22.107Z"
   },
   {
    "duration": 9,
    "start_time": "2023-10-01T04:07:23.522Z"
   },
   {
    "duration": 248,
    "start_time": "2023-10-01T04:07:41.779Z"
   },
   {
    "duration": 0,
    "start_time": "2023-10-01T04:07:42.030Z"
   },
   {
    "duration": 147,
    "start_time": "2023-10-01T04:08:04.115Z"
   },
   {
    "duration": 144,
    "start_time": "2023-10-01T04:08:11.347Z"
   },
   {
    "duration": 141,
    "start_time": "2023-10-01T04:08:17.156Z"
   },
   {
    "duration": 570,
    "start_time": "2023-10-01T04:08:23.348Z"
   },
   {
    "duration": 102,
    "start_time": "2023-10-01T04:09:27.252Z"
   },
   {
    "duration": 550,
    "start_time": "2023-10-01T04:09:38.557Z"
   },
   {
    "duration": 9,
    "start_time": "2023-10-01T04:09:40.236Z"
   },
   {
    "duration": 6092,
    "start_time": "2023-10-01T04:10:13.668Z"
   },
   {
    "duration": 10,
    "start_time": "2023-10-01T04:10:28.899Z"
   },
   {
    "duration": 6389,
    "start_time": "2023-10-01T04:11:26.460Z"
   },
   {
    "duration": 9,
    "start_time": "2023-10-01T04:11:32.851Z"
   },
   {
    "duration": 569,
    "start_time": "2023-10-01T04:11:36.860Z"
   },
   {
    "duration": 10,
    "start_time": "2023-10-01T04:11:38.621Z"
   },
   {
    "duration": 6466,
    "start_time": "2023-10-01T04:11:54.158Z"
   },
   {
    "duration": 10,
    "start_time": "2023-10-01T04:12:00.626Z"
   },
   {
    "duration": 6328,
    "start_time": "2023-10-01T04:12:11.246Z"
   },
   {
    "duration": 9,
    "start_time": "2023-10-01T04:12:17.576Z"
   },
   {
    "duration": 531,
    "start_time": "2023-10-01T04:12:21.309Z"
   },
   {
    "duration": 9,
    "start_time": "2023-10-01T04:12:21.842Z"
   },
   {
    "duration": 565,
    "start_time": "2023-10-01T04:14:28.351Z"
   },
   {
    "duration": 8,
    "start_time": "2023-10-01T04:14:28.919Z"
   },
   {
    "duration": 6348,
    "start_time": "2023-10-01T04:14:29.455Z"
   },
   {
    "duration": 9,
    "start_time": "2023-10-01T04:14:35.805Z"
   },
   {
    "duration": 510,
    "start_time": "2023-10-01T04:14:52.255Z"
   },
   {
    "duration": 5966,
    "start_time": "2023-10-01T04:14:54.631Z"
   },
   {
    "duration": 222,
    "start_time": "2023-10-01T04:15:00.599Z"
   },
   {
    "duration": 270,
    "start_time": "2023-10-01T04:15:00.823Z"
   },
   {
    "duration": 204,
    "start_time": "2023-10-01T04:15:27.646Z"
   },
   {
    "duration": 5012,
    "start_time": "2023-10-01T04:15:57.887Z"
   },
   {
    "duration": 251,
    "start_time": "2023-10-01T04:16:07.583Z"
   },
   {
    "duration": 292,
    "start_time": "2023-10-01T04:17:24.880Z"
   },
   {
    "duration": 528,
    "start_time": "2023-10-01T04:17:46.519Z"
   },
   {
    "duration": 6216,
    "start_time": "2023-10-01T04:17:49.422Z"
   },
   {
    "duration": 267,
    "start_time": "2023-10-01T04:17:55.640Z"
   },
   {
    "duration": 237,
    "start_time": "2023-10-01T04:18:29.223Z"
   },
   {
    "duration": 297,
    "start_time": "2023-10-01T04:18:37.751Z"
   },
   {
    "duration": 312,
    "start_time": "2023-10-01T04:18:56.992Z"
   },
   {
    "duration": 311,
    "start_time": "2023-10-01T04:19:07.328Z"
   },
   {
    "duration": 352,
    "start_time": "2023-10-01T04:19:14.602Z"
   },
   {
    "duration": 187,
    "start_time": "2023-10-01T04:20:25.840Z"
   },
   {
    "duration": 159,
    "start_time": "2023-10-01T04:20:47.706Z"
   },
   {
    "duration": 470,
    "start_time": "2023-10-01T04:21:59.666Z"
   },
   {
    "duration": 6248,
    "start_time": "2023-10-01T04:22:21.355Z"
   },
   {
    "duration": 270,
    "start_time": "2023-10-01T04:22:30.490Z"
   },
   {
    "duration": 331,
    "start_time": "2023-10-01T04:22:36.401Z"
   },
   {
    "duration": 246,
    "start_time": "2023-10-01T04:24:38.316Z"
   },
   {
    "duration": 123,
    "start_time": "2023-10-01T04:24:46.716Z"
   },
   {
    "duration": 129,
    "start_time": "2023-10-01T04:25:22.852Z"
   },
   {
    "duration": 267,
    "start_time": "2023-10-01T04:25:34.251Z"
   },
   {
    "duration": 240,
    "start_time": "2023-10-01T04:26:11.731Z"
   },
   {
    "duration": 154,
    "start_time": "2023-10-01T04:26:50.597Z"
   },
   {
    "duration": 314,
    "start_time": "2023-10-01T04:26:58.980Z"
   },
   {
    "duration": 156,
    "start_time": "2023-10-01T04:27:34.452Z"
   },
   {
    "duration": 454,
    "start_time": "2023-10-01T04:27:59.028Z"
   },
   {
    "duration": 6185,
    "start_time": "2023-10-01T04:28:00.245Z"
   },
   {
    "duration": 247,
    "start_time": "2023-10-01T04:28:06.433Z"
   },
   {
    "duration": 330,
    "start_time": "2023-10-01T04:28:06.683Z"
   },
   {
    "duration": 316,
    "start_time": "2023-10-01T04:30:01.717Z"
   },
   {
    "duration": 233,
    "start_time": "2023-10-01T04:32:43.150Z"
   },
   {
    "duration": 303,
    "start_time": "2023-10-01T04:33:32.607Z"
   },
   {
    "duration": 314,
    "start_time": "2023-10-01T04:33:45.991Z"
   },
   {
    "duration": 269,
    "start_time": "2023-10-01T04:33:57.680Z"
   },
   {
    "duration": 308,
    "start_time": "2023-10-01T04:34:05.575Z"
   },
   {
    "duration": 312,
    "start_time": "2023-10-01T04:34:09.943Z"
   },
   {
    "duration": 12249,
    "start_time": "2023-10-01T04:44:37.398Z"
   },
   {
    "duration": 23,
    "start_time": "2023-10-01T04:44:50.302Z"
   },
   {
    "duration": 116,
    "start_time": "2023-10-01T04:45:08.382Z"
   },
   {
    "duration": 6,
    "start_time": "2023-10-01T04:46:57.624Z"
   },
   {
    "duration": 323,
    "start_time": "2023-10-01T04:47:16.503Z"
   },
   {
    "duration": 5,
    "start_time": "2023-10-01T04:48:05.010Z"
   },
   {
    "duration": 399,
    "start_time": "2023-10-01T04:48:09.783Z"
   },
   {
    "duration": 4,
    "start_time": "2023-10-01T04:48:47.672Z"
   },
   {
    "duration": 374,
    "start_time": "2023-10-01T04:48:53.128Z"
   },
   {
    "duration": 3,
    "start_time": "2023-10-01T04:49:30.191Z"
   },
   {
    "duration": 371,
    "start_time": "2023-10-01T04:49:32.944Z"
   },
   {
    "duration": 4,
    "start_time": "2023-10-01T04:49:48.579Z"
   },
   {
    "duration": 396,
    "start_time": "2023-10-01T04:49:50.992Z"
   },
   {
    "duration": 88,
    "start_time": "2023-10-01T04:51:02.251Z"
   },
   {
    "duration": 4,
    "start_time": "2023-10-01T04:51:10.392Z"
   },
   {
    "duration": 374,
    "start_time": "2023-10-01T04:51:12.905Z"
   },
   {
    "duration": 5,
    "start_time": "2023-10-01T04:52:31.707Z"
   },
   {
    "duration": 399,
    "start_time": "2023-10-01T04:52:34.257Z"
   },
   {
    "duration": 4,
    "start_time": "2023-10-01T04:53:00.673Z"
   },
   {
    "duration": 372,
    "start_time": "2023-10-01T04:53:03.210Z"
   },
   {
    "duration": 5,
    "start_time": "2023-10-01T04:54:08.954Z"
   },
   {
    "duration": 360,
    "start_time": "2023-10-01T04:54:10.970Z"
   },
   {
    "duration": 95,
    "start_time": "2023-10-01T05:09:38.721Z"
   },
   {
    "duration": 27,
    "start_time": "2023-10-01T05:10:00.904Z"
   },
   {
    "duration": 23,
    "start_time": "2023-10-01T05:11:37.498Z"
   },
   {
    "duration": 12,
    "start_time": "2023-10-01T05:13:44.932Z"
   },
   {
    "duration": 28,
    "start_time": "2023-10-01T05:13:45.283Z"
   },
   {
    "duration": 87,
    "start_time": "2023-10-01T05:13:46.906Z"
   },
   {
    "duration": 203,
    "start_time": "2023-10-01T05:15:30.235Z"
   },
   {
    "duration": 15286,
    "start_time": "2023-10-01T05:16:48.325Z"
   },
   {
    "duration": 446,
    "start_time": "2023-10-01T05:17:03.614Z"
   },
   {
    "duration": 144,
    "start_time": "2023-10-01T05:17:04.062Z"
   },
   {
    "duration": 35,
    "start_time": "2023-10-01T05:17:13.749Z"
   },
   {
    "duration": 129,
    "start_time": "2023-10-01T05:17:14.885Z"
   },
   {
    "duration": 43,
    "start_time": "2023-10-01T05:17:16.902Z"
   },
   {
    "duration": 97,
    "start_time": "2023-10-01T05:17:18.596Z"
   },
   {
    "duration": 138,
    "start_time": "2023-10-01T05:19:21.317Z"
   },
   {
    "duration": 39,
    "start_time": "2023-10-01T05:19:23.277Z"
   },
   {
    "duration": 100,
    "start_time": "2023-10-01T05:19:23.693Z"
   },
   {
    "duration": 383,
    "start_time": "2023-10-01T05:21:25.078Z"
   },
   {
    "duration": 42,
    "start_time": "2023-10-01T05:21:27.366Z"
   },
   {
    "duration": 100,
    "start_time": "2023-10-01T05:21:28.013Z"
   },
   {
    "duration": 28,
    "start_time": "2023-10-01T05:25:26.209Z"
   },
   {
    "duration": 10,
    "start_time": "2023-10-01T05:30:15.755Z"
   },
   {
    "duration": 300,
    "start_time": "2023-10-01T05:31:06.211Z"
   },
   {
    "duration": 4,
    "start_time": "2023-10-01T05:31:28.853Z"
   },
   {
    "duration": 99,
    "start_time": "2023-10-01T05:31:36.986Z"
   },
   {
    "duration": 125,
    "start_time": "2023-10-01T05:31:45.124Z"
   },
   {
    "duration": 106,
    "start_time": "2023-10-01T05:33:24.011Z"
   },
   {
    "duration": 4,
    "start_time": "2023-10-01T05:36:11.030Z"
   },
   {
    "duration": 6,
    "start_time": "2023-10-01T05:36:11.925Z"
   },
   {
    "duration": 4,
    "start_time": "2023-10-01T05:36:15.341Z"
   },
   {
    "duration": 4,
    "start_time": "2023-10-01T05:36:16.302Z"
   },
   {
    "duration": 735,
    "start_time": "2023-10-01T05:36:17.310Z"
   },
   {
    "duration": 669,
    "start_time": "2023-10-01T05:39:08.089Z"
   },
   {
    "duration": 4125,
    "start_time": "2023-10-01T05:39:16.717Z"
   },
   {
    "duration": 128,
    "start_time": "2023-10-01T05:39:20.844Z"
   },
   {
    "duration": 12,
    "start_time": "2023-10-01T05:41:43.804Z"
   },
   {
    "duration": 30,
    "start_time": "2023-10-01T05:53:27.205Z"
   },
   {
    "duration": 9,
    "start_time": "2023-10-01T05:53:33.485Z"
   },
   {
    "duration": 14,
    "start_time": "2023-10-01T05:53:38.709Z"
   },
   {
    "duration": 5,
    "start_time": "2023-10-01T05:53:46.277Z"
   },
   {
    "duration": 25314,
    "start_time": "2023-10-01T05:54:08.933Z"
   },
   {
    "duration": 4,
    "start_time": "2023-10-01T05:55:29.071Z"
   },
   {
    "duration": 25303,
    "start_time": "2023-10-01T05:55:29.559Z"
   },
   {
    "duration": 4,
    "start_time": "2023-10-01T05:56:05.478Z"
   },
   {
    "duration": 25978,
    "start_time": "2023-10-01T05:56:06.748Z"
   },
   {
    "duration": 5,
    "start_time": "2023-10-01T05:56:53.295Z"
   },
   {
    "duration": 13845,
    "start_time": "2023-10-01T05:56:53.703Z"
   },
   {
    "duration": 4,
    "start_time": "2023-10-01T05:58:25.367Z"
   },
   {
    "duration": 11752,
    "start_time": "2023-10-01T05:58:25.903Z"
   },
   {
    "duration": 22,
    "start_time": "2023-10-01T06:00:05.569Z"
   },
   {
    "duration": 430,
    "start_time": "2023-10-01T06:00:05.707Z"
   },
   {
    "duration": 34,
    "start_time": "2023-10-01T06:00:06.176Z"
   },
   {
    "duration": 13132,
    "start_time": "2023-10-01T06:00:09.160Z"
   },
   {
    "duration": 434,
    "start_time": "2023-10-01T06:00:22.294Z"
   },
   {
    "duration": 113,
    "start_time": "2023-10-01T06:00:22.730Z"
   },
   {
    "duration": 56,
    "start_time": "2023-10-01T06:00:22.846Z"
   },
   {
    "duration": 358,
    "start_time": "2023-10-01T06:00:22.904Z"
   },
   {
    "duration": 49,
    "start_time": "2023-10-01T06:00:23.265Z"
   },
   {
    "duration": 95,
    "start_time": "2023-10-01T06:00:23.315Z"
   },
   {
    "duration": 38,
    "start_time": "2023-10-01T06:00:23.412Z"
   },
   {
    "duration": 152,
    "start_time": "2023-10-01T06:00:23.452Z"
   },
   {
    "duration": 105,
    "start_time": "2023-10-01T06:00:23.607Z"
   },
   {
    "duration": 8,
    "start_time": "2023-10-01T06:00:23.714Z"
   },
   {
    "duration": 16,
    "start_time": "2023-10-01T06:00:23.723Z"
   },
   {
    "duration": 20,
    "start_time": "2023-10-01T06:00:23.741Z"
   },
   {
    "duration": 11,
    "start_time": "2023-10-01T06:00:23.763Z"
   },
   {
    "duration": 731,
    "start_time": "2023-10-01T06:00:23.775Z"
   },
   {
    "duration": 112,
    "start_time": "2023-10-01T06:00:39.729Z"
   },
   {
    "duration": 765,
    "start_time": "2023-10-01T06:00:44.224Z"
   },
   {
    "duration": 89,
    "start_time": "2023-10-01T06:00:47.264Z"
   },
   {
    "duration": 162928,
    "start_time": "2023-10-01T06:00:57.251Z"
   },
   {
    "duration": 3,
    "start_time": "2023-10-01T06:04:07.282Z"
   },
   {
    "duration": 116,
    "start_time": "2023-10-01T06:08:06.317Z"
   },
   {
    "duration": 17,
    "start_time": "2023-10-01T06:09:37.085Z"
   },
   {
    "duration": 3,
    "start_time": "2023-10-01T06:09:54.038Z"
   },
   {
    "duration": 22444,
    "start_time": "2023-10-01T06:09:56.877Z"
   },
   {
    "duration": 5,
    "start_time": "2023-10-01T06:10:59.845Z"
   },
   {
    "duration": 11,
    "start_time": "2023-10-01T06:13:39.602Z"
   },
   {
    "duration": 10,
    "start_time": "2023-10-01T06:14:50.463Z"
   },
   {
    "duration": 11,
    "start_time": "2023-10-01T06:15:01.223Z"
   },
   {
    "duration": 91,
    "start_time": "2023-10-01T06:19:43.952Z"
   },
   {
    "duration": 29,
    "start_time": "2023-10-01T06:20:08.065Z"
   },
   {
    "duration": 27,
    "start_time": "2023-10-01T06:20:20.489Z"
   },
   {
    "duration": 382,
    "start_time": "2023-10-01T06:21:00.282Z"
   },
   {
    "duration": 86,
    "start_time": "2023-10-01T06:26:59.341Z"
   },
   {
    "duration": 4,
    "start_time": "2023-10-01T06:27:07.676Z"
   },
   {
    "duration": 142,
    "start_time": "2023-10-01T06:27:09.652Z"
   },
   {
    "duration": 15,
    "start_time": "2023-10-01T06:29:34.239Z"
   },
   {
    "duration": 27,
    "start_time": "2023-10-01T06:30:11.087Z"
   },
   {
    "duration": 5,
    "start_time": "2023-10-01T06:30:16.702Z"
   },
   {
    "duration": 371,
    "start_time": "2023-10-01T06:30:17.446Z"
   },
   {
    "duration": 5731,
    "start_time": "2023-10-01T06:38:02.347Z"
   },
   {
    "duration": 104,
    "start_time": "2023-10-01T06:38:19.854Z"
   },
   {
    "duration": 13,
    "start_time": "2023-10-01T06:38:22.714Z"
   },
   {
    "duration": 79,
    "start_time": "2023-10-01T06:38:48.218Z"
   },
   {
    "duration": 15,
    "start_time": "2023-10-01T06:38:52.954Z"
   },
   {
    "duration": 15,
    "start_time": "2023-10-01T06:39:26.532Z"
   },
   {
    "duration": 17,
    "start_time": "2023-10-01T06:39:49.906Z"
   },
   {
    "duration": 2524,
    "start_time": "2023-10-01T06:40:27.517Z"
   },
   {
    "duration": 2540,
    "start_time": "2023-10-01T06:40:30.919Z"
   },
   {
    "duration": 0,
    "start_time": "2023-10-01T06:41:59.025Z"
   },
   {
    "duration": 88647,
    "start_time": "2023-10-01T06:42:00.092Z"
   },
   {
    "duration": 4,
    "start_time": "2023-10-01T06:43:28.742Z"
   },
   {
    "duration": 1757,
    "start_time": "2023-10-01T06:43:29.092Z"
   },
   {
    "duration": 5,
    "start_time": "2023-10-01T06:43:44.580Z"
   },
   {
    "duration": 414295,
    "start_time": "2023-10-01T06:43:45.260Z"
   },
   {
    "duration": 77,
    "start_time": "2023-10-01T06:50:39.557Z"
   },
   {
    "duration": 0,
    "start_time": "2023-10-01T06:50:39.636Z"
   },
   {
    "duration": 0,
    "start_time": "2023-10-01T06:50:39.637Z"
   },
   {
    "duration": 0,
    "start_time": "2023-10-01T06:50:39.638Z"
   },
   {
    "duration": 11,
    "start_time": "2023-10-01T06:50:50.583Z"
   },
   {
    "duration": 11,
    "start_time": "2023-10-01T06:51:22.694Z"
   },
   {
    "duration": 11,
    "start_time": "2023-10-01T06:51:41.200Z"
   },
   {
    "duration": 5,
    "start_time": "2023-10-01T06:52:29.137Z"
   },
   {
    "duration": 11,
    "start_time": "2023-10-01T06:53:37.570Z"
   },
   {
    "duration": 11,
    "start_time": "2023-10-01T06:54:14.481Z"
   },
   {
    "duration": 11,
    "start_time": "2023-10-01T06:54:33.402Z"
   },
   {
    "duration": 11,
    "start_time": "2023-10-01T06:54:57.483Z"
   },
   {
    "duration": 2,
    "start_time": "2023-10-01T06:55:46.554Z"
   },
   {
    "duration": 2,
    "start_time": "2023-10-01T06:55:49.538Z"
   },
   {
    "duration": 4,
    "start_time": "2023-10-01T06:55:54.338Z"
   },
   {
    "duration": 109,
    "start_time": "2023-10-01T06:56:10.011Z"
   },
   {
    "duration": 4,
    "start_time": "2023-10-01T06:56:59.875Z"
   },
   {
    "duration": 4161,
    "start_time": "2023-10-01T06:58:10.314Z"
   },
   {
    "duration": 3,
    "start_time": "2023-10-01T06:58:22.515Z"
   },
   {
    "duration": 3583,
    "start_time": "2023-10-01T06:58:22.733Z"
   },
   {
    "duration": 372,
    "start_time": "2023-10-01T06:59:13.606Z"
   },
   {
    "duration": 5,
    "start_time": "2023-10-01T06:59:59.188Z"
   },
   {
    "duration": 12,
    "start_time": "2023-10-01T07:01:59.950Z"
   },
   {
    "duration": 379,
    "start_time": "2023-10-01T07:03:16.189Z"
   },
   {
    "duration": 8,
    "start_time": "2023-10-01T07:03:43.422Z"
   },
   {
    "duration": 5,
    "start_time": "2023-10-01T07:03:52.118Z"
   },
   {
    "duration": 6,
    "start_time": "2023-10-01T07:13:50.765Z"
   },
   {
    "duration": 12,
    "start_time": "2023-10-01T07:15:53.257Z"
   },
   {
    "duration": 3,
    "start_time": "2023-10-01T07:15:58.977Z"
   },
   {
    "duration": 20,
    "start_time": "2023-10-01T07:16:01.097Z"
   },
   {
    "duration": 6,
    "start_time": "2023-10-01T07:18:19.898Z"
   },
   {
    "duration": 22,
    "start_time": "2023-10-01T07:18:21.306Z"
   },
   {
    "duration": 17,
    "start_time": "2023-10-01T07:20:04.773Z"
   },
   {
    "duration": 13,
    "start_time": "2023-10-01T07:20:53.405Z"
   },
   {
    "duration": 15,
    "start_time": "2023-10-01T07:21:32.141Z"
   },
   {
    "duration": 15,
    "start_time": "2023-10-01T07:21:45.964Z"
   },
   {
    "duration": 7,
    "start_time": "2023-10-01T07:21:52.828Z"
   },
   {
    "duration": 9,
    "start_time": "2023-10-01T07:21:56.259Z"
   },
   {
    "duration": 6,
    "start_time": "2023-10-01T07:22:16.109Z"
   },
   {
    "duration": 12,
    "start_time": "2023-10-01T07:22:17.140Z"
   },
   {
    "duration": 10,
    "start_time": "2023-10-01T07:23:47.462Z"
   },
   {
    "duration": 94,
    "start_time": "2023-10-01T07:23:53.324Z"
   },
   {
    "duration": 4,
    "start_time": "2023-10-01T07:24:00.619Z"
   },
   {
    "duration": 15482,
    "start_time": "2023-10-01T07:24:00.923Z"
   },
   {
    "duration": 6,
    "start_time": "2023-10-01T07:24:19.755Z"
   },
   {
    "duration": 4,
    "start_time": "2023-10-01T07:24:20.301Z"
   },
   {
    "duration": 3,
    "start_time": "2023-10-01T07:24:20.740Z"
   },
   {
    "duration": 5,
    "start_time": "2023-10-01T07:24:21.340Z"
   },
   {
    "duration": 4,
    "start_time": "2023-10-01T07:24:21.974Z"
   },
   {
    "duration": 3,
    "start_time": "2023-10-01T07:26:13.012Z"
   },
   {
    "duration": 4,
    "start_time": "2023-10-01T07:27:04.997Z"
   },
   {
    "duration": 14,
    "start_time": "2023-10-01T07:27:12.030Z"
   },
   {
    "duration": 128,
    "start_time": "2023-10-01T07:28:48.382Z"
   },
   {
    "duration": 3,
    "start_time": "2023-10-01T07:29:03.165Z"
   },
   {
    "duration": 6,
    "start_time": "2023-10-01T07:29:03.437Z"
   },
   {
    "duration": 5,
    "start_time": "2023-10-01T07:29:03.917Z"
   },
   {
    "duration": 39,
    "start_time": "2023-10-01T07:29:04.638Z"
   },
   {
    "duration": 52,
    "start_time": "2023-10-01T07:34:26.770Z"
   },
   {
    "duration": 13,
    "start_time": "2023-10-01T07:34:56.591Z"
   },
   {
    "duration": 4,
    "start_time": "2023-10-01T07:35:05.889Z"
   },
   {
    "duration": 33,
    "start_time": "2023-10-01T07:35:08.047Z"
   },
   {
    "duration": 14,
    "start_time": "2023-10-01T07:36:13.432Z"
   },
   {
    "duration": 12,
    "start_time": "2023-10-01T07:36:44.008Z"
   },
   {
    "duration": 14,
    "start_time": "2023-10-01T07:37:15.433Z"
   },
   {
    "duration": 15,
    "start_time": "2023-10-01T07:37:22.688Z"
   },
   {
    "duration": 3210,
    "start_time": "2023-10-01T07:38:01.139Z"
   },
   {
    "duration": 214,
    "start_time": "2023-10-01T07:38:08.450Z"
   },
   {
    "duration": 9,
    "start_time": "2023-10-01T07:38:18.931Z"
   },
   {
    "duration": 17,
    "start_time": "2023-10-01T07:38:33.234Z"
   },
   {
    "duration": 18,
    "start_time": "2023-10-01T07:39:27.067Z"
   },
   {
    "duration": 14,
    "start_time": "2023-10-01T07:39:39.875Z"
   },
   {
    "duration": 14,
    "start_time": "2023-10-01T07:40:59.713Z"
   },
   {
    "duration": 5,
    "start_time": "2023-10-01T07:41:13.099Z"
   },
   {
    "duration": 32,
    "start_time": "2023-10-01T07:41:13.758Z"
   },
   {
    "duration": 34052,
    "start_time": "2023-10-01T07:42:23.202Z"
   },
   {
    "duration": 3,
    "start_time": "2023-10-01T07:43:41.299Z"
   },
   {
    "duration": 6,
    "start_time": "2023-10-01T07:43:41.595Z"
   },
   {
    "duration": 8,
    "start_time": "2023-10-01T07:43:42.026Z"
   },
   {
    "duration": 33511,
    "start_time": "2023-10-01T07:43:42.549Z"
   },
   {
    "duration": 3,
    "start_time": "2023-10-01T07:45:05.539Z"
   },
   {
    "duration": 7,
    "start_time": "2023-10-01T07:45:05.762Z"
   },
   {
    "duration": 5,
    "start_time": "2023-10-01T07:45:06.595Z"
   },
   {
    "duration": 34727,
    "start_time": "2023-10-01T07:45:07.076Z"
   },
   {
    "duration": 4,
    "start_time": "2023-10-01T07:45:54.331Z"
   },
   {
    "duration": 7,
    "start_time": "2023-10-01T07:45:54.512Z"
   },
   {
    "duration": 5,
    "start_time": "2023-10-01T07:45:56.531Z"
   },
   {
    "duration": 33976,
    "start_time": "2023-10-01T07:45:56.538Z"
   },
   {
    "duration": 6,
    "start_time": "2023-10-01T07:51:04.028Z"
   },
   {
    "duration": 591,
    "start_time": "2023-10-01T07:51:04.445Z"
   },
   {
    "duration": 34110,
    "start_time": "2023-10-01T07:51:13.626Z"
   },
   {
    "duration": 3,
    "start_time": "2023-10-01T07:52:45.735Z"
   },
   {
    "duration": 7,
    "start_time": "2023-10-01T07:52:45.936Z"
   },
   {
    "duration": 5,
    "start_time": "2023-10-01T07:52:46.142Z"
   },
   {
    "duration": 460,
    "start_time": "2023-10-01T07:52:46.446Z"
   },
   {
    "duration": 31,
    "start_time": "2023-10-01T07:52:46.908Z"
   },
   {
    "duration": 4,
    "start_time": "2023-10-01T07:52:54.766Z"
   },
   {
    "duration": 5,
    "start_time": "2023-10-01T07:52:54.943Z"
   },
   {
    "duration": 5,
    "start_time": "2023-10-01T07:52:55.130Z"
   },
   {
    "duration": 486,
    "start_time": "2023-10-01T07:52:55.311Z"
   },
   {
    "duration": 26871,
    "start_time": "2023-10-01T07:52:55.799Z"
   },
   {
    "duration": 160135,
    "start_time": "2023-10-01T07:54:11.248Z"
   },
   {
    "duration": 0,
    "start_time": "2023-10-01T07:56:51.386Z"
   },
   {
    "duration": 6,
    "start_time": "2023-10-01T07:56:52.911Z"
   },
   {
    "duration": 5,
    "start_time": "2023-10-01T07:56:53.239Z"
   },
   {
    "duration": 3,
    "start_time": "2023-10-01T07:57:01.712Z"
   },
   {
    "duration": 657832,
    "start_time": "2023-10-01T07:57:02.159Z"
   },
   {
    "duration": 183,
    "start_time": "2023-10-01T08:08:00.000Z"
   },
   {
    "duration": 331,
    "start_time": "2023-10-01T08:15:20.330Z"
   },
   {
    "duration": 251,
    "start_time": "2023-10-01T08:15:49.153Z"
   },
   {
    "duration": 269,
    "start_time": "2023-10-01T08:17:31.226Z"
   },
   {
    "duration": 276,
    "start_time": "2023-10-01T08:17:37.105Z"
   },
   {
    "duration": 525,
    "start_time": "2023-10-01T08:18:02.237Z"
   },
   {
    "duration": 302,
    "start_time": "2023-10-01T08:18:18.490Z"
   },
   {
    "duration": 185,
    "start_time": "2023-10-01T08:19:24.538Z"
   },
   {
    "duration": 134,
    "start_time": "2023-10-01T08:19:35.212Z"
   },
   {
    "duration": 126,
    "start_time": "2023-10-01T08:19:42.217Z"
   },
   {
    "duration": 135,
    "start_time": "2023-10-01T08:20:06.777Z"
   },
   {
    "duration": 176,
    "start_time": "2023-10-01T08:21:19.058Z"
   },
   {
    "duration": 156,
    "start_time": "2023-10-01T08:21:50.067Z"
   },
   {
    "duration": 5,
    "start_time": "2023-10-01T08:22:31.572Z"
   },
   {
    "duration": 5,
    "start_time": "2023-10-01T08:22:35.175Z"
   },
   {
    "duration": 0,
    "start_time": "2023-10-01T08:23:28.116Z"
   },
   {
    "duration": 0,
    "start_time": "2023-10-01T08:23:28.117Z"
   },
   {
    "duration": 0,
    "start_time": "2023-10-01T08:24:15.514Z"
   },
   {
    "duration": 0,
    "start_time": "2023-10-01T08:24:15.518Z"
   },
   {
    "duration": 5,
    "start_time": "2023-10-01T08:24:20.710Z"
   },
   {
    "duration": 20,
    "start_time": "2023-10-01T08:24:20.979Z"
   },
   {
    "duration": 5,
    "start_time": "2023-10-01T08:24:56.252Z"
   },
   {
    "duration": 50009,
    "start_time": "2023-10-01T08:24:56.500Z"
   },
   {
    "duration": 0,
    "start_time": "2023-10-01T08:25:46.511Z"
   },
   {
    "duration": 5,
    "start_time": "2023-10-01T08:27:11.892Z"
   },
   {
    "duration": 54292,
    "start_time": "2023-10-01T08:27:12.340Z"
   },
   {
    "duration": 8,
    "start_time": "2023-10-01T08:28:23.013Z"
   },
   {
    "duration": 5,
    "start_time": "2023-10-01T08:28:28.829Z"
   },
   {
    "duration": 2496,
    "start_time": "2023-10-01T08:28:29.653Z"
   },
   {
    "duration": 4,
    "start_time": "2023-10-01T08:28:57.023Z"
   },
   {
    "duration": 2481,
    "start_time": "2023-10-01T08:28:57.647Z"
   },
   {
    "duration": 20,
    "start_time": "2023-10-01T08:30:02.550Z"
   },
   {
    "duration": 10,
    "start_time": "2023-10-01T08:30:18.567Z"
   },
   {
    "duration": 5,
    "start_time": "2023-10-01T08:30:25.605Z"
   },
   {
    "duration": 15276,
    "start_time": "2023-10-01T08:30:26.502Z"
   },
   {
    "duration": 4,
    "start_time": "2023-10-01T08:31:06.310Z"
   },
   {
    "duration": 14699,
    "start_time": "2023-10-01T08:31:06.934Z"
   },
   {
    "duration": 11,
    "start_time": "2023-10-01T08:31:27.890Z"
   },
   {
    "duration": 4,
    "start_time": "2023-10-01T08:31:28.610Z"
   },
   {
    "duration": 19522,
    "start_time": "2023-10-01T08:31:29.807Z"
   },
   {
    "duration": 85,
    "start_time": "2023-10-01T08:34:01.241Z"
   },
   {
    "duration": 5,
    "start_time": "2023-10-01T08:34:04.152Z"
   },
   {
    "duration": 135,
    "start_time": "2023-10-01T08:34:04.797Z"
   },
   {
    "duration": 92,
    "start_time": "2023-10-01T08:34:24.924Z"
   },
   {
    "duration": 8,
    "start_time": "2023-10-01T08:35:04.227Z"
   },
   {
    "duration": 131,
    "start_time": "2023-10-01T08:35:18.194Z"
   },
   {
    "duration": 467,
    "start_time": "2023-10-01T08:36:26.059Z"
   },
   {
    "duration": 6,
    "start_time": "2023-10-01T08:37:00.059Z"
   },
   {
    "duration": 535,
    "start_time": "2023-10-01T08:37:00.480Z"
   },
   {
    "duration": 6,
    "start_time": "2023-10-01T08:37:19.675Z"
   },
   {
    "duration": 532,
    "start_time": "2023-10-01T08:37:20.076Z"
   },
   {
    "duration": 5,
    "start_time": "2023-10-01T08:37:27.691Z"
   },
   {
    "duration": 501,
    "start_time": "2023-10-01T08:37:28.100Z"
   },
   {
    "duration": 4,
    "start_time": "2023-10-01T08:37:36.677Z"
   },
   {
    "duration": 471,
    "start_time": "2023-10-01T08:37:38.931Z"
   },
   {
    "duration": 29,
    "start_time": "2023-10-01T08:42:57.061Z"
   },
   {
    "duration": 432,
    "start_time": "2023-10-01T08:44:29.918Z"
   },
   {
    "duration": 1650,
    "start_time": "2023-10-01T08:45:49.056Z"
   },
   {
    "duration": 23,
    "start_time": "2023-10-01T08:49:52.872Z"
   },
   {
    "duration": 13,
    "start_time": "2023-10-01T08:50:42.965Z"
   },
   {
    "duration": 1576,
    "start_time": "2023-10-01T08:51:58.834Z"
   },
   {
    "duration": 1630,
    "start_time": "2023-10-01T08:52:46.411Z"
   },
   {
    "duration": 1933,
    "start_time": "2023-10-01T08:53:58.130Z"
   },
   {
    "duration": 5,
    "start_time": "2023-10-01T08:55:04.975Z"
   },
   {
    "duration": 0,
    "start_time": "2023-10-01T08:55:30.137Z"
   },
   {
    "duration": 0,
    "start_time": "2023-10-01T08:55:30.139Z"
   },
   {
    "duration": 6,
    "start_time": "2023-10-01T08:55:31.283Z"
   },
   {
    "duration": 58905,
    "start_time": "2023-10-01T08:55:31.731Z"
   },
   {
    "duration": 1,
    "start_time": "2023-10-01T08:56:30.638Z"
   },
   {
    "duration": 16,
    "start_time": "2023-10-01T08:56:55.981Z"
   },
   {
    "duration": 15,
    "start_time": "2023-10-01T08:57:05.484Z"
   },
   {
    "duration": 7285,
    "start_time": "2023-10-01T09:01:02.663Z"
   },
   {
    "duration": 488,
    "start_time": "2023-10-01T09:02:40.787Z"
   },
   {
    "duration": 567,
    "start_time": "2023-10-01T09:03:07.234Z"
   },
   {
    "duration": 525,
    "start_time": "2023-10-01T09:03:18.018Z"
   },
   {
    "duration": 498,
    "start_time": "2023-10-01T09:04:21.769Z"
   },
   {
    "duration": 526,
    "start_time": "2023-10-01T09:04:37.682Z"
   },
   {
    "duration": 29,
    "start_time": "2023-10-01T09:05:02.936Z"
   },
   {
    "duration": 117,
    "start_time": "2023-10-01T09:06:09.162Z"
   },
   {
    "duration": 4214,
    "start_time": "2023-10-01T09:06:33.912Z"
   },
   {
    "duration": 419,
    "start_time": "2023-10-01T09:07:14.028Z"
   },
   {
    "duration": 13,
    "start_time": "2023-10-01T09:07:32.785Z"
   },
   {
    "duration": 71,
    "start_time": "2023-10-01T09:08:17.107Z"
   },
   {
    "duration": 592,
    "start_time": "2023-10-01T09:08:30.259Z"
   },
   {
    "duration": 72,
    "start_time": "2023-10-01T09:08:46.833Z"
   },
   {
    "duration": 3,
    "start_time": "2023-10-01T09:09:05.258Z"
   },
   {
    "duration": 3,
    "start_time": "2023-10-01T09:09:05.445Z"
   },
   {
    "duration": 4,
    "start_time": "2023-10-01T09:09:05.681Z"
   },
   {
    "duration": 25,
    "start_time": "2023-10-01T09:09:53.123Z"
   },
   {
    "duration": 3,
    "start_time": "2023-10-01T09:10:06.861Z"
   },
   {
    "duration": 4,
    "start_time": "2023-10-01T09:10:07.091Z"
   },
   {
    "duration": 3,
    "start_time": "2023-10-01T09:10:07.347Z"
   },
   {
    "duration": 209,
    "start_time": "2023-10-01T09:10:07.795Z"
   },
   {
    "duration": 8,
    "start_time": "2023-10-01T09:10:15.810Z"
   },
   {
    "duration": 214,
    "start_time": "2023-10-01T09:10:21.715Z"
   },
   {
    "duration": 9,
    "start_time": "2023-10-01T09:10:28.955Z"
   },
   {
    "duration": 227,
    "start_time": "2023-10-01T09:10:35.746Z"
   },
   {
    "duration": 7,
    "start_time": "2023-10-01T09:10:44.355Z"
   },
   {
    "duration": 14,
    "start_time": "2023-10-01T09:11:29.186Z"
   },
   {
    "duration": 219,
    "start_time": "2023-10-01T09:11:29.459Z"
   },
   {
    "duration": 179,
    "start_time": "2023-10-01T09:11:55.102Z"
   },
   {
    "duration": 19,
    "start_time": "2023-10-01T09:12:50.869Z"
   },
   {
    "duration": 20,
    "start_time": "2023-10-01T09:13:42.256Z"
   },
   {
    "duration": 4559,
    "start_time": "2023-10-03T00:12:15.766Z"
   },
   {
    "duration": 3912,
    "start_time": "2023-10-03T00:12:20.329Z"
   },
   {
    "duration": 2756,
    "start_time": "2023-10-03T00:12:24.243Z"
   },
   {
    "duration": 3,
    "start_time": "2023-10-03T00:12:27.002Z"
   },
   {
    "duration": 18019,
    "start_time": "2023-10-03T00:12:27.007Z"
   },
   {
    "duration": 211,
    "start_time": "2023-10-03T00:12:45.028Z"
   },
   {
    "duration": 21,
    "start_time": "2023-10-03T00:12:45.240Z"
   },
   {
    "duration": 64,
    "start_time": "2023-10-03T00:12:45.263Z"
   },
   {
    "duration": 14,
    "start_time": "2023-10-03T00:12:45.329Z"
   },
   {
    "duration": 67,
    "start_time": "2023-10-03T00:12:45.347Z"
   },
   {
    "duration": 14,
    "start_time": "2023-10-03T00:12:45.416Z"
   },
   {
    "duration": 453,
    "start_time": "2023-10-03T00:12:45.431Z"
   },
   {
    "duration": 176,
    "start_time": "2023-10-03T00:12:45.886Z"
   },
   {
    "duration": 259,
    "start_time": "2023-10-03T00:12:46.064Z"
   },
   {
    "duration": 222,
    "start_time": "2023-10-03T00:12:46.325Z"
   },
   {
    "duration": 221,
    "start_time": "2023-10-03T00:12:46.549Z"
   },
   {
    "duration": 467,
    "start_time": "2023-10-03T00:12:46.772Z"
   },
   {
    "duration": 7,
    "start_time": "2023-10-03T00:12:47.241Z"
   },
   {
    "duration": 6104,
    "start_time": "2023-10-03T00:12:47.250Z"
   },
   {
    "duration": 8,
    "start_time": "2023-10-03T00:12:53.356Z"
   },
   {
    "duration": 753,
    "start_time": "2023-10-03T00:12:53.366Z"
   },
   {
    "duration": 466,
    "start_time": "2023-10-03T00:12:54.121Z"
   },
   {
    "duration": 439,
    "start_time": "2023-10-03T00:12:54.590Z"
   },
   {
    "duration": 274,
    "start_time": "2023-10-03T00:12:55.031Z"
   },
   {
    "duration": 328,
    "start_time": "2023-10-03T00:12:55.307Z"
   },
   {
    "duration": 347,
    "start_time": "2023-10-03T00:12:55.637Z"
   },
   {
    "duration": 4,
    "start_time": "2023-10-03T00:12:55.986Z"
   },
   {
    "duration": 14004,
    "start_time": "2023-10-03T00:12:56.009Z"
   },
   {
    "duration": 546,
    "start_time": "2023-10-03T00:13:10.016Z"
   },
   {
    "duration": 130,
    "start_time": "2023-10-03T00:13:10.564Z"
   },
   {
    "duration": 69,
    "start_time": "2023-10-03T00:13:10.701Z"
   },
   {
    "duration": 456,
    "start_time": "2023-10-03T00:13:10.771Z"
   },
   {
    "duration": 50,
    "start_time": "2023-10-03T00:13:11.229Z"
   },
   {
    "duration": 123,
    "start_time": "2023-10-03T00:13:11.280Z"
   },
   {
    "duration": 53,
    "start_time": "2023-10-03T00:13:11.407Z"
   },
   {
    "duration": 124,
    "start_time": "2023-10-03T00:13:11.461Z"
   },
   {
    "duration": 147,
    "start_time": "2023-10-03T00:13:11.587Z"
   },
   {
    "duration": 17,
    "start_time": "2023-10-03T00:13:11.736Z"
   },
   {
    "duration": 27,
    "start_time": "2023-10-03T00:13:11.755Z"
   },
   {
    "duration": 36,
    "start_time": "2023-10-03T00:13:11.784Z"
   },
   {
    "duration": 12,
    "start_time": "2023-10-03T00:13:11.823Z"
   },
   {
    "duration": 900,
    "start_time": "2023-10-03T00:13:11.837Z"
   },
   {
    "duration": 4,
    "start_time": "2023-10-03T00:13:12.739Z"
   },
   {
    "duration": 307196,
    "start_time": "2023-10-03T00:13:12.745Z"
   },
   {
    "duration": 3,
    "start_time": "2023-10-03T00:18:19.943Z"
   },
   {
    "duration": 1306,
    "start_time": "2023-10-03T00:18:19.948Z"
   },
   {
    "duration": 3,
    "start_time": "2023-10-03T00:18:21.257Z"
   },
   {
    "duration": 345,
    "start_time": "2023-10-03T00:18:21.262Z"
   },
   {
    "duration": 114,
    "start_time": "2023-10-03T00:18:21.609Z"
   },
   {
    "duration": 0,
    "start_time": "2023-10-03T00:18:21.725Z"
   },
   {
    "duration": 0,
    "start_time": "2023-10-03T00:18:21.726Z"
   },
   {
    "duration": 0,
    "start_time": "2023-10-03T00:18:21.728Z"
   },
   {
    "duration": 0,
    "start_time": "2023-10-03T00:18:21.729Z"
   },
   {
    "duration": 0,
    "start_time": "2023-10-03T00:18:21.730Z"
   },
   {
    "duration": 0,
    "start_time": "2023-10-03T00:18:21.731Z"
   },
   {
    "duration": 0,
    "start_time": "2023-10-03T00:18:21.733Z"
   },
   {
    "duration": 0,
    "start_time": "2023-10-03T00:18:21.734Z"
   },
   {
    "duration": 0,
    "start_time": "2023-10-03T00:18:21.735Z"
   },
   {
    "duration": 0,
    "start_time": "2023-10-03T00:18:21.736Z"
   },
   {
    "duration": 0,
    "start_time": "2023-10-03T00:18:21.737Z"
   },
   {
    "duration": 0,
    "start_time": "2023-10-03T00:18:21.738Z"
   },
   {
    "duration": 0,
    "start_time": "2023-10-03T00:18:21.739Z"
   },
   {
    "duration": 0,
    "start_time": "2023-10-03T00:18:21.740Z"
   },
   {
    "duration": 0,
    "start_time": "2023-10-03T00:18:21.742Z"
   },
   {
    "duration": 0,
    "start_time": "2023-10-03T00:18:21.743Z"
   },
   {
    "duration": 0,
    "start_time": "2023-10-03T00:18:21.744Z"
   },
   {
    "duration": 0,
    "start_time": "2023-10-03T00:18:21.745Z"
   },
   {
    "duration": 0,
    "start_time": "2023-10-03T00:18:21.746Z"
   },
   {
    "duration": 0,
    "start_time": "2023-10-03T00:18:21.747Z"
   },
   {
    "duration": 0,
    "start_time": "2023-10-03T00:18:21.748Z"
   },
   {
    "duration": 0,
    "start_time": "2023-10-03T00:18:21.749Z"
   },
   {
    "duration": 0,
    "start_time": "2023-10-03T00:18:21.750Z"
   },
   {
    "duration": 0,
    "start_time": "2023-10-03T00:18:21.751Z"
   },
   {
    "duration": 0,
    "start_time": "2023-10-03T00:18:21.752Z"
   },
   {
    "duration": 0,
    "start_time": "2023-10-03T00:18:21.753Z"
   },
   {
    "duration": 0,
    "start_time": "2023-10-03T00:18:21.754Z"
   },
   {
    "duration": 4,
    "start_time": "2023-10-03T00:19:02.220Z"
   },
   {
    "duration": 21313,
    "start_time": "2023-10-03T00:19:02.566Z"
   },
   {
    "duration": 135,
    "start_time": "2023-10-03T00:19:23.881Z"
   },
   {
    "duration": 0,
    "start_time": "2023-10-03T00:19:24.018Z"
   },
   {
    "duration": 4,
    "start_time": "2023-10-03T00:19:32.731Z"
   },
   {
    "duration": 25,
    "start_time": "2023-10-03T00:19:39.038Z"
   },
   {
    "duration": 4,
    "start_time": "2023-10-03T00:19:44.053Z"
   },
   {
    "duration": 418630,
    "start_time": "2023-10-03T00:19:44.507Z"
   },
   {
    "duration": 2,
    "start_time": "2023-10-03T00:26:43.140Z"
   },
   {
    "duration": 3783,
    "start_time": "2023-10-03T00:26:43.144Z"
   },
   {
    "duration": 433,
    "start_time": "2023-10-03T00:26:46.930Z"
   },
   {
    "duration": 41,
    "start_time": "2023-10-03T00:26:47.364Z"
   },
   {
    "duration": 6,
    "start_time": "2023-10-03T00:26:47.410Z"
   },
   {
    "duration": 16,
    "start_time": "2023-10-03T00:26:47.419Z"
   },
   {
    "duration": 44,
    "start_time": "2023-10-03T00:26:47.437Z"
   },
   {
    "duration": 147,
    "start_time": "2023-10-03T00:26:47.483Z"
   },
   {
    "duration": 0,
    "start_time": "2023-10-03T00:26:47.633Z"
   },
   {
    "duration": 0,
    "start_time": "2023-10-03T00:26:47.635Z"
   },
   {
    "duration": 18,
    "start_time": "2023-10-03T00:27:21.124Z"
   },
   {
    "duration": 19,
    "start_time": "2023-10-03T00:27:51.343Z"
   },
   {
    "duration": 6,
    "start_time": "2023-10-03T00:28:10.055Z"
   },
   {
    "duration": 6,
    "start_time": "2023-10-03T00:28:10.635Z"
   },
   {
    "duration": 4,
    "start_time": "2023-10-03T00:28:14.292Z"
   },
   {
    "duration": 103,
    "start_time": "2023-10-03T00:28:14.610Z"
   },
   {
    "duration": 4,
    "start_time": "2023-10-03T00:29:31.237Z"
   },
   {
    "duration": 3,
    "start_time": "2023-10-03T00:29:31.973Z"
   },
   {
    "duration": 23,
    "start_time": "2023-10-03T00:29:32.461Z"
   },
   {
    "duration": 3,
    "start_time": "2023-10-03T00:29:48.843Z"
   },
   {
    "duration": 6,
    "start_time": "2023-10-03T00:29:49.188Z"
   },
   {
    "duration": 5,
    "start_time": "2023-10-03T00:29:49.636Z"
   },
   {
    "duration": 4,
    "start_time": "2023-10-03T00:29:51.052Z"
   },
   {
    "duration": 19,
    "start_time": "2023-10-03T00:29:52.837Z"
   },
   {
    "duration": 3,
    "start_time": "2023-10-03T00:30:02.453Z"
   },
   {
    "duration": 6,
    "start_time": "2023-10-03T00:30:02.765Z"
   },
   {
    "duration": 4,
    "start_time": "2023-10-03T00:30:03.143Z"
   },
   {
    "duration": 3,
    "start_time": "2023-10-03T00:30:03.597Z"
   },
   {
    "duration": 26,
    "start_time": "2023-10-03T00:30:04.197Z"
   },
   {
    "duration": 3,
    "start_time": "2023-10-03T00:30:12.965Z"
   },
   {
    "duration": 6,
    "start_time": "2023-10-03T00:30:13.174Z"
   },
   {
    "duration": 5,
    "start_time": "2023-10-03T00:30:13.372Z"
   },
   {
    "duration": 4,
    "start_time": "2023-10-03T00:30:15.869Z"
   },
   {
    "duration": 192,
    "start_time": "2023-10-03T00:31:07.150Z"
   },
   {
    "duration": 6,
    "start_time": "2023-10-03T00:34:06.871Z"
   },
   {
    "duration": 3,
    "start_time": "2023-10-03T00:34:07.446Z"
   },
   {
    "duration": 147,
    "start_time": "2023-10-03T00:34:08.168Z"
   },
   {
    "duration": 7,
    "start_time": "2023-10-03T00:35:23.308Z"
   },
   {
    "duration": 3,
    "start_time": "2023-10-03T00:35:23.631Z"
   },
   {
    "duration": 134,
    "start_time": "2023-10-03T00:35:24.952Z"
   },
   {
    "duration": 142,
    "start_time": "2023-10-03T00:39:45.346Z"
   },
   {
    "duration": 403,
    "start_time": "2023-10-03T00:39:56.379Z"
   },
   {
    "duration": 156,
    "start_time": "2023-10-03T00:40:09.293Z"
   },
   {
    "duration": 111,
    "start_time": "2023-10-03T00:42:14.750Z"
   },
   {
    "duration": 109,
    "start_time": "2023-10-03T00:43:17.758Z"
   },
   {
    "duration": 110,
    "start_time": "2023-10-03T00:44:00.862Z"
   },
   {
    "duration": 127,
    "start_time": "2023-10-03T00:44:01.596Z"
   },
   {
    "duration": 15,
    "start_time": "2023-10-03T00:46:07.677Z"
   },
   {
    "duration": 5,
    "start_time": "2023-10-03T00:46:51.149Z"
   },
   {
    "duration": 4,
    "start_time": "2023-10-03T00:46:52.589Z"
   },
   {
    "duration": 114,
    "start_time": "2023-10-03T00:46:52.894Z"
   },
   {
    "duration": 162,
    "start_time": "2023-10-03T00:47:04.735Z"
   },
   {
    "duration": 6,
    "start_time": "2023-10-03T00:47:13.477Z"
   },
   {
    "duration": 4,
    "start_time": "2023-10-03T00:47:13.894Z"
   },
   {
    "duration": 3,
    "start_time": "2023-10-03T00:47:14.150Z"
   },
   {
    "duration": 7,
    "start_time": "2023-10-03T00:47:14.502Z"
   },
   {
    "duration": 5,
    "start_time": "2023-10-03T00:47:15.062Z"
   },
   {
    "duration": 3,
    "start_time": "2023-10-03T00:47:15.701Z"
   },
   {
    "duration": 128,
    "start_time": "2023-10-03T00:47:16.311Z"
   },
   {
    "duration": 3,
    "start_time": "2023-10-03T00:47:22.797Z"
   },
   {
    "duration": 6,
    "start_time": "2023-10-03T00:47:23.085Z"
   },
   {
    "duration": 4,
    "start_time": "2023-10-03T00:47:23.454Z"
   },
   {
    "duration": 3,
    "start_time": "2023-10-03T00:47:23.870Z"
   },
   {
    "duration": 86715,
    "start_time": "2023-10-03T00:47:24.431Z"
   },
   {
    "duration": 13,
    "start_time": "2023-10-03T00:48:51.147Z"
   },
   {
    "duration": 12,
    "start_time": "2023-10-03T00:49:47.904Z"
   },
   {
    "duration": 4,
    "start_time": "2023-10-03T00:50:33.728Z"
   },
   {
    "duration": 113,
    "start_time": "2023-10-03T00:50:47.337Z"
   },
   {
    "duration": 6,
    "start_time": "2023-10-03T00:51:06.408Z"
   },
   {
    "duration": 7,
    "start_time": "2023-10-03T00:51:06.688Z"
   },
   {
    "duration": 5,
    "start_time": "2023-10-03T00:51:07.079Z"
   },
   {
    "duration": 3,
    "start_time": "2023-10-03T00:51:07.623Z"
   },
   {
    "duration": 120,
    "start_time": "2023-10-03T00:51:08.169Z"
   },
   {
    "duration": 13,
    "start_time": "2023-10-03T00:52:16.641Z"
   },
   {
    "duration": 3,
    "start_time": "2023-10-03T00:52:17.089Z"
   },
   {
    "duration": 5,
    "start_time": "2023-10-03T00:52:25.755Z"
   },
   {
    "duration": 4,
    "start_time": "2023-10-03T00:52:26.201Z"
   },
   {
    "duration": 116,
    "start_time": "2023-10-03T00:52:26.793Z"
   },
   {
    "duration": 123,
    "start_time": "2023-10-03T00:52:40.801Z"
   },
   {
    "duration": 5,
    "start_time": "2023-10-03T00:54:09.202Z"
   },
   {
    "duration": 3,
    "start_time": "2023-10-03T00:54:09.793Z"
   },
   {
    "duration": 105,
    "start_time": "2023-10-03T00:54:10.131Z"
   },
   {
    "duration": 123,
    "start_time": "2023-10-03T00:54:50.562Z"
   },
   {
    "duration": 19,
    "start_time": "2023-10-03T00:56:38.572Z"
   },
   {
    "duration": 15,
    "start_time": "2023-10-03T00:56:43.315Z"
   },
   {
    "duration": 117,
    "start_time": "2023-10-03T00:57:41.435Z"
   },
   {
    "duration": 205762,
    "start_time": "2023-10-03T00:58:24.660Z"
   },
   {
    "duration": 3,
    "start_time": "2023-10-03T01:01:54.315Z"
   },
   {
    "duration": 8,
    "start_time": "2023-10-03T01:01:54.598Z"
   },
   {
    "duration": 5,
    "start_time": "2023-10-03T01:01:55.020Z"
   },
   {
    "duration": 3,
    "start_time": "2023-10-03T01:01:55.556Z"
   },
   {
    "duration": 305,
    "start_time": "2023-10-03T01:01:56.205Z"
   },
   {
    "duration": 141,
    "start_time": "2023-10-03T01:02:03.350Z"
   },
   {
    "duration": 147,
    "start_time": "2023-10-03T01:02:10.309Z"
   },
   {
    "duration": 117,
    "start_time": "2023-10-03T01:02:21.525Z"
   },
   {
    "duration": 95,
    "start_time": "2023-10-03T01:02:31.975Z"
   },
   {
    "duration": 112,
    "start_time": "2023-10-03T01:02:40.349Z"
   },
   {
    "duration": 104,
    "start_time": "2023-10-03T01:02:53.813Z"
   },
   {
    "duration": 104,
    "start_time": "2023-10-03T01:02:59.365Z"
   },
   {
    "duration": 111,
    "start_time": "2023-10-03T01:03:04.293Z"
   },
   {
    "duration": 135,
    "start_time": "2023-10-03T01:03:50.541Z"
   },
   {
    "duration": 132,
    "start_time": "2023-10-03T01:03:56.525Z"
   },
   {
    "duration": 3,
    "start_time": "2023-10-03T01:04:21.341Z"
   },
   {
    "duration": 6,
    "start_time": "2023-10-03T01:04:21.638Z"
   },
   {
    "duration": 5,
    "start_time": "2023-10-03T01:04:22.101Z"
   },
   {
    "duration": 4,
    "start_time": "2023-10-03T01:04:22.541Z"
   },
   {
    "duration": 3515,
    "start_time": "2023-10-03T01:04:23.174Z"
   },
   {
    "duration": 3766,
    "start_time": "2023-10-03T01:04:39.094Z"
   },
   {
    "duration": 2538,
    "start_time": "2023-10-03T01:06:00.382Z"
   },
   {
    "duration": 371,
    "start_time": "2023-10-03T01:06:07.205Z"
   },
   {
    "duration": 731,
    "start_time": "2023-10-03T01:06:11.670Z"
   },
   {
    "duration": 60,
    "start_time": "2023-10-03T01:06:12.653Z"
   },
   {
    "duration": 3,
    "start_time": "2023-10-03T01:06:13.519Z"
   },
   {
    "duration": 4,
    "start_time": "2023-10-03T01:06:14.509Z"
   },
   {
    "duration": 4,
    "start_time": "2023-10-03T01:06:14.933Z"
   },
   {
    "duration": 213,
    "start_time": "2023-10-03T01:06:17.526Z"
   },
   {
    "duration": 8,
    "start_time": "2023-10-03T01:06:18.541Z"
   },
   {
    "duration": 212,
    "start_time": "2023-10-03T01:06:36.918Z"
   },
   {
    "duration": 7,
    "start_time": "2023-10-03T01:06:37.133Z"
   },
   {
    "duration": 190,
    "start_time": "2023-10-03T01:06:37.285Z"
   },
   {
    "duration": 6,
    "start_time": "2023-10-03T01:06:37.477Z"
   },
   {
    "duration": 15,
    "start_time": "2023-10-03T01:08:23.951Z"
   },
   {
    "duration": 5,
    "start_time": "2023-10-03T01:09:26.471Z"
   },
   {
    "duration": 11,
    "start_time": "2023-10-03T01:10:50.081Z"
   },
   {
    "duration": 12,
    "start_time": "2023-10-03T01:11:03.081Z"
   },
   {
    "duration": 12,
    "start_time": "2023-10-03T01:11:17.368Z"
   },
   {
    "duration": 16,
    "start_time": "2023-10-03T01:11:24.353Z"
   },
   {
    "duration": 13,
    "start_time": "2023-10-03T01:11:35.481Z"
   },
   {
    "duration": 6,
    "start_time": "2023-10-03T01:11:44.240Z"
   },
   {
    "duration": 4,
    "start_time": "2023-10-03T01:11:56.819Z"
   },
   {
    "duration": 18,
    "start_time": "2023-10-03T01:14:00.353Z"
   },
   {
    "duration": 13,
    "start_time": "2023-10-03T01:14:43.994Z"
   },
   {
    "duration": 12,
    "start_time": "2023-10-03T01:16:20.501Z"
   },
   {
    "duration": 705,
    "start_time": "2023-10-03T01:16:59.597Z"
   },
   {
    "duration": 3,
    "start_time": "2023-10-03T01:19:24.068Z"
   },
   {
    "duration": 11,
    "start_time": "2023-10-03T01:19:29.203Z"
   },
   {
    "duration": 3,
    "start_time": "2023-10-03T01:19:47.732Z"
   },
   {
    "duration": 17,
    "start_time": "2023-10-03T01:19:57.868Z"
   },
   {
    "duration": 11,
    "start_time": "2023-10-03T01:21:16.980Z"
   },
   {
    "duration": 13,
    "start_time": "2023-10-03T01:21:28.716Z"
   },
   {
    "duration": 4,
    "start_time": "2023-10-03T01:22:00.678Z"
   },
   {
    "duration": 5,
    "start_time": "2023-10-03T01:22:17.677Z"
   },
   {
    "duration": 4,
    "start_time": "2023-10-03T01:22:23.430Z"
   },
   {
    "duration": 6,
    "start_time": "2023-10-03T01:22:42.605Z"
   },
   {
    "duration": 15,
    "start_time": "2023-10-03T01:22:44.941Z"
   },
   {
    "duration": 3,
    "start_time": "2023-10-03T01:23:23.024Z"
   },
   {
    "duration": 3,
    "start_time": "2023-10-03T01:23:42.078Z"
   },
   {
    "duration": 7,
    "start_time": "2023-10-03T01:23:44.773Z"
   },
   {
    "duration": 15,
    "start_time": "2023-10-03T01:23:45.494Z"
   },
   {
    "duration": 11,
    "start_time": "2023-10-03T01:23:56.765Z"
   },
   {
    "duration": 4,
    "start_time": "2023-10-03T01:24:05.958Z"
   },
   {
    "duration": 11,
    "start_time": "2023-10-03T01:24:48.806Z"
   },
   {
    "duration": 11,
    "start_time": "2023-10-03T01:24:55.471Z"
   },
   {
    "duration": 16,
    "start_time": "2023-10-03T01:25:22.927Z"
   },
   {
    "duration": 3,
    "start_time": "2023-10-03T01:26:07.806Z"
   },
   {
    "duration": 15,
    "start_time": "2023-10-03T01:26:10.015Z"
   },
   {
    "duration": 102,
    "start_time": "2023-10-03T01:27:13.376Z"
   },
   {
    "duration": 11,
    "start_time": "2023-10-03T01:27:23.088Z"
   },
   {
    "duration": 2819,
    "start_time": "2023-10-03T01:27:35.952Z"
   },
   {
    "duration": 89,
    "start_time": "2023-10-03T01:29:29.403Z"
   },
   {
    "duration": 21,
    "start_time": "2023-10-03T01:30:04.265Z"
   },
   {
    "duration": 9,
    "start_time": "2023-10-03T01:30:32.069Z"
   },
   {
    "duration": 122,
    "start_time": "2023-10-03T01:30:46.872Z"
   },
   {
    "duration": 3997,
    "start_time": "2023-10-03T01:30:47.369Z"
   },
   {
    "duration": 12,
    "start_time": "2023-10-03T01:31:45.020Z"
   },
   {
    "duration": 3845,
    "start_time": "2023-10-03T01:31:58.514Z"
   },
   {
    "duration": 33,
    "start_time": "2023-10-03T01:32:50.889Z"
   },
   {
    "duration": 3425,
    "start_time": "2023-10-03T01:32:51.713Z"
   },
   {
    "duration": 21,
    "start_time": "2023-10-03T01:33:16.848Z"
   },
   {
    "duration": 12,
    "start_time": "2023-10-03T01:33:26.644Z"
   },
   {
    "duration": 12,
    "start_time": "2023-10-03T01:33:31.705Z"
   },
   {
    "duration": 142,
    "start_time": "2023-10-03T01:33:43.545Z"
   },
   {
    "duration": 2466,
    "start_time": "2023-10-03T01:34:33.682Z"
   },
   {
    "duration": 12,
    "start_time": "2023-10-03T01:35:49.138Z"
   },
   {
    "duration": 156,
    "start_time": "2023-10-03T01:36:10.697Z"
   },
   {
    "duration": 12,
    "start_time": "2023-10-03T01:36:22.644Z"
   },
   {
    "duration": 11,
    "start_time": "2023-10-03T01:36:30.382Z"
   },
   {
    "duration": 8353,
    "start_time": "2023-10-03T01:36:46.012Z"
   },
   {
    "duration": 21,
    "start_time": "2023-10-03T01:41:53.923Z"
   },
   {
    "duration": 2387,
    "start_time": "2023-10-03T01:41:54.718Z"
   },
   {
    "duration": 81,
    "start_time": "2023-10-03T01:42:15.444Z"
   },
   {
    "duration": 2257,
    "start_time": "2023-10-03T01:42:16.532Z"
   },
   {
    "duration": 11,
    "start_time": "2023-10-03T01:42:51.460Z"
   },
   {
    "duration": 40,
    "start_time": "2023-10-03T01:43:56.492Z"
   },
   {
    "duration": 3550,
    "start_time": "2023-10-03T01:43:57.244Z"
   },
   {
    "duration": 132,
    "start_time": "2023-10-03T01:45:03.682Z"
   },
   {
    "duration": 91,
    "start_time": "2023-10-03T01:45:05.315Z"
   },
   {
    "duration": 103,
    "start_time": "2023-10-03T01:45:06.020Z"
   },
   {
    "duration": 100,
    "start_time": "2023-10-03T01:45:07.989Z"
   },
   {
    "duration": 4266,
    "start_time": "2023-10-03T01:45:09.006Z"
   },
   {
    "duration": 3264,
    "start_time": "2023-10-03T01:45:22.357Z"
   },
   {
    "duration": 334,
    "start_time": "2023-10-03T01:46:37.149Z"
   },
   {
    "duration": 102,
    "start_time": "2023-10-03T01:46:38.028Z"
   },
   {
    "duration": 128,
    "start_time": "2023-10-03T01:46:38.637Z"
   },
   {
    "duration": 15,
    "start_time": "2023-10-03T01:46:41.477Z"
   },
   {
    "duration": 3206,
    "start_time": "2023-10-03T01:48:29.742Z"
   },
   {
    "duration": 363,
    "start_time": "2023-10-03T01:48:46.718Z"
   },
   {
    "duration": 3,
    "start_time": "2023-10-03T01:48:50.021Z"
   },
   {
    "duration": 4,
    "start_time": "2023-10-03T01:48:51.637Z"
   },
   {
    "duration": 4,
    "start_time": "2023-10-03T01:48:52.085Z"
   },
   {
    "duration": 3,
    "start_time": "2023-10-03T01:48:52.645Z"
   },
   {
    "duration": 4,
    "start_time": "2023-10-03T01:48:53.229Z"
   },
   {
    "duration": 2,
    "start_time": "2023-10-03T01:48:53.695Z"
   },
   {
    "duration": 16,
    "start_time": "2023-10-03T01:48:54.189Z"
   },
   {
    "duration": 3,
    "start_time": "2023-10-03T01:50:01.606Z"
   },
   {
    "duration": 17,
    "start_time": "2023-10-03T01:50:02.278Z"
   },
   {
    "duration": 195,
    "start_time": "2023-10-03T01:51:07.463Z"
   },
   {
    "duration": 87,
    "start_time": "2023-10-03T01:51:45.022Z"
   },
   {
    "duration": 110,
    "start_time": "2023-10-03T01:52:46.201Z"
   },
   {
    "duration": 3,
    "start_time": "2023-10-03T01:52:46.601Z"
   },
   {
    "duration": 3,
    "start_time": "2023-10-03T01:52:47.061Z"
   },
   {
    "duration": 2190,
    "start_time": "2023-10-03T01:52:47.496Z"
   },
   {
    "duration": 24,
    "start_time": "2023-10-03T01:54:21.144Z"
   },
   {
    "duration": 21,
    "start_time": "2023-10-03T01:54:52.049Z"
   },
   {
    "duration": 4,
    "start_time": "2023-10-03T01:55:19.512Z"
   },
   {
    "duration": 107,
    "start_time": "2023-10-03T01:55:33.753Z"
   },
   {
    "duration": 23,
    "start_time": "2023-10-03T01:55:49.890Z"
   },
   {
    "duration": 33,
    "start_time": "2023-10-03T01:56:07.826Z"
   },
   {
    "duration": 15,
    "start_time": "2023-10-03T01:56:09.016Z"
   },
   {
    "duration": 3,
    "start_time": "2023-10-03T01:56:09.412Z"
   },
   {
    "duration": 3,
    "start_time": "2023-10-03T01:56:32.386Z"
   },
   {
    "duration": 83,
    "start_time": "2023-10-03T01:56:32.985Z"
   },
   {
    "duration": 12,
    "start_time": "2023-10-03T01:57:13.226Z"
   },
   {
    "duration": 13,
    "start_time": "2023-10-03T01:57:29.040Z"
   },
   {
    "duration": 197,
    "start_time": "2023-10-03T01:57:40.552Z"
   },
   {
    "duration": 108,
    "start_time": "2023-10-03T01:57:41.065Z"
   },
   {
    "duration": 48,
    "start_time": "2023-10-03T01:57:42.489Z"
   },
   {
    "duration": 97,
    "start_time": "2023-10-03T01:57:44.194Z"
   },
   {
    "duration": 3,
    "start_time": "2023-10-03T01:57:46.794Z"
   },
   {
    "duration": 3,
    "start_time": "2023-10-03T01:57:47.690Z"
   },
   {
    "duration": 128,
    "start_time": "2023-10-03T01:57:48.305Z"
   },
   {
    "duration": 3,
    "start_time": "2023-10-03T01:57:57.561Z"
   },
   {
    "duration": 3,
    "start_time": "2023-10-03T01:57:58.170Z"
   },
   {
    "duration": 315,
    "start_time": "2023-10-03T01:57:58.594Z"
   },
   {
    "duration": 3,
    "start_time": "2023-10-03T01:58:32.171Z"
   },
   {
    "duration": 286,
    "start_time": "2023-10-03T01:58:32.670Z"
   },
   {
    "duration": 257,
    "start_time": "2023-10-03T01:58:53.658Z"
   },
   {
    "duration": 254,
    "start_time": "2023-10-03T01:59:25.899Z"
   },
   {
    "duration": 11,
    "start_time": "2023-10-03T02:00:09.339Z"
   },
   {
    "duration": 3,
    "start_time": "2023-10-03T02:00:18.724Z"
   },
   {
    "duration": 84822,
    "start_time": "2023-10-03T02:00:19.418Z"
   },
   {
    "duration": 4,
    "start_time": "2023-10-03T02:02:00.187Z"
   },
   {
    "duration": 3,
    "start_time": "2023-10-03T02:02:00.597Z"
   },
   {
    "duration": 5686,
    "start_time": "2023-10-03T02:02:01.046Z"
   },
   {
    "duration": 88,
    "start_time": "2023-10-03T02:02:06.734Z"
   },
   {
    "duration": 5318,
    "start_time": "2023-10-03T02:02:06.824Z"
   },
   {
    "duration": 2842,
    "start_time": "2023-10-03T02:02:12.144Z"
   },
   {
    "duration": 0,
    "start_time": "2023-10-03T02:02:14.988Z"
   },
   {
    "duration": 17,
    "start_time": "2023-10-03T02:02:54.444Z"
   },
   {
    "duration": 196,
    "start_time": "2023-10-03T02:03:00.157Z"
   },
   {
    "duration": 109,
    "start_time": "2023-10-03T02:03:00.517Z"
   },
   {
    "duration": 57,
    "start_time": "2023-10-03T02:03:01.404Z"
   },
   {
    "duration": 92,
    "start_time": "2023-10-03T02:03:04.171Z"
   },
   {
    "duration": 70,
    "start_time": "2023-10-03T02:03:08.954Z"
   },
   {
    "duration": 16,
    "start_time": "2023-10-03T02:03:10.579Z"
   },
   {
    "duration": 3,
    "start_time": "2023-10-03T02:03:21.156Z"
   },
   {
    "duration": 4,
    "start_time": "2023-10-03T02:03:21.795Z"
   },
   {
    "duration": 2,
    "start_time": "2023-10-03T02:03:33.407Z"
   },
   {
    "duration": 5,
    "start_time": "2023-10-03T02:03:34.668Z"
   },
   {
    "duration": 8,
    "start_time": "2023-10-03T02:03:46.365Z"
   },
   {
    "duration": 225,
    "start_time": "2023-10-03T02:03:54.100Z"
   },
   {
    "duration": 13,
    "start_time": "2023-10-03T02:04:09.325Z"
   },
   {
    "duration": 13,
    "start_time": "2023-10-03T02:04:09.758Z"
   },
   {
    "duration": 12579,
    "start_time": "2023-10-03T02:04:38.972Z"
   },
   {
    "duration": 479,
    "start_time": "2023-10-03T02:04:51.553Z"
   },
   {
    "duration": 42,
    "start_time": "2023-10-03T02:05:18.674Z"
   },
   {
    "duration": 456,
    "start_time": "2023-10-03T02:05:19.093Z"
   },
   {
    "duration": 48,
    "start_time": "2023-10-03T02:05:20.196Z"
   },
   {
    "duration": 110,
    "start_time": "2023-10-03T02:05:21.517Z"
   },
   {
    "duration": 377,
    "start_time": "2023-10-03T02:05:33.998Z"
   },
   {
    "duration": 232,
    "start_time": "2023-10-03T02:05:34.725Z"
   },
   {
    "duration": 192,
    "start_time": "2023-10-03T02:11:11.559Z"
   },
   {
    "duration": 104,
    "start_time": "2023-10-03T02:11:12.567Z"
   },
   {
    "duration": 116,
    "start_time": "2023-10-03T02:11:14.519Z"
   },
   {
    "duration": 3,
    "start_time": "2023-10-03T02:11:15.439Z"
   },
   {
    "duration": 3,
    "start_time": "2023-10-03T02:11:16.167Z"
   },
   {
    "duration": 4018,
    "start_time": "2023-10-03T02:11:16.903Z"
   },
   {
    "duration": 44,
    "start_time": "2023-10-03T02:11:30.882Z"
   },
   {
    "duration": 32,
    "start_time": "2023-10-03T02:11:56.299Z"
   },
   {
    "duration": 177,
    "start_time": "2023-10-03T02:13:21.578Z"
   },
   {
    "duration": 103,
    "start_time": "2023-10-03T02:13:21.929Z"
   },
   {
    "duration": 58,
    "start_time": "2023-10-03T02:13:23.114Z"
   },
   {
    "duration": 104,
    "start_time": "2023-10-03T02:13:24.616Z"
   },
   {
    "duration": 3,
    "start_time": "2023-10-03T02:13:25.104Z"
   },
   {
    "duration": 3,
    "start_time": "2023-10-03T02:13:46.426Z"
   },
   {
    "duration": 3,
    "start_time": "2023-10-03T02:13:46.904Z"
   },
   {
    "duration": 83632,
    "start_time": "2023-10-03T02:13:47.650Z"
   },
   {
    "duration": 5,
    "start_time": "2023-10-03T02:15:11.284Z"
   },
   {
    "duration": 19,
    "start_time": "2023-10-03T02:15:11.291Z"
   },
   {
    "duration": 4304,
    "start_time": "2023-10-03T02:15:11.312Z"
   },
   {
    "duration": 82,
    "start_time": "2023-10-03T02:15:15.618Z"
   },
   {
    "duration": 5123,
    "start_time": "2023-10-03T02:15:15.702Z"
   },
   {
    "duration": 73,
    "start_time": "2023-10-03T02:15:20.827Z"
   },
   {
    "duration": 18,
    "start_time": "2023-10-03T02:15:20.902Z"
   },
   {
    "duration": 3,
    "start_time": "2023-10-03T02:17:46.917Z"
   },
   {
    "duration": 4869,
    "start_time": "2023-10-03T02:17:47.805Z"
   },
   {
    "duration": 75,
    "start_time": "2023-10-03T02:17:52.676Z"
   },
   {
    "duration": 5163,
    "start_time": "2023-10-03T02:17:52.753Z"
   },
   {
    "duration": 71,
    "start_time": "2023-10-03T02:17:57.918Z"
   },
   {
    "duration": 63,
    "start_time": "2023-10-03T02:17:57.991Z"
   },
   {
    "duration": 3981,
    "start_time": "2023-10-03T05:35:48.367Z"
   },
   {
    "duration": 3254,
    "start_time": "2023-10-03T05:35:52.350Z"
   },
   {
    "duration": 2828,
    "start_time": "2023-10-03T05:36:14.943Z"
   },
   {
    "duration": 4,
    "start_time": "2023-10-03T05:36:27.295Z"
   },
   {
    "duration": 11885,
    "start_time": "2023-10-03T05:36:27.595Z"
   },
   {
    "duration": 233,
    "start_time": "2023-10-03T05:36:40.460Z"
   },
   {
    "duration": 23,
    "start_time": "2023-10-03T05:36:41.206Z"
   },
   {
    "duration": 37,
    "start_time": "2023-10-03T05:36:41.755Z"
   },
   {
    "duration": 13,
    "start_time": "2023-10-03T05:36:42.462Z"
   },
   {
    "duration": 37,
    "start_time": "2023-10-03T05:36:42.987Z"
   },
   {
    "duration": 9,
    "start_time": "2023-10-03T05:36:43.502Z"
   },
   {
    "duration": 434,
    "start_time": "2023-10-03T05:38:42.680Z"
   },
   {
    "duration": 176,
    "start_time": "2023-10-03T05:38:43.116Z"
   },
   {
    "duration": 244,
    "start_time": "2023-10-03T05:38:43.691Z"
   },
   {
    "duration": 225,
    "start_time": "2023-10-03T05:38:44.226Z"
   },
   {
    "duration": 224,
    "start_time": "2023-10-03T05:38:44.835Z"
   },
   {
    "duration": 481,
    "start_time": "2023-10-03T05:38:45.603Z"
   },
   {
    "duration": 9,
    "start_time": "2023-10-03T05:38:46.326Z"
   },
   {
    "duration": 6199,
    "start_time": "2023-10-03T05:38:47.989Z"
   },
   {
    "duration": 10,
    "start_time": "2023-10-03T05:38:54.190Z"
   },
   {
    "duration": 728,
    "start_time": "2023-10-03T05:38:56.615Z"
   },
   {
    "duration": 280,
    "start_time": "2023-10-03T05:40:49.950Z"
   },
   {
    "duration": 358,
    "start_time": "2023-10-03T05:42:08.305Z"
   },
   {
    "duration": 226,
    "start_time": "2023-10-03T05:42:09.041Z"
   },
   {
    "duration": 288,
    "start_time": "2023-10-03T05:42:10.069Z"
   },
   {
    "duration": 318,
    "start_time": "2023-10-03T05:42:13.334Z"
   },
   {
    "duration": 4,
    "start_time": "2023-10-03T05:44:31.549Z"
   },
   {
    "duration": 14905,
    "start_time": "2023-10-03T05:44:39.628Z"
   },
   {
    "duration": 521,
    "start_time": "2023-10-03T05:44:54.536Z"
   },
   {
    "duration": 112,
    "start_time": "2023-10-03T05:45:08.563Z"
   },
   {
    "duration": 39,
    "start_time": "2023-10-03T05:45:09.432Z"
   },
   {
    "duration": 465,
    "start_time": "2023-10-03T05:45:52.757Z"
   },
   {
    "duration": 47,
    "start_time": "2023-10-03T05:45:53.224Z"
   },
   {
    "duration": 103,
    "start_time": "2023-10-03T05:45:53.559Z"
   },
   {
    "duration": 25,
    "start_time": "2023-10-03T05:45:54.802Z"
   },
   {
    "duration": 21,
    "start_time": "2023-10-03T05:46:43.761Z"
   },
   {
    "duration": 31,
    "start_time": "2023-10-03T05:46:54.265Z"
   },
   {
    "duration": 4,
    "start_time": "2023-10-03T06:08:29.484Z"
   },
   {
    "duration": 251,
    "start_time": "2023-10-03T06:08:31.209Z"
   },
   {
    "duration": 108,
    "start_time": "2023-10-03T06:08:36.534Z"
   },
   {
    "duration": 112,
    "start_time": "2023-10-03T06:08:37.285Z"
   },
   {
    "duration": 3,
    "start_time": "2023-10-03T06:08:37.504Z"
   },
   {
    "duration": 4,
    "start_time": "2023-10-03T06:08:37.688Z"
   },
   {
    "duration": 3,
    "start_time": "2023-10-03T06:08:37.878Z"
   },
   {
    "duration": 2,
    "start_time": "2023-10-03T06:08:38.363Z"
   },
   {
    "duration": 780,
    "start_time": "2023-10-03T06:08:39.446Z"
   },
   {
    "duration": 3,
    "start_time": "2023-10-03T06:08:41.658Z"
   },
   {
    "duration": 7101,
    "start_time": "2023-10-03T06:08:42.472Z"
   },
   {
    "duration": 128,
    "start_time": "2023-10-03T06:08:54.929Z"
   },
   {
    "duration": 4,
    "start_time": "2023-10-03T06:08:59.013Z"
   },
   {
    "duration": 21679,
    "start_time": "2023-10-03T06:08:59.631Z"
   },
   {
    "duration": 4,
    "start_time": "2023-10-03T06:09:23.574Z"
   },
   {
    "duration": 2388,
    "start_time": "2023-10-03T06:09:26.479Z"
   },
   {
    "duration": 5,
    "start_time": "2023-10-03T06:09:33.698Z"
   },
   {
    "duration": 22,
    "start_time": "2023-10-03T06:09:50.642Z"
   },
   {
    "duration": 25,
    "start_time": "2023-10-03T06:10:10.529Z"
   },
   {
    "duration": 16,
    "start_time": "2023-10-03T06:10:20.621Z"
   },
   {
    "duration": 748,
    "start_time": "2023-10-03T06:11:14.704Z"
   },
   {
    "duration": 186,
    "start_time": "2023-10-04T03:13:06.422Z"
   },
   {
    "duration": 108,
    "start_time": "2023-10-04T03:13:18.704Z"
   },
   {
    "duration": 3,
    "start_time": "2023-10-04T03:16:55.281Z"
   },
   {
    "duration": 3,
    "start_time": "2023-10-04T03:18:57.683Z"
   },
   {
    "duration": 3,
    "start_time": "2023-10-04T03:18:58.486Z"
   },
   {
    "duration": 11,
    "start_time": "2023-10-04T03:19:17.514Z"
   },
   {
    "duration": 3,
    "start_time": "2023-10-04T03:19:21.447Z"
   },
   {
    "duration": 12,
    "start_time": "2023-10-04T03:19:24.395Z"
   },
   {
    "duration": 3,
    "start_time": "2023-10-04T03:19:33.890Z"
   },
   {
    "duration": 11,
    "start_time": "2023-10-04T03:19:37.717Z"
   },
   {
    "duration": 510,
    "start_time": "2023-10-04T03:19:52.191Z"
   },
   {
    "duration": 701,
    "start_time": "2023-10-04T03:22:30.510Z"
   },
   {
    "duration": 656,
    "start_time": "2023-10-04T03:22:36.411Z"
   },
   {
    "duration": 12,
    "start_time": "2023-10-04T03:24:15.915Z"
   },
   {
    "duration": 14,
    "start_time": "2023-10-04T03:25:13.543Z"
   },
   {
    "duration": 4,
    "start_time": "2023-10-04T03:25:24.398Z"
   },
   {
    "duration": 34,
    "start_time": "2023-10-04T03:26:15.801Z"
   },
   {
    "duration": 12,
    "start_time": "2023-10-04T03:28:34.237Z"
   },
   {
    "duration": 0,
    "start_time": "2023-10-04T03:28:34.252Z"
   },
   {
    "duration": 13,
    "start_time": "2023-10-04T03:29:45.793Z"
   },
   {
    "duration": 11,
    "start_time": "2023-10-04T03:37:38.361Z"
   },
   {
    "duration": 243,
    "start_time": "2023-10-04T03:39:03.382Z"
   },
   {
    "duration": 10,
    "start_time": "2023-10-04T03:39:13.801Z"
   },
   {
    "duration": 13,
    "start_time": "2023-10-04T03:39:32.501Z"
   },
   {
    "duration": 4,
    "start_time": "2023-10-04T03:39:37.401Z"
   },
   {
    "duration": 12,
    "start_time": "2023-10-04T03:39:50.692Z"
   },
   {
    "duration": 4,
    "start_time": "2023-10-04T03:40:07.172Z"
   },
   {
    "duration": 192093,
    "start_time": "2023-10-04T03:40:07.812Z"
   },
   {
    "duration": 187153,
    "start_time": "2023-10-04T04:17:36.301Z"
   },
   {
    "duration": 190385,
    "start_time": "2023-10-04T04:25:22.911Z"
   },
   {
    "duration": 12,
    "start_time": "2023-10-04T04:28:33.298Z"
   },
   {
    "duration": 11,
    "start_time": "2023-10-04T05:13:16.364Z"
   },
   {
    "duration": 11,
    "start_time": "2023-10-04T05:13:23.783Z"
   },
   {
    "duration": 195486,
    "start_time": "2023-10-04T05:13:47.082Z"
   },
   {
    "duration": 13,
    "start_time": "2023-10-04T05:17:02.571Z"
   },
   {
    "duration": 0,
    "start_time": "2023-10-04T05:17:02.586Z"
   },
   {
    "duration": 14,
    "start_time": "2023-10-04T05:17:05.813Z"
   },
   {
    "duration": 107096,
    "start_time": "2023-10-04T05:17:14.293Z"
   },
   {
    "duration": 4,
    "start_time": "2023-10-04T05:19:50.194Z"
   },
   {
    "duration": 28885,
    "start_time": "2023-10-04T05:19:51.818Z"
   },
   {
    "duration": 3,
    "start_time": "2023-10-04T05:20:20.705Z"
   },
   {
    "duration": 105,
    "start_time": "2023-10-04T05:20:56.328Z"
   },
   {
    "duration": 98,
    "start_time": "2023-10-04T05:21:15.741Z"
   },
   {
    "duration": 77,
    "start_time": "2023-10-05T04:56:53.695Z"
   },
   {
    "duration": 4401,
    "start_time": "2023-10-05T04:56:59.418Z"
   },
   {
    "duration": 3301,
    "start_time": "2023-10-05T04:57:03.822Z"
   },
   {
    "duration": 3759,
    "start_time": "2023-10-05T04:57:07.125Z"
   },
   {
    "duration": 4,
    "start_time": "2023-10-05T04:57:10.886Z"
   },
   {
    "duration": 12945,
    "start_time": "2023-10-05T04:57:10.892Z"
   },
   {
    "duration": 236,
    "start_time": "2023-10-05T04:57:23.839Z"
   },
   {
    "duration": 11,
    "start_time": "2023-10-05T04:57:24.078Z"
   },
   {
    "duration": 75,
    "start_time": "2023-10-05T04:57:24.091Z"
   },
   {
    "duration": 23,
    "start_time": "2023-10-05T04:57:24.170Z"
   },
   {
    "duration": 67,
    "start_time": "2023-10-05T04:57:24.197Z"
   },
   {
    "duration": 17,
    "start_time": "2023-10-05T04:57:24.267Z"
   },
   {
    "duration": 38,
    "start_time": "2023-10-05T04:57:24.288Z"
   },
   {
    "duration": 12,
    "start_time": "2023-10-05T04:57:24.328Z"
   },
   {
    "duration": 412,
    "start_time": "2023-10-05T04:57:24.342Z"
   },
   {
    "duration": 158,
    "start_time": "2023-10-05T04:57:24.756Z"
   },
   {
    "duration": 229,
    "start_time": "2023-10-05T04:57:24.916Z"
   },
   {
    "duration": 204,
    "start_time": "2023-10-05T04:57:25.147Z"
   },
   {
    "duration": 205,
    "start_time": "2023-10-05T04:57:25.353Z"
   },
   {
    "duration": 449,
    "start_time": "2023-10-05T04:57:25.559Z"
   },
   {
    "duration": 10,
    "start_time": "2023-10-05T04:57:26.010Z"
   },
   {
    "duration": 6766,
    "start_time": "2023-10-05T04:57:26.022Z"
   },
   {
    "duration": 9,
    "start_time": "2023-10-05T04:57:32.790Z"
   },
   {
    "duration": 865,
    "start_time": "2023-10-05T04:57:32.801Z"
   },
   {
    "duration": 347,
    "start_time": "2023-10-05T04:57:33.668Z"
   },
   {
    "duration": 384,
    "start_time": "2023-10-05T04:57:34.018Z"
   },
   {
    "duration": 336,
    "start_time": "2023-10-05T04:57:34.404Z"
   },
   {
    "duration": 303,
    "start_time": "2023-10-05T04:57:34.742Z"
   },
   {
    "duration": 322,
    "start_time": "2023-10-05T04:57:35.051Z"
   },
   {
    "duration": 6,
    "start_time": "2023-10-05T04:57:35.375Z"
   },
   {
    "duration": 15294,
    "start_time": "2023-10-05T04:57:35.383Z"
   },
   {
    "duration": 498,
    "start_time": "2023-10-05T04:57:50.679Z"
   },
   {
    "duration": 138,
    "start_time": "2023-10-05T04:57:51.180Z"
   },
   {
    "duration": 70,
    "start_time": "2023-10-05T04:57:51.320Z"
   },
   {
    "duration": 491,
    "start_time": "2023-10-05T04:57:51.392Z"
   },
   {
    "duration": 48,
    "start_time": "2023-10-05T04:57:51.885Z"
   },
   {
    "duration": 114,
    "start_time": "2023-10-05T04:57:51.944Z"
   },
   {
    "duration": 41,
    "start_time": "2023-10-05T04:57:52.060Z"
   },
   {
    "duration": 1319,
    "start_time": "2023-10-05T04:57:52.104Z"
   },
   {
    "duration": 261,
    "start_time": "2023-10-05T04:57:53.425Z"
   },
   {
    "duration": 241,
    "start_time": "2023-10-05T04:57:53.688Z"
   },
   {
    "duration": 145,
    "start_time": "2023-10-05T04:57:53.932Z"
   },
   {
    "duration": 33,
    "start_time": "2023-10-05T04:57:54.079Z"
   },
   {
    "duration": 29,
    "start_time": "2023-10-05T04:57:54.115Z"
   },
   {
    "duration": 972,
    "start_time": "2023-10-05T04:57:54.146Z"
   },
   {
    "duration": 4,
    "start_time": "2023-10-05T04:57:55.119Z"
   },
   {
    "duration": 199038,
    "start_time": "2023-10-05T04:57:55.125Z"
   },
   {
    "duration": 111457,
    "start_time": "2023-10-05T05:01:14.165Z"
   },
   {
    "duration": 5,
    "start_time": "2023-10-05T05:03:05.624Z"
   },
   {
    "duration": 34358,
    "start_time": "2023-10-05T05:03:05.630Z"
   },
   {
    "duration": 3,
    "start_time": "2023-10-05T05:03:39.990Z"
   },
   {
    "duration": 144,
    "start_time": "2023-10-05T05:03:39.995Z"
   },
   {
    "duration": 61,
    "start_time": "2023-10-05T05:03:40.141Z"
   },
   {
    "duration": 4,
    "start_time": "2023-10-05T05:03:40.204Z"
   },
   {
    "duration": 7845,
    "start_time": "2023-10-05T05:03:40.210Z"
   },
   {
    "duration": 6,
    "start_time": "2023-10-05T05:03:48.058Z"
   },
   {
    "duration": 84,
    "start_time": "2023-10-05T05:03:48.066Z"
   },
   {
    "duration": 43,
    "start_time": "2023-10-05T05:03:48.153Z"
   },
   {
    "duration": 339637,
    "start_time": "2023-10-05T05:03:48.198Z"
   },
   {
    "duration": 3,
    "start_time": "2023-10-05T05:09:27.837Z"
   },
   {
    "duration": 1930,
    "start_time": "2023-10-05T05:09:27.842Z"
   },
   {
    "duration": 513,
    "start_time": "2023-10-05T05:09:29.773Z"
   },
   {
    "duration": 257,
    "start_time": "2023-10-05T05:09:30.288Z"
   },
   {
    "duration": 5,
    "start_time": "2023-10-05T05:09:30.548Z"
   },
   {
    "duration": 75,
    "start_time": "2023-10-05T05:09:30.555Z"
   },
   {
    "duration": 66,
    "start_time": "2023-10-05T05:09:30.633Z"
   },
   {
    "duration": 360,
    "start_time": "2023-10-05T05:09:30.701Z"
   },
   {
    "duration": 5,
    "start_time": "2023-10-05T05:09:31.063Z"
   },
   {
    "duration": 955,
    "start_time": "2023-10-05T05:09:31.070Z"
   },
   {
    "duration": 138,
    "start_time": "2023-10-05T05:09:32.028Z"
   },
   {
    "duration": 1070,
    "start_time": "2023-10-05T05:09:32.168Z"
   },
   {
    "duration": 674,
    "start_time": "2023-10-05T05:09:33.244Z"
   },
   {
    "duration": 636,
    "start_time": "2023-10-05T05:09:33.921Z"
   },
   {
    "duration": 131,
    "start_time": "2023-10-05T05:09:34.559Z"
   },
   {
    "duration": 6,
    "start_time": "2023-10-05T05:09:34.692Z"
   },
   {
    "duration": 8,
    "start_time": "2023-10-05T05:09:34.702Z"
   },
   {
    "duration": 16,
    "start_time": "2023-10-05T05:09:34.712Z"
   },
   {
    "duration": 268,
    "start_time": "2023-10-05T05:09:34.730Z"
   },
   {
    "duration": 8,
    "start_time": "2023-10-05T05:09:35.000Z"
   },
   {
    "duration": 230,
    "start_time": "2023-10-05T05:09:35.010Z"
   },
   {
    "duration": 7,
    "start_time": "2023-10-05T05:09:35.242Z"
   },
   {
    "duration": 298,
    "start_time": "2023-10-05T05:09:35.251Z"
   },
   {
    "duration": 9,
    "start_time": "2023-10-05T05:09:35.561Z"
   },
   {
    "duration": 357,
    "start_time": "2023-10-05T05:09:35.572Z"
   },
   {
    "duration": 125,
    "start_time": "2023-10-05T05:09:35.931Z"
   },
   {
    "duration": 56,
    "start_time": "2023-10-05T05:09:36.058Z"
   },
   {
    "duration": 105,
    "start_time": "2023-10-05T05:09:36.117Z"
   },
   {
    "duration": 4,
    "start_time": "2023-10-05T05:09:36.224Z"
   },
   {
    "duration": 20,
    "start_time": "2023-10-05T05:09:36.230Z"
   },
   {
    "duration": 92901,
    "start_time": "2023-10-05T05:09:36.252Z"
   },
   {
    "duration": 6,
    "start_time": "2023-10-05T05:11:09.155Z"
   },
   {
    "duration": 68,
    "start_time": "2023-10-05T05:11:09.163Z"
   },
   {
    "duration": 5226,
    "start_time": "2023-10-05T05:11:09.233Z"
   },
   {
    "duration": 119,
    "start_time": "2023-10-05T05:11:14.462Z"
   },
   {
    "duration": 6575,
    "start_time": "2023-10-05T05:11:14.584Z"
   },
   {
    "duration": 67,
    "start_time": "2023-10-05T05:11:21.161Z"
   },
   {
    "duration": 221,
    "start_time": "2023-10-05T05:11:21.230Z"
   },
   {
    "duration": 3,
    "start_time": "2023-10-05T05:11:21.454Z"
   },
   {
    "duration": 10,
    "start_time": "2023-10-05T05:11:21.459Z"
   },
   {
    "duration": 7,
    "start_time": "2023-10-05T05:11:21.471Z"
   },
   {
    "duration": 19,
    "start_time": "2023-10-05T05:11:21.480Z"
   },
   {
    "duration": 234,
    "start_time": "2023-10-05T05:11:21.502Z"
   },
   {
    "duration": 14,
    "start_time": "2023-10-05T05:11:21.743Z"
   },
   {
    "duration": 0,
    "start_time": "2023-10-05T05:11:21.759Z"
   },
   {
    "duration": 0,
    "start_time": "2023-10-05T05:11:21.760Z"
   },
   {
    "duration": 6,
    "start_time": "2023-10-05T05:17:26.063Z"
   },
   {
    "duration": 107630,
    "start_time": "2023-10-05T05:23:27.254Z"
   },
   {
    "duration": 25,
    "start_time": "2023-10-05T05:26:09.500Z"
   },
   {
    "duration": 1755,
    "start_time": "2023-10-05T05:26:20.163Z"
   },
   {
    "duration": 0,
    "start_time": "2023-10-05T05:26:21.920Z"
   },
   {
    "duration": 1,
    "start_time": "2023-10-05T05:26:21.921Z"
   },
   {
    "duration": 0,
    "start_time": "2023-10-05T05:26:21.923Z"
   },
   {
    "duration": 13340,
    "start_time": "2023-10-05T05:26:43.164Z"
   },
   {
    "duration": 495,
    "start_time": "2023-10-05T05:26:56.507Z"
   },
   {
    "duration": 121,
    "start_time": "2023-10-05T05:26:57.003Z"
   },
   {
    "duration": 48,
    "start_time": "2023-10-05T05:26:57.127Z"
   },
   {
    "duration": 506,
    "start_time": "2023-10-05T05:26:57.177Z"
   },
   {
    "duration": 45,
    "start_time": "2023-10-05T05:26:57.685Z"
   },
   {
    "duration": 124,
    "start_time": "2023-10-05T05:26:57.731Z"
   },
   {
    "duration": 47,
    "start_time": "2023-10-05T05:26:57.857Z"
   },
   {
    "duration": 1232,
    "start_time": "2023-10-05T05:26:57.905Z"
   },
   {
    "duration": 222,
    "start_time": "2023-10-05T05:26:59.144Z"
   },
   {
    "duration": 196,
    "start_time": "2023-10-05T05:26:59.368Z"
   },
   {
    "duration": 116,
    "start_time": "2023-10-05T05:26:59.566Z"
   },
   {
    "duration": 11,
    "start_time": "2023-10-05T05:26:59.684Z"
   },
   {
    "duration": 17,
    "start_time": "2023-10-05T05:26:59.698Z"
   },
   {
    "duration": 730,
    "start_time": "2023-10-05T05:26:59.717Z"
   },
   {
    "duration": 6,
    "start_time": "2023-10-05T05:27:00.448Z"
   },
   {
    "duration": 173724,
    "start_time": "2023-10-05T05:27:00.455Z"
   },
   {
    "duration": 0,
    "start_time": "2023-10-05T05:29:54.184Z"
   },
   {
    "duration": 0,
    "start_time": "2023-10-05T05:29:54.185Z"
   },
   {
    "duration": 11,
    "start_time": "2023-10-05T05:32:55.108Z"
   },
   {
    "duration": 106,
    "start_time": "2023-10-05T05:33:29.859Z"
   },
   {
    "duration": 169048,
    "start_time": "2023-10-05T05:34:19.432Z"
   },
   {
    "duration": 10,
    "start_time": "2023-10-05T05:37:08.482Z"
   },
   {
    "duration": 0,
    "start_time": "2023-10-05T05:37:08.494Z"
   },
   {
    "duration": 15,
    "start_time": "2023-10-05T05:38:23.500Z"
   },
   {
    "duration": 29,
    "start_time": "2023-10-05T05:38:42.256Z"
   },
   {
    "duration": 15,
    "start_time": "2023-10-05T05:40:23.464Z"
   },
   {
    "duration": 200738,
    "start_time": "2023-10-05T05:41:27.474Z"
   },
   {
    "duration": 134210,
    "start_time": "2023-10-05T05:44:48.214Z"
   },
   {
    "duration": 124,
    "start_time": "2023-10-05T05:47:02.426Z"
   },
   {
    "duration": 29,
    "start_time": "2023-10-05T05:47:02.552Z"
   },
   {
    "duration": 0,
    "start_time": "2023-10-05T05:51:23.049Z"
   },
   {
    "duration": 15,
    "start_time": "2023-10-05T05:51:50.827Z"
   },
   {
    "duration": 15,
    "start_time": "2023-10-05T05:51:59.684Z"
   },
   {
    "duration": 105654,
    "start_time": "2023-10-05T05:52:04.083Z"
   },
   {
    "duration": 0,
    "start_time": "2023-10-05T05:53:49.744Z"
   },
   {
    "duration": 28,
    "start_time": "2023-10-05T05:54:35.048Z"
   },
   {
    "duration": 17,
    "start_time": "2023-10-05T05:54:52.918Z"
   },
   {
    "duration": 394471,
    "start_time": "2023-10-05T05:55:21.587Z"
   },
   {
    "duration": 3,
    "start_time": "2023-10-05T06:01:56.064Z"
   },
   {
    "duration": 6,
    "start_time": "2023-10-05T06:03:21.539Z"
   },
   {
    "duration": 5,
    "start_time": "2023-10-05T06:03:32.123Z"
   },
   {
    "duration": 127508,
    "start_time": "2023-10-05T06:03:53.974Z"
   },
   {
    "duration": 3,
    "start_time": "2023-10-05T06:06:01.485Z"
   },
   {
    "duration": 23,
    "start_time": "2023-10-05T06:15:37.030Z"
   },
   {
    "duration": 13,
    "start_time": "2023-10-05T06:15:40.223Z"
   },
   {
    "duration": 16,
    "start_time": "2023-10-05T06:16:11.651Z"
   },
   {
    "duration": 12,
    "start_time": "2023-10-05T06:16:21.174Z"
   },
   {
    "duration": 12,
    "start_time": "2023-10-05T06:16:43.990Z"
   },
   {
    "duration": 12,
    "start_time": "2023-10-05T06:21:54.848Z"
   },
   {
    "duration": 22,
    "start_time": "2023-10-05T06:22:54.523Z"
   },
   {
    "duration": 11,
    "start_time": "2023-10-05T06:23:14.236Z"
   },
   {
    "duration": 4,
    "start_time": "2023-10-05T06:23:30.034Z"
   },
   {
    "duration": 128,
    "start_time": "2023-10-05T06:23:31.387Z"
   },
   {
    "duration": 47,
    "start_time": "2023-10-05T06:23:55.714Z"
   },
   {
    "duration": 137,
    "start_time": "2023-10-05T06:24:04.546Z"
   },
   {
    "duration": 98,
    "start_time": "2023-10-05T06:24:17.386Z"
   },
   {
    "duration": 125,
    "start_time": "2023-10-05T06:24:25.403Z"
   },
   {
    "duration": 4,
    "start_time": "2023-10-05T06:24:42.348Z"
   },
   {
    "duration": 144,
    "start_time": "2023-10-05T06:24:42.765Z"
   },
   {
    "duration": 4,
    "start_time": "2023-10-05T06:24:54.973Z"
   },
   {
    "duration": 4893,
    "start_time": "2023-10-05T06:27:02.835Z"
   },
   {
    "duration": 2445,
    "start_time": "2023-10-05T06:27:07.732Z"
   },
   {
    "duration": 5341,
    "start_time": "2023-10-05T06:27:10.179Z"
   },
   {
    "duration": 4,
    "start_time": "2023-10-05T06:27:15.522Z"
   },
   {
    "duration": 10219,
    "start_time": "2023-10-05T06:27:15.528Z"
   },
   {
    "duration": 236,
    "start_time": "2023-10-05T06:27:25.748Z"
   },
   {
    "duration": 14,
    "start_time": "2023-10-05T06:27:25.986Z"
   },
   {
    "duration": 38,
    "start_time": "2023-10-05T06:27:26.002Z"
   },
   {
    "duration": 21,
    "start_time": "2023-10-05T06:27:26.042Z"
   },
   {
    "duration": 48,
    "start_time": "2023-10-05T06:27:26.066Z"
   },
   {
    "duration": 12,
    "start_time": "2023-10-05T06:27:26.116Z"
   },
   {
    "duration": 64,
    "start_time": "2023-10-05T06:27:26.130Z"
   },
   {
    "duration": 12,
    "start_time": "2023-10-05T06:27:26.196Z"
   },
   {
    "duration": 404,
    "start_time": "2023-10-05T06:27:26.210Z"
   },
   {
    "duration": 164,
    "start_time": "2023-10-05T06:27:26.616Z"
   },
   {
    "duration": 229,
    "start_time": "2023-10-05T06:27:26.781Z"
   },
   {
    "duration": 209,
    "start_time": "2023-10-05T06:27:27.011Z"
   },
   {
    "duration": 210,
    "start_time": "2023-10-05T06:27:27.222Z"
   },
   {
    "duration": 449,
    "start_time": "2023-10-05T06:27:27.435Z"
   },
   {
    "duration": 8,
    "start_time": "2023-10-05T06:27:27.886Z"
   },
   {
    "duration": 6620,
    "start_time": "2023-10-05T06:27:27.896Z"
   },
   {
    "duration": 12,
    "start_time": "2023-10-05T06:27:34.518Z"
   },
   {
    "duration": 805,
    "start_time": "2023-10-05T06:27:34.532Z"
   },
   {
    "duration": 266,
    "start_time": "2023-10-05T06:27:35.344Z"
   },
   {
    "duration": 328,
    "start_time": "2023-10-05T06:27:35.612Z"
   },
   {
    "duration": 245,
    "start_time": "2023-10-05T06:27:35.942Z"
   },
   {
    "duration": 300,
    "start_time": "2023-10-05T06:27:36.188Z"
   },
   {
    "duration": 313,
    "start_time": "2023-10-05T06:27:36.492Z"
   },
   {
    "duration": 4,
    "start_time": "2023-10-05T06:27:36.807Z"
   },
   {
    "duration": 13368,
    "start_time": "2023-10-05T06:27:36.813Z"
   },
   {
    "duration": 0,
    "start_time": "2023-10-05T06:27:50.185Z"
   },
   {
    "duration": 0,
    "start_time": "2023-10-05T06:27:50.187Z"
   },
   {
    "duration": 0,
    "start_time": "2023-10-05T06:27:50.189Z"
   },
   {
    "duration": 0,
    "start_time": "2023-10-05T06:27:50.191Z"
   },
   {
    "duration": 0,
    "start_time": "2023-10-05T06:27:50.192Z"
   },
   {
    "duration": 0,
    "start_time": "2023-10-05T06:27:50.193Z"
   },
   {
    "duration": 0,
    "start_time": "2023-10-05T06:27:50.194Z"
   },
   {
    "duration": 0,
    "start_time": "2023-10-05T06:27:50.196Z"
   },
   {
    "duration": 0,
    "start_time": "2023-10-05T06:27:50.197Z"
   },
   {
    "duration": 0,
    "start_time": "2023-10-05T06:27:50.199Z"
   },
   {
    "duration": 0,
    "start_time": "2023-10-05T06:27:50.200Z"
   },
   {
    "duration": 0,
    "start_time": "2023-10-05T06:27:50.202Z"
   },
   {
    "duration": 0,
    "start_time": "2023-10-05T06:27:50.204Z"
   },
   {
    "duration": 0,
    "start_time": "2023-10-05T06:27:50.205Z"
   },
   {
    "duration": 0,
    "start_time": "2023-10-05T06:27:50.207Z"
   },
   {
    "duration": 0,
    "start_time": "2023-10-05T06:27:50.208Z"
   },
   {
    "duration": 0,
    "start_time": "2023-10-05T06:27:50.209Z"
   },
   {
    "duration": 0,
    "start_time": "2023-10-05T06:27:50.211Z"
   },
   {
    "duration": 0,
    "start_time": "2023-10-05T06:27:50.214Z"
   },
   {
    "duration": 0,
    "start_time": "2023-10-05T06:27:50.215Z"
   },
   {
    "duration": 0,
    "start_time": "2023-10-05T06:27:50.217Z"
   },
   {
    "duration": 0,
    "start_time": "2023-10-05T06:27:50.246Z"
   },
   {
    "duration": 0,
    "start_time": "2023-10-05T06:27:50.247Z"
   },
   {
    "duration": 0,
    "start_time": "2023-10-05T06:27:50.249Z"
   },
   {
    "duration": 0,
    "start_time": "2023-10-05T06:27:50.250Z"
   },
   {
    "duration": 0,
    "start_time": "2023-10-05T06:27:50.251Z"
   },
   {
    "duration": 0,
    "start_time": "2023-10-05T06:27:50.253Z"
   },
   {
    "duration": 0,
    "start_time": "2023-10-05T06:27:50.255Z"
   },
   {
    "duration": 0,
    "start_time": "2023-10-05T06:27:50.256Z"
   },
   {
    "duration": 0,
    "start_time": "2023-10-05T06:27:50.257Z"
   },
   {
    "duration": 0,
    "start_time": "2023-10-05T06:27:50.258Z"
   },
   {
    "duration": 0,
    "start_time": "2023-10-05T06:27:50.259Z"
   },
   {
    "duration": 0,
    "start_time": "2023-10-05T06:27:50.260Z"
   },
   {
    "duration": 0,
    "start_time": "2023-10-05T06:27:50.263Z"
   },
   {
    "duration": 0,
    "start_time": "2023-10-05T06:27:50.264Z"
   },
   {
    "duration": 0,
    "start_time": "2023-10-05T06:27:50.265Z"
   },
   {
    "duration": 0,
    "start_time": "2023-10-05T06:27:50.266Z"
   },
   {
    "duration": 0,
    "start_time": "2023-10-05T06:27:50.267Z"
   },
   {
    "duration": 0,
    "start_time": "2023-10-05T06:27:50.269Z"
   },
   {
    "duration": 0,
    "start_time": "2023-10-05T06:27:50.270Z"
   },
   {
    "duration": 0,
    "start_time": "2023-10-05T06:27:50.272Z"
   },
   {
    "duration": 0,
    "start_time": "2023-10-05T06:27:50.273Z"
   },
   {
    "duration": 0,
    "start_time": "2023-10-05T06:27:50.274Z"
   },
   {
    "duration": 0,
    "start_time": "2023-10-05T06:27:50.276Z"
   },
   {
    "duration": 0,
    "start_time": "2023-10-05T06:27:50.277Z"
   },
   {
    "duration": 0,
    "start_time": "2023-10-05T06:27:50.278Z"
   },
   {
    "duration": 0,
    "start_time": "2023-10-05T06:27:50.279Z"
   },
   {
    "duration": 0,
    "start_time": "2023-10-05T06:27:50.347Z"
   },
   {
    "duration": 0,
    "start_time": "2023-10-05T06:27:50.349Z"
   },
   {
    "duration": 0,
    "start_time": "2023-10-05T06:27:50.351Z"
   },
   {
    "duration": 0,
    "start_time": "2023-10-05T06:27:50.353Z"
   },
   {
    "duration": 0,
    "start_time": "2023-10-05T06:27:50.355Z"
   },
   {
    "duration": 0,
    "start_time": "2023-10-05T06:27:50.356Z"
   },
   {
    "duration": 0,
    "start_time": "2023-10-05T06:27:50.357Z"
   },
   {
    "duration": 0,
    "start_time": "2023-10-05T06:27:50.359Z"
   },
   {
    "duration": 0,
    "start_time": "2023-10-05T06:27:50.360Z"
   },
   {
    "duration": 0,
    "start_time": "2023-10-05T06:27:50.364Z"
   },
   {
    "duration": 0,
    "start_time": "2023-10-05T06:27:50.366Z"
   },
   {
    "duration": 0,
    "start_time": "2023-10-05T06:27:50.368Z"
   },
   {
    "duration": 0,
    "start_time": "2023-10-05T06:27:50.369Z"
   },
   {
    "duration": 0,
    "start_time": "2023-10-05T06:27:50.370Z"
   },
   {
    "duration": 0,
    "start_time": "2023-10-05T06:27:50.372Z"
   },
   {
    "duration": 0,
    "start_time": "2023-10-05T06:27:50.374Z"
   },
   {
    "duration": 0,
    "start_time": "2023-10-05T06:27:50.375Z"
   },
   {
    "duration": 0,
    "start_time": "2023-10-05T06:27:50.376Z"
   },
   {
    "duration": 0,
    "start_time": "2023-10-05T06:27:50.377Z"
   },
   {
    "duration": 0,
    "start_time": "2023-10-05T06:27:50.379Z"
   },
   {
    "duration": 0,
    "start_time": "2023-10-05T06:27:50.382Z"
   },
   {
    "duration": 0,
    "start_time": "2023-10-05T06:27:50.383Z"
   },
   {
    "duration": 0,
    "start_time": "2023-10-05T06:27:50.384Z"
   },
   {
    "duration": 0,
    "start_time": "2023-10-05T06:27:50.444Z"
   },
   {
    "duration": 0,
    "start_time": "2023-10-05T06:27:50.446Z"
   },
   {
    "duration": 0,
    "start_time": "2023-10-05T06:27:50.448Z"
   },
   {
    "duration": 0,
    "start_time": "2023-10-05T06:27:50.449Z"
   },
   {
    "duration": 0,
    "start_time": "2023-10-05T06:27:50.453Z"
   },
   {
    "duration": 9430,
    "start_time": "2023-10-05T06:27:56.978Z"
   },
   {
    "duration": 488,
    "start_time": "2023-10-05T06:28:06.410Z"
   },
   {
    "duration": 131,
    "start_time": "2023-10-05T06:28:06.900Z"
   },
   {
    "duration": 74,
    "start_time": "2023-10-05T06:28:07.034Z"
   },
   {
    "duration": 487,
    "start_time": "2023-10-05T06:28:07.110Z"
   },
   {
    "duration": 54,
    "start_time": "2023-10-05T06:28:07.599Z"
   },
   {
    "duration": 117,
    "start_time": "2023-10-05T06:28:07.655Z"
   },
   {
    "duration": 33,
    "start_time": "2023-10-05T06:28:07.774Z"
   },
   {
    "duration": 1261,
    "start_time": "2023-10-05T06:28:07.809Z"
   },
   {
    "duration": 242,
    "start_time": "2023-10-05T06:28:09.074Z"
   },
   {
    "duration": 182,
    "start_time": "2023-10-05T06:28:09.318Z"
   },
   {
    "duration": 6,
    "start_time": "2023-10-05T06:28:09.502Z"
   },
   {
    "duration": 8,
    "start_time": "2023-10-05T06:28:09.510Z"
   },
   {
    "duration": 774,
    "start_time": "2023-10-05T06:28:09.520Z"
   },
   {
    "duration": 4,
    "start_time": "2023-10-05T06:28:11.016Z"
   },
   {
    "duration": 132,
    "start_time": "2023-10-05T06:29:21.617Z"
   },
   {
    "duration": 2418,
    "start_time": "2023-10-05T06:29:27.657Z"
   },
   {
    "duration": 2295,
    "start_time": "2023-10-05T06:29:30.079Z"
   },
   {
    "duration": 2480,
    "start_time": "2023-10-05T06:29:32.376Z"
   },
   {
    "duration": 4,
    "start_time": "2023-10-05T06:29:34.858Z"
   },
   {
    "duration": 11824,
    "start_time": "2023-10-05T06:29:34.864Z"
   },
   {
    "duration": 218,
    "start_time": "2023-10-05T06:29:46.691Z"
   },
   {
    "duration": 14,
    "start_time": "2023-10-05T06:29:46.911Z"
   },
   {
    "duration": 37,
    "start_time": "2023-10-05T06:29:46.928Z"
   },
   {
    "duration": 21,
    "start_time": "2023-10-05T06:29:46.968Z"
   },
   {
    "duration": 62,
    "start_time": "2023-10-05T06:29:46.993Z"
   },
   {
    "duration": 19,
    "start_time": "2023-10-05T06:29:47.057Z"
   },
   {
    "duration": 82,
    "start_time": "2023-10-05T06:29:47.078Z"
   },
   {
    "duration": 10,
    "start_time": "2023-10-05T06:29:47.161Z"
   },
   {
    "duration": 415,
    "start_time": "2023-10-05T06:29:47.173Z"
   },
   {
    "duration": 160,
    "start_time": "2023-10-05T06:29:47.590Z"
   },
   {
    "duration": 224,
    "start_time": "2023-10-05T06:29:47.752Z"
   },
   {
    "duration": 211,
    "start_time": "2023-10-05T06:29:47.978Z"
   },
   {
    "duration": 210,
    "start_time": "2023-10-05T06:29:48.191Z"
   },
   {
    "duration": 445,
    "start_time": "2023-10-05T06:29:48.403Z"
   },
   {
    "duration": 11,
    "start_time": "2023-10-05T06:29:48.850Z"
   },
   {
    "duration": 6265,
    "start_time": "2023-10-05T06:29:48.863Z"
   },
   {
    "duration": 8,
    "start_time": "2023-10-05T06:29:55.130Z"
   },
   {
    "duration": 846,
    "start_time": "2023-10-05T06:29:55.140Z"
   },
   {
    "duration": 282,
    "start_time": "2023-10-05T06:29:55.987Z"
   },
   {
    "duration": 469,
    "start_time": "2023-10-05T06:29:56.271Z"
   },
   {
    "duration": 268,
    "start_time": "2023-10-05T06:29:56.744Z"
   },
   {
    "duration": 377,
    "start_time": "2023-10-05T06:29:57.015Z"
   },
   {
    "duration": 409,
    "start_time": "2023-10-05T06:29:57.397Z"
   },
   {
    "duration": 4,
    "start_time": "2023-10-05T06:29:57.809Z"
   },
   {
    "duration": 13332,
    "start_time": "2023-10-05T06:29:57.817Z"
   },
   {
    "duration": 515,
    "start_time": "2023-10-05T06:30:11.152Z"
   },
   {
    "duration": 131,
    "start_time": "2023-10-05T06:30:11.669Z"
   },
   {
    "duration": 61,
    "start_time": "2023-10-05T06:30:11.801Z"
   },
   {
    "duration": 523,
    "start_time": "2023-10-05T06:30:11.865Z"
   },
   {
    "duration": 57,
    "start_time": "2023-10-05T06:30:12.390Z"
   },
   {
    "duration": 110,
    "start_time": "2023-10-05T06:30:12.449Z"
   },
   {
    "duration": 33,
    "start_time": "2023-10-05T06:30:12.561Z"
   },
   {
    "duration": 1133,
    "start_time": "2023-10-05T06:30:12.595Z"
   },
   {
    "duration": 209,
    "start_time": "2023-10-05T06:30:13.731Z"
   },
   {
    "duration": 203,
    "start_time": "2023-10-05T06:30:13.943Z"
   },
   {
    "duration": 4,
    "start_time": "2023-10-05T06:30:14.148Z"
   },
   {
    "duration": 29,
    "start_time": "2023-10-05T06:30:14.155Z"
   },
   {
    "duration": 845,
    "start_time": "2023-10-05T06:30:14.186Z"
   },
   {
    "duration": 4,
    "start_time": "2023-10-05T06:30:15.033Z"
   },
   {
    "duration": 2834,
    "start_time": "2023-10-05T06:31:52.354Z"
   },
   {
    "duration": 2370,
    "start_time": "2023-10-05T06:31:55.190Z"
   },
   {
    "duration": 2769,
    "start_time": "2023-10-05T06:31:57.563Z"
   },
   {
    "duration": 7,
    "start_time": "2023-10-05T06:32:00.334Z"
   },
   {
    "duration": 12484,
    "start_time": "2023-10-05T06:32:00.344Z"
   },
   {
    "duration": 218,
    "start_time": "2023-10-05T06:32:12.830Z"
   },
   {
    "duration": 16,
    "start_time": "2023-10-05T06:32:13.050Z"
   },
   {
    "duration": 82,
    "start_time": "2023-10-05T06:32:13.069Z"
   },
   {
    "duration": 30,
    "start_time": "2023-10-05T06:32:13.154Z"
   },
   {
    "duration": 65,
    "start_time": "2023-10-05T06:32:13.187Z"
   },
   {
    "duration": 22,
    "start_time": "2023-10-05T06:32:13.255Z"
   },
   {
    "duration": 84,
    "start_time": "2023-10-05T06:32:13.279Z"
   },
   {
    "duration": 18,
    "start_time": "2023-10-05T06:32:13.370Z"
   },
   {
    "duration": 465,
    "start_time": "2023-10-05T06:32:13.394Z"
   },
   {
    "duration": 189,
    "start_time": "2023-10-05T06:32:13.862Z"
   },
   {
    "duration": 254,
    "start_time": "2023-10-05T06:32:14.053Z"
   },
   {
    "duration": 224,
    "start_time": "2023-10-05T06:32:14.310Z"
   },
   {
    "duration": 215,
    "start_time": "2023-10-05T06:32:14.536Z"
   },
   {
    "duration": 462,
    "start_time": "2023-10-05T06:32:14.753Z"
   },
   {
    "duration": 10,
    "start_time": "2023-10-05T06:32:15.218Z"
   },
   {
    "duration": 6355,
    "start_time": "2023-10-05T06:32:15.230Z"
   },
   {
    "duration": 12,
    "start_time": "2023-10-05T06:32:21.588Z"
   },
   {
    "duration": 1289,
    "start_time": "2023-10-05T06:32:21.603Z"
   },
   {
    "duration": 456,
    "start_time": "2023-10-05T06:32:22.894Z"
   },
   {
    "duration": 551,
    "start_time": "2023-10-05T06:32:23.353Z"
   },
   {
    "duration": 339,
    "start_time": "2023-10-05T06:32:23.907Z"
   },
   {
    "duration": 420,
    "start_time": "2023-10-05T06:32:24.249Z"
   },
   {
    "duration": 495,
    "start_time": "2023-10-05T06:32:24.678Z"
   },
   {
    "duration": 6,
    "start_time": "2023-10-05T06:32:25.175Z"
   },
   {
    "duration": 12892,
    "start_time": "2023-10-05T06:32:25.188Z"
   },
   {
    "duration": 609,
    "start_time": "2023-10-05T06:32:38.083Z"
   },
   {
    "duration": 133,
    "start_time": "2023-10-05T06:32:38.694Z"
   },
   {
    "duration": 63,
    "start_time": "2023-10-05T06:32:38.830Z"
   },
   {
    "duration": 564,
    "start_time": "2023-10-05T06:32:38.895Z"
   },
   {
    "duration": 55,
    "start_time": "2023-10-05T06:32:39.461Z"
   },
   {
    "duration": 151,
    "start_time": "2023-10-05T06:32:39.519Z"
   },
   {
    "duration": 39,
    "start_time": "2023-10-05T06:32:39.673Z"
   },
   {
    "duration": 1452,
    "start_time": "2023-10-05T06:32:39.714Z"
   },
   {
    "duration": 206,
    "start_time": "2023-10-05T06:32:41.169Z"
   },
   {
    "duration": 189,
    "start_time": "2023-10-05T06:32:41.377Z"
   },
   {
    "duration": 3,
    "start_time": "2023-10-05T06:32:41.568Z"
   },
   {
    "duration": 6,
    "start_time": "2023-10-05T06:32:41.573Z"
   },
   {
    "duration": 829,
    "start_time": "2023-10-05T06:32:41.580Z"
   },
   {
    "duration": 5,
    "start_time": "2023-10-05T06:32:42.411Z"
   },
   {
    "duration": 217159,
    "start_time": "2023-10-05T06:32:42.417Z"
   },
   {
    "duration": 372468,
    "start_time": "2023-10-05T06:36:19.578Z"
   },
   {
    "duration": 12,
    "start_time": "2023-10-05T06:42:32.048Z"
   },
   {
    "duration": 118205,
    "start_time": "2023-10-05T06:42:32.063Z"
   },
   {
    "duration": 192,
    "start_time": "2023-10-05T06:44:30.272Z"
   },
   {
    "duration": 0,
    "start_time": "2023-10-05T06:44:30.468Z"
   },
   {
    "duration": 0,
    "start_time": "2023-10-05T06:44:30.475Z"
   },
   {
    "duration": 0,
    "start_time": "2023-10-05T06:44:30.477Z"
   },
   {
    "duration": 0,
    "start_time": "2023-10-05T06:44:30.479Z"
   },
   {
    "duration": 0,
    "start_time": "2023-10-05T06:44:30.480Z"
   },
   {
    "duration": 0,
    "start_time": "2023-10-05T06:44:30.481Z"
   },
   {
    "duration": 0,
    "start_time": "2023-10-05T06:44:30.482Z"
   },
   {
    "duration": 0,
    "start_time": "2023-10-05T06:44:30.483Z"
   },
   {
    "duration": 0,
    "start_time": "2023-10-05T06:44:30.484Z"
   },
   {
    "duration": 0,
    "start_time": "2023-10-05T06:44:30.485Z"
   },
   {
    "duration": 0,
    "start_time": "2023-10-05T06:44:30.486Z"
   },
   {
    "duration": 0,
    "start_time": "2023-10-05T06:44:30.487Z"
   },
   {
    "duration": 0,
    "start_time": "2023-10-05T06:44:30.488Z"
   },
   {
    "duration": 0,
    "start_time": "2023-10-05T06:44:30.489Z"
   },
   {
    "duration": 0,
    "start_time": "2023-10-05T06:44:30.490Z"
   },
   {
    "duration": 0,
    "start_time": "2023-10-05T06:44:30.492Z"
   },
   {
    "duration": 0,
    "start_time": "2023-10-05T06:44:30.493Z"
   },
   {
    "duration": 0,
    "start_time": "2023-10-05T06:44:30.494Z"
   },
   {
    "duration": 0,
    "start_time": "2023-10-05T06:44:30.495Z"
   },
   {
    "duration": 0,
    "start_time": "2023-10-05T06:44:30.496Z"
   },
   {
    "duration": 0,
    "start_time": "2023-10-05T06:44:30.498Z"
   },
   {
    "duration": 0,
    "start_time": "2023-10-05T06:44:30.499Z"
   },
   {
    "duration": 0,
    "start_time": "2023-10-05T06:44:30.500Z"
   },
   {
    "duration": 0,
    "start_time": "2023-10-05T06:44:30.501Z"
   },
   {
    "duration": 0,
    "start_time": "2023-10-05T06:44:30.502Z"
   },
   {
    "duration": 0,
    "start_time": "2023-10-05T06:44:30.503Z"
   },
   {
    "duration": 0,
    "start_time": "2023-10-05T06:44:30.504Z"
   },
   {
    "duration": 0,
    "start_time": "2023-10-05T06:44:30.506Z"
   },
   {
    "duration": 0,
    "start_time": "2023-10-05T06:44:30.506Z"
   },
   {
    "duration": 0,
    "start_time": "2023-10-05T06:44:30.508Z"
   },
   {
    "duration": 0,
    "start_time": "2023-10-05T06:44:30.509Z"
   },
   {
    "duration": 0,
    "start_time": "2023-10-05T06:44:30.544Z"
   },
   {
    "duration": 0,
    "start_time": "2023-10-05T06:44:30.545Z"
   },
   {
    "duration": 0,
    "start_time": "2023-10-05T06:44:30.549Z"
   },
   {
    "duration": 0,
    "start_time": "2023-10-05T06:44:30.550Z"
   },
   {
    "duration": 0,
    "start_time": "2023-10-05T06:44:30.551Z"
   },
   {
    "duration": 0,
    "start_time": "2023-10-05T06:44:30.552Z"
   },
   {
    "duration": 0,
    "start_time": "2023-10-05T06:44:30.554Z"
   },
   {
    "duration": 0,
    "start_time": "2023-10-05T06:44:30.555Z"
   },
   {
    "duration": 0,
    "start_time": "2023-10-05T06:44:30.557Z"
   },
   {
    "duration": 0,
    "start_time": "2023-10-05T06:44:30.558Z"
   },
   {
    "duration": 0,
    "start_time": "2023-10-05T06:44:30.560Z"
   },
   {
    "duration": 0,
    "start_time": "2023-10-05T06:44:30.561Z"
   },
   {
    "duration": 0,
    "start_time": "2023-10-05T06:44:30.562Z"
   },
   {
    "duration": 0,
    "start_time": "2023-10-05T06:44:30.564Z"
   },
   {
    "duration": 0,
    "start_time": "2023-10-05T06:44:30.565Z"
   },
   {
    "duration": 0,
    "start_time": "2023-10-05T06:44:30.566Z"
   },
   {
    "duration": 1,
    "start_time": "2023-10-05T06:44:30.567Z"
   },
   {
    "duration": 0,
    "start_time": "2023-10-05T06:44:30.569Z"
   },
   {
    "duration": 0,
    "start_time": "2023-10-05T06:44:30.570Z"
   },
   {
    "duration": 0,
    "start_time": "2023-10-05T06:44:30.571Z"
   },
   {
    "duration": 0,
    "start_time": "2023-10-05T06:44:30.571Z"
   },
   {
    "duration": 0,
    "start_time": "2023-10-05T06:44:30.572Z"
   },
   {
    "duration": 0,
    "start_time": "2023-10-05T06:44:30.573Z"
   },
   {
    "duration": 0,
    "start_time": "2023-10-05T06:44:30.574Z"
   },
   {
    "duration": 0,
    "start_time": "2023-10-05T06:44:30.579Z"
   },
   {
    "duration": 14,
    "start_time": "2023-10-05T06:48:01.788Z"
   },
   {
    "duration": 16,
    "start_time": "2023-10-05T06:48:07.260Z"
   },
   {
    "duration": 28,
    "start_time": "2023-10-05T06:48:59.436Z"
   },
   {
    "duration": 93917,
    "start_time": "2023-10-05T06:49:13.963Z"
   },
   {
    "duration": 69,
    "start_time": "2023-10-05T06:51:56.207Z"
   },
   {
    "duration": 96244,
    "start_time": "2023-10-05T06:52:02.486Z"
   },
   {
    "duration": 0,
    "start_time": "2023-10-05T06:53:38.746Z"
   },
   {
    "duration": 0,
    "start_time": "2023-10-05T06:53:38.747Z"
   },
   {
    "duration": 0,
    "start_time": "2023-10-05T06:53:38.747Z"
   },
   {
    "duration": 12,
    "start_time": "2023-10-05T06:54:56.270Z"
   },
   {
    "duration": 10,
    "start_time": "2023-10-05T06:55:18.160Z"
   },
   {
    "duration": 22,
    "start_time": "2023-10-05T06:55:24.584Z"
   },
   {
    "duration": 8,
    "start_time": "2023-10-05T06:55:36.171Z"
   },
   {
    "duration": 15,
    "start_time": "2023-10-05T06:56:01.911Z"
   },
   {
    "duration": 5,
    "start_time": "2023-10-05T06:56:17.424Z"
   },
   {
    "duration": 28657,
    "start_time": "2023-10-05T06:56:18.374Z"
   },
   {
    "duration": 5,
    "start_time": "2023-10-05T06:56:47.033Z"
   },
   {
    "duration": 170279,
    "start_time": "2023-10-05T06:56:56.096Z"
   },
   {
    "duration": 4,
    "start_time": "2023-10-05T06:59:46.377Z"
   },
   {
    "duration": 5,
    "start_time": "2023-10-05T07:01:03.673Z"
   },
   {
    "duration": 150,
    "start_time": "2023-10-05T07:01:04.988Z"
   },
   {
    "duration": 5,
    "start_time": "2023-10-05T07:02:03.880Z"
   },
   {
    "duration": 162,
    "start_time": "2023-10-05T07:02:04.569Z"
   },
   {
    "duration": 5,
    "start_time": "2023-10-05T07:03:15.756Z"
   },
   {
    "duration": 137,
    "start_time": "2023-10-05T07:03:17.812Z"
   },
   {
    "duration": 11,
    "start_time": "2023-10-05T07:06:16.239Z"
   },
   {
    "duration": 62932,
    "start_time": "2023-10-05T07:06:17.144Z"
   },
   {
    "duration": 18,
    "start_time": "2023-10-05T07:07:20.084Z"
   },
   {
    "duration": 5,
    "start_time": "2023-10-05T07:07:34.281Z"
   },
   {
    "duration": 16,
    "start_time": "2023-10-05T07:07:37.296Z"
   },
   {
    "duration": 939,
    "start_time": "2023-10-05T07:07:57.258Z"
   },
   {
    "duration": 11,
    "start_time": "2023-10-05T07:09:18.074Z"
   },
   {
    "duration": 9061,
    "start_time": "2023-10-05T07:09:18.666Z"
   },
   {
    "duration": 4,
    "start_time": "2023-10-05T07:09:27.729Z"
   },
   {
    "duration": 5,
    "start_time": "2023-10-05T07:11:11.270Z"
   },
   {
    "duration": 5410,
    "start_time": "2023-10-05T07:11:13.008Z"
   },
   {
    "duration": 19,
    "start_time": "2023-10-05T07:11:18.420Z"
   },
   {
    "duration": 0,
    "start_time": "2023-10-05T07:11:18.440Z"
   },
   {
    "duration": 4,
    "start_time": "2023-10-05T07:13:19.610Z"
   },
   {
    "duration": 2789,
    "start_time": "2023-10-05T07:13:20.011Z"
   },
   {
    "duration": 8,
    "start_time": "2023-10-05T07:19:28.562Z"
   },
   {
    "duration": 2602,
    "start_time": "2023-10-05T07:19:28.940Z"
   },
   {
    "duration": 18,
    "start_time": "2023-10-05T07:19:31.545Z"
   },
   {
    "duration": 4,
    "start_time": "2023-10-05T07:24:49.570Z"
   },
   {
    "duration": 1696,
    "start_time": "2023-10-05T07:24:50.215Z"
   },
   {
    "duration": 4,
    "start_time": "2023-10-05T07:25:01.091Z"
   },
   {
    "duration": 3356,
    "start_time": "2023-10-05T07:25:03.435Z"
   },
   {
    "duration": 24,
    "start_time": "2023-10-05T07:26:19.161Z"
   },
   {
    "duration": 128,
    "start_time": "2023-10-05T07:34:38.697Z"
   },
   {
    "duration": 5,
    "start_time": "2023-10-05T07:34:44.912Z"
   },
   {
    "duration": 2831,
    "start_time": "2023-10-05T07:34:46.904Z"
   },
   {
    "duration": 13,
    "start_time": "2023-10-05T07:35:21.617Z"
   },
   {
    "duration": 8,
    "start_time": "2023-10-05T07:35:29.645Z"
   },
   {
    "duration": 2848,
    "start_time": "2023-10-05T07:35:30.885Z"
   },
   {
    "duration": 23,
    "start_time": "2023-10-05T07:35:47.468Z"
   },
   {
    "duration": 4451,
    "start_time": "2023-10-05T07:35:47.714Z"
   },
   {
    "duration": 4,
    "start_time": "2023-10-05T07:36:02.338Z"
   },
   {
    "duration": 2807,
    "start_time": "2023-10-05T07:36:03.619Z"
   },
   {
    "duration": 6,
    "start_time": "2023-10-05T07:43:50.997Z"
   },
   {
    "duration": 12,
    "start_time": "2023-10-05T07:44:01.879Z"
   },
   {
    "duration": 2831,
    "start_time": "2023-10-05T07:44:02.793Z"
   },
   {
    "duration": 26,
    "start_time": "2023-10-05T07:47:50.274Z"
   },
   {
    "duration": 3,
    "start_time": "2023-10-05T07:47:52.595Z"
   },
   {
    "duration": 7,
    "start_time": "2023-10-05T07:47:52.803Z"
   },
   {
    "duration": 2973,
    "start_time": "2023-10-05T07:47:53.519Z"
   },
   {
    "duration": 127,
    "start_time": "2023-10-05T07:48:43.577Z"
   },
   {
    "duration": 14,
    "start_time": "2023-10-05T07:48:51.293Z"
   },
   {
    "duration": 4,
    "start_time": "2023-10-05T07:48:52.006Z"
   },
   {
    "duration": 2563,
    "start_time": "2023-10-05T07:48:52.638Z"
   },
   {
    "duration": 20,
    "start_time": "2023-10-05T07:49:31.574Z"
   },
   {
    "duration": 8,
    "start_time": "2023-10-05T07:49:32.094Z"
   },
   {
    "duration": 3557,
    "start_time": "2023-10-05T07:49:32.584Z"
   },
   {
    "duration": 21,
    "start_time": "2023-10-05T07:50:53.855Z"
   },
   {
    "duration": 5,
    "start_time": "2023-10-05T07:50:55.894Z"
   },
   {
    "duration": 4,
    "start_time": "2023-10-05T07:50:56.397Z"
   },
   {
    "duration": 2767,
    "start_time": "2023-10-05T07:50:57.297Z"
   },
   {
    "duration": 6,
    "start_time": "2023-10-05T07:51:41.674Z"
   },
   {
    "duration": 357602,
    "start_time": "2023-10-05T07:51:42.071Z"
   },
   {
    "duration": 8,
    "start_time": "2023-10-05T07:57:39.680Z"
   },
   {
    "duration": 2458,
    "start_time": "2023-10-05T07:57:39.692Z"
   },
   {
    "duration": 790,
    "start_time": "2023-10-05T07:59:52.206Z"
   },
   {
    "duration": 685,
    "start_time": "2023-10-05T08:00:05.423Z"
   },
   {
    "duration": 694,
    "start_time": "2023-10-05T08:00:28.169Z"
   },
   {
    "duration": 621,
    "start_time": "2023-10-05T08:01:28.343Z"
   },
   {
    "duration": 608,
    "start_time": "2023-10-05T08:01:36.718Z"
   },
   {
    "duration": 18,
    "start_time": "2023-10-05T08:05:11.678Z"
   },
   {
    "duration": 1182,
    "start_time": "2023-10-05T08:05:37.215Z"
   },
   {
    "duration": 538,
    "start_time": "2023-10-05T08:06:26.286Z"
   },
   {
    "duration": 40,
    "start_time": "2023-10-05T08:06:32.021Z"
   },
   {
    "duration": 7,
    "start_time": "2023-10-05T08:06:38.541Z"
   },
   {
    "duration": 228,
    "start_time": "2023-10-05T08:06:44.992Z"
   },
   {
    "duration": 7,
    "start_time": "2023-10-05T08:06:48.413Z"
   },
   {
    "duration": 16,
    "start_time": "2023-10-05T08:08:02.523Z"
   },
   {
    "duration": 143,
    "start_time": "2023-10-05T08:08:27.623Z"
   },
   {
    "duration": 23,
    "start_time": "2023-10-05T08:08:39.690Z"
   },
   {
    "duration": 11,
    "start_time": "2023-10-05T08:09:24.309Z"
   },
   {
    "duration": 15,
    "start_time": "2023-10-05T08:11:02.718Z"
   },
   {
    "duration": 133,
    "start_time": "2023-10-05T08:11:33.600Z"
   },
   {
    "duration": 124,
    "start_time": "2023-10-05T08:11:39.615Z"
   },
   {
    "duration": 11,
    "start_time": "2023-10-05T08:11:44.725Z"
   },
   {
    "duration": 200,
    "start_time": "2023-10-05T08:11:51.462Z"
   },
   {
    "duration": 68,
    "start_time": "2023-10-05T08:12:51.574Z"
   },
   {
    "duration": 33,
    "start_time": "2023-10-05T08:13:13.897Z"
   },
   {
    "duration": 24,
    "start_time": "2023-10-05T08:13:47.800Z"
   },
   {
    "duration": 29,
    "start_time": "2023-10-05T08:16:00.642Z"
   },
   {
    "duration": 299,
    "start_time": "2023-10-05T08:16:04.169Z"
   },
   {
    "duration": 7,
    "start_time": "2023-10-05T08:16:05.186Z"
   },
   {
    "duration": 14,
    "start_time": "2023-10-05T08:16:07.167Z"
   },
   {
    "duration": 17,
    "start_time": "2023-10-05T08:16:16.582Z"
   },
   {
    "duration": 4,
    "start_time": "2023-10-05T08:16:28.487Z"
   },
   {
    "duration": 7,
    "start_time": "2023-10-05T08:16:29.118Z"
   },
   {
    "duration": 316,
    "start_time": "2023-10-05T08:16:30.192Z"
   },
   {
    "duration": 3,
    "start_time": "2023-10-05T08:16:31.134Z"
   },
   {
    "duration": 597,
    "start_time": "2023-10-05T08:16:32.209Z"
   },
   {
    "duration": 17,
    "start_time": "2023-10-05T08:17:05.118Z"
   },
   {
    "duration": 14,
    "start_time": "2023-10-05T08:17:18.501Z"
   },
   {
    "duration": 18,
    "start_time": "2023-10-05T08:17:45.384Z"
   },
   {
    "duration": 15,
    "start_time": "2023-10-05T08:17:57.226Z"
   },
   {
    "duration": 25,
    "start_time": "2023-10-05T08:19:04.664Z"
   },
   {
    "duration": 15,
    "start_time": "2023-10-05T08:19:29.785Z"
   },
   {
    "duration": 6,
    "start_time": "2023-10-05T08:20:47.588Z"
   },
   {
    "duration": 13,
    "start_time": "2023-10-05T08:20:48.641Z"
   },
   {
    "duration": 392,
    "start_time": "2023-10-05T08:20:49.883Z"
   },
   {
    "duration": 3,
    "start_time": "2023-10-05T08:21:06.337Z"
   },
   {
    "duration": 51,
    "start_time": "2023-10-05T08:21:06.738Z"
   },
   {
    "duration": 6,
    "start_time": "2023-10-05T08:21:07.278Z"
   },
   {
    "duration": 3,
    "start_time": "2023-10-05T08:21:07.912Z"
   },
   {
    "duration": 51882,
    "start_time": "2023-10-05T08:21:08.747Z"
   },
   {
    "duration": 215735,
    "start_time": "2023-10-05T08:22:02.828Z"
   },
   {
    "duration": 27036,
    "start_time": "2023-10-05T08:26:01.716Z"
   },
   {
    "duration": 18787,
    "start_time": "2023-10-05T08:26:38.046Z"
   },
   {
    "duration": 23,
    "start_time": "2023-10-05T08:28:41.262Z"
   },
   {
    "duration": 5,
    "start_time": "2023-10-05T08:28:41.872Z"
   },
   {
    "duration": 25,
    "start_time": "2023-10-05T08:28:42.434Z"
   },
   {
    "duration": 12,
    "start_time": "2023-10-05T08:29:26.035Z"
   },
   {
    "duration": 25,
    "start_time": "2023-10-05T08:29:32.768Z"
   },
   {
    "duration": 19,
    "start_time": "2023-10-05T08:29:33.389Z"
   },
   {
    "duration": 9,
    "start_time": "2023-10-05T08:29:41.670Z"
   },
   {
    "duration": 31,
    "start_time": "2023-10-05T08:30:58.567Z"
   },
   {
    "duration": 13,
    "start_time": "2023-10-05T08:31:12.021Z"
   },
   {
    "duration": 5,
    "start_time": "2023-10-05T08:31:33.111Z"
   },
   {
    "duration": 4,
    "start_time": "2023-10-05T08:31:36.635Z"
   },
   {
    "duration": 10,
    "start_time": "2023-10-05T08:31:37.007Z"
   },
   {
    "duration": 889,
    "start_time": "2023-10-05T08:31:41.359Z"
   },
   {
    "duration": 757,
    "start_time": "2023-10-05T08:32:03.402Z"
   },
   {
    "duration": 813,
    "start_time": "2023-10-05T08:32:24.415Z"
   },
   {
    "duration": 17,
    "start_time": "2023-10-05T08:33:06.315Z"
   },
   {
    "duration": 0,
    "start_time": "2023-10-05T08:33:06.334Z"
   },
   {
    "duration": 14,
    "start_time": "2023-10-05T08:34:36.902Z"
   },
   {
    "duration": 4,
    "start_time": "2023-10-05T08:35:19.074Z"
   },
   {
    "duration": 26,
    "start_time": "2023-10-05T08:35:28.773Z"
   },
   {
    "duration": 4,
    "start_time": "2023-10-05T08:35:33.105Z"
   },
   {
    "duration": 15,
    "start_time": "2023-10-05T08:35:33.528Z"
   },
   {
    "duration": 3,
    "start_time": "2023-10-05T08:35:38.415Z"
   },
   {
    "duration": 12,
    "start_time": "2023-10-05T08:35:38.815Z"
   },
   {
    "duration": 17068,
    "start_time": "2023-10-05T08:35:43.934Z"
   },
   {
    "duration": 588,
    "start_time": "2023-10-05T08:36:01.004Z"
   },
   {
    "duration": 124,
    "start_time": "2023-10-05T08:36:01.598Z"
   },
   {
    "duration": 314,
    "start_time": "2023-10-05T08:36:01.724Z"
   },
   {
    "duration": 819,
    "start_time": "2023-10-05T08:36:02.040Z"
   },
   {
    "duration": 48,
    "start_time": "2023-10-05T08:36:02.861Z"
   },
   {
    "duration": 175,
    "start_time": "2023-10-05T08:36:02.911Z"
   },
   {
    "duration": 21,
    "start_time": "2023-10-05T08:36:03.098Z"
   },
   {
    "duration": 72,
    "start_time": "2023-10-05T08:36:06.597Z"
   },
   {
    "duration": 31,
    "start_time": "2023-10-05T08:36:15.486Z"
   },
   {
    "duration": 330,
    "start_time": "2023-10-05T08:36:26.257Z"
   },
   {
    "duration": 298,
    "start_time": "2023-10-05T08:36:27.310Z"
   },
   {
    "duration": 25,
    "start_time": "2023-10-05T08:37:22.181Z"
   },
   {
    "duration": 21,
    "start_time": "2023-10-05T08:37:32.102Z"
   },
   {
    "duration": 3,
    "start_time": "2023-10-05T08:37:35.401Z"
   },
   {
    "duration": 17,
    "start_time": "2023-10-05T08:37:43.303Z"
   },
   {
    "duration": 68,
    "start_time": "2023-10-05T08:38:41.478Z"
   },
   {
    "duration": 164,
    "start_time": "2023-10-05T08:39:40.175Z"
   },
   {
    "duration": 20,
    "start_time": "2023-10-05T08:40:15.912Z"
   },
   {
    "duration": 59,
    "start_time": "2023-10-05T08:40:41.909Z"
   },
   {
    "duration": 13,
    "start_time": "2023-10-05T08:41:11.305Z"
   },
   {
    "duration": 475,
    "start_time": "2023-10-05T08:41:58.778Z"
   },
   {
    "duration": 985,
    "start_time": "2023-10-05T09:15:19.428Z"
   },
   {
    "duration": 19,
    "start_time": "2023-10-05T09:15:49.381Z"
   },
   {
    "duration": 870,
    "start_time": "2023-10-05T09:15:52.131Z"
   },
   {
    "duration": 3,
    "start_time": "2023-10-05T09:15:53.003Z"
   },
   {
    "duration": 22,
    "start_time": "2023-10-05T09:15:55.567Z"
   },
   {
    "duration": 892,
    "start_time": "2023-10-05T09:16:03.167Z"
   },
   {
    "duration": 4,
    "start_time": "2023-10-05T09:16:15.721Z"
   },
   {
    "duration": 15,
    "start_time": "2023-10-05T09:16:30.822Z"
   },
   {
    "duration": 9,
    "start_time": "2023-10-05T09:17:14.768Z"
   },
   {
    "duration": 4,
    "start_time": "2023-10-05T09:17:16.670Z"
   },
   {
    "duration": 5,
    "start_time": "2023-10-05T09:17:17.118Z"
   },
   {
    "duration": 10,
    "start_time": "2023-10-05T09:17:18.918Z"
   },
   {
    "duration": 19,
    "start_time": "2023-10-05T09:17:32.398Z"
   },
   {
    "duration": 3,
    "start_time": "2023-10-05T09:17:33.488Z"
   },
   {
    "duration": 17,
    "start_time": "2023-10-05T09:17:34.030Z"
   },
   {
    "duration": 5,
    "start_time": "2023-10-05T09:18:02.518Z"
   },
   {
    "duration": 11,
    "start_time": "2023-10-05T09:18:14.259Z"
   },
   {
    "duration": 7,
    "start_time": "2023-10-05T09:19:07.201Z"
   },
   {
    "duration": 664,
    "start_time": "2023-10-05T09:19:08.897Z"
   },
   {
    "duration": 26,
    "start_time": "2023-10-05T09:19:15.136Z"
   },
   {
    "duration": 60,
    "start_time": "2023-10-05T09:21:36.770Z"
   },
   {
    "duration": 292,
    "start_time": "2023-10-05T09:24:31.213Z"
   },
   {
    "duration": 783,
    "start_time": "2023-10-05T09:27:49.701Z"
   },
   {
    "duration": 4,
    "start_time": "2023-10-05T09:27:50.486Z"
   },
   {
    "duration": 233,
    "start_time": "2023-10-05T09:27:50.492Z"
   },
   {
    "duration": 19,
    "start_time": "2023-10-05T09:27:50.727Z"
   },
   {
    "duration": 0,
    "start_time": "2023-10-05T09:27:50.750Z"
   },
   {
    "duration": 0,
    "start_time": "2023-10-05T09:27:50.752Z"
   },
   {
    "duration": 988977,
    "start_time": "2023-10-05T09:32:39.387Z"
   },
   {
    "duration": 1083395,
    "start_time": "2023-10-05T09:49:08.366Z"
   },
   {
    "duration": 9,
    "start_time": "2023-10-05T10:07:11.769Z"
   },
   {
    "duration": 316242,
    "start_time": "2023-10-05T10:07:11.785Z"
   },
   {
    "duration": 1261,
    "start_time": "2023-10-05T10:12:28.033Z"
   },
   {
    "duration": 19,
    "start_time": "2023-10-05T10:13:02.483Z"
   },
   {
    "duration": 257,
    "start_time": "2023-10-05T10:13:06.482Z"
   },
   {
    "duration": 611,
    "start_time": "2023-10-05T10:14:04.199Z"
   },
   {
    "duration": 212,
    "start_time": "2023-10-05T10:14:48.513Z"
   },
   {
    "duration": 176,
    "start_time": "2023-10-05T10:14:49.147Z"
   },
   {
    "duration": 172,
    "start_time": "2023-10-05T10:14:59.940Z"
   },
   {
    "duration": 1393,
    "start_time": "2023-10-05T10:15:06.088Z"
   },
   {
    "duration": 9,
    "start_time": "2023-10-05T10:15:20.669Z"
   },
   {
    "duration": 9,
    "start_time": "2023-10-05T10:15:24.264Z"
   },
   {
    "duration": 211,
    "start_time": "2023-10-05T10:15:25.362Z"
   },
   {
    "duration": 576,
    "start_time": "2023-10-05T10:15:45.442Z"
   },
   {
    "duration": 220,
    "start_time": "2023-10-05T10:16:07.410Z"
   },
   {
    "duration": 114,
    "start_time": "2023-10-05T10:16:08.298Z"
   },
   {
    "duration": 1219,
    "start_time": "2023-10-05T10:16:11.594Z"
   },
   {
    "duration": 9,
    "start_time": "2023-10-05T10:16:15.963Z"
   },
   {
    "duration": 39667,
    "start_time": "2023-10-05T10:16:16.728Z"
   },
   {
    "duration": 6,
    "start_time": "2023-10-05T10:16:56.397Z"
   },
   {
    "duration": 399,
    "start_time": "2023-10-05T10:17:37.380Z"
   },
   {
    "duration": 781,
    "start_time": "2023-10-05T10:17:49.186Z"
   },
   {
    "duration": 15,
    "start_time": "2023-10-05T10:17:50.123Z"
   },
   {
    "duration": 4,
    "start_time": "2023-10-05T10:17:50.899Z"
   },
   {
    "duration": 12,
    "start_time": "2023-10-05T10:17:52.875Z"
   },
   {
    "duration": 28,
    "start_time": "2023-10-05T10:17:52.890Z"
   },
   {
    "duration": 17,
    "start_time": "2023-10-05T10:18:34.486Z"
   },
   {
    "duration": 12,
    "start_time": "2023-10-05T10:18:41.019Z"
   },
   {
    "duration": 3,
    "start_time": "2023-10-05T10:18:53.937Z"
   },
   {
    "duration": 16,
    "start_time": "2023-10-05T10:18:55.099Z"
   },
   {
    "duration": 789,
    "start_time": "2023-10-05T10:25:33.475Z"
   },
   {
    "duration": 14,
    "start_time": "2023-10-05T10:25:34.323Z"
   },
   {
    "duration": 4,
    "start_time": "2023-10-05T10:25:35.228Z"
   },
   {
    "duration": 99,
    "start_time": "2023-10-05T10:26:00.644Z"
   },
   {
    "duration": 165,
    "start_time": "2023-10-05T10:26:12.886Z"
   },
   {
    "duration": 4,
    "start_time": "2023-10-05T10:29:16.410Z"
   },
   {
    "duration": 16,
    "start_time": "2023-10-05T10:30:49.158Z"
   },
   {
    "duration": 18,
    "start_time": "2023-10-05T10:31:10.062Z"
   },
   {
    "duration": 33,
    "start_time": "2023-10-05T10:31:29.716Z"
   },
   {
    "duration": 8,
    "start_time": "2023-10-05T10:33:48.516Z"
   },
   {
    "duration": 4,
    "start_time": "2023-10-05T10:34:18.421Z"
   },
   {
    "duration": 1514,
    "start_time": "2023-10-05T10:34:20.562Z"
   },
   {
    "duration": 10,
    "start_time": "2023-10-05T10:34:33.824Z"
   },
   {
    "duration": 5,
    "start_time": "2023-10-05T10:34:42.907Z"
   },
   {
    "duration": 46,
    "start_time": "2023-10-05T10:35:45.037Z"
   },
   {
    "duration": 3,
    "start_time": "2023-10-05T10:36:10.480Z"
   },
   {
    "duration": 1373,
    "start_time": "2023-10-05T10:36:14.437Z"
   },
   {
    "duration": 5,
    "start_time": "2023-10-05T10:36:15.813Z"
   },
   {
    "duration": 5,
    "start_time": "2023-10-05T10:37:22.869Z"
   },
   {
    "duration": 21,
    "start_time": "2023-10-05T10:42:24.878Z"
   },
   {
    "duration": 137,
    "start_time": "2023-10-05T10:43:10.773Z"
   },
   {
    "duration": 41,
    "start_time": "2023-10-05T10:43:19.538Z"
   },
   {
    "duration": 6,
    "start_time": "2023-10-05T10:43:59.113Z"
   },
   {
    "duration": 6,
    "start_time": "2023-10-05T11:07:38.610Z"
   },
   {
    "duration": 458,
    "start_time": "2023-10-05T11:07:55.675Z"
   },
   {
    "duration": 6,
    "start_time": "2023-10-05T11:09:07.463Z"
   },
   {
    "duration": 197,
    "start_time": "2023-10-05T11:09:08.620Z"
   },
   {
    "duration": 10,
    "start_time": "2023-10-05T11:09:32.135Z"
   },
   {
    "duration": 312,
    "start_time": "2023-10-05T11:09:33.071Z"
   },
   {
    "duration": 7,
    "start_time": "2023-10-05T11:10:12.128Z"
   },
   {
    "duration": 159,
    "start_time": "2023-10-05T11:10:13.501Z"
   },
   {
    "duration": 5,
    "start_time": "2023-10-05T11:10:36.205Z"
   },
   {
    "duration": 188,
    "start_time": "2023-10-05T11:10:37.229Z"
   },
   {
    "duration": 6,
    "start_time": "2023-10-05T11:11:26.294Z"
   },
   {
    "duration": 3128,
    "start_time": "2023-10-05T11:11:27.270Z"
   },
   {
    "duration": 10,
    "start_time": "2023-10-05T11:11:37.451Z"
   },
   {
    "duration": 178,
    "start_time": "2023-10-05T11:11:38.310Z"
   },
   {
    "duration": 11,
    "start_time": "2023-10-05T11:11:43.839Z"
   },
   {
    "duration": 3101,
    "start_time": "2023-10-05T11:11:43.853Z"
   },
   {
    "duration": 14,
    "start_time": "2023-10-05T11:11:50.031Z"
   },
   {
    "duration": 5,
    "start_time": "2023-10-05T11:17:04.661Z"
   },
   {
    "duration": 3402,
    "start_time": "2023-10-05T11:17:52.805Z"
   },
   {
    "duration": 4,
    "start_time": "2023-10-05T11:17:56.209Z"
   },
   {
    "duration": 24621,
    "start_time": "2023-10-05T11:17:56.214Z"
   },
   {
    "duration": 355,
    "start_time": "2023-10-05T11:18:20.836Z"
   },
   {
    "duration": 9,
    "start_time": "2023-10-05T11:18:21.193Z"
   },
   {
    "duration": 65,
    "start_time": "2023-10-05T11:18:21.204Z"
   },
   {
    "duration": 26,
    "start_time": "2023-10-05T11:18:21.271Z"
   },
   {
    "duration": 41,
    "start_time": "2023-10-05T11:18:21.299Z"
   },
   {
    "duration": 15,
    "start_time": "2023-10-05T11:18:21.342Z"
   },
   {
    "duration": 64,
    "start_time": "2023-10-05T11:18:21.360Z"
   },
   {
    "duration": 9,
    "start_time": "2023-10-05T11:18:21.425Z"
   },
   {
    "duration": 457,
    "start_time": "2023-10-05T11:18:21.435Z"
   },
   {
    "duration": 194,
    "start_time": "2023-10-05T11:18:21.893Z"
   },
   {
    "duration": 237,
    "start_time": "2023-10-05T11:18:22.089Z"
   },
   {
    "duration": 222,
    "start_time": "2023-10-05T11:18:22.328Z"
   },
   {
    "duration": 240,
    "start_time": "2023-10-05T11:18:22.551Z"
   },
   {
    "duration": 474,
    "start_time": "2023-10-05T11:18:22.793Z"
   },
   {
    "duration": 15,
    "start_time": "2023-10-05T11:18:23.269Z"
   },
   {
    "duration": 6027,
    "start_time": "2023-10-05T11:18:23.286Z"
   },
   {
    "duration": 9,
    "start_time": "2023-10-05T11:18:29.314Z"
   },
   {
    "duration": 913,
    "start_time": "2023-10-05T11:18:29.324Z"
   },
   {
    "duration": 354,
    "start_time": "2023-10-05T11:18:30.250Z"
   },
   {
    "duration": 405,
    "start_time": "2023-10-05T11:18:30.606Z"
   },
   {
    "duration": 283,
    "start_time": "2023-10-05T11:18:31.013Z"
   },
   {
    "duration": 331,
    "start_time": "2023-10-05T11:18:31.298Z"
   },
   {
    "duration": 377,
    "start_time": "2023-10-05T11:18:31.631Z"
   },
   {
    "duration": 5,
    "start_time": "2023-10-05T11:18:32.010Z"
   },
   {
    "duration": 17045,
    "start_time": "2023-10-05T11:18:32.018Z"
   },
   {
    "duration": 539,
    "start_time": "2023-10-05T11:18:49.065Z"
   },
   {
    "duration": 122,
    "start_time": "2023-10-05T11:18:49.606Z"
   },
   {
    "duration": 61,
    "start_time": "2023-10-05T11:18:49.730Z"
   },
   {
    "duration": 496,
    "start_time": "2023-10-05T11:18:49.793Z"
   },
   {
    "duration": 58,
    "start_time": "2023-10-05T11:18:50.292Z"
   },
   {
    "duration": 124,
    "start_time": "2023-10-05T11:18:50.352Z"
   },
   {
    "duration": 67,
    "start_time": "2023-10-05T11:18:50.478Z"
   },
   {
    "duration": 1284,
    "start_time": "2023-10-05T11:18:50.546Z"
   },
   {
    "duration": 217,
    "start_time": "2023-10-05T11:18:51.832Z"
   },
   {
    "duration": 187,
    "start_time": "2023-10-05T11:18:52.058Z"
   },
   {
    "duration": 112,
    "start_time": "2023-10-05T11:18:52.247Z"
   },
   {
    "duration": 5,
    "start_time": "2023-10-05T11:18:52.361Z"
   },
   {
    "duration": 41,
    "start_time": "2023-10-05T11:18:52.369Z"
   },
   {
    "duration": 3,
    "start_time": "2023-10-05T11:20:49.626Z"
   },
   {
    "duration": 553428,
    "start_time": "2023-10-05T11:20:49.981Z"
   },
   {
    "duration": 11,
    "start_time": "2023-10-05T11:30:03.411Z"
   },
   {
    "duration": 0,
    "start_time": "2023-10-05T11:30:03.423Z"
   },
   {
    "duration": 0,
    "start_time": "2023-10-05T11:30:03.424Z"
   },
   {
    "duration": 0,
    "start_time": "2023-10-05T11:30:03.426Z"
   },
   {
    "duration": 0,
    "start_time": "2023-10-05T11:30:03.426Z"
   },
   {
    "duration": 0,
    "start_time": "2023-10-05T11:30:03.427Z"
   },
   {
    "duration": 0,
    "start_time": "2023-10-05T11:30:03.428Z"
   },
   {
    "duration": 0,
    "start_time": "2023-10-05T11:30:03.430Z"
   },
   {
    "duration": 0,
    "start_time": "2023-10-05T11:30:03.431Z"
   },
   {
    "duration": 0,
    "start_time": "2023-10-05T11:30:03.432Z"
   },
   {
    "duration": 0,
    "start_time": "2023-10-05T11:30:03.433Z"
   },
   {
    "duration": 2632,
    "start_time": "2023-10-05T11:34:25.203Z"
   },
   {
    "duration": 4,
    "start_time": "2023-10-05T11:34:27.837Z"
   },
   {
    "duration": 28465,
    "start_time": "2023-10-05T11:34:27.842Z"
   },
   {
    "duration": 13077,
    "start_time": "2023-10-05T11:34:56.310Z"
   },
   {
    "duration": 206,
    "start_time": "2023-10-05T11:35:09.389Z"
   },
   {
    "duration": 0,
    "start_time": "2023-10-05T11:35:09.597Z"
   },
   {
    "duration": 0,
    "start_time": "2023-10-05T11:35:09.598Z"
   },
   {
    "duration": 0,
    "start_time": "2023-10-05T11:35:09.600Z"
   },
   {
    "duration": 0,
    "start_time": "2023-10-05T11:35:09.601Z"
   },
   {
    "duration": 0,
    "start_time": "2023-10-05T11:35:09.602Z"
   },
   {
    "duration": 0,
    "start_time": "2023-10-05T11:35:09.604Z"
   },
   {
    "duration": 0,
    "start_time": "2023-10-05T11:35:09.605Z"
   },
   {
    "duration": 0,
    "start_time": "2023-10-05T11:35:09.607Z"
   },
   {
    "duration": 0,
    "start_time": "2023-10-05T11:35:09.608Z"
   },
   {
    "duration": 0,
    "start_time": "2023-10-05T11:35:09.609Z"
   },
   {
    "duration": 0,
    "start_time": "2023-10-05T11:35:09.611Z"
   },
   {
    "duration": 0,
    "start_time": "2023-10-05T11:35:09.612Z"
   },
   {
    "duration": 0,
    "start_time": "2023-10-05T11:35:09.613Z"
   },
   {
    "duration": 0,
    "start_time": "2023-10-05T11:35:09.614Z"
   },
   {
    "duration": 8,
    "start_time": "2023-10-05T11:35:29.657Z"
   },
   {
    "duration": 118,
    "start_time": "2023-10-05T11:35:36.229Z"
   },
   {
    "duration": 43,
    "start_time": "2023-10-05T11:35:36.482Z"
   },
   {
    "duration": 560,
    "start_time": "2023-10-05T11:35:37.535Z"
   },
   {
    "duration": 50,
    "start_time": "2023-10-05T11:35:38.279Z"
   },
   {
    "duration": 113,
    "start_time": "2023-10-05T11:35:38.776Z"
   },
   {
    "duration": 66,
    "start_time": "2023-10-05T11:35:39.305Z"
   },
   {
    "duration": 1465,
    "start_time": "2023-10-05T11:35:39.530Z"
   },
   {
    "duration": 209,
    "start_time": "2023-10-05T11:35:40.997Z"
   },
   {
    "duration": 207,
    "start_time": "2023-10-05T11:35:41.208Z"
   },
   {
    "duration": 116,
    "start_time": "2023-10-05T11:35:41.417Z"
   },
   {
    "duration": 15,
    "start_time": "2023-10-05T11:35:41.536Z"
   },
   {
    "duration": 3,
    "start_time": "2023-10-05T11:35:42.075Z"
   },
   {
    "duration": 6,
    "start_time": "2023-10-05T11:35:44.541Z"
   },
   {
    "duration": 2672,
    "start_time": "2023-10-05T11:47:17.868Z"
   },
   {
    "duration": 2695,
    "start_time": "2023-10-05T11:47:20.543Z"
   },
   {
    "duration": 2998,
    "start_time": "2023-10-05T11:47:23.240Z"
   },
   {
    "duration": 18,
    "start_time": "2023-10-05T11:47:26.240Z"
   },
   {
    "duration": 14819,
    "start_time": "2023-10-05T11:47:26.266Z"
   },
   {
    "duration": 232,
    "start_time": "2023-10-05T11:47:41.087Z"
   },
   {
    "duration": 14,
    "start_time": "2023-10-05T11:47:41.321Z"
   },
   {
    "duration": 63,
    "start_time": "2023-10-05T11:47:41.337Z"
   },
   {
    "duration": 28,
    "start_time": "2023-10-05T11:47:41.402Z"
   },
   {
    "duration": 70,
    "start_time": "2023-10-05T11:47:41.432Z"
   },
   {
    "duration": 16,
    "start_time": "2023-10-05T11:47:41.504Z"
   },
   {
    "duration": 76,
    "start_time": "2023-10-05T11:47:41.522Z"
   },
   {
    "duration": 9,
    "start_time": "2023-10-05T11:47:41.599Z"
   },
   {
    "duration": 409,
    "start_time": "2023-10-05T11:47:41.612Z"
   },
   {
    "duration": 168,
    "start_time": "2023-10-05T11:47:42.023Z"
   },
   {
    "duration": 235,
    "start_time": "2023-10-05T11:47:42.193Z"
   },
   {
    "duration": 220,
    "start_time": "2023-10-05T11:47:42.430Z"
   },
   {
    "duration": 233,
    "start_time": "2023-10-05T11:47:42.651Z"
   },
   {
    "duration": 450,
    "start_time": "2023-10-05T11:47:42.886Z"
   },
   {
    "duration": 9,
    "start_time": "2023-10-05T11:47:43.338Z"
   },
   {
    "duration": 6128,
    "start_time": "2023-10-05T11:47:43.349Z"
   },
   {
    "duration": 11,
    "start_time": "2023-10-05T11:47:49.482Z"
   },
   {
    "duration": 935,
    "start_time": "2023-10-05T11:47:49.495Z"
   },
   {
    "duration": 325,
    "start_time": "2023-10-05T11:47:50.433Z"
   },
   {
    "duration": 407,
    "start_time": "2023-10-05T11:47:50.760Z"
   },
   {
    "duration": 257,
    "start_time": "2023-10-05T11:47:51.169Z"
   },
   {
    "duration": 370,
    "start_time": "2023-10-05T11:47:51.428Z"
   },
   {
    "duration": 351,
    "start_time": "2023-10-05T11:47:51.800Z"
   },
   {
    "duration": 8,
    "start_time": "2023-10-05T11:47:52.153Z"
   },
   {
    "duration": 14664,
    "start_time": "2023-10-05T11:47:52.163Z"
   },
   {
    "duration": 604,
    "start_time": "2023-10-05T11:48:06.829Z"
   },
   {
    "duration": 165,
    "start_time": "2023-10-05T11:48:07.443Z"
   },
   {
    "duration": 63,
    "start_time": "2023-10-05T11:48:07.611Z"
   },
   {
    "duration": 551,
    "start_time": "2023-10-05T11:48:07.676Z"
   },
   {
    "duration": 67,
    "start_time": "2023-10-05T11:48:08.229Z"
   },
   {
    "duration": 135,
    "start_time": "2023-10-05T11:48:08.299Z"
   },
   {
    "duration": 96,
    "start_time": "2023-10-05T11:48:08.436Z"
   },
   {
    "duration": 1485,
    "start_time": "2023-10-05T11:48:08.534Z"
   },
   {
    "duration": 216,
    "start_time": "2023-10-05T11:48:10.021Z"
   },
   {
    "duration": 206,
    "start_time": "2023-10-05T11:48:10.239Z"
   },
   {
    "duration": 122,
    "start_time": "2023-10-05T11:48:10.450Z"
   },
   {
    "duration": 4,
    "start_time": "2023-10-05T11:48:10.575Z"
   },
   {
    "duration": 18,
    "start_time": "2023-10-05T11:48:10.581Z"
   },
   {
    "duration": 11,
    "start_time": "2023-10-05T11:48:10.602Z"
   },
   {
    "duration": 2929,
    "start_time": "2023-10-05T11:50:04.750Z"
   },
   {
    "duration": 2609,
    "start_time": "2023-10-05T11:50:07.684Z"
   },
   {
    "duration": 3172,
    "start_time": "2023-10-05T11:50:10.295Z"
   },
   {
    "duration": 8,
    "start_time": "2023-10-05T11:50:13.473Z"
   },
   {
    "duration": 18459,
    "start_time": "2023-10-05T11:50:13.483Z"
   },
   {
    "duration": 347,
    "start_time": "2023-10-05T11:50:31.951Z"
   },
   {
    "duration": 19,
    "start_time": "2023-10-05T11:50:32.303Z"
   },
   {
    "duration": 203,
    "start_time": "2023-10-05T11:50:32.326Z"
   },
   {
    "duration": 37,
    "start_time": "2023-10-05T11:50:32.532Z"
   },
   {
    "duration": 69,
    "start_time": "2023-10-05T11:50:32.573Z"
   },
   {
    "duration": 31,
    "start_time": "2023-10-05T11:50:32.644Z"
   },
   {
    "duration": 65,
    "start_time": "2023-10-05T11:50:32.677Z"
   },
   {
    "duration": 14,
    "start_time": "2023-10-05T11:50:32.751Z"
   },
   {
    "duration": 450,
    "start_time": "2023-10-05T11:50:32.767Z"
   },
   {
    "duration": 179,
    "start_time": "2023-10-05T11:50:33.220Z"
   },
   {
    "duration": 234,
    "start_time": "2023-10-05T11:50:33.402Z"
   },
   {
    "duration": 259,
    "start_time": "2023-10-05T11:50:33.638Z"
   },
   {
    "duration": 221,
    "start_time": "2023-10-05T11:50:33.899Z"
   },
   {
    "duration": 464,
    "start_time": "2023-10-05T11:50:34.122Z"
   },
   {
    "duration": 17,
    "start_time": "2023-10-05T11:50:34.588Z"
   },
   {
    "duration": 5525,
    "start_time": "2023-10-05T11:50:34.607Z"
   },
   {
    "duration": 21,
    "start_time": "2023-10-05T11:50:40.134Z"
   },
   {
    "duration": 1209,
    "start_time": "2023-10-05T11:50:40.158Z"
   },
   {
    "duration": 340,
    "start_time": "2023-10-05T11:50:41.379Z"
   },
   {
    "duration": 404,
    "start_time": "2023-10-05T11:50:41.721Z"
   },
   {
    "duration": 308,
    "start_time": "2023-10-05T11:50:42.127Z"
   },
   {
    "duration": 386,
    "start_time": "2023-10-05T11:50:42.437Z"
   },
   {
    "duration": 420,
    "start_time": "2023-10-05T11:50:42.829Z"
   },
   {
    "duration": 6,
    "start_time": "2023-10-05T11:50:43.251Z"
   },
   {
    "duration": 14217,
    "start_time": "2023-10-05T11:50:43.259Z"
   },
   {
    "duration": 642,
    "start_time": "2023-10-05T11:50:57.483Z"
   },
   {
    "duration": 138,
    "start_time": "2023-10-05T11:50:58.127Z"
   },
   {
    "duration": 53,
    "start_time": "2023-10-05T11:50:58.276Z"
   },
   {
    "duration": 601,
    "start_time": "2023-10-05T11:50:58.332Z"
   },
   {
    "duration": 70,
    "start_time": "2023-10-05T11:50:58.935Z"
   },
   {
    "duration": 143,
    "start_time": "2023-10-05T11:50:59.007Z"
   },
   {
    "duration": 107,
    "start_time": "2023-10-05T11:50:59.152Z"
   },
   {
    "duration": 1419,
    "start_time": "2023-10-05T11:50:59.263Z"
   },
   {
    "duration": 267,
    "start_time": "2023-10-05T11:51:00.684Z"
   },
   {
    "duration": 238,
    "start_time": "2023-10-05T11:51:00.954Z"
   },
   {
    "duration": 110,
    "start_time": "2023-10-05T11:51:01.194Z"
   },
   {
    "duration": 28,
    "start_time": "2023-10-05T11:51:01.307Z"
   },
   {
    "duration": 348,
    "start_time": "2023-10-05T11:51:01.337Z"
   },
   {
    "duration": 177,
    "start_time": "2023-10-05T11:51:01.687Z"
   },
   {
    "duration": 638102,
    "start_time": "2023-10-05T11:51:01.866Z"
   },
   {
    "duration": 284245,
    "start_time": "2023-10-05T12:01:39.970Z"
   },
   {
    "duration": 906993,
    "start_time": "2023-10-05T12:06:24.216Z"
   },
   {
    "duration": 4,
    "start_time": "2023-10-05T12:21:31.211Z"
   },
   {
    "duration": 236170,
    "start_time": "2023-10-05T12:21:31.216Z"
   },
   {
    "duration": 4,
    "start_time": "2023-10-05T12:25:27.388Z"
   },
   {
    "duration": 45931,
    "start_time": "2023-10-05T12:25:27.394Z"
   },
   {
    "duration": 4,
    "start_time": "2023-10-05T12:26:13.327Z"
   },
   {
    "duration": 205,
    "start_time": "2023-10-05T12:26:13.333Z"
   },
   {
    "duration": 0,
    "start_time": "2023-10-05T12:26:13.539Z"
   },
   {
    "duration": 0,
    "start_time": "2023-10-05T12:26:13.540Z"
   },
   {
    "duration": 0,
    "start_time": "2023-10-05T12:26:13.542Z"
   },
   {
    "duration": 0,
    "start_time": "2023-10-05T12:26:13.545Z"
   },
   {
    "duration": 0,
    "start_time": "2023-10-05T12:26:13.548Z"
   },
   {
    "duration": 0,
    "start_time": "2023-10-05T12:26:13.549Z"
   },
   {
    "duration": 0,
    "start_time": "2023-10-05T12:26:13.550Z"
   },
   {
    "duration": 0,
    "start_time": "2023-10-05T12:26:13.550Z"
   },
   {
    "duration": 0,
    "start_time": "2023-10-05T12:26:13.553Z"
   },
   {
    "duration": 0,
    "start_time": "2023-10-05T12:26:13.554Z"
   },
   {
    "duration": 0,
    "start_time": "2023-10-05T12:26:13.555Z"
   },
   {
    "duration": 0,
    "start_time": "2023-10-05T12:26:13.555Z"
   },
   {
    "duration": 0,
    "start_time": "2023-10-05T12:26:13.556Z"
   },
   {
    "duration": 0,
    "start_time": "2023-10-05T12:26:13.556Z"
   },
   {
    "duration": 0,
    "start_time": "2023-10-05T12:26:13.557Z"
   },
   {
    "duration": 0,
    "start_time": "2023-10-05T12:26:13.557Z"
   },
   {
    "duration": 0,
    "start_time": "2023-10-05T12:26:13.559Z"
   },
   {
    "duration": 0,
    "start_time": "2023-10-05T12:26:13.564Z"
   },
   {
    "duration": 0,
    "start_time": "2023-10-05T12:26:13.566Z"
   },
   {
    "duration": 0,
    "start_time": "2023-10-05T12:26:13.566Z"
   },
   {
    "duration": 0,
    "start_time": "2023-10-05T12:26:13.570Z"
   },
   {
    "duration": 0,
    "start_time": "2023-10-05T12:26:13.572Z"
   },
   {
    "duration": 0,
    "start_time": "2023-10-05T12:26:13.573Z"
   },
   {
    "duration": 0,
    "start_time": "2023-10-05T12:26:13.574Z"
   },
   {
    "duration": 0,
    "start_time": "2023-10-05T12:26:13.576Z"
   },
   {
    "duration": 328,
    "start_time": "2023-10-05T12:32:39.627Z"
   },
   {
    "duration": 4,
    "start_time": "2023-10-05T12:33:15.676Z"
   },
   {
    "duration": 230,
    "start_time": "2023-10-05T12:33:16.374Z"
   },
   {
    "duration": 13,
    "start_time": "2023-10-05T12:33:16.817Z"
   },
   {
    "duration": 5,
    "start_time": "2023-10-05T12:33:50.804Z"
   },
   {
    "duration": 271,
    "start_time": "2023-10-05T12:33:51.821Z"
   },
   {
    "duration": 7,
    "start_time": "2023-10-05T12:34:09.855Z"
   },
   {
    "duration": 317,
    "start_time": "2023-10-05T12:34:10.506Z"
   },
   {
    "duration": 4,
    "start_time": "2023-10-05T12:35:06.715Z"
   },
   {
    "duration": 131,
    "start_time": "2023-10-05T12:35:07.367Z"
   },
   {
    "duration": 5,
    "start_time": "2023-10-05T12:38:06.579Z"
   },
   {
    "duration": 378,
    "start_time": "2023-10-05T12:38:07.627Z"
   },
   {
    "duration": 7,
    "start_time": "2023-10-05T12:38:28.351Z"
   },
   {
    "duration": 30808,
    "start_time": "2023-10-05T12:38:29.067Z"
   },
   {
    "duration": 4,
    "start_time": "2023-10-05T12:38:59.877Z"
   },
   {
    "duration": 57,
    "start_time": "2023-10-05T12:38:59.882Z"
   },
   {
    "duration": 4259,
    "start_time": "2023-10-05T12:38:59.941Z"
   },
   {
    "duration": 11,
    "start_time": "2023-10-05T12:39:04.202Z"
   },
   {
    "duration": 0,
    "start_time": "2023-10-05T12:39:04.215Z"
   },
   {
    "duration": 0,
    "start_time": "2023-10-05T12:39:04.216Z"
   },
   {
    "duration": 474084,
    "start_time": "2023-10-05T12:48:29.056Z"
   },
   {
    "duration": 9,
    "start_time": "2023-10-05T12:56:23.142Z"
   },
   {
    "duration": 31,
    "start_time": "2023-10-05T12:56:23.153Z"
   },
   {
    "duration": 0,
    "start_time": "2023-10-05T12:56:23.187Z"
   },
   {
    "duration": 0,
    "start_time": "2023-10-05T12:56:23.187Z"
   },
   {
    "duration": 6632,
    "start_time": "2023-10-05T13:01:11.580Z"
   },
   {
    "duration": 0,
    "start_time": "2023-10-05T13:01:18.214Z"
   },
   {
    "duration": 178,
    "start_time": "2023-10-05T13:02:00.855Z"
   },
   {
    "duration": 85,
    "start_time": "2023-10-05T13:02:08.241Z"
   },
   {
    "duration": 0,
    "start_time": "2023-10-05T13:02:08.328Z"
   },
   {
    "duration": 15,
    "start_time": "2023-10-05T13:04:11.429Z"
   },
   {
    "duration": 11,
    "start_time": "2023-10-05T13:04:39.181Z"
   },
   {
    "duration": 5,
    "start_time": "2023-10-05T13:06:28.097Z"
   },
   {
    "duration": 157,
    "start_time": "2023-10-05T13:06:34.503Z"
   },
   {
    "duration": 126,
    "start_time": "2023-10-05T13:07:10.087Z"
   },
   {
    "duration": 110,
    "start_time": "2023-10-05T13:07:24.864Z"
   },
   {
    "duration": 4,
    "start_time": "2023-10-05T13:08:50.400Z"
   },
   {
    "duration": 126,
    "start_time": "2023-10-05T13:08:54.039Z"
   },
   {
    "duration": 0,
    "start_time": "2023-10-05T13:15:54.824Z"
   },
   {
    "duration": 0,
    "start_time": "2023-10-05T13:15:54.829Z"
   },
   {
    "duration": 0,
    "start_time": "2023-10-05T13:15:54.831Z"
   },
   {
    "duration": 0,
    "start_time": "2023-10-05T13:15:54.832Z"
   },
   {
    "duration": 0,
    "start_time": "2023-10-05T13:15:54.834Z"
   },
   {
    "duration": 0,
    "start_time": "2023-10-05T13:15:54.835Z"
   },
   {
    "duration": 0,
    "start_time": "2023-10-05T13:15:54.837Z"
   },
   {
    "duration": 3,
    "start_time": "2023-10-05T13:15:59.088Z"
   },
   {
    "duration": 332994,
    "start_time": "2023-10-05T13:15:59.833Z"
   },
   {
    "duration": 5,
    "start_time": "2023-10-05T13:21:32.830Z"
   },
   {
    "duration": 14808,
    "start_time": "2023-10-05T13:21:32.837Z"
   },
   {
    "duration": 4,
    "start_time": "2023-10-05T13:21:47.648Z"
   },
   {
    "duration": 22,
    "start_time": "2023-10-05T13:21:47.654Z"
   },
   {
    "duration": 3,
    "start_time": "2023-10-05T13:22:08.260Z"
   },
   {
    "duration": 3,
    "start_time": "2023-10-05T13:22:10.668Z"
   },
   {
    "duration": 156,
    "start_time": "2023-10-05T13:22:11.690Z"
   },
   {
    "duration": 87,
    "start_time": "2023-10-05T13:23:38.033Z"
   },
   {
    "duration": 126,
    "start_time": "2023-10-05T13:23:59.119Z"
   },
   {
    "duration": 76,
    "start_time": "2023-10-05T13:24:35.876Z"
   },
   {
    "duration": 13,
    "start_time": "2023-10-05T13:25:12.932Z"
   },
   {
    "duration": 692,
    "start_time": "2023-10-05T13:25:41.485Z"
   },
   {
    "duration": 13,
    "start_time": "2023-10-05T13:25:58.669Z"
   },
   {
    "duration": 236199,
    "start_time": "2023-10-05T13:26:11.381Z"
   },
   {
    "duration": 655,
    "start_time": "2023-10-05T13:30:07.582Z"
   },
   {
    "duration": 606,
    "start_time": "2023-10-05T13:31:16.183Z"
   },
   {
    "duration": 856,
    "start_time": "2023-10-05T13:31:53.566Z"
   },
   {
    "duration": 322,
    "start_time": "2023-10-05T13:32:03.010Z"
   },
   {
    "duration": 28,
    "start_time": "2023-10-05T13:32:09.767Z"
   },
   {
    "duration": 4,
    "start_time": "2023-10-05T13:32:10.769Z"
   },
   {
    "duration": 199,
    "start_time": "2023-10-05T13:32:11.600Z"
   },
   {
    "duration": 188,
    "start_time": "2023-10-05T13:32:12.851Z"
   },
   {
    "duration": 9,
    "start_time": "2023-10-05T13:32:13.498Z"
   },
   {
    "duration": 13,
    "start_time": "2023-10-05T13:32:16.262Z"
   },
   {
    "duration": 489,
    "start_time": "2023-10-05T13:32:17.269Z"
   },
   {
    "duration": 11,
    "start_time": "2023-10-05T13:32:58.691Z"
   },
   {
    "duration": 161,
    "start_time": "2023-10-05T13:33:07.841Z"
   },
   {
    "duration": 14,
    "start_time": "2023-10-05T13:33:20.867Z"
   },
   {
    "duration": 24,
    "start_time": "2023-10-05T13:34:34.523Z"
   },
   {
    "duration": 162,
    "start_time": "2023-10-05T13:35:49.497Z"
   },
   {
    "duration": 296,
    "start_time": "2023-10-05T13:35:58.620Z"
   },
   {
    "duration": 240,
    "start_time": "2023-10-05T13:36:42.825Z"
   },
   {
    "duration": 29,
    "start_time": "2023-10-05T13:36:43.677Z"
   },
   {
    "duration": 16,
    "start_time": "2023-10-05T13:36:44.141Z"
   },
   {
    "duration": 39,
    "start_time": "2023-10-05T13:36:49.330Z"
   },
   {
    "duration": 3,
    "start_time": "2023-10-05T13:36:49.726Z"
   },
   {
    "duration": 197,
    "start_time": "2023-10-05T13:36:50.450Z"
   },
   {
    "duration": 229,
    "start_time": "2023-10-05T13:37:11.428Z"
   },
   {
    "duration": 151,
    "start_time": "2023-10-05T13:37:25.219Z"
   },
   {
    "duration": 6,
    "start_time": "2023-10-05T13:37:31.819Z"
   },
   {
    "duration": 259,
    "start_time": "2023-10-05T13:38:05.171Z"
   },
   {
    "duration": 13,
    "start_time": "2023-10-05T13:38:05.432Z"
   },
   {
    "duration": 3,
    "start_time": "2023-10-05T13:38:06.182Z"
   },
   {
    "duration": 5,
    "start_time": "2023-10-05T13:38:06.884Z"
   },
   {
    "duration": 12,
    "start_time": "2023-10-05T13:38:07.887Z"
   },
   {
    "duration": 225,
    "start_time": "2023-10-05T13:38:08.474Z"
   },
   {
    "duration": 242,
    "start_time": "2023-10-05T13:38:13.299Z"
   },
   {
    "duration": 230,
    "start_time": "2023-10-05T13:38:13.915Z"
   },
   {
    "duration": 183,
    "start_time": "2023-10-05T13:41:16.186Z"
   },
   {
    "duration": 2,
    "start_time": "2023-10-05T13:41:16.613Z"
   },
   {
    "duration": 3,
    "start_time": "2023-10-05T13:41:17.174Z"
   },
   {
    "duration": 4,
    "start_time": "2023-10-05T13:41:17.566Z"
   },
   {
    "duration": 7,
    "start_time": "2023-10-05T13:41:17.984Z"
   },
   {
    "duration": 354,
    "start_time": "2023-10-05T13:41:19.228Z"
   },
   {
    "duration": 4,
    "start_time": "2023-10-05T13:43:06.414Z"
   },
   {
    "duration": 1212,
    "start_time": "2023-10-05T13:43:07.133Z"
   },
   {
    "duration": 152168,
    "start_time": "2023-10-05T13:43:08.347Z"
   },
   {
    "duration": 101,
    "start_time": "2023-10-05T13:50:00.887Z"
   },
   {
    "duration": 66,
    "start_time": "2023-10-05T13:52:09.635Z"
   },
   {
    "duration": 3,
    "start_time": "2023-10-05T13:52:09.702Z"
   },
   {
    "duration": 7,
    "start_time": "2023-10-05T13:52:12.803Z"
   },
   {
    "duration": 7,
    "start_time": "2023-10-05T13:53:52.709Z"
   },
   {
    "duration": 229,
    "start_time": "2023-10-05T13:53:53.512Z"
   },
   {
    "duration": 235,
    "start_time": "2023-10-05T13:54:17.160Z"
   },
   {
    "duration": 58,
    "start_time": "2023-10-05T13:55:12.462Z"
   },
   {
    "duration": 307,
    "start_time": "2023-10-05T13:55:18.407Z"
   },
   {
    "duration": 298,
    "start_time": "2023-10-05T13:56:08.014Z"
   },
   {
    "duration": 4,
    "start_time": "2023-10-05T13:58:37.789Z"
   },
   {
    "duration": 24,
    "start_time": "2023-10-05T13:59:08.934Z"
   },
   {
    "duration": 482,
    "start_time": "2023-10-05T13:59:09.925Z"
   },
   {
    "duration": 12964,
    "start_time": "2023-10-05T13:59:10.409Z"
   },
   {
    "duration": 8,
    "start_time": "2023-10-05T14:04:20.229Z"
   },
   {
    "duration": 4230,
    "start_time": "2023-10-06T04:56:45.988Z"
   },
   {
    "duration": 3428,
    "start_time": "2023-10-06T04:56:50.221Z"
   },
   {
    "duration": 2814,
    "start_time": "2023-10-06T04:56:53.651Z"
   },
   {
    "duration": 4,
    "start_time": "2023-10-06T04:56:56.467Z"
   },
   {
    "duration": 11272,
    "start_time": "2023-10-06T04:56:56.472Z"
   },
   {
    "duration": 242,
    "start_time": "2023-10-06T04:57:07.745Z"
   },
   {
    "duration": 13,
    "start_time": "2023-10-06T04:57:07.990Z"
   },
   {
    "duration": 48,
    "start_time": "2023-10-06T04:57:08.005Z"
   },
   {
    "duration": 30,
    "start_time": "2023-10-06T04:57:08.056Z"
   },
   {
    "duration": 62,
    "start_time": "2023-10-06T04:57:08.089Z"
   },
   {
    "duration": 21,
    "start_time": "2023-10-06T04:57:08.154Z"
   },
   {
    "duration": 42,
    "start_time": "2023-10-06T04:57:08.177Z"
   },
   {
    "duration": 10,
    "start_time": "2023-10-06T04:57:08.221Z"
   },
   {
    "duration": 447,
    "start_time": "2023-10-06T04:57:08.233Z"
   },
   {
    "duration": 172,
    "start_time": "2023-10-06T04:57:08.681Z"
   },
   {
    "duration": 245,
    "start_time": "2023-10-06T04:57:08.854Z"
   },
   {
    "duration": 229,
    "start_time": "2023-10-06T04:57:09.101Z"
   },
   {
    "duration": 217,
    "start_time": "2023-10-06T04:57:09.332Z"
   },
   {
    "duration": 458,
    "start_time": "2023-10-06T04:57:09.551Z"
   },
   {
    "duration": 14,
    "start_time": "2023-10-06T04:57:10.016Z"
   },
   {
    "duration": 6587,
    "start_time": "2023-10-06T04:57:10.033Z"
   },
   {
    "duration": 9,
    "start_time": "2023-10-06T04:57:16.622Z"
   },
   {
    "duration": 843,
    "start_time": "2023-10-06T04:57:16.632Z"
   },
   {
    "duration": 308,
    "start_time": "2023-10-06T04:57:17.476Z"
   },
   {
    "duration": 394,
    "start_time": "2023-10-06T04:57:17.786Z"
   },
   {
    "duration": 271,
    "start_time": "2023-10-06T04:57:18.181Z"
   },
   {
    "duration": 336,
    "start_time": "2023-10-06T04:57:18.454Z"
   },
   {
    "duration": 366,
    "start_time": "2023-10-06T04:57:18.807Z"
   },
   {
    "duration": 4,
    "start_time": "2023-10-06T04:57:19.176Z"
   },
   {
    "duration": 13936,
    "start_time": "2023-10-06T04:57:19.182Z"
   },
   {
    "duration": 537,
    "start_time": "2023-10-06T04:57:33.120Z"
   },
   {
    "duration": 126,
    "start_time": "2023-10-06T04:57:33.658Z"
   },
   {
    "duration": 24,
    "start_time": "2023-10-06T04:57:33.786Z"
   },
   {
    "duration": 51,
    "start_time": "2023-10-06T04:57:33.820Z"
   },
   {
    "duration": 551,
    "start_time": "2023-10-06T04:57:33.873Z"
   },
   {
    "duration": 50,
    "start_time": "2023-10-06T04:57:34.426Z"
   },
   {
    "duration": 159,
    "start_time": "2023-10-06T04:57:34.478Z"
   },
   {
    "duration": 120,
    "start_time": "2023-10-06T04:57:34.640Z"
   },
   {
    "duration": 1589,
    "start_time": "2023-10-06T04:57:34.762Z"
   },
   {
    "duration": 230,
    "start_time": "2023-10-06T04:57:36.353Z"
   },
   {
    "duration": 201,
    "start_time": "2023-10-06T04:57:36.586Z"
   },
   {
    "duration": 123,
    "start_time": "2023-10-06T04:57:36.788Z"
   },
   {
    "duration": 7,
    "start_time": "2023-10-06T04:57:36.914Z"
   },
   {
    "duration": 26,
    "start_time": "2023-10-06T04:57:36.922Z"
   },
   {
    "duration": 13,
    "start_time": "2023-10-06T04:57:36.949Z"
   },
   {
    "duration": 2837,
    "start_time": "2023-10-06T05:02:04.145Z"
   },
   {
    "duration": 2633,
    "start_time": "2023-10-06T05:02:06.985Z"
   },
   {
    "duration": 2801,
    "start_time": "2023-10-06T05:02:09.620Z"
   },
   {
    "duration": 5,
    "start_time": "2023-10-06T05:02:12.425Z"
   },
   {
    "duration": 13380,
    "start_time": "2023-10-06T05:02:12.432Z"
   },
   {
    "duration": 228,
    "start_time": "2023-10-06T05:02:25.814Z"
   },
   {
    "duration": 13,
    "start_time": "2023-10-06T05:02:26.044Z"
   },
   {
    "duration": 170,
    "start_time": "2023-10-06T05:02:26.058Z"
   },
   {
    "duration": 31,
    "start_time": "2023-10-06T05:02:26.230Z"
   },
   {
    "duration": 63,
    "start_time": "2023-10-06T05:02:26.265Z"
   },
   {
    "duration": 13,
    "start_time": "2023-10-06T05:02:26.330Z"
   },
   {
    "duration": 104,
    "start_time": "2023-10-06T05:02:26.345Z"
   },
   {
    "duration": 18,
    "start_time": "2023-10-06T05:02:26.450Z"
   },
   {
    "duration": 442,
    "start_time": "2023-10-06T05:02:26.469Z"
   },
   {
    "duration": 167,
    "start_time": "2023-10-06T05:02:26.915Z"
   },
   {
    "duration": 236,
    "start_time": "2023-10-06T05:02:27.084Z"
   },
   {
    "duration": 210,
    "start_time": "2023-10-06T05:02:27.321Z"
   },
   {
    "duration": 205,
    "start_time": "2023-10-06T05:02:27.533Z"
   },
   {
    "duration": 439,
    "start_time": "2023-10-06T05:02:27.740Z"
   },
   {
    "duration": 9,
    "start_time": "2023-10-06T05:02:28.181Z"
   },
   {
    "duration": 6244,
    "start_time": "2023-10-06T05:02:28.192Z"
   },
   {
    "duration": 9,
    "start_time": "2023-10-06T05:02:34.438Z"
   },
   {
    "duration": 950,
    "start_time": "2023-10-06T05:02:34.449Z"
   },
   {
    "duration": 328,
    "start_time": "2023-10-06T05:02:35.401Z"
   },
   {
    "duration": 415,
    "start_time": "2023-10-06T05:02:35.731Z"
   },
   {
    "duration": 276,
    "start_time": "2023-10-06T05:02:36.148Z"
   },
   {
    "duration": 344,
    "start_time": "2023-10-06T05:02:36.426Z"
   },
   {
    "duration": 359,
    "start_time": "2023-10-06T05:02:36.774Z"
   },
   {
    "duration": 6,
    "start_time": "2023-10-06T05:02:37.135Z"
   },
   {
    "duration": 16495,
    "start_time": "2023-10-06T05:02:37.142Z"
   },
   {
    "duration": 540,
    "start_time": "2023-10-06T05:02:53.640Z"
   },
   {
    "duration": 163,
    "start_time": "2023-10-06T05:02:54.181Z"
   },
   {
    "duration": 13,
    "start_time": "2023-10-06T05:02:54.346Z"
   },
   {
    "duration": 65,
    "start_time": "2023-10-06T05:02:54.362Z"
   },
   {
    "duration": 720,
    "start_time": "2023-10-06T05:02:54.429Z"
   },
   {
    "duration": 64,
    "start_time": "2023-10-06T05:02:55.151Z"
   },
   {
    "duration": 143,
    "start_time": "2023-10-06T05:02:55.218Z"
   },
   {
    "duration": 97,
    "start_time": "2023-10-06T05:02:55.363Z"
   },
   {
    "duration": 1265,
    "start_time": "2023-10-06T05:02:55.463Z"
   },
   {
    "duration": 199,
    "start_time": "2023-10-06T05:02:56.730Z"
   },
   {
    "duration": 206,
    "start_time": "2023-10-06T05:02:56.931Z"
   },
   {
    "duration": 140,
    "start_time": "2023-10-06T05:02:57.139Z"
   },
   {
    "duration": 202,
    "start_time": "2023-10-06T05:02:57.281Z"
   },
   {
    "duration": 318,
    "start_time": "2023-10-06T05:02:57.485Z"
   },
   {
    "duration": 19,
    "start_time": "2023-10-06T05:02:57.812Z"
   },
   {
    "duration": 3431,
    "start_time": "2023-10-06T05:02:57.833Z"
   },
   {
    "duration": 0,
    "start_time": "2023-10-06T05:03:01.266Z"
   },
   {
    "duration": 0,
    "start_time": "2023-10-06T05:03:01.267Z"
   },
   {
    "duration": 0,
    "start_time": "2023-10-06T05:03:01.268Z"
   },
   {
    "duration": 0,
    "start_time": "2023-10-06T05:03:01.269Z"
   },
   {
    "duration": 0,
    "start_time": "2023-10-06T05:03:01.271Z"
   },
   {
    "duration": 0,
    "start_time": "2023-10-06T05:03:01.272Z"
   },
   {
    "duration": 0,
    "start_time": "2023-10-06T05:03:01.273Z"
   },
   {
    "duration": 0,
    "start_time": "2023-10-06T05:03:01.274Z"
   },
   {
    "duration": 0,
    "start_time": "2023-10-06T05:03:01.275Z"
   },
   {
    "duration": 0,
    "start_time": "2023-10-06T05:03:01.276Z"
   },
   {
    "duration": 0,
    "start_time": "2023-10-06T05:03:01.278Z"
   },
   {
    "duration": 0,
    "start_time": "2023-10-06T05:03:01.278Z"
   },
   {
    "duration": 0,
    "start_time": "2023-10-06T05:03:01.279Z"
   },
   {
    "duration": 0,
    "start_time": "2023-10-06T05:03:01.301Z"
   },
   {
    "duration": 0,
    "start_time": "2023-10-06T05:03:01.302Z"
   },
   {
    "duration": 0,
    "start_time": "2023-10-06T05:03:01.305Z"
   },
   {
    "duration": 0,
    "start_time": "2023-10-06T05:03:01.306Z"
   },
   {
    "duration": 0,
    "start_time": "2023-10-06T05:03:01.307Z"
   },
   {
    "duration": 0,
    "start_time": "2023-10-06T05:03:01.308Z"
   },
   {
    "duration": 0,
    "start_time": "2023-10-06T05:03:01.310Z"
   },
   {
    "duration": 0,
    "start_time": "2023-10-06T05:03:01.312Z"
   },
   {
    "duration": 0,
    "start_time": "2023-10-06T05:03:01.313Z"
   },
   {
    "duration": 0,
    "start_time": "2023-10-06T05:03:01.315Z"
   },
   {
    "duration": 0,
    "start_time": "2023-10-06T05:03:01.316Z"
   },
   {
    "duration": 0,
    "start_time": "2023-10-06T05:03:01.317Z"
   },
   {
    "duration": 0,
    "start_time": "2023-10-06T05:03:01.319Z"
   },
   {
    "duration": 0,
    "start_time": "2023-10-06T05:03:01.320Z"
   },
   {
    "duration": 0,
    "start_time": "2023-10-06T05:03:01.322Z"
   },
   {
    "duration": 0,
    "start_time": "2023-10-06T05:03:01.323Z"
   },
   {
    "duration": 0,
    "start_time": "2023-10-06T05:03:01.325Z"
   },
   {
    "duration": 0,
    "start_time": "2023-10-06T05:03:01.326Z"
   },
   {
    "duration": 0,
    "start_time": "2023-10-06T05:03:01.327Z"
   },
   {
    "duration": 0,
    "start_time": "2023-10-06T05:03:01.329Z"
   },
   {
    "duration": 0,
    "start_time": "2023-10-06T05:03:01.330Z"
   },
   {
    "duration": 0,
    "start_time": "2023-10-06T05:03:01.331Z"
   },
   {
    "duration": 51,
    "start_time": "2023-10-06T05:04:54.495Z"
   },
   {
    "duration": 4362,
    "start_time": "2023-10-06T07:10:13.805Z"
   },
   {
    "duration": 3385,
    "start_time": "2023-10-06T07:10:18.171Z"
   },
   {
    "duration": 2856,
    "start_time": "2023-10-06T07:10:21.558Z"
   },
   {
    "duration": 4,
    "start_time": "2023-10-06T07:10:24.416Z"
   },
   {
    "duration": 13970,
    "start_time": "2023-10-06T07:10:24.421Z"
   },
   {
    "duration": 250,
    "start_time": "2023-10-06T07:10:38.393Z"
   },
   {
    "duration": 12,
    "start_time": "2023-10-06T07:10:38.645Z"
   },
   {
    "duration": 81,
    "start_time": "2023-10-06T07:10:38.659Z"
   },
   {
    "duration": 42,
    "start_time": "2023-10-06T07:10:38.742Z"
   },
   {
    "duration": 69,
    "start_time": "2023-10-06T07:10:38.789Z"
   },
   {
    "duration": 15,
    "start_time": "2023-10-06T07:10:38.860Z"
   },
   {
    "duration": 50,
    "start_time": "2023-10-06T07:10:38.877Z"
   },
   {
    "duration": 11,
    "start_time": "2023-10-06T07:10:38.930Z"
   },
   {
    "duration": 490,
    "start_time": "2023-10-06T07:10:38.943Z"
   },
   {
    "duration": 179,
    "start_time": "2023-10-06T07:10:39.435Z"
   },
   {
    "duration": 251,
    "start_time": "2023-10-06T07:10:39.616Z"
   },
   {
    "duration": 235,
    "start_time": "2023-10-06T07:10:39.870Z"
   },
   {
    "duration": 227,
    "start_time": "2023-10-06T07:10:40.107Z"
   },
   {
    "duration": 484,
    "start_time": "2023-10-06T07:10:40.336Z"
   },
   {
    "duration": 9,
    "start_time": "2023-10-06T07:10:40.821Z"
   },
   {
    "duration": 6325,
    "start_time": "2023-10-06T07:10:40.832Z"
   },
   {
    "duration": 12,
    "start_time": "2023-10-06T07:10:47.159Z"
   },
   {
    "duration": 843,
    "start_time": "2023-10-06T07:10:47.174Z"
   },
   {
    "duration": 372,
    "start_time": "2023-10-06T07:10:48.019Z"
   },
   {
    "duration": 365,
    "start_time": "2023-10-06T07:10:48.393Z"
   },
   {
    "duration": 275,
    "start_time": "2023-10-06T07:10:48.761Z"
   },
   {
    "duration": 348,
    "start_time": "2023-10-06T07:10:49.038Z"
   },
   {
    "duration": 363,
    "start_time": "2023-10-06T07:10:49.392Z"
   },
   {
    "duration": 4,
    "start_time": "2023-10-06T07:10:49.757Z"
   },
   {
    "duration": 15481,
    "start_time": "2023-10-06T07:10:49.762Z"
   },
   {
    "duration": 525,
    "start_time": "2023-10-06T07:11:05.247Z"
   },
   {
    "duration": 118,
    "start_time": "2023-10-06T07:11:05.774Z"
   },
   {
    "duration": 29,
    "start_time": "2023-10-06T07:11:05.894Z"
   },
   {
    "duration": 64,
    "start_time": "2023-10-06T07:11:05.925Z"
   },
   {
    "duration": 484,
    "start_time": "2023-10-06T07:11:05.991Z"
   },
   {
    "duration": 47,
    "start_time": "2023-10-06T07:11:06.477Z"
   },
   {
    "duration": 134,
    "start_time": "2023-10-06T07:11:06.526Z"
   },
   {
    "duration": 141,
    "start_time": "2023-10-06T07:11:06.662Z"
   },
   {
    "duration": 1196,
    "start_time": "2023-10-06T07:11:06.805Z"
   },
   {
    "duration": 188,
    "start_time": "2023-10-06T07:11:08.003Z"
   },
   {
    "duration": 193,
    "start_time": "2023-10-06T07:11:08.193Z"
   },
   {
    "duration": 122,
    "start_time": "2023-10-06T07:11:08.388Z"
   },
   {
    "duration": 3,
    "start_time": "2023-10-06T07:11:08.512Z"
   },
   {
    "duration": 38,
    "start_time": "2023-10-06T07:11:08.517Z"
   },
   {
    "duration": 39,
    "start_time": "2023-10-06T07:11:08.557Z"
   },
   {
    "duration": 504086,
    "start_time": "2023-10-06T07:11:08.598Z"
   },
   {
    "duration": 261882,
    "start_time": "2023-10-06T07:19:32.686Z"
   },
   {
    "duration": 757932,
    "start_time": "2023-10-06T07:23:54.569Z"
   },
   {
    "duration": 5,
    "start_time": "2023-10-06T07:36:32.503Z"
   },
   {
    "duration": 232675,
    "start_time": "2023-10-06T07:36:32.510Z"
   },
   {
    "duration": 5,
    "start_time": "2023-10-06T07:40:25.188Z"
   },
   {
    "duration": 46276,
    "start_time": "2023-10-06T07:40:25.195Z"
   },
   {
    "duration": 4,
    "start_time": "2023-10-06T07:41:11.473Z"
   },
   {
    "duration": 326,
    "start_time": "2023-10-06T07:41:11.479Z"
   },
   {
    "duration": 4,
    "start_time": "2023-10-06T07:41:11.807Z"
   },
   {
    "duration": 15329,
    "start_time": "2023-10-06T07:41:11.812Z"
   },
   {
    "duration": 3,
    "start_time": "2023-10-06T07:41:27.147Z"
   },
   {
    "duration": 26,
    "start_time": "2023-10-06T07:41:27.151Z"
   },
   {
    "duration": 31,
    "start_time": "2023-10-06T07:41:27.180Z"
   },
   {
    "duration": 496748,
    "start_time": "2023-10-06T07:41:27.213Z"
   },
   {
    "duration": 3,
    "start_time": "2023-10-06T07:49:43.965Z"
   },
   {
    "duration": 133,
    "start_time": "2023-10-06T07:49:43.970Z"
   },
   {
    "duration": 766,
    "start_time": "2023-10-06T07:49:44.106Z"
   },
   {
    "duration": 159,
    "start_time": "2023-10-06T07:49:44.874Z"
   },
   {
    "duration": 41,
    "start_time": "2023-10-06T07:49:45.035Z"
   },
   {
    "duration": 4,
    "start_time": "2023-10-06T07:49:45.078Z"
   },
   {
    "duration": 230,
    "start_time": "2023-10-06T07:49:45.083Z"
   },
   {
    "duration": 0,
    "start_time": "2023-10-06T07:49:45.316Z"
   },
   {
    "duration": 0,
    "start_time": "2023-10-06T07:49:45.320Z"
   },
   {
    "duration": 0,
    "start_time": "2023-10-06T07:49:45.322Z"
   },
   {
    "duration": 0,
    "start_time": "2023-10-06T07:49:45.323Z"
   },
   {
    "duration": 0,
    "start_time": "2023-10-06T07:49:45.324Z"
   },
   {
    "duration": 0,
    "start_time": "2023-10-06T07:49:45.326Z"
   },
   {
    "duration": 0,
    "start_time": "2023-10-06T07:49:45.327Z"
   },
   {
    "duration": 0,
    "start_time": "2023-10-06T07:49:45.328Z"
   },
   {
    "duration": 0,
    "start_time": "2023-10-06T07:49:45.330Z"
   },
   {
    "duration": 0,
    "start_time": "2023-10-06T07:49:45.347Z"
   },
   {
    "duration": 0,
    "start_time": "2023-10-06T07:49:45.349Z"
   },
   {
    "duration": 0,
    "start_time": "2023-10-06T07:49:45.350Z"
   },
   {
    "duration": 0,
    "start_time": "2023-10-06T07:49:45.352Z"
   },
   {
    "duration": 210,
    "start_time": "2023-10-06T07:51:29.502Z"
   },
   {
    "duration": 15,
    "start_time": "2023-10-06T07:51:31.781Z"
   },
   {
    "duration": 156,
    "start_time": "2023-10-06T07:51:40.487Z"
   },
   {
    "duration": 173,
    "start_time": "2023-10-06T07:55:05.040Z"
   },
   {
    "duration": 11,
    "start_time": "2023-10-06T07:57:28.954Z"
   },
   {
    "duration": 11,
    "start_time": "2023-10-06T07:57:39.562Z"
   },
   {
    "duration": 52,
    "start_time": "2023-10-06T07:57:49.984Z"
   },
   {
    "duration": 170,
    "start_time": "2023-10-06T07:58:02.291Z"
   },
   {
    "duration": 144,
    "start_time": "2023-10-06T07:59:38.065Z"
   },
   {
    "duration": 16,
    "start_time": "2023-10-06T07:59:51.194Z"
   },
   {
    "duration": 4,
    "start_time": "2023-10-06T08:00:07.849Z"
   },
   {
    "duration": 3,
    "start_time": "2023-10-06T08:05:16.899Z"
   },
   {
    "duration": 158,
    "start_time": "2023-10-06T08:05:19.763Z"
   },
   {
    "duration": 10,
    "start_time": "2023-10-06T08:09:36.133Z"
   },
   {
    "duration": 13,
    "start_time": "2023-10-06T08:09:44.740Z"
   },
   {
    "duration": 11,
    "start_time": "2023-10-06T08:10:56.654Z"
   },
   {
    "duration": 329,
    "start_time": "2023-10-06T08:11:07.222Z"
   },
   {
    "duration": 49,
    "start_time": "2023-12-14T04:24:17.848Z"
   },
   {
    "duration": 2039,
    "start_time": "2023-12-14T04:24:22.031Z"
   },
   {
    "duration": 9,
    "start_time": "2023-12-14T04:24:26.567Z"
   },
   {
    "duration": 3738,
    "start_time": "2023-12-14T04:34:59.562Z"
   },
   {
    "duration": 3022,
    "start_time": "2023-12-14T04:35:03.302Z"
   },
   {
    "duration": 275,
    "start_time": "2023-12-14T04:35:06.326Z"
   },
   {
    "duration": 3,
    "start_time": "2023-12-14T04:35:06.603Z"
   },
   {
    "duration": 8617,
    "start_time": "2023-12-14T04:35:06.607Z"
   },
   {
    "duration": 216,
    "start_time": "2023-12-14T04:35:15.226Z"
   },
   {
    "duration": 37,
    "start_time": "2023-12-14T04:37:52.380Z"
   },
   {
    "duration": 10,
    "start_time": "2023-12-14T04:37:53.835Z"
   },
   {
    "duration": 38,
    "start_time": "2023-12-14T04:37:54.818Z"
   },
   {
    "duration": 19,
    "start_time": "2023-12-14T04:37:55.499Z"
   },
   {
    "duration": 36,
    "start_time": "2023-12-14T04:37:56.535Z"
   },
   {
    "duration": 11,
    "start_time": "2023-12-14T04:37:57.189Z"
   }
  ],
  "kernelspec": {
   "display_name": "Python 3 (ipykernel)",
   "language": "python",
   "name": "python3"
  },
  "language_info": {
   "codemirror_mode": {
    "name": "ipython",
    "version": 3
   },
   "file_extension": ".py",
   "mimetype": "text/x-python",
   "name": "python",
   "nbconvert_exporter": "python",
   "pygments_lexer": "ipython3",
   "version": "3.11.5"
  },
  "toc": {
   "base_numbering": 1,
   "nav_menu": {},
   "number_sections": false,
   "sideBar": true,
   "skip_h1_title": false,
   "title_cell": "Table of Contents",
   "title_sidebar": "Contents",
   "toc_cell": false,
   "toc_position": {},
   "toc_section_display": true,
   "toc_window_display": false
  },
  "varInspector": {
   "cols": {
    "lenName": 16,
    "lenType": 16,
    "lenVar": 40
   },
   "kernels_config": {
    "python": {
     "delete_cmd_postfix": "",
     "delete_cmd_prefix": "del ",
     "library": "var_list.py",
     "varRefreshCmd": "print(var_dic_list())"
    },
    "r": {
     "delete_cmd_postfix": ") ",
     "delete_cmd_prefix": "rm(",
     "library": "var_list.r",
     "varRefreshCmd": "cat(var_dic_list()) "
    }
   },
   "types_to_exclude": [
    "module",
    "function",
    "builtin_function_or_method",
    "instance",
    "_Feature"
   ],
   "window_display": false
  }
 },
 "nbformat": 4,
 "nbformat_minor": 5
}
