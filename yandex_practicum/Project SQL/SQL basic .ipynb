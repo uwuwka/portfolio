{
 "cells": [
  {
   "cell_type": "markdown",
   "metadata": {
    "id": "sRW85nPMDWKb"
   },
   "source": [
    "Необходимые данные находятся в таблицах схемы `stackoverflow`. Не забудьте подключиться к базе с помощью SQLAlchemy."
   ]
  },
  {
   "cell_type": "code",
   "execution_count": 1,
   "metadata": {
    "id": "nlZBlglMDWKe"
   },
   "outputs": [],
   "source": [
    "import pandas as pd\n",
    "import matplotlib.pyplot as plt\n",
    "from sqlalchemy import create_engine \n",
    "import seaborn as sns"
   ]
  },
  {
   "cell_type": "markdown",
   "metadata": {
    "id": "XnOE3n28DWKg"
   },
   "source": [
    "### Конфигурация для подключения к базе данных `data-analyst-advanced-sql`\n",
    "Эта база данных содержит схему `stackoverflow`, с которой вы будете работать в проекте"
   ]
  },
  {
   "cell_type": "code",
   "execution_count": 2,
   "metadata": {
    "id": "6p-yGp7qDWKg"
   },
   "outputs": [],
   "source": [
    "db_config = {\n",
    "    'user': 'praktikum_student', # имя пользователя\n",
    "    'pwd': '111', # пароль\n",
    "    'host': '111',\n",
    "    'port': 111, # порт подключения\n",
    "    'db': 'data-analyst-advanced-sql' # название базы данных\n",
    "}  \n",
    "\n",
    "connection_string = 'postgresql://{}:{}@{}:{}/{}'.format(\n",
    "    db_config['user'],\n",
    "    db_config['pwd'],\n",
    "    db_config['host'],\n",
    "    db_config['port'],\n",
    "    db_config['db'],\n",
    ")"
   ]
  },
  {
   "cell_type": "markdown",
   "metadata": {
    "id": "2Rg8ZpS0DWKh"
   },
   "source": [
    "Создание подключения"
   ]
  },
  {
   "cell_type": "code",
   "execution_count": 3,
   "metadata": {
    "id": "DamCUTR6DWKi"
   },
   "outputs": [],
   "source": [
    "engine = create_engine(connection_string) "
   ]
  },
  {
   "cell_type": "code",
   "execution_count": 4,
   "metadata": {
    "id": "6Z_fw0yLDWKk"
   },
   "outputs": [],
   "source": [
    "query = '''\n",
    "SELECT *\n",
    "FROM stackoverflow.users\n",
    "LIMIT 10;\n",
    "'''\n",
    "\n",
    "sample_df = pd.read_sql_query(query, con=engine) "
   ]
  },
  {
   "cell_type": "code",
   "execution_count": 5,
   "metadata": {
    "id": "ZpuZ290oDWKk",
    "outputId": "22785a0a-e2bc-4559-ec3c-4879c4b377eb"
   },
   "outputs": [
    {
     "data": {
      "text/html": [
       "<div>\n",
       "<style scoped>\n",
       "    .dataframe tbody tr th:only-of-type {\n",
       "        vertical-align: middle;\n",
       "    }\n",
       "\n",
       "    .dataframe tbody tr th {\n",
       "        vertical-align: top;\n",
       "    }\n",
       "\n",
       "    .dataframe thead th {\n",
       "        text-align: right;\n",
       "    }\n",
       "</style>\n",
       "<table border=\"1\" class=\"dataframe\">\n",
       "  <thead>\n",
       "    <tr style=\"text-align: right;\">\n",
       "      <th></th>\n",
       "      <th>id</th>\n",
       "      <th>creation_date</th>\n",
       "      <th>display_name</th>\n",
       "      <th>last_access_date</th>\n",
       "      <th>location</th>\n",
       "      <th>reputation</th>\n",
       "      <th>views</th>\n",
       "    </tr>\n",
       "  </thead>\n",
       "  <tbody>\n",
       "    <tr>\n",
       "      <th>0</th>\n",
       "      <td>1</td>\n",
       "      <td>2008-07-31 14:22:31</td>\n",
       "      <td>Jeff Atwood</td>\n",
       "      <td>2018-08-29 02:34:23</td>\n",
       "      <td>El Cerrito, CA</td>\n",
       "      <td>44300</td>\n",
       "      <td>408587</td>\n",
       "    </tr>\n",
       "    <tr>\n",
       "      <th>1</th>\n",
       "      <td>2</td>\n",
       "      <td>2008-07-31 14:22:31</td>\n",
       "      <td>Geoff Dalgas</td>\n",
       "      <td>2018-08-23 17:31:56</td>\n",
       "      <td>Corvallis, OR</td>\n",
       "      <td>3491</td>\n",
       "      <td>23966</td>\n",
       "    </tr>\n",
       "    <tr>\n",
       "      <th>2</th>\n",
       "      <td>3</td>\n",
       "      <td>2008-07-31 14:22:31</td>\n",
       "      <td>Jarrod Dixon</td>\n",
       "      <td>2018-08-30 20:56:24</td>\n",
       "      <td>Raleigh, NC, United States</td>\n",
       "      <td>13418</td>\n",
       "      <td>24396</td>\n",
       "    </tr>\n",
       "    <tr>\n",
       "      <th>3</th>\n",
       "      <td>4</td>\n",
       "      <td>2008-07-31 14:22:31</td>\n",
       "      <td>Joel Spolsky</td>\n",
       "      <td>2018-08-14 22:18:15</td>\n",
       "      <td>New York, NY</td>\n",
       "      <td>28768</td>\n",
       "      <td>73755</td>\n",
       "    </tr>\n",
       "    <tr>\n",
       "      <th>4</th>\n",
       "      <td>5</td>\n",
       "      <td>2008-07-31 14:22:31</td>\n",
       "      <td>Jon Galloway</td>\n",
       "      <td>2018-08-29 16:48:36</td>\n",
       "      <td>San Diego, CA</td>\n",
       "      <td>39172</td>\n",
       "      <td>11700</td>\n",
       "    </tr>\n",
       "    <tr>\n",
       "      <th>5</th>\n",
       "      <td>8</td>\n",
       "      <td>2008-07-31 21:33:24</td>\n",
       "      <td>Eggs McLaren</td>\n",
       "      <td>2018-04-09 02:04:56</td>\n",
       "      <td>None</td>\n",
       "      <td>942</td>\n",
       "      <td>6372</td>\n",
       "    </tr>\n",
       "    <tr>\n",
       "      <th>6</th>\n",
       "      <td>9</td>\n",
       "      <td>2008-07-31 21:35:27</td>\n",
       "      <td>Kevin Dente</td>\n",
       "      <td>2018-08-30 18:18:03</td>\n",
       "      <td>Oakland, CA</td>\n",
       "      <td>14337</td>\n",
       "      <td>4949</td>\n",
       "    </tr>\n",
       "    <tr>\n",
       "      <th>7</th>\n",
       "      <td>11</td>\n",
       "      <td>2008-08-01 00:59:11</td>\n",
       "      <td>Anonymous User</td>\n",
       "      <td>2008-08-01 00:59:11</td>\n",
       "      <td>None</td>\n",
       "      <td>1890</td>\n",
       "      <td>2123</td>\n",
       "    </tr>\n",
       "    <tr>\n",
       "      <th>8</th>\n",
       "      <td>13</td>\n",
       "      <td>2008-08-01 04:18:05</td>\n",
       "      <td>Chris Jester-Young</td>\n",
       "      <td>2018-08-30 02:47:23</td>\n",
       "      <td>Raleigh, NC, United States</td>\n",
       "      <td>177138</td>\n",
       "      <td>35414</td>\n",
       "    </tr>\n",
       "    <tr>\n",
       "      <th>9</th>\n",
       "      <td>17</td>\n",
       "      <td>2008-08-01 12:02:22</td>\n",
       "      <td>Nick Berardi</td>\n",
       "      <td>2018-01-22 01:35:38</td>\n",
       "      <td>Issaquah, WA</td>\n",
       "      <td>44443</td>\n",
       "      <td>4786</td>\n",
       "    </tr>\n",
       "  </tbody>\n",
       "</table>\n",
       "</div>"
      ],
      "text/plain": [
       "   id       creation_date        display_name    last_access_date  \\\n",
       "0   1 2008-07-31 14:22:31         Jeff Atwood 2018-08-29 02:34:23   \n",
       "1   2 2008-07-31 14:22:31        Geoff Dalgas 2018-08-23 17:31:56   \n",
       "2   3 2008-07-31 14:22:31        Jarrod Dixon 2018-08-30 20:56:24   \n",
       "3   4 2008-07-31 14:22:31        Joel Spolsky 2018-08-14 22:18:15   \n",
       "4   5 2008-07-31 14:22:31        Jon Galloway 2018-08-29 16:48:36   \n",
       "5   8 2008-07-31 21:33:24        Eggs McLaren 2018-04-09 02:04:56   \n",
       "6   9 2008-07-31 21:35:27         Kevin Dente 2018-08-30 18:18:03   \n",
       "7  11 2008-08-01 00:59:11      Anonymous User 2008-08-01 00:59:11   \n",
       "8  13 2008-08-01 04:18:05  Chris Jester-Young 2018-08-30 02:47:23   \n",
       "9  17 2008-08-01 12:02:22        Nick Berardi 2018-01-22 01:35:38   \n",
       "\n",
       "                     location  reputation   views  \n",
       "0              El Cerrito, CA       44300  408587  \n",
       "1               Corvallis, OR        3491   23966  \n",
       "2  Raleigh, NC, United States       13418   24396  \n",
       "3                New York, NY       28768   73755  \n",
       "4               San Diego, CA       39172   11700  \n",
       "5                        None         942    6372  \n",
       "6                 Oakland, CA       14337    4949  \n",
       "7                        None        1890    2123  \n",
       "8  Raleigh, NC, United States      177138   35414  \n",
       "9                Issaquah, WA       44443    4786  "
      ]
     },
     "execution_count": 5,
     "metadata": {},
     "output_type": "execute_result"
    }
   ],
   "source": [
    "sample_df"
   ]
  },
  {
   "cell_type": "markdown",
   "metadata": {
    "id": "gnBMXkDBDWKm"
   },
   "source": [
    "# Задание 1"
   ]
  },
  {
   "cell_type": "markdown",
   "metadata": {
    "id": "vHsfOrrNDWKn"
   },
   "source": [
    "Выведите общую сумму просмотров постов за каждый месяц 2008 года. Если данных за какой-либо месяц в базе нет, такой месяц можно пропустить. Результат отсортируйте по убыванию общего количества просмотров."
   ]
  },
  {
   "cell_type": "markdown",
   "metadata": {
    "id": "N5rTgGNmDWKn"
   },
   "source": [
    "| month_date  | total_views |\n",
    "| ------------- | ------------- |\n",
    "| 2008-09-01  | 452928568  |\n",
    "| 2008-10-01  | 365400138  |\n",
    "| ...         | ... |"
   ]
  },
  {
   "cell_type": "code",
   "execution_count": 6,
   "metadata": {
    "id": "eWvykcXTDWKo"
   },
   "outputs": [],
   "source": [
    "# напишите запрос\n",
    "query = '''\n",
    "SELECT DATE_TRUNC('month', creation_date)::date AS month_date,\n",
    "       SUM(views_count ) AS total_views \n",
    "FROM stackoverflow.posts\n",
    "GROUP BY DATE_TRUNC('month', creation_date)\n",
    "ORDER BY SUM(views_count) DESC;\n",
    "'''\n",
    "\n",
    "df= pd.read_sql_query(query, con=engine) # выполните запрос"
   ]
  },
  {
   "cell_type": "markdown",
   "metadata": {
    "id": "I_ZvhOxkDWKp"
   },
   "source": [
    "Проанализируйте итоговую таблицу. Отличаются ли данные за разные месяцы? С чем могут быть связаны отличия?"
   ]
  },
  {
   "cell_type": "code",
   "execution_count": 7,
   "metadata": {
    "id": "luxSj17oDWKq"
   },
   "outputs": [
    {
     "data": {
      "text/html": [
       "<div>\n",
       "<style scoped>\n",
       "    .dataframe tbody tr th:only-of-type {\n",
       "        vertical-align: middle;\n",
       "    }\n",
       "\n",
       "    .dataframe tbody tr th {\n",
       "        vertical-align: top;\n",
       "    }\n",
       "\n",
       "    .dataframe thead th {\n",
       "        text-align: right;\n",
       "    }\n",
       "</style>\n",
       "<table border=\"1\" class=\"dataframe\">\n",
       "  <thead>\n",
       "    <tr style=\"text-align: right;\">\n",
       "      <th></th>\n",
       "      <th>month_date</th>\n",
       "      <th>total_views</th>\n",
       "    </tr>\n",
       "  </thead>\n",
       "  <tbody>\n",
       "    <tr>\n",
       "      <th>0</th>\n",
       "      <td>2008-09-01</td>\n",
       "      <td>452928568</td>\n",
       "    </tr>\n",
       "    <tr>\n",
       "      <th>1</th>\n",
       "      <td>2008-10-01</td>\n",
       "      <td>365400138</td>\n",
       "    </tr>\n",
       "    <tr>\n",
       "      <th>2</th>\n",
       "      <td>2008-11-01</td>\n",
       "      <td>221759651</td>\n",
       "    </tr>\n",
       "    <tr>\n",
       "      <th>3</th>\n",
       "      <td>2008-12-01</td>\n",
       "      <td>197792841</td>\n",
       "    </tr>\n",
       "    <tr>\n",
       "      <th>4</th>\n",
       "      <td>2008-08-01</td>\n",
       "      <td>131367083</td>\n",
       "    </tr>\n",
       "    <tr>\n",
       "      <th>5</th>\n",
       "      <td>2008-07-01</td>\n",
       "      <td>669895</td>\n",
       "    </tr>\n",
       "  </tbody>\n",
       "</table>\n",
       "</div>"
      ],
      "text/plain": [
       "   month_date  total_views\n",
       "0  2008-09-01    452928568\n",
       "1  2008-10-01    365400138\n",
       "2  2008-11-01    221759651\n",
       "3  2008-12-01    197792841\n",
       "4  2008-08-01    131367083\n",
       "5  2008-07-01       669895"
      ]
     },
     "execution_count": 7,
     "metadata": {},
     "output_type": "execute_result"
    }
   ],
   "source": [
    "df"
   ]
  },
  {
   "cell_type": "markdown",
   "metadata": {},
   "source": [
    "в итоговой таблице определенно есть различия просмотров постов по месяцам.В сентябре самое большое количество просмотров постов, к декабрю это значение постепенно снижалось, в августе просмотров было значительно меньше чем в сентябре, а в июле их было аномально мало. Могу предположить, что это связано скаким то обновлением сайта, с появлением новой технологии (нового языка программирования, новой iDE программы и  т.д.), а может все гораздо проще, в летнее время люди уезжали в отпуска, школьники и студенты уходили на каникулы и по этому онлайн на сайте упал, а вмесете с онлайном и число просмотров постов снизилось."
   ]
  },
  {
   "cell_type": "markdown",
   "metadata": {
    "id": "FziIXkn5DWKr"
   },
   "source": [
    "# Задание 2"
   ]
  },
  {
   "cell_type": "markdown",
   "metadata": {
    "id": "fTGESZvYDWKr"
   },
   "source": [
    "Выведите имена самых активных пользователей, которые в первый месяц после регистрации (включая день регистрации) дали больше 100 ответов. Вопросы, которые задавали пользователи, не учитывайте. Для каждого имени пользователя выведите количество уникальных значений `user_id`. Отсортируйте результат по полю с именами в лексикографическом порядке."
   ]
  },
  {
   "cell_type": "markdown",
   "metadata": {
    "id": "W5-tv6Y3DWKs"
   },
   "source": [
    "| display_name | count |\n",
    "| ------------ | ----- |\n",
    "| 1800 INFORMATION | 1 |\n",
    "| Adam Bellaire | 1 |\n",
    "| Adam Davis | 1 |\n",
    "| ... | ... |"
   ]
  },
  {
   "cell_type": "code",
   "execution_count": 8,
   "metadata": {
    "id": "fIO-y-YjDWKt"
   },
   "outputs": [],
   "source": [
    "# напишите запрос\n",
    "query= '''\n",
    "SELECT us.display_name ,\n",
    "       COUNT(DISTINCT p.user_id)\n",
    "FROM stackoverflow.users us\n",
    "JOIN stackoverflow.posts p ON (us.id=p.user_id)\n",
    "JOIN stackoverflow.post_types pt ON(p.post_type_id=pt.id)\n",
    "WHERE pt.type='Answer'\n",
    "  AND p.creation_date::date BETWEEN us.creation_date::date AND us.creation_date::date + INTERVAL '1 month' \n",
    "GROUP BY display_name\n",
    "HAVING COUNT(p.id) > 100\n",
    "ORDER BY display_name asc\n",
    "\n",
    "'''\n",
    "\n",
    "df_1= pd.read_sql_query(query, con=engine)# выполните запрос"
   ]
  },
  {
   "cell_type": "markdown",
   "metadata": {
    "id": "I3Wr82TplKpI"
   },
   "source": [
    "Какие аномалии наблюдаются в данных? О чём они говорят?"
   ]
  },
  {
   "cell_type": "code",
   "execution_count": 9,
   "metadata": {
    "id": "CEIGGQ6ODWKy"
   },
   "outputs": [
    {
     "data": {
      "text/html": [
       "<div>\n",
       "<style scoped>\n",
       "    .dataframe tbody tr th:only-of-type {\n",
       "        vertical-align: middle;\n",
       "    }\n",
       "\n",
       "    .dataframe tbody tr th {\n",
       "        vertical-align: top;\n",
       "    }\n",
       "\n",
       "    .dataframe thead th {\n",
       "        text-align: right;\n",
       "    }\n",
       "</style>\n",
       "<table border=\"1\" class=\"dataframe\">\n",
       "  <thead>\n",
       "    <tr style=\"text-align: right;\">\n",
       "      <th></th>\n",
       "      <th>display_name</th>\n",
       "      <th>count</th>\n",
       "    </tr>\n",
       "  </thead>\n",
       "  <tbody>\n",
       "    <tr>\n",
       "      <th>0</th>\n",
       "      <td>1800 INFORMATION</td>\n",
       "      <td>1</td>\n",
       "    </tr>\n",
       "    <tr>\n",
       "      <th>1</th>\n",
       "      <td>Adam Bellaire</td>\n",
       "      <td>1</td>\n",
       "    </tr>\n",
       "    <tr>\n",
       "      <th>2</th>\n",
       "      <td>Adam Davis</td>\n",
       "      <td>1</td>\n",
       "    </tr>\n",
       "    <tr>\n",
       "      <th>3</th>\n",
       "      <td>Adam Liss</td>\n",
       "      <td>1</td>\n",
       "    </tr>\n",
       "    <tr>\n",
       "      <th>4</th>\n",
       "      <td>Alan</td>\n",
       "      <td>8</td>\n",
       "    </tr>\n",
       "    <tr>\n",
       "      <th>...</th>\n",
       "      <td>...</td>\n",
       "      <td>...</td>\n",
       "    </tr>\n",
       "    <tr>\n",
       "      <th>74</th>\n",
       "      <td>lomaxx</td>\n",
       "      <td>1</td>\n",
       "    </tr>\n",
       "    <tr>\n",
       "      <th>75</th>\n",
       "      <td>mattlant</td>\n",
       "      <td>1</td>\n",
       "    </tr>\n",
       "    <tr>\n",
       "      <th>76</th>\n",
       "      <td>paxdiablo</td>\n",
       "      <td>1</td>\n",
       "    </tr>\n",
       "    <tr>\n",
       "      <th>77</th>\n",
       "      <td>tvanfosson</td>\n",
       "      <td>1</td>\n",
       "    </tr>\n",
       "    <tr>\n",
       "      <th>78</th>\n",
       "      <td>tzot</td>\n",
       "      <td>1</td>\n",
       "    </tr>\n",
       "  </tbody>\n",
       "</table>\n",
       "<p>79 rows × 2 columns</p>\n",
       "</div>"
      ],
      "text/plain": [
       "        display_name  count\n",
       "0   1800 INFORMATION      1\n",
       "1      Adam Bellaire      1\n",
       "2         Adam Davis      1\n",
       "3          Adam Liss      1\n",
       "4               Alan      8\n",
       "..               ...    ...\n",
       "74            lomaxx      1\n",
       "75          mattlant      1\n",
       "76         paxdiablo      1\n",
       "77        tvanfosson      1\n",
       "78              tzot      1\n",
       "\n",
       "[79 rows x 2 columns]"
      ]
     },
     "execution_count": 9,
     "metadata": {},
     "output_type": "execute_result"
    }
   ],
   "source": [
    "df_1# напишите ваш ответ здесь"
   ]
  },
  {
   "cell_type": "markdown",
   "metadata": {},
   "source": [
    "пользователь с ником alan сильно выделяется, он имеет аномально большое значение аж 8 уникальных значений с количеством ответов больше 100. либо он очень активный и сидит на этом сайте 24/7, либо это обычный спамер, возможно бот с рассылками, а возможно это просто 8 отдельных пользователей сидящих на одном аккаунте."
   ]
  },
  {
   "cell_type": "markdown",
   "metadata": {
    "id": "JhM2xXj5DWKu"
   },
   "source": [
    "# Задание 3"
   ]
  },
  {
   "cell_type": "markdown",
   "metadata": {
    "id": "IS6xPqyyDWKu"
   },
   "source": [
    "Выведите количество постов за 2008 год по месяцам. Отберите посты от пользователей, которые зарегистрировались в сентябре 2008 года и сделали хотя бы один пост в декабре того же года. Отсортируйте таблицу по значению месяца по убыванию."
   ]
  },
  {
   "cell_type": "markdown",
   "metadata": {
    "id": "WmjhjV2xDWKv"
   },
   "source": [
    "| month | count |\n",
    "| ------|------ |\n",
    "| 2008-12-01 | 17641 |\n",
    "| 2008-11-01 | 18294 |\n",
    "| ... | ... |"
   ]
  },
  {
   "cell_type": "code",
   "execution_count": 10,
   "metadata": {
    "id": "kVu0FB8WDWKv"
   },
   "outputs": [],
   "source": [
    "# напишите запрос\n",
    "query = '''\n",
    "WITH users AS (SELECT u.id\n",
    "               FROM stackoverflow.posts AS p\n",
    "               JOIN stackoverflow.users AS u ON p.user_id=u.id\n",
    "               WHERE DATE_TRUNC('month', u.creation_date)::date = '2008-09-01' \n",
    "                   AND DATE_TRUNC('month', p.creation_date)::date = '2008-12-01'\n",
    "               GROUP BY u.id\n",
    "               HAVING COUNT(p.id) > 0)\n",
    "\n",
    "SELECT DATE_TRUNC('month', p.creation_date)::date as month,\n",
    "COUNT(p.id)\n",
    "FROM stackoverflow.posts AS p\n",
    "WHERE p.user_id IN (SELECT *\n",
    "                    FROM users)\n",
    "      AND DATE_TRUNC('year', p.creation_date)::date = '2008-01-01'\n",
    "GROUP BY DATE_TRUNC('month', p.creation_date)::date\n",
    "ORDER BY DATE_TRUNC('month', p.creation_date)::date DESC;\n",
    "\n",
    "'''\n",
    "\n",
    "df_2= pd.read_sql_query(query,index_col='month', con=engine)# выполните запрос"
   ]
  },
  {
   "cell_type": "markdown",
   "metadata": {
    "id": "Vnxn9DVHDWKx"
   },
   "source": [
    "Изучите данные: есть ли в них аномалии? Предположите, почему могли появиться аномальные значения."
   ]
  },
  {
   "cell_type": "code",
   "execution_count": 11,
   "metadata": {
    "id": "MMVIz4yMlKpN"
   },
   "outputs": [
    {
     "data": {
      "text/html": [
       "<div>\n",
       "<style scoped>\n",
       "    .dataframe tbody tr th:only-of-type {\n",
       "        vertical-align: middle;\n",
       "    }\n",
       "\n",
       "    .dataframe tbody tr th {\n",
       "        vertical-align: top;\n",
       "    }\n",
       "\n",
       "    .dataframe thead th {\n",
       "        text-align: right;\n",
       "    }\n",
       "</style>\n",
       "<table border=\"1\" class=\"dataframe\">\n",
       "  <thead>\n",
       "    <tr style=\"text-align: right;\">\n",
       "      <th></th>\n",
       "      <th>count</th>\n",
       "    </tr>\n",
       "    <tr>\n",
       "      <th>month</th>\n",
       "      <th></th>\n",
       "    </tr>\n",
       "  </thead>\n",
       "  <tbody>\n",
       "    <tr>\n",
       "      <th>2008-12-01</th>\n",
       "      <td>17641</td>\n",
       "    </tr>\n",
       "    <tr>\n",
       "      <th>2008-11-01</th>\n",
       "      <td>18294</td>\n",
       "    </tr>\n",
       "    <tr>\n",
       "      <th>2008-10-01</th>\n",
       "      <td>27171</td>\n",
       "    </tr>\n",
       "    <tr>\n",
       "      <th>2008-09-01</th>\n",
       "      <td>24870</td>\n",
       "    </tr>\n",
       "    <tr>\n",
       "      <th>2008-08-01</th>\n",
       "      <td>32</td>\n",
       "    </tr>\n",
       "  </tbody>\n",
       "</table>\n",
       "</div>"
      ],
      "text/plain": [
       "            count\n",
       "month            \n",
       "2008-12-01  17641\n",
       "2008-11-01  18294\n",
       "2008-10-01  27171\n",
       "2008-09-01  24870\n",
       "2008-08-01     32"
      ]
     },
     "execution_count": 11,
     "metadata": {},
     "output_type": "execute_result"
    }
   ],
   "source": [
    "df_2"
   ]
  },
  {
   "cell_type": "markdown",
   "metadata": {},
   "source": [
    "в данной таблице были отобраны пользователи зарегестрировавшиеся в сентябре, но каким то образом сюда попали 32 поста оставленные в августе. Могу предположить, что это особенности выполнения sql запроса или же баг системы"
   ]
  },
  {
   "cell_type": "markdown",
   "metadata": {
    "id": "5Pcizm0DDWKz"
   },
   "source": [
    "# Задание 4"
   ]
  },
  {
   "cell_type": "markdown",
   "metadata": {
    "id": "KUZPF6vHDWKz"
   },
   "source": [
    "Используя данные о постах, выведите несколько полей:\n",
    "\n",
    "- идентификатор пользователя, который написал пост;\n",
    "- дата создания поста;\n",
    "- количество просмотров у текущего поста;\n",
    "- сумму просмотров постов автора с накоплением.\n",
    "\n",
    "Данные в таблице должны быть отсортированы по возрастанию идентификаторов пользователей, а данные об одном и том же пользователе — по возрастанию даты создания поста."
   ]
  },
  {
   "cell_type": "markdown",
   "metadata": {
    "id": "ZpsTUVDYDWK0"
   },
   "source": [
    "| user_id | creation_date | views_count | cumulative_count |\n",
    "| ------ | -------------- | ----------- | ---------------- |\n",
    "| 1 | 2008-07-31 23:41:00  | 480476   | 480476  |\n",
    "| 1 | 2008-07-31 23:55:38  | 136033 | 616509  | \n",
    "| 1 | 2008-07-31 23:56:41  | 0 |  616509  |\n",
    "| ... | ... | ... | ... |\n",
    "| 2 | 2008-07-31 23:56:41 | 79087  | 79087 |\n",
    "| 2 | 2008-08-01 05:09:56 | 65443 | 144530 |\n",
    "| ... | ...  | ...  | ...  |"
   ]
  },
  {
   "cell_type": "code",
   "execution_count": 12,
   "metadata": {
    "id": "hDoJhMzfDWK0"
   },
   "outputs": [],
   "source": [
    "# напишите запрос\n",
    "query = '''\n",
    "SELECT user_id,\n",
    "       creation_date,\n",
    "       views_count,\n",
    "       SUM(views_count) OVER (PARTITION BY user_id ORDER BY creation_date) as cumulative_count\n",
    "FROM stackoverflow.posts;\n",
    "\n",
    "'''\n",
    "\n",
    "df_3= pd.read_sql_query(query,index_col='user_id', con=engine)# выполните запрос"
   ]
  },
  {
   "cell_type": "code",
   "execution_count": 13,
   "metadata": {},
   "outputs": [
    {
     "data": {
      "text/html": [
       "<div>\n",
       "<style scoped>\n",
       "    .dataframe tbody tr th:only-of-type {\n",
       "        vertical-align: middle;\n",
       "    }\n",
       "\n",
       "    .dataframe tbody tr th {\n",
       "        vertical-align: top;\n",
       "    }\n",
       "\n",
       "    .dataframe thead th {\n",
       "        text-align: right;\n",
       "    }\n",
       "</style>\n",
       "<table border=\"1\" class=\"dataframe\">\n",
       "  <thead>\n",
       "    <tr style=\"text-align: right;\">\n",
       "      <th></th>\n",
       "      <th>creation_date</th>\n",
       "      <th>views_count</th>\n",
       "      <th>cumulative_count</th>\n",
       "    </tr>\n",
       "    <tr>\n",
       "      <th>user_id</th>\n",
       "      <th></th>\n",
       "      <th></th>\n",
       "      <th></th>\n",
       "    </tr>\n",
       "  </thead>\n",
       "  <tbody>\n",
       "    <tr>\n",
       "      <th>1</th>\n",
       "      <td>2008-07-31 23:41:00</td>\n",
       "      <td>480476</td>\n",
       "      <td>480476</td>\n",
       "    </tr>\n",
       "    <tr>\n",
       "      <th>1</th>\n",
       "      <td>2008-07-31 23:55:38</td>\n",
       "      <td>136033</td>\n",
       "      <td>616509</td>\n",
       "    </tr>\n",
       "    <tr>\n",
       "      <th>1</th>\n",
       "      <td>2008-07-31 23:56:41</td>\n",
       "      <td>0</td>\n",
       "      <td>616509</td>\n",
       "    </tr>\n",
       "    <tr>\n",
       "      <th>1</th>\n",
       "      <td>2008-08-04 02:45:08</td>\n",
       "      <td>0</td>\n",
       "      <td>616509</td>\n",
       "    </tr>\n",
       "    <tr>\n",
       "      <th>1</th>\n",
       "      <td>2008-08-04 04:31:03</td>\n",
       "      <td>0</td>\n",
       "      <td>616509</td>\n",
       "    </tr>\n",
       "    <tr>\n",
       "      <th>...</th>\n",
       "      <td>...</td>\n",
       "      <td>...</td>\n",
       "      <td>...</td>\n",
       "    </tr>\n",
       "    <tr>\n",
       "      <th>5696608</th>\n",
       "      <td>2008-12-23 16:00:37</td>\n",
       "      <td>0</td>\n",
       "      <td>2804</td>\n",
       "    </tr>\n",
       "    <tr>\n",
       "      <th>5696608</th>\n",
       "      <td>2008-12-23 17:35:09</td>\n",
       "      <td>0</td>\n",
       "      <td>2804</td>\n",
       "    </tr>\n",
       "    <tr>\n",
       "      <th>5696608</th>\n",
       "      <td>2008-12-24 01:02:48</td>\n",
       "      <td>0</td>\n",
       "      <td>2804</td>\n",
       "    </tr>\n",
       "    <tr>\n",
       "      <th>5696608</th>\n",
       "      <td>2008-12-30 14:34:45</td>\n",
       "      <td>0</td>\n",
       "      <td>2804</td>\n",
       "    </tr>\n",
       "    <tr>\n",
       "      <th>5696608</th>\n",
       "      <td>2008-12-30 16:32:12</td>\n",
       "      <td>0</td>\n",
       "      <td>2804</td>\n",
       "    </tr>\n",
       "  </tbody>\n",
       "</table>\n",
       "<p>243796 rows × 3 columns</p>\n",
       "</div>"
      ],
      "text/plain": [
       "              creation_date  views_count  cumulative_count\n",
       "user_id                                                   \n",
       "1       2008-07-31 23:41:00       480476            480476\n",
       "1       2008-07-31 23:55:38       136033            616509\n",
       "1       2008-07-31 23:56:41            0            616509\n",
       "1       2008-08-04 02:45:08            0            616509\n",
       "1       2008-08-04 04:31:03            0            616509\n",
       "...                     ...          ...               ...\n",
       "5696608 2008-12-23 16:00:37            0              2804\n",
       "5696608 2008-12-23 17:35:09            0              2804\n",
       "5696608 2008-12-24 01:02:48            0              2804\n",
       "5696608 2008-12-30 14:34:45            0              2804\n",
       "5696608 2008-12-30 16:32:12            0              2804\n",
       "\n",
       "[243796 rows x 3 columns]"
      ]
     },
     "execution_count": 13,
     "metadata": {},
     "output_type": "execute_result"
    }
   ],
   "source": [
    "df_3"
   ]
  },
  {
   "cell_type": "markdown",
   "metadata": {
    "id": "N0kHRHvIDWK2"
   },
   "source": [
    "# Задание 5"
   ]
  },
  {
   "cell_type": "markdown",
   "metadata": {
    "id": "gBgvmPtODWK2"
   },
   "source": [
    "Найдите среднее количество постов пользователей в день за август 2008 года. Отберите данные о пользователях, которые опубликовали больше 120 постов за август. Дни без публикаций не учитывайте. \n",
    "\n",
    "Отсортируйте результат по возрастанию среднего количества постов. Значения можно не округлять."
   ]
  },
  {
   "cell_type": "markdown",
   "metadata": {
    "id": "nfzR08BODWK3"
   },
   "source": [
    "| user_id | avg_daily |\n",
    "| ------- | --------- |\n",
    "| 116     | 4.777778  |\n",
    "| 234     | 5.208333  |\n",
    "| ...     | ... |"
   ]
  },
  {
   "cell_type": "code",
   "execution_count": 14,
   "metadata": {
    "id": "YFyPNz5GDWK3"
   },
   "outputs": [],
   "source": [
    "# напишите запрос\n",
    "query = '''\n",
    "SELECT \n",
    "    user_id ,\n",
    "    COUNT(id)::numeric / COUNT(DISTINCT creation_date::DATE) AS avg_daily\n",
    "FROM stackoverflow.posts\n",
    "WHERE creation_date BETWEEN '2008-08-01' AND '2008-09-01'\n",
    "GROUP BY user_id\n",
    "HAVING COUNT(id) > 120\n",
    "ORDER BY avg_daily ASC;\n",
    "\n",
    "'''\n",
    "\n",
    "df_4= pd.read_sql_query(query,index_col='user_id', con=engine)# выполните запрос"
   ]
  },
  {
   "cell_type": "code",
   "execution_count": 15,
   "metadata": {},
   "outputs": [
    {
     "data": {
      "text/html": [
       "<div>\n",
       "<style scoped>\n",
       "    .dataframe tbody tr th:only-of-type {\n",
       "        vertical-align: middle;\n",
       "    }\n",
       "\n",
       "    .dataframe tbody tr th {\n",
       "        vertical-align: top;\n",
       "    }\n",
       "\n",
       "    .dataframe thead th {\n",
       "        text-align: right;\n",
       "    }\n",
       "</style>\n",
       "<table border=\"1\" class=\"dataframe\">\n",
       "  <thead>\n",
       "    <tr style=\"text-align: right;\">\n",
       "      <th></th>\n",
       "      <th>avg_daily</th>\n",
       "    </tr>\n",
       "    <tr>\n",
       "      <th>user_id</th>\n",
       "      <th></th>\n",
       "    </tr>\n",
       "  </thead>\n",
       "  <tbody>\n",
       "    <tr>\n",
       "      <th>116</th>\n",
       "      <td>4.777778</td>\n",
       "    </tr>\n",
       "    <tr>\n",
       "      <th>234</th>\n",
       "      <td>5.208333</td>\n",
       "    </tr>\n",
       "    <tr>\n",
       "      <th>91</th>\n",
       "      <td>5.681818</td>\n",
       "    </tr>\n",
       "    <tr>\n",
       "      <th>905</th>\n",
       "      <td>7.000000</td>\n",
       "    </tr>\n",
       "    <tr>\n",
       "      <th>383</th>\n",
       "      <td>7.277778</td>\n",
       "    </tr>\n",
       "  </tbody>\n",
       "</table>\n",
       "</div>"
      ],
      "text/plain": [
       "         avg_daily\n",
       "user_id           \n",
       "116       4.777778\n",
       "234       5.208333\n",
       "91        5.681818\n",
       "905       7.000000\n",
       "383       7.277778"
      ]
     },
     "execution_count": 15,
     "metadata": {},
     "output_type": "execute_result"
    }
   ],
   "source": [
    "df_4"
   ]
  },
  {
   "cell_type": "markdown",
   "metadata": {
    "id": "5Gs8kiJvDWK4"
   },
   "source": [
    "<details>\n",
    "\n",
    "<summary>Подсказка</summary>\n",
    "Сначала найдите идентификаторы пользователей, которые написали более 120 постов за август. Используя этот запрос в качестве подзапроса для среза, найдите и сохраните во временную таблицу идентификаторы нужных пользователей, дни августа и количество постов в день. В основном запросе сгруппируйте данные по пользователям и найдите для каждого из них среднее количество постов.\n",
    "</details>"
   ]
  },
  {
   "cell_type": "markdown",
   "metadata": {
    "id": "EQ0dcFH4DWK5"
   },
   "source": [
    "# Задание 6"
   ]
  },
  {
   "cell_type": "markdown",
   "metadata": {
    "id": "c7flfg_hDWK5"
   },
   "source": [
    "Сколько в среднем дней в период с 1 по 7 декабря 2008 года пользователи взаимодействовали с платформой? Для каждого пользователя отберите дни, в которые он или она опубликовали хотя бы один пост. Нужно получить одно целое число — не забудьте округлить результат. "
   ]
  },
  {
   "cell_type": "markdown",
   "metadata": {
    "id": "RC1Ibzm9DWK6"
   },
   "source": [
    "| result |\n",
    "| -----  |\n",
    "| <целое число> |"
   ]
  },
  {
   "cell_type": "code",
   "execution_count": 16,
   "metadata": {
    "id": "kZ7LXTr6DWK6"
   },
   "outputs": [],
   "source": [
    "# напишите запрос\n",
    "query = '''\n",
    "WITH daily_activity AS\n",
    "(SELECT user_id,\n",
    "       COUNT(DISTINCT EXTRACT(DAY FROM creation_date)) AS days_active\n",
    "FROM stackoverflow.posts sp\n",
    "WHERE creation_date::date BETWEEN '2008-12-01' AND '2008-12-07'\n",
    "GROUP BY user_id)\n",
    "SELECT ROUND(AVG(days_active))::int AS result\n",
    "FROM daily_activity\n",
    "'''\n",
    "\n",
    "df_5= pd.read_sql_query(query,index_col='result', con=engine)# выполните запрос"
   ]
  },
  {
   "cell_type": "markdown",
   "metadata": {
    "id": "UJFtNNggDWK7"
   },
   "source": [
    "Проанализируйте итоговую таблицу — какие выводы можно сделать?"
   ]
  },
  {
   "cell_type": "code",
   "execution_count": 17,
   "metadata": {
    "id": "LfUuYz-1DWK8"
   },
   "outputs": [
    {
     "data": {
      "text/html": [
       "<div>\n",
       "<style scoped>\n",
       "    .dataframe tbody tr th:only-of-type {\n",
       "        vertical-align: middle;\n",
       "    }\n",
       "\n",
       "    .dataframe tbody tr th {\n",
       "        vertical-align: top;\n",
       "    }\n",
       "\n",
       "    .dataframe thead th {\n",
       "        text-align: right;\n",
       "    }\n",
       "</style>\n",
       "<table border=\"1\" class=\"dataframe\">\n",
       "  <thead>\n",
       "    <tr style=\"text-align: right;\">\n",
       "      <th></th>\n",
       "    </tr>\n",
       "    <tr>\n",
       "      <th>result</th>\n",
       "    </tr>\n",
       "  </thead>\n",
       "  <tbody>\n",
       "    <tr>\n",
       "      <th>2</th>\n",
       "    </tr>\n",
       "  </tbody>\n",
       "</table>\n",
       "</div>"
      ],
      "text/plain": [
       "Empty DataFrame\n",
       "Columns: []\n",
       "Index: [2]"
      ]
     },
     "execution_count": 17,
     "metadata": {},
     "output_type": "execute_result"
    }
   ],
   "source": [
    "df_5"
   ]
  },
  {
   "cell_type": "markdown",
   "metadata": {},
   "source": [
    "можно сделать вывод, что в преиод с 1 по 7 декабря 2008 года в среднем пользователи публиковали 2 поста в день"
   ]
  },
  {
   "cell_type": "markdown",
   "metadata": {
    "id": "wfOmqmfLDWK8"
   },
   "source": [
    "# Задание 7"
   ]
  },
  {
   "cell_type": "markdown",
   "metadata": {
    "id": "X4ARQimADWK9"
   },
   "source": [
    "Выведите историю активности каждого пользователя в таком виде: идентификатор пользователя, дата публикации поста. Отсортируйте вывод по возрастанию идентификаторов пользователей, а для каждого пользователя — по возрастанию даты публикации.\n",
    "\n",
    "Добавьте в таблицу новое поле: для каждого поста в нём будет указано название месяца предпоследней публикации пользователя относительно текущей. Если такой публикации нет, укажите `NULL`.  Python автоматически поменяет `NULL` на `None`, но дополнительно преобразовывать значения `None` вам не нужно.\n",
    "\n",
    "Посмотрите внимательно на образец таблицы: для первых двух постов предпоследней публикации нет, но, начиная с третьего поста, в новое поле входит нужный месяц. Для следующего пользователя в первые две записи поля `second_last_month` тоже войдёт `NULL`."
   ]
  },
  {
   "cell_type": "markdown",
   "metadata": {
    "id": "IGPjRP01DWK9"
   },
   "source": [
    "| user_id | creation_date | second_last_month |\n",
    "| ------- | ------------- | ----------------- |\n",
    "| 1       | 2008-07-31 23:41:00 | None |\n",
    "| 1       | 2008-07-31 23:55:38 | None |\n",
    "| 1       | 2008-07-31 23:56:41 | July |\n",
    "| 1       | 2008-08-04 02:45:08 | July |\n",
    "| 1       | 2008-08-04 04:31:03 | July |\n",
    "| 1       | 2008-08-04 08:04:42 | August |\n",
    "| ... | ... | ... |"
   ]
  },
  {
   "cell_type": "code",
   "execution_count": 18,
   "metadata": {
    "id": "HzI1vhaMDWK-"
   },
   "outputs": [],
   "source": [
    "# напишите запрос\n",
    "query = '''\n",
    "SELECT\n",
    "    user_id ,\n",
    "    creation_date ,\n",
    "    TO_CHAR(LAG(DATE_TRUNC('month',creation_date)::DATE,2 )\n",
    "    OVER (PARTITION BY user_id ORDER BY creation_date),'month') AS second_last_month\n",
    "FROM stackoverflow.posts\n",
    "ORDER BY user_id ASC, creation_date ASC;\n",
    "'''\n",
    "\n",
    "df_6= pd.read_sql_query(query,index_col='user_id', con=engine)# выполните запрос"
   ]
  },
  {
   "cell_type": "code",
   "execution_count": 19,
   "metadata": {},
   "outputs": [
    {
     "data": {
      "text/html": [
       "<div>\n",
       "<style scoped>\n",
       "    .dataframe tbody tr th:only-of-type {\n",
       "        vertical-align: middle;\n",
       "    }\n",
       "\n",
       "    .dataframe tbody tr th {\n",
       "        vertical-align: top;\n",
       "    }\n",
       "\n",
       "    .dataframe thead th {\n",
       "        text-align: right;\n",
       "    }\n",
       "</style>\n",
       "<table border=\"1\" class=\"dataframe\">\n",
       "  <thead>\n",
       "    <tr style=\"text-align: right;\">\n",
       "      <th></th>\n",
       "      <th>creation_date</th>\n",
       "      <th>second_last_month</th>\n",
       "    </tr>\n",
       "    <tr>\n",
       "      <th>user_id</th>\n",
       "      <th></th>\n",
       "      <th></th>\n",
       "    </tr>\n",
       "  </thead>\n",
       "  <tbody>\n",
       "    <tr>\n",
       "      <th>1</th>\n",
       "      <td>2008-07-31 23:41:00</td>\n",
       "      <td>None</td>\n",
       "    </tr>\n",
       "    <tr>\n",
       "      <th>1</th>\n",
       "      <td>2008-07-31 23:55:38</td>\n",
       "      <td>None</td>\n",
       "    </tr>\n",
       "    <tr>\n",
       "      <th>1</th>\n",
       "      <td>2008-07-31 23:56:41</td>\n",
       "      <td>july</td>\n",
       "    </tr>\n",
       "    <tr>\n",
       "      <th>1</th>\n",
       "      <td>2008-08-04 02:45:08</td>\n",
       "      <td>july</td>\n",
       "    </tr>\n",
       "    <tr>\n",
       "      <th>1</th>\n",
       "      <td>2008-08-04 04:31:03</td>\n",
       "      <td>july</td>\n",
       "    </tr>\n",
       "    <tr>\n",
       "      <th>...</th>\n",
       "      <td>...</td>\n",
       "      <td>...</td>\n",
       "    </tr>\n",
       "    <tr>\n",
       "      <th>5696608</th>\n",
       "      <td>2008-12-23 16:00:37</td>\n",
       "      <td>december</td>\n",
       "    </tr>\n",
       "    <tr>\n",
       "      <th>5696608</th>\n",
       "      <td>2008-12-23 17:35:09</td>\n",
       "      <td>december</td>\n",
       "    </tr>\n",
       "    <tr>\n",
       "      <th>5696608</th>\n",
       "      <td>2008-12-24 01:02:48</td>\n",
       "      <td>december</td>\n",
       "    </tr>\n",
       "    <tr>\n",
       "      <th>5696608</th>\n",
       "      <td>2008-12-30 14:34:45</td>\n",
       "      <td>december</td>\n",
       "    </tr>\n",
       "    <tr>\n",
       "      <th>5696608</th>\n",
       "      <td>2008-12-30 16:32:12</td>\n",
       "      <td>december</td>\n",
       "    </tr>\n",
       "  </tbody>\n",
       "</table>\n",
       "<p>243796 rows × 2 columns</p>\n",
       "</div>"
      ],
      "text/plain": [
       "              creation_date second_last_month\n",
       "user_id                                      \n",
       "1       2008-07-31 23:41:00              None\n",
       "1       2008-07-31 23:55:38              None\n",
       "1       2008-07-31 23:56:41         july     \n",
       "1       2008-08-04 02:45:08         july     \n",
       "1       2008-08-04 04:31:03         july     \n",
       "...                     ...               ...\n",
       "5696608 2008-12-23 16:00:37         december \n",
       "5696608 2008-12-23 17:35:09         december \n",
       "5696608 2008-12-24 01:02:48         december \n",
       "5696608 2008-12-30 14:34:45         december \n",
       "5696608 2008-12-30 16:32:12         december \n",
       "\n",
       "[243796 rows x 2 columns]"
      ]
     },
     "execution_count": 19,
     "metadata": {},
     "output_type": "execute_result"
    }
   ],
   "source": [
    "df_6"
   ]
  },
  {
   "cell_type": "markdown",
   "metadata": {
    "id": "tf9qq2yzDWK_"
   },
   "source": [
    "# Задание 8"
   ]
  },
  {
   "cell_type": "markdown",
   "metadata": {
    "id": "gfwLVXBYDWLA"
   },
   "source": [
    "Рассчитайте аналог Retention Rate по месяцам для пользователей StackOverflow. Объедините пользователей в когорты по месяцу их первого поста. Возвращение определяйте по наличию поста в текущем месяце. "
   ]
  },
  {
   "cell_type": "markdown",
   "metadata": {
    "id": "kN2ic39WlKpl"
   },
   "source": [
    "| cohort_dt | session_date | users_cnt | cohort_users_cnt | retention_rate |\n",
    "| --- | --- | --- | --- | --- |\n",
    "| 2008-07-01 00:00:00 | 2008-07-01 00:00:00 | 3 | 3 | 100 |\n",
    "| 2008-07-01 00:00:00 | 2008-08-01 00:00:00 | 2 | 3 | 66,67 |\n",
    "| 2008-07-01 00:00:00 | 2008-09-01 00:00:00 | 1 | 3 | 33,33 |\n",
    "| 2008-07-01 00:00:00 | 2008-10-01 00:00:00 | 2 | 3 | 66,67 |\n",
    "| 2008-07-01 00:00:00 | 2008-11-01 00:00:00 | 1 | 3 | 33,33 |\n",
    "| 2008-07-01 00:00:00 | 2008-12-01 00:00:00 | 2 | 3 | 66,67 |\n",
    "| 2008-08-01 00:00:00 | 2008-08-01 00:00:00 | 2151 | 2151 | 100 |\n",
    "| ... | ... | ... | ... | ... |"
   ]
  },
  {
   "cell_type": "code",
   "execution_count": 20,
   "metadata": {
    "id": "LUgFmwmTDWLB"
   },
   "outputs": [],
   "source": [
    "# напишите запрос\n",
    "query = '''\n",
    "WITH profile AS (\n",
    "    SELECT\n",
    "        user_id,\n",
    "        DATE_TRUNC('month', MIN(creation_date))::date AS cohort_dt,\n",
    "        COUNT(user_id) OVER (PARTITION BY DATE_TRUNC('month', MIN(creation_date))::date)  as cohort_users_cnt\n",
    "    FROM stackoverflow.posts\n",
    "    GROUP BY user_id\n",
    "),\n",
    "sessions AS (\n",
    "    SELECT\n",
    "        user_id,\n",
    "        DATE_TRUNC('month', creation_date)::date AS activity_month\n",
    "    FROM stackoverflow.posts\n",
    "    WHERE creation_date >= (SELECT MIN(cohort_dt) FROM profile)\n",
    "    GROUP BY user_id, activity_month\n",
    ")\n",
    "SELECT\n",
    "    profile.cohort_dt,\n",
    "    sessions.activity_month,\n",
    "    COUNT(DISTINCT sessions.user_id) as  users_cnt,\n",
    "    cohort_users_cnt,\n",
    "    round((COUNT(DISTINCT sessions.user_id)/ cohort_users_cnt::numeric)*100, 2) AS retention_rate\n",
    "FROM profile\n",
    "LEFT JOIN sessions ON profile.user_id = sessions.user_id\n",
    "GROUP BY profile.cohort_dt, sessions.activity_month,cohort_users_cnt\n",
    "ORDER BY profile.cohort_dt, sessions.activity_month,cohort_users_cnt,users_cnt;\n",
    "'''\n",
    "\n",
    "df_7= pd.read_sql_query(query, con=engine)# выполните запрос"
   ]
  },
  {
   "cell_type": "code",
   "execution_count": 21,
   "metadata": {
    "scrolled": false
   },
   "outputs": [
    {
     "data": {
      "text/html": [
       "<div>\n",
       "<style scoped>\n",
       "    .dataframe tbody tr th:only-of-type {\n",
       "        vertical-align: middle;\n",
       "    }\n",
       "\n",
       "    .dataframe tbody tr th {\n",
       "        vertical-align: top;\n",
       "    }\n",
       "\n",
       "    .dataframe thead th {\n",
       "        text-align: right;\n",
       "    }\n",
       "</style>\n",
       "<table border=\"1\" class=\"dataframe\">\n",
       "  <thead>\n",
       "    <tr style=\"text-align: right;\">\n",
       "      <th></th>\n",
       "      <th>cohort_dt</th>\n",
       "      <th>activity_month</th>\n",
       "      <th>users_cnt</th>\n",
       "      <th>cohort_users_cnt</th>\n",
       "      <th>retention_rate</th>\n",
       "    </tr>\n",
       "  </thead>\n",
       "  <tbody>\n",
       "    <tr>\n",
       "      <th>0</th>\n",
       "      <td>2008-07-01</td>\n",
       "      <td>2008-07-01</td>\n",
       "      <td>3</td>\n",
       "      <td>3</td>\n",
       "      <td>100.00</td>\n",
       "    </tr>\n",
       "    <tr>\n",
       "      <th>1</th>\n",
       "      <td>2008-07-01</td>\n",
       "      <td>2008-08-01</td>\n",
       "      <td>2</td>\n",
       "      <td>3</td>\n",
       "      <td>66.67</td>\n",
       "    </tr>\n",
       "    <tr>\n",
       "      <th>2</th>\n",
       "      <td>2008-07-01</td>\n",
       "      <td>2008-09-01</td>\n",
       "      <td>1</td>\n",
       "      <td>3</td>\n",
       "      <td>33.33</td>\n",
       "    </tr>\n",
       "    <tr>\n",
       "      <th>3</th>\n",
       "      <td>2008-07-01</td>\n",
       "      <td>2008-10-01</td>\n",
       "      <td>2</td>\n",
       "      <td>3</td>\n",
       "      <td>66.67</td>\n",
       "    </tr>\n",
       "    <tr>\n",
       "      <th>4</th>\n",
       "      <td>2008-07-01</td>\n",
       "      <td>2008-11-01</td>\n",
       "      <td>1</td>\n",
       "      <td>3</td>\n",
       "      <td>33.33</td>\n",
       "    </tr>\n",
       "    <tr>\n",
       "      <th>5</th>\n",
       "      <td>2008-07-01</td>\n",
       "      <td>2008-12-01</td>\n",
       "      <td>2</td>\n",
       "      <td>3</td>\n",
       "      <td>66.67</td>\n",
       "    </tr>\n",
       "    <tr>\n",
       "      <th>6</th>\n",
       "      <td>2008-08-01</td>\n",
       "      <td>2008-08-01</td>\n",
       "      <td>2151</td>\n",
       "      <td>2151</td>\n",
       "      <td>100.00</td>\n",
       "    </tr>\n",
       "    <tr>\n",
       "      <th>7</th>\n",
       "      <td>2008-08-01</td>\n",
       "      <td>2008-09-01</td>\n",
       "      <td>1571</td>\n",
       "      <td>2151</td>\n",
       "      <td>73.04</td>\n",
       "    </tr>\n",
       "    <tr>\n",
       "      <th>8</th>\n",
       "      <td>2008-08-01</td>\n",
       "      <td>2008-10-01</td>\n",
       "      <td>1275</td>\n",
       "      <td>2151</td>\n",
       "      <td>59.27</td>\n",
       "    </tr>\n",
       "    <tr>\n",
       "      <th>9</th>\n",
       "      <td>2008-08-01</td>\n",
       "      <td>2008-11-01</td>\n",
       "      <td>1050</td>\n",
       "      <td>2151</td>\n",
       "      <td>48.81</td>\n",
       "    </tr>\n",
       "    <tr>\n",
       "      <th>10</th>\n",
       "      <td>2008-08-01</td>\n",
       "      <td>2008-12-01</td>\n",
       "      <td>894</td>\n",
       "      <td>2151</td>\n",
       "      <td>41.56</td>\n",
       "    </tr>\n",
       "    <tr>\n",
       "      <th>11</th>\n",
       "      <td>2008-09-01</td>\n",
       "      <td>2008-09-01</td>\n",
       "      <td>7678</td>\n",
       "      <td>7678</td>\n",
       "      <td>100.00</td>\n",
       "    </tr>\n",
       "    <tr>\n",
       "      <th>12</th>\n",
       "      <td>2008-09-01</td>\n",
       "      <td>2008-10-01</td>\n",
       "      <td>4132</td>\n",
       "      <td>7678</td>\n",
       "      <td>53.82</td>\n",
       "    </tr>\n",
       "    <tr>\n",
       "      <th>13</th>\n",
       "      <td>2008-09-01</td>\n",
       "      <td>2008-11-01</td>\n",
       "      <td>2966</td>\n",
       "      <td>7678</td>\n",
       "      <td>38.63</td>\n",
       "    </tr>\n",
       "    <tr>\n",
       "      <th>14</th>\n",
       "      <td>2008-09-01</td>\n",
       "      <td>2008-12-01</td>\n",
       "      <td>2500</td>\n",
       "      <td>7678</td>\n",
       "      <td>32.56</td>\n",
       "    </tr>\n",
       "    <tr>\n",
       "      <th>15</th>\n",
       "      <td>2008-10-01</td>\n",
       "      <td>2008-10-01</td>\n",
       "      <td>3629</td>\n",
       "      <td>3629</td>\n",
       "      <td>100.00</td>\n",
       "    </tr>\n",
       "    <tr>\n",
       "      <th>16</th>\n",
       "      <td>2008-10-01</td>\n",
       "      <td>2008-11-01</td>\n",
       "      <td>1640</td>\n",
       "      <td>3629</td>\n",
       "      <td>45.19</td>\n",
       "    </tr>\n",
       "    <tr>\n",
       "      <th>17</th>\n",
       "      <td>2008-10-01</td>\n",
       "      <td>2008-12-01</td>\n",
       "      <td>1221</td>\n",
       "      <td>3629</td>\n",
       "      <td>33.65</td>\n",
       "    </tr>\n",
       "    <tr>\n",
       "      <th>18</th>\n",
       "      <td>2008-11-01</td>\n",
       "      <td>2008-11-01</td>\n",
       "      <td>2852</td>\n",
       "      <td>2852</td>\n",
       "      <td>100.00</td>\n",
       "    </tr>\n",
       "    <tr>\n",
       "      <th>19</th>\n",
       "      <td>2008-11-01</td>\n",
       "      <td>2008-12-01</td>\n",
       "      <td>1151</td>\n",
       "      <td>2852</td>\n",
       "      <td>40.36</td>\n",
       "    </tr>\n",
       "    <tr>\n",
       "      <th>20</th>\n",
       "      <td>2008-12-01</td>\n",
       "      <td>2008-12-01</td>\n",
       "      <td>2536</td>\n",
       "      <td>2536</td>\n",
       "      <td>100.00</td>\n",
       "    </tr>\n",
       "  </tbody>\n",
       "</table>\n",
       "</div>"
      ],
      "text/plain": [
       "     cohort_dt activity_month  users_cnt  cohort_users_cnt  retention_rate\n",
       "0   2008-07-01     2008-07-01          3                 3          100.00\n",
       "1   2008-07-01     2008-08-01          2                 3           66.67\n",
       "2   2008-07-01     2008-09-01          1                 3           33.33\n",
       "3   2008-07-01     2008-10-01          2                 3           66.67\n",
       "4   2008-07-01     2008-11-01          1                 3           33.33\n",
       "5   2008-07-01     2008-12-01          2                 3           66.67\n",
       "6   2008-08-01     2008-08-01       2151              2151          100.00\n",
       "7   2008-08-01     2008-09-01       1571              2151           73.04\n",
       "8   2008-08-01     2008-10-01       1275              2151           59.27\n",
       "9   2008-08-01     2008-11-01       1050              2151           48.81\n",
       "10  2008-08-01     2008-12-01        894              2151           41.56\n",
       "11  2008-09-01     2008-09-01       7678              7678          100.00\n",
       "12  2008-09-01     2008-10-01       4132              7678           53.82\n",
       "13  2008-09-01     2008-11-01       2966              7678           38.63\n",
       "14  2008-09-01     2008-12-01       2500              7678           32.56\n",
       "15  2008-10-01     2008-10-01       3629              3629          100.00\n",
       "16  2008-10-01     2008-11-01       1640              3629           45.19\n",
       "17  2008-10-01     2008-12-01       1221              3629           33.65\n",
       "18  2008-11-01     2008-11-01       2852              2852          100.00\n",
       "19  2008-11-01     2008-12-01       1151              2852           40.36\n",
       "20  2008-12-01     2008-12-01       2536              2536          100.00"
      ]
     },
     "execution_count": 21,
     "metadata": {},
     "output_type": "execute_result"
    }
   ],
   "source": [
    "df_7"
   ]
  },
  {
   "cell_type": "markdown",
   "metadata": {
    "id": "_msBtnb2DWLC"
   },
   "source": [
    "Постройте тепловую карту Retention Rate. Какие аномалии или другие необычные явления удалось выявить? Сформулируйте гипотезы о возможных причинах."
   ]
  },
  {
   "cell_type": "code",
   "execution_count": 22,
   "metadata": {
    "id": "qAEJc8H1DWLC"
   },
   "outputs": [
    {
     "data": {
      "image/png": "[encoded data removed]",
      "text/plain": [
       "<Figure size 720x432 with 2 Axes>"
      ]
     },
     "metadata": {
      "needs_background": "light"
     },
     "output_type": "display_data"
    }
   ],
   "source": [
    "pivot_df = df_7.pivot(\"cohort_dt\", \"activity_month\", \"retention_rate\")\n",
    "plt.figure(figsize=(10, 6))\n",
    "sns.heatmap(pivot_df, annot=True, fmt=\".1f\", cmap=\"YlGnBu\")\n",
    "plt.title(\"Retention Rate Heatmap\")\n",
    "plt.show()"
   ]
  },
  {
   "cell_type": "markdown",
   "metadata": {
    "id": "EgOfIsI4DWLC"
   },
   "source": [
    "с каждым месяцем  Retention Rate падает, но пользователи которые ставили свой первый пост в июлей продолжают быть активными до конца года, чего не скажешь о пользователях которые оставили свои посты в октябре и ноябре.\n",
    "пользователей которые оставили свой первый пост в декабре можно не учитывать т.к. по 1 месяцу нельзя судить о том остался пользователь активным или нет.У всех групп наблюдаеться тенденция к снижению активности, кроме первой группы , где пользователи оставили свой первый пост в июле, эта руппа достаточно активная, но активная месяц через месяц и тенденции к снижению активности у нее не наблюдаеться в отличии от остальных групп.Могу предположить, что это связано с работой этой группы или же тут попалась аномальная выборка из пользователей которые постоянно задают вопросы на stackoverflow."
   ]
  },
  {
   "cell_type": "markdown",
   "metadata": {
    "id": "1k7oPWt5DWLK"
   },
   "source": [
    "# Задание 9\n"
   ]
  },
  {
   "cell_type": "markdown",
   "metadata": {
    "id": "ALsYVSyRDWLM"
   },
   "source": [
    "На сколько процентов менялось количество постов ежемесячно с 1 сентября по 31 декабря 2008 года? Отобразите таблицу со следующими полями:\n",
    "\n",
    "- номер месяца;\n",
    "- количество постов за месяц;\n",
    "- процент, который показывает, насколько изменилось количество постов в текущем месяце по сравнению с предыдущим.\n",
    "\n",
    "Если постов стало меньше, значение процента должно быть отрицательным, если больше — положительным. Округлите значение процента до двух знаков после запятой.\n",
    "\n",
    "Напомним, что при делении одного целого числа на другое в PostgreSQL в результате получится целое число, округлённое до ближайшего целого вниз. Чтобы этого избежать, переведите делимое в тип `numeric`."
   ]
  },
  {
   "cell_type": "markdown",
   "metadata": {
    "id": "u4E2zF8DDWLM"
   },
   "source": [
    "| creation_month | posts_count | percentage |\n",
    "| -------------- | ----------- | ---------- |\n",
    "| 9 | 70731 | Nan |\n",
    "| 10 | 63102 | -10.33 |\n",
    "| ... | ... | ... |"
   ]
  },
  {
   "cell_type": "code",
   "execution_count": 23,
   "metadata": {
    "id": "Mb5pShStDWLN"
   },
   "outputs": [],
   "source": [
    "# напишите запрос\n",
    "query = '''\n",
    "WITH monthly_posts AS (\n",
    "    SELECT\n",
    "        DATE_TRUNC('month', creation_date) AS month,\n",
    "        COUNT(*) AS post_count\n",
    "    FROM stackoverflow.posts\n",
    "    WHERE creation_date >= '2008-09-01' AND creation_date <= '2009-01-01'\n",
    "    GROUP BY month\n",
    ")\n",
    "SELECT\n",
    "    EXTRACT(MONTH FROM month) AS creation_month,\n",
    "    post_count,\n",
    "    ROUND(\n",
    "        (post_count::numeric - LAG(post_count, 1) OVER (ORDER BY month)) / NULLIF(LAG(post_count, 1) OVER (ORDER BY month), 0) * 100, \n",
    "        2\n",
    "    ) AS percentage\n",
    "FROM monthly_posts\n",
    "ORDER BY creation_month;\n",
    "'''\n",
    "\n",
    "df_8= pd.read_sql_query(query, con=engine)# выполните запрос"
   ]
  },
  {
   "cell_type": "markdown",
   "metadata": {
    "id": "9NQE2y_MDWLP"
   },
   "source": [
    "Постройте круговую диаграмму с количеством постов по месяцам."
   ]
  },
  {
   "cell_type": "code",
   "execution_count": 24,
   "metadata": {},
   "outputs": [
    {
     "data": {
      "text/html": [
       "<div>\n",
       "<style scoped>\n",
       "    .dataframe tbody tr th:only-of-type {\n",
       "        vertical-align: middle;\n",
       "    }\n",
       "\n",
       "    .dataframe tbody tr th {\n",
       "        vertical-align: top;\n",
       "    }\n",
       "\n",
       "    .dataframe thead th {\n",
       "        text-align: right;\n",
       "    }\n",
       "</style>\n",
       "<table border=\"1\" class=\"dataframe\">\n",
       "  <thead>\n",
       "    <tr style=\"text-align: right;\">\n",
       "      <th></th>\n",
       "      <th>creation_month</th>\n",
       "      <th>post_count</th>\n",
       "      <th>percentage</th>\n",
       "    </tr>\n",
       "  </thead>\n",
       "  <tbody>\n",
       "    <tr>\n",
       "      <th>0</th>\n",
       "      <td>9.0</td>\n",
       "      <td>70371</td>\n",
       "      <td>NaN</td>\n",
       "    </tr>\n",
       "    <tr>\n",
       "      <th>1</th>\n",
       "      <td>10.0</td>\n",
       "      <td>63102</td>\n",
       "      <td>-10.33</td>\n",
       "    </tr>\n",
       "    <tr>\n",
       "      <th>2</th>\n",
       "      <td>11.0</td>\n",
       "      <td>46975</td>\n",
       "      <td>-25.56</td>\n",
       "    </tr>\n",
       "    <tr>\n",
       "      <th>3</th>\n",
       "      <td>12.0</td>\n",
       "      <td>44592</td>\n",
       "      <td>-5.07</td>\n",
       "    </tr>\n",
       "  </tbody>\n",
       "</table>\n",
       "</div>"
      ],
      "text/plain": [
       "   creation_month  post_count  percentage\n",
       "0             9.0       70371         NaN\n",
       "1            10.0       63102      -10.33\n",
       "2            11.0       46975      -25.56\n",
       "3            12.0       44592       -5.07"
      ]
     },
     "execution_count": 24,
     "metadata": {},
     "output_type": "execute_result"
    }
   ],
   "source": [
    "df_8"
   ]
  },
  {
   "cell_type": "code",
   "execution_count": 25,
   "metadata": {
    "id": "377ABjiVDWLP"
   },
   "outputs": [
    {
     "data": {
      "image/png": "[encoded data removed]",
      "text/plain": [
       "<Figure size 576x432 with 1 Axes>"
      ]
     },
     "metadata": {},
     "output_type": "display_data"
    }
   ],
   "source": [
    "pivot_df = df_8.pivot('creation_month','post_count')\n",
    "months, post_counts = zip(*pivot_df)\n",
    "month_names = [\"Сентябрь\", \"Октябрь\", \"Ноябрь\", \"Декабрь\"]\n",
    "\n",
    "\n",
    "plt.figure(figsize=(8, 6))\n",
    "plt.pie(post_counts, labels=month_names, autopct='%1.1f%%', startangle=140)\n",
    "plt.axis('equal')\n",
    "plt.title('Количество постов по месяцам')\n",
    "plt.show()"
   ]
  },
  {
   "cell_type": "markdown",
   "metadata": {
    "id": "uw7qMtafDWLP"
   },
   "source": [
    "# Задание 10"
   ]
  },
  {
   "cell_type": "markdown",
   "metadata": {
    "id": "oRBpWKx3DWLQ"
   },
   "source": [
    "Выгрузите данные активности пользователя, который опубликовал больше всего постов за всё время. Выведите данные за октябрь 2008 года в таком виде:\n",
    "\n",
    "- номер недели;\n",
    "- дата и время последнего поста, опубликованного на этой неделе."
   ]
  },
  {
   "cell_type": "markdown",
   "metadata": {
    "id": "XjAWSn_3DWLQ"
   },
   "source": [
    "| week_creation | creation_date |\n",
    "| ------------- | ------------- |\n",
    "| 40 | 2008-10-05 09:00:58 |\n",
    "| 41 | 2008-10-12 21:22:23 |\n",
    "| ... | ... |"
   ]
  },
  {
   "cell_type": "code",
   "execution_count": 26,
   "metadata": {
    "id": "r5F5fSkwDWLQ"
   },
   "outputs": [],
   "source": [
    "# напишите запрос\n",
    "query = '''\n",
    "WITH user_post AS (SELECT user_id,\n",
    "                   COUNT(DISTINCT id) AS cnt\n",
    "                   FROM stackoverflow.posts\n",
    "                   GROUP BY user_id\n",
    "                   ORDER BY cnt DESC\n",
    "                   LIMIT 1),\n",
    "\n",
    "     dtt AS (SELECT p.user_id,\n",
    "             p.creation_date,\n",
    "             extract('week' from p.creation_date) AS week_number\n",
    "             FROM stackoverflow.posts AS p\n",
    "             JOIN user_post ON user_post.user_id = p.user_id\n",
    "             WHERE DATE_TRUNC('month', p.creation_date)::date = '2008-10-01')\n",
    "\n",
    "SELECT DISTINCT week_number::numeric,\n",
    "       MAX(creation_date) OVER (PARTITION BY week_number) AS post_dt\n",
    "FROM dtt\n",
    "ORDER BY week_number;\n",
    "'''\n",
    "\n",
    "df_9= pd.read_sql_query(query, con=engine)# выполните запрос"
   ]
  },
  {
   "cell_type": "code",
   "execution_count": 27,
   "metadata": {},
   "outputs": [
    {
     "data": {
      "text/html": [
       "<div>\n",
       "<style scoped>\n",
       "    .dataframe tbody tr th:only-of-type {\n",
       "        vertical-align: middle;\n",
       "    }\n",
       "\n",
       "    .dataframe tbody tr th {\n",
       "        vertical-align: top;\n",
       "    }\n",
       "\n",
       "    .dataframe thead th {\n",
       "        text-align: right;\n",
       "    }\n",
       "</style>\n",
       "<table border=\"1\" class=\"dataframe\">\n",
       "  <thead>\n",
       "    <tr style=\"text-align: right;\">\n",
       "      <th></th>\n",
       "      <th>week_number</th>\n",
       "      <th>post_dt</th>\n",
       "    </tr>\n",
       "  </thead>\n",
       "  <tbody>\n",
       "    <tr>\n",
       "      <th>0</th>\n",
       "      <td>40.0</td>\n",
       "      <td>2008-10-05 09:00:58</td>\n",
       "    </tr>\n",
       "    <tr>\n",
       "      <th>1</th>\n",
       "      <td>41.0</td>\n",
       "      <td>2008-10-12 21:22:23</td>\n",
       "    </tr>\n",
       "    <tr>\n",
       "      <th>2</th>\n",
       "      <td>42.0</td>\n",
       "      <td>2008-10-19 06:49:30</td>\n",
       "    </tr>\n",
       "    <tr>\n",
       "      <th>3</th>\n",
       "      <td>43.0</td>\n",
       "      <td>2008-10-26 21:44:36</td>\n",
       "    </tr>\n",
       "    <tr>\n",
       "      <th>4</th>\n",
       "      <td>44.0</td>\n",
       "      <td>2008-10-31 22:16:01</td>\n",
       "    </tr>\n",
       "  </tbody>\n",
       "</table>\n",
       "</div>"
      ],
      "text/plain": [
       "   week_number             post_dt\n",
       "0         40.0 2008-10-05 09:00:58\n",
       "1         41.0 2008-10-12 21:22:23\n",
       "2         42.0 2008-10-19 06:49:30\n",
       "3         43.0 2008-10-26 21:44:36\n",
       "4         44.0 2008-10-31 22:16:01"
      ]
     },
     "execution_count": 27,
     "metadata": {},
     "output_type": "execute_result"
    }
   ],
   "source": [
    "df_9"
   ]
  }
 ],
 "metadata": {
  "ExecuteTimeLog": [
   {
    "duration": 84,
    "start_time": "2023-08-10T04:11:21.010Z"
   },
   {
    "duration": 916,
    "start_time": "2023-08-10T04:11:23.932Z"
   },
   {
    "duration": 6,
    "start_time": "2023-08-10T04:11:24.850Z"
   },
   {
    "duration": 7592,
    "start_time": "2023-08-10T04:11:25.199Z"
   },
   {
    "duration": 42,
    "start_time": "2023-08-10T04:11:32.793Z"
   },
   {
    "duration": 15,
    "start_time": "2023-08-10T04:11:32.837Z"
   },
   {
    "duration": 67,
    "start_time": "2023-08-10T04:11:32.854Z"
   },
   {
    "duration": 109,
    "start_time": "2023-08-10T04:12:06.915Z"
   },
   {
    "duration": 90,
    "start_time": "2023-08-10T04:12:42.749Z"
   },
   {
    "duration": 4,
    "start_time": "2023-08-10T04:13:23.590Z"
   },
   {
    "duration": 135,
    "start_time": "2023-08-10T04:13:53.122Z"
   },
   {
    "duration": 131,
    "start_time": "2023-08-10T04:14:32.536Z"
   },
   {
    "duration": 8,
    "start_time": "2023-08-10T04:15:53.914Z"
   },
   {
    "duration": 7,
    "start_time": "2023-08-10T04:16:16.547Z"
   },
   {
    "duration": 337,
    "start_time": "2023-08-10T04:22:34.997Z"
   },
   {
    "duration": 100,
    "start_time": "2023-08-10T04:22:59.506Z"
   },
   {
    "duration": 144,
    "start_time": "2023-08-10T04:24:09.852Z"
   },
   {
    "duration": 7,
    "start_time": "2023-08-10T04:24:11.246Z"
   },
   {
    "duration": 95,
    "start_time": "2023-08-10T04:24:39.418Z"
   },
   {
    "duration": 90,
    "start_time": "2023-08-10T04:24:46.169Z"
   },
   {
    "duration": 8,
    "start_time": "2023-08-10T04:24:53.844Z"
   },
   {
    "duration": 3,
    "start_time": "2023-08-10T04:24:59.263Z"
   },
   {
    "duration": 4,
    "start_time": "2023-08-10T04:24:59.665Z"
   },
   {
    "duration": 3,
    "start_time": "2023-08-10T04:25:00.280Z"
   },
   {
    "duration": 54,
    "start_time": "2023-08-10T04:25:01.115Z"
   },
   {
    "duration": 10,
    "start_time": "2023-08-10T04:25:06.141Z"
   },
   {
    "duration": 11,
    "start_time": "2023-08-10T04:25:08.142Z"
   },
   {
    "duration": 147,
    "start_time": "2023-08-10T04:25:14.988Z"
   },
   {
    "duration": 98,
    "start_time": "2023-08-10T04:25:48.907Z"
   },
   {
    "duration": 90,
    "start_time": "2023-08-10T04:26:09.409Z"
   },
   {
    "duration": 124,
    "start_time": "2023-08-10T04:26:23.704Z"
   },
   {
    "duration": 130,
    "start_time": "2023-08-10T04:26:33.995Z"
   },
   {
    "duration": 7,
    "start_time": "2023-08-10T04:26:35.134Z"
   },
   {
    "duration": 89,
    "start_time": "2023-08-10T04:28:32.377Z"
   },
   {
    "duration": 771,
    "start_time": "2023-08-10T04:29:58.541Z"
   },
   {
    "duration": 3,
    "start_time": "2023-08-10T04:29:59.314Z"
   },
   {
    "duration": 11216,
    "start_time": "2023-08-10T04:30:00.100Z"
   },
   {
    "duration": 63,
    "start_time": "2023-08-10T04:30:11.318Z"
   },
   {
    "duration": 16,
    "start_time": "2023-08-10T04:30:11.382Z"
   },
   {
    "duration": 129,
    "start_time": "2023-08-10T04:30:21.210Z"
   },
   {
    "duration": 6,
    "start_time": "2023-08-10T04:30:24.369Z"
   },
   {
    "duration": 173,
    "start_time": "2023-08-10T04:30:28.507Z"
   },
   {
    "duration": 83,
    "start_time": "2023-08-10T04:30:52.954Z"
   },
   {
    "duration": 138,
    "start_time": "2023-08-10T04:31:02.692Z"
   },
   {
    "duration": 6,
    "start_time": "2023-08-10T04:31:04.890Z"
   },
   {
    "duration": 135,
    "start_time": "2023-08-10T04:31:45.363Z"
   },
   {
    "duration": 7,
    "start_time": "2023-08-10T04:31:47.015Z"
   },
   {
    "duration": 1197,
    "start_time": "2023-08-10T04:31:56.179Z"
   },
   {
    "duration": 13,
    "start_time": "2023-08-10T04:31:57.378Z"
   },
   {
    "duration": 1178,
    "start_time": "2023-08-10T04:32:37.097Z"
   },
   {
    "duration": 12,
    "start_time": "2023-08-10T04:32:41.788Z"
   },
   {
    "duration": 31,
    "start_time": "2023-08-10T04:33:30.350Z"
   },
   {
    "duration": 9,
    "start_time": "2023-08-10T04:33:31.013Z"
   },
   {
    "duration": 88,
    "start_time": "2023-08-10T04:35:23.559Z"
   },
   {
    "duration": 85,
    "start_time": "2023-08-10T04:37:34.256Z"
   },
   {
    "duration": 105,
    "start_time": "2023-08-10T04:37:42.779Z"
   },
   {
    "duration": 94,
    "start_time": "2023-08-10T04:37:58.236Z"
   },
   {
    "duration": 89,
    "start_time": "2023-08-10T04:38:40.135Z"
   },
   {
    "duration": 41,
    "start_time": "2023-08-10T04:40:23.203Z"
   },
   {
    "duration": 6,
    "start_time": "2023-08-10T04:40:24.122Z"
   },
   {
    "duration": 39,
    "start_time": "2023-08-10T04:41:05.532Z"
   },
   {
    "duration": 6,
    "start_time": "2023-08-10T04:41:06.170Z"
   },
   {
    "duration": 39,
    "start_time": "2023-08-10T04:41:25.461Z"
   },
   {
    "duration": 6,
    "start_time": "2023-08-10T04:41:25.828Z"
   },
   {
    "duration": 235,
    "start_time": "2023-08-10T04:43:21.304Z"
   },
   {
    "duration": 7,
    "start_time": "2023-08-10T04:43:21.922Z"
   },
   {
    "duration": 91,
    "start_time": "2023-08-10T04:44:05.299Z"
   },
   {
    "duration": 96,
    "start_time": "2023-08-10T04:44:19.421Z"
   },
   {
    "duration": 108,
    "start_time": "2023-08-10T04:44:25.473Z"
   },
   {
    "duration": 90,
    "start_time": "2023-08-10T04:44:54.666Z"
   },
   {
    "duration": 39,
    "start_time": "2023-08-10T04:45:39.318Z"
   },
   {
    "duration": 39,
    "start_time": "2023-08-10T04:45:55.434Z"
   },
   {
    "duration": 7,
    "start_time": "2023-08-10T04:45:55.869Z"
   },
   {
    "duration": 91,
    "start_time": "2023-08-10T04:49:24.080Z"
   },
   {
    "duration": 92,
    "start_time": "2023-08-10T04:51:18.453Z"
   },
   {
    "duration": 86,
    "start_time": "2023-08-10T04:51:26.150Z"
   },
   {
    "duration": 41,
    "start_time": "2023-08-10T04:51:40.944Z"
   },
   {
    "duration": 9,
    "start_time": "2023-08-10T04:51:42.549Z"
   },
   {
    "duration": 40,
    "start_time": "2023-08-10T04:52:07.578Z"
   },
   {
    "duration": 8,
    "start_time": "2023-08-10T04:52:07.995Z"
   },
   {
    "duration": 103,
    "start_time": "2023-08-10T04:55:05.476Z"
   },
   {
    "duration": 98,
    "start_time": "2023-08-10T04:56:01.634Z"
   },
   {
    "duration": 108,
    "start_time": "2023-08-10T04:56:19.011Z"
   },
   {
    "duration": 88,
    "start_time": "2023-08-10T04:56:36.726Z"
   },
   {
    "duration": 8,
    "start_time": "2023-08-10T04:56:38.752Z"
   },
   {
    "duration": 92,
    "start_time": "2023-08-10T04:56:44.434Z"
   },
   {
    "duration": 6,
    "start_time": "2023-08-10T04:56:45.685Z"
   },
   {
    "duration": 91,
    "start_time": "2023-08-10T04:58:03.700Z"
   },
   {
    "duration": 6,
    "start_time": "2023-08-10T04:58:05.418Z"
   },
   {
    "duration": 170,
    "start_time": "2023-08-10T04:59:26.661Z"
   },
   {
    "duration": 6,
    "start_time": "2023-08-10T04:59:28.150Z"
   },
   {
    "duration": 122,
    "start_time": "2023-08-10T05:02:21.918Z"
   },
   {
    "duration": 8,
    "start_time": "2023-08-10T05:02:23.705Z"
   },
   {
    "duration": 88,
    "start_time": "2023-08-10T05:03:21.273Z"
   },
   {
    "duration": 173,
    "start_time": "2023-08-10T05:03:59.089Z"
   },
   {
    "duration": 6,
    "start_time": "2023-08-10T05:04:00.365Z"
   },
   {
    "duration": 142,
    "start_time": "2023-08-10T05:04:11.881Z"
   },
   {
    "duration": 12,
    "start_time": "2023-08-10T05:04:13.415Z"
   },
   {
    "duration": 39,
    "start_time": "2023-08-10T05:06:09.070Z"
   },
   {
    "duration": 7,
    "start_time": "2023-08-10T05:06:10.433Z"
   },
   {
    "duration": 199,
    "start_time": "2023-08-10T05:06:22.030Z"
   },
   {
    "duration": 8,
    "start_time": "2023-08-10T05:06:23.009Z"
   },
   {
    "duration": 977,
    "start_time": "2023-08-10T05:08:43.233Z"
   },
   {
    "duration": 11,
    "start_time": "2023-08-10T05:08:44.788Z"
   },
   {
    "duration": 903,
    "start_time": "2023-08-10T05:09:25.513Z"
   },
   {
    "duration": 12,
    "start_time": "2023-08-10T05:09:27.313Z"
   },
   {
    "duration": 664,
    "start_time": "2023-08-10T05:13:25.406Z"
   },
   {
    "duration": 1264,
    "start_time": "2023-08-10T05:14:21.165Z"
   },
   {
    "duration": 16,
    "start_time": "2023-08-10T05:14:47.928Z"
   },
   {
    "duration": 911,
    "start_time": "2023-08-10T05:14:59.570Z"
   },
   {
    "duration": 49,
    "start_time": "2023-08-10T05:15:30.005Z"
   },
   {
    "duration": 440,
    "start_time": "2023-08-10T05:15:48.023Z"
   },
   {
    "duration": 104,
    "start_time": "2023-08-10T05:19:07.406Z"
   },
   {
    "duration": 3,
    "start_time": "2023-08-10T05:19:10.813Z"
   },
   {
    "duration": 11,
    "start_time": "2023-08-10T05:21:08.483Z"
   },
   {
    "duration": 9,
    "start_time": "2023-08-10T05:21:18.182Z"
   },
   {
    "duration": 118,
    "start_time": "2023-08-10T05:22:04.375Z"
   },
   {
    "duration": 10,
    "start_time": "2023-08-10T05:22:40.944Z"
   },
   {
    "duration": 8,
    "start_time": "2023-08-10T05:22:48.305Z"
   },
   {
    "duration": 10,
    "start_time": "2023-08-10T05:23:17.384Z"
   },
   {
    "duration": 11,
    "start_time": "2023-08-10T05:23:45.912Z"
   },
   {
    "duration": 123,
    "start_time": "2023-08-10T05:25:49.672Z"
   },
   {
    "duration": 11,
    "start_time": "2023-08-10T05:28:07.171Z"
   },
   {
    "duration": 114,
    "start_time": "2023-08-10T05:28:42.782Z"
   },
   {
    "duration": 121,
    "start_time": "2023-08-10T05:28:54.976Z"
   },
   {
    "duration": 16,
    "start_time": "2023-08-10T05:29:39.794Z"
   },
   {
    "duration": 140,
    "start_time": "2023-08-10T05:29:55.951Z"
   },
   {
    "duration": 20,
    "start_time": "2023-08-10T05:30:08.010Z"
   },
   {
    "duration": 106,
    "start_time": "2023-08-10T05:30:15.065Z"
   },
   {
    "duration": 180,
    "start_time": "2023-08-10T05:32:54.362Z"
   },
   {
    "duration": 96,
    "start_time": "2023-08-10T05:33:04.496Z"
   },
   {
    "duration": 215,
    "start_time": "2023-08-10T05:33:11.040Z"
   },
   {
    "duration": 6,
    "start_time": "2023-08-10T05:33:12.480Z"
   },
   {
    "duration": 1571,
    "start_time": "2023-08-13T06:31:30.815Z"
   },
   {
    "duration": 6,
    "start_time": "2023-08-13T06:31:32.388Z"
   },
   {
    "duration": 8585,
    "start_time": "2023-08-13T06:31:32.398Z"
   },
   {
    "duration": 216,
    "start_time": "2023-08-13T06:31:40.985Z"
   },
   {
    "duration": 14,
    "start_time": "2023-08-13T06:31:41.202Z"
   },
   {
    "duration": 168,
    "start_time": "2023-08-13T06:32:37.474Z"
   },
   {
    "duration": 7,
    "start_time": "2023-08-13T06:32:38.856Z"
   },
   {
    "duration": 201,
    "start_time": "2023-08-13T06:39:53.706Z"
   },
   {
    "duration": 7,
    "start_time": "2023-08-13T06:39:55.548Z"
   },
   {
    "duration": 201,
    "start_time": "2023-08-13T06:40:16.980Z"
   },
   {
    "duration": 5,
    "start_time": "2023-08-13T06:40:19.338Z"
   },
   {
    "duration": 265,
    "start_time": "2023-08-13T06:42:41.707Z"
   },
   {
    "duration": 164,
    "start_time": "2023-08-13T06:42:49.824Z"
   },
   {
    "duration": 10,
    "start_time": "2023-08-13T06:42:51.486Z"
   },
   {
    "duration": 204,
    "start_time": "2023-08-13T06:44:15.389Z"
   },
   {
    "duration": 6,
    "start_time": "2023-08-13T06:44:16.896Z"
   },
   {
    "duration": 195,
    "start_time": "2023-08-13T06:44:29.589Z"
   },
   {
    "duration": 5,
    "start_time": "2023-08-13T06:44:30.814Z"
   },
   {
    "duration": 167,
    "start_time": "2023-08-13T06:44:35.397Z"
   },
   {
    "duration": 8,
    "start_time": "2023-08-13T06:44:36.297Z"
   },
   {
    "duration": 160,
    "start_time": "2023-08-13T06:45:32.066Z"
   },
   {
    "duration": 1588,
    "start_time": "2023-08-13T06:46:12.572Z"
   },
   {
    "duration": 8,
    "start_time": "2023-08-13T06:46:14.976Z"
   },
   {
    "duration": 201,
    "start_time": "2023-08-13T06:46:31.823Z"
   },
   {
    "duration": 7,
    "start_time": "2023-08-13T06:46:32.889Z"
   },
   {
    "duration": 197,
    "start_time": "2023-08-13T06:47:17.491Z"
   },
   {
    "duration": 5,
    "start_time": "2023-08-13T06:47:18.680Z"
   },
   {
    "duration": 198,
    "start_time": "2023-08-13T06:48:01.593Z"
   },
   {
    "duration": 6,
    "start_time": "2023-08-13T06:48:03.012Z"
   },
   {
    "duration": 137,
    "start_time": "2023-08-13T06:53:10.090Z"
   },
   {
    "duration": 5,
    "start_time": "2023-08-13T06:53:11.339Z"
   },
   {
    "duration": 160,
    "start_time": "2023-08-13T06:54:57.932Z"
   },
   {
    "duration": 5,
    "start_time": "2023-08-13T06:54:58.738Z"
   },
   {
    "duration": 136,
    "start_time": "2023-08-13T06:55:13.908Z"
   },
   {
    "duration": 6,
    "start_time": "2023-08-13T06:55:14.536Z"
   },
   {
    "duration": 1162,
    "start_time": "2023-08-13T06:57:29.925Z"
   },
   {
    "duration": 11,
    "start_time": "2023-08-13T06:57:31.089Z"
   },
   {
    "duration": 56,
    "start_time": "2023-08-13T06:58:41.214Z"
   },
   {
    "duration": 5,
    "start_time": "2023-08-13T06:58:41.541Z"
   },
   {
    "duration": 108,
    "start_time": "2023-08-13T06:58:47.074Z"
   },
   {
    "duration": 6,
    "start_time": "2023-08-13T06:58:47.399Z"
   },
   {
    "duration": 58,
    "start_time": "2023-08-13T06:59:06.065Z"
   },
   {
    "duration": 5,
    "start_time": "2023-08-13T06:59:06.455Z"
   },
   {
    "duration": 55,
    "start_time": "2023-08-13T06:59:11.191Z"
   },
   {
    "duration": 5,
    "start_time": "2023-08-13T06:59:11.781Z"
   },
   {
    "duration": 70,
    "start_time": "2023-08-13T06:59:20.025Z"
   },
   {
    "duration": 7,
    "start_time": "2023-08-13T06:59:20.210Z"
   },
   {
    "duration": 103,
    "start_time": "2023-08-13T06:59:41.821Z"
   },
   {
    "duration": 6,
    "start_time": "2023-08-13T06:59:42.139Z"
   },
   {
    "duration": 68,
    "start_time": "2023-08-13T06:59:48.257Z"
   },
   {
    "duration": 5,
    "start_time": "2023-08-13T06:59:48.452Z"
   },
   {
    "duration": 119,
    "start_time": "2023-08-13T07:00:33.644Z"
   },
   {
    "duration": 8,
    "start_time": "2023-08-13T07:00:34.022Z"
   },
   {
    "duration": 72,
    "start_time": "2023-08-13T07:00:41.067Z"
   },
   {
    "duration": 6,
    "start_time": "2023-08-13T07:00:41.709Z"
   },
   {
    "duration": 69,
    "start_time": "2023-08-13T07:02:24.231Z"
   },
   {
    "duration": 7,
    "start_time": "2023-08-13T07:02:25.325Z"
   },
   {
    "duration": 135,
    "start_time": "2023-08-13T07:04:55.947Z"
   },
   {
    "duration": 6,
    "start_time": "2023-08-13T07:04:56.651Z"
   },
   {
    "duration": 1145,
    "start_time": "2023-08-13T07:04:58.795Z"
   },
   {
    "duration": 9,
    "start_time": "2023-08-13T07:04:59.941Z"
   },
   {
    "duration": 70,
    "start_time": "2023-08-13T07:05:20.665Z"
   },
   {
    "duration": 6,
    "start_time": "2023-08-13T07:05:21.078Z"
   },
   {
    "duration": 1077,
    "start_time": "2023-08-13T07:05:36.817Z"
   },
   {
    "duration": 12,
    "start_time": "2023-08-13T07:05:37.895Z"
   },
   {
    "duration": 928,
    "start_time": "2023-08-13T07:07:40.108Z"
   },
   {
    "duration": 10,
    "start_time": "2023-08-13T07:07:41.039Z"
   },
   {
    "duration": 1163,
    "start_time": "2023-08-13T07:07:55.131Z"
   },
   {
    "duration": 10,
    "start_time": "2023-08-13T07:07:56.296Z"
   },
   {
    "duration": 1088,
    "start_time": "2023-08-13T07:09:03.415Z"
   },
   {
    "duration": 9,
    "start_time": "2023-08-13T07:09:04.504Z"
   },
   {
    "duration": 150,
    "start_time": "2023-08-13T07:10:10.877Z"
   },
   {
    "duration": 146,
    "start_time": "2023-08-13T07:10:41.294Z"
   },
   {
    "duration": 143,
    "start_time": "2023-08-13T07:11:34.871Z"
   },
   {
    "duration": 146,
    "start_time": "2023-08-13T07:11:48.320Z"
   },
   {
    "duration": 131,
    "start_time": "2023-08-13T07:12:16.679Z"
   },
   {
    "duration": 1080,
    "start_time": "2023-08-13T07:13:46.011Z"
   },
   {
    "duration": 9,
    "start_time": "2023-08-13T07:13:48.478Z"
   },
   {
    "duration": 9,
    "start_time": "2023-08-13T07:16:55.694Z"
   },
   {
    "duration": 1586,
    "start_time": "2023-08-13T07:16:57.689Z"
   },
   {
    "duration": 8,
    "start_time": "2023-08-13T07:16:59.276Z"
   },
   {
    "duration": 720,
    "start_time": "2023-08-13T07:17:31.304Z"
   },
   {
    "duration": 0,
    "start_time": "2023-08-13T07:17:32.026Z"
   },
   {
    "duration": 718,
    "start_time": "2023-08-13T07:17:48.136Z"
   },
   {
    "duration": 137,
    "start_time": "2023-08-13T07:17:56.187Z"
   },
   {
    "duration": 712,
    "start_time": "2023-08-13T07:18:54.700Z"
   },
   {
    "duration": 9,
    "start_time": "2023-08-13T07:18:55.975Z"
   },
   {
    "duration": 98,
    "start_time": "2023-08-13T07:26:37.552Z"
   },
   {
    "duration": 69,
    "start_time": "2023-08-13T07:27:47.046Z"
   },
   {
    "duration": 61,
    "start_time": "2023-08-13T07:28:15.369Z"
   },
   {
    "duration": 5,
    "start_time": "2023-08-13T07:28:17.472Z"
   },
   {
    "duration": 133,
    "start_time": "2023-08-13T07:31:18.177Z"
   },
   {
    "duration": 6,
    "start_time": "2023-08-13T07:31:19.098Z"
   },
   {
    "duration": 102,
    "start_time": "2023-08-13T07:37:58.274Z"
   },
   {
    "duration": 88,
    "start_time": "2023-08-13T07:38:55.065Z"
   },
   {
    "duration": 182,
    "start_time": "2023-08-13T07:40:07.061Z"
   },
   {
    "duration": 9,
    "start_time": "2023-08-13T07:40:08.674Z"
   },
   {
    "duration": 137,
    "start_time": "2023-08-13T07:42:02.955Z"
   },
   {
    "duration": 92,
    "start_time": "2023-08-13T07:42:21.324Z"
   },
   {
    "duration": 170,
    "start_time": "2023-08-13T07:42:29.647Z"
   },
   {
    "duration": 8,
    "start_time": "2023-08-13T07:42:33.746Z"
   },
   {
    "duration": 134,
    "start_time": "2023-08-13T07:44:16.424Z"
   },
   {
    "duration": 176,
    "start_time": "2023-08-13T07:44:23.650Z"
   },
   {
    "duration": 9,
    "start_time": "2023-08-13T07:44:25.248Z"
   },
   {
    "duration": 172,
    "start_time": "2023-08-13T07:44:36.146Z"
   },
   {
    "duration": 9,
    "start_time": "2023-08-13T07:44:37.415Z"
   },
   {
    "duration": 153,
    "start_time": "2023-08-13T07:44:57.331Z"
   },
   {
    "duration": 9,
    "start_time": "2023-08-13T07:44:58.597Z"
   },
   {
    "duration": 185,
    "start_time": "2023-08-13T07:45:06.121Z"
   },
   {
    "duration": 10,
    "start_time": "2023-08-13T07:45:06.967Z"
   },
   {
    "duration": 165,
    "start_time": "2023-08-13T07:48:16.464Z"
   },
   {
    "duration": 6,
    "start_time": "2023-08-13T07:48:17.115Z"
   },
   {
    "duration": 68,
    "start_time": "2023-08-13T07:49:42.127Z"
   },
   {
    "duration": 6,
    "start_time": "2023-08-13T07:49:42.392Z"
   },
   {
    "duration": 130,
    "start_time": "2023-08-13T07:52:31.460Z"
   },
   {
    "duration": 694,
    "start_time": "2023-08-13T07:52:46.525Z"
   },
   {
    "duration": 8,
    "start_time": "2023-08-13T07:52:47.631Z"
   },
   {
    "duration": 732,
    "start_time": "2023-08-13T07:53:07.920Z"
   },
   {
    "duration": 8,
    "start_time": "2023-08-13T07:53:08.654Z"
   },
   {
    "duration": 767,
    "start_time": "2023-08-13T07:53:23.738Z"
   },
   {
    "duration": 10,
    "start_time": "2023-08-13T07:53:24.507Z"
   },
   {
    "duration": 177,
    "start_time": "2023-08-13T07:53:27.634Z"
   },
   {
    "duration": 757,
    "start_time": "2023-08-13T07:53:31.695Z"
   },
   {
    "duration": 9,
    "start_time": "2023-08-13T07:53:32.454Z"
   },
   {
    "duration": 132,
    "start_time": "2023-08-13T07:56:49.141Z"
   },
   {
    "duration": 9,
    "start_time": "2023-08-13T07:56:49.585Z"
   },
   {
    "duration": 355,
    "start_time": "2023-08-13T07:57:00.414Z"
   },
   {
    "duration": 9,
    "start_time": "2023-08-13T07:57:01.566Z"
   },
   {
    "duration": 365,
    "start_time": "2023-08-13T08:02:21.061Z"
   },
   {
    "duration": 10,
    "start_time": "2023-08-13T08:02:21.615Z"
   },
   {
    "duration": 131,
    "start_time": "2023-08-13T08:05:29.499Z"
   },
   {
    "duration": 11,
    "start_time": "2023-08-13T08:05:29.934Z"
   },
   {
    "duration": 143,
    "start_time": "2023-08-13T08:05:39.639Z"
   },
   {
    "duration": 348,
    "start_time": "2023-08-13T08:05:51.658Z"
   },
   {
    "duration": 11,
    "start_time": "2023-08-13T08:05:52.780Z"
   },
   {
    "duration": 175,
    "start_time": "2023-08-13T08:07:41.143Z"
   },
   {
    "duration": 11,
    "start_time": "2023-08-13T08:07:41.642Z"
   },
   {
    "duration": 222,
    "start_time": "2023-08-13T08:07:54.132Z"
   },
   {
    "duration": 11,
    "start_time": "2023-08-13T08:07:54.697Z"
   },
   {
    "duration": 144,
    "start_time": "2023-08-13T08:08:43.010Z"
   },
   {
    "duration": 141,
    "start_time": "2023-08-13T08:09:48.953Z"
   },
   {
    "duration": 253,
    "start_time": "2023-08-13T08:10:10.222Z"
   },
   {
    "duration": 342,
    "start_time": "2023-08-13T08:10:40.339Z"
   },
   {
    "duration": 14,
    "start_time": "2023-08-13T08:10:41.690Z"
   },
   {
    "duration": 210,
    "start_time": "2023-08-13T08:11:58.036Z"
   },
   {
    "duration": 14,
    "start_time": "2023-08-13T08:11:58.591Z"
   },
   {
    "duration": 351,
    "start_time": "2023-08-13T08:15:30.080Z"
   },
   {
    "duration": 145,
    "start_time": "2023-08-13T08:16:25.502Z"
   },
   {
    "duration": 13,
    "start_time": "2023-08-13T08:16:26.003Z"
   },
   {
    "duration": 159,
    "start_time": "2023-08-13T08:17:51.780Z"
   },
   {
    "duration": 154,
    "start_time": "2023-08-13T08:18:29.636Z"
   },
   {
    "duration": 391,
    "start_time": "2023-08-13T08:18:49.671Z"
   },
   {
    "duration": 12,
    "start_time": "2023-08-13T08:18:50.932Z"
   },
   {
    "duration": 383,
    "start_time": "2023-08-13T08:19:22.220Z"
   },
   {
    "duration": 11,
    "start_time": "2023-08-13T08:19:22.693Z"
   },
   {
    "duration": 399,
    "start_time": "2023-08-13T08:19:56.166Z"
   },
   {
    "duration": 11,
    "start_time": "2023-08-13T08:19:56.721Z"
   },
   {
    "duration": 140,
    "start_time": "2023-08-13T08:21:50.303Z"
   },
   {
    "duration": 131,
    "start_time": "2023-08-13T08:21:58.832Z"
   },
   {
    "duration": 492,
    "start_time": "2023-08-13T08:22:17.281Z"
   },
   {
    "duration": 13,
    "start_time": "2023-08-13T08:22:18.183Z"
   },
   {
    "duration": 437,
    "start_time": "2023-08-13T08:22:46.440Z"
   },
   {
    "duration": 11,
    "start_time": "2023-08-13T08:22:46.935Z"
   },
   {
    "duration": 424,
    "start_time": "2023-08-13T08:22:57.441Z"
   },
   {
    "duration": 10,
    "start_time": "2023-08-13T08:22:58.010Z"
   },
   {
    "duration": 494,
    "start_time": "2023-08-13T08:23:04.064Z"
   },
   {
    "duration": 11,
    "start_time": "2023-08-13T08:23:04.560Z"
   },
   {
    "duration": 407,
    "start_time": "2023-08-13T08:24:21.991Z"
   },
   {
    "duration": 10,
    "start_time": "2023-08-13T08:24:22.399Z"
   },
   {
    "duration": 1476,
    "start_time": "2023-08-13T08:24:46.598Z"
   },
   {
    "duration": 2807,
    "start_time": "2023-08-13T08:25:06.901Z"
   },
   {
    "duration": 0,
    "start_time": "2023-08-13T08:25:09.709Z"
   },
   {
    "duration": 416,
    "start_time": "2023-08-13T08:25:32.135Z"
   },
   {
    "duration": 12,
    "start_time": "2023-08-13T08:25:32.553Z"
   },
   {
    "duration": 16,
    "start_time": "2023-08-13T08:25:35.108Z"
   },
   {
    "duration": 13,
    "start_time": "2023-08-13T08:25:50.171Z"
   },
   {
    "duration": 15,
    "start_time": "2023-08-13T08:25:51.528Z"
   },
   {
    "duration": 16,
    "start_time": "2023-08-13T08:26:13.085Z"
   },
   {
    "duration": 160,
    "start_time": "2023-08-13T08:27:40.052Z"
   },
   {
    "duration": 145,
    "start_time": "2023-08-13T08:28:38.854Z"
   },
   {
    "duration": 12,
    "start_time": "2023-08-13T08:28:39.687Z"
   },
   {
    "duration": 416,
    "start_time": "2023-08-13T08:29:00.498Z"
   },
   {
    "duration": 11,
    "start_time": "2023-08-13T08:29:01.094Z"
   },
   {
    "duration": 398,
    "start_time": "2023-08-13T08:29:33.706Z"
   },
   {
    "duration": 11,
    "start_time": "2023-08-13T08:29:34.106Z"
   },
   {
    "duration": 432,
    "start_time": "2023-08-13T08:30:15.118Z"
   },
   {
    "duration": 11,
    "start_time": "2023-08-13T08:30:15.551Z"
   },
   {
    "duration": 131,
    "start_time": "2023-08-13T08:30:34.936Z"
   },
   {
    "duration": 10,
    "start_time": "2023-08-13T08:30:35.432Z"
   },
   {
    "duration": 406,
    "start_time": "2023-08-13T08:30:40.213Z"
   },
   {
    "duration": 10,
    "start_time": "2023-08-13T08:30:40.621Z"
   },
   {
    "duration": 453,
    "start_time": "2023-08-13T08:30:46.302Z"
   },
   {
    "duration": 130,
    "start_time": "2023-08-13T08:31:35.594Z"
   },
   {
    "duration": 412,
    "start_time": "2023-08-13T08:32:24.702Z"
   },
   {
    "duration": 9,
    "start_time": "2023-08-13T08:32:25.116Z"
   },
   {
    "duration": 143,
    "start_time": "2023-08-13T08:34:24.224Z"
   },
   {
    "duration": 416,
    "start_time": "2023-08-13T08:34:49.515Z"
   },
   {
    "duration": 11,
    "start_time": "2023-08-13T08:34:50.090Z"
   },
   {
    "duration": 219,
    "start_time": "2023-08-13T08:35:27.453Z"
   },
   {
    "duration": 7,
    "start_time": "2023-08-13T08:35:28.531Z"
   },
   {
    "duration": 223,
    "start_time": "2023-08-13T08:36:00.611Z"
   },
   {
    "duration": 7,
    "start_time": "2023-08-13T08:36:01.244Z"
   },
   {
    "duration": 1166,
    "start_time": "2023-08-13T08:36:20.754Z"
   },
   {
    "duration": 3,
    "start_time": "2023-08-13T08:36:21.925Z"
   },
   {
    "duration": 10026,
    "start_time": "2023-08-13T08:36:21.930Z"
   },
   {
    "duration": 236,
    "start_time": "2023-08-13T08:36:31.958Z"
   },
   {
    "duration": 18,
    "start_time": "2023-08-13T08:36:32.195Z"
   },
   {
    "duration": 184,
    "start_time": "2023-08-13T08:36:32.215Z"
   },
   {
    "duration": 8,
    "start_time": "2023-08-13T08:36:32.401Z"
   },
   {
    "duration": 212,
    "start_time": "2023-08-13T08:36:32.411Z"
   },
   {
    "duration": 8,
    "start_time": "2023-08-13T08:36:32.624Z"
   },
   {
    "duration": 189,
    "start_time": "2023-08-13T08:36:32.635Z"
   },
   {
    "duration": 5,
    "start_time": "2023-08-13T08:36:32.826Z"
   },
   {
    "duration": 1193,
    "start_time": "2023-08-13T08:36:32.833Z"
   },
   {
    "duration": 9,
    "start_time": "2023-08-13T08:36:34.028Z"
   },
   {
    "duration": 85,
    "start_time": "2023-08-13T08:36:34.038Z"
   },
   {
    "duration": 7,
    "start_time": "2023-08-13T08:36:34.125Z"
   },
   {
    "duration": 77,
    "start_time": "2023-08-13T08:36:34.133Z"
   },
   {
    "duration": 6,
    "start_time": "2023-08-13T08:36:34.211Z"
   },
   {
    "duration": 1171,
    "start_time": "2023-08-13T08:36:34.218Z"
   },
   {
    "duration": 15,
    "start_time": "2023-08-13T08:36:35.391Z"
   },
   {
    "duration": 442,
    "start_time": "2023-08-13T08:36:35.408Z"
   },
   {
    "duration": 10,
    "start_time": "2023-08-13T08:36:35.852Z"
   },
   {
    "duration": 525,
    "start_time": "2023-08-13T08:36:35.863Z"
   },
   {
    "duration": 137,
    "start_time": "2023-08-13T08:36:36.390Z"
   },
   {
    "duration": 8,
    "start_time": "2023-08-13T08:36:36.529Z"
   },
   {
    "duration": 101,
    "start_time": "2023-08-13T08:36:36.539Z"
   },
   {
    "duration": 231,
    "start_time": "2023-08-13T08:36:36.642Z"
   },
   {
    "duration": 7,
    "start_time": "2023-08-13T08:36:36.874Z"
   },
   {
    "duration": 1521,
    "start_time": "2023-08-13T08:43:35.749Z"
   },
   {
    "duration": 3,
    "start_time": "2023-08-13T08:43:37.272Z"
   },
   {
    "duration": 18306,
    "start_time": "2023-08-13T08:43:37.277Z"
   },
   {
    "duration": 45,
    "start_time": "2023-08-13T08:43:55.585Z"
   },
   {
    "duration": 16,
    "start_time": "2023-08-13T08:43:55.631Z"
   },
   {
    "duration": 134,
    "start_time": "2023-08-13T08:43:55.649Z"
   },
   {
    "duration": 7,
    "start_time": "2023-08-13T08:43:55.784Z"
   },
   {
    "duration": 156,
    "start_time": "2023-08-13T08:43:55.793Z"
   },
   {
    "duration": 11,
    "start_time": "2023-08-13T08:43:55.951Z"
   },
   {
    "duration": 146,
    "start_time": "2023-08-13T08:43:55.965Z"
   },
   {
    "duration": 6,
    "start_time": "2023-08-13T08:43:56.113Z"
   },
   {
    "duration": 1280,
    "start_time": "2023-08-13T08:43:56.121Z"
   },
   {
    "duration": 11,
    "start_time": "2023-08-13T08:43:57.403Z"
   },
   {
    "duration": 42,
    "start_time": "2023-08-13T08:43:57.416Z"
   },
   {
    "duration": 6,
    "start_time": "2023-08-13T08:43:57.460Z"
   },
   {
    "duration": 43,
    "start_time": "2023-08-13T08:43:57.468Z"
   },
   {
    "duration": 6,
    "start_time": "2023-08-13T08:43:57.514Z"
   },
   {
    "duration": 1310,
    "start_time": "2023-08-13T08:43:57.522Z"
   },
   {
    "duration": 23,
    "start_time": "2023-08-13T08:43:58.834Z"
   },
   {
    "duration": 419,
    "start_time": "2023-08-13T08:43:58.858Z"
   },
   {
    "duration": 11,
    "start_time": "2023-08-13T08:43:59.278Z"
   },
   {
    "duration": 534,
    "start_time": "2023-08-13T08:43:59.291Z"
   },
   {
    "duration": 99,
    "start_time": "2023-08-13T08:43:59.827Z"
   },
   {
    "duration": 8,
    "start_time": "2023-08-13T08:43:59.928Z"
   },
   {
    "duration": 104,
    "start_time": "2023-08-13T08:43:59.937Z"
   },
   {
    "duration": 198,
    "start_time": "2023-08-13T08:44:00.043Z"
   },
   {
    "duration": 8,
    "start_time": "2023-08-13T08:44:00.243Z"
   },
   {
    "duration": 41,
    "start_time": "2023-08-13T09:20:31.322Z"
   },
   {
    "duration": 7,
    "start_time": "2023-08-13T09:20:32.962Z"
   },
   {
    "duration": 33,
    "start_time": "2023-08-13T09:20:43.737Z"
   },
   {
    "duration": 6,
    "start_time": "2023-08-13T09:20:44.954Z"
   },
   {
    "duration": 200,
    "start_time": "2023-08-13T09:23:32.857Z"
   },
   {
    "duration": 8,
    "start_time": "2023-08-13T09:23:34.403Z"
   },
   {
    "duration": 185,
    "start_time": "2023-08-13T09:23:35.021Z"
   },
   {
    "duration": 8,
    "start_time": "2023-08-13T09:23:35.872Z"
   },
   {
    "duration": 319,
    "start_time": "2023-08-13T09:25:54.330Z"
   },
   {
    "duration": 12,
    "start_time": "2023-08-13T09:25:56.282Z"
   },
   {
    "duration": 242,
    "start_time": "2023-08-13T09:27:36.498Z"
   },
   {
    "duration": 179,
    "start_time": "2023-08-13T09:27:44.828Z"
   },
   {
    "duration": 132,
    "start_time": "2023-08-13T09:28:12.489Z"
   },
   {
    "duration": 137,
    "start_time": "2023-08-13T09:29:51.292Z"
   },
   {
    "duration": 148,
    "start_time": "2023-08-13T09:29:57.978Z"
   },
   {
    "duration": 152,
    "start_time": "2023-08-13T09:30:05.497Z"
   },
   {
    "duration": 180,
    "start_time": "2023-08-13T09:30:29.627Z"
   },
   {
    "duration": 132,
    "start_time": "2023-08-13T09:30:46.115Z"
   },
   {
    "duration": 154,
    "start_time": "2023-08-13T09:30:56.876Z"
   },
   {
    "duration": 134,
    "start_time": "2023-08-13T09:31:13.268Z"
   },
   {
    "duration": 168,
    "start_time": "2023-08-13T09:31:49.075Z"
   },
   {
    "duration": 142,
    "start_time": "2023-08-13T09:32:02.130Z"
   },
   {
    "duration": 182,
    "start_time": "2023-08-13T09:32:49.563Z"
   },
   {
    "duration": 329,
    "start_time": "2023-08-13T09:33:16.066Z"
   },
   {
    "duration": 10,
    "start_time": "2023-08-13T09:33:19.707Z"
   },
   {
    "duration": 152,
    "start_time": "2023-08-13T09:36:33.249Z"
   },
   {
    "duration": 142,
    "start_time": "2023-08-13T09:37:07.680Z"
   },
   {
    "duration": 294,
    "start_time": "2023-08-13T09:37:23.426Z"
   },
   {
    "duration": 10,
    "start_time": "2023-08-13T09:37:25.185Z"
   },
   {
    "duration": 1323,
    "start_time": "2023-08-13T09:38:50.473Z"
   },
   {
    "duration": 4,
    "start_time": "2023-08-13T09:38:51.798Z"
   },
   {
    "duration": 13117,
    "start_time": "2023-08-13T09:38:51.803Z"
   },
   {
    "duration": 51,
    "start_time": "2023-08-13T09:39:04.923Z"
   },
   {
    "duration": 16,
    "start_time": "2023-08-13T09:39:04.976Z"
   },
   {
    "duration": 128,
    "start_time": "2023-08-13T09:39:04.993Z"
   },
   {
    "duration": 7,
    "start_time": "2023-08-13T09:39:05.123Z"
   },
   {
    "duration": 168,
    "start_time": "2023-08-13T09:39:05.131Z"
   },
   {
    "duration": 9,
    "start_time": "2023-08-13T09:39:05.301Z"
   },
   {
    "duration": 125,
    "start_time": "2023-08-13T09:39:05.313Z"
   },
   {
    "duration": 6,
    "start_time": "2023-08-13T09:39:05.440Z"
   },
   {
    "duration": 1241,
    "start_time": "2023-08-13T09:39:05.447Z"
   },
   {
    "duration": 10,
    "start_time": "2023-08-13T09:39:06.690Z"
   },
   {
    "duration": 46,
    "start_time": "2023-08-13T09:39:06.702Z"
   },
   {
    "duration": 9,
    "start_time": "2023-08-13T09:39:06.750Z"
   },
   {
    "duration": 33,
    "start_time": "2023-08-13T09:39:06.769Z"
   },
   {
    "duration": 6,
    "start_time": "2023-08-13T09:39:06.804Z"
   },
   {
    "duration": 1277,
    "start_time": "2023-08-13T09:39:06.811Z"
   },
   {
    "duration": 10,
    "start_time": "2023-08-13T09:39:08.090Z"
   },
   {
    "duration": 374,
    "start_time": "2023-08-13T09:39:08.102Z"
   },
   {
    "duration": 13,
    "start_time": "2023-08-13T09:39:08.478Z"
   },
   {
    "duration": 508,
    "start_time": "2023-08-13T09:39:08.492Z"
   },
   {
    "duration": 97,
    "start_time": "2023-08-13T09:39:09.003Z"
   },
   {
    "duration": 11,
    "start_time": "2023-08-13T09:39:09.102Z"
   },
   {
    "duration": 151,
    "start_time": "2023-08-13T09:39:09.115Z"
   },
   {
    "duration": 191,
    "start_time": "2023-08-13T09:39:09.268Z"
   },
   {
    "duration": 9,
    "start_time": "2023-08-13T09:39:09.469Z"
   },
   {
    "duration": 1477,
    "start_time": "2023-08-16T02:31:33.540Z"
   },
   {
    "duration": 4,
    "start_time": "2023-08-16T02:31:35.019Z"
   },
   {
    "duration": 10742,
    "start_time": "2023-08-16T02:31:35.024Z"
   },
   {
    "duration": 238,
    "start_time": "2023-08-16T02:31:45.768Z"
   },
   {
    "duration": 16,
    "start_time": "2023-08-16T02:31:46.008Z"
   },
   {
    "duration": 183,
    "start_time": "2023-08-16T02:31:46.026Z"
   },
   {
    "duration": 6,
    "start_time": "2023-08-16T02:31:46.211Z"
   },
   {
    "duration": 205,
    "start_time": "2023-08-16T02:31:46.218Z"
   },
   {
    "duration": 8,
    "start_time": "2023-08-16T02:31:46.425Z"
   },
   {
    "duration": 187,
    "start_time": "2023-08-16T02:31:46.435Z"
   },
   {
    "duration": 7,
    "start_time": "2023-08-16T02:31:46.625Z"
   },
   {
    "duration": 1349,
    "start_time": "2023-08-16T02:31:46.634Z"
   },
   {
    "duration": 21,
    "start_time": "2023-08-16T02:31:47.985Z"
   },
   {
    "duration": 258,
    "start_time": "2023-08-16T02:31:48.010Z"
   },
   {
    "duration": 0,
    "start_time": "2023-08-16T02:31:48.270Z"
   },
   {
    "duration": 76,
    "start_time": "2023-08-16T02:32:06.388Z"
   },
   {
    "duration": 7,
    "start_time": "2023-08-16T02:32:08.668Z"
   },
   {
    "duration": 68,
    "start_time": "2023-08-16T02:34:06.339Z"
   },
   {
    "duration": 7,
    "start_time": "2023-08-16T02:34:07.681Z"
   },
   {
    "duration": 1298,
    "start_time": "2023-08-16T02:34:19.486Z"
   },
   {
    "duration": 18,
    "start_time": "2023-08-16T02:34:20.785Z"
   },
   {
    "duration": 109,
    "start_time": "2023-08-16T02:36:23.034Z"
   },
   {
    "duration": 107,
    "start_time": "2023-08-16T02:36:35.626Z"
   },
   {
    "duration": 126,
    "start_time": "2023-08-16T02:37:32.174Z"
   },
   {
    "duration": 157,
    "start_time": "2023-08-16T02:39:05.513Z"
   },
   {
    "duration": 1008,
    "start_time": "2023-08-16T02:39:34.230Z"
   },
   {
    "duration": 15,
    "start_time": "2023-08-16T02:39:37.002Z"
   },
   {
    "duration": 152,
    "start_time": "2023-08-16T02:40:13.107Z"
   },
   {
    "duration": 8,
    "start_time": "2023-08-16T02:40:14.961Z"
   },
   {
    "duration": 1013,
    "start_time": "2023-08-16T02:42:49.034Z"
   },
   {
    "duration": 10,
    "start_time": "2023-08-16T02:42:50.355Z"
   },
   {
    "duration": 1131,
    "start_time": "2023-08-16T02:43:37.907Z"
   },
   {
    "duration": 10,
    "start_time": "2023-08-16T02:43:39.040Z"
   },
   {
    "duration": 1151,
    "start_time": "2023-08-16T02:44:17.796Z"
   },
   {
    "duration": 11,
    "start_time": "2023-08-16T02:44:19.815Z"
   },
   {
    "duration": 1094,
    "start_time": "2023-08-16T02:44:55.004Z"
   },
   {
    "duration": 9,
    "start_time": "2023-08-16T02:44:57.291Z"
   },
   {
    "duration": 132,
    "start_time": "2023-08-16T02:45:51.059Z"
   },
   {
    "duration": 129,
    "start_time": "2023-08-16T02:45:58.375Z"
   },
   {
    "duration": 131,
    "start_time": "2023-08-16T02:46:28.862Z"
   },
   {
    "duration": 133,
    "start_time": "2023-08-16T02:46:32.606Z"
   },
   {
    "duration": 131,
    "start_time": "2023-08-16T02:48:17.786Z"
   },
   {
    "duration": 131,
    "start_time": "2023-08-16T02:49:39.353Z"
   },
   {
    "duration": 129,
    "start_time": "2023-08-16T02:49:50.591Z"
   },
   {
    "duration": 1198,
    "start_time": "2023-08-16T02:51:49.765Z"
   },
   {
    "duration": 10,
    "start_time": "2023-08-16T02:51:51.106Z"
   },
   {
    "duration": 10,
    "start_time": "2023-08-16T02:52:32.377Z"
   },
   {
    "duration": 10,
    "start_time": "2023-08-16T02:52:39.631Z"
   },
   {
    "duration": 1179,
    "start_time": "2023-08-16T02:55:15.313Z"
   },
   {
    "duration": 9,
    "start_time": "2023-08-16T02:55:16.494Z"
   },
   {
    "duration": 8,
    "start_time": "2023-08-16T02:55:43.404Z"
   },
   {
    "duration": 9,
    "start_time": "2023-08-16T02:55:51.947Z"
   },
   {
    "duration": 135,
    "start_time": "2023-08-16T02:56:30.380Z"
   },
   {
    "duration": 130,
    "start_time": "2023-08-16T02:56:59.962Z"
   },
   {
    "duration": 1253,
    "start_time": "2023-08-16T02:57:16.290Z"
   },
   {
    "duration": 10,
    "start_time": "2023-08-16T02:57:17.734Z"
   },
   {
    "duration": 159,
    "start_time": "2023-08-16T03:00:25.781Z"
   },
   {
    "duration": 131,
    "start_time": "2023-08-16T03:00:42.363Z"
   },
   {
    "duration": 186,
    "start_time": "2023-08-16T03:09:46.290Z"
   },
   {
    "duration": 154,
    "start_time": "2023-08-16T03:13:08.407Z"
   },
   {
    "duration": 397,
    "start_time": "2023-08-16T03:13:37.751Z"
   },
   {
    "duration": 11,
    "start_time": "2023-08-16T03:13:41.681Z"
   },
   {
    "duration": 376,
    "start_time": "2023-08-16T03:13:57.411Z"
   },
   {
    "duration": 21,
    "start_time": "2023-08-16T03:13:57.789Z"
   },
   {
    "duration": 216,
    "start_time": "2023-08-16T03:15:24.876Z"
   },
   {
    "duration": 342,
    "start_time": "2023-08-16T03:15:45.958Z"
   },
   {
    "duration": 14,
    "start_time": "2023-08-16T03:15:46.924Z"
   },
   {
    "duration": 328,
    "start_time": "2023-08-16T03:16:01.522Z"
   },
   {
    "duration": 10,
    "start_time": "2023-08-16T03:16:01.917Z"
   },
   {
    "duration": 221,
    "start_time": "2023-08-16T03:16:51.904Z"
   },
   {
    "duration": 9,
    "start_time": "2023-08-16T03:16:52.500Z"
   },
   {
    "duration": 139,
    "start_time": "2023-08-16T03:18:45.664Z"
   },
   {
    "duration": 333,
    "start_time": "2023-08-16T03:19:20.925Z"
   },
   {
    "duration": 10,
    "start_time": "2023-08-16T03:19:22.119Z"
   },
   {
    "duration": 166,
    "start_time": "2023-08-16T03:19:46.493Z"
   },
   {
    "duration": 10,
    "start_time": "2023-08-16T03:19:47.808Z"
   },
   {
    "duration": 169,
    "start_time": "2023-08-16T03:20:31.173Z"
   },
   {
    "duration": 133,
    "start_time": "2023-08-16T03:20:53.621Z"
   },
   {
    "duration": 154,
    "start_time": "2023-08-16T03:21:05.043Z"
   },
   {
    "duration": 331,
    "start_time": "2023-08-16T03:21:23.142Z"
   },
   {
    "duration": 10,
    "start_time": "2023-08-16T03:21:23.754Z"
   },
   {
    "duration": 482,
    "start_time": "2023-08-16T03:21:30.270Z"
   },
   {
    "duration": 343,
    "start_time": "2023-08-16T03:21:54.136Z"
   },
   {
    "duration": 10,
    "start_time": "2023-08-16T03:21:54.517Z"
   },
   {
    "duration": 429,
    "start_time": "2023-08-16T03:21:57.293Z"
   },
   {
    "duration": 144,
    "start_time": "2023-08-16T03:22:10.841Z"
   },
   {
    "duration": 131,
    "start_time": "2023-08-16T03:22:15.932Z"
   },
   {
    "duration": 141,
    "start_time": "2023-08-16T03:23:59.101Z"
   },
   {
    "duration": 341,
    "start_time": "2023-08-16T03:24:07.095Z"
   },
   {
    "duration": 11,
    "start_time": "2023-08-16T03:24:08.466Z"
   },
   {
    "duration": 334,
    "start_time": "2023-08-16T03:24:34.871Z"
   },
   {
    "duration": 10,
    "start_time": "2023-08-16T03:24:35.680Z"
   },
   {
    "duration": 415,
    "start_time": "2023-08-16T03:24:43.595Z"
   },
   {
    "duration": 441,
    "start_time": "2023-08-16T03:26:32.714Z"
   },
   {
    "duration": 482,
    "start_time": "2023-08-16T03:26:41.288Z"
   },
   {
    "duration": 1294,
    "start_time": "2023-08-16T03:27:44.443Z"
   },
   {
    "duration": 448,
    "start_time": "2023-08-16T03:28:03.492Z"
   },
   {
    "duration": 13,
    "start_time": "2023-08-16T03:28:05.665Z"
   },
   {
    "duration": 400,
    "start_time": "2023-08-16T03:28:39.679Z"
   },
   {
    "duration": 436,
    "start_time": "2023-08-16T03:28:44.484Z"
   },
   {
    "duration": 408,
    "start_time": "2023-08-16T03:31:07.569Z"
   },
   {
    "duration": 11,
    "start_time": "2023-08-16T03:31:08.284Z"
   },
   {
    "duration": 354,
    "start_time": "2023-08-16T03:31:23.418Z"
   },
   {
    "duration": 11,
    "start_time": "2023-08-16T03:31:23.979Z"
   },
   {
    "duration": 407,
    "start_time": "2023-08-16T03:31:44.629Z"
   },
   {
    "duration": 10,
    "start_time": "2023-08-16T03:31:45.286Z"
   },
   {
    "duration": 441,
    "start_time": "2023-08-16T03:31:48.865Z"
   },
   {
    "duration": 14,
    "start_time": "2023-08-16T03:33:29.334Z"
   },
   {
    "duration": 1727,
    "start_time": "2023-08-16T03:33:39.090Z"
   },
   {
    "duration": 1342,
    "start_time": "2023-08-16T03:33:58.589Z"
   },
   {
    "duration": 1665,
    "start_time": "2023-08-16T03:34:09.806Z"
   },
   {
    "duration": 434,
    "start_time": "2023-08-16T03:34:52.148Z"
   },
   {
    "duration": 1000,
    "start_time": "2023-08-16T03:35:11.319Z"
   },
   {
    "duration": 1899,
    "start_time": "2023-08-16T03:35:19.828Z"
   },
   {
    "duration": 132,
    "start_time": "2023-08-16T03:35:52.298Z"
   },
   {
    "duration": 139,
    "start_time": "2023-08-16T03:36:19.559Z"
   },
   {
    "duration": 410,
    "start_time": "2023-08-16T03:36:27.088Z"
   },
   {
    "duration": 10,
    "start_time": "2023-08-16T03:36:27.842Z"
   },
   {
    "duration": 1123,
    "start_time": "2023-08-16T03:36:33.616Z"
   },
   {
    "duration": 953,
    "start_time": "2023-08-16T03:36:55.809Z"
   },
   {
    "duration": 1031,
    "start_time": "2023-08-16T03:37:14.877Z"
   },
   {
    "duration": 323,
    "start_time": "2023-08-16T03:37:35.422Z"
   },
   {
    "duration": 10,
    "start_time": "2023-08-16T03:37:36.124Z"
   },
   {
    "duration": 397,
    "start_time": "2023-08-16T03:38:27.021Z"
   },
   {
    "duration": 131,
    "start_time": "2023-08-16T03:39:06.991Z"
   },
   {
    "duration": 450,
    "start_time": "2023-08-16T03:39:20.878Z"
   },
   {
    "duration": 11,
    "start_time": "2023-08-16T03:46:05.112Z"
   },
   {
    "duration": 2759,
    "start_time": "2023-08-16T03:46:18.266Z"
   },
   {
    "duration": 15,
    "start_time": "2023-08-16T03:49:33.184Z"
   },
   {
    "duration": 334,
    "start_time": "2023-08-16T03:50:17.621Z"
   },
   {
    "duration": 11,
    "start_time": "2023-08-16T03:50:17.957Z"
   },
   {
    "duration": 283,
    "start_time": "2023-08-16T03:50:43.434Z"
   },
   {
    "duration": 10,
    "start_time": "2023-08-16T03:50:43.839Z"
   },
   {
    "duration": 352,
    "start_time": "2023-08-16T03:50:46.214Z"
   },
   {
    "duration": 257,
    "start_time": "2023-08-16T03:53:13.665Z"
   },
   {
    "duration": 284,
    "start_time": "2023-08-16T03:54:23.318Z"
   },
   {
    "duration": 1485,
    "start_time": "2023-08-16T03:55:48.312Z"
   },
   {
    "duration": 10,
    "start_time": "2023-08-16T03:55:50.806Z"
   },
   {
    "duration": 1240,
    "start_time": "2023-08-16T04:14:38.194Z"
   },
   {
    "duration": 3,
    "start_time": "2023-08-16T04:14:39.436Z"
   },
   {
    "duration": 10663,
    "start_time": "2023-08-16T04:14:39.440Z"
   },
   {
    "duration": 223,
    "start_time": "2023-08-16T04:14:50.105Z"
   },
   {
    "duration": 15,
    "start_time": "2023-08-16T04:14:50.330Z"
   },
   {
    "duration": 165,
    "start_time": "2023-08-16T04:14:50.347Z"
   },
   {
    "duration": 7,
    "start_time": "2023-08-16T04:14:50.513Z"
   },
   {
    "duration": 173,
    "start_time": "2023-08-16T04:14:50.521Z"
   },
   {
    "duration": 11,
    "start_time": "2023-08-16T04:14:50.696Z"
   },
   {
    "duration": 160,
    "start_time": "2023-08-16T04:14:50.710Z"
   },
   {
    "duration": 5,
    "start_time": "2023-08-16T04:14:50.872Z"
   },
   {
    "duration": 1279,
    "start_time": "2023-08-16T04:14:50.879Z"
   },
   {
    "duration": 10,
    "start_time": "2023-08-16T04:14:52.159Z"
   },
   {
    "duration": 93,
    "start_time": "2023-08-16T04:14:52.170Z"
   },
   {
    "duration": 7,
    "start_time": "2023-08-16T04:14:52.264Z"
   },
   {
    "duration": 110,
    "start_time": "2023-08-16T04:14:52.273Z"
   },
   {
    "duration": 5,
    "start_time": "2023-08-16T04:14:52.385Z"
   },
   {
    "duration": 1273,
    "start_time": "2023-08-16T04:14:52.391Z"
   },
   {
    "duration": 10,
    "start_time": "2023-08-16T04:14:53.666Z"
   },
   {
    "duration": 320,
    "start_time": "2023-08-16T04:14:53.677Z"
   },
   {
    "duration": 11,
    "start_time": "2023-08-16T04:14:53.999Z"
   },
   {
    "duration": 419,
    "start_time": "2023-08-16T04:14:54.012Z"
   },
   {
    "duration": 132,
    "start_time": "2023-08-16T04:14:54.433Z"
   },
   {
    "duration": 8,
    "start_time": "2023-08-16T04:14:54.567Z"
   },
   {
    "duration": 117,
    "start_time": "2023-08-16T04:14:54.577Z"
   },
   {
    "duration": 231,
    "start_time": "2023-08-16T04:14:54.696Z"
   },
   {
    "duration": 7,
    "start_time": "2023-08-16T04:14:54.929Z"
   },
   {
    "duration": 1288,
    "start_time": "2023-08-16T04:38:10.627Z"
   },
   {
    "duration": 4,
    "start_time": "2023-08-16T04:38:11.917Z"
   },
   {
    "duration": 14299,
    "start_time": "2023-08-16T04:38:11.922Z"
   },
   {
    "duration": 223,
    "start_time": "2023-08-16T04:38:26.223Z"
   },
   {
    "duration": 15,
    "start_time": "2023-08-16T04:38:26.448Z"
   },
   {
    "duration": 151,
    "start_time": "2023-08-16T04:38:26.464Z"
   },
   {
    "duration": 8,
    "start_time": "2023-08-16T04:38:26.617Z"
   },
   {
    "duration": 184,
    "start_time": "2023-08-16T04:38:26.627Z"
   },
   {
    "duration": 9,
    "start_time": "2023-08-16T04:38:26.813Z"
   },
   {
    "duration": 160,
    "start_time": "2023-08-16T04:38:26.826Z"
   },
   {
    "duration": 7,
    "start_time": "2023-08-16T04:38:26.987Z"
   },
   {
    "duration": 1190,
    "start_time": "2023-08-16T04:38:26.996Z"
   },
   {
    "duration": 11,
    "start_time": "2023-08-16T04:38:28.187Z"
   },
   {
    "duration": 81,
    "start_time": "2023-08-16T04:38:28.199Z"
   },
   {
    "duration": 6,
    "start_time": "2023-08-16T04:38:28.282Z"
   },
   {
    "duration": 64,
    "start_time": "2023-08-16T04:38:28.290Z"
   },
   {
    "duration": 5,
    "start_time": "2023-08-16T04:38:28.355Z"
   },
   {
    "duration": 1208,
    "start_time": "2023-08-16T04:38:28.361Z"
   },
   {
    "duration": 10,
    "start_time": "2023-08-16T04:38:29.570Z"
   },
   {
    "duration": 301,
    "start_time": "2023-08-16T04:38:29.582Z"
   },
   {
    "duration": 10,
    "start_time": "2023-08-16T04:38:29.885Z"
   },
   {
    "duration": 382,
    "start_time": "2023-08-16T04:38:29.896Z"
   },
   {
    "duration": 132,
    "start_time": "2023-08-16T04:38:30.280Z"
   },
   {
    "duration": 7,
    "start_time": "2023-08-16T04:38:30.413Z"
   },
   {
    "duration": 127,
    "start_time": "2023-08-16T04:38:30.422Z"
   },
   {
    "duration": 223,
    "start_time": "2023-08-16T04:38:30.551Z"
   },
   {
    "duration": 6,
    "start_time": "2023-08-16T04:38:30.776Z"
   },
   {
    "duration": 1299,
    "start_time": "2023-08-16T10:13:38.135Z"
   },
   {
    "duration": 3,
    "start_time": "2023-08-16T10:13:39.437Z"
   },
   {
    "duration": 12840,
    "start_time": "2023-08-16T10:13:39.442Z"
   },
   {
    "duration": 43,
    "start_time": "2023-08-16T10:13:52.284Z"
   },
   {
    "duration": 18,
    "start_time": "2023-08-16T10:13:52.330Z"
   },
   {
    "duration": 167,
    "start_time": "2023-08-16T10:13:52.349Z"
   },
   {
    "duration": 8,
    "start_time": "2023-08-16T10:13:52.519Z"
   },
   {
    "duration": 152,
    "start_time": "2023-08-16T10:13:52.530Z"
   },
   {
    "duration": 11,
    "start_time": "2023-08-16T10:13:52.684Z"
   },
   {
    "duration": 140,
    "start_time": "2023-08-16T10:13:52.698Z"
   },
   {
    "duration": 9,
    "start_time": "2023-08-16T10:13:52.840Z"
   },
   {
    "duration": 1363,
    "start_time": "2023-08-16T10:13:52.850Z"
   },
   {
    "duration": 11,
    "start_time": "2023-08-16T10:13:54.215Z"
   },
   {
    "duration": 51,
    "start_time": "2023-08-16T10:13:54.228Z"
   },
   {
    "duration": 7,
    "start_time": "2023-08-16T10:13:54.281Z"
   },
   {
    "duration": 49,
    "start_time": "2023-08-16T10:13:54.289Z"
   },
   {
    "duration": 5,
    "start_time": "2023-08-16T10:13:54.340Z"
   },
   {
    "duration": 1375,
    "start_time": "2023-08-16T10:13:54.347Z"
   },
   {
    "duration": 11,
    "start_time": "2023-08-16T10:13:55.724Z"
   },
   {
    "duration": 314,
    "start_time": "2023-08-16T10:13:55.737Z"
   },
   {
    "duration": 13,
    "start_time": "2023-08-16T10:13:56.053Z"
   },
   {
    "duration": 393,
    "start_time": "2023-08-16T10:13:56.069Z"
   },
   {
    "duration": 99,
    "start_time": "2023-08-16T10:13:56.463Z"
   },
   {
    "duration": 9,
    "start_time": "2023-08-16T10:13:56.563Z"
   },
   {
    "duration": 114,
    "start_time": "2023-08-16T10:13:56.574Z"
   },
   {
    "duration": 188,
    "start_time": "2023-08-16T10:13:56.689Z"
   },
   {
    "duration": 11,
    "start_time": "2023-08-16T10:13:56.880Z"
   },
   {
    "duration": 1277,
    "start_time": "2023-08-16T10:14:29.316Z"
   },
   {
    "duration": 4,
    "start_time": "2023-08-16T10:14:30.595Z"
   },
   {
    "duration": 12492,
    "start_time": "2023-08-16T10:14:30.601Z"
   },
   {
    "duration": 43,
    "start_time": "2023-08-16T10:14:43.095Z"
   },
   {
    "duration": 17,
    "start_time": "2023-08-16T10:14:43.140Z"
   },
   {
    "duration": 125,
    "start_time": "2023-08-16T10:14:43.159Z"
   },
   {
    "duration": 7,
    "start_time": "2023-08-16T10:14:43.285Z"
   },
   {
    "duration": 169,
    "start_time": "2023-08-16T10:14:43.294Z"
   },
   {
    "duration": 10,
    "start_time": "2023-08-16T10:14:43.465Z"
   },
   {
    "duration": 131,
    "start_time": "2023-08-16T10:14:43.478Z"
   },
   {
    "duration": 7,
    "start_time": "2023-08-16T10:14:43.611Z"
   },
   {
    "duration": 1315,
    "start_time": "2023-08-16T10:14:43.620Z"
   },
   {
    "duration": 11,
    "start_time": "2023-08-16T10:14:44.937Z"
   },
   {
    "duration": 65,
    "start_time": "2023-08-16T10:14:44.950Z"
   },
   {
    "duration": 8,
    "start_time": "2023-08-16T10:14:45.017Z"
   },
   {
    "duration": 60,
    "start_time": "2023-08-16T10:14:45.027Z"
   },
   {
    "duration": 6,
    "start_time": "2023-08-16T10:14:45.089Z"
   },
   {
    "duration": 1305,
    "start_time": "2023-08-16T10:14:45.097Z"
   },
   {
    "duration": 11,
    "start_time": "2023-08-16T10:14:46.404Z"
   },
   {
    "duration": 370,
    "start_time": "2023-08-16T10:14:46.417Z"
   },
   {
    "duration": 11,
    "start_time": "2023-08-16T10:14:46.789Z"
   },
   {
    "duration": 434,
    "start_time": "2023-08-16T10:14:46.802Z"
   },
   {
    "duration": 100,
    "start_time": "2023-08-16T10:14:47.238Z"
   },
   {
    "duration": 8,
    "start_time": "2023-08-16T10:14:47.340Z"
   },
   {
    "duration": 119,
    "start_time": "2023-08-16T10:14:47.350Z"
   },
   {
    "duration": 186,
    "start_time": "2023-08-16T10:14:47.471Z"
   },
   {
    "duration": 8,
    "start_time": "2023-08-16T10:14:47.659Z"
   },
   {
    "duration": 246,
    "start_time": "2023-08-16T10:28:15.478Z"
   },
   {
    "duration": 13,
    "start_time": "2023-08-16T10:28:17.010Z"
   },
   {
    "duration": 245,
    "start_time": "2023-08-16T10:29:40.916Z"
   },
   {
    "duration": 12,
    "start_time": "2023-08-16T10:29:41.910Z"
   },
   {
    "duration": 1344,
    "start_time": "2023-08-16T10:31:02.666Z"
   },
   {
    "duration": 4,
    "start_time": "2023-08-16T10:31:04.013Z"
   },
   {
    "duration": 14239,
    "start_time": "2023-08-16T10:31:04.019Z"
   },
   {
    "duration": 40,
    "start_time": "2023-08-16T10:31:18.260Z"
   },
   {
    "duration": 18,
    "start_time": "2023-08-16T10:31:18.301Z"
   },
   {
    "duration": 128,
    "start_time": "2023-08-16T10:31:18.320Z"
   },
   {
    "duration": 6,
    "start_time": "2023-08-16T10:31:18.450Z"
   },
   {
    "duration": 174,
    "start_time": "2023-08-16T10:31:18.457Z"
   },
   {
    "duration": 11,
    "start_time": "2023-08-16T10:31:18.633Z"
   },
   {
    "duration": 140,
    "start_time": "2023-08-16T10:31:18.647Z"
   },
   {
    "duration": 6,
    "start_time": "2023-08-16T10:31:18.789Z"
   },
   {
    "duration": 1311,
    "start_time": "2023-08-16T10:31:18.797Z"
   },
   {
    "duration": 11,
    "start_time": "2023-08-16T10:31:20.109Z"
   },
   {
    "duration": 47,
    "start_time": "2023-08-16T10:31:20.122Z"
   },
   {
    "duration": 7,
    "start_time": "2023-08-16T10:31:20.171Z"
   },
   {
    "duration": 71,
    "start_time": "2023-08-16T10:31:20.180Z"
   },
   {
    "duration": 19,
    "start_time": "2023-08-16T10:31:20.253Z"
   },
   {
    "duration": 1291,
    "start_time": "2023-08-16T10:31:20.273Z"
   },
   {
    "duration": 10,
    "start_time": "2023-08-16T10:31:21.566Z"
   },
   {
    "duration": 292,
    "start_time": "2023-08-16T10:31:21.579Z"
   },
   {
    "duration": 12,
    "start_time": "2023-08-16T10:31:21.873Z"
   },
   {
    "duration": 408,
    "start_time": "2023-08-16T10:31:21.886Z"
   },
   {
    "duration": 103,
    "start_time": "2023-08-16T10:31:22.296Z"
   },
   {
    "duration": 8,
    "start_time": "2023-08-16T10:31:22.401Z"
   },
   {
    "duration": 109,
    "start_time": "2023-08-16T10:31:22.410Z"
   },
   {
    "duration": 195,
    "start_time": "2023-08-16T10:31:22.520Z"
   },
   {
    "duration": 8,
    "start_time": "2023-08-16T10:31:22.717Z"
   },
   {
    "duration": 1462,
    "start_time": "2023-08-17T14:07:35.301Z"
   },
   {
    "duration": 4,
    "start_time": "2023-08-17T14:07:36.765Z"
   },
   {
    "duration": 3,
    "start_time": "2023-08-17T14:07:52.016Z"
   },
   {
    "duration": 30,
    "start_time": "2023-08-17T14:07:52.021Z"
   },
   {
    "duration": 42,
    "start_time": "2023-08-17T14:07:52.052Z"
   },
   {
    "duration": 229,
    "start_time": "2023-08-17T14:07:52.096Z"
   },
   {
    "duration": 20,
    "start_time": "2023-08-17T14:07:53.852Z"
   },
   {
    "duration": 1295,
    "start_time": "2023-08-17T14:08:01.230Z"
   },
   {
    "duration": 4,
    "start_time": "2023-08-17T14:08:02.527Z"
   },
   {
    "duration": 8788,
    "start_time": "2023-08-17T14:08:02.532Z"
   },
   {
    "duration": 230,
    "start_time": "2023-08-17T14:08:11.322Z"
   },
   {
    "duration": 23,
    "start_time": "2023-08-17T14:08:11.556Z"
   },
   {
    "duration": 169,
    "start_time": "2023-08-17T14:08:11.581Z"
   },
   {
    "duration": 9,
    "start_time": "2023-08-17T14:08:11.753Z"
   },
   {
    "duration": 191,
    "start_time": "2023-08-17T14:08:11.764Z"
   },
   {
    "duration": 14,
    "start_time": "2023-08-17T14:08:11.957Z"
   },
   {
    "duration": 168,
    "start_time": "2023-08-17T14:08:11.974Z"
   },
   {
    "duration": 8,
    "start_time": "2023-08-17T14:08:12.144Z"
   },
   {
    "duration": 1277,
    "start_time": "2023-08-17T14:08:12.154Z"
   },
   {
    "duration": 11,
    "start_time": "2023-08-17T14:08:13.433Z"
   },
   {
    "duration": 81,
    "start_time": "2023-08-17T14:08:13.446Z"
   },
   {
    "duration": 7,
    "start_time": "2023-08-17T14:08:13.529Z"
   },
   {
    "duration": 75,
    "start_time": "2023-08-17T14:08:13.538Z"
   },
   {
    "duration": 5,
    "start_time": "2023-08-17T14:08:13.615Z"
   },
   {
    "duration": 1321,
    "start_time": "2023-08-17T14:08:13.622Z"
   },
   {
    "duration": 11,
    "start_time": "2023-08-17T14:08:14.945Z"
   },
   {
    "duration": 254,
    "start_time": "2023-08-17T14:08:14.958Z"
   },
   {
    "duration": 0,
    "start_time": "2023-08-17T14:08:15.214Z"
   },
   {
    "duration": 0,
    "start_time": "2023-08-17T14:08:15.215Z"
   },
   {
    "duration": 0,
    "start_time": "2023-08-17T14:08:15.216Z"
   },
   {
    "duration": 0,
    "start_time": "2023-08-17T14:08:15.218Z"
   },
   {
    "duration": 0,
    "start_time": "2023-08-17T14:08:15.219Z"
   },
   {
    "duration": 0,
    "start_time": "2023-08-17T14:08:15.220Z"
   },
   {
    "duration": 0,
    "start_time": "2023-08-17T14:08:15.221Z"
   },
   {
    "duration": 136,
    "start_time": "2023-08-17T14:10:00.102Z"
   },
   {
    "duration": 134,
    "start_time": "2023-08-17T14:12:40.104Z"
   },
   {
    "duration": 167,
    "start_time": "2023-08-17T14:14:25.900Z"
   },
   {
    "duration": 179,
    "start_time": "2023-08-17T14:15:48.501Z"
   },
   {
    "duration": 292,
    "start_time": "2023-08-17T14:20:18.575Z"
   },
   {
    "duration": 11,
    "start_time": "2023-08-17T14:20:21.379Z"
   },
   {
    "duration": 281,
    "start_time": "2023-08-17T14:25:58.441Z"
   },
   {
    "duration": 11,
    "start_time": "2023-08-17T14:26:04.045Z"
   },
   {
    "duration": 11,
    "start_time": "2023-08-17T14:26:06.042Z"
   },
   {
    "duration": 410,
    "start_time": "2023-08-17T14:26:10.454Z"
   },
   {
    "duration": 1299,
    "start_time": "2023-08-17T15:04:50.203Z"
   },
   {
    "duration": 3,
    "start_time": "2023-08-17T15:04:51.503Z"
   },
   {
    "duration": 12701,
    "start_time": "2023-08-17T15:04:51.508Z"
   },
   {
    "duration": 50,
    "start_time": "2023-08-17T15:05:04.211Z"
   },
   {
    "duration": 14,
    "start_time": "2023-08-17T15:05:04.262Z"
   },
   {
    "duration": 155,
    "start_time": "2023-08-17T15:05:04.278Z"
   },
   {
    "duration": 6,
    "start_time": "2023-08-17T15:05:04.434Z"
   },
   {
    "duration": 171,
    "start_time": "2023-08-17T15:05:04.441Z"
   },
   {
    "duration": 8,
    "start_time": "2023-08-17T15:05:04.613Z"
   },
   {
    "duration": 161,
    "start_time": "2023-08-17T15:05:04.624Z"
   },
   {
    "duration": 6,
    "start_time": "2023-08-17T15:05:04.786Z"
   },
   {
    "duration": 1200,
    "start_time": "2023-08-17T15:05:04.794Z"
   },
   {
    "duration": 9,
    "start_time": "2023-08-17T15:05:05.996Z"
   },
   {
    "duration": 63,
    "start_time": "2023-08-17T15:05:06.006Z"
   },
   {
    "duration": 6,
    "start_time": "2023-08-17T15:05:06.070Z"
   },
   {
    "duration": 49,
    "start_time": "2023-08-17T15:05:06.077Z"
   },
   {
    "duration": 11,
    "start_time": "2023-08-17T15:05:06.128Z"
   },
   {
    "duration": 1223,
    "start_time": "2023-08-17T15:05:06.140Z"
   },
   {
    "duration": 10,
    "start_time": "2023-08-17T15:05:07.365Z"
   },
   {
    "duration": 251,
    "start_time": "2023-08-17T15:05:07.376Z"
   },
   {
    "duration": 10,
    "start_time": "2023-08-17T15:05:07.628Z"
   },
   {
    "duration": 394,
    "start_time": "2023-08-17T15:05:07.639Z"
   },
   {
    "duration": 102,
    "start_time": "2023-08-17T15:05:08.035Z"
   },
   {
    "duration": 7,
    "start_time": "2023-08-17T15:05:08.139Z"
   },
   {
    "duration": 119,
    "start_time": "2023-08-17T15:05:08.148Z"
   },
   {
    "duration": 196,
    "start_time": "2023-08-17T15:05:08.269Z"
   },
   {
    "duration": 7,
    "start_time": "2023-08-17T15:05:08.466Z"
   },
   {
    "duration": 1295,
    "start_time": "2023-08-17T15:10:51.676Z"
   },
   {
    "duration": 4,
    "start_time": "2023-08-17T15:10:52.973Z"
   },
   {
    "duration": 12621,
    "start_time": "2023-08-17T15:10:52.978Z"
   },
   {
    "duration": 37,
    "start_time": "2023-08-17T15:11:05.601Z"
   },
   {
    "duration": 16,
    "start_time": "2023-08-17T15:11:05.640Z"
   },
   {
    "duration": 118,
    "start_time": "2023-08-17T15:11:05.657Z"
   },
   {
    "duration": 6,
    "start_time": "2023-08-17T15:11:05.777Z"
   },
   {
    "duration": 147,
    "start_time": "2023-08-17T15:11:05.785Z"
   },
   {
    "duration": 9,
    "start_time": "2023-08-17T15:11:05.934Z"
   },
   {
    "duration": 130,
    "start_time": "2023-08-17T15:11:05.944Z"
   },
   {
    "duration": 7,
    "start_time": "2023-08-17T15:11:06.076Z"
   },
   {
    "duration": 1149,
    "start_time": "2023-08-17T15:11:06.085Z"
   },
   {
    "duration": 11,
    "start_time": "2023-08-17T15:11:07.236Z"
   },
   {
    "duration": 81,
    "start_time": "2023-08-17T15:11:07.249Z"
   },
   {
    "duration": 7,
    "start_time": "2023-08-17T15:11:07.332Z"
   },
   {
    "duration": 36,
    "start_time": "2023-08-17T15:11:07.340Z"
   },
   {
    "duration": 4,
    "start_time": "2023-08-17T15:11:07.378Z"
   },
   {
    "duration": 1181,
    "start_time": "2023-08-17T15:11:07.384Z"
   },
   {
    "duration": 11,
    "start_time": "2023-08-17T15:11:08.567Z"
   },
   {
    "duration": 233,
    "start_time": "2023-08-17T15:11:08.580Z"
   },
   {
    "duration": 10,
    "start_time": "2023-08-17T15:11:08.815Z"
   },
   {
    "duration": 375,
    "start_time": "2023-08-17T15:11:08.827Z"
   },
   {
    "duration": 102,
    "start_time": "2023-08-17T15:11:09.203Z"
   },
   {
    "duration": 7,
    "start_time": "2023-08-17T15:11:09.307Z"
   },
   {
    "duration": 119,
    "start_time": "2023-08-17T15:11:09.316Z"
   },
   {
    "duration": 181,
    "start_time": "2023-08-17T15:11:09.436Z"
   },
   {
    "duration": 7,
    "start_time": "2023-08-17T15:11:09.619Z"
   }
  ],
  "colab": {
   "provenance": []
  },
  "kernelspec": {
   "display_name": "Python 3 (ipykernel)",
   "language": "python",
   "name": "python3"
  },
  "language_info": {
   "codemirror_mode": {
    "name": "ipython",
    "version": 3
   },
   "file_extension": ".py",
   "mimetype": "text/x-python",
   "name": "python",
   "nbconvert_exporter": "python",
   "pygments_lexer": "ipython3",
   "version": "3.11.5"
  },
  "toc": {
   "base_numbering": 1,
   "nav_menu": {},
   "number_sections": true,
   "sideBar": true,
   "skip_h1_title": true,
   "title_cell": "Table of Contents",
   "title_sidebar": "Contents",
   "toc_cell": false,
   "toc_position": {},
   "toc_section_display": true,
   "toc_window_display": false
  }
 },
 "nbformat": 4,
 "nbformat_minor": 1
}
