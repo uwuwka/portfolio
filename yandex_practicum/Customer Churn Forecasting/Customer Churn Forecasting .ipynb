{
 "cells": [
  {
   "cell_type": "markdown",
   "metadata": {},
   "source": [
    "# Прогнозирование оттока клиентов в сети отелей «Как в гостях»"
   ]
  },
  {
   "cell_type": "markdown",
   "metadata": {},
   "source": [
    "### Шаг 1. Откройте файлы с данными"
   ]
  },
  {
   "cell_type": "code",
   "execution_count": 1,
   "metadata": {
    "scrolled": true
   },
   "outputs": [
    {
     "name": "stdout",
     "output_type": "stream",
     "text": [
      "Collecting category_encoders\n",
      "  Downloading category_encoders-2.6.0-py2.py3-none-any.whl (81 kB)\n",
      "\u001b[K     |████████████████████████████████| 81 kB 1.2 MB/s eta 0:00:01\n",
      "\u001b[?25hRequirement already satisfied: pandas>=1.0.5 in /opt/conda/lib/python3.9/site-packages (from category_encoders) (1.2.4)\n",
      "Requirement already satisfied: scikit-learn>=0.20.0 in /opt/conda/lib/python3.9/site-packages (from category_encoders) (0.24.1)\n",
      "Requirement already satisfied: statsmodels>=0.9.0 in /opt/conda/lib/python3.9/site-packages (from category_encoders) (0.13.2)\n",
      "Requirement already satisfied: scipy>=1.0.0 in /opt/conda/lib/python3.9/site-packages (from category_encoders) (1.9.1)\n",
      "Requirement already satisfied: patsy>=0.5.1 in /opt/conda/lib/python3.9/site-packages (from category_encoders) (0.5.2)\n",
      "Requirement already satisfied: numpy>=1.14.0 in /opt/conda/lib/python3.9/site-packages (from category_encoders) (1.21.1)\n",
      "Requirement already satisfied: python-dateutil>=2.7.3 in /opt/conda/lib/python3.9/site-packages (from pandas>=1.0.5->category_encoders) (2.8.1)\n",
      "Requirement already satisfied: pytz>=2017.3 in /opt/conda/lib/python3.9/site-packages (from pandas>=1.0.5->category_encoders) (2021.1)\n",
      "Requirement already satisfied: six in /opt/conda/lib/python3.9/site-packages (from patsy>=0.5.1->category_encoders) (1.16.0)\n",
      "Requirement already satisfied: joblib>=0.11 in /opt/conda/lib/python3.9/site-packages (from scikit-learn>=0.20.0->category_encoders) (1.1.0)\n",
      "Requirement already satisfied: threadpoolctl>=2.0.0 in /opt/conda/lib/python3.9/site-packages (from scikit-learn>=0.20.0->category_encoders) (3.1.0)\n",
      "Requirement already satisfied: packaging>=21.3 in /opt/conda/lib/python3.9/site-packages (from statsmodels>=0.9.0->category_encoders) (21.3)\n",
      "Requirement already satisfied: pyparsing!=3.0.5,>=2.0.2 in /opt/conda/lib/python3.9/site-packages (from packaging>=21.3->statsmodels>=0.9.0->category_encoders) (2.4.7)\n",
      "Installing collected packages: category-encoders\n",
      "Successfully installed category-encoders-2.6.0\n",
      "Note: you may need to restart the kernel to use updated packages.\n"
     ]
    }
   ],
   "source": [
    "pip install category_encoders"
   ]
  },
  {
   "cell_type": "code",
   "execution_count": 2,
   "metadata": {},
   "outputs": [
    {
     "data": {
      "text/html": [
       "<style>.container { width:90% !important; }</style>"
      ],
      "text/plain": [
       "<IPython.core.display.HTML object>"
      ]
     },
     "metadata": {},
     "output_type": "display_data"
    }
   ],
   "source": [
    "from IPython.core.display import display, HTML\n",
    "display(HTML(\"<style>.container { width:90% !important; }</style>\"))\n",
    "\n",
    "import pandas as pd\n",
    "import numpy as np\n",
    "import matplotlib.pyplot as plt\n",
    "import seaborn as sns\n",
    "from tqdm import tqdm\n",
    "import itertools\n",
    "\n",
    "from category_encoders.target_encoder import TargetEncoder\n",
    "\n",
    "from sklearn.model_selection import train_test_split\n",
    "\n",
    "from sklearn.preprocessing import OneHotEncoder\n",
    "from sklearn.preprocessing import StandardScaler\n",
    "\n",
    "from sklearn.tree import DecisionTreeClassifier\n",
    "from sklearn.ensemble import RandomForestClassifier\n",
    "from sklearn.linear_model import LogisticRegression\n",
    "\n",
    "from sklearn.metrics import roc_auc_score\n",
    "from sklearn.metrics import f1_score\n",
    "from sklearn.metrics import accuracy_score\n",
    "from sklearn.metrics import  recall_score\n",
    "from sklearn.metrics import precision_score\n",
    "\n",
    "from sklearn.model_selection import cross_val_score \n",
    "from sklearn.preprocessing import StandardScaler\n",
    "\n",
    "import warnings\n",
    "warnings.filterwarnings(\"ignore\")"
   ]
  },
  {
   "cell_type": "code",
   "execution_count": 3,
   "metadata": {},
   "outputs": [],
   "source": [
    "hotel_train = pd.read_csv('/datasets/hotel_train.csv')\n",
    "hotel_test = pd.read_csv('/datasets/hotel_test.csv')"
   ]
  },
  {
   "cell_type": "markdown",
   "metadata": {},
   "source": [
    "информация о данных в датасетах"
   ]
  },
  {
   "cell_type": "code",
   "execution_count": 4,
   "metadata": {
    "scrolled": true
   },
   "outputs": [
    {
     "name": "stdout",
     "output_type": "stream",
     "text": [
      "<class 'pandas.core.frame.DataFrame'>\n",
      "RangeIndex: 65229 entries, 0 to 65228\n",
      "Data columns (total 25 columns):\n",
      " #   Column                          Non-Null Count  Dtype  \n",
      "---  ------                          --------------  -----  \n",
      " 0   id                              65229 non-null  int64  \n",
      " 1   is_canceled                     65229 non-null  int64  \n",
      " 2   lead_time                       65229 non-null  float64\n",
      " 3   arrival_date_year               65229 non-null  int64  \n",
      " 4   arrival_date_month              65229 non-null  object \n",
      " 5   arrival_date_week_number        65229 non-null  int64  \n",
      " 6   arrival_date_day_of_month       65229 non-null  int64  \n",
      " 7   stays_in_weekend_nights         65229 non-null  int64  \n",
      " 8   stays_in_week_nights            65229 non-null  int64  \n",
      " 9   adults                          65229 non-null  float64\n",
      " 10  children                        65229 non-null  float64\n",
      " 11  babies                          65229 non-null  float64\n",
      " 12  meal                            65229 non-null  object \n",
      " 13  country                         65229 non-null  object \n",
      " 14  distribution_channel            65229 non-null  object \n",
      " 15  is_repeated_guest               65229 non-null  int64  \n",
      " 16  previous_cancellations          65229 non-null  int64  \n",
      " 17  previous_bookings_not_canceled  65229 non-null  int64  \n",
      " 18  reserved_room_type              65229 non-null  object \n",
      " 19  booking_changes                 65229 non-null  int64  \n",
      " 20  days_in_waiting_list            65229 non-null  int64  \n",
      " 21  customer_type                   65229 non-null  object \n",
      " 22  required_car_parking_spaces     65229 non-null  int64  \n",
      " 23  total_of_special_requests       65229 non-null  int64  \n",
      " 24  total_nights                    65229 non-null  int64  \n",
      "dtypes: float64(4), int64(15), object(6)\n",
      "memory usage: 12.4+ MB\n",
      "None\n",
      "<class 'pandas.core.frame.DataFrame'>\n",
      "RangeIndex: 32412 entries, 0 to 32411\n",
      "Data columns (total 25 columns):\n",
      " #   Column                          Non-Null Count  Dtype  \n",
      "---  ------                          --------------  -----  \n",
      " 0   id                              32412 non-null  int64  \n",
      " 1   is_canceled                     32412 non-null  int64  \n",
      " 2   lead_time                       32412 non-null  float64\n",
      " 3   arrival_date_year               32412 non-null  int64  \n",
      " 4   arrival_date_month              32412 non-null  object \n",
      " 5   arrival_date_week_number        32412 non-null  int64  \n",
      " 6   arrival_date_day_of_month       32412 non-null  int64  \n",
      " 7   stays_in_weekend_nights         32412 non-null  int64  \n",
      " 8   stays_in_week_nights            32412 non-null  int64  \n",
      " 9   adults                          32412 non-null  float64\n",
      " 10  children                        32412 non-null  float64\n",
      " 11  babies                          32412 non-null  float64\n",
      " 12  meal                            32412 non-null  object \n",
      " 13  country                         32412 non-null  object \n",
      " 14  distribution_channel            32412 non-null  object \n",
      " 15  is_repeated_guest               32412 non-null  int64  \n",
      " 16  previous_cancellations          32412 non-null  int64  \n",
      " 17  previous_bookings_not_canceled  32412 non-null  int64  \n",
      " 18  reserved_room_type              32412 non-null  object \n",
      " 19  booking_changes                 32412 non-null  int64  \n",
      " 20  days_in_waiting_list            32412 non-null  int64  \n",
      " 21  customer_type                   32412 non-null  object \n",
      " 22  required_car_parking_spaces     32412 non-null  int64  \n",
      " 23  total_of_special_requests       32412 non-null  int64  \n",
      " 24  total_nights                    32412 non-null  int64  \n",
      "dtypes: float64(4), int64(15), object(6)\n",
      "memory usage: 6.2+ MB\n",
      "None\n"
     ]
    }
   ],
   "source": [
    "print(hotel_train.info())\n",
    "print(hotel_test.info())"
   ]
  },
  {
   "cell_type": "markdown",
   "metadata": {},
   "source": [
    "общие характеристики и проверка на наличие выбивающихся значений"
   ]
  },
  {
   "cell_type": "code",
   "execution_count": 5,
   "metadata": {},
   "outputs": [
    {
     "data": {
      "text/html": [
       "<div>\n",
       "<style scoped>\n",
       "    .dataframe tbody tr th:only-of-type {\n",
       "        vertical-align: middle;\n",
       "    }\n",
       "\n",
       "    .dataframe tbody tr th {\n",
       "        vertical-align: top;\n",
       "    }\n",
       "\n",
       "    .dataframe thead th {\n",
       "        text-align: right;\n",
       "    }\n",
       "</style>\n",
       "<table border=\"1\" class=\"dataframe\">\n",
       "  <thead>\n",
       "    <tr style=\"text-align: right;\">\n",
       "      <th></th>\n",
       "      <th>id</th>\n",
       "      <th>is_canceled</th>\n",
       "      <th>lead_time</th>\n",
       "      <th>arrival_date_year</th>\n",
       "      <th>arrival_date_week_number</th>\n",
       "      <th>arrival_date_day_of_month</th>\n",
       "      <th>stays_in_weekend_nights</th>\n",
       "      <th>stays_in_week_nights</th>\n",
       "      <th>adults</th>\n",
       "      <th>children</th>\n",
       "      <th>babies</th>\n",
       "      <th>is_repeated_guest</th>\n",
       "      <th>previous_cancellations</th>\n",
       "      <th>previous_bookings_not_canceled</th>\n",
       "      <th>booking_changes</th>\n",
       "      <th>days_in_waiting_list</th>\n",
       "      <th>required_car_parking_spaces</th>\n",
       "      <th>total_of_special_requests</th>\n",
       "      <th>total_nights</th>\n",
       "    </tr>\n",
       "  </thead>\n",
       "  <tbody>\n",
       "    <tr>\n",
       "      <th>count</th>\n",
       "      <td>65229.000000</td>\n",
       "      <td>65229.000000</td>\n",
       "      <td>65229.000000</td>\n",
       "      <td>65229.000000</td>\n",
       "      <td>65229.000000</td>\n",
       "      <td>65229.000000</td>\n",
       "      <td>65229.000000</td>\n",
       "      <td>65229.000000</td>\n",
       "      <td>65229.000000</td>\n",
       "      <td>65229.000000</td>\n",
       "      <td>65229.000000</td>\n",
       "      <td>65229.000000</td>\n",
       "      <td>65229.000000</td>\n",
       "      <td>65229.000000</td>\n",
       "      <td>65229.000000</td>\n",
       "      <td>65229.000000</td>\n",
       "      <td>65229.000000</td>\n",
       "      <td>65229.000000</td>\n",
       "      <td>65229.000000</td>\n",
       "    </tr>\n",
       "    <tr>\n",
       "      <th>mean</th>\n",
       "      <td>43544.069172</td>\n",
       "      <td>0.368609</td>\n",
       "      <td>96.337917</td>\n",
       "      <td>2015.719021</td>\n",
       "      <td>31.339772</td>\n",
       "      <td>15.847813</td>\n",
       "      <td>0.825185</td>\n",
       "      <td>2.224793</td>\n",
       "      <td>1.836576</td>\n",
       "      <td>0.074890</td>\n",
       "      <td>0.007236</td>\n",
       "      <td>0.027151</td>\n",
       "      <td>0.128915</td>\n",
       "      <td>0.107713</td>\n",
       "      <td>0.194269</td>\n",
       "      <td>3.334422</td>\n",
       "      <td>0.056647</td>\n",
       "      <td>0.512763</td>\n",
       "      <td>3.049978</td>\n",
       "    </tr>\n",
       "    <tr>\n",
       "      <th>std</th>\n",
       "      <td>25614.858971</td>\n",
       "      <td>0.482431</td>\n",
       "      <td>96.127545</td>\n",
       "      <td>0.449481</td>\n",
       "      <td>13.464024</td>\n",
       "      <td>8.748182</td>\n",
       "      <td>0.853477</td>\n",
       "      <td>1.354992</td>\n",
       "      <td>0.480245</td>\n",
       "      <td>0.334243</td>\n",
       "      <td>0.098790</td>\n",
       "      <td>0.162523</td>\n",
       "      <td>0.965326</td>\n",
       "      <td>1.326638</td>\n",
       "      <td>0.593838</td>\n",
       "      <td>18.239606</td>\n",
       "      <td>0.232094</td>\n",
       "      <td>0.752590</td>\n",
       "      <td>1.738108</td>\n",
       "    </tr>\n",
       "    <tr>\n",
       "      <th>min</th>\n",
       "      <td>0.000000</td>\n",
       "      <td>0.000000</td>\n",
       "      <td>0.000000</td>\n",
       "      <td>2015.000000</td>\n",
       "      <td>1.000000</td>\n",
       "      <td>1.000000</td>\n",
       "      <td>0.000000</td>\n",
       "      <td>0.000000</td>\n",
       "      <td>0.000000</td>\n",
       "      <td>0.000000</td>\n",
       "      <td>0.000000</td>\n",
       "      <td>0.000000</td>\n",
       "      <td>0.000000</td>\n",
       "      <td>0.000000</td>\n",
       "      <td>0.000000</td>\n",
       "      <td>0.000000</td>\n",
       "      <td>0.000000</td>\n",
       "      <td>0.000000</td>\n",
       "      <td>1.000000</td>\n",
       "    </tr>\n",
       "    <tr>\n",
       "      <th>25%</th>\n",
       "      <td>19108.000000</td>\n",
       "      <td>0.000000</td>\n",
       "      <td>17.000000</td>\n",
       "      <td>2015.000000</td>\n",
       "      <td>21.000000</td>\n",
       "      <td>8.000000</td>\n",
       "      <td>0.000000</td>\n",
       "      <td>1.000000</td>\n",
       "      <td>2.000000</td>\n",
       "      <td>0.000000</td>\n",
       "      <td>0.000000</td>\n",
       "      <td>0.000000</td>\n",
       "      <td>0.000000</td>\n",
       "      <td>0.000000</td>\n",
       "      <td>0.000000</td>\n",
       "      <td>0.000000</td>\n",
       "      <td>0.000000</td>\n",
       "      <td>0.000000</td>\n",
       "      <td>2.000000</td>\n",
       "    </tr>\n",
       "    <tr>\n",
       "      <th>50%</th>\n",
       "      <td>40554.000000</td>\n",
       "      <td>0.000000</td>\n",
       "      <td>64.000000</td>\n",
       "      <td>2016.000000</td>\n",
       "      <td>34.000000</td>\n",
       "      <td>16.000000</td>\n",
       "      <td>1.000000</td>\n",
       "      <td>2.000000</td>\n",
       "      <td>2.000000</td>\n",
       "      <td>0.000000</td>\n",
       "      <td>0.000000</td>\n",
       "      <td>0.000000</td>\n",
       "      <td>0.000000</td>\n",
       "      <td>0.000000</td>\n",
       "      <td>0.000000</td>\n",
       "      <td>0.000000</td>\n",
       "      <td>0.000000</td>\n",
       "      <td>0.000000</td>\n",
       "      <td>3.000000</td>\n",
       "    </tr>\n",
       "    <tr>\n",
       "      <th>75%</th>\n",
       "      <td>67414.000000</td>\n",
       "      <td>1.000000</td>\n",
       "      <td>151.000000</td>\n",
       "      <td>2016.000000</td>\n",
       "      <td>42.000000</td>\n",
       "      <td>23.000000</td>\n",
       "      <td>2.000000</td>\n",
       "      <td>3.000000</td>\n",
       "      <td>2.000000</td>\n",
       "      <td>0.000000</td>\n",
       "      <td>0.000000</td>\n",
       "      <td>0.000000</td>\n",
       "      <td>0.000000</td>\n",
       "      <td>0.000000</td>\n",
       "      <td>0.000000</td>\n",
       "      <td>0.000000</td>\n",
       "      <td>0.000000</td>\n",
       "      <td>1.000000</td>\n",
       "      <td>4.000000</td>\n",
       "    </tr>\n",
       "    <tr>\n",
       "      <th>max</th>\n",
       "      <td>84121.000000</td>\n",
       "      <td>1.000000</td>\n",
       "      <td>374.000000</td>\n",
       "      <td>2016.000000</td>\n",
       "      <td>53.000000</td>\n",
       "      <td>31.000000</td>\n",
       "      <td>4.000000</td>\n",
       "      <td>6.000000</td>\n",
       "      <td>4.000000</td>\n",
       "      <td>3.000000</td>\n",
       "      <td>10.000000</td>\n",
       "      <td>1.000000</td>\n",
       "      <td>26.000000</td>\n",
       "      <td>58.000000</td>\n",
       "      <td>17.000000</td>\n",
       "      <td>259.000000</td>\n",
       "      <td>3.000000</td>\n",
       "      <td>5.000000</td>\n",
       "      <td>10.000000</td>\n",
       "    </tr>\n",
       "  </tbody>\n",
       "</table>\n",
       "</div>"
      ],
      "text/plain": [
       "                 id   is_canceled     lead_time  arrival_date_year  \\\n",
       "count  65229.000000  65229.000000  65229.000000       65229.000000   \n",
       "mean   43544.069172      0.368609     96.337917        2015.719021   \n",
       "std    25614.858971      0.482431     96.127545           0.449481   \n",
       "min        0.000000      0.000000      0.000000        2015.000000   \n",
       "25%    19108.000000      0.000000     17.000000        2015.000000   \n",
       "50%    40554.000000      0.000000     64.000000        2016.000000   \n",
       "75%    67414.000000      1.000000    151.000000        2016.000000   \n",
       "max    84121.000000      1.000000    374.000000        2016.000000   \n",
       "\n",
       "       arrival_date_week_number  arrival_date_day_of_month  \\\n",
       "count              65229.000000               65229.000000   \n",
       "mean                  31.339772                  15.847813   \n",
       "std                   13.464024                   8.748182   \n",
       "min                    1.000000                   1.000000   \n",
       "25%                   21.000000                   8.000000   \n",
       "50%                   34.000000                  16.000000   \n",
       "75%                   42.000000                  23.000000   \n",
       "max                   53.000000                  31.000000   \n",
       "\n",
       "       stays_in_weekend_nights  stays_in_week_nights        adults  \\\n",
       "count             65229.000000          65229.000000  65229.000000   \n",
       "mean                  0.825185              2.224793      1.836576   \n",
       "std                   0.853477              1.354992      0.480245   \n",
       "min                   0.000000              0.000000      0.000000   \n",
       "25%                   0.000000              1.000000      2.000000   \n",
       "50%                   1.000000              2.000000      2.000000   \n",
       "75%                   2.000000              3.000000      2.000000   \n",
       "max                   4.000000              6.000000      4.000000   \n",
       "\n",
       "           children        babies  is_repeated_guest  previous_cancellations  \\\n",
       "count  65229.000000  65229.000000       65229.000000            65229.000000   \n",
       "mean       0.074890      0.007236           0.027151                0.128915   \n",
       "std        0.334243      0.098790           0.162523                0.965326   \n",
       "min        0.000000      0.000000           0.000000                0.000000   \n",
       "25%        0.000000      0.000000           0.000000                0.000000   \n",
       "50%        0.000000      0.000000           0.000000                0.000000   \n",
       "75%        0.000000      0.000000           0.000000                0.000000   \n",
       "max        3.000000     10.000000           1.000000               26.000000   \n",
       "\n",
       "       previous_bookings_not_canceled  booking_changes  days_in_waiting_list  \\\n",
       "count                    65229.000000     65229.000000          65229.000000   \n",
       "mean                         0.107713         0.194269              3.334422   \n",
       "std                          1.326638         0.593838             18.239606   \n",
       "min                          0.000000         0.000000              0.000000   \n",
       "25%                          0.000000         0.000000              0.000000   \n",
       "50%                          0.000000         0.000000              0.000000   \n",
       "75%                          0.000000         0.000000              0.000000   \n",
       "max                         58.000000        17.000000            259.000000   \n",
       "\n",
       "       required_car_parking_spaces  total_of_special_requests  total_nights  \n",
       "count                 65229.000000               65229.000000  65229.000000  \n",
       "mean                      0.056647                   0.512763      3.049978  \n",
       "std                       0.232094                   0.752590      1.738108  \n",
       "min                       0.000000                   0.000000      1.000000  \n",
       "25%                       0.000000                   0.000000      2.000000  \n",
       "50%                       0.000000                   0.000000      3.000000  \n",
       "75%                       0.000000                   1.000000      4.000000  \n",
       "max                       3.000000                   5.000000     10.000000  "
      ]
     },
     "metadata": {},
     "output_type": "display_data"
    },
    {
     "data": {
      "text/html": [
       "<div>\n",
       "<style scoped>\n",
       "    .dataframe tbody tr th:only-of-type {\n",
       "        vertical-align: middle;\n",
       "    }\n",
       "\n",
       "    .dataframe tbody tr th {\n",
       "        vertical-align: top;\n",
       "    }\n",
       "\n",
       "    .dataframe thead th {\n",
       "        text-align: right;\n",
       "    }\n",
       "</style>\n",
       "<table border=\"1\" class=\"dataframe\">\n",
       "  <thead>\n",
       "    <tr style=\"text-align: right;\">\n",
       "      <th></th>\n",
       "      <th>id</th>\n",
       "      <th>is_canceled</th>\n",
       "      <th>lead_time</th>\n",
       "      <th>arrival_date_year</th>\n",
       "      <th>arrival_date_week_number</th>\n",
       "      <th>arrival_date_day_of_month</th>\n",
       "      <th>stays_in_weekend_nights</th>\n",
       "      <th>stays_in_week_nights</th>\n",
       "      <th>adults</th>\n",
       "      <th>children</th>\n",
       "      <th>babies</th>\n",
       "      <th>is_repeated_guest</th>\n",
       "      <th>previous_cancellations</th>\n",
       "      <th>previous_bookings_not_canceled</th>\n",
       "      <th>booking_changes</th>\n",
       "      <th>days_in_waiting_list</th>\n",
       "      <th>required_car_parking_spaces</th>\n",
       "      <th>total_of_special_requests</th>\n",
       "      <th>total_nights</th>\n",
       "    </tr>\n",
       "  </thead>\n",
       "  <tbody>\n",
       "    <tr>\n",
       "      <th>count</th>\n",
       "      <td>32412.000000</td>\n",
       "      <td>32412.000000</td>\n",
       "      <td>32412.000000</td>\n",
       "      <td>32412.0</td>\n",
       "      <td>32412.000000</td>\n",
       "      <td>32412.000000</td>\n",
       "      <td>32412.000000</td>\n",
       "      <td>32412.00000</td>\n",
       "      <td>32412.000000</td>\n",
       "      <td>32412.000000</td>\n",
       "      <td>32412.000000</td>\n",
       "      <td>32412.000000</td>\n",
       "      <td>32412.000000</td>\n",
       "      <td>32412.000000</td>\n",
       "      <td>32412.000000</td>\n",
       "      <td>32412.000000</td>\n",
       "      <td>32412.000000</td>\n",
       "      <td>32412.000000</td>\n",
       "      <td>32412.000000</td>\n",
       "    </tr>\n",
       "    <tr>\n",
       "      <th>mean</th>\n",
       "      <td>60131.505183</td>\n",
       "      <td>0.388467</td>\n",
       "      <td>97.587869</td>\n",
       "      <td>2017.0</td>\n",
       "      <td>17.804054</td>\n",
       "      <td>15.656948</td>\n",
       "      <td>0.867888</td>\n",
       "      <td>2.34009</td>\n",
       "      <td>1.858602</td>\n",
       "      <td>0.083765</td>\n",
       "      <td>0.005523</td>\n",
       "      <td>0.031377</td>\n",
       "      <td>0.011601</td>\n",
       "      <td>0.171418</td>\n",
       "      <td>0.216741</td>\n",
       "      <td>0.262341</td>\n",
       "      <td>0.046248</td>\n",
       "      <td>0.657781</td>\n",
       "      <td>3.207979</td>\n",
       "    </tr>\n",
       "    <tr>\n",
       "      <th>std</th>\n",
       "      <td>29953.586177</td>\n",
       "      <td>0.487409</td>\n",
       "      <td>86.507146</td>\n",
       "      <td>0.0</td>\n",
       "      <td>9.177384</td>\n",
       "      <td>8.766429</td>\n",
       "      <td>0.853394</td>\n",
       "      <td>1.37517</td>\n",
       "      <td>0.489341</td>\n",
       "      <td>0.343470</td>\n",
       "      <td>0.075757</td>\n",
       "      <td>0.174338</td>\n",
       "      <td>0.180473</td>\n",
       "      <td>1.875170</td>\n",
       "      <td>0.640551</td>\n",
       "      <td>4.733027</td>\n",
       "      <td>0.219367</td>\n",
       "      <td>0.834341</td>\n",
       "      <td>1.738683</td>\n",
       "    </tr>\n",
       "    <tr>\n",
       "      <th>min</th>\n",
       "      <td>6086.000000</td>\n",
       "      <td>0.000000</td>\n",
       "      <td>0.000000</td>\n",
       "      <td>2017.0</td>\n",
       "      <td>1.000000</td>\n",
       "      <td>1.000000</td>\n",
       "      <td>0.000000</td>\n",
       "      <td>0.00000</td>\n",
       "      <td>0.000000</td>\n",
       "      <td>0.000000</td>\n",
       "      <td>0.000000</td>\n",
       "      <td>0.000000</td>\n",
       "      <td>0.000000</td>\n",
       "      <td>0.000000</td>\n",
       "      <td>0.000000</td>\n",
       "      <td>0.000000</td>\n",
       "      <td>0.000000</td>\n",
       "      <td>0.000000</td>\n",
       "      <td>1.000000</td>\n",
       "    </tr>\n",
       "    <tr>\n",
       "      <th>25%</th>\n",
       "      <td>45291.750000</td>\n",
       "      <td>0.000000</td>\n",
       "      <td>23.000000</td>\n",
       "      <td>2017.0</td>\n",
       "      <td>10.000000</td>\n",
       "      <td>8.000000</td>\n",
       "      <td>0.000000</td>\n",
       "      <td>1.00000</td>\n",
       "      <td>2.000000</td>\n",
       "      <td>0.000000</td>\n",
       "      <td>0.000000</td>\n",
       "      <td>0.000000</td>\n",
       "      <td>0.000000</td>\n",
       "      <td>0.000000</td>\n",
       "      <td>0.000000</td>\n",
       "      <td>0.000000</td>\n",
       "      <td>0.000000</td>\n",
       "      <td>0.000000</td>\n",
       "      <td>2.000000</td>\n",
       "    </tr>\n",
       "    <tr>\n",
       "      <th>50%</th>\n",
       "      <td>53394.500000</td>\n",
       "      <td>0.000000</td>\n",
       "      <td>76.000000</td>\n",
       "      <td>2017.0</td>\n",
       "      <td>18.000000</td>\n",
       "      <td>15.500000</td>\n",
       "      <td>1.000000</td>\n",
       "      <td>2.00000</td>\n",
       "      <td>2.000000</td>\n",
       "      <td>0.000000</td>\n",
       "      <td>0.000000</td>\n",
       "      <td>0.000000</td>\n",
       "      <td>0.000000</td>\n",
       "      <td>0.000000</td>\n",
       "      <td>0.000000</td>\n",
       "      <td>0.000000</td>\n",
       "      <td>0.000000</td>\n",
       "      <td>0.000000</td>\n",
       "      <td>3.000000</td>\n",
       "    </tr>\n",
       "    <tr>\n",
       "      <th>75%</th>\n",
       "      <td>89800.250000</td>\n",
       "      <td>1.000000</td>\n",
       "      <td>155.000000</td>\n",
       "      <td>2017.0</td>\n",
       "      <td>25.000000</td>\n",
       "      <td>23.000000</td>\n",
       "      <td>2.000000</td>\n",
       "      <td>3.00000</td>\n",
       "      <td>2.000000</td>\n",
       "      <td>0.000000</td>\n",
       "      <td>0.000000</td>\n",
       "      <td>0.000000</td>\n",
       "      <td>0.000000</td>\n",
       "      <td>0.000000</td>\n",
       "      <td>0.000000</td>\n",
       "      <td>0.000000</td>\n",
       "      <td>0.000000</td>\n",
       "      <td>1.000000</td>\n",
       "      <td>4.000000</td>\n",
       "    </tr>\n",
       "    <tr>\n",
       "      <th>max</th>\n",
       "      <td>97903.000000</td>\n",
       "      <td>1.000000</td>\n",
       "      <td>373.000000</td>\n",
       "      <td>2017.0</td>\n",
       "      <td>35.000000</td>\n",
       "      <td>31.000000</td>\n",
       "      <td>4.000000</td>\n",
       "      <td>6.00000</td>\n",
       "      <td>4.000000</td>\n",
       "      <td>3.000000</td>\n",
       "      <td>2.000000</td>\n",
       "      <td>1.000000</td>\n",
       "      <td>6.000000</td>\n",
       "      <td>72.000000</td>\n",
       "      <td>18.000000</td>\n",
       "      <td>223.000000</td>\n",
       "      <td>8.000000</td>\n",
       "      <td>5.000000</td>\n",
       "      <td>10.000000</td>\n",
       "    </tr>\n",
       "  </tbody>\n",
       "</table>\n",
       "</div>"
      ],
      "text/plain": [
       "                 id   is_canceled     lead_time  arrival_date_year  \\\n",
       "count  32412.000000  32412.000000  32412.000000            32412.0   \n",
       "mean   60131.505183      0.388467     97.587869             2017.0   \n",
       "std    29953.586177      0.487409     86.507146                0.0   \n",
       "min     6086.000000      0.000000      0.000000             2017.0   \n",
       "25%    45291.750000      0.000000     23.000000             2017.0   \n",
       "50%    53394.500000      0.000000     76.000000             2017.0   \n",
       "75%    89800.250000      1.000000    155.000000             2017.0   \n",
       "max    97903.000000      1.000000    373.000000             2017.0   \n",
       "\n",
       "       arrival_date_week_number  arrival_date_day_of_month  \\\n",
       "count              32412.000000               32412.000000   \n",
       "mean                  17.804054                  15.656948   \n",
       "std                    9.177384                   8.766429   \n",
       "min                    1.000000                   1.000000   \n",
       "25%                   10.000000                   8.000000   \n",
       "50%                   18.000000                  15.500000   \n",
       "75%                   25.000000                  23.000000   \n",
       "max                   35.000000                  31.000000   \n",
       "\n",
       "       stays_in_weekend_nights  stays_in_week_nights        adults  \\\n",
       "count             32412.000000           32412.00000  32412.000000   \n",
       "mean                  0.867888               2.34009      1.858602   \n",
       "std                   0.853394               1.37517      0.489341   \n",
       "min                   0.000000               0.00000      0.000000   \n",
       "25%                   0.000000               1.00000      2.000000   \n",
       "50%                   1.000000               2.00000      2.000000   \n",
       "75%                   2.000000               3.00000      2.000000   \n",
       "max                   4.000000               6.00000      4.000000   \n",
       "\n",
       "           children        babies  is_repeated_guest  previous_cancellations  \\\n",
       "count  32412.000000  32412.000000       32412.000000            32412.000000   \n",
       "mean       0.083765      0.005523           0.031377                0.011601   \n",
       "std        0.343470      0.075757           0.174338                0.180473   \n",
       "min        0.000000      0.000000           0.000000                0.000000   \n",
       "25%        0.000000      0.000000           0.000000                0.000000   \n",
       "50%        0.000000      0.000000           0.000000                0.000000   \n",
       "75%        0.000000      0.000000           0.000000                0.000000   \n",
       "max        3.000000      2.000000           1.000000                6.000000   \n",
       "\n",
       "       previous_bookings_not_canceled  booking_changes  days_in_waiting_list  \\\n",
       "count                    32412.000000     32412.000000          32412.000000   \n",
       "mean                         0.171418         0.216741              0.262341   \n",
       "std                          1.875170         0.640551              4.733027   \n",
       "min                          0.000000         0.000000              0.000000   \n",
       "25%                          0.000000         0.000000              0.000000   \n",
       "50%                          0.000000         0.000000              0.000000   \n",
       "75%                          0.000000         0.000000              0.000000   \n",
       "max                         72.000000        18.000000            223.000000   \n",
       "\n",
       "       required_car_parking_spaces  total_of_special_requests  total_nights  \n",
       "count                 32412.000000               32412.000000  32412.000000  \n",
       "mean                      0.046248                   0.657781      3.207979  \n",
       "std                       0.219367                   0.834341      1.738683  \n",
       "min                       0.000000                   0.000000      1.000000  \n",
       "25%                       0.000000                   0.000000      2.000000  \n",
       "50%                       0.000000                   0.000000      3.000000  \n",
       "75%                       0.000000                   1.000000      4.000000  \n",
       "max                       8.000000                   5.000000     10.000000  "
      ]
     },
     "metadata": {},
     "output_type": "display_data"
    }
   ],
   "source": [
    "display(hotel_train.describe())\n",
    "\n",
    "display(hotel_test.describe())"
   ]
  },
  {
   "cell_type": "code",
   "execution_count": 6,
   "metadata": {},
   "outputs": [
    {
     "name": "stdout",
     "output_type": "stream",
     "text": [
      "id                                0\n",
      "is_canceled                       0\n",
      "lead_time                         0\n",
      "arrival_date_year                 0\n",
      "arrival_date_month                0\n",
      "arrival_date_week_number          0\n",
      "arrival_date_day_of_month         0\n",
      "stays_in_weekend_nights           0\n",
      "stays_in_week_nights              0\n",
      "adults                            0\n",
      "children                          0\n",
      "babies                            0\n",
      "meal                              0\n",
      "country                           0\n",
      "distribution_channel              0\n",
      "is_repeated_guest                 0\n",
      "previous_cancellations            0\n",
      "previous_bookings_not_canceled    0\n",
      "reserved_room_type                0\n",
      "booking_changes                   0\n",
      "days_in_waiting_list              0\n",
      "customer_type                     0\n",
      "required_car_parking_spaces       0\n",
      "total_of_special_requests         0\n",
      "total_nights                      0\n",
      "dtype: int64\n",
      "id                                0\n",
      "is_canceled                       0\n",
      "lead_time                         0\n",
      "arrival_date_year                 0\n",
      "arrival_date_month                0\n",
      "arrival_date_week_number          0\n",
      "arrival_date_day_of_month         0\n",
      "stays_in_weekend_nights           0\n",
      "stays_in_week_nights              0\n",
      "adults                            0\n",
      "children                          0\n",
      "babies                            0\n",
      "meal                              0\n",
      "country                           0\n",
      "distribution_channel              0\n",
      "is_repeated_guest                 0\n",
      "previous_cancellations            0\n",
      "previous_bookings_not_canceled    0\n",
      "reserved_room_type                0\n",
      "booking_changes                   0\n",
      "days_in_waiting_list              0\n",
      "customer_type                     0\n",
      "required_car_parking_spaces       0\n",
      "total_of_special_requests         0\n",
      "total_nights                      0\n",
      "dtype: int64\n"
     ]
    }
   ],
   "source": [
    "print(hotel_train.isna().sum())\n",
    "print(hotel_test.isna().sum())"
   ]
  },
  {
   "cell_type": "markdown",
   "metadata": {},
   "source": [
    "явные дубликаты в датасетах"
   ]
  },
  {
   "cell_type": "markdown",
   "metadata": {},
   "source": [
    "пропуски в датасетах"
   ]
  },
  {
   "cell_type": "code",
   "execution_count": 7,
   "metadata": {
    "scrolled": true
   },
   "outputs": [
    {
     "name": "stdout",
     "output_type": "stream",
     "text": [
      "0\n",
      "0\n"
     ]
    }
   ],
   "source": [
    "print(hotel_train.duplicated().sum())\n",
    "print(hotel_test.duplicated().sum())"
   ]
  },
  {
   "cell_type": "markdown",
   "metadata": {},
   "source": [
    "удалаяем столбец id"
   ]
  },
  {
   "cell_type": "code",
   "execution_count": 8,
   "metadata": {},
   "outputs": [],
   "source": [
    "hotel_train=hotel_train.drop(['id'], axis=1)\n",
    "hotel_test=hotel_test.drop(['id'],axis=1)"
   ]
  },
  {
   "cell_type": "markdown",
   "metadata": {},
   "source": [
    "смотрим явные дубликаты в датасетах после удаления id"
   ]
  },
  {
   "cell_type": "code",
   "execution_count": 9,
   "metadata": {},
   "outputs": [
    {
     "name": "stdout",
     "output_type": "stream",
     "text": [
      "21377\n",
      "7717\n"
     ]
    }
   ],
   "source": [
    "print(hotel_train.duplicated().sum())\n",
    "print(hotel_test.duplicated().sum())"
   ]
  },
  {
   "cell_type": "markdown",
   "metadata": {},
   "source": [
    "удаляем явные дубликаты"
   ]
  },
  {
   "cell_type": "code",
   "execution_count": 10,
   "metadata": {
    "scrolled": true
   },
   "outputs": [
    {
     "name": "stdout",
     "output_type": "stream",
     "text": [
      "0\n",
      "0\n"
     ]
    }
   ],
   "source": [
    "hotel_train=hotel_train.drop_duplicates()\n",
    "hotel_test=hotel_test.drop_duplicates()\n",
    "print(hotel_train.duplicated().sum())\n",
    "print(hotel_test.duplicated().sum())"
   ]
  },
  {
   "cell_type": "code",
   "execution_count": null,
   "metadata": {},
   "outputs": [],
   "source": []
  },
  {
   "cell_type": "markdown",
   "metadata": {},
   "source": [
    "проверка на наличие корреляций"
   ]
  },
  {
   "cell_type": "code",
   "execution_count": 11,
   "metadata": {},
   "outputs": [
    {
     "data": {
      "text/html": [
       "<div>\n",
       "<style scoped>\n",
       "    .dataframe tbody tr th:only-of-type {\n",
       "        vertical-align: middle;\n",
       "    }\n",
       "\n",
       "    .dataframe tbody tr th {\n",
       "        vertical-align: top;\n",
       "    }\n",
       "\n",
       "    .dataframe thead th {\n",
       "        text-align: right;\n",
       "    }\n",
       "</style>\n",
       "<table border=\"1\" class=\"dataframe\">\n",
       "  <thead>\n",
       "    <tr style=\"text-align: right;\">\n",
       "      <th></th>\n",
       "      <th>is_canceled</th>\n",
       "      <th>lead_time</th>\n",
       "      <th>arrival_date_year</th>\n",
       "      <th>arrival_date_week_number</th>\n",
       "      <th>arrival_date_day_of_month</th>\n",
       "      <th>stays_in_weekend_nights</th>\n",
       "      <th>stays_in_week_nights</th>\n",
       "      <th>adults</th>\n",
       "      <th>children</th>\n",
       "      <th>babies</th>\n",
       "      <th>is_repeated_guest</th>\n",
       "      <th>previous_cancellations</th>\n",
       "      <th>previous_bookings_not_canceled</th>\n",
       "      <th>booking_changes</th>\n",
       "      <th>days_in_waiting_list</th>\n",
       "      <th>required_car_parking_spaces</th>\n",
       "      <th>total_of_special_requests</th>\n",
       "      <th>total_nights</th>\n",
       "    </tr>\n",
       "  </thead>\n",
       "  <tbody>\n",
       "    <tr>\n",
       "      <th>is_canceled</th>\n",
       "      <td>1.00</td>\n",
       "      <td>0.18</td>\n",
       "      <td>0.06</td>\n",
       "      <td>0.02</td>\n",
       "      <td>0.02</td>\n",
       "      <td>0.04</td>\n",
       "      <td>0.07</td>\n",
       "      <td>0.06</td>\n",
       "      <td>0.04</td>\n",
       "      <td>-0.02</td>\n",
       "      <td>-0.06</td>\n",
       "      <td>0.08</td>\n",
       "      <td>-0.04</td>\n",
       "      <td>-0.08</td>\n",
       "      <td>0.00</td>\n",
       "      <td>-0.17</td>\n",
       "      <td>-0.13</td>\n",
       "      <td>0.07</td>\n",
       "    </tr>\n",
       "    <tr>\n",
       "      <th>lead_time</th>\n",
       "      <td>0.18</td>\n",
       "      <td>1.00</td>\n",
       "      <td>0.10</td>\n",
       "      <td>0.10</td>\n",
       "      <td>0.02</td>\n",
       "      <td>0.20</td>\n",
       "      <td>0.32</td>\n",
       "      <td>0.14</td>\n",
       "      <td>0.01</td>\n",
       "      <td>-0.00</td>\n",
       "      <td>-0.13</td>\n",
       "      <td>0.04</td>\n",
       "      <td>-0.07</td>\n",
       "      <td>0.09</td>\n",
       "      <td>0.16</td>\n",
       "      <td>-0.07</td>\n",
       "      <td>0.02</td>\n",
       "      <td>0.34</td>\n",
       "    </tr>\n",
       "    <tr>\n",
       "      <th>arrival_date_year</th>\n",
       "      <td>0.06</td>\n",
       "      <td>0.10</td>\n",
       "      <td>1.00</td>\n",
       "      <td>-0.36</td>\n",
       "      <td>-0.00</td>\n",
       "      <td>-0.02</td>\n",
       "      <td>-0.04</td>\n",
       "      <td>0.05</td>\n",
       "      <td>0.03</td>\n",
       "      <td>-0.02</td>\n",
       "      <td>0.02</td>\n",
       "      <td>-0.06</td>\n",
       "      <td>0.04</td>\n",
       "      <td>0.01</td>\n",
       "      <td>0.00</td>\n",
       "      <td>-0.02</td>\n",
       "      <td>0.01</td>\n",
       "      <td>-0.04</td>\n",
       "    </tr>\n",
       "    <tr>\n",
       "      <th>arrival_date_week_number</th>\n",
       "      <td>0.02</td>\n",
       "      <td>0.10</td>\n",
       "      <td>-0.36</td>\n",
       "      <td>1.00</td>\n",
       "      <td>0.09</td>\n",
       "      <td>0.03</td>\n",
       "      <td>0.04</td>\n",
       "      <td>0.00</td>\n",
       "      <td>-0.00</td>\n",
       "      <td>0.01</td>\n",
       "      <td>-0.02</td>\n",
       "      <td>-0.01</td>\n",
       "      <td>-0.01</td>\n",
       "      <td>0.02</td>\n",
       "      <td>-0.02</td>\n",
       "      <td>-0.01</td>\n",
       "      <td>0.10</td>\n",
       "      <td>0.04</td>\n",
       "    </tr>\n",
       "    <tr>\n",
       "      <th>arrival_date_day_of_month</th>\n",
       "      <td>0.02</td>\n",
       "      <td>0.02</td>\n",
       "      <td>-0.00</td>\n",
       "      <td>0.09</td>\n",
       "      <td>1.00</td>\n",
       "      <td>-0.00</td>\n",
       "      <td>-0.00</td>\n",
       "      <td>0.01</td>\n",
       "      <td>0.02</td>\n",
       "      <td>-0.00</td>\n",
       "      <td>-0.01</td>\n",
       "      <td>-0.01</td>\n",
       "      <td>-0.00</td>\n",
       "      <td>0.02</td>\n",
       "      <td>-0.00</td>\n",
       "      <td>0.00</td>\n",
       "      <td>-0.00</td>\n",
       "      <td>-0.00</td>\n",
       "    </tr>\n",
       "    <tr>\n",
       "      <th>stays_in_weekend_nights</th>\n",
       "      <td>0.04</td>\n",
       "      <td>0.20</td>\n",
       "      <td>-0.02</td>\n",
       "      <td>0.03</td>\n",
       "      <td>-0.00</td>\n",
       "      <td>1.00</td>\n",
       "      <td>0.26</td>\n",
       "      <td>0.12</td>\n",
       "      <td>0.01</td>\n",
       "      <td>0.02</td>\n",
       "      <td>-0.10</td>\n",
       "      <td>-0.01</td>\n",
       "      <td>-0.04</td>\n",
       "      <td>0.01</td>\n",
       "      <td>-0.04</td>\n",
       "      <td>-0.04</td>\n",
       "      <td>0.05</td>\n",
       "      <td>0.66</td>\n",
       "    </tr>\n",
       "    <tr>\n",
       "      <th>stays_in_week_nights</th>\n",
       "      <td>0.07</td>\n",
       "      <td>0.32</td>\n",
       "      <td>-0.04</td>\n",
       "      <td>0.04</td>\n",
       "      <td>-0.00</td>\n",
       "      <td>0.26</td>\n",
       "      <td>1.00</td>\n",
       "      <td>0.14</td>\n",
       "      <td>0.01</td>\n",
       "      <td>0.02</td>\n",
       "      <td>-0.12</td>\n",
       "      <td>-0.01</td>\n",
       "      <td>-0.06</td>\n",
       "      <td>0.05</td>\n",
       "      <td>0.02</td>\n",
       "      <td>-0.05</td>\n",
       "      <td>0.06</td>\n",
       "      <td>0.89</td>\n",
       "    </tr>\n",
       "    <tr>\n",
       "      <th>adults</th>\n",
       "      <td>0.06</td>\n",
       "      <td>0.14</td>\n",
       "      <td>0.05</td>\n",
       "      <td>0.00</td>\n",
       "      <td>0.01</td>\n",
       "      <td>0.12</td>\n",
       "      <td>0.14</td>\n",
       "      <td>1.00</td>\n",
       "      <td>-0.02</td>\n",
       "      <td>0.02</td>\n",
       "      <td>-0.21</td>\n",
       "      <td>-0.04</td>\n",
       "      <td>-0.14</td>\n",
       "      <td>-0.05</td>\n",
       "      <td>-0.02</td>\n",
       "      <td>0.01</td>\n",
       "      <td>0.18</td>\n",
       "      <td>0.17</td>\n",
       "    </tr>\n",
       "    <tr>\n",
       "      <th>children</th>\n",
       "      <td>0.04</td>\n",
       "      <td>0.01</td>\n",
       "      <td>0.03</td>\n",
       "      <td>-0.00</td>\n",
       "      <td>0.02</td>\n",
       "      <td>0.01</td>\n",
       "      <td>0.01</td>\n",
       "      <td>-0.02</td>\n",
       "      <td>1.00</td>\n",
       "      <td>0.01</td>\n",
       "      <td>-0.04</td>\n",
       "      <td>-0.02</td>\n",
       "      <td>-0.02</td>\n",
       "      <td>0.04</td>\n",
       "      <td>-0.02</td>\n",
       "      <td>0.03</td>\n",
       "      <td>0.08</td>\n",
       "      <td>0.01</td>\n",
       "    </tr>\n",
       "    <tr>\n",
       "      <th>babies</th>\n",
       "      <td>-0.02</td>\n",
       "      <td>-0.00</td>\n",
       "      <td>-0.02</td>\n",
       "      <td>0.01</td>\n",
       "      <td>-0.00</td>\n",
       "      <td>0.02</td>\n",
       "      <td>0.02</td>\n",
       "      <td>0.02</td>\n",
       "      <td>0.01</td>\n",
       "      <td>1.00</td>\n",
       "      <td>-0.02</td>\n",
       "      <td>-0.01</td>\n",
       "      <td>-0.01</td>\n",
       "      <td>0.08</td>\n",
       "      <td>-0.01</td>\n",
       "      <td>0.02</td>\n",
       "      <td>0.10</td>\n",
       "      <td>0.02</td>\n",
       "    </tr>\n",
       "    <tr>\n",
       "      <th>is_repeated_guest</th>\n",
       "      <td>-0.06</td>\n",
       "      <td>-0.13</td>\n",
       "      <td>0.02</td>\n",
       "      <td>-0.02</td>\n",
       "      <td>-0.01</td>\n",
       "      <td>-0.10</td>\n",
       "      <td>-0.12</td>\n",
       "      <td>-0.21</td>\n",
       "      <td>-0.04</td>\n",
       "      <td>-0.02</td>\n",
       "      <td>1.00</td>\n",
       "      <td>0.22</td>\n",
       "      <td>0.46</td>\n",
       "      <td>0.01</td>\n",
       "      <td>-0.01</td>\n",
       "      <td>0.06</td>\n",
       "      <td>-0.05</td>\n",
       "      <td>-0.14</td>\n",
       "    </tr>\n",
       "    <tr>\n",
       "      <th>previous_cancellations</th>\n",
       "      <td>0.08</td>\n",
       "      <td>0.04</td>\n",
       "      <td>-0.06</td>\n",
       "      <td>-0.01</td>\n",
       "      <td>-0.01</td>\n",
       "      <td>-0.01</td>\n",
       "      <td>-0.01</td>\n",
       "      <td>-0.04</td>\n",
       "      <td>-0.02</td>\n",
       "      <td>-0.01</td>\n",
       "      <td>0.22</td>\n",
       "      <td>1.00</td>\n",
       "      <td>0.33</td>\n",
       "      <td>-0.01</td>\n",
       "      <td>0.01</td>\n",
       "      <td>-0.01</td>\n",
       "      <td>-0.02</td>\n",
       "      <td>-0.02</td>\n",
       "    </tr>\n",
       "    <tr>\n",
       "      <th>previous_bookings_not_canceled</th>\n",
       "      <td>-0.04</td>\n",
       "      <td>-0.07</td>\n",
       "      <td>0.04</td>\n",
       "      <td>-0.01</td>\n",
       "      <td>-0.00</td>\n",
       "      <td>-0.04</td>\n",
       "      <td>-0.06</td>\n",
       "      <td>-0.14</td>\n",
       "      <td>-0.02</td>\n",
       "      <td>-0.01</td>\n",
       "      <td>0.46</td>\n",
       "      <td>0.33</td>\n",
       "      <td>1.00</td>\n",
       "      <td>0.01</td>\n",
       "      <td>-0.01</td>\n",
       "      <td>0.03</td>\n",
       "      <td>-0.01</td>\n",
       "      <td>-0.06</td>\n",
       "    </tr>\n",
       "    <tr>\n",
       "      <th>booking_changes</th>\n",
       "      <td>-0.08</td>\n",
       "      <td>0.09</td>\n",
       "      <td>0.01</td>\n",
       "      <td>0.02</td>\n",
       "      <td>0.02</td>\n",
       "      <td>0.01</td>\n",
       "      <td>0.05</td>\n",
       "      <td>-0.05</td>\n",
       "      <td>0.04</td>\n",
       "      <td>0.08</td>\n",
       "      <td>0.01</td>\n",
       "      <td>-0.01</td>\n",
       "      <td>0.01</td>\n",
       "      <td>1.00</td>\n",
       "      <td>0.04</td>\n",
       "      <td>0.04</td>\n",
       "      <td>0.00</td>\n",
       "      <td>0.04</td>\n",
       "    </tr>\n",
       "    <tr>\n",
       "      <th>days_in_waiting_list</th>\n",
       "      <td>0.00</td>\n",
       "      <td>0.16</td>\n",
       "      <td>0.00</td>\n",
       "      <td>-0.02</td>\n",
       "      <td>-0.00</td>\n",
       "      <td>-0.04</td>\n",
       "      <td>0.02</td>\n",
       "      <td>-0.02</td>\n",
       "      <td>-0.02</td>\n",
       "      <td>-0.01</td>\n",
       "      <td>-0.01</td>\n",
       "      <td>0.01</td>\n",
       "      <td>-0.01</td>\n",
       "      <td>0.04</td>\n",
       "      <td>1.00</td>\n",
       "      <td>-0.02</td>\n",
       "      <td>-0.05</td>\n",
       "      <td>-0.00</td>\n",
       "    </tr>\n",
       "    <tr>\n",
       "      <th>required_car_parking_spaces</th>\n",
       "      <td>-0.17</td>\n",
       "      <td>-0.07</td>\n",
       "      <td>-0.02</td>\n",
       "      <td>-0.01</td>\n",
       "      <td>0.00</td>\n",
       "      <td>-0.04</td>\n",
       "      <td>-0.05</td>\n",
       "      <td>0.01</td>\n",
       "      <td>0.03</td>\n",
       "      <td>0.02</td>\n",
       "      <td>0.06</td>\n",
       "      <td>-0.01</td>\n",
       "      <td>0.03</td>\n",
       "      <td>0.04</td>\n",
       "      <td>-0.02</td>\n",
       "      <td>1.00</td>\n",
       "      <td>0.04</td>\n",
       "      <td>-0.06</td>\n",
       "    </tr>\n",
       "    <tr>\n",
       "      <th>total_of_special_requests</th>\n",
       "      <td>-0.13</td>\n",
       "      <td>0.02</td>\n",
       "      <td>0.01</td>\n",
       "      <td>0.10</td>\n",
       "      <td>-0.00</td>\n",
       "      <td>0.05</td>\n",
       "      <td>0.06</td>\n",
       "      <td>0.18</td>\n",
       "      <td>0.08</td>\n",
       "      <td>0.10</td>\n",
       "      <td>-0.05</td>\n",
       "      <td>-0.02</td>\n",
       "      <td>-0.01</td>\n",
       "      <td>0.00</td>\n",
       "      <td>-0.05</td>\n",
       "      <td>0.04</td>\n",
       "      <td>1.00</td>\n",
       "      <td>0.07</td>\n",
       "    </tr>\n",
       "    <tr>\n",
       "      <th>total_nights</th>\n",
       "      <td>0.07</td>\n",
       "      <td>0.34</td>\n",
       "      <td>-0.04</td>\n",
       "      <td>0.04</td>\n",
       "      <td>-0.00</td>\n",
       "      <td>0.66</td>\n",
       "      <td>0.89</td>\n",
       "      <td>0.17</td>\n",
       "      <td>0.01</td>\n",
       "      <td>0.02</td>\n",
       "      <td>-0.14</td>\n",
       "      <td>-0.02</td>\n",
       "      <td>-0.06</td>\n",
       "      <td>0.04</td>\n",
       "      <td>-0.00</td>\n",
       "      <td>-0.06</td>\n",
       "      <td>0.07</td>\n",
       "      <td>1.00</td>\n",
       "    </tr>\n",
       "  </tbody>\n",
       "</table>\n",
       "</div>"
      ],
      "text/plain": [
       "                                is_canceled  lead_time  arrival_date_year  \\\n",
       "is_canceled                            1.00       0.18               0.06   \n",
       "lead_time                              0.18       1.00               0.10   \n",
       "arrival_date_year                      0.06       0.10               1.00   \n",
       "arrival_date_week_number               0.02       0.10              -0.36   \n",
       "arrival_date_day_of_month              0.02       0.02              -0.00   \n",
       "stays_in_weekend_nights                0.04       0.20              -0.02   \n",
       "stays_in_week_nights                   0.07       0.32              -0.04   \n",
       "adults                                 0.06       0.14               0.05   \n",
       "children                               0.04       0.01               0.03   \n",
       "babies                                -0.02      -0.00              -0.02   \n",
       "is_repeated_guest                     -0.06      -0.13               0.02   \n",
       "previous_cancellations                 0.08       0.04              -0.06   \n",
       "previous_bookings_not_canceled        -0.04      -0.07               0.04   \n",
       "booking_changes                       -0.08       0.09               0.01   \n",
       "days_in_waiting_list                   0.00       0.16               0.00   \n",
       "required_car_parking_spaces           -0.17      -0.07              -0.02   \n",
       "total_of_special_requests             -0.13       0.02               0.01   \n",
       "total_nights                           0.07       0.34              -0.04   \n",
       "\n",
       "                                arrival_date_week_number  \\\n",
       "is_canceled                                         0.02   \n",
       "lead_time                                           0.10   \n",
       "arrival_date_year                                  -0.36   \n",
       "arrival_date_week_number                            1.00   \n",
       "arrival_date_day_of_month                           0.09   \n",
       "stays_in_weekend_nights                             0.03   \n",
       "stays_in_week_nights                                0.04   \n",
       "adults                                              0.00   \n",
       "children                                           -0.00   \n",
       "babies                                              0.01   \n",
       "is_repeated_guest                                  -0.02   \n",
       "previous_cancellations                             -0.01   \n",
       "previous_bookings_not_canceled                     -0.01   \n",
       "booking_changes                                     0.02   \n",
       "days_in_waiting_list                               -0.02   \n",
       "required_car_parking_spaces                        -0.01   \n",
       "total_of_special_requests                           0.10   \n",
       "total_nights                                        0.04   \n",
       "\n",
       "                                arrival_date_day_of_month  \\\n",
       "is_canceled                                          0.02   \n",
       "lead_time                                            0.02   \n",
       "arrival_date_year                                   -0.00   \n",
       "arrival_date_week_number                             0.09   \n",
       "arrival_date_day_of_month                            1.00   \n",
       "stays_in_weekend_nights                             -0.00   \n",
       "stays_in_week_nights                                -0.00   \n",
       "adults                                               0.01   \n",
       "children                                             0.02   \n",
       "babies                                              -0.00   \n",
       "is_repeated_guest                                   -0.01   \n",
       "previous_cancellations                              -0.01   \n",
       "previous_bookings_not_canceled                      -0.00   \n",
       "booking_changes                                      0.02   \n",
       "days_in_waiting_list                                -0.00   \n",
       "required_car_parking_spaces                          0.00   \n",
       "total_of_special_requests                           -0.00   \n",
       "total_nights                                        -0.00   \n",
       "\n",
       "                                stays_in_weekend_nights  stays_in_week_nights  \\\n",
       "is_canceled                                        0.04                  0.07   \n",
       "lead_time                                          0.20                  0.32   \n",
       "arrival_date_year                                 -0.02                 -0.04   \n",
       "arrival_date_week_number                           0.03                  0.04   \n",
       "arrival_date_day_of_month                         -0.00                 -0.00   \n",
       "stays_in_weekend_nights                            1.00                  0.26   \n",
       "stays_in_week_nights                               0.26                  1.00   \n",
       "adults                                             0.12                  0.14   \n",
       "children                                           0.01                  0.01   \n",
       "babies                                             0.02                  0.02   \n",
       "is_repeated_guest                                 -0.10                 -0.12   \n",
       "previous_cancellations                            -0.01                 -0.01   \n",
       "previous_bookings_not_canceled                    -0.04                 -0.06   \n",
       "booking_changes                                    0.01                  0.05   \n",
       "days_in_waiting_list                              -0.04                  0.02   \n",
       "required_car_parking_spaces                       -0.04                 -0.05   \n",
       "total_of_special_requests                          0.05                  0.06   \n",
       "total_nights                                       0.66                  0.89   \n",
       "\n",
       "                                adults  children  babies  is_repeated_guest  \\\n",
       "is_canceled                       0.06      0.04   -0.02              -0.06   \n",
       "lead_time                         0.14      0.01   -0.00              -0.13   \n",
       "arrival_date_year                 0.05      0.03   -0.02               0.02   \n",
       "arrival_date_week_number          0.00     -0.00    0.01              -0.02   \n",
       "arrival_date_day_of_month         0.01      0.02   -0.00              -0.01   \n",
       "stays_in_weekend_nights           0.12      0.01    0.02              -0.10   \n",
       "stays_in_week_nights              0.14      0.01    0.02              -0.12   \n",
       "adults                            1.00     -0.02    0.02              -0.21   \n",
       "children                         -0.02      1.00    0.01              -0.04   \n",
       "babies                            0.02      0.01    1.00              -0.02   \n",
       "is_repeated_guest                -0.21     -0.04   -0.02               1.00   \n",
       "previous_cancellations           -0.04     -0.02   -0.01               0.22   \n",
       "previous_bookings_not_canceled   -0.14     -0.02   -0.01               0.46   \n",
       "booking_changes                  -0.05      0.04    0.08               0.01   \n",
       "days_in_waiting_list             -0.02     -0.02   -0.01              -0.01   \n",
       "required_car_parking_spaces       0.01      0.03    0.02               0.06   \n",
       "total_of_special_requests         0.18      0.08    0.10              -0.05   \n",
       "total_nights                      0.17      0.01    0.02              -0.14   \n",
       "\n",
       "                                previous_cancellations  \\\n",
       "is_canceled                                       0.08   \n",
       "lead_time                                         0.04   \n",
       "arrival_date_year                                -0.06   \n",
       "arrival_date_week_number                         -0.01   \n",
       "arrival_date_day_of_month                        -0.01   \n",
       "stays_in_weekend_nights                          -0.01   \n",
       "stays_in_week_nights                             -0.01   \n",
       "adults                                           -0.04   \n",
       "children                                         -0.02   \n",
       "babies                                           -0.01   \n",
       "is_repeated_guest                                 0.22   \n",
       "previous_cancellations                            1.00   \n",
       "previous_bookings_not_canceled                    0.33   \n",
       "booking_changes                                  -0.01   \n",
       "days_in_waiting_list                              0.01   \n",
       "required_car_parking_spaces                      -0.01   \n",
       "total_of_special_requests                        -0.02   \n",
       "total_nights                                     -0.02   \n",
       "\n",
       "                                previous_bookings_not_canceled  \\\n",
       "is_canceled                                              -0.04   \n",
       "lead_time                                                -0.07   \n",
       "arrival_date_year                                         0.04   \n",
       "arrival_date_week_number                                 -0.01   \n",
       "arrival_date_day_of_month                                -0.00   \n",
       "stays_in_weekend_nights                                  -0.04   \n",
       "stays_in_week_nights                                     -0.06   \n",
       "adults                                                   -0.14   \n",
       "children                                                 -0.02   \n",
       "babies                                                   -0.01   \n",
       "is_repeated_guest                                         0.46   \n",
       "previous_cancellations                                    0.33   \n",
       "previous_bookings_not_canceled                            1.00   \n",
       "booking_changes                                           0.01   \n",
       "days_in_waiting_list                                     -0.01   \n",
       "required_car_parking_spaces                               0.03   \n",
       "total_of_special_requests                                -0.01   \n",
       "total_nights                                             -0.06   \n",
       "\n",
       "                                booking_changes  days_in_waiting_list  \\\n",
       "is_canceled                               -0.08                  0.00   \n",
       "lead_time                                  0.09                  0.16   \n",
       "arrival_date_year                          0.01                  0.00   \n",
       "arrival_date_week_number                   0.02                 -0.02   \n",
       "arrival_date_day_of_month                  0.02                 -0.00   \n",
       "stays_in_weekend_nights                    0.01                 -0.04   \n",
       "stays_in_week_nights                       0.05                  0.02   \n",
       "adults                                    -0.05                 -0.02   \n",
       "children                                   0.04                 -0.02   \n",
       "babies                                     0.08                 -0.01   \n",
       "is_repeated_guest                          0.01                 -0.01   \n",
       "previous_cancellations                    -0.01                  0.01   \n",
       "previous_bookings_not_canceled             0.01                 -0.01   \n",
       "booking_changes                            1.00                  0.04   \n",
       "days_in_waiting_list                       0.04                  1.00   \n",
       "required_car_parking_spaces                0.04                 -0.02   \n",
       "total_of_special_requests                  0.00                 -0.05   \n",
       "total_nights                               0.04                 -0.00   \n",
       "\n",
       "                                required_car_parking_spaces  \\\n",
       "is_canceled                                           -0.17   \n",
       "lead_time                                             -0.07   \n",
       "arrival_date_year                                     -0.02   \n",
       "arrival_date_week_number                              -0.01   \n",
       "arrival_date_day_of_month                              0.00   \n",
       "stays_in_weekend_nights                               -0.04   \n",
       "stays_in_week_nights                                  -0.05   \n",
       "adults                                                 0.01   \n",
       "children                                               0.03   \n",
       "babies                                                 0.02   \n",
       "is_repeated_guest                                      0.06   \n",
       "previous_cancellations                                -0.01   \n",
       "previous_bookings_not_canceled                         0.03   \n",
       "booking_changes                                        0.04   \n",
       "days_in_waiting_list                                  -0.02   \n",
       "required_car_parking_spaces                            1.00   \n",
       "total_of_special_requests                              0.04   \n",
       "total_nights                                          -0.06   \n",
       "\n",
       "                                total_of_special_requests  total_nights  \n",
       "is_canceled                                         -0.13          0.07  \n",
       "lead_time                                            0.02          0.34  \n",
       "arrival_date_year                                    0.01         -0.04  \n",
       "arrival_date_week_number                             0.10          0.04  \n",
       "arrival_date_day_of_month                           -0.00         -0.00  \n",
       "stays_in_weekend_nights                              0.05          0.66  \n",
       "stays_in_week_nights                                 0.06          0.89  \n",
       "adults                                               0.18          0.17  \n",
       "children                                             0.08          0.01  \n",
       "babies                                               0.10          0.02  \n",
       "is_repeated_guest                                   -0.05         -0.14  \n",
       "previous_cancellations                              -0.02         -0.02  \n",
       "previous_bookings_not_canceled                      -0.01         -0.06  \n",
       "booking_changes                                      0.00          0.04  \n",
       "days_in_waiting_list                                -0.05         -0.00  \n",
       "required_car_parking_spaces                          0.04         -0.06  \n",
       "total_of_special_requests                            1.00          0.07  \n",
       "total_nights                                         0.07          1.00  "
      ]
     },
     "metadata": {},
     "output_type": "display_data"
    },
    {
     "data": {
      "text/plain": [
       "<AxesSubplot:>"
      ]
     },
     "execution_count": 11,
     "metadata": {},
     "output_type": "execute_result"
    },
    {
     "data": {
      "image/png": "[encoded data removed]",
      "text/plain": [
       "<Figure size 1080x720 with 2 Axes>"
      ]
     },
     "metadata": {
      "needs_background": "light"
     },
     "output_type": "display_data"
    }
   ],
   "source": [
    "display(hotel_train.corr().round(2))\n",
    "plt.rcParams['figure.figsize'] = (15, 10)\n",
    "sns.heatmap(hotel_train.corr(), annot=True, linewidths=3, linecolor='white')"
   ]
  },
  {
   "cell_type": "markdown",
   "metadata": {},
   "source": [
    "уникальные значения и их количество в столбце отмена заказа"
   ]
  },
  {
   "cell_type": "code",
   "execution_count": 12,
   "metadata": {},
   "outputs": [
    {
     "data": {
      "text/plain": [
       "Text(0.5, 1.0, 'Отмена заказа')"
      ]
     },
     "execution_count": 12,
     "metadata": {},
     "output_type": "execute_result"
    },
    {
     "data": {
      "image/png": "[encoded data removed]",
      "text/plain": [
       "<Figure size 648x648 with 1 Axes>"
      ]
     },
     "metadata": {},
     "output_type": "display_data"
    }
   ],
   "source": [
    "hotel_train['is_canceled'].value_counts() \n",
    "hotel_train['is_canceled'].value_counts().plot(kind='pie', figsize=(9, 9), autopct='%1.1f%%')\n",
    "plt.title('Отмена заказа')"
   ]
  },
  {
   "cell_type": "markdown",
   "metadata": {},
   "source": [
    "уникальные значения и их количество в столбце месяц заезда"
   ]
  },
  {
   "cell_type": "code",
   "execution_count": 13,
   "metadata": {},
   "outputs": [
    {
     "name": "stdout",
     "output_type": "stream",
     "text": [
      "October      5514\n",
      "September    5212\n",
      "August       4725\n",
      "December     4135\n",
      "November     4099\n",
      "July         4016\n",
      "March        3247\n",
      "April        3219\n",
      "May          3086\n",
      "June         2828\n",
      "February     2300\n",
      "January      1471\n",
      "Name: arrival_date_month, dtype: int64\n"
     ]
    },
    {
     "data": {
      "text/plain": [
       "<matplotlib.legend.Legend at 0x7f3f4f7f12b0>"
      ]
     },
     "execution_count": 13,
     "metadata": {},
     "output_type": "execute_result"
    },
    {
     "data": {
      "image/png": "[encoded data removed]",
      "text/plain": [
       "<Figure size 648x648 with 1 Axes>"
      ]
     },
     "metadata": {
      "needs_background": "light"
     },
     "output_type": "display_data"
    }
   ],
   "source": [
    "print(hotel_train['arrival_date_month'].value_counts())\n",
    "hotel_train['arrival_date_month'].value_counts().plot(kind='bar', figsize=(9, 9))\n",
    "plt.title('Количество заездов в каждый месяц')\n",
    "plt.xlabel('Месяц')\n",
    "plt.ylabel('Количество')\n",
    "plt.legend([])"
   ]
  },
  {
   "cell_type": "markdown",
   "metadata": {},
   "source": [
    "уникальные значения и их количество в столбце тип забронированной комнаты"
   ]
  },
  {
   "cell_type": "code",
   "execution_count": 14,
   "metadata": {},
   "outputs": [
    {
     "data": {
      "text/plain": [
       "Text(0.5, 1.0, 'Тип забронированных комнат')"
      ]
     },
     "execution_count": 14,
     "metadata": {},
     "output_type": "execute_result"
    },
    {
     "data": {
      "image/png": "[encoded data removed]",
      "text/plain": [
       "<Figure size 648x648 with 1 Axes>"
      ]
     },
     "metadata": {
      "needs_background": "light"
     },
     "output_type": "display_data"
    }
   ],
   "source": [
    "hotel_train['reserved_room_type'].value_counts() \n",
    "hotel_train['reserved_room_type'].value_counts().plot(kind='bar', figsize=(9, 9))\n",
    "plt.title('Тип забронированных комнат')"
   ]
  },
  {
   "cell_type": "markdown",
   "metadata": {},
   "source": [
    "вывод:В датафреймах hotel_train и hotel_test содержатся одинаковые столбцы, в которых имеются категориальные и количественные даные. В каждом фрейме содержится по 25 столбцов.\n",
    "в таблицах содержится 25 столбцов, тип данных столбцов - float64(4), int64(15), object(6). Тип данных float64 необходимо заменить на int64;\n",
    "дубликаты отсутсвуют;\n",
    "пропуски не обнаружены;\n",
    "данные распределены нормально, выбросы не обнаружены. Так, в столбце lead_time содержится количество дней между датой бронирования и датой прибытияминимальное, при этом минимальное значение 0, а максимальное 374, что вполне может быть - бронирование и заселение день в день, и бронирование более чем за год;\n",
    "в столбце reserved_room_type содержится тип забронированной комнаты, данные соответствуют условиям задачи;\n",
    "в обучающей выборке содержатся данные за 2015-2016 год, а в тестовой за 2017 год;\n",
    "больше всего заездов в октябре, сентябре и августе, меньше всего в январе., феврале, марте;\n",
    "25% клиетов отменяют бронь или не заезжают в номер;\n",
    "77% из всех забронированных комнатах составляеют номера категории А (самые дорогие);\n",
    "в основном данные коррелируют слабо между собой."
   ]
  },
  {
   "cell_type": "markdown",
   "metadata": {},
   "source": [
    "### Шаг 2. Предобработка и исследовательский анализ данных"
   ]
  },
  {
   "cell_type": "markdown",
   "metadata": {},
   "source": [
    "В столбцах lead_time, adults, children, babies тип данных float64, заменим на int64."
   ]
  },
  {
   "cell_type": "code",
   "execution_count": 15,
   "metadata": {},
   "outputs": [
    {
     "name": "stdout",
     "output_type": "stream",
     "text": [
      "<class 'pandas.core.frame.DataFrame'>\n",
      "Int64Index: 43852 entries, 0 to 65228\n",
      "Data columns (total 24 columns):\n",
      " #   Column                          Non-Null Count  Dtype  \n",
      "---  ------                          --------------  -----  \n",
      " 0   is_canceled                     43852 non-null  int64  \n",
      " 1   lead_time                       43852 non-null  float64\n",
      " 2   arrival_date_year               43852 non-null  int64  \n",
      " 3   arrival_date_month              43852 non-null  object \n",
      " 4   arrival_date_week_number        43852 non-null  int64  \n",
      " 5   arrival_date_day_of_month       43852 non-null  int64  \n",
      " 6   stays_in_weekend_nights         43852 non-null  int64  \n",
      " 7   stays_in_week_nights            43852 non-null  int64  \n",
      " 8   adults                          43852 non-null  float64\n",
      " 9   children                        43852 non-null  float64\n",
      " 10  babies                          43852 non-null  float64\n",
      " 11  meal                            43852 non-null  object \n",
      " 12  country                         43852 non-null  object \n",
      " 13  distribution_channel            43852 non-null  object \n",
      " 14  is_repeated_guest               43852 non-null  int64  \n",
      " 15  previous_cancellations          43852 non-null  int64  \n",
      " 16  previous_bookings_not_canceled  43852 non-null  int64  \n",
      " 17  reserved_room_type              43852 non-null  object \n",
      " 18  booking_changes                 43852 non-null  int64  \n",
      " 19  days_in_waiting_list            43852 non-null  int64  \n",
      " 20  customer_type                   43852 non-null  object \n",
      " 21  required_car_parking_spaces     43852 non-null  int64  \n",
      " 22  total_of_special_requests       43852 non-null  int64  \n",
      " 23  total_nights                    43852 non-null  int64  \n",
      "dtypes: float64(4), int64(14), object(6)\n",
      "memory usage: 8.4+ MB\n",
      "<class 'pandas.core.frame.DataFrame'>\n",
      "Int64Index: 24695 entries, 0 to 32411\n",
      "Data columns (total 24 columns):\n",
      " #   Column                          Non-Null Count  Dtype \n",
      "---  ------                          --------------  ----- \n",
      " 0   is_canceled                     24695 non-null  int64 \n",
      " 1   lead_time                       24695 non-null  int64 \n",
      " 2   arrival_date_year               24695 non-null  int64 \n",
      " 3   arrival_date_month              24695 non-null  object\n",
      " 4   arrival_date_week_number        24695 non-null  int64 \n",
      " 5   arrival_date_day_of_month       24695 non-null  int64 \n",
      " 6   stays_in_weekend_nights         24695 non-null  int64 \n",
      " 7   stays_in_week_nights            24695 non-null  int64 \n",
      " 8   adults                          24695 non-null  int64 \n",
      " 9   children                        24695 non-null  int64 \n",
      " 10  babies                          24695 non-null  int64 \n",
      " 11  meal                            24695 non-null  object\n",
      " 12  country                         24695 non-null  object\n",
      " 13  distribution_channel            24695 non-null  object\n",
      " 14  is_repeated_guest               24695 non-null  int64 \n",
      " 15  previous_cancellations          24695 non-null  int64 \n",
      " 16  previous_bookings_not_canceled  24695 non-null  int64 \n",
      " 17  reserved_room_type              24695 non-null  object\n",
      " 18  booking_changes                 24695 non-null  int64 \n",
      " 19  days_in_waiting_list            24695 non-null  int64 \n",
      " 20  customer_type                   24695 non-null  object\n",
      " 21  required_car_parking_spaces     24695 non-null  int64 \n",
      " 22  total_of_special_requests       24695 non-null  int64 \n",
      " 23  total_nights                    24695 non-null  int64 \n",
      "dtypes: int64(18), object(6)\n",
      "memory usage: 4.7+ MB\n"
     ]
    }
   ],
   "source": [
    "hotel_train, hotel_test = hotel_train, hotel_test.astype(\n",
    "    {'lead_time': 'int64', 'adults': 'int64', 'children':'int64',\n",
    "     'babies': 'int64'}    \n",
    ")\n",
    "\n",
    "hotel_train.info()\n",
    "hotel_test.info()"
   ]
  },
  {
   "cell_type": "markdown",
   "metadata": {},
   "source": [
    "Расчитаем прибыль отеля до внедрения машинного обучения. Прибыль отеля — это разница между стоимостью номера за все ночи и затраты на обслуживание: как при подготовке номера, так и при проживании постояльца.В отеле есть несколько типов номеров. В зависимости от типа номера назначается стоимость за одну ночь. Есть также затраты на уборку. Если клиент снял номер надолго, то убираются каждые два дня."
   ]
  },
  {
   "cell_type": "markdown",
   "metadata": {},
   "source": [
    "Удалим пробелы в строках в столбце reserved_room_type и meal.\n",
    "\n",
    "Удалим столбцы id"
   ]
  },
  {
   "cell_type": "code",
   "execution_count": 16,
   "metadata": {},
   "outputs": [],
   "source": [
    "hotel_train['reserved_room_type'] = hotel_train['reserved_room_type'].str.strip() \n",
    "hotel_test['reserved_room_type'] = hotel_test['reserved_room_type'].str.strip() \n",
    "\n",
    "hotel_train['meal'] = hotel_train['meal'].str.strip() \n",
    "hotel_test['meal'] = hotel_test['meal'].str.strip() \n"
   ]
  },
  {
   "cell_type": "code",
   "execution_count": 17,
   "metadata": {
    "scrolled": true
   },
   "outputs": [
    {
     "data": {
      "text/html": [
       "<div>\n",
       "<style scoped>\n",
       "    .dataframe tbody tr th:only-of-type {\n",
       "        vertical-align: middle;\n",
       "    }\n",
       "\n",
       "    .dataframe tbody tr th {\n",
       "        vertical-align: top;\n",
       "    }\n",
       "\n",
       "    .dataframe thead th {\n",
       "        text-align: right;\n",
       "    }\n",
       "</style>\n",
       "<table border=\"1\" class=\"dataframe\">\n",
       "  <thead>\n",
       "    <tr style=\"text-align: right;\">\n",
       "      <th></th>\n",
       "      <th>is_canceled</th>\n",
       "      <th>lead_time</th>\n",
       "      <th>arrival_date_year</th>\n",
       "      <th>arrival_date_month</th>\n",
       "      <th>arrival_date_week_number</th>\n",
       "      <th>arrival_date_day_of_month</th>\n",
       "      <th>stays_in_weekend_nights</th>\n",
       "      <th>stays_in_week_nights</th>\n",
       "      <th>adults</th>\n",
       "      <th>children</th>\n",
       "      <th>...</th>\n",
       "      <th>is_repeated_guest</th>\n",
       "      <th>previous_cancellations</th>\n",
       "      <th>previous_bookings_not_canceled</th>\n",
       "      <th>reserved_room_type</th>\n",
       "      <th>booking_changes</th>\n",
       "      <th>days_in_waiting_list</th>\n",
       "      <th>customer_type</th>\n",
       "      <th>required_car_parking_spaces</th>\n",
       "      <th>total_of_special_requests</th>\n",
       "      <th>total_nights</th>\n",
       "    </tr>\n",
       "  </thead>\n",
       "  <tbody>\n",
       "    <tr>\n",
       "      <th>0</th>\n",
       "      <td>0</td>\n",
       "      <td>7.0</td>\n",
       "      <td>2015</td>\n",
       "      <td>July</td>\n",
       "      <td>27</td>\n",
       "      <td>1</td>\n",
       "      <td>0</td>\n",
       "      <td>1</td>\n",
       "      <td>1.0</td>\n",
       "      <td>0.0</td>\n",
       "      <td>...</td>\n",
       "      <td>0</td>\n",
       "      <td>0</td>\n",
       "      <td>0</td>\n",
       "      <td>A</td>\n",
       "      <td>0</td>\n",
       "      <td>0</td>\n",
       "      <td>Transient</td>\n",
       "      <td>0</td>\n",
       "      <td>0</td>\n",
       "      <td>1</td>\n",
       "    </tr>\n",
       "    <tr>\n",
       "      <th>1</th>\n",
       "      <td>0</td>\n",
       "      <td>14.0</td>\n",
       "      <td>2015</td>\n",
       "      <td>July</td>\n",
       "      <td>27</td>\n",
       "      <td>1</td>\n",
       "      <td>0</td>\n",
       "      <td>2</td>\n",
       "      <td>2.0</td>\n",
       "      <td>0.0</td>\n",
       "      <td>...</td>\n",
       "      <td>0</td>\n",
       "      <td>0</td>\n",
       "      <td>0</td>\n",
       "      <td>A</td>\n",
       "      <td>0</td>\n",
       "      <td>0</td>\n",
       "      <td>Transient</td>\n",
       "      <td>0</td>\n",
       "      <td>1</td>\n",
       "      <td>2</td>\n",
       "    </tr>\n",
       "    <tr>\n",
       "      <th>2</th>\n",
       "      <td>0</td>\n",
       "      <td>0.0</td>\n",
       "      <td>2015</td>\n",
       "      <td>July</td>\n",
       "      <td>27</td>\n",
       "      <td>1</td>\n",
       "      <td>0</td>\n",
       "      <td>2</td>\n",
       "      <td>2.0</td>\n",
       "      <td>0.0</td>\n",
       "      <td>...</td>\n",
       "      <td>0</td>\n",
       "      <td>0</td>\n",
       "      <td>0</td>\n",
       "      <td>C</td>\n",
       "      <td>0</td>\n",
       "      <td>0</td>\n",
       "      <td>Transient</td>\n",
       "      <td>0</td>\n",
       "      <td>0</td>\n",
       "      <td>2</td>\n",
       "    </tr>\n",
       "    <tr>\n",
       "      <th>3</th>\n",
       "      <td>0</td>\n",
       "      <td>9.0</td>\n",
       "      <td>2015</td>\n",
       "      <td>July</td>\n",
       "      <td>27</td>\n",
       "      <td>1</td>\n",
       "      <td>0</td>\n",
       "      <td>2</td>\n",
       "      <td>2.0</td>\n",
       "      <td>0.0</td>\n",
       "      <td>...</td>\n",
       "      <td>0</td>\n",
       "      <td>0</td>\n",
       "      <td>0</td>\n",
       "      <td>C</td>\n",
       "      <td>0</td>\n",
       "      <td>0</td>\n",
       "      <td>Transient</td>\n",
       "      <td>0</td>\n",
       "      <td>1</td>\n",
       "      <td>2</td>\n",
       "    </tr>\n",
       "    <tr>\n",
       "      <th>4</th>\n",
       "      <td>1</td>\n",
       "      <td>85.0</td>\n",
       "      <td>2015</td>\n",
       "      <td>July</td>\n",
       "      <td>27</td>\n",
       "      <td>1</td>\n",
       "      <td>0</td>\n",
       "      <td>3</td>\n",
       "      <td>2.0</td>\n",
       "      <td>0.0</td>\n",
       "      <td>...</td>\n",
       "      <td>0</td>\n",
       "      <td>0</td>\n",
       "      <td>0</td>\n",
       "      <td>A</td>\n",
       "      <td>0</td>\n",
       "      <td>0</td>\n",
       "      <td>Transient</td>\n",
       "      <td>0</td>\n",
       "      <td>1</td>\n",
       "      <td>3</td>\n",
       "    </tr>\n",
       "  </tbody>\n",
       "</table>\n",
       "<p>5 rows × 24 columns</p>\n",
       "</div>"
      ],
      "text/plain": [
       "   is_canceled  lead_time  arrival_date_year arrival_date_month  \\\n",
       "0            0        7.0               2015               July   \n",
       "1            0       14.0               2015               July   \n",
       "2            0        0.0               2015               July   \n",
       "3            0        9.0               2015               July   \n",
       "4            1       85.0               2015               July   \n",
       "\n",
       "   arrival_date_week_number  arrival_date_day_of_month  \\\n",
       "0                        27                          1   \n",
       "1                        27                          1   \n",
       "2                        27                          1   \n",
       "3                        27                          1   \n",
       "4                        27                          1   \n",
       "\n",
       "   stays_in_weekend_nights  stays_in_week_nights  adults  children  ...  \\\n",
       "0                        0                     1     1.0       0.0  ...   \n",
       "1                        0                     2     2.0       0.0  ...   \n",
       "2                        0                     2     2.0       0.0  ...   \n",
       "3                        0                     2     2.0       0.0  ...   \n",
       "4                        0                     3     2.0       0.0  ...   \n",
       "\n",
       "   is_repeated_guest previous_cancellations previous_bookings_not_canceled  \\\n",
       "0                  0                      0                              0   \n",
       "1                  0                      0                              0   \n",
       "2                  0                      0                              0   \n",
       "3                  0                      0                              0   \n",
       "4                  0                      0                              0   \n",
       "\n",
       "  reserved_room_type  booking_changes  days_in_waiting_list  customer_type  \\\n",
       "0                  A                0                     0      Transient   \n",
       "1                  A                0                     0      Transient   \n",
       "2                  C                0                     0      Transient   \n",
       "3                  C                0                     0      Transient   \n",
       "4                  A                0                     0      Transient   \n",
       "\n",
       "  required_car_parking_spaces  total_of_special_requests  total_nights  \n",
       "0                           0                          0             1  \n",
       "1                           0                          1             2  \n",
       "2                           0                          0             2  \n",
       "3                           0                          1             2  \n",
       "4                           0                          1             3  \n",
       "\n",
       "[5 rows x 24 columns]"
      ]
     },
     "execution_count": 17,
     "metadata": {},
     "output_type": "execute_result"
    }
   ],
   "source": [
    "hotel_train.head()"
   ]
  },
  {
   "cell_type": "markdown",
   "metadata": {},
   "source": [
    "Создадим копию hotel_test\n",
    "\n",
    "Оставим те столбцы, которые пригодятся для расчета прибыли"
   ]
  },
  {
   "cell_type": "code",
   "execution_count": 18,
   "metadata": {
    "scrolled": true
   },
   "outputs": [
    {
     "data": {
      "text/html": [
       "<div>\n",
       "<style scoped>\n",
       "    .dataframe tbody tr th:only-of-type {\n",
       "        vertical-align: middle;\n",
       "    }\n",
       "\n",
       "    .dataframe tbody tr th {\n",
       "        vertical-align: top;\n",
       "    }\n",
       "\n",
       "    .dataframe thead th {\n",
       "        text-align: right;\n",
       "    }\n",
       "</style>\n",
       "<table border=\"1\" class=\"dataframe\">\n",
       "  <thead>\n",
       "    <tr style=\"text-align: right;\">\n",
       "      <th></th>\n",
       "      <th>is_canceled</th>\n",
       "      <th>arrival_date_year</th>\n",
       "      <th>arrival_date_month</th>\n",
       "      <th>arrival_date_week_number</th>\n",
       "      <th>arrival_date_day_of_month</th>\n",
       "      <th>reserved_room_type</th>\n",
       "      <th>total_nights</th>\n",
       "    </tr>\n",
       "  </thead>\n",
       "  <tbody>\n",
       "    <tr>\n",
       "      <th>0</th>\n",
       "      <td>1</td>\n",
       "      <td>2017</td>\n",
       "      <td>January</td>\n",
       "      <td>1</td>\n",
       "      <td>1</td>\n",
       "      <td>A</td>\n",
       "      <td>1</td>\n",
       "    </tr>\n",
       "    <tr>\n",
       "      <th>1</th>\n",
       "      <td>1</td>\n",
       "      <td>2017</td>\n",
       "      <td>January</td>\n",
       "      <td>1</td>\n",
       "      <td>1</td>\n",
       "      <td>A</td>\n",
       "      <td>4</td>\n",
       "    </tr>\n",
       "    <tr>\n",
       "      <th>3</th>\n",
       "      <td>1</td>\n",
       "      <td>2017</td>\n",
       "      <td>January</td>\n",
       "      <td>1</td>\n",
       "      <td>1</td>\n",
       "      <td>A</td>\n",
       "      <td>4</td>\n",
       "    </tr>\n",
       "    <tr>\n",
       "      <th>4</th>\n",
       "      <td>1</td>\n",
       "      <td>2017</td>\n",
       "      <td>January</td>\n",
       "      <td>1</td>\n",
       "      <td>1</td>\n",
       "      <td>A</td>\n",
       "      <td>7</td>\n",
       "    </tr>\n",
       "    <tr>\n",
       "      <th>5</th>\n",
       "      <td>1</td>\n",
       "      <td>2017</td>\n",
       "      <td>January</td>\n",
       "      <td>1</td>\n",
       "      <td>1</td>\n",
       "      <td>A</td>\n",
       "      <td>7</td>\n",
       "    </tr>\n",
       "  </tbody>\n",
       "</table>\n",
       "</div>"
      ],
      "text/plain": [
       "   is_canceled  arrival_date_year arrival_date_month  \\\n",
       "0            1               2017            January   \n",
       "1            1               2017            January   \n",
       "3            1               2017            January   \n",
       "4            1               2017            January   \n",
       "5            1               2017            January   \n",
       "\n",
       "   arrival_date_week_number  arrival_date_day_of_month reserved_room_type  \\\n",
       "0                         1                          1                  A   \n",
       "1                         1                          1                  A   \n",
       "3                         1                          1                  A   \n",
       "4                         1                          1                  A   \n",
       "5                         1                          1                  A   \n",
       "\n",
       "   total_nights  \n",
       "0             1  \n",
       "1             4  \n",
       "3             4  \n",
       "4             7  \n",
       "5             7  "
      ]
     },
     "execution_count": 18,
     "metadata": {},
     "output_type": "execute_result"
    }
   ],
   "source": [
    "hotel_profit = hotel_test.copy(deep=True)\n",
    "\n",
    "hotel_profit = hotel_profit[['is_canceled', 'arrival_date_year', 'arrival_date_month', 'arrival_date_week_number', \n",
    "                             'arrival_date_day_of_month', 'reserved_room_type', 'total_nights']]\n",
    "hotel_profit.head()"
   ]
  },
  {
   "cell_type": "markdown",
   "metadata": {},
   "source": [
    "Создаем функцию для сезонного коэффицента \n",
    "\n",
    "Создаем функцию для определения стоимости номера \n",
    "\n",
    "Создаем функцию для определения стоимости обслуживания номера \n",
    "\n",
    "создаем функцию для подсчета прибыли с каждого клиента"
   ]
  },
  {
   "cell_type": "code",
   "execution_count": 19,
   "metadata": {},
   "outputs": [],
   "source": [
    "\n",
    "def coef(row):\n",
    "    arrival_date_month = row['arrival_date_month']\n",
    "    if arrival_date_month == 'December' or arrival_date_month == 'January' or arrival_date_month == 'February':\n",
    "        return 1.0\n",
    "    if arrival_date_month == 'June' or arrival_date_month == 'July' or arrival_date_month =='August':\n",
    "        return 1.4\n",
    "    else:\n",
    "        return 1.2\n",
    "\n",
    "    \n",
    "def price_room(row):\n",
    "    reserved_room_type = row['reserved_room_type']\n",
    "    if reserved_room_type == 'A':\n",
    "        return 1000 \n",
    "    elif reserved_room_type == 'B':\n",
    "        return 800\n",
    "    elif reserved_room_type == 'C':\n",
    "        return 600\n",
    "    elif reserved_room_type == 'D':\n",
    "        return 550\n",
    "    elif reserved_room_type == 'E':\n",
    "        return 500\n",
    "    elif reserved_room_type == 'F':\n",
    "        return 450\n",
    "    else: \n",
    "        return 350\n",
    "\n",
    "def price_service(row):\n",
    "    reserved_room_type = row['reserved_room_type']\n",
    "    if reserved_room_type == 'A':\n",
    "        return 400 \n",
    "    elif reserved_room_type == 'B' or reserved_room_type == 'C':\n",
    "        return 350\n",
    "    else: \n",
    "        return 150\n",
    "    \n",
    "\n",
    "def profit(row):\n",
    "    if row['is_canceled'] == 0:\n",
    "        if row['total_nights'] > 2: \n",
    "            return row['price_room'] * row['seas_coef'] * row['total_nights'] - row['price_service'] - int(row['total_nights']/2)*row['price_service']\n",
    "        else:\n",
    "            return row['price_room'] * row['seas_coef'] * row['total_nights'] - row['price_service']\n",
    "    else:\n",
    "        return - (row['price_room'] * row['seas_coef']+ row['price_service'])"
   ]
  },
  {
   "cell_type": "markdown",
   "metadata": {},
   "source": [
    "Применяем функции"
   ]
  },
  {
   "cell_type": "code",
   "execution_count": 20,
   "metadata": {},
   "outputs": [],
   "source": [
    "hotel_profit['seas_coef'] = hotel_profit.apply(coef, axis=1)\n",
    "hotel_profit['price_room'] = hotel_profit.apply(price_room, axis=1)\n",
    "hotel_profit['price_service'] = hotel_profit.apply(price_service, axis=1)\n",
    "hotel_profit['profit'] = hotel_profit.apply(profit, axis=1)"
   ]
  },
  {
   "cell_type": "markdown",
   "metadata": {},
   "source": [
    "Проверяем применение функций"
   ]
  },
  {
   "cell_type": "code",
   "execution_count": 21,
   "metadata": {},
   "outputs": [
    {
     "data": {
      "text/html": [
       "<div>\n",
       "<style scoped>\n",
       "    .dataframe tbody tr th:only-of-type {\n",
       "        vertical-align: middle;\n",
       "    }\n",
       "\n",
       "    .dataframe tbody tr th {\n",
       "        vertical-align: top;\n",
       "    }\n",
       "\n",
       "    .dataframe thead th {\n",
       "        text-align: right;\n",
       "    }\n",
       "</style>\n",
       "<table border=\"1\" class=\"dataframe\">\n",
       "  <thead>\n",
       "    <tr style=\"text-align: right;\">\n",
       "      <th></th>\n",
       "      <th>seas_coef</th>\n",
       "    </tr>\n",
       "  </thead>\n",
       "  <tbody>\n",
       "    <tr>\n",
       "      <th>1.2</th>\n",
       "      <td>10316</td>\n",
       "    </tr>\n",
       "    <tr>\n",
       "      <th>1.4</th>\n",
       "      <td>9243</td>\n",
       "    </tr>\n",
       "    <tr>\n",
       "      <th>1.0</th>\n",
       "      <td>5136</td>\n",
       "    </tr>\n",
       "  </tbody>\n",
       "</table>\n",
       "</div>"
      ],
      "text/plain": [
       "     seas_coef\n",
       "1.2      10316\n",
       "1.4       9243\n",
       "1.0       5136"
      ]
     },
     "metadata": {},
     "output_type": "display_data"
    },
    {
     "data": {
      "text/html": [
       "<div>\n",
       "<style scoped>\n",
       "    .dataframe tbody tr th:only-of-type {\n",
       "        vertical-align: middle;\n",
       "    }\n",
       "\n",
       "    .dataframe tbody tr th {\n",
       "        vertical-align: top;\n",
       "    }\n",
       "\n",
       "    .dataframe thead th {\n",
       "        text-align: right;\n",
       "    }\n",
       "</style>\n",
       "<table border=\"1\" class=\"dataframe\">\n",
       "  <thead>\n",
       "    <tr style=\"text-align: right;\">\n",
       "      <th></th>\n",
       "      <th>price_room</th>\n",
       "    </tr>\n",
       "  </thead>\n",
       "  <tbody>\n",
       "    <tr>\n",
       "      <th>1000</th>\n",
       "      <td>16642</td>\n",
       "    </tr>\n",
       "    <tr>\n",
       "      <th>550</th>\n",
       "      <td>5432</td>\n",
       "    </tr>\n",
       "    <tr>\n",
       "      <th>500</th>\n",
       "      <td>1490</td>\n",
       "    </tr>\n",
       "    <tr>\n",
       "      <th>450</th>\n",
       "      <td>488</td>\n",
       "    </tr>\n",
       "    <tr>\n",
       "      <th>350</th>\n",
       "      <td>272</td>\n",
       "    </tr>\n",
       "    <tr>\n",
       "      <th>600</th>\n",
       "      <td>194</td>\n",
       "    </tr>\n",
       "    <tr>\n",
       "      <th>800</th>\n",
       "      <td>177</td>\n",
       "    </tr>\n",
       "  </tbody>\n",
       "</table>\n",
       "</div>"
      ],
      "text/plain": [
       "      price_room\n",
       "1000       16642\n",
       "550         5432\n",
       "500         1490\n",
       "450          488\n",
       "350          272\n",
       "600          194\n",
       "800          177"
      ]
     },
     "metadata": {},
     "output_type": "display_data"
    },
    {
     "data": {
      "text/html": [
       "<div>\n",
       "<style scoped>\n",
       "    .dataframe tbody tr th:only-of-type {\n",
       "        vertical-align: middle;\n",
       "    }\n",
       "\n",
       "    .dataframe tbody tr th {\n",
       "        vertical-align: top;\n",
       "    }\n",
       "\n",
       "    .dataframe thead th {\n",
       "        text-align: right;\n",
       "    }\n",
       "</style>\n",
       "<table border=\"1\" class=\"dataframe\">\n",
       "  <thead>\n",
       "    <tr style=\"text-align: right;\">\n",
       "      <th></th>\n",
       "      <th>price_service</th>\n",
       "    </tr>\n",
       "  </thead>\n",
       "  <tbody>\n",
       "    <tr>\n",
       "      <th>400</th>\n",
       "      <td>16642</td>\n",
       "    </tr>\n",
       "    <tr>\n",
       "      <th>150</th>\n",
       "      <td>7682</td>\n",
       "    </tr>\n",
       "    <tr>\n",
       "      <th>350</th>\n",
       "      <td>371</td>\n",
       "    </tr>\n",
       "  </tbody>\n",
       "</table>\n",
       "</div>"
      ],
      "text/plain": [
       "     price_service\n",
       "400          16642\n",
       "150           7682\n",
       "350            371"
      ]
     },
     "metadata": {},
     "output_type": "display_data"
    },
    {
     "name": "stdout",
     "output_type": "stream",
     "text": [
      "Суммарна прибыль отеля до внедрения депозитов 33728180.0\n"
     ]
    }
   ],
   "source": [
    "display(hotel_profit['seas_coef'].value_counts().to_frame())\n",
    "display(hotel_profit['price_room'].value_counts().to_frame())\n",
    "display(hotel_profit['price_service'].value_counts().to_frame())\n",
    "print('Суммарна прибыль отеля до внедрения депозитов', hotel_profit['profit'].sum())"
   ]
  },
  {
   "cell_type": "markdown",
   "metadata": {},
   "source": [
    "### Шаг 3. Формулировка ML-задачи на основе бизнес-задачи"
   ]
  },
  {
   "cell_type": "markdown",
   "metadata": {},
   "source": [
    "Создадим валиадционную, тренировочную и тестовую выборки"
   ]
  },
  {
   "cell_type": "markdown",
   "metadata": {},
   "source": [
    "Сеть отелей «Как в гостях» добавила на свой сайт новую услугу - бронирование номеров без предоплаты. Однако если клиент отменял бронирование (а таких 37%), то компания терпела убытки. Сотрудники отеля могли, например, закупить продукты к приезду гостя или просто не успеть найти другого клиента. Компания хочет защить себя от таких убытков. В данной работе мы будем учитывать убыток только ввиде разового обслуживания.\n",
    "\n",
    "Наша задача: на основе тренировочных данных предсказать на тестовых данных отказ клиента от брони. Тем клиентам, кому мы предсказали высокую вероятность отказа от брони выставляется счет на оплату 80% от стоимости номера за одни сутки и затрат на разовую уборку. Деньги будут списаны со счёта клиента, если он всё же отменит бронь. Модель может допустить ошибки. Они могут быть:\n",
    "\n",
    "FP - мы забронировали номер Надежному клиенту с внесением депозита (Надежный клиент - это клиент, уверенный в своем выборе, то есть не будет изменять параметры бронирования и уверен, что его поездка состоится, и он не планирует отменять бронь). В этом случае мы предполагаем, что предложение Надежному клиенту о внесении депозита не повлечет за собой его отказ от услуг бронирования номера. Так как, если его поездка состоится - он ничего не потеряет.\n",
    "FN - мы забронировали номер без внесения депозита Ненадежному клиенту (Ненадежный клиент - это клиент, который не уверен, что его поездка состоится, или он бронирует несколько номеров в разных гостиницах, чтобы выбрать в последствии один из них, ввиду новых условий, открывшихся для него). В этом случае мы терпим убыток в размере суммы разового обслуживания.\n",
    "Верные предсказания:\n",
    "\n",
    "TP - истинно-положительные - мы забронировали номер Ненадежному клиенту с выставлением счета на оплату 80% от стоимости номера за одни сутки и затрат на разовую уборку. В этом случае, если клиент откажется - у нас будет убыткок в размере: 20% от стоимости номера за одни сутки (с учетом сезонного коэффицента)+ уборка этого номера.\n",
    "TN - истинно-отрицательные - мы забронировали номер Надежному клиенту без выставления счета на оплату. В этом случае мы ничего не теряем, так как Надежный клиент воспользуется забронированным номером с высокой вероятностью.\n",
    "На разработку системы прогнозирования заложен бюджет — 400 000. При этом необходимо учесть, что внедрение модели должно окупиться за год. Затраты на разработку должны быть меньше той выручки, которую система принесёт компании.\n",
    "\n",
    "Рассмотрим два варианта рассчета экономической эффективности системы прогнозирования(ML):\n",
    "\n",
    "Положительный - предложение внесения депозита не влияет на отток клиентов.\n",
    "Отрицательный - предложение внесения депозита влечёт отток 75% клиентов."
   ]
  },
  {
   "cell_type": "markdown",
   "metadata": {},
   "source": [
    "### Шаг 4. Разработка модели ML"
   ]
  },
  {
   "cell_type": "markdown",
   "metadata": {},
   "source": [
    "создадим тестовою и тренировочную выборки"
   ]
  },
  {
   "cell_type": "code",
   "execution_count": 22,
   "metadata": {},
   "outputs": [],
   "source": [
    "features_train = hotel_train.drop(['is_canceled'], axis=1)\n",
    "target_train = hotel_train['is_canceled']\n",
    "\n",
    "features_test = hotel_test.drop(['is_canceled'], axis=1)\n",
    "target_test = hotel_test['is_canceled']"
   ]
  },
  {
   "cell_type": "code",
   "execution_count": 23,
   "metadata": {},
   "outputs": [
    {
     "name": "stdout",
     "output_type": "stream",
     "text": [
      "(43852, 23)\n",
      "(24695, 23)\n",
      "(43852,)\n",
      "(24695,)\n"
     ]
    }
   ],
   "source": [
    "print(features_train.shape,sep='')\n",
    "print(features_test.shape,sep='')\n",
    "print(target_train.shape,sep='')\n",
    "print(target_test.shape,sep='')"
   ]
  },
  {
   "cell_type": "markdown",
   "metadata": {},
   "source": [
    "посмотрим дисбаланс"
   ]
  },
  {
   "cell_type": "code",
   "execution_count": 24,
   "metadata": {},
   "outputs": [
    {
     "data": {
      "text/plain": [
       "<AxesSubplot:ylabel='Frequency'>"
      ]
     },
     "execution_count": 24,
     "metadata": {},
     "output_type": "execute_result"
    },
    {
     "data": {
      "image/png": "[encoded data removed]",
      "text/plain": [
       "<Figure size 360x360 with 1 Axes>"
      ]
     },
     "metadata": {
      "needs_background": "light"
     },
     "output_type": "display_data"
    }
   ],
   "source": [
    "target_train.plot(kind ='hist', bins=2, figsize=(5,5))"
   ]
  },
  {
   "cell_type": "markdown",
   "metadata": {},
   "source": [
    "Преобразуем категориальный признак 'country' техникой TargetEncoder()"
   ]
  },
  {
   "cell_type": "code",
   "execution_count": 25,
   "metadata": {},
   "outputs": [],
   "source": [
    "target_encoder = TargetEncoder() \n",
    "target_encoder.fit(features_train['country'], target_train)\n",
    "features_train['country'] = target_encoder.transform(features_train['country'], target_train)\n",
    "features_test['country'] = target_encoder.transform(features_test['country'], target_test)"
   ]
  },
  {
   "cell_type": "markdown",
   "metadata": {},
   "source": [
    "Масштабируем численные признаки"
   ]
  },
  {
   "cell_type": "code",
   "execution_count": 26,
   "metadata": {},
   "outputs": [],
   "source": [
    "ohe = ['arrival_date_month', 'meal', 'distribution_channel', 'reserved_room_type', 'customer_type']\n",
    "encoder = OneHotEncoder(handle_unknown='ignore', sparse=False)\n",
    "encoder.fit(features_train[ohe])\n",
    "features_train_ohe = pd.DataFrame(encoder.transform(features_train[ohe]), columns = encoder.get_feature_names(ohe))\n",
    "features_test_ohe = pd.DataFrame(encoder.transform(features_test[ohe]), columns = encoder.get_feature_names(ohe))"
   ]
  },
  {
   "cell_type": "markdown",
   "metadata": {},
   "source": [
    "Масштабируем численные признаки"
   ]
  },
  {
   "cell_type": "code",
   "execution_count": 27,
   "metadata": {},
   "outputs": [],
   "source": [
    "numeric = ['lead_time', 'arrival_date_year', 'arrival_date_week_number', 'arrival_date_day_of_month', 'stays_in_weekend_nights',\n",
    "           'stays_in_week_nights', 'adults', 'children', 'babies','previous_cancellations', 'previous_bookings_not_canceled',\n",
    "           'booking_changes', 'days_in_waiting_list','required_car_parking_spaces', 'total_of_special_requests', 'total_nights']"
   ]
  },
  {
   "cell_type": "code",
   "execution_count": 28,
   "metadata": {},
   "outputs": [
    {
     "data": {
      "text/plain": [
       "StandardScaler()"
      ]
     },
     "execution_count": 28,
     "metadata": {},
     "output_type": "execute_result"
    }
   ],
   "source": [
    "scaler = StandardScaler()\n",
    "scaler.fit(features_train[numeric])"
   ]
  },
  {
   "cell_type": "code",
   "execution_count": 29,
   "metadata": {},
   "outputs": [],
   "source": [
    "features_train[numeric] = scaler.transform(features_train[numeric])\n",
    "features_test[numeric] = scaler.transform(features_test[numeric])"
   ]
  },
  {
   "cell_type": "code",
   "execution_count": 30,
   "metadata": {},
   "outputs": [
    {
     "data": {
      "text/plain": [
       "OneHotEncoder(handle_unknown='ignore')"
      ]
     },
     "execution_count": 30,
     "metadata": {},
     "output_type": "execute_result"
    }
   ],
   "source": [
    "enc = OneHotEncoder(handle_unknown = 'ignore')\n",
    "enc.fit(features_train)"
   ]
  },
  {
   "cell_type": "code",
   "execution_count": 31,
   "metadata": {},
   "outputs": [
    {
     "data": {
      "text/plain": [
       "<24695x819 sparse matrix of type '<class 'numpy.float64'>'\n",
       "\twith 543187 stored elements in Compressed Sparse Row format>"
      ]
     },
     "execution_count": 31,
     "metadata": {},
     "output_type": "execute_result"
    }
   ],
   "source": [
    "enc.transform(features_train)\n",
    "enc.transform(features_test)"
   ]
  },
  {
   "cell_type": "code",
   "execution_count": 32,
   "metadata": {},
   "outputs": [],
   "source": [
    "features_train = features_train.drop(['arrival_date_month', 'meal', 'distribution_channel', 'reserved_room_type', 'customer_type'], axis=1)\n",
    "features_test = features_test.drop(['arrival_date_month', 'meal', 'distribution_channel', 'reserved_room_type', 'customer_type'], axis=1)"
   ]
  },
  {
   "cell_type": "code",
   "execution_count": 33,
   "metadata": {},
   "outputs": [],
   "source": [
    "features_train = pd.concat([features_train_ohe.reset_index(drop=True), features_train.reset_index(drop=True)], axis=1, ignore_index=False)\n",
    "features_test = pd.concat([features_test_ohe.reset_index(drop=True), features_test.reset_index(drop=True)], axis=1, ignore_index=False)"
   ]
  },
  {
   "cell_type": "markdown",
   "metadata": {},
   "source": [
    "модель будем оценивать по f1 мере т.к. она является достаточно надежной при проверки модели.\n",
    "\n",
    "Если модель всегда предсказывает «положительный исход», recall будет высоким\n",
    "напротив, если модель никогда не предсказывает «положительный исход», precision будет высокой.\n",
    "Поэтому у нас будут метрики, которые указывают на то, что наша модель эффективна, когда она, наоборот, более наивна, чем разумна.\n",
    "\n",
    "существует метрика, объединяющая precision и recall: F1 Score.\n",
    "\n",
    "Оценка F1 обеспечивает хорошую оценку производительности нашей модели."
   ]
  },
  {
   "cell_type": "markdown",
   "metadata": {},
   "source": [
    "напишем функцию для изучия полноты, точности и F1-меры"
   ]
  },
  {
   "cell_type": "code",
   "execution_count": null,
   "metadata": {},
   "outputs": [
    {
     "name": "stderr",
     "output_type": "stream",
     "text": [
      " 20%|██        | 10/50 [01:14<06:20,  9.51s/it]"
     ]
    }
   ],
   "source": [
    "best_DT = None\n",
    "final_score_best_DT = 0\n",
    "best_depth_DT = 0\n",
    "leaves = 0\n",
    "for depth in tqdm(range(2,52)):\n",
    "    for leaf in range(1,11):\n",
    "        DT = DecisionTreeClassifier(random_state = 12345, max_depth = depth,min_samples_leaf=leaf)\n",
    "        DT.fit(features_train,target_train)\n",
    "        scores = cross_val_score(DT, features_train, target_train, scoring='f1')\n",
    "        final_score = sum(scores) / len(scores)      \n",
    "        if final_score > final_score_best_DT:\n",
    "            final_score_best_DT = final_score\n",
    "            best_depth_DT = depth\n",
    "            best_DT = DT\n",
    "            leaves = leaf\n",
    "            \n",
    "prediction_test_DT = best_DT.predict(features_test)        \n",
    "DT_probabilities = best_DT.predict_proba(features_test)[:, 1]\n",
    "auc_roc_DT = roc_auc_score(target_test, DT_probabilities)\n",
    "\n",
    "\n",
    "print('AUC-ROC',auc_roc_DT)\n",
    "print(\"лучшая модель c кросс валидацией\",final_score_best_DT)\n",
    "print('лучшая модель с параметрами:', 'глубина-',best_depth_DT,'кол-во листьев:',leaves)"
   ]
  },
  {
   "cell_type": "code",
   "execution_count": 35,
   "metadata": {},
   "outputs": [
    {
     "name": "stderr",
     "output_type": "stream",
     "text": [
      "100%|██████████| 7/7 [23:47<00:00, 203.97s/it]"
     ]
    },
    {
     "name": "stdout",
     "output_type": "stream",
     "text": [
      "AUC-ROC 0.758910769812757\n",
      "лучшая модель по кросс валидации 0.2617388046097505\n",
      "лучшая модель с параметрами: глубина- 18  количество ветвей- 10\n"
     ]
    },
    {
     "name": "stderr",
     "output_type": "stream",
     "text": [
      "\n"
     ]
    }
   ],
   "source": [
    "best_RF = None\n",
    "final_score_best_RF=0\n",
    "best_est_RF = 0\n",
    "best_depth_RF = 0\n",
    "for est in tqdm(range(10,150,20)):\n",
    "    for depth in range(2,25):\n",
    "        RF = RandomForestClassifier(random_state = 12345,n_estimators = est, max_depth = depth)\n",
    "        RF.fit(features_train,target_train)\n",
    "        scores = cross_val_score(RF, features_train, target_train,scoring='f1')\n",
    "        final_score = sum(scores) / len(scores)\n",
    "        if final_score > final_score_best_RF:\n",
    "            final_score_best_RF = final_score\n",
    "            best_RF = RF\n",
    "            best_depth_RF = depth\n",
    "            best_est_RF = est\n",
    "\n",
    "            \n",
    "prediction_test_RF = best_RF.predict(features_test)        \n",
    "RF_probabilities = best_RF.predict_proba(features_test)[:, 1]\n",
    "auc_roc_RF = roc_auc_score(target_test, RF_probabilities)\n",
    "\n",
    "print('AUC-ROC',auc_roc_RF)\n",
    "print(\"лучшая модель по кросс валидации\",final_score_best_RF)\n",
    "print('лучшая модель с параметрами:', 'глубина-',best_depth_RF,'','количество ветвей-',best_est_RF)"
   ]
  },
  {
   "cell_type": "markdown",
   "metadata": {},
   "source": [
    "Создадим столбец с предсказаниями в hotel_profit, выбираем предскеазания модели RandomForest т.к. эта модели меет наибольшую метрику f1"
   ]
  },
  {
   "cell_type": "code",
   "execution_count": 42,
   "metadata": {
    "scrolled": false
   },
   "outputs": [],
   "source": [
    "predict = prediction_test_RF.astype('int64')\n",
    "hotel_profit['predict'] = prediction_test_RF"
   ]
  },
  {
   "cell_type": "markdown",
   "metadata": {},
   "source": [
    "функция для подсчета прибыли с каждого клиента после внедрения модели"
   ]
  },
  {
   "cell_type": "code",
   "execution_count": 45,
   "metadata": {},
   "outputs": [],
   "source": [
    "def profit_after_ml(row):\n",
    "    if row['is_canceled'] == 0 and row['predict'] == 1:\n",
    "        if row['total_nights'] > 2: \n",
    "            return row['price_room'] * row['seas_coef'] * row['total_nights'] - row['price_service'] - int(row['total_nights']/2)*row['price_service']\n",
    "        else:\n",
    "            return row['price_room'] * row['seas_coef'] * row['total_nights'] - row['price_service']\n",
    "    elif row['is_canceled'] == 1 and row['predict'] == 0:   \n",
    "        return - (row['price_room'] * row['seas_coef']+row['price_service'])\n",
    "    elif row['is_canceled'] == 1 and row['predict'] == 1:\n",
    "        return  -(row['price_room'] * row['seas_coef']  + row['price_service'])*0.2\n",
    "    else:\n",
    "        if row['total_nights'] > 2: \n",
    "            return row['price_room'] * row['seas_coef'] * row['total_nights'] - row['price_service'] - int(row['total_nights']/2)*row['price_service']\n",
    "        else:\n",
    "            return row['price_room'] * row['seas_coef'] * row['total_nights'] - row['price_service']"
   ]
  },
  {
   "cell_type": "markdown",
   "metadata": {},
   "source": [
    "Применяем функцию для подсчета прибыли с каждого клиента после внедрения модели"
   ]
  },
  {
   "cell_type": "code",
   "execution_count": 46,
   "metadata": {},
   "outputs": [
    {
     "name": "stdout",
     "output_type": "stream",
     "text": [
      "Суммарна прибыль отеля после внедрения депозитов 36651172.0\n",
      "Разница в прибыли отеля до и после внедрения депозитов 2922992.0\n"
     ]
    }
   ],
   "source": [
    "hotel_profit['profit_after_ml'] = hotel_profit.apply(profit_after_ml, axis=1)\n",
    "print('Суммарна прибыль отеля после внедрения депозитов', hotel_profit['profit_after_ml'].sum())\n",
    "print('Разница в прибыли отеля до и после внедрения депозитов', hotel_profit['profit_after_ml'].sum() - hotel_profit['profit'].sum())"
   ]
  },
  {
   "cell_type": "markdown",
   "metadata": {},
   "source": [
    "вывод:Суммарная прибыль от внедрения ML при положительном сценарии составила 42188796, при отрицательном 37787270;\n",
    "Разница в прибыли отеля до и после внедрения депозитов при положительном сценарии рублей 8460616, при отрицательном - убыток 4401526 рублей. При этом бюджет на разработку модели ML - 400000 руб."
   ]
  },
  {
   "cell_type": "markdown",
   "metadata": {},
   "source": [
    "Определим срок, за который модель окупила себя."
   ]
  },
  {
   "cell_type": "code",
   "execution_count": 47,
   "metadata": {
    "scrolled": true
   },
   "outputs": [
    {
     "data": {
      "text/plain": [
       "is_canceled                        1\n",
       "arrival_date_year               2017\n",
       "arrival_date_month           January\n",
       "arrival_date_week_number           1\n",
       "arrival_date_day_of_month          1\n",
       "reserved_room_type                 A\n",
       "total_nights                       1\n",
       "seas_coef                        1.0\n",
       "price_room                      1000\n",
       "price_service                    400\n",
       "profit                       -1400.0\n",
       "predict                            0\n",
       "profit_after_ml              -1400.0\n",
       "Name: 0, dtype: object"
      ]
     },
     "metadata": {},
     "output_type": "display_data"
    }
   ],
   "source": [
    "display(hotel_profit.loc[0])"
   ]
  },
  {
   "cell_type": "code",
   "execution_count": 48,
   "metadata": {},
   "outputs": [
    {
     "data": {
      "text/html": [
       "<div>\n",
       "<style scoped>\n",
       "    .dataframe tbody tr th:only-of-type {\n",
       "        vertical-align: middle;\n",
       "    }\n",
       "\n",
       "    .dataframe tbody tr th {\n",
       "        vertical-align: top;\n",
       "    }\n",
       "\n",
       "    .dataframe thead th {\n",
       "        text-align: right;\n",
       "    }\n",
       "</style>\n",
       "<table border=\"1\" class=\"dataframe\">\n",
       "  <thead>\n",
       "    <tr style=\"text-align: right;\">\n",
       "      <th></th>\n",
       "      <th>arrival_date_year</th>\n",
       "    </tr>\n",
       "  </thead>\n",
       "  <tbody>\n",
       "    <tr>\n",
       "      <th>2016</th>\n",
       "      <td>34008</td>\n",
       "    </tr>\n",
       "    <tr>\n",
       "      <th>2015</th>\n",
       "      <td>9844</td>\n",
       "    </tr>\n",
       "  </tbody>\n",
       "</table>\n",
       "</div>"
      ],
      "text/plain": [
       "      arrival_date_year\n",
       "2016              34008\n",
       "2015               9844"
      ]
     },
     "metadata": {},
     "output_type": "display_data"
    },
    {
     "data": {
      "text/html": [
       "<div>\n",
       "<style scoped>\n",
       "    .dataframe tbody tr th:only-of-type {\n",
       "        vertical-align: middle;\n",
       "    }\n",
       "\n",
       "    .dataframe tbody tr th {\n",
       "        vertical-align: top;\n",
       "    }\n",
       "\n",
       "    .dataframe thead th {\n",
       "        text-align: right;\n",
       "    }\n",
       "</style>\n",
       "<table border=\"1\" class=\"dataframe\">\n",
       "  <thead>\n",
       "    <tr style=\"text-align: right;\">\n",
       "      <th></th>\n",
       "      <th>arrival_date_year</th>\n",
       "    </tr>\n",
       "  </thead>\n",
       "  <tbody>\n",
       "    <tr>\n",
       "      <th>2017</th>\n",
       "      <td>24695</td>\n",
       "    </tr>\n",
       "  </tbody>\n",
       "</table>\n",
       "</div>"
      ],
      "text/plain": [
       "      arrival_date_year\n",
       "2017              24695"
      ]
     },
     "metadata": {},
     "output_type": "display_data"
    }
   ],
   "source": [
    "display(hotel_train['arrival_date_year'].value_counts().to_frame())\n",
    "display(hotel_test['arrival_date_year'].value_counts().to_frame())"
   ]
  },
  {
   "cell_type": "markdown",
   "metadata": {},
   "source": [
    "Создадим переменную payback, которая будет показывать накопленный итог прибыли от внедрения ML. Переменная index покажет нам индекс(объект) на котором произошел факт окупаемости модели."
   ]
  },
  {
   "cell_type": "code",
   "execution_count": 49,
   "metadata": {},
   "outputs": [
    {
     "name": "stdout",
     "output_type": "stream",
     "text": [
      "Первое значение, превышающее бюджет: 400800.0\n",
      "Индекс объекта, на котором модель окупилась при положительном сценарии: 1455\n"
     ]
    }
   ],
   "source": [
    "profit_after_ml = list(hotel_profit['profit_after_ml'])\n",
    "profit = list(hotel_profit['profit'])\n",
    "budget = 400000\n",
    "profit_before = 0\n",
    "profit_ml_opti = 0\n",
    "payback = 0\n",
    "index = 0\n",
    "while payback <= budget:\n",
    "    profit_before += profit[index]\n",
    "    profit_ml_opti += profit_after_ml[index]\n",
    "    payback = profit_ml_opti - profit_before\n",
    "    index += 1\n",
    "    \n",
    "print('Первое значение, превышающее бюджет:', payback)\n",
    "print('Индекс объекта, на котором модель окупилась при положительном сценарии:', index)"
   ]
  },
  {
   "cell_type": "code",
   "execution_count": 51,
   "metadata": {},
   "outputs": [
    {
     "data": {
      "text/plain": [
       "is_canceled                      1\n",
       "arrival_date_year             2017\n",
       "arrival_date_month            June\n",
       "arrival_date_week_number        23\n",
       "arrival_date_day_of_month        9\n",
       "reserved_room_type               E\n",
       "total_nights                     4\n",
       "seas_coef                      1.4\n",
       "price_room                     500\n",
       "price_service                  150\n",
       "profit                      -850.0\n",
       "predict                          1\n",
       "profit_after_ml             -170.0\n",
       "Name: 1455, dtype: object"
      ]
     },
     "metadata": {},
     "output_type": "display_data"
    }
   ],
   "source": [
    "display(hotel_profit.loc[1455])"
   ]
  },
  {
   "cell_type": "markdown",
   "metadata": {},
   "source": [
    "вывод:Для положительного сценария - предложение о внесениии депозита не влечет отток клиентов суммарная прибыль за весь период 18.8 млн. руб, срок окупаемости - 2 месяца 10 дней;\n",
    "Для отрицательного сценария - предложение внесения депозита влечёт отток 75% клиентов, что влечет убыток 407500 рублей."
   ]
  },
  {
   "cell_type": "markdown",
   "metadata": {},
   "source": [
    "### Шаг 5. Опишите портрет «ненадёжного» клиента"
   ]
  },
  {
   "cell_type": "code",
   "execution_count": 52,
   "metadata": {},
   "outputs": [
    {
     "data": {
      "text/plain": [
       "'Доля отказов от брони в зависимости от количества подтверждённых заказов у клиента '"
      ]
     },
     "metadata": {},
     "output_type": "display_data"
    },
    {
     "data": {
      "text/html": [
       "<div>\n",
       "<style scoped>\n",
       "    .dataframe tbody tr th:only-of-type {\n",
       "        vertical-align: middle;\n",
       "    }\n",
       "\n",
       "    .dataframe tbody tr th {\n",
       "        vertical-align: top;\n",
       "    }\n",
       "\n",
       "    .dataframe thead th {\n",
       "        text-align: right;\n",
       "    }\n",
       "</style>\n",
       "<table border=\"1\" class=\"dataframe\">\n",
       "  <thead>\n",
       "    <tr style=\"text-align: right;\">\n",
       "      <th></th>\n",
       "      <th>mean</th>\n",
       "      <th>count</th>\n",
       "    </tr>\n",
       "    <tr>\n",
       "      <th>previous_cancellations</th>\n",
       "      <th></th>\n",
       "      <th></th>\n",
       "    </tr>\n",
       "  </thead>\n",
       "  <tbody>\n",
       "    <tr>\n",
       "      <th>3</th>\n",
       "      <td>0.333333</td>\n",
       "      <td>6</td>\n",
       "    </tr>\n",
       "    <tr>\n",
       "      <th>0</th>\n",
       "      <td>0.316770</td>\n",
       "      <td>24472</td>\n",
       "    </tr>\n",
       "    <tr>\n",
       "      <th>4</th>\n",
       "      <td>0.300000</td>\n",
       "      <td>10</td>\n",
       "    </tr>\n",
       "    <tr>\n",
       "      <th>1</th>\n",
       "      <td>0.148148</td>\n",
       "      <td>162</td>\n",
       "    </tr>\n",
       "    <tr>\n",
       "      <th>2</th>\n",
       "      <td>0.137931</td>\n",
       "      <td>29</td>\n",
       "    </tr>\n",
       "    <tr>\n",
       "      <th>5</th>\n",
       "      <td>0.000000</td>\n",
       "      <td>1</td>\n",
       "    </tr>\n",
       "    <tr>\n",
       "      <th>6</th>\n",
       "      <td>0.000000</td>\n",
       "      <td>15</td>\n",
       "    </tr>\n",
       "  </tbody>\n",
       "</table>\n",
       "</div>"
      ],
      "text/plain": [
       "                            mean  count\n",
       "previous_cancellations                 \n",
       "3                       0.333333      6\n",
       "0                       0.316770  24472\n",
       "4                       0.300000     10\n",
       "1                       0.148148    162\n",
       "2                       0.137931     29\n",
       "5                       0.000000      1\n",
       "6                       0.000000     15"
      ]
     },
     "metadata": {},
     "output_type": "display_data"
    }
   ],
   "source": [
    "# Определим долю отказов от брони в зависимости от количества подтверждённых заказов у клиента \n",
    "hotel_test_previous_cancel = hotel_test.groupby('previous_cancellations')['is_canceled']\\\n",
    ".agg(['mean', 'count']).sort_values('mean', ascending=False)\n",
    "display('Доля отказов от брони в зависимости от количества подтверждённых заказов у клиента ', hotel_test_previous_cancel)"
   ]
  },
  {
   "cell_type": "code",
   "execution_count": 53,
   "metadata": {
    "scrolled": true
   },
   "outputs": [
    {
     "data": {
      "text/plain": [
       "'Увеличение вероятности отказа от брони с увеличением времени между бронированием из заездом:'"
      ]
     },
     "metadata": {},
     "output_type": "display_data"
    },
    {
     "data": {
      "text/html": [
       "<div>\n",
       "<style scoped>\n",
       "    .dataframe tbody tr th:only-of-type {\n",
       "        vertical-align: middle;\n",
       "    }\n",
       "\n",
       "    .dataframe tbody tr th {\n",
       "        vertical-align: top;\n",
       "    }\n",
       "\n",
       "    .dataframe thead th {\n",
       "        text-align: right;\n",
       "    }\n",
       "</style>\n",
       "<table border=\"1\" class=\"dataframe\">\n",
       "  <thead>\n",
       "    <tr style=\"text-align: right;\">\n",
       "      <th></th>\n",
       "      <th>lead_time</th>\n",
       "      <th>mean</th>\n",
       "      <th>count</th>\n",
       "    </tr>\n",
       "  </thead>\n",
       "  <tbody>\n",
       "    <tr>\n",
       "      <th>0</th>\n",
       "      <td>0</td>\n",
       "      <td>0.056502</td>\n",
       "      <td>1292</td>\n",
       "    </tr>\n",
       "    <tr>\n",
       "      <th>1</th>\n",
       "      <td>1</td>\n",
       "      <td>0.051282</td>\n",
       "      <td>741</td>\n",
       "    </tr>\n",
       "    <tr>\n",
       "      <th>2</th>\n",
       "      <td>2</td>\n",
       "      <td>0.094714</td>\n",
       "      <td>454</td>\n",
       "    </tr>\n",
       "    <tr>\n",
       "      <th>3</th>\n",
       "      <td>3</td>\n",
       "      <td>0.083784</td>\n",
       "      <td>370</td>\n",
       "    </tr>\n",
       "    <tr>\n",
       "      <th>4</th>\n",
       "      <td>4</td>\n",
       "      <td>0.077586</td>\n",
       "      <td>348</td>\n",
       "    </tr>\n",
       "    <tr>\n",
       "      <th>5</th>\n",
       "      <td>5</td>\n",
       "      <td>0.096273</td>\n",
       "      <td>322</td>\n",
       "    </tr>\n",
       "    <tr>\n",
       "      <th>6</th>\n",
       "      <td>6</td>\n",
       "      <td>0.138554</td>\n",
       "      <td>332</td>\n",
       "    </tr>\n",
       "    <tr>\n",
       "      <th>7</th>\n",
       "      <td>7</td>\n",
       "      <td>0.106707</td>\n",
       "      <td>328</td>\n",
       "    </tr>\n",
       "    <tr>\n",
       "      <th>8</th>\n",
       "      <td>8</td>\n",
       "      <td>0.200000</td>\n",
       "      <td>270</td>\n",
       "    </tr>\n",
       "    <tr>\n",
       "      <th>9</th>\n",
       "      <td>9</td>\n",
       "      <td>0.231441</td>\n",
       "      <td>229</td>\n",
       "    </tr>\n",
       "  </tbody>\n",
       "</table>\n",
       "</div>"
      ],
      "text/plain": [
       "   lead_time      mean  count\n",
       "0          0  0.056502   1292\n",
       "1          1  0.051282    741\n",
       "2          2  0.094714    454\n",
       "3          3  0.083784    370\n",
       "4          4  0.077586    348\n",
       "5          5  0.096273    322\n",
       "6          6  0.138554    332\n",
       "7          7  0.106707    328\n",
       "8          8  0.200000    270\n",
       "9          9  0.231441    229"
      ]
     },
     "metadata": {},
     "output_type": "display_data"
    },
    {
     "name": "stdout",
     "output_type": "stream",
     "text": [
      "\n"
     ]
    },
    {
     "data": {
      "text/plain": [
       "'Значение lead_time при вероятности от отказа от брони больше 50%:'"
      ]
     },
     "metadata": {},
     "output_type": "display_data"
    },
    {
     "data": {
      "text/html": [
       "<div>\n",
       "<style scoped>\n",
       "    .dataframe tbody tr th:only-of-type {\n",
       "        vertical-align: middle;\n",
       "    }\n",
       "\n",
       "    .dataframe tbody tr th {\n",
       "        vertical-align: top;\n",
       "    }\n",
       "\n",
       "    .dataframe thead th {\n",
       "        text-align: right;\n",
       "    }\n",
       "</style>\n",
       "<table border=\"1\" class=\"dataframe\">\n",
       "  <thead>\n",
       "    <tr style=\"text-align: right;\">\n",
       "      <th></th>\n",
       "      <th>lead_time</th>\n",
       "      <th>mean</th>\n",
       "      <th>count</th>\n",
       "    </tr>\n",
       "  </thead>\n",
       "  <tbody>\n",
       "    <tr>\n",
       "      <th>161</th>\n",
       "      <td>161</td>\n",
       "      <td>0.549020</td>\n",
       "      <td>51</td>\n",
       "    </tr>\n",
       "    <tr>\n",
       "      <th>187</th>\n",
       "      <td>187</td>\n",
       "      <td>0.567568</td>\n",
       "      <td>37</td>\n",
       "    </tr>\n",
       "    <tr>\n",
       "      <th>195</th>\n",
       "      <td>195</td>\n",
       "      <td>0.545455</td>\n",
       "      <td>44</td>\n",
       "    </tr>\n",
       "    <tr>\n",
       "      <th>210</th>\n",
       "      <td>210</td>\n",
       "      <td>0.675000</td>\n",
       "      <td>40</td>\n",
       "    </tr>\n",
       "    <tr>\n",
       "      <th>226</th>\n",
       "      <td>226</td>\n",
       "      <td>0.545455</td>\n",
       "      <td>22</td>\n",
       "    </tr>\n",
       "    <tr>\n",
       "      <th>...</th>\n",
       "      <td>...</td>\n",
       "      <td>...</td>\n",
       "      <td>...</td>\n",
       "    </tr>\n",
       "    <tr>\n",
       "      <th>362</th>\n",
       "      <td>365</td>\n",
       "      <td>1.000000</td>\n",
       "      <td>2</td>\n",
       "    </tr>\n",
       "    <tr>\n",
       "      <th>363</th>\n",
       "      <td>366</td>\n",
       "      <td>1.000000</td>\n",
       "      <td>1</td>\n",
       "    </tr>\n",
       "    <tr>\n",
       "      <th>365</th>\n",
       "      <td>368</td>\n",
       "      <td>0.666667</td>\n",
       "      <td>6</td>\n",
       "    </tr>\n",
       "    <tr>\n",
       "      <th>366</th>\n",
       "      <td>372</td>\n",
       "      <td>1.000000</td>\n",
       "      <td>2</td>\n",
       "    </tr>\n",
       "    <tr>\n",
       "      <th>367</th>\n",
       "      <td>373</td>\n",
       "      <td>1.000000</td>\n",
       "      <td>2</td>\n",
       "    </tr>\n",
       "  </tbody>\n",
       "</table>\n",
       "<p>70 rows × 3 columns</p>\n",
       "</div>"
      ],
      "text/plain": [
       "     lead_time      mean  count\n",
       "161        161  0.549020     51\n",
       "187        187  0.567568     37\n",
       "195        195  0.545455     44\n",
       "210        210  0.675000     40\n",
       "226        226  0.545455     22\n",
       "..         ...       ...    ...\n",
       "362        365  1.000000      2\n",
       "363        366  1.000000      1\n",
       "365        368  0.666667      6\n",
       "366        372  1.000000      2\n",
       "367        373  1.000000      2\n",
       "\n",
       "[70 rows x 3 columns]"
      ]
     },
     "metadata": {},
     "output_type": "display_data"
    }
   ],
   "source": [
    "hotel_test_lead_time = hotel_test.groupby('lead_time')['is_canceled'].agg(['mean', 'count'])\\\n",
    ".reset_index().sort_values('lead_time', ascending=True)\n",
    "display('Увеличение вероятности отказа от брони с увеличением времени между бронированием из заездом:',\n",
    "        hotel_test_lead_time.head(10))\n",
    "print('')\n",
    "display('Значение lead_time при вероятности от отказа от брони больше 50%:', hotel_test_lead_time.query('mean > 0.5'))"
   ]
  },
  {
   "cell_type": "markdown",
   "metadata": {},
   "source": [
    "вывод:Чем меньше срок между датой бронирования и датой заезда, тем выше вероятность того, что клиент не отменит бронь;\n",
    "При бронировании менее чем за 7 дней означает, что клиент заселится с вероятностью 90%;\n",
    "При количестве более 28 дней между датой бронирования и датой заезда вероятность отказа от брони составляет более 50%."
   ]
  },
  {
   "cell_type": "markdown",
   "metadata": {},
   "source": [
    "Портрет ненадежного клиента:\n",
    "\n",
    "Бронирует номер впервые;\n",
    "Бронирует за срок более 28 дней до даты заезда - вероятность отказа от брони составляет более 50%;\n",
    "Бронирует за срок более 365 дней до даты заезда - вероятность отказа от брони составляет 100%."
   ]
  },
  {
   "cell_type": "markdown",
   "metadata": {},
   "source": [
    "### Шаг 6. Напишите общий вывод"
   ]
  },
  {
   "cell_type": "code",
   "execution_count": null,
   "metadata": {},
   "outputs": [],
   "source": []
  },
  {
   "cell_type": "markdown",
   "metadata": {},
   "source": [
    "данные были изучены на наличие дубликатов,пропусков,дисбаланса.\n",
    "\n",
    "была расчитана прибыль отеля до внедрения машинного обучения.\n",
    "\n",
    "Суммарная прибыль от внедрения ML при положительном сценарии составила 18837034, при отрицательном - имеем убыток 407500 рублей;\n",
    "Перед внедрением модели необходимо провести A/B тест на отток клиентов при предложении о внесении депозита при бронировании номера. Рекомендумый отток - не более 25-30%;\n",
    "Для положительного сценария - предложение о внесениии депозита не влечет отток клиентов срок окупаемости - 2 месяца 10 дней, при отрицательном - убыток;\n",
    "Надежными клиентами являются:\n",
    "-- бронируют номер второй и третий раз (и более); -- Самые надежные клиенты бронирует за срок менее 7 дней до даты заезда."
   ]
  },
  {
   "cell_type": "code",
   "execution_count": null,
   "metadata": {},
   "outputs": [],
   "source": []
  }
 ],
 "metadata": {
  "ExecuteTimeLog": [
   {
    "duration": 58,
    "start_time": "2023-03-29T07:26:03.887Z"
   },
   {
    "duration": 6,
    "start_time": "2023-03-29T07:26:04.250Z"
   },
   {
    "duration": 1658,
    "start_time": "2023-03-29T07:26:07.073Z"
   },
   {
    "duration": 115,
    "start_time": "2023-03-29T07:26:08.733Z"
   },
   {
    "duration": 0,
    "start_time": "2023-03-29T07:26:08.850Z"
   },
   {
    "duration": 0,
    "start_time": "2023-03-29T07:26:08.852Z"
   },
   {
    "duration": 485,
    "start_time": "2023-03-29T07:26:55.036Z"
   },
   {
    "duration": 40,
    "start_time": "2023-03-29T07:26:55.523Z"
   },
   {
    "duration": 11,
    "start_time": "2023-03-29T07:26:56.126Z"
   },
   {
    "duration": 141,
    "start_time": "2023-03-29T07:27:43.705Z"
   },
   {
    "duration": 132,
    "start_time": "2023-03-29T07:27:58.698Z"
   },
   {
    "duration": 29,
    "start_time": "2023-03-29T07:29:23.248Z"
   },
   {
    "duration": 126,
    "start_time": "2023-03-29T07:29:30.486Z"
   },
   {
    "duration": 4,
    "start_time": "2023-03-29T07:29:58.622Z"
   },
   {
    "duration": 156,
    "start_time": "2023-03-29T07:30:06.788Z"
   },
   {
    "duration": 40,
    "start_time": "2023-03-29T07:30:23.276Z"
   },
   {
    "duration": 46,
    "start_time": "2023-03-29T07:30:31.832Z"
   },
   {
    "duration": 27,
    "start_time": "2023-03-29T07:31:17.546Z"
   },
   {
    "duration": 71,
    "start_time": "2023-03-29T07:31:40.323Z"
   },
   {
    "duration": 46,
    "start_time": "2023-03-29T07:33:38.417Z"
   },
   {
    "duration": 2620,
    "start_time": "2023-03-29T07:34:07.835Z"
   },
   {
    "duration": 2452,
    "start_time": "2023-03-29T07:34:58.260Z"
   },
   {
    "duration": 2621,
    "start_time": "2023-03-29T07:35:20.314Z"
   },
   {
    "duration": 2612,
    "start_time": "2023-03-29T07:35:32.504Z"
   },
   {
    "duration": 2494,
    "start_time": "2023-03-29T07:35:46.384Z"
   },
   {
    "duration": 111,
    "start_time": "2023-03-29T07:37:18.229Z"
   },
   {
    "duration": 14,
    "start_time": "2023-03-29T07:37:40.907Z"
   },
   {
    "duration": 12,
    "start_time": "2023-03-29T07:37:49.346Z"
   },
   {
    "duration": 182,
    "start_time": "2023-03-29T07:38:54.575Z"
   },
   {
    "duration": 296,
    "start_time": "2023-03-29T07:41:46.907Z"
   },
   {
    "duration": 185,
    "start_time": "2023-03-29T07:42:00.130Z"
   },
   {
    "duration": 13,
    "start_time": "2023-03-29T07:45:54.876Z"
   },
   {
    "duration": 13,
    "start_time": "2023-03-29T07:48:26.328Z"
   },
   {
    "duration": 108,
    "start_time": "2023-03-29T07:48:35.490Z"
   },
   {
    "duration": 210,
    "start_time": "2023-03-29T07:49:19.016Z"
   },
   {
    "duration": 137,
    "start_time": "2023-03-29T07:49:35.595Z"
   },
   {
    "duration": 135,
    "start_time": "2023-03-29T07:49:47.356Z"
   },
   {
    "duration": 106,
    "start_time": "2023-03-29T07:50:12.186Z"
   },
   {
    "duration": 212,
    "start_time": "2023-03-29T07:50:14.583Z"
   },
   {
    "duration": 168,
    "start_time": "2023-03-29T07:50:43.922Z"
   },
   {
    "duration": 158,
    "start_time": "2023-03-29T07:50:54.059Z"
   },
   {
    "duration": 163,
    "start_time": "2023-03-29T07:51:00.349Z"
   },
   {
    "duration": 96,
    "start_time": "2023-03-29T07:55:40.887Z"
   },
   {
    "duration": 110,
    "start_time": "2023-03-29T07:56:13.159Z"
   },
   {
    "duration": 94,
    "start_time": "2023-03-29T07:58:36.214Z"
   },
   {
    "duration": 97,
    "start_time": "2023-03-29T07:58:44.512Z"
   },
   {
    "duration": 2602,
    "start_time": "2023-03-29T07:59:04.791Z"
   },
   {
    "duration": 13,
    "start_time": "2023-03-29T08:00:00.464Z"
   },
   {
    "duration": 4,
    "start_time": "2023-03-29T08:00:03.054Z"
   },
   {
    "duration": 538,
    "start_time": "2023-03-29T08:00:04.296Z"
   },
   {
    "duration": 181,
    "start_time": "2023-03-29T08:00:13.729Z"
   },
   {
    "duration": 183,
    "start_time": "2023-03-29T08:00:17.648Z"
   },
   {
    "duration": 157,
    "start_time": "2023-03-29T08:00:23.326Z"
   },
   {
    "duration": 147,
    "start_time": "2023-03-29T08:00:27.096Z"
   },
   {
    "duration": 150,
    "start_time": "2023-03-29T08:00:33.815Z"
   },
   {
    "duration": 150,
    "start_time": "2023-03-29T08:00:36.198Z"
   },
   {
    "duration": 150,
    "start_time": "2023-03-29T08:00:38.695Z"
   },
   {
    "duration": 161,
    "start_time": "2023-03-29T08:00:48.391Z"
   },
   {
    "duration": 182,
    "start_time": "2023-03-29T08:01:02.594Z"
   },
   {
    "duration": 157,
    "start_time": "2023-03-29T08:01:12.100Z"
   },
   {
    "duration": 165,
    "start_time": "2023-03-29T08:01:15.999Z"
   },
   {
    "duration": 165,
    "start_time": "2023-03-29T08:01:31.697Z"
   },
   {
    "duration": 151,
    "start_time": "2023-03-29T08:01:39.104Z"
   },
   {
    "duration": 109,
    "start_time": "2023-03-29T08:01:57.718Z"
   },
   {
    "duration": 72,
    "start_time": "2023-03-29T08:02:51.745Z"
   },
   {
    "duration": 54,
    "start_time": "2023-03-29T08:03:06.015Z"
   },
   {
    "duration": 73,
    "start_time": "2023-03-29T08:03:12.396Z"
   },
   {
    "duration": 45,
    "start_time": "2023-03-29T08:03:22.664Z"
   },
   {
    "duration": 54,
    "start_time": "2023-03-29T08:04:44.695Z"
   },
   {
    "duration": 103,
    "start_time": "2023-03-29T08:05:05.026Z"
   },
   {
    "duration": 20,
    "start_time": "2023-03-29T08:05:19.618Z"
   },
   {
    "duration": 47,
    "start_time": "2023-03-29T08:06:41.896Z"
   },
   {
    "duration": 15,
    "start_time": "2023-03-29T08:06:42.265Z"
   },
   {
    "duration": 15,
    "start_time": "2023-03-29T08:06:46.305Z"
   },
   {
    "duration": 18,
    "start_time": "2023-03-29T08:06:53.058Z"
   },
   {
    "duration": 11,
    "start_time": "2023-03-29T08:08:44.601Z"
   },
   {
    "duration": 692,
    "start_time": "2023-03-29T08:09:31.694Z"
   },
   {
    "duration": 641,
    "start_time": "2023-03-29T08:09:33.938Z"
   },
   {
    "duration": 17,
    "start_time": "2023-03-29T08:09:37.203Z"
   },
   {
    "duration": 614,
    "start_time": "2023-03-29T08:10:01.120Z"
   },
   {
    "duration": 22,
    "start_time": "2023-03-29T08:10:02.043Z"
   },
   {
    "duration": 11,
    "start_time": "2023-03-29T08:10:38.254Z"
   },
   {
    "duration": 721,
    "start_time": "2023-03-29T08:10:56.494Z"
   },
   {
    "duration": 1243,
    "start_time": "2023-03-29T08:11:00.162Z"
   },
   {
    "duration": 12,
    "start_time": "2023-03-29T08:11:01.407Z"
   },
   {
    "duration": 8,
    "start_time": "2023-03-29T08:13:07.786Z"
   },
   {
    "duration": 13,
    "start_time": "2023-03-29T08:16:18.718Z"
   },
   {
    "duration": 13,
    "start_time": "2023-03-29T08:16:31.741Z"
   },
   {
    "duration": 15,
    "start_time": "2023-03-29T08:16:50.389Z"
   },
   {
    "duration": 26,
    "start_time": "2023-03-29T08:17:24.839Z"
   },
   {
    "duration": 17,
    "start_time": "2023-03-29T08:18:00.828Z"
   },
   {
    "duration": 10,
    "start_time": "2023-03-29T08:20:48.525Z"
   },
   {
    "duration": 16,
    "start_time": "2023-03-29T08:20:51.755Z"
   },
   {
    "duration": 5,
    "start_time": "2023-03-29T08:20:53.713Z"
   },
   {
    "duration": 4,
    "start_time": "2023-03-29T08:21:02.964Z"
   },
   {
    "duration": 4,
    "start_time": "2023-03-29T08:21:10.968Z"
   },
   {
    "duration": 5,
    "start_time": "2023-03-29T08:21:35.507Z"
   },
   {
    "duration": 4,
    "start_time": "2023-03-29T08:22:05.214Z"
   },
   {
    "duration": 4,
    "start_time": "2023-03-29T08:22:17.111Z"
   },
   {
    "duration": 5,
    "start_time": "2023-03-29T08:22:39.003Z"
   },
   {
    "duration": 7,
    "start_time": "2023-03-29T08:23:53.633Z"
   },
   {
    "duration": 6,
    "start_time": "2023-03-29T08:24:12.039Z"
   },
   {
    "duration": 10,
    "start_time": "2023-03-29T08:25:21.192Z"
   },
   {
    "duration": 37,
    "start_time": "2023-03-29T08:25:30.364Z"
   },
   {
    "duration": 32,
    "start_time": "2023-03-29T08:25:38.952Z"
   },
   {
    "duration": 10,
    "start_time": "2023-03-29T08:26:01.412Z"
   },
   {
    "duration": 137,
    "start_time": "2023-03-29T08:26:40.036Z"
   },
   {
    "duration": 295,
    "start_time": "2023-03-29T08:27:25.060Z"
   },
   {
    "duration": 134,
    "start_time": "2023-03-29T08:28:49.195Z"
   },
   {
    "duration": 15,
    "start_time": "2023-03-29T08:28:51.497Z"
   },
   {
    "duration": 15,
    "start_time": "2023-03-29T08:29:08.187Z"
   },
   {
    "duration": 15,
    "start_time": "2023-03-29T08:29:09.288Z"
   },
   {
    "duration": 16,
    "start_time": "2023-03-29T08:29:19.994Z"
   },
   {
    "duration": 8,
    "start_time": "2023-03-29T08:29:40.022Z"
   },
   {
    "duration": 41,
    "start_time": "2023-03-29T08:29:40.198Z"
   },
   {
    "duration": 1169,
    "start_time": "2023-03-29T08:29:40.392Z"
   },
   {
    "duration": 16,
    "start_time": "2023-03-29T08:29:41.563Z"
   },
   {
    "duration": 46,
    "start_time": "2023-03-29T08:29:41.581Z"
   },
   {
    "duration": 0,
    "start_time": "2023-03-29T08:29:41.629Z"
   },
   {
    "duration": 5,
    "start_time": "2023-03-29T08:29:41.798Z"
   },
   {
    "duration": 5,
    "start_time": "2023-03-29T08:29:42.452Z"
   },
   {
    "duration": 13,
    "start_time": "2023-03-29T08:29:43.034Z"
   },
   {
    "duration": 14,
    "start_time": "2023-03-29T08:29:43.959Z"
   },
   {
    "duration": 11,
    "start_time": "2023-03-29T08:30:05.664Z"
   },
   {
    "duration": 4,
    "start_time": "2023-03-29T08:30:05.930Z"
   },
   {
    "duration": 7,
    "start_time": "2023-03-29T08:30:07.049Z"
   },
   {
    "duration": 123,
    "start_time": "2023-03-29T08:30:09.798Z"
   },
   {
    "duration": 267,
    "start_time": "2023-03-29T08:30:13.595Z"
   },
   {
    "duration": 259,
    "start_time": "2023-03-29T08:31:08.126Z"
   },
   {
    "duration": 119,
    "start_time": "2023-03-29T08:31:09.488Z"
   },
   {
    "duration": 126,
    "start_time": "2023-03-29T08:31:18.894Z"
   },
   {
    "duration": 16,
    "start_time": "2023-03-29T08:31:21.947Z"
   },
   {
    "duration": 18,
    "start_time": "2023-03-29T08:34:01.544Z"
   },
   {
    "duration": 11,
    "start_time": "2023-03-29T08:34:02.728Z"
   },
   {
    "duration": 12,
    "start_time": "2023-03-29T08:34:37.198Z"
   },
   {
    "duration": 14,
    "start_time": "2023-03-29T08:34:39.467Z"
   },
   {
    "duration": 4,
    "start_time": "2023-03-29T08:34:45.334Z"
   },
   {
    "duration": 7,
    "start_time": "2023-03-29T08:34:46.118Z"
   },
   {
    "duration": 14,
    "start_time": "2023-03-29T08:34:46.931Z"
   },
   {
    "duration": 13,
    "start_time": "2023-03-29T08:34:47.906Z"
   },
   {
    "duration": 11,
    "start_time": "2023-03-29T08:34:48.846Z"
   },
   {
    "duration": 1399,
    "start_time": "2023-03-29T08:35:11.936Z"
   },
   {
    "duration": 206,
    "start_time": "2023-03-29T08:35:15.408Z"
   },
   {
    "duration": 38,
    "start_time": "2023-03-29T08:35:15.790Z"
   },
   {
    "duration": 142,
    "start_time": "2023-03-29T08:35:16.145Z"
   },
   {
    "duration": 27,
    "start_time": "2023-03-29T08:35:16.517Z"
   },
   {
    "duration": 74,
    "start_time": "2023-03-29T08:35:16.896Z"
   },
   {
    "duration": 2434,
    "start_time": "2023-03-29T08:35:17.259Z"
   },
   {
    "duration": 109,
    "start_time": "2023-03-29T08:35:19.695Z"
   },
   {
    "duration": 210,
    "start_time": "2023-03-29T08:35:19.806Z"
   },
   {
    "duration": 172,
    "start_time": "2023-03-29T08:35:20.018Z"
   },
   {
    "duration": 51,
    "start_time": "2023-03-29T08:35:20.192Z"
   },
   {
    "duration": 77,
    "start_time": "2023-03-29T08:35:20.245Z"
   },
   {
    "duration": 19,
    "start_time": "2023-03-29T08:35:20.324Z"
   },
   {
    "duration": 12,
    "start_time": "2023-03-29T08:35:20.470Z"
   },
   {
    "duration": 7,
    "start_time": "2023-03-29T08:35:20.901Z"
   },
   {
    "duration": 1211,
    "start_time": "2023-03-29T08:35:21.331Z"
   },
   {
    "duration": 18,
    "start_time": "2023-03-29T08:35:22.544Z"
   },
   {
    "duration": 13,
    "start_time": "2023-03-29T08:35:22.564Z"
   },
   {
    "duration": 24,
    "start_time": "2023-03-29T08:35:22.580Z"
   },
   {
    "duration": 6,
    "start_time": "2023-03-29T08:35:22.986Z"
   },
   {
    "duration": 287,
    "start_time": "2023-03-29T08:35:23.435Z"
   },
   {
    "duration": 117,
    "start_time": "2023-03-29T08:35:23.898Z"
   },
   {
    "duration": 14,
    "start_time": "2023-03-29T08:35:24.315Z"
   },
   {
    "duration": 13,
    "start_time": "2023-03-29T08:36:07.114Z"
   },
   {
    "duration": 6,
    "start_time": "2023-03-29T08:36:11.662Z"
   },
   {
    "duration": 14,
    "start_time": "2023-03-29T08:36:12.694Z"
   },
   {
    "duration": 15,
    "start_time": "2023-03-29T08:36:13.991Z"
   },
   {
    "duration": 135,
    "start_time": "2023-03-29T08:36:58.292Z"
   },
   {
    "duration": 135,
    "start_time": "2023-03-29T08:37:16.211Z"
   },
   {
    "duration": 11,
    "start_time": "2023-03-29T08:37:29.629Z"
   },
   {
    "duration": 4,
    "start_time": "2023-03-29T08:37:29.993Z"
   },
   {
    "duration": 6,
    "start_time": "2023-03-29T08:37:30.858Z"
   },
   {
    "duration": 270,
    "start_time": "2023-03-29T08:37:31.545Z"
   },
   {
    "duration": 151,
    "start_time": "2023-03-29T08:37:32.525Z"
   },
   {
    "duration": 37,
    "start_time": "2023-03-29T08:39:53.760Z"
   },
   {
    "duration": 4,
    "start_time": "2023-03-29T08:39:56.233Z"
   },
   {
    "duration": 5,
    "start_time": "2023-03-29T08:40:34.594Z"
   },
   {
    "duration": 6,
    "start_time": "2023-03-29T08:40:42.264Z"
   },
   {
    "duration": 13,
    "start_time": "2023-03-29T08:40:43.537Z"
   },
   {
    "duration": 13,
    "start_time": "2023-03-29T08:40:44.642Z"
   },
   {
    "duration": 13,
    "start_time": "2023-03-29T08:40:46.364Z"
   },
   {
    "duration": 16,
    "start_time": "2023-03-29T08:40:51.283Z"
   },
   {
    "duration": 13,
    "start_time": "2023-03-29T08:40:54.842Z"
   },
   {
    "duration": 14,
    "start_time": "2023-03-29T08:40:57.292Z"
   },
   {
    "duration": 18,
    "start_time": "2023-03-29T08:41:00.508Z"
   },
   {
    "duration": 48,
    "start_time": "2023-03-29T08:41:01.094Z"
   },
   {
    "duration": 5,
    "start_time": "2023-03-29T08:41:01.291Z"
   },
   {
    "duration": 6,
    "start_time": "2023-03-29T08:41:01.659Z"
   },
   {
    "duration": 15,
    "start_time": "2023-03-29T08:41:02.292Z"
   },
   {
    "duration": 19,
    "start_time": "2023-03-29T08:41:03.299Z"
   },
   {
    "duration": 8,
    "start_time": "2023-03-29T08:41:12.829Z"
   },
   {
    "duration": 6,
    "start_time": "2023-03-29T08:41:26.858Z"
   },
   {
    "duration": 42,
    "start_time": "2023-03-29T08:42:57.812Z"
   },
   {
    "duration": 4,
    "start_time": "2023-03-29T08:42:58.787Z"
   },
   {
    "duration": 41,
    "start_time": "2023-03-29T08:44:32.500Z"
   },
   {
    "duration": 38,
    "start_time": "2023-03-29T08:45:08.063Z"
   },
   {
    "duration": 41,
    "start_time": "2023-03-29T08:46:31.479Z"
   },
   {
    "duration": 4,
    "start_time": "2023-03-29T08:46:32.604Z"
   },
   {
    "duration": 6,
    "start_time": "2023-03-29T08:46:35.463Z"
   },
   {
    "duration": 163,
    "start_time": "2023-03-29T08:46:37.338Z"
   },
   {
    "duration": 80,
    "start_time": "2023-03-29T08:46:39.119Z"
   },
   {
    "duration": 21,
    "start_time": "2023-03-29T08:46:41.749Z"
   },
   {
    "duration": 112,
    "start_time": "2023-03-29T08:47:01.191Z"
   },
   {
    "duration": 111,
    "start_time": "2023-03-29T08:47:37.831Z"
   },
   {
    "duration": 103,
    "start_time": "2023-03-29T08:48:16.793Z"
   },
   {
    "duration": 39,
    "start_time": "2023-03-29T08:50:23.752Z"
   },
   {
    "duration": 5,
    "start_time": "2023-03-29T08:50:24.915Z"
   },
   {
    "duration": 7,
    "start_time": "2023-03-29T08:50:26.718Z"
   },
   {
    "duration": 162,
    "start_time": "2023-03-29T08:50:28.728Z"
   },
   {
    "duration": 6,
    "start_time": "2023-03-29T08:50:39.565Z"
   },
   {
    "duration": 171,
    "start_time": "2023-03-29T08:50:41.890Z"
   },
   {
    "duration": 76,
    "start_time": "2023-03-29T08:50:43.479Z"
   },
   {
    "duration": 7,
    "start_time": "2023-03-29T08:50:53.662Z"
   },
   {
    "duration": 15,
    "start_time": "2023-03-29T08:51:58.953Z"
   },
   {
    "duration": 146,
    "start_time": "2023-03-29T08:52:00.903Z"
   },
   {
    "duration": 13,
    "start_time": "2023-03-29T08:52:12.201Z"
   },
   {
    "duration": 13,
    "start_time": "2023-03-29T08:52:14.043Z"
   },
   {
    "duration": 174,
    "start_time": "2023-03-29T08:54:09.299Z"
   },
   {
    "duration": 178,
    "start_time": "2023-03-29T08:54:19.764Z"
   },
   {
    "duration": 60,
    "start_time": "2023-03-29T08:55:21.959Z"
   },
   {
    "duration": 51,
    "start_time": "2023-03-29T08:55:39.531Z"
   },
   {
    "duration": 129,
    "start_time": "2023-03-29T08:55:40.035Z"
   },
   {
    "duration": 147,
    "start_time": "2023-03-29T08:56:06.901Z"
   },
   {
    "duration": 41,
    "start_time": "2023-03-29T08:57:15.762Z"
   },
   {
    "duration": 5,
    "start_time": "2023-03-29T08:57:16.438Z"
   },
   {
    "duration": 7,
    "start_time": "2023-03-29T08:57:18.892Z"
   },
   {
    "duration": 199,
    "start_time": "2023-03-29T08:57:20.098Z"
   },
   {
    "duration": 39,
    "start_time": "2023-03-29T08:57:22.702Z"
   },
   {
    "duration": 232,
    "start_time": "2023-03-29T08:57:23.452Z"
   },
   {
    "duration": 53,
    "start_time": "2023-03-29T08:58:07.935Z"
   },
   {
    "duration": 165,
    "start_time": "2023-03-29T08:58:17.332Z"
   },
   {
    "duration": 150,
    "start_time": "2023-03-29T08:58:21.765Z"
   },
   {
    "duration": 38,
    "start_time": "2023-03-29T08:58:23.362Z"
   },
   {
    "duration": 227,
    "start_time": "2023-03-29T08:58:23.991Z"
   },
   {
    "duration": 64,
    "start_time": "2023-03-29T08:58:25.440Z"
   },
   {
    "duration": 69,
    "start_time": "2023-03-29T08:58:49.391Z"
   },
   {
    "duration": 216,
    "start_time": "2023-03-29T08:58:53.041Z"
   },
   {
    "duration": 55,
    "start_time": "2023-03-29T08:58:54.826Z"
   },
   {
    "duration": 138,
    "start_time": "2023-03-29T08:59:48.004Z"
   },
   {
    "duration": 144,
    "start_time": "2023-03-29T08:59:53.244Z"
   },
   {
    "duration": 3,
    "start_time": "2023-03-29T09:01:03.930Z"
   },
   {
    "duration": 14,
    "start_time": "2023-03-29T09:01:04.246Z"
   },
   {
    "duration": 100,
    "start_time": "2023-03-29T09:01:05.042Z"
   },
   {
    "duration": 94,
    "start_time": "2023-03-29T09:01:24.552Z"
   },
   {
    "duration": 147,
    "start_time": "2023-03-29T09:01:31.506Z"
   },
   {
    "duration": 36,
    "start_time": "2023-03-29T09:01:34.452Z"
   },
   {
    "duration": 221,
    "start_time": "2023-03-29T09:01:36.487Z"
   },
   {
    "duration": 58,
    "start_time": "2023-03-29T09:01:38.229Z"
   },
   {
    "duration": 3,
    "start_time": "2023-03-29T09:02:03.791Z"
   },
   {
    "duration": 56,
    "start_time": "2023-03-29T09:03:18.838Z"
   },
   {
    "duration": 37,
    "start_time": "2023-03-29T09:04:00.485Z"
   },
   {
    "duration": 5,
    "start_time": "2023-03-29T09:04:00.899Z"
   },
   {
    "duration": 51,
    "start_time": "2023-03-29T09:04:11.285Z"
   },
   {
    "duration": 10,
    "start_time": "2023-03-29T09:04:11.936Z"
   },
   {
    "duration": 1484,
    "start_time": "2023-03-29T09:04:18.382Z"
   },
   {
    "duration": 251,
    "start_time": "2023-03-29T09:04:19.869Z"
   },
   {
    "duration": 41,
    "start_time": "2023-03-29T09:04:20.122Z"
   },
   {
    "duration": 172,
    "start_time": "2023-03-29T09:04:20.166Z"
   },
   {
    "duration": 27,
    "start_time": "2023-03-29T09:04:20.340Z"
   },
   {
    "duration": 97,
    "start_time": "2023-03-29T09:04:20.369Z"
   },
   {
    "duration": 2723,
    "start_time": "2023-03-29T09:04:20.687Z"
   },
   {
    "duration": 129,
    "start_time": "2023-03-29T09:04:23.412Z"
   },
   {
    "duration": 226,
    "start_time": "2023-03-29T09:04:23.543Z"
   },
   {
    "duration": 169,
    "start_time": "2023-03-29T09:04:23.771Z"
   },
   {
    "duration": 48,
    "start_time": "2023-03-29T09:04:23.942Z"
   },
   {
    "duration": 92,
    "start_time": "2023-03-29T09:04:23.992Z"
   },
   {
    "duration": 32,
    "start_time": "2023-03-29T09:04:24.086Z"
   },
   {
    "duration": 21,
    "start_time": "2023-03-29T09:04:24.120Z"
   },
   {
    "duration": 8,
    "start_time": "2023-03-29T09:04:24.285Z"
   },
   {
    "duration": 1212,
    "start_time": "2023-03-29T09:04:24.691Z"
   },
   {
    "duration": 19,
    "start_time": "2023-03-29T09:04:25.906Z"
   },
   {
    "duration": 47,
    "start_time": "2023-03-29T09:04:25.927Z"
   },
   {
    "duration": 21,
    "start_time": "2023-03-29T09:04:25.984Z"
   },
   {
    "duration": 127,
    "start_time": "2023-03-29T09:04:26.410Z"
   },
   {
    "duration": 4,
    "start_time": "2023-03-29T09:04:26.858Z"
   },
   {
    "duration": 22,
    "start_time": "2023-03-29T09:04:27.085Z"
   },
   {
    "duration": 170,
    "start_time": "2023-03-29T09:04:27.332Z"
   },
   {
    "duration": 43,
    "start_time": "2023-03-29T09:04:28.498Z"
   },
   {
    "duration": 225,
    "start_time": "2023-03-29T09:04:28.842Z"
   },
   {
    "duration": 5,
    "start_time": "2023-03-29T09:04:29.409Z"
   },
   {
    "duration": 166,
    "start_time": "2023-03-29T09:04:29.988Z"
   },
   {
    "duration": 11,
    "start_time": "2023-03-29T09:07:04.291Z"
   },
   {
    "duration": 29,
    "start_time": "2023-03-29T09:07:05.547Z"
   },
   {
    "duration": 133,
    "start_time": "2023-03-29T09:07:06.160Z"
   },
   {
    "duration": 3,
    "start_time": "2023-03-29T09:07:07.403Z"
   },
   {
    "duration": 59,
    "start_time": "2023-03-29T09:07:08.322Z"
   },
   {
    "duration": 25,
    "start_time": "2023-03-29T09:08:18.199Z"
   },
   {
    "duration": 155,
    "start_time": "2023-03-29T09:09:11.992Z"
   },
   {
    "duration": 15,
    "start_time": "2023-03-29T09:09:12.495Z"
   },
   {
    "duration": 3,
    "start_time": "2023-03-29T09:09:24.608Z"
   },
   {
    "duration": 15,
    "start_time": "2023-03-29T09:09:25.036Z"
   },
   {
    "duration": 146,
    "start_time": "2023-03-29T09:09:25.561Z"
   },
   {
    "duration": 18,
    "start_time": "2023-03-29T09:09:26.254Z"
   },
   {
    "duration": 32,
    "start_time": "2023-03-29T09:09:41.789Z"
   },
   {
    "duration": 172,
    "start_time": "2023-03-29T09:09:42.602Z"
   },
   {
    "duration": 3,
    "start_time": "2023-03-29T09:09:43.841Z"
   },
   {
    "duration": 69,
    "start_time": "2023-03-29T09:09:45.011Z"
   },
   {
    "duration": 16,
    "start_time": "2023-03-29T09:10:10.307Z"
   },
   {
    "duration": 1461,
    "start_time": "2023-03-29T09:10:23.305Z"
   },
   {
    "duration": 222,
    "start_time": "2023-03-29T09:10:24.768Z"
   },
   {
    "duration": 43,
    "start_time": "2023-03-29T09:10:24.991Z"
   },
   {
    "duration": 168,
    "start_time": "2023-03-29T09:10:25.036Z"
   },
   {
    "duration": 28,
    "start_time": "2023-03-29T09:10:25.206Z"
   },
   {
    "duration": 97,
    "start_time": "2023-03-29T09:10:25.236Z"
   },
   {
    "duration": 2702,
    "start_time": "2023-03-29T09:10:25.617Z"
   },
   {
    "duration": 130,
    "start_time": "2023-03-29T09:10:28.321Z"
   },
   {
    "duration": 225,
    "start_time": "2023-03-29T09:10:28.453Z"
   },
   {
    "duration": 169,
    "start_time": "2023-03-29T09:10:28.681Z"
   },
   {
    "duration": 56,
    "start_time": "2023-03-29T09:10:28.853Z"
   },
   {
    "duration": 73,
    "start_time": "2023-03-29T09:10:28.911Z"
   },
   {
    "duration": 40,
    "start_time": "2023-03-29T09:10:28.985Z"
   },
   {
    "duration": 13,
    "start_time": "2023-03-29T09:10:29.027Z"
   },
   {
    "duration": 7,
    "start_time": "2023-03-29T09:10:29.417Z"
   },
   {
    "duration": 1214,
    "start_time": "2023-03-29T09:10:30.106Z"
   },
   {
    "duration": 19,
    "start_time": "2023-03-29T09:10:31.322Z"
   },
   {
    "duration": 65,
    "start_time": "2023-03-29T09:10:31.360Z"
   },
   {
    "duration": 4,
    "start_time": "2023-03-29T09:10:31.599Z"
   },
   {
    "duration": 118,
    "start_time": "2023-03-29T09:10:32.447Z"
   },
   {
    "duration": 3,
    "start_time": "2023-03-29T09:10:33.302Z"
   },
   {
    "duration": 22,
    "start_time": "2023-03-29T09:10:33.635Z"
   },
   {
    "duration": 168,
    "start_time": "2023-03-29T09:10:33.902Z"
   },
   {
    "duration": 14,
    "start_time": "2023-03-29T09:10:34.211Z"
   },
   {
    "duration": 30,
    "start_time": "2023-03-29T09:10:36.011Z"
   },
   {
    "duration": 132,
    "start_time": "2023-03-29T09:10:36.526Z"
   },
   {
    "duration": 4,
    "start_time": "2023-03-29T09:10:37.620Z"
   },
   {
    "duration": 171,
    "start_time": "2023-03-29T09:10:40.494Z"
   },
   {
    "duration": 19,
    "start_time": "2023-03-29T09:11:01.009Z"
   },
   {
    "duration": 43,
    "start_time": "2023-03-29T09:11:11.065Z"
   },
   {
    "duration": 5,
    "start_time": "2023-03-29T09:11:11.694Z"
   },
   {
    "duration": 127,
    "start_time": "2023-03-29T09:11:12.616Z"
   },
   {
    "duration": 3,
    "start_time": "2023-03-29T09:11:13.488Z"
   },
   {
    "duration": 25,
    "start_time": "2023-03-29T09:11:13.992Z"
   },
   {
    "duration": 157,
    "start_time": "2023-03-29T09:11:14.513Z"
   },
   {
    "duration": 25,
    "start_time": "2023-03-29T09:11:15.185Z"
   },
   {
    "duration": 3,
    "start_time": "2023-03-29T09:12:46.894Z"
   },
   {
    "duration": 15,
    "start_time": "2023-03-29T09:12:47.208Z"
   },
   {
    "duration": 157,
    "start_time": "2023-03-29T09:12:47.467Z"
   },
   {
    "duration": 30,
    "start_time": "2023-03-29T09:12:49.340Z"
   },
   {
    "duration": 141,
    "start_time": "2023-03-29T09:12:49.797Z"
   },
   {
    "duration": 15,
    "start_time": "2023-03-29T09:12:50.267Z"
   },
   {
    "duration": 77,
    "start_time": "2023-03-29T09:14:45.611Z"
   },
   {
    "duration": 16,
    "start_time": "2023-03-29T09:15:48.259Z"
   },
   {
    "duration": 3,
    "start_time": "2023-03-29T09:15:50.193Z"
   },
   {
    "duration": 61,
    "start_time": "2023-03-29T09:15:50.854Z"
   },
   {
    "duration": 18,
    "start_time": "2023-03-29T09:21:08.491Z"
   },
   {
    "duration": 5,
    "start_time": "2023-03-29T09:21:09.095Z"
   },
   {
    "duration": 164,
    "start_time": "2023-03-29T09:21:11.983Z"
   },
   {
    "duration": 3,
    "start_time": "2023-03-29T09:21:14.331Z"
   },
   {
    "duration": 30,
    "start_time": "2023-03-29T09:21:14.888Z"
   },
   {
    "duration": 300,
    "start_time": "2023-03-29T09:21:21.109Z"
   },
   {
    "duration": 48,
    "start_time": "2023-03-29T09:21:23.579Z"
   },
   {
    "duration": 290,
    "start_time": "2023-03-29T09:21:34.758Z"
   },
   {
    "duration": 18,
    "start_time": "2023-03-29T09:21:42.285Z"
   },
   {
    "duration": 3,
    "start_time": "2023-03-29T09:21:43.858Z"
   },
   {
    "duration": 81,
    "start_time": "2023-03-29T09:21:45.182Z"
   },
   {
    "duration": 44,
    "start_time": "2023-03-29T09:24:13.231Z"
   },
   {
    "duration": 19280,
    "start_time": "2023-03-29T09:24:55.290Z"
   },
   {
    "duration": 16950,
    "start_time": "2023-03-29T09:27:35.441Z"
   },
   {
    "duration": 17147,
    "start_time": "2023-03-29T09:28:43.759Z"
   },
   {
    "duration": 17077,
    "start_time": "2023-03-29T09:29:16.884Z"
   },
   {
    "duration": 14,
    "start_time": "2023-03-29T09:31:37.619Z"
   },
   {
    "duration": 16,
    "start_time": "2023-03-29T09:32:24.807Z"
   },
   {
    "duration": 15,
    "start_time": "2023-03-29T09:34:15.792Z"
   },
   {
    "duration": 15,
    "start_time": "2023-03-29T09:34:46.555Z"
   },
   {
    "duration": 75,
    "start_time": "2023-03-29T09:34:53.252Z"
   },
   {
    "duration": 13,
    "start_time": "2023-03-29T09:35:37.151Z"
   },
   {
    "duration": 4,
    "start_time": "2023-03-29T09:35:37.352Z"
   },
   {
    "duration": 133,
    "start_time": "2023-03-29T09:35:37.810Z"
   },
   {
    "duration": 3,
    "start_time": "2023-03-29T09:35:38.525Z"
   },
   {
    "duration": 25,
    "start_time": "2023-03-29T09:35:38.859Z"
   },
   {
    "duration": 276,
    "start_time": "2023-03-29T09:35:39.192Z"
   },
   {
    "duration": 45,
    "start_time": "2023-03-29T09:35:39.902Z"
   },
   {
    "duration": 315,
    "start_time": "2023-03-29T09:35:40.239Z"
   },
   {
    "duration": 19,
    "start_time": "2023-03-29T09:35:40.658Z"
   },
   {
    "duration": 4,
    "start_time": "2023-03-29T09:35:41.419Z"
   },
   {
    "duration": 81,
    "start_time": "2023-03-29T09:35:42.125Z"
   },
   {
    "duration": 15,
    "start_time": "2023-03-29T09:37:45.901Z"
   },
   {
    "duration": 14,
    "start_time": "2023-03-29T09:37:56.101Z"
   },
   {
    "duration": 15,
    "start_time": "2023-03-29T09:39:04.937Z"
   },
   {
    "duration": 13,
    "start_time": "2023-03-29T09:39:13.152Z"
   },
   {
    "duration": 4,
    "start_time": "2023-03-29T09:39:13.569Z"
   },
   {
    "duration": 137,
    "start_time": "2023-03-29T09:39:14.619Z"
   },
   {
    "duration": 193,
    "start_time": "2023-03-29T09:39:15.992Z"
   },
   {
    "duration": 3,
    "start_time": "2023-03-29T09:39:17.502Z"
   },
   {
    "duration": 26,
    "start_time": "2023-03-29T09:39:18.051Z"
   },
   {
    "duration": 282,
    "start_time": "2023-03-29T09:39:18.539Z"
   },
   {
    "duration": 50,
    "start_time": "2023-03-29T09:39:19.794Z"
   },
   {
    "duration": 300,
    "start_time": "2023-03-29T09:39:20.320Z"
   },
   {
    "duration": 19,
    "start_time": "2023-03-29T09:39:20.945Z"
   },
   {
    "duration": 66,
    "start_time": "2023-03-29T09:39:47.296Z"
   },
   {
    "duration": 3,
    "start_time": "2023-03-29T09:39:49.652Z"
   },
   {
    "duration": 267,
    "start_time": "2023-03-29T09:39:50.657Z"
   },
   {
    "duration": 216,
    "start_time": "2023-03-29T09:39:56.931Z"
   },
   {
    "duration": 3240,
    "start_time": "2023-03-29T09:40:15.724Z"
   },
   {
    "duration": 219,
    "start_time": "2023-03-29T09:40:18.966Z"
   },
   {
    "duration": 34,
    "start_time": "2023-03-29T09:41:08.591Z"
   },
   {
    "duration": 26,
    "start_time": "2023-03-29T09:41:27.717Z"
   },
   {
    "duration": 3283,
    "start_time": "2023-03-29T09:41:31.135Z"
   },
   {
    "duration": 4793,
    "start_time": "2023-03-29T09:41:47.258Z"
   },
   {
    "duration": 198,
    "start_time": "2023-03-29T09:42:03.615Z"
   },
   {
    "duration": 10,
    "start_time": "2023-03-29T09:43:16.128Z"
   },
   {
    "duration": 52,
    "start_time": "2023-03-29T09:43:25.262Z"
   },
   {
    "duration": 14,
    "start_time": "2023-03-29T09:43:25.852Z"
   },
   {
    "duration": 14,
    "start_time": "2023-03-29T09:43:32.253Z"
   },
   {
    "duration": 3,
    "start_time": "2023-03-29T09:43:35.465Z"
   },
   {
    "duration": 20,
    "start_time": "2023-03-29T09:43:35.914Z"
   },
   {
    "duration": 252,
    "start_time": "2023-03-29T09:43:36.347Z"
   },
   {
    "duration": 81,
    "start_time": "2023-03-29T09:43:37.201Z"
   },
   {
    "duration": 397,
    "start_time": "2023-03-29T09:43:37.497Z"
   },
   {
    "duration": 22,
    "start_time": "2023-03-29T09:43:37.896Z"
   },
   {
    "duration": 79,
    "start_time": "2023-03-29T09:43:38.162Z"
   },
   {
    "duration": 23,
    "start_time": "2023-03-29T09:43:38.498Z"
   },
   {
    "duration": 24,
    "start_time": "2023-03-29T09:43:38.904Z"
   },
   {
    "duration": 5534,
    "start_time": "2023-03-29T09:43:39.523Z"
   },
   {
    "duration": 8227,
    "start_time": "2023-03-29T09:43:45.059Z"
   },
   {
    "duration": 339,
    "start_time": "2023-03-29T09:43:53.287Z"
   },
   {
    "duration": 26,
    "start_time": "2023-03-29T09:47:01.019Z"
   },
   {
    "duration": 8,
    "start_time": "2023-03-29T09:48:09.551Z"
   },
   {
    "duration": 13,
    "start_time": "2023-03-29T09:48:10.279Z"
   },
   {
    "duration": 6,
    "start_time": "2023-03-29T09:48:11.146Z"
   },
   {
    "duration": 14,
    "start_time": "2023-03-29T09:48:28.081Z"
   },
   {
    "duration": 14,
    "start_time": "2023-03-29T09:48:35.257Z"
   },
   {
    "duration": 4,
    "start_time": "2023-03-29T09:48:35.952Z"
   },
   {
    "duration": 136,
    "start_time": "2023-03-29T09:48:37.480Z"
   },
   {
    "duration": 149,
    "start_time": "2023-03-29T09:48:39.312Z"
   },
   {
    "duration": 3,
    "start_time": "2023-03-29T09:48:40.231Z"
   },
   {
    "duration": 23,
    "start_time": "2023-03-29T09:48:40.760Z"
   },
   {
    "duration": 260,
    "start_time": "2023-03-29T09:48:41.282Z"
   },
   {
    "duration": 47,
    "start_time": "2023-03-29T09:48:42.215Z"
   },
   {
    "duration": 266,
    "start_time": "2023-03-29T09:48:42.685Z"
   },
   {
    "duration": 18,
    "start_time": "2023-03-29T09:48:43.257Z"
   },
   {
    "duration": 46,
    "start_time": "2023-03-29T09:48:44.062Z"
   },
   {
    "duration": 25,
    "start_time": "2023-03-29T09:48:44.530Z"
   },
   {
    "duration": 26,
    "start_time": "2023-03-29T09:48:45.011Z"
   },
   {
    "duration": 1650,
    "start_time": "2023-03-29T09:48:46.104Z"
   },
   {
    "duration": 34402,
    "start_time": "2023-03-29T09:48:47.756Z"
   },
   {
    "duration": 1907,
    "start_time": "2023-03-29T09:49:22.159Z"
   },
   {
    "duration": 13,
    "start_time": "2023-03-29T09:50:16.415Z"
   },
   {
    "duration": 13,
    "start_time": "2023-03-29T09:50:25.958Z"
   },
   {
    "duration": 761,
    "start_time": "2023-03-29T09:50:26.461Z"
   },
   {
    "duration": 24,
    "start_time": "2023-03-29T09:54:32.711Z"
   },
   {
    "duration": 41,
    "start_time": "2023-03-29T09:57:24.032Z"
   },
   {
    "duration": 14,
    "start_time": "2023-03-29T09:57:29.510Z"
   },
   {
    "duration": 3,
    "start_time": "2023-03-29T09:58:44.659Z"
   },
   {
    "duration": 25,
    "start_time": "2023-03-29T09:58:45.021Z"
   },
   {
    "duration": 239,
    "start_time": "2023-03-29T09:58:45.413Z"
   },
   {
    "duration": 86,
    "start_time": "2023-03-29T09:58:45.838Z"
   },
   {
    "duration": 365,
    "start_time": "2023-03-29T09:58:46.196Z"
   },
   {
    "duration": 15,
    "start_time": "2023-03-29T09:58:46.563Z"
   },
   {
    "duration": 76,
    "start_time": "2023-03-29T09:58:46.910Z"
   },
   {
    "duration": 2302,
    "start_time": "2023-03-29T09:58:47.322Z"
   },
   {
    "duration": 37227,
    "start_time": "2023-03-29T09:58:49.626Z"
   },
   {
    "duration": 2072,
    "start_time": "2023-03-29T09:59:26.855Z"
   },
   {
    "duration": 13,
    "start_time": "2023-03-29T09:59:28.929Z"
   },
   {
    "duration": 0,
    "start_time": "2023-03-29T09:59:28.943Z"
   },
   {
    "duration": 786,
    "start_time": "2023-03-29T09:59:48.331Z"
   },
   {
    "duration": 16,
    "start_time": "2023-03-29T10:00:36.309Z"
   },
   {
    "duration": 13,
    "start_time": "2023-03-29T10:01:12.200Z"
   },
   {
    "duration": 5,
    "start_time": "2023-03-29T10:01:53.163Z"
   },
   {
    "duration": 45,
    "start_time": "2023-03-29T10:01:53.170Z"
   },
   {
    "duration": 901,
    "start_time": "2023-03-29T10:01:56.328Z"
   },
   {
    "duration": 70,
    "start_time": "2023-03-29T10:05:06.133Z"
   },
   {
    "duration": 2914,
    "start_time": "2023-03-29T10:06:53.175Z"
   },
   {
    "duration": 193,
    "start_time": "2023-03-29T10:06:56.092Z"
   },
   {
    "duration": 988,
    "start_time": "2023-03-29T10:07:12.674Z"
   },
   {
    "duration": 896,
    "start_time": "2023-03-29T10:07:18.365Z"
   },
   {
    "duration": 7,
    "start_time": "2023-03-29T10:07:39.121Z"
   },
   {
    "duration": 1171,
    "start_time": "2023-03-29T10:07:39.935Z"
   },
   {
    "duration": 18,
    "start_time": "2023-03-29T10:07:41.108Z"
   },
   {
    "duration": 928,
    "start_time": "2023-03-29T10:07:44.142Z"
   },
   {
    "duration": 886,
    "start_time": "2023-03-29T10:07:55.390Z"
   },
   {
    "duration": 14,
    "start_time": "2023-03-29T10:08:04.230Z"
   },
   {
    "duration": 4,
    "start_time": "2023-03-29T10:08:04.710Z"
   },
   {
    "duration": 142,
    "start_time": "2023-03-29T10:08:05.827Z"
   },
   {
    "duration": 137,
    "start_time": "2023-03-29T10:08:06.580Z"
   },
   {
    "duration": 3,
    "start_time": "2023-03-29T10:08:07.372Z"
   },
   {
    "duration": 25,
    "start_time": "2023-03-29T10:08:07.615Z"
   },
   {
    "duration": 291,
    "start_time": "2023-03-29T10:08:07.821Z"
   },
   {
    "duration": 44,
    "start_time": "2023-03-29T10:08:08.114Z"
   },
   {
    "duration": 259,
    "start_time": "2023-03-29T10:08:08.223Z"
   },
   {
    "duration": 26,
    "start_time": "2023-03-29T10:08:08.484Z"
   },
   {
    "duration": 58,
    "start_time": "2023-03-29T10:08:08.630Z"
   },
   {
    "duration": 1660,
    "start_time": "2023-03-29T10:08:08.858Z"
   },
   {
    "duration": 33695,
    "start_time": "2023-03-29T10:08:10.520Z"
   },
   {
    "duration": 2125,
    "start_time": "2023-03-29T10:08:44.217Z"
   },
   {
    "duration": 17,
    "start_time": "2023-03-29T10:08:46.344Z"
   },
   {
    "duration": 0,
    "start_time": "2023-03-29T10:08:46.363Z"
   },
   {
    "duration": 0,
    "start_time": "2023-03-29T10:08:46.364Z"
   },
   {
    "duration": 0,
    "start_time": "2023-03-29T10:08:46.365Z"
   },
   {
    "duration": 6,
    "start_time": "2023-03-29T10:09:58.748Z"
   },
   {
    "duration": 12,
    "start_time": "2023-03-29T10:10:31.553Z"
   },
   {
    "duration": 714,
    "start_time": "2023-03-29T10:11:03.933Z"
   },
   {
    "duration": 6,
    "start_time": "2023-03-29T10:11:04.803Z"
   },
   {
    "duration": 15,
    "start_time": "2023-03-29T10:12:03.353Z"
   },
   {
    "duration": 29,
    "start_time": "2023-03-29T10:12:04.189Z"
   },
   {
    "duration": 55,
    "start_time": "2023-03-29T10:12:53.580Z"
   },
   {
    "duration": 3424,
    "start_time": "2023-03-30T12:21:18.107Z"
   },
   {
    "duration": 2270,
    "start_time": "2023-03-30T12:21:21.533Z"
   },
   {
    "duration": 797,
    "start_time": "2023-03-30T12:21:23.805Z"
   },
   {
    "duration": 45,
    "start_time": "2023-03-30T12:21:24.604Z"
   },
   {
    "duration": 152,
    "start_time": "2023-03-30T12:21:24.652Z"
   },
   {
    "duration": 39,
    "start_time": "2023-03-30T12:21:24.805Z"
   },
   {
    "duration": 91,
    "start_time": "2023-03-30T12:21:24.846Z"
   },
   {
    "duration": 2704,
    "start_time": "2023-03-30T12:21:24.939Z"
   },
   {
    "duration": 106,
    "start_time": "2023-03-30T12:21:27.645Z"
   },
   {
    "duration": 207,
    "start_time": "2023-03-30T12:21:27.754Z"
   },
   {
    "duration": 165,
    "start_time": "2023-03-30T12:21:27.962Z"
   },
   {
    "duration": 53,
    "start_time": "2023-03-30T12:21:28.128Z"
   },
   {
    "duration": 89,
    "start_time": "2023-03-30T12:21:28.182Z"
   },
   {
    "duration": 20,
    "start_time": "2023-03-30T12:21:28.273Z"
   },
   {
    "duration": 27,
    "start_time": "2023-03-30T12:21:28.295Z"
   },
   {
    "duration": 8,
    "start_time": "2023-03-30T12:21:28.324Z"
   },
   {
    "duration": 1146,
    "start_time": "2023-03-30T12:21:28.334Z"
   },
   {
    "duration": 19,
    "start_time": "2023-03-30T12:21:29.483Z"
   },
   {
    "duration": 123,
    "start_time": "2023-03-30T12:21:29.518Z"
   },
   {
    "duration": 0,
    "start_time": "2023-03-30T12:21:29.644Z"
   },
   {
    "duration": 0,
    "start_time": "2023-03-30T12:21:29.645Z"
   },
   {
    "duration": 0,
    "start_time": "2023-03-30T12:21:29.647Z"
   },
   {
    "duration": 0,
    "start_time": "2023-03-30T12:21:29.648Z"
   },
   {
    "duration": 0,
    "start_time": "2023-03-30T12:21:29.650Z"
   },
   {
    "duration": 0,
    "start_time": "2023-03-30T12:21:29.651Z"
   },
   {
    "duration": 0,
    "start_time": "2023-03-30T12:21:29.653Z"
   },
   {
    "duration": 0,
    "start_time": "2023-03-30T12:21:29.654Z"
   },
   {
    "duration": 0,
    "start_time": "2023-03-30T12:21:29.656Z"
   },
   {
    "duration": 0,
    "start_time": "2023-03-30T12:21:29.657Z"
   },
   {
    "duration": 0,
    "start_time": "2023-03-30T12:21:29.659Z"
   },
   {
    "duration": 0,
    "start_time": "2023-03-30T12:21:29.661Z"
   },
   {
    "duration": 0,
    "start_time": "2023-03-30T12:21:29.662Z"
   },
   {
    "duration": 0,
    "start_time": "2023-03-30T12:21:29.664Z"
   },
   {
    "duration": 0,
    "start_time": "2023-03-30T12:21:29.665Z"
   },
   {
    "duration": 0,
    "start_time": "2023-03-30T12:21:29.666Z"
   },
   {
    "duration": 0,
    "start_time": "2023-03-30T12:21:29.668Z"
   },
   {
    "duration": 0,
    "start_time": "2023-03-30T12:21:29.669Z"
   },
   {
    "duration": 0,
    "start_time": "2023-03-30T12:21:29.717Z"
   },
   {
    "duration": 0,
    "start_time": "2023-03-30T12:21:29.718Z"
   },
   {
    "duration": 0,
    "start_time": "2023-03-30T12:21:29.720Z"
   },
   {
    "duration": 0,
    "start_time": "2023-03-30T12:21:29.721Z"
   },
   {
    "duration": 0,
    "start_time": "2023-03-30T12:21:29.722Z"
   },
   {
    "duration": 0,
    "start_time": "2023-03-30T12:21:29.723Z"
   },
   {
    "duration": 44,
    "start_time": "2023-03-31T02:22:50.042Z"
   },
   {
    "duration": 2746,
    "start_time": "2023-03-31T02:22:56.955Z"
   },
   {
    "duration": 1958,
    "start_time": "2023-03-31T02:22:59.703Z"
   },
   {
    "duration": 2001,
    "start_time": "2023-03-31T02:23:03.619Z"
   },
   {
    "duration": 47,
    "start_time": "2023-03-31T02:23:05.622Z"
   },
   {
    "duration": 724,
    "start_time": "2023-03-31T02:23:06.836Z"
   },
   {
    "duration": 35,
    "start_time": "2023-03-31T02:23:08.834Z"
   },
   {
    "duration": 122,
    "start_time": "2023-03-31T02:23:09.998Z"
   },
   {
    "duration": 26,
    "start_time": "2023-03-31T02:23:11.114Z"
   },
   {
    "duration": 75,
    "start_time": "2023-03-31T02:23:12.070Z"
   },
   {
    "duration": 6,
    "start_time": "2023-03-31T02:23:12.533Z"
   },
   {
    "duration": 91,
    "start_time": "2023-03-31T02:23:13.140Z"
   },
   {
    "duration": 8,
    "start_time": "2023-03-31T02:23:43.395Z"
   },
   {
    "duration": 77,
    "start_time": "2023-03-31T02:25:14.454Z"
   },
   {
    "duration": 8,
    "start_time": "2023-03-31T02:26:12.833Z"
   },
   {
    "duration": 9,
    "start_time": "2023-03-31T02:26:19.745Z"
   },
   {
    "duration": 9,
    "start_time": "2023-03-31T02:26:21.409Z"
   },
   {
    "duration": 42,
    "start_time": "2023-03-31T02:26:25.768Z"
   },
   {
    "duration": 205,
    "start_time": "2023-03-31T02:26:26.280Z"
   },
   {
    "duration": 35,
    "start_time": "2023-03-31T02:26:27.603Z"
   },
   {
    "duration": 118,
    "start_time": "2023-03-31T02:26:28.708Z"
   },
   {
    "duration": 25,
    "start_time": "2023-03-31T02:26:29.773Z"
   },
   {
    "duration": 77,
    "start_time": "2023-03-31T02:26:30.889Z"
   },
   {
    "duration": 12,
    "start_time": "2023-03-31T02:26:31.456Z"
   },
   {
    "duration": 57,
    "start_time": "2023-03-31T02:26:33.127Z"
   },
   {
    "duration": 60,
    "start_time": "2023-03-31T02:27:31.153Z"
   },
   {
    "duration": 2234,
    "start_time": "2023-03-31T02:27:35.205Z"
   },
   {
    "duration": 1891,
    "start_time": "2023-03-31T02:28:03.034Z"
   },
   {
    "duration": 743,
    "start_time": "2023-03-31T02:32:49.937Z"
   },
   {
    "duration": 41,
    "start_time": "2023-03-31T02:33:22.248Z"
   },
   {
    "duration": 1318,
    "start_time": "2023-03-31T02:33:32.856Z"
   },
   {
    "duration": 793,
    "start_time": "2023-03-31T02:36:02.725Z"
   },
   {
    "duration": 979,
    "start_time": "2023-03-31T02:36:10.861Z"
   },
   {
    "duration": 40,
    "start_time": "2023-03-31T02:37:06.681Z"
   },
   {
    "duration": 971,
    "start_time": "2023-03-31T02:37:12.310Z"
   },
   {
    "duration": 1679,
    "start_time": "2023-03-31T02:38:04.192Z"
   },
   {
    "duration": 98,
    "start_time": "2023-03-31T02:38:17.811Z"
   },
   {
    "duration": 1065,
    "start_time": "2023-03-31T02:38:26.490Z"
   },
   {
    "duration": 6,
    "start_time": "2023-03-31T02:56:22.877Z"
   },
   {
    "duration": 10,
    "start_time": "2023-03-31T02:56:31.024Z"
   },
   {
    "duration": 169,
    "start_time": "2023-03-31T02:56:38.818Z"
   },
   {
    "duration": 143,
    "start_time": "2023-03-31T02:56:40.416Z"
   },
   {
    "duration": 43,
    "start_time": "2023-03-31T02:56:42.504Z"
   },
   {
    "duration": 69,
    "start_time": "2023-03-31T02:56:43.786Z"
   },
   {
    "duration": 47,
    "start_time": "2023-03-31T02:56:56.605Z"
   },
   {
    "duration": 21,
    "start_time": "2023-03-31T02:56:59.055Z"
   },
   {
    "duration": 12,
    "start_time": "2023-03-31T02:57:00.741Z"
   },
   {
    "duration": 6,
    "start_time": "2023-03-31T02:57:01.965Z"
   },
   {
    "duration": 587,
    "start_time": "2023-03-31T02:57:03.562Z"
   },
   {
    "duration": 6,
    "start_time": "2023-03-31T02:57:48.844Z"
   },
   {
    "duration": 1241,
    "start_time": "2023-03-31T02:57:50.322Z"
   },
   {
    "duration": 15,
    "start_time": "2023-03-31T02:57:54.077Z"
   },
   {
    "duration": 20,
    "start_time": "2023-03-31T03:02:01.424Z"
   },
   {
    "duration": 3,
    "start_time": "2023-03-31T03:02:02.097Z"
   },
   {
    "duration": 114,
    "start_time": "2023-03-31T03:02:03.543Z"
   },
   {
    "duration": 102,
    "start_time": "2023-03-31T03:02:04.780Z"
   },
   {
    "duration": 165,
    "start_time": "2023-03-31T03:02:06.099Z"
   },
   {
    "duration": 3,
    "start_time": "2023-03-31T03:02:07.522Z"
   },
   {
    "duration": 25,
    "start_time": "2023-03-31T03:02:08.174Z"
   },
   {
    "duration": 238,
    "start_time": "2023-03-31T03:02:09.773Z"
   },
   {
    "duration": 46,
    "start_time": "2023-03-31T03:02:11.022Z"
   },
   {
    "duration": 264,
    "start_time": "2023-03-31T03:02:12.010Z"
   },
   {
    "duration": 9,
    "start_time": "2023-03-31T03:08:35.379Z"
   },
   {
    "duration": 17,
    "start_time": "2023-03-31T03:08:45.746Z"
   },
   {
    "duration": 43,
    "start_time": "2023-03-31T03:08:46.346Z"
   },
   {
    "duration": 17,
    "start_time": "2023-03-31T03:10:25.211Z"
   },
   {
    "duration": 1680,
    "start_time": "2023-03-31T03:10:38.743Z"
   },
   {
    "duration": 95,
    "start_time": "2023-03-31T03:13:54.106Z"
   },
   {
    "duration": 3,
    "start_time": "2023-03-31T03:14:25.347Z"
   },
   {
    "duration": 85,
    "start_time": "2023-03-31T03:14:27.352Z"
   },
   {
    "duration": 43,
    "start_time": "2023-03-31T03:15:36.519Z"
   },
   {
    "duration": 18063,
    "start_time": "2023-03-31T03:15:44.274Z"
   },
   {
    "duration": 3,
    "start_time": "2023-03-31T03:16:12.535Z"
   },
   {
    "duration": 36,
    "start_time": "2023-03-31T03:16:56.714Z"
   },
   {
    "duration": 18257,
    "start_time": "2023-03-31T03:17:06.272Z"
   },
   {
    "duration": 39,
    "start_time": "2023-03-31T03:17:47.027Z"
   },
   {
    "duration": 19015,
    "start_time": "2023-03-31T03:18:00.274Z"
   },
   {
    "duration": 2167,
    "start_time": "2023-03-31T03:29:01.098Z"
   },
   {
    "duration": 1379,
    "start_time": "2023-03-31T03:29:03.267Z"
   },
   {
    "duration": 191,
    "start_time": "2023-03-31T03:29:04.648Z"
   },
   {
    "duration": 36,
    "start_time": "2023-03-31T03:29:05.285Z"
   },
   {
    "duration": 179,
    "start_time": "2023-03-31T03:29:05.866Z"
   },
   {
    "duration": 24,
    "start_time": "2023-03-31T03:29:06.282Z"
   },
   {
    "duration": 79,
    "start_time": "2023-03-31T03:29:06.697Z"
   },
   {
    "duration": 14,
    "start_time": "2023-03-31T03:29:07.106Z"
   },
   {
    "duration": 72,
    "start_time": "2023-03-31T03:29:07.505Z"
   },
   {
    "duration": 2022,
    "start_time": "2023-03-31T03:29:08.185Z"
   },
   {
    "duration": 98,
    "start_time": "2023-03-31T03:29:10.208Z"
   },
   {
    "duration": 176,
    "start_time": "2023-03-31T03:29:10.444Z"
   },
   {
    "duration": 131,
    "start_time": "2023-03-31T03:29:10.827Z"
   },
   {
    "duration": 41,
    "start_time": "2023-03-31T03:29:12.062Z"
   },
   {
    "duration": 55,
    "start_time": "2023-03-31T03:29:12.976Z"
   },
   {
    "duration": 18,
    "start_time": "2023-03-31T03:29:14.333Z"
   },
   {
    "duration": 12,
    "start_time": "2023-03-31T03:29:15.361Z"
   },
   {
    "duration": 7,
    "start_time": "2023-03-31T03:29:16.106Z"
   },
   {
    "duration": 1115,
    "start_time": "2023-03-31T03:29:17.605Z"
   },
   {
    "duration": 13,
    "start_time": "2023-03-31T03:29:18.722Z"
   },
   {
    "duration": 19,
    "start_time": "2023-03-31T03:29:22.459Z"
   },
   {
    "duration": 4,
    "start_time": "2023-03-31T03:29:23.106Z"
   },
   {
    "duration": 117,
    "start_time": "2023-03-31T03:29:23.742Z"
   },
   {
    "duration": 93,
    "start_time": "2023-03-31T03:29:24.573Z"
   },
   {
    "duration": 166,
    "start_time": "2023-03-31T03:29:25.231Z"
   },
   {
    "duration": 3,
    "start_time": "2023-03-31T03:29:25.871Z"
   },
   {
    "duration": 21,
    "start_time": "2023-03-31T03:29:26.236Z"
   },
   {
    "duration": 250,
    "start_time": "2023-03-31T03:29:26.561Z"
   },
   {
    "duration": 50,
    "start_time": "2023-03-31T03:29:27.113Z"
   },
   {
    "duration": 243,
    "start_time": "2023-03-31T03:29:27.477Z"
   },
   {
    "duration": 14,
    "start_time": "2023-03-31T03:29:28.195Z"
   },
   {
    "duration": 39,
    "start_time": "2023-03-31T03:29:28.488Z"
   },
   {
    "duration": 4,
    "start_time": "2023-03-31T03:29:30.634Z"
   },
   {
    "duration": 118,
    "start_time": "2023-03-31T03:29:31.125Z"
   },
   {
    "duration": 18,
    "start_time": "2023-03-31T03:31:06.024Z"
   },
   {
    "duration": 19642,
    "start_time": "2023-03-31T03:38:35.260Z"
   },
   {
    "duration": 330688,
    "start_time": "2023-03-31T03:38:58.598Z"
   },
   {
    "duration": 8,
    "start_time": "2023-03-31T03:44:29.288Z"
   },
   {
    "duration": 126911,
    "start_time": "2023-03-31T03:44:57.328Z"
   },
   {
    "duration": 78,
    "start_time": "2023-03-31T03:47:09.026Z"
   },
   {
    "duration": 175617,
    "start_time": "2023-03-31T03:47:26.721Z"
   },
   {
    "duration": 9,
    "start_time": "2023-03-31T03:51:38.931Z"
   },
   {
    "duration": 9,
    "start_time": "2023-03-31T03:51:42.937Z"
   },
   {
    "duration": 15,
    "start_time": "2023-03-31T03:51:55.871Z"
   },
   {
    "duration": 11,
    "start_time": "2023-03-31T03:53:00.412Z"
   },
   {
    "duration": 11,
    "start_time": "2023-03-31T03:53:10.010Z"
   },
   {
    "duration": 15,
    "start_time": "2023-03-31T03:54:22.872Z"
   },
   {
    "duration": 13,
    "start_time": "2023-03-31T03:54:29.686Z"
   },
   {
    "duration": 14,
    "start_time": "2023-03-31T03:54:36.340Z"
   },
   {
    "duration": 1530,
    "start_time": "2023-03-31T03:56:12.109Z"
   },
   {
    "duration": 11,
    "start_time": "2023-03-31T03:56:13.641Z"
   },
   {
    "duration": 10,
    "start_time": "2023-03-31T03:56:22.150Z"
   },
   {
    "duration": 14,
    "start_time": "2023-03-31T03:56:29.008Z"
   },
   {
    "duration": 1506,
    "start_time": "2023-03-31T03:56:33.013Z"
   },
   {
    "duration": 12,
    "start_time": "2023-03-31T03:56:34.521Z"
   },
   {
    "duration": 1538,
    "start_time": "2023-03-31T03:57:29.741Z"
   },
   {
    "duration": 11,
    "start_time": "2023-03-31T03:57:31.281Z"
   },
   {
    "duration": 6920,
    "start_time": "2023-03-31T03:58:06.298Z"
   },
   {
    "duration": 11,
    "start_time": "2023-03-31T03:58:13.220Z"
   },
   {
    "duration": 6837,
    "start_time": "2023-03-31T03:58:22.481Z"
   },
   {
    "duration": 11,
    "start_time": "2023-03-31T03:58:29.319Z"
   },
   {
    "duration": 1329,
    "start_time": "2023-03-31T04:00:50.341Z"
   },
   {
    "duration": 13,
    "start_time": "2023-03-31T04:01:03.257Z"
   },
   {
    "duration": 12,
    "start_time": "2023-03-31T04:01:27.658Z"
   },
   {
    "duration": 12,
    "start_time": "2023-03-31T04:01:53.118Z"
   },
   {
    "duration": 12,
    "start_time": "2023-03-31T04:02:36.376Z"
   },
   {
    "duration": 3,
    "start_time": "2023-03-31T04:02:36.662Z"
   },
   {
    "duration": 113,
    "start_time": "2023-03-31T04:02:37.529Z"
   },
   {
    "duration": 97,
    "start_time": "2023-03-31T04:02:38.350Z"
   },
   {
    "duration": 143,
    "start_time": "2023-03-31T04:02:39.102Z"
   },
   {
    "duration": 2,
    "start_time": "2023-03-31T04:02:39.840Z"
   },
   {
    "duration": 22,
    "start_time": "2023-03-31T04:02:40.320Z"
   },
   {
    "duration": 239,
    "start_time": "2023-03-31T04:02:40.809Z"
   },
   {
    "duration": 41,
    "start_time": "2023-03-31T04:02:41.506Z"
   },
   {
    "duration": 264,
    "start_time": "2023-03-31T04:02:41.908Z"
   },
   {
    "duration": 16,
    "start_time": "2023-03-31T04:02:44.164Z"
   },
   {
    "duration": 41,
    "start_time": "2023-03-31T04:02:44.591Z"
   },
   {
    "duration": 13,
    "start_time": "2023-03-31T04:02:49.459Z"
   },
   {
    "duration": 5,
    "start_time": "2023-03-31T04:02:53.982Z"
   },
   {
    "duration": 5,
    "start_time": "2023-03-31T04:02:59.866Z"
   },
   {
    "duration": 1891,
    "start_time": "2023-03-31T04:03:01.927Z"
   },
   {
    "duration": 0,
    "start_time": "2023-03-31T04:03:03.820Z"
   },
   {
    "duration": 11,
    "start_time": "2023-03-31T04:03:04.448Z"
   },
   {
    "duration": 1459,
    "start_time": "2023-03-31T04:03:07.008Z"
   },
   {
    "duration": 0,
    "start_time": "2023-03-31T04:03:08.469Z"
   },
   {
    "duration": 12,
    "start_time": "2023-03-31T04:03:08.848Z"
   },
   {
    "duration": 23,
    "start_time": "2023-03-31T04:03:09.511Z"
   },
   {
    "duration": 76,
    "start_time": "2023-03-31T04:04:14.404Z"
   },
   {
    "duration": 13,
    "start_time": "2023-03-31T04:04:21.279Z"
   },
   {
    "duration": 93,
    "start_time": "2023-03-31T04:11:48.597Z"
   },
   {
    "duration": 125,
    "start_time": "2023-03-31T04:12:02.464Z"
   },
   {
    "duration": 111,
    "start_time": "2023-03-31T04:12:44.792Z"
   },
   {
    "duration": 74,
    "start_time": "2023-03-31T04:13:06.065Z"
   },
   {
    "duration": 92,
    "start_time": "2023-03-31T04:13:14.228Z"
   },
   {
    "duration": 2035,
    "start_time": "2023-03-31T04:13:15.002Z"
   },
   {
    "duration": 110,
    "start_time": "2023-03-31T04:13:17.038Z"
   },
   {
    "duration": 186,
    "start_time": "2023-03-31T04:13:17.150Z"
   },
   {
    "duration": 136,
    "start_time": "2023-03-31T04:13:17.338Z"
   },
   {
    "duration": 34,
    "start_time": "2023-03-31T04:13:18.224Z"
   },
   {
    "duration": 35,
    "start_time": "2023-03-31T04:15:07.887Z"
   },
   {
    "duration": 38,
    "start_time": "2023-03-31T04:15:09.042Z"
   },
   {
    "duration": 17,
    "start_time": "2023-03-31T04:15:09.790Z"
   },
   {
    "duration": 11,
    "start_time": "2023-03-31T04:15:10.406Z"
   },
   {
    "duration": 6,
    "start_time": "2023-03-31T04:15:10.810Z"
   },
   {
    "duration": 991,
    "start_time": "2023-03-31T04:15:12.294Z"
   },
   {
    "duration": 19,
    "start_time": "2023-03-31T04:15:13.287Z"
   },
   {
    "duration": 12,
    "start_time": "2023-03-31T04:15:16.434Z"
   },
   {
    "duration": 4,
    "start_time": "2023-03-31T04:15:17.221Z"
   },
   {
    "duration": 107,
    "start_time": "2023-03-31T04:15:17.960Z"
   },
   {
    "duration": 70,
    "start_time": "2023-03-31T04:15:19.083Z"
   },
   {
    "duration": 91,
    "start_time": "2023-03-31T04:15:19.742Z"
   },
   {
    "duration": 3,
    "start_time": "2023-03-31T04:15:20.458Z"
   },
   {
    "duration": 14,
    "start_time": "2023-03-31T04:15:20.843Z"
   },
   {
    "duration": 170,
    "start_time": "2023-03-31T04:15:21.237Z"
   },
   {
    "duration": 31,
    "start_time": "2023-03-31T04:15:21.720Z"
   },
   {
    "duration": 169,
    "start_time": "2023-03-31T04:15:22.136Z"
   },
   {
    "duration": 12,
    "start_time": "2023-03-31T04:15:23.314Z"
   },
   {
    "duration": 23,
    "start_time": "2023-03-31T04:15:24.076Z"
   },
   {
    "duration": 133152,
    "start_time": "2023-03-31T04:15:39.896Z"
   },
   {
    "duration": 5816,
    "start_time": "2023-03-31T04:17:58.218Z"
   },
   {
    "duration": 0,
    "start_time": "2023-03-31T04:18:04.036Z"
   },
   {
    "duration": 5236,
    "start_time": "2023-03-31T04:18:20.387Z"
   },
   {
    "duration": 13,
    "start_time": "2023-03-31T04:18:25.626Z"
   },
   {
    "duration": 5755,
    "start_time": "2023-03-31T04:19:10.648Z"
   },
   {
    "duration": 0,
    "start_time": "2023-03-31T04:19:16.405Z"
   },
   {
    "duration": 5318,
    "start_time": "2023-03-31T04:19:51.271Z"
   },
   {
    "duration": 5461,
    "start_time": "2023-03-31T04:20:17.002Z"
   },
   {
    "duration": 12,
    "start_time": "2023-03-31T04:20:37.445Z"
   },
   {
    "duration": 5940,
    "start_time": "2023-03-31T04:20:44.526Z"
   },
   {
    "duration": 12,
    "start_time": "2023-03-31T04:21:03.522Z"
   },
   {
    "duration": 13,
    "start_time": "2023-03-31T04:24:15.191Z"
   },
   {
    "duration": 5152,
    "start_time": "2023-03-31T04:24:19.285Z"
   },
   {
    "duration": 10,
    "start_time": "2023-03-31T04:24:24.439Z"
   },
   {
    "duration": 4,
    "start_time": "2023-03-31T04:25:36.745Z"
   },
   {
    "duration": 1251,
    "start_time": "2023-03-31T04:25:46.228Z"
   },
   {
    "duration": 11,
    "start_time": "2023-03-31T04:25:58.321Z"
   },
   {
    "duration": 11,
    "start_time": "2023-03-31T04:26:33.662Z"
   },
   {
    "duration": 2001,
    "start_time": "2023-03-31T04:27:45.799Z"
   },
   {
    "duration": 42,
    "start_time": "2023-03-31T04:27:47.802Z"
   },
   {
    "duration": 174,
    "start_time": "2023-03-31T04:27:47.845Z"
   },
   {
    "duration": 36,
    "start_time": "2023-03-31T04:27:51.614Z"
   },
   {
    "duration": 118,
    "start_time": "2023-03-31T04:27:52.100Z"
   },
   {
    "duration": 24,
    "start_time": "2023-03-31T04:27:52.543Z"
   },
   {
    "duration": 64,
    "start_time": "2023-03-31T04:27:52.999Z"
   },
   {
    "duration": 14,
    "start_time": "2023-03-31T04:27:53.445Z"
   },
   {
    "duration": 59,
    "start_time": "2023-03-31T04:27:54.058Z"
   },
   {
    "duration": 107,
    "start_time": "2023-03-31T04:27:54.582Z"
   },
   {
    "duration": 1945,
    "start_time": "2023-03-31T04:27:55.600Z"
   },
   {
    "duration": 102,
    "start_time": "2023-03-31T04:27:57.547Z"
   },
   {
    "duration": 180,
    "start_time": "2023-03-31T04:27:59.173Z"
   },
   {
    "duration": 241,
    "start_time": "2023-03-31T04:27:59.904Z"
   },
   {
    "duration": 38,
    "start_time": "2023-03-31T04:28:01.451Z"
   },
   {
    "duration": 47,
    "start_time": "2023-03-31T04:28:02.281Z"
   },
   {
    "duration": 20,
    "start_time": "2023-03-31T04:28:02.860Z"
   },
   {
    "duration": 11,
    "start_time": "2023-03-31T04:28:03.838Z"
   },
   {
    "duration": 6,
    "start_time": "2023-03-31T04:28:05.321Z"
   },
   {
    "duration": 902,
    "start_time": "2023-03-31T04:28:06.568Z"
   },
   {
    "duration": 15,
    "start_time": "2023-03-31T04:28:07.646Z"
   },
   {
    "duration": 11,
    "start_time": "2023-03-31T04:28:10.888Z"
   },
   {
    "duration": 4,
    "start_time": "2023-03-31T04:28:11.339Z"
   },
   {
    "duration": 110,
    "start_time": "2023-03-31T04:28:12.250Z"
   },
   {
    "duration": 73,
    "start_time": "2023-03-31T04:28:15.721Z"
   },
   {
    "duration": 104,
    "start_time": "2023-03-31T04:28:17.181Z"
   },
   {
    "duration": 2,
    "start_time": "2023-03-31T04:28:17.842Z"
   },
   {
    "duration": 15,
    "start_time": "2023-03-31T04:28:18.227Z"
   },
   {
    "duration": 170,
    "start_time": "2023-03-31T04:28:18.703Z"
   },
   {
    "duration": 33,
    "start_time": "2023-03-31T04:28:19.110Z"
   },
   {
    "duration": 159,
    "start_time": "2023-03-31T04:28:19.532Z"
   },
   {
    "duration": 12,
    "start_time": "2023-03-31T04:28:20.252Z"
   },
   {
    "duration": 28,
    "start_time": "2023-03-31T04:28:20.682Z"
   },
   {
    "duration": 2,
    "start_time": "2023-03-31T04:28:22.344Z"
   },
   {
    "duration": 124715,
    "start_time": "2023-03-31T04:28:22.705Z"
   },
   {
    "duration": 11,
    "start_time": "2023-03-31T04:30:27.422Z"
   },
   {
    "duration": 129690,
    "start_time": "2023-03-31T04:30:33.683Z"
   },
   {
    "duration": 12,
    "start_time": "2023-03-31T04:32:49.910Z"
   },
   {
    "duration": 12,
    "start_time": "2023-03-31T04:33:29.463Z"
   },
   {
    "duration": 13,
    "start_time": "2023-03-31T04:33:35.318Z"
   },
   {
    "duration": 13,
    "start_time": "2023-03-31T04:33:50.497Z"
   },
   {
    "duration": 12,
    "start_time": "2023-03-31T04:33:52.966Z"
   },
   {
    "duration": 12,
    "start_time": "2023-03-31T04:34:06.454Z"
   },
   {
    "duration": 12,
    "start_time": "2023-03-31T04:34:10.040Z"
   },
   {
    "duration": 13,
    "start_time": "2023-03-31T04:34:12.980Z"
   },
   {
    "duration": 10,
    "start_time": "2023-03-31T04:35:40.033Z"
   },
   {
    "duration": 4,
    "start_time": "2023-03-31T04:35:40.574Z"
   },
   {
    "duration": 120,
    "start_time": "2023-03-31T04:35:43.809Z"
   },
   {
    "duration": 72,
    "start_time": "2023-03-31T04:35:45.679Z"
   },
   {
    "duration": 77,
    "start_time": "2023-03-31T04:35:46.814Z"
   },
   {
    "duration": 3,
    "start_time": "2023-03-31T04:35:47.757Z"
   },
   {
    "duration": 14,
    "start_time": "2023-03-31T04:35:48.232Z"
   },
   {
    "duration": 140,
    "start_time": "2023-03-31T04:35:48.651Z"
   },
   {
    "duration": 33,
    "start_time": "2023-03-31T04:35:49.205Z"
   },
   {
    "duration": 142,
    "start_time": "2023-03-31T04:35:49.627Z"
   },
   {
    "duration": 11,
    "start_time": "2023-03-31T04:35:50.753Z"
   },
   {
    "duration": 23,
    "start_time": "2023-03-31T04:35:51.185Z"
   },
   {
    "duration": 3,
    "start_time": "2023-03-31T04:35:53.455Z"
   },
   {
    "duration": 122940,
    "start_time": "2023-03-31T04:35:53.968Z"
   },
   {
    "duration": 118881,
    "start_time": "2023-03-31T04:37:56.910Z"
   },
   {
    "duration": 54983,
    "start_time": "2023-03-31T04:39:55.793Z"
   },
   {
    "duration": 3,
    "start_time": "2023-03-31T04:40:50.777Z"
   },
   {
    "duration": 3,
    "start_time": "2023-03-31T04:41:07.638Z"
   },
   {
    "duration": 5,
    "start_time": "2023-03-31T04:41:08.754Z"
   },
   {
    "duration": 716,
    "start_time": "2023-03-31T04:41:11.028Z"
   },
   {
    "duration": 7,
    "start_time": "2023-03-31T04:41:13.261Z"
   },
   {
    "duration": 11,
    "start_time": "2023-03-31T04:41:13.831Z"
   },
   {
    "duration": 8,
    "start_time": "2023-03-31T04:41:14.715Z"
   },
   {
    "duration": 1500,
    "start_time": "2023-03-31T04:41:15.240Z"
   },
   {
    "duration": 0,
    "start_time": "2023-03-31T04:41:16.741Z"
   },
   {
    "duration": 23,
    "start_time": "2023-03-31T04:41:17.105Z"
   },
   {
    "duration": 1695,
    "start_time": "2023-03-31T04:41:27.842Z"
   },
   {
    "duration": 5,
    "start_time": "2023-03-31T04:41:35.382Z"
   },
   {
    "duration": 6,
    "start_time": "2023-03-31T04:42:04.146Z"
   },
   {
    "duration": 5,
    "start_time": "2023-03-31T04:42:06.780Z"
   },
   {
    "duration": 1128,
    "start_time": "2023-03-31T04:42:15.811Z"
   },
   {
    "duration": 1340,
    "start_time": "2023-03-31T04:42:41.453Z"
   },
   {
    "duration": 7,
    "start_time": "2023-03-31T04:43:14.816Z"
   },
   {
    "duration": 3297,
    "start_time": "2023-04-01T01:12:03.866Z"
   },
   {
    "duration": 1847,
    "start_time": "2023-04-01T01:12:07.166Z"
   },
   {
    "duration": 855,
    "start_time": "2023-04-01T01:12:09.015Z"
   },
   {
    "duration": 47,
    "start_time": "2023-04-01T01:12:09.872Z"
   },
   {
    "duration": 178,
    "start_time": "2023-04-01T01:12:09.921Z"
   },
   {
    "duration": 44,
    "start_time": "2023-04-01T01:12:10.102Z"
   },
   {
    "duration": 96,
    "start_time": "2023-04-01T01:12:10.149Z"
   },
   {
    "duration": 16,
    "start_time": "2023-04-01T01:12:10.558Z"
   },
   {
    "duration": 99,
    "start_time": "2023-04-01T01:12:10.972Z"
   },
   {
    "duration": 111,
    "start_time": "2023-04-01T01:12:11.389Z"
   },
   {
    "duration": 2502,
    "start_time": "2023-04-01T01:12:12.457Z"
   },
   {
    "duration": 121,
    "start_time": "2023-04-01T01:12:14.962Z"
   },
   {
    "duration": 260,
    "start_time": "2023-04-01T01:12:15.085Z"
   },
   {
    "duration": 176,
    "start_time": "2023-04-01T01:12:15.347Z"
   },
   {
    "duration": 38,
    "start_time": "2023-04-01T01:12:15.708Z"
   },
   {
    "duration": 49,
    "start_time": "2023-04-01T01:12:16.546Z"
   },
   {
    "duration": 19,
    "start_time": "2023-04-01T01:12:17.340Z"
   },
   {
    "duration": 14,
    "start_time": "2023-04-01T01:12:18.023Z"
   },
   {
    "duration": 10,
    "start_time": "2023-04-01T01:12:18.605Z"
   },
   {
    "duration": 903,
    "start_time": "2023-04-01T01:12:23.051Z"
   },
   {
    "duration": 16,
    "start_time": "2023-04-01T01:12:23.955Z"
   },
   {
    "duration": 13,
    "start_time": "2023-04-01T01:12:27.122Z"
   },
   {
    "duration": 4,
    "start_time": "2023-04-01T01:12:27.877Z"
   },
   {
    "duration": 128,
    "start_time": "2023-04-01T01:12:30.282Z"
   },
   {
    "duration": 84,
    "start_time": "2023-04-01T01:12:30.412Z"
   },
   {
    "duration": 107,
    "start_time": "2023-04-01T01:12:30.498Z"
   },
   {
    "duration": 2,
    "start_time": "2023-04-01T01:12:30.607Z"
   },
   {
    "duration": 20,
    "start_time": "2023-04-01T01:12:30.909Z"
   },
   {
    "duration": 178,
    "start_time": "2023-04-01T01:12:31.208Z"
   },
   {
    "duration": 46,
    "start_time": "2023-04-01T01:12:31.475Z"
   },
   {
    "duration": 178,
    "start_time": "2023-04-01T01:12:31.730Z"
   },
   {
    "duration": 15,
    "start_time": "2023-04-01T01:12:32.229Z"
   },
   {
    "duration": 35,
    "start_time": "2023-04-01T01:12:32.504Z"
   },
   {
    "duration": 492,
    "start_time": "2023-04-01T01:12:34.542Z"
   },
   {
    "duration": 558319,
    "start_time": "2023-04-01T01:13:05.332Z"
   },
   {
    "duration": 546004,
    "start_time": "2023-04-01T01:26:51.644Z"
   },
   {
    "duration": 28,
    "start_time": "2023-04-01T01:36:22.983Z"
   },
   {
    "duration": 115678,
    "start_time": "2023-04-01T01:36:38.581Z"
   },
   {
    "duration": 115161,
    "start_time": "2023-04-01T01:38:44.108Z"
   },
   {
    "duration": 115456,
    "start_time": "2023-04-01T01:41:11.048Z"
   },
   {
    "duration": 121,
    "start_time": "2023-04-01T01:43:37.234Z"
   },
   {
    "duration": 542338,
    "start_time": "2023-04-01T01:43:51.882Z"
   },
   {
    "duration": 472405,
    "start_time": "2023-04-01T01:53:26.551Z"
   },
   {
    "duration": 4,
    "start_time": "2023-04-01T02:01:55.551Z"
   },
   {
    "duration": 8,
    "start_time": "2023-04-01T02:12:04.736Z"
   },
   {
    "duration": 942,
    "start_time": "2023-04-01T02:12:07.080Z"
   },
   {
    "duration": 18,
    "start_time": "2023-04-01T02:12:09.150Z"
   },
   {
    "duration": 5,
    "start_time": "2023-04-01T02:13:21.766Z"
   },
   {
    "duration": 691,
    "start_time": "2023-04-01T02:13:24.148Z"
   },
   {
    "duration": 5,
    "start_time": "2023-04-01T02:13:33.164Z"
   },
   {
    "duration": 11,
    "start_time": "2023-04-01T02:13:36.372Z"
   },
   {
    "duration": 22,
    "start_time": "2023-04-01T02:13:38.881Z"
   },
   {
    "duration": 5,
    "start_time": "2023-04-01T02:13:59.603Z"
   },
   {
    "duration": 3,
    "start_time": "2023-04-01T02:14:30.116Z"
   },
   {
    "duration": 6,
    "start_time": "2023-04-01T02:14:30.985Z"
   },
   {
    "duration": 635,
    "start_time": "2023-04-01T02:14:32.711Z"
   },
   {
    "duration": 5,
    "start_time": "2023-04-01T02:14:34.926Z"
   },
   {
    "duration": 10,
    "start_time": "2023-04-01T02:14:35.767Z"
   },
   {
    "duration": 21,
    "start_time": "2023-04-01T02:14:36.988Z"
   },
   {
    "duration": 5,
    "start_time": "2023-04-01T02:14:37.598Z"
   },
   {
    "duration": 6,
    "start_time": "2023-04-01T02:16:12.886Z"
   },
   {
    "duration": 773,
    "start_time": "2023-04-01T02:16:14.720Z"
   },
   {
    "duration": 5,
    "start_time": "2023-04-01T02:16:17.128Z"
   },
   {
    "duration": 11,
    "start_time": "2023-04-01T02:16:17.748Z"
   },
   {
    "duration": 9,
    "start_time": "2023-04-01T02:16:19.424Z"
   },
   {
    "duration": 6,
    "start_time": "2023-04-01T02:16:20.657Z"
   },
   {
    "duration": 12,
    "start_time": "2023-04-01T02:16:22.974Z"
   },
   {
    "duration": 26,
    "start_time": "2023-04-01T02:16:23.666Z"
   },
   {
    "duration": 5,
    "start_time": "2023-04-01T02:16:53.588Z"
   },
   {
    "duration": 6,
    "start_time": "2023-04-01T02:18:06.266Z"
   },
   {
    "duration": 921,
    "start_time": "2023-04-01T02:18:07.513Z"
   },
   {
    "duration": 16,
    "start_time": "2023-04-01T02:18:08.450Z"
   },
   {
    "duration": 9,
    "start_time": "2023-04-01T02:18:12.276Z"
   },
   {
    "duration": 4,
    "start_time": "2023-04-01T02:18:12.884Z"
   },
   {
    "duration": 136,
    "start_time": "2023-04-01T02:18:13.930Z"
   },
   {
    "duration": 79,
    "start_time": "2023-04-01T02:18:14.926Z"
   },
   {
    "duration": 101,
    "start_time": "2023-04-01T02:18:15.389Z"
   },
   {
    "duration": 3,
    "start_time": "2023-04-01T02:18:15.887Z"
   },
   {
    "duration": 18,
    "start_time": "2023-04-01T02:18:16.173Z"
   },
   {
    "duration": 166,
    "start_time": "2023-04-01T02:18:16.518Z"
   },
   {
    "duration": 30,
    "start_time": "2023-04-01T02:18:16.866Z"
   },
   {
    "duration": 150,
    "start_time": "2023-04-01T02:18:17.301Z"
   },
   {
    "duration": 11,
    "start_time": "2023-04-01T02:18:17.988Z"
   },
   {
    "duration": 35,
    "start_time": "2023-04-01T02:18:18.614Z"
   },
   {
    "duration": 546015,
    "start_time": "2023-04-01T02:18:21.162Z"
   },
   {
    "duration": 2124,
    "start_time": "2023-04-01T02:29:50.652Z"
   },
   {
    "duration": 1494,
    "start_time": "2023-04-01T02:29:52.779Z"
   },
   {
    "duration": 253,
    "start_time": "2023-04-01T02:29:54.323Z"
   },
   {
    "duration": 51,
    "start_time": "2023-04-01T02:29:55.128Z"
   },
   {
    "duration": 156,
    "start_time": "2023-04-01T02:29:55.601Z"
   },
   {
    "duration": 30,
    "start_time": "2023-04-01T02:29:56.244Z"
   },
   {
    "duration": 91,
    "start_time": "2023-04-01T02:29:56.604Z"
   },
   {
    "duration": 12,
    "start_time": "2023-04-01T02:29:57.169Z"
   },
   {
    "duration": 78,
    "start_time": "2023-04-01T02:29:57.534Z"
   },
   {
    "duration": 119,
    "start_time": "2023-04-01T02:29:57.925Z"
   },
   {
    "duration": 2368,
    "start_time": "2023-04-01T02:29:59.476Z"
   },
   {
    "duration": 106,
    "start_time": "2023-04-01T02:30:01.851Z"
   },
   {
    "duration": 195,
    "start_time": "2023-04-01T02:30:01.958Z"
   },
   {
    "duration": 162,
    "start_time": "2023-04-01T02:30:02.155Z"
   },
   {
    "duration": 37,
    "start_time": "2023-04-01T02:30:02.922Z"
   },
   {
    "duration": 46,
    "start_time": "2023-04-01T02:30:04.017Z"
   },
   {
    "duration": 23,
    "start_time": "2023-04-01T02:30:04.648Z"
   },
   {
    "duration": 13,
    "start_time": "2023-04-01T02:30:05.153Z"
   },
   {
    "duration": 6,
    "start_time": "2023-04-01T02:30:05.675Z"
   },
   {
    "duration": 906,
    "start_time": "2023-04-01T02:30:07.482Z"
   },
   {
    "duration": 18,
    "start_time": "2023-04-01T02:30:08.390Z"
   },
   {
    "duration": 13,
    "start_time": "2023-04-01T02:30:12.718Z"
   },
   {
    "duration": 4,
    "start_time": "2023-04-01T02:30:13.183Z"
   },
   {
    "duration": 134,
    "start_time": "2023-04-01T02:30:13.715Z"
   },
   {
    "duration": 72,
    "start_time": "2023-04-01T02:30:14.161Z"
   },
   {
    "duration": 112,
    "start_time": "2023-04-01T02:30:14.751Z"
   },
   {
    "duration": 3,
    "start_time": "2023-04-01T02:30:15.297Z"
   },
   {
    "duration": 27,
    "start_time": "2023-04-01T02:30:15.529Z"
   },
   {
    "duration": 163,
    "start_time": "2023-04-01T02:30:15.802Z"
   },
   {
    "duration": 31,
    "start_time": "2023-04-01T02:30:16.365Z"
   },
   {
    "duration": 157,
    "start_time": "2023-04-01T02:30:16.900Z"
   },
   {
    "duration": 14,
    "start_time": "2023-04-01T02:30:19.948Z"
   },
   {
    "duration": 39,
    "start_time": "2023-04-01T02:30:20.121Z"
   },
   {
    "duration": 368648,
    "start_time": "2023-04-01T02:30:25.794Z"
   },
   {
    "duration": 3,
    "start_time": "2023-04-01T02:36:34.444Z"
   },
   {
    "duration": 6,
    "start_time": "2023-04-01T02:36:41.876Z"
   },
   {
    "duration": 658,
    "start_time": "2023-04-01T02:36:43.789Z"
   },
   {
    "duration": 6,
    "start_time": "2023-04-01T02:36:45.812Z"
   },
   {
    "duration": 10,
    "start_time": "2023-04-01T02:36:49.011Z"
   },
   {
    "duration": 132,
    "start_time": "2023-04-01T02:36:50.234Z"
   },
   {
    "duration": 6,
    "start_time": "2023-04-01T02:36:50.647Z"
   },
   {
    "duration": 12,
    "start_time": "2023-04-01T02:40:41.428Z"
   },
   {
    "duration": 668,
    "start_time": "2023-04-01T02:40:43.275Z"
   },
   {
    "duration": 6,
    "start_time": "2023-04-01T02:40:46.563Z"
   },
   {
    "duration": 10,
    "start_time": "2023-04-01T02:40:53.054Z"
   },
   {
    "duration": 8,
    "start_time": "2023-04-01T02:40:54.373Z"
   },
   {
    "duration": 7,
    "start_time": "2023-04-01T02:41:01.817Z"
   },
   {
    "duration": 6,
    "start_time": "2023-04-01T02:43:31.099Z"
   },
   {
    "duration": 911,
    "start_time": "2023-04-01T02:43:32.081Z"
   },
   {
    "duration": 15,
    "start_time": "2023-04-01T02:43:32.994Z"
   },
   {
    "duration": 10,
    "start_time": "2023-04-01T02:43:34.956Z"
   },
   {
    "duration": 4,
    "start_time": "2023-04-01T02:43:35.476Z"
   },
   {
    "duration": 138,
    "start_time": "2023-04-01T02:43:35.926Z"
   },
   {
    "duration": 80,
    "start_time": "2023-04-01T02:43:36.339Z"
   },
   {
    "duration": 100,
    "start_time": "2023-04-01T02:43:36.817Z"
   },
   {
    "duration": 3,
    "start_time": "2023-04-01T02:43:37.224Z"
   },
   {
    "duration": 29,
    "start_time": "2023-04-01T02:43:37.423Z"
   },
   {
    "duration": 183,
    "start_time": "2023-04-01T02:43:37.616Z"
   },
   {
    "duration": 36,
    "start_time": "2023-04-01T02:43:37.866Z"
   },
   {
    "duration": 163,
    "start_time": "2023-04-01T02:43:38.223Z"
   },
   {
    "duration": 11,
    "start_time": "2023-04-01T02:43:38.679Z"
   },
   {
    "duration": 29,
    "start_time": "2023-04-01T02:43:39.058Z"
   },
   {
    "duration": 33828,
    "start_time": "2023-04-01T02:43:50.267Z"
   },
   {
    "duration": 3,
    "start_time": "2023-04-01T02:44:29.716Z"
   },
   {
    "duration": 14,
    "start_time": "2023-04-01T02:44:30.329Z"
   },
   {
    "duration": 733,
    "start_time": "2023-04-01T02:44:32.410Z"
   },
   {
    "duration": 7,
    "start_time": "2023-04-01T02:44:34.516Z"
   },
   {
    "duration": 10,
    "start_time": "2023-04-01T02:44:35.481Z"
   },
   {
    "duration": 24,
    "start_time": "2023-04-01T02:44:36.728Z"
   },
   {
    "duration": 18,
    "start_time": "2023-04-01T02:44:37.240Z"
   },
   {
    "duration": 28,
    "start_time": "2023-04-01T02:44:38.826Z"
   },
   {
    "duration": 24,
    "start_time": "2023-04-01T02:44:39.379Z"
   },
   {
    "duration": 9,
    "start_time": "2023-04-01T02:50:19.463Z"
   },
   {
    "duration": 14,
    "start_time": "2023-04-01T02:50:34.575Z"
   },
   {
    "duration": 23,
    "start_time": "2023-04-01T02:50:35.082Z"
   },
   {
    "duration": 2974,
    "start_time": "2023-04-02T00:25:52.198Z"
   },
   {
    "duration": 1670,
    "start_time": "2023-04-02T00:25:55.174Z"
   },
   {
    "duration": 859,
    "start_time": "2023-04-02T00:25:56.845Z"
   },
   {
    "duration": 39,
    "start_time": "2023-04-02T00:25:57.706Z"
   },
   {
    "duration": 149,
    "start_time": "2023-04-02T00:25:57.747Z"
   },
   {
    "duration": 29,
    "start_time": "2023-04-02T00:26:01.223Z"
   },
   {
    "duration": 71,
    "start_time": "2023-04-02T00:26:01.896Z"
   },
   {
    "duration": 13,
    "start_time": "2023-04-02T00:26:02.297Z"
   },
   {
    "duration": 69,
    "start_time": "2023-04-02T00:26:02.692Z"
   },
   {
    "duration": 104,
    "start_time": "2023-04-02T00:26:03.095Z"
   },
   {
    "duration": 2415,
    "start_time": "2023-04-02T00:26:04.132Z"
   },
   {
    "duration": 99,
    "start_time": "2023-04-02T00:26:06.549Z"
   },
   {
    "duration": 189,
    "start_time": "2023-04-02T00:26:06.649Z"
   },
   {
    "duration": 165,
    "start_time": "2023-04-02T00:26:06.840Z"
   },
   {
    "duration": 39,
    "start_time": "2023-04-02T00:26:07.164Z"
   },
   {
    "duration": 45,
    "start_time": "2023-04-02T00:26:07.905Z"
   },
   {
    "duration": 20,
    "start_time": "2023-04-02T00:26:08.343Z"
   },
   {
    "duration": 11,
    "start_time": "2023-04-02T00:26:08.814Z"
   },
   {
    "duration": 8,
    "start_time": "2023-04-02T00:26:09.298Z"
   },
   {
    "duration": 923,
    "start_time": "2023-04-02T00:26:11.445Z"
   },
   {
    "duration": 17,
    "start_time": "2023-04-02T00:26:12.370Z"
   },
   {
    "duration": 13,
    "start_time": "2023-04-02T00:26:14.258Z"
   },
   {
    "duration": 3,
    "start_time": "2023-04-02T00:26:14.497Z"
   },
   {
    "duration": 110,
    "start_time": "2023-04-02T00:26:15.057Z"
   },
   {
    "duration": 75,
    "start_time": "2023-04-02T00:26:15.608Z"
   },
   {
    "duration": 99,
    "start_time": "2023-04-02T00:26:16.058Z"
   },
   {
    "duration": 3,
    "start_time": "2023-04-02T00:26:16.636Z"
   },
   {
    "duration": 22,
    "start_time": "2023-04-02T00:26:16.899Z"
   },
   {
    "duration": 169,
    "start_time": "2023-04-02T00:26:17.092Z"
   },
   {
    "duration": 33,
    "start_time": "2023-04-02T00:26:17.300Z"
   },
   {
    "duration": 159,
    "start_time": "2023-04-02T00:26:17.536Z"
   },
   {
    "duration": 14,
    "start_time": "2023-04-02T00:26:18.145Z"
   },
   {
    "duration": 36,
    "start_time": "2023-04-02T00:26:18.849Z"
   },
   {
    "duration": 534608,
    "start_time": "2023-04-02T00:26:23.593Z"
   },
   {
    "duration": 1427890,
    "start_time": "2023-04-02T00:35:27.995Z"
   },
   {
    "duration": 4,
    "start_time": "2023-04-02T01:02:01.671Z"
   },
   {
    "duration": 4,
    "start_time": "2023-04-02T01:02:02.036Z"
   },
   {
    "duration": 732,
    "start_time": "2023-04-02T01:02:03.087Z"
   },
   {
    "duration": 0,
    "start_time": "2023-04-02T01:02:03.820Z"
   },
   {
    "duration": 10,
    "start_time": "2023-04-02T01:02:03.831Z"
   },
   {
    "duration": 14,
    "start_time": "2023-04-02T01:02:04.223Z"
   },
   {
    "duration": 8,
    "start_time": "2023-04-02T01:02:05.108Z"
   },
   {
    "duration": 3,
    "start_time": "2023-04-02T01:02:16.295Z"
   },
   {
    "duration": 6,
    "start_time": "2023-04-02T01:02:17.187Z"
   },
   {
    "duration": 620,
    "start_time": "2023-04-02T01:02:20.595Z"
   },
   {
    "duration": 5,
    "start_time": "2023-04-02T01:03:23.005Z"
   },
   {
    "duration": 589,
    "start_time": "2023-04-02T01:03:24.993Z"
   },
   {
    "duration": 6,
    "start_time": "2023-04-02T01:03:27.994Z"
   },
   {
    "duration": 10,
    "start_time": "2023-04-02T01:03:28.518Z"
   },
   {
    "duration": 9,
    "start_time": "2023-04-02T01:03:31.260Z"
   },
   {
    "duration": 5,
    "start_time": "2023-04-02T01:03:33.021Z"
   },
   {
    "duration": 5,
    "start_time": "2023-04-02T01:03:39.446Z"
   },
   {
    "duration": 12,
    "start_time": "2023-04-02T01:03:41.937Z"
   },
   {
    "duration": 22,
    "start_time": "2023-04-02T01:03:42.891Z"
   },
   {
    "duration": 3461,
    "start_time": "2023-04-16T09:00:52.548Z"
   },
   {
    "duration": 1986,
    "start_time": "2023-04-16T09:00:56.012Z"
   },
   {
    "duration": 851,
    "start_time": "2023-04-16T09:00:58.000Z"
   },
   {
    "duration": 49,
    "start_time": "2023-04-16T09:00:58.853Z"
   },
   {
    "duration": 168,
    "start_time": "2023-04-16T09:00:58.903Z"
   },
   {
    "duration": 49,
    "start_time": "2023-04-16T09:00:59.072Z"
   },
   {
    "duration": 95,
    "start_time": "2023-04-16T09:00:59.225Z"
   },
   {
    "duration": 18,
    "start_time": "2023-04-16T09:00:59.693Z"
   },
   {
    "duration": 75,
    "start_time": "2023-04-16T09:01:00.209Z"
   },
   {
    "duration": 135,
    "start_time": "2023-04-16T09:01:00.765Z"
   },
   {
    "duration": 2722,
    "start_time": "2023-04-16T09:01:01.947Z"
   },
   {
    "duration": 117,
    "start_time": "2023-04-16T09:01:04.671Z"
   },
   {
    "duration": 185,
    "start_time": "2023-04-16T09:01:05.629Z"
   },
   {
    "duration": 198,
    "start_time": "2023-04-16T09:01:06.285Z"
   },
   {
    "duration": 43,
    "start_time": "2023-04-16T09:01:08.850Z"
   },
   {
    "duration": 57,
    "start_time": "2023-04-16T09:01:09.853Z"
   },
   {
    "duration": 20,
    "start_time": "2023-04-16T09:01:10.513Z"
   },
   {
    "duration": 12,
    "start_time": "2023-04-16T09:01:11.067Z"
   },
   {
    "duration": 7,
    "start_time": "2023-04-16T09:01:11.732Z"
   },
   {
    "duration": 1192,
    "start_time": "2023-04-16T09:01:13.428Z"
   },
   {
    "duration": 17,
    "start_time": "2023-04-16T09:01:14.623Z"
   },
   {
    "duration": 12,
    "start_time": "2023-04-16T09:01:16.013Z"
   },
   {
    "duration": 4,
    "start_time": "2023-04-16T09:01:16.383Z"
   },
   {
    "duration": 133,
    "start_time": "2023-04-16T09:01:16.737Z"
   },
   {
    "duration": 85,
    "start_time": "2023-04-16T09:01:17.162Z"
   },
   {
    "duration": 109,
    "start_time": "2023-04-16T09:01:17.557Z"
   },
   {
    "duration": 3,
    "start_time": "2023-04-16T09:01:17.944Z"
   },
   {
    "duration": 29,
    "start_time": "2023-04-16T09:01:18.182Z"
   },
   {
    "duration": 189,
    "start_time": "2023-04-16T09:01:18.353Z"
   },
   {
    "duration": 44,
    "start_time": "2023-04-16T09:01:18.570Z"
   },
   {
    "duration": 167,
    "start_time": "2023-04-16T09:01:18.765Z"
   },
   {
    "duration": 15,
    "start_time": "2023-04-16T09:01:19.149Z"
   },
   {
    "duration": 34,
    "start_time": "2023-04-16T09:01:19.328Z"
   }
  ],
  "kernelspec": {
   "display_name": "Python 3 (ipykernel)",
   "language": "python",
   "name": "python3"
  },
  "language_info": {
   "codemirror_mode": {
    "name": "ipython",
    "version": 3
   },
   "file_extension": ".py",
   "mimetype": "text/x-python",
   "name": "python",
   "nbconvert_exporter": "python",
   "pygments_lexer": "ipython3",
   "version": "3.9.5"
  },
  "toc": {
   "base_numbering": 1,
   "nav_menu": {},
   "number_sections": true,
   "sideBar": true,
   "skip_h1_title": true,
   "title_cell": "Table of Contents",
   "title_sidebar": "Contents",
   "toc_cell": false,
   "toc_position": {},
   "toc_section_display": true,
   "toc_window_display": false
  }
 },
 "nbformat": 4,
 "nbformat_minor": 2
}
