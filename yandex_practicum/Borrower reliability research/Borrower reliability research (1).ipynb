{
 "cells": [
  {
   "cell_type": "code",
   "execution_count": null,
   "outputs": [],
   "source": [],
   "metadata": {
    "collapsed": false
   },
   "id": "a427be23af4a92b3"
  },
  {
   "cell_type": "markdown",
   "id": "ffe1e811",
   "metadata": {
    "deletable": false,
    "editable": false,
    "id": "c81daeeb"
   },
   "source": [
    "# Исследование надежности заемщиков\n"
   ]
  },
  {
   "cell_type": "markdown",
   "id": "e153e497",
   "metadata": {
    "deletable": false,
    "editable": false,
    "id": "827c20bf"
   },
   "source": [
    "Во второй части проекта вы выполните шаги 3 и 4. Их вручную проверит ревьюер.\n",
    "Чтобы вам не пришлось писать код заново для шагов 1 и 2, мы добавили авторские решения в ячейки с кодом. \n",
    "\n"
   ]
  },
  {
   "cell_type": "markdown",
   "id": "b9a652d4",
   "metadata": {
    "deletable": false,
    "editable": false,
    "id": "744d7639"
   },
   "source": [
    "## Откройте таблицу и изучите общую информацию о данных"
   ]
  },
  {
   "cell_type": "markdown",
   "id": "b47b8ce3",
   "metadata": {
    "deletable": false,
    "editable": false,
    "id": "e7a14c31"
   },
   "source": [
    "**Задание 1. Импортируйте библиотеку pandas. Считайте данные из csv-файла в датафрейм и сохраните в переменную `data`. Путь к файлу:**\n",
    "\n",
    "`/datasets/data.csv`"
   ]
  },
  {
   "cell_type": "code",
   "execution_count": 1,
   "id": "4615300e",
   "metadata": {
    "deletable": false,
    "id": "7bcf75c9"
   },
   "outputs": [],
   "source": [
    "import pandas as pd\n",
    "\n",
    "try:\n",
    "    data = pd.read_csv('/datasets/data.csv')\n",
    "except:\n",
    "    data = pd.read_csv('https://code.s3.yandex.net/datasets/data.csv')"
   ]
  },
  {
   "cell_type": "markdown",
   "id": "f34b542e",
   "metadata": {
    "deletable": false,
    "editable": false,
    "id": "b8038fe3"
   },
   "source": [
    "**Задание 2. Выведите первые 20 строчек датафрейма `data` на экран.**"
   ]
  },
  {
   "cell_type": "code",
   "execution_count": 2,
   "id": "f28badbb",
   "metadata": {
    "deletable": false,
    "id": "2a7cab99",
    "outputId": "1a8f3ef2-d323-4ec2-ddf7-89670b5944c4"
   },
   "outputs": [
    {
     "data": {
      "text/html": [
       "<div>\n",
       "<style scoped>\n",
       "    .dataframe tbody tr th:only-of-type {\n",
       "        vertical-align: middle;\n",
       "    }\n",
       "\n",
       "    .dataframe tbody tr th {\n",
       "        vertical-align: top;\n",
       "    }\n",
       "\n",
       "    .dataframe thead th {\n",
       "        text-align: right;\n",
       "    }\n",
       "</style>\n",
       "<table border=\"1\" class=\"dataframe\">\n",
       "  <thead>\n",
       "    <tr style=\"text-align: right;\">\n",
       "      <th></th>\n",
       "      <th>children</th>\n",
       "      <th>days_employed</th>\n",
       "      <th>dob_years</th>\n",
       "      <th>education</th>\n",
       "      <th>education_id</th>\n",
       "      <th>family_status</th>\n",
       "      <th>family_status_id</th>\n",
       "      <th>gender</th>\n",
       "      <th>income_type</th>\n",
       "      <th>debt</th>\n",
       "      <th>total_income</th>\n",
       "      <th>purpose</th>\n",
       "    </tr>\n",
       "  </thead>\n",
       "  <tbody>\n",
       "    <tr>\n",
       "      <th>0</th>\n",
       "      <td>1</td>\n",
       "      <td>-8437.673028</td>\n",
       "      <td>42</td>\n",
       "      <td>высшее</td>\n",
       "      <td>0</td>\n",
       "      <td>женат / замужем</td>\n",
       "      <td>0</td>\n",
       "      <td>F</td>\n",
       "      <td>сотрудник</td>\n",
       "      <td>0</td>\n",
       "      <td>253875.639453</td>\n",
       "      <td>покупка жилья</td>\n",
       "    </tr>\n",
       "    <tr>\n",
       "      <th>1</th>\n",
       "      <td>1</td>\n",
       "      <td>-4024.803754</td>\n",
       "      <td>36</td>\n",
       "      <td>среднее</td>\n",
       "      <td>1</td>\n",
       "      <td>женат / замужем</td>\n",
       "      <td>0</td>\n",
       "      <td>F</td>\n",
       "      <td>сотрудник</td>\n",
       "      <td>0</td>\n",
       "      <td>112080.014102</td>\n",
       "      <td>приобретение автомобиля</td>\n",
       "    </tr>\n",
       "    <tr>\n",
       "      <th>2</th>\n",
       "      <td>0</td>\n",
       "      <td>-5623.422610</td>\n",
       "      <td>33</td>\n",
       "      <td>Среднее</td>\n",
       "      <td>1</td>\n",
       "      <td>женат / замужем</td>\n",
       "      <td>0</td>\n",
       "      <td>M</td>\n",
       "      <td>сотрудник</td>\n",
       "      <td>0</td>\n",
       "      <td>145885.952297</td>\n",
       "      <td>покупка жилья</td>\n",
       "    </tr>\n",
       "    <tr>\n",
       "      <th>3</th>\n",
       "      <td>3</td>\n",
       "      <td>-4124.747207</td>\n",
       "      <td>32</td>\n",
       "      <td>среднее</td>\n",
       "      <td>1</td>\n",
       "      <td>женат / замужем</td>\n",
       "      <td>0</td>\n",
       "      <td>M</td>\n",
       "      <td>сотрудник</td>\n",
       "      <td>0</td>\n",
       "      <td>267628.550329</td>\n",
       "      <td>дополнительное образование</td>\n",
       "    </tr>\n",
       "    <tr>\n",
       "      <th>4</th>\n",
       "      <td>0</td>\n",
       "      <td>340266.072047</td>\n",
       "      <td>53</td>\n",
       "      <td>среднее</td>\n",
       "      <td>1</td>\n",
       "      <td>гражданский брак</td>\n",
       "      <td>1</td>\n",
       "      <td>F</td>\n",
       "      <td>пенсионер</td>\n",
       "      <td>0</td>\n",
       "      <td>158616.077870</td>\n",
       "      <td>сыграть свадьбу</td>\n",
       "    </tr>\n",
       "    <tr>\n",
       "      <th>5</th>\n",
       "      <td>0</td>\n",
       "      <td>-926.185831</td>\n",
       "      <td>27</td>\n",
       "      <td>высшее</td>\n",
       "      <td>0</td>\n",
       "      <td>гражданский брак</td>\n",
       "      <td>1</td>\n",
       "      <td>M</td>\n",
       "      <td>компаньон</td>\n",
       "      <td>0</td>\n",
       "      <td>255763.565419</td>\n",
       "      <td>покупка жилья</td>\n",
       "    </tr>\n",
       "    <tr>\n",
       "      <th>6</th>\n",
       "      <td>0</td>\n",
       "      <td>-2879.202052</td>\n",
       "      <td>43</td>\n",
       "      <td>высшее</td>\n",
       "      <td>0</td>\n",
       "      <td>женат / замужем</td>\n",
       "      <td>0</td>\n",
       "      <td>F</td>\n",
       "      <td>компаньон</td>\n",
       "      <td>0</td>\n",
       "      <td>240525.971920</td>\n",
       "      <td>операции с жильем</td>\n",
       "    </tr>\n",
       "    <tr>\n",
       "      <th>7</th>\n",
       "      <td>0</td>\n",
       "      <td>-152.779569</td>\n",
       "      <td>50</td>\n",
       "      <td>СРЕДНЕЕ</td>\n",
       "      <td>1</td>\n",
       "      <td>женат / замужем</td>\n",
       "      <td>0</td>\n",
       "      <td>M</td>\n",
       "      <td>сотрудник</td>\n",
       "      <td>0</td>\n",
       "      <td>135823.934197</td>\n",
       "      <td>образование</td>\n",
       "    </tr>\n",
       "    <tr>\n",
       "      <th>8</th>\n",
       "      <td>2</td>\n",
       "      <td>-6929.865299</td>\n",
       "      <td>35</td>\n",
       "      <td>ВЫСШЕЕ</td>\n",
       "      <td>0</td>\n",
       "      <td>гражданский брак</td>\n",
       "      <td>1</td>\n",
       "      <td>F</td>\n",
       "      <td>сотрудник</td>\n",
       "      <td>0</td>\n",
       "      <td>95856.832424</td>\n",
       "      <td>на проведение свадьбы</td>\n",
       "    </tr>\n",
       "    <tr>\n",
       "      <th>9</th>\n",
       "      <td>0</td>\n",
       "      <td>-2188.756445</td>\n",
       "      <td>41</td>\n",
       "      <td>среднее</td>\n",
       "      <td>1</td>\n",
       "      <td>женат / замужем</td>\n",
       "      <td>0</td>\n",
       "      <td>M</td>\n",
       "      <td>сотрудник</td>\n",
       "      <td>0</td>\n",
       "      <td>144425.938277</td>\n",
       "      <td>покупка жилья для семьи</td>\n",
       "    </tr>\n",
       "    <tr>\n",
       "      <th>10</th>\n",
       "      <td>2</td>\n",
       "      <td>-4171.483647</td>\n",
       "      <td>36</td>\n",
       "      <td>высшее</td>\n",
       "      <td>0</td>\n",
       "      <td>женат / замужем</td>\n",
       "      <td>0</td>\n",
       "      <td>M</td>\n",
       "      <td>компаньон</td>\n",
       "      <td>0</td>\n",
       "      <td>113943.491460</td>\n",
       "      <td>покупка недвижимости</td>\n",
       "    </tr>\n",
       "    <tr>\n",
       "      <th>11</th>\n",
       "      <td>0</td>\n",
       "      <td>-792.701887</td>\n",
       "      <td>40</td>\n",
       "      <td>среднее</td>\n",
       "      <td>1</td>\n",
       "      <td>женат / замужем</td>\n",
       "      <td>0</td>\n",
       "      <td>F</td>\n",
       "      <td>сотрудник</td>\n",
       "      <td>0</td>\n",
       "      <td>77069.234271</td>\n",
       "      <td>покупка коммерческой недвижимости</td>\n",
       "    </tr>\n",
       "    <tr>\n",
       "      <th>12</th>\n",
       "      <td>0</td>\n",
       "      <td>NaN</td>\n",
       "      <td>65</td>\n",
       "      <td>среднее</td>\n",
       "      <td>1</td>\n",
       "      <td>гражданский брак</td>\n",
       "      <td>1</td>\n",
       "      <td>M</td>\n",
       "      <td>пенсионер</td>\n",
       "      <td>0</td>\n",
       "      <td>NaN</td>\n",
       "      <td>сыграть свадьбу</td>\n",
       "    </tr>\n",
       "    <tr>\n",
       "      <th>13</th>\n",
       "      <td>0</td>\n",
       "      <td>-1846.641941</td>\n",
       "      <td>54</td>\n",
       "      <td>неоконченное высшее</td>\n",
       "      <td>2</td>\n",
       "      <td>женат / замужем</td>\n",
       "      <td>0</td>\n",
       "      <td>F</td>\n",
       "      <td>сотрудник</td>\n",
       "      <td>0</td>\n",
       "      <td>130458.228857</td>\n",
       "      <td>приобретение автомобиля</td>\n",
       "    </tr>\n",
       "    <tr>\n",
       "      <th>14</th>\n",
       "      <td>0</td>\n",
       "      <td>-1844.956182</td>\n",
       "      <td>56</td>\n",
       "      <td>высшее</td>\n",
       "      <td>0</td>\n",
       "      <td>гражданский брак</td>\n",
       "      <td>1</td>\n",
       "      <td>F</td>\n",
       "      <td>компаньон</td>\n",
       "      <td>1</td>\n",
       "      <td>165127.911772</td>\n",
       "      <td>покупка жилой недвижимости</td>\n",
       "    </tr>\n",
       "    <tr>\n",
       "      <th>15</th>\n",
       "      <td>1</td>\n",
       "      <td>-972.364419</td>\n",
       "      <td>26</td>\n",
       "      <td>среднее</td>\n",
       "      <td>1</td>\n",
       "      <td>женат / замужем</td>\n",
       "      <td>0</td>\n",
       "      <td>F</td>\n",
       "      <td>сотрудник</td>\n",
       "      <td>0</td>\n",
       "      <td>116820.904450</td>\n",
       "      <td>строительство собственной недвижимости</td>\n",
       "    </tr>\n",
       "    <tr>\n",
       "      <th>16</th>\n",
       "      <td>0</td>\n",
       "      <td>-1719.934226</td>\n",
       "      <td>35</td>\n",
       "      <td>среднее</td>\n",
       "      <td>1</td>\n",
       "      <td>женат / замужем</td>\n",
       "      <td>0</td>\n",
       "      <td>F</td>\n",
       "      <td>сотрудник</td>\n",
       "      <td>0</td>\n",
       "      <td>289202.704229</td>\n",
       "      <td>недвижимость</td>\n",
       "    </tr>\n",
       "    <tr>\n",
       "      <th>17</th>\n",
       "      <td>0</td>\n",
       "      <td>-2369.999720</td>\n",
       "      <td>33</td>\n",
       "      <td>высшее</td>\n",
       "      <td>0</td>\n",
       "      <td>гражданский брак</td>\n",
       "      <td>1</td>\n",
       "      <td>M</td>\n",
       "      <td>сотрудник</td>\n",
       "      <td>0</td>\n",
       "      <td>90410.586745</td>\n",
       "      <td>строительство недвижимости</td>\n",
       "    </tr>\n",
       "    <tr>\n",
       "      <th>18</th>\n",
       "      <td>0</td>\n",
       "      <td>400281.136913</td>\n",
       "      <td>53</td>\n",
       "      <td>среднее</td>\n",
       "      <td>1</td>\n",
       "      <td>вдовец / вдова</td>\n",
       "      <td>2</td>\n",
       "      <td>F</td>\n",
       "      <td>пенсионер</td>\n",
       "      <td>0</td>\n",
       "      <td>56823.777243</td>\n",
       "      <td>на покупку подержанного автомобиля</td>\n",
       "    </tr>\n",
       "    <tr>\n",
       "      <th>19</th>\n",
       "      <td>0</td>\n",
       "      <td>-10038.818549</td>\n",
       "      <td>48</td>\n",
       "      <td>СРЕДНЕЕ</td>\n",
       "      <td>1</td>\n",
       "      <td>в разводе</td>\n",
       "      <td>3</td>\n",
       "      <td>F</td>\n",
       "      <td>сотрудник</td>\n",
       "      <td>0</td>\n",
       "      <td>242831.107982</td>\n",
       "      <td>на покупку своего автомобиля</td>\n",
       "    </tr>\n",
       "  </tbody>\n",
       "</table>\n",
       "</div>"
      ],
      "text/plain": [
       "    children  days_employed  dob_years            education  education_id  \\\n",
       "0          1   -8437.673028         42               высшее             0   \n",
       "1          1   -4024.803754         36              среднее             1   \n",
       "2          0   -5623.422610         33              Среднее             1   \n",
       "3          3   -4124.747207         32              среднее             1   \n",
       "4          0  340266.072047         53              среднее             1   \n",
       "5          0    -926.185831         27               высшее             0   \n",
       "6          0   -2879.202052         43               высшее             0   \n",
       "7          0    -152.779569         50              СРЕДНЕЕ             1   \n",
       "8          2   -6929.865299         35               ВЫСШЕЕ             0   \n",
       "9          0   -2188.756445         41              среднее             1   \n",
       "10         2   -4171.483647         36               высшее             0   \n",
       "11         0    -792.701887         40              среднее             1   \n",
       "12         0            NaN         65              среднее             1   \n",
       "13         0   -1846.641941         54  неоконченное высшее             2   \n",
       "14         0   -1844.956182         56               высшее             0   \n",
       "15         1    -972.364419         26              среднее             1   \n",
       "16         0   -1719.934226         35              среднее             1   \n",
       "17         0   -2369.999720         33               высшее             0   \n",
       "18         0  400281.136913         53              среднее             1   \n",
       "19         0  -10038.818549         48              СРЕДНЕЕ             1   \n",
       "\n",
       "       family_status  family_status_id gender income_type  debt  \\\n",
       "0    женат / замужем                 0      F   сотрудник     0   \n",
       "1    женат / замужем                 0      F   сотрудник     0   \n",
       "2    женат / замужем                 0      M   сотрудник     0   \n",
       "3    женат / замужем                 0      M   сотрудник     0   \n",
       "4   гражданский брак                 1      F   пенсионер     0   \n",
       "5   гражданский брак                 1      M   компаньон     0   \n",
       "6    женат / замужем                 0      F   компаньон     0   \n",
       "7    женат / замужем                 0      M   сотрудник     0   \n",
       "8   гражданский брак                 1      F   сотрудник     0   \n",
       "9    женат / замужем                 0      M   сотрудник     0   \n",
       "10   женат / замужем                 0      M   компаньон     0   \n",
       "11   женат / замужем                 0      F   сотрудник     0   \n",
       "12  гражданский брак                 1      M   пенсионер     0   \n",
       "13   женат / замужем                 0      F   сотрудник     0   \n",
       "14  гражданский брак                 1      F   компаньон     1   \n",
       "15   женат / замужем                 0      F   сотрудник     0   \n",
       "16   женат / замужем                 0      F   сотрудник     0   \n",
       "17  гражданский брак                 1      M   сотрудник     0   \n",
       "18    вдовец / вдова                 2      F   пенсионер     0   \n",
       "19         в разводе                 3      F   сотрудник     0   \n",
       "\n",
       "     total_income                                 purpose  \n",
       "0   253875.639453                           покупка жилья  \n",
       "1   112080.014102                 приобретение автомобиля  \n",
       "2   145885.952297                           покупка жилья  \n",
       "3   267628.550329              дополнительное образование  \n",
       "4   158616.077870                         сыграть свадьбу  \n",
       "5   255763.565419                           покупка жилья  \n",
       "6   240525.971920                       операции с жильем  \n",
       "7   135823.934197                             образование  \n",
       "8    95856.832424                   на проведение свадьбы  \n",
       "9   144425.938277                 покупка жилья для семьи  \n",
       "10  113943.491460                    покупка недвижимости  \n",
       "11   77069.234271       покупка коммерческой недвижимости  \n",
       "12            NaN                         сыграть свадьбу  \n",
       "13  130458.228857                 приобретение автомобиля  \n",
       "14  165127.911772              покупка жилой недвижимости  \n",
       "15  116820.904450  строительство собственной недвижимости  \n",
       "16  289202.704229                            недвижимость  \n",
       "17   90410.586745              строительство недвижимости  \n",
       "18   56823.777243      на покупку подержанного автомобиля  \n",
       "19  242831.107982            на покупку своего автомобиля  "
      ]
     },
     "execution_count": 2,
     "metadata": {},
     "output_type": "execute_result"
    }
   ],
   "source": [
    "data.head(20)"
   ]
  },
  {
   "cell_type": "markdown",
   "id": "59e7f1f5",
   "metadata": {
    "deletable": false,
    "editable": false,
    "id": "1c12e233"
   },
   "source": [
    "**Задание 3. Выведите основную информацию о датафрейме с помощью метода `info()`.**"
   ]
  },
  {
   "cell_type": "code",
   "execution_count": 3,
   "id": "8b55e11d",
   "metadata": {
    "deletable": false,
    "id": "2b757bca",
    "outputId": "15376089-8dad-46c9-b520-c05248d43158"
   },
   "outputs": [
    {
     "name": "stdout",
     "output_type": "stream",
     "text": [
      "<class 'pandas.core.frame.DataFrame'>\n",
      "RangeIndex: 21525 entries, 0 to 21524\n",
      "Data columns (total 12 columns):\n",
      " #   Column            Non-Null Count  Dtype  \n",
      "---  ------            --------------  -----  \n",
      " 0   children          21525 non-null  int64  \n",
      " 1   days_employed     19351 non-null  float64\n",
      " 2   dob_years         21525 non-null  int64  \n",
      " 3   education         21525 non-null  object \n",
      " 4   education_id      21525 non-null  int64  \n",
      " 5   family_status     21525 non-null  object \n",
      " 6   family_status_id  21525 non-null  int64  \n",
      " 7   gender            21525 non-null  object \n",
      " 8   income_type       21525 non-null  object \n",
      " 9   debt              21525 non-null  int64  \n",
      " 10  total_income      19351 non-null  float64\n",
      " 11  purpose           21525 non-null  object \n",
      "dtypes: float64(2), int64(5), object(5)\n",
      "memory usage: 2.0+ MB\n"
     ]
    }
   ],
   "source": [
    "data.info()"
   ]
  },
  {
   "cell_type": "markdown",
   "id": "a4f36c9d",
   "metadata": {
    "deletable": false,
    "editable": false,
    "id": "333ec665"
   },
   "source": [
    "## Предобработка данных"
   ]
  },
  {
   "cell_type": "markdown",
   "id": "7af9db02",
   "metadata": {
    "deletable": false,
    "editable": false,
    "id": "02d92d53"
   },
   "source": [
    "### Удаление пропусков"
   ]
  },
  {
   "cell_type": "markdown",
   "id": "53befe3e",
   "metadata": {
    "deletable": false,
    "editable": false,
    "id": "cd84967c"
   },
   "source": [
    "**Задание 4. Выведите количество пропущенных значений для каждого столбца. Используйте комбинацию двух методов.**"
   ]
  },
  {
   "cell_type": "code",
   "execution_count": 4,
   "id": "339088c6",
   "metadata": {
    "deletable": false,
    "id": "7f9b2309",
    "outputId": "81f4d817-781c-465c-ed15-91ce4446810d"
   },
   "outputs": [
    {
     "data": {
      "text/plain": [
       "children               0\n",
       "days_employed       2174\n",
       "dob_years              0\n",
       "education              0\n",
       "education_id           0\n",
       "family_status          0\n",
       "family_status_id       0\n",
       "gender                 0\n",
       "income_type            0\n",
       "debt                   0\n",
       "total_income        2174\n",
       "purpose                0\n",
       "dtype: int64"
      ]
     },
     "execution_count": 4,
     "metadata": {},
     "output_type": "execute_result"
    }
   ],
   "source": [
    "data.isna().sum()"
   ]
  },
  {
   "cell_type": "markdown",
   "id": "a9c26e63",
   "metadata": {
    "deletable": false,
    "editable": false,
    "id": "db86e27b"
   },
   "source": [
    "**Задание 5. В двух столбцах есть пропущенные значения. Один из них — `days_employed`. Пропуски в этом столбце вы обработаете на следующем этапе. Другой столбец с пропущенными значениями — `total_income` — хранит данные о доходах. На сумму дохода сильнее всего влияет тип занятости, поэтому заполнить пропуски в этом столбце нужно медианным значением по каждому типу из столбца `income_type`. Например, у человека с типом занятости `сотрудник` пропуск в столбце `total_income` должен быть заполнен медианным доходом среди всех записей с тем же типом.**"
   ]
  },
  {
   "cell_type": "code",
   "execution_count": 5,
   "id": "1f498461",
   "metadata": {
    "deletable": false,
    "id": "42006a93"
   },
   "outputs": [],
   "source": [
    "for t in data['income_type'].unique():\n",
    "    data.loc[(data['income_type'] == t) & (data['total_income'].isna()), 'total_income'] = \\\n",
    "    data.loc[(data['income_type'] == t), 'total_income'].median()"
   ]
  },
  {
   "cell_type": "markdown",
   "id": "f4913523",
   "metadata": {
    "deletable": false,
    "editable": false,
    "id": "89da5ece"
   },
   "source": [
    "### Обработка аномальных значений"
   ]
  },
  {
   "cell_type": "markdown",
   "id": "1fb4cd6d",
   "metadata": {
    "deletable": false,
    "editable": false,
    "id": "57964554"
   },
   "source": [
    "**Задание 6. В данных могут встречаться артефакты (аномалии) — значения, которые не отражают действительность и появились по какой-то ошибке. таким артефактом будет отрицательное количество дней трудового стажа в столбце `days_employed`. Для реальных данных это нормально. Обработайте значения в этом столбце: замените все отрицательные значения положительными с помощью метода `abs()`.**"
   ]
  },
  {
   "cell_type": "code",
   "execution_count": 6,
   "id": "601e72e4",
   "metadata": {
    "deletable": false,
    "id": "f6f055bf"
   },
   "outputs": [],
   "source": [
    "data['days_employed'] = data['days_employed'].abs()"
   ]
  },
  {
   "cell_type": "markdown",
   "id": "88d51988",
   "metadata": {
    "deletable": false,
    "editable": false,
    "id": "6107dd2f"
   },
   "source": [
    "**Задание 7. Для каждого типа занятости выведите медианное значение трудового стажа `days_employed` в днях.**"
   ]
  },
  {
   "cell_type": "code",
   "execution_count": 7,
   "id": "1bbc245e",
   "metadata": {
    "deletable": false,
    "id": "85a5faf6",
    "outputId": "801ef80e-522b-4668-f34e-565af7432bcf"
   },
   "outputs": [
    {
     "data": {
      "text/plain": [
       "income_type\n",
       "безработный        366413.652744\n",
       "в декрете            3296.759962\n",
       "госслужащий          2689.368353\n",
       "компаньон            1547.382223\n",
       "пенсионер          365213.306266\n",
       "предприниматель       520.848083\n",
       "сотрудник            1574.202821\n",
       "студент               578.751554\n",
       "Name: days_employed, dtype: float64"
      ]
     },
     "execution_count": 7,
     "metadata": {},
     "output_type": "execute_result"
    }
   ],
   "source": [
    "data.groupby('income_type')['days_employed'].agg('median')"
   ]
  },
  {
   "cell_type": "markdown",
   "id": "8d458eae",
   "metadata": {
    "deletable": false,
    "editable": false,
    "id": "38d1a030"
   },
   "source": [
    "У двух типов (безработные и пенсионеры) получатся аномально большие значения. Исправить такие значения сложно, поэтому оставьте их как есть. Тем более этот столбец не понадобится вам для исследования."
   ]
  },
  {
   "cell_type": "markdown",
   "id": "79002f90",
   "metadata": {
    "deletable": false,
    "editable": false,
    "id": "d8a9f147"
   },
   "source": [
    "**Задание 8. Выведите перечень уникальных значений столбца `children`.**"
   ]
  },
  {
   "cell_type": "code",
   "execution_count": 8,
   "id": "b5bc9559",
   "metadata": {
    "deletable": false,
    "id": "ef5056eb",
    "outputId": "6975b15c-7f95-4697-d16d-a0c79b657b03"
   },
   "outputs": [
    {
     "data": {
      "text/plain": [
       "array([ 1,  0,  3,  2, -1,  4, 20,  5])"
      ]
     },
     "execution_count": 8,
     "metadata": {},
     "output_type": "execute_result"
    }
   ],
   "source": [
    "data['children'].unique()"
   ]
  },
  {
   "cell_type": "markdown",
   "id": "0281d9a6",
   "metadata": {
    "deletable": false,
    "editable": false,
    "id": "40b9ebf2"
   },
   "source": [
    "**Задание 9. В столбце `children` есть два аномальных значения. Удалите строки, в которых встречаются такие аномальные значения из датафрейма `data`.**"
   ]
  },
  {
   "cell_type": "code",
   "execution_count": 9,
   "id": "b1e598ef",
   "metadata": {
    "deletable": false,
    "id": "3ff9801d"
   },
   "outputs": [],
   "source": [
    "data = data[(data['children'] != -1) & (data['children'] != 20)]"
   ]
  },
  {
   "cell_type": "markdown",
   "id": "d820f434",
   "metadata": {
    "deletable": false,
    "editable": false,
    "id": "bbc4d0ce"
   },
   "source": [
    "**Задание 10. Ещё раз выведите перечень уникальных значений столбца `children`, чтобы убедиться, что артефакты удалены.**"
   ]
  },
  {
   "cell_type": "code",
   "execution_count": 10,
   "id": "0b40e22b",
   "metadata": {
    "deletable": false,
    "id": "ad4fa8b7",
    "outputId": "b2097101-d49d-44d9-901b-32a65c9463d1"
   },
   "outputs": [
    {
     "data": {
      "text/plain": [
       "array([1, 0, 3, 2, 4, 5])"
      ]
     },
     "execution_count": 10,
     "metadata": {},
     "output_type": "execute_result"
    }
   ],
   "source": [
    "data['children'].unique()"
   ]
  },
  {
   "cell_type": "markdown",
   "id": "77d29df5",
   "metadata": {
    "deletable": false,
    "editable": false,
    "id": "75440b63"
   },
   "source": [
    "### Удаление пропусков (продолжение)"
   ]
  },
  {
   "cell_type": "markdown",
   "id": "d2a0b21e",
   "metadata": {
    "deletable": false,
    "editable": false,
    "id": "f4ea573f"
   },
   "source": [
    "**Задание 11. Заполните пропуски в столбце `days_employed` медианными значениями по каждого типа занятости `income_type`.**"
   ]
  },
  {
   "cell_type": "code",
   "execution_count": 11,
   "id": "f4ef1b93",
   "metadata": {
    "deletable": false,
    "id": "af6b1a7e"
   },
   "outputs": [],
   "source": [
    "for t in data['income_type'].unique():\n",
    "    data.loc[(data['income_type'] == t) & (data['days_employed'].isna()), 'days_employed'] = \\\n",
    "    data.loc[(data['income_type'] == t), 'days_employed'].median()"
   ]
  },
  {
   "cell_type": "markdown",
   "id": "50b4676a",
   "metadata": {
    "deletable": false,
    "editable": false,
    "id": "2753f40d"
   },
   "source": [
    "**Задание 12. Убедитесь, что все пропуски заполнены. Проверьте себя и ещё раз выведите количество пропущенных значений для каждого столбца с помощью двух методов.**"
   ]
  },
  {
   "cell_type": "code",
   "execution_count": 8,
   "id": "181afec6",
   "metadata": {
    "deletable": false,
    "id": "55f78bc2",
    "outputId": "8da1e4e1-358e-4e87-98c9-f261bce0a7b2"
   },
   "outputs": [
    {
     "data": {
      "text/plain": [
       "children               0\n",
       "days_employed       2174\n",
       "dob_years              0\n",
       "education              0\n",
       "education_id           0\n",
       "family_status          0\n",
       "family_status_id       0\n",
       "gender                 0\n",
       "income_type            0\n",
       "debt                   0\n",
       "total_income           0\n",
       "purpose                0\n",
       "dtype: int64"
      ]
     },
     "execution_count": 8,
     "metadata": {},
     "output_type": "execute_result"
    }
   ],
   "source": [
    "data.isna().sum()"
   ]
  },
  {
   "cell_type": "markdown",
   "id": "494a0b2e",
   "metadata": {
    "deletable": false,
    "editable": false,
    "id": "ddc81e43"
   },
   "source": [
    "### Изменение типов данных"
   ]
  },
  {
   "cell_type": "markdown",
   "id": "24d638c8",
   "metadata": {
    "deletable": false,
    "editable": false,
    "id": "42d19d24"
   },
   "source": [
    "**Задание 13. Замените вещественный тип данных в столбце `total_income` на целочисленный с помощью метода `astype()`.**"
   ]
  },
  {
   "cell_type": "code",
   "execution_count": 9,
   "id": "a09da684",
   "metadata": {
    "deletable": false,
    "id": "920b65ad"
   },
   "outputs": [],
   "source": [
    "data['total_income'] = data['total_income'].astype(int)"
   ]
  },
  {
   "cell_type": "markdown",
   "id": "c68431ab",
   "metadata": {
    "deletable": false,
    "editable": false,
    "id": "80c420ba"
   },
   "source": [
    "### Обработка дубликатов"
   ]
  },
  {
   "cell_type": "markdown",
   "id": "805cea4d",
   "metadata": {
    "deletable": false,
    "editable": false
   },
   "source": [
    "**Задание 14. Обработайте неявные дубликаты в столбце `education`. В этом столбце есть одни и те же значения, но записанные по-разному: с использованием заглавных и строчных букв. Приведите их к нижнему регистру. Проверьте остальные столбцы.**"
   ]
  },
  {
   "cell_type": "code",
   "execution_count": 10,
   "id": "5ad6c649",
   "metadata": {
    "deletable": false
   },
   "outputs": [],
   "source": [
    "data['education'] = data['education'].str.lower()"
   ]
  },
  {
   "cell_type": "markdown",
   "id": "f6180573",
   "metadata": {
    "deletable": false,
    "editable": false,
    "id": "dc587695"
   },
   "source": [
    "**Задание 15. Выведите на экран количество строк-дубликатов в данных. Если такие строки присутствуют, удалите их.**"
   ]
  },
  {
   "cell_type": "code",
   "execution_count": 11,
   "id": "fc1db03c",
   "metadata": {
    "deletable": false,
    "id": "3ee445e4",
    "outputId": "9684deba-1934-42d1-99e1-cda61740f822"
   },
   "outputs": [
    {
     "data": {
      "text/plain": [
       "71"
      ]
     },
     "execution_count": 11,
     "metadata": {},
     "output_type": "execute_result"
    }
   ],
   "source": [
    "data.duplicated().sum()"
   ]
  },
  {
   "cell_type": "code",
   "execution_count": 12,
   "id": "28e87f23",
   "metadata": {
    "deletable": false,
    "id": "8575fe05"
   },
   "outputs": [],
   "source": [
    "data = data.drop_duplicates()"
   ]
  },
  {
   "cell_type": "markdown",
   "id": "3648664f",
   "metadata": {
    "deletable": false,
    "editable": false,
    "id": "9904cf55"
   },
   "source": [
    "### Категоризация данных"
   ]
  },
  {
   "cell_type": "markdown",
   "id": "9c37c585",
   "metadata": {
    "deletable": false,
    "editable": false,
    "id": "72fcc8a2"
   },
   "source": [
    "**Задание 16. На основании диапазонов, указанных ниже, создайте в датафрейме `data` столбец `total_income_category` с категориями:**\n",
    "\n",
    "- 0–30000 — `'E'`;\n",
    "- 30001–50000 — `'D'`;\n",
    "- 50001–200000 — `'C'`;\n",
    "- 200001–1000000 — `'B'`;\n",
    "- 1000001 и выше — `'A'`.\n",
    "\n",
    "\n",
    "**Например, кредитополучателю с доходом 25000 нужно назначить категорию `'E'`, а клиенту, получающему 235000, — `'B'`. Используйте собственную функцию с именем `categorize_income()` и метод `apply()`.**"
   ]
  },
  {
   "cell_type": "code",
   "execution_count": 13,
   "id": "f4adf290",
   "metadata": {
    "deletable": false,
    "id": "e1771346"
   },
   "outputs": [],
   "source": [
    "def categorize_income(income):\n",
    "    try:\n",
    "        if 0 <= income <= 30000:\n",
    "            return 'E'\n",
    "        elif 30001 <= income <= 50000:\n",
    "            return 'D'\n",
    "        elif 50001 <= income <= 200000:\n",
    "            return 'C'\n",
    "        elif 200001 <= income <= 1000000:\n",
    "            return 'B'\n",
    "        elif income >= 1000001:\n",
    "            return 'A'\n",
    "    except:\n",
    "        pass"
   ]
  },
  {
   "cell_type": "code",
   "execution_count": 14,
   "id": "63d021c6",
   "metadata": {
    "deletable": false,
    "id": "d5f3586d"
   },
   "outputs": [],
   "source": [
    "data['total_income_category'] = data['total_income'].apply(categorize_income)"
   ]
  },
  {
   "cell_type": "markdown",
   "id": "e8232462",
   "metadata": {
    "deletable": false,
    "editable": false,
    "id": "dde49b5c"
   },
   "source": [
    "**Задание 17. Выведите на экран перечень уникальных целей взятия кредита из столбца `purpose`.**"
   ]
  },
  {
   "cell_type": "code",
   "execution_count": 15,
   "id": "b960a23b",
   "metadata": {
    "deletable": false,
    "id": "f67ce9b3",
    "outputId": "673c12d9-7d7e-4ae0-9812-c622c89dd244"
   },
   "outputs": [
    {
     "data": {
      "text/plain": [
       "array(['покупка жилья', 'приобретение автомобиля',\n",
       "       'дополнительное образование', 'сыграть свадьбу',\n",
       "       'операции с жильем', 'образование', 'на проведение свадьбы',\n",
       "       'покупка жилья для семьи', 'покупка недвижимости',\n",
       "       'покупка коммерческой недвижимости', 'покупка жилой недвижимости',\n",
       "       'строительство собственной недвижимости', 'недвижимость',\n",
       "       'строительство недвижимости', 'на покупку подержанного автомобиля',\n",
       "       'на покупку своего автомобиля',\n",
       "       'операции с коммерческой недвижимостью',\n",
       "       'строительство жилой недвижимости', 'жилье',\n",
       "       'операции со своей недвижимостью', 'автомобили',\n",
       "       'заняться образованием', 'сделка с подержанным автомобилем',\n",
       "       'получение образования', 'автомобиль', 'свадьба',\n",
       "       'получение дополнительного образования', 'покупка своего жилья',\n",
       "       'операции с недвижимостью', 'получение высшего образования',\n",
       "       'свой автомобиль', 'сделка с автомобилем',\n",
       "       'профильное образование', 'высшее образование',\n",
       "       'покупка жилья для сдачи', 'на покупку автомобиля', 'ремонт жилью',\n",
       "       'заняться высшим образованием'], dtype=object)"
      ]
     },
     "execution_count": 15,
     "metadata": {},
     "output_type": "execute_result"
    }
   ],
   "source": [
    "data['purpose'].unique()"
   ]
  },
  {
   "cell_type": "markdown",
   "id": "480b440a",
   "metadata": {
    "deletable": false,
    "editable": false,
    "id": "85d0aef0"
   },
   "source": [
    "**Задание 18. Создайте функцию, которая на основании данных из столбца `purpose` сформирует новый столбец `purpose_category`, в который войдут следующие категории:**\n",
    "\n",
    "- `'операции с автомобилем'`,\n",
    "- `'операции с недвижимостью'`,\n",
    "- `'проведение свадьбы'`,\n",
    "- `'получение образования'`.\n",
    "\n",
    "**Например, если в столбце `purpose` находится подстрока `'на покупку автомобиля'`, то в столбце `purpose_category` должна появиться строка `'операции с автомобилем'`.**\n",
    "\n",
    "**Используйте собственную функцию с именем `categorize_purpose()` и метод `apply()`. Изучите данные в столбце `purpose` и определите, какие подстроки помогут вам правильно определить категорию.**"
   ]
  },
  {
   "cell_type": "code",
   "execution_count": 16,
   "id": "6971bddc",
   "metadata": {
    "deletable": false,
    "id": "e149fab4"
   },
   "outputs": [],
   "source": [
    "def categorize_purpose(row):\n",
    "    try:\n",
    "        if 'автом' in row:\n",
    "            return 'операции с автомобилем'\n",
    "        elif 'жил' in row or 'недвиж' in row:\n",
    "            return 'операции с недвижимостью'\n",
    "        elif 'свад' in row:\n",
    "            return 'проведение свадьбы'\n",
    "        elif 'образов' in row:\n",
    "            return 'получение образования'\n",
    "    except:\n",
    "        return 'нет категории'"
   ]
  },
  {
   "cell_type": "code",
   "execution_count": 17,
   "id": "c7470fa8",
   "metadata": {
    "deletable": false,
    "id": "bf36e69b"
   },
   "outputs": [],
   "source": [
    "data['purpose_category'] = data['purpose'].apply(categorize_purpose)"
   ]
  },
  {
   "cell_type": "markdown",
   "id": "67dd94ee",
   "metadata": {
    "deletable": false,
    "editable": false,
    "id": "09b242bf"
   },
   "source": [
    "### Шаг 3. Исследуйте данные и ответьте на вопросы"
   ]
  },
  {
   "cell_type": "markdown",
   "id": "87f7e4e6",
   "metadata": {
    "deletable": false,
    "editable": false,
    "id": "c5d66278"
   },
   "source": [
    "#### 3.1 Есть ли зависимость между количеством детей и возвратом кредита в срок?"
   ]
  },
  {
   "cell_type": "code",
   "execution_count": 18,
   "id": "429dd41b",
   "metadata": {
    "deletable": false,
    "id": "2cacfc4a",
    "scrolled": true
   },
   "outputs": [
    {
     "data": {
      "text/html": [
       "<div>\n",
       "<style scoped>\n",
       "    .dataframe tbody tr th:only-of-type {\n",
       "        vertical-align: middle;\n",
       "    }\n",
       "\n",
       "    .dataframe tbody tr th {\n",
       "        vertical-align: top;\n",
       "    }\n",
       "\n",
       "    .dataframe thead th {\n",
       "        text-align: right;\n",
       "    }\n",
       "</style>\n",
       "<table border=\"1\" class=\"dataframe\">\n",
       "  <thead>\n",
       "    <tr style=\"text-align: right;\">\n",
       "      <th></th>\n",
       "      <th>Количество записей</th>\n",
       "      <th>Среднее по задолжностям</th>\n",
       "    </tr>\n",
       "    <tr>\n",
       "      <th>children</th>\n",
       "      <th></th>\n",
       "      <th></th>\n",
       "    </tr>\n",
       "  </thead>\n",
       "  <tbody>\n",
       "    <tr>\n",
       "      <th>0</th>\n",
       "      <td>14149.0</td>\n",
       "      <td>7.51%</td>\n",
       "    </tr>\n",
       "    <tr>\n",
       "      <th>1</th>\n",
       "      <td>4818.0</td>\n",
       "      <td>9.22%</td>\n",
       "    </tr>\n",
       "    <tr>\n",
       "      <th>2</th>\n",
       "      <td>2055.0</td>\n",
       "      <td>9.44%</td>\n",
       "    </tr>\n",
       "    <tr>\n",
       "      <th>3</th>\n",
       "      <td>330.0</td>\n",
       "      <td>8.18%</td>\n",
       "    </tr>\n",
       "    <tr>\n",
       "      <th>4</th>\n",
       "      <td>41.0</td>\n",
       "      <td>9.76%</td>\n",
       "    </tr>\n",
       "    <tr>\n",
       "      <th>5</th>\n",
       "      <td>9.0</td>\n",
       "      <td>0.00%</td>\n",
       "    </tr>\n",
       "  </tbody>\n",
       "</table>\n",
       "</div>"
      ],
      "text/plain": [
       "          Количество записей Среднее по задолжностям\n",
       "children                                            \n",
       "0                    14149.0                   7.51%\n",
       "1                     4818.0                   9.22%\n",
       "2                     2055.0                   9.44%\n",
       "3                      330.0                   8.18%\n",
       "4                       41.0                   9.76%\n",
       "5                        9.0                   0.00%"
      ]
     },
     "execution_count": 18,
     "metadata": {},
     "output_type": "execute_result"
    }
   ],
   "source": [
    "\n",
    "import pandas as pd\n",
    "data = pd.read_csv('/datasets/data.csv')\n",
    "data=data[(data['children'] != -1) & (data['children'] != 20)]\n",
    "ch = data.pivot_table(index = ['children'], values='debt', aggfunc = ('mean', lambda X: X.count()))\n",
    "\n",
    "def percent(x):\n",
    "    return \"{0:.2%}\".format(x)\n",
    "\n",
    "ch['mean'] = ch['mean'].apply(percent)\n",
    "ch = ch.rename(columns={'<lambda_0>': \"Количество записей\", \"mean\": \"Среднее по задолжностям\"})\n",
    "ch.sort_values(by='Количество записей', ascending=False)"
   ]
  },
  {
   "cell_type": "markdown",
   "id": "41605e18",
   "metadata": {
    "deletable": false,
    "id": "3a6b99ec"
   },
   "source": [
    "**Вывод: после анализа полученной таблицы можно сделать вывод,что семьи без детей гораздо чаще возврашают кредит в срок, а семьи с 1 или 2 детьми гораздо чаще просрачивают кредит. Скорее всего это свзязано с тем, что семьи с 1 или 2 детьми менее ответсвенно относятся к кредиту нежели семьи без детей."
   ]
  },
  {
   "cell_type": "markdown",
   "id": "76c68e61",
   "metadata": {
    "deletable": false,
    "editable": false,
    "id": "97be82ca"
   },
   "source": [
    "#### 3.2 Есть ли зависимость между семейным положением и возвратом кредита в срок?"
   ]
  },
  {
   "cell_type": "code",
   "execution_count": 19,
   "id": "0d46f0b2",
   "metadata": {
    "deletable": false,
    "id": "dc3f7ee8"
   },
   "outputs": [
    {
     "data": {
      "text/html": [
       "<div>\n",
       "<style scoped>\n",
       "    .dataframe tbody tr th:only-of-type {\n",
       "        vertical-align: middle;\n",
       "    }\n",
       "\n",
       "    .dataframe tbody tr th {\n",
       "        vertical-align: top;\n",
       "    }\n",
       "\n",
       "    .dataframe thead th {\n",
       "        text-align: right;\n",
       "    }\n",
       "</style>\n",
       "<table border=\"1\" class=\"dataframe\">\n",
       "  <thead>\n",
       "    <tr style=\"text-align: right;\">\n",
       "      <th></th>\n",
       "      <th>Количество записей</th>\n",
       "      <th>Среднее по задолжностям</th>\n",
       "    </tr>\n",
       "    <tr>\n",
       "      <th>family_status</th>\n",
       "      <th></th>\n",
       "      <th></th>\n",
       "    </tr>\n",
       "  </thead>\n",
       "  <tbody>\n",
       "    <tr>\n",
       "      <th>женат / замужем</th>\n",
       "      <td>12302.0</td>\n",
       "      <td>7.54%</td>\n",
       "    </tr>\n",
       "    <tr>\n",
       "      <th>гражданский брак</th>\n",
       "      <td>4160.0</td>\n",
       "      <td>9.25%</td>\n",
       "    </tr>\n",
       "    <tr>\n",
       "      <th>Не женат / не замужем</th>\n",
       "      <td>2799.0</td>\n",
       "      <td>9.75%</td>\n",
       "    </tr>\n",
       "    <tr>\n",
       "      <th>в разводе</th>\n",
       "      <td>1189.0</td>\n",
       "      <td>7.06%</td>\n",
       "    </tr>\n",
       "    <tr>\n",
       "      <th>вдовец / вдова</th>\n",
       "      <td>952.0</td>\n",
       "      <td>6.62%</td>\n",
       "    </tr>\n",
       "  </tbody>\n",
       "</table>\n",
       "</div>"
      ],
      "text/plain": [
       "                       Количество записей Среднее по задолжностям\n",
       "family_status                                                    \n",
       "женат / замужем                   12302.0                   7.54%\n",
       "гражданский брак                   4160.0                   9.25%\n",
       "Не женат / не замужем              2799.0                   9.75%\n",
       "в разводе                          1189.0                   7.06%\n",
       "вдовец / вдова                      952.0                   6.62%"
      ]
     },
     "execution_count": 19,
     "metadata": {},
     "output_type": "execute_result"
    }
   ],
   "source": [
    "fs = data.pivot_table(index = ['family_status'], values='debt', aggfunc = ('mean', lambda X:X.count()))\n",
    "\n",
    "def percent(x):\n",
    "    return \"{0:.2%}\".format(x)\n",
    "\n",
    "fs['mean'] = fs['mean'].apply(percent)\n",
    "fs = fs.rename(columns={\"<lambda_0>\": \"Количество записей\", \"mean\": \"Среднее по задолжностям\"})\n",
    "fs.sort_values(by='Количество записей', ascending=False)"
   ]
  },
  {
   "cell_type": "markdown",
   "id": "63374a51",
   "metadata": {
    "deletable": false,
    "id": "1cef7837"
   },
   "source": [
    "**Вывод: зависимость есть. Люди находящиеся в гражданском браке или не женатые гораздо чаще прострачивают кредит нежели вдовцы или вдовы."
   ]
  },
  {
   "cell_type": "markdown",
   "id": "061b2d5e",
   "metadata": {
    "deletable": false,
    "editable": false,
    "id": "1e8b2fca"
   },
   "source": [
    "#### 3.3 Есть ли зависимость между уровнем дохода и возвратом кредита в срок?"
   ]
  },
  {
   "cell_type": "code",
   "execution_count": 8,
   "id": "75320d9a",
   "metadata": {
    "deletable": false,
    "id": "cd7e3720"
   },
   "outputs": [
    {
     "data": {
      "text/html": [
       "<div>\n",
       "<style scoped>\n",
       "    .dataframe tbody tr th:only-of-type {\n",
       "        vertical-align: middle;\n",
       "    }\n",
       "\n",
       "    .dataframe tbody tr th {\n",
       "        vertical-align: top;\n",
       "    }\n",
       "\n",
       "    .dataframe thead th {\n",
       "        text-align: right;\n",
       "    }\n",
       "</style>\n",
       "<table border=\"1\" class=\"dataframe\">\n",
       "  <thead>\n",
       "    <tr style=\"text-align: right;\">\n",
       "      <th></th>\n",
       "      <th>Количество записей</th>\n",
       "      <th>Среднее по задолжностям</th>\n",
       "    </tr>\n",
       "    <tr>\n",
       "      <th>total_income_category</th>\n",
       "      <th></th>\n",
       "      <th></th>\n",
       "    </tr>\n",
       "  </thead>\n",
       "  <tbody>\n",
       "    <tr>\n",
       "      <th>C</th>\n",
       "      <td>13913.0</td>\n",
       "      <td>8.55%</td>\n",
       "    </tr>\n",
       "    <tr>\n",
       "      <th>B</th>\n",
       "      <td>5041.0</td>\n",
       "      <td>7.06%</td>\n",
       "    </tr>\n",
       "    <tr>\n",
       "      <th>D</th>\n",
       "      <td>350.0</td>\n",
       "      <td>6.00%</td>\n",
       "    </tr>\n",
       "    <tr>\n",
       "      <th>A</th>\n",
       "      <td>25.0</td>\n",
       "      <td>8.00%</td>\n",
       "    </tr>\n",
       "    <tr>\n",
       "      <th>E</th>\n",
       "      <td>22.0</td>\n",
       "      <td>9.09%</td>\n",
       "    </tr>\n",
       "  </tbody>\n",
       "</table>\n",
       "</div>"
      ],
      "text/plain": [
       "                       Количество записей Среднее по задолжностям\n",
       "total_income_category                                            \n",
       "C                                 13913.0                   8.55%\n",
       "B                                  5041.0                   7.06%\n",
       "D                                   350.0                   6.00%\n",
       "A                                    25.0                   8.00%\n",
       "E                                    22.0                   9.09%"
      ]
     },
     "execution_count": 8,
     "metadata": {},
     "output_type": "execute_result"
    }
   ],
   "source": [
    "import pandas as pd\n",
    "data = pd.read_csv('/datasets/data.csv')\n",
    "def categorize_income(income):\n",
    "    if 0 <= income <= 30000:\n",
    "        return 'E'\n",
    "    elif 30001 <= income <= 50000:\n",
    "         return 'D'\n",
    "    elif 50001 <= income <= 200000:\n",
    "          return 'C'\n",
    "    elif 200001 <= income <= 1000000:\n",
    "        return 'B'\n",
    "    elif income >= 1000001:\n",
    "        return 'A'\n",
    "data['total_income_category'] = data['total_income'].apply(categorize_income)\n",
    "inc = data.pivot_table(index = 'total_income_category', values='debt', aggfunc = ('mean', lambda X:X.count()))\n",
    "def percent(x):\n",
    "    return \"{0:.2%}\".format(x)\n",
    "\n",
    "inc['mean'] = inc['mean'].apply(percent)\n",
    "inc = inc.rename(columns={\"<lambda_0>\": \"Количество записей\", \"mean\": \"Среднее по задолжностям\"})\n",
    "inc.sort_values(by='Количество записей', ascending=False)"
   ]
  },
  {
   "cell_type": "markdown",
   "id": "c400268e",
   "metadata": {
    "deletable": false,
    "id": "e8593def"
   },
   "source": [
    "**Вывод: люди со средним и средневысоким доходом из категорий 'B'и'D' гораздо охотнее возвращяют кредит нежели люди из категории 'Е'- люди с низким доходом и как бы это парадоксально не звучало, но люди из категории 'A' также не особо хотят возвращять кредит и часто его просрачивают"
   ]
  },
  {
   "cell_type": "markdown",
   "id": "affcb79e",
   "metadata": {},
   "source": [
    "**Вывод V1:исходя из полученной выше таблицы мы можем сделать вывод,что люди со средним достатком из категории 'C' гораздо \n",
    "охотнее возвращают кредит нежели люди со средневысоким достатком из категории 'B'. по всем остальным категориям мы не можем\n",
    "сделать однозначный вывод так, как по сравнению с категориями 'C' и 'B' в них слишком мало записей, а недостаток записей может\n",
    "привести к неверному выводу."
   ]
  },
  {
   "cell_type": "markdown",
   "id": "f4bcab4f",
   "metadata": {},
   "source": [
    "**Вывод V2:исходя из полученной выше таблицы мы можем сделать вывод,что люди с высоким достатком из категории 'B' гораздо \n",
    "охотнее возвращают кредит нежели люди со средневысоким достатком из категории 'С'. по всем остальным категориям мы не можем\n",
    "сделать однозначный вывод так, как по сравнению с категориями 'C' и 'B' в них слишком мало записей, а недостаток записей может\n",
    "привести к неверному выводу."
   ]
  },
  {
   "cell_type": "markdown",
   "id": "44b75bbd",
   "metadata": {
    "deletable": false,
    "editable": false,
    "id": "99ecbd1f"
   },
   "source": [
    "#### 3.4 Как разные цели кредита влияют на его возврат в срок?"
   ]
  },
  {
   "cell_type": "code",
   "execution_count": 25,
   "id": "d785af08",
   "metadata": {
    "deletable": false,
    "id": "2b687290"
   },
   "outputs": [
    {
     "data": {
      "text/html": [
       "<div>\n",
       "<style scoped>\n",
       "    .dataframe tbody tr th:only-of-type {\n",
       "        vertical-align: middle;\n",
       "    }\n",
       "\n",
       "    .dataframe tbody tr th {\n",
       "        vertical-align: top;\n",
       "    }\n",
       "\n",
       "    .dataframe thead th {\n",
       "        text-align: right;\n",
       "    }\n",
       "</style>\n",
       "<table border=\"1\" class=\"dataframe\">\n",
       "  <thead>\n",
       "    <tr style=\"text-align: right;\">\n",
       "      <th></th>\n",
       "      <th>Количество записей</th>\n",
       "      <th>Среднее по задолжностям</th>\n",
       "    </tr>\n",
       "    <tr>\n",
       "      <th>purpose_category</th>\n",
       "      <th></th>\n",
       "      <th></th>\n",
       "    </tr>\n",
       "  </thead>\n",
       "  <tbody>\n",
       "    <tr>\n",
       "      <th>операции с недвижимостью</th>\n",
       "      <td>10840.0</td>\n",
       "      <td>7.21%</td>\n",
       "    </tr>\n",
       "    <tr>\n",
       "      <th>операции с автомобилем</th>\n",
       "      <td>4315.0</td>\n",
       "      <td>9.34%</td>\n",
       "    </tr>\n",
       "    <tr>\n",
       "      <th>получение образования</th>\n",
       "      <td>4022.0</td>\n",
       "      <td>9.20%</td>\n",
       "    </tr>\n",
       "    <tr>\n",
       "      <th>проведение свадьбы</th>\n",
       "      <td>2348.0</td>\n",
       "      <td>7.92%</td>\n",
       "    </tr>\n",
       "  </tbody>\n",
       "</table>\n",
       "</div>"
      ],
      "text/plain": [
       "                          Количество записей Среднее по задолжностям\n",
       "purpose_category                                                    \n",
       "операции с недвижимостью             10840.0                   7.21%\n",
       "операции с автомобилем                4315.0                   9.34%\n",
       "получение образования                 4022.0                   9.20%\n",
       "проведение свадьбы                    2348.0                   7.92%"
      ]
     },
     "execution_count": 25,
     "metadata": {},
     "output_type": "execute_result"
    }
   ],
   "source": [
    "def categorize_purpose(row):\n",
    "\n",
    "    if 'автом' in row:\n",
    "        return 'операции с автомобилем'\n",
    "    elif 'жил' in row or 'недвиж' in row:\n",
    "        return 'операции с недвижимостью'\n",
    "    elif 'свад' in row:\n",
    "        return 'проведение свадьбы'\n",
    "    elif 'образов' in row:\n",
    "        return 'получение образования'\n",
    "data['purpose_category'] = data['purpose'].apply(categorize_purpose)\n",
    "ps = data.pivot_table(index = ['purpose_category'], values='debt', aggfunc = ('mean', lambda X:X.count()))\n",
    "def percent(x):\n",
    "    return \"{0:.2%}\".format(x)\n",
    "\n",
    "ps['mean'] = ps['mean'].apply(percent)\n",
    "ps = ps.rename(columns={\"<lambda_0>\": \"Количество записей\", \"mean\": \"Среднее по задолжностям\"})\n",
    "ps.sort_values(by='Количество записей', ascending=False)"
   ]
  },
  {
   "cell_type": "markdown",
   "id": "8d5391f5",
   "metadata": {
    "deletable": false,
    "id": "b4bb2ce6"
   },
   "source": [
    "**Вывод:люди взявшие кредит на операции с автомобилем или на получение образования не спешат его его отдавать, а люди взявшие его на операции с недвижимостью или проведение свадьбы гораздо охотнее отдают его."
   ]
  },
  {
   "cell_type": "markdown",
   "id": "41f99711",
   "metadata": {
    "deletable": false,
    "editable": false,
    "id": "09c3ac4c"
   },
   "source": [
    "#### 3.5 Приведите возможные причины появления пропусков в исходных данных."
   ]
  },
  {
   "cell_type": "markdown",
   "id": "a78d3ce1",
   "metadata": {
    "deletable": false,
    "id": "9da2ceda"
   },
   "source": [
    "*Ответ: скорее всего люди сами не заполнили нужные пункты."
   ]
  },
  {
   "cell_type": "markdown",
   "id": "6ee6382b",
   "metadata": {},
   "source": [
    "*Ответ V1: скорее всего люди сами не заполнили нужные пункты.\n",
    "второй причиной может быть ошибка оператора который выгужал и загружал таблицы.\n",
    "Третья причина это некоректо введенные данны в таблицу или при изменении формата таблицы могло что то пойти не так"
   ]
  },
  {
   "cell_type": "markdown",
   "id": "f2af9d8e",
   "metadata": {
    "deletable": false,
    "editable": false,
    "id": "7b0487d6"
   },
   "source": [
    "#### 3.6 Объясните, почему заполнить пропуски медианным значением — лучшее решение для количественных переменных."
   ]
  },
  {
   "cell_type": "markdown",
   "id": "d5d634bb",
   "metadata": {
    "deletable": false,
    "id": "7ecf2b8e"
   },
   "source": [
    "*Ответ: потому что это избавляет от лишних проблем связанных с ошибкам при вычислениях и не сильно портит конечный анализ или статистику"
   ]
  },
  {
   "cell_type": "markdown",
   "id": "6e4a1932",
   "metadata": {},
   "source": [
    "*Ответ V1:  можно обратится к определению средне арифметической и медианой переменных\n",
    "Среднее арифметическое — это сумма всех значений, поделённая на количество значений.\n",
    "Медиана — это такое число в выборке, что ровно половина элементов больше него, а другая половина — меньше.\n",
    "исходня из определения можно сделать вывод,что медианная переменная подходит лучше для заполнеения пропусков количествинных\n",
    "переменных так как дает меньшую погрешность при подсчете общей статистики или проведения анализа"
   ]
  },
  {
   "cell_type": "markdown",
   "id": "1e1fe742",
   "metadata": {
    "deletable": false,
    "editable": false,
    "id": "6db5255a"
   },
   "source": [
    "### Шаг 4: общий вывод."
   ]
  },
  {
   "cell_type": "markdown",
   "id": "53f19f86",
   "metadata": {
    "deletable": false,
    "id": "bad65432"
   },
   "source": [
    "в ходе работы были выевленны особые зависимости к котрым банкам надо присматриваться особо внимательно при выдаче кредита.\n",
    "к этим зависимостям относятся: зависимоть наличия детей и срока прострочки т.е. Семьи с 1 или 2 детьми гораздо чаще просрачивают кредит нежели семьи без детей.\n",
    "также была выевленна зависимомость просрочки кредита от семейного положения т.е. Люди находящиеся в гражданском браке или не женатые гораздо чаще прострачивают кредит нежели вдовцы или вдовы.\n",
    "есть еще несколько зависимостей одна, это зависимость просрочки от достатка т.е. Люди из категории 'B' реже просрачивают кредит, чем люди из категории 'C'\n",
    "последней зависимостью выевленной в ходе проведения данного исследования является заввисимость цели получения кредита и его дальшейшей просрочкой т.е. люди взявшие кредит на операции с автомобилем или на получение образования не спешат его его отдавать, а люди взявшие его на операции с недвижимостью или проведение свадьбы гораздо охотнее отдают его."
   ]
  },
  {
   "cell_type": "code",
   "execution_count": null,
   "id": "8de630b7",
   "metadata": {},
   "outputs": [],
   "source": []
  }
 ],
 "metadata": {
  "ExecuteTimeLog": [
   {
    "duration": 48,
    "start_time": "2022-11-02T04:53:18.285Z"
   },
   {
    "duration": 447,
    "start_time": "2022-11-02T04:53:25.392Z"
   },
   {
    "duration": 305,
    "start_time": "2022-11-02T04:53:36.995Z"
   },
   {
    "duration": 7,
    "start_time": "2022-11-02T04:57:18.224Z"
   },
   {
    "duration": 95,
    "start_time": "2022-11-02T05:06:26.506Z"
   },
   {
    "duration": 87,
    "start_time": "2022-11-02T05:08:07.289Z"
   },
   {
    "duration": 85,
    "start_time": "2022-11-02T05:10:03.015Z"
   },
   {
    "duration": 89,
    "start_time": "2022-11-02T05:10:18.102Z"
   },
   {
    "duration": 90,
    "start_time": "2022-11-02T05:10:28.909Z"
   },
   {
    "duration": 84,
    "start_time": "2022-11-02T05:10:36.315Z"
   },
   {
    "duration": 91,
    "start_time": "2022-11-02T05:10:53.298Z"
   },
   {
    "duration": 86,
    "start_time": "2022-11-02T05:11:36.220Z"
   },
   {
    "duration": 87,
    "start_time": "2022-11-02T05:11:42.302Z"
   },
   {
    "duration": 86,
    "start_time": "2022-11-02T05:11:48.935Z"
   },
   {
    "duration": 107,
    "start_time": "2022-11-02T05:13:18.075Z"
   },
   {
    "duration": 91,
    "start_time": "2022-11-02T05:13:56.168Z"
   },
   {
    "duration": 100,
    "start_time": "2022-11-02T05:17:24.359Z"
   },
   {
    "duration": 84,
    "start_time": "2022-11-02T05:18:21.679Z"
   },
   {
    "duration": 100,
    "start_time": "2022-11-02T05:18:37.239Z"
   },
   {
    "duration": 24,
    "start_time": "2022-11-02T05:20:25.785Z"
   },
   {
    "duration": 26,
    "start_time": "2022-11-02T05:21:05.900Z"
   },
   {
    "duration": 26,
    "start_time": "2022-11-02T05:22:08.498Z"
   },
   {
    "duration": 45,
    "start_time": "2022-11-02T05:22:22.530Z"
   },
   {
    "duration": 26,
    "start_time": "2022-11-02T05:22:29.210Z"
   },
   {
    "duration": 46,
    "start_time": "2022-11-02T05:23:03.102Z"
   },
   {
    "duration": 465,
    "start_time": "2022-11-02T05:23:32.733Z"
   },
   {
    "duration": 514,
    "start_time": "2022-11-02T05:24:06.919Z"
   },
   {
    "duration": 98,
    "start_time": "2022-11-02T05:24:46.461Z"
   },
   {
    "duration": 86,
    "start_time": "2022-11-02T05:26:10.054Z"
   },
   {
    "duration": 85,
    "start_time": "2022-11-02T05:27:58.613Z"
   },
   {
    "duration": 86,
    "start_time": "2022-11-02T05:28:11.964Z"
   },
   {
    "duration": 104,
    "start_time": "2022-11-02T05:28:26.971Z"
   },
   {
    "duration": 4,
    "start_time": "2022-11-02T05:28:34.954Z"
   },
   {
    "duration": 545,
    "start_time": "2022-11-02T05:29:11.772Z"
   },
   {
    "duration": 559,
    "start_time": "2022-11-02T05:29:25.262Z"
   },
   {
    "duration": 94,
    "start_time": "2022-11-02T05:30:29.457Z"
   },
   {
    "duration": 581,
    "start_time": "2022-11-02T05:30:43.796Z"
   },
   {
    "duration": 120,
    "start_time": "2022-11-02T05:31:16.603Z"
   },
   {
    "duration": 94,
    "start_time": "2022-11-02T05:31:23.215Z"
   },
   {
    "duration": 100,
    "start_time": "2022-11-02T05:31:30.437Z"
   },
   {
    "duration": 48,
    "start_time": "2022-11-02T05:31:44.564Z"
   },
   {
    "duration": 94,
    "start_time": "2022-11-02T05:31:50.000Z"
   },
   {
    "duration": 113,
    "start_time": "2022-11-02T05:31:59.372Z"
   },
   {
    "duration": 95,
    "start_time": "2022-11-02T05:32:45.530Z"
   },
   {
    "duration": 64,
    "start_time": "2022-11-02T05:32:55.100Z"
   },
   {
    "duration": 65,
    "start_time": "2022-11-02T05:33:04.202Z"
   },
   {
    "duration": 93,
    "start_time": "2022-11-02T05:33:18.862Z"
   },
   {
    "duration": 80,
    "start_time": "2022-11-02T05:33:26.424Z"
   },
   {
    "duration": 93,
    "start_time": "2022-11-02T05:33:32.361Z"
   },
   {
    "duration": 3,
    "start_time": "2022-11-02T05:33:33.544Z"
   },
   {
    "duration": 3,
    "start_time": "2022-11-02T05:33:34.050Z"
   },
   {
    "duration": 2,
    "start_time": "2022-11-02T05:33:35.009Z"
   },
   {
    "duration": 98,
    "start_time": "2022-11-02T05:33:40.844Z"
   },
   {
    "duration": 91,
    "start_time": "2022-11-02T05:33:54.053Z"
   },
   {
    "duration": 89,
    "start_time": "2022-11-02T05:34:17.335Z"
   },
   {
    "duration": 95,
    "start_time": "2022-11-02T05:35:15.429Z"
   },
   {
    "duration": 91,
    "start_time": "2022-11-02T05:35:26.443Z"
   },
   {
    "duration": 92,
    "start_time": "2022-11-02T05:35:38.883Z"
   },
   {
    "duration": 91,
    "start_time": "2022-11-02T05:35:54.244Z"
   },
   {
    "duration": 90,
    "start_time": "2022-11-02T05:36:10.108Z"
   },
   {
    "duration": 93,
    "start_time": "2022-11-02T05:36:18.320Z"
   },
   {
    "duration": 92,
    "start_time": "2022-11-02T05:36:29.691Z"
   },
   {
    "duration": 118,
    "start_time": "2022-11-02T05:42:31.680Z"
   },
   {
    "duration": 1063,
    "start_time": "2022-11-02T05:50:38.613Z"
   },
   {
    "duration": 1276,
    "start_time": "2022-11-02T05:50:52.228Z"
   },
   {
    "duration": 268,
    "start_time": "2022-11-02T05:51:15.096Z"
   },
   {
    "duration": 859,
    "start_time": "2022-11-02T05:51:52.725Z"
   },
   {
    "duration": 883,
    "start_time": "2022-11-02T05:52:38.670Z"
   },
   {
    "duration": 46,
    "start_time": "2022-11-02T05:52:52.866Z"
   },
   {
    "duration": 861,
    "start_time": "2022-11-02T05:52:56.594Z"
   },
   {
    "duration": 808,
    "start_time": "2022-11-02T05:53:08.001Z"
   },
   {
    "duration": 885,
    "start_time": "2022-11-02T05:53:57.586Z"
   },
   {
    "duration": 118,
    "start_time": "2022-11-02T05:54:07.379Z"
   },
   {
    "duration": 223,
    "start_time": "2022-11-02T05:54:11.899Z"
   },
   {
    "duration": 263,
    "start_time": "2022-11-02T05:54:29.025Z"
   },
   {
    "duration": 242,
    "start_time": "2022-11-02T05:54:57.969Z"
   },
   {
    "duration": 217,
    "start_time": "2022-11-02T05:55:13.255Z"
   },
   {
    "duration": 210,
    "start_time": "2022-11-02T05:55:37.636Z"
   },
   {
    "duration": 92,
    "start_time": "2022-11-02T05:56:08.107Z"
   },
   {
    "duration": 108,
    "start_time": "2022-11-02T05:58:15.276Z"
   },
   {
    "duration": 86,
    "start_time": "2022-11-02T05:59:42.399Z"
   },
   {
    "duration": 33,
    "start_time": "2022-11-02T06:02:11.313Z"
   },
   {
    "duration": 29,
    "start_time": "2022-11-02T06:02:23.547Z"
   },
   {
    "duration": 92,
    "start_time": "2022-11-02T06:03:05.437Z"
   },
   {
    "duration": 17,
    "start_time": "2022-11-02T06:06:54.238Z"
   },
   {
    "duration": 17,
    "start_time": "2022-11-02T06:08:45.393Z"
   },
   {
    "duration": 48,
    "start_time": "2022-11-02T06:08:58.305Z"
   },
   {
    "duration": 535,
    "start_time": "2022-11-02T06:09:17.580Z"
   },
   {
    "duration": 105,
    "start_time": "2022-11-02T06:09:50.731Z"
   },
   {
    "duration": 123,
    "start_time": "2022-11-02T06:10:07.211Z"
   },
   {
    "duration": 26,
    "start_time": "2022-11-02T06:10:29.269Z"
   },
   {
    "duration": 16,
    "start_time": "2022-11-02T06:18:34.700Z"
   },
   {
    "duration": 33,
    "start_time": "2022-11-02T06:19:52.483Z"
   },
   {
    "duration": 1118,
    "start_time": "2022-11-02T07:39:53.910Z"
   },
   {
    "duration": 24,
    "start_time": "2022-11-02T07:39:55.030Z"
   },
   {
    "duration": 16,
    "start_time": "2022-11-02T07:39:55.056Z"
   },
   {
    "duration": 12,
    "start_time": "2022-11-02T07:39:55.074Z"
   },
   {
    "duration": 55,
    "start_time": "2022-11-02T07:39:55.087Z"
   },
   {
    "duration": 4,
    "start_time": "2022-11-02T07:39:55.144Z"
   },
   {
    "duration": 15,
    "start_time": "2022-11-02T07:39:55.150Z"
   },
   {
    "duration": 4,
    "start_time": "2022-11-02T07:39:55.167Z"
   },
   {
    "duration": 9,
    "start_time": "2022-11-02T07:39:55.173Z"
   },
   {
    "duration": 4,
    "start_time": "2022-11-02T07:39:55.184Z"
   },
   {
    "duration": 56,
    "start_time": "2022-11-02T07:39:55.190Z"
   },
   {
    "duration": 16,
    "start_time": "2022-11-02T07:39:55.248Z"
   },
   {
    "duration": 4,
    "start_time": "2022-11-02T07:39:55.266Z"
   },
   {
    "duration": 14,
    "start_time": "2022-11-02T07:39:55.272Z"
   },
   {
    "duration": 24,
    "start_time": "2022-11-02T07:39:55.288Z"
   },
   {
    "duration": 34,
    "start_time": "2022-11-02T07:39:55.314Z"
   },
   {
    "duration": 4,
    "start_time": "2022-11-02T07:39:55.349Z"
   },
   {
    "duration": 13,
    "start_time": "2022-11-02T07:39:55.355Z"
   },
   {
    "duration": 12,
    "start_time": "2022-11-02T07:39:55.369Z"
   },
   {
    "duration": 7,
    "start_time": "2022-11-02T07:39:55.383Z"
   },
   {
    "duration": 16,
    "start_time": "2022-11-02T07:39:55.392Z"
   },
   {
    "duration": 95,
    "start_time": "2022-11-02T07:39:55.409Z"
   },
   {
    "duration": 24,
    "start_time": "2022-11-02T07:39:55.506Z"
   },
   {
    "duration": 81,
    "start_time": "2022-11-02T07:39:55.533Z"
   },
   {
    "duration": 41,
    "start_time": "2022-11-02T07:39:55.616Z"
   },
   {
    "duration": 582,
    "start_time": "2022-11-03T08:20:13.433Z"
   },
   {
    "duration": 143,
    "start_time": "2022-11-03T08:20:32.413Z"
   },
   {
    "duration": 74,
    "start_time": "2022-11-03T08:20:44.200Z"
   },
   {
    "duration": 77,
    "start_time": "2022-11-03T08:20:53.183Z"
   },
   {
    "duration": 1185,
    "start_time": "2022-11-03T08:21:04.761Z"
   },
   {
    "duration": 85,
    "start_time": "2022-11-03T08:21:23.677Z"
   },
   {
    "duration": 106,
    "start_time": "2022-11-03T08:21:42.829Z"
   },
   {
    "duration": 107,
    "start_time": "2022-11-03T08:22:19.125Z"
   },
   {
    "duration": 102,
    "start_time": "2022-11-03T08:33:53.344Z"
   },
   {
    "duration": 55,
    "start_time": "2022-11-03T10:00:37.098Z"
   },
   {
    "duration": 1111,
    "start_time": "2023-05-20T04:08:58.646Z"
   },
   {
    "duration": 21,
    "start_time": "2023-05-20T04:08:59.759Z"
   },
   {
    "duration": 15,
    "start_time": "2023-05-20T04:08:59.782Z"
   },
   {
    "duration": 9,
    "start_time": "2023-05-20T04:09:00.742Z"
   },
   {
    "duration": 38,
    "start_time": "2023-05-20T04:09:01.384Z"
   },
   {
    "duration": 3,
    "start_time": "2023-05-20T04:09:03.491Z"
   },
   {
    "duration": 7,
    "start_time": "2023-05-20T04:09:06.516Z"
   },
   {
    "duration": 14,
    "start_time": "2023-05-20T04:18:35.055Z"
   },
   {
    "duration": 4,
    "start_time": "2023-05-20T04:18:36.105Z"
   },
   {
    "duration": 11,
    "start_time": "2023-05-20T04:18:36.761Z"
   },
   {
    "duration": 18,
    "start_time": "2023-05-20T04:18:37.208Z"
   },
   {
    "duration": 17,
    "start_time": "2023-05-20T04:18:37.427Z"
   },
   {
    "duration": 3,
    "start_time": "2023-05-20T04:18:38.287Z"
   },
   {
    "duration": 15,
    "start_time": "2023-05-20T04:18:38.569Z"
   },
   {
    "duration": 8,
    "start_time": "2023-05-20T04:18:39.136Z"
   },
   {
    "duration": 4,
    "start_time": "2023-05-20T04:18:39.889Z"
   },
   {
    "duration": 8,
    "start_time": "2023-05-20T04:18:40.236Z"
   },
   {
    "duration": 92,
    "start_time": "2023-05-20T04:18:42.640Z"
   },
   {
    "duration": 22,
    "start_time": "2023-05-20T04:18:44.716Z"
   }
  ],
  "colab": {
   "name": "dpp_template_part2.ipynb",
   "provenance": []
  },
  "kernelspec": {
   "display_name": "Python 3 (ipykernel)",
   "language": "python",
   "name": "python3"
  },
  "language_info": {
   "codemirror_mode": {
    "name": "ipython",
    "version": 3
   },
   "file_extension": ".py",
   "mimetype": "text/x-python",
   "name": "python",
   "nbconvert_exporter": "python",
   "pygments_lexer": "ipython3",
   "version": "3.9.5"
  },
  "toc": {
   "base_numbering": 1,
   "nav_menu": {},
   "number_sections": true,
   "sideBar": true,
   "skip_h1_title": true,
   "title_cell": "Table of Contents",
   "title_sidebar": "Contents",
   "toc_cell": false,
   "toc_position": {},
   "toc_section_display": true,
   "toc_window_display": false
  }
 },
 "nbformat": 4,
 "nbformat_minor": 5
}
