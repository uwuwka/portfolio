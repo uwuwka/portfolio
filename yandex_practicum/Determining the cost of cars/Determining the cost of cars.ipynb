{
 "cells": [
  {
   "cell_type": "markdown",
   "metadata": {},
   "source": [
    "# Определение стоимости автомобилей"
   ]
  },
  {
   "cell_type": "markdown",
   "metadata": {},
   "source": [
    "Сервис по продаже автомобилей с пробегом «Не бит, не крашен» разрабатывает приложение для привлечения новых клиентов. В нём можно быстро узнать рыночную стоимость своего автомобиля. В вашем распоряжении исторические данные: технические характеристики, комплектации и цены автомобилей. Вам нужно построить модель для определения стоимости. \n",
    "\n",
    "Заказчику важны:\n",
    "\n",
    "- качество предсказания;\n",
    "- скорость предсказания;\n",
    "- время обучения."
   ]
  },
  {
   "cell_type": "code",
   "execution_count": 2,
   "metadata": {},
   "outputs": [],
   "source": [
    "!pip install -q optuna"
   ]
  },
  {
   "cell_type": "markdown",
   "metadata": {},
   "source": [
    "## Подготовка данных"
   ]
  },
  {
   "cell_type": "code",
   "execution_count": 2,
   "metadata": {},
   "outputs": [],
   "source": [
    "import pandas as pd\n",
    "import numpy as np\n",
    "import matplotlib\n",
    "import seaborn as sns\n",
    "import optuna\n",
    "\n",
    "from sklearn.preprocessing import OneHotEncoder,StandardScaler,FunctionTransformer,OrdinalEncoder\n",
    "from sklearn.model_selection import train_test_split, GridSearchCV, RandomizedSearchCV\n",
    "from sklearn.linear_model import LogisticRegression, LinearRegression, SGDRegressor, BayesianRidge, LassoLars\n",
    "from sklearn.linear_model import ARDRegression, PassiveAggressiveRegressor, TheilSenRegressor, LinearRegression\n",
    "from sklearn.tree import DecisionTreeRegressor\n",
    "from sklearn.ensemble import RandomForestRegressor, GradientBoostingRegressor\n",
    "from sklearn.metrics import mean_squared_error\n",
    "from sklearn.pipeline import Pipeline,FeatureUnion\n",
    "\n",
    "import lightgbm as lgb\n",
    "import xgboost as xgb\n",
    "from catboost import CatBoostRegressor\n",
    "\n",
    "import random\n",
    "import time\n",
    "import warnings"
   ]
  },
  {
   "cell_type": "code",
   "execution_count": 3,
   "metadata": {},
   "outputs": [],
   "source": [
    "data = pd.read_csv('/datasets/autos.csv')"
   ]
  },
  {
   "cell_type": "code",
   "execution_count": 4,
   "metadata": {},
   "outputs": [],
   "source": [
    "def data_analis (df):\n",
    "    i=df.info()\n",
    "    h=df.head()\n",
    "    ds=df.describe()\n",
    "    dp=df.duplicated().sum()\n",
    "    return print(i),print(h), print(ds), print('дубликаты:',dp)"
   ]
  },
  {
   "cell_type": "code",
   "execution_count": 5,
   "metadata": {
    "scrolled": false
   },
   "outputs": [
    {
     "name": "stdout",
     "output_type": "stream",
     "text": [
      "<class 'pandas.core.frame.DataFrame'>\n",
      "RangeIndex: 354369 entries, 0 to 354368\n",
      "Data columns (total 16 columns):\n",
      " #   Column             Non-Null Count   Dtype \n",
      "---  ------             --------------   ----- \n",
      " 0   DateCrawled        354369 non-null  object\n",
      " 1   Price              354369 non-null  int64 \n",
      " 2   VehicleType        316879 non-null  object\n",
      " 3   RegistrationYear   354369 non-null  int64 \n",
      " 4   Gearbox            334536 non-null  object\n",
      " 5   Power              354369 non-null  int64 \n",
      " 6   Model              334664 non-null  object\n",
      " 7   Kilometer          354369 non-null  int64 \n",
      " 8   RegistrationMonth  354369 non-null  int64 \n",
      " 9   FuelType           321474 non-null  object\n",
      " 10  Brand              354369 non-null  object\n",
      " 11  Repaired           283215 non-null  object\n",
      " 12  DateCreated        354369 non-null  object\n",
      " 13  NumberOfPictures   354369 non-null  int64 \n",
      " 14  PostalCode         354369 non-null  int64 \n",
      " 15  LastSeen           354369 non-null  object\n",
      "dtypes: int64(7), object(9)\n",
      "memory usage: 43.3+ MB\n",
      "None\n",
      "           DateCrawled  Price VehicleType  RegistrationYear Gearbox  Power  \\\n",
      "0  2016-03-24 11:52:17    480         NaN              1993  manual      0   \n",
      "1  2016-03-24 10:58:45  18300       coupe              2011  manual    190   \n",
      "2  2016-03-14 12:52:21   9800         suv              2004    auto    163   \n",
      "3  2016-03-17 16:54:04   1500       small              2001  manual     75   \n",
      "4  2016-03-31 17:25:20   3600       small              2008  manual     69   \n",
      "\n",
      "   Model  Kilometer  RegistrationMonth  FuelType       Brand Repaired  \\\n",
      "0   golf     150000                  0    petrol  volkswagen      NaN   \n",
      "1    NaN     125000                  5  gasoline        audi      yes   \n",
      "2  grand     125000                  8  gasoline        jeep      NaN   \n",
      "3   golf     150000                  6    petrol  volkswagen       no   \n",
      "4  fabia      90000                  7  gasoline       skoda       no   \n",
      "\n",
      "           DateCreated  NumberOfPictures  PostalCode             LastSeen  \n",
      "0  2016-03-24 00:00:00                 0       70435  2016-04-07 03:16:57  \n",
      "1  2016-03-24 00:00:00                 0       66954  2016-04-07 01:46:50  \n",
      "2  2016-03-14 00:00:00                 0       90480  2016-04-05 12:47:46  \n",
      "3  2016-03-17 00:00:00                 0       91074  2016-03-17 17:40:17  \n",
      "4  2016-03-31 00:00:00                 0       60437  2016-04-06 10:17:21  \n",
      "               Price  RegistrationYear          Power      Kilometer  \\\n",
      "count  354369.000000     354369.000000  354369.000000  354369.000000   \n",
      "mean     4416.656776       2004.234448     110.094337  128211.172535   \n",
      "std      4514.158514         90.227958     189.850405   37905.341530   \n",
      "min         0.000000       1000.000000       0.000000    5000.000000   \n",
      "25%      1050.000000       1999.000000      69.000000  125000.000000   \n",
      "50%      2700.000000       2003.000000     105.000000  150000.000000   \n",
      "75%      6400.000000       2008.000000     143.000000  150000.000000   \n",
      "max     20000.000000       9999.000000   20000.000000  150000.000000   \n",
      "\n",
      "       RegistrationMonth  NumberOfPictures     PostalCode  \n",
      "count      354369.000000          354369.0  354369.000000  \n",
      "mean            5.714645               0.0   50508.689087  \n",
      "std             3.726421               0.0   25783.096248  \n",
      "min             0.000000               0.0    1067.000000  \n",
      "25%             3.000000               0.0   30165.000000  \n",
      "50%             6.000000               0.0   49413.000000  \n",
      "75%             9.000000               0.0   71083.000000  \n",
      "max            12.000000               0.0   99998.000000  \n",
      "дубликаты: 4\n"
     ]
    },
    {
     "data": {
      "text/plain": [
       "(None, None, None, None)"
      ]
     },
     "execution_count": 5,
     "metadata": {},
     "output_type": "execute_result"
    }
   ],
   "source": [
    "data_analis(data)"
   ]
  },
  {
   "cell_type": "markdown",
   "metadata": {},
   "source": [
    "### переработка данных"
   ]
  },
  {
   "cell_type": "code",
   "execution_count": 6,
   "metadata": {},
   "outputs": [
    {
     "data": {
      "text/html": [
       "<div>\n",
       "<style scoped>\n",
       "    .dataframe tbody tr th:only-of-type {\n",
       "        vertical-align: middle;\n",
       "    }\n",
       "\n",
       "    .dataframe tbody tr th {\n",
       "        vertical-align: top;\n",
       "    }\n",
       "\n",
       "    .dataframe thead th {\n",
       "        text-align: right;\n",
       "    }\n",
       "</style>\n",
       "<table border=\"1\" class=\"dataframe\">\n",
       "  <thead>\n",
       "    <tr style=\"text-align: right;\">\n",
       "      <th></th>\n",
       "      <th>Price</th>\n",
       "      <th>VehicleType</th>\n",
       "      <th>RegistrationYear</th>\n",
       "      <th>Gearbox</th>\n",
       "      <th>Power</th>\n",
       "      <th>Model</th>\n",
       "      <th>Kilometer</th>\n",
       "      <th>RegistrationMonth</th>\n",
       "      <th>FuelType</th>\n",
       "      <th>Brand</th>\n",
       "      <th>Repaired</th>\n",
       "    </tr>\n",
       "  </thead>\n",
       "  <tbody>\n",
       "    <tr>\n",
       "      <th>0</th>\n",
       "      <td>480</td>\n",
       "      <td>NaN</td>\n",
       "      <td>1993</td>\n",
       "      <td>manual</td>\n",
       "      <td>0</td>\n",
       "      <td>golf</td>\n",
       "      <td>150000</td>\n",
       "      <td>0</td>\n",
       "      <td>petrol</td>\n",
       "      <td>volkswagen</td>\n",
       "      <td>NaN</td>\n",
       "    </tr>\n",
       "    <tr>\n",
       "      <th>1</th>\n",
       "      <td>18300</td>\n",
       "      <td>coupe</td>\n",
       "      <td>2011</td>\n",
       "      <td>manual</td>\n",
       "      <td>190</td>\n",
       "      <td>NaN</td>\n",
       "      <td>125000</td>\n",
       "      <td>5</td>\n",
       "      <td>gasoline</td>\n",
       "      <td>audi</td>\n",
       "      <td>yes</td>\n",
       "    </tr>\n",
       "    <tr>\n",
       "      <th>2</th>\n",
       "      <td>9800</td>\n",
       "      <td>suv</td>\n",
       "      <td>2004</td>\n",
       "      <td>auto</td>\n",
       "      <td>163</td>\n",
       "      <td>grand</td>\n",
       "      <td>125000</td>\n",
       "      <td>8</td>\n",
       "      <td>gasoline</td>\n",
       "      <td>jeep</td>\n",
       "      <td>NaN</td>\n",
       "    </tr>\n",
       "    <tr>\n",
       "      <th>3</th>\n",
       "      <td>1500</td>\n",
       "      <td>small</td>\n",
       "      <td>2001</td>\n",
       "      <td>manual</td>\n",
       "      <td>75</td>\n",
       "      <td>golf</td>\n",
       "      <td>150000</td>\n",
       "      <td>6</td>\n",
       "      <td>petrol</td>\n",
       "      <td>volkswagen</td>\n",
       "      <td>no</td>\n",
       "    </tr>\n",
       "    <tr>\n",
       "      <th>4</th>\n",
       "      <td>3600</td>\n",
       "      <td>small</td>\n",
       "      <td>2008</td>\n",
       "      <td>manual</td>\n",
       "      <td>69</td>\n",
       "      <td>fabia</td>\n",
       "      <td>90000</td>\n",
       "      <td>7</td>\n",
       "      <td>gasoline</td>\n",
       "      <td>skoda</td>\n",
       "      <td>no</td>\n",
       "    </tr>\n",
       "  </tbody>\n",
       "</table>\n",
       "</div>"
      ],
      "text/plain": [
       "   Price VehicleType  RegistrationYear Gearbox  Power  Model  Kilometer  \\\n",
       "0    480         NaN              1993  manual      0   golf     150000   \n",
       "1  18300       coupe              2011  manual    190    NaN     125000   \n",
       "2   9800         suv              2004    auto    163  grand     125000   \n",
       "3   1500       small              2001  manual     75   golf     150000   \n",
       "4   3600       small              2008  manual     69  fabia      90000   \n",
       "\n",
       "   RegistrationMonth  FuelType       Brand Repaired  \n",
       "0                  0    petrol  volkswagen      NaN  \n",
       "1                  5  gasoline        audi      yes  \n",
       "2                  8  gasoline        jeep      NaN  \n",
       "3                  6    petrol  volkswagen       no  \n",
       "4                  7  gasoline       skoda       no  "
      ]
     },
     "execution_count": 6,
     "metadata": {},
     "output_type": "execute_result"
    }
   ],
   "source": [
    "data = data.drop(['DateCrawled', 'DateCreated', 'NumberOfPictures', 'PostalCode', 'LastSeen'], axis=1)\n",
    "data = data[data['Price'] != 0]\n",
    "data = data[(data['RegistrationYear'] > 1900) & (data['RegistrationYear'] <= 2020)]\n",
    "data.head()"
   ]
  },
  {
   "cell_type": "code",
   "execution_count": 7,
   "metadata": {},
   "outputs": [],
   "source": [
    "data[['VehicleType', 'Gearbox', 'Model', 'FuelType', 'Repaired']] = \\\n",
    "data[['VehicleType', 'Gearbox', 'Model', 'FuelType', 'Repaired']].fillna('unk')"
   ]
  },
  {
   "cell_type": "code",
   "execution_count": 8,
   "metadata": {},
   "outputs": [
    {
     "data": {
      "text/html": [
       "<div>\n",
       "<style scoped>\n",
       "    .dataframe tbody tr th:only-of-type {\n",
       "        vertical-align: middle;\n",
       "    }\n",
       "\n",
       "    .dataframe tbody tr th {\n",
       "        vertical-align: top;\n",
       "    }\n",
       "\n",
       "    .dataframe thead th {\n",
       "        text-align: right;\n",
       "    }\n",
       "</style>\n",
       "<table border=\"1\" class=\"dataframe\">\n",
       "  <thead>\n",
       "    <tr style=\"text-align: right;\">\n",
       "      <th></th>\n",
       "      <th>Price</th>\n",
       "      <th>VehicleType</th>\n",
       "      <th>RegistrationYear</th>\n",
       "      <th>Gearbox</th>\n",
       "      <th>Power</th>\n",
       "      <th>Model</th>\n",
       "      <th>Kilometer</th>\n",
       "      <th>RegistrationMonth</th>\n",
       "      <th>FuelType</th>\n",
       "      <th>Brand</th>\n",
       "      <th>Repaired</th>\n",
       "    </tr>\n",
       "  </thead>\n",
       "  <tbody>\n",
       "    <tr>\n",
       "      <th>0</th>\n",
       "      <td>480</td>\n",
       "      <td>unk</td>\n",
       "      <td>1993</td>\n",
       "      <td>manual</td>\n",
       "      <td>0</td>\n",
       "      <td>golf</td>\n",
       "      <td>150000</td>\n",
       "      <td>0</td>\n",
       "      <td>petrol</td>\n",
       "      <td>volkswagen</td>\n",
       "      <td>unk</td>\n",
       "    </tr>\n",
       "    <tr>\n",
       "      <th>1</th>\n",
       "      <td>18300</td>\n",
       "      <td>coupe</td>\n",
       "      <td>2011</td>\n",
       "      <td>manual</td>\n",
       "      <td>190</td>\n",
       "      <td>unk</td>\n",
       "      <td>125000</td>\n",
       "      <td>5</td>\n",
       "      <td>gasoline</td>\n",
       "      <td>audi</td>\n",
       "      <td>yes</td>\n",
       "    </tr>\n",
       "    <tr>\n",
       "      <th>2</th>\n",
       "      <td>9800</td>\n",
       "      <td>suv</td>\n",
       "      <td>2004</td>\n",
       "      <td>auto</td>\n",
       "      <td>163</td>\n",
       "      <td>grand</td>\n",
       "      <td>125000</td>\n",
       "      <td>8</td>\n",
       "      <td>gasoline</td>\n",
       "      <td>jeep</td>\n",
       "      <td>unk</td>\n",
       "    </tr>\n",
       "    <tr>\n",
       "      <th>3</th>\n",
       "      <td>1500</td>\n",
       "      <td>small</td>\n",
       "      <td>2001</td>\n",
       "      <td>manual</td>\n",
       "      <td>75</td>\n",
       "      <td>golf</td>\n",
       "      <td>150000</td>\n",
       "      <td>6</td>\n",
       "      <td>petrol</td>\n",
       "      <td>volkswagen</td>\n",
       "      <td>no</td>\n",
       "    </tr>\n",
       "    <tr>\n",
       "      <th>4</th>\n",
       "      <td>3600</td>\n",
       "      <td>small</td>\n",
       "      <td>2008</td>\n",
       "      <td>manual</td>\n",
       "      <td>69</td>\n",
       "      <td>fabia</td>\n",
       "      <td>90000</td>\n",
       "      <td>7</td>\n",
       "      <td>gasoline</td>\n",
       "      <td>skoda</td>\n",
       "      <td>no</td>\n",
       "    </tr>\n",
       "  </tbody>\n",
       "</table>\n",
       "</div>"
      ],
      "text/plain": [
       "   Price VehicleType  RegistrationYear Gearbox  Power  Model  Kilometer  \\\n",
       "0    480         unk              1993  manual      0   golf     150000   \n",
       "1  18300       coupe              2011  manual    190    unk     125000   \n",
       "2   9800         suv              2004    auto    163  grand     125000   \n",
       "3   1500       small              2001  manual     75   golf     150000   \n",
       "4   3600       small              2008  manual     69  fabia      90000   \n",
       "\n",
       "   RegistrationMonth  FuelType       Brand Repaired  \n",
       "0                  0    petrol  volkswagen      unk  \n",
       "1                  5  gasoline        audi      yes  \n",
       "2                  8  gasoline        jeep      unk  \n",
       "3                  6    petrol  volkswagen       no  \n",
       "4                  7  gasoline       skoda       no  "
      ]
     },
     "execution_count": 8,
     "metadata": {},
     "output_type": "execute_result"
    }
   ],
   "source": [
    "data.head()"
   ]
  },
  {
   "cell_type": "code",
   "execution_count": 9,
   "metadata": {},
   "outputs": [
    {
     "data": {
      "image/png": "[encoded data removed]",
      "text/plain": [
       "<Figure size 288x288 with 1 Axes>"
      ]
     },
     "metadata": {
      "needs_background": "light"
     },
     "output_type": "display_data"
    }
   ],
   "source": [
    "plot = sns.catplot(data=pd.DataFrame(data['Price']), kind='box', height=4, \n",
    "                    aspect=1, legend_out=False)\n",
    "plot.set_axis_labels(y_var='Price, EUR')\n",
    "plot.set\n",
    "plot.fig.suptitle('Vehicle Price, EUR', y=1.1);"
   ]
  },
  {
   "cell_type": "code",
   "execution_count": 10,
   "metadata": {
    "scrolled": true
   },
   "outputs": [
    {
     "data": {
      "image/png": "[encoded data removed]",
      "text/plain": [
       "<Figure size 288x288 with 1 Axes>"
      ]
     },
     "metadata": {
      "needs_background": "light"
     },
     "output_type": "display_data"
    }
   ],
   "source": [
    "plot = sns.catplot(data=pd.DataFrame(data['RegistrationYear']), kind='box', height=4, \n",
    "                    aspect=1, legend_out=False)\n",
    "plot.set_axis_labels(y_var='Registration year')\n",
    "plot.set\n",
    "plot.fig.suptitle('Vehicle registration year', y=1.1);"
   ]
  },
  {
   "cell_type": "code",
   "execution_count": 11,
   "metadata": {},
   "outputs": [
    {
     "data": {
      "text/plain": [
       "1972.0"
      ]
     },
     "execution_count": 11,
     "metadata": {},
     "output_type": "execute_result"
    }
   ],
   "source": [
    "iqr = data['RegistrationYear'].describe()[6] - data['RegistrationYear'].describe()[4]\n",
    "cutting_point = data['RegistrationYear'].describe()[4] - 3 * iqr\n",
    "cutting_point"
   ]
  },
  {
   "cell_type": "code",
   "execution_count": 12,
   "metadata": {},
   "outputs": [],
   "source": [
    "data = data[(data['RegistrationYear'] >= cutting_point) & (data['RegistrationYear'] <= 2016)]"
   ]
  },
  {
   "cell_type": "code",
   "execution_count": 13,
   "metadata": {
    "scrolled": true
   },
   "outputs": [
    {
     "data": {
      "text/plain": [
       "Text(0.5, 1.1, 'Vehicle power')"
      ]
     },
     "execution_count": 13,
     "metadata": {},
     "output_type": "execute_result"
    },
    {
     "data": {
      "image/png": "[encoded data removed]",
      "text/plain": [
       "<Figure size 288x288 with 1 Axes>"
      ]
     },
     "metadata": {
      "needs_background": "light"
     },
     "output_type": "display_data"
    }
   ],
   "source": [
    "lot = sns.catplot(data=pd.DataFrame(data['Power']), kind='box', height=4, \n",
    "                    aspect=1, legend_out=False)\n",
    "plot.set_axis_labels(y_var='Power')\n",
    "plot.set\n",
    "plot.fig.suptitle('Vehicle power', y=1.1)"
   ]
  },
  {
   "cell_type": "code",
   "execution_count": 14,
   "metadata": {},
   "outputs": [
    {
     "data": {
      "text/plain": [
       "359.0"
      ]
     },
     "execution_count": 14,
     "metadata": {},
     "output_type": "execute_result"
    }
   ],
   "source": [
    "iqr = data['Power'].describe()[6] - data['Power'].describe()[4]\n",
    "cutting_point = data['Power'].describe()[6] + 3 * iqr\n",
    "cutting_point"
   ]
  },
  {
   "cell_type": "code",
   "execution_count": 15,
   "metadata": {},
   "outputs": [],
   "source": [
    "data['Power'] = data['Power'].map(lambda x: x if x <= cutting_point else 0)"
   ]
  },
  {
   "cell_type": "code",
   "execution_count": 16,
   "metadata": {},
   "outputs": [],
   "source": [
    "data.reset_index(drop=True, inplace=True)"
   ]
  },
  {
   "cell_type": "code",
   "execution_count": 17,
   "metadata": {
    "scrolled": true
   },
   "outputs": [
    {
     "data": {
      "image/png": "[encoded data removed]",
      "text/plain": [
       "<Figure size 288x288 with 1 Axes>"
      ]
     },
     "metadata": {
      "needs_background": "light"
     },
     "output_type": "display_data"
    }
   ],
   "source": [
    "plot = sns.catplot(data=pd.DataFrame(data['Kilometer']), kind='box', height=4, \n",
    "                    aspect=1, legend_out=False)\n",
    "plot.set_axis_labels(y_var='Kilometer')\n",
    "plot.set\n",
    "plot.fig.suptitle('Vehicle run, km', y=1.1);"
   ]
  },
  {
   "cell_type": "code",
   "execution_count": 18,
   "metadata": {},
   "outputs": [
    {
     "name": "stdout",
     "output_type": "stream",
     "text": [
      "Кол-во дубликатов: 25476\n",
      "328200\n",
      "302724\n"
     ]
    }
   ],
   "source": [
    "print('Кол-во дубликатов:', data[data.duplicated()]['Price'].count())\n",
    "print(data.shape[0])\n",
    "data.drop_duplicates(inplace=True, ignore_index=True)\n",
    "print(data.shape[0])"
   ]
  },
  {
   "cell_type": "code",
   "execution_count": 19,
   "metadata": {},
   "outputs": [
    {
     "data": {
      "text/plain": [
       "Price                3684\n",
       "VehicleType             9\n",
       "RegistrationYear       45\n",
       "Gearbox                 3\n",
       "Power                 351\n",
       "Model                 251\n",
       "Kilometer              13\n",
       "RegistrationMonth      13\n",
       "FuelType                8\n",
       "Brand                  40\n",
       "Repaired                3\n",
       "dtype: int64"
      ]
     },
     "execution_count": 19,
     "metadata": {},
     "output_type": "execute_result"
    }
   ],
   "source": [
    "data.nunique()"
   ]
  },
  {
   "cell_type": "code",
   "execution_count": 20,
   "metadata": {},
   "outputs": [],
   "source": [
    "def random_digit(row):\n",
    "    month = row['RegistrationMonth']\n",
    "    if month == 0:\n",
    "        return random.randint(1, 12)\n",
    "    else:\n",
    "        return month"
   ]
  },
  {
   "cell_type": "code",
   "execution_count": 21,
   "metadata": {
    "scrolled": true
   },
   "outputs": [
    {
     "data": {
      "image/png": "[encoded data removed]",
      "text/plain": [
       "<Figure size 432x288 with 1 Axes>"
      ]
     },
     "metadata": {
      "needs_background": "light"
     },
     "output_type": "display_data"
    }
   ],
   "source": [
    "data['RegistrationMonth'].hist(alpha=0.8, bins = 13);\n",
    "data['RegistrationMonth'] = data.apply(random_digit, axis=1)\n",
    "data['RegistrationMonth'].hist(alpha=0.7, bins = 13);"
   ]
  },
  {
   "cell_type": "markdown",
   "metadata": {},
   "source": [
    "### Подготовка признаков к обучению"
   ]
  },
  {
   "cell_type": "code",
   "execution_count": 22,
   "metadata": {},
   "outputs": [],
   "source": [
    "categorical = ['VehicleType', 'Gearbox', 'Model', 'FuelType', 'Brand', 'Repaired']\n",
    "quantitive = ['Power', 'RegistrationYear', 'Kilometer', 'RegistrationMonth']"
   ]
  },
  {
   "cell_type": "markdown",
   "metadata": {},
   "source": [
    "```python\n",
    "# прямое кодирование (для линейных моделей)\n",
    "features_train_ohe = pd.get_dummies(features_train, drop_first=True)\n",
    "features_valid_ohe = pd.get_dummies(features_valid, drop_first=True)\n",
    "features_test_ohe = pd.get_dummies(features_test, drop_first=True)\n",
    "# после прямого кодирования кол-во признаков в выборках будет отличаться\n",
    "# поэтому стоит удалить лишние признаки в каждой выборке\n",
    "\n",
    "# Найдем общие признаки между обучающей, валидационной и тестовой выборками\n",
    "common_columns = set(features_train_ohe.columns) & set(features_valid_ohe.columns) & set(features_test_ohe.columns)\n",
    "\n",
    "# Оставим в каждой выборке только общие признаки\n",
    "features_train_ohe = features_train_ohe[list(common_columns)]\n",
    "features_valid_ohe = features_valid_ohe[list(common_columns)]\n",
    "features_test_ohe = features_test_ohe[list(common_columns)]\n",
    "```"
   ]
  },
  {
   "cell_type": "markdown",
   "metadata": {},
   "source": [
    "```python\n",
    "# порядковое кодирование (для \"деревянных моделей\")\n",
    "encoder = OrdinalEncoder(handle_unknown='use_encoded_value', unknown_value=9999)\n",
    "cat_columns = df.select_dtypes(include=['object']).columns # название датафрейма может отличаться\n",
    "encoder.fit(features_train[cat_columns])\n",
    "\n",
    "features_train_ord = features_train.copy()\n",
    "features_valid_ord = features_valid.copy()\n",
    "features_test_ord = features_test.copy()\n",
    "\n",
    "features_train_ord[cat_columns] = encoder.transform(features_train_ord[cat_columns])\n",
    "features_valid_ord[cat_columns] = encoder.transform(features_valid_ord[cat_columns])\n",
    "features_test_ord[cat_columns] = encoder.transform(features_test_ord[cat_columns])\n",
    "```"
   ]
  },
  {
   "cell_type": "code",
   "execution_count": 23,
   "metadata": {},
   "outputs": [],
   "source": [
    "feauters=data.drop('Price', axis=1)\n",
    "target=data['Price']"
   ]
  },
  {
   "cell_type": "code",
   "execution_count": 24,
   "metadata": {},
   "outputs": [],
   "source": [
    "features_train, features_test, target_train, target_test = train_test_split(feauters,\n",
    "target,test_size=0.6,random_state=0)\n",
    "\n",
    "features_train, features_valid, target_train, target_valid = train_test_split(features_train,\n",
    "target_train,test_size=0.5,random_state=0)"
   ]
  },
  {
   "cell_type": "code",
   "execution_count": 25,
   "metadata": {},
   "outputs": [
    {
     "name": "stdout",
     "output_type": "stream",
     "text": [
      "тренировочная выборка: (60544, 10),(60544,)\n",
      "тестовая выборка:      (181635, 10),(181635,)\n",
      "валидационнаяя выборка:(60545, 10),(60545,)\n"
     ]
    }
   ],
   "source": [
    "print(f'тренировочная выборка: {features_train.shape},{target_train.shape}')\n",
    "print(f'тестовая выборка:      {features_test.shape},{target_test.shape}')\n",
    "print(f'валидационнаяя выборка:{features_valid.shape},{target_valid.shape}')"
   ]
  },
  {
   "cell_type": "code",
   "execution_count": 26,
   "metadata": {},
   "outputs": [
    {
     "data": {
      "text/plain": [
       "OrdinalEncoder(handle_unknown='use_encoded_value', unknown_value=9999)"
      ]
     },
     "execution_count": 26,
     "metadata": {},
     "output_type": "execute_result"
    }
   ],
   "source": [
    "scaler = StandardScaler()\n",
    "encoder = OrdinalEncoder(handle_unknown='use_encoded_value', unknown_value=9999)\n",
    "cat_columns = data.select_dtypes(include=['object']).columns \n",
    "encoder.fit(features_train[cat_columns])"
   ]
  },
  {
   "cell_type": "code",
   "execution_count": 27,
   "metadata": {},
   "outputs": [],
   "source": [
    "# прямое кодирование (для линейных моделей)\n",
    "features_train_ohe = pd.get_dummies(features_train, drop_first=True)\n",
    "features_test_ohe = pd.get_dummies(features_test, drop_first=True)\n",
    "features_valid_ohe = pd.get_dummies(features_valid, drop_first=True)"
   ]
  },
  {
   "cell_type": "code",
   "execution_count": 28,
   "metadata": {},
   "outputs": [],
   "source": [
    "# Найдем общие признаки между обучающей, валидационной и тестовой выборками\n",
    "common_columns = set(features_train_ohe.columns) & set(features_test_ohe.columns) & set(features_valid_ohe.columns)"
   ]
  },
  {
   "cell_type": "code",
   "execution_count": 29,
   "metadata": {},
   "outputs": [],
   "source": [
    "# Оставим в каждой выборке только общие признаки\n",
    "features_train_ohe = features_train_ohe[list(common_columns)]\n",
    "features_test_ohe = features_test_ohe[list(common_columns)]\n",
    "features_valid_ohe = features_valid_ohe[list(common_columns)]"
   ]
  },
  {
   "cell_type": "code",
   "execution_count": 30,
   "metadata": {},
   "outputs": [],
   "source": [
    "warnings.filterwarnings(action='ignore')\n",
    "\n",
    "features_train_ohe.loc[:, quantitive] = scaler.fit_transform(features_train_ohe.loc[:, quantitive])\n",
    "features_test_ohe.loc[:, quantitive] = scaler.transform(features_test_ohe.loc[:, quantitive])\n",
    "features_valid_ohe.loc[:, quantitive] = scaler.transform(features_valid_ohe.loc[:, quantitive])"
   ]
  },
  {
   "cell_type": "code",
   "execution_count": 31,
   "metadata": {},
   "outputs": [],
   "source": [
    "features_train_ord = features_train.copy()\n",
    "features_test_ord = features_test.copy()\n",
    "features_valid_ord = features_valid.copy()"
   ]
  },
  {
   "cell_type": "code",
   "execution_count": 32,
   "metadata": {},
   "outputs": [],
   "source": [
    "# порядковое кодирование (для \"деревянных моделей\")\n",
    "features_train_ord[cat_columns] = encoder.transform(features_train_ord[cat_columns])\n",
    "features_test_ord[cat_columns] = encoder.transform(features_test_ord[cat_columns])\n",
    "features_valid_ord[cat_columns] = encoder.transform(features_valid_ord[cat_columns])"
   ]
  },
  {
   "cell_type": "code",
   "execution_count": 33,
   "metadata": {},
   "outputs": [],
   "source": [
    "#numerical_selector = FunctionTransformer(lambda x: x[quantitive], validate=False)\n",
    "#numerical_preprocessor = Pipeline([(\"numerical_selector\", numerical_selector), (\"scaling\", scaler)])"
   ]
  },
  {
   "cell_type": "code",
   "execution_count": 34,
   "metadata": {},
   "outputs": [],
   "source": [
    "#dummy_selector = FunctionTransformer(lambda x: x[categorical], validate=False)\n",
    "#dummy_preprocessor = Pipeline([(\"dummy_selector\", dummy_selector), (\"ohe\", encoder)])"
   ]
  },
  {
   "cell_type": "code",
   "execution_count": 35,
   "metadata": {},
   "outputs": [],
   "source": [
    "#feature_union = FeatureUnion([(\"numerical_preprocessor\", numerical_preprocessor),\n",
    "                            #(\"dummy_preprocessor\", dummy_preprocessor)])"
   ]
  },
  {
   "cell_type": "code",
   "execution_count": 36,
   "metadata": {},
   "outputs": [],
   "source": [
    "#pipe = Pipeline([(\"preprocessing\", feature_union), (\"modelling\", LinearRegression)])"
   ]
  },
  {
   "cell_type": "code",
   "execution_count": 37,
   "metadata": {},
   "outputs": [],
   "source": [
    "#pipe.fit(features_train ,target_train)"
   ]
  },
  {
   "cell_type": "code",
   "execution_count": 38,
   "metadata": {},
   "outputs": [],
   "source": [
    "#Preds_test = pipe.predict(features_test)\n",
    "#Preds_valid= pipe.predict(features_valid)"
   ]
  },
  {
   "cell_type": "markdown",
   "metadata": {},
   "source": [
    "## Обучение моделей"
   ]
  },
  {
   "cell_type": "code",
   "execution_count": 39,
   "metadata": {},
   "outputs": [],
   "source": [
    "linear = [LinearRegression(normalize=True), BayesianRidge(normalize=True), LassoLars(normalize=False),\n",
    "          PassiveAggressiveRegressor(random_state=12345)]\n",
    "trees = [DecisionTreeRegressor(random_state=12345, max_depth=15)]\n",
    "gb = [GradientBoostingRegressor(random_state=12345, n_estimators=1200, learning_rate=0.25)]"
   ]
  },
  {
   "cell_type": "code",
   "execution_count": 40,
   "metadata": {},
   "outputs": [],
   "source": [
    "results = pd.DataFrame({'Regressor' : [], 'CV RMSE score' : [], 'Train RMSE score' : [], \n",
    "                        'Learning Time' : [], 'Prediction Time' : []})"
   ]
  },
  {
   "cell_type": "code",
   "execution_count": 41,
   "metadata": {},
   "outputs": [],
   "source": [
    "def learn_models(models_list, x_train, y_train, y_valid, params={}, model='default', regr_name='', n_jobs=-1):\n",
    "\n",
    "    for i in models_list:\n",
    "        regr_gs = GridSearchCV(i, params, cv=5, scoring='neg_root_mean_squared_error')\n",
    "        if model == 'default':\n",
    "            regr_gs.fit(x_train,y_train)\n",
    "        if model == 'catboost':\n",
    "            regr_gs.fit(x_train,y_train, cat_features=categorical)\n",
    "        else:\n",
    "            regr_gs.fit(x_train,y_train)\n",
    "            \n",
    "        cv_score = regr_gs.best_score_\n",
    "        \n",
    "        regr = regr_gs.best_estimator_\n",
    "        start_learning = time.time()\n",
    "        if model == 'default':\n",
    "            regr.fit(x_train,y_train)\n",
    "        if model == 'catboost':\n",
    "            regr.fit(x_train,y_train, cat_features=categorical)\n",
    "        else:\n",
    "            regr.fit(x_train,y_train)\n",
    "        \n",
    "        end_learning = time.time()\n",
    "        duration_learning = end_learning - start_learning\n",
    "\n",
    "        start_prediction = time.time()\n",
    "        train_rmse_score = np.sqrt(mean_squared_error(y_train, regr.predict(y_valid), squared=False))\n",
    "        end_prediction = time.time()\n",
    "        duration_prediction = end_prediction - start_prediction\n",
    "\n",
    "        \n",
    "        if regr_name == '':\n",
    "            name = str(i).split(sep='(')[0]\n",
    "        else:\n",
    "            name = regr_name\n",
    "\n",
    "        globals()['results'] = globals()['results'].append({\n",
    "            'Regressor' : name, 'CV RMSE score' : round(cv_score, 2), 'Train RMSE score' : round(train_rmse_score, 2), \n",
    "            'Learning Time' :  round(duration_learning, 2), \n",
    "            'Prediction Time' : round(duration_prediction, 2)}, ignore_index=True)"
   ]
  },
  {
   "cell_type": "code",
   "execution_count": null,
   "metadata": {
    "scrolled": true
   },
   "outputs": [],
   "source": [
    "learn_models(linear,features_train_ohe, target_train ,target_valid)"
   ]
  },
  {
   "cell_type": "code",
   "execution_count": null,
   "metadata": {},
   "outputs": [],
   "source": [
    "learn_models(trees, features_train_ord, target_train,target_valid )"
   ]
  },
  {
   "cell_type": "code",
   "execution_count": null,
   "metadata": {},
   "outputs": [],
   "source": [
    "learn_models(gb, features_train_ord, target_train,target_valid ,\n",
    "             regr_name='GradientBoostingRegressor')"
   ]
  },
  {
   "cell_type": "code",
   "execution_count": null,
   "metadata": {},
   "outputs": [],
   "source": [
    "results"
   ]
  },
  {
   "cell_type": "markdown",
   "metadata": {},
   "source": [
    "# XGBoost"
   ]
  },
  {
   "cell_type": "code",
   "execution_count": null,
   "metadata": {},
   "outputs": [],
   "source": [
    "xgb_regr = xgb.XGBRegressor(learning_rate=0.1, n_estimators=1200)"
   ]
  },
  {
   "cell_type": "code",
   "execution_count": null,
   "metadata": {},
   "outputs": [],
   "source": [
    "learn_models([xgb_regr], features_train_ord, target_train,target_valid, \n",
    "             regr_name='XGBRegressor')"
   ]
  },
  {
   "cell_type": "code",
   "execution_count": null,
   "metadata": {},
   "outputs": [],
   "source": [
    "results"
   ]
  },
  {
   "cell_type": "markdown",
   "metadata": {},
   "source": [
    "# CatBoost"
   ]
  },
  {
   "cell_type": "code",
   "execution_count": null,
   "metadata": {},
   "outputs": [],
   "source": [
    "cat_regr = CatBoostRegressor(iterations=1200, learning_rate=0.25, verbose=False)"
   ]
  },
  {
   "cell_type": "code",
   "execution_count": null,
   "metadata": {},
   "outputs": [],
   "source": [
    "learn_models([cat_regr], features_train_ord, target_train,target_valid , \n",
    "             regr_name='CatBoostRegressor (ordinal)')"
   ]
  },
  {
   "cell_type": "code",
   "execution_count": null,
   "metadata": {},
   "outputs": [],
   "source": [
    "learn_models([cat_regr], features_train_ohe, target_train,target_valid , \n",
    "             regr_name='CatBoostRegressor (ohe)')"
   ]
  },
  {
   "cell_type": "code",
   "execution_count": null,
   "metadata": {},
   "outputs": [],
   "source": [
    "results"
   ]
  },
  {
   "cell_type": "markdown",
   "metadata": {},
   "source": [
    "## Анализ моделей"
   ]
  },
  {
   "cell_type": "code",
   "execution_count": null,
   "metadata": {},
   "outputs": [],
   "source": [
    "results.sort_values('Train RMSE score', ascending=True)"
   ]
  },
  {
   "cell_type": "markdown",
   "metadata": {},
   "source": [
    "## Тестирование лучшей модели"
   ]
  },
  {
   "cell_type": "code",
   "execution_count": null,
   "metadata": {},
   "outputs": [],
   "source": [
    "# гиперпараметры optuna\n",
    "def objective(trial):\n",
    "    param = {}\n",
    "    param['C'] = trial.suggest_discrete_uniform(\"C\", 0.01, 0.1, 0.5,1)\n",
    "    param['n_iter_no_change']= trial.suggest_int('n_iter_no_change',1,5,7)\n",
    "    param['max_iter'] = 1000\n",
    "    param['random_state'] = 0\n",
    "\n",
    "    regressor = PassiveAggressiveRegressor(**param)\n",
    "\n",
    "    regressor.fit(features_train_ohe.copy(), target_train.copy())\n",
    "    loss = np.sqrt(mean_squared_error(target_valid, regressor.predict(features_valid_ohe.copy())))\n",
    "    return loss"
   ]
  },
  {
   "cell_type": "code",
   "execution_count": null,
   "metadata": {},
   "outputs": [],
   "source": [
    "%%time\n",
    "study = optuna.create_study(study_name=f'PassiveAggressiveRegressor-seed{0}')\n",
    "study.optimize(objective, n_trials=1000, n_jobs=-1, timeout=2400)"
   ]
  },
  {
   "cell_type": "code",
   "execution_count": null,
   "metadata": {},
   "outputs": [],
   "source": [
    "print(f' лучшая метрика: \\n{study.best_value}\\n оптимальные гиперпараметры: {study.best_params}')"
   ]
  },
  {
   "cell_type": "markdown",
   "metadata": {},
   "source": [
    "## Вывод"
   ]
  },
  {
   "cell_type": "markdown",
   "metadata": {},
   "source": [
    "лучший результат по точности показала модель PassiveAggressiveRegressor"
   ]
  }
 ],
 "metadata": {
  "ExecuteTimeLog": [
   {
    "duration": 1821,
    "start_time": "2023-07-22T09:00:11.700Z"
   },
   {
    "duration": 146,
    "start_time": "2023-07-22T09:00:13.523Z"
   },
   {
    "duration": 0,
    "start_time": "2023-07-22T09:00:13.671Z"
   },
   {
    "duration": 0,
    "start_time": "2023-07-22T09:00:13.672Z"
   },
   {
    "duration": 2909,
    "start_time": "2023-07-22T09:00:40.064Z"
   },
   {
    "duration": 4,
    "start_time": "2023-07-22T09:00:42.975Z"
   },
   {
    "duration": 645,
    "start_time": "2023-07-22T09:00:42.980Z"
   },
   {
    "duration": 81,
    "start_time": "2023-07-22T09:02:11.080Z"
   },
   {
    "duration": 17,
    "start_time": "2023-07-22T09:02:17.406Z"
   },
   {
    "duration": 14,
    "start_time": "2023-07-22T09:02:27.655Z"
   },
   {
    "duration": 4,
    "start_time": "2023-07-22T09:02:40.366Z"
   },
   {
    "duration": 753,
    "start_time": "2023-07-22T09:02:40.524Z"
   },
   {
    "duration": 3,
    "start_time": "2023-07-22T09:02:41.279Z"
   },
   {
    "duration": 587,
    "start_time": "2023-07-22T09:02:41.284Z"
   },
   {
    "duration": 97,
    "start_time": "2023-07-22T09:02:41.872Z"
   },
   {
    "duration": 10,
    "start_time": "2023-07-22T09:03:26.568Z"
   },
   {
    "duration": 389,
    "start_time": "2023-07-22T09:03:47.040Z"
   },
   {
    "duration": 368,
    "start_time": "2023-07-22T09:03:59.403Z"
   },
   {
    "duration": 290,
    "start_time": "2023-07-22T09:04:04.379Z"
   },
   {
    "duration": 366,
    "start_time": "2023-07-22T09:04:56.384Z"
   },
   {
    "duration": 302,
    "start_time": "2023-07-22T09:06:45.166Z"
   },
   {
    "duration": 342,
    "start_time": "2023-07-22T09:20:38.143Z"
   },
   {
    "duration": 315,
    "start_time": "2023-07-22T09:21:38.221Z"
   },
   {
    "duration": 180,
    "start_time": "2023-07-22T09:22:16.859Z"
   },
   {
    "duration": 4,
    "start_time": "2023-07-22T09:24:38.518Z"
   },
   {
    "duration": 10,
    "start_time": "2023-07-22T09:24:38.814Z"
   },
   {
    "duration": 1902,
    "start_time": "2023-07-22T09:25:04.511Z"
   },
   {
    "duration": 8,
    "start_time": "2023-07-22T09:29:43.906Z"
   },
   {
    "duration": 15,
    "start_time": "2023-07-22T09:35:53.769Z"
   },
   {
    "duration": 68,
    "start_time": "2023-07-22T09:35:54.370Z"
   },
   {
    "duration": 16,
    "start_time": "2023-07-22T09:37:04.996Z"
   },
   {
    "duration": 5,
    "start_time": "2023-07-22T09:37:39.800Z"
   },
   {
    "duration": 74,
    "start_time": "2023-07-22T09:37:55.415Z"
   },
   {
    "duration": 12,
    "start_time": "2023-07-22T09:37:56.117Z"
   },
   {
    "duration": 9,
    "start_time": "2023-07-22T09:38:32.569Z"
   },
   {
    "duration": 15,
    "start_time": "2023-07-22T09:38:41.804Z"
   },
   {
    "duration": 69,
    "start_time": "2023-07-22T09:38:42.099Z"
   },
   {
    "duration": 13,
    "start_time": "2023-07-22T09:38:43.108Z"
   },
   {
    "duration": 5,
    "start_time": "2023-07-22T09:38:55.923Z"
   },
   {
    "duration": 3,
    "start_time": "2023-07-22T09:39:12.803Z"
   },
   {
    "duration": 11,
    "start_time": "2023-07-22T09:39:50.163Z"
   },
   {
    "duration": 4,
    "start_time": "2023-07-22T09:41:57.416Z"
   },
   {
    "duration": 12,
    "start_time": "2023-07-22T09:42:05.358Z"
   },
   {
    "duration": 3,
    "start_time": "2023-07-22T09:42:22.353Z"
   },
   {
    "duration": 69,
    "start_time": "2023-07-22T09:42:42.474Z"
   },
   {
    "duration": 4,
    "start_time": "2023-07-22T09:44:52.650Z"
   },
   {
    "duration": 4,
    "start_time": "2023-07-22T09:45:29.785Z"
   },
   {
    "duration": 8,
    "start_time": "2023-07-22T09:45:42.519Z"
   },
   {
    "duration": 4,
    "start_time": "2023-07-22T09:46:08.076Z"
   },
   {
    "duration": 3,
    "start_time": "2023-07-22T09:46:14.867Z"
   },
   {
    "duration": 9,
    "start_time": "2023-07-22T09:46:35.338Z"
   },
   {
    "duration": 4,
    "start_time": "2023-07-22T09:47:19.924Z"
   },
   {
    "duration": 3,
    "start_time": "2023-07-22T09:47:24.542Z"
   },
   {
    "duration": 4,
    "start_time": "2023-07-22T09:47:44.467Z"
   },
   {
    "duration": 9,
    "start_time": "2023-07-22T09:48:09.198Z"
   },
   {
    "duration": 10,
    "start_time": "2023-07-22T09:48:12.211Z"
   },
   {
    "duration": 11,
    "start_time": "2023-07-22T09:48:30.344Z"
   },
   {
    "duration": 4,
    "start_time": "2023-07-22T09:48:49.500Z"
   },
   {
    "duration": 3,
    "start_time": "2023-07-22T09:48:54.968Z"
   },
   {
    "duration": 11,
    "start_time": "2023-07-22T09:48:55.668Z"
   },
   {
    "duration": 3,
    "start_time": "2023-07-22T09:50:20.559Z"
   },
   {
    "duration": 9,
    "start_time": "2023-07-22T09:50:22.627Z"
   },
   {
    "duration": 30,
    "start_time": "2023-07-22T09:51:38.412Z"
   },
   {
    "duration": 4,
    "start_time": "2023-07-22T09:52:58.206Z"
   },
   {
    "duration": 3,
    "start_time": "2023-07-22T09:53:11.603Z"
   },
   {
    "duration": 3,
    "start_time": "2023-07-22T09:53:18.724Z"
   },
   {
    "duration": 2,
    "start_time": "2023-07-22T09:53:23.410Z"
   },
   {
    "duration": 9,
    "start_time": "2023-07-22T09:53:34.917Z"
   },
   {
    "duration": 3,
    "start_time": "2023-07-22T09:54:07.417Z"
   },
   {
    "duration": 3,
    "start_time": "2023-07-22T09:54:08.018Z"
   },
   {
    "duration": 17,
    "start_time": "2023-07-22T09:54:10.055Z"
   },
   {
    "duration": 68,
    "start_time": "2023-07-22T09:54:10.344Z"
   },
   {
    "duration": 4,
    "start_time": "2023-07-22T09:54:10.600Z"
   },
   {
    "duration": 3,
    "start_time": "2023-07-22T09:54:11.147Z"
   },
   {
    "duration": 3,
    "start_time": "2023-07-22T09:54:11.700Z"
   },
   {
    "duration": 4,
    "start_time": "2023-07-22T09:54:12.322Z"
   },
   {
    "duration": 3,
    "start_time": "2023-07-22T09:54:12.792Z"
   },
   {
    "duration": 3,
    "start_time": "2023-07-22T09:54:13.214Z"
   },
   {
    "duration": 43,
    "start_time": "2023-07-22T09:54:13.751Z"
   },
   {
    "duration": 3,
    "start_time": "2023-07-22T09:55:11.804Z"
   },
   {
    "duration": 3,
    "start_time": "2023-07-22T09:55:12.142Z"
   },
   {
    "duration": 3,
    "start_time": "2023-07-22T09:55:12.614Z"
   },
   {
    "duration": 4,
    "start_time": "2023-07-22T09:55:13.004Z"
   },
   {
    "duration": 3,
    "start_time": "2023-07-22T09:55:13.439Z"
   },
   {
    "duration": 48,
    "start_time": "2023-07-22T09:55:13.937Z"
   },
   {
    "duration": 5,
    "start_time": "2023-07-22T09:55:18.874Z"
   },
   {
    "duration": 27,
    "start_time": "2023-07-22T09:55:19.174Z"
   },
   {
    "duration": 67,
    "start_time": "2023-07-22T09:55:19.468Z"
   },
   {
    "duration": 3,
    "start_time": "2023-07-22T09:55:19.727Z"
   },
   {
    "duration": 3,
    "start_time": "2023-07-22T09:55:20.011Z"
   },
   {
    "duration": 5,
    "start_time": "2023-07-22T09:55:20.480Z"
   },
   {
    "duration": 3,
    "start_time": "2023-07-22T09:55:20.910Z"
   },
   {
    "duration": 4,
    "start_time": "2023-07-22T09:55:21.217Z"
   },
   {
    "duration": 3,
    "start_time": "2023-07-22T09:55:21.631Z"
   },
   {
    "duration": 56,
    "start_time": "2023-07-22T09:55:22.117Z"
   },
   {
    "duration": 3,
    "start_time": "2023-07-22T10:13:19.377Z"
   },
   {
    "duration": 20,
    "start_time": "2023-07-22T10:13:19.723Z"
   },
   {
    "duration": 84,
    "start_time": "2023-07-22T10:13:19.912Z"
   },
   {
    "duration": 4,
    "start_time": "2023-07-22T10:13:20.165Z"
   },
   {
    "duration": 3,
    "start_time": "2023-07-22T10:13:20.589Z"
   },
   {
    "duration": 5,
    "start_time": "2023-07-22T10:13:21.013Z"
   },
   {
    "duration": 3,
    "start_time": "2023-07-22T10:13:21.400Z"
   },
   {
    "duration": 3,
    "start_time": "2023-07-22T10:13:21.800Z"
   },
   {
    "duration": 3,
    "start_time": "2023-07-22T10:13:22.131Z"
   },
   {
    "duration": 1234,
    "start_time": "2023-07-22T10:13:22.604Z"
   },
   {
    "duration": 1249,
    "start_time": "2023-07-22T10:14:02.361Z"
   },
   {
    "duration": 3,
    "start_time": "2023-07-22T10:14:09.430Z"
   },
   {
    "duration": 18,
    "start_time": "2023-07-22T10:14:09.611Z"
   },
   {
    "duration": 83,
    "start_time": "2023-07-22T10:14:09.803Z"
   },
   {
    "duration": 4,
    "start_time": "2023-07-22T10:14:09.996Z"
   },
   {
    "duration": 3,
    "start_time": "2023-07-22T10:14:10.173Z"
   },
   {
    "duration": 3,
    "start_time": "2023-07-22T10:14:10.561Z"
   },
   {
    "duration": 4,
    "start_time": "2023-07-22T10:14:10.805Z"
   },
   {
    "duration": 4,
    "start_time": "2023-07-22T10:14:11.101Z"
   },
   {
    "duration": 3,
    "start_time": "2023-07-22T10:14:11.334Z"
   },
   {
    "duration": 51,
    "start_time": "2023-07-22T10:14:11.837Z"
   },
   {
    "duration": 10,
    "start_time": "2023-07-22T10:15:12.249Z"
   },
   {
    "duration": 4,
    "start_time": "2023-07-22T10:15:32.505Z"
   },
   {
    "duration": 21,
    "start_time": "2023-07-22T10:15:32.896Z"
   },
   {
    "duration": 2,
    "start_time": "2023-07-22T10:15:36.009Z"
   },
   {
    "duration": 4,
    "start_time": "2023-07-22T10:15:36.403Z"
   },
   {
    "duration": 3,
    "start_time": "2023-07-22T10:15:36.829Z"
   },
   {
    "duration": 3,
    "start_time": "2023-07-22T10:15:37.301Z"
   },
   {
    "duration": 3,
    "start_time": "2023-07-22T10:15:37.811Z"
   },
   {
    "duration": 12,
    "start_time": "2023-07-22T10:15:38.223Z"
   },
   {
    "duration": 4,
    "start_time": "2023-07-22T10:15:58.571Z"
   },
   {
    "duration": 25,
    "start_time": "2023-07-22T10:15:58.833Z"
   },
   {
    "duration": 3,
    "start_time": "2023-07-22T10:15:59.458Z"
   },
   {
    "duration": 3,
    "start_time": "2023-07-22T10:15:59.773Z"
   },
   {
    "duration": 4,
    "start_time": "2023-07-22T10:16:00.198Z"
   },
   {
    "duration": 3,
    "start_time": "2023-07-22T10:16:00.540Z"
   },
   {
    "duration": 3,
    "start_time": "2023-07-22T10:16:00.920Z"
   },
   {
    "duration": 9,
    "start_time": "2023-07-22T10:16:01.378Z"
   },
   {
    "duration": 9,
    "start_time": "2023-07-22T10:16:21.996Z"
   },
   {
    "duration": 61,
    "start_time": "2023-07-22T10:16:28.814Z"
   },
   {
    "duration": 2,
    "start_time": "2023-07-22T10:18:05.750Z"
   },
   {
    "duration": 13,
    "start_time": "2023-07-22T10:18:06.771Z"
   },
   {
    "duration": 2,
    "start_time": "2023-07-22T10:18:07.136Z"
   },
   {
    "duration": 5,
    "start_time": "2023-07-22T10:18:07.451Z"
   },
   {
    "duration": 4,
    "start_time": "2023-07-22T10:18:07.736Z"
   },
   {
    "duration": 4,
    "start_time": "2023-07-22T10:18:08.045Z"
   },
   {
    "duration": 5,
    "start_time": "2023-07-22T10:18:08.357Z"
   },
   {
    "duration": 1708,
    "start_time": "2023-07-22T10:18:08.814Z"
   },
   {
    "duration": 1906,
    "start_time": "2023-07-22T10:18:53.208Z"
   },
   {
    "duration": 1855,
    "start_time": "2023-07-22T10:19:03.980Z"
   },
   {
    "duration": 1940,
    "start_time": "2023-07-22T10:19:18.330Z"
   },
   {
    "duration": 1791,
    "start_time": "2023-07-22T10:19:22.052Z"
   },
   {
    "duration": 1558,
    "start_time": "2023-07-22T10:19:40.942Z"
   },
   {
    "duration": 893,
    "start_time": "2023-07-22T10:19:42.502Z"
   },
   {
    "duration": 3,
    "start_time": "2023-07-22T10:19:43.397Z"
   },
   {
    "duration": 785,
    "start_time": "2023-07-22T10:19:43.403Z"
   },
   {
    "duration": 149,
    "start_time": "2023-07-22T10:19:44.191Z"
   },
   {
    "duration": 343,
    "start_time": "2023-07-22T10:19:44.342Z"
   },
   {
    "duration": 290,
    "start_time": "2023-07-22T10:19:44.687Z"
   },
   {
    "duration": 305,
    "start_time": "2023-07-22T10:19:44.979Z"
   },
   {
    "duration": 463,
    "start_time": "2023-07-22T10:19:45.286Z"
   },
   {
    "duration": 437,
    "start_time": "2023-07-22T10:19:45.752Z"
   },
   {
    "duration": 215,
    "start_time": "2023-07-22T10:19:46.190Z"
   },
   {
    "duration": 3,
    "start_time": "2023-07-22T10:19:46.407Z"
   },
   {
    "duration": 2073,
    "start_time": "2023-07-22T10:19:46.412Z"
   },
   {
    "duration": 3,
    "start_time": "2023-07-22T10:19:48.486Z"
   },
   {
    "duration": 18,
    "start_time": "2023-07-22T10:19:48.491Z"
   },
   {
    "duration": 4,
    "start_time": "2023-07-22T10:19:48.511Z"
   },
   {
    "duration": 10,
    "start_time": "2023-07-22T10:19:48.517Z"
   },
   {
    "duration": 39,
    "start_time": "2023-07-22T10:19:48.529Z"
   },
   {
    "duration": 2,
    "start_time": "2023-07-22T10:19:48.570Z"
   },
   {
    "duration": 8,
    "start_time": "2023-07-22T10:19:48.574Z"
   },
   {
    "duration": 1877,
    "start_time": "2023-07-22T10:19:48.584Z"
   },
   {
    "duration": 0,
    "start_time": "2023-07-22T10:19:50.463Z"
   },
   {
    "duration": 0,
    "start_time": "2023-07-22T10:19:50.464Z"
   },
   {
    "duration": 9,
    "start_time": "2023-07-22T10:21:14.967Z"
   },
   {
    "duration": 1733,
    "start_time": "2023-07-22T10:21:21.707Z"
   },
   {
    "duration": 16,
    "start_time": "2023-07-22T10:21:32.831Z"
   },
   {
    "duration": 1785,
    "start_time": "2023-07-22T10:21:34.912Z"
   },
   {
    "duration": 5,
    "start_time": "2023-07-22T10:21:49.755Z"
   },
   {
    "duration": 19,
    "start_time": "2023-07-22T10:22:00.125Z"
   },
   {
    "duration": 4,
    "start_time": "2023-07-22T10:22:00.291Z"
   },
   {
    "duration": 3,
    "start_time": "2023-07-22T10:22:00.462Z"
   },
   {
    "duration": 3,
    "start_time": "2023-07-22T10:22:00.640Z"
   },
   {
    "duration": 3,
    "start_time": "2023-07-22T10:22:00.812Z"
   },
   {
    "duration": 3,
    "start_time": "2023-07-22T10:22:01.001Z"
   },
   {
    "duration": 1744,
    "start_time": "2023-07-22T10:22:12.130Z"
   },
   {
    "duration": 3089,
    "start_time": "2023-07-22T10:22:13.876Z"
   },
   {
    "duration": 3,
    "start_time": "2023-07-22T10:22:16.967Z"
   },
   {
    "duration": 723,
    "start_time": "2023-07-22T10:22:16.972Z"
   },
   {
    "duration": 118,
    "start_time": "2023-07-22T10:22:17.697Z"
   },
   {
    "duration": 335,
    "start_time": "2023-07-22T10:22:17.817Z"
   },
   {
    "duration": 300,
    "start_time": "2023-07-22T10:22:18.154Z"
   },
   {
    "duration": 313,
    "start_time": "2023-07-22T10:22:18.456Z"
   },
   {
    "duration": 443,
    "start_time": "2023-07-22T10:22:18.771Z"
   },
   {
    "duration": 345,
    "start_time": "2023-07-22T10:22:19.216Z"
   },
   {
    "duration": 192,
    "start_time": "2023-07-22T10:22:19.562Z"
   },
   {
    "duration": 4,
    "start_time": "2023-07-22T10:22:19.758Z"
   },
   {
    "duration": 1968,
    "start_time": "2023-07-22T10:22:19.770Z"
   },
   {
    "duration": 3,
    "start_time": "2023-07-22T10:22:21.742Z"
   },
   {
    "duration": 38,
    "start_time": "2023-07-22T10:22:21.747Z"
   },
   {
    "duration": 8,
    "start_time": "2023-07-22T10:22:21.787Z"
   },
   {
    "duration": 22,
    "start_time": "2023-07-22T10:22:21.796Z"
   },
   {
    "duration": 8,
    "start_time": "2023-07-22T10:22:21.820Z"
   },
   {
    "duration": 10,
    "start_time": "2023-07-22T10:22:21.830Z"
   },
   {
    "duration": 12,
    "start_time": "2023-07-22T10:22:21.842Z"
   },
   {
    "duration": 1876,
    "start_time": "2023-07-22T10:22:21.857Z"
   },
   {
    "duration": 0,
    "start_time": "2023-07-22T10:22:23.735Z"
   },
   {
    "duration": 0,
    "start_time": "2023-07-22T10:22:23.737Z"
   },
   {
    "duration": 1685,
    "start_time": "2023-07-22T10:23:02.469Z"
   },
   {
    "duration": 836,
    "start_time": "2023-07-22T10:23:04.157Z"
   },
   {
    "duration": 4,
    "start_time": "2023-07-22T10:23:04.995Z"
   },
   {
    "duration": 664,
    "start_time": "2023-07-22T10:23:05.001Z"
   },
   {
    "duration": 114,
    "start_time": "2023-07-22T10:23:05.667Z"
   },
   {
    "duration": 305,
    "start_time": "2023-07-22T10:23:05.782Z"
   },
   {
    "duration": 253,
    "start_time": "2023-07-22T10:23:06.088Z"
   },
   {
    "duration": 288,
    "start_time": "2023-07-22T10:23:06.342Z"
   },
   {
    "duration": 400,
    "start_time": "2023-07-22T10:23:06.632Z"
   },
   {
    "duration": 361,
    "start_time": "2023-07-22T10:23:07.034Z"
   },
   {
    "duration": 198,
    "start_time": "2023-07-22T10:23:07.396Z"
   },
   {
    "duration": 3,
    "start_time": "2023-07-22T10:23:07.596Z"
   },
   {
    "duration": 2103,
    "start_time": "2023-07-22T10:23:07.601Z"
   },
   {
    "duration": 3,
    "start_time": "2023-07-22T10:23:09.708Z"
   },
   {
    "duration": 20,
    "start_time": "2023-07-22T10:23:09.713Z"
   },
   {
    "duration": 3,
    "start_time": "2023-07-22T10:23:09.735Z"
   },
   {
    "duration": 7,
    "start_time": "2023-07-22T10:23:09.740Z"
   },
   {
    "duration": 22,
    "start_time": "2023-07-22T10:23:09.749Z"
   },
   {
    "duration": 16,
    "start_time": "2023-07-22T10:23:09.772Z"
   },
   {
    "duration": 20,
    "start_time": "2023-07-22T10:23:09.789Z"
   },
   {
    "duration": 1857,
    "start_time": "2023-07-22T10:23:09.811Z"
   },
   {
    "duration": 0,
    "start_time": "2023-07-22T10:23:11.670Z"
   },
   {
    "duration": 0,
    "start_time": "2023-07-22T10:23:11.671Z"
   },
   {
    "duration": 1730,
    "start_time": "2023-07-22T10:23:22.313Z"
   },
   {
    "duration": 1792,
    "start_time": "2023-07-22T10:23:34.146Z"
   },
   {
    "duration": 3,
    "start_time": "2023-07-22T10:24:05.912Z"
   },
   {
    "duration": 1669,
    "start_time": "2023-07-22T10:24:17.152Z"
   },
   {
    "duration": 3025,
    "start_time": "2023-07-22T10:24:18.824Z"
   },
   {
    "duration": 4,
    "start_time": "2023-07-22T10:24:21.851Z"
   },
   {
    "duration": 679,
    "start_time": "2023-07-22T10:24:21.857Z"
   },
   {
    "duration": 93,
    "start_time": "2023-07-22T10:24:22.538Z"
   },
   {
    "duration": 343,
    "start_time": "2023-07-22T10:24:22.633Z"
   },
   {
    "duration": 275,
    "start_time": "2023-07-22T10:24:22.978Z"
   },
   {
    "duration": 276,
    "start_time": "2023-07-22T10:24:23.255Z"
   },
   {
    "duration": 464,
    "start_time": "2023-07-22T10:24:23.533Z"
   },
   {
    "duration": 383,
    "start_time": "2023-07-22T10:24:23.999Z"
   },
   {
    "duration": 196,
    "start_time": "2023-07-22T10:24:24.384Z"
   },
   {
    "duration": 3,
    "start_time": "2023-07-22T10:24:24.581Z"
   },
   {
    "duration": 1978,
    "start_time": "2023-07-22T10:24:24.585Z"
   },
   {
    "duration": 3,
    "start_time": "2023-07-22T10:24:26.569Z"
   },
   {
    "duration": 18,
    "start_time": "2023-07-22T10:24:26.573Z"
   },
   {
    "duration": 5,
    "start_time": "2023-07-22T10:24:26.592Z"
   },
   {
    "duration": 5,
    "start_time": "2023-07-22T10:24:26.598Z"
   },
   {
    "duration": 4,
    "start_time": "2023-07-22T10:24:26.605Z"
   },
   {
    "duration": 29,
    "start_time": "2023-07-22T10:24:26.611Z"
   },
   {
    "duration": 21,
    "start_time": "2023-07-22T10:24:26.642Z"
   },
   {
    "duration": 1873,
    "start_time": "2023-07-22T10:24:26.665Z"
   },
   {
    "duration": 0,
    "start_time": "2023-07-22T10:24:28.539Z"
   },
   {
    "duration": 0,
    "start_time": "2023-07-22T10:24:28.540Z"
   },
   {
    "duration": 2,
    "start_time": "2023-07-22T10:24:59.267Z"
   },
   {
    "duration": 4,
    "start_time": "2023-07-22T10:25:00.243Z"
   },
   {
    "duration": 4,
    "start_time": "2023-07-22T10:25:00.580Z"
   },
   {
    "duration": 72,
    "start_time": "2023-07-22T10:25:00.900Z"
   },
   {
    "duration": 3,
    "start_time": "2023-07-22T10:25:05.823Z"
   },
   {
    "duration": 18,
    "start_time": "2023-07-22T10:25:05.987Z"
   },
   {
    "duration": 2,
    "start_time": "2023-07-22T10:25:06.144Z"
   },
   {
    "duration": 4,
    "start_time": "2023-07-22T10:25:06.315Z"
   },
   {
    "duration": 4,
    "start_time": "2023-07-22T10:25:06.484Z"
   },
   {
    "duration": 3,
    "start_time": "2023-07-22T10:25:06.672Z"
   },
   {
    "duration": 6,
    "start_time": "2023-07-22T10:25:06.848Z"
   },
   {
    "duration": 95,
    "start_time": "2023-07-22T10:25:07.042Z"
   },
   {
    "duration": 3,
    "start_time": "2023-07-22T10:26:09.656Z"
   },
   {
    "duration": 3,
    "start_time": "2023-07-22T10:26:10.465Z"
   },
   {
    "duration": 3,
    "start_time": "2023-07-22T10:26:10.854Z"
   },
   {
    "duration": 81,
    "start_time": "2023-07-22T10:26:11.318Z"
   },
   {
    "duration": 2,
    "start_time": "2023-07-22T10:26:14.267Z"
   },
   {
    "duration": 19,
    "start_time": "2023-07-22T10:26:14.491Z"
   },
   {
    "duration": 4,
    "start_time": "2023-07-22T10:26:14.660Z"
   },
   {
    "duration": 4,
    "start_time": "2023-07-22T10:26:14.835Z"
   },
   {
    "duration": 4,
    "start_time": "2023-07-22T10:26:15.036Z"
   },
   {
    "duration": 3,
    "start_time": "2023-07-22T10:26:15.222Z"
   },
   {
    "duration": 3,
    "start_time": "2023-07-22T10:26:15.408Z"
   },
   {
    "duration": 73,
    "start_time": "2023-07-22T10:26:15.777Z"
   },
   {
    "duration": 1514,
    "start_time": "2023-07-22T10:26:19.578Z"
   },
   {
    "duration": 785,
    "start_time": "2023-07-22T10:26:21.094Z"
   },
   {
    "duration": 4,
    "start_time": "2023-07-22T10:26:21.881Z"
   },
   {
    "duration": 651,
    "start_time": "2023-07-22T10:26:21.888Z"
   },
   {
    "duration": 109,
    "start_time": "2023-07-22T10:26:22.541Z"
   },
   {
    "duration": 357,
    "start_time": "2023-07-22T10:26:22.652Z"
   },
   {
    "duration": 291,
    "start_time": "2023-07-22T10:26:23.011Z"
   },
   {
    "duration": 299,
    "start_time": "2023-07-22T10:26:23.304Z"
   },
   {
    "duration": 448,
    "start_time": "2023-07-22T10:26:23.606Z"
   },
   {
    "duration": 447,
    "start_time": "2023-07-22T10:26:24.059Z"
   },
   {
    "duration": 194,
    "start_time": "2023-07-22T10:26:24.508Z"
   },
   {
    "duration": 3,
    "start_time": "2023-07-22T10:26:24.703Z"
   },
   {
    "duration": 1976,
    "start_time": "2023-07-22T10:26:24.707Z"
   },
   {
    "duration": 3,
    "start_time": "2023-07-22T10:26:26.685Z"
   },
   {
    "duration": 16,
    "start_time": "2023-07-22T10:26:26.689Z"
   },
   {
    "duration": 3,
    "start_time": "2023-07-22T10:26:26.707Z"
   },
   {
    "duration": 12,
    "start_time": "2023-07-22T10:26:26.712Z"
   },
   {
    "duration": 8,
    "start_time": "2023-07-22T10:26:26.725Z"
   },
   {
    "duration": 10,
    "start_time": "2023-07-22T10:26:26.735Z"
   },
   {
    "duration": 15,
    "start_time": "2023-07-22T10:26:26.746Z"
   },
   {
    "duration": 177,
    "start_time": "2023-07-22T10:26:26.768Z"
   },
   {
    "duration": 0,
    "start_time": "2023-07-22T10:26:26.946Z"
   },
   {
    "duration": 0,
    "start_time": "2023-07-22T10:26:26.948Z"
   },
   {
    "duration": 4,
    "start_time": "2023-07-22T10:27:37.326Z"
   },
   {
    "duration": 17,
    "start_time": "2023-07-22T10:27:37.571Z"
   },
   {
    "duration": 69,
    "start_time": "2023-07-22T10:27:37.782Z"
   },
   {
    "duration": 4,
    "start_time": "2023-07-22T10:27:38.062Z"
   },
   {
    "duration": 3,
    "start_time": "2023-07-22T10:27:38.534Z"
   },
   {
    "duration": 4,
    "start_time": "2023-07-22T10:27:38.992Z"
   },
   {
    "duration": 3,
    "start_time": "2023-07-22T10:27:39.425Z"
   },
   {
    "duration": 3,
    "start_time": "2023-07-22T10:27:39.797Z"
   },
   {
    "duration": 3,
    "start_time": "2023-07-22T10:27:40.151Z"
   },
   {
    "duration": 1296,
    "start_time": "2023-07-22T10:27:40.518Z"
   },
   {
    "duration": 4,
    "start_time": "2023-07-22T10:29:17.548Z"
   },
   {
    "duration": 1348,
    "start_time": "2023-07-22T10:29:18.104Z"
   },
   {
    "duration": 15,
    "start_time": "2023-07-22T10:30:01.775Z"
   },
   {
    "duration": 1280,
    "start_time": "2023-07-22T10:30:07.552Z"
   },
   {
    "duration": 1345,
    "start_time": "2023-07-22T10:30:29.108Z"
   },
   {
    "duration": 1361,
    "start_time": "2023-07-22T10:30:39.797Z"
   },
   {
    "duration": 1432,
    "start_time": "2023-07-22T10:30:54.061Z"
   },
   {
    "duration": 1433,
    "start_time": "2023-07-22T10:30:57.222Z"
   },
   {
    "duration": 4,
    "start_time": "2023-07-22T10:31:29.711Z"
   },
   {
    "duration": 6,
    "start_time": "2023-07-22T10:31:29.939Z"
   },
   {
    "duration": 10,
    "start_time": "2023-07-22T10:31:30.168Z"
   },
   {
    "duration": 3,
    "start_time": "2023-07-22T10:31:30.516Z"
   },
   {
    "duration": 3,
    "start_time": "2023-07-22T10:31:30.861Z"
   },
   {
    "duration": 33,
    "start_time": "2023-07-22T10:31:31.160Z"
   },
   {
    "duration": 44,
    "start_time": "2023-07-22T10:32:54.997Z"
   },
   {
    "duration": 3,
    "start_time": "2023-07-22T10:32:59.363Z"
   },
   {
    "duration": 24,
    "start_time": "2023-07-22T10:32:59.523Z"
   },
   {
    "duration": 63,
    "start_time": "2023-07-22T10:32:59.689Z"
   },
   {
    "duration": 5,
    "start_time": "2023-07-22T10:32:59.873Z"
   },
   {
    "duration": 3,
    "start_time": "2023-07-22T10:33:00.141Z"
   },
   {
    "duration": 4,
    "start_time": "2023-07-22T10:33:00.368Z"
   },
   {
    "duration": 3,
    "start_time": "2023-07-22T10:33:00.582Z"
   },
   {
    "duration": 3,
    "start_time": "2023-07-22T10:33:00.790Z"
   },
   {
    "duration": 3,
    "start_time": "2023-07-22T10:33:01.144Z"
   },
   {
    "duration": 1420,
    "start_time": "2023-07-22T10:33:02.333Z"
   },
   {
    "duration": 0,
    "start_time": "2023-07-22T10:33:03.756Z"
   },
   {
    "duration": 1567,
    "start_time": "2023-07-22T10:39:57.215Z"
   },
   {
    "duration": 4,
    "start_time": "2023-07-22T10:40:03.562Z"
   },
   {
    "duration": 2,
    "start_time": "2023-07-22T10:40:03.923Z"
   },
   {
    "duration": 1358,
    "start_time": "2023-07-22T10:40:04.228Z"
   },
   {
    "duration": 783,
    "start_time": "2023-07-22T10:41:42.935Z"
   },
   {
    "duration": 1596,
    "start_time": "2023-07-22T10:42:05.539Z"
   },
   {
    "duration": 801,
    "start_time": "2023-07-22T10:42:07.137Z"
   },
   {
    "duration": 4,
    "start_time": "2023-07-22T10:42:07.940Z"
   },
   {
    "duration": 649,
    "start_time": "2023-07-22T10:42:07.947Z"
   },
   {
    "duration": 125,
    "start_time": "2023-07-22T10:42:08.598Z"
   },
   {
    "duration": 354,
    "start_time": "2023-07-22T10:42:08.725Z"
   },
   {
    "duration": 290,
    "start_time": "2023-07-22T10:42:09.081Z"
   },
   {
    "duration": 312,
    "start_time": "2023-07-22T10:42:09.373Z"
   },
   {
    "duration": 416,
    "start_time": "2023-07-22T10:42:09.686Z"
   },
   {
    "duration": 334,
    "start_time": "2023-07-22T10:42:10.106Z"
   },
   {
    "duration": 185,
    "start_time": "2023-07-22T10:42:10.441Z"
   },
   {
    "duration": 2,
    "start_time": "2023-07-22T10:42:10.628Z"
   },
   {
    "duration": 1930,
    "start_time": "2023-07-22T10:42:10.632Z"
   },
   {
    "duration": 5,
    "start_time": "2023-07-22T10:42:12.564Z"
   },
   {
    "duration": 8,
    "start_time": "2023-07-22T10:42:12.570Z"
   },
   {
    "duration": 1551,
    "start_time": "2023-07-22T10:42:12.580Z"
   },
   {
    "duration": 0,
    "start_time": "2023-07-22T10:42:14.133Z"
   },
   {
    "duration": 0,
    "start_time": "2023-07-22T10:42:14.135Z"
   },
   {
    "duration": 0,
    "start_time": "2023-07-22T10:42:14.136Z"
   },
   {
    "duration": 0,
    "start_time": "2023-07-22T10:42:14.138Z"
   },
   {
    "duration": 0,
    "start_time": "2023-07-22T10:42:14.139Z"
   },
   {
    "duration": 0,
    "start_time": "2023-07-22T10:42:14.141Z"
   },
   {
    "duration": 0,
    "start_time": "2023-07-22T10:42:14.142Z"
   },
   {
    "duration": 0,
    "start_time": "2023-07-22T10:42:14.144Z"
   },
   {
    "duration": 0,
    "start_time": "2023-07-22T10:42:14.145Z"
   },
   {
    "duration": 0,
    "start_time": "2023-07-22T10:42:14.146Z"
   },
   {
    "duration": 68,
    "start_time": "2023-07-22T10:42:56.878Z"
   },
   {
    "duration": 12,
    "start_time": "2023-07-22T10:48:13.095Z"
   },
   {
    "duration": 1247,
    "start_time": "2023-07-22T10:48:29.651Z"
   },
   {
    "duration": 1246,
    "start_time": "2023-07-22T10:48:41.346Z"
   },
   {
    "duration": 2,
    "start_time": "2023-07-22T10:48:49.140Z"
   },
   {
    "duration": 2,
    "start_time": "2023-07-22T10:48:49.353Z"
   },
   {
    "duration": 75,
    "start_time": "2023-07-22T10:48:49.563Z"
   },
   {
    "duration": 1214,
    "start_time": "2023-07-22T10:48:50.077Z"
   },
   {
    "duration": 3,
    "start_time": "2023-07-22T10:51:21.728Z"
   },
   {
    "duration": 5,
    "start_time": "2023-07-22T10:51:21.733Z"
   },
   {
    "duration": 74,
    "start_time": "2023-07-22T10:51:21.843Z"
   },
   {
    "duration": 67,
    "start_time": "2023-07-22T10:51:46.809Z"
   },
   {
    "duration": 1575,
    "start_time": "2023-07-22T10:52:00.787Z"
   },
   {
    "duration": 810,
    "start_time": "2023-07-22T10:52:02.364Z"
   },
   {
    "duration": 4,
    "start_time": "2023-07-22T10:52:03.176Z"
   },
   {
    "duration": 702,
    "start_time": "2023-07-22T10:52:03.182Z"
   },
   {
    "duration": 146,
    "start_time": "2023-07-22T10:52:03.886Z"
   },
   {
    "duration": 340,
    "start_time": "2023-07-22T10:52:04.033Z"
   },
   {
    "duration": 259,
    "start_time": "2023-07-22T10:52:04.375Z"
   },
   {
    "duration": 294,
    "start_time": "2023-07-22T10:52:04.636Z"
   },
   {
    "duration": 449,
    "start_time": "2023-07-22T10:52:04.932Z"
   },
   {
    "duration": 338,
    "start_time": "2023-07-22T10:52:05.384Z"
   },
   {
    "duration": 201,
    "start_time": "2023-07-22T10:52:05.724Z"
   },
   {
    "duration": 3,
    "start_time": "2023-07-22T10:52:05.927Z"
   },
   {
    "duration": 1957,
    "start_time": "2023-07-22T10:52:05.931Z"
   },
   {
    "duration": 3,
    "start_time": "2023-07-22T10:52:07.890Z"
   },
   {
    "duration": 5,
    "start_time": "2023-07-22T10:52:07.895Z"
   },
   {
    "duration": 66,
    "start_time": "2023-07-22T10:52:07.901Z"
   },
   {
    "duration": 0,
    "start_time": "2023-07-22T10:52:07.968Z"
   },
   {
    "duration": 0,
    "start_time": "2023-07-22T10:52:07.969Z"
   },
   {
    "duration": 0,
    "start_time": "2023-07-22T10:52:07.971Z"
   },
   {
    "duration": 0,
    "start_time": "2023-07-22T10:52:07.972Z"
   },
   {
    "duration": 0,
    "start_time": "2023-07-22T10:52:07.973Z"
   },
   {
    "duration": 0,
    "start_time": "2023-07-22T10:52:07.974Z"
   },
   {
    "duration": 0,
    "start_time": "2023-07-22T10:52:07.975Z"
   },
   {
    "duration": 0,
    "start_time": "2023-07-22T10:52:07.976Z"
   },
   {
    "duration": 0,
    "start_time": "2023-07-22T10:52:07.977Z"
   },
   {
    "duration": 0,
    "start_time": "2023-07-22T10:52:07.978Z"
   },
   {
    "duration": 70,
    "start_time": "2023-07-22T10:52:26.824Z"
   },
   {
    "duration": 73,
    "start_time": "2023-07-22T10:52:35.853Z"
   },
   {
    "duration": 68,
    "start_time": "2023-07-22T10:52:39.217Z"
   },
   {
    "duration": 116,
    "start_time": "2023-07-22T10:52:53.114Z"
   },
   {
    "duration": 4,
    "start_time": "2023-07-22T10:53:08.175Z"
   },
   {
    "duration": 27,
    "start_time": "2023-07-22T10:53:13.726Z"
   },
   {
    "duration": 165,
    "start_time": "2023-07-22T10:54:23.597Z"
   },
   {
    "duration": 33,
    "start_time": "2023-07-22T10:55:22.420Z"
   },
   {
    "duration": 26,
    "start_time": "2023-07-22T10:55:52.499Z"
   },
   {
    "duration": 46,
    "start_time": "2023-07-22T10:55:59.279Z"
   },
   {
    "duration": 35,
    "start_time": "2023-07-22T10:57:07.296Z"
   },
   {
    "duration": 120,
    "start_time": "2023-07-22T10:57:07.649Z"
   },
   {
    "duration": 3,
    "start_time": "2023-07-22T10:57:29.044Z"
   },
   {
    "duration": 1447,
    "start_time": "2023-07-22T10:57:38.921Z"
   },
   {
    "duration": 783,
    "start_time": "2023-07-22T10:57:40.370Z"
   },
   {
    "duration": 4,
    "start_time": "2023-07-22T10:57:41.154Z"
   },
   {
    "duration": 661,
    "start_time": "2023-07-22T10:57:41.159Z"
   },
   {
    "duration": 114,
    "start_time": "2023-07-22T10:57:41.822Z"
   },
   {
    "duration": 105,
    "start_time": "2023-07-22T10:57:41.937Z"
   },
   {
    "duration": 315,
    "start_time": "2023-07-22T10:57:42.044Z"
   },
   {
    "duration": 267,
    "start_time": "2023-07-22T10:57:42.367Z"
   },
   {
    "duration": 53,
    "start_time": "2023-07-22T10:57:42.636Z"
   },
   {
    "duration": 267,
    "start_time": "2023-07-22T10:57:42.691Z"
   },
   {
    "duration": 27,
    "start_time": "2023-07-22T10:57:42.968Z"
   },
   {
    "duration": 447,
    "start_time": "2023-07-22T10:57:42.997Z"
   },
   {
    "duration": 49,
    "start_time": "2023-07-22T10:57:43.446Z"
   },
   {
    "duration": 164,
    "start_time": "2023-07-22T10:57:43.498Z"
   },
   {
    "duration": 4,
    "start_time": "2023-07-22T10:57:43.664Z"
   },
   {
    "duration": 388,
    "start_time": "2023-07-22T10:57:43.669Z"
   },
   {
    "duration": 252,
    "start_time": "2023-07-22T10:57:44.059Z"
   },
   {
    "duration": 3,
    "start_time": "2023-07-22T10:57:44.312Z"
   },
   {
    "duration": 2034,
    "start_time": "2023-07-22T10:57:44.317Z"
   },
   {
    "duration": 3,
    "start_time": "2023-07-22T10:57:46.353Z"
   },
   {
    "duration": 27,
    "start_time": "2023-07-22T10:57:46.358Z"
   },
   {
    "duration": 488,
    "start_time": "2023-07-22T10:57:46.387Z"
   },
   {
    "duration": 605,
    "start_time": "2023-07-22T10:57:46.877Z"
   },
   {
    "duration": 192,
    "start_time": "2023-07-22T10:57:47.483Z"
   },
   {
    "duration": 279,
    "start_time": "2023-07-22T10:57:47.676Z"
   },
   {
    "duration": 11,
    "start_time": "2023-07-22T10:57:47.957Z"
   },
   {
    "duration": 33,
    "start_time": "2023-07-22T10:57:47.969Z"
   },
   {
    "duration": 38,
    "start_time": "2023-07-22T10:57:48.004Z"
   },
   {
    "duration": 39,
    "start_time": "2023-07-22T10:57:48.044Z"
   },
   {
    "duration": 40,
    "start_time": "2023-07-22T10:57:48.084Z"
   },
   {
    "duration": 31,
    "start_time": "2023-07-22T10:57:48.125Z"
   },
   {
    "duration": 28,
    "start_time": "2023-07-22T10:57:48.158Z"
   },
   {
    "duration": 110,
    "start_time": "2023-07-22T10:58:06.736Z"
   },
   {
    "duration": 1518,
    "start_time": "2023-07-22T10:58:11.786Z"
   },
   {
    "duration": 802,
    "start_time": "2023-07-22T10:58:13.306Z"
   },
   {
    "duration": 4,
    "start_time": "2023-07-22T10:58:14.110Z"
   },
   {
    "duration": 659,
    "start_time": "2023-07-22T10:58:14.115Z"
   },
   {
    "duration": 118,
    "start_time": "2023-07-22T10:58:14.776Z"
   },
   {
    "duration": 95,
    "start_time": "2023-07-22T10:58:14.896Z"
   },
   {
    "duration": 282,
    "start_time": "2023-07-22T10:58:14.992Z"
   },
   {
    "duration": 256,
    "start_time": "2023-07-22T10:58:15.276Z"
   },
   {
    "duration": 46,
    "start_time": "2023-07-22T10:58:15.533Z"
   },
   {
    "duration": 265,
    "start_time": "2023-07-22T10:58:15.581Z"
   },
   {
    "duration": 30,
    "start_time": "2023-07-22T10:58:15.848Z"
   },
   {
    "duration": 428,
    "start_time": "2023-07-22T10:58:15.880Z"
   },
   {
    "duration": 34,
    "start_time": "2023-07-22T10:58:16.310Z"
   },
   {
    "duration": 142,
    "start_time": "2023-07-22T10:58:16.347Z"
   },
   {
    "duration": 3,
    "start_time": "2023-07-22T10:58:16.491Z"
   },
   {
    "duration": 320,
    "start_time": "2023-07-22T10:58:16.495Z"
   },
   {
    "duration": 186,
    "start_time": "2023-07-22T10:58:16.817Z"
   },
   {
    "duration": 2,
    "start_time": "2023-07-22T10:58:17.005Z"
   },
   {
    "duration": 2046,
    "start_time": "2023-07-22T10:58:17.009Z"
   },
   {
    "duration": 3,
    "start_time": "2023-07-22T10:58:19.056Z"
   },
   {
    "duration": 4,
    "start_time": "2023-07-22T10:58:19.067Z"
   },
   {
    "duration": 518,
    "start_time": "2023-07-22T10:58:19.073Z"
   },
   {
    "duration": 624,
    "start_time": "2023-07-22T10:58:19.593Z"
   },
   {
    "duration": 193,
    "start_time": "2023-07-22T10:58:20.219Z"
   },
   {
    "duration": 296,
    "start_time": "2023-07-22T10:58:20.414Z"
   },
   {
    "duration": 3,
    "start_time": "2023-07-22T10:58:20.712Z"
   },
   {
    "duration": 20,
    "start_time": "2023-07-22T10:58:20.717Z"
   },
   {
    "duration": 18,
    "start_time": "2023-07-22T10:58:20.739Z"
   },
   {
    "duration": 7,
    "start_time": "2023-07-22T10:58:20.758Z"
   },
   {
    "duration": 12,
    "start_time": "2023-07-22T10:58:20.767Z"
   },
   {
    "duration": 10,
    "start_time": "2023-07-22T10:58:20.781Z"
   },
   {
    "duration": 10,
    "start_time": "2023-07-22T10:58:20.792Z"
   },
   {
    "duration": 172,
    "start_time": "2023-07-22T11:00:19.490Z"
   },
   {
    "duration": 4,
    "start_time": "2023-07-22T11:04:12.728Z"
   },
   {
    "duration": 4,
    "start_time": "2023-07-22T11:04:13.257Z"
   },
   {
    "duration": 10,
    "start_time": "2023-07-22T11:04:13.854Z"
   },
   {
    "duration": 4123,
    "start_time": "2023-07-22T11:19:30.676Z"
   },
   {
    "duration": 8469,
    "start_time": "2023-07-22T11:19:34.801Z"
   },
   {
    "duration": 100,
    "start_time": "2023-07-22T11:19:43.273Z"
   },
   {
    "duration": 8501,
    "start_time": "2023-07-22T11:19:43.472Z"
   },
   {
    "duration": 1999,
    "start_time": "2023-07-22T11:19:51.977Z"
   },
   {
    "duration": 2607,
    "start_time": "2023-07-22T11:19:53.979Z"
   },
   {
    "duration": 2682,
    "start_time": "2023-07-22T11:19:56.592Z"
   },
   {
    "duration": 2299,
    "start_time": "2023-07-22T11:19:59.278Z"
   },
   {
    "duration": 289,
    "start_time": "2023-07-22T11:20:01.580Z"
   },
   {
    "duration": 497,
    "start_time": "2023-07-22T11:20:01.871Z"
   },
   {
    "duration": 25,
    "start_time": "2023-07-22T11:20:02.371Z"
   },
   {
    "duration": 786,
    "start_time": "2023-07-22T11:20:02.398Z"
   },
   {
    "duration": 98,
    "start_time": "2023-07-22T11:20:03.187Z"
   },
   {
    "duration": 297,
    "start_time": "2023-07-22T11:20:03.288Z"
   },
   {
    "duration": 2,
    "start_time": "2023-07-22T11:20:03.588Z"
   },
   {
    "duration": 714,
    "start_time": "2023-07-22T11:20:03.592Z"
   },
   {
    "duration": 771,
    "start_time": "2023-07-22T11:20:04.308Z"
   },
   {
    "duration": 88,
    "start_time": "2023-07-22T11:20:05.082Z"
   },
   {
    "duration": 25190,
    "start_time": "2023-07-22T11:20:05.180Z"
   },
   {
    "duration": 3,
    "start_time": "2023-07-22T11:20:30.372Z"
   },
   {
    "duration": 42,
    "start_time": "2023-07-22T11:20:30.378Z"
   },
   {
    "duration": 986,
    "start_time": "2023-07-22T11:20:30.421Z"
   },
   {
    "duration": 4459,
    "start_time": "2023-07-22T11:20:31.409Z"
   },
   {
    "duration": 1499,
    "start_time": "2023-07-22T11:20:35.870Z"
   },
   {
    "duration": 3284,
    "start_time": "2023-07-22T11:20:37.384Z"
   },
   {
    "duration": 5,
    "start_time": "2023-07-22T11:20:40.674Z"
   },
   {
    "duration": 3895,
    "start_time": "2023-07-22T11:20:40.681Z"
   },
   {
    "duration": 90,
    "start_time": "2023-07-22T11:20:44.579Z"
   },
   {
    "duration": 92,
    "start_time": "2023-07-22T11:20:44.678Z"
   },
   {
    "duration": 93,
    "start_time": "2023-07-22T11:20:44.780Z"
   },
   {
    "duration": 86,
    "start_time": "2023-07-22T11:20:44.883Z"
   },
   {
    "duration": 4,
    "start_time": "2023-07-22T11:20:44.972Z"
   },
   {
    "duration": 90,
    "start_time": "2023-07-22T11:20:44.979Z"
   },
   {
    "duration": 106,
    "start_time": "2023-07-22T11:20:45.072Z"
   },
   {
    "duration": 192,
    "start_time": "2023-07-22T11:20:45.180Z"
   },
   {
    "duration": 203,
    "start_time": "2023-07-22T11:20:45.374Z"
   },
   {
    "duration": 98,
    "start_time": "2023-07-22T11:20:45.580Z"
   },
   {
    "duration": 2907,
    "start_time": "2023-07-22T11:20:45.770Z"
   },
   {
    "duration": 0,
    "start_time": "2023-07-22T11:20:48.769Z"
   },
   {
    "duration": 0,
    "start_time": "2023-07-22T11:20:48.770Z"
   },
   {
    "duration": 0,
    "start_time": "2023-07-22T11:20:48.771Z"
   },
   {
    "duration": 0,
    "start_time": "2023-07-22T11:20:48.772Z"
   },
   {
    "duration": 0,
    "start_time": "2023-07-22T11:20:48.773Z"
   },
   {
    "duration": 0,
    "start_time": "2023-07-22T11:20:48.776Z"
   },
   {
    "duration": 0,
    "start_time": "2023-07-22T11:20:48.777Z"
   },
   {
    "duration": 1,
    "start_time": "2023-07-22T11:20:48.778Z"
   },
   {
    "duration": 0,
    "start_time": "2023-07-22T11:20:48.780Z"
   },
   {
    "duration": 0,
    "start_time": "2023-07-22T11:20:48.780Z"
   },
   {
    "duration": 0,
    "start_time": "2023-07-22T11:20:48.781Z"
   },
   {
    "duration": 0,
    "start_time": "2023-07-22T11:20:48.782Z"
   },
   {
    "duration": 0,
    "start_time": "2023-07-22T11:20:48.782Z"
   },
   {
    "duration": 201,
    "start_time": "2023-07-22T11:21:17.372Z"
   },
   {
    "duration": 8,
    "start_time": "2023-07-22T11:21:27.068Z"
   },
   {
    "duration": 4,
    "start_time": "2023-07-22T11:21:27.670Z"
   },
   {
    "duration": 24,
    "start_time": "2023-07-22T11:21:28.374Z"
   },
   {
    "duration": 7,
    "start_time": "2023-07-22T11:21:36.670Z"
   },
   {
    "duration": 12606,
    "start_time": "2023-07-22T11:21:36.868Z"
   },
   {
    "duration": 93,
    "start_time": "2023-07-22T11:21:49.479Z"
   },
   {
    "duration": 9892,
    "start_time": "2023-07-22T11:21:49.580Z"
   },
   {
    "duration": 1505,
    "start_time": "2023-07-22T11:21:59.475Z"
   },
   {
    "duration": 995,
    "start_time": "2023-07-22T11:22:00.985Z"
   },
   {
    "duration": 2596,
    "start_time": "2023-07-22T11:22:01.983Z"
   },
   {
    "duration": 3306,
    "start_time": "2023-07-22T11:22:04.673Z"
   },
   {
    "duration": 312,
    "start_time": "2023-07-22T11:22:07.981Z"
   },
   {
    "duration": 500,
    "start_time": "2023-07-22T11:22:08.296Z"
   },
   {
    "duration": 74,
    "start_time": "2023-07-22T11:22:08.799Z"
   },
   {
    "duration": 603,
    "start_time": "2023-07-22T11:22:08.875Z"
   },
   {
    "duration": 104,
    "start_time": "2023-07-22T11:22:09.480Z"
   },
   {
    "duration": 487,
    "start_time": "2023-07-22T11:22:09.587Z"
   },
   {
    "duration": 3,
    "start_time": "2023-07-22T11:22:10.076Z"
   },
   {
    "duration": 720,
    "start_time": "2023-07-22T11:22:10.081Z"
   },
   {
    "duration": 400,
    "start_time": "2023-07-22T11:22:10.802Z"
   },
   {
    "duration": 3,
    "start_time": "2023-07-22T11:22:11.204Z"
   },
   {
    "duration": 21771,
    "start_time": "2023-07-22T11:22:11.209Z"
   },
   {
    "duration": 101,
    "start_time": "2023-07-22T11:22:32.983Z"
   },
   {
    "duration": 6,
    "start_time": "2023-07-22T11:22:33.087Z"
   },
   {
    "duration": 9278,
    "start_time": "2023-07-22T11:22:33.095Z"
   },
   {
    "duration": 4202,
    "start_time": "2023-07-22T11:22:42.376Z"
   },
   {
    "duration": 401,
    "start_time": "2023-07-22T11:22:46.580Z"
   },
   {
    "duration": 806,
    "start_time": "2023-07-22T11:22:46.983Z"
   },
   {
    "duration": 5,
    "start_time": "2023-07-22T11:22:47.791Z"
   },
   {
    "duration": 409,
    "start_time": "2023-07-22T11:22:47.799Z"
   },
   {
    "duration": 59,
    "start_time": "2023-07-22T11:22:48.209Z"
   },
   {
    "duration": 14,
    "start_time": "2023-07-22T11:22:48.271Z"
   },
   {
    "duration": 5,
    "start_time": "2023-07-22T11:22:48.287Z"
   },
   {
    "duration": 11,
    "start_time": "2023-07-22T11:22:48.295Z"
   },
   {
    "duration": 600960,
    "start_time": "2023-07-22T11:22:48.308Z"
   },
   {
    "duration": 0,
    "start_time": "2023-07-22T13:36:19.499Z"
   },
   {
    "duration": 2776,
    "start_time": "2023-07-22T13:36:22.834Z"
   },
   {
    "duration": 1694,
    "start_time": "2023-07-22T13:36:25.612Z"
   },
   {
    "duration": 4,
    "start_time": "2023-07-22T13:36:27.308Z"
   },
   {
    "duration": 1616,
    "start_time": "2023-07-22T13:36:27.368Z"
   },
   {
    "duration": 214,
    "start_time": "2023-07-22T13:36:28.985Z"
   },
   {
    "duration": 194,
    "start_time": "2023-07-22T13:36:29.200Z"
   },
   {
    "duration": 572,
    "start_time": "2023-07-22T13:36:29.396Z"
   },
   {
    "duration": 502,
    "start_time": "2023-07-22T13:36:29.969Z"
   },
   {
    "duration": 104,
    "start_time": "2023-07-22T13:36:30.472Z"
   },
   {
    "duration": 493,
    "start_time": "2023-07-22T13:36:30.578Z"
   },
   {
    "duration": 96,
    "start_time": "2023-07-22T13:36:31.073Z"
   },
   {
    "duration": 808,
    "start_time": "2023-07-22T13:36:31.171Z"
   },
   {
    "duration": 96,
    "start_time": "2023-07-22T13:36:31.981Z"
   },
   {
    "duration": 321,
    "start_time": "2023-07-22T13:36:32.079Z"
   },
   {
    "duration": 3,
    "start_time": "2023-07-22T13:36:32.402Z"
   },
   {
    "duration": 772,
    "start_time": "2023-07-22T13:36:32.406Z"
   },
   {
    "duration": 335,
    "start_time": "2023-07-22T13:36:33.179Z"
   },
   {
    "duration": 4,
    "start_time": "2023-07-22T13:36:33.568Z"
   },
   {
    "duration": 4095,
    "start_time": "2023-07-22T13:36:33.575Z"
   },
   {
    "duration": 4,
    "start_time": "2023-07-22T13:36:37.672Z"
   },
   {
    "duration": 16,
    "start_time": "2023-07-22T13:36:37.677Z"
   },
   {
    "duration": 1199,
    "start_time": "2023-07-22T13:36:37.695Z"
   },
   {
    "duration": 1779,
    "start_time": "2023-07-22T13:36:38.895Z"
   },
   {
    "duration": 404,
    "start_time": "2023-07-22T13:36:40.675Z"
   },
   {
    "duration": 530,
    "start_time": "2023-07-22T13:36:41.081Z"
   },
   {
    "duration": 4,
    "start_time": "2023-07-22T13:36:41.667Z"
   },
   {
    "duration": 394,
    "start_time": "2023-07-22T13:36:41.674Z"
   },
   {
    "duration": 2,
    "start_time": "2023-07-22T13:36:42.072Z"
   },
   {
    "duration": 5,
    "start_time": "2023-07-22T13:36:42.076Z"
   },
   {
    "duration": 4,
    "start_time": "2023-07-22T13:36:42.083Z"
   },
   {
    "duration": 22,
    "start_time": "2023-07-22T13:36:42.088Z"
   },
   {
    "duration": 6,
    "start_time": "2023-07-22T13:36:42.112Z"
   },
   {
    "duration": 3,
    "start_time": "2023-07-22T13:36:42.169Z"
   },
   {
    "duration": 5,
    "start_time": "2023-07-22T13:36:42.173Z"
   },
   {
    "duration": 7,
    "start_time": "2023-07-22T13:36:42.179Z"
   },
   {
    "duration": 8,
    "start_time": "2023-07-22T13:36:42.187Z"
   },
   {
    "duration": 2831,
    "start_time": "2023-07-22T14:08:13.456Z"
   },
   {
    "duration": 1897,
    "start_time": "2023-07-22T14:08:16.289Z"
   },
   {
    "duration": 4,
    "start_time": "2023-07-22T14:08:18.188Z"
   },
   {
    "duration": 1379,
    "start_time": "2023-07-22T14:08:18.194Z"
   },
   {
    "duration": 200,
    "start_time": "2023-07-22T14:08:19.575Z"
   },
   {
    "duration": 204,
    "start_time": "2023-07-22T14:08:19.777Z"
   },
   {
    "duration": 507,
    "start_time": "2023-07-22T14:08:19.982Z"
   },
   {
    "duration": 411,
    "start_time": "2023-07-22T14:08:20.491Z"
   },
   {
    "duration": 86,
    "start_time": "2023-07-22T14:08:20.904Z"
   },
   {
    "duration": 420,
    "start_time": "2023-07-22T14:08:20.992Z"
   },
   {
    "duration": 26,
    "start_time": "2023-07-22T14:08:21.469Z"
   },
   {
    "duration": 888,
    "start_time": "2023-07-22T14:08:21.497Z"
   },
   {
    "duration": 91,
    "start_time": "2023-07-22T14:08:22.387Z"
   },
   {
    "duration": 288,
    "start_time": "2023-07-22T14:08:22.480Z"
   },
   {
    "duration": 3,
    "start_time": "2023-07-22T14:08:22.770Z"
   },
   {
    "duration": 635,
    "start_time": "2023-07-22T14:08:22.775Z"
   },
   {
    "duration": 393,
    "start_time": "2023-07-22T14:08:23.412Z"
   },
   {
    "duration": 62,
    "start_time": "2023-07-22T14:08:23.807Z"
   },
   {
    "duration": 4020,
    "start_time": "2023-07-22T14:08:23.871Z"
   },
   {
    "duration": 3,
    "start_time": "2023-07-22T14:08:27.893Z"
   },
   {
    "duration": 116,
    "start_time": "2023-07-22T14:08:27.899Z"
   },
   {
    "duration": 1071,
    "start_time": "2023-07-22T14:08:28.017Z"
   },
   {
    "duration": 1894,
    "start_time": "2023-07-22T14:08:29.090Z"
   },
   {
    "duration": 402,
    "start_time": "2023-07-22T14:08:30.986Z"
   },
   {
    "duration": 583,
    "start_time": "2023-07-22T14:08:31.390Z"
   },
   {
    "duration": 3,
    "start_time": "2023-07-22T14:08:31.975Z"
   },
   {
    "duration": 499,
    "start_time": "2023-07-22T14:08:31.980Z"
   },
   {
    "duration": 3,
    "start_time": "2023-07-22T14:08:32.482Z"
   },
   {
    "duration": 3,
    "start_time": "2023-07-22T14:08:32.487Z"
   },
   {
    "duration": 8,
    "start_time": "2023-07-22T14:08:32.492Z"
   },
   {
    "duration": 67,
    "start_time": "2023-07-22T14:08:32.502Z"
   },
   {
    "duration": 14,
    "start_time": "2023-07-22T14:08:32.571Z"
   },
   {
    "duration": 21,
    "start_time": "2023-07-22T14:08:32.587Z"
   },
   {
    "duration": 17,
    "start_time": "2023-07-22T14:08:32.610Z"
   },
   {
    "duration": 39,
    "start_time": "2023-07-22T14:08:32.629Z"
   },
   {
    "duration": 8,
    "start_time": "2023-07-22T14:08:32.799Z"
   },
   {
    "duration": 121482,
    "start_time": "2023-07-22T14:08:37.186Z"
   },
   {
    "duration": 14,
    "start_time": "2023-07-22T14:10:38.670Z"
   },
   {
    "duration": 15,
    "start_time": "2023-07-22T14:10:38.686Z"
   },
   {
    "duration": 7209,
    "start_time": "2023-07-22T14:10:38.703Z"
   },
   {
    "duration": 0,
    "start_time": "2023-07-22T14:10:45.914Z"
   },
   {
    "duration": 0,
    "start_time": "2023-07-22T14:10:45.916Z"
   },
   {
    "duration": 1,
    "start_time": "2023-07-22T14:10:45.916Z"
   },
   {
    "duration": 0,
    "start_time": "2023-07-22T14:10:45.917Z"
   },
   {
    "duration": 0,
    "start_time": "2023-07-22T14:10:45.968Z"
   },
   {
    "duration": 0,
    "start_time": "2023-07-22T14:10:45.970Z"
   },
   {
    "duration": 0,
    "start_time": "2023-07-22T14:10:45.971Z"
   },
   {
    "duration": 0,
    "start_time": "2023-07-22T14:10:45.973Z"
   },
   {
    "duration": 1785,
    "start_time": "2023-07-23T05:54:46.962Z"
   },
   {
    "duration": 2762,
    "start_time": "2023-07-23T05:54:48.749Z"
   },
   {
    "duration": 3,
    "start_time": "2023-07-23T05:54:51.513Z"
   },
   {
    "duration": 666,
    "start_time": "2023-07-23T05:54:51.518Z"
   },
   {
    "duration": 116,
    "start_time": "2023-07-23T05:54:52.185Z"
   },
   {
    "duration": 93,
    "start_time": "2023-07-23T05:54:52.303Z"
   },
   {
    "duration": 360,
    "start_time": "2023-07-23T05:54:52.398Z"
   },
   {
    "duration": 269,
    "start_time": "2023-07-23T05:54:52.760Z"
   },
   {
    "duration": 46,
    "start_time": "2023-07-23T05:54:53.030Z"
   },
   {
    "duration": 272,
    "start_time": "2023-07-23T05:54:53.078Z"
   },
   {
    "duration": 35,
    "start_time": "2023-07-23T05:54:53.352Z"
   },
   {
    "duration": 455,
    "start_time": "2023-07-23T05:54:53.388Z"
   },
   {
    "duration": 42,
    "start_time": "2023-07-23T05:54:53.844Z"
   },
   {
    "duration": 185,
    "start_time": "2023-07-23T05:54:53.888Z"
   },
   {
    "duration": 3,
    "start_time": "2023-07-23T05:54:54.075Z"
   },
   {
    "duration": 336,
    "start_time": "2023-07-23T05:54:54.079Z"
   },
   {
    "duration": 187,
    "start_time": "2023-07-23T05:54:54.417Z"
   },
   {
    "duration": 3,
    "start_time": "2023-07-23T05:54:54.606Z"
   },
   {
    "duration": 2004,
    "start_time": "2023-07-23T05:54:54.610Z"
   },
   {
    "duration": 3,
    "start_time": "2023-07-23T05:54:56.616Z"
   },
   {
    "duration": 8,
    "start_time": "2023-07-23T05:54:56.620Z"
   },
   {
    "duration": 520,
    "start_time": "2023-07-23T05:54:57.307Z"
   },
   {
    "duration": 640,
    "start_time": "2023-07-23T05:54:57.829Z"
   },
   {
    "duration": 197,
    "start_time": "2023-07-23T05:54:58.471Z"
   },
   {
    "duration": 277,
    "start_time": "2023-07-23T05:55:02.116Z"
   },
   {
    "duration": 4,
    "start_time": "2023-07-23T05:55:02.395Z"
   },
   {
    "duration": 188,
    "start_time": "2023-07-23T05:55:03.003Z"
   },
   {
    "duration": 3,
    "start_time": "2023-07-23T05:55:06.318Z"
   },
   {
    "duration": 3,
    "start_time": "2023-07-23T05:55:06.759Z"
   },
   {
    "duration": 7,
    "start_time": "2023-07-23T05:55:08.108Z"
   },
   {
    "duration": 56426,
    "start_time": "2023-07-23T05:55:11.149Z"
   },
   {
    "duration": 3,
    "start_time": "2023-07-23T05:56:07.578Z"
   },
   {
    "duration": 3488,
    "start_time": "2023-07-23T05:56:07.582Z"
   },
   {
    "duration": 0,
    "start_time": "2023-07-23T05:56:11.071Z"
   },
   {
    "duration": 3,
    "start_time": "2023-07-23T05:56:20.238Z"
   },
   {
    "duration": 9,
    "start_time": "2023-07-23T05:56:20.631Z"
   },
   {
    "duration": 3,
    "start_time": "2023-07-23T05:56:30.081Z"
   },
   {
    "duration": 1510,
    "start_time": "2023-07-23T06:02:14.918Z"
   },
   {
    "duration": 767,
    "start_time": "2023-07-23T06:02:16.429Z"
   },
   {
    "duration": 3,
    "start_time": "2023-07-23T06:02:17.197Z"
   },
   {
    "duration": 651,
    "start_time": "2023-07-23T06:02:17.202Z"
   },
   {
    "duration": 114,
    "start_time": "2023-07-23T06:02:17.855Z"
   },
   {
    "duration": 98,
    "start_time": "2023-07-23T06:02:17.970Z"
   },
   {
    "duration": 293,
    "start_time": "2023-07-23T06:02:18.069Z"
   },
   {
    "duration": 257,
    "start_time": "2023-07-23T06:02:18.367Z"
   },
   {
    "duration": 43,
    "start_time": "2023-07-23T06:02:18.626Z"
   },
   {
    "duration": 284,
    "start_time": "2023-07-23T06:02:18.671Z"
   },
   {
    "duration": 33,
    "start_time": "2023-07-23T06:02:18.956Z"
   },
   {
    "duration": 416,
    "start_time": "2023-07-23T06:02:18.991Z"
   },
   {
    "duration": 1560,
    "start_time": "2023-07-23T06:02:26.074Z"
   },
   {
    "duration": 792,
    "start_time": "2023-07-23T06:02:27.636Z"
   },
   {
    "duration": 4,
    "start_time": "2023-07-23T06:02:28.429Z"
   },
   {
    "duration": 646,
    "start_time": "2023-07-23T06:02:28.434Z"
   },
   {
    "duration": 115,
    "start_time": "2023-07-23T06:02:29.081Z"
   },
   {
    "duration": 98,
    "start_time": "2023-07-23T06:02:29.197Z"
   },
   {
    "duration": 279,
    "start_time": "2023-07-23T06:02:29.296Z"
   },
   {
    "duration": 256,
    "start_time": "2023-07-23T06:02:29.576Z"
   },
   {
    "duration": 42,
    "start_time": "2023-07-23T06:02:29.833Z"
   },
   {
    "duration": 261,
    "start_time": "2023-07-23T06:02:29.877Z"
   },
   {
    "duration": 38,
    "start_time": "2023-07-23T06:02:30.139Z"
   },
   {
    "duration": 425,
    "start_time": "2023-07-23T06:02:30.179Z"
   },
   {
    "duration": 39,
    "start_time": "2023-07-23T06:02:30.606Z"
   },
   {
    "duration": 156,
    "start_time": "2023-07-23T06:02:30.647Z"
   },
   {
    "duration": 3,
    "start_time": "2023-07-23T06:02:30.805Z"
   },
   {
    "duration": 369,
    "start_time": "2023-07-23T06:02:30.809Z"
   },
   {
    "duration": 188,
    "start_time": "2023-07-23T06:02:31.180Z"
   },
   {
    "duration": 3,
    "start_time": "2023-07-23T06:02:34.645Z"
   },
   {
    "duration": 1883,
    "start_time": "2023-07-23T06:02:34.873Z"
   },
   {
    "duration": 3,
    "start_time": "2023-07-23T06:02:37.785Z"
   },
   {
    "duration": 3,
    "start_time": "2023-07-23T06:02:39.092Z"
   },
   {
    "duration": 462,
    "start_time": "2023-07-23T06:02:42.417Z"
   },
   {
    "duration": 610,
    "start_time": "2023-07-23T06:02:44.257Z"
   },
   {
    "duration": 191,
    "start_time": "2023-07-23T06:02:46.441Z"
   },
   {
    "duration": 284,
    "start_time": "2023-07-23T06:02:46.880Z"
   },
   {
    "duration": 3,
    "start_time": "2023-07-23T06:02:49.110Z"
   },
   {
    "duration": 3,
    "start_time": "2023-07-23T06:02:52.403Z"
   },
   {
    "duration": 4,
    "start_time": "2023-07-23T06:02:52.806Z"
   },
   {
    "duration": 8,
    "start_time": "2023-07-23T06:02:54.322Z"
   },
   {
    "duration": 56576,
    "start_time": "2023-07-23T06:02:57.180Z"
   },
   {
    "duration": 11,
    "start_time": "2023-07-23T06:03:53.757Z"
   },
   {
    "duration": 13,
    "start_time": "2023-07-23T06:03:53.770Z"
   },
   {
    "duration": 16,
    "start_time": "2023-07-23T06:04:03.553Z"
   },
   {
    "duration": 3,
    "start_time": "2023-07-23T06:04:31.164Z"
   },
   {
    "duration": 4738,
    "start_time": "2023-07-23T06:04:31.670Z"
   },
   {
    "duration": 3,
    "start_time": "2023-07-23T06:04:48.539Z"
   },
   {
    "duration": 1774,
    "start_time": "2023-07-27T09:57:33.327Z"
   },
   {
    "duration": 2843,
    "start_time": "2023-07-27T09:57:35.104Z"
   },
   {
    "duration": 3,
    "start_time": "2023-07-27T09:57:37.948Z"
   },
   {
    "duration": 600,
    "start_time": "2023-07-27T09:57:37.953Z"
   },
   {
    "duration": 98,
    "start_time": "2023-07-27T09:57:38.555Z"
   },
   {
    "duration": 101,
    "start_time": "2023-07-27T09:57:38.655Z"
   },
   {
    "duration": 355,
    "start_time": "2023-07-27T09:57:38.758Z"
   },
   {
    "duration": 262,
    "start_time": "2023-07-27T09:57:39.115Z"
   },
   {
    "duration": 34,
    "start_time": "2023-07-27T09:57:39.379Z"
   },
   {
    "duration": 274,
    "start_time": "2023-07-27T09:57:39.416Z"
   },
   {
    "duration": 19,
    "start_time": "2023-07-27T09:57:39.691Z"
   },
   {
    "duration": 422,
    "start_time": "2023-07-27T09:57:39.712Z"
   },
   {
    "duration": 40,
    "start_time": "2023-07-27T09:57:40.135Z"
   },
   {
    "duration": 200,
    "start_time": "2023-07-27T09:57:40.177Z"
   },
   {
    "duration": 4,
    "start_time": "2023-07-27T09:57:40.379Z"
   },
   {
    "duration": 343,
    "start_time": "2023-07-27T09:57:40.385Z"
   },
   {
    "duration": 186,
    "start_time": "2023-07-27T09:57:40.730Z"
   },
   {
    "duration": 4,
    "start_time": "2023-07-27T09:57:40.917Z"
   },
   {
    "duration": 2083,
    "start_time": "2023-07-27T09:57:40.922Z"
   },
   {
    "duration": 2,
    "start_time": "2023-07-27T09:57:43.007Z"
   },
   {
    "duration": 20,
    "start_time": "2023-07-27T09:57:43.011Z"
   },
   {
    "duration": 458,
    "start_time": "2023-07-27T09:57:43.032Z"
   },
   {
    "duration": 652,
    "start_time": "2023-07-27T09:57:43.492Z"
   },
   {
    "duration": 203,
    "start_time": "2023-07-27T09:57:44.146Z"
   },
   {
    "duration": 292,
    "start_time": "2023-07-27T09:57:44.351Z"
   },
   {
    "duration": 4,
    "start_time": "2023-07-27T09:57:44.644Z"
   },
   {
    "duration": 192,
    "start_time": "2023-07-27T09:57:44.650Z"
   },
   {
    "duration": 3,
    "start_time": "2023-07-27T09:57:44.846Z"
   },
   {
    "duration": 10,
    "start_time": "2023-07-27T09:57:44.850Z"
   },
   {
    "duration": 6,
    "start_time": "2023-07-27T09:57:44.862Z"
   },
   {
    "duration": 25,
    "start_time": "2023-07-27T09:57:44.870Z"
   },
   {
    "duration": 7,
    "start_time": "2023-07-27T09:57:44.897Z"
   },
   {
    "duration": 18,
    "start_time": "2023-07-27T09:57:44.906Z"
   },
   {
    "duration": 32,
    "start_time": "2023-07-27T09:57:44.926Z"
   },
   {
    "duration": 17,
    "start_time": "2023-07-27T09:57:44.960Z"
   },
   {
    "duration": 14,
    "start_time": "2023-07-27T09:57:44.979Z"
   },
   {
    "duration": 1799985,
    "start_time": "2023-07-27T09:57:44.995Z"
   },
   {
    "duration": 75203,
    "start_time": "2023-07-27T10:27:44.985Z"
   },
   {
    "duration": 15017735,
    "start_time": "2023-07-27T10:29:00.189Z"
   },
   {
    "duration": 10,
    "start_time": "2023-07-27T14:39:17.926Z"
   },
   {
    "duration": 18,
    "start_time": "2023-07-27T14:39:17.937Z"
   },
   {
    "duration": 3635,
    "start_time": "2023-07-27T14:39:17.957Z"
   },
   {
    "duration": 0,
    "start_time": "2023-07-27T14:39:21.594Z"
   },
   {
    "duration": 0,
    "start_time": "2023-07-27T14:39:21.595Z"
   },
   {
    "duration": 0,
    "start_time": "2023-07-27T14:39:21.596Z"
   },
   {
    "duration": 0,
    "start_time": "2023-07-27T14:39:21.597Z"
   },
   {
    "duration": 0,
    "start_time": "2023-07-27T14:39:21.598Z"
   },
   {
    "duration": 0,
    "start_time": "2023-07-27T14:39:21.599Z"
   },
   {
    "duration": 0,
    "start_time": "2023-07-27T14:39:21.600Z"
   },
   {
    "duration": 0,
    "start_time": "2023-07-27T14:39:21.601Z"
   },
   {
    "duration": 3,
    "start_time": "2023-07-27T14:40:12.199Z"
   },
   {
    "duration": 1638,
    "start_time": "2023-07-27T22:58:53.700Z"
   },
   {
    "duration": 2875,
    "start_time": "2023-07-27T22:58:55.340Z"
   },
   {
    "duration": 4,
    "start_time": "2023-07-27T22:58:58.216Z"
   },
   {
    "duration": 638,
    "start_time": "2023-07-27T22:58:58.222Z"
   },
   {
    "duration": 105,
    "start_time": "2023-07-27T22:58:58.862Z"
   },
   {
    "duration": 108,
    "start_time": "2023-07-27T22:58:58.969Z"
   },
   {
    "duration": 371,
    "start_time": "2023-07-27T22:58:59.078Z"
   },
   {
    "duration": 270,
    "start_time": "2023-07-27T22:58:59.450Z"
   },
   {
    "duration": 33,
    "start_time": "2023-07-27T22:58:59.722Z"
   },
   {
    "duration": 283,
    "start_time": "2023-07-27T22:58:59.758Z"
   },
   {
    "duration": 41,
    "start_time": "2023-07-27T22:59:00.043Z"
   },
   {
    "duration": 464,
    "start_time": "2023-07-27T22:59:00.086Z"
   },
   {
    "duration": 38,
    "start_time": "2023-07-27T22:59:00.551Z"
   },
   {
    "duration": 143,
    "start_time": "2023-07-27T22:59:00.591Z"
   },
   {
    "duration": 3,
    "start_time": "2023-07-27T22:59:00.735Z"
   },
   {
    "duration": 408,
    "start_time": "2023-07-27T22:59:00.739Z"
   },
   {
    "duration": 193,
    "start_time": "2023-07-27T22:59:01.149Z"
   },
   {
    "duration": 3,
    "start_time": "2023-07-27T22:59:01.343Z"
   },
   {
    "duration": 1999,
    "start_time": "2023-07-27T22:59:01.348Z"
   },
   {
    "duration": 3,
    "start_time": "2023-07-27T22:59:03.348Z"
   },
   {
    "duration": 15,
    "start_time": "2023-07-27T22:59:03.352Z"
   },
   {
    "duration": 475,
    "start_time": "2023-07-27T22:59:03.368Z"
   },
   {
    "duration": 515,
    "start_time": "2023-07-27T22:59:03.844Z"
   },
   {
    "duration": 193,
    "start_time": "2023-07-27T22:59:04.361Z"
   },
   {
    "duration": 278,
    "start_time": "2023-07-27T22:59:04.556Z"
   },
   {
    "duration": 4,
    "start_time": "2023-07-27T22:59:04.836Z"
   },
   {
    "duration": 200,
    "start_time": "2023-07-27T22:59:04.842Z"
   },
   {
    "duration": 2,
    "start_time": "2023-07-27T22:59:05.045Z"
   },
   {
    "duration": 10,
    "start_time": "2023-07-27T22:59:05.049Z"
   },
   {
    "duration": 19,
    "start_time": "2023-07-27T22:59:05.060Z"
   },
   {
    "duration": 11,
    "start_time": "2023-07-27T22:59:05.080Z"
   },
   {
    "duration": 8,
    "start_time": "2023-07-27T22:59:05.092Z"
   },
   {
    "duration": 8,
    "start_time": "2023-07-27T22:59:05.102Z"
   },
   {
    "duration": 14,
    "start_time": "2023-07-27T22:59:05.111Z"
   },
   {
    "duration": 25,
    "start_time": "2023-07-27T22:59:05.126Z"
   },
   {
    "duration": 43,
    "start_time": "2023-07-27T22:59:05.152Z"
   },
   {
    "duration": 1483789,
    "start_time": "2023-07-27T22:59:05.196Z"
   },
   {
    "duration": 72869,
    "start_time": "2023-07-27T23:23:49.078Z"
   },
   {
    "duration": 14014358,
    "start_time": "2023-07-27T23:25:01.949Z"
   },
   {
    "duration": 10,
    "start_time": "2023-07-28T03:18:36.309Z"
   },
   {
    "duration": 27,
    "start_time": "2023-07-28T03:18:36.320Z"
   },
   {
    "duration": 1902,
    "start_time": "2023-07-29T01:33:04.927Z"
   },
   {
    "duration": 1160,
    "start_time": "2023-07-29T01:33:06.831Z"
   },
   {
    "duration": 5,
    "start_time": "2023-07-29T01:33:07.995Z"
   },
   {
    "duration": 708,
    "start_time": "2023-07-29T01:33:08.003Z"
   },
   {
    "duration": 127,
    "start_time": "2023-07-29T01:33:08.713Z"
   },
   {
    "duration": 123,
    "start_time": "2023-07-29T01:33:08.842Z"
   },
   {
    "duration": 388,
    "start_time": "2023-07-29T01:33:08.967Z"
   },
   {
    "duration": 318,
    "start_time": "2023-07-29T01:33:09.357Z"
   },
   {
    "duration": 52,
    "start_time": "2023-07-29T01:33:09.677Z"
   },
   {
    "duration": 355,
    "start_time": "2023-07-29T01:33:09.732Z"
   },
   {
    "duration": 28,
    "start_time": "2023-07-29T01:33:10.090Z"
   },
   {
    "duration": 489,
    "start_time": "2023-07-29T01:33:10.121Z"
   },
   {
    "duration": 36,
    "start_time": "2023-07-29T01:33:10.612Z"
   },
   {
    "duration": 186,
    "start_time": "2023-07-29T01:33:10.650Z"
   },
   {
    "duration": 3,
    "start_time": "2023-07-29T01:33:10.838Z"
   },
   {
    "duration": 387,
    "start_time": "2023-07-29T01:33:10.842Z"
   },
   {
    "duration": 229,
    "start_time": "2023-07-29T01:33:11.232Z"
   },
   {
    "duration": 3,
    "start_time": "2023-07-29T01:33:11.462Z"
   },
   {
    "duration": 2129,
    "start_time": "2023-07-29T01:33:11.467Z"
   },
   {
    "duration": 3,
    "start_time": "2023-07-29T01:33:13.598Z"
   },
   {
    "duration": 12,
    "start_time": "2023-07-29T01:33:13.603Z"
   },
   {
    "duration": 586,
    "start_time": "2023-07-29T01:33:13.617Z"
   },
   {
    "duration": 715,
    "start_time": "2023-07-29T01:33:14.206Z"
   },
   {
    "duration": 209,
    "start_time": "2023-07-29T01:33:14.923Z"
   },
   {
    "duration": 327,
    "start_time": "2023-07-29T01:33:15.133Z"
   },
   {
    "duration": 3,
    "start_time": "2023-07-29T01:33:15.461Z"
   },
   {
    "duration": 210,
    "start_time": "2023-07-29T01:33:15.466Z"
   },
   {
    "duration": 8,
    "start_time": "2023-07-29T01:33:15.680Z"
   },
   {
    "duration": 8,
    "start_time": "2023-07-29T01:33:15.691Z"
   },
   {
    "duration": 5,
    "start_time": "2023-07-29T01:33:15.701Z"
   },
   {
    "duration": 4,
    "start_time": "2023-07-29T01:33:15.708Z"
   },
   {
    "duration": 4,
    "start_time": "2023-07-29T01:33:15.714Z"
   },
   {
    "duration": 6,
    "start_time": "2023-07-29T01:33:15.719Z"
   },
   {
    "duration": 5,
    "start_time": "2023-07-29T01:33:15.726Z"
   },
   {
    "duration": 6,
    "start_time": "2023-07-29T01:33:15.732Z"
   },
   {
    "duration": 8,
    "start_time": "2023-07-29T01:33:15.739Z"
   },
   {
    "duration": 2705938,
    "start_time": "2023-07-29T01:33:15.749Z"
   },
   {
    "duration": 75581,
    "start_time": "2023-07-29T02:18:21.689Z"
   },
   {
    "duration": 14908576,
    "start_time": "2023-07-29T02:19:37.271Z"
   },
   {
    "duration": 13,
    "start_time": "2023-07-29T06:28:05.849Z"
   },
   {
    "duration": 39,
    "start_time": "2023-07-29T06:28:05.864Z"
   },
   {
    "duration": 72311132,
    "start_time": "2023-07-29T06:28:05.905Z"
   },
   {
    "duration": 17,
    "start_time": "2023-07-30T02:33:17.092Z"
   },
   {
    "duration": 18,
    "start_time": "2023-07-30T02:33:17.111Z"
   },
   {
    "duration": 1009,
    "start_time": "2023-07-30T02:33:17.130Z"
   },
   {
    "duration": 11,
    "start_time": "2023-07-30T02:33:18.141Z"
   },
   {
    "duration": 13,
    "start_time": "2023-07-30T02:33:18.153Z"
   },
   {
    "duration": 2,
    "start_time": "2023-07-30T03:11:12.665Z"
   },
   {
    "duration": 891,
    "start_time": "2023-07-30T03:11:13.212Z"
   },
   {
    "duration": 16,
    "start_time": "2023-07-30T03:19:55.331Z"
   },
   {
    "duration": 5,
    "start_time": "2023-07-30T03:25:16.936Z"
   },
   {
    "duration": 894,
    "start_time": "2023-07-30T03:25:17.120Z"
   },
   {
    "duration": 5,
    "start_time": "2023-07-30T03:25:18.022Z"
   },
   {
    "duration": 796,
    "start_time": "2023-07-30T03:25:18.029Z"
   },
   {
    "duration": 128,
    "start_time": "2023-07-30T03:25:18.828Z"
   },
   {
    "duration": 122,
    "start_time": "2023-07-30T03:25:18.958Z"
   },
   {
    "duration": 29,
    "start_time": "2023-07-30T03:25:19.082Z"
   },
   {
    "duration": 413,
    "start_time": "2023-07-30T03:25:19.112Z"
   },
   {
    "duration": 296,
    "start_time": "2023-07-30T03:25:19.528Z"
   },
   {
    "duration": 41,
    "start_time": "2023-07-30T03:25:19.825Z"
   },
   {
    "duration": 342,
    "start_time": "2023-07-30T03:25:19.867Z"
   },
   {
    "duration": 24,
    "start_time": "2023-07-30T03:25:20.214Z"
   },
   {
    "duration": 432,
    "start_time": "2023-07-30T03:25:20.240Z"
   },
   {
    "duration": 49,
    "start_time": "2023-07-30T03:25:20.675Z"
   },
   {
    "duration": 214,
    "start_time": "2023-07-30T03:25:20.729Z"
   },
   {
    "duration": 4,
    "start_time": "2023-07-30T03:25:20.946Z"
   },
   {
    "duration": 476,
    "start_time": "2023-07-30T03:25:20.952Z"
   },
   {
    "duration": 249,
    "start_time": "2023-07-30T03:25:21.429Z"
   },
   {
    "duration": 14,
    "start_time": "2023-07-30T03:25:21.681Z"
   },
   {
    "duration": 2532,
    "start_time": "2023-07-30T03:25:21.822Z"
   },
   {
    "duration": 3,
    "start_time": "2023-07-30T03:25:24.356Z"
   },
   {
    "duration": 4,
    "start_time": "2023-07-30T03:25:24.564Z"
   },
   {
    "duration": 612,
    "start_time": "2023-07-30T03:25:26.966Z"
   },
   {
    "duration": 744,
    "start_time": "2023-07-30T03:25:40.949Z"
   },
   {
    "duration": 222,
    "start_time": "2023-07-30T03:25:52.044Z"
   },
   {
    "duration": 773,
    "start_time": "2023-07-30T03:25:53.182Z"
   },
   {
    "duration": 201,
    "start_time": "2023-07-30T03:25:57.161Z"
   },
   {
    "duration": 328,
    "start_time": "2023-07-30T03:25:57.549Z"
   },
   {
    "duration": 3,
    "start_time": "2023-07-30T03:25:57.968Z"
   },
   {
    "duration": 259,
    "start_time": "2023-07-30T03:25:58.566Z"
   },
   {
    "duration": 3,
    "start_time": "2023-07-30T03:25:58.983Z"
   },
   {
    "duration": 3,
    "start_time": "2023-07-30T03:26:09.122Z"
   },
   {
    "duration": 921,
    "start_time": "2023-07-30T03:26:09.413Z"
   },
   {
    "duration": 4,
    "start_time": "2023-07-30T03:26:20.310Z"
   },
   {
    "duration": 7,
    "start_time": "2023-07-30T03:26:20.512Z"
   },
   {
    "duration": 8,
    "start_time": "2023-07-30T03:26:20.826Z"
   },
   {
    "duration": 1131,
    "start_time": "2023-07-30T03:26:36.439Z"
   },
   {
    "duration": 59,
    "start_time": "2023-07-30T13:45:43.243Z"
   },
   {
    "duration": 2607,
    "start_time": "2023-07-30T13:45:49.690Z"
   },
   {
    "duration": 3255,
    "start_time": "2023-07-30T13:45:52.299Z"
   },
   {
    "duration": 4,
    "start_time": "2023-07-30T13:45:55.556Z"
   },
   {
    "duration": 795,
    "start_time": "2023-07-30T13:45:55.562Z"
   },
   {
    "duration": 138,
    "start_time": "2023-07-30T13:45:56.359Z"
   },
   {
    "duration": 109,
    "start_time": "2023-07-30T13:45:56.499Z"
   },
   {
    "duration": 12,
    "start_time": "2023-07-30T13:45:56.610Z"
   },
   {
    "duration": 408,
    "start_time": "2023-07-30T13:45:56.623Z"
   },
   {
    "duration": 393,
    "start_time": "2023-07-30T13:45:57.033Z"
   },
   {
    "duration": 38,
    "start_time": "2023-07-30T13:45:57.427Z"
   },
   {
    "duration": 92,
    "start_time": "2023-07-30T13:45:58.976Z"
   },
   {
    "duration": 564,
    "start_time": "2023-07-30T13:46:18.687Z"
   },
   {
    "duration": 791,
    "start_time": "2023-07-30T13:46:29.951Z"
   },
   {
    "duration": 103,
    "start_time": "2023-07-30T13:46:43.767Z"
   },
   {
    "duration": 63,
    "start_time": "2023-07-30T13:47:13.286Z"
   },
   {
    "duration": 21,
    "start_time": "2023-07-30T13:47:58.876Z"
   },
   {
    "duration": 10,
    "start_time": "2023-07-30T13:48:10.905Z"
   },
   {
    "duration": 22,
    "start_time": "2023-07-30T13:48:16.748Z"
   },
   {
    "duration": 23,
    "start_time": "2023-07-30T13:48:47.997Z"
   },
   {
    "duration": 1670,
    "start_time": "2023-07-31T07:34:07.242Z"
   },
   {
    "duration": 955,
    "start_time": "2023-07-31T07:34:08.914Z"
   },
   {
    "duration": 4,
    "start_time": "2023-07-31T07:34:09.870Z"
   },
   {
    "duration": 574,
    "start_time": "2023-07-31T07:34:09.875Z"
   },
   {
    "duration": 91,
    "start_time": "2023-07-31T07:34:10.450Z"
   },
   {
    "duration": 91,
    "start_time": "2023-07-31T07:34:10.542Z"
   },
   {
    "duration": 10,
    "start_time": "2023-07-31T07:34:10.634Z"
   },
   {
    "duration": 372,
    "start_time": "2023-07-31T07:34:10.645Z"
   },
   {
    "duration": 244,
    "start_time": "2023-07-31T07:34:11.018Z"
   },
   {
    "duration": 58,
    "start_time": "2023-07-31T07:34:11.265Z"
   },
   {
    "duration": 24,
    "start_time": "2023-07-31T07:34:11.324Z"
   },
   {
    "duration": 311,
    "start_time": "2023-07-31T07:34:11.349Z"
   },
   {
    "duration": 45,
    "start_time": "2023-07-31T07:34:11.661Z"
   },
   {
    "duration": 126,
    "start_time": "2023-07-31T07:34:11.707Z"
   },
   {
    "duration": 3,
    "start_time": "2023-07-31T07:34:11.834Z"
   },
   {
    "duration": 391,
    "start_time": "2023-07-31T07:34:11.838Z"
   },
   {
    "duration": 308,
    "start_time": "2023-07-31T07:34:12.230Z"
   },
   {
    "duration": 180,
    "start_time": "2023-07-31T07:34:12.540Z"
   },
   {
    "duration": 3,
    "start_time": "2023-07-31T07:34:12.721Z"
   },
   {
    "duration": 2039,
    "start_time": "2023-07-31T07:34:12.725Z"
   },
   {
    "duration": 3,
    "start_time": "2023-07-31T07:34:14.765Z"
   },
   {
    "duration": 30,
    "start_time": "2023-07-31T07:34:14.769Z"
   },
   {
    "duration": 122,
    "start_time": "2023-07-31T07:34:14.801Z"
   },
   {
    "duration": 0,
    "start_time": "2023-07-31T07:34:14.925Z"
   },
   {
    "duration": 0,
    "start_time": "2023-07-31T07:34:14.926Z"
   },
   {
    "duration": 0,
    "start_time": "2023-07-31T07:34:14.927Z"
   },
   {
    "duration": 0,
    "start_time": "2023-07-31T07:34:14.928Z"
   },
   {
    "duration": 0,
    "start_time": "2023-07-31T07:34:14.929Z"
   },
   {
    "duration": 0,
    "start_time": "2023-07-31T07:34:14.930Z"
   },
   {
    "duration": 0,
    "start_time": "2023-07-31T07:34:14.931Z"
   },
   {
    "duration": 0,
    "start_time": "2023-07-31T07:34:14.932Z"
   },
   {
    "duration": 0,
    "start_time": "2023-07-31T07:34:14.933Z"
   },
   {
    "duration": 0,
    "start_time": "2023-07-31T07:34:14.934Z"
   },
   {
    "duration": 0,
    "start_time": "2023-07-31T07:34:14.935Z"
   },
   {
    "duration": 0,
    "start_time": "2023-07-31T07:34:14.936Z"
   },
   {
    "duration": 0,
    "start_time": "2023-07-31T07:34:14.937Z"
   },
   {
    "duration": 0,
    "start_time": "2023-07-31T07:34:14.937Z"
   },
   {
    "duration": 0,
    "start_time": "2023-07-31T07:34:14.938Z"
   },
   {
    "duration": 0,
    "start_time": "2023-07-31T07:34:14.939Z"
   },
   {
    "duration": 0,
    "start_time": "2023-07-31T07:34:14.940Z"
   },
   {
    "duration": 0,
    "start_time": "2023-07-31T07:34:14.941Z"
   },
   {
    "duration": 0,
    "start_time": "2023-07-31T07:34:14.942Z"
   },
   {
    "duration": 0,
    "start_time": "2023-07-31T07:34:14.943Z"
   },
   {
    "duration": 0,
    "start_time": "2023-07-31T07:34:14.944Z"
   },
   {
    "duration": 0,
    "start_time": "2023-07-31T07:34:14.946Z"
   },
   {
    "duration": 0,
    "start_time": "2023-07-31T07:34:14.947Z"
   },
   {
    "duration": 0,
    "start_time": "2023-07-31T07:34:14.948Z"
   },
   {
    "duration": 0,
    "start_time": "2023-07-31T07:34:14.949Z"
   },
   {
    "duration": 0,
    "start_time": "2023-07-31T07:34:14.950Z"
   },
   {
    "duration": 0,
    "start_time": "2023-07-31T07:34:14.951Z"
   },
   {
    "duration": 0,
    "start_time": "2023-07-31T07:34:14.952Z"
   },
   {
    "duration": 0,
    "start_time": "2023-07-31T07:34:14.953Z"
   },
   {
    "duration": 0,
    "start_time": "2023-07-31T07:34:15.000Z"
   },
   {
    "duration": 0,
    "start_time": "2023-07-31T07:34:15.001Z"
   },
   {
    "duration": 1503,
    "start_time": "2023-07-31T07:37:03.654Z"
   },
   {
    "duration": 716,
    "start_time": "2023-07-31T07:37:05.159Z"
   },
   {
    "duration": 3,
    "start_time": "2023-07-31T07:37:05.876Z"
   },
   {
    "duration": 599,
    "start_time": "2023-07-31T07:37:05.881Z"
   },
   {
    "duration": 95,
    "start_time": "2023-07-31T07:37:06.482Z"
   },
   {
    "duration": 94,
    "start_time": "2023-07-31T07:37:06.578Z"
   },
   {
    "duration": 10,
    "start_time": "2023-07-31T07:37:06.674Z"
   },
   {
    "duration": 301,
    "start_time": "2023-07-31T07:37:06.686Z"
   },
   {
    "duration": 276,
    "start_time": "2023-07-31T07:37:06.989Z"
   },
   {
    "duration": 46,
    "start_time": "2023-07-31T07:37:07.268Z"
   },
   {
    "duration": 21,
    "start_time": "2023-07-31T07:37:07.315Z"
   },
   {
    "duration": 269,
    "start_time": "2023-07-31T07:37:07.337Z"
   },
   {
    "duration": 33,
    "start_time": "2023-07-31T07:37:07.607Z"
   },
   {
    "duration": 140,
    "start_time": "2023-07-31T07:37:07.642Z"
   },
   {
    "duration": 2,
    "start_time": "2023-07-31T07:37:07.783Z"
   },
   {
    "duration": 415,
    "start_time": "2023-07-31T07:37:07.787Z"
   },
   {
    "duration": 306,
    "start_time": "2023-07-31T07:37:08.204Z"
   },
   {
    "duration": 171,
    "start_time": "2023-07-31T07:37:08.512Z"
   },
   {
    "duration": 2,
    "start_time": "2023-07-31T07:37:08.685Z"
   },
   {
    "duration": 1952,
    "start_time": "2023-07-31T07:37:08.688Z"
   },
   {
    "duration": 3,
    "start_time": "2023-07-31T07:37:10.641Z"
   },
   {
    "duration": 29,
    "start_time": "2023-07-31T07:37:10.645Z"
   },
   {
    "duration": 156,
    "start_time": "2023-07-31T07:37:10.676Z"
   },
   {
    "duration": 0,
    "start_time": "2023-07-31T07:37:10.834Z"
   },
   {
    "duration": 0,
    "start_time": "2023-07-31T07:37:10.835Z"
   },
   {
    "duration": 0,
    "start_time": "2023-07-31T07:37:10.836Z"
   },
   {
    "duration": 0,
    "start_time": "2023-07-31T07:37:10.837Z"
   },
   {
    "duration": 0,
    "start_time": "2023-07-31T07:37:10.838Z"
   },
   {
    "duration": 0,
    "start_time": "2023-07-31T07:37:10.839Z"
   },
   {
    "duration": 0,
    "start_time": "2023-07-31T07:37:10.839Z"
   },
   {
    "duration": 0,
    "start_time": "2023-07-31T07:37:10.840Z"
   },
   {
    "duration": 0,
    "start_time": "2023-07-31T07:37:10.841Z"
   },
   {
    "duration": 0,
    "start_time": "2023-07-31T07:37:10.842Z"
   },
   {
    "duration": 0,
    "start_time": "2023-07-31T07:37:10.843Z"
   },
   {
    "duration": 0,
    "start_time": "2023-07-31T07:37:10.844Z"
   },
   {
    "duration": 0,
    "start_time": "2023-07-31T07:37:10.844Z"
   },
   {
    "duration": 0,
    "start_time": "2023-07-31T07:37:10.845Z"
   },
   {
    "duration": 0,
    "start_time": "2023-07-31T07:37:10.846Z"
   },
   {
    "duration": 0,
    "start_time": "2023-07-31T07:37:10.847Z"
   },
   {
    "duration": 0,
    "start_time": "2023-07-31T07:37:10.848Z"
   },
   {
    "duration": 0,
    "start_time": "2023-07-31T07:37:10.849Z"
   },
   {
    "duration": 0,
    "start_time": "2023-07-31T07:37:10.850Z"
   },
   {
    "duration": 0,
    "start_time": "2023-07-31T07:37:10.850Z"
   },
   {
    "duration": 0,
    "start_time": "2023-07-31T07:37:10.851Z"
   },
   {
    "duration": 0,
    "start_time": "2023-07-31T07:37:10.852Z"
   },
   {
    "duration": 0,
    "start_time": "2023-07-31T07:37:10.852Z"
   },
   {
    "duration": 0,
    "start_time": "2023-07-31T07:37:10.854Z"
   },
   {
    "duration": 0,
    "start_time": "2023-07-31T07:37:10.854Z"
   },
   {
    "duration": 0,
    "start_time": "2023-07-31T07:37:10.855Z"
   },
   {
    "duration": 0,
    "start_time": "2023-07-31T07:37:10.856Z"
   },
   {
    "duration": 0,
    "start_time": "2023-07-31T07:37:10.856Z"
   },
   {
    "duration": 0,
    "start_time": "2023-07-31T07:37:10.857Z"
   },
   {
    "duration": 0,
    "start_time": "2023-07-31T07:37:10.858Z"
   },
   {
    "duration": 0,
    "start_time": "2023-07-31T07:37:10.899Z"
   },
   {
    "duration": 1390,
    "start_time": "2023-07-31T07:37:34.264Z"
   },
   {
    "duration": 742,
    "start_time": "2023-07-31T07:37:35.656Z"
   },
   {
    "duration": 3,
    "start_time": "2023-07-31T07:37:36.400Z"
   },
   {
    "duration": 547,
    "start_time": "2023-07-31T07:37:36.406Z"
   },
   {
    "duration": 107,
    "start_time": "2023-07-31T07:37:36.954Z"
   },
   {
    "duration": 93,
    "start_time": "2023-07-31T07:37:37.063Z"
   },
   {
    "duration": 9,
    "start_time": "2023-07-31T07:37:37.158Z"
   },
   {
    "duration": 314,
    "start_time": "2023-07-31T07:37:37.169Z"
   },
   {
    "duration": 281,
    "start_time": "2023-07-31T07:37:37.484Z"
   },
   {
    "duration": 49,
    "start_time": "2023-07-31T07:37:37.768Z"
   },
   {
    "duration": 23,
    "start_time": "2023-07-31T07:37:37.819Z"
   },
   {
    "duration": 267,
    "start_time": "2023-07-31T07:37:37.844Z"
   },
   {
    "duration": 36,
    "start_time": "2023-07-31T07:37:38.113Z"
   },
   {
    "duration": 170,
    "start_time": "2023-07-31T07:37:38.152Z"
   },
   {
    "duration": 3,
    "start_time": "2023-07-31T07:37:38.323Z"
   },
   {
    "duration": 410,
    "start_time": "2023-07-31T07:37:38.327Z"
   },
   {
    "duration": 307,
    "start_time": "2023-07-31T07:37:38.739Z"
   },
   {
    "duration": 187,
    "start_time": "2023-07-31T07:37:39.049Z"
   },
   {
    "duration": 2,
    "start_time": "2023-07-31T07:37:39.238Z"
   },
   {
    "duration": 1924,
    "start_time": "2023-07-31T07:37:39.242Z"
   },
   {
    "duration": 2,
    "start_time": "2023-07-31T07:37:41.168Z"
   },
   {
    "duration": 16,
    "start_time": "2023-07-31T07:37:41.172Z"
   },
   {
    "duration": 85,
    "start_time": "2023-07-31T07:37:41.190Z"
   },
   {
    "duration": 3,
    "start_time": "2023-07-31T07:37:41.277Z"
   },
   {
    "duration": 65,
    "start_time": "2023-07-31T07:37:41.281Z"
   },
   {
    "duration": 407,
    "start_time": "2023-07-31T07:37:41.347Z"
   },
   {
    "duration": 3,
    "start_time": "2023-07-31T07:37:41.756Z"
   },
   {
    "duration": 98,
    "start_time": "2023-07-31T07:37:41.762Z"
   },
   {
    "duration": 7,
    "start_time": "2023-07-31T07:37:41.862Z"
   },
   {
    "duration": 614,
    "start_time": "2023-07-31T07:37:41.871Z"
   },
   {
    "duration": 153,
    "start_time": "2023-07-31T07:37:42.486Z"
   },
   {
    "duration": 121,
    "start_time": "2023-07-31T07:37:42.641Z"
   },
   {
    "duration": 0,
    "start_time": "2023-07-31T07:37:42.763Z"
   },
   {
    "duration": 0,
    "start_time": "2023-07-31T07:37:42.764Z"
   },
   {
    "duration": 0,
    "start_time": "2023-07-31T07:37:42.765Z"
   },
   {
    "duration": 0,
    "start_time": "2023-07-31T07:37:42.766Z"
   },
   {
    "duration": 0,
    "start_time": "2023-07-31T07:37:42.767Z"
   },
   {
    "duration": 0,
    "start_time": "2023-07-31T07:37:42.768Z"
   },
   {
    "duration": 0,
    "start_time": "2023-07-31T07:37:42.769Z"
   },
   {
    "duration": 0,
    "start_time": "2023-07-31T07:37:42.770Z"
   },
   {
    "duration": 0,
    "start_time": "2023-07-31T07:37:42.771Z"
   },
   {
    "duration": 0,
    "start_time": "2023-07-31T07:37:42.771Z"
   },
   {
    "duration": 0,
    "start_time": "2023-07-31T07:37:42.772Z"
   },
   {
    "duration": 0,
    "start_time": "2023-07-31T07:37:42.773Z"
   },
   {
    "duration": 0,
    "start_time": "2023-07-31T07:37:42.774Z"
   },
   {
    "duration": 0,
    "start_time": "2023-07-31T07:37:42.775Z"
   },
   {
    "duration": 0,
    "start_time": "2023-07-31T07:37:42.775Z"
   },
   {
    "duration": 0,
    "start_time": "2023-07-31T07:37:42.800Z"
   },
   {
    "duration": 0,
    "start_time": "2023-07-31T07:37:42.800Z"
   },
   {
    "duration": 0,
    "start_time": "2023-07-31T07:37:42.801Z"
   },
   {
    "duration": 0,
    "start_time": "2023-07-31T07:37:42.802Z"
   },
   {
    "duration": 0,
    "start_time": "2023-07-31T07:37:42.803Z"
   },
   {
    "duration": 0,
    "start_time": "2023-07-31T07:37:42.804Z"
   },
   {
    "duration": 0,
    "start_time": "2023-07-31T07:37:42.805Z"
   },
   {
    "duration": 19,
    "start_time": "2023-07-31T07:38:41.900Z"
   },
   {
    "duration": 48,
    "start_time": "2023-07-31T07:38:49.170Z"
   },
   {
    "duration": 157,
    "start_time": "2023-07-31T07:38:52.964Z"
   },
   {
    "duration": 19,
    "start_time": "2023-07-31T07:38:53.839Z"
   },
   {
    "duration": 8,
    "start_time": "2023-07-31T07:39:04.547Z"
   },
   {
    "duration": 698,
    "start_time": "2023-07-31T07:39:05.179Z"
   },
   {
    "duration": 156,
    "start_time": "2023-07-31T07:39:07.194Z"
   },
   {
    "duration": 20,
    "start_time": "2023-07-31T07:39:08.083Z"
   },
   {
    "duration": 1465,
    "start_time": "2023-07-31T07:40:53.520Z"
   },
   {
    "duration": 724,
    "start_time": "2023-07-31T07:40:54.987Z"
   },
   {
    "duration": 3,
    "start_time": "2023-07-31T07:40:55.713Z"
   },
   {
    "duration": 639,
    "start_time": "2023-07-31T07:40:55.718Z"
   },
   {
    "duration": 106,
    "start_time": "2023-07-31T07:40:56.359Z"
   },
   {
    "duration": 95,
    "start_time": "2023-07-31T07:40:56.466Z"
   },
   {
    "duration": 10,
    "start_time": "2023-07-31T07:40:56.562Z"
   },
   {
    "duration": 312,
    "start_time": "2023-07-31T07:40:56.573Z"
   },
   {
    "duration": 272,
    "start_time": "2023-07-31T07:40:56.887Z"
   },
   {
    "duration": 46,
    "start_time": "2023-07-31T07:40:57.162Z"
   },
   {
    "duration": 25,
    "start_time": "2023-07-31T07:40:57.210Z"
   },
   {
    "duration": 240,
    "start_time": "2023-07-31T07:40:57.236Z"
   },
   {
    "duration": 54,
    "start_time": "2023-07-31T07:40:57.478Z"
   },
   {
    "duration": 134,
    "start_time": "2023-07-31T07:40:57.534Z"
   },
   {
    "duration": 3,
    "start_time": "2023-07-31T07:40:57.669Z"
   },
   {
    "duration": 435,
    "start_time": "2023-07-31T07:40:57.673Z"
   },
   {
    "duration": 321,
    "start_time": "2023-07-31T07:40:58.109Z"
   },
   {
    "duration": 178,
    "start_time": "2023-07-31T07:40:58.432Z"
   },
   {
    "duration": 2,
    "start_time": "2023-07-31T07:40:58.612Z"
   },
   {
    "duration": 1961,
    "start_time": "2023-07-31T07:40:58.616Z"
   },
   {
    "duration": 3,
    "start_time": "2023-07-31T07:41:00.578Z"
   },
   {
    "duration": 67,
    "start_time": "2023-07-31T07:41:00.583Z"
   },
   {
    "duration": 181,
    "start_time": "2023-07-31T07:41:00.651Z"
   },
   {
    "duration": 4,
    "start_time": "2023-07-31T07:41:00.835Z"
   },
   {
    "duration": 116,
    "start_time": "2023-07-31T07:41:00.841Z"
   },
   {
    "duration": 458,
    "start_time": "2023-07-31T07:41:00.959Z"
   },
   {
    "duration": 3,
    "start_time": "2023-07-31T07:41:01.419Z"
   },
   {
    "duration": 133,
    "start_time": "2023-07-31T07:41:01.425Z"
   },
   {
    "duration": 8,
    "start_time": "2023-07-31T07:41:01.560Z"
   },
   {
    "duration": 699,
    "start_time": "2023-07-31T07:41:01.569Z"
   },
   {
    "duration": 174,
    "start_time": "2023-07-31T07:41:02.269Z"
   },
   {
    "duration": 161,
    "start_time": "2023-07-31T07:41:02.445Z"
   },
   {
    "duration": 0,
    "start_time": "2023-07-31T07:41:02.608Z"
   },
   {
    "duration": 0,
    "start_time": "2023-07-31T07:41:02.609Z"
   },
   {
    "duration": 0,
    "start_time": "2023-07-31T07:41:02.610Z"
   },
   {
    "duration": 0,
    "start_time": "2023-07-31T07:41:02.611Z"
   },
   {
    "duration": 0,
    "start_time": "2023-07-31T07:41:02.612Z"
   },
   {
    "duration": 0,
    "start_time": "2023-07-31T07:41:02.614Z"
   },
   {
    "duration": 0,
    "start_time": "2023-07-31T07:41:02.615Z"
   },
   {
    "duration": 0,
    "start_time": "2023-07-31T07:41:02.616Z"
   },
   {
    "duration": 0,
    "start_time": "2023-07-31T07:41:02.618Z"
   },
   {
    "duration": 0,
    "start_time": "2023-07-31T07:41:02.619Z"
   },
   {
    "duration": 0,
    "start_time": "2023-07-31T07:41:02.620Z"
   },
   {
    "duration": 0,
    "start_time": "2023-07-31T07:41:02.622Z"
   },
   {
    "duration": 0,
    "start_time": "2023-07-31T07:41:02.623Z"
   },
   {
    "duration": 0,
    "start_time": "2023-07-31T07:41:02.624Z"
   },
   {
    "duration": 0,
    "start_time": "2023-07-31T07:41:02.625Z"
   },
   {
    "duration": 0,
    "start_time": "2023-07-31T07:41:02.627Z"
   },
   {
    "duration": 0,
    "start_time": "2023-07-31T07:41:02.628Z"
   },
   {
    "duration": 0,
    "start_time": "2023-07-31T07:41:02.629Z"
   },
   {
    "duration": 0,
    "start_time": "2023-07-31T07:41:02.630Z"
   },
   {
    "duration": 0,
    "start_time": "2023-07-31T07:41:02.631Z"
   },
   {
    "duration": 1,
    "start_time": "2023-07-31T07:41:02.632Z"
   },
   {
    "duration": 0,
    "start_time": "2023-07-31T07:41:02.634Z"
   },
   {
    "duration": 9,
    "start_time": "2023-07-31T07:41:23.291Z"
   },
   {
    "duration": 640,
    "start_time": "2023-07-31T07:41:23.670Z"
   },
   {
    "duration": 151,
    "start_time": "2023-07-31T07:41:24.312Z"
   },
   {
    "duration": 41,
    "start_time": "2023-07-31T07:41:24.778Z"
   },
   {
    "duration": 1362,
    "start_time": "2023-07-31T07:42:51.151Z"
   },
   {
    "duration": 691,
    "start_time": "2023-07-31T07:42:52.515Z"
   },
   {
    "duration": 3,
    "start_time": "2023-07-31T07:42:53.207Z"
   },
   {
    "duration": 543,
    "start_time": "2023-07-31T07:42:53.212Z"
   },
   {
    "duration": 98,
    "start_time": "2023-07-31T07:42:53.756Z"
   },
   {
    "duration": 95,
    "start_time": "2023-07-31T07:42:53.855Z"
   },
   {
    "duration": 9,
    "start_time": "2023-07-31T07:42:53.951Z"
   },
   {
    "duration": 311,
    "start_time": "2023-07-31T07:42:53.962Z"
   },
   {
    "duration": 277,
    "start_time": "2023-07-31T07:42:54.275Z"
   },
   {
    "duration": 46,
    "start_time": "2023-07-31T07:42:54.554Z"
   },
   {
    "duration": 23,
    "start_time": "2023-07-31T07:42:54.602Z"
   },
   {
    "duration": 248,
    "start_time": "2023-07-31T07:42:54.627Z"
   },
   {
    "duration": 47,
    "start_time": "2023-07-31T07:42:54.877Z"
   },
   {
    "duration": 134,
    "start_time": "2023-07-31T07:42:54.925Z"
   },
   {
    "duration": 3,
    "start_time": "2023-07-31T07:42:55.060Z"
   },
   {
    "duration": 390,
    "start_time": "2023-07-31T07:42:55.064Z"
   },
   {
    "duration": 319,
    "start_time": "2023-07-31T07:42:55.455Z"
   },
   {
    "duration": 180,
    "start_time": "2023-07-31T07:42:55.775Z"
   },
   {
    "duration": 4,
    "start_time": "2023-07-31T07:42:55.957Z"
   },
   {
    "duration": 1924,
    "start_time": "2023-07-31T07:42:55.962Z"
   },
   {
    "duration": 3,
    "start_time": "2023-07-31T07:42:57.887Z"
   },
   {
    "duration": 23,
    "start_time": "2023-07-31T07:42:57.891Z"
   },
   {
    "duration": 97,
    "start_time": "2023-07-31T07:42:57.915Z"
   },
   {
    "duration": 3,
    "start_time": "2023-07-31T07:42:58.014Z"
   },
   {
    "duration": 69,
    "start_time": "2023-07-31T07:42:58.018Z"
   },
   {
    "duration": 413,
    "start_time": "2023-07-31T07:42:58.088Z"
   },
   {
    "duration": 3,
    "start_time": "2023-07-31T07:42:58.503Z"
   },
   {
    "duration": 98,
    "start_time": "2023-07-31T07:42:58.509Z"
   },
   {
    "duration": 153,
    "start_time": "2023-07-31T07:42:58.609Z"
   },
   {
    "duration": 8,
    "start_time": "2023-07-31T07:42:58.763Z"
   },
   {
    "duration": 599,
    "start_time": "2023-07-31T07:42:58.773Z"
   },
   {
    "duration": 3,
    "start_time": "2023-07-31T07:42:59.373Z"
   },
   {
    "duration": 119,
    "start_time": "2023-07-31T07:42:59.377Z"
   },
   {
    "duration": 0,
    "start_time": "2023-07-31T07:42:59.497Z"
   },
   {
    "duration": 0,
    "start_time": "2023-07-31T07:42:59.497Z"
   },
   {
    "duration": 0,
    "start_time": "2023-07-31T07:42:59.498Z"
   },
   {
    "duration": 0,
    "start_time": "2023-07-31T07:42:59.498Z"
   },
   {
    "duration": 0,
    "start_time": "2023-07-31T07:42:59.500Z"
   },
   {
    "duration": 0,
    "start_time": "2023-07-31T07:42:59.501Z"
   },
   {
    "duration": 0,
    "start_time": "2023-07-31T07:42:59.502Z"
   },
   {
    "duration": 0,
    "start_time": "2023-07-31T07:42:59.504Z"
   },
   {
    "duration": 0,
    "start_time": "2023-07-31T07:42:59.505Z"
   },
   {
    "duration": 0,
    "start_time": "2023-07-31T07:42:59.506Z"
   },
   {
    "duration": 0,
    "start_time": "2023-07-31T07:42:59.507Z"
   },
   {
    "duration": 0,
    "start_time": "2023-07-31T07:42:59.508Z"
   },
   {
    "duration": 0,
    "start_time": "2023-07-31T07:42:59.508Z"
   },
   {
    "duration": 0,
    "start_time": "2023-07-31T07:42:59.510Z"
   },
   {
    "duration": 0,
    "start_time": "2023-07-31T07:42:59.510Z"
   },
   {
    "duration": 0,
    "start_time": "2023-07-31T07:42:59.511Z"
   },
   {
    "duration": 0,
    "start_time": "2023-07-31T07:42:59.513Z"
   },
   {
    "duration": 0,
    "start_time": "2023-07-31T07:42:59.513Z"
   },
   {
    "duration": 0,
    "start_time": "2023-07-31T07:42:59.514Z"
   },
   {
    "duration": 0,
    "start_time": "2023-07-31T07:42:59.515Z"
   },
   {
    "duration": 4,
    "start_time": "2023-07-31T07:43:18.180Z"
   },
   {
    "duration": 12,
    "start_time": "2023-07-31T07:43:18.671Z"
   },
   {
    "duration": 2,
    "start_time": "2023-07-31T07:44:08.341Z"
   },
   {
    "duration": 3,
    "start_time": "2023-07-31T07:44:08.600Z"
   },
   {
    "duration": 2,
    "start_time": "2023-07-31T07:44:09.010Z"
   },
   {
    "duration": 2,
    "start_time": "2023-07-31T07:44:10.385Z"
   },
   {
    "duration": 135,
    "start_time": "2023-07-31T07:44:10.912Z"
   },
   {
    "duration": 137,
    "start_time": "2023-07-31T07:44:23.967Z"
   },
   {
    "duration": 141,
    "start_time": "2023-07-31T07:47:50.590Z"
   },
   {
    "duration": 165,
    "start_time": "2023-07-31T07:49:17.520Z"
   },
   {
    "duration": 3,
    "start_time": "2023-07-31T07:49:39.841Z"
   },
   {
    "duration": 148,
    "start_time": "2023-07-31T07:49:40.241Z"
   },
   {
    "duration": 177,
    "start_time": "2023-07-31T07:49:40.899Z"
   },
   {
    "duration": 3,
    "start_time": "2023-07-31T07:49:43.927Z"
   },
   {
    "duration": 3,
    "start_time": "2023-07-31T07:49:44.144Z"
   },
   {
    "duration": 3,
    "start_time": "2023-07-31T07:49:44.365Z"
   },
   {
    "duration": 3,
    "start_time": "2023-07-31T07:49:44.608Z"
   },
   {
    "duration": 156,
    "start_time": "2023-07-31T07:49:45.194Z"
   },
   {
    "duration": 222,
    "start_time": "2023-07-31T07:49:45.964Z"
   },
   {
    "duration": 8,
    "start_time": "2023-07-31T07:50:55.772Z"
   },
   {
    "duration": 9,
    "start_time": "2023-07-31T07:51:00.305Z"
   },
   {
    "duration": 3,
    "start_time": "2023-07-31T07:51:00.892Z"
   },
   {
    "duration": 144,
    "start_time": "2023-07-31T07:51:01.269Z"
   },
   {
    "duration": 9,
    "start_time": "2023-07-31T07:52:19.169Z"
   },
   {
    "duration": 11,
    "start_time": "2023-07-31T07:52:22.513Z"
   },
   {
    "duration": 139,
    "start_time": "2023-07-31T07:52:24.066Z"
   },
   {
    "duration": 9,
    "start_time": "2023-07-31T07:56:49.366Z"
   },
   {
    "duration": 150,
    "start_time": "2023-07-31T07:57:02.422Z"
   },
   {
    "duration": 172,
    "start_time": "2023-07-31T07:57:09.943Z"
   },
   {
    "duration": 3,
    "start_time": "2023-07-31T07:57:58.133Z"
   },
   {
    "duration": 2,
    "start_time": "2023-07-31T07:57:58.327Z"
   },
   {
    "duration": 84,
    "start_time": "2023-07-31T07:57:58.719Z"
   },
   {
    "duration": 2,
    "start_time": "2023-07-31T07:58:09.894Z"
   },
   {
    "duration": 3,
    "start_time": "2023-07-31T07:58:10.069Z"
   },
   {
    "duration": 3,
    "start_time": "2023-07-31T07:58:10.274Z"
   },
   {
    "duration": 2360,
    "start_time": "2023-07-31T07:58:15.163Z"
   },
   {
    "duration": 776,
    "start_time": "2023-07-31T07:58:17.525Z"
   },
   {
    "duration": 4,
    "start_time": "2023-07-31T07:58:18.303Z"
   },
   {
    "duration": 621,
    "start_time": "2023-07-31T07:58:18.308Z"
   },
   {
    "duration": 117,
    "start_time": "2023-07-31T07:58:18.932Z"
   },
   {
    "duration": 97,
    "start_time": "2023-07-31T07:58:19.051Z"
   },
   {
    "duration": 12,
    "start_time": "2023-07-31T07:58:19.150Z"
   },
   {
    "duration": 319,
    "start_time": "2023-07-31T07:58:19.163Z"
   },
   {
    "duration": 276,
    "start_time": "2023-07-31T07:58:19.484Z"
   },
   {
    "duration": 48,
    "start_time": "2023-07-31T07:58:19.761Z"
   },
   {
    "duration": 24,
    "start_time": "2023-07-31T07:58:19.810Z"
   },
   {
    "duration": 267,
    "start_time": "2023-07-31T07:58:19.836Z"
   },
   {
    "duration": 34,
    "start_time": "2023-07-31T07:58:20.104Z"
   },
   {
    "duration": 132,
    "start_time": "2023-07-31T07:58:20.141Z"
   },
   {
    "duration": 3,
    "start_time": "2023-07-31T07:58:20.274Z"
   },
   {
    "duration": 423,
    "start_time": "2023-07-31T07:58:20.278Z"
   },
   {
    "duration": 311,
    "start_time": "2023-07-31T07:58:20.702Z"
   },
   {
    "duration": 177,
    "start_time": "2023-07-31T07:58:21.015Z"
   },
   {
    "duration": 3,
    "start_time": "2023-07-31T07:58:21.199Z"
   },
   {
    "duration": 1938,
    "start_time": "2023-07-31T07:58:21.204Z"
   },
   {
    "duration": 3,
    "start_time": "2023-07-31T07:58:23.143Z"
   },
   {
    "duration": 34,
    "start_time": "2023-07-31T07:58:23.147Z"
   },
   {
    "duration": 83,
    "start_time": "2023-07-31T07:58:23.183Z"
   },
   {
    "duration": 4,
    "start_time": "2023-07-31T07:58:23.267Z"
   },
   {
    "duration": 60,
    "start_time": "2023-07-31T07:58:23.272Z"
   },
   {
    "duration": 476,
    "start_time": "2023-07-31T07:58:23.333Z"
   },
   {
    "duration": 3,
    "start_time": "2023-07-31T07:58:23.811Z"
   },
   {
    "duration": 109,
    "start_time": "2023-07-31T07:58:23.816Z"
   },
   {
    "duration": 162,
    "start_time": "2023-07-31T07:58:23.926Z"
   },
   {
    "duration": 12,
    "start_time": "2023-07-31T07:58:24.089Z"
   },
   {
    "duration": 645,
    "start_time": "2023-07-31T07:58:24.102Z"
   },
   {
    "duration": 2,
    "start_time": "2023-07-31T07:58:24.749Z"
   },
   {
    "duration": 14,
    "start_time": "2023-07-31T07:58:24.753Z"
   },
   {
    "duration": 13,
    "start_time": "2023-07-31T07:58:24.768Z"
   },
   {
    "duration": 15,
    "start_time": "2023-07-31T07:58:24.782Z"
   },
   {
    "duration": 5,
    "start_time": "2023-07-31T07:58:24.799Z"
   },
   {
    "duration": 9,
    "start_time": "2023-07-31T07:58:24.805Z"
   },
   {
    "duration": 12,
    "start_time": "2023-07-31T07:58:24.815Z"
   },
   {
    "duration": 12,
    "start_time": "2023-07-31T07:58:24.828Z"
   },
   {
    "duration": 14,
    "start_time": "2023-07-31T07:58:24.841Z"
   },
   {
    "duration": 147,
    "start_time": "2023-07-31T07:58:24.858Z"
   },
   {
    "duration": 0,
    "start_time": "2023-07-31T07:58:25.006Z"
   },
   {
    "duration": 0,
    "start_time": "2023-07-31T07:58:25.007Z"
   },
   {
    "duration": 0,
    "start_time": "2023-07-31T07:58:25.009Z"
   },
   {
    "duration": 0,
    "start_time": "2023-07-31T07:58:25.010Z"
   },
   {
    "duration": 0,
    "start_time": "2023-07-31T07:58:25.011Z"
   },
   {
    "duration": 0,
    "start_time": "2023-07-31T07:58:25.013Z"
   },
   {
    "duration": 0,
    "start_time": "2023-07-31T07:58:25.014Z"
   },
   {
    "duration": 0,
    "start_time": "2023-07-31T07:58:25.015Z"
   },
   {
    "duration": 0,
    "start_time": "2023-07-31T07:58:25.016Z"
   },
   {
    "duration": 0,
    "start_time": "2023-07-31T07:58:25.017Z"
   },
   {
    "duration": 0,
    "start_time": "2023-07-31T07:58:25.018Z"
   },
   {
    "duration": 0,
    "start_time": "2023-07-31T07:58:25.019Z"
   },
   {
    "duration": 15,
    "start_time": "2023-07-31T07:58:50.799Z"
   },
   {
    "duration": 9,
    "start_time": "2023-07-31T07:59:25.773Z"
   },
   {
    "duration": 1762,
    "start_time": "2023-07-31T08:02:01.291Z"
   },
   {
    "duration": 745,
    "start_time": "2023-07-31T08:02:03.054Z"
   },
   {
    "duration": 3,
    "start_time": "2023-07-31T08:02:03.801Z"
   },
   {
    "duration": 589,
    "start_time": "2023-07-31T08:02:03.805Z"
   },
   {
    "duration": 109,
    "start_time": "2023-07-31T08:02:04.399Z"
   },
   {
    "duration": 98,
    "start_time": "2023-07-31T08:02:04.510Z"
   },
   {
    "duration": 14,
    "start_time": "2023-07-31T08:02:04.610Z"
   },
   {
    "duration": 304,
    "start_time": "2023-07-31T08:02:04.626Z"
   },
   {
    "duration": 242,
    "start_time": "2023-07-31T08:02:04.932Z"
   },
   {
    "duration": 52,
    "start_time": "2023-07-31T08:02:05.176Z"
   },
   {
    "duration": 30,
    "start_time": "2023-07-31T08:02:05.229Z"
   },
   {
    "duration": 299,
    "start_time": "2023-07-31T08:02:05.261Z"
   },
   {
    "duration": 53,
    "start_time": "2023-07-31T08:02:05.562Z"
   },
   {
    "duration": 137,
    "start_time": "2023-07-31T08:02:05.618Z"
   },
   {
    "duration": 2,
    "start_time": "2023-07-31T08:02:05.757Z"
   },
   {
    "duration": 433,
    "start_time": "2023-07-31T08:02:05.760Z"
   },
   {
    "duration": 321,
    "start_time": "2023-07-31T08:02:06.198Z"
   },
   {
    "duration": 176,
    "start_time": "2023-07-31T08:02:06.520Z"
   },
   {
    "duration": 3,
    "start_time": "2023-07-31T08:02:06.699Z"
   },
   {
    "duration": 2013,
    "start_time": "2023-07-31T08:02:06.703Z"
   },
   {
    "duration": 3,
    "start_time": "2023-07-31T08:02:08.718Z"
   },
   {
    "duration": 35,
    "start_time": "2023-07-31T08:02:08.722Z"
   },
   {
    "duration": 80,
    "start_time": "2023-07-31T08:02:08.758Z"
   },
   {
    "duration": 4,
    "start_time": "2023-07-31T08:02:08.840Z"
   },
   {
    "duration": 84,
    "start_time": "2023-07-31T08:02:08.845Z"
   },
   {
    "duration": 438,
    "start_time": "2023-07-31T08:02:08.931Z"
   },
   {
    "duration": 3,
    "start_time": "2023-07-31T08:02:09.371Z"
   },
   {
    "duration": 105,
    "start_time": "2023-07-31T08:02:09.375Z"
   },
   {
    "duration": 160,
    "start_time": "2023-07-31T08:02:09.482Z"
   },
   {
    "duration": 9,
    "start_time": "2023-07-31T08:02:09.643Z"
   },
   {
    "duration": 724,
    "start_time": "2023-07-31T08:02:09.653Z"
   },
   {
    "duration": 2,
    "start_time": "2023-07-31T08:02:10.379Z"
   },
   {
    "duration": 12,
    "start_time": "2023-07-31T08:02:10.383Z"
   },
   {
    "duration": 5,
    "start_time": "2023-07-31T08:02:10.396Z"
   },
   {
    "duration": 5,
    "start_time": "2023-07-31T08:02:10.403Z"
   },
   {
    "duration": 5,
    "start_time": "2023-07-31T08:02:10.410Z"
   },
   {
    "duration": 5,
    "start_time": "2023-07-31T08:02:10.416Z"
   },
   {
    "duration": 12,
    "start_time": "2023-07-31T08:02:10.423Z"
   },
   {
    "duration": 7,
    "start_time": "2023-07-31T08:02:10.437Z"
   },
   {
    "duration": 11,
    "start_time": "2023-07-31T08:02:10.445Z"
   },
   {
    "duration": 105162,
    "start_time": "2023-07-31T08:02:10.460Z"
   },
   {
    "duration": 0,
    "start_time": "2023-07-31T08:03:55.624Z"
   },
   {
    "duration": 0,
    "start_time": "2023-07-31T08:03:55.625Z"
   },
   {
    "duration": 0,
    "start_time": "2023-07-31T08:03:55.626Z"
   },
   {
    "duration": 0,
    "start_time": "2023-07-31T08:03:55.626Z"
   },
   {
    "duration": 0,
    "start_time": "2023-07-31T08:03:55.627Z"
   },
   {
    "duration": 0,
    "start_time": "2023-07-31T08:03:55.628Z"
   },
   {
    "duration": 0,
    "start_time": "2023-07-31T08:03:55.629Z"
   },
   {
    "duration": 0,
    "start_time": "2023-07-31T08:03:55.630Z"
   },
   {
    "duration": 0,
    "start_time": "2023-07-31T08:03:55.631Z"
   },
   {
    "duration": 0,
    "start_time": "2023-07-31T08:03:55.632Z"
   },
   {
    "duration": 0,
    "start_time": "2023-07-31T08:03:55.633Z"
   },
   {
    "duration": 0,
    "start_time": "2023-07-31T08:03:55.634Z"
   },
   {
    "duration": 7,
    "start_time": "2023-07-31T08:05:22.810Z"
   },
   {
    "duration": 107954,
    "start_time": "2023-07-31T08:05:23.454Z"
   },
   {
    "duration": 0,
    "start_time": "2023-07-31T08:07:11.410Z"
   },
   {
    "duration": 0,
    "start_time": "2023-07-31T08:07:11.412Z"
   },
   {
    "duration": 0,
    "start_time": "2023-07-31T08:07:11.413Z"
   },
   {
    "duration": 0,
    "start_time": "2023-07-31T08:07:11.414Z"
   },
   {
    "duration": 0,
    "start_time": "2023-07-31T08:07:11.415Z"
   },
   {
    "duration": 0,
    "start_time": "2023-07-31T08:07:11.416Z"
   },
   {
    "duration": 0,
    "start_time": "2023-07-31T08:07:11.417Z"
   },
   {
    "duration": 0,
    "start_time": "2023-07-31T08:07:11.418Z"
   },
   {
    "duration": 0,
    "start_time": "2023-07-31T08:07:11.419Z"
   },
   {
    "duration": 0,
    "start_time": "2023-07-31T08:07:11.420Z"
   },
   {
    "duration": 7,
    "start_time": "2023-07-31T08:09:30.965Z"
   },
   {
    "duration": 732165,
    "start_time": "2023-07-31T08:09:31.636Z"
   },
   {
    "duration": 3742,
    "start_time": "2023-07-31T08:21:43.803Z"
   },
   {
    "duration": 965348,
    "start_time": "2023-07-31T08:21:47.546Z"
   },
   {
    "duration": 11,
    "start_time": "2023-07-31T08:37:52.896Z"
   },
   {
    "duration": 6,
    "start_time": "2023-07-31T08:37:52.908Z"
   },
   {
    "duration": 1768,
    "start_time": "2023-07-31T09:13:46.504Z"
   },
   {
    "duration": 747,
    "start_time": "2023-07-31T09:13:48.274Z"
   },
   {
    "duration": 4,
    "start_time": "2023-07-31T09:13:49.023Z"
   },
   {
    "duration": 593,
    "start_time": "2023-07-31T09:13:49.028Z"
   },
   {
    "duration": 113,
    "start_time": "2023-07-31T09:13:49.623Z"
   },
   {
    "duration": 94,
    "start_time": "2023-07-31T09:13:49.738Z"
   },
   {
    "duration": 10,
    "start_time": "2023-07-31T09:13:49.834Z"
   },
   {
    "duration": 337,
    "start_time": "2023-07-31T09:13:49.845Z"
   },
   {
    "duration": 272,
    "start_time": "2023-07-31T09:13:50.183Z"
   },
   {
    "duration": 46,
    "start_time": "2023-07-31T09:13:50.457Z"
   },
   {
    "duration": 24,
    "start_time": "2023-07-31T09:13:50.505Z"
   },
   {
    "duration": 311,
    "start_time": "2023-07-31T09:13:50.531Z"
   },
   {
    "duration": 35,
    "start_time": "2023-07-31T09:13:50.843Z"
   },
   {
    "duration": 146,
    "start_time": "2023-07-31T09:13:50.880Z"
   },
   {
    "duration": 3,
    "start_time": "2023-07-31T09:13:51.028Z"
   },
   {
    "duration": 410,
    "start_time": "2023-07-31T09:13:51.032Z"
   },
   {
    "duration": 330,
    "start_time": "2023-07-31T09:13:51.444Z"
   },
   {
    "duration": 179,
    "start_time": "2023-07-31T09:13:51.775Z"
   },
   {
    "duration": 3,
    "start_time": "2023-07-31T09:13:51.955Z"
   },
   {
    "duration": 1985,
    "start_time": "2023-07-31T09:13:51.959Z"
   },
   {
    "duration": 2,
    "start_time": "2023-07-31T09:13:53.946Z"
   },
   {
    "duration": 32,
    "start_time": "2023-07-31T09:13:53.950Z"
   },
   {
    "duration": 96,
    "start_time": "2023-07-31T09:13:53.983Z"
   },
   {
    "duration": 4,
    "start_time": "2023-07-31T09:13:54.080Z"
   },
   {
    "duration": 70,
    "start_time": "2023-07-31T09:13:54.085Z"
   },
   {
    "duration": 411,
    "start_time": "2023-07-31T09:13:54.157Z"
   },
   {
    "duration": 3,
    "start_time": "2023-07-31T09:13:54.569Z"
   },
   {
    "duration": 104,
    "start_time": "2023-07-31T09:13:54.575Z"
   },
   {
    "duration": 156,
    "start_time": "2023-07-31T09:13:54.680Z"
   },
   {
    "duration": 9,
    "start_time": "2023-07-31T09:13:54.837Z"
   },
   {
    "duration": 732,
    "start_time": "2023-07-31T09:13:54.848Z"
   },
   {
    "duration": 3,
    "start_time": "2023-07-31T09:13:55.582Z"
   },
   {
    "duration": 9,
    "start_time": "2023-07-31T09:13:55.586Z"
   },
   {
    "duration": 11,
    "start_time": "2023-07-31T09:13:55.599Z"
   },
   {
    "duration": 8,
    "start_time": "2023-07-31T09:13:55.611Z"
   },
   {
    "duration": 8,
    "start_time": "2023-07-31T09:13:55.621Z"
   },
   {
    "duration": 19,
    "start_time": "2023-07-31T09:13:55.631Z"
   },
   {
    "duration": 23,
    "start_time": "2023-07-31T09:13:55.652Z"
   },
   {
    "duration": 20,
    "start_time": "2023-07-31T09:13:55.676Z"
   },
   {
    "duration": 11,
    "start_time": "2023-07-31T09:13:55.697Z"
   },
   {
    "duration": 1724,
    "start_time": "2023-07-31T09:55:31.868Z"
   },
   {
    "duration": 743,
    "start_time": "2023-07-31T09:55:35.211Z"
   },
   {
    "duration": 4,
    "start_time": "2023-07-31T09:55:35.956Z"
   },
   {
    "duration": 931,
    "start_time": "2023-07-31T09:55:35.962Z"
   },
   {
    "duration": 128,
    "start_time": "2023-07-31T09:55:40.657Z"
   },
   {
    "duration": 83,
    "start_time": "2023-07-31T09:55:41.060Z"
   },
   {
    "duration": 11,
    "start_time": "2023-07-31T09:55:44.670Z"
   },
   {
    "duration": 331,
    "start_time": "2023-07-31T09:55:44.859Z"
   },
   {
    "duration": 321,
    "start_time": "2023-07-31T09:55:45.192Z"
   },
   {
    "duration": 58,
    "start_time": "2023-07-31T09:55:45.520Z"
   },
   {
    "duration": 27,
    "start_time": "2023-07-31T09:55:49.271Z"
   },
   {
    "duration": 307,
    "start_time": "2023-07-31T09:55:50.156Z"
   },
   {
    "duration": 46,
    "start_time": "2023-07-31T09:55:50.521Z"
   },
   {
    "duration": 130,
    "start_time": "2023-07-31T09:55:51.172Z"
   },
   {
    "duration": 3,
    "start_time": "2023-07-31T09:55:53.567Z"
   },
   {
    "duration": 421,
    "start_time": "2023-07-31T09:55:53.856Z"
   },
   {
    "duration": 414,
    "start_time": "2023-07-31T09:55:54.279Z"
   },
   {
    "duration": 216,
    "start_time": "2023-07-31T09:55:57.636Z"
   },
   {
    "duration": 3,
    "start_time": "2023-07-31T09:55:57.855Z"
   },
   {
    "duration": 1965,
    "start_time": "2023-07-31T09:55:58.902Z"
   },
   {
    "duration": 3,
    "start_time": "2023-07-31T09:56:05.813Z"
   },
   {
    "duration": 17,
    "start_time": "2023-07-31T09:56:11.227Z"
   },
   {
    "duration": 123,
    "start_time": "2023-07-31T09:56:11.606Z"
   },
   {
    "duration": 4,
    "start_time": "2023-07-31T09:56:12.073Z"
   },
   {
    "duration": 75,
    "start_time": "2023-07-31T09:56:38.068Z"
   },
   {
    "duration": 485,
    "start_time": "2023-07-31T09:56:38.278Z"
   },
   {
    "duration": 4,
    "start_time": "2023-07-31T09:56:43.292Z"
   },
   {
    "duration": 116,
    "start_time": "2023-07-31T09:56:43.689Z"
   },
   {
    "duration": 182,
    "start_time": "2023-07-31T09:56:44.072Z"
   },
   {
    "duration": 9,
    "start_time": "2023-07-31T09:56:44.556Z"
   },
   {
    "duration": 861,
    "start_time": "2023-07-31T09:56:45.410Z"
   },
   {
    "duration": 5,
    "start_time": "2023-07-31T09:56:51.296Z"
   },
   {
    "duration": 4,
    "start_time": "2023-07-31T09:56:51.583Z"
   },
   {
    "duration": 18,
    "start_time": "2023-07-31T09:56:51.890Z"
   },
   {
    "duration": 4,
    "start_time": "2023-07-31T09:56:55.769Z"
   },
   {
    "duration": 227112,
    "start_time": "2023-07-31T09:56:56.171Z"
   },
   {
    "duration": 255148,
    "start_time": "2023-07-31T10:00:43.285Z"
   },
   {
    "duration": 15537,
    "start_time": "2023-07-31T10:04:58.435Z"
   },
   {
    "duration": 0,
    "start_time": "2023-07-31T10:05:13.975Z"
   },
   {
    "duration": 0,
    "start_time": "2023-07-31T10:05:13.976Z"
   },
   {
    "duration": 0,
    "start_time": "2023-07-31T10:05:13.978Z"
   },
   {
    "duration": 0,
    "start_time": "2023-07-31T10:05:13.980Z"
   },
   {
    "duration": 0,
    "start_time": "2023-07-31T10:05:13.981Z"
   },
   {
    "duration": 0,
    "start_time": "2023-07-31T10:05:13.982Z"
   },
   {
    "duration": 0,
    "start_time": "2023-07-31T10:05:13.984Z"
   },
   {
    "duration": 0,
    "start_time": "2023-07-31T10:05:13.985Z"
   },
   {
    "duration": 0,
    "start_time": "2023-07-31T10:05:13.987Z"
   },
   {
    "duration": 3,
    "start_time": "2023-07-31T13:44:59.132Z"
   },
   {
    "duration": 272731,
    "start_time": "2023-07-31T13:44:59.541Z"
   },
   {
    "duration": 305242,
    "start_time": "2023-07-31T13:49:32.276Z"
   },
   {
    "duration": 813380,
    "start_time": "2023-07-31T13:54:37.520Z"
   },
   {
    "duration": 4354,
    "start_time": "2023-07-31T14:08:10.903Z"
   },
   {
    "duration": 970581,
    "start_time": "2023-07-31T14:08:15.259Z"
   },
   {
    "duration": 9,
    "start_time": "2023-07-31T14:24:25.842Z"
   },
   {
    "duration": 9,
    "start_time": "2023-07-31T14:24:25.852Z"
   },
   {
    "duration": 4914671,
    "start_time": "2023-07-31T14:24:25.862Z"
   },
   {
    "duration": 10,
    "start_time": "2023-07-31T15:46:20.535Z"
   },
   {
    "duration": 14,
    "start_time": "2023-07-31T15:46:20.547Z"
   },
   {
    "duration": 0,
    "start_time": "2023-07-31T15:46:20.613Z"
   },
   {
    "duration": 0,
    "start_time": "2023-07-31T15:46:20.615Z"
   },
   {
    "duration": 0,
    "start_time": "2023-07-31T15:46:20.616Z"
   },
   {
    "duration": 10,
    "start_time": "2023-07-31T15:46:34.763Z"
   },
   {
    "duration": 5,
    "start_time": "2023-07-31T15:46:51.664Z"
   },
   {
    "duration": 142,
    "start_time": "2023-07-31T15:46:52.557Z"
   },
   {
    "duration": 10,
    "start_time": "2023-07-31T15:46:59.264Z"
   },
   {
    "duration": 4409,
    "start_time": "2023-07-31T15:47:19.944Z"
   },
   {
    "duration": 186,
    "start_time": "2023-07-31T15:47:31.859Z"
   },
   {
    "duration": 13282,
    "start_time": "2023-07-31T15:47:39.472Z"
   },
   {
    "duration": 4,
    "start_time": "2023-07-31T15:49:40.877Z"
   },
   {
    "duration": 204,
    "start_time": "2023-07-31T15:49:41.344Z"
   },
   {
    "duration": 6,
    "start_time": "2023-07-31T15:50:14.945Z"
   },
   {
    "duration": 0,
    "start_time": "2023-07-31T16:05:28.440Z"
   },
   {
    "duration": 0,
    "start_time": "2023-07-31T16:05:28.441Z"
   },
   {
    "duration": 0,
    "start_time": "2023-07-31T16:05:28.442Z"
   },
   {
    "duration": 5,
    "start_time": "2023-07-31T16:13:37.822Z"
   },
   {
    "duration": 203,
    "start_time": "2023-07-31T16:20:04.204Z"
   },
   {
    "duration": 0,
    "start_time": "2023-07-31T16:20:04.502Z"
   },
   {
    "duration": 0,
    "start_time": "2023-07-31T16:20:04.505Z"
   },
   {
    "duration": 103,
    "start_time": "2023-07-31T16:20:34.501Z"
   },
   {
    "duration": 1798,
    "start_time": "2023-07-31T16:20:35.401Z"
   },
   {
    "duration": 8,
    "start_time": "2023-07-31T16:20:55.502Z"
   },
   {
    "duration": 1699,
    "start_time": "2023-07-31T16:20:56.401Z"
   },
   {
    "duration": 6,
    "start_time": "2023-07-31T16:21:42.001Z"
   },
   {
    "duration": 1408,
    "start_time": "2023-07-31T16:21:42.202Z"
   },
   {
    "duration": 301,
    "start_time": "2023-07-31T16:21:43.704Z"
   },
   {
    "duration": 109,
    "start_time": "2023-07-31T16:22:01.304Z"
   },
   {
    "duration": 1204,
    "start_time": "2023-07-31T16:22:01.501Z"
   },
   {
    "duration": 194,
    "start_time": "2023-07-31T16:22:02.707Z"
   },
   {
    "duration": 98,
    "start_time": "2023-07-31T16:22:22.601Z"
   },
   {
    "duration": 1098,
    "start_time": "2023-07-31T16:22:23.001Z"
   },
   {
    "duration": 98,
    "start_time": "2023-07-31T16:22:33.602Z"
   },
   {
    "duration": 1292,
    "start_time": "2023-07-31T16:22:33.807Z"
   },
   {
    "duration": 293,
    "start_time": "2023-07-31T16:22:35.108Z"
   },
   {
    "duration": 9,
    "start_time": "2023-07-31T16:22:42.901Z"
   },
   {
    "duration": 1406,
    "start_time": "2023-07-31T16:22:43.201Z"
   },
   {
    "duration": 6,
    "start_time": "2023-07-31T16:22:59.601Z"
   },
   {
    "duration": 2400,
    "start_time": "2023-07-31T16:22:59.901Z"
   },
   {
    "duration": 98,
    "start_time": "2023-07-31T16:23:36.401Z"
   },
   {
    "duration": 1108,
    "start_time": "2023-07-31T16:23:37.101Z"
   },
   {
    "duration": 108,
    "start_time": "2023-07-31T16:23:44.201Z"
   },
   {
    "duration": 46,
    "start_time": "2023-07-31T16:23:49.943Z"
   },
   {
    "duration": 219,
    "start_time": "2023-07-31T16:23:55.885Z"
   },
   {
    "duration": 2262,
    "start_time": "2023-07-31T16:24:08.033Z"
   },
   {
    "duration": 2171,
    "start_time": "2023-07-31T16:24:10.297Z"
   },
   {
    "duration": 984,
    "start_time": "2023-07-31T16:24:12.470Z"
   },
   {
    "duration": 3,
    "start_time": "2023-07-31T16:24:13.456Z"
   },
   {
    "duration": 587,
    "start_time": "2023-07-31T16:24:13.462Z"
   },
   {
    "duration": 108,
    "start_time": "2023-07-31T16:24:14.050Z"
   },
   {
    "duration": 98,
    "start_time": "2023-07-31T16:24:14.159Z"
   },
   {
    "duration": 10,
    "start_time": "2023-07-31T16:24:14.258Z"
   },
   {
    "duration": 334,
    "start_time": "2023-07-31T16:24:14.270Z"
   },
   {
    "duration": 265,
    "start_time": "2023-07-31T16:24:14.608Z"
   },
   {
    "duration": 50,
    "start_time": "2023-07-31T16:24:14.875Z"
   },
   {
    "duration": 23,
    "start_time": "2023-07-31T16:24:14.927Z"
   },
   {
    "duration": 318,
    "start_time": "2023-07-31T16:24:14.952Z"
   },
   {
    "duration": 46,
    "start_time": "2023-07-31T16:24:15.271Z"
   },
   {
    "duration": 181,
    "start_time": "2023-07-31T16:24:15.319Z"
   },
   {
    "duration": 3,
    "start_time": "2023-07-31T16:24:15.504Z"
   },
   {
    "duration": 338,
    "start_time": "2023-07-31T16:24:15.508Z"
   },
   {
    "duration": 354,
    "start_time": "2023-07-31T16:24:15.847Z"
   },
   {
    "duration": 207,
    "start_time": "2023-07-31T16:24:16.203Z"
   },
   {
    "duration": 5,
    "start_time": "2023-07-31T16:24:16.412Z"
   },
   {
    "duration": 1943,
    "start_time": "2023-07-31T16:24:16.418Z"
   },
   {
    "duration": 3,
    "start_time": "2023-07-31T16:24:18.362Z"
   },
   {
    "duration": 18,
    "start_time": "2023-07-31T16:24:18.368Z"
   },
   {
    "duration": 67,
    "start_time": "2023-07-31T16:24:18.400Z"
   },
   {
    "duration": 3,
    "start_time": "2023-07-31T16:24:18.469Z"
   },
   {
    "duration": 60,
    "start_time": "2023-07-31T16:24:18.474Z"
   },
   {
    "duration": 457,
    "start_time": "2023-07-31T16:24:18.536Z"
   },
   {
    "duration": 5,
    "start_time": "2023-07-31T16:24:18.994Z"
   },
   {
    "duration": 127,
    "start_time": "2023-07-31T16:24:19.001Z"
   },
   {
    "duration": 156,
    "start_time": "2023-07-31T16:24:19.130Z"
   },
   {
    "duration": 12,
    "start_time": "2023-07-31T16:24:19.288Z"
   },
   {
    "duration": 715,
    "start_time": "2023-07-31T16:24:19.303Z"
   },
   {
    "duration": 3,
    "start_time": "2023-07-31T16:24:20.020Z"
   },
   {
    "duration": 16,
    "start_time": "2023-07-31T16:24:20.025Z"
   },
   {
    "duration": 36,
    "start_time": "2023-07-31T16:24:20.043Z"
   },
   {
    "duration": 19,
    "start_time": "2023-07-31T16:24:20.080Z"
   },
   {
    "duration": 10,
    "start_time": "2023-07-31T16:24:20.101Z"
   },
   {
    "duration": 2,
    "start_time": "2023-07-31T16:24:20.288Z"
   },
   {
    "duration": 3,
    "start_time": "2023-07-31T16:24:21.545Z"
   },
   {
    "duration": 4,
    "start_time": "2023-07-31T16:24:21.752Z"
   },
   {
    "duration": 10,
    "start_time": "2023-07-31T16:24:21.951Z"
   },
   {
    "duration": 77474,
    "start_time": "2023-07-31T16:24:22.154Z"
   },
   {
    "duration": 0,
    "start_time": "2023-07-31T16:25:39.629Z"
   },
   {
    "duration": 0,
    "start_time": "2023-07-31T16:25:39.630Z"
   },
   {
    "duration": 0,
    "start_time": "2023-07-31T16:25:39.631Z"
   },
   {
    "duration": 0,
    "start_time": "2023-07-31T16:25:39.632Z"
   },
   {
    "duration": 0,
    "start_time": "2023-07-31T16:25:39.633Z"
   },
   {
    "duration": 0,
    "start_time": "2023-07-31T16:25:39.634Z"
   },
   {
    "duration": 0,
    "start_time": "2023-07-31T16:25:39.635Z"
   },
   {
    "duration": 0,
    "start_time": "2023-07-31T16:25:39.635Z"
   },
   {
    "duration": 0,
    "start_time": "2023-07-31T16:25:39.637Z"
   },
   {
    "duration": 0,
    "start_time": "2023-07-31T16:25:39.637Z"
   },
   {
    "duration": 0,
    "start_time": "2023-07-31T16:25:39.638Z"
   },
   {
    "duration": 0,
    "start_time": "2023-07-31T16:25:39.639Z"
   },
   {
    "duration": 0,
    "start_time": "2023-07-31T16:25:39.640Z"
   },
   {
    "duration": 0,
    "start_time": "2023-07-31T16:25:39.641Z"
   },
   {
    "duration": 5,
    "start_time": "2023-07-31T16:28:44.046Z"
   },
   {
    "duration": 197,
    "start_time": "2023-07-31T16:28:44.480Z"
   },
   {
    "duration": 71731,
    "start_time": "2023-07-31T16:29:31.472Z"
   },
   {
    "duration": 0,
    "start_time": "2023-07-31T16:30:43.205Z"
   },
   {
    "duration": 2122,
    "start_time": "2023-07-31T16:30:49.753Z"
   },
   {
    "duration": 1946,
    "start_time": "2023-07-31T16:30:51.878Z"
   },
   {
    "duration": 728,
    "start_time": "2023-07-31T16:30:53.826Z"
   },
   {
    "duration": 3,
    "start_time": "2023-07-31T16:30:54.556Z"
   },
   {
    "duration": 564,
    "start_time": "2023-07-31T16:30:54.561Z"
   },
   {
    "duration": 104,
    "start_time": "2023-07-31T16:30:55.126Z"
   },
   {
    "duration": 91,
    "start_time": "2023-07-31T16:30:55.232Z"
   },
   {
    "duration": 11,
    "start_time": "2023-07-31T16:30:55.325Z"
   },
   {
    "duration": 329,
    "start_time": "2023-07-31T16:30:55.337Z"
   },
   {
    "duration": 286,
    "start_time": "2023-07-31T16:30:55.669Z"
   },
   {
    "duration": 50,
    "start_time": "2023-07-31T16:30:55.957Z"
   },
   {
    "duration": 23,
    "start_time": "2023-07-31T16:30:56.009Z"
   },
   {
    "duration": 330,
    "start_time": "2023-07-31T16:30:56.034Z"
   },
   {
    "duration": 51,
    "start_time": "2023-07-31T16:30:56.365Z"
   },
   {
    "duration": 129,
    "start_time": "2023-07-31T16:30:56.417Z"
   },
   {
    "duration": 3,
    "start_time": "2023-07-31T16:30:56.547Z"
   },
   {
    "duration": 361,
    "start_time": "2023-07-31T16:30:56.552Z"
   },
   {
    "duration": 316,
    "start_time": "2023-07-31T16:30:56.914Z"
   },
   {
    "duration": 171,
    "start_time": "2023-07-31T16:30:57.232Z"
   },
   {
    "duration": 4,
    "start_time": "2023-07-31T16:30:57.406Z"
   },
   {
    "duration": 2106,
    "start_time": "2023-07-31T16:30:57.412Z"
   },
   {
    "duration": 4,
    "start_time": "2023-07-31T16:30:59.519Z"
   },
   {
    "duration": 18,
    "start_time": "2023-07-31T16:30:59.524Z"
   },
   {
    "duration": 76,
    "start_time": "2023-07-31T16:30:59.544Z"
   },
   {
    "duration": 4,
    "start_time": "2023-07-31T16:30:59.622Z"
   },
   {
    "duration": 45,
    "start_time": "2023-07-31T16:30:59.627Z"
   },
   {
    "duration": 433,
    "start_time": "2023-07-31T16:30:59.674Z"
   },
   {
    "duration": 3,
    "start_time": "2023-07-31T16:31:00.110Z"
   },
   {
    "duration": 155,
    "start_time": "2023-07-31T16:31:00.114Z"
   },
   {
    "duration": 149,
    "start_time": "2023-07-31T16:31:00.271Z"
   },
   {
    "duration": 9,
    "start_time": "2023-07-31T16:31:00.421Z"
   },
   {
    "duration": 706,
    "start_time": "2023-07-31T16:31:00.432Z"
   },
   {
    "duration": 2,
    "start_time": "2023-07-31T16:31:01.140Z"
   },
   {
    "duration": 40,
    "start_time": "2023-07-31T16:31:01.144Z"
   },
   {
    "duration": 41,
    "start_time": "2023-07-31T16:31:01.186Z"
   },
   {
    "duration": 48,
    "start_time": "2023-07-31T16:31:01.230Z"
   },
   {
    "duration": 52,
    "start_time": "2023-07-31T16:31:01.279Z"
   },
   {
    "duration": 42,
    "start_time": "2023-07-31T16:31:01.333Z"
   },
   {
    "duration": 55,
    "start_time": "2023-07-31T16:31:01.376Z"
   },
   {
    "duration": 41,
    "start_time": "2023-07-31T16:31:01.433Z"
   },
   {
    "duration": 41,
    "start_time": "2023-07-31T16:31:01.476Z"
   }
  ],
  "kernelspec": {
   "display_name": "Python 3 (ipykernel)",
   "language": "python",
   "name": "python3"
  },
  "language_info": {
   "codemirror_mode": {
    "name": "ipython",
    "version": 3
   },
   "file_extension": ".py",
   "mimetype": "text/x-python",
   "name": "python",
   "nbconvert_exporter": "python",
   "pygments_lexer": "ipython3",
   "version": "3.11.5"
  },
  "toc": {
   "base_numbering": 1,
   "nav_menu": {},
   "number_sections": true,
   "sideBar": true,
   "skip_h1_title": true,
   "title_cell": "Table of Contents",
   "title_sidebar": "Contents",
   "toc_cell": false,
   "toc_position": {},
   "toc_section_display": true,
   "toc_window_display": false
  }
 },
 "nbformat": 4,
 "nbformat_minor": 2
}
