{
 "cells": [
  {
   "cell_type": "markdown",
   "metadata": {},
   "source": [
    "# Выбор локации для скважины"
   ]
  },
  {
   "cell_type": "markdown",
   "metadata": {},
   "source": [
    "Допустим, вы работаете в добывающей компании «ГлавРосГосНефть». Нужно решить, где бурить новую скважину.\n",
    "\n",
    "Вам предоставлены пробы нефти в трёх регионах: в каждом 10 000 месторождений, где измерили качество нефти и объём её запасов. Постройте модель машинного обучения, которая поможет определить регион, где добыча принесёт наибольшую прибыль. Проанализируйте возможную прибыль и риски техникой *Bootstrap.*\n",
    "\n",
    "Шаги для выбора локации:\n",
    "\n",
    "- В избранном регионе ищут месторождения, для каждого определяют значения признаков;\n",
    "- Строят модель и оценивают объём запасов;\n",
    "- Выбирают месторождения с самым высокими оценками значений. Количество месторождений зависит от бюджета компании и стоимости разработки одной скважины;\n",
    "- Прибыль равна суммарной прибыли отобранных месторождений."
   ]
  },
  {
   "cell_type": "markdown",
   "metadata": {},
   "source": [
    "## Загрузка и подготовка данных"
   ]
  },
  {
   "cell_type": "markdown",
   "metadata": {},
   "source": [
    "импортируем нужные библиотеки"
   ]
  },
  {
   "cell_type": "code",
   "execution_count": 1,
   "metadata": {},
   "outputs": [
    {
     "data": {
      "text/html": [
       "<style>.container { width:90% !important; }</style>"
      ],
      "text/plain": [
       "<IPython.core.display.HTML object>"
      ]
     },
     "metadata": {},
     "output_type": "display_data"
    }
   ],
   "source": [
    "from IPython.core.display import display, HTML\n",
    "display(HTML(\"<style>.container { width:90% !important; }</style>\"))\n",
    "\n",
    "from tqdm import tqdm\n",
    "import pandas as pd\n",
    "import matplotlib.pyplot as plt\n",
    "import numpy as np\n",
    "import itertools\n",
    "import seaborn as sns\n",
    "\n",
    "from sklearn.preprocessing import MinMaxScaler\n",
    "from sklearn.utils import shuffle\n",
    "from sklearn.model_selection import train_test_split, GridSearchCV\n",
    "from sklearn.metrics import accuracy_score, f1_score, recall_score, precision_score, roc_auc_score, roc_curve, confusion_matrix\n",
    "from sklearn.preprocessing import OneHotEncoder\n",
    "\n",
    "from sklearn.linear_model import LinearRegression\n",
    "from sklearn.metrics import mean_squared_error\n",
    "from sklearn.preprocessing import StandardScaler\n",
    "from sklearn.tree import DecisionTreeClassifier"
   ]
  },
  {
   "cell_type": "markdown",
   "metadata": {},
   "source": [
    "открываем файлы, сохраняем их в переменные и просматриваем данные"
   ]
  },
  {
   "cell_type": "code",
   "execution_count": 2,
   "metadata": {},
   "outputs": [],
   "source": [
    "df = pd.read_csv('/datasets/geo_data_0.csv')\n",
    "df_1 = pd.read_csv('/datasets/geo_data_1.csv')\n",
    "df_2 = pd.read_csv('/datasets/geo_data_2.csv')"
   ]
  },
  {
   "cell_type": "code",
   "execution_count": 3,
   "metadata": {},
   "outputs": [],
   "source": [
    "def data_analis (df):\n",
    "    i=df.info()\n",
    "    h=df.head()\n",
    "    ds=df.describe()\n",
    "    dp=df.duplicated().sum()\n",
    "    return print(i),print(h), print(ds), print('дубликаты:',dp)"
   ]
  },
  {
   "cell_type": "code",
   "execution_count": 4,
   "metadata": {},
   "outputs": [
    {
     "name": "stdout",
     "output_type": "stream",
     "text": [
      "<class 'pandas.core.frame.DataFrame'>\n",
      "RangeIndex: 100000 entries, 0 to 99999\n",
      "Data columns (total 5 columns):\n",
      " #   Column   Non-Null Count   Dtype  \n",
      "---  ------   --------------   -----  \n",
      " 0   id       100000 non-null  object \n",
      " 1   f0       100000 non-null  float64\n",
      " 2   f1       100000 non-null  float64\n",
      " 3   f2       100000 non-null  float64\n",
      " 4   product  100000 non-null  float64\n",
      "dtypes: float64(4), object(1)\n",
      "memory usage: 3.8+ MB\n",
      "None\n",
      "      id        f0        f1        f2     product\n",
      "0  txEyH  0.705745 -0.497823  1.221170  105.280062\n",
      "1  2acmU  1.334711 -0.340164  4.365080   73.037750\n",
      "2  409Wp  1.022732  0.151990  1.419926   85.265647\n",
      "3  iJLyR -0.032172  0.139033  2.978566  168.620776\n",
      "4  Xdl7t  1.988431  0.155413  4.751769  154.036647\n",
      "                  f0             f1             f2        product\n",
      "count  100000.000000  100000.000000  100000.000000  100000.000000\n",
      "mean        0.500419       0.250143       2.502647      92.500000\n",
      "std         0.871832       0.504433       3.248248      44.288691\n",
      "min        -1.408605      -0.848218     -12.088328       0.000000\n",
      "25%        -0.072580      -0.200881       0.287748      56.497507\n",
      "50%         0.502360       0.250252       2.515969      91.849972\n",
      "75%         1.073581       0.700646       4.715088     128.564089\n",
      "max         2.362331       1.343769      16.003790     185.364347\n",
      "дубликаты: 0\n"
     ]
    },
    {
     "data": {
      "text/plain": [
       "(None, None, None, None)"
      ]
     },
     "execution_count": 4,
     "metadata": {},
     "output_type": "execute_result"
    }
   ],
   "source": [
    "data_analis(df)"
   ]
  },
  {
   "cell_type": "code",
   "execution_count": 5,
   "metadata": {},
   "outputs": [
    {
     "name": "stdout",
     "output_type": "stream",
     "text": [
      "<class 'pandas.core.frame.DataFrame'>\n",
      "RangeIndex: 100000 entries, 0 to 99999\n",
      "Data columns (total 5 columns):\n",
      " #   Column   Non-Null Count   Dtype  \n",
      "---  ------   --------------   -----  \n",
      " 0   id       100000 non-null  object \n",
      " 1   f0       100000 non-null  float64\n",
      " 2   f1       100000 non-null  float64\n",
      " 3   f2       100000 non-null  float64\n",
      " 4   product  100000 non-null  float64\n",
      "dtypes: float64(4), object(1)\n",
      "memory usage: 3.8+ MB\n",
      "None\n",
      "      id         f0         f1        f2     product\n",
      "0  kBEdx -15.001348  -8.276000 -0.005876    3.179103\n",
      "1  62mP7  14.272088  -3.475083  0.999183   26.953261\n",
      "2  vyE1P   6.263187  -5.948386  5.001160  134.766305\n",
      "3  KcrkZ -13.081196 -11.506057  4.999415  137.945408\n",
      "4  AHL4O  12.702195  -8.147433  5.004363  134.766305\n",
      "                  f0             f1             f2        product\n",
      "count  100000.000000  100000.000000  100000.000000  100000.000000\n",
      "mean        1.141296      -4.796579       2.494541      68.825000\n",
      "std         8.965932       5.119872       1.703572      45.944423\n",
      "min       -31.609576     -26.358598      -0.018144       0.000000\n",
      "25%        -6.298551      -8.267985       1.000021      26.953261\n",
      "50%         1.153055      -4.813172       2.011479      57.085625\n",
      "75%         8.621015      -1.332816       3.999904     107.813044\n",
      "max        29.421755      18.734063       5.019721     137.945408\n",
      "дубликаты: 0\n"
     ]
    },
    {
     "data": {
      "text/plain": [
       "(None, None, None, None)"
      ]
     },
     "execution_count": 5,
     "metadata": {},
     "output_type": "execute_result"
    }
   ],
   "source": [
    "data_analis(df_1)"
   ]
  },
  {
   "cell_type": "code",
   "execution_count": 6,
   "metadata": {},
   "outputs": [
    {
     "name": "stdout",
     "output_type": "stream",
     "text": [
      "<class 'pandas.core.frame.DataFrame'>\n",
      "RangeIndex: 100000 entries, 0 to 99999\n",
      "Data columns (total 5 columns):\n",
      " #   Column   Non-Null Count   Dtype  \n",
      "---  ------   --------------   -----  \n",
      " 0   id       100000 non-null  object \n",
      " 1   f0       100000 non-null  float64\n",
      " 2   f1       100000 non-null  float64\n",
      " 3   f2       100000 non-null  float64\n",
      " 4   product  100000 non-null  float64\n",
      "dtypes: float64(4), object(1)\n",
      "memory usage: 3.8+ MB\n",
      "None\n",
      "      id        f0        f1        f2     product\n",
      "0  fwXo0 -1.146987  0.963328 -0.828965   27.758673\n",
      "1  WJtFt  0.262778  0.269839 -2.530187   56.069697\n",
      "2  ovLUW  0.194587  0.289035 -5.586433   62.871910\n",
      "3  q6cA6  2.236060 -0.553760  0.930038  114.572842\n",
      "4  WPMUX -0.515993  1.716266  5.899011  149.600746\n",
      "                  f0             f1             f2        product\n",
      "count  100000.000000  100000.000000  100000.000000  100000.000000\n",
      "mean        0.002023      -0.002081       2.495128      95.000000\n",
      "std         1.732045       1.730417       3.473445      44.749921\n",
      "min        -8.760004      -7.084020     -11.970335       0.000000\n",
      "25%        -1.162288      -1.174820       0.130359      59.450441\n",
      "50%         0.009424      -0.009482       2.484236      94.925613\n",
      "75%         1.158535       1.163678       4.858794     130.595027\n",
      "max         7.238262       7.844801      16.739402     190.029838\n",
      "дубликаты: 0\n"
     ]
    },
    {
     "data": {
      "text/plain": [
       "(None, None, None, None)"
      ]
     },
     "execution_count": 6,
     "metadata": {},
     "output_type": "execute_result"
    }
   ],
   "source": [
    "data_analis(df_2)"
   ]
  },
  {
   "cell_type": "markdown",
   "metadata": {},
   "source": [
    "В данных отсутсвуют пропуски, что просто замечательно, меньше возни. Удалим из каждого датафрейма столбец id. Он не важен для модели."
   ]
  },
  {
   "cell_type": "code",
   "execution_count": 7,
   "metadata": {},
   "outputs": [],
   "source": [
    "df = df.drop(['id'], axis=1)\n",
    "df_1 = df_1.drop(['id'], axis=1)\n",
    "df_2 = df_2.drop(['id'], axis=1)"
   ]
  },
  {
   "cell_type": "markdown",
   "metadata": {},
   "source": [
    "Построим гистограммы по столбцу product."
   ]
  },
  {
   "cell_type": "code",
   "execution_count": 8,
   "metadata": {},
   "outputs": [],
   "source": [
    "# Построим гистограммы по столбцу product.\n",
    "def hist(seria, bins, xlim_max, ylim_max):\n",
    "    plt.figure(figsize=[12,9])\n",
    "\n",
    "    plt.hist(seria, bins=bins)\n",
    "\n",
    "    plt.xlim([0,xlim_max])\n",
    "    plt.ylim([0,ylim_max])\n",
    "\n",
    "    plt.xlabel(\"Объем нефти на скважину, тыс. барелей\")\n",
    "    plt.ylabel(\"Количество скважин\")\n",
    "\n",
    "    plt.title(\"Гистограмма распределения по объему скважин\")\n",
    "    plt.show()"
   ]
  },
  {
   "cell_type": "code",
   "execution_count": 9,
   "metadata": {},
   "outputs": [
    {
     "data": {
      "image/png": "[encoded data removed]",
      "text/plain": [
       "<Figure size 864x648 with 1 Axes>"
      ]
     },
     "metadata": {
      "needs_background": "light"
     },
     "output_type": "display_data"
    }
   ],
   "source": [
    "hist(df['product'], 200, 190, 1000)"
   ]
  },
  {
   "cell_type": "code",
   "execution_count": 10,
   "metadata": {},
   "outputs": [
    {
     "data": {
      "image/png": "[encoded data removed]",
      "text/plain": [
       "<Figure size 864x648 with 1 Axes>"
      ]
     },
     "metadata": {
      "needs_background": "light"
     },
     "output_type": "display_data"
    }
   ],
   "source": [
    "hist(df_1['product'], 50, 150, 10000)"
   ]
  },
  {
   "cell_type": "code",
   "execution_count": 11,
   "metadata": {},
   "outputs": [
    {
     "data": {
      "image/png": "[encoded data removed]",
      "text/plain": [
       "<Figure size 864x648 with 1 Axes>"
      ]
     },
     "metadata": {
      "needs_background": "light"
     },
     "output_type": "display_data"
    }
   ],
   "source": [
    "hist(df_2['product'], 200, 200, 1000)"
   ]
  },
  {
   "cell_type": "markdown",
   "metadata": {},
   "source": [
    "построим диаграммы рассеяния"
   ]
  },
  {
   "cell_type": "code",
   "execution_count": 90,
   "metadata": {},
   "outputs": [
    {
     "data": {
      "image/png": "[encoded data removed]",
      "text/plain": [
       "<Figure size 1440x1080 with 12 Axes>"
      ]
     },
     "metadata": {
      "needs_background": "light"
     },
     "output_type": "display_data"
    }
   ],
   "source": [
    "fig,ax = plt.subplots(3,4,figsize = (20,15))\n",
    "\n",
    "all_frames = [\"df\",\"df_1\",\"df_2\"]\n",
    "num_columns = df.columns[0:]\n",
    "num_columns_with_columns = zip(df.columns[0:],range(4))\n",
    "all_frames_with_rows = zip([df,df_1,df_2],range(3))\n",
    "\n",
    "for column in list(itertools.product(all_frames_with_rows,num_columns_with_columns)):\n",
    "    ax[column[0][1]][column[1][1]].boxplot(column[0][0][column[1][0]])\n",
    "\n",
    "for row in range(3):\n",
    "    ax[row][0].set_ylabel(all_frames[row])\n",
    "\n",
    "for column in range(4):\n",
    "    ax[0][column].set_title(num_columns[column])"
   ]
  },
  {
   "cell_type": "markdown",
   "metadata": {},
   "source": [
    "вывод: в некоторых столбцах есть данные, выходящие за границы. Эти данные будут мешать модели обучаться, отвлекая её. Поэтому их необходимо удалить."
   ]
  },
  {
   "cell_type": "markdown",
   "metadata": {},
   "source": [
    "создадим функцию для удаления подобных данных"
   ]
  },
  {
   "cell_type": "code",
   "execution_count": 16,
   "metadata": {},
   "outputs": [],
   "source": [
    "def remove_ouliers(df,column):\n",
    "    q25=np.array(df[column].quantile(0.25))\n",
    "    \n",
    "    q75=np.array(df[column].quantile(0.75))\n",
    "    first_part=q25-1.5*(q75-q25)\n",
    "    second_part=q75+1.5*(q75-q25)\n",
    "    del_index = []\n",
    "    for index_value, value in zip(df[column].index,df[column]):\n",
    "        if second_part <= value or value <= first_part:\n",
    "            del_index.append(index_value)\n",
    "    \n",
    "    print('Количество строк, выбранных для удаления: ',len(del_index))\n",
    "    return del_index"
   ]
  },
  {
   "cell_type": "markdown",
   "metadata": {},
   "source": [
    "применим ее"
   ]
  },
  {
   "cell_type": "code",
   "execution_count": 17,
   "metadata": {},
   "outputs": [
    {
     "name": "stdout",
     "output_type": "stream",
     "text": [
      "Количество строк, выбранных для удаления:  506\n",
      "Количество строк, выбранных для удаления:  636\n",
      "Количество строк, выбранных для удаления:  733\n",
      "Количество строк, выбранных для удаления:  682\n",
      "Количество строк, выбранных для удаления:  582\n"
     ]
    }
   ],
   "source": [
    "noise_data = [(df,\"f2\"),\n",
    " (df_1,\"f1\"),\n",
    " (df_2,\"f0\"),\n",
    " (df_2,\"f1\"),\n",
    " (df_2,\"f2\")]\n",
    "\n",
    "for df,column in noise_data:\n",
    "    indexes = remove_ouliers(df,column)\n",
    "    df.drop(indexes,axis = 0,inplace = True)"
   ]
  },
  {
   "cell_type": "code",
   "execution_count": 18,
   "metadata": {},
   "outputs": [],
   "source": [
    "df = df.reset_index(drop = True)\n",
    "df_1 = df_1.reset_index(drop = True)\n",
    "df_2 = df_2.reset_index(drop = True)"
   ]
  },
  {
   "cell_type": "markdown",
   "metadata": {},
   "source": [
    "еще раз построим диагармму рассеяния "
   ]
  },
  {
   "cell_type": "code",
   "execution_count": 91,
   "metadata": {},
   "outputs": [
    {
     "data": {
      "image/png": "[encoded data removed]",
      "text/plain": [
       "<Figure size 1440x1080 with 12 Axes>"
      ]
     },
     "metadata": {
      "needs_background": "light"
     },
     "output_type": "display_data"
    }
   ],
   "source": [
    "fig,ax = plt.subplots(3,4,figsize = (20,15))\n",
    "\n",
    "all_frames = [\"df\",\"df_1\",\"df_2\"]\n",
    "num_columns = df.columns[0:]\n",
    "num_columns_with_columns = zip(df.columns[0:],range(4))\n",
    "all_frames_with_rows = zip([df,df_1,df_2],range(3))\n",
    "\n",
    "for column in list(itertools.product(all_frames_with_rows,num_columns_with_columns)):\n",
    "    ax[column[0][1]][column[1][1]].boxplot(column[0][0][column[1][0]])\n",
    "\n",
    "for row in range(3):\n",
    "    ax[row][0].set_ylabel(all_frames[row])\n",
    "\n",
    "for column in range(4):\n",
    "    ax[0][column].set_title(num_columns[column])"
   ]
  },
  {
   "cell_type": "markdown",
   "metadata": {},
   "source": [
    "вывод: в вывод, видим что почти все данные выходящие за пределы нормали ушли, это значительно повысет качество модели"
   ]
  },
  {
   "cell_type": "markdown",
   "metadata": {},
   "source": [
    "посмотрим количество пропусков в данных для столбца 'product', особено инетересен df_1, т.к. в нем присутствует множество пропусков в даном столбце"
   ]
  },
  {
   "cell_type": "code",
   "execution_count": 20,
   "metadata": {},
   "outputs": [],
   "source": [
    "def check_zeros(df, target_name):\n",
    "    zeros = df[df[target_name] == 0][target_name].count()\n",
    "    percent = zeros / df.shape[0]\n",
    "    print('Количество нулевых значений -', zeros)\n",
    "    print('Процент нулевых значений -', percent)"
   ]
  },
  {
   "cell_type": "code",
   "execution_count": 21,
   "metadata": {
    "scrolled": true
   },
   "outputs": [
    {
     "name": "stdout",
     "output_type": "stream",
     "text": [
      "Количество нулевых значений - 1\n",
      "Процент нулевых значений - 1.0203769272369213e-05\n",
      "None\n",
      "Количество нулевых значений - 8173\n",
      "Процент нулевых значений - 0.08225312990620345\n",
      "None\n",
      "Количество нулевых значений - 1\n",
      "Процент нулевых значений - 1.0203769272369213e-05\n",
      "None\n"
     ]
    }
   ],
   "source": [
    "print(check_zeros(df, 'product'),sep='')\n",
    "print(check_zeros(df_1, 'product'),sep='')\n",
    "print(check_zeros(df_2, 'product'),sep='')"
   ]
  },
  {
   "cell_type": "markdown",
   "metadata": {},
   "source": [
    "вывод: Во втором датафрейме около 8,2% месторождений не имело значения в столбце product. При сравнении с такими же значениями из первого и третьего датафрейма можно понять, что были утеряны данные или не они не были исследованы.\n",
    "\n",
    "По гистограммам можно понять, что у первого и третьего фрейма распределение скважин близкое к нормальному. Во втором датафрейме данные имеют странное распределение: от 0 до 5 баррелей с шагом по 15-20 равномерно распределены 100000 значений. Данные не подчиняются закону больших чисел и скорей всего были введены искуственно.\n",
    "\n",
    "Также данные были подготовленны к делению на выборки, для дальнейшего обучения модели."
   ]
  },
  {
   "cell_type": "markdown",
   "metadata": {},
   "source": [
    "## Обучение и проверка модели"
   ]
  },
  {
   "cell_type": "markdown",
   "metadata": {},
   "source": [
    "т.к. работаем сразу с 3 дата фреймами проще всего будет создать функцию для разбивки фреймов на выборки."
   ]
  },
  {
   "cell_type": "code",
   "execution_count": null,
   "metadata": {},
   "outputs": [],
   "source": []
  },
  {
   "cell_type": "markdown",
   "metadata": {},
   "source": [
    "Произведем вывод предсказанного запаса с реальным и выведем RMSE. Для этого напишем функцию."
   ]
  },
  {
   "cell_type": "code",
   "execution_count": 46,
   "metadata": {},
   "outputs": [],
   "source": [
    "\n",
    "model = LinearRegression()\n",
    "\n",
    "def predict(df, target_name):\n",
    "    features = df.drop([target_name] , axis=1)\n",
    "    target = df[target_name]\n",
    "    \n",
    "    features_train, features_valid, target_train, target_valid = train_test_split(\n",
    "    features, target, test_size=0.25, random_state=12345)\n",
    "\n",
    "\n",
    "    model.fit(features_train, target_train)\n",
    "    predicted_target = model.predict(features_valid)\n",
    "    data = {'real_product' : target_valid,\n",
    "            'predicted_product' : predicted_target         \n",
    "    }\n",
    "    data_frame = pd.DataFrame(data, columns = ['real_product', 'predicted_product'])\n",
    "    rmse = mean_squared_error(target_valid, predicted_target)**0.5\n",
    "    mean = data_frame['predicted_product'].mean()\n",
    "    oil_sum = data_frame['predicted_product'].sum()\n",
    "    return data_frame, rmse, mean, oil_sum"
   ]
  },
  {
   "cell_type": "code",
   "execution_count": 47,
   "metadata": {},
   "outputs": [
    {
     "name": "stdout",
     "output_type": "stream",
     "text": [
      "       real_product  predicted_product\n",
      "33309    118.102692          88.674397\n",
      "24660    138.922937         101.446221\n",
      "644       80.090879          67.964319\n",
      "40155     63.871875          69.315998\n",
      "40706     91.091936          72.246904\n",
      "RMSE - 40.17679711012713\n",
      "Средний запас запасанного сырья - 94.67716913212334\n"
     ]
    }
   ],
   "source": [
    "df_predicted, df_rmse, df_predicted_mean, df_predicted_sum = predict(df, 'product')\n",
    "print(df_predicted.head())\n",
    "print('RMSE -', df_rmse)\n",
    "print('Средний запас запасанного сырья -', df_predicted_mean)"
   ]
  },
  {
   "cell_type": "code",
   "execution_count": 48,
   "metadata": {},
   "outputs": [
    {
     "name": "stdout",
     "output_type": "stream",
     "text": [
      "       real_product  predicted_product\n",
      "82769      3.179103           3.259301\n",
      "60916    110.992147         111.017480\n",
      "33596      3.179103           2.797422\n",
      "95799     80.859783          82.993957\n",
      "63600     57.085625          57.153420\n",
      "RMSE - 0.88944781464016\n",
      "Средний запас запасанного сырья - 68.59166978153502\n"
     ]
    }
   ],
   "source": [
    "df_1_predicted, df_1_rmse, df_1_predicted_mean, df_1_predicted_sum = predict(df_1, 'product')\n",
    "print(df_1_predicted.head())\n",
    "print('RMSE -', df_1_rmse)\n",
    "print('Средний запас запасанного сырья -', df_1_predicted_mean)"
   ]
  },
  {
   "cell_type": "code",
   "execution_count": 49,
   "metadata": {
    "scrolled": false
   },
   "outputs": [
    {
     "name": "stdout",
     "output_type": "stream",
     "text": [
      "       real_product  predicted_product\n",
      "33309    118.102692          88.674397\n",
      "24660    138.922937         101.446221\n",
      "644       80.090879          67.964319\n",
      "40155     63.871875          69.315998\n",
      "40706     91.091936          72.246904\n",
      "RMSE - 40.17679711012713\n",
      "Средний запас запасанного сырья - 94.67716913212334\n"
     ]
    }
   ],
   "source": [
    "df_2_predicted, df_2_rmse, df_2_predicted_mean, df_2_predicted_sum = predict(df_2, 'product')\n",
    "print(df_2_predicted.head())\n",
    "print('RMSE -', df_2_rmse)\n",
    "print('Средний запас запасанного сырья -', df_2_predicted_mean)"
   ]
  },
  {
   "cell_type": "markdown",
   "metadata": {},
   "source": [
    "Оценим общий запас на регион по предсказанным данным"
   ]
  },
  {
   "cell_type": "code",
   "execution_count": 50,
   "metadata": {},
   "outputs": [
    {
     "name": "stdout",
     "output_type": "stream",
     "text": [
      "Суммарный предсказанный запас в позиции 0 - 2319685.320906154\n",
      "Суммарный реальный запас в позиции 0 - 2322658.4866408696\n",
      "\n",
      "Суммарный предсказанный запас в позиции 1 - 1703885.6690431114\n",
      "Суммарный реальный запас в позиции 1 - 1703921.4421404235\n",
      "\n",
      "Суммарный предсказанный запас в позиции 2 - 2319685.320906154\n",
      "Суммарный реальный запас в позиции 2 - 2322658.4866408696\n"
     ]
    }
   ],
   "source": [
    "print('Суммарный предсказанный запас в позиции 0 -', df_predicted_sum)\n",
    "print('Суммарный реальный запас в позиции 0 -', df_predicted['real_product'].sum())\n",
    "print()\n",
    "print('Суммарный предсказанный запас в позиции 1 -', df_1_predicted_sum)\n",
    "print('Суммарный реальный запас в позиции 1 -', df_1_predicted['real_product'].sum())\n",
    "print()\n",
    "print('Суммарный предсказанный запас в позиции 2 -', df_2_predicted_sum)\n",
    "print('Суммарный реальный запас в позиции 2 -', df_2_predicted['real_product'].sum())"
   ]
  },
  {
   "cell_type": "markdown",
   "metadata": {},
   "source": [
    "Вывод: Данные предсказаний о количестве нефти по сумме примерно совпадают по сумме с предсказанными значениями. Лучше всего модель предсказала запасы во втором фрейме (RMSE - 0.88), далее в первом и третьем соотвественно.\n",
    "\n",
    "Возможно утеряные данные из второго фрейма сказались на модели и она достаточно сильно переобучилась.\n",
    "\n",
    "Но из-за утери данных и малого запаса в среднем не имеет смысла рассматривать второй фрейм как прибыльное месторождение.\n",
    "\n",
    "Изучим все фреймы на риски и прибыль, но в конечном итоге будем выбирать между 1 и 3 фреймом."
   ]
  },
  {
   "cell_type": "markdown",
   "metadata": {},
   "source": [
    "## Подготовка к расчёту прибыли"
   ]
  },
  {
   "cell_type": "markdown",
   "metadata": {},
   "source": [
    "Создадим переменные об экономической информации."
   ]
  },
  {
   "cell_type": "code",
   "execution_count": 51,
   "metadata": {},
   "outputs": [
    {
     "name": "stdout",
     "output_type": "stream",
     "text": [
      "10000000000\n"
     ]
    }
   ],
   "source": [
    "budget = 10*(10**9) #10 000 000 000\n",
    "print(budget)\n",
    "chosen_points = 500 #исследуем 500 точек\n",
    "best_points = 200 #200 лучших\n",
    "price_per_barrel = 450000 #за 1000 баррель"
   ]
  },
  {
   "cell_type": "markdown",
   "metadata": {},
   "source": [
    "Расчитаем безубыточную разработку сырья на 200 месторождениях. И найдем среднее количество продукта в месторождениях необходимое для этого."
   ]
  },
  {
   "cell_type": "code",
   "execution_count": 26,
   "metadata": {},
   "outputs": [
    {
     "name": "stdout",
     "output_type": "stream",
     "text": [
      "Средняя прибыль на лучшую точку - 50000000.0 тыс.руб.\n",
      "Средний объем нефти на точку - 111.11111111111111 тыс. баррелей\n",
      "Средний объем нефти на регион - 22222.222222222223 тыс. баррелей\n"
     ]
    }
   ],
   "source": [
    "average_profit_per_point = budget / best_points\n",
    "print('Средняя прибыль на лучшую точку -', average_profit_per_point, 'тыс.руб.')\n",
    "\n",
    "average_barrels_per_point = average_profit_per_point  / price_per_barrel\n",
    "print('Средний объем нефти на точку -',average_barrels_per_point, 'тыс. баррелей')\n",
    "\n",
    "average_barrels = budget / price_per_barrel\n",
    "print('Средний объем нефти на регион -',average_barrels, 'тыс. баррелей')"
   ]
  },
  {
   "cell_type": "markdown",
   "metadata": {},
   "source": [
    "Фактические запасы"
   ]
  },
  {
   "cell_type": "code",
   "execution_count": 27,
   "metadata": {},
   "outputs": [
    {
     "name": "stdout",
     "output_type": "stream",
     "text": [
      "Средний запас фактичекой нефти на скважину в 1 92.50000000000001\n",
      "Средний запас фактичекой нефти на скважину в 2 68.82500000000002\n",
      "Средний запас фактичекой нефти на скважину в 3 95.00000000000004\n"
     ]
    }
   ],
   "source": [
    "print('Средний запас фактичекой нефти на скважину в 1', df['product'].mean())\n",
    "print('Средний запас фактичекой нефти на скважину в 2', df_1['product'].mean())\n",
    "print('Средний запас фактичекой нефти на скважину в 3', df_2['product'].mean())"
   ]
  },
  {
   "cell_type": "code",
   "execution_count": 28,
   "metadata": {},
   "outputs": [
    {
     "data": {
      "image/png": "[encoded data removed]",
      "text/plain": [
       "<Figure size 864x648 with 1 Axes>"
      ]
     },
     "metadata": {
      "needs_background": "light"
     },
     "output_type": "display_data"
    }
   ],
   "source": [
    "hist(df_predicted['predicted_product'], 200, 190, 500)"
   ]
  },
  {
   "cell_type": "code",
   "execution_count": 29,
   "metadata": {},
   "outputs": [
    {
     "data": {
      "image/png": "[encoded data removed]",
      "text/plain": [
       "<Figure size 864x648 with 1 Axes>"
      ]
     },
     "metadata": {
      "needs_background": "light"
     },
     "output_type": "display_data"
    }
   ],
   "source": [
    "hist(df_1_predicted['predicted_product'], 50, 150, 3000)"
   ]
  },
  {
   "cell_type": "code",
   "execution_count": 30,
   "metadata": {},
   "outputs": [
    {
     "data": {
      "image/png": "[encoded data removed]",
      "text/plain": [
       "<Figure size 864x648 with 1 Axes>"
      ]
     },
     "metadata": {
      "needs_background": "light"
     },
     "output_type": "display_data"
    }
   ],
   "source": [
    "hist(df_2_predicted['predicted_product'], 200, 190, 500)"
   ]
  },
  {
   "cell_type": "markdown",
   "metadata": {},
   "source": [
    "Вывод: Анализ средних объемов на скважину для каждого региона следующий.\n",
    "\n",
    "Средний запас фактичекой нефти на скважину в 1 92.50000000000001\n",
    "Средний запас фактичекой нефти на скважину в 2 68.82500000000002\n",
    "Средний запас фактичекой нефти на скважину в 3 95.00000000000004\n",
    "Изучены средние фактические запасы. Для первого и третьего - высокая вероятность окупить затраты. Разброс значений вокруг среднего 92.5 и 95 говорит нам о том, что существует достаточно много скважин, где запасы больше необходимого среднего.\n",
    "\n",
    "Во вторых данных может быть и есть определенный смысл - значений больше 111 достаточно много и при определенной доли везения можно выбрать только лучшие в этой выборке, хотя и среднее значение 68.8."
   ]
  },
  {
   "cell_type": "markdown",
   "metadata": {},
   "source": [
    "## Расчёт прибыли и рисков "
   ]
  },
  {
   "cell_type": "markdown",
   "metadata": {},
   "source": [
    "Функция для расчета прибыли на 500 разведанных точек."
   ]
  },
  {
   "cell_type": "code",
   "execution_count": 61,
   "metadata": {},
   "outputs": [],
   "source": [
    "def oil_profit_calculation(target, probabilities, count):\n",
    "    probs_sorted = probabilities.sort_values(ascending=False)\n",
    "    selected = target[probs_sorted.index][:count]\n",
    "    return price_per_barrel * selected.sum() - budget"
   ]
  },
  {
   "cell_type": "markdown",
   "metadata": {},
   "source": [
    "Функция Bootstrap с 1000 выборок"
   ]
  },
  {
   "cell_type": "code",
   "execution_count": 72,
   "metadata": {},
   "outputs": [],
   "source": [
    "state = np.random.RandomState(1515)\n",
    "def bootstrap_1000(target, probs):\n",
    "    values=[]\n",
    "    lost = 0\n",
    "    for i in range(1000):\n",
    "        target_sample = target.sample(replace=True, random_state=state, n=chosen_points)\n",
    "        probs_sample = probs[target_sample.index]\n",
    "        profit = oil_profit_calculation(target, probs_sample, best_points)\n",
    "        if profit < 0:\n",
    "            lost +=1\n",
    "        values.append(profit)\n",
    "    \n",
    "    values = pd.Series(values)\n",
    "    lower = values.quantile(0.025)\n",
    "    upper = values.quantile(0.975)\n",
    "    average = values.mean()\n",
    "    risk = lost / 1000\n",
    "    return average, lower, upper, risk"
   ]
  },
  {
   "cell_type": "code",
   "execution_count": 84,
   "metadata": {},
   "outputs": [
    {
     "name": "stdout",
     "output_type": "stream",
     "text": [
      "Данные по первому региону.\n",
      "Средняя прибыль по региону = 348125731.47 тыс.руб.\n",
      "95% доверительный интервал от -210000061.88 до 845936416.52 тыс.руб.\n",
      "Процент риска 9.60%\n"
     ]
    }
   ],
   "source": [
    "average_1, lower_1, upper_1, risk_1 = bootstrap_1000(df_predicted['real_product'], \n",
    "                                                     df_predicted['predicted_product'])\n",
    "print('Данные по первому региону.')\n",
    "print('Средняя прибыль по региону = {:.2f} тыс.руб.'.format(average_1))\n",
    "print('95% доверительный интервал от {:.2f} до {:.2f} тыс.руб.'.format(lower_1, upper_1))\n",
    "print('Процент риска {:.2%}'.format(risk_1))"
   ]
  },
  {
   "cell_type": "code",
   "execution_count": 85,
   "metadata": {
    "scrolled": true
   },
   "outputs": [
    {
     "name": "stdout",
     "output_type": "stream",
     "text": [
      "Данные по первому региону.\n",
      "Средняя прибыль по региону = 455809928.22 тыс.руб.\n",
      "95% доверительный интервал от 18962524.26 до 877995089.91 тыс.руб.\n",
      "Процент риска 2.00%\n"
     ]
    }
   ],
   "source": [
    "average_2, lower_2, upper_2, risk_2 = bootstrap_1000(df_1_predicted['real_product'], \n",
    "                                                     df_1_predicted['predicted_product'])\n",
    "print('Данные по первому региону.')\n",
    "print('Средняя прибыль по региону = {:.2f} тыс.руб.'.format(average_2))\n",
    "print('95% доверительный интервал от {:.2f} до {:.2f} тыс.руб.'.format(lower_2, upper_2))\n",
    "print('Процент риска {:.2%}'.format(risk_2))"
   ]
  },
  {
   "cell_type": "code",
   "execution_count": 86,
   "metadata": {},
   "outputs": [
    {
     "name": "stdout",
     "output_type": "stream",
     "text": [
      "Данные по первому региону.\n",
      "Средняя прибыль по региону = 359019731.21 тыс.руб.\n",
      "95% доверительный интервал от -153043652.58 до 875157252.87 тыс.руб.\n",
      "Процент риска 9.40%\n"
     ]
    }
   ],
   "source": [
    "average_3, lower_3, upper_3, risk_3 = bootstrap_1000(df_2_predicted['real_product'], \n",
    "                                                     df_2_predicted['predicted_product'])\n",
    "print('Данные по первому региону.')\n",
    "print('Средняя прибыль по региону = {:.2f} тыс.руб.'.format(average_3))\n",
    "print('95% доверительный интервал от {:.2f} до {:.2f} тыс.руб.'.format(lower_3, upper_3))\n",
    "print('Процент риска {:.2%}'.format(risk_3))"
   ]
  },
  {
   "cell_type": "markdown",
   "metadata": {},
   "source": [
    "Вывод:Мы отсеиваем первый и третий регион, так как риски относительно велики (10,5% и 10%). Остается один единственный - второй, чей риск ниже требуемого (1.7%). Кроме того доверительный интервал показывает, что даже при не очень удачном выборе разработка скважин окупится."
   ]
  },
  {
   "cell_type": "markdown",
   "metadata": {},
   "source": [
    "## Вывод"
   ]
  },
  {
   "cell_type": "markdown",
   "metadata": {},
   "source": [
    "Итоговый вывод:\n",
    "\n",
    "Изучины данные. Проведена подготовка данных к моделированию, были проведены проверка на дубликаты,пропущенные значения и корреляции признаков.\n",
    "\n",
    "Обучена модель для каждого дата фрейма (региона) df, df_1, df_2.\n",
    "\n",
    "Составлена функция расчета прибыли в регионе.\n",
    "\n",
    "Посчитана прибыль и риски за каждый регион и обоснован выбор региона.\n",
    "\n",
    "Второй регион получился одним из лучших по показателям предсказывания, хотя данные не выглядят нормально распределенными. Что довольно не обычно для подобного рода данных."
   ]
  },
  {
   "cell_type": "markdown",
   "metadata": {},
   "source": [
    "## Чек-лист готовности проекта"
   ]
  },
  {
   "cell_type": "markdown",
   "metadata": {},
   "source": [
    "Поставьте 'x' в выполненных пунктах. Далее нажмите Shift+Enter."
   ]
  },
  {
   "cell_type": "markdown",
   "metadata": {},
   "source": [
    "- [x]  Jupyter Notebook открыт\n",
    "- [x]  Весь код выполняется без ошибок\n",
    "- [x]  Ячейки с кодом расположены в порядке исполнения\n",
    "- [x]  Выполнен шаг 1: данные подготовлены\n",
    "- [x]  Выполнен шаг 2: модели обучены и проверены\n",
    "    - [x]  Данные корректно разбиты на обучающую и валидационную выборки\n",
    "    - [x]  Модели обучены, предсказания сделаны\n",
    "    - [x]  Предсказания и правильные ответы на валидационной выборке сохранены\n",
    "    - [x]  На экране напечатаны результаты\n",
    "    - [x]  Сделаны выводы\n",
    "- [x]  Выполнен шаг 3: проведена подготовка к расчёту прибыли\n",
    "    - [x]  Для всех ключевых значений созданы константы Python\n",
    "    - [x]  Посчитано минимальное среднее количество продукта в месторождениях региона, достаточное для разработки\n",
    "    - [x]  По предыдущему пункту сделаны выводы\n",
    "    - [x]  Написана функция расчёта прибыли\n",
    "- [x]  Выполнен шаг 4: посчитаны риски и прибыль\n",
    "    - [x]  Проведена процедура *Bootstrap*\n",
    "    - [x]  Все параметры бутстрепа соответствуют условию\n",
    "    - [x]  Найдены все нужные величины\n",
    "    - [x]  Предложен регион для разработки месторождения\n",
    "    - [x]  Выбор региона обоснован"
   ]
  },
  {
   "cell_type": "code",
   "execution_count": null,
   "metadata": {},
   "outputs": [],
   "source": []
  }
 ],
 "metadata": {
  "ExecuteTimeLog": [
   {
    "duration": 1808,
    "start_time": "2023-03-14T04:41:54.030Z"
   },
   {
    "duration": 273,
    "start_time": "2023-03-14T04:41:55.841Z"
   },
   {
    "duration": 239,
    "start_time": "2023-03-14T04:41:56.117Z"
   },
   {
    "duration": 248,
    "start_time": "2023-03-14T04:41:56.369Z"
   },
   {
    "duration": 145,
    "start_time": "2023-03-14T04:43:37.392Z"
   },
   {
    "duration": 155,
    "start_time": "2023-03-14T04:44:04.930Z"
   },
   {
    "duration": 140,
    "start_time": "2023-03-14T04:44:40.671Z"
   },
   {
    "duration": 16,
    "start_time": "2023-03-14T04:50:27.217Z"
   },
   {
    "duration": 26,
    "start_time": "2023-03-14T04:53:19.486Z"
   },
   {
    "duration": 21,
    "start_time": "2023-03-14T04:53:22.625Z"
   },
   {
    "duration": 191,
    "start_time": "2023-03-14T04:53:23.337Z"
   },
   {
    "duration": 13,
    "start_time": "2023-03-14T04:53:24.398Z"
   },
   {
    "duration": 20,
    "start_time": "2023-03-14T04:54:25.953Z"
   },
   {
    "duration": 132,
    "start_time": "2023-03-14T04:54:25.975Z"
   },
   {
    "duration": 61,
    "start_time": "2023-03-14T04:54:26.192Z"
   },
   {
    "duration": 10,
    "start_time": "2023-03-14T04:54:26.633Z"
   },
   {
    "duration": 11,
    "start_time": "2023-03-14T04:54:44.673Z"
   },
   {
    "duration": 72,
    "start_time": "2023-03-14T04:54:52.795Z"
   },
   {
    "duration": 11,
    "start_time": "2023-03-14T04:54:54.672Z"
   },
   {
    "duration": 11,
    "start_time": "2023-03-14T04:54:55.913Z"
   },
   {
    "duration": 31,
    "start_time": "2023-03-14T04:56:49.649Z"
   },
   {
    "duration": 9,
    "start_time": "2023-03-14T04:56:50.032Z"
   },
   {
    "duration": 27,
    "start_time": "2023-03-14T04:57:55.197Z"
   },
   {
    "duration": 38,
    "start_time": "2023-03-14T05:00:11.505Z"
   },
   {
    "duration": 11,
    "start_time": "2023-03-14T05:00:14.001Z"
   },
   {
    "duration": 39,
    "start_time": "2023-03-14T05:00:15.441Z"
   },
   {
    "duration": 123,
    "start_time": "2023-03-14T05:00:41.121Z"
   },
   {
    "duration": 218,
    "start_time": "2023-03-14T05:01:01.550Z"
   },
   {
    "duration": 17,
    "start_time": "2023-03-14T05:02:08.978Z"
   },
   {
    "duration": 12,
    "start_time": "2023-03-14T05:03:31.288Z"
   },
   {
    "duration": 17,
    "start_time": "2023-03-14T05:03:33.796Z"
   },
   {
    "duration": 10,
    "start_time": "2023-03-14T05:03:34.906Z"
   },
   {
    "duration": 50,
    "start_time": "2023-03-14T05:05:40.333Z"
   },
   {
    "duration": 20,
    "start_time": "2023-03-14T05:06:07.894Z"
   },
   {
    "duration": 1092,
    "start_time": "2023-03-14T05:07:45.189Z"
   },
   {
    "duration": 1135,
    "start_time": "2023-03-14T05:07:54.295Z"
   },
   {
    "duration": 5,
    "start_time": "2023-03-14T05:08:25.407Z"
   },
   {
    "duration": 2520,
    "start_time": "2023-03-14T05:08:28.974Z"
   },
   {
    "duration": 1481,
    "start_time": "2023-03-18T07:38:04.621Z"
   },
   {
    "duration": 581,
    "start_time": "2023-03-18T07:38:06.104Z"
   },
   {
    "duration": 518,
    "start_time": "2023-03-18T07:38:06.687Z"
   },
   {
    "duration": 546,
    "start_time": "2023-03-18T07:38:07.206Z"
   },
   {
    "duration": 145,
    "start_time": "2023-03-18T07:38:07.754Z"
   },
   {
    "duration": 1038,
    "start_time": "2023-03-18T07:38:07.901Z"
   },
   {
    "duration": 97,
    "start_time": "2023-03-18T07:39:56.404Z"
   },
   {
    "duration": 3,
    "start_time": "2023-03-18T08:14:47.995Z"
   },
   {
    "duration": 4,
    "start_time": "2023-03-18T08:15:28.277Z"
   },
   {
    "duration": 396,
    "start_time": "2023-03-18T08:15:28.725Z"
   },
   {
    "duration": 405,
    "start_time": "2023-03-18T08:15:29.333Z"
   },
   {
    "duration": 405,
    "start_time": "2023-03-18T08:15:30.278Z"
   },
   {
    "duration": 397,
    "start_time": "2023-03-18T08:15:54.604Z"
   },
   {
    "duration": 271,
    "start_time": "2023-03-18T08:15:58.590Z"
   },
   {
    "duration": 246,
    "start_time": "2023-03-18T08:16:11.610Z"
   },
   {
    "duration": 387,
    "start_time": "2023-03-18T08:16:13.921Z"
   },
   {
    "duration": 107,
    "start_time": "2023-03-18T08:18:21.812Z"
   },
   {
    "duration": 3,
    "start_time": "2023-03-18T08:18:24.463Z"
   },
   {
    "duration": 17,
    "start_time": "2023-03-18T08:18:24.905Z"
   },
   {
    "duration": 10,
    "start_time": "2023-03-18T08:18:30.469Z"
   },
   {
    "duration": 194,
    "start_time": "2023-03-18T08:19:15.266Z"
   },
   {
    "duration": 214,
    "start_time": "2023-03-18T08:19:23.524Z"
   },
   {
    "duration": 235,
    "start_time": "2023-03-18T08:19:28.328Z"
   },
   {
    "duration": 321,
    "start_time": "2023-03-18T08:19:34.515Z"
   },
   {
    "duration": 201,
    "start_time": "2023-03-18T08:19:40.011Z"
   },
   {
    "duration": 213,
    "start_time": "2023-03-18T08:20:00.065Z"
   },
   {
    "duration": 255,
    "start_time": "2023-03-18T08:20:09.407Z"
   },
   {
    "duration": 235,
    "start_time": "2023-03-18T08:20:17.210Z"
   },
   {
    "duration": 404,
    "start_time": "2023-03-18T08:20:29.315Z"
   },
   {
    "duration": 518,
    "start_time": "2023-03-18T08:20:40.520Z"
   },
   {
    "duration": 412,
    "start_time": "2023-03-18T08:20:59.015Z"
   },
   {
    "duration": 13,
    "start_time": "2023-03-18T08:21:26.229Z"
   },
   {
    "duration": 15,
    "start_time": "2023-03-18T08:21:27.210Z"
   },
   {
    "duration": 26,
    "start_time": "2023-03-18T08:21:27.805Z"
   },
   {
    "duration": 43,
    "start_time": "2023-03-18T08:21:29.115Z"
   },
   {
    "duration": 10,
    "start_time": "2023-03-18T08:21:30.003Z"
   },
   {
    "duration": 9,
    "start_time": "2023-03-18T08:21:34.425Z"
   },
   {
    "duration": 192,
    "start_time": "2023-03-18T08:21:35.050Z"
   },
   {
    "duration": 4,
    "start_time": "2023-03-18T08:24:49.539Z"
   },
   {
    "duration": 12,
    "start_time": "2023-03-18T08:24:50.187Z"
   },
   {
    "duration": 3,
    "start_time": "2023-03-18T08:24:55.619Z"
   },
   {
    "duration": 15,
    "start_time": "2023-03-18T08:24:56.135Z"
   },
   {
    "duration": 4,
    "start_time": "2023-03-18T08:24:59.502Z"
   },
   {
    "duration": 10,
    "start_time": "2023-03-18T08:24:59.981Z"
   },
   {
    "duration": 43,
    "start_time": "2023-03-18T08:28:02.949Z"
   },
   {
    "duration": 5,
    "start_time": "2023-03-18T08:28:52.849Z"
   },
   {
    "duration": 16,
    "start_time": "2023-03-18T08:31:19.917Z"
   },
   {
    "duration": 3,
    "start_time": "2023-03-18T08:31:21.138Z"
   },
   {
    "duration": 3,
    "start_time": "2023-03-18T08:31:25.375Z"
   },
   {
    "duration": 12,
    "start_time": "2023-03-18T08:31:25.811Z"
   },
   {
    "duration": 5,
    "start_time": "2023-03-18T08:34:38.835Z"
   },
   {
    "duration": 10,
    "start_time": "2023-03-18T08:34:39.126Z"
   },
   {
    "duration": 10,
    "start_time": "2023-03-18T08:40:12.860Z"
   },
   {
    "duration": 3,
    "start_time": "2023-03-18T08:40:15.521Z"
   },
   {
    "duration": 9,
    "start_time": "2023-03-18T08:40:15.853Z"
   },
   {
    "duration": 15,
    "start_time": "2023-03-18T08:40:22.649Z"
   },
   {
    "duration": 9,
    "start_time": "2023-03-18T08:41:40.684Z"
   },
   {
    "duration": 4,
    "start_time": "2023-03-18T08:41:51.697Z"
   },
   {
    "duration": 3,
    "start_time": "2023-03-18T08:42:17.762Z"
   },
   {
    "duration": 4,
    "start_time": "2023-03-18T08:42:50.891Z"
   },
   {
    "duration": 5,
    "start_time": "2023-03-18T08:43:07.826Z"
   },
   {
    "duration": 3,
    "start_time": "2023-03-18T08:43:54.846Z"
   },
   {
    "duration": 14,
    "start_time": "2023-03-18T08:43:55.227Z"
   },
   {
    "duration": 4,
    "start_time": "2023-03-18T08:43:55.604Z"
   },
   {
    "duration": 10,
    "start_time": "2023-03-18T08:46:49.856Z"
   },
   {
    "duration": 19,
    "start_time": "2023-03-18T08:46:56.684Z"
   },
   {
    "duration": 21,
    "start_time": "2023-03-18T08:47:00.763Z"
   },
   {
    "duration": 10,
    "start_time": "2023-03-18T08:47:30.372Z"
   },
   {
    "duration": 17,
    "start_time": "2023-03-18T08:47:37.764Z"
   },
   {
    "duration": 21,
    "start_time": "2023-03-18T08:56:53.659Z"
   },
   {
    "duration": 70,
    "start_time": "2023-03-18T08:57:15.314Z"
   },
   {
    "duration": 99,
    "start_time": "2023-03-18T08:58:03.641Z"
   },
   {
    "duration": 4,
    "start_time": "2023-03-18T09:01:38.518Z"
   },
   {
    "duration": 138,
    "start_time": "2023-03-18T09:01:39.392Z"
   },
   {
    "duration": 3,
    "start_time": "2023-03-18T09:02:22.090Z"
   },
   {
    "duration": 127,
    "start_time": "2023-03-18T09:02:22.656Z"
   },
   {
    "duration": 343,
    "start_time": "2023-03-18T09:02:54.973Z"
   },
   {
    "duration": 365,
    "start_time": "2023-03-18T09:03:46.800Z"
   },
   {
    "duration": 51,
    "start_time": "2023-03-18T09:03:59.517Z"
   },
   {
    "duration": 50,
    "start_time": "2023-03-18T09:04:03.649Z"
   },
   {
    "duration": 356,
    "start_time": "2023-03-18T09:04:27.648Z"
   },
   {
    "duration": 351,
    "start_time": "2023-03-18T09:05:43.670Z"
   },
   {
    "duration": 341,
    "start_time": "2023-03-18T09:05:53.166Z"
   },
   {
    "duration": 344,
    "start_time": "2023-03-18T09:06:01.712Z"
   },
   {
    "duration": 341,
    "start_time": "2023-03-18T09:06:09.657Z"
   },
   {
    "duration": 368,
    "start_time": "2023-03-18T09:06:30.685Z"
   },
   {
    "duration": 356,
    "start_time": "2023-03-18T09:06:42.933Z"
   },
   {
    "duration": 395,
    "start_time": "2023-03-18T09:06:57.218Z"
   },
   {
    "duration": 338,
    "start_time": "2023-03-18T09:07:10.295Z"
   },
   {
    "duration": 338,
    "start_time": "2023-03-18T09:07:13.413Z"
   },
   {
    "duration": 3,
    "start_time": "2023-03-18T09:08:38.723Z"
   },
   {
    "duration": 21,
    "start_time": "2023-03-18T09:10:38.588Z"
   },
   {
    "duration": 21,
    "start_time": "2023-03-18T09:11:52.737Z"
   },
   {
    "duration": 4,
    "start_time": "2023-03-18T09:12:23.583Z"
   },
   {
    "duration": 18,
    "start_time": "2023-03-18T09:12:28.869Z"
   },
   {
    "duration": 15,
    "start_time": "2023-03-18T09:13:56.218Z"
   },
   {
    "duration": 20,
    "start_time": "2023-03-18T09:14:52.262Z"
   },
   {
    "duration": 4,
    "start_time": "2023-03-18T09:15:22.909Z"
   },
   {
    "duration": 20,
    "start_time": "2023-03-18T09:15:23.749Z"
   },
   {
    "duration": 4,
    "start_time": "2023-03-18T09:15:50.757Z"
   },
   {
    "duration": 12,
    "start_time": "2023-03-18T09:15:51.213Z"
   },
   {
    "duration": 14,
    "start_time": "2023-03-18T09:15:51.811Z"
   },
   {
    "duration": 15,
    "start_time": "2023-03-18T09:15:52.197Z"
   },
   {
    "duration": 3,
    "start_time": "2023-03-18T09:15:52.647Z"
   },
   {
    "duration": 19,
    "start_time": "2023-03-18T09:15:53.255Z"
   },
   {
    "duration": 11,
    "start_time": "2023-03-18T09:16:26.258Z"
   },
   {
    "duration": 5,
    "start_time": "2023-03-18T09:17:12.869Z"
   },
   {
    "duration": 4,
    "start_time": "2023-03-18T09:17:20.691Z"
   },
   {
    "duration": 9,
    "start_time": "2023-03-18T09:17:22.129Z"
   },
   {
    "duration": 128,
    "start_time": "2023-03-18T09:18:13.563Z"
   },
   {
    "duration": 7,
    "start_time": "2023-03-18T09:19:07.859Z"
   },
   {
    "duration": 43,
    "start_time": "2023-03-18T09:19:12.149Z"
   },
   {
    "duration": 28,
    "start_time": "2023-03-18T09:19:21.373Z"
   },
   {
    "duration": 6,
    "start_time": "2023-03-18T09:19:23.033Z"
   },
   {
    "duration": 36,
    "start_time": "2023-03-18T09:19:23.561Z"
   },
   {
    "duration": 5,
    "start_time": "2023-03-18T09:19:29.141Z"
   },
   {
    "duration": 31,
    "start_time": "2023-03-18T09:19:29.569Z"
   },
   {
    "duration": 87,
    "start_time": "2023-03-18T09:21:04.307Z"
   },
   {
    "duration": 69,
    "start_time": "2023-03-18T09:21:05.122Z"
   },
   {
    "duration": 10,
    "start_time": "2023-03-18T09:22:11.623Z"
   },
   {
    "duration": 6,
    "start_time": "2023-03-18T09:22:37.103Z"
   },
   {
    "duration": 4,
    "start_time": "2023-03-18T09:25:44.321Z"
   },
   {
    "duration": 10,
    "start_time": "2023-03-18T09:26:52.147Z"
   },
   {
    "duration": 5,
    "start_time": "2023-03-18T09:27:02.567Z"
   },
   {
    "duration": 11,
    "start_time": "2023-03-18T09:28:03.509Z"
   },
   {
    "duration": 10,
    "start_time": "2023-03-18T09:28:16.070Z"
   },
   {
    "duration": 453,
    "start_time": "2023-03-18T09:28:22.122Z"
   },
   {
    "duration": 198,
    "start_time": "2023-03-18T09:28:35.868Z"
   },
   {
    "duration": 216,
    "start_time": "2023-03-18T09:28:42.134Z"
   },
   {
    "duration": 301,
    "start_time": "2023-03-18T09:28:53.013Z"
   },
   {
    "duration": 1312,
    "start_time": "2023-03-18T09:28:59.969Z"
   },
   {
    "duration": 284,
    "start_time": "2023-03-18T09:29:06.113Z"
   },
   {
    "duration": 305,
    "start_time": "2023-03-18T09:29:14.172Z"
   },
   {
    "duration": 258,
    "start_time": "2023-03-18T09:29:29.825Z"
   },
   {
    "duration": 241,
    "start_time": "2023-03-18T09:29:37.920Z"
   },
   {
    "duration": 286,
    "start_time": "2023-03-18T09:29:42.941Z"
   },
   {
    "duration": 672,
    "start_time": "2023-03-18T09:29:57.491Z"
   },
   {
    "duration": 199,
    "start_time": "2023-03-18T09:30:10.918Z"
   },
   {
    "duration": 256,
    "start_time": "2023-03-18T09:30:56.432Z"
   },
   {
    "duration": 272,
    "start_time": "2023-03-18T09:31:04.928Z"
   },
   {
    "duration": 247,
    "start_time": "2023-03-18T09:31:11.828Z"
   },
   {
    "duration": 10,
    "start_time": "2023-03-18T09:31:17.439Z"
   },
   {
    "duration": 448,
    "start_time": "2023-03-18T09:31:26.269Z"
   },
   {
    "duration": 4,
    "start_time": "2023-03-18T09:34:14.768Z"
   },
   {
    "duration": 12,
    "start_time": "2023-03-18T09:35:03.246Z"
   },
   {
    "duration": 5,
    "start_time": "2023-03-18T09:35:47.118Z"
   },
   {
    "duration": 5,
    "start_time": "2023-03-18T09:35:54.014Z"
   },
   {
    "duration": 1029,
    "start_time": "2023-03-18T09:36:22.643Z"
   },
   {
    "duration": 1020,
    "start_time": "2023-03-18T09:36:43.914Z"
   },
   {
    "duration": 1107,
    "start_time": "2023-03-18T09:37:17.512Z"
   },
   {
    "duration": 1020,
    "start_time": "2023-03-18T09:37:18.621Z"
   },
   {
    "duration": 1817,
    "start_time": "2023-03-18T15:02:48.213Z"
   },
   {
    "duration": 129,
    "start_time": "2023-03-18T15:02:50.032Z"
   },
   {
    "duration": 112,
    "start_time": "2023-03-18T15:02:50.162Z"
   },
   {
    "duration": 111,
    "start_time": "2023-03-18T15:02:50.276Z"
   },
   {
    "duration": 112,
    "start_time": "2023-03-18T15:02:50.388Z"
   },
   {
    "duration": 86,
    "start_time": "2023-03-18T15:02:50.502Z"
   },
   {
    "duration": 9,
    "start_time": "2023-03-18T15:02:50.589Z"
   },
   {
    "duration": 5,
    "start_time": "2023-03-18T15:02:50.599Z"
   },
   {
    "duration": 358,
    "start_time": "2023-03-18T15:02:50.606Z"
   },
   {
    "duration": 213,
    "start_time": "2023-03-18T15:02:50.966Z"
   },
   {
    "duration": 407,
    "start_time": "2023-03-18T15:02:51.181Z"
   },
   {
    "duration": 3,
    "start_time": "2023-03-18T15:02:51.590Z"
   },
   {
    "duration": 14,
    "start_time": "2023-03-18T15:02:51.594Z"
   },
   {
    "duration": 77,
    "start_time": "2023-03-18T15:02:51.610Z"
   },
   {
    "duration": 0,
    "start_time": "2023-03-18T15:02:51.689Z"
   },
   {
    "duration": 0,
    "start_time": "2023-03-18T15:02:51.690Z"
   },
   {
    "duration": 0,
    "start_time": "2023-03-18T15:02:51.692Z"
   },
   {
    "duration": 0,
    "start_time": "2023-03-18T15:02:51.693Z"
   },
   {
    "duration": 0,
    "start_time": "2023-03-18T15:02:51.695Z"
   },
   {
    "duration": 0,
    "start_time": "2023-03-18T15:02:51.695Z"
   },
   {
    "duration": 0,
    "start_time": "2023-03-18T15:02:51.697Z"
   },
   {
    "duration": 0,
    "start_time": "2023-03-18T15:02:51.698Z"
   },
   {
    "duration": 0,
    "start_time": "2023-03-18T15:02:51.699Z"
   },
   {
    "duration": 0,
    "start_time": "2023-03-18T15:02:51.700Z"
   },
   {
    "duration": 0,
    "start_time": "2023-03-18T15:02:51.702Z"
   },
   {
    "duration": 0,
    "start_time": "2023-03-18T15:02:51.703Z"
   },
   {
    "duration": 0,
    "start_time": "2023-03-18T15:02:51.704Z"
   },
   {
    "duration": 0,
    "start_time": "2023-03-18T15:02:51.705Z"
   },
   {
    "duration": 0,
    "start_time": "2023-03-18T15:02:51.706Z"
   },
   {
    "duration": 0,
    "start_time": "2023-03-18T15:02:51.707Z"
   },
   {
    "duration": 0,
    "start_time": "2023-03-18T15:02:51.709Z"
   },
   {
    "duration": 1,
    "start_time": "2023-03-18T15:02:51.709Z"
   },
   {
    "duration": 0,
    "start_time": "2023-03-18T15:02:51.711Z"
   },
   {
    "duration": 0,
    "start_time": "2023-03-18T15:02:51.712Z"
   },
   {
    "duration": 0,
    "start_time": "2023-03-18T15:02:51.714Z"
   },
   {
    "duration": 0,
    "start_time": "2023-03-18T15:02:51.715Z"
   },
   {
    "duration": 2102,
    "start_time": "2023-03-18T17:56:47.367Z"
   },
   {
    "duration": 601,
    "start_time": "2023-03-18T17:56:49.471Z"
   },
   {
    "duration": 531,
    "start_time": "2023-03-18T17:56:50.074Z"
   },
   {
    "duration": 563,
    "start_time": "2023-03-18T17:56:50.608Z"
   },
   {
    "duration": 163,
    "start_time": "2023-03-18T17:56:51.173Z"
   },
   {
    "duration": 129,
    "start_time": "2023-03-18T17:56:51.338Z"
   },
   {
    "duration": 12,
    "start_time": "2023-03-18T17:56:51.469Z"
   },
   {
    "duration": 9,
    "start_time": "2023-03-18T17:56:51.482Z"
   },
   {
    "duration": 617,
    "start_time": "2023-03-18T17:56:51.493Z"
   },
   {
    "duration": 272,
    "start_time": "2023-03-18T17:56:52.113Z"
   },
   {
    "duration": 599,
    "start_time": "2023-03-18T17:56:52.387Z"
   },
   {
    "duration": 4,
    "start_time": "2023-03-18T17:56:52.989Z"
   },
   {
    "duration": 18,
    "start_time": "2023-03-18T17:56:52.996Z"
   },
   {
    "duration": 65,
    "start_time": "2023-03-18T17:56:53.016Z"
   },
   {
    "duration": 0,
    "start_time": "2023-03-18T17:56:53.083Z"
   },
   {
    "duration": 0,
    "start_time": "2023-03-18T17:56:53.085Z"
   },
   {
    "duration": 0,
    "start_time": "2023-03-18T17:56:53.087Z"
   },
   {
    "duration": 0,
    "start_time": "2023-03-18T17:56:53.090Z"
   },
   {
    "duration": 0,
    "start_time": "2023-03-18T17:56:53.091Z"
   },
   {
    "duration": 0,
    "start_time": "2023-03-18T17:56:53.093Z"
   },
   {
    "duration": 0,
    "start_time": "2023-03-18T17:56:53.094Z"
   },
   {
    "duration": 0,
    "start_time": "2023-03-18T17:56:53.096Z"
   },
   {
    "duration": 0,
    "start_time": "2023-03-18T17:56:53.097Z"
   },
   {
    "duration": 1,
    "start_time": "2023-03-18T17:56:53.098Z"
   },
   {
    "duration": 0,
    "start_time": "2023-03-18T17:56:53.100Z"
   },
   {
    "duration": 0,
    "start_time": "2023-03-18T17:56:53.102Z"
   },
   {
    "duration": 0,
    "start_time": "2023-03-18T17:56:53.105Z"
   },
   {
    "duration": 0,
    "start_time": "2023-03-18T17:56:53.106Z"
   },
   {
    "duration": 0,
    "start_time": "2023-03-18T17:56:53.107Z"
   },
   {
    "duration": 0,
    "start_time": "2023-03-18T17:56:53.108Z"
   },
   {
    "duration": 0,
    "start_time": "2023-03-18T17:56:53.110Z"
   },
   {
    "duration": 0,
    "start_time": "2023-03-18T17:56:53.111Z"
   },
   {
    "duration": 0,
    "start_time": "2023-03-18T17:56:53.112Z"
   },
   {
    "duration": 0,
    "start_time": "2023-03-18T17:56:53.113Z"
   },
   {
    "duration": 0,
    "start_time": "2023-03-18T17:56:53.114Z"
   },
   {
    "duration": 0,
    "start_time": "2023-03-18T17:56:53.115Z"
   },
   {
    "duration": 1823,
    "start_time": "2023-03-18T17:57:11.703Z"
   },
   {
    "duration": 160,
    "start_time": "2023-03-18T17:57:13.529Z"
   },
   {
    "duration": 128,
    "start_time": "2023-03-18T17:57:13.690Z"
   },
   {
    "duration": 145,
    "start_time": "2023-03-18T17:57:13.820Z"
   },
   {
    "duration": 147,
    "start_time": "2023-03-18T17:57:13.968Z"
   },
   {
    "duration": 100,
    "start_time": "2023-03-18T17:57:14.117Z"
   },
   {
    "duration": 23,
    "start_time": "2023-03-18T17:57:14.218Z"
   },
   {
    "duration": 6,
    "start_time": "2023-03-18T17:57:14.243Z"
   },
   {
    "duration": 444,
    "start_time": "2023-03-18T17:57:14.250Z"
   },
   {
    "duration": 224,
    "start_time": "2023-03-18T17:57:14.695Z"
   },
   {
    "duration": 515,
    "start_time": "2023-03-18T17:57:14.920Z"
   },
   {
    "duration": 4,
    "start_time": "2023-03-18T17:57:15.437Z"
   },
   {
    "duration": 15,
    "start_time": "2023-03-18T17:57:15.443Z"
   },
   {
    "duration": 4,
    "start_time": "2023-03-18T17:57:15.462Z"
   },
   {
    "duration": 18,
    "start_time": "2023-03-18T17:57:15.467Z"
   },
   {
    "duration": 17,
    "start_time": "2023-03-18T17:57:15.487Z"
   },
   {
    "duration": 49,
    "start_time": "2023-03-18T17:57:15.505Z"
   },
   {
    "duration": 4,
    "start_time": "2023-03-18T17:57:15.555Z"
   },
   {
    "duration": 370,
    "start_time": "2023-03-18T17:57:15.560Z"
   },
   {
    "duration": 9,
    "start_time": "2023-03-18T17:57:15.932Z"
   },
   {
    "duration": 98,
    "start_time": "2023-03-18T17:57:15.943Z"
   },
   {
    "duration": 199,
    "start_time": "2023-03-18T17:57:16.043Z"
   },
   {
    "duration": 119,
    "start_time": "2023-03-18T17:57:16.245Z"
   },
   {
    "duration": 79,
    "start_time": "2023-03-18T17:57:16.366Z"
   },
   {
    "duration": 95,
    "start_time": "2023-03-18T17:57:16.448Z"
   },
   {
    "duration": 6,
    "start_time": "2023-03-18T17:57:16.546Z"
   },
   {
    "duration": 6,
    "start_time": "2023-03-18T17:57:16.554Z"
   },
   {
    "duration": 501,
    "start_time": "2023-03-18T17:57:16.562Z"
   },
   {
    "duration": 249,
    "start_time": "2023-03-18T17:57:17.065Z"
   },
   {
    "duration": 558,
    "start_time": "2023-03-18T17:57:17.316Z"
   },
   {
    "duration": 8,
    "start_time": "2023-03-18T17:57:17.876Z"
   },
   {
    "duration": 8,
    "start_time": "2023-03-18T17:57:17.886Z"
   },
   {
    "duration": 1180,
    "start_time": "2023-03-18T17:57:17.896Z"
   },
   {
    "duration": 1035,
    "start_time": "2023-03-18T17:57:19.078Z"
   },
   {
    "duration": 941,
    "start_time": "2023-03-18T17:57:20.115Z"
   },
   {
    "duration": 14,
    "start_time": "2023-03-18T18:02:03.254Z"
   },
   {
    "duration": 1526,
    "start_time": "2023-03-19T01:02:55.842Z"
   },
   {
    "duration": 4,
    "start_time": "2023-03-19T01:03:05.863Z"
   },
   {
    "duration": 37,
    "start_time": "2023-03-19T01:03:10.068Z"
   },
   {
    "duration": 582,
    "start_time": "2023-03-19T01:14:10.383Z"
   },
   {
    "duration": 2,
    "start_time": "2023-03-19T01:16:32.335Z"
   },
   {
    "duration": 46,
    "start_time": "2023-03-19T01:16:35.477Z"
   },
   {
    "duration": 345,
    "start_time": "2023-03-19T01:16:38.222Z"
   },
   {
    "duration": 4,
    "start_time": "2023-03-19T01:16:38.754Z"
   },
   {
    "duration": 90,
    "start_time": "2023-03-19T01:17:05.875Z"
   },
   {
    "duration": 3,
    "start_time": "2023-03-19T01:21:14.966Z"
   },
   {
    "duration": 180,
    "start_time": "2023-03-19T01:21:16.378Z"
   },
   {
    "duration": 3,
    "start_time": "2023-03-19T01:21:59.345Z"
   },
   {
    "duration": 74,
    "start_time": "2023-03-19T01:22:00.255Z"
   },
   {
    "duration": 3,
    "start_time": "2023-03-19T01:22:40.766Z"
   },
   {
    "duration": 74,
    "start_time": "2023-03-19T01:22:41.487Z"
   },
   {
    "duration": 2,
    "start_time": "2023-03-19T01:23:52.465Z"
   },
   {
    "duration": 67,
    "start_time": "2023-03-19T01:23:53.802Z"
   },
   {
    "duration": 4,
    "start_time": "2023-03-19T01:24:03.392Z"
   },
   {
    "duration": 67,
    "start_time": "2023-03-19T01:24:04.085Z"
   },
   {
    "duration": 62,
    "start_time": "2023-03-19T01:28:01.805Z"
   },
   {
    "duration": 64,
    "start_time": "2023-03-19T01:32:03.152Z"
   },
   {
    "duration": 3,
    "start_time": "2023-03-19T01:33:27.031Z"
   },
   {
    "duration": 75,
    "start_time": "2023-03-19T01:33:27.447Z"
   },
   {
    "duration": 81,
    "start_time": "2023-03-19T01:33:40.607Z"
   },
   {
    "duration": 91,
    "start_time": "2023-03-19T01:34:04.134Z"
   },
   {
    "duration": 73,
    "start_time": "2023-03-19T01:34:08.991Z"
   },
   {
    "duration": 72,
    "start_time": "2023-03-19T01:34:20.671Z"
   },
   {
    "duration": 83,
    "start_time": "2023-03-19T01:34:48.319Z"
   },
   {
    "duration": 73,
    "start_time": "2023-03-19T01:34:52.598Z"
   },
   {
    "duration": 2,
    "start_time": "2023-03-19T01:35:07.033Z"
   },
   {
    "duration": 68,
    "start_time": "2023-03-19T01:35:08.311Z"
   },
   {
    "duration": 71,
    "start_time": "2023-03-19T01:35:35.367Z"
   },
   {
    "duration": 66,
    "start_time": "2023-03-19T01:35:35.819Z"
   },
   {
    "duration": 8,
    "start_time": "2023-03-19T01:36:09.511Z"
   },
   {
    "duration": 85,
    "start_time": "2023-03-19T01:39:21.907Z"
   },
   {
    "duration": 11,
    "start_time": "2023-03-19T01:39:29.105Z"
   },
   {
    "duration": 15,
    "start_time": "2023-03-19T01:39:32.373Z"
   },
   {
    "duration": 66,
    "start_time": "2023-03-19T01:40:06.618Z"
   },
   {
    "duration": 71,
    "start_time": "2023-03-19T01:40:53.417Z"
   },
   {
    "duration": 11,
    "start_time": "2023-03-19T01:41:04.348Z"
   },
   {
    "duration": 98,
    "start_time": "2023-03-19T01:41:06.003Z"
   },
   {
    "duration": 13,
    "start_time": "2023-03-19T01:41:16.406Z"
   },
   {
    "duration": 70,
    "start_time": "2023-03-19T01:41:17.605Z"
   },
   {
    "duration": 112,
    "start_time": "2023-03-19T01:41:42.004Z"
   },
   {
    "duration": 70,
    "start_time": "2023-03-19T01:41:42.385Z"
   },
   {
    "duration": 4,
    "start_time": "2023-03-19T01:41:47.923Z"
   },
   {
    "duration": 67,
    "start_time": "2023-03-19T01:41:49.995Z"
   },
   {
    "duration": 3,
    "start_time": "2023-03-19T01:41:59.208Z"
   },
   {
    "duration": 76,
    "start_time": "2023-03-19T01:41:59.758Z"
   },
   {
    "duration": 3,
    "start_time": "2023-03-19T01:42:23.959Z"
   },
   {
    "duration": 79,
    "start_time": "2023-03-19T01:42:24.429Z"
   },
   {
    "duration": 3,
    "start_time": "2023-03-19T01:42:48.386Z"
   },
   {
    "duration": 72,
    "start_time": "2023-03-19T01:42:49.140Z"
   },
   {
    "duration": 66,
    "start_time": "2023-03-19T01:43:21.877Z"
   },
   {
    "duration": 64,
    "start_time": "2023-03-19T01:43:22.396Z"
   },
   {
    "duration": 82,
    "start_time": "2023-03-19T01:43:48.969Z"
   },
   {
    "duration": 74,
    "start_time": "2023-03-19T01:43:49.405Z"
   },
   {
    "duration": 4,
    "start_time": "2023-03-19T01:43:54.587Z"
   },
   {
    "duration": 76,
    "start_time": "2023-03-19T01:43:55.223Z"
   },
   {
    "duration": 85,
    "start_time": "2023-03-19T01:43:56.738Z"
   },
   {
    "duration": 72,
    "start_time": "2023-03-19T01:43:57.402Z"
   },
   {
    "duration": 81,
    "start_time": "2023-03-19T01:46:33.195Z"
   },
   {
    "duration": 86,
    "start_time": "2023-03-19T01:46:47.054Z"
   },
   {
    "duration": 73,
    "start_time": "2023-03-19T01:46:52.919Z"
   },
   {
    "duration": 78,
    "start_time": "2023-03-19T01:46:53.772Z"
   },
   {
    "duration": 124,
    "start_time": "2023-03-19T01:51:00.815Z"
   },
   {
    "duration": 380,
    "start_time": "2023-03-19T01:51:11.126Z"
   },
   {
    "duration": 5,
    "start_time": "2023-03-19T01:51:11.587Z"
   },
   {
    "duration": 92,
    "start_time": "2023-03-19T01:51:12.238Z"
   },
   {
    "duration": 66,
    "start_time": "2023-03-19T01:51:22.812Z"
   },
   {
    "duration": 71,
    "start_time": "2023-03-19T01:51:23.317Z"
   },
   {
    "duration": 156,
    "start_time": "2023-03-19T01:52:15.894Z"
   },
   {
    "duration": 1109,
    "start_time": "2023-03-19T01:53:22.156Z"
   },
   {
    "duration": 93314,
    "start_time": "2023-03-19T01:53:42.233Z"
   },
   {
    "duration": 1026,
    "start_time": "2023-03-19T02:05:16.164Z"
   },
   {
    "duration": 6,
    "start_time": "2023-03-19T02:13:04.786Z"
   },
   {
    "duration": 6,
    "start_time": "2023-03-19T02:15:06.288Z"
   },
   {
    "duration": 9,
    "start_time": "2023-03-19T02:15:06.642Z"
   },
   {
    "duration": 218,
    "start_time": "2023-03-19T02:15:12.180Z"
   },
   {
    "duration": 11,
    "start_time": "2023-03-19T02:15:13.391Z"
   },
   {
    "duration": 3,
    "start_time": "2023-03-19T02:15:17.930Z"
   },
   {
    "duration": 12,
    "start_time": "2023-03-19T02:15:18.857Z"
   },
   {
    "duration": 831,
    "start_time": "2023-03-19T02:16:48.895Z"
   },
   {
    "duration": 97,
    "start_time": "2023-03-19T02:19:41.505Z"
   },
   {
    "duration": 67,
    "start_time": "2023-03-19T02:21:08.634Z"
   },
   {
    "duration": 3,
    "start_time": "2023-03-19T02:21:13.164Z"
   },
   {
    "duration": 10,
    "start_time": "2023-03-19T02:21:14.041Z"
   },
   {
    "duration": 3,
    "start_time": "2023-03-19T02:21:31.311Z"
   },
   {
    "duration": 3,
    "start_time": "2023-03-19T02:22:51.250Z"
   },
   {
    "duration": 15,
    "start_time": "2023-03-19T02:22:52.401Z"
   },
   {
    "duration": 22,
    "start_time": "2023-03-19T02:22:52.846Z"
   },
   {
    "duration": 19,
    "start_time": "2023-03-19T02:22:53.752Z"
   },
   {
    "duration": 3,
    "start_time": "2023-03-19T02:22:54.898Z"
   },
   {
    "duration": 1420,
    "start_time": "2023-03-19T02:22:55.523Z"
   },
   {
    "duration": 4,
    "start_time": "2023-03-19T02:22:57.728Z"
   },
   {
    "duration": 3,
    "start_time": "2023-03-19T02:23:12.560Z"
   },
   {
    "duration": 14,
    "start_time": "2023-03-19T02:23:13.895Z"
   },
   {
    "duration": 3,
    "start_time": "2023-03-19T02:25:01.800Z"
   },
   {
    "duration": 1478,
    "start_time": "2023-03-19T02:25:03.057Z"
   },
   {
    "duration": 75,
    "start_time": "2023-03-19T02:26:10.357Z"
   },
   {
    "duration": 4,
    "start_time": "2023-03-19T02:26:20.334Z"
   },
   {
    "duration": 43,
    "start_time": "2023-03-19T02:26:24.927Z"
   },
   {
    "duration": 6,
    "start_time": "2023-03-19T02:28:17.647Z"
   },
   {
    "duration": 1123,
    "start_time": "2023-03-19T02:28:20.466Z"
   },
   {
    "duration": 1008,
    "start_time": "2023-03-19T02:28:28.573Z"
   },
   {
    "duration": 1086,
    "start_time": "2023-03-19T02:28:31.699Z"
   },
   {
    "duration": 9,
    "start_time": "2023-03-19T02:28:52.591Z"
   },
   {
    "duration": 40,
    "start_time": "2023-03-19T02:28:55.230Z"
   },
   {
    "duration": 5,
    "start_time": "2023-03-19T02:29:39.237Z"
   },
   {
    "duration": 4,
    "start_time": "2023-03-19T02:29:48.839Z"
   },
   {
    "duration": 47,
    "start_time": "2023-03-19T02:29:50.567Z"
   },
   {
    "duration": 5,
    "start_time": "2023-03-19T02:30:13.259Z"
   },
   {
    "duration": 42,
    "start_time": "2023-03-19T02:30:14.929Z"
   },
   {
    "duration": 1418,
    "start_time": "2023-03-19T02:30:31.629Z"
   },
   {
    "duration": 358,
    "start_time": "2023-03-19T02:30:33.049Z"
   },
   {
    "duration": 4,
    "start_time": "2023-03-19T02:30:33.409Z"
   },
   {
    "duration": 113,
    "start_time": "2023-03-19T02:30:33.415Z"
   },
   {
    "duration": 87,
    "start_time": "2023-03-19T02:30:33.529Z"
   },
   {
    "duration": 98,
    "start_time": "2023-03-19T02:30:33.618Z"
   },
   {
    "duration": 17,
    "start_time": "2023-03-19T02:30:34.192Z"
   },
   {
    "duration": 6,
    "start_time": "2023-03-19T02:30:34.593Z"
   },
   {
    "duration": 367,
    "start_time": "2023-03-19T02:30:34.817Z"
   },
   {
    "duration": 195,
    "start_time": "2023-03-19T02:30:35.187Z"
   },
   {
    "duration": 415,
    "start_time": "2023-03-19T02:30:35.402Z"
   },
   {
    "duration": 1025,
    "start_time": "2023-03-19T02:30:35.819Z"
   },
   {
    "duration": 0,
    "start_time": "2023-03-19T02:30:36.846Z"
   },
   {
    "duration": 8,
    "start_time": "2023-03-19T02:30:36.864Z"
   },
   {
    "duration": 948,
    "start_time": "2023-03-19T02:31:39.954Z"
   },
   {
    "duration": 778,
    "start_time": "2023-03-19T02:31:46.407Z"
   },
   {
    "duration": 6,
    "start_time": "2023-03-19T02:32:16.966Z"
   },
   {
    "duration": 179,
    "start_time": "2023-03-19T02:32:17.880Z"
   },
   {
    "duration": 7,
    "start_time": "2023-03-19T02:32:18.914Z"
   },
   {
    "duration": 1006,
    "start_time": "2023-03-19T02:32:20.103Z"
   },
   {
    "duration": 2,
    "start_time": "2023-03-19T02:32:25.321Z"
   },
   {
    "duration": 10,
    "start_time": "2023-03-19T02:32:26.262Z"
   },
   {
    "duration": 3,
    "start_time": "2023-03-19T02:32:31.501Z"
   },
   {
    "duration": 11,
    "start_time": "2023-03-19T02:32:32.211Z"
   },
   {
    "duration": 8,
    "start_time": "2023-03-19T02:32:34.382Z"
   },
   {
    "duration": 26,
    "start_time": "2023-03-19T02:32:45.823Z"
   },
   {
    "duration": 127,
    "start_time": "2023-03-19T02:33:05.261Z"
   },
   {
    "duration": 6,
    "start_time": "2023-03-19T02:33:17.998Z"
   },
   {
    "duration": 440,
    "start_time": "2023-03-19T02:33:20.849Z"
   },
   {
    "duration": 6,
    "start_time": "2023-03-19T02:33:54.144Z"
   },
   {
    "duration": 33,
    "start_time": "2023-03-19T02:33:56.076Z"
   },
   {
    "duration": 22,
    "start_time": "2023-03-19T02:34:03.335Z"
   },
   {
    "duration": 29,
    "start_time": "2023-03-19T02:34:13.784Z"
   },
   {
    "duration": 7,
    "start_time": "2023-03-19T02:34:16.203Z"
   },
   {
    "duration": 6,
    "start_time": "2023-03-19T02:34:44.443Z"
   },
   {
    "duration": 326,
    "start_time": "2023-03-19T02:34:46.458Z"
   },
   {
    "duration": 290,
    "start_time": "2023-03-19T02:34:49.296Z"
   },
   {
    "duration": 440,
    "start_time": "2023-03-19T02:34:53.840Z"
   },
   {
    "duration": 88,
    "start_time": "2023-03-19T02:36:11.431Z"
   },
   {
    "duration": 5,
    "start_time": "2023-03-19T02:36:37.934Z"
   },
   {
    "duration": 129,
    "start_time": "2023-03-19T02:36:40.126Z"
   },
   {
    "duration": 8,
    "start_time": "2023-03-19T02:37:01.979Z"
   },
   {
    "duration": 399,
    "start_time": "2023-03-19T02:37:03.498Z"
   },
   {
    "duration": 399,
    "start_time": "2023-03-19T02:37:09.693Z"
   },
   {
    "duration": 431,
    "start_time": "2023-03-19T02:37:11.867Z"
   },
   {
    "duration": 6,
    "start_time": "2023-03-19T02:37:29.522Z"
   },
   {
    "duration": 4,
    "start_time": "2023-03-19T02:38:06.056Z"
   },
   {
    "duration": 38,
    "start_time": "2023-03-19T02:38:07.875Z"
   },
   {
    "duration": 28,
    "start_time": "2023-03-19T02:38:09.846Z"
   },
   {
    "duration": 41,
    "start_time": "2023-03-19T02:38:10.664Z"
   },
   {
    "duration": 6,
    "start_time": "2023-03-19T02:38:12.241Z"
   },
   {
    "duration": 4,
    "start_time": "2023-03-19T02:38:23.588Z"
   },
   {
    "duration": 73,
    "start_time": "2023-03-19T02:40:10.505Z"
   },
   {
    "duration": 107,
    "start_time": "2023-03-19T02:40:14.300Z"
   },
   {
    "duration": 169,
    "start_time": "2023-03-19T02:40:19.551Z"
   },
   {
    "duration": 108,
    "start_time": "2023-03-19T02:40:37.526Z"
   },
   {
    "duration": 9,
    "start_time": "2023-03-19T02:43:51.621Z"
   },
   {
    "duration": 9,
    "start_time": "2023-03-19T02:44:07.019Z"
   },
   {
    "duration": 4,
    "start_time": "2023-03-19T02:44:09.729Z"
   },
   {
    "duration": 13,
    "start_time": "2023-03-19T02:44:10.519Z"
   },
   {
    "duration": 14,
    "start_time": "2023-03-19T02:44:11.323Z"
   },
   {
    "duration": 3,
    "start_time": "2023-03-19T02:44:16.769Z"
   },
   {
    "duration": 8,
    "start_time": "2023-03-19T02:44:17.883Z"
   },
   {
    "duration": 728,
    "start_time": "2023-03-19T02:44:18.483Z"
   },
   {
    "duration": 728,
    "start_time": "2023-03-19T02:44:19.213Z"
   },
   {
    "duration": 187,
    "start_time": "2023-03-19T02:44:20.411Z"
   },
   {
    "duration": 702,
    "start_time": "2023-03-19T02:44:31.089Z"
   },
   {
    "duration": 243,
    "start_time": "2023-03-19T02:45:49.787Z"
   },
   {
    "duration": 172,
    "start_time": "2023-03-19T02:45:50.138Z"
   },
   {
    "duration": 198,
    "start_time": "2023-03-19T02:45:50.815Z"
   },
   {
    "duration": 183,
    "start_time": "2023-03-19T02:48:38.024Z"
   },
   {
    "duration": 698,
    "start_time": "2023-03-19T02:49:01.313Z"
   },
   {
    "duration": 6,
    "start_time": "2023-03-19T02:49:08.907Z"
   },
   {
    "duration": 803,
    "start_time": "2023-03-19T02:49:09.701Z"
   },
   {
    "duration": 796,
    "start_time": "2023-03-19T02:49:11.346Z"
   },
   {
    "duration": 843,
    "start_time": "2023-03-19T02:49:13.173Z"
   },
   {
    "duration": 679,
    "start_time": "2023-03-19T02:49:16.721Z"
   },
   {
    "duration": 670,
    "start_time": "2023-03-19T02:49:20.180Z"
   },
   {
    "duration": 763,
    "start_time": "2023-03-19T02:49:25.410Z"
   },
   {
    "duration": 732,
    "start_time": "2023-03-19T02:49:29.184Z"
   },
   {
    "duration": 702,
    "start_time": "2023-03-19T02:49:32.719Z"
   },
   {
    "duration": 699,
    "start_time": "2023-03-19T02:49:36.542Z"
   },
   {
    "duration": 793,
    "start_time": "2023-03-19T02:49:39.517Z"
   },
   {
    "duration": 803,
    "start_time": "2023-03-19T02:49:42.629Z"
   },
   {
    "duration": 740,
    "start_time": "2023-03-19T02:49:47.273Z"
   },
   {
    "duration": 706,
    "start_time": "2023-03-19T02:49:50.435Z"
   },
   {
    "duration": 700,
    "start_time": "2023-03-19T02:49:54.236Z"
   },
   {
    "duration": 896,
    "start_time": "2023-03-19T02:55:18.815Z"
   },
   {
    "duration": 873,
    "start_time": "2023-03-19T02:55:30.816Z"
   },
   {
    "duration": 922,
    "start_time": "2023-03-19T02:55:39.686Z"
   },
   {
    "duration": 992,
    "start_time": "2023-03-19T02:55:51.454Z"
   },
   {
    "duration": 794,
    "start_time": "2023-03-19T02:56:04.670Z"
   },
   {
    "duration": 151,
    "start_time": "2023-03-19T20:39:53.278Z"
   }
  ],
  "kernelspec": {
   "display_name": "Python 3 (ipykernel)",
   "language": "python",
   "name": "python3"
  },
  "language_info": {
   "codemirror_mode": {
    "name": "ipython",
    "version": 3
   },
   "file_extension": ".py",
   "mimetype": "text/x-python",
   "name": "python",
   "nbconvert_exporter": "python",
   "pygments_lexer": "ipython3",
   "version": "3.9.5"
  },
  "toc": {
   "base_numbering": 1,
   "nav_menu": {},
   "number_sections": true,
   "sideBar": true,
   "skip_h1_title": true,
   "title_cell": "Table of Contents",
   "title_sidebar": "Contents",
   "toc_cell": false,
   "toc_position": {},
   "toc_section_display": true,
   "toc_window_display": false
  }
 },
 "nbformat": 4,
 "nbformat_minor": 2
}
