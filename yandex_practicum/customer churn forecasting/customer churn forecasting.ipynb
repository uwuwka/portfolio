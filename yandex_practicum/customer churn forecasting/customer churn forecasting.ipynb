{
 "cells": [
  {
   "cell_type": "markdown",
   "metadata": {
    "toc": true
   },
   "source": [
    "<h1>Содержание<span class=\"tocSkip\"></span></h1>\n",
    "<div class=\"toc\"><ul class=\"toc-item\"><li><span><a href=\"#Подготовка-данных\" data-toc-modified-id=\"Подготовка-данных-1\"><span class=\"toc-item-num\">1&nbsp;&nbsp;</span>Подготовка данных</a></span></li><li><span><a href=\"#Исследование-задачи\" data-toc-modified-id=\"Исследование-задачи-2\"><span class=\"toc-item-num\">2&nbsp;&nbsp;</span>Исследование задачи</a></span></li><li><span><a href=\"#Борьба-с-дисбалансом\" data-toc-modified-id=\"Борьба-с-дисбалансом-3\"><span class=\"toc-item-num\">3&nbsp;&nbsp;</span>Борьба с дисбалансом</a></span></li><li><span><a href=\"#Тестирование-модели\" data-toc-modified-id=\"Тестирование-модели-4\"><span class=\"toc-item-num\">4&nbsp;&nbsp;</span>Тестирование модели</a></span></li><li><span><a href=\"#Вывод\" data-toc-modified-id=\"Вывод-5\"><span class=\"toc-item-num\">5&nbsp;&nbsp;</span>Вывод</a></span></li><li><span><a href=\"#Чек-лист-готовности-проекта\" data-toc-modified-id=\"Чек-лист-готовности-проекта-6\"><span class=\"toc-item-num\">6&nbsp;&nbsp;</span>Чек-лист готовности проекта</a></span></li><li><span><a href=\"#Финальные-комментарии-ревьюера\" data-toc-modified-id=\"Финальные-комментарии-ревьюера-7\"><span class=\"toc-item-num\">7&nbsp;&nbsp;</span>Финальные комментарии ревьюера</a></span></li></ul></div>"
   ]
  },
  {
   "cell_type": "markdown",
   "metadata": {},
   "source": [
    "# Отток клиентов"
   ]
  },
  {
   "cell_type": "markdown",
   "metadata": {},
   "source": [
    "Из «Бета-Банка» стали уходить клиенты. Каждый месяц. Немного, но заметно. Банковские маркетологи посчитали: сохранять текущих клиентов дешевле, чем привлекать новых.\n",
    "\n",
    "Нужно спрогнозировать, уйдёт клиент из банка в ближайшее время или нет. Вам предоставлены исторические данные о поведении клиентов и расторжении договоров с банком. \n",
    "\n",
    "Постройте модель с предельно большим значением *F1*-меры. Чтобы сдать проект успешно, нужно довести метрику до 0.59. Проверьте *F1*-меру на тестовой выборке самостоятельно.\n",
    "\n",
    "Дополнительно измеряйте *AUC-ROC*, сравнивайте её значение с *F1*-мерой.\n",
    "\n",
    "Источник данных: [https://www.kaggle.com/barelydedicated/bank-customer-churn-modeling](https://www.kaggle.com/barelydedicated/bank-customer-churn-modeling)"
   ]
  },
  {
   "cell_type": "markdown",
   "metadata": {},
   "source": [
    "## Подготовка данных"
   ]
  },
  {
   "cell_type": "code",
   "execution_count": 1,
   "metadata": {},
   "outputs": [],
   "source": [
    "from tqdm import tqdm\n",
    "import pandas as pd\n",
    "import matplotlib.pyplot as plt\n",
    "\n",
    "from sklearn.preprocessing import MinMaxScaler\n",
    "from sklearn.utils import shuffle\n",
    "from sklearn.model_selection import train_test_split, GridSearchCV\n",
    "from sklearn.metrics import accuracy_score, f1_score, recall_score, precision_score, roc_auc_score, roc_curve, confusion_matrix\n",
    "from sklearn.preprocessing import OneHotEncoder\n",
    "\n",
    "from sklearn.linear_model import LogisticRegression\n",
    "from sklearn.ensemble import RandomForestClassifier\n",
    "from sklearn.preprocessing import StandardScaler\n",
    "from sklearn.tree import DecisionTreeClassifier\n",
    "from sklearn.dummy import DummyClassifier\n",
    "\n",
    "\n",
    "import warnings\n",
    "warnings.filterwarnings(\"ignore\")"
   ]
  },
  {
   "cell_type": "markdown",
   "metadata": {},
   "source": [
    "сохраняем данные в переменную и смотрим общую информацию"
   ]
  },
  {
   "cell_type": "code",
   "execution_count": 2,
   "metadata": {},
   "outputs": [
    {
     "data": {
      "text/html": [
       "<div>\n",
       "<style scoped>\n",
       "    .dataframe tbody tr th:only-of-type {\n",
       "        vertical-align: middle;\n",
       "    }\n",
       "\n",
       "    .dataframe tbody tr th {\n",
       "        vertical-align: top;\n",
       "    }\n",
       "\n",
       "    .dataframe thead th {\n",
       "        text-align: right;\n",
       "    }\n",
       "</style>\n",
       "<table border=\"1\" class=\"dataframe\">\n",
       "  <thead>\n",
       "    <tr style=\"text-align: right;\">\n",
       "      <th></th>\n",
       "      <th>RowNumber</th>\n",
       "      <th>CustomerId</th>\n",
       "      <th>Surname</th>\n",
       "      <th>CreditScore</th>\n",
       "      <th>Geography</th>\n",
       "      <th>Gender</th>\n",
       "      <th>Age</th>\n",
       "      <th>Tenure</th>\n",
       "      <th>Balance</th>\n",
       "      <th>NumOfProducts</th>\n",
       "      <th>HasCrCard</th>\n",
       "      <th>IsActiveMember</th>\n",
       "      <th>EstimatedSalary</th>\n",
       "      <th>Exited</th>\n",
       "    </tr>\n",
       "  </thead>\n",
       "  <tbody>\n",
       "    <tr>\n",
       "      <th>0</th>\n",
       "      <td>1</td>\n",
       "      <td>15634602</td>\n",
       "      <td>Hargrave</td>\n",
       "      <td>619</td>\n",
       "      <td>France</td>\n",
       "      <td>Female</td>\n",
       "      <td>42</td>\n",
       "      <td>2.0</td>\n",
       "      <td>0.00</td>\n",
       "      <td>1</td>\n",
       "      <td>1</td>\n",
       "      <td>1</td>\n",
       "      <td>101348.88</td>\n",
       "      <td>1</td>\n",
       "    </tr>\n",
       "    <tr>\n",
       "      <th>1</th>\n",
       "      <td>2</td>\n",
       "      <td>15647311</td>\n",
       "      <td>Hill</td>\n",
       "      <td>608</td>\n",
       "      <td>Spain</td>\n",
       "      <td>Female</td>\n",
       "      <td>41</td>\n",
       "      <td>1.0</td>\n",
       "      <td>83807.86</td>\n",
       "      <td>1</td>\n",
       "      <td>0</td>\n",
       "      <td>1</td>\n",
       "      <td>112542.58</td>\n",
       "      <td>0</td>\n",
       "    </tr>\n",
       "    <tr>\n",
       "      <th>2</th>\n",
       "      <td>3</td>\n",
       "      <td>15619304</td>\n",
       "      <td>Onio</td>\n",
       "      <td>502</td>\n",
       "      <td>France</td>\n",
       "      <td>Female</td>\n",
       "      <td>42</td>\n",
       "      <td>8.0</td>\n",
       "      <td>159660.80</td>\n",
       "      <td>3</td>\n",
       "      <td>1</td>\n",
       "      <td>0</td>\n",
       "      <td>113931.57</td>\n",
       "      <td>1</td>\n",
       "    </tr>\n",
       "    <tr>\n",
       "      <th>3</th>\n",
       "      <td>4</td>\n",
       "      <td>15701354</td>\n",
       "      <td>Boni</td>\n",
       "      <td>699</td>\n",
       "      <td>France</td>\n",
       "      <td>Female</td>\n",
       "      <td>39</td>\n",
       "      <td>1.0</td>\n",
       "      <td>0.00</td>\n",
       "      <td>2</td>\n",
       "      <td>0</td>\n",
       "      <td>0</td>\n",
       "      <td>93826.63</td>\n",
       "      <td>0</td>\n",
       "    </tr>\n",
       "    <tr>\n",
       "      <th>4</th>\n",
       "      <td>5</td>\n",
       "      <td>15737888</td>\n",
       "      <td>Mitchell</td>\n",
       "      <td>850</td>\n",
       "      <td>Spain</td>\n",
       "      <td>Female</td>\n",
       "      <td>43</td>\n",
       "      <td>2.0</td>\n",
       "      <td>125510.82</td>\n",
       "      <td>1</td>\n",
       "      <td>1</td>\n",
       "      <td>1</td>\n",
       "      <td>79084.10</td>\n",
       "      <td>0</td>\n",
       "    </tr>\n",
       "  </tbody>\n",
       "</table>\n",
       "</div>"
      ],
      "text/plain": [
       "   RowNumber  CustomerId   Surname  CreditScore Geography  Gender  Age  \\\n",
       "0          1    15634602  Hargrave          619    France  Female   42   \n",
       "1          2    15647311      Hill          608     Spain  Female   41   \n",
       "2          3    15619304      Onio          502    France  Female   42   \n",
       "3          4    15701354      Boni          699    France  Female   39   \n",
       "4          5    15737888  Mitchell          850     Spain  Female   43   \n",
       "\n",
       "   Tenure    Balance  NumOfProducts  HasCrCard  IsActiveMember  \\\n",
       "0     2.0       0.00              1          1               1   \n",
       "1     1.0   83807.86              1          0               1   \n",
       "2     8.0  159660.80              3          1               0   \n",
       "3     1.0       0.00              2          0               0   \n",
       "4     2.0  125510.82              1          1               1   \n",
       "\n",
       "   EstimatedSalary  Exited  \n",
       "0        101348.88       1  \n",
       "1        112542.58       0  \n",
       "2        113931.57       1  \n",
       "3         93826.63       0  \n",
       "4         79084.10       0  "
      ]
     },
     "execution_count": 2,
     "metadata": {},
     "output_type": "execute_result"
    }
   ],
   "source": [
    "df = pd.read_csv('/datasets/Churn.csv')\n",
    "df.head()"
   ]
  },
  {
   "cell_type": "code",
   "execution_count": 3,
   "metadata": {},
   "outputs": [
    {
     "name": "stdout",
     "output_type": "stream",
     "text": [
      "<class 'pandas.core.frame.DataFrame'>\n",
      "RangeIndex: 10000 entries, 0 to 9999\n",
      "Data columns (total 14 columns):\n",
      " #   Column           Non-Null Count  Dtype  \n",
      "---  ------           --------------  -----  \n",
      " 0   RowNumber        10000 non-null  int64  \n",
      " 1   CustomerId       10000 non-null  int64  \n",
      " 2   Surname          10000 non-null  object \n",
      " 3   CreditScore      10000 non-null  int64  \n",
      " 4   Geography        10000 non-null  object \n",
      " 5   Gender           10000 non-null  object \n",
      " 6   Age              10000 non-null  int64  \n",
      " 7   Tenure           9091 non-null   float64\n",
      " 8   Balance          10000 non-null  float64\n",
      " 9   NumOfProducts    10000 non-null  int64  \n",
      " 10  HasCrCard        10000 non-null  int64  \n",
      " 11  IsActiveMember   10000 non-null  int64  \n",
      " 12  EstimatedSalary  10000 non-null  float64\n",
      " 13  Exited           10000 non-null  int64  \n",
      "dtypes: float64(3), int64(8), object(3)\n",
      "memory usage: 1.1+ MB\n"
     ]
    }
   ],
   "source": [
    "df.info()"
   ]
  },
  {
   "cell_type": "markdown",
   "metadata": {},
   "source": [
    "Проверим на дубликаты"
   ]
  },
  {
   "cell_type": "code",
   "execution_count": 4,
   "metadata": {},
   "outputs": [
    {
     "data": {
      "text/plain": [
       "0"
      ]
     },
     "execution_count": 4,
     "metadata": {},
     "output_type": "execute_result"
    }
   ],
   "source": [
    "df.duplicated().sum()"
   ]
  },
  {
   "cell_type": "markdown",
   "metadata": {},
   "source": [
    "заполняем пропуски минимальными значениями"
   ]
  },
  {
   "cell_type": "code",
   "execution_count": 5,
   "metadata": {},
   "outputs": [],
   "source": [
    "df['Tenure'] = df['Tenure'].fillna(0)"
   ]
  },
  {
   "cell_type": "markdown",
   "metadata": {},
   "source": [
    "## Исследование задачи"
   ]
  },
  {
   "cell_type": "markdown",
   "metadata": {},
   "source": [
    "Удалим столбцы-идентификаторы, не представляющие ценностия для алгоритма.\n",
    "создадим дополнительный датафрем, в котором будут хранится данные для обучения модели"
   ]
  },
  {
   "cell_type": "code",
   "execution_count": 6,
   "metadata": {},
   "outputs": [],
   "source": [
    "drop_columns = ['RowNumber','CustomerId', 'Surname']\n",
    "df_ml = df.drop(drop_columns, axis=1)\n"
   ]
  },
  {
   "cell_type": "code",
   "execution_count": 7,
   "metadata": {
    "scrolled": true
   },
   "outputs": [
    {
     "data": {
      "text/plain": [
       "(10000, 11)"
      ]
     },
     "execution_count": 7,
     "metadata": {},
     "output_type": "execute_result"
    }
   ],
   "source": [
    "df_ml.shape"
   ]
  },
  {
   "cell_type": "markdown",
   "metadata": {},
   "source": [
    "Данные подготовим методом OHE, что позволит нам использовать разные модели и не словить дамми ловушку"
   ]
  },
  {
   "cell_type": "code",
   "execution_count": null,
   "metadata": {},
   "outputs": [],
   "source": [
    "df_ml = pd.get_dummies(df_ml, drop_first=True)"
   ]
  },
  {
   "cell_type": "code",
   "execution_count": 8,
   "metadata": {
    "scrolled": true
   },
   "outputs": [
    {
     "data": {
      "text/plain": [
       "(10000, 11)"
      ]
     },
     "execution_count": 8,
     "metadata": {},
     "output_type": "execute_result"
    }
   ],
   "source": [
    "df_ml.shape"
   ]
  },
  {
   "cell_type": "markdown",
   "metadata": {},
   "source": [
    "Разделим на признаки и целевой признак"
   ]
  },
  {
   "cell_type": "code",
   "execution_count": 9,
   "metadata": {},
   "outputs": [],
   "source": [
    "features = df_ml.drop('Exited', axis=1)\n",
    "target = df_ml['Exited']"
   ]
  },
  {
   "cell_type": "code",
   "execution_count": 10,
   "metadata": {},
   "outputs": [],
   "source": [
    "features_train, features_test, target_train, target_test = train_test_split(features,\n",
    "                                                    target,\n",
    "                                                    train_size=0.6,\n",
    "                                                    random_state=12345)\n",
    "features_valid, features_test, target_valid, target_test = train_test_split(features_test,\n",
    "                                                    target_test,\n",
    "                                                    train_size=0.5,\n",
    "                                                    random_state=12345)\n"
   ]
  },
  {
   "cell_type": "markdown",
   "metadata": {},
   "source": [
    "посмотрим исходные валидационные данные, чтобы сравнить их с от маштабированными в дальнейшем"
   ]
  },
  {
   "cell_type": "code",
   "execution_count": 11,
   "metadata": {},
   "outputs": [
    {
     "data": {
      "text/html": [
       "<div>\n",
       "<style scoped>\n",
       "    .dataframe tbody tr th:only-of-type {\n",
       "        vertical-align: middle;\n",
       "    }\n",
       "\n",
       "    .dataframe tbody tr th {\n",
       "        vertical-align: top;\n",
       "    }\n",
       "\n",
       "    .dataframe thead th {\n",
       "        text-align: right;\n",
       "    }\n",
       "</style>\n",
       "<table border=\"1\" class=\"dataframe\">\n",
       "  <thead>\n",
       "    <tr style=\"text-align: right;\">\n",
       "      <th></th>\n",
       "      <th>CreditScore</th>\n",
       "      <th>Geography</th>\n",
       "      <th>Gender</th>\n",
       "      <th>Age</th>\n",
       "      <th>Tenure</th>\n",
       "      <th>Balance</th>\n",
       "      <th>NumOfProducts</th>\n",
       "      <th>HasCrCard</th>\n",
       "      <th>IsActiveMember</th>\n",
       "      <th>EstimatedSalary</th>\n",
       "    </tr>\n",
       "  </thead>\n",
       "  <tbody>\n",
       "    <tr>\n",
       "      <th>8532</th>\n",
       "      <td>585</td>\n",
       "      <td>France</td>\n",
       "      <td>Female</td>\n",
       "      <td>35</td>\n",
       "      <td>2.0</td>\n",
       "      <td>0.00</td>\n",
       "      <td>2</td>\n",
       "      <td>1</td>\n",
       "      <td>0</td>\n",
       "      <td>98621.04</td>\n",
       "    </tr>\n",
       "    <tr>\n",
       "      <th>5799</th>\n",
       "      <td>625</td>\n",
       "      <td>France</td>\n",
       "      <td>Female</td>\n",
       "      <td>45</td>\n",
       "      <td>3.0</td>\n",
       "      <td>0.00</td>\n",
       "      <td>1</td>\n",
       "      <td>1</td>\n",
       "      <td>1</td>\n",
       "      <td>184474.15</td>\n",
       "    </tr>\n",
       "    <tr>\n",
       "      <th>5511</th>\n",
       "      <td>667</td>\n",
       "      <td>Germany</td>\n",
       "      <td>Male</td>\n",
       "      <td>32</td>\n",
       "      <td>0.0</td>\n",
       "      <td>103846.65</td>\n",
       "      <td>1</td>\n",
       "      <td>1</td>\n",
       "      <td>0</td>\n",
       "      <td>20560.69</td>\n",
       "    </tr>\n",
       "    <tr>\n",
       "      <th>7365</th>\n",
       "      <td>568</td>\n",
       "      <td>Spain</td>\n",
       "      <td>Female</td>\n",
       "      <td>36</td>\n",
       "      <td>10.0</td>\n",
       "      <td>153610.61</td>\n",
       "      <td>1</td>\n",
       "      <td>1</td>\n",
       "      <td>1</td>\n",
       "      <td>54083.80</td>\n",
       "    </tr>\n",
       "    <tr>\n",
       "      <th>7367</th>\n",
       "      <td>606</td>\n",
       "      <td>Spain</td>\n",
       "      <td>Male</td>\n",
       "      <td>42</td>\n",
       "      <td>10.0</td>\n",
       "      <td>0.00</td>\n",
       "      <td>2</td>\n",
       "      <td>1</td>\n",
       "      <td>0</td>\n",
       "      <td>177938.52</td>\n",
       "    </tr>\n",
       "  </tbody>\n",
       "</table>\n",
       "</div>"
      ],
      "text/plain": [
       "      CreditScore Geography  Gender  Age  Tenure    Balance  NumOfProducts  \\\n",
       "8532          585    France  Female   35     2.0       0.00              2   \n",
       "5799          625    France  Female   45     3.0       0.00              1   \n",
       "5511          667   Germany    Male   32     0.0  103846.65              1   \n",
       "7365          568     Spain  Female   36    10.0  153610.61              1   \n",
       "7367          606     Spain    Male   42    10.0       0.00              2   \n",
       "\n",
       "      HasCrCard  IsActiveMember  EstimatedSalary  \n",
       "8532          1               0         98621.04  \n",
       "5799          1               1        184474.15  \n",
       "5511          1               0         20560.69  \n",
       "7365          1               1         54083.80  \n",
       "7367          1               0        177938.52  "
      ]
     },
     "execution_count": 11,
     "metadata": {},
     "output_type": "execute_result"
    }
   ],
   "source": [
    "features_valid.head()"
   ]
  },
  {
   "cell_type": "code",
   "execution_count": 12,
   "metadata": {
    "scrolled": true
   },
   "outputs": [
    {
     "data": {
      "text/plain": [
       "(2000, 10)"
      ]
     },
     "execution_count": 12,
     "metadata": {},
     "output_type": "execute_result"
    }
   ],
   "source": [
    "features_valid.shape"
   ]
  },
  {
   "cell_type": "markdown",
   "metadata": {},
   "source": [
    "посмотрим исходные тренировочные данные, чтобы сравнить их с от маштабированными в дальнейшем"
   ]
  },
  {
   "cell_type": "code",
   "execution_count": 13,
   "metadata": {},
   "outputs": [
    {
     "data": {
      "text/html": [
       "<div>\n",
       "<style scoped>\n",
       "    .dataframe tbody tr th:only-of-type {\n",
       "        vertical-align: middle;\n",
       "    }\n",
       "\n",
       "    .dataframe tbody tr th {\n",
       "        vertical-align: top;\n",
       "    }\n",
       "\n",
       "    .dataframe thead th {\n",
       "        text-align: right;\n",
       "    }\n",
       "</style>\n",
       "<table border=\"1\" class=\"dataframe\">\n",
       "  <thead>\n",
       "    <tr style=\"text-align: right;\">\n",
       "      <th></th>\n",
       "      <th>CreditScore</th>\n",
       "      <th>Geography</th>\n",
       "      <th>Gender</th>\n",
       "      <th>Age</th>\n",
       "      <th>Tenure</th>\n",
       "      <th>Balance</th>\n",
       "      <th>NumOfProducts</th>\n",
       "      <th>HasCrCard</th>\n",
       "      <th>IsActiveMember</th>\n",
       "      <th>EstimatedSalary</th>\n",
       "    </tr>\n",
       "  </thead>\n",
       "  <tbody>\n",
       "    <tr>\n",
       "      <th>7479</th>\n",
       "      <td>567</td>\n",
       "      <td>Spain</td>\n",
       "      <td>Male</td>\n",
       "      <td>35</td>\n",
       "      <td>8.0</td>\n",
       "      <td>153137.74</td>\n",
       "      <td>1</td>\n",
       "      <td>1</td>\n",
       "      <td>0</td>\n",
       "      <td>88659.07</td>\n",
       "    </tr>\n",
       "    <tr>\n",
       "      <th>3411</th>\n",
       "      <td>711</td>\n",
       "      <td>France</td>\n",
       "      <td>Female</td>\n",
       "      <td>37</td>\n",
       "      <td>8.0</td>\n",
       "      <td>113899.92</td>\n",
       "      <td>1</td>\n",
       "      <td>0</td>\n",
       "      <td>0</td>\n",
       "      <td>80215.20</td>\n",
       "    </tr>\n",
       "    <tr>\n",
       "      <th>6027</th>\n",
       "      <td>850</td>\n",
       "      <td>Germany</td>\n",
       "      <td>Male</td>\n",
       "      <td>44</td>\n",
       "      <td>3.0</td>\n",
       "      <td>140393.65</td>\n",
       "      <td>2</td>\n",
       "      <td>0</td>\n",
       "      <td>1</td>\n",
       "      <td>186285.52</td>\n",
       "    </tr>\n",
       "    <tr>\n",
       "      <th>1247</th>\n",
       "      <td>512</td>\n",
       "      <td>France</td>\n",
       "      <td>Male</td>\n",
       "      <td>24</td>\n",
       "      <td>6.0</td>\n",
       "      <td>0.00</td>\n",
       "      <td>2</td>\n",
       "      <td>1</td>\n",
       "      <td>0</td>\n",
       "      <td>37654.31</td>\n",
       "    </tr>\n",
       "    <tr>\n",
       "      <th>3716</th>\n",
       "      <td>665</td>\n",
       "      <td>Germany</td>\n",
       "      <td>Female</td>\n",
       "      <td>27</td>\n",
       "      <td>2.0</td>\n",
       "      <td>147435.96</td>\n",
       "      <td>1</td>\n",
       "      <td>0</td>\n",
       "      <td>0</td>\n",
       "      <td>187508.06</td>\n",
       "    </tr>\n",
       "  </tbody>\n",
       "</table>\n",
       "</div>"
      ],
      "text/plain": [
       "      CreditScore Geography  Gender  Age  Tenure    Balance  NumOfProducts  \\\n",
       "7479          567     Spain    Male   35     8.0  153137.74              1   \n",
       "3411          711    France  Female   37     8.0  113899.92              1   \n",
       "6027          850   Germany    Male   44     3.0  140393.65              2   \n",
       "1247          512    France    Male   24     6.0       0.00              2   \n",
       "3716          665   Germany  Female   27     2.0  147435.96              1   \n",
       "\n",
       "      HasCrCard  IsActiveMember  EstimatedSalary  \n",
       "7479          1               0         88659.07  \n",
       "3411          0               0         80215.20  \n",
       "6027          0               1        186285.52  \n",
       "1247          1               0         37654.31  \n",
       "3716          0               0        187508.06  "
      ]
     },
     "execution_count": 13,
     "metadata": {},
     "output_type": "execute_result"
    }
   ],
   "source": [
    "features_train.head()"
   ]
  },
  {
   "cell_type": "code",
   "execution_count": 14,
   "metadata": {
    "scrolled": true
   },
   "outputs": [
    {
     "data": {
      "text/plain": [
       "(6000, 10)"
      ]
     },
     "execution_count": 14,
     "metadata": {},
     "output_type": "execute_result"
    }
   ],
   "source": [
    "features_train.shape"
   ]
  },
  {
   "cell_type": "markdown",
   "metadata": {},
   "source": [
    "посмотрим исходные тестовые данные, чтобы сравнить их с от маштабированными в дальнейшем"
   ]
  },
  {
   "cell_type": "code",
   "execution_count": 15,
   "metadata": {
    "scrolled": true
   },
   "outputs": [
    {
     "data": {
      "text/html": [
       "<div>\n",
       "<style scoped>\n",
       "    .dataframe tbody tr th:only-of-type {\n",
       "        vertical-align: middle;\n",
       "    }\n",
       "\n",
       "    .dataframe tbody tr th {\n",
       "        vertical-align: top;\n",
       "    }\n",
       "\n",
       "    .dataframe thead th {\n",
       "        text-align: right;\n",
       "    }\n",
       "</style>\n",
       "<table border=\"1\" class=\"dataframe\">\n",
       "  <thead>\n",
       "    <tr style=\"text-align: right;\">\n",
       "      <th></th>\n",
       "      <th>CreditScore</th>\n",
       "      <th>Geography</th>\n",
       "      <th>Gender</th>\n",
       "      <th>Age</th>\n",
       "      <th>Tenure</th>\n",
       "      <th>Balance</th>\n",
       "      <th>NumOfProducts</th>\n",
       "      <th>HasCrCard</th>\n",
       "      <th>IsActiveMember</th>\n",
       "      <th>EstimatedSalary</th>\n",
       "    </tr>\n",
       "  </thead>\n",
       "  <tbody>\n",
       "    <tr>\n",
       "      <th>7479</th>\n",
       "      <td>567</td>\n",
       "      <td>Spain</td>\n",
       "      <td>Male</td>\n",
       "      <td>35</td>\n",
       "      <td>8.0</td>\n",
       "      <td>153137.74</td>\n",
       "      <td>1</td>\n",
       "      <td>1</td>\n",
       "      <td>0</td>\n",
       "      <td>88659.07</td>\n",
       "    </tr>\n",
       "    <tr>\n",
       "      <th>3411</th>\n",
       "      <td>711</td>\n",
       "      <td>France</td>\n",
       "      <td>Female</td>\n",
       "      <td>37</td>\n",
       "      <td>8.0</td>\n",
       "      <td>113899.92</td>\n",
       "      <td>1</td>\n",
       "      <td>0</td>\n",
       "      <td>0</td>\n",
       "      <td>80215.20</td>\n",
       "    </tr>\n",
       "    <tr>\n",
       "      <th>6027</th>\n",
       "      <td>850</td>\n",
       "      <td>Germany</td>\n",
       "      <td>Male</td>\n",
       "      <td>44</td>\n",
       "      <td>3.0</td>\n",
       "      <td>140393.65</td>\n",
       "      <td>2</td>\n",
       "      <td>0</td>\n",
       "      <td>1</td>\n",
       "      <td>186285.52</td>\n",
       "    </tr>\n",
       "    <tr>\n",
       "      <th>1247</th>\n",
       "      <td>512</td>\n",
       "      <td>France</td>\n",
       "      <td>Male</td>\n",
       "      <td>24</td>\n",
       "      <td>6.0</td>\n",
       "      <td>0.00</td>\n",
       "      <td>2</td>\n",
       "      <td>1</td>\n",
       "      <td>0</td>\n",
       "      <td>37654.31</td>\n",
       "    </tr>\n",
       "    <tr>\n",
       "      <th>3716</th>\n",
       "      <td>665</td>\n",
       "      <td>Germany</td>\n",
       "      <td>Female</td>\n",
       "      <td>27</td>\n",
       "      <td>2.0</td>\n",
       "      <td>147435.96</td>\n",
       "      <td>1</td>\n",
       "      <td>0</td>\n",
       "      <td>0</td>\n",
       "      <td>187508.06</td>\n",
       "    </tr>\n",
       "  </tbody>\n",
       "</table>\n",
       "</div>"
      ],
      "text/plain": [
       "      CreditScore Geography  Gender  Age  Tenure    Balance  NumOfProducts  \\\n",
       "7479          567     Spain    Male   35     8.0  153137.74              1   \n",
       "3411          711    France  Female   37     8.0  113899.92              1   \n",
       "6027          850   Germany    Male   44     3.0  140393.65              2   \n",
       "1247          512    France    Male   24     6.0       0.00              2   \n",
       "3716          665   Germany  Female   27     2.0  147435.96              1   \n",
       "\n",
       "      HasCrCard  IsActiveMember  EstimatedSalary  \n",
       "7479          1               0         88659.07  \n",
       "3411          0               0         80215.20  \n",
       "6027          0               1        186285.52  \n",
       "1247          1               0         37654.31  \n",
       "3716          0               0        187508.06  "
      ]
     },
     "execution_count": 15,
     "metadata": {},
     "output_type": "execute_result"
    }
   ],
   "source": [
    "features_train.head()"
   ]
  },
  {
   "cell_type": "code",
   "execution_count": 16,
   "metadata": {},
   "outputs": [
    {
     "data": {
      "text/plain": [
       "(2000, 10)"
      ]
     },
     "execution_count": 16,
     "metadata": {},
     "output_type": "execute_result"
    }
   ],
   "source": [
    "features_test.shape"
   ]
  },
  {
   "cell_type": "code",
   "execution_count": 17,
   "metadata": {},
   "outputs": [
    {
     "data": {
      "text/plain": [
       "OneHotEncoder(handle_unknown='ignore')"
      ]
     },
     "execution_count": 17,
     "metadata": {},
     "output_type": "execute_result"
    }
   ],
   "source": [
    "enc = OneHotEncoder(handle_unknown = 'ignore')\n",
    "enc.fit(features_train)"
   ]
  },
  {
   "cell_type": "code",
   "execution_count": 18,
   "metadata": {},
   "outputs": [
    {
     "data": {
      "text/plain": [
       "<2000x10392 sparse matrix of type '<class 'numpy.float64'>'\n",
       "\twith 16744 stored elements in Compressed Sparse Row format>"
      ]
     },
     "execution_count": 18,
     "metadata": {},
     "output_type": "execute_result"
    }
   ],
   "source": [
    "enc.transform(features_train)\n",
    "enc.transform(features_test)\n",
    "enc.transform(features_valid)\n",
    "enc.transform(features_test)"
   ]
  },
  {
   "cell_type": "markdown",
   "metadata": {},
   "source": [
    "Для масштабирования методом scaler зафиксируем численные признаки"
   ]
  },
  {
   "cell_type": "code",
   "execution_count": 19,
   "metadata": {},
   "outputs": [],
   "source": [
    "numeric = ['CreditScore', 'Age', 'Tenure', 'Balance', 'NumOfProducts', 'EstimatedSalary']"
   ]
  },
  {
   "cell_type": "code",
   "execution_count": 20,
   "metadata": {
    "scrolled": true
   },
   "outputs": [
    {
     "data": {
      "text/plain": [
       "StandardScaler()"
      ]
     },
     "execution_count": 20,
     "metadata": {},
     "output_type": "execute_result"
    }
   ],
   "source": [
    "scaler = StandardScaler()\n",
    "scaler.fit(features_train[numeric])"
   ]
  },
  {
   "cell_type": "markdown",
   "metadata": {},
   "source": [
    "Масштабируем численные признаки обучающей выборки"
   ]
  },
  {
   "cell_type": "code",
   "execution_count": 21,
   "metadata": {
    "scrolled": true
   },
   "outputs": [
    {
     "data": {
      "text/html": [
       "<div>\n",
       "<style scoped>\n",
       "    .dataframe tbody tr th:only-of-type {\n",
       "        vertical-align: middle;\n",
       "    }\n",
       "\n",
       "    .dataframe tbody tr th {\n",
       "        vertical-align: top;\n",
       "    }\n",
       "\n",
       "    .dataframe thead th {\n",
       "        text-align: right;\n",
       "    }\n",
       "</style>\n",
       "<table border=\"1\" class=\"dataframe\">\n",
       "  <thead>\n",
       "    <tr style=\"text-align: right;\">\n",
       "      <th></th>\n",
       "      <th>CreditScore</th>\n",
       "      <th>Geography</th>\n",
       "      <th>Gender</th>\n",
       "      <th>Age</th>\n",
       "      <th>Tenure</th>\n",
       "      <th>Balance</th>\n",
       "      <th>NumOfProducts</th>\n",
       "      <th>HasCrCard</th>\n",
       "      <th>IsActiveMember</th>\n",
       "      <th>EstimatedSalary</th>\n",
       "    </tr>\n",
       "  </thead>\n",
       "  <tbody>\n",
       "    <tr>\n",
       "      <th>7479</th>\n",
       "      <td>-0.886751</td>\n",
       "      <td>Spain</td>\n",
       "      <td>Male</td>\n",
       "      <td>-0.373192</td>\n",
       "      <td>1.104696</td>\n",
       "      <td>1.232271</td>\n",
       "      <td>-0.891560</td>\n",
       "      <td>1</td>\n",
       "      <td>0</td>\n",
       "      <td>-0.187705</td>\n",
       "    </tr>\n",
       "    <tr>\n",
       "      <th>3411</th>\n",
       "      <td>0.608663</td>\n",
       "      <td>France</td>\n",
       "      <td>Female</td>\n",
       "      <td>-0.183385</td>\n",
       "      <td>1.104696</td>\n",
       "      <td>0.600563</td>\n",
       "      <td>-0.891560</td>\n",
       "      <td>0</td>\n",
       "      <td>0</td>\n",
       "      <td>-0.333945</td>\n",
       "    </tr>\n",
       "    <tr>\n",
       "      <th>6027</th>\n",
       "      <td>2.052152</td>\n",
       "      <td>Germany</td>\n",
       "      <td>Male</td>\n",
       "      <td>0.480939</td>\n",
       "      <td>-0.503694</td>\n",
       "      <td>1.027098</td>\n",
       "      <td>0.830152</td>\n",
       "      <td>0</td>\n",
       "      <td>1</td>\n",
       "      <td>1.503095</td>\n",
       "    </tr>\n",
       "    <tr>\n",
       "      <th>1247</th>\n",
       "      <td>-1.457915</td>\n",
       "      <td>France</td>\n",
       "      <td>Male</td>\n",
       "      <td>-1.417129</td>\n",
       "      <td>0.461340</td>\n",
       "      <td>-1.233163</td>\n",
       "      <td>0.830152</td>\n",
       "      <td>1</td>\n",
       "      <td>0</td>\n",
       "      <td>-1.071061</td>\n",
       "    </tr>\n",
       "    <tr>\n",
       "      <th>3716</th>\n",
       "      <td>0.130961</td>\n",
       "      <td>Germany</td>\n",
       "      <td>Female</td>\n",
       "      <td>-1.132419</td>\n",
       "      <td>-0.825373</td>\n",
       "      <td>1.140475</td>\n",
       "      <td>-0.891560</td>\n",
       "      <td>0</td>\n",
       "      <td>0</td>\n",
       "      <td>1.524268</td>\n",
       "    </tr>\n",
       "  </tbody>\n",
       "</table>\n",
       "</div>"
      ],
      "text/plain": [
       "      CreditScore Geography  Gender       Age    Tenure   Balance  \\\n",
       "7479    -0.886751     Spain    Male -0.373192  1.104696  1.232271   \n",
       "3411     0.608663    France  Female -0.183385  1.104696  0.600563   \n",
       "6027     2.052152   Germany    Male  0.480939 -0.503694  1.027098   \n",
       "1247    -1.457915    France    Male -1.417129  0.461340 -1.233163   \n",
       "3716     0.130961   Germany  Female -1.132419 -0.825373  1.140475   \n",
       "\n",
       "      NumOfProducts  HasCrCard  IsActiveMember  EstimatedSalary  \n",
       "7479      -0.891560          1               0        -0.187705  \n",
       "3411      -0.891560          0               0        -0.333945  \n",
       "6027       0.830152          0               1         1.503095  \n",
       "1247       0.830152          1               0        -1.071061  \n",
       "3716      -0.891560          0               0         1.524268  "
      ]
     },
     "execution_count": 21,
     "metadata": {},
     "output_type": "execute_result"
    }
   ],
   "source": [
    "features_train[numeric] = scaler.transform(features_train[numeric])\n",
    "features_train.head()"
   ]
  },
  {
   "cell_type": "markdown",
   "metadata": {},
   "source": [
    "Масштабируем численные признаки валидационной выборки "
   ]
  },
  {
   "cell_type": "code",
   "execution_count": 22,
   "metadata": {
    "scrolled": true
   },
   "outputs": [
    {
     "data": {
      "text/html": [
       "<div>\n",
       "<style scoped>\n",
       "    .dataframe tbody tr th:only-of-type {\n",
       "        vertical-align: middle;\n",
       "    }\n",
       "\n",
       "    .dataframe tbody tr th {\n",
       "        vertical-align: top;\n",
       "    }\n",
       "\n",
       "    .dataframe thead th {\n",
       "        text-align: right;\n",
       "    }\n",
       "</style>\n",
       "<table border=\"1\" class=\"dataframe\">\n",
       "  <thead>\n",
       "    <tr style=\"text-align: right;\">\n",
       "      <th></th>\n",
       "      <th>CreditScore</th>\n",
       "      <th>Geography</th>\n",
       "      <th>Gender</th>\n",
       "      <th>Age</th>\n",
       "      <th>Tenure</th>\n",
       "      <th>Balance</th>\n",
       "      <th>NumOfProducts</th>\n",
       "      <th>HasCrCard</th>\n",
       "      <th>IsActiveMember</th>\n",
       "      <th>EstimatedSalary</th>\n",
       "    </tr>\n",
       "  </thead>\n",
       "  <tbody>\n",
       "    <tr>\n",
       "      <th>8532</th>\n",
       "      <td>-0.699824</td>\n",
       "      <td>France</td>\n",
       "      <td>Female</td>\n",
       "      <td>-0.373192</td>\n",
       "      <td>-0.825373</td>\n",
       "      <td>-1.233163</td>\n",
       "      <td>0.830152</td>\n",
       "      <td>1</td>\n",
       "      <td>0</td>\n",
       "      <td>-0.015173</td>\n",
       "    </tr>\n",
       "    <tr>\n",
       "      <th>5799</th>\n",
       "      <td>-0.284431</td>\n",
       "      <td>France</td>\n",
       "      <td>Female</td>\n",
       "      <td>0.575842</td>\n",
       "      <td>-0.503694</td>\n",
       "      <td>-1.233163</td>\n",
       "      <td>-0.891560</td>\n",
       "      <td>1</td>\n",
       "      <td>1</td>\n",
       "      <td>1.471724</td>\n",
       "    </tr>\n",
       "    <tr>\n",
       "      <th>5511</th>\n",
       "      <td>0.151731</td>\n",
       "      <td>Germany</td>\n",
       "      <td>Male</td>\n",
       "      <td>-0.657902</td>\n",
       "      <td>-1.468729</td>\n",
       "      <td>0.438711</td>\n",
       "      <td>-0.891560</td>\n",
       "      <td>1</td>\n",
       "      <td>0</td>\n",
       "      <td>-1.367107</td>\n",
       "    </tr>\n",
       "    <tr>\n",
       "      <th>7365</th>\n",
       "      <td>-0.876366</td>\n",
       "      <td>Spain</td>\n",
       "      <td>Female</td>\n",
       "      <td>-0.278288</td>\n",
       "      <td>1.748053</td>\n",
       "      <td>1.239884</td>\n",
       "      <td>-0.891560</td>\n",
       "      <td>1</td>\n",
       "      <td>1</td>\n",
       "      <td>-0.786517</td>\n",
       "    </tr>\n",
       "    <tr>\n",
       "      <th>7367</th>\n",
       "      <td>-0.481743</td>\n",
       "      <td>Spain</td>\n",
       "      <td>Male</td>\n",
       "      <td>0.291132</td>\n",
       "      <td>1.748053</td>\n",
       "      <td>-1.233163</td>\n",
       "      <td>0.830152</td>\n",
       "      <td>1</td>\n",
       "      <td>0</td>\n",
       "      <td>1.358533</td>\n",
       "    </tr>\n",
       "  </tbody>\n",
       "</table>\n",
       "</div>"
      ],
      "text/plain": [
       "      CreditScore Geography  Gender       Age    Tenure   Balance  \\\n",
       "8532    -0.699824    France  Female -0.373192 -0.825373 -1.233163   \n",
       "5799    -0.284431    France  Female  0.575842 -0.503694 -1.233163   \n",
       "5511     0.151731   Germany    Male -0.657902 -1.468729  0.438711   \n",
       "7365    -0.876366     Spain  Female -0.278288  1.748053  1.239884   \n",
       "7367    -0.481743     Spain    Male  0.291132  1.748053 -1.233163   \n",
       "\n",
       "      NumOfProducts  HasCrCard  IsActiveMember  EstimatedSalary  \n",
       "8532       0.830152          1               0        -0.015173  \n",
       "5799      -0.891560          1               1         1.471724  \n",
       "5511      -0.891560          1               0        -1.367107  \n",
       "7365      -0.891560          1               1        -0.786517  \n",
       "7367       0.830152          1               0         1.358533  "
      ]
     },
     "execution_count": 22,
     "metadata": {},
     "output_type": "execute_result"
    }
   ],
   "source": [
    "features_valid[numeric] = scaler.transform(features_valid[numeric])\n",
    "features_valid.head()"
   ]
  },
  {
   "cell_type": "markdown",
   "metadata": {},
   "source": [
    "Масштабируем численные признаки тестовой выборки "
   ]
  },
  {
   "cell_type": "code",
   "execution_count": 23,
   "metadata": {
    "scrolled": true
   },
   "outputs": [
    {
     "data": {
      "text/html": [
       "<div>\n",
       "<style scoped>\n",
       "    .dataframe tbody tr th:only-of-type {\n",
       "        vertical-align: middle;\n",
       "    }\n",
       "\n",
       "    .dataframe tbody tr th {\n",
       "        vertical-align: top;\n",
       "    }\n",
       "\n",
       "    .dataframe thead th {\n",
       "        text-align: right;\n",
       "    }\n",
       "</style>\n",
       "<table border=\"1\" class=\"dataframe\">\n",
       "  <thead>\n",
       "    <tr style=\"text-align: right;\">\n",
       "      <th></th>\n",
       "      <th>CreditScore</th>\n",
       "      <th>Geography</th>\n",
       "      <th>Gender</th>\n",
       "      <th>Age</th>\n",
       "      <th>Tenure</th>\n",
       "      <th>Balance</th>\n",
       "      <th>NumOfProducts</th>\n",
       "      <th>HasCrCard</th>\n",
       "      <th>IsActiveMember</th>\n",
       "      <th>EstimatedSalary</th>\n",
       "    </tr>\n",
       "  </thead>\n",
       "  <tbody>\n",
       "    <tr>\n",
       "      <th>7041</th>\n",
       "      <td>-2.226392</td>\n",
       "      <td>France</td>\n",
       "      <td>Male</td>\n",
       "      <td>-0.088482</td>\n",
       "      <td>-0.825373</td>\n",
       "      <td>-1.233163</td>\n",
       "      <td>0.830152</td>\n",
       "      <td>1</td>\n",
       "      <td>0</td>\n",
       "      <td>0.647083</td>\n",
       "    </tr>\n",
       "    <tr>\n",
       "      <th>5709</th>\n",
       "      <td>-0.087120</td>\n",
       "      <td>France</td>\n",
       "      <td>Female</td>\n",
       "      <td>0.006422</td>\n",
       "      <td>1.426375</td>\n",
       "      <td>-1.233163</td>\n",
       "      <td>-0.891560</td>\n",
       "      <td>1</td>\n",
       "      <td>0</td>\n",
       "      <td>-1.658410</td>\n",
       "    </tr>\n",
       "    <tr>\n",
       "      <th>7117</th>\n",
       "      <td>-0.917905</td>\n",
       "      <td>Spain</td>\n",
       "      <td>Male</td>\n",
       "      <td>-0.752805</td>\n",
       "      <td>0.139662</td>\n",
       "      <td>0.722307</td>\n",
       "      <td>-0.891560</td>\n",
       "      <td>1</td>\n",
       "      <td>1</td>\n",
       "      <td>-1.369334</td>\n",
       "    </tr>\n",
       "    <tr>\n",
       "      <th>7775</th>\n",
       "      <td>-0.253277</td>\n",
       "      <td>Spain</td>\n",
       "      <td>Male</td>\n",
       "      <td>0.101325</td>\n",
       "      <td>1.748053</td>\n",
       "      <td>-1.233163</td>\n",
       "      <td>0.830152</td>\n",
       "      <td>1</td>\n",
       "      <td>0</td>\n",
       "      <td>0.075086</td>\n",
       "    </tr>\n",
       "    <tr>\n",
       "      <th>8735</th>\n",
       "      <td>0.785204</td>\n",
       "      <td>France</td>\n",
       "      <td>Male</td>\n",
       "      <td>-0.847708</td>\n",
       "      <td>1.748053</td>\n",
       "      <td>0.615625</td>\n",
       "      <td>-0.891560</td>\n",
       "      <td>0</td>\n",
       "      <td>1</td>\n",
       "      <td>-1.070919</td>\n",
       "    </tr>\n",
       "  </tbody>\n",
       "</table>\n",
       "</div>"
      ],
      "text/plain": [
       "      CreditScore Geography  Gender       Age    Tenure   Balance  \\\n",
       "7041    -2.226392    France    Male -0.088482 -0.825373 -1.233163   \n",
       "5709    -0.087120    France  Female  0.006422  1.426375 -1.233163   \n",
       "7117    -0.917905     Spain    Male -0.752805  0.139662  0.722307   \n",
       "7775    -0.253277     Spain    Male  0.101325  1.748053 -1.233163   \n",
       "8735     0.785204    France    Male -0.847708  1.748053  0.615625   \n",
       "\n",
       "      NumOfProducts  HasCrCard  IsActiveMember  EstimatedSalary  \n",
       "7041       0.830152          1               0         0.647083  \n",
       "5709      -0.891560          1               0        -1.658410  \n",
       "7117      -0.891560          1               1        -1.369334  \n",
       "7775       0.830152          1               0         0.075086  \n",
       "8735      -0.891560          0               1        -1.070919  "
      ]
     },
     "execution_count": 23,
     "metadata": {},
     "output_type": "execute_result"
    }
   ],
   "source": [
    "features_test[numeric] = scaler.transform(features_test[numeric])\n",
    "features_test.head()"
   ]
  },
  {
   "cell_type": "markdown",
   "metadata": {},
   "source": [
    "строим диаграмму, которая наглядно покажет дисбаланс данных на тренировочной выборке"
   ]
  },
  {
   "cell_type": "code",
   "execution_count": 24,
   "metadata": {},
   "outputs": [
    {
     "data": {
      "text/plain": [
       "<AxesSubplot:ylabel='Frequency'>"
      ]
     },
     "execution_count": 24,
     "metadata": {},
     "output_type": "execute_result"
    },
    {
     "data": {
      "image/png": "[encoded data removed]",
      "text/plain": [
       "<Figure size 360x360 with 1 Axes>"
      ]
     },
     "metadata": {
      "needs_background": "light"
     },
     "output_type": "display_data"
    }
   ],
   "source": [
    "df_ml['Exited'].plot(kind ='hist', bins=2, figsize=(5,5))"
   ]
  },
  {
   "cell_type": "markdown",
   "metadata": {},
   "source": [
    "строим диаграмму на тестовой выборке, чтобы убедиться в том, что дисбаланс есть и это не простая ошибка в тренировочной выборке."
   ]
  },
  {
   "cell_type": "markdown",
   "metadata": {},
   "source": [
    "Как мы выяснили в нашей выборке отрицательны ответов ≈80% , положитительных ≈ 20%. С уверенностью можем сказать что дисбаланс присутствует и он существенный."
   ]
  },
  {
   "cell_type": "markdown",
   "metadata": {},
   "source": [
    "напишем функцию для изучия полноты, точности и F1-меры"
   ]
  },
  {
   "cell_type": "code",
   "execution_count": 25,
   "metadata": {},
   "outputs": [],
   "source": [
    "def rec_prec_f1(target_valid, prediction):\n",
    "    print(\"Полнота\" , recall_score(target_valid, prediction))\n",
    "    print(\"Точность\", precision_score(target_valid, prediction))\n",
    "    print(\"F1-мера\", f1_score(target_valid, prediction))"
   ]
  },
  {
   "cell_type": "markdown",
   "metadata": {},
   "source": [
    "обучаем модели"
   ]
  },
  {
   "cell_type": "code",
   "execution_count": 27,
   "metadata": {
    "scrolled": false
   },
   "outputs": [
    {
     "name": "stderr",
     "output_type": "stream",
     "text": [
      "100%|██████████| 19/19 [04:31<00:00, 14.30s/it]"
     ]
    },
    {
     "name": "stdout",
     "output_type": "stream",
     "text": [
      "Полнота 0.46411483253588515\n",
      "Точность 0.754863813229572\n",
      "F1-мера 0.5748148148148149\n",
      "None\n",
      "AUC-ROC 0.8383103273066013\n",
      "\n",
      "лучшая модель с параметрами: глубина- 16  количество ветвей- 40\n"
     ]
    },
    {
     "name": "stderr",
     "output_type": "stream",
     "text": [
      "\n"
     ]
    }
   ],
   "source": [
    "best_RF = None\n",
    "best_accuracy_RF = 0\n",
    "best_f1_RF=0\n",
    "best_est_RF = 0\n",
    "best_depth_RF = 0\n",
    "for est in tqdm(range(10,200,10)):\n",
    "    for depth in range(2,25):\n",
    "        RF = RandomForestClassifier(random_state = 12345,n_estimators = est, max_depth = depth)\n",
    "        RF.fit(features_train,target_train)\n",
    "        prediction_valid_RF = RF.predict(features_valid)\n",
    "        accuracy_RF = accuracy_score(prediction_valid_RF, target_valid)\n",
    "        f1_RF = f1_score(prediction_valid_RF, target_valid)\n",
    "        if best_f1_RF < f1_RF:\n",
    "            best_f1_RF = f1_RF\n",
    "            best_RF = RF\n",
    "            best_depth_RF = depth\n",
    "            best_est_RF = est\n",
    "            best_accuracy_RF = accuracy_RF\n",
    "\n",
    "RF_probabilities_one_valid = best_RF.predict_proba(features_valid)[:, 1]\n",
    "\n",
    "print(rec_prec_f1(target_valid,prediction_valid_RF))\n",
    "print('AUC-ROC',roc_auc_score(target_valid, RF_probabilities_one_valid))\n",
    "print()\n",
    "print('лучшая модель с параметрами:', 'глубина-',best_depth_RF,'','количество ветвей-',best_est_RF)"
   ]
  },
  {
   "cell_type": "code",
   "execution_count": 28,
   "metadata": {
    "scrolled": false
   },
   "outputs": [
    {
     "name": "stderr",
     "output_type": "stream",
     "text": [
      "100%|██████████| 50/50 [00:01<00:00, 31.49it/s]"
     ]
    },
    {
     "name": "stdout",
     "output_type": "stream",
     "text": [
      "Полнота 0.47129186602870815\n",
      "Точность 0.48883374689826303\n",
      "F1-мера 0.47990255785627284\n",
      "None\n",
      "AUC-ROC 0.7899719632952051\n",
      "\n",
      "лучшая модель с параметрами: глубина- 9\n"
     ]
    },
    {
     "name": "stderr",
     "output_type": "stream",
     "text": [
      "\n"
     ]
    }
   ],
   "source": [
    "best_DT = None\n",
    "best_accuracy_DT = 0\n",
    "best_f1_DT = 0\n",
    "best_depth_DT = 0\n",
    "for depth in tqdm(range(2,52)):\n",
    "    DT = DecisionTreeClassifier(random_state = 12345, max_depth = depth)\n",
    "    DT.fit(features_train,target_train)\n",
    "    prediction_valid_DT = DT.predict(features_valid)\n",
    "    accuracy_DT = accuracy_score(prediction_valid_DT, target_valid)\n",
    "    f1_DT = f1_score(prediction_valid_DT, target_valid)\n",
    "    if best_f1_DT < f1_DT:\n",
    "        best_f1_DT = f1_DT\n",
    "        best_DT = DT\n",
    "        best_accuracy_DT = accuracy_DT\n",
    "        best_depth_DT = depth\n",
    "        \n",
    "DT_probabilities_one_valid = best_DT.predict_proba(features_valid)[:, 1]\n",
    "\n",
    "print(rec_prec_f1(target_valid,prediction_valid_DT))\n",
    "print('AUC-ROC',roc_auc_score(target_valid, DT_probabilities_one_valid))\n",
    "print()\n",
    "print('лучшая модель с параметрами:', 'глубина-',best_depth_DT)"
   ]
  },
  {
   "cell_type": "code",
   "execution_count": 27,
   "metadata": {},
   "outputs": [
    {
     "name": "stderr",
     "output_type": "stream",
     "text": [
      "  0%|          | 0/5 [00:00<?, ?it/s]\n"
     ]
    },
    {
     "ename": "ValueError",
     "evalue": "could not convert string to float: 'Spain'",
     "output_type": "error",
     "traceback": [
      "\u001b[0;31m---------------------------------------------------------------------------\u001b[0m",
      "\u001b[0;31mValueError\u001b[0m                                Traceback (most recent call last)",
      "\u001b[0;32m/tmp/ipykernel_63/1985037863.py\u001b[0m in \u001b[0;36m<module>\u001b[0;34m\u001b[0m\n\u001b[1;32m      4\u001b[0m \u001b[0;32mfor\u001b[0m \u001b[0miter_\u001b[0m \u001b[0;32min\u001b[0m \u001b[0mtqdm\u001b[0m\u001b[0;34m(\u001b[0m\u001b[0;34m[\u001b[0m\u001b[0;36m100\u001b[0m\u001b[0;34m,\u001b[0m \u001b[0;36m200\u001b[0m\u001b[0;34m,\u001b[0m \u001b[0;36m500\u001b[0m\u001b[0;34m,\u001b[0m \u001b[0;36m1000\u001b[0m\u001b[0;34m,\u001b[0m \u001b[0;36m5000\u001b[0m\u001b[0;34m]\u001b[0m\u001b[0;34m)\u001b[0m\u001b[0;34m:\u001b[0m\u001b[0;34m\u001b[0m\u001b[0;34m\u001b[0m\u001b[0m\n\u001b[1;32m      5\u001b[0m     \u001b[0mLR\u001b[0m \u001b[0;34m=\u001b[0m \u001b[0mLogisticRegression\u001b[0m\u001b[0;34m(\u001b[0m\u001b[0mrandom_state\u001b[0m \u001b[0;34m=\u001b[0m \u001b[0;36m12345\u001b[0m\u001b[0;34m,\u001b[0m\u001b[0mmax_iter\u001b[0m\u001b[0;34m=\u001b[0m\u001b[0miter_\u001b[0m\u001b[0;34m,\u001b[0m\u001b[0mtol\u001b[0m\u001b[0;34m=\u001b[0m\u001b[0;36m1e-5\u001b[0m\u001b[0;34m,\u001b[0m\u001b[0msolver\u001b[0m \u001b[0;34m=\u001b[0m \u001b[0;34m'lbfgs'\u001b[0m \u001b[0;34m)\u001b[0m\u001b[0;34m\u001b[0m\u001b[0;34m\u001b[0m\u001b[0m\n\u001b[0;32m----> 6\u001b[0;31m     \u001b[0mLR\u001b[0m\u001b[0;34m.\u001b[0m\u001b[0mfit\u001b[0m\u001b[0;34m(\u001b[0m\u001b[0mfeatures_train\u001b[0m\u001b[0;34m,\u001b[0m\u001b[0mtarget_train\u001b[0m\u001b[0;34m)\u001b[0m\u001b[0;34m\u001b[0m\u001b[0;34m\u001b[0m\u001b[0m\n\u001b[0m\u001b[1;32m      7\u001b[0m     \u001b[0mprediction_valid_LR\u001b[0m \u001b[0;34m=\u001b[0m \u001b[0mLR\u001b[0m\u001b[0;34m.\u001b[0m\u001b[0mpredict\u001b[0m\u001b[0;34m(\u001b[0m\u001b[0mfeatures_valid\u001b[0m\u001b[0;34m)\u001b[0m\u001b[0;34m\u001b[0m\u001b[0;34m\u001b[0m\u001b[0m\n\u001b[1;32m      8\u001b[0m     \u001b[0maccuracy_LR\u001b[0m \u001b[0;34m=\u001b[0m \u001b[0maccuracy_score\u001b[0m\u001b[0;34m(\u001b[0m\u001b[0mprediction_valid_LR\u001b[0m\u001b[0;34m,\u001b[0m \u001b[0mtarget_valid\u001b[0m\u001b[0;34m)\u001b[0m\u001b[0;34m\u001b[0m\u001b[0;34m\u001b[0m\u001b[0m\n",
      "\u001b[0;32m/opt/conda/lib/python3.9/site-packages/sklearn/linear_model/_logistic.py\u001b[0m in \u001b[0;36mfit\u001b[0;34m(self, X, y, sample_weight)\u001b[0m\n\u001b[1;32m   1342\u001b[0m             \u001b[0m_dtype\u001b[0m \u001b[0;34m=\u001b[0m \u001b[0;34m[\u001b[0m\u001b[0mnp\u001b[0m\u001b[0;34m.\u001b[0m\u001b[0mfloat64\u001b[0m\u001b[0;34m,\u001b[0m \u001b[0mnp\u001b[0m\u001b[0;34m.\u001b[0m\u001b[0mfloat32\u001b[0m\u001b[0;34m]\u001b[0m\u001b[0;34m\u001b[0m\u001b[0;34m\u001b[0m\u001b[0m\n\u001b[1;32m   1343\u001b[0m \u001b[0;34m\u001b[0m\u001b[0m\n\u001b[0;32m-> 1344\u001b[0;31m         X, y = self._validate_data(X, y, accept_sparse='csr', dtype=_dtype,\n\u001b[0m\u001b[1;32m   1345\u001b[0m                                    \u001b[0morder\u001b[0m\u001b[0;34m=\u001b[0m\u001b[0;34m\"C\"\u001b[0m\u001b[0;34m,\u001b[0m\u001b[0;34m\u001b[0m\u001b[0;34m\u001b[0m\u001b[0m\n\u001b[1;32m   1346\u001b[0m                                    accept_large_sparse=solver != 'liblinear')\n",
      "\u001b[0;32m/opt/conda/lib/python3.9/site-packages/sklearn/base.py\u001b[0m in \u001b[0;36m_validate_data\u001b[0;34m(self, X, y, reset, validate_separately, **check_params)\u001b[0m\n\u001b[1;32m    431\u001b[0m                 \u001b[0my\u001b[0m \u001b[0;34m=\u001b[0m \u001b[0mcheck_array\u001b[0m\u001b[0;34m(\u001b[0m\u001b[0my\u001b[0m\u001b[0;34m,\u001b[0m \u001b[0;34m**\u001b[0m\u001b[0mcheck_y_params\u001b[0m\u001b[0;34m)\u001b[0m\u001b[0;34m\u001b[0m\u001b[0;34m\u001b[0m\u001b[0m\n\u001b[1;32m    432\u001b[0m             \u001b[0;32melse\u001b[0m\u001b[0;34m:\u001b[0m\u001b[0;34m\u001b[0m\u001b[0;34m\u001b[0m\u001b[0m\n\u001b[0;32m--> 433\u001b[0;31m                 \u001b[0mX\u001b[0m\u001b[0;34m,\u001b[0m \u001b[0my\u001b[0m \u001b[0;34m=\u001b[0m \u001b[0mcheck_X_y\u001b[0m\u001b[0;34m(\u001b[0m\u001b[0mX\u001b[0m\u001b[0;34m,\u001b[0m \u001b[0my\u001b[0m\u001b[0;34m,\u001b[0m \u001b[0;34m**\u001b[0m\u001b[0mcheck_params\u001b[0m\u001b[0;34m)\u001b[0m\u001b[0;34m\u001b[0m\u001b[0;34m\u001b[0m\u001b[0m\n\u001b[0m\u001b[1;32m    434\u001b[0m             \u001b[0mout\u001b[0m \u001b[0;34m=\u001b[0m \u001b[0mX\u001b[0m\u001b[0;34m,\u001b[0m \u001b[0my\u001b[0m\u001b[0;34m\u001b[0m\u001b[0;34m\u001b[0m\u001b[0m\n\u001b[1;32m    435\u001b[0m \u001b[0;34m\u001b[0m\u001b[0m\n",
      "\u001b[0;32m/opt/conda/lib/python3.9/site-packages/sklearn/utils/validation.py\u001b[0m in \u001b[0;36minner_f\u001b[0;34m(*args, **kwargs)\u001b[0m\n\u001b[1;32m     61\u001b[0m             \u001b[0mextra_args\u001b[0m \u001b[0;34m=\u001b[0m \u001b[0mlen\u001b[0m\u001b[0;34m(\u001b[0m\u001b[0margs\u001b[0m\u001b[0;34m)\u001b[0m \u001b[0;34m-\u001b[0m \u001b[0mlen\u001b[0m\u001b[0;34m(\u001b[0m\u001b[0mall_args\u001b[0m\u001b[0;34m)\u001b[0m\u001b[0;34m\u001b[0m\u001b[0;34m\u001b[0m\u001b[0m\n\u001b[1;32m     62\u001b[0m             \u001b[0;32mif\u001b[0m \u001b[0mextra_args\u001b[0m \u001b[0;34m<=\u001b[0m \u001b[0;36m0\u001b[0m\u001b[0;34m:\u001b[0m\u001b[0;34m\u001b[0m\u001b[0;34m\u001b[0m\u001b[0m\n\u001b[0;32m---> 63\u001b[0;31m                 \u001b[0;32mreturn\u001b[0m \u001b[0mf\u001b[0m\u001b[0;34m(\u001b[0m\u001b[0;34m*\u001b[0m\u001b[0margs\u001b[0m\u001b[0;34m,\u001b[0m \u001b[0;34m**\u001b[0m\u001b[0mkwargs\u001b[0m\u001b[0;34m)\u001b[0m\u001b[0;34m\u001b[0m\u001b[0;34m\u001b[0m\u001b[0m\n\u001b[0m\u001b[1;32m     64\u001b[0m \u001b[0;34m\u001b[0m\u001b[0m\n\u001b[1;32m     65\u001b[0m             \u001b[0;31m# extra_args > 0\u001b[0m\u001b[0;34m\u001b[0m\u001b[0;34m\u001b[0m\u001b[0;34m\u001b[0m\u001b[0m\n",
      "\u001b[0;32m/opt/conda/lib/python3.9/site-packages/sklearn/utils/validation.py\u001b[0m in \u001b[0;36mcheck_X_y\u001b[0;34m(X, y, accept_sparse, accept_large_sparse, dtype, order, copy, force_all_finite, ensure_2d, allow_nd, multi_output, ensure_min_samples, ensure_min_features, y_numeric, estimator)\u001b[0m\n\u001b[1;32m    812\u001b[0m         \u001b[0;32mraise\u001b[0m \u001b[0mValueError\u001b[0m\u001b[0;34m(\u001b[0m\u001b[0;34m\"y cannot be None\"\u001b[0m\u001b[0;34m)\u001b[0m\u001b[0;34m\u001b[0m\u001b[0;34m\u001b[0m\u001b[0m\n\u001b[1;32m    813\u001b[0m \u001b[0;34m\u001b[0m\u001b[0m\n\u001b[0;32m--> 814\u001b[0;31m     X = check_array(X, accept_sparse=accept_sparse,\n\u001b[0m\u001b[1;32m    815\u001b[0m                     \u001b[0maccept_large_sparse\u001b[0m\u001b[0;34m=\u001b[0m\u001b[0maccept_large_sparse\u001b[0m\u001b[0;34m,\u001b[0m\u001b[0;34m\u001b[0m\u001b[0;34m\u001b[0m\u001b[0m\n\u001b[1;32m    816\u001b[0m                     \u001b[0mdtype\u001b[0m\u001b[0;34m=\u001b[0m\u001b[0mdtype\u001b[0m\u001b[0;34m,\u001b[0m \u001b[0morder\u001b[0m\u001b[0;34m=\u001b[0m\u001b[0morder\u001b[0m\u001b[0;34m,\u001b[0m \u001b[0mcopy\u001b[0m\u001b[0;34m=\u001b[0m\u001b[0mcopy\u001b[0m\u001b[0;34m,\u001b[0m\u001b[0;34m\u001b[0m\u001b[0;34m\u001b[0m\u001b[0m\n",
      "\u001b[0;32m/opt/conda/lib/python3.9/site-packages/sklearn/utils/validation.py\u001b[0m in \u001b[0;36minner_f\u001b[0;34m(*args, **kwargs)\u001b[0m\n\u001b[1;32m     61\u001b[0m             \u001b[0mextra_args\u001b[0m \u001b[0;34m=\u001b[0m \u001b[0mlen\u001b[0m\u001b[0;34m(\u001b[0m\u001b[0margs\u001b[0m\u001b[0;34m)\u001b[0m \u001b[0;34m-\u001b[0m \u001b[0mlen\u001b[0m\u001b[0;34m(\u001b[0m\u001b[0mall_args\u001b[0m\u001b[0;34m)\u001b[0m\u001b[0;34m\u001b[0m\u001b[0;34m\u001b[0m\u001b[0m\n\u001b[1;32m     62\u001b[0m             \u001b[0;32mif\u001b[0m \u001b[0mextra_args\u001b[0m \u001b[0;34m<=\u001b[0m \u001b[0;36m0\u001b[0m\u001b[0;34m:\u001b[0m\u001b[0;34m\u001b[0m\u001b[0;34m\u001b[0m\u001b[0m\n\u001b[0;32m---> 63\u001b[0;31m                 \u001b[0;32mreturn\u001b[0m \u001b[0mf\u001b[0m\u001b[0;34m(\u001b[0m\u001b[0;34m*\u001b[0m\u001b[0margs\u001b[0m\u001b[0;34m,\u001b[0m \u001b[0;34m**\u001b[0m\u001b[0mkwargs\u001b[0m\u001b[0;34m)\u001b[0m\u001b[0;34m\u001b[0m\u001b[0;34m\u001b[0m\u001b[0m\n\u001b[0m\u001b[1;32m     64\u001b[0m \u001b[0;34m\u001b[0m\u001b[0m\n\u001b[1;32m     65\u001b[0m             \u001b[0;31m# extra_args > 0\u001b[0m\u001b[0;34m\u001b[0m\u001b[0;34m\u001b[0m\u001b[0;34m\u001b[0m\u001b[0m\n",
      "\u001b[0;32m/opt/conda/lib/python3.9/site-packages/sklearn/utils/validation.py\u001b[0m in \u001b[0;36mcheck_array\u001b[0;34m(array, accept_sparse, accept_large_sparse, dtype, order, copy, force_all_finite, ensure_2d, allow_nd, ensure_min_samples, ensure_min_features, estimator)\u001b[0m\n\u001b[1;32m    614\u001b[0m                     \u001b[0marray\u001b[0m \u001b[0;34m=\u001b[0m \u001b[0marray\u001b[0m\u001b[0;34m.\u001b[0m\u001b[0mastype\u001b[0m\u001b[0;34m(\u001b[0m\u001b[0mdtype\u001b[0m\u001b[0;34m,\u001b[0m \u001b[0mcasting\u001b[0m\u001b[0;34m=\u001b[0m\u001b[0;34m\"unsafe\"\u001b[0m\u001b[0;34m,\u001b[0m \u001b[0mcopy\u001b[0m\u001b[0;34m=\u001b[0m\u001b[0;32mFalse\u001b[0m\u001b[0;34m)\u001b[0m\u001b[0;34m\u001b[0m\u001b[0;34m\u001b[0m\u001b[0m\n\u001b[1;32m    615\u001b[0m                 \u001b[0;32melse\u001b[0m\u001b[0;34m:\u001b[0m\u001b[0;34m\u001b[0m\u001b[0;34m\u001b[0m\u001b[0m\n\u001b[0;32m--> 616\u001b[0;31m                     \u001b[0marray\u001b[0m \u001b[0;34m=\u001b[0m \u001b[0mnp\u001b[0m\u001b[0;34m.\u001b[0m\u001b[0masarray\u001b[0m\u001b[0;34m(\u001b[0m\u001b[0marray\u001b[0m\u001b[0;34m,\u001b[0m \u001b[0morder\u001b[0m\u001b[0;34m=\u001b[0m\u001b[0morder\u001b[0m\u001b[0;34m,\u001b[0m \u001b[0mdtype\u001b[0m\u001b[0;34m=\u001b[0m\u001b[0mdtype\u001b[0m\u001b[0;34m)\u001b[0m\u001b[0;34m\u001b[0m\u001b[0;34m\u001b[0m\u001b[0m\n\u001b[0m\u001b[1;32m    617\u001b[0m             \u001b[0;32mexcept\u001b[0m \u001b[0mComplexWarning\u001b[0m \u001b[0;32mas\u001b[0m \u001b[0mcomplex_warning\u001b[0m\u001b[0;34m:\u001b[0m\u001b[0;34m\u001b[0m\u001b[0;34m\u001b[0m\u001b[0m\n\u001b[1;32m    618\u001b[0m                 raise ValueError(\"Complex data not supported\\n\"\n",
      "\u001b[0;32m/opt/conda/lib/python3.9/site-packages/pandas/core/generic.py\u001b[0m in \u001b[0;36m__array__\u001b[0;34m(self, dtype)\u001b[0m\n\u001b[1;32m   1897\u001b[0m \u001b[0;34m\u001b[0m\u001b[0m\n\u001b[1;32m   1898\u001b[0m     \u001b[0;32mdef\u001b[0m \u001b[0m__array__\u001b[0m\u001b[0;34m(\u001b[0m\u001b[0mself\u001b[0m\u001b[0;34m,\u001b[0m \u001b[0mdtype\u001b[0m\u001b[0;34m=\u001b[0m\u001b[0;32mNone\u001b[0m\u001b[0;34m)\u001b[0m \u001b[0;34m->\u001b[0m \u001b[0mnp\u001b[0m\u001b[0;34m.\u001b[0m\u001b[0mndarray\u001b[0m\u001b[0;34m:\u001b[0m\u001b[0;34m\u001b[0m\u001b[0;34m\u001b[0m\u001b[0m\n\u001b[0;32m-> 1899\u001b[0;31m         \u001b[0;32mreturn\u001b[0m \u001b[0mnp\u001b[0m\u001b[0;34m.\u001b[0m\u001b[0masarray\u001b[0m\u001b[0;34m(\u001b[0m\u001b[0mself\u001b[0m\u001b[0;34m.\u001b[0m\u001b[0m_values\u001b[0m\u001b[0;34m,\u001b[0m \u001b[0mdtype\u001b[0m\u001b[0;34m=\u001b[0m\u001b[0mdtype\u001b[0m\u001b[0;34m)\u001b[0m\u001b[0;34m\u001b[0m\u001b[0;34m\u001b[0m\u001b[0m\n\u001b[0m\u001b[1;32m   1900\u001b[0m \u001b[0;34m\u001b[0m\u001b[0m\n\u001b[1;32m   1901\u001b[0m     def __array_wrap__(\n",
      "\u001b[0;31mValueError\u001b[0m: could not convert string to float: 'Spain'"
     ]
    }
   ],
   "source": [
    "best_LR = None\n",
    "best_f1_LR=0\n",
    "best_accuracy_LR = 0\n",
    "for iter_ in tqdm([100, 200, 500, 1000, 5000]):\n",
    "    LR = LogisticRegression(random_state = 12345,max_iter=iter_,tol=1e-5,solver = 'lbfgs' )\n",
    "    LR.fit(features_train,target_train)\n",
    "    prediction_valid_LR = LR.predict(features_valid)\n",
    "    accuracy_LR = accuracy_score(prediction_valid_LR, target_valid)\n",
    "    f1_LR = f1_score(prediction_valid_LR, target_valid)\n",
    "    if best_f1_LR < f1_LR:\n",
    "        best_LR = LR\n",
    "        best_accuracy_LR = accuracy_LR\n",
    "            \n",
    "LR_probabilities_one_valid = best_LR.predict_proba(features_valid)[:, 1]            \n",
    "            \n",
    "print(rec_prec_f1(target_valid,prediction_valid_LR))\n",
    "print('AUC-ROC',roc_auc_score(target_valid, LR_probabilities_one_valid))"
   ]
  },
  {
   "cell_type": "markdown",
   "metadata": {},
   "source": [
    "Вывод: Видим низкое значение F1, следовательно низкое качество моделей."
   ]
  },
  {
   "cell_type": "markdown",
   "metadata": {},
   "source": [
    "Функция для отображения соотношения ответов моделей (сколько 0, сколько 1)"
   ]
  },
  {
   "cell_type": "code",
   "execution_count": 30,
   "metadata": {},
   "outputs": [],
   "source": [
    "def all_models_share(features_train, target_train, features_valid, target_valid):\n",
    "    model_DT = DecisionTreeClassifier(random_state = 12345, max_depth = 9)\n",
    "    model_DT.fit(features_train, target_train)\n",
    "    DT_share = pd.Series(model_DT.predict(features_valid)).value_counts(normalize = 1)\n",
    "    \n",
    "    \n",
    "    \n",
    "    model_RF = RandomForestClassifier(random_state = 12345,n_estimators = 40, max_depth = 16)\n",
    "    model_RF.fit(features_train, target_train)\n",
    "    RF_share = pd.Series(model_RF.predict(features_valid)).value_counts(normalize = 1)\n",
    "    \n",
    "    model_LR = LogisticRegression(random_state = 12345,max_iter= 1000,tol=1e-5,solver = 'lbfgs')\n",
    "    model_LR.fit(features_train, target_train)\n",
    "    LR_share = pd.Series(model_LR.predict(features_valid)).value_counts(normalize = 1)\n",
    "    \n",
    "\n",
    "    \n",
    "    print(\"Доли ответов:\")\n",
    "    print()\n",
    "    print(\"Дерево решений\", DT_share)\n",
    "    print()\n",
    "    print(\"Случайный лес \", RF_share)\n",
    "    print()\n",
    "    print(\"Логистческая регрессия\", LR_share)"
   ]
  },
  {
   "cell_type": "markdown",
   "metadata": {},
   "source": [
    "Применим функцию отображения соотношения ответов моделей"
   ]
  },
  {
   "cell_type": "code",
   "execution_count": 31,
   "metadata": {
    "scrolled": true
   },
   "outputs": [
    {
     "name": "stdout",
     "output_type": "stream",
     "text": [
      "Доли ответов:\n",
      "\n",
      "Дерево решений 0    0.853\n",
      "1    0.147\n",
      "dtype: float64\n",
      "\n",
      "Случайный лес  0    0.868\n",
      "1    0.132\n",
      "dtype: float64\n",
      "\n",
      "Логистческая регрессия 0    0.9125\n",
      "1    0.0875\n",
      "dtype: float64\n"
     ]
    }
   ],
   "source": [
    "all_models_share(features_train, target_train, features_valid, target_valid)"
   ]
  },
  {
   "cell_type": "markdown",
   "metadata": {},
   "source": [
    "вывод: Логистичесая регрессия показала болюшую долю положительных ответов, далее случайный лес и в конце дерево решений\n",
    "С учетом дисбаланса неудивительно, что модели с большой вероятностью будут выдавать ответ 0, построим матрицы ошибок для моделей"
   ]
  },
  {
   "cell_type": "markdown",
   "metadata": {},
   "source": [
    "Матрица ошибок для дерево решений"
   ]
  },
  {
   "cell_type": "code",
   "execution_count": 32,
   "metadata": {
    "scrolled": false
   },
   "outputs": [
    {
     "data": {
      "text/plain": [
       "array([[1376,  206],\n",
       "       [ 221,  197]])"
      ]
     },
     "execution_count": 32,
     "metadata": {},
     "output_type": "execute_result"
    }
   ],
   "source": [
    "confusion_matrix(target_valid, prediction_valid_DT)"
   ]
  },
  {
   "cell_type": "markdown",
   "metadata": {},
   "source": [
    "Матрица ошибок для случайный лес"
   ]
  },
  {
   "cell_type": "code",
   "execution_count": 33,
   "metadata": {},
   "outputs": [
    {
     "data": {
      "text/plain": [
       "array([[1519,   63],\n",
       "       [ 224,  194]])"
      ]
     },
     "execution_count": 33,
     "metadata": {},
     "output_type": "execute_result"
    }
   ],
   "source": [
    "confusion_matrix(target_valid, prediction_valid_RF)"
   ]
  },
  {
   "cell_type": "markdown",
   "metadata": {},
   "source": [
    "Вывод: Матрица показала, что дерево решений склонно выдавать позитивные предсказания, очень высокое количество ложных позитивных предсказания (FP)."
   ]
  },
  {
   "cell_type": "markdown",
   "metadata": {},
   "source": [
    "поработаем с логистической регрессией отдельно"
   ]
  },
  {
   "cell_type": "code",
   "execution_count": 34,
   "metadata": {},
   "outputs": [
    {
     "data": {
      "text/plain": [
       "array([[1506,   76],\n",
       "       [ 319,   99]])"
      ]
     },
     "execution_count": 34,
     "metadata": {},
     "output_type": "execute_result"
    }
   ],
   "source": [
    "confusion_matrix(target_valid, prediction_valid_LR)"
   ]
  },
  {
   "cell_type": "code",
   "execution_count": 35,
   "metadata": {},
   "outputs": [],
   "source": [
    "def plot_roc_curve(fper, tper):\n",
    "    plt.plot(fper, tper, color='red', label='ROC')\n",
    "    plt.plot([0, 1], [0, 1], color='green', linestyle='--')\n",
    "    plt.xlim([0.0, 1.0])\n",
    "    plt.ylim([0.0, 1.0])\n",
    "    plt.xlabel('False Positive Rate')\n",
    "    plt.ylabel('True Positive Rate')\n",
    "    plt.title('ROC-кривая')\n",
    "    plt.legend()\n",
    "    plt.show()"
   ]
  },
  {
   "cell_type": "code",
   "execution_count": 36,
   "metadata": {
    "scrolled": false
   },
   "outputs": [
    {
     "data": {
      "image/png": "[encoded data removed]",
      "text/plain": [
       "<Figure size 432x288 with 1 Axes>"
      ]
     },
     "metadata": {
      "needs_background": "light"
     },
     "output_type": "display_data"
    }
   ],
   "source": [
    "fper, tper, thresholds = roc_curve(target_valid, LR_probabilities_one_valid)\n",
    "plot_roc_curve(fper, tper)"
   ]
  },
  {
   "cell_type": "markdown",
   "metadata": {},
   "source": [
    "Попробуем обучать логистическую регресию сбалансировав классы"
   ]
  },
  {
   "cell_type": "code",
   "execution_count": 37,
   "metadata": {
    "scrolled": true
   },
   "outputs": [
    {
     "name": "stdout",
     "output_type": "stream",
     "text": [
      "Score 0.8025\n",
      "AUC-ROC 0.7587361404315294\n"
     ]
    },
    {
     "data": {
      "image/png": "[encoded data removed]",
      "text/plain": [
       "<Figure size 432x288 with 1 Axes>"
      ]
     },
     "metadata": {
      "needs_background": "light"
     },
     "output_type": "display_data"
    }
   ],
   "source": [
    "model_LR = LogisticRegression(random_state = 12345,max_iter= 1000,tol=1e-5,solver = 'lbfgs')\n",
    "model_LR.fit(features_train, target_train)\n",
    "LR_probabilities_one_valid_class_weight = model_LR.predict_proba(features_valid)[:, 1]\n",
    "print(\"Score\", model_LR.score(features_valid, target_valid))\n",
    "print(\"AUC-ROC\", roc_auc_score(target_valid, LR_probabilities_one_valid_class_weight))\n",
    "\n",
    "fper, tper, thresholds = roc_curve(target_valid, LR_probabilities_one_valid_class_weight) \n",
    "plot_roc_curve(fper, tper)"
   ]
  },
  {
   "cell_type": "markdown",
   "metadata": {},
   "source": [
    "Вывод: Отстутсвие улучшений - тоже результат. Высокая точность модели объясняется высокой долей негативных ответов в валидационной выборке."
   ]
  },
  {
   "cell_type": "markdown",
   "metadata": {},
   "source": [
    "## Борьба с дисбалансом"
   ]
  },
  {
   "cell_type": "markdown",
   "metadata": {},
   "source": [
    "Как мы выяснили ранее в нашей выборке отрицательны ответов ≈80% , положитительных ≈ 20%. Нам необходмо увеличить количество положительных ответов в 4 раза для достижения баланса. Либо же уменьшить кол-во отрицтаельных ответов."
   ]
  },
  {
   "cell_type": "markdown",
   "metadata": {},
   "source": [
    "Создадим функцию для увеличения представленной класса в выборке "
   ]
  },
  {
   "cell_type": "code",
   "execution_count": 38,
   "metadata": {},
   "outputs": [],
   "source": [
    "def upsample(features, target, repeat, upsampled_сlass):\n",
    "    \"\"\"Функция принимаем значение признаков (features[]), целевого признака (target[]), repeat(int / float),\n",
    "    класс который будет увеличен (upsampled_сlass (0 or 1))\"\"\"\n",
    "    features_zeros = features[target == 0]\n",
    "    features_ones = features[target == 1]\n",
    "    target_zeros = target[target == 0]\n",
    "    target_ones = target[target == 1]\n",
    "    \n",
    "    if upsampled_сlass == 0:\n",
    "        features_upsampled = pd.concat([features_zeros]* repeat + [features_ones] )\n",
    "        target_upsampled = pd.concat([target_zeros]* repeat + [target_ones] )\n",
    "        features_upsampled, target_upsampled = shuffle(\n",
    "        features_upsampled, target_upsampled, random_state=12345)\n",
    "        \n",
    "    elif upsampled_сlass == 1:\n",
    "        features_upsampled = pd.concat([features_zeros] + [features_ones] * repeat)\n",
    "        target_upsampled = pd.concat([target_zeros] + [target_ones] * repeat)\n",
    "        features_upsampled, target_upsampled = shuffle(\n",
    "        features_upsampled, target_upsampled, random_state=12345)\n",
    "    else:\n",
    "        features_upsampled = 0\n",
    "        target_upsampled = 0  \n",
    "        \n",
    "        \n",
    "       \n",
    "    return features_upsampled, target_upsampled"
   ]
  },
  {
   "cell_type": "markdown",
   "metadata": {},
   "source": [
    "Создадим функцию для уменьшения представленной класса в выборке "
   ]
  },
  {
   "cell_type": "code",
   "execution_count": 39,
   "metadata": {},
   "outputs": [],
   "source": [
    "def downsample(features, target, fraction):\n",
    "    features_zeros = features[target == 0]\n",
    "    features_ones = features[target == 1]\n",
    "    target_zeros = target[target == 0]\n",
    "    target_ones = target[target == 1]\n",
    "\n",
    "    features_downsampled = pd.concat(\n",
    "        [features_zeros.sample(frac=fraction, random_state=12345)] + [features_ones])\n",
    "    target_downsampled = pd.concat(\n",
    "        [target_zeros.sample(frac=fraction, random_state=12345)] + [target_ones])\n",
    "    \n",
    "    features_downsampled, target_downsampled = shuffle(\n",
    "        features_downsampled, target_downsampled, random_state=12345)\n",
    "    \n",
    "    return features_downsampled, target_downsampled"
   ]
  },
  {
   "cell_type": "markdown",
   "metadata": {},
   "source": [
    "Применим функцию upsample.\n",
    "увеличим количество положительных ответов в 4 раза.\n",
    "Протестируем функцию."
   ]
  },
  {
   "cell_type": "code",
   "execution_count": 40,
   "metadata": {},
   "outputs": [
    {
     "name": "stdout",
     "output_type": "stream",
     "text": [
      "0    0.501043\n",
      "1    0.498957\n",
      "Name: Exited, dtype: float64\n",
      "(9588,)\n"
     ]
    }
   ],
   "source": [
    "features_train_upsampled, target_train_upsampled = upsample(features_train, target_train, 4, 1)\n",
    "print(target_train_upsampled.value_counts(normalize = 1))\n",
    "print(target_train_upsampled.shape)"
   ]
  },
  {
   "cell_type": "markdown",
   "metadata": {},
   "source": [
    "Применим функцию upsample \n",
    "увеличим количество положительных ответов в 4 раза"
   ]
  },
  {
   "cell_type": "code",
   "execution_count": 41,
   "metadata": {},
   "outputs": [
    {
     "name": "stdout",
     "output_type": "stream",
     "text": [
      "0    0.501043\n",
      "1    0.498957\n",
      "Name: Exited, dtype: float64\n",
      "(9588,)\n"
     ]
    }
   ],
   "source": [
    "features_train_upsampled, target_train_upsampled = upsample(features_train, target_train, 4, 1)\n",
    "print(target_train_upsampled.value_counts(normalize = 1))\n",
    "print(target_train_upsampled.shape)"
   ]
  },
  {
   "cell_type": "markdown",
   "metadata": {},
   "source": [
    "Применим функцию downsample.\n",
    "Уменьшим кол-в пооложительных ответов в 4 раза.\n",
    "Протестируем функцию."
   ]
  },
  {
   "cell_type": "code",
   "execution_count": 42,
   "metadata": {},
   "outputs": [
    {
     "name": "stdout",
     "output_type": "stream",
     "text": [
      "0    0.501043\n",
      "1    0.498957\n",
      "Name: Exited, dtype: float64\n",
      "(2397,)\n"
     ]
    }
   ],
   "source": [
    "features_downsampled_train, target_downsampled_train = downsample(features_train, target_train, 0.25)\n",
    "print(target_downsampled_train.value_counts(normalize = 1))\n",
    "print(target_downsampled_train.shape)"
   ]
  },
  {
   "cell_type": "code",
   "execution_count": 43,
   "metadata": {},
   "outputs": [
    {
     "data": {
      "text/plain": [
       "<AxesSubplot:ylabel='Frequency'>"
      ]
     },
     "execution_count": 43,
     "metadata": {},
     "output_type": "execute_result"
    },
    {
     "data": {
      "image/png": "[encoded data removed]",
      "text/plain": [
       "<Figure size 360x360 with 1 Axes>"
      ]
     },
     "metadata": {
      "needs_background": "light"
     },
     "output_type": "display_data"
    }
   ],
   "source": [
    "target_train_upsampled.plot(kind ='hist', bins=3, figsize=(5,5))"
   ]
  },
  {
   "cell_type": "code",
   "execution_count": 44,
   "metadata": {},
   "outputs": [
    {
     "data": {
      "text/plain": [
       "<AxesSubplot:ylabel='Frequency'>"
      ]
     },
     "execution_count": 44,
     "metadata": {},
     "output_type": "execute_result"
    },
    {
     "data": {
      "image/png": "[encoded data removed]",
      "text/plain": [
       "<Figure size 360x360 with 1 Axes>"
      ]
     },
     "metadata": {
      "needs_background": "light"
     },
     "output_type": "display_data"
    }
   ],
   "source": [
    "target_downsampled_train.plot(kind ='hist', bins=3, figsize=(5,5))"
   ]
  },
  {
   "cell_type": "markdown",
   "metadata": {},
   "source": [
    "вывод:видим,что функции выдали одинаковый результат. Есть смысл проверить обе"
   ]
  },
  {
   "cell_type": "markdown",
   "metadata": {},
   "source": [
    "проверим функцию 'upsampled'"
   ]
  },
  {
   "cell_type": "markdown",
   "metadata": {},
   "source": [
    "Решающее дерево"
   ]
  },
  {
   "cell_type": "code",
   "execution_count": 45,
   "metadata": {
    "scrolled": false
   },
   "outputs": [
    {
     "name": "stderr",
     "output_type": "stream",
     "text": [
      "100%|██████████| 50/50 [00:01<00:00, 26.03it/s]\n"
     ]
    },
    {
     "name": "stdout",
     "output_type": "stream",
     "text": [
      "Полнота 0.4449760765550239\n",
      "Точность 0.4708860759493671\n",
      "F1-мера 0.4575645756457565\n",
      "None\n",
      "AUC-ROC 0.8310244134068074\n",
      "\n",
      "лучшая модель с параметрами: глубина- 5\n"
     ]
    }
   ],
   "source": [
    "best_DT_upsampled = None\n",
    "best_accuracy_DT_upsampled = 0\n",
    "best_f1_DT_upsampled=0\n",
    "best_depth_DT_upsampled = 0\n",
    "for depth in tqdm(range(2,52)):\n",
    "    DT_upsampled = DecisionTreeClassifier(random_state = 12345, max_depth = depth)\n",
    "    DT_upsampled.fit(features_train_upsampled, target_train_upsampled)\n",
    "    prediction_valid_DT_upsampled = DT_upsampled.predict(features_valid)\n",
    "    accuracy_DT_upsampled = accuracy_score(prediction_valid_DT_upsampled, target_valid)\n",
    "    f1_DT_upsampled = f1_score(prediction_valid_DT_upsampled, target_valid)\n",
    "    if best_f1_DT_upsampled < f1_DT_upsampled:\n",
    "        best_f1_DT_upsampled = f1_DT_upsampled\n",
    "        best_DT_upsampled = DT_upsampled\n",
    "        best_accuracy_DT_upsampled = accuracy_DT_upsampled\n",
    "        best_depth_DT_upsampled = depth\n",
    "        \n",
    "DT_upsampled_probabilities_one_valid = best_DT_upsampled.predict_proba(features_valid)[:, 1]\n",
    "\n",
    "print(rec_prec_f1(target_valid,prediction_valid_DT_upsampled))\n",
    "print('AUC-ROC',roc_auc_score(target_valid, DT_upsampled_probabilities_one_valid))\n",
    "print()\n",
    "print('лучшая модель с параметрами:', 'глубина-',best_depth_DT_upsampled)"
   ]
  },
  {
   "cell_type": "markdown",
   "metadata": {},
   "source": [
    "Случайный лес"
   ]
  },
  {
   "cell_type": "code",
   "execution_count": 46,
   "metadata": {
    "scrolled": true
   },
   "outputs": [
    {
     "name": "stderr",
     "output_type": "stream",
     "text": [
      "100%|██████████| 19/19 [06:09<00:00, 19.46s/it]"
     ]
    },
    {
     "name": "stdout",
     "output_type": "stream",
     "text": [
      "Полнота 0.5550239234449761\n",
      "Точность 0.6823529411764706\n",
      "F1-мера 0.612137203166227\n",
      "None\n",
      "AUC-ROC 0.84782148452386\n",
      "\n",
      "лучшая модель с параметрами: глубина- 13  количество ветвей- 150\n"
     ]
    },
    {
     "name": "stderr",
     "output_type": "stream",
     "text": [
      "\n"
     ]
    }
   ],
   "source": [
    "best_RF_upsampled = None\n",
    "best_accuracy_RF_upsampled = 0\n",
    "best_f1_RF_upsampled = 0\n",
    "best_est_RF_upsampled = 0\n",
    "best_depth_RF_upsampled = 0\n",
    "for est in tqdm(range(10,200,10)):\n",
    "    for depth in range(2,25):\n",
    "        RF_upsampled = RandomForestClassifier(random_state = 12345,n_estimators = est, max_depth = depth)\n",
    "        RF_upsampled.fit(features_train_upsampled, target_train_upsampled)\n",
    "        prediction_valid_RF_upsampled = RF_upsampled.predict(features_valid)\n",
    "        accuracy_RF_upsampled = accuracy_score(prediction_valid_RF_upsampled, target_valid)\n",
    "        f1_RF_upsampled = f1_score(prediction_valid_RF_upsampled, target_valid)\n",
    "        if best_f1_RF_upsampled < f1_RF_upsampled:\n",
    "            best_f1_RF_upsampled = f1_RF_upsampled\n",
    "            best_RF_upsampled = RF_upsampled\n",
    "            best_depth_RF_upsampled = depth\n",
    "            best_est_RF_upsampled = est\n",
    "            best_accuracy_RF_upsampled = accuracy_RF_upsampled\n",
    "            \n",
    "\n",
    "RF_upsampled_probabilities_one_valid = best_RF_upsampled.predict_proba(features_valid)[:, 1]\n",
    "\n",
    "print(rec_prec_f1(target_valid,prediction_valid_RF_upsampled))\n",
    "print('AUC-ROC',roc_auc_score(target_valid, RF_upsampled_probabilities_one_valid))\n",
    "print()\n",
    "print('лучшая модель с параметрами:', 'глубина-',best_depth_RF_upsampled,'','количество ветвей-',best_est_RF_upsampled)"
   ]
  },
  {
   "cell_type": "markdown",
   "metadata": {},
   "source": [
    "Логистическая регрессия"
   ]
  },
  {
   "cell_type": "code",
   "execution_count": 47,
   "metadata": {},
   "outputs": [
    {
     "name": "stderr",
     "output_type": "stream",
     "text": [
      "100%|██████████| 50/50 [00:09<00:00,  5.37it/s]\n"
     ]
    },
    {
     "name": "stdout",
     "output_type": "stream",
     "text": [
      "Полнота 0.6842105263157895\n",
      "Точность 0.3803191489361702\n",
      "F1-мера 0.4888888888888888\n",
      "None\n",
      "AUC-ROC 0.7634769748183815\n"
     ]
    }
   ],
   "source": [
    "best_LR_upsampled = None\n",
    "best_f1_LR_upsampled=0\n",
    "best_accuracy_LR_upsampled = 0\n",
    "for est in tqdm(range(2,52)):\n",
    "    LR_upsampled = LogisticRegression(random_state = 12345,max_iter= 1000,tol=1e-5,solver = 'liblinear' )\n",
    "    LR_upsampled.fit(features_train_upsampled, target_train_upsampled)\n",
    "    LR_prediction_upsampled = LR_upsampled.predict(features_valid)\n",
    "    accuracy_LR_upsampled = accuracy_score(LR_prediction_upsampled, target_valid)\n",
    "    f1_LR_upsampled = f1_score(LR_prediction_upsampled, target_valid)\n",
    "    if best_f1_LR_upsampled < f1_LR_upsampled:\n",
    "        best_f1_LR_upsampled = f1_LR_upsampled\n",
    "        best_LR_upsampled = LR_upsampled\n",
    "        best_accuracy_LR_upsampled = accuracy_LR_upsampled\n",
    "            \n",
    "LR_upsampled_probabilities_one_valid = best_LR_upsampled.predict_proba(features_valid)[:, 1]            \n",
    "            \n",
    "print(rec_prec_f1(target_valid, LR_prediction_upsampled))\n",
    "print('AUC-ROC',roc_auc_score(target_valid, LR_upsampled_probabilities_one_valid))"
   ]
  },
  {
   "cell_type": "markdown",
   "metadata": {},
   "source": [
    "проверим метод 'downsample'"
   ]
  },
  {
   "cell_type": "markdown",
   "metadata": {},
   "source": [
    "Решающее дерево"
   ]
  },
  {
   "cell_type": "code",
   "execution_count": 48,
   "metadata": {},
   "outputs": [
    {
     "name": "stderr",
     "output_type": "stream",
     "text": [
      "100%|██████████| 50/50 [00:00<00:00, 50.24it/s]"
     ]
    },
    {
     "name": "stdout",
     "output_type": "stream",
     "text": [
      "Полнота 0.6913875598086124\n",
      "Точность 0.3772845953002611\n",
      "F1-мера 0.48817567567567566\n",
      "None\n",
      "AUC-ROC 0.82291433531536\n",
      "\n",
      "лучшая модель с параметрами: глубина- 5\n"
     ]
    },
    {
     "name": "stderr",
     "output_type": "stream",
     "text": [
      "\n"
     ]
    }
   ],
   "source": [
    "best_DT_downsampled = None\n",
    "best_accuracy_DT_downsampled = 0\n",
    "best_f1_DT_downsampled=0\n",
    "best_depth_DT_downsampled = 0\n",
    "for depth in tqdm(range(2,52)):\n",
    "    DT_downsampled = DecisionTreeClassifier(random_state = 12345, max_depth = depth)\n",
    "    DT_downsampled.fit(features_downsampled_train, target_downsampled_train)\n",
    "    prediction_valid_DT_downsampled = DT_downsampled.predict(features_valid)\n",
    "    accuracy_DT_downsampled = accuracy_score(prediction_valid_DT_downsampled, target_valid)\n",
    "    f1_DT_downsampled= f1_score(prediction_valid_DT_downsampled, target_valid)\n",
    "    if best_f1_DT_downsampled < f1_DT_downsampled:\n",
    "        best_f1_DT_downsampled = f1_DT_downsampled\n",
    "        best_DT_downsampled = DT_downsampled\n",
    "        best_accuracy_DT_downsampled = accuracy_DT_downsampled\n",
    "        best_depth_DT_downsampled = depth\n",
    "        \n",
    "DT_downsampled_probabilities_one_valid = best_DT_downsampled.predict_proba(features_valid)[:, 1]\n",
    "\n",
    "print(rec_prec_f1(target_valid,prediction_valid_DT_downsampled))\n",
    "print('AUC-ROC',roc_auc_score(target_valid, DT_downsampled_probabilities_one_valid))\n",
    "print()\n",
    "print('лучшая модель с параметрами:', 'глубина-',best_depth_DT_downsampled)"
   ]
  },
  {
   "cell_type": "markdown",
   "metadata": {},
   "source": [
    "Случайный лес"
   ]
  },
  {
   "cell_type": "code",
   "execution_count": 49,
   "metadata": {},
   "outputs": [
    {
     "name": "stderr",
     "output_type": "stream",
     "text": [
      "100%|██████████| 19/19 [02:31<00:00,  7.95s/it]"
     ]
    },
    {
     "name": "stdout",
     "output_type": "stream",
     "text": [
      "Полнота 0.7368421052631579\n",
      "Точность 0.4797507788161994\n",
      "F1-мера 0.5811320754716982\n",
      "None\n",
      "AUC-ROC 0.835229163012116\n",
      "\n",
      "лучшая модель с параметрами: глубина- 4  количество ветвей- 10\n"
     ]
    },
    {
     "name": "stderr",
     "output_type": "stream",
     "text": [
      "\n"
     ]
    }
   ],
   "source": [
    "best_RF_downsampled = None\n",
    "best_accuracy_RF_downsampled = 0\n",
    "best_f1_RF_downsampled=0\n",
    "best_est_RF_downsampled = 0\n",
    "best_depth_RF_downsampled = 0\n",
    "for est in tqdm(range(10,200,10)):\n",
    "    for depth in range(2,25):\n",
    "        RF_downsampled = RandomForestClassifier(random_state = 12345,n_estimators = est, max_depth = depth)\n",
    "        RF_downsampled.fit(features_downsampled_train, target_downsampled_train)\n",
    "        prediction_valid_RF_downsampled = RF_downsampled.predict(features_valid)\n",
    "        accuracy_RF_downsampled = accuracy_score(prediction_valid_RF_downsampled, target_valid)\n",
    "        f1_RF_downsampled = f1_score(prediction_valid_RF_downsampled, target_valid)\n",
    "        if best_f1_RF_downsampled < f1_RF_downsampled:\n",
    "            best_f1_RF_downsampled = f1_RF_downsampled\n",
    "            best_RF_downsampled = RF_downsampled\n",
    "            best_depth_RF_downsampled = depth\n",
    "            best_est_RF_downsampled = est\n",
    "            best_accuracy_RF_downsampled = accuracy_RF_downsampled\n",
    "            \n",
    "\n",
    "RF_downsampled_probabilities_one_valid = best_RF_downsampled.predict_proba(features_valid)[:, 1]\n",
    "\n",
    "print(rec_prec_f1(target_valid,prediction_valid_RF_downsampled))\n",
    "print('AUC-ROC',roc_auc_score(target_valid, RF_downsampled_probabilities_one_valid))\n",
    "print()\n",
    "print('лучшая модель с параметрами:', 'глубина-',best_depth_RF_downsampled,'','количество ветвей-',best_est_RF_downsampled)"
   ]
  },
  {
   "cell_type": "markdown",
   "metadata": {},
   "source": [
    "Логистическая регрессия"
   ]
  },
  {
   "cell_type": "code",
   "execution_count": 50,
   "metadata": {},
   "outputs": [
    {
     "name": "stderr",
     "output_type": "stream",
     "text": [
      "100%|██████████| 50/50 [00:06<00:00,  8.17it/s]"
     ]
    },
    {
     "name": "stdout",
     "output_type": "stream",
     "text": [
      "Полнота 0.6818181818181818\n",
      "Точность 0.3815261044176707\n",
      "F1-мера 0.4892703862660944\n",
      "None\n",
      "AUC-ROC 0.7626709573612228\n"
     ]
    },
    {
     "name": "stderr",
     "output_type": "stream",
     "text": [
      "\n"
     ]
    }
   ],
   "source": [
    "best_LR_downsampled = None\n",
    "best_f1_LR_downsampled=0\n",
    "best_accuracy_LR_downsampled = 0\n",
    "for est in tqdm(range(2,52)):\n",
    "    LR_downsampled = LogisticRegression(random_state = 12345,max_iter= 1000,tol=1e-5,solver = 'liblinear' )\n",
    "    LR_downsampled.fit(features_downsampled_train, target_downsampled_train)\n",
    "    LR_prediction_downsampled = LR_downsampled.predict(features_valid)\n",
    "    accuracy_LR_downsampled = accuracy_score(LR_prediction_downsampled, target_valid)\n",
    "    f1_LR_downsampled = f1_score(LR_prediction_downsampled, target_valid)\n",
    "    if best_f1_LR_downsampled < f1_LR_downsampled:\n",
    "        best_f1_LR_downsampled = f1_LR_downsampled\n",
    "        best_LR_downsampled = LR_downsampled\n",
    "        best_accuracy_LR_downsampled = accuracy_LR_downsampled\n",
    "            \n",
    "LR_downsampled_probabilities_one_valid = best_LR_downsampled.predict_proba(features_valid)[:, 1]            \n",
    "            \n",
    "print(rec_prec_f1(target_valid, LR_prediction_downsampled))\n",
    "print('AUC-ROC',roc_auc_score(target_valid, LR_downsampled_probabilities_one_valid))"
   ]
  },
  {
   "cell_type": "markdown",
   "metadata": {},
   "source": [
    "проверим Точность моделей на выборке с дисбалансом"
   ]
  },
  {
   "cell_type": "code",
   "execution_count": 51,
   "metadata": {},
   "outputs": [
    {
     "name": "stdout",
     "output_type": "stream",
     "text": [
      "0.863\n",
      "0.85\n",
      "0.8025\n"
     ]
    }
   ],
   "source": [
    "print(best_accuracy_RF)\n",
    "print(best_accuracy_DT)\n",
    "print(best_accuracy_LR)"
   ]
  },
  {
   "cell_type": "markdown",
   "metadata": {},
   "source": [
    "проверим Точность моделей на сбалансированной увеличенной выборке"
   ]
  },
  {
   "cell_type": "code",
   "execution_count": 52,
   "metadata": {
    "scrolled": false
   },
   "outputs": [
    {
     "name": "stdout",
     "output_type": "stream",
     "text": [
      "0.849\n",
      "0.8105\n",
      "0.701\n"
     ]
    }
   ],
   "source": [
    "print(best_accuracy_RF_upsampled)\n",
    "print(best_accuracy_DT_upsampled)\n",
    "print(best_accuracy_LR_upsampled)"
   ]
  },
  {
   "cell_type": "markdown",
   "metadata": {},
   "source": [
    "проверим Точность моделей на сбалансированной уменьшенной выборке"
   ]
  },
  {
   "cell_type": "code",
   "execution_count": 53,
   "metadata": {},
   "outputs": [
    {
     "name": "stdout",
     "output_type": "stream",
     "text": [
      "0.803\n",
      "0.799\n",
      "0.7025\n"
     ]
    }
   ],
   "source": [
    "print(best_accuracy_RF_downsampled)\n",
    "print(best_accuracy_DT_downsampled)\n",
    "print(best_accuracy_LR_downsampled)"
   ]
  },
  {
   "cell_type": "markdown",
   "metadata": {},
   "source": [
    "Вывод:Показаели всех моделей  обученных на сбалонсированных выборках ухудшились.Для 'upsampled' не сильно значительно, а вот для 'downsampled' ухудшения оказались более значительными.Поэтому я буду использовать метод 'upsampled' далее по проекту.\n",
    "\n",
    "Лучшие результаты показывает модель 'RandomForest' обученная на данных сбалансированых методом 'upsampled'. На валидационной выборке 'RandomForest' уже показывает резульаты F1 меры = 0.60, что удовлетваряет условию данного проекта."
   ]
  },
  {
   "cell_type": "markdown",
   "metadata": {},
   "source": [
    "## Тестирование модели"
   ]
  },
  {
   "cell_type": "markdown",
   "metadata": {},
   "source": [
    "Обучим финальную модель с обьединенными данными"
   ]
  },
  {
   "cell_type": "code",
   "execution_count": 54,
   "metadata": {},
   "outputs": [],
   "source": [
    "features_full_train = pd.concat([features_train, features_valid])\n",
    "target_full_train = pd.concat([target_train, target_valid])"
   ]
  },
  {
   "cell_type": "code",
   "execution_count": 55,
   "metadata": {},
   "outputs": [],
   "source": [
    "features_upsampled, target_upsampled = upsample(features_full_train, target_full_train, 4, 1)"
   ]
  },
  {
   "cell_type": "code",
   "execution_count": 61,
   "metadata": {},
   "outputs": [
    {
     "name": "stdout",
     "output_type": "stream",
     "text": [
      "Полнота 0.6193853427895981\n",
      "Точность 0.6121495327102804\n",
      "F1-мера 0.6157461809635723\n",
      "None\n",
      "AUC-ROC 0.8569102839128069\n"
     ]
    }
   ],
   "source": [
    "RF_final_full_data = RandomForestClassifier(random_state = 12345,n_estimators = 150, max_depth = 13)\n",
    "RF_final_full_data.fit(features_upsampled, target_upsampled)\n",
    "\n",
    "prediction_valid_RF_final_full_data = RF_final_full_data.predict(features_test)\n",
    "\n",
    "f1_RF_final_full_data= f1_score(prediction_valid_RF_final_full_data, target_test)\n",
    "\n",
    "RF_full_data_probabilities_one_valid = RF_final_full_data.predict_proba(features_test)[:, 1]\n",
    "\n",
    "print(rec_prec_f1(target_test,prediction_valid_RF_final_full_data))\n",
    "print('AUC-ROC',roc_auc_score(target_test, RF_full_data_probabilities_one_valid))\n"
   ]
  },
  {
   "cell_type": "markdown",
   "metadata": {},
   "source": [
    "Обучим финальную модель без обьединенных данных"
   ]
  },
  {
   "cell_type": "code",
   "execution_count": 57,
   "metadata": {},
   "outputs": [
    {
     "name": "stdout",
     "output_type": "stream",
     "text": [
      "Полнота 0.6170212765957447\n",
      "Точность 0.6141176470588235\n",
      "F1-мера 0.6155660377358491\n",
      "None\n",
      "AUC-ROC 0.8495744830760144\n"
     ]
    }
   ],
   "source": [
    "RF_final = RandomForestClassifier( max_depth= 12,  n_estimators = 20, random_state=12345)\n",
    "RF_final.fit(features_train_upsampled, target_train_upsampled)\n",
    "\n",
    "RF_final_prediction =RF_final.predict(features_test)\n",
    "\n",
    "RF_final_valid = RF_final.predict_proba(features_test)[:, 1]\n",
    "\n",
    "auc_roc_RF = roc_auc_score(target_test, RF_final_valid)\n",
    "\n",
    "print(rec_prec_f1(target_test, RF_final_prediction))\n",
    "print('AUC-ROC',roc_auc_score(target_test, RF_final_valid))"
   ]
  },
  {
   "cell_type": "markdown",
   "metadata": {},
   "source": [
    "вывод: модель обученная на обьедененных данных оказалась менее точной (даже после маштобирования данных) по F-1 мере, а вот AUC-ROC у нее оказался выше,но мы в первую очередь смотрим на F-1 меру по этому мы будем исполоьзовать модель обученную на не обьеденненых данных."
   ]
  },
  {
   "cell_type": "markdown",
   "metadata": {},
   "source": [
    "Создаем константную модель"
   ]
  },
  {
   "cell_type": "code",
   "execution_count": 58,
   "metadata": {
    "scrolled": false
   },
   "outputs": [
    {
     "data": {
      "text/plain": [
       "0    2000\n",
       "dtype: int64"
      ]
     },
     "execution_count": 58,
     "metadata": {},
     "output_type": "execute_result"
    }
   ],
   "source": [
    "target_predict_constant = pd.Series([0]*len(target_test))\n",
    "target_predict_constant.value_counts()"
   ]
  },
  {
   "cell_type": "markdown",
   "metadata": {},
   "source": [
    "Сравним показатель точности (accuracy_score) константной модели и финальной"
   ]
  },
  {
   "cell_type": "code",
   "execution_count": 59,
   "metadata": {
    "scrolled": true
   },
   "outputs": [
    {
     "name": "stdout",
     "output_type": "stream",
     "text": [
      "accuracy_score константой модели: 0.791\n",
      "accuracy_score финальной модели: 0.837\n"
     ]
    }
   ],
   "source": [
    "print('accuracy_score константой модели:', accuracy_score(target_valid, target_predict_constant))\n",
    "print('accuracy_score финальной модели:', accuracy_score(target_test, RF_final_prediction))"
   ]
  },
  {
   "cell_type": "markdown",
   "metadata": {},
   "source": [
    "Дополнительно сравним AUC-ROC — единственный параметр подающийся сравнению, потому что константная подель содержит только негативные ответы"
   ]
  },
  {
   "cell_type": "code",
   "execution_count": 60,
   "metadata": {},
   "outputs": [
    {
     "name": "stdout",
     "output_type": "stream",
     "text": [
      "AUC-ROC константой модели: 0.5\n",
      "AUC-ROC финальной модели: 0.8495744830760144\n"
     ]
    }
   ],
   "source": [
    "print('AUC-ROC константой модели:', roc_auc_score(target_valid, target_predict_constant))\n",
    "print('AUC-ROC финальной модели:', roc_auc_score(target_test, RF_final_valid))"
   ]
  },
  {
   "cell_type": "markdown",
   "metadata": {},
   "source": [
    "вывод:Финальная модель показывает результаты лучше, чем константная модель — модель можно считать адекватной."
   ]
  },
  {
   "cell_type": "raw",
   "metadata": {},
   "source": [
    "# Код ревьюера\n",
    "features_full_train = pd.concat([features_train, features_valid])\n",
    "target_full_train = pd.concat([target_train, target_valid])\n",
    "\n",
    "# При необходимости можно увеличить выборку\n",
    "features_upsampled, target_upsampled = upsample(features_full_train, target_full_train, 4)\n",
    "\n",
    "# ... или уменьшить\n",
    "features_downsampled, target_downsampled = downsample(features_full_train, target_full_train, 0.25)"
   ]
  },
  {
   "cell_type": "markdown",
   "metadata": {},
   "source": [
    "## Вывод"
   ]
  },
  {
   "cell_type": "markdown",
   "metadata": {},
   "source": [
    "Итоговый вывод:В первоначальные данных наблюдался значительный дисбаланс (80% ответов целевого признака были негативными и только 20% позитивными), из-за чего обученная на этих данных модель не проходила проверку на адекватность. Все модели не первоначальных данных характеризовались высокой степенью ошибок и низким качеством взвешенной величины (F1) — модели показывали низкие результаты точности и полноты.\n",
    "\n",
    "Мы устранили дисбаланс классов в обучающей выборки методом upsampling — увеличили количество значений позитивного класса в 4 раза. Так мы достигли баланса классов обучаюющей выборки: 0 - 0.501043 1 - 0.498957.\n",
    "\n",
    "также использовали метод downsampling- уменьшили количество значений позитивного класса в 4 раза.Получили такой же результат как и у метода upsampling: 0 - 0.501043 1 - 0.498957.НО этот метод сильно ухудшает качество моделей из-за недостатка данных для обучения.По этой причине в дальнейшем был использован метод upsampling ктоторый ухудшает качество модели не столь критично.\n",
    "\n",
    "Разобрали несколько вариантов борьбы с дисбалансом upsampling и downsampling\n",
    "\n",
    "На новых данных все модели показали результат выше, чем на несбалансированной выборке. Лучшие показатели были у модели случайного леса:\n",
    "\n",
    "Полнота 0.5515151515151515\n",
    "Точность 0.674074074074074\n",
    "F1-мера 0.6066666666666666\n",
    "AUC-ROC 0.8339155332856119\n",
    "лучшая модель с параметрами: глубина- 12  количество ветвей- 20 и рандомное состояне- 12345\n",
    "\n",
    "была расмотренная финальная модель с обьеденненой валидационной и тренеровочной выборками, она показала результат хуже чем модель обученная на необьеденненой маштабированной быборке, по этой причине была отвергнута как не подходящая по значению F-1 меры.\n",
    "Финальная модель прошла проверку на адекватность в сравнении с контантной моделью: accuracy_score константой модели: 0.85\n",
    "accuracy_score константой модели: 0.791\n",
    "accuracy_score финальной модели: 0.837\n",
    "AUC-ROC константой модели: 0.5\n",
    "AUC-ROC финальной модели: 0.8495744830760144\n",
    "модель с параметрами: глубина- 12  количество ветвей- 20 и рандомное состояне- 12345"
   ]
  }
 ],
 "metadata": {
  "ExecuteTimeLog": [
   {
    "duration": 1631,
    "start_time": "2023-02-26T01:45:17.084Z"
   },
   {
    "duration": 180,
    "start_time": "2023-02-26T01:45:18.717Z"
   },
   {
    "duration": 15,
    "start_time": "2023-02-26T01:45:18.898Z"
   },
   {
    "duration": 11,
    "start_time": "2023-02-26T01:45:18.915Z"
   },
   {
    "duration": 15,
    "start_time": "2023-02-26T01:49:21.461Z"
   },
   {
    "duration": 13,
    "start_time": "2023-02-26T01:50:35.626Z"
   },
   {
    "duration": 14,
    "start_time": "2023-02-26T01:54:21.808Z"
   },
   {
    "duration": 5,
    "start_time": "2023-02-26T01:54:30.127Z"
   },
   {
    "duration": 4,
    "start_time": "2023-02-26T01:55:04.757Z"
   },
   {
    "duration": 49,
    "start_time": "2023-02-26T01:55:05.094Z"
   },
   {
    "duration": 13,
    "start_time": "2023-02-26T01:55:05.513Z"
   },
   {
    "duration": 12,
    "start_time": "2023-02-26T01:55:06.520Z"
   },
   {
    "duration": 4,
    "start_time": "2023-02-26T01:55:07.707Z"
   },
   {
    "duration": 17,
    "start_time": "2023-02-26T01:55:09.161Z"
   },
   {
    "duration": 20,
    "start_time": "2023-02-26T01:56:11.607Z"
   },
   {
    "duration": 5,
    "start_time": "2023-02-26T01:56:12.321Z"
   },
   {
    "duration": 19,
    "start_time": "2023-02-26T01:56:13.488Z"
   },
   {
    "duration": 4,
    "start_time": "2023-02-26T01:56:14.127Z"
   },
   {
    "duration": 6,
    "start_time": "2023-02-26T01:59:51.576Z"
   },
   {
    "duration": 6,
    "start_time": "2023-02-26T02:40:56.562Z"
   },
   {
    "duration": 10,
    "start_time": "2023-02-26T02:40:56.696Z"
   },
   {
    "duration": 5,
    "start_time": "2023-02-26T02:40:57.363Z"
   },
   {
    "duration": 146,
    "start_time": "2023-02-26T02:40:57.902Z"
   },
   {
    "duration": 5,
    "start_time": "2023-02-26T02:40:58.466Z"
   },
   {
    "duration": 5,
    "start_time": "2023-02-26T02:41:16.496Z"
   },
   {
    "duration": 9,
    "start_time": "2023-02-26T02:42:07.546Z"
   },
   {
    "duration": 4,
    "start_time": "2023-02-26T02:42:07.936Z"
   },
   {
    "duration": 5,
    "start_time": "2023-02-26T02:42:08.454Z"
   },
   {
    "duration": 5,
    "start_time": "2023-02-26T02:42:09.068Z"
   },
   {
    "duration": 8,
    "start_time": "2023-02-26T02:43:06.534Z"
   },
   {
    "duration": 4,
    "start_time": "2023-02-26T02:43:07.668Z"
   },
   {
    "duration": 5,
    "start_time": "2023-02-26T02:43:08.235Z"
   },
   {
    "duration": 5,
    "start_time": "2023-02-26T02:43:08.846Z"
   },
   {
    "duration": 9,
    "start_time": "2023-02-26T02:44:07.379Z"
   },
   {
    "duration": 5,
    "start_time": "2023-02-26T02:44:07.794Z"
   },
   {
    "duration": 5,
    "start_time": "2023-02-26T02:44:08.345Z"
   },
   {
    "duration": 5,
    "start_time": "2023-02-26T02:44:08.946Z"
   },
   {
    "duration": 17,
    "start_time": "2023-02-26T02:44:46.452Z"
   },
   {
    "duration": 17,
    "start_time": "2023-02-26T02:44:59.599Z"
   },
   {
    "duration": 5,
    "start_time": "2023-02-26T02:45:07.434Z"
   },
   {
    "duration": 9,
    "start_time": "2023-02-26T02:46:23.352Z"
   },
   {
    "duration": 2,
    "start_time": "2023-02-26T02:46:26.108Z"
   },
   {
    "duration": 10,
    "start_time": "2023-02-26T02:46:26.488Z"
   },
   {
    "duration": 22,
    "start_time": "2023-02-26T02:46:43.590Z"
   },
   {
    "duration": 17,
    "start_time": "2023-02-26T02:46:56.569Z"
   },
   {
    "duration": 17,
    "start_time": "2023-02-26T02:48:50.969Z"
   },
   {
    "duration": 21,
    "start_time": "2023-02-26T02:49:35.677Z"
   },
   {
    "duration": 8,
    "start_time": "2023-02-26T02:51:36.039Z"
   },
   {
    "duration": 4,
    "start_time": "2023-02-26T02:51:36.582Z"
   },
   {
    "duration": 4,
    "start_time": "2023-02-26T02:51:37.236Z"
   },
   {
    "duration": 5,
    "start_time": "2023-02-26T02:51:37.835Z"
   },
   {
    "duration": 2,
    "start_time": "2023-02-26T02:51:38.361Z"
   },
   {
    "duration": 9,
    "start_time": "2023-02-26T02:51:38.892Z"
   },
   {
    "duration": 21,
    "start_time": "2023-02-26T02:51:39.750Z"
   },
   {
    "duration": 5,
    "start_time": "2023-02-26T02:51:42.743Z"
   },
   {
    "duration": 10,
    "start_time": "2023-02-26T02:51:43.179Z"
   },
   {
    "duration": 4,
    "start_time": "2023-02-26T02:51:43.875Z"
   },
   {
    "duration": 4,
    "start_time": "2023-02-26T02:51:44.462Z"
   },
   {
    "duration": 5,
    "start_time": "2023-02-26T02:51:44.969Z"
   },
   {
    "duration": 3,
    "start_time": "2023-02-26T02:51:45.708Z"
   },
   {
    "duration": 12,
    "start_time": "2023-02-26T02:52:26.267Z"
   },
   {
    "duration": 4,
    "start_time": "2023-02-26T02:52:26.940Z"
   },
   {
    "duration": 11,
    "start_time": "2023-02-26T02:52:27.524Z"
   },
   {
    "duration": 3,
    "start_time": "2023-02-26T02:52:28.023Z"
   },
   {
    "duration": 11,
    "start_time": "2023-02-26T02:52:28.738Z"
   },
   {
    "duration": 4,
    "start_time": "2023-02-26T02:52:29.453Z"
   },
   {
    "duration": 4,
    "start_time": "2023-02-26T02:52:33.426Z"
   },
   {
    "duration": 9,
    "start_time": "2023-02-26T02:52:34.023Z"
   },
   {
    "duration": 20,
    "start_time": "2023-02-26T02:52:34.761Z"
   },
   {
    "duration": 22,
    "start_time": "2023-02-26T02:52:35.534Z"
   },
   {
    "duration": 20,
    "start_time": "2023-02-26T02:52:36.453Z"
   },
   {
    "duration": 4,
    "start_time": "2023-02-26T02:54:01.066Z"
   },
   {
    "duration": 9,
    "start_time": "2023-02-26T02:54:01.489Z"
   },
   {
    "duration": 12,
    "start_time": "2023-02-26T02:54:02.021Z"
   },
   {
    "duration": 4,
    "start_time": "2023-02-26T02:54:03.195Z"
   },
   {
    "duration": 12,
    "start_time": "2023-02-26T02:54:03.881Z"
   },
   {
    "duration": 4,
    "start_time": "2023-02-26T02:54:04.293Z"
   },
   {
    "duration": 12,
    "start_time": "2023-02-26T02:54:04.873Z"
   },
   {
    "duration": 4,
    "start_time": "2023-02-26T02:54:05.464Z"
   },
   {
    "duration": 4,
    "start_time": "2023-02-26T02:54:15.393Z"
   },
   {
    "duration": 48,
    "start_time": "2023-02-26T02:54:15.575Z"
   },
   {
    "duration": 12,
    "start_time": "2023-02-26T02:54:15.775Z"
   },
   {
    "duration": 11,
    "start_time": "2023-02-26T02:54:15.982Z"
   },
   {
    "duration": 4,
    "start_time": "2023-02-26T02:54:16.180Z"
   },
   {
    "duration": 4,
    "start_time": "2023-02-26T02:54:16.618Z"
   },
   {
    "duration": 3,
    "start_time": "2023-02-26T02:54:16.855Z"
   },
   {
    "duration": 19,
    "start_time": "2023-02-26T02:54:18.071Z"
   },
   {
    "duration": 5,
    "start_time": "2023-02-26T02:54:18.699Z"
   },
   {
    "duration": 5,
    "start_time": "2023-02-26T02:54:19.223Z"
   },
   {
    "duration": 8,
    "start_time": "2023-02-26T02:54:19.586Z"
   },
   {
    "duration": 12,
    "start_time": "2023-02-26T02:54:19.935Z"
   },
   {
    "duration": 4,
    "start_time": "2023-02-26T02:54:20.328Z"
   },
   {
    "duration": 12,
    "start_time": "2023-02-26T02:54:20.739Z"
   },
   {
    "duration": 4,
    "start_time": "2023-02-26T02:54:21.166Z"
   },
   {
    "duration": 11,
    "start_time": "2023-02-26T02:54:21.591Z"
   },
   {
    "duration": 4,
    "start_time": "2023-02-26T02:54:22.103Z"
   },
   {
    "duration": 3,
    "start_time": "2023-02-26T02:54:22.831Z"
   },
   {
    "duration": 5,
    "start_time": "2023-02-26T02:57:01.225Z"
   },
   {
    "duration": 8,
    "start_time": "2023-02-26T02:58:39.325Z"
   },
   {
    "duration": 195522,
    "start_time": "2023-02-26T03:00:35.247Z"
   },
   {
    "duration": 13,
    "start_time": "2023-02-26T03:03:56.232Z"
   },
   {
    "duration": 14,
    "start_time": "2023-02-26T03:04:56.961Z"
   },
   {
    "duration": 973,
    "start_time": "2023-02-26T03:05:06.924Z"
   },
   {
    "duration": 38210,
    "start_time": "2023-02-26T03:05:08.745Z"
   },
   {
    "duration": 110,
    "start_time": "2023-02-26T03:06:00.073Z"
   },
   {
    "duration": 5,
    "start_time": "2023-02-26T03:08:58.732Z"
   },
   {
    "duration": 762,
    "start_time": "2023-02-26T03:09:08.484Z"
   },
   {
    "duration": 4,
    "start_time": "2023-02-26T03:09:26.656Z"
   },
   {
    "duration": 681,
    "start_time": "2023-02-26T03:09:27.669Z"
   },
   {
    "duration": 4,
    "start_time": "2023-02-26T03:10:44.631Z"
   },
   {
    "duration": 571,
    "start_time": "2023-02-26T03:10:45.178Z"
   },
   {
    "duration": 4,
    "start_time": "2023-02-26T03:12:05.568Z"
   },
   {
    "duration": 613,
    "start_time": "2023-02-26T03:12:08.533Z"
   },
   {
    "duration": 5,
    "start_time": "2023-02-26T03:12:55.525Z"
   },
   {
    "duration": 612,
    "start_time": "2023-02-26T03:12:56.035Z"
   },
   {
    "duration": 5,
    "start_time": "2023-02-26T03:13:05.357Z"
   },
   {
    "duration": 6,
    "start_time": "2023-02-26T03:13:08.317Z"
   },
   {
    "duration": 591,
    "start_time": "2023-02-26T03:13:08.757Z"
   },
   {
    "duration": 5,
    "start_time": "2023-02-26T03:13:26.853Z"
   },
   {
    "duration": 588,
    "start_time": "2023-02-26T03:13:28.359Z"
   },
   {
    "duration": 5,
    "start_time": "2023-02-26T03:13:47.843Z"
   },
   {
    "duration": 626,
    "start_time": "2023-02-26T03:13:48.319Z"
   },
   {
    "duration": 5,
    "start_time": "2023-02-26T03:14:04.562Z"
   },
   {
    "duration": 630,
    "start_time": "2023-02-26T03:14:05.916Z"
   },
   {
    "duration": 5,
    "start_time": "2023-02-26T03:14:27.760Z"
   },
   {
    "duration": 616,
    "start_time": "2023-02-26T03:14:28.431Z"
   },
   {
    "duration": 5,
    "start_time": "2023-02-26T03:14:46.579Z"
   },
   {
    "duration": 635,
    "start_time": "2023-02-26T03:14:47.010Z"
   },
   {
    "duration": 6,
    "start_time": "2023-02-26T03:14:57.007Z"
   },
   {
    "duration": 607,
    "start_time": "2023-02-26T03:14:57.640Z"
   },
   {
    "duration": 526,
    "start_time": "2023-02-26T03:28:27.041Z"
   },
   {
    "duration": 8,
    "start_time": "2023-02-26T03:28:27.570Z"
   },
   {
    "duration": 3,
    "start_time": "2023-02-26T03:28:39.989Z"
   },
   {
    "duration": 10,
    "start_time": "2023-02-26T03:28:44.258Z"
   },
   {
    "duration": 77,
    "start_time": "2023-02-26T03:29:20.057Z"
   },
   {
    "duration": 74,
    "start_time": "2023-02-26T03:29:27.094Z"
   },
   {
    "duration": 27,
    "start_time": "2023-02-26T03:32:25.091Z"
   },
   {
    "duration": 9,
    "start_time": "2023-02-26T03:32:25.580Z"
   },
   {
    "duration": 9,
    "start_time": "2023-02-26T03:32:33.456Z"
   },
   {
    "duration": 9,
    "start_time": "2023-02-26T03:32:35.737Z"
   },
   {
    "duration": 10,
    "start_time": "2023-02-26T03:32:46.928Z"
   },
   {
    "duration": 79,
    "start_time": "2023-02-26T03:33:56.874Z"
   },
   {
    "duration": 11,
    "start_time": "2023-02-26T03:33:57.653Z"
   },
   {
    "duration": 10,
    "start_time": "2023-02-26T03:34:02.775Z"
   },
   {
    "duration": 22,
    "start_time": "2023-02-26T03:34:03.332Z"
   },
   {
    "duration": 14,
    "start_time": "2023-02-26T03:34:09.486Z"
   },
   {
    "duration": 5,
    "start_time": "2023-02-26T03:37:38.379Z"
   },
   {
    "duration": 10,
    "start_time": "2023-02-26T03:37:38.866Z"
   },
   {
    "duration": 145,
    "start_time": "2023-02-26T03:37:48.157Z"
   },
   {
    "duration": 361,
    "start_time": "2023-02-26T03:38:15.146Z"
   },
   {
    "duration": 6,
    "start_time": "2023-02-26T03:42:48.484Z"
   },
   {
    "duration": 4,
    "start_time": "2023-02-26T03:42:49.173Z"
   },
   {
    "duration": 16,
    "start_time": "2023-02-26T03:43:02.042Z"
   },
   {
    "duration": 13,
    "start_time": "2023-02-26T03:43:13.374Z"
   },
   {
    "duration": 11,
    "start_time": "2023-02-26T03:43:48.345Z"
   },
   {
    "duration": 13,
    "start_time": "2023-02-26T03:44:44.083Z"
   },
   {
    "duration": 9,
    "start_time": "2023-02-26T03:44:44.859Z"
   },
   {
    "duration": 11,
    "start_time": "2023-02-26T03:45:05.826Z"
   },
   {
    "duration": 13,
    "start_time": "2023-02-26T03:45:07.496Z"
   },
   {
    "duration": 90,
    "start_time": "2023-02-26T03:45:54.045Z"
   },
   {
    "duration": 9,
    "start_time": "2023-02-26T03:46:40.825Z"
   },
   {
    "duration": 121,
    "start_time": "2023-02-26T03:46:58.138Z"
   },
   {
    "duration": 15,
    "start_time": "2023-02-26T03:49:44.168Z"
   },
   {
    "duration": 12,
    "start_time": "2023-02-26T03:49:44.859Z"
   },
   {
    "duration": 684,
    "start_time": "2023-02-26T03:51:35.263Z"
   },
   {
    "duration": 840,
    "start_time": "2023-02-26T03:51:46.707Z"
   },
   {
    "duration": 566,
    "start_time": "2023-02-26T03:55:49.130Z"
   },
   {
    "duration": 799,
    "start_time": "2023-02-26T03:55:49.846Z"
   },
   {
    "duration": 46,
    "start_time": "2023-02-26T04:02:56.146Z"
   },
   {
    "duration": 10,
    "start_time": "2023-02-26T04:02:56.817Z"
   },
   {
    "duration": 223,
    "start_time": "2023-02-26T04:02:57.400Z"
   },
   {
    "duration": 30,
    "start_time": "2023-02-26T04:02:57.960Z"
   },
   {
    "duration": 39,
    "start_time": "2023-02-26T04:02:58.606Z"
   },
   {
    "duration": 15,
    "start_time": "2023-02-26T04:02:59.298Z"
   },
   {
    "duration": 10,
    "start_time": "2023-02-26T04:03:45.111Z"
   },
   {
    "duration": 39,
    "start_time": "2023-02-26T04:03:45.548Z"
   },
   {
    "duration": 11,
    "start_time": "2023-02-26T04:03:46.082Z"
   },
   {
    "duration": 227,
    "start_time": "2023-02-26T04:03:46.628Z"
   },
   {
    "duration": 31,
    "start_time": "2023-02-26T04:03:47.197Z"
   },
   {
    "duration": 114,
    "start_time": "2023-02-26T04:03:47.832Z"
   },
   {
    "duration": 17,
    "start_time": "2023-02-26T04:03:48.793Z"
   },
   {
    "duration": 27,
    "start_time": "2023-02-26T04:05:57.951Z"
   },
   {
    "duration": 209,
    "start_time": "2023-02-26T04:05:58.536Z"
   },
   {
    "duration": 28,
    "start_time": "2023-02-26T04:05:59.018Z"
   },
   {
    "duration": 79,
    "start_time": "2023-02-26T04:06:42.266Z"
   },
   {
    "duration": 196,
    "start_time": "2023-02-26T04:32:21.681Z"
   },
   {
    "duration": 33,
    "start_time": "2023-02-26T04:32:22.242Z"
   },
   {
    "duration": 36,
    "start_time": "2023-02-26T04:32:23.459Z"
   },
   {
    "duration": 8,
    "start_time": "2023-02-26T04:32:24.428Z"
   },
   {
    "duration": 11,
    "start_time": "2023-02-26T04:32:25.121Z"
   },
   {
    "duration": 14,
    "start_time": "2023-02-26T04:36:13.104Z"
   },
   {
    "duration": 68,
    "start_time": "2023-02-26T04:36:17.026Z"
   },
   {
    "duration": 88,
    "start_time": "2023-02-26T04:36:47.228Z"
   },
   {
    "duration": 85,
    "start_time": "2023-02-26T04:36:57.731Z"
   },
   {
    "duration": 10,
    "start_time": "2023-02-26T04:37:03.786Z"
   },
   {
    "duration": 13,
    "start_time": "2023-02-26T04:37:06.648Z"
   },
   {
    "duration": 94,
    "start_time": "2023-02-26T04:43:06.051Z"
   },
   {
    "duration": 16,
    "start_time": "2023-02-26T04:43:06.654Z"
   },
   {
    "duration": 37,
    "start_time": "2023-02-26T04:43:09.945Z"
   },
   {
    "duration": 10,
    "start_time": "2023-02-26T04:43:10.236Z"
   },
   {
    "duration": 237,
    "start_time": "2023-02-26T04:43:10.501Z"
   },
   {
    "duration": 28,
    "start_time": "2023-02-26T04:43:10.810Z"
   },
   {
    "duration": 99,
    "start_time": "2023-02-26T04:43:11.053Z"
   },
   {
    "duration": 11,
    "start_time": "2023-02-26T04:43:11.403Z"
   },
   {
    "duration": 4,
    "start_time": "2023-02-26T04:43:25.275Z"
   },
   {
    "duration": 13,
    "start_time": "2023-02-26T04:43:27.142Z"
   },
   {
    "duration": 11,
    "start_time": "2023-02-26T04:43:28.367Z"
   },
   {
    "duration": 94,
    "start_time": "2023-02-26T04:43:57.442Z"
   },
   {
    "duration": 112,
    "start_time": "2023-02-26T04:43:57.761Z"
   },
   {
    "duration": 527,
    "start_time": "2023-02-26T04:54:15.651Z"
   },
   {
    "duration": 9,
    "start_time": "2023-02-26T04:54:20.773Z"
   },
   {
    "duration": 69,
    "start_time": "2023-02-26T04:54:21.173Z"
   },
   {
    "duration": 11,
    "start_time": "2023-02-26T04:54:35.124Z"
   },
   {
    "duration": 9,
    "start_time": "2023-02-26T04:54:35.540Z"
   },
   {
    "duration": 29,
    "start_time": "2023-02-26T04:54:36.747Z"
   },
   {
    "duration": 38,
    "start_time": "2023-02-26T04:54:37.708Z"
   },
   {
    "duration": 10,
    "start_time": "2023-02-26T04:54:38.339Z"
   },
   {
    "duration": 12,
    "start_time": "2023-02-26T04:54:38.834Z"
   },
   {
    "duration": 4,
    "start_time": "2023-02-26T04:54:39.889Z"
   },
   {
    "duration": 171,
    "start_time": "2023-02-26T04:54:40.436Z"
   },
   {
    "duration": 366,
    "start_time": "2023-02-26T04:54:43.405Z"
   },
   {
    "duration": 78,
    "start_time": "2023-02-26T04:54:44.120Z"
   },
   {
    "duration": 4,
    "start_time": "2023-02-26T04:54:44.347Z"
   },
   {
    "duration": 13,
    "start_time": "2023-02-26T04:54:44.543Z"
   },
   {
    "duration": 13,
    "start_time": "2023-02-26T04:54:44.737Z"
   },
   {
    "duration": 96,
    "start_time": "2023-02-26T04:54:44.916Z"
   },
   {
    "duration": 188,
    "start_time": "2023-02-26T04:54:45.117Z"
   },
   {
    "duration": 583,
    "start_time": "2023-02-26T04:54:45.466Z"
   },
   {
    "duration": 928,
    "start_time": "2023-02-26T04:54:46.055Z"
   },
   {
    "duration": 184,
    "start_time": "2023-02-26T04:54:46.984Z"
   },
   {
    "duration": 9,
    "start_time": "2023-02-26T04:54:47.170Z"
   },
   {
    "duration": 245,
    "start_time": "2023-02-26T04:54:47.180Z"
   },
   {
    "duration": 38,
    "start_time": "2023-02-26T04:54:47.426Z"
   },
   {
    "duration": 82,
    "start_time": "2023-02-26T04:54:47.468Z"
   },
   {
    "duration": 102,
    "start_time": "2023-02-26T04:54:47.553Z"
   },
   {
    "duration": 307,
    "start_time": "2023-02-26T04:54:47.744Z"
   },
   {
    "duration": 29,
    "start_time": "2023-02-26T04:54:48.053Z"
   },
   {
    "duration": 28,
    "start_time": "2023-02-26T04:54:48.084Z"
   },
   {
    "duration": 7,
    "start_time": "2023-02-26T04:54:48.114Z"
   },
   {
    "duration": 10,
    "start_time": "2023-02-26T04:54:48.154Z"
   },
   {
    "duration": 85,
    "start_time": "2023-02-26T04:56:30.247Z"
   },
   {
    "duration": 5,
    "start_time": "2023-02-26T04:56:46.556Z"
   },
   {
    "duration": 376,
    "start_time": "2023-02-26T05:02:50.231Z"
   },
   {
    "duration": 121503,
    "start_time": "2023-02-26T05:05:26.870Z"
   },
   {
    "duration": 121087,
    "start_time": "2023-02-26T05:08:00.851Z"
   },
   {
    "duration": 33,
    "start_time": "2023-02-26T05:10:01.946Z"
   },
   {
    "duration": 28,
    "start_time": "2023-02-26T05:10:07.815Z"
   },
   {
    "duration": 13,
    "start_time": "2023-02-26T05:10:15.058Z"
   },
   {
    "duration": 10,
    "start_time": "2023-02-26T05:10:16.732Z"
   },
   {
    "duration": 7,
    "start_time": "2023-02-26T05:13:11.719Z"
   },
   {
    "duration": 9,
    "start_time": "2023-02-26T05:13:12.483Z"
   },
   {
    "duration": 5,
    "start_time": "2023-02-26T05:17:33.947Z"
   },
   {
    "duration": 50,
    "start_time": "2023-02-26T05:17:34.483Z"
   },
   {
    "duration": 16,
    "start_time": "2023-02-26T05:17:34.831Z"
   },
   {
    "duration": 13,
    "start_time": "2023-02-26T05:17:35.317Z"
   },
   {
    "duration": 10,
    "start_time": "2023-02-26T05:17:35.749Z"
   },
   {
    "duration": 7,
    "start_time": "2023-02-26T05:17:36.552Z"
   },
   {
    "duration": 3,
    "start_time": "2023-02-26T05:17:37.111Z"
   },
   {
    "duration": 19,
    "start_time": "2023-02-26T05:17:37.508Z"
   },
   {
    "duration": 4,
    "start_time": "2023-02-26T05:17:37.928Z"
   },
   {
    "duration": 6,
    "start_time": "2023-02-26T05:17:38.439Z"
   },
   {
    "duration": 9,
    "start_time": "2023-02-26T05:17:38.834Z"
   },
   {
    "duration": 11,
    "start_time": "2023-02-26T05:17:39.210Z"
   },
   {
    "duration": 5,
    "start_time": "2023-02-26T05:17:39.557Z"
   },
   {
    "duration": 12,
    "start_time": "2023-02-26T05:17:39.971Z"
   },
   {
    "duration": 4,
    "start_time": "2023-02-26T05:17:40.329Z"
   },
   {
    "duration": 13,
    "start_time": "2023-02-26T05:17:40.648Z"
   },
   {
    "duration": 4,
    "start_time": "2023-02-26T05:17:40.925Z"
   },
   {
    "duration": 3,
    "start_time": "2023-02-26T05:17:41.182Z"
   },
   {
    "duration": 10,
    "start_time": "2023-02-26T05:17:41.607Z"
   },
   {
    "duration": 20,
    "start_time": "2023-02-26T05:17:41.800Z"
   },
   {
    "duration": 19,
    "start_time": "2023-02-26T05:17:42.184Z"
   },
   {
    "duration": 19,
    "start_time": "2023-02-26T05:17:42.373Z"
   },
   {
    "duration": 213048,
    "start_time": "2023-02-26T05:17:42.769Z"
   },
   {
    "duration": 1106,
    "start_time": "2023-02-26T05:21:15.820Z"
   },
   {
    "duration": 34529,
    "start_time": "2023-02-26T05:21:16.928Z"
   },
   {
    "duration": 78,
    "start_time": "2023-02-26T05:21:59.271Z"
   },
   {
    "duration": 5,
    "start_time": "2023-02-26T05:22:00.544Z"
   },
   {
    "duration": 6,
    "start_time": "2023-02-26T05:22:01.486Z"
   },
   {
    "duration": 655,
    "start_time": "2023-02-26T05:22:02.100Z"
   },
   {
    "duration": 618,
    "start_time": "2023-02-26T05:22:03.008Z"
   },
   {
    "duration": 11,
    "start_time": "2023-02-26T05:22:04.035Z"
   },
   {
    "duration": 68,
    "start_time": "2023-02-26T05:22:04.752Z"
   },
   {
    "duration": 11,
    "start_time": "2023-02-26T05:22:05.715Z"
   },
   {
    "duration": 10,
    "start_time": "2023-02-26T05:22:06.009Z"
   },
   {
    "duration": 29,
    "start_time": "2023-02-26T05:22:06.798Z"
   },
   {
    "duration": 29,
    "start_time": "2023-02-26T05:22:09.024Z"
   },
   {
    "duration": 10,
    "start_time": "2023-02-26T05:22:09.800Z"
   },
   {
    "duration": 29,
    "start_time": "2023-02-26T05:22:10.338Z"
   },
   {
    "duration": 3,
    "start_time": "2023-02-26T05:22:11.421Z"
   },
   {
    "duration": 147,
    "start_time": "2023-02-26T05:22:11.987Z"
   },
   {
    "duration": 302,
    "start_time": "2023-02-26T05:22:12.515Z"
   },
   {
    "duration": 5,
    "start_time": "2023-02-26T05:22:14.732Z"
   },
   {
    "duration": 7,
    "start_time": "2023-02-26T05:22:15.371Z"
   },
   {
    "duration": 12,
    "start_time": "2023-02-26T05:22:15.908Z"
   },
   {
    "duration": 13,
    "start_time": "2023-02-26T05:22:16.407Z"
   },
   {
    "duration": 101,
    "start_time": "2023-02-26T05:22:17.679Z"
   },
   {
    "duration": 98,
    "start_time": "2023-02-26T05:22:18.505Z"
   },
   {
    "duration": 636,
    "start_time": "2023-02-26T05:22:19.917Z"
   },
   {
    "duration": 798,
    "start_time": "2023-02-26T05:22:22.869Z"
   },
   {
    "duration": 44,
    "start_time": "2023-02-26T05:22:24.154Z"
   },
   {
    "duration": 10,
    "start_time": "2023-02-26T05:22:25.316Z"
   },
   {
    "duration": 255,
    "start_time": "2023-02-26T05:22:26.016Z"
   },
   {
    "duration": 34,
    "start_time": "2023-02-26T05:22:26.558Z"
   },
   {
    "duration": 69,
    "start_time": "2023-02-26T05:22:27.187Z"
   },
   {
    "duration": 22,
    "start_time": "2023-02-26T05:22:27.830Z"
   },
   {
    "duration": 73,
    "start_time": "2023-02-26T05:22:29.907Z"
   },
   {
    "duration": 279491,
    "start_time": "2023-02-26T05:22:55.813Z"
   },
   {
    "duration": 24,
    "start_time": "2023-02-26T05:27:38.801Z"
   },
   {
    "duration": 7,
    "start_time": "2023-02-26T05:27:46.299Z"
   },
   {
    "duration": 12,
    "start_time": "2023-02-26T05:27:48.135Z"
   },
   {
    "duration": 10,
    "start_time": "2023-02-26T05:28:44.916Z"
   },
   {
    "duration": 12,
    "start_time": "2023-02-26T05:29:06.459Z"
   },
   {
    "duration": 4,
    "start_time": "2023-02-26T05:29:06.779Z"
   },
   {
    "duration": 19,
    "start_time": "2023-02-26T05:29:06.970Z"
   },
   {
    "duration": 6,
    "start_time": "2023-02-26T05:29:07.146Z"
   },
   {
    "duration": 12,
    "start_time": "2023-02-26T05:29:07.367Z"
   },
   {
    "duration": 4,
    "start_time": "2023-02-26T05:29:08.025Z"
   },
   {
    "duration": 3,
    "start_time": "2023-02-26T05:29:08.600Z"
   },
   {
    "duration": 13,
    "start_time": "2023-02-26T05:29:21.542Z"
   },
   {
    "duration": 29,
    "start_time": "2023-02-26T05:29:22.064Z"
   },
   {
    "duration": 24,
    "start_time": "2023-02-26T05:29:22.800Z"
   },
   {
    "duration": 19,
    "start_time": "2023-02-26T05:29:24.716Z"
   },
   {
    "duration": 91,
    "start_time": "2023-02-26T05:29:31.034Z"
   },
   {
    "duration": 3,
    "start_time": "2023-02-26T05:29:33.765Z"
   },
   {
    "duration": 5,
    "start_time": "2023-02-26T05:29:34.368Z"
   },
   {
    "duration": 947,
    "start_time": "2023-02-26T05:29:35.012Z"
   },
   {
    "duration": 793,
    "start_time": "2023-02-26T05:29:43.391Z"
   },
   {
    "duration": 9,
    "start_time": "2023-02-26T05:29:45.124Z"
   },
   {
    "duration": 70,
    "start_time": "2023-02-26T05:29:47.029Z"
   },
   {
    "duration": 22,
    "start_time": "2023-02-26T05:29:48.429Z"
   },
   {
    "duration": 26,
    "start_time": "2023-02-26T05:29:58.472Z"
   },
   {
    "duration": 67,
    "start_time": "2023-02-26T05:30:02.324Z"
   },
   {
    "duration": 1583,
    "start_time": "2023-02-26T05:30:07.697Z"
   },
   {
    "duration": 54782,
    "start_time": "2023-02-26T05:30:09.377Z"
   },
   {
    "duration": 25,
    "start_time": "2023-02-26T05:31:04.244Z"
   },
   {
    "duration": 25,
    "start_time": "2023-02-26T05:31:11.131Z"
   },
   {
    "duration": 10,
    "start_time": "2023-02-26T05:31:32.192Z"
   },
   {
    "duration": 22,
    "start_time": "2023-02-26T05:31:32.645Z"
   },
   {
    "duration": 4,
    "start_time": "2023-02-26T05:31:32.826Z"
   },
   {
    "duration": 13,
    "start_time": "2023-02-26T05:31:32.991Z"
   },
   {
    "duration": 4,
    "start_time": "2023-02-26T05:31:33.154Z"
   },
   {
    "duration": 18,
    "start_time": "2023-02-26T05:31:33.450Z"
   },
   {
    "duration": 4,
    "start_time": "2023-02-26T05:31:33.640Z"
   },
   {
    "duration": 3,
    "start_time": "2023-02-26T05:31:33.852Z"
   },
   {
    "duration": 14,
    "start_time": "2023-02-26T05:31:34.553Z"
   },
   {
    "duration": 33,
    "start_time": "2023-02-26T05:31:37.044Z"
   },
   {
    "duration": 20,
    "start_time": "2023-02-26T05:31:37.206Z"
   },
   {
    "duration": 26,
    "start_time": "2023-02-26T05:31:37.365Z"
   },
   {
    "duration": 1358,
    "start_time": "2023-02-26T05:31:41.278Z"
   },
   {
    "duration": 46621,
    "start_time": "2023-02-26T05:31:42.638Z"
   },
   {
    "duration": 103,
    "start_time": "2023-02-26T05:32:30.413Z"
   },
   {
    "duration": 4,
    "start_time": "2023-02-26T05:32:31.215Z"
   },
   {
    "duration": 5,
    "start_time": "2023-02-26T05:32:31.696Z"
   },
   {
    "duration": 825,
    "start_time": "2023-02-26T05:32:32.323Z"
   },
   {
    "duration": 711,
    "start_time": "2023-02-26T05:32:33.287Z"
   },
   {
    "duration": 10,
    "start_time": "2023-02-26T05:32:34.000Z"
   },
   {
    "duration": 70,
    "start_time": "2023-02-26T05:32:34.524Z"
   },
   {
    "duration": 31,
    "start_time": "2023-02-26T05:32:35.940Z"
   },
   {
    "duration": 9,
    "start_time": "2023-02-26T05:34:09.425Z"
   },
   {
    "duration": 12,
    "start_time": "2023-02-26T05:34:10.671Z"
   },
   {
    "duration": 4,
    "start_time": "2023-02-26T05:34:11.333Z"
   },
   {
    "duration": 14,
    "start_time": "2023-02-26T05:34:12.173Z"
   },
   {
    "duration": 5,
    "start_time": "2023-02-26T05:34:12.868Z"
   },
   {
    "duration": 13,
    "start_time": "2023-02-26T05:34:13.964Z"
   },
   {
    "duration": 5,
    "start_time": "2023-02-26T05:34:24.723Z"
   },
   {
    "duration": 3,
    "start_time": "2023-02-26T05:34:25.331Z"
   },
   {
    "duration": 9,
    "start_time": "2023-02-26T05:34:25.816Z"
   },
   {
    "duration": 22,
    "start_time": "2023-02-26T05:34:26.368Z"
   },
   {
    "duration": 29,
    "start_time": "2023-02-26T05:34:27.116Z"
   },
   {
    "duration": 21,
    "start_time": "2023-02-26T05:34:27.905Z"
   },
   {
    "duration": 1644,
    "start_time": "2023-02-26T05:34:31.715Z"
   },
   {
    "duration": 78,
    "start_time": "2023-02-26T05:34:37.162Z"
   },
   {
    "duration": 5,
    "start_time": "2023-02-26T05:34:38.767Z"
   },
   {
    "duration": 6,
    "start_time": "2023-02-26T05:34:39.527Z"
   },
   {
    "duration": 943,
    "start_time": "2023-02-26T05:34:40.227Z"
   },
   {
    "duration": 791,
    "start_time": "2023-02-26T05:34:41.302Z"
   },
   {
    "duration": 11,
    "start_time": "2023-02-26T05:34:42.957Z"
   },
   {
    "duration": 65,
    "start_time": "2023-02-26T05:34:57.548Z"
   },
   {
    "duration": 26,
    "start_time": "2023-02-26T05:35:03.447Z"
   },
   {
    "duration": 9,
    "start_time": "2023-02-26T05:36:06.475Z"
   },
   {
    "duration": 8,
    "start_time": "2023-02-26T05:38:07.622Z"
   },
   {
    "duration": 17,
    "start_time": "2023-02-26T05:38:09.963Z"
   },
   {
    "duration": 4,
    "start_time": "2023-02-26T05:38:10.218Z"
   },
   {
    "duration": 20,
    "start_time": "2023-02-26T05:38:10.375Z"
   },
   {
    "duration": 10,
    "start_time": "2023-02-26T05:38:10.560Z"
   },
   {
    "duration": 12,
    "start_time": "2023-02-26T05:38:10.736Z"
   },
   {
    "duration": 3,
    "start_time": "2023-02-26T05:38:10.911Z"
   },
   {
    "duration": 2,
    "start_time": "2023-02-26T05:38:11.116Z"
   },
   {
    "duration": 9,
    "start_time": "2023-02-26T05:38:11.313Z"
   },
   {
    "duration": 30,
    "start_time": "2023-02-26T05:38:12.049Z"
   },
   {
    "duration": 27,
    "start_time": "2023-02-26T05:38:12.436Z"
   },
   {
    "duration": 26,
    "start_time": "2023-02-26T05:38:13.079Z"
   },
   {
    "duration": 1527,
    "start_time": "2023-02-26T05:38:16.580Z"
   },
   {
    "duration": 8,
    "start_time": "2023-02-26T05:38:37.628Z"
   },
   {
    "duration": 12,
    "start_time": "2023-02-26T05:38:38.004Z"
   },
   {
    "duration": 4,
    "start_time": "2023-02-26T05:38:38.179Z"
   },
   {
    "duration": 11,
    "start_time": "2023-02-26T05:38:38.374Z"
   },
   {
    "duration": 4,
    "start_time": "2023-02-26T05:38:38.571Z"
   },
   {
    "duration": 13,
    "start_time": "2023-02-26T05:38:38.743Z"
   },
   {
    "duration": 4,
    "start_time": "2023-02-26T05:38:39.015Z"
   },
   {
    "duration": 3,
    "start_time": "2023-02-26T05:38:39.477Z"
   },
   {
    "duration": 9,
    "start_time": "2023-02-26T05:38:39.867Z"
   },
   {
    "duration": 19,
    "start_time": "2023-02-26T05:38:40.280Z"
   },
   {
    "duration": 25,
    "start_time": "2023-02-26T05:38:40.640Z"
   },
   {
    "duration": 19,
    "start_time": "2023-02-26T05:38:41.221Z"
   },
   {
    "duration": 1067,
    "start_time": "2023-02-26T05:38:44.721Z"
   },
   {
    "duration": 85,
    "start_time": "2023-02-26T05:38:49.311Z"
   },
   {
    "duration": 3,
    "start_time": "2023-02-26T05:38:49.726Z"
   },
   {
    "duration": 5,
    "start_time": "2023-02-26T05:38:50.238Z"
   },
   {
    "duration": 731,
    "start_time": "2023-02-26T05:38:50.814Z"
   },
   {
    "duration": 596,
    "start_time": "2023-02-26T05:38:52.255Z"
   },
   {
    "duration": 11,
    "start_time": "2023-02-26T05:38:53.384Z"
   },
   {
    "duration": 74,
    "start_time": "2023-02-26T05:38:53.983Z"
   },
   {
    "duration": 11,
    "start_time": "2023-02-26T05:38:54.968Z"
   },
   {
    "duration": 10,
    "start_time": "2023-02-26T05:38:56.872Z"
   },
   {
    "duration": 29,
    "start_time": "2023-02-26T05:38:58.368Z"
   },
   {
    "duration": 35,
    "start_time": "2023-02-26T05:38:58.918Z"
   },
   {
    "duration": 10,
    "start_time": "2023-02-26T05:38:59.433Z"
   },
   {
    "duration": 17,
    "start_time": "2023-02-26T05:38:59.959Z"
   },
   {
    "duration": 5,
    "start_time": "2023-02-26T05:39:01.106Z"
   },
   {
    "duration": 166,
    "start_time": "2023-02-26T05:39:01.630Z"
   },
   {
    "duration": 355,
    "start_time": "2023-02-26T05:39:02.133Z"
   },
   {
    "duration": 5,
    "start_time": "2023-02-26T05:39:04.525Z"
   },
   {
    "duration": 7,
    "start_time": "2023-02-26T05:39:05.568Z"
   },
   {
    "duration": 12,
    "start_time": "2023-02-26T05:39:06.011Z"
   },
   {
    "duration": 14,
    "start_time": "2023-02-26T05:39:06.641Z"
   },
   {
    "duration": 91,
    "start_time": "2023-02-26T05:39:07.552Z"
   },
   {
    "duration": 116,
    "start_time": "2023-02-26T05:39:08.149Z"
   },
   {
    "duration": 635,
    "start_time": "2023-02-26T05:39:09.310Z"
   },
   {
    "duration": 853,
    "start_time": "2023-02-26T05:39:10.135Z"
   },
   {
    "duration": 133,
    "start_time": "2023-02-26T05:39:11.052Z"
   },
   {
    "duration": 10,
    "start_time": "2023-02-26T05:39:12.249Z"
   },
   {
    "duration": 248,
    "start_time": "2023-02-26T05:39:12.905Z"
   },
   {
    "duration": 217,
    "start_time": "2023-02-26T05:42:56.367Z"
   },
   {
    "duration": 212,
    "start_time": "2023-02-26T05:44:55.011Z"
   },
   {
    "duration": 204,
    "start_time": "2023-02-26T05:45:05.505Z"
   },
   {
    "duration": 239,
    "start_time": "2023-02-26T05:45:31.827Z"
   },
   {
    "duration": 76,
    "start_time": "2023-02-26T05:45:49.928Z"
   },
   {
    "duration": 210,
    "start_time": "2023-02-26T05:46:01.676Z"
   },
   {
    "duration": 227,
    "start_time": "2023-02-26T05:46:33.773Z"
   },
   {
    "duration": 223,
    "start_time": "2023-02-26T05:46:37.878Z"
   },
   {
    "duration": 22,
    "start_time": "2023-02-26T05:46:41.264Z"
   },
   {
    "duration": 6,
    "start_time": "2023-02-26T05:46:41.828Z"
   },
   {
    "duration": 639,
    "start_time": "2023-02-26T05:46:46.706Z"
   },
   {
    "duration": 836,
    "start_time": "2023-02-26T05:46:47.349Z"
   },
   {
    "duration": 128,
    "start_time": "2023-02-26T05:46:48.247Z"
   },
   {
    "duration": 8,
    "start_time": "2023-02-26T05:46:48.377Z"
   },
   {
    "duration": 231,
    "start_time": "2023-02-26T05:46:48.386Z"
   },
   {
    "duration": 30,
    "start_time": "2023-02-26T05:46:49.855Z"
   },
   {
    "duration": 71,
    "start_time": "2023-02-26T05:46:51.879Z"
   },
   {
    "duration": 15,
    "start_time": "2023-02-26T05:46:52.236Z"
   },
   {
    "duration": 222,
    "start_time": "2023-02-26T05:46:53.702Z"
   },
   {
    "duration": 233,
    "start_time": "2023-02-26T05:47:31.277Z"
   },
   {
    "duration": 23,
    "start_time": "2023-02-26T05:48:33.704Z"
   },
   {
    "duration": 197,
    "start_time": "2023-02-26T05:48:36.633Z"
   },
   {
    "duration": 225,
    "start_time": "2023-02-26T05:49:04.669Z"
   },
   {
    "duration": 39,
    "start_time": "2023-02-26T05:49:54.704Z"
   },
   {
    "duration": 211,
    "start_time": "2023-02-26T05:50:11.504Z"
   },
   {
    "duration": 23,
    "start_time": "2023-02-26T05:50:13.060Z"
   },
   {
    "duration": 212,
    "start_time": "2023-02-26T05:51:03.278Z"
   },
   {
    "duration": 27,
    "start_time": "2023-02-26T05:51:03.772Z"
   },
   {
    "duration": 26,
    "start_time": "2023-02-26T05:51:08.357Z"
   },
   {
    "duration": 202,
    "start_time": "2023-02-26T05:51:16.121Z"
   },
   {
    "duration": 27,
    "start_time": "2023-02-26T05:51:17.081Z"
   },
   {
    "duration": 201,
    "start_time": "2023-02-26T05:51:46.335Z"
   },
   {
    "duration": 26,
    "start_time": "2023-02-26T05:51:47.419Z"
   },
   {
    "duration": 8,
    "start_time": "2023-02-26T05:52:33.863Z"
   },
   {
    "duration": 11,
    "start_time": "2023-02-26T05:52:35.489Z"
   },
   {
    "duration": 4,
    "start_time": "2023-02-26T05:52:35.639Z"
   },
   {
    "duration": 14,
    "start_time": "2023-02-26T05:52:35.802Z"
   },
   {
    "duration": 4,
    "start_time": "2023-02-26T05:52:35.947Z"
   },
   {
    "duration": 11,
    "start_time": "2023-02-26T05:52:36.110Z"
   },
   {
    "duration": 4,
    "start_time": "2023-02-26T05:52:36.273Z"
   },
   {
    "duration": 3,
    "start_time": "2023-02-26T05:52:36.432Z"
   },
   {
    "duration": 8,
    "start_time": "2023-02-26T05:52:36.664Z"
   },
   {
    "duration": 21,
    "start_time": "2023-02-26T05:52:36.845Z"
   },
   {
    "duration": 21,
    "start_time": "2023-02-26T05:52:38.152Z"
   },
   {
    "duration": 21,
    "start_time": "2023-02-26T05:52:38.315Z"
   },
   {
    "duration": 1425,
    "start_time": "2023-02-26T05:52:40.634Z"
   },
   {
    "duration": 79,
    "start_time": "2023-02-26T05:52:44.159Z"
   },
   {
    "duration": 3,
    "start_time": "2023-02-26T05:52:44.507Z"
   },
   {
    "duration": 5,
    "start_time": "2023-02-26T05:52:44.702Z"
   },
   {
    "duration": 799,
    "start_time": "2023-02-26T05:52:44.950Z"
   },
   {
    "duration": 864,
    "start_time": "2023-02-26T05:52:45.753Z"
   },
   {
    "duration": 10,
    "start_time": "2023-02-26T05:52:46.619Z"
   },
   {
    "duration": 67,
    "start_time": "2023-02-26T05:52:46.630Z"
   },
   {
    "duration": 24,
    "start_time": "2023-02-26T05:52:46.700Z"
   },
   {
    "duration": 0,
    "start_time": "2023-02-26T05:52:46.726Z"
   },
   {
    "duration": 37,
    "start_time": "2023-02-26T05:52:47.004Z"
   },
   {
    "duration": 52,
    "start_time": "2023-02-26T05:52:47.194Z"
   },
   {
    "duration": 10,
    "start_time": "2023-02-26T05:52:47.403Z"
   },
   {
    "duration": 14,
    "start_time": "2023-02-26T05:52:50.906Z"
   },
   {
    "duration": 4,
    "start_time": "2023-02-26T05:52:51.849Z"
   },
   {
    "duration": 139,
    "start_time": "2023-02-26T05:52:52.246Z"
   },
   {
    "duration": 372,
    "start_time": "2023-02-26T05:52:52.706Z"
   },
   {
    "duration": 5,
    "start_time": "2023-02-26T05:52:54.205Z"
   },
   {
    "duration": 4,
    "start_time": "2023-02-26T05:52:54.506Z"
   },
   {
    "duration": 13,
    "start_time": "2023-02-26T05:52:54.700Z"
   },
   {
    "duration": 12,
    "start_time": "2023-02-26T05:52:55.040Z"
   },
   {
    "duration": 91,
    "start_time": "2023-02-26T05:52:55.385Z"
   },
   {
    "duration": 88,
    "start_time": "2023-02-26T05:52:55.951Z"
   },
   {
    "duration": 842,
    "start_time": "2023-02-26T05:52:56.903Z"
   },
   {
    "duration": 1115,
    "start_time": "2023-02-26T05:52:57.753Z"
   },
   {
    "duration": 214,
    "start_time": "2023-02-26T05:52:58.871Z"
   },
   {
    "duration": 8,
    "start_time": "2023-02-26T05:52:59.087Z"
   },
   {
    "duration": 308,
    "start_time": "2023-02-26T05:52:59.096Z"
   },
   {
    "duration": 24,
    "start_time": "2023-02-26T05:52:59.406Z"
   },
   {
    "duration": 114,
    "start_time": "2023-02-26T05:52:59.432Z"
   },
   {
    "duration": 13,
    "start_time": "2023-02-26T05:52:59.549Z"
   },
   {
    "duration": 312,
    "start_time": "2023-02-26T05:53:00.231Z"
   },
   {
    "duration": 22,
    "start_time": "2023-02-26T05:53:00.703Z"
   },
   {
    "duration": 21,
    "start_time": "2023-02-26T05:53:01.488Z"
   },
   {
    "duration": 7,
    "start_time": "2023-02-26T05:53:02.162Z"
   },
   {
    "duration": 15,
    "start_time": "2023-02-26T05:53:02.690Z"
   },
   {
    "duration": 34,
    "start_time": "2023-02-26T05:53:37.301Z"
   },
   {
    "duration": 27,
    "start_time": "2023-02-26T05:53:50.858Z"
   },
   {
    "duration": 268,
    "start_time": "2023-02-26T05:53:59.802Z"
   },
   {
    "duration": 286,
    "start_time": "2023-02-26T05:54:33.041Z"
   },
   {
    "duration": 27,
    "start_time": "2023-02-26T05:54:33.645Z"
   },
   {
    "duration": 8,
    "start_time": "2023-02-26T05:54:45.760Z"
   },
   {
    "duration": 12,
    "start_time": "2023-02-26T05:54:45.937Z"
   },
   {
    "duration": 4,
    "start_time": "2023-02-26T05:54:46.103Z"
   },
   {
    "duration": 11,
    "start_time": "2023-02-26T05:54:46.246Z"
   },
   {
    "duration": 4,
    "start_time": "2023-02-26T05:54:46.410Z"
   },
   {
    "duration": 15,
    "start_time": "2023-02-26T05:54:46.572Z"
   },
   {
    "duration": 4,
    "start_time": "2023-02-26T05:54:46.741Z"
   },
   {
    "duration": 3,
    "start_time": "2023-02-26T05:54:46.921Z"
   },
   {
    "duration": 8,
    "start_time": "2023-02-26T05:54:47.105Z"
   },
   {
    "duration": 20,
    "start_time": "2023-02-26T05:54:49.350Z"
   },
   {
    "duration": 19,
    "start_time": "2023-02-26T05:54:49.507Z"
   },
   {
    "duration": 20,
    "start_time": "2023-02-26T05:54:52.181Z"
   },
   {
    "duration": 989,
    "start_time": "2023-02-26T05:54:55.428Z"
   },
   {
    "duration": 77,
    "start_time": "2023-02-26T05:54:58.465Z"
   },
   {
    "duration": 3,
    "start_time": "2023-02-26T05:54:58.845Z"
   },
   {
    "duration": 5,
    "start_time": "2023-02-26T05:54:59.044Z"
   },
   {
    "duration": 605,
    "start_time": "2023-02-26T05:54:59.644Z"
   },
   {
    "duration": 685,
    "start_time": "2023-02-26T05:55:00.252Z"
   },
   {
    "duration": 13,
    "start_time": "2023-02-26T05:55:00.939Z"
   },
   {
    "duration": 82,
    "start_time": "2023-02-26T05:55:00.953Z"
   },
   {
    "duration": 19,
    "start_time": "2023-02-26T05:55:01.240Z"
   },
   {
    "duration": 9,
    "start_time": "2023-02-26T05:55:01.780Z"
   },
   {
    "duration": 19,
    "start_time": "2023-02-26T05:55:04.499Z"
   },
   {
    "duration": 531,
    "start_time": "2023-02-26T05:56:24.105Z"
   },
   {
    "duration": 10,
    "start_time": "2023-02-26T05:56:24.657Z"
   },
   {
    "duration": 68,
    "start_time": "2023-02-26T05:56:25.932Z"
   },
   {
    "duration": 19,
    "start_time": "2023-02-26T05:56:32.295Z"
   },
   {
    "duration": 9,
    "start_time": "2023-02-26T05:56:43.767Z"
   },
   {
    "duration": 11,
    "start_time": "2023-02-26T05:56:44.507Z"
   },
   {
    "duration": 5,
    "start_time": "2023-02-26T05:56:45.037Z"
   },
   {
    "duration": 11,
    "start_time": "2023-02-26T05:56:45.540Z"
   },
   {
    "duration": 4,
    "start_time": "2023-02-26T05:56:45.744Z"
   },
   {
    "duration": 12,
    "start_time": "2023-02-26T05:56:45.926Z"
   },
   {
    "duration": 4,
    "start_time": "2023-02-26T05:56:46.101Z"
   },
   {
    "duration": 2,
    "start_time": "2023-02-26T05:56:46.550Z"
   },
   {
    "duration": 7,
    "start_time": "2023-02-26T05:56:46.767Z"
   },
   {
    "duration": 25,
    "start_time": "2023-02-26T05:56:46.964Z"
   },
   {
    "duration": 19,
    "start_time": "2023-02-26T05:56:47.137Z"
   },
   {
    "duration": 18,
    "start_time": "2023-02-26T05:56:47.727Z"
   },
   {
    "duration": 977,
    "start_time": "2023-02-26T05:56:50.613Z"
   },
   {
    "duration": 75,
    "start_time": "2023-02-26T05:56:54.223Z"
   },
   {
    "duration": 4,
    "start_time": "2023-02-26T05:56:55.009Z"
   },
   {
    "duration": 5,
    "start_time": "2023-02-26T05:56:55.681Z"
   },
   {
    "duration": 668,
    "start_time": "2023-02-26T05:56:56.177Z"
   },
   {
    "duration": 533,
    "start_time": "2023-02-26T05:56:57.833Z"
   },
   {
    "duration": 11,
    "start_time": "2023-02-26T05:56:59.006Z"
   },
   {
    "duration": 68,
    "start_time": "2023-02-26T05:56:59.645Z"
   },
   {
    "duration": 18,
    "start_time": "2023-02-26T05:57:00.738Z"
   },
   {
    "duration": 8,
    "start_time": "2023-02-26T05:57:32.451Z"
   },
   {
    "duration": 11,
    "start_time": "2023-02-26T05:57:32.610Z"
   },
   {
    "duration": 3,
    "start_time": "2023-02-26T05:57:32.801Z"
   },
   {
    "duration": 12,
    "start_time": "2023-02-26T05:57:32.953Z"
   },
   {
    "duration": 5,
    "start_time": "2023-02-26T05:57:33.107Z"
   },
   {
    "duration": 12,
    "start_time": "2023-02-26T05:57:33.302Z"
   },
   {
    "duration": 4,
    "start_time": "2023-02-26T05:57:33.450Z"
   },
   {
    "duration": 2,
    "start_time": "2023-02-26T05:57:34.007Z"
   },
   {
    "duration": 8,
    "start_time": "2023-02-26T05:57:34.206Z"
   },
   {
    "duration": 21,
    "start_time": "2023-02-26T05:57:36.069Z"
   },
   {
    "duration": 18,
    "start_time": "2023-02-26T05:57:36.239Z"
   },
   {
    "duration": 121,
    "start_time": "2023-02-26T05:57:36.945Z"
   },
   {
    "duration": 1226,
    "start_time": "2023-02-26T05:57:39.999Z"
   },
   {
    "duration": 74,
    "start_time": "2023-02-26T05:57:42.327Z"
   },
   {
    "duration": 4,
    "start_time": "2023-02-26T05:57:42.721Z"
   },
   {
    "duration": 5,
    "start_time": "2023-02-26T05:57:43.273Z"
   },
   {
    "duration": 686,
    "start_time": "2023-02-26T05:57:43.667Z"
   },
   {
    "duration": 596,
    "start_time": "2023-02-26T05:57:44.603Z"
   },
   {
    "duration": 9,
    "start_time": "2023-02-26T05:57:45.201Z"
   },
   {
    "duration": 71,
    "start_time": "2023-02-26T05:57:46.214Z"
   },
   {
    "duration": 18,
    "start_time": "2023-02-26T05:57:47.482Z"
   },
   {
    "duration": 35,
    "start_time": "2023-02-26T05:58:36.801Z"
   },
   {
    "duration": 11,
    "start_time": "2023-02-26T05:58:37.353Z"
   },
   {
    "duration": 9,
    "start_time": "2023-02-26T05:58:50.905Z"
   },
   {
    "duration": 12,
    "start_time": "2023-02-26T05:58:51.073Z"
   },
   {
    "duration": 4,
    "start_time": "2023-02-26T05:58:51.232Z"
   },
   {
    "duration": 11,
    "start_time": "2023-02-26T05:58:51.408Z"
   },
   {
    "duration": 4,
    "start_time": "2023-02-26T05:58:51.572Z"
   },
   {
    "duration": 11,
    "start_time": "2023-02-26T05:58:51.737Z"
   },
   {
    "duration": 4,
    "start_time": "2023-02-26T05:58:51.905Z"
   },
   {
    "duration": 3,
    "start_time": "2023-02-26T05:58:52.054Z"
   },
   {
    "duration": 8,
    "start_time": "2023-02-26T05:58:52.204Z"
   },
   {
    "duration": 20,
    "start_time": "2023-02-26T05:58:54.098Z"
   },
   {
    "duration": 20,
    "start_time": "2023-02-26T05:58:54.257Z"
   },
   {
    "duration": 20,
    "start_time": "2023-02-26T05:58:54.465Z"
   },
   {
    "duration": 953,
    "start_time": "2023-02-26T05:58:57.976Z"
   },
   {
    "duration": 76,
    "start_time": "2023-02-26T05:59:00.600Z"
   },
   {
    "duration": 3,
    "start_time": "2023-02-26T05:59:01.346Z"
   },
   {
    "duration": 6,
    "start_time": "2023-02-26T05:59:01.657Z"
   },
   {
    "duration": 602,
    "start_time": "2023-02-26T05:59:02.147Z"
   },
   {
    "duration": 636,
    "start_time": "2023-02-26T05:59:02.751Z"
   },
   {
    "duration": 10,
    "start_time": "2023-02-26T05:59:03.557Z"
   },
   {
    "duration": 72,
    "start_time": "2023-02-26T05:59:04.333Z"
   },
   {
    "duration": 28,
    "start_time": "2023-02-26T05:59:05.300Z"
   },
   {
    "duration": 11,
    "start_time": "2023-02-26T05:59:05.831Z"
   },
   {
    "duration": 9,
    "start_time": "2023-02-26T05:59:06.499Z"
   },
   {
    "duration": 30,
    "start_time": "2023-02-26T05:59:07.530Z"
   },
   {
    "duration": 23,
    "start_time": "2023-02-26T05:59:07.724Z"
   },
   {
    "duration": 9,
    "start_time": "2023-02-26T05:59:07.946Z"
   },
   {
    "duration": 13,
    "start_time": "2023-02-26T05:59:08.138Z"
   },
   {
    "duration": 4,
    "start_time": "2023-02-26T05:59:08.501Z"
   },
   {
    "duration": 134,
    "start_time": "2023-02-26T05:59:08.719Z"
   },
   {
    "duration": 336,
    "start_time": "2023-02-26T05:59:08.943Z"
   },
   {
    "duration": 5,
    "start_time": "2023-02-26T05:59:09.924Z"
   },
   {
    "duration": 4,
    "start_time": "2023-02-26T05:59:10.347Z"
   },
   {
    "duration": 16,
    "start_time": "2023-02-26T05:59:10.546Z"
   },
   {
    "duration": 11,
    "start_time": "2023-02-26T05:59:10.746Z"
   },
   {
    "duration": 89,
    "start_time": "2023-02-26T05:59:10.947Z"
   },
   {
    "duration": 110,
    "start_time": "2023-02-26T05:59:11.385Z"
   },
   {
    "duration": 586,
    "start_time": "2023-02-26T05:59:11.863Z"
   },
   {
    "duration": 893,
    "start_time": "2023-02-26T05:59:12.452Z"
   },
   {
    "duration": 36,
    "start_time": "2023-02-26T05:59:14.315Z"
   },
   {
    "duration": 9,
    "start_time": "2023-02-26T05:59:14.543Z"
   },
   {
    "duration": 222,
    "start_time": "2023-02-26T05:59:14.912Z"
   },
   {
    "duration": 29,
    "start_time": "2023-02-26T05:59:15.305Z"
   },
   {
    "duration": 47,
    "start_time": "2023-02-26T05:59:15.900Z"
   },
   {
    "duration": 12,
    "start_time": "2023-02-26T05:59:16.234Z"
   },
   {
    "duration": 203,
    "start_time": "2023-02-26T05:59:17.570Z"
   },
   {
    "duration": 31,
    "start_time": "2023-02-26T05:59:17.923Z"
   },
   {
    "duration": 23,
    "start_time": "2023-02-26T05:59:18.146Z"
   },
   {
    "duration": 6,
    "start_time": "2023-02-26T05:59:18.351Z"
   },
   {
    "duration": 10,
    "start_time": "2023-02-26T05:59:24.888Z"
   },
   {
    "duration": 211,
    "start_time": "2023-02-26T05:59:33.025Z"
   },
   {
    "duration": 30,
    "start_time": "2023-02-26T05:59:34.301Z"
   },
   {
    "duration": 22,
    "start_time": "2023-02-26T05:59:35.353Z"
   },
   {
    "duration": 7,
    "start_time": "2023-02-26T05:59:35.749Z"
   },
   {
    "duration": 231,
    "start_time": "2023-02-26T06:00:28.424Z"
   },
   {
    "duration": 28,
    "start_time": "2023-02-26T06:00:28.783Z"
   },
   {
    "duration": 116,
    "start_time": "2023-02-26T06:00:29.031Z"
   },
   {
    "duration": 15,
    "start_time": "2023-02-26T06:00:29.366Z"
   },
   {
    "duration": 249,
    "start_time": "2023-02-26T06:00:30.470Z"
   },
   {
    "duration": 34,
    "start_time": "2023-02-26T06:00:30.880Z"
   },
   {
    "duration": 24,
    "start_time": "2023-02-26T06:00:31.468Z"
   },
   {
    "duration": 9,
    "start_time": "2023-02-26T06:00:32.103Z"
   },
   {
    "duration": 16,
    "start_time": "2023-02-26T06:00:32.603Z"
   },
   {
    "duration": 2432,
    "start_time": "2023-02-27T03:24:03.755Z"
   },
   {
    "duration": 98,
    "start_time": "2023-02-27T03:24:06.188Z"
   },
   {
    "duration": 58,
    "start_time": "2023-02-27T03:24:06.289Z"
   },
   {
    "duration": 12,
    "start_time": "2023-02-27T03:24:06.350Z"
   },
   {
    "duration": 4,
    "start_time": "2023-02-27T03:24:06.364Z"
   },
   {
    "duration": 6,
    "start_time": "2023-02-27T03:24:06.369Z"
   },
   {
    "duration": 68,
    "start_time": "2023-02-27T03:24:06.377Z"
   },
   {
    "duration": 19,
    "start_time": "2023-02-27T03:24:06.447Z"
   },
   {
    "duration": 4,
    "start_time": "2023-02-27T03:24:06.468Z"
   },
   {
    "duration": 69,
    "start_time": "2023-02-27T03:24:06.476Z"
   },
   {
    "duration": 12,
    "start_time": "2023-02-27T03:24:06.548Z"
   },
   {
    "duration": 16,
    "start_time": "2023-02-27T03:24:06.562Z"
   },
   {
    "duration": 66,
    "start_time": "2023-02-27T03:24:06.580Z"
   },
   {
    "duration": 12,
    "start_time": "2023-02-27T03:24:06.648Z"
   },
   {
    "duration": 6,
    "start_time": "2023-02-27T03:24:06.661Z"
   },
   {
    "duration": 12,
    "start_time": "2023-02-27T03:24:06.669Z"
   },
   {
    "duration": 65,
    "start_time": "2023-02-27T03:24:06.683Z"
   },
   {
    "duration": 9,
    "start_time": "2023-02-27T03:24:06.750Z"
   },
   {
    "duration": 16,
    "start_time": "2023-02-27T03:24:06.761Z"
   },
   {
    "duration": 74,
    "start_time": "2023-02-27T03:24:06.779Z"
   },
   {
    "duration": 17,
    "start_time": "2023-02-27T03:24:06.855Z"
   },
   {
    "duration": 75,
    "start_time": "2023-02-27T03:24:06.874Z"
   },
   {
    "duration": 2510,
    "start_time": "2023-02-27T03:35:12.866Z"
   },
   {
    "duration": 105,
    "start_time": "2023-02-27T03:35:15.378Z"
   },
   {
    "duration": 77,
    "start_time": "2023-02-27T03:35:15.485Z"
   },
   {
    "duration": 15,
    "start_time": "2023-02-27T03:35:15.566Z"
   },
   {
    "duration": 3,
    "start_time": "2023-02-27T03:35:15.583Z"
   },
   {
    "duration": 5,
    "start_time": "2023-02-27T03:35:15.645Z"
   },
   {
    "duration": 18,
    "start_time": "2023-02-27T03:35:15.651Z"
   },
   {
    "duration": 75,
    "start_time": "2023-02-27T03:35:15.671Z"
   },
   {
    "duration": 4,
    "start_time": "2023-02-27T03:35:15.748Z"
   },
   {
    "duration": 13,
    "start_time": "2023-02-27T03:35:15.754Z"
   },
   {
    "duration": 8,
    "start_time": "2023-02-27T03:35:15.768Z"
   },
   {
    "duration": 74,
    "start_time": "2023-02-27T03:35:15.777Z"
   },
   {
    "duration": 13,
    "start_time": "2023-02-27T03:35:15.853Z"
   },
   {
    "duration": 14,
    "start_time": "2023-02-27T03:35:15.868Z"
   },
   {
    "duration": 62,
    "start_time": "2023-02-27T03:35:15.884Z"
   },
   {
    "duration": 12,
    "start_time": "2023-02-27T03:35:15.948Z"
   },
   {
    "duration": 7,
    "start_time": "2023-02-27T03:35:15.961Z"
   },
   {
    "duration": 5,
    "start_time": "2023-02-27T03:35:15.970Z"
   },
   {
    "duration": 76,
    "start_time": "2023-02-27T03:35:15.977Z"
   },
   {
    "duration": 25,
    "start_time": "2023-02-27T03:35:16.055Z"
   },
   {
    "duration": 77,
    "start_time": "2023-02-27T03:35:16.082Z"
   },
   {
    "duration": 18,
    "start_time": "2023-02-27T03:35:16.161Z"
   },
   {
    "duration": 427081,
    "start_time": "2023-02-27T03:35:16.180Z"
   },
   {
    "duration": 2113,
    "start_time": "2023-02-27T03:42:23.263Z"
   },
   {
    "duration": 13379,
    "start_time": "2023-02-27T03:42:25.378Z"
   },
   {
    "duration": 296,
    "start_time": "2023-02-27T03:42:38.760Z"
   },
   {
    "duration": 4,
    "start_time": "2023-02-27T03:42:39.059Z"
   },
   {
    "duration": 85,
    "start_time": "2023-02-27T03:42:39.067Z"
   },
   {
    "duration": 1306,
    "start_time": "2023-02-27T03:42:39.153Z"
   },
   {
    "duration": 1126,
    "start_time": "2023-02-27T03:42:40.461Z"
   },
   {
    "duration": 10,
    "start_time": "2023-02-27T03:42:41.646Z"
   },
   {
    "duration": 187,
    "start_time": "2023-02-27T03:42:41.658Z"
   },
   {
    "duration": 29,
    "start_time": "2023-02-27T03:42:41.847Z"
   },
   {
    "duration": 68,
    "start_time": "2023-02-27T03:42:41.878Z"
   },
   {
    "duration": 10,
    "start_time": "2023-02-27T03:42:41.948Z"
   },
   {
    "duration": 99,
    "start_time": "2023-02-27T03:42:41.961Z"
   },
   {
    "duration": 86,
    "start_time": "2023-02-27T03:42:42.063Z"
   },
   {
    "duration": 104,
    "start_time": "2023-02-27T03:42:42.151Z"
   },
   {
    "duration": 88,
    "start_time": "2023-02-27T03:42:42.257Z"
   },
   {
    "duration": 98,
    "start_time": "2023-02-27T03:42:42.348Z"
   },
   {
    "duration": 301,
    "start_time": "2023-02-27T03:42:42.448Z"
   },
   {
    "duration": 433,
    "start_time": "2023-02-27T03:42:42.751Z"
   },
   {
    "duration": 60,
    "start_time": "2023-02-27T03:42:43.186Z"
   },
   {
    "duration": 97,
    "start_time": "2023-02-27T03:42:43.248Z"
   },
   {
    "duration": 59,
    "start_time": "2023-02-27T03:42:43.348Z"
   },
   {
    "duration": 49,
    "start_time": "2023-02-27T03:42:43.408Z"
   },
   {
    "duration": 209,
    "start_time": "2023-02-27T03:42:43.459Z"
   },
   {
    "duration": 204,
    "start_time": "2023-02-27T03:42:43.669Z"
   },
   {
    "duration": 271,
    "start_time": "2023-02-27T03:42:43.874Z"
   },
   {
    "duration": 0,
    "start_time": "2023-02-27T03:42:44.147Z"
   },
   {
    "duration": 0,
    "start_time": "2023-02-27T03:42:44.148Z"
   },
   {
    "duration": 1,
    "start_time": "2023-02-27T03:42:44.149Z"
   },
   {
    "duration": 0,
    "start_time": "2023-02-27T03:42:44.152Z"
   },
   {
    "duration": 0,
    "start_time": "2023-02-27T03:42:44.153Z"
   },
   {
    "duration": 0,
    "start_time": "2023-02-27T03:42:44.154Z"
   },
   {
    "duration": 0,
    "start_time": "2023-02-27T03:42:44.155Z"
   },
   {
    "duration": 0,
    "start_time": "2023-02-27T03:42:44.157Z"
   },
   {
    "duration": 0,
    "start_time": "2023-02-27T03:42:44.158Z"
   },
   {
    "duration": 0,
    "start_time": "2023-02-27T03:42:44.159Z"
   },
   {
    "duration": 0,
    "start_time": "2023-02-27T03:42:44.161Z"
   },
   {
    "duration": 1,
    "start_time": "2023-02-27T03:42:44.162Z"
   },
   {
    "duration": 10,
    "start_time": "2023-02-27T03:50:01.985Z"
   },
   {
    "duration": 98,
    "start_time": "2023-02-27T03:50:03.260Z"
   },
   {
    "duration": 18,
    "start_time": "2023-02-27T03:50:03.735Z"
   },
   {
    "duration": 477,
    "start_time": "2023-02-27T03:50:04.382Z"
   },
   {
    "duration": 85,
    "start_time": "2023-02-27T03:50:04.861Z"
   },
   {
    "duration": 99,
    "start_time": "2023-02-27T03:50:04.948Z"
   },
   {
    "duration": 196,
    "start_time": "2023-02-27T03:50:05.049Z"
   },
   {
    "duration": 427,
    "start_time": "2023-02-27T03:50:05.321Z"
   },
   {
    "duration": 35,
    "start_time": "2023-02-27T03:50:05.750Z"
   },
   {
    "duration": 11,
    "start_time": "2023-02-27T03:50:05.846Z"
   },
   {
    "duration": 18,
    "start_time": "2023-02-27T03:50:05.865Z"
   },
   {
    "duration": 26,
    "start_time": "2023-02-27T03:50:06.025Z"
   },
   {
    "duration": 50,
    "start_time": "2023-02-27T07:16:07.171Z"
   },
   {
    "duration": 1634,
    "start_time": "2023-02-27T07:16:15.836Z"
   },
   {
    "duration": 185,
    "start_time": "2023-02-27T07:16:17.771Z"
   },
   {
    "duration": 5,
    "start_time": "2023-02-27T07:16:22.611Z"
   },
   {
    "duration": 6,
    "start_time": "2023-02-27T07:16:32.982Z"
   },
   {
    "duration": 5,
    "start_time": "2023-02-27T07:16:34.854Z"
   },
   {
    "duration": 28,
    "start_time": "2023-02-27T07:16:35.224Z"
   },
   {
    "duration": 6,
    "start_time": "2023-02-27T07:16:39.927Z"
   },
   {
    "duration": 10,
    "start_time": "2023-02-27T07:16:40.505Z"
   },
   {
    "duration": 14,
    "start_time": "2023-02-27T07:16:44.669Z"
   },
   {
    "duration": 4,
    "start_time": "2023-02-27T07:16:47.353Z"
   },
   {
    "duration": 11,
    "start_time": "2023-02-27T07:16:47.694Z"
   },
   {
    "duration": 4,
    "start_time": "2023-02-27T07:16:48.184Z"
   },
   {
    "duration": 12,
    "start_time": "2023-02-27T07:16:48.751Z"
   },
   {
    "duration": 4,
    "start_time": "2023-02-27T07:16:49.324Z"
   },
   {
    "duration": 3,
    "start_time": "2023-02-27T07:17:18.503Z"
   },
   {
    "duration": 9,
    "start_time": "2023-02-27T07:17:18.914Z"
   },
   {
    "duration": 25,
    "start_time": "2023-02-27T07:17:19.494Z"
   },
   {
    "duration": 16,
    "start_time": "2023-02-27T07:17:20.187Z"
   },
   {
    "duration": 20,
    "start_time": "2023-02-27T07:17:20.889Z"
   },
   {
    "duration": 97,
    "start_time": "2023-02-27T07:18:16.481Z"
   },
   {
    "duration": 75,
    "start_time": "2023-02-27T07:19:22.037Z"
   },
   {
    "duration": 256,
    "start_time": "2023-02-27T07:19:22.560Z"
   },
   {
    "duration": 83,
    "start_time": "2023-02-27T07:19:54.093Z"
   },
   {
    "duration": 4,
    "start_time": "2023-02-27T07:22:46.859Z"
   },
   {
    "duration": 261810,
    "start_time": "2023-02-27T07:22:48.370Z"
   },
   {
    "duration": 5,
    "start_time": "2023-02-27T07:27:10.182Z"
   },
   {
    "duration": 938,
    "start_time": "2023-02-27T07:27:10.191Z"
   },
   {
    "duration": 114,
    "start_time": "2023-02-27T07:27:35.637Z"
   },
   {
    "duration": 1502,
    "start_time": "2023-02-27T07:27:42.574Z"
   },
   {
    "duration": 97,
    "start_time": "2023-02-27T07:27:46.402Z"
   },
   {
    "duration": 12586,
    "start_time": "2023-02-27T07:27:51.343Z"
   },
   {
    "duration": 87,
    "start_time": "2023-02-27T07:29:27.263Z"
   },
   {
    "duration": 11,
    "start_time": "2023-02-27T07:29:34.906Z"
   },
   {
    "duration": 1431,
    "start_time": "2023-02-27T07:33:47.707Z"
   },
   {
    "duration": 17379,
    "start_time": "2023-02-27T07:33:53.746Z"
   },
   {
    "duration": 15298,
    "start_time": "2023-02-27T07:34:36.233Z"
   },
   {
    "duration": 1634,
    "start_time": "2023-02-27T07:34:51.535Z"
   },
   {
    "duration": 6,
    "start_time": "2023-02-27T07:37:53.909Z"
   },
   {
    "duration": 1222,
    "start_time": "2023-02-27T07:37:57.700Z"
   },
   {
    "duration": 12,
    "start_time": "2023-02-27T07:40:16.436Z"
   },
   {
    "duration": 8,
    "start_time": "2023-02-27T07:40:20.676Z"
   },
   {
    "duration": 18,
    "start_time": "2023-02-27T07:40:21.023Z"
   },
   {
    "duration": 10,
    "start_time": "2023-02-27T07:41:03.105Z"
   },
   {
    "duration": 13,
    "start_time": "2023-02-27T07:41:08.321Z"
   },
   {
    "duration": 15,
    "start_time": "2023-02-27T07:41:08.626Z"
   },
   {
    "duration": 11,
    "start_time": "2023-02-27T07:41:09.377Z"
   },
   {
    "duration": 10,
    "start_time": "2023-02-27T07:41:09.961Z"
   },
   {
    "duration": 14,
    "start_time": "2023-02-27T07:41:10.400Z"
   },
   {
    "duration": 74,
    "start_time": "2023-02-27T07:43:28.608Z"
   },
   {
    "duration": 3,
    "start_time": "2023-02-27T07:43:36.799Z"
   },
   {
    "duration": 6,
    "start_time": "2023-02-27T07:43:52.962Z"
   },
   {
    "duration": 5,
    "start_time": "2023-02-27T07:43:53.421Z"
   },
   {
    "duration": 16,
    "start_time": "2023-02-27T07:43:55.229Z"
   },
   {
    "duration": 13,
    "start_time": "2023-02-27T07:43:57.231Z"
   },
   {
    "duration": 101,
    "start_time": "2023-02-27T07:44:00.831Z"
   },
   {
    "duration": 104,
    "start_time": "2023-02-27T07:44:01.357Z"
   },
   {
    "duration": 9,
    "start_time": "2023-03-01T11:17:45.671Z"
   },
   {
    "duration": 46,
    "start_time": "2023-03-01T11:17:46.428Z"
   },
   {
    "duration": 1490,
    "start_time": "2023-03-01T11:18:21.707Z"
   },
   {
    "duration": 86,
    "start_time": "2023-03-01T11:18:23.199Z"
   },
   {
    "duration": 12,
    "start_time": "2023-03-01T11:18:23.287Z"
   },
   {
    "duration": 12,
    "start_time": "2023-03-01T11:18:23.301Z"
   },
   {
    "duration": 3,
    "start_time": "2023-03-01T11:18:23.315Z"
   },
   {
    "duration": 6,
    "start_time": "2023-03-01T11:18:26.507Z"
   },
   {
    "duration": 7,
    "start_time": "2023-03-01T11:18:26.892Z"
   },
   {
    "duration": 22,
    "start_time": "2023-03-01T11:18:27.079Z"
   },
   {
    "duration": 5,
    "start_time": "2023-03-01T11:18:28.055Z"
   },
   {
    "duration": 5,
    "start_time": "2023-03-01T11:18:28.657Z"
   },
   {
    "duration": 8,
    "start_time": "2023-03-01T11:18:29.187Z"
   },
   {
    "duration": 10,
    "start_time": "2023-03-01T11:18:29.935Z"
   },
   {
    "duration": 3,
    "start_time": "2023-03-01T11:18:32.511Z"
   },
   {
    "duration": 11,
    "start_time": "2023-03-01T11:18:32.793Z"
   },
   {
    "duration": 4,
    "start_time": "2023-03-01T11:18:33.004Z"
   },
   {
    "duration": 10,
    "start_time": "2023-03-01T11:18:33.212Z"
   },
   {
    "duration": 4,
    "start_time": "2023-03-01T11:18:36.104Z"
   },
   {
    "duration": 2,
    "start_time": "2023-03-01T11:18:36.937Z"
   },
   {
    "duration": 9,
    "start_time": "2023-03-01T11:18:37.460Z"
   },
   {
    "duration": 21,
    "start_time": "2023-03-01T11:18:37.949Z"
   },
   {
    "duration": 16,
    "start_time": "2023-03-01T11:18:40.338Z"
   },
   {
    "duration": 16,
    "start_time": "2023-03-01T11:18:40.723Z"
   },
   {
    "duration": 80,
    "start_time": "2023-03-01T11:18:42.628Z"
   },
   {
    "duration": 70,
    "start_time": "2023-03-01T11:18:43.268Z"
   },
   {
    "duration": 3,
    "start_time": "2023-03-01T11:18:46.880Z"
   },
   {
    "duration": 1612,
    "start_time": "2023-03-01T11:18:52.834Z"
   },
   {
    "duration": 9990,
    "start_time": "2023-03-01T11:18:55.101Z"
   },
   {
    "duration": 4,
    "start_time": "2023-03-01T11:19:12.509Z"
   },
   {
    "duration": 1048,
    "start_time": "2023-03-01T11:19:15.647Z"
   },
   {
    "duration": 735,
    "start_time": "2023-03-01T11:19:38.264Z"
   },
   {
    "duration": 7,
    "start_time": "2023-03-01T11:19:39.391Z"
   },
   {
    "duration": 29,
    "start_time": "2023-03-01T11:19:44.743Z"
   },
   {
    "duration": 38,
    "start_time": "2023-03-01T11:19:46.106Z"
   },
   {
    "duration": 7,
    "start_time": "2023-03-01T11:19:46.882Z"
   },
   {
    "duration": 8,
    "start_time": "2023-03-01T11:19:48.018Z"
   },
   {
    "duration": 41,
    "start_time": "2023-03-01T11:19:49.377Z"
   },
   {
    "duration": 18,
    "start_time": "2023-03-01T11:19:50.045Z"
   },
   {
    "duration": 8,
    "start_time": "2023-03-01T11:19:50.963Z"
   },
   {
    "duration": 7,
    "start_time": "2023-03-01T11:19:51.614Z"
   },
   {
    "duration": 4,
    "start_time": "2023-03-01T11:19:52.757Z"
   },
   {
    "duration": 122,
    "start_time": "2023-03-01T11:19:53.193Z"
   },
   {
    "duration": 138,
    "start_time": "2023-03-01T11:19:57.556Z"
   },
   {
    "duration": 5,
    "start_time": "2023-03-01T11:20:01.064Z"
   },
   {
    "duration": 5,
    "start_time": "2023-03-01T11:20:01.765Z"
   },
   {
    "duration": 12,
    "start_time": "2023-03-01T11:20:02.350Z"
   },
   {
    "duration": 11,
    "start_time": "2023-03-01T11:20:03.460Z"
   },
   {
    "duration": 77,
    "start_time": "2023-03-01T11:20:11.438Z"
   },
   {
    "duration": 132,
    "start_time": "2023-03-01T11:20:12.343Z"
   },
   {
    "duration": 87,
    "start_time": "2023-03-01T11:20:13.926Z"
   },
   {
    "duration": 9,
    "start_time": "2023-03-01T11:20:14.450Z"
   },
   {
    "duration": 46,
    "start_time": "2023-03-01T11:20:16.551Z"
   },
   {
    "duration": 9,
    "start_time": "2023-03-01T11:20:16.929Z"
   },
   {
    "duration": 299,
    "start_time": "2023-03-01T11:20:17.381Z"
   },
   {
    "duration": 15,
    "start_time": "2023-03-01T11:20:17.747Z"
   },
   {
    "duration": 28,
    "start_time": "2023-03-01T11:20:18.099Z"
   },
   {
    "duration": 7,
    "start_time": "2023-03-01T11:20:19.085Z"
   },
   {
    "duration": 283,
    "start_time": "2023-03-01T11:20:20.805Z"
   },
   {
    "duration": 29,
    "start_time": "2023-03-01T11:20:22.022Z"
   },
   {
    "duration": 9,
    "start_time": "2023-03-01T11:20:22.931Z"
   },
   {
    "duration": 6,
    "start_time": "2023-03-01T11:20:24.715Z"
   },
   {
    "duration": 16,
    "start_time": "2023-03-01T11:20:25.440Z"
   },
   {
    "duration": 25,
    "start_time": "2023-03-01T11:21:00.037Z"
   },
   {
    "duration": 8,
    "start_time": "2023-03-01T11:21:01.242Z"
   },
   {
    "duration": 12,
    "start_time": "2023-03-01T11:21:02.149Z"
   },
   {
    "duration": 10,
    "start_time": "2023-03-01T11:21:52.579Z"
   },
   {
    "duration": 263555,
    "start_time": "2023-03-01T11:23:06.851Z"
   },
   {
    "duration": 5,
    "start_time": "2023-03-01T11:28:14.372Z"
   },
   {
    "duration": 4,
    "start_time": "2023-03-01T11:28:15.173Z"
   },
   {
    "duration": 1531,
    "start_time": "2023-03-01T11:38:07.267Z"
   },
   {
    "duration": 1538,
    "start_time": "2023-03-01T11:38:14.820Z"
   },
   {
    "duration": 1525,
    "start_time": "2023-03-01T11:38:27.767Z"
   },
   {
    "duration": 261019,
    "start_time": "2023-03-01T11:38:32.597Z"
   },
   {
    "duration": 391,
    "start_time": "2023-03-01T11:42:54.010Z"
   },
   {
    "duration": 215,
    "start_time": "2023-03-01T11:44:06.125Z"
   },
   {
    "duration": 31,
    "start_time": "2023-03-01T11:44:06.670Z"
   },
   {
    "duration": 22,
    "start_time": "2023-03-01T11:44:07.516Z"
   },
   {
    "duration": 7,
    "start_time": "2023-03-01T11:44:08.222Z"
   },
   {
    "duration": 15,
    "start_time": "2023-03-01T11:44:09.033Z"
   },
   {
    "duration": 8,
    "start_time": "2023-03-01T11:45:12.005Z"
   },
   {
    "duration": 29,
    "start_time": "2023-03-01T11:45:14.394Z"
   },
   {
    "duration": 36,
    "start_time": "2023-03-01T11:50:18.714Z"
   },
   {
    "duration": 37,
    "start_time": "2023-03-01T11:50:42.157Z"
   },
   {
    "duration": 1152,
    "start_time": "2023-03-01T11:51:02.574Z"
   },
   {
    "duration": 14,
    "start_time": "2023-03-01T11:51:13.539Z"
   },
   {
    "duration": 1945,
    "start_time": "2023-03-01T11:54:33.764Z"
   },
   {
    "duration": 8,
    "start_time": "2023-03-01T11:54:46.501Z"
   },
   {
    "duration": 328,
    "start_time": "2023-03-01T12:01:54.991Z"
   },
   {
    "duration": 0,
    "start_time": "2023-03-01T12:34:08.535Z"
   },
   {
    "duration": 0,
    "start_time": "2023-03-01T12:34:08.541Z"
   },
   {
    "duration": 0,
    "start_time": "2023-03-01T12:34:08.542Z"
   },
   {
    "duration": 0,
    "start_time": "2023-03-01T12:34:08.545Z"
   },
   {
    "duration": 0,
    "start_time": "2023-03-01T12:34:08.546Z"
   },
   {
    "duration": 0,
    "start_time": "2023-03-01T12:34:08.547Z"
   },
   {
    "duration": 0,
    "start_time": "2023-03-01T12:34:08.548Z"
   },
   {
    "duration": 0,
    "start_time": "2023-03-01T12:34:08.549Z"
   },
   {
    "duration": 0,
    "start_time": "2023-03-01T12:34:08.550Z"
   },
   {
    "duration": 13,
    "start_time": "2023-03-01T12:34:11.224Z"
   },
   {
    "duration": 7,
    "start_time": "2023-03-01T12:34:13.489Z"
   },
   {
    "duration": 135,
    "start_time": "2023-03-01T12:35:55.270Z"
   },
   {
    "duration": 370,
    "start_time": "2023-03-01T12:35:56.843Z"
   },
   {
    "duration": 876,
    "start_time": "2023-03-01T12:37:48.712Z"
   },
   {
    "duration": 5,
    "start_time": "2023-03-01T12:41:23.586Z"
   },
   {
    "duration": 5,
    "start_time": "2023-03-01T12:42:07.526Z"
   },
   {
    "duration": 5,
    "start_time": "2023-03-01T12:42:09.702Z"
   },
   {
    "duration": 6,
    "start_time": "2023-03-01T12:42:19.153Z"
   },
   {
    "duration": 7,
    "start_time": "2023-03-01T12:42:30.433Z"
   },
   {
    "duration": 6,
    "start_time": "2023-03-01T12:42:31.690Z"
   },
   {
    "duration": 6,
    "start_time": "2023-03-01T12:43:43.697Z"
   },
   {
    "duration": 5,
    "start_time": "2023-03-01T12:43:46.121Z"
   },
   {
    "duration": 6,
    "start_time": "2023-03-01T12:43:48.487Z"
   },
   {
    "duration": 7,
    "start_time": "2023-03-01T12:45:32.330Z"
   },
   {
    "duration": 45,
    "start_time": "2023-03-01T12:45:32.811Z"
   },
   {
    "duration": 5,
    "start_time": "2023-03-01T12:45:33.382Z"
   },
   {
    "duration": 5,
    "start_time": "2023-03-01T12:45:42.226Z"
   },
   {
    "duration": 5,
    "start_time": "2023-03-01T12:45:43.170Z"
   },
   {
    "duration": 47,
    "start_time": "2023-03-01T12:46:51.525Z"
   },
   {
    "duration": 264300,
    "start_time": "2023-03-01T12:47:18.997Z"
   },
   {
    "duration": 6,
    "start_time": "2023-03-01T12:52:58.393Z"
   },
   {
    "duration": 6,
    "start_time": "2023-03-01T12:53:00.197Z"
   },
   {
    "duration": 3,
    "start_time": "2023-03-01T12:53:01.716Z"
   },
   {
    "duration": 5,
    "start_time": "2023-03-01T12:54:30.162Z"
   },
   {
    "duration": 857,
    "start_time": "2023-03-01T12:54:40.437Z"
   },
   {
    "duration": 7,
    "start_time": "2023-03-01T13:01:14.334Z"
   },
   {
    "duration": 5,
    "start_time": "2023-03-01T13:01:14.817Z"
   },
   {
    "duration": 141,
    "start_time": "2023-03-01T13:01:15.276Z"
   },
   {
    "duration": 312,
    "start_time": "2023-03-01T13:01:16.337Z"
   },
   {
    "duration": 45,
    "start_time": "2023-03-01T13:01:24.237Z"
   },
   {
    "duration": 342699,
    "start_time": "2023-03-01T13:01:30.711Z"
   },
   {
    "duration": 241,
    "start_time": "2023-03-01T13:07:33.199Z"
   },
   {
    "duration": 24,
    "start_time": "2023-03-01T13:07:33.721Z"
   },
   {
    "duration": 213,
    "start_time": "2023-03-01T13:07:36.341Z"
   },
   {
    "duration": 22,
    "start_time": "2023-03-01T13:07:37.388Z"
   },
   {
    "duration": 25,
    "start_time": "2023-03-01T13:07:55.030Z"
   },
   {
    "duration": 20,
    "start_time": "2023-03-01T13:08:05.445Z"
   },
   {
    "duration": 8,
    "start_time": "2023-03-01T13:08:07.081Z"
   },
   {
    "duration": 12,
    "start_time": "2023-03-01T13:08:08.921Z"
   },
   {
    "duration": 17,
    "start_time": "2023-03-01T13:08:11.003Z"
   },
   {
    "duration": 6,
    "start_time": "2023-03-01T13:09:08.159Z"
   },
   {
    "duration": 16,
    "start_time": "2023-03-01T13:09:09.391Z"
   },
   {
    "duration": 12,
    "start_time": "2023-03-01T13:09:17.753Z"
   },
   {
    "duration": 6,
    "start_time": "2023-03-01T13:09:33.457Z"
   },
   {
    "duration": 13,
    "start_time": "2023-03-01T13:09:35.057Z"
   },
   {
    "duration": 14,
    "start_time": "2023-03-01T13:09:37.821Z"
   },
   {
    "duration": 11,
    "start_time": "2023-03-01T13:09:46.653Z"
   },
   {
    "duration": 15,
    "start_time": "2023-03-01T13:09:48.030Z"
   },
   {
    "duration": 196,
    "start_time": "2023-03-01T13:09:51.075Z"
   },
   {
    "duration": 23,
    "start_time": "2023-03-01T13:09:52.130Z"
   },
   {
    "duration": 20,
    "start_time": "2023-03-01T13:09:53.491Z"
   },
   {
    "duration": 6,
    "start_time": "2023-03-01T13:09:54.471Z"
   },
   {
    "duration": 14,
    "start_time": "2023-03-01T13:09:55.504Z"
   },
   {
    "duration": 7,
    "start_time": "2023-03-01T13:10:19.706Z"
   },
   {
    "duration": 9,
    "start_time": "2023-03-01T13:10:21.316Z"
   },
   {
    "duration": 3,
    "start_time": "2023-03-01T13:14:04.525Z"
   },
   {
    "duration": 3,
    "start_time": "2023-03-01T13:14:05.867Z"
   },
   {
    "duration": 1600,
    "start_time": "2023-03-01T13:15:32.488Z"
   },
   {
    "duration": 17611,
    "start_time": "2023-03-01T13:15:34.575Z"
   },
   {
    "duration": 4,
    "start_time": "2023-03-01T13:17:11.652Z"
   },
   {
    "duration": 3,
    "start_time": "2023-03-01T13:17:13.130Z"
   },
   {
    "duration": 343446,
    "start_time": "2023-03-01T13:17:16.463Z"
   },
   {
    "duration": 1076,
    "start_time": "2023-03-01T13:22:59.911Z"
   },
   {
    "duration": 0,
    "start_time": "2023-03-01T13:23:00.988Z"
   },
   {
    "duration": 0,
    "start_time": "2023-03-01T13:23:00.990Z"
   },
   {
    "duration": 0,
    "start_time": "2023-03-01T13:23:00.991Z"
   },
   {
    "duration": 46,
    "start_time": "2023-03-01T13:23:36.304Z"
   },
   {
    "duration": 12,
    "start_time": "2023-03-01T13:23:41.024Z"
   },
   {
    "duration": 11,
    "start_time": "2023-03-01T13:23:47.261Z"
   },
   {
    "duration": 1914,
    "start_time": "2023-03-01T13:24:30.680Z"
   },
   {
    "duration": 1108,
    "start_time": "2023-03-01T13:25:34.260Z"
   },
   {
    "duration": 3,
    "start_time": "2023-03-01T13:25:45.483Z"
   },
   {
    "duration": 4,
    "start_time": "2023-03-01T13:25:46.860Z"
   },
   {
    "duration": 187,
    "start_time": "2023-03-01T13:28:39.127Z"
   },
   {
    "duration": 24,
    "start_time": "2023-03-01T13:28:40.158Z"
   },
   {
    "duration": 202,
    "start_time": "2023-03-01T13:28:57.035Z"
   },
   {
    "duration": 28,
    "start_time": "2023-03-01T13:28:57.544Z"
   },
   {
    "duration": 22,
    "start_time": "2023-03-01T13:29:36.322Z"
   },
   {
    "duration": 6,
    "start_time": "2023-03-01T13:29:38.227Z"
   },
   {
    "duration": 5,
    "start_time": "2023-03-01T13:29:39.379Z"
   },
   {
    "duration": 9,
    "start_time": "2023-03-01T13:29:40.605Z"
   },
   {
    "duration": 79,
    "start_time": "2023-03-01T13:36:50.136Z"
   },
   {
    "duration": 79,
    "start_time": "2023-03-01T13:36:50.680Z"
   },
   {
    "duration": 12,
    "start_time": "2023-03-01T13:36:57.462Z"
   },
   {
    "duration": 12,
    "start_time": "2023-03-01T13:36:58.382Z"
   },
   {
    "duration": 17,
    "start_time": "2023-03-01T13:37:00.357Z"
   },
   {
    "duration": 6,
    "start_time": "2023-03-01T13:37:01.660Z"
   },
   {
    "duration": 7,
    "start_time": "2023-03-01T13:37:03.177Z"
   },
   {
    "duration": 351,
    "start_time": "2023-03-01T13:37:07.071Z"
   },
   {
    "duration": 4,
    "start_time": "2023-03-01T13:37:11.936Z"
   },
   {
    "duration": 128,
    "start_time": "2023-03-01T13:37:12.402Z"
   },
   {
    "duration": 6,
    "start_time": "2023-03-01T13:37:17.613Z"
   },
   {
    "duration": 5,
    "start_time": "2023-03-01T13:37:18.751Z"
   },
   {
    "duration": 6,
    "start_time": "2023-03-01T13:37:20.347Z"
   },
   {
    "duration": 878,
    "start_time": "2023-03-01T13:37:34.015Z"
   },
   {
    "duration": 5,
    "start_time": "2023-03-01T13:37:38.639Z"
   },
   {
    "duration": 6,
    "start_time": "2023-03-01T13:37:50.154Z"
   },
   {
    "duration": 51,
    "start_time": "2023-03-01T13:37:50.857Z"
   },
   {
    "duration": 15,
    "start_time": "2023-03-01T13:37:50.926Z"
   },
   {
    "duration": 11,
    "start_time": "2023-03-01T13:37:51.651Z"
   },
   {
    "duration": 73,
    "start_time": "2023-03-01T13:37:52.309Z"
   },
   {
    "duration": 4,
    "start_time": "2023-03-01T13:37:52.995Z"
   },
   {
    "duration": 4,
    "start_time": "2023-03-01T13:37:58.878Z"
   },
   {
    "duration": 4,
    "start_time": "2023-03-01T13:38:00.355Z"
   },
   {
    "duration": 4,
    "start_time": "2023-03-01T13:38:01.255Z"
   },
   {
    "duration": 18,
    "start_time": "2023-03-01T13:38:02.643Z"
   },
   {
    "duration": 4,
    "start_time": "2023-03-01T13:38:03.790Z"
   },
   {
    "duration": 5,
    "start_time": "2023-03-01T13:38:05.316Z"
   },
   {
    "duration": 7,
    "start_time": "2023-03-01T13:38:05.817Z"
   },
   {
    "duration": 11,
    "start_time": "2023-03-01T13:38:06.321Z"
   },
   {
    "duration": 6,
    "start_time": "2023-03-01T13:38:06.878Z"
   },
   {
    "duration": 13,
    "start_time": "2023-03-01T13:38:25.828Z"
   },
   {
    "duration": 4,
    "start_time": "2023-03-01T13:38:26.867Z"
   },
   {
    "duration": 11,
    "start_time": "2023-03-01T13:38:28.561Z"
   },
   {
    "duration": 3,
    "start_time": "2023-03-01T13:38:31.623Z"
   },
   {
    "duration": 15,
    "start_time": "2023-03-01T13:38:32.937Z"
   },
   {
    "duration": 3,
    "start_time": "2023-03-01T13:38:35.374Z"
   },
   {
    "duration": 3,
    "start_time": "2023-03-01T13:38:38.030Z"
   },
   {
    "duration": 9,
    "start_time": "2023-03-01T13:38:38.579Z"
   },
   {
    "duration": 20,
    "start_time": "2023-03-01T13:38:40.111Z"
   },
   {
    "duration": 20,
    "start_time": "2023-03-01T13:38:41.643Z"
   },
   {
    "duration": 53,
    "start_time": "2023-03-01T13:38:42.172Z"
   },
   {
    "duration": 20,
    "start_time": "2023-03-01T13:38:42.613Z"
   },
   {
    "duration": 25,
    "start_time": "2023-03-01T13:38:47.000Z"
   },
   {
    "duration": 72,
    "start_time": "2023-03-01T13:38:48.702Z"
   },
   {
    "duration": 103,
    "start_time": "2023-03-01T13:38:51.783Z"
   },
   {
    "duration": 3,
    "start_time": "2023-03-01T13:38:54.765Z"
   },
   {
    "duration": 270308,
    "start_time": "2023-03-01T13:39:06.271Z"
   },
   {
    "duration": 1564,
    "start_time": "2023-03-02T03:58:01.678Z"
   },
   {
    "duration": 199,
    "start_time": "2023-03-02T03:58:03.245Z"
   },
   {
    "duration": 13,
    "start_time": "2023-03-02T03:58:03.445Z"
   },
   {
    "duration": 10,
    "start_time": "2023-03-02T03:58:03.460Z"
   },
   {
    "duration": 4,
    "start_time": "2023-03-02T03:58:03.472Z"
   },
   {
    "duration": 14,
    "start_time": "2023-03-02T03:58:03.477Z"
   },
   {
    "duration": 26,
    "start_time": "2023-03-02T03:58:03.492Z"
   },
   {
    "duration": 18,
    "start_time": "2023-03-02T03:58:03.520Z"
   },
   {
    "duration": 3,
    "start_time": "2023-03-02T03:58:03.540Z"
   },
   {
    "duration": 6,
    "start_time": "2023-03-02T03:58:03.544Z"
   },
   {
    "duration": 7,
    "start_time": "2023-03-02T03:58:03.551Z"
   },
   {
    "duration": 9,
    "start_time": "2023-03-02T03:58:03.560Z"
   },
   {
    "duration": 5,
    "start_time": "2023-03-02T03:58:03.570Z"
   },
   {
    "duration": 20,
    "start_time": "2023-03-02T03:58:03.578Z"
   },
   {
    "duration": 5,
    "start_time": "2023-03-02T03:58:03.599Z"
   },
   {
    "duration": 12,
    "start_time": "2023-03-02T03:58:03.605Z"
   },
   {
    "duration": 4,
    "start_time": "2023-03-02T03:58:03.619Z"
   },
   {
    "duration": 4,
    "start_time": "2023-03-02T03:58:03.624Z"
   },
   {
    "duration": 8,
    "start_time": "2023-03-02T03:58:03.629Z"
   },
   {
    "duration": 18,
    "start_time": "2023-03-02T03:58:03.639Z"
   },
   {
    "duration": 17,
    "start_time": "2023-03-02T03:58:03.686Z"
   },
   {
    "duration": 16,
    "start_time": "2023-03-02T03:58:03.704Z"
   },
   {
    "duration": 95,
    "start_time": "2023-03-02T03:58:03.721Z"
   },
   {
    "duration": 85,
    "start_time": "2023-03-02T03:58:03.817Z"
   },
   {
    "duration": 3,
    "start_time": "2023-03-02T03:58:03.903Z"
   },
   {
    "duration": 271467,
    "start_time": "2023-03-02T03:58:03.908Z"
   },
   {
    "duration": 1648,
    "start_time": "2023-03-02T04:02:35.386Z"
   },
   {
    "duration": 33271,
    "start_time": "2023-03-02T04:02:37.036Z"
   },
   {
    "duration": 84,
    "start_time": "2023-03-02T04:03:10.311Z"
   },
   {
    "duration": 1296,
    "start_time": "2023-03-02T04:03:10.397Z"
   },
   {
    "duration": 10,
    "start_time": "2023-03-02T04:03:11.694Z"
   },
   {
    "duration": 30,
    "start_time": "2023-03-02T04:03:11.786Z"
   },
   {
    "duration": 5,
    "start_time": "2023-03-02T04:03:11.817Z"
   },
   {
    "duration": 4,
    "start_time": "2023-03-02T04:03:11.823Z"
   },
   {
    "duration": 144,
    "start_time": "2023-03-02T04:03:11.828Z"
   },
   {
    "duration": 533,
    "start_time": "2023-03-02T04:03:11.973Z"
   },
   {
    "duration": 5,
    "start_time": "2023-03-02T04:03:12.508Z"
   },
   {
    "duration": 8,
    "start_time": "2023-03-02T04:03:12.514Z"
   },
   {
    "duration": 16,
    "start_time": "2023-03-02T04:03:12.523Z"
   },
   {
    "duration": 15,
    "start_time": "2023-03-02T04:03:12.540Z"
   },
   {
    "duration": 10,
    "start_time": "2023-03-02T04:03:12.559Z"
   },
   {
    "duration": 100,
    "start_time": "2023-03-02T04:03:12.570Z"
   },
   {
    "duration": 90,
    "start_time": "2023-03-02T04:03:12.672Z"
   },
   {
    "duration": 1927,
    "start_time": "2023-03-02T04:03:12.764Z"
   },
   {
    "duration": 380753,
    "start_time": "2023-03-02T04:03:14.692Z"
   },
   {
    "duration": 1171,
    "start_time": "2023-03-02T04:09:35.446Z"
   },
   {
    "duration": 4,
    "start_time": "2023-03-02T04:09:36.619Z"
   },
   {
    "duration": 6,
    "start_time": "2023-03-02T04:09:36.625Z"
   },
   {
    "duration": 248,
    "start_time": "2023-03-02T04:09:36.633Z"
   },
   {
    "duration": 34,
    "start_time": "2023-03-02T04:09:36.883Z"
   },
   {
    "duration": 25,
    "start_time": "2023-03-02T04:09:36.919Z"
   },
   {
    "duration": 7,
    "start_time": "2023-03-02T04:09:36.946Z"
   },
   {
    "duration": 12,
    "start_time": "2023-03-02T04:09:36.955Z"
   },
   {
    "duration": 28,
    "start_time": "2023-03-02T04:09:36.969Z"
   },
   {
    "duration": 82,
    "start_time": "2023-03-02T12:31:11.004Z"
   },
   {
    "duration": 1671,
    "start_time": "2023-03-02T12:31:17.150Z"
   },
   {
    "duration": 101,
    "start_time": "2023-03-02T12:31:18.823Z"
   },
   {
    "duration": 15,
    "start_time": "2023-03-02T12:31:18.926Z"
   },
   {
    "duration": 11,
    "start_time": "2023-03-02T12:31:18.943Z"
   },
   {
    "duration": 4,
    "start_time": "2023-03-02T12:31:18.956Z"
   },
   {
    "duration": 5,
    "start_time": "2023-03-02T12:31:19.676Z"
   },
   {
    "duration": 5,
    "start_time": "2023-03-02T12:31:20.067Z"
   },
   {
    "duration": 23,
    "start_time": "2023-03-02T12:31:20.442Z"
   },
   {
    "duration": 5,
    "start_time": "2023-03-02T12:31:20.817Z"
   },
   {
    "duration": 8,
    "start_time": "2023-03-02T12:31:21.226Z"
   },
   {
    "duration": 10,
    "start_time": "2023-03-02T12:31:21.445Z"
   },
   {
    "duration": 12,
    "start_time": "2023-03-02T12:31:21.807Z"
   },
   {
    "duration": 4,
    "start_time": "2023-03-02T12:31:21.983Z"
   },
   {
    "duration": 13,
    "start_time": "2023-03-02T12:31:22.395Z"
   },
   {
    "duration": 4,
    "start_time": "2023-03-02T12:31:22.599Z"
   },
   {
    "duration": 12,
    "start_time": "2023-03-02T12:31:23.014Z"
   },
   {
    "duration": 5,
    "start_time": "2023-03-02T12:31:23.277Z"
   },
   {
    "duration": 10,
    "start_time": "2023-03-02T12:32:01.109Z"
   },
   {
    "duration": 13,
    "start_time": "2023-03-02T12:32:03.154Z"
   },
   {
    "duration": 4,
    "start_time": "2023-03-02T12:32:03.549Z"
   },
   {
    "duration": 15,
    "start_time": "2023-03-02T12:32:04.547Z"
   },
   {
    "duration": 5,
    "start_time": "2023-03-02T12:32:05.096Z"
   },
   {
    "duration": 13,
    "start_time": "2023-03-02T12:32:06.155Z"
   },
   {
    "duration": 4,
    "start_time": "2023-03-02T12:32:07.183Z"
   },
   {
    "duration": 13,
    "start_time": "2023-03-02T12:32:42.172Z"
   },
   {
    "duration": 18,
    "start_time": "2023-03-02T12:32:43.183Z"
   },
   {
    "duration": 5,
    "start_time": "2023-03-02T12:32:44.043Z"
   },
   {
    "duration": 20,
    "start_time": "2023-03-02T12:32:45.110Z"
   },
   {
    "duration": 5,
    "start_time": "2023-03-02T12:32:45.901Z"
   },
   {
    "duration": 16,
    "start_time": "2023-03-02T12:32:48.671Z"
   },
   {
    "duration": 4,
    "start_time": "2023-03-02T12:32:49.183Z"
   },
   {
    "duration": 13,
    "start_time": "2023-03-02T12:33:01.962Z"
   },
   {
    "duration": 18,
    "start_time": "2023-03-02T12:33:02.850Z"
   },
   {
    "duration": 6,
    "start_time": "2023-03-02T12:33:03.655Z"
   },
   {
    "duration": 18,
    "start_time": "2023-03-02T12:33:04.969Z"
   },
   {
    "duration": 6,
    "start_time": "2023-03-02T12:33:05.475Z"
   },
   {
    "duration": 18,
    "start_time": "2023-03-02T12:33:06.553Z"
   },
   {
    "duration": 9,
    "start_time": "2023-03-02T12:33:06.952Z"
   },
   {
    "duration": 12,
    "start_time": "2023-03-02T12:33:18.115Z"
   },
   {
    "duration": 17,
    "start_time": "2023-03-02T12:33:18.844Z"
   },
   {
    "duration": 6,
    "start_time": "2023-03-02T12:33:19.151Z"
   },
   {
    "duration": 19,
    "start_time": "2023-03-02T12:33:20.052Z"
   },
   {
    "duration": 9,
    "start_time": "2023-03-02T12:33:20.298Z"
   },
   {
    "duration": 17,
    "start_time": "2023-03-02T12:33:20.794Z"
   },
   {
    "duration": 6,
    "start_time": "2023-03-02T12:33:23.214Z"
   },
   {
    "duration": 4,
    "start_time": "2023-03-02T12:33:30.796Z"
   },
   {
    "duration": 15,
    "start_time": "2023-03-02T12:33:30.993Z"
   },
   {
    "duration": 33,
    "start_time": "2023-03-02T12:33:31.476Z"
   },
   {
    "duration": 13,
    "start_time": "2023-03-02T12:36:02.600Z"
   },
   {
    "duration": 8,
    "start_time": "2023-03-02T12:38:35.650Z"
   },
   {
    "duration": 92,
    "start_time": "2023-03-02T12:38:36.117Z"
   },
   {
    "duration": 4,
    "start_time": "2023-03-02T12:39:01.615Z"
   },
   {
    "duration": 5,
    "start_time": "2023-03-02T12:39:02.563Z"
   },
   {
    "duration": 8,
    "start_time": "2023-03-02T12:39:03.002Z"
   },
   {
    "duration": 11,
    "start_time": "2023-03-02T12:39:03.819Z"
   },
   {
    "duration": 4,
    "start_time": "2023-03-02T12:39:04.149Z"
   },
   {
    "duration": 12,
    "start_time": "2023-03-02T12:39:04.839Z"
   },
   {
    "duration": 4,
    "start_time": "2023-03-02T12:39:05.167Z"
   },
   {
    "duration": 11,
    "start_time": "2023-03-02T12:39:05.906Z"
   },
   {
    "duration": 4,
    "start_time": "2023-03-02T12:39:06.257Z"
   },
   {
    "duration": 9,
    "start_time": "2023-03-02T12:39:06.602Z"
   },
   {
    "duration": 27,
    "start_time": "2023-03-02T12:39:07.002Z"
   },
   {
    "duration": 43,
    "start_time": "2023-03-02T12:39:24.646Z"
   },
   {
    "duration": 12,
    "start_time": "2023-03-02T12:39:45.053Z"
   },
   {
    "duration": 28,
    "start_time": "2023-03-02T12:39:45.316Z"
   },
   {
    "duration": 3,
    "start_time": "2023-03-02T12:39:47.354Z"
   },
   {
    "duration": 11,
    "start_time": "2023-03-02T12:39:47.805Z"
   },
   {
    "duration": 23,
    "start_time": "2023-03-02T12:39:49.693Z"
   },
   {
    "duration": 20,
    "start_time": "2023-03-02T12:39:50.589Z"
   },
   {
    "duration": 20,
    "start_time": "2023-03-02T12:39:51.607Z"
   },
   {
    "duration": 111,
    "start_time": "2023-03-02T12:39:52.853Z"
   },
   {
    "duration": 78,
    "start_time": "2023-03-02T12:39:53.851Z"
   },
   {
    "duration": 319,
    "start_time": "2023-03-02T12:40:28.244Z"
   },
   {
    "duration": 141,
    "start_time": "2023-03-02T12:40:38.077Z"
   },
   {
    "duration": 142,
    "start_time": "2023-03-02T12:40:45.001Z"
   },
   {
    "duration": 219,
    "start_time": "2023-03-02T12:40:53.865Z"
   },
   {
    "duration": 6,
    "start_time": "2023-03-02T12:42:44.474Z"
   },
   {
    "duration": 145,
    "start_time": "2023-03-02T12:43:40.841Z"
   },
   {
    "duration": 81,
    "start_time": "2023-03-02T12:44:39.202Z"
   },
   {
    "duration": 250,
    "start_time": "2023-03-02T12:44:54.474Z"
   },
   {
    "duration": 487,
    "start_time": "2023-03-02T12:45:37.735Z"
   },
   {
    "duration": 277,
    "start_time": "2023-03-02T12:46:05.646Z"
   },
   {
    "duration": 18658,
    "start_time": "2023-03-02T12:46:18.065Z"
   },
   {
    "duration": 3,
    "start_time": "2023-03-02T12:49:02.941Z"
   },
   {
    "duration": 20162,
    "start_time": "2023-03-02T12:49:06.759Z"
   },
   {
    "duration": 25,
    "start_time": "2023-03-02T12:50:03.274Z"
   },
   {
    "duration": 1596,
    "start_time": "2023-03-02T12:51:03.803Z"
   },
   {
    "duration": 67,
    "start_time": "2023-03-02T12:52:14.639Z"
   },
   {
    "duration": 281356,
    "start_time": "2023-03-02T12:52:28.095Z"
   },
   {
    "duration": 5,
    "start_time": "2023-03-02T12:59:46.616Z"
   },
   {
    "duration": 345,
    "start_time": "2023-03-02T12:59:48.677Z"
   },
   {
    "duration": 4,
    "start_time": "2023-03-02T13:00:11.979Z"
   },
   {
    "duration": 129,
    "start_time": "2023-03-02T13:00:12.366Z"
   },
   {
    "duration": 489,
    "start_time": "2023-03-02T13:00:13.458Z"
   },
   {
    "duration": 846,
    "start_time": "2023-03-02T13:00:33.648Z"
   },
   {
    "duration": 11,
    "start_time": "2023-03-02T13:01:18.587Z"
   },
   {
    "duration": 6,
    "start_time": "2023-03-02T13:01:22.756Z"
   },
   {
    "duration": 5,
    "start_time": "2023-03-02T13:01:23.687Z"
   },
   {
    "duration": 12,
    "start_time": "2023-03-02T13:01:26.372Z"
   },
   {
    "duration": 13,
    "start_time": "2023-03-02T13:01:26.945Z"
   },
   {
    "duration": 13,
    "start_time": "2023-03-02T13:01:27.841Z"
   },
   {
    "duration": 81,
    "start_time": "2023-03-02T13:01:37.215Z"
   },
   {
    "duration": 85,
    "start_time": "2023-03-02T13:01:37.969Z"
   },
   {
    "duration": 85,
    "start_time": "2023-03-02T13:01:47.136Z"
   },
   {
    "duration": 119,
    "start_time": "2023-03-02T13:01:57.992Z"
   },
   {
    "duration": 129,
    "start_time": "2023-03-02T13:01:58.799Z"
   },
   {
    "duration": 219,
    "start_time": "2023-03-02T13:06:02.807Z"
   },
   {
    "duration": 140,
    "start_time": "2023-03-02T13:06:03.813Z"
   },
   {
    "duration": 123,
    "start_time": "2023-03-02T13:06:20.781Z"
   },
   {
    "duration": 140,
    "start_time": "2023-03-02T13:06:21.649Z"
   },
   {
    "duration": 127,
    "start_time": "2023-03-02T13:06:33.652Z"
   },
   {
    "duration": 181,
    "start_time": "2023-03-02T13:06:34.211Z"
   },
   {
    "duration": 4846,
    "start_time": "2023-03-02T13:16:01.576Z"
   },
   {
    "duration": 29,
    "start_time": "2023-03-02T13:16:12.220Z"
   },
   {
    "duration": 705,
    "start_time": "2023-03-02T13:16:35.517Z"
   },
   {
    "duration": 1841,
    "start_time": "2023-03-02T13:17:29.831Z"
   },
   {
    "duration": 8033,
    "start_time": "2023-03-02T13:17:36.800Z"
   },
   {
    "duration": 39,
    "start_time": "2023-03-02T13:17:51.138Z"
   },
   {
    "duration": 849,
    "start_time": "2023-03-02T13:19:24.204Z"
   },
   {
    "duration": 1841,
    "start_time": "2023-03-02T13:19:55.989Z"
   },
   {
    "duration": 147473,
    "start_time": "2023-03-02T13:21:33.567Z"
   },
   {
    "duration": 152,
    "start_time": "2023-03-02T13:24:01.042Z"
   },
   {
    "duration": 0,
    "start_time": "2023-03-02T13:24:01.196Z"
   },
   {
    "duration": 4,
    "start_time": "2023-03-02T13:24:22.015Z"
   },
   {
    "duration": 174,
    "start_time": "2023-03-02T13:32:19.096Z"
   },
   {
    "duration": 21,
    "start_time": "2023-03-02T13:32:20.065Z"
   },
   {
    "duration": 25,
    "start_time": "2023-03-02T13:32:22.406Z"
   },
   {
    "duration": 7,
    "start_time": "2023-03-02T13:32:23.890Z"
   },
   {
    "duration": 6,
    "start_time": "2023-03-02T13:32:25.275Z"
   },
   {
    "duration": 7,
    "start_time": "2023-03-02T13:32:26.373Z"
   },
   {
    "duration": 10,
    "start_time": "2023-03-02T13:33:41.722Z"
   },
   {
    "duration": 165,
    "start_time": "2023-03-02T13:33:43.793Z"
   },
   {
    "duration": 28,
    "start_time": "2023-03-02T13:33:45.561Z"
   },
   {
    "duration": 9,
    "start_time": "2023-03-02T13:33:49.434Z"
   },
   {
    "duration": 13,
    "start_time": "2023-03-02T13:34:04.033Z"
   },
   {
    "duration": 194,
    "start_time": "2023-03-02T13:34:05.022Z"
   },
   {
    "duration": 27,
    "start_time": "2023-03-02T13:34:06.601Z"
   },
   {
    "duration": 6,
    "start_time": "2023-03-02T13:34:09.480Z"
   },
   {
    "duration": 12,
    "start_time": "2023-03-02T13:34:09.881Z"
   },
   {
    "duration": 176,
    "start_time": "2023-03-02T13:34:10.320Z"
   },
   {
    "duration": 22,
    "start_time": "2023-03-02T13:34:10.953Z"
   },
   {
    "duration": 24,
    "start_time": "2023-03-02T13:34:14.485Z"
   },
   {
    "duration": 7,
    "start_time": "2023-03-02T13:34:15.553Z"
   },
   {
    "duration": 6,
    "start_time": "2023-03-02T13:34:16.653Z"
   },
   {
    "duration": 8,
    "start_time": "2023-03-02T13:34:17.787Z"
   },
   {
    "duration": 6,
    "start_time": "2023-03-02T13:34:52.582Z"
   },
   {
    "duration": 12,
    "start_time": "2023-03-02T13:34:52.998Z"
   },
   {
    "duration": 183,
    "start_time": "2023-03-02T13:34:53.466Z"
   },
   {
    "duration": 21,
    "start_time": "2023-03-02T13:34:54.366Z"
   },
   {
    "duration": 193,
    "start_time": "2023-03-02T13:37:54.743Z"
   },
   {
    "duration": 21,
    "start_time": "2023-03-02T13:37:55.186Z"
   },
   {
    "duration": 203,
    "start_time": "2023-03-02T13:39:36.239Z"
   },
   {
    "duration": 25,
    "start_time": "2023-03-02T13:39:36.656Z"
   },
   {
    "duration": 22,
    "start_time": "2023-03-02T13:39:54.477Z"
   },
   {
    "duration": 8,
    "start_time": "2023-03-02T13:39:55.820Z"
   },
   {
    "duration": 10,
    "start_time": "2023-03-02T13:40:58.877Z"
   },
   {
    "duration": 235,
    "start_time": "2023-03-02T13:41:24.608Z"
   },
   {
    "duration": 22,
    "start_time": "2023-03-02T13:41:25.257Z"
   },
   {
    "duration": 18,
    "start_time": "2023-03-02T13:45:55.393Z"
   },
   {
    "duration": 24,
    "start_time": "2023-03-02T13:45:59.630Z"
   },
   {
    "duration": 7,
    "start_time": "2023-03-02T13:49:38.293Z"
   },
   {
    "duration": 10,
    "start_time": "2023-03-02T13:49:39.203Z"
   },
   {
    "duration": 12,
    "start_time": "2023-03-02T13:51:09.467Z"
   },
   {
    "duration": 6,
    "start_time": "2023-03-02T13:57:24.672Z"
   },
   {
    "duration": 7,
    "start_time": "2023-03-02T13:57:25.604Z"
   },
   {
    "duration": 53,
    "start_time": "2023-03-02T14:03:46.578Z"
   },
   {
    "duration": 48,
    "start_time": "2023-03-02T14:04:14.921Z"
   },
   {
    "duration": 52,
    "start_time": "2023-03-02T14:05:33.831Z"
   },
   {
    "duration": 69,
    "start_time": "2023-03-02T14:05:56.175Z"
   },
   {
    "duration": 314156,
    "start_time": "2023-03-02T14:06:02.878Z"
   },
   {
    "duration": 311974,
    "start_time": "2023-03-02T14:11:56.022Z"
   },
   {
    "duration": 6,
    "start_time": "2023-03-02T14:21:26.983Z"
   },
   {
    "duration": 10,
    "start_time": "2023-03-02T14:21:27.428Z"
   },
   {
    "duration": 60654,
    "start_time": "2023-03-02T14:23:44.633Z"
   },
   {
    "duration": 97,
    "start_time": "2023-03-02T14:24:49.204Z"
   },
   {
    "duration": 53413,
    "start_time": "2023-03-02T14:25:16.780Z"
   },
   {
    "duration": 93,
    "start_time": "2023-03-02T14:26:10.194Z"
   },
   {
    "duration": 86,
    "start_time": "2023-03-02T14:26:24.870Z"
   },
   {
    "duration": 94,
    "start_time": "2023-03-02T14:26:28.088Z"
   },
   {
    "duration": 47670,
    "start_time": "2023-03-02T14:27:37.775Z"
   },
   {
    "duration": 54076,
    "start_time": "2023-03-02T14:28:27.956Z"
   },
   {
    "duration": 302920,
    "start_time": "2023-03-02T14:29:34.437Z"
   },
   {
    "duration": 19066,
    "start_time": "2023-03-02T14:37:28.316Z"
   },
   {
    "duration": 53990,
    "start_time": "2023-03-02T14:37:47.774Z"
   },
   {
    "duration": 55109,
    "start_time": "2023-03-02T14:39:16.656Z"
   },
   {
    "duration": 1671,
    "start_time": "2023-03-03T03:33:46.257Z"
   },
   {
    "duration": 94,
    "start_time": "2023-03-03T03:33:47.930Z"
   },
   {
    "duration": 13,
    "start_time": "2023-03-03T03:33:48.026Z"
   },
   {
    "duration": 12,
    "start_time": "2023-03-03T03:33:48.042Z"
   },
   {
    "duration": 3,
    "start_time": "2023-03-03T03:33:48.056Z"
   },
   {
    "duration": 7,
    "start_time": "2023-03-03T03:33:48.061Z"
   },
   {
    "duration": 8,
    "start_time": "2023-03-03T03:33:48.069Z"
   },
   {
    "duration": 8,
    "start_time": "2023-03-03T03:33:48.079Z"
   },
   {
    "duration": 6,
    "start_time": "2023-03-03T03:33:48.089Z"
   },
   {
    "duration": 9,
    "start_time": "2023-03-03T03:33:48.098Z"
   },
   {
    "duration": 40,
    "start_time": "2023-03-03T03:33:48.109Z"
   },
   {
    "duration": 3,
    "start_time": "2023-03-03T03:33:48.151Z"
   },
   {
    "duration": 13,
    "start_time": "2023-03-03T03:33:48.156Z"
   },
   {
    "duration": 6,
    "start_time": "2023-03-03T03:33:48.170Z"
   },
   {
    "duration": 12,
    "start_time": "2023-03-03T03:33:48.178Z"
   },
   {
    "duration": 8,
    "start_time": "2023-03-03T03:33:48.192Z"
   },
   {
    "duration": 19,
    "start_time": "2023-03-03T03:33:48.201Z"
   },
   {
    "duration": 53,
    "start_time": "2023-03-03T03:33:48.222Z"
   },
   {
    "duration": 3,
    "start_time": "2023-03-03T03:33:48.277Z"
   },
   {
    "duration": 24,
    "start_time": "2023-03-03T03:33:48.282Z"
   },
   {
    "duration": 26,
    "start_time": "2023-03-03T03:33:48.308Z"
   },
   {
    "duration": 18,
    "start_time": "2023-03-03T03:33:48.349Z"
   },
   {
    "duration": 18,
    "start_time": "2023-03-03T03:33:48.368Z"
   },
   {
    "duration": 167,
    "start_time": "2023-03-03T03:33:48.388Z"
   },
   {
    "duration": 3,
    "start_time": "2023-03-03T03:33:48.557Z"
   },
   {
    "duration": 143,
    "start_time": "2023-03-03T03:33:48.562Z"
   },
   {
    "duration": 0,
    "start_time": "2023-03-03T03:33:48.707Z"
   },
   {
    "duration": 0,
    "start_time": "2023-03-03T03:33:48.709Z"
   },
   {
    "duration": 0,
    "start_time": "2023-03-03T03:33:48.710Z"
   },
   {
    "duration": 0,
    "start_time": "2023-03-03T03:33:48.711Z"
   },
   {
    "duration": 0,
    "start_time": "2023-03-03T03:33:48.713Z"
   },
   {
    "duration": 0,
    "start_time": "2023-03-03T03:33:48.714Z"
   },
   {
    "duration": 0,
    "start_time": "2023-03-03T03:33:48.715Z"
   },
   {
    "duration": 0,
    "start_time": "2023-03-03T03:33:48.717Z"
   },
   {
    "duration": 0,
    "start_time": "2023-03-03T03:33:48.718Z"
   },
   {
    "duration": 0,
    "start_time": "2023-03-03T03:33:48.719Z"
   },
   {
    "duration": 0,
    "start_time": "2023-03-03T03:33:48.720Z"
   },
   {
    "duration": 0,
    "start_time": "2023-03-03T03:33:48.721Z"
   },
   {
    "duration": 0,
    "start_time": "2023-03-03T03:33:48.748Z"
   },
   {
    "duration": 0,
    "start_time": "2023-03-03T03:33:48.750Z"
   },
   {
    "duration": 0,
    "start_time": "2023-03-03T03:33:48.751Z"
   },
   {
    "duration": 0,
    "start_time": "2023-03-03T03:33:48.752Z"
   },
   {
    "duration": 0,
    "start_time": "2023-03-03T03:33:48.753Z"
   },
   {
    "duration": 0,
    "start_time": "2023-03-03T03:33:48.754Z"
   },
   {
    "duration": 0,
    "start_time": "2023-03-03T03:33:48.755Z"
   },
   {
    "duration": 0,
    "start_time": "2023-03-03T03:33:48.756Z"
   },
   {
    "duration": 0,
    "start_time": "2023-03-03T03:33:48.757Z"
   },
   {
    "duration": 0,
    "start_time": "2023-03-03T03:33:48.758Z"
   },
   {
    "duration": 0,
    "start_time": "2023-03-03T03:33:48.759Z"
   },
   {
    "duration": 0,
    "start_time": "2023-03-03T03:33:48.760Z"
   },
   {
    "duration": 0,
    "start_time": "2023-03-03T03:33:48.761Z"
   },
   {
    "duration": 0,
    "start_time": "2023-03-03T03:33:48.762Z"
   },
   {
    "duration": 0,
    "start_time": "2023-03-03T03:33:48.764Z"
   },
   {
    "duration": 0,
    "start_time": "2023-03-03T03:33:48.765Z"
   },
   {
    "duration": 0,
    "start_time": "2023-03-03T03:33:48.766Z"
   },
   {
    "duration": 0,
    "start_time": "2023-03-03T03:33:48.767Z"
   },
   {
    "duration": 0,
    "start_time": "2023-03-03T03:33:48.768Z"
   },
   {
    "duration": 0,
    "start_time": "2023-03-03T03:33:48.770Z"
   },
   {
    "duration": 0,
    "start_time": "2023-03-03T03:33:48.771Z"
   },
   {
    "duration": 0,
    "start_time": "2023-03-03T03:33:48.772Z"
   },
   {
    "duration": 0,
    "start_time": "2023-03-03T03:33:48.773Z"
   },
   {
    "duration": 26,
    "start_time": "2023-03-03T03:37:39.173Z"
   },
   {
    "duration": 10,
    "start_time": "2023-03-03T03:39:28.128Z"
   },
   {
    "duration": 4,
    "start_time": "2023-03-03T03:39:29.819Z"
   },
   {
    "duration": 6,
    "start_time": "2023-03-03T03:39:31.359Z"
   },
   {
    "duration": 9,
    "start_time": "2023-03-03T03:39:31.851Z"
   },
   {
    "duration": 10,
    "start_time": "2023-03-03T03:39:32.313Z"
   },
   {
    "duration": 1575,
    "start_time": "2023-03-03T03:39:43.299Z"
   },
   {
    "duration": 55,
    "start_time": "2023-03-03T03:39:44.876Z"
   },
   {
    "duration": 14,
    "start_time": "2023-03-03T03:39:44.933Z"
   },
   {
    "duration": 13,
    "start_time": "2023-03-03T03:39:44.948Z"
   },
   {
    "duration": 3,
    "start_time": "2023-03-03T03:39:44.965Z"
   },
   {
    "duration": 7,
    "start_time": "2023-03-03T03:39:44.970Z"
   },
   {
    "duration": 5,
    "start_time": "2023-03-03T03:39:44.979Z"
   },
   {
    "duration": 14,
    "start_time": "2023-03-03T03:39:44.986Z"
   },
   {
    "duration": 4,
    "start_time": "2023-03-03T03:39:45.002Z"
   },
   {
    "duration": 41,
    "start_time": "2023-03-03T03:39:45.007Z"
   },
   {
    "duration": 20,
    "start_time": "2023-03-03T03:39:45.050Z"
   },
   {
    "duration": 17,
    "start_time": "2023-03-03T03:39:45.072Z"
   },
   {
    "duration": 17,
    "start_time": "2023-03-03T03:39:45.091Z"
   },
   {
    "duration": 13,
    "start_time": "2023-03-03T03:39:45.111Z"
   },
   {
    "duration": 7,
    "start_time": "2023-03-03T03:39:45.125Z"
   },
   {
    "duration": 29,
    "start_time": "2023-03-03T03:39:45.134Z"
   },
   {
    "duration": 21,
    "start_time": "2023-03-03T03:39:45.166Z"
   },
   {
    "duration": 41,
    "start_time": "2023-03-03T03:39:45.189Z"
   },
   {
    "duration": 35,
    "start_time": "2023-03-03T03:39:45.232Z"
   },
   {
    "duration": 4,
    "start_time": "2023-03-03T03:39:45.269Z"
   },
   {
    "duration": 25,
    "start_time": "2023-03-03T03:39:45.275Z"
   },
   {
    "duration": 37,
    "start_time": "2023-03-03T03:39:45.302Z"
   },
   {
    "duration": 23,
    "start_time": "2023-03-03T03:39:45.341Z"
   },
   {
    "duration": 19,
    "start_time": "2023-03-03T03:39:45.367Z"
   },
   {
    "duration": 168,
    "start_time": "2023-03-03T03:39:45.388Z"
   },
   {
    "duration": 3,
    "start_time": "2023-03-03T03:39:45.557Z"
   },
   {
    "duration": 106942,
    "start_time": "2023-03-03T03:39:45.562Z"
   },
   {
    "duration": 0,
    "start_time": "2023-03-03T03:41:32.507Z"
   },
   {
    "duration": 0,
    "start_time": "2023-03-03T03:41:32.508Z"
   },
   {
    "duration": 0,
    "start_time": "2023-03-03T03:41:32.509Z"
   },
   {
    "duration": 0,
    "start_time": "2023-03-03T03:41:32.510Z"
   },
   {
    "duration": 0,
    "start_time": "2023-03-03T03:41:32.511Z"
   },
   {
    "duration": 0,
    "start_time": "2023-03-03T03:41:32.512Z"
   },
   {
    "duration": 0,
    "start_time": "2023-03-03T03:41:32.514Z"
   },
   {
    "duration": 0,
    "start_time": "2023-03-03T03:41:32.515Z"
   },
   {
    "duration": 0,
    "start_time": "2023-03-03T03:41:32.517Z"
   },
   {
    "duration": 0,
    "start_time": "2023-03-03T03:41:32.518Z"
   },
   {
    "duration": 0,
    "start_time": "2023-03-03T03:41:32.520Z"
   },
   {
    "duration": 0,
    "start_time": "2023-03-03T03:41:32.521Z"
   },
   {
    "duration": 0,
    "start_time": "2023-03-03T03:41:32.522Z"
   },
   {
    "duration": 0,
    "start_time": "2023-03-03T03:41:32.523Z"
   },
   {
    "duration": 0,
    "start_time": "2023-03-03T03:41:32.524Z"
   },
   {
    "duration": 0,
    "start_time": "2023-03-03T03:41:32.525Z"
   },
   {
    "duration": 0,
    "start_time": "2023-03-03T03:41:32.550Z"
   },
   {
    "duration": 0,
    "start_time": "2023-03-03T03:41:32.551Z"
   },
   {
    "duration": 0,
    "start_time": "2023-03-03T03:41:32.553Z"
   },
   {
    "duration": 0,
    "start_time": "2023-03-03T03:41:32.554Z"
   },
   {
    "duration": 0,
    "start_time": "2023-03-03T03:41:32.556Z"
   },
   {
    "duration": 0,
    "start_time": "2023-03-03T03:41:32.557Z"
   },
   {
    "duration": 0,
    "start_time": "2023-03-03T03:41:32.558Z"
   },
   {
    "duration": 0,
    "start_time": "2023-03-03T03:41:32.560Z"
   },
   {
    "duration": 0,
    "start_time": "2023-03-03T03:41:32.562Z"
   },
   {
    "duration": 0,
    "start_time": "2023-03-03T03:41:32.563Z"
   },
   {
    "duration": 0,
    "start_time": "2023-03-03T03:41:32.564Z"
   },
   {
    "duration": 0,
    "start_time": "2023-03-03T03:41:32.566Z"
   },
   {
    "duration": 0,
    "start_time": "2023-03-03T03:41:32.567Z"
   },
   {
    "duration": 0,
    "start_time": "2023-03-03T03:41:32.569Z"
   },
   {
    "duration": 0,
    "start_time": "2023-03-03T03:41:32.570Z"
   },
   {
    "duration": 0,
    "start_time": "2023-03-03T03:41:32.572Z"
   },
   {
    "duration": 0,
    "start_time": "2023-03-03T03:41:32.573Z"
   },
   {
    "duration": 0,
    "start_time": "2023-03-03T03:41:32.574Z"
   },
   {
    "duration": 0,
    "start_time": "2023-03-03T03:41:32.576Z"
   },
   {
    "duration": 1590,
    "start_time": "2023-03-03T03:44:09.566Z"
   },
   {
    "duration": 55,
    "start_time": "2023-03-03T03:44:11.158Z"
   },
   {
    "duration": 12,
    "start_time": "2023-03-03T03:44:11.215Z"
   },
   {
    "duration": 11,
    "start_time": "2023-03-03T03:44:11.229Z"
   },
   {
    "duration": 4,
    "start_time": "2023-03-03T03:44:11.242Z"
   },
   {
    "duration": 6,
    "start_time": "2023-03-03T03:44:11.247Z"
   },
   {
    "duration": 6,
    "start_time": "2023-03-03T03:44:11.255Z"
   },
   {
    "duration": 13,
    "start_time": "2023-03-03T03:44:11.262Z"
   },
   {
    "duration": 16,
    "start_time": "2023-03-03T03:44:11.276Z"
   },
   {
    "duration": 9,
    "start_time": "2023-03-03T03:44:11.295Z"
   },
   {
    "duration": 11,
    "start_time": "2023-03-03T03:44:11.305Z"
   },
   {
    "duration": 12,
    "start_time": "2023-03-03T03:44:11.320Z"
   },
   {
    "duration": 5,
    "start_time": "2023-03-03T03:44:11.349Z"
   },
   {
    "duration": 14,
    "start_time": "2023-03-03T03:44:11.355Z"
   },
   {
    "duration": 7,
    "start_time": "2023-03-03T03:44:11.370Z"
   },
   {
    "duration": 12,
    "start_time": "2023-03-03T03:44:11.378Z"
   },
   {
    "duration": 5,
    "start_time": "2023-03-03T03:44:11.391Z"
   },
   {
    "duration": 10,
    "start_time": "2023-03-03T03:44:11.398Z"
   },
   {
    "duration": 58,
    "start_time": "2023-03-03T03:44:11.409Z"
   },
   {
    "duration": 3,
    "start_time": "2023-03-03T03:44:11.468Z"
   },
   {
    "duration": 12,
    "start_time": "2023-03-03T03:44:11.472Z"
   },
   {
    "duration": 21,
    "start_time": "2023-03-03T03:44:11.486Z"
   },
   {
    "duration": 51,
    "start_time": "2023-03-03T03:44:11.508Z"
   },
   {
    "duration": 17,
    "start_time": "2023-03-03T03:44:11.560Z"
   },
   {
    "duration": 150,
    "start_time": "2023-03-03T03:44:11.579Z"
   },
   {
    "duration": 2,
    "start_time": "2023-03-03T03:44:11.731Z"
   },
   {
    "duration": 256314,
    "start_time": "2023-03-03T03:44:11.735Z"
   },
   {
    "duration": 1526,
    "start_time": "2023-03-03T03:48:28.052Z"
   },
   {
    "duration": 16269,
    "start_time": "2023-03-03T03:48:29.580Z"
   },
   {
    "duration": 9,
    "start_time": "2023-03-03T03:48:45.851Z"
   },
   {
    "duration": 489,
    "start_time": "2023-03-03T03:48:45.861Z"
   },
   {
    "duration": 9,
    "start_time": "2023-03-03T03:48:46.353Z"
   },
   {
    "duration": 9,
    "start_time": "2023-03-03T03:48:46.449Z"
   },
   {
    "duration": 11,
    "start_time": "2023-03-03T03:48:46.460Z"
   },
   {
    "duration": 9,
    "start_time": "2023-03-03T03:48:46.473Z"
   },
   {
    "duration": 185,
    "start_time": "2023-03-03T03:48:46.483Z"
   },
   {
    "duration": 427,
    "start_time": "2023-03-03T03:48:46.670Z"
   },
   {
    "duration": 7,
    "start_time": "2023-03-03T03:48:47.099Z"
   },
   {
    "duration": 10,
    "start_time": "2023-03-03T03:48:47.109Z"
   },
   {
    "duration": 46,
    "start_time": "2023-03-03T03:48:47.122Z"
   },
   {
    "duration": 16,
    "start_time": "2023-03-03T03:48:47.170Z"
   },
   {
    "duration": 11,
    "start_time": "2023-03-03T03:48:47.188Z"
   },
   {
    "duration": 130,
    "start_time": "2023-03-03T03:48:47.201Z"
   },
   {
    "duration": 138,
    "start_time": "2023-03-03T03:48:47.333Z"
   },
   {
    "duration": 1892,
    "start_time": "2023-03-03T03:48:47.473Z"
   },
   {
    "duration": 343890,
    "start_time": "2023-03-03T03:48:49.366Z"
   },
   {
    "duration": 9892,
    "start_time": "2023-03-03T03:54:33.258Z"
   },
   {
    "duration": 820,
    "start_time": "2023-03-03T03:54:43.152Z"
   },
   {
    "duration": 139731,
    "start_time": "2023-03-03T03:54:43.973Z"
   },
   {
    "duration": 5643,
    "start_time": "2023-03-03T03:57:03.706Z"
   },
   {
    "duration": 4,
    "start_time": "2023-03-03T03:57:09.350Z"
   },
   {
    "duration": 7,
    "start_time": "2023-03-03T03:57:09.355Z"
   },
   {
    "duration": 7,
    "start_time": "2023-03-03T03:57:09.364Z"
   },
   {
    "duration": 7,
    "start_time": "2023-03-03T03:57:09.372Z"
   },
   {
    "duration": 10,
    "start_time": "2023-03-03T03:57:09.381Z"
   },
   {
    "duration": 323881,
    "start_time": "2023-03-03T03:57:09.393Z"
   },
   {
    "duration": 194,
    "start_time": "2023-03-03T04:02:33.277Z"
   },
   {
    "duration": 23,
    "start_time": "2023-03-03T04:02:33.473Z"
   },
   {
    "duration": 19,
    "start_time": "2023-03-03T04:02:33.497Z"
   },
   {
    "duration": 32,
    "start_time": "2023-03-03T04:02:33.517Z"
   },
   {
    "duration": 8,
    "start_time": "2023-03-03T04:02:33.551Z"
   },
   {
    "duration": 12,
    "start_time": "2023-03-03T04:02:33.561Z"
   },
   {
    "duration": 1183,
    "start_time": "2023-03-03T04:02:33.579Z"
   },
   {
    "duration": 4,
    "start_time": "2023-03-03T10:38:12.011Z"
   },
   {
    "duration": 64,
    "start_time": "2023-03-03T10:38:12.017Z"
   },
   {
    "duration": 12,
    "start_time": "2023-03-03T10:38:12.083Z"
   },
   {
    "duration": 12,
    "start_time": "2023-03-03T10:38:12.097Z"
   },
   {
    "duration": 9,
    "start_time": "2023-03-03T10:38:12.110Z"
   },
   {
    "duration": 6,
    "start_time": "2023-03-03T10:38:12.121Z"
   },
   {
    "duration": 24,
    "start_time": "2023-03-03T10:38:12.129Z"
   },
   {
    "duration": 12,
    "start_time": "2023-03-03T10:38:12.154Z"
   },
   {
    "duration": 4,
    "start_time": "2023-03-03T10:38:12.168Z"
   },
   {
    "duration": 6,
    "start_time": "2023-03-03T10:38:12.174Z"
   },
   {
    "duration": 7,
    "start_time": "2023-03-03T10:38:12.182Z"
   },
   {
    "duration": 13,
    "start_time": "2023-03-03T10:38:12.191Z"
   },
   {
    "duration": 11,
    "start_time": "2023-03-03T10:38:12.206Z"
   },
   {
    "duration": 16,
    "start_time": "2023-03-03T10:38:12.247Z"
   },
   {
    "duration": 10,
    "start_time": "2023-03-03T10:38:12.265Z"
   },
   {
    "duration": 16,
    "start_time": "2023-03-03T10:38:12.276Z"
   },
   {
    "duration": 5,
    "start_time": "2023-03-03T10:38:12.294Z"
   },
   {
    "duration": 9,
    "start_time": "2023-03-03T10:38:12.300Z"
   },
   {
    "duration": 71,
    "start_time": "2023-03-03T10:38:12.311Z"
   },
   {
    "duration": 4,
    "start_time": "2023-03-03T10:38:12.384Z"
   },
   {
    "duration": 17,
    "start_time": "2023-03-03T10:38:12.389Z"
   },
   {
    "duration": 21,
    "start_time": "2023-03-03T10:38:12.408Z"
   },
   {
    "duration": 19,
    "start_time": "2023-03-03T10:38:12.447Z"
   },
   {
    "duration": 18,
    "start_time": "2023-03-03T10:38:12.467Z"
   },
   {
    "duration": 155,
    "start_time": "2023-03-03T10:38:12.487Z"
   },
   {
    "duration": 4,
    "start_time": "2023-03-03T10:38:12.647Z"
   },
   {
    "duration": 19668,
    "start_time": "2023-03-03T10:38:45.317Z"
   },
   {
    "duration": 260253,
    "start_time": "2023-03-03T10:40:07.218Z"
   },
   {
    "duration": 1523,
    "start_time": "2023-03-03T10:44:27.474Z"
   },
   {
    "duration": 1609,
    "start_time": "2023-03-03T10:44:57.062Z"
   },
   {
    "duration": 60,
    "start_time": "2023-03-03T10:44:58.674Z"
   },
   {
    "duration": 17,
    "start_time": "2023-03-03T10:44:58.735Z"
   },
   {
    "duration": 12,
    "start_time": "2023-03-03T10:44:58.754Z"
   },
   {
    "duration": 6,
    "start_time": "2023-03-03T10:44:58.768Z"
   },
   {
    "duration": 12,
    "start_time": "2023-03-03T10:44:58.775Z"
   },
   {
    "duration": 16,
    "start_time": "2023-03-03T10:44:58.788Z"
   },
   {
    "duration": 18,
    "start_time": "2023-03-03T10:44:58.805Z"
   },
   {
    "duration": 5,
    "start_time": "2023-03-03T10:44:58.825Z"
   },
   {
    "duration": 7,
    "start_time": "2023-03-03T10:44:58.848Z"
   },
   {
    "duration": 16,
    "start_time": "2023-03-03T10:44:58.857Z"
   },
   {
    "duration": 11,
    "start_time": "2023-03-03T10:44:58.876Z"
   },
   {
    "duration": 6,
    "start_time": "2023-03-03T10:44:58.890Z"
   },
   {
    "duration": 16,
    "start_time": "2023-03-03T10:44:58.900Z"
   },
   {
    "duration": 31,
    "start_time": "2023-03-03T10:44:58.918Z"
   },
   {
    "duration": 26,
    "start_time": "2023-03-03T10:44:58.951Z"
   },
   {
    "duration": 10,
    "start_time": "2023-03-03T10:44:58.978Z"
   },
   {
    "duration": 12,
    "start_time": "2023-03-03T10:44:58.989Z"
   },
   {
    "duration": 30,
    "start_time": "2023-03-03T10:44:59.002Z"
   },
   {
    "duration": 14,
    "start_time": "2023-03-03T10:44:59.034Z"
   },
   {
    "duration": 14,
    "start_time": "2023-03-03T10:44:59.050Z"
   },
   {
    "duration": 27,
    "start_time": "2023-03-03T10:44:59.066Z"
   },
   {
    "duration": 19,
    "start_time": "2023-03-03T10:44:59.095Z"
   },
   {
    "duration": 41,
    "start_time": "2023-03-03T10:44:59.116Z"
   },
   {
    "duration": 170,
    "start_time": "2023-03-03T10:44:59.160Z"
   },
   {
    "duration": 3,
    "start_time": "2023-03-03T10:44:59.332Z"
   },
   {
    "duration": 258824,
    "start_time": "2023-03-03T10:44:59.337Z"
   },
   {
    "duration": 1457,
    "start_time": "2023-03-03T10:49:18.162Z"
   },
   {
    "duration": 1541,
    "start_time": "2023-03-03T10:49:19.620Z"
   },
   {
    "duration": 86,
    "start_time": "2023-03-03T10:49:21.163Z"
   },
   {
    "duration": 397,
    "start_time": "2023-03-03T10:49:21.251Z"
   },
   {
    "duration": 8,
    "start_time": "2023-03-03T10:49:21.651Z"
   },
   {
    "duration": 92,
    "start_time": "2023-03-03T10:49:21.660Z"
   },
   {
    "duration": 9,
    "start_time": "2023-03-03T10:49:21.754Z"
   },
   {
    "duration": 4,
    "start_time": "2023-03-03T10:49:21.765Z"
   },
   {
    "duration": 175,
    "start_time": "2023-03-03T10:49:21.771Z"
   },
   {
    "duration": 422,
    "start_time": "2023-03-03T10:49:21.949Z"
   },
   {
    "duration": 6,
    "start_time": "2023-03-03T10:49:22.372Z"
   },
   {
    "duration": 9,
    "start_time": "2023-03-03T10:49:22.380Z"
   },
   {
    "duration": 22,
    "start_time": "2023-03-03T10:49:22.391Z"
   },
   {
    "duration": 14,
    "start_time": "2023-03-03T10:49:22.420Z"
   },
   {
    "duration": 13,
    "start_time": "2023-03-03T10:49:22.448Z"
   },
   {
    "duration": 149,
    "start_time": "2023-03-03T10:49:22.463Z"
   },
   {
    "duration": 136,
    "start_time": "2023-03-03T10:49:22.613Z"
   },
   {
    "duration": 1802,
    "start_time": "2023-03-03T10:49:22.751Z"
   },
   {
    "duration": 353158,
    "start_time": "2023-03-03T10:49:24.555Z"
   },
   {
    "duration": 9134,
    "start_time": "2023-03-03T10:55:17.715Z"
   },
   {
    "duration": 832,
    "start_time": "2023-03-03T10:55:26.854Z"
   },
   {
    "duration": 146622,
    "start_time": "2023-03-03T10:55:27.687Z"
   },
   {
    "duration": 60,
    "start_time": "2023-03-03T10:57:54.311Z"
   },
   {
    "duration": 0,
    "start_time": "2023-03-03T10:57:54.373Z"
   },
   {
    "duration": 0,
    "start_time": "2023-03-03T10:57:54.375Z"
   },
   {
    "duration": 0,
    "start_time": "2023-03-03T10:57:54.377Z"
   },
   {
    "duration": 0,
    "start_time": "2023-03-03T10:57:54.378Z"
   },
   {
    "duration": 1,
    "start_time": "2023-03-03T10:57:54.379Z"
   },
   {
    "duration": 0,
    "start_time": "2023-03-03T10:57:54.381Z"
   },
   {
    "duration": 0,
    "start_time": "2023-03-03T10:57:54.382Z"
   },
   {
    "duration": 0,
    "start_time": "2023-03-03T10:57:54.384Z"
   },
   {
    "duration": 0,
    "start_time": "2023-03-03T10:57:54.385Z"
   },
   {
    "duration": 0,
    "start_time": "2023-03-03T10:57:54.386Z"
   },
   {
    "duration": 0,
    "start_time": "2023-03-03T10:57:54.388Z"
   },
   {
    "duration": 0,
    "start_time": "2023-03-03T10:57:54.389Z"
   },
   {
    "duration": 4297,
    "start_time": "2023-03-03T11:03:16.962Z"
   },
   {
    "duration": 89,
    "start_time": "2023-03-03T11:03:21.261Z"
   },
   {
    "duration": 12,
    "start_time": "2023-03-03T11:03:21.352Z"
   },
   {
    "duration": 24,
    "start_time": "2023-03-03T11:03:21.367Z"
   },
   {
    "duration": 19,
    "start_time": "2023-03-03T11:03:21.393Z"
   },
   {
    "duration": 33,
    "start_time": "2023-03-03T11:03:21.415Z"
   },
   {
    "duration": 331686,
    "start_time": "2023-03-03T11:03:21.451Z"
   },
   {
    "duration": 179,
    "start_time": "2023-03-03T11:08:53.148Z"
   },
   {
    "duration": 30,
    "start_time": "2023-03-03T11:08:53.329Z"
   },
   {
    "duration": 18,
    "start_time": "2023-03-03T11:08:53.363Z"
   },
   {
    "duration": 6,
    "start_time": "2023-03-03T11:08:53.383Z"
   },
   {
    "duration": 6,
    "start_time": "2023-03-03T11:08:53.392Z"
   },
   {
    "duration": 16,
    "start_time": "2023-03-03T11:08:53.400Z"
   },
   {
    "duration": 78,
    "start_time": "2023-03-03T13:41:18.729Z"
   },
   {
    "duration": 41,
    "start_time": "2023-03-03T13:41:28.106Z"
   },
   {
    "duration": 1784,
    "start_time": "2023-03-03T13:41:40.273Z"
   },
   {
    "duration": 97,
    "start_time": "2023-03-03T13:41:42.058Z"
   },
   {
    "duration": 12,
    "start_time": "2023-03-03T13:41:42.156Z"
   },
   {
    "duration": 24,
    "start_time": "2023-03-03T13:41:42.169Z"
   },
   {
    "duration": 4,
    "start_time": "2023-03-03T13:41:42.195Z"
   },
   {
    "duration": 17,
    "start_time": "2023-03-03T13:41:42.200Z"
   },
   {
    "duration": 20,
    "start_time": "2023-03-03T13:41:42.218Z"
   },
   {
    "duration": 10,
    "start_time": "2023-03-03T13:41:42.375Z"
   },
   {
    "duration": 4,
    "start_time": "2023-03-03T13:41:42.761Z"
   },
   {
    "duration": 5,
    "start_time": "2023-03-03T13:41:43.156Z"
   },
   {
    "duration": 7,
    "start_time": "2023-03-03T13:41:43.442Z"
   },
   {
    "duration": 10,
    "start_time": "2023-03-03T13:41:43.841Z"
   },
   {
    "duration": 3,
    "start_time": "2023-03-03T13:41:44.052Z"
   },
   {
    "duration": 11,
    "start_time": "2023-03-03T13:41:44.472Z"
   },
   {
    "duration": 4,
    "start_time": "2023-03-03T13:41:44.682Z"
   },
   {
    "duration": 10,
    "start_time": "2023-03-03T13:41:45.098Z"
   },
   {
    "duration": 3,
    "start_time": "2023-03-03T13:41:45.306Z"
   },
   {
    "duration": 9,
    "start_time": "2023-03-03T13:41:45.512Z"
   },
   {
    "duration": 25,
    "start_time": "2023-03-03T13:41:45.729Z"
   },
   {
    "duration": 3,
    "start_time": "2023-03-03T13:41:49.205Z"
   },
   {
    "duration": 7,
    "start_time": "2023-03-03T13:41:49.394Z"
   },
   {
    "duration": 20,
    "start_time": "2023-03-03T13:41:49.761Z"
   },
   {
    "duration": 16,
    "start_time": "2023-03-03T13:41:50.132Z"
   },
   {
    "duration": 16,
    "start_time": "2023-03-03T13:41:50.588Z"
   },
   {
    "duration": 126,
    "start_time": "2023-03-03T13:41:51.360Z"
   },
   {
    "duration": 3,
    "start_time": "2023-03-03T13:41:53.785Z"
   },
   {
    "duration": 5,
    "start_time": "2023-03-03T13:42:00.329Z"
   },
   {
    "duration": 519,
    "start_time": "2023-03-03T13:42:01.379Z"
   },
   {
    "duration": 66,
    "start_time": "2023-03-03T13:42:02.602Z"
   },
   {
    "duration": 7,
    "start_time": "2023-03-03T13:42:03.011Z"
   },
   {
    "duration": 8,
    "start_time": "2023-03-03T13:42:03.687Z"
   },
   {
    "duration": 4,
    "start_time": "2023-03-03T13:42:04.431Z"
   },
   {
    "duration": 9,
    "start_time": "2023-03-03T13:42:08.180Z"
   },
   {
    "duration": 421,
    "start_time": "2023-03-03T13:42:08.681Z"
   },
   {
    "duration": 5,
    "start_time": "2023-03-03T13:42:10.856Z"
   },
   {
    "duration": 6,
    "start_time": "2023-03-03T13:42:11.324Z"
   },
   {
    "duration": 11,
    "start_time": "2023-03-03T13:42:12.574Z"
   },
   {
    "duration": 13,
    "start_time": "2023-03-03T13:42:13.532Z"
   },
   {
    "duration": 11,
    "start_time": "2023-03-03T13:42:13.987Z"
   },
   {
    "duration": 110,
    "start_time": "2023-03-03T13:42:14.990Z"
   },
   {
    "duration": 110,
    "start_time": "2023-03-03T13:42:15.210Z"
   },
   {
    "duration": 1697,
    "start_time": "2023-03-03T13:42:16.302Z"
   },
   {
    "duration": 6,
    "start_time": "2023-03-03T13:42:25.893Z"
   },
   {
    "duration": 11,
    "start_time": "2023-03-03T13:42:26.132Z"
   },
   {
    "duration": 1308,
    "start_time": "2023-03-03T13:42:26.383Z"
   },
   {
    "duration": 151,
    "start_time": "2023-03-03T13:42:29.168Z"
   },
   {
    "duration": 19,
    "start_time": "2023-03-03T13:42:29.904Z"
   },
   {
    "duration": 19,
    "start_time": "2023-03-03T13:42:31.347Z"
   },
   {
    "duration": 6,
    "start_time": "2023-03-03T13:42:32.286Z"
   },
   {
    "duration": 5,
    "start_time": "2023-03-03T13:42:32.771Z"
   },
   {
    "duration": 7,
    "start_time": "2023-03-03T13:42:33.328Z"
   },
   {
    "duration": 1167,
    "start_time": "2023-03-03T13:47:02.326Z"
   },
   {
    "duration": 177,
    "start_time": "2023-03-03T13:47:04.724Z"
   },
   {
    "duration": 5,
    "start_time": "2023-03-03T13:55:12.469Z"
   },
   {
    "duration": 5,
    "start_time": "2023-03-03T13:55:13.173Z"
   },
   {
    "duration": 7,
    "start_time": "2023-03-03T13:55:14.065Z"
   },
   {
    "duration": 1791,
    "start_time": "2023-03-04T06:27:51.262Z"
   },
   {
    "duration": 95,
    "start_time": "2023-03-04T06:27:53.055Z"
   },
   {
    "duration": 13,
    "start_time": "2023-03-04T06:27:53.151Z"
   },
   {
    "duration": 11,
    "start_time": "2023-03-04T06:27:53.166Z"
   },
   {
    "duration": 4,
    "start_time": "2023-03-04T06:27:53.179Z"
   },
   {
    "duration": 10,
    "start_time": "2023-03-04T06:27:53.184Z"
   },
   {
    "duration": 6,
    "start_time": "2023-03-04T06:27:53.196Z"
   },
   {
    "duration": 46,
    "start_time": "2023-03-04T06:27:53.204Z"
   },
   {
    "duration": 9,
    "start_time": "2023-03-04T06:27:53.252Z"
   },
   {
    "duration": 8,
    "start_time": "2023-03-04T06:27:53.262Z"
   },
   {
    "duration": 10,
    "start_time": "2023-03-04T06:27:53.272Z"
   },
   {
    "duration": 20,
    "start_time": "2023-03-04T06:27:53.284Z"
   },
   {
    "duration": 6,
    "start_time": "2023-03-04T06:27:53.306Z"
   },
   {
    "duration": 11,
    "start_time": "2023-03-04T06:27:53.348Z"
   },
   {
    "duration": 11,
    "start_time": "2023-03-04T06:27:53.361Z"
   },
   {
    "duration": 20,
    "start_time": "2023-03-04T06:27:53.374Z"
   },
   {
    "duration": 11,
    "start_time": "2023-03-04T06:27:53.396Z"
   },
   {
    "duration": 29,
    "start_time": "2023-03-04T06:27:53.410Z"
   },
   {
    "duration": 39,
    "start_time": "2023-03-04T06:27:53.442Z"
   },
   {
    "duration": 3,
    "start_time": "2023-03-04T06:27:53.483Z"
   },
   {
    "duration": 18,
    "start_time": "2023-03-04T06:27:53.488Z"
   },
   {
    "duration": 24,
    "start_time": "2023-03-04T06:27:53.509Z"
   },
   {
    "duration": 29,
    "start_time": "2023-03-04T06:27:53.534Z"
   },
   {
    "duration": 16,
    "start_time": "2023-03-04T06:27:53.564Z"
   },
   {
    "duration": 168,
    "start_time": "2023-03-04T06:27:53.582Z"
   },
   {
    "duration": 4,
    "start_time": "2023-03-04T06:27:53.753Z"
   },
   {
    "duration": 271715,
    "start_time": "2023-03-04T06:27:53.758Z"
   },
   {
    "duration": 1605,
    "start_time": "2023-03-04T06:32:25.475Z"
   },
   {
    "duration": 1474,
    "start_time": "2023-03-04T06:32:27.082Z"
   },
   {
    "duration": 6,
    "start_time": "2023-03-04T06:32:28.648Z"
   },
   {
    "duration": 504,
    "start_time": "2023-03-04T06:32:28.656Z"
   },
   {
    "duration": 95,
    "start_time": "2023-03-04T06:32:29.164Z"
   },
   {
    "duration": 89,
    "start_time": "2023-03-04T06:32:29.261Z"
   },
   {
    "duration": 17,
    "start_time": "2023-03-04T06:32:29.352Z"
   },
   {
    "duration": 37,
    "start_time": "2023-03-04T06:32:29.371Z"
   },
   {
    "duration": 178,
    "start_time": "2023-03-04T06:32:29.410Z"
   },
   {
    "duration": 487,
    "start_time": "2023-03-04T06:32:29.591Z"
   },
   {
    "duration": 9,
    "start_time": "2023-03-04T06:32:30.081Z"
   },
   {
    "duration": 46,
    "start_time": "2023-03-04T06:32:30.092Z"
   },
   {
    "duration": 64,
    "start_time": "2023-03-04T06:32:30.141Z"
   },
   {
    "duration": 37,
    "start_time": "2023-03-04T06:32:30.211Z"
   },
   {
    "duration": 32,
    "start_time": "2023-03-04T06:32:30.250Z"
   },
   {
    "duration": 161,
    "start_time": "2023-03-04T06:32:30.284Z"
   },
   {
    "duration": 143,
    "start_time": "2023-03-04T06:32:30.447Z"
   },
   {
    "duration": 1941,
    "start_time": "2023-03-04T06:32:30.592Z"
   },
   {
    "duration": 369793,
    "start_time": "2023-03-04T06:32:32.535Z"
   },
   {
    "duration": 9422,
    "start_time": "2023-03-04T06:38:42.330Z"
   },
   {
    "duration": 1021,
    "start_time": "2023-03-04T06:38:51.757Z"
   },
   {
    "duration": 151145,
    "start_time": "2023-03-04T06:38:52.779Z"
   },
   {
    "duration": 6223,
    "start_time": "2023-03-04T06:41:23.927Z"
   },
   {
    "duration": 5,
    "start_time": "2023-03-04T06:41:30.152Z"
   },
   {
    "duration": 125,
    "start_time": "2023-03-04T06:41:30.159Z"
   },
   {
    "duration": 19,
    "start_time": "2023-03-04T06:41:30.287Z"
   },
   {
    "duration": 16,
    "start_time": "2023-03-04T06:41:30.308Z"
   },
   {
    "duration": 26,
    "start_time": "2023-03-04T06:41:30.326Z"
   },
   {
    "duration": 1476,
    "start_time": "2023-03-04T06:41:30.354Z"
   },
   {
    "duration": 232,
    "start_time": "2023-03-04T06:41:31.832Z"
   },
   {
    "duration": 8,
    "start_time": "2023-03-04T06:41:32.066Z"
   },
   {
    "duration": 11,
    "start_time": "2023-03-04T06:41:32.076Z"
   },
   {
    "duration": 15,
    "start_time": "2023-03-04T06:41:32.089Z"
   },
   {
    "duration": 1929,
    "start_time": "2023-03-04T07:25:34.865Z"
   },
   {
    "duration": 1564,
    "start_time": "2023-05-20T08:34:22.486Z"
   },
   {
    "duration": 93,
    "start_time": "2023-05-20T08:34:24.052Z"
   },
   {
    "duration": 12,
    "start_time": "2023-05-20T08:34:24.146Z"
   },
   {
    "duration": 11,
    "start_time": "2023-05-20T08:34:24.161Z"
   },
   {
    "duration": 3,
    "start_time": "2023-05-20T08:34:24.174Z"
   },
   {
    "duration": 4,
    "start_time": "2023-05-20T08:34:24.682Z"
   },
   {
    "duration": 4,
    "start_time": "2023-05-20T08:34:25.008Z"
   },
   {
    "duration": 3,
    "start_time": "2023-05-20T08:34:25.668Z"
   },
   {
    "duration": 5,
    "start_time": "2023-05-20T08:34:26.020Z"
   },
   {
    "duration": 9,
    "start_time": "2023-05-20T08:34:26.210Z"
   },
   {
    "duration": 11,
    "start_time": "2023-05-20T08:34:26.578Z"
   },
   {
    "duration": 4,
    "start_time": "2023-05-20T08:34:26.772Z"
   },
   {
    "duration": 11,
    "start_time": "2023-05-20T08:34:27.118Z"
   },
   {
    "duration": 3,
    "start_time": "2023-05-20T08:34:28.459Z"
   },
   {
    "duration": 10,
    "start_time": "2023-05-20T08:34:28.837Z"
   },
   {
    "duration": 4,
    "start_time": "2023-05-20T08:34:29.038Z"
   },
   {
    "duration": 9,
    "start_time": "2023-05-20T08:34:29.608Z"
   },
   {
    "duration": 30,
    "start_time": "2023-05-20T08:34:30.137Z"
   },
   {
    "duration": 3,
    "start_time": "2023-05-20T08:34:31.376Z"
   },
   {
    "duration": 56,
    "start_time": "2023-05-20T08:34:31.552Z"
   },
   {
    "duration": 18,
    "start_time": "2023-05-20T08:34:32.309Z"
   },
   {
    "duration": 14,
    "start_time": "2023-05-20T08:34:33.069Z"
   },
   {
    "duration": 14,
    "start_time": "2023-05-20T08:34:36.068Z"
   },
   {
    "duration": 116,
    "start_time": "2023-05-20T08:34:36.548Z"
   },
   {
    "duration": 3,
    "start_time": "2023-05-20T08:34:39.219Z"
   },
   {
    "duration": 136,
    "start_time": "2023-05-20T08:34:46.686Z"
   },
   {
    "duration": 21,
    "start_time": "2023-05-20T08:34:52.437Z"
   },
   {
    "duration": 1296,
    "start_time": "2023-12-20T03:59:56.891Z"
   }
  ],
  "kernelspec": {
   "display_name": "Python 3 (ipykernel)",
   "language": "python",
   "name": "python3"
  },
  "language_info": {
   "codemirror_mode": {
    "name": "ipython",
    "version": 3
   },
   "file_extension": ".py",
   "mimetype": "text/x-python",
   "name": "python",
   "nbconvert_exporter": "python",
   "pygments_lexer": "ipython3",
   "version": "3.11.5"
  },
  "toc": {
   "base_numbering": 1,
   "nav_menu": {},
   "number_sections": true,
   "sideBar": true,
   "skip_h1_title": true,
   "title_cell": "Содержание",
   "title_sidebar": "Contents",
   "toc_cell": true,
   "toc_position": {
    "height": "calc(100% - 180px)",
    "left": "10px",
    "top": "150px",
    "width": "242.438px"
   },
   "toc_section_display": true,
   "toc_window_display": true
  }
 },
 "nbformat": 4,
 "nbformat_minor": 2
}
