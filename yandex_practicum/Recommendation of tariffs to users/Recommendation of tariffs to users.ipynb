{
 "cells": [
  {
   "cell_type": "markdown",
   "metadata": {},
   "source": [
    "# Рекомендация тарифов"
   ]
  },
  {
   "cell_type": "markdown",
   "metadata": {},
   "source": [
    "В вашем распоряжении данные о поведении клиентов, которые уже перешли на эти тарифы (из проекта курса «Статистический анализ данных»). Нужно построить модель для задачи классификации, которая выберет подходящий тариф. Предобработка данных не понадобится — вы её уже сделали.\n",
    "\n",
    "Постройте модель с максимально большим значением *accuracy*. Чтобы сдать проект успешно, нужно довести долю правильных ответов по крайней мере до 0.75. Проверьте *accuracy* на тестовой выборке самостоятельно."
   ]
  },
  {
   "cell_type": "markdown",
   "metadata": {},
   "source": [
    "## Откройте и изучите файл"
   ]
  },
  {
   "cell_type": "code",
   "execution_count": 1,
   "metadata": {},
   "outputs": [],
   "source": [
    "from sklearn.tree import DecisionTreeClassifier\n",
    "from sklearn.linear_model import LinearRegression\n",
    "from sklearn.ensemble import RandomForestClassifier\n",
    "from sklearn.linear_model import LogisticRegression\n",
    "from sklearn.model_selection import train_test_split\n",
    "from sklearn.metrics import mean_squared_error\n",
    "from sklearn.metrics import accuracy_score\n",
    "from sklearn.dummy import DummyClassifier"
   ]
  },
  {
   "cell_type": "code",
   "execution_count": 2,
   "metadata": {},
   "outputs": [],
   "source": [
    "from tqdm import tqdm\n",
    "import pandas as pd"
   ]
  },
  {
   "cell_type": "code",
   "execution_count": 3,
   "metadata": {},
   "outputs": [
    {
     "name": "stdout",
     "output_type": "stream",
     "text": [
      "<class 'pandas.core.frame.DataFrame'>\n",
      "RangeIndex: 3214 entries, 0 to 3213\n",
      "Data columns (total 5 columns):\n",
      " #   Column    Non-Null Count  Dtype  \n",
      "---  ------    --------------  -----  \n",
      " 0   calls     3214 non-null   float64\n",
      " 1   minutes   3214 non-null   float64\n",
      " 2   messages  3214 non-null   float64\n",
      " 3   mb_used   3214 non-null   float64\n",
      " 4   is_ultra  3214 non-null   int64  \n",
      "dtypes: float64(4), int64(1)\n",
      "memory usage: 125.7 KB\n",
      "<class 'pandas.core.frame.DataFrame'>\n",
      "RangeIndex: 3214 entries, 0 to 3213\n",
      "Data columns (total 5 columns):\n",
      " #   Column    Non-Null Count  Dtype  \n",
      "---  ------    --------------  -----  \n",
      " 0   calls     3214 non-null   float64\n",
      " 1   minutes   3214 non-null   float64\n",
      " 2   messages  3214 non-null   int64  \n",
      " 3   mb_used   3214 non-null   float64\n",
      " 4   is_ultra  3214 non-null   int64  \n",
      "dtypes: float64(3), int64(2)\n",
      "memory usage: 125.7 KB\n"
     ]
    },
    {
     "data": {
      "text/html": [
       "<div>\n",
       "<style scoped>\n",
       "    .dataframe tbody tr th:only-of-type {\n",
       "        vertical-align: middle;\n",
       "    }\n",
       "\n",
       "    .dataframe tbody tr th {\n",
       "        vertical-align: top;\n",
       "    }\n",
       "\n",
       "    .dataframe thead th {\n",
       "        text-align: right;\n",
       "    }\n",
       "</style>\n",
       "<table border=\"1\" class=\"dataframe\">\n",
       "  <thead>\n",
       "    <tr style=\"text-align: right;\">\n",
       "      <th></th>\n",
       "      <th>calls</th>\n",
       "      <th>minutes</th>\n",
       "      <th>messages</th>\n",
       "      <th>mb_used</th>\n",
       "      <th>is_ultra</th>\n",
       "    </tr>\n",
       "  </thead>\n",
       "  <tbody>\n",
       "    <tr>\n",
       "      <th>0</th>\n",
       "      <td>40.0</td>\n",
       "      <td>311.90</td>\n",
       "      <td>83</td>\n",
       "      <td>19915.42</td>\n",
       "      <td>0</td>\n",
       "    </tr>\n",
       "    <tr>\n",
       "      <th>1</th>\n",
       "      <td>85.0</td>\n",
       "      <td>516.75</td>\n",
       "      <td>56</td>\n",
       "      <td>22696.96</td>\n",
       "      <td>0</td>\n",
       "    </tr>\n",
       "    <tr>\n",
       "      <th>2</th>\n",
       "      <td>77.0</td>\n",
       "      <td>467.66</td>\n",
       "      <td>86</td>\n",
       "      <td>21060.45</td>\n",
       "      <td>0</td>\n",
       "    </tr>\n",
       "    <tr>\n",
       "      <th>3</th>\n",
       "      <td>106.0</td>\n",
       "      <td>745.53</td>\n",
       "      <td>81</td>\n",
       "      <td>8437.39</td>\n",
       "      <td>1</td>\n",
       "    </tr>\n",
       "    <tr>\n",
       "      <th>4</th>\n",
       "      <td>66.0</td>\n",
       "      <td>418.74</td>\n",
       "      <td>1</td>\n",
       "      <td>14502.75</td>\n",
       "      <td>0</td>\n",
       "    </tr>\n",
       "    <tr>\n",
       "      <th>5</th>\n",
       "      <td>58.0</td>\n",
       "      <td>344.56</td>\n",
       "      <td>21</td>\n",
       "      <td>15823.37</td>\n",
       "      <td>0</td>\n",
       "    </tr>\n",
       "    <tr>\n",
       "      <th>6</th>\n",
       "      <td>57.0</td>\n",
       "      <td>431.64</td>\n",
       "      <td>20</td>\n",
       "      <td>3738.90</td>\n",
       "      <td>1</td>\n",
       "    </tr>\n",
       "    <tr>\n",
       "      <th>7</th>\n",
       "      <td>15.0</td>\n",
       "      <td>132.40</td>\n",
       "      <td>6</td>\n",
       "      <td>21911.60</td>\n",
       "      <td>0</td>\n",
       "    </tr>\n",
       "    <tr>\n",
       "      <th>8</th>\n",
       "      <td>7.0</td>\n",
       "      <td>43.39</td>\n",
       "      <td>3</td>\n",
       "      <td>2538.67</td>\n",
       "      <td>1</td>\n",
       "    </tr>\n",
       "    <tr>\n",
       "      <th>9</th>\n",
       "      <td>90.0</td>\n",
       "      <td>665.41</td>\n",
       "      <td>38</td>\n",
       "      <td>17358.61</td>\n",
       "      <td>0</td>\n",
       "    </tr>\n",
       "  </tbody>\n",
       "</table>\n",
       "</div>"
      ],
      "text/plain": [
       "   calls  minutes  messages   mb_used  is_ultra\n",
       "0   40.0   311.90        83  19915.42         0\n",
       "1   85.0   516.75        56  22696.96         0\n",
       "2   77.0   467.66        86  21060.45         0\n",
       "3  106.0   745.53        81   8437.39         1\n",
       "4   66.0   418.74         1  14502.75         0\n",
       "5   58.0   344.56        21  15823.37         0\n",
       "6   57.0   431.64        20   3738.90         1\n",
       "7   15.0   132.40         6  21911.60         0\n",
       "8    7.0    43.39         3   2538.67         1\n",
       "9   90.0   665.41        38  17358.61         0"
      ]
     },
     "execution_count": 3,
     "metadata": {},
     "output_type": "execute_result"
    }
   ],
   "source": [
    "df=pd.read_csv('/datasets/users_behavior.csv')\n",
    "df.info()\n",
    "df['messages']=df['messages'].astype(\"int\")\n",
    "df.info()\n",
    "df.head(10)"
   ]
  },
  {
   "cell_type": "markdown",
   "metadata": {},
   "source": [
    "## Разбейте данные на выборки"
   ]
  },
  {
   "cell_type": "code",
   "execution_count": 4,
   "metadata": {},
   "outputs": [
    {
     "data": {
      "text/plain": [
       "(1928, 4)"
      ]
     },
     "execution_count": 4,
     "metadata": {},
     "output_type": "execute_result"
    }
   ],
   "source": [
    "features = df.drop(['is_ultra'],axis=1)#Извлекаем признаки для проверки \n",
    "target = df['is_ultra']#извлекаем целевой признак\n",
    "\n",
    "(train_features,test_features,train_target,test_target) = train_test_split(features,target, test_size=0.4, random_state=12345)\n",
    "\n",
    "(valid_features,test_features,valid_target,test_target) = train_test_split(test_features,test_target, test_size=0.5, random_state=12345)\n",
    "\n",
    "train_features.shape\n"
   ]
  },
  {
   "cell_type": "code",
   "execution_count": 5,
   "metadata": {},
   "outputs": [
    {
     "data": {
      "text/plain": [
       "(643, 4)"
      ]
     },
     "execution_count": 5,
     "metadata": {},
     "output_type": "execute_result"
    }
   ],
   "source": [
    "test_features.shape"
   ]
  },
  {
   "cell_type": "code",
   "execution_count": 6,
   "metadata": {},
   "outputs": [
    {
     "data": {
      "text/plain": [
       "(643, 4)"
      ]
     },
     "execution_count": 6,
     "metadata": {},
     "output_type": "execute_result"
    }
   ],
   "source": [
    "valid_features.shape"
   ]
  },
  {
   "cell_type": "markdown",
   "metadata": {},
   "source": [
    "## Исследуйте модели"
   ]
  },
  {
   "cell_type": "code",
   "execution_count": 7,
   "metadata": {},
   "outputs": [
    {
     "name": "stderr",
     "output_type": "stream",
     "text": [
      "100%|██████████| 19/19 [03:46<00:00, 11.90s/it]"
     ]
    },
    {
     "name": "stdout",
     "output_type": "stream",
     "text": [
      "0.8087091757387247\n"
     ]
    },
    {
     "name": "stderr",
     "output_type": "stream",
     "text": [
      "\n"
     ]
    }
   ],
   "source": [
    "best_RF = None\n",
    "best_accuracy_RF = 0\n",
    "best_est_RF = 0\n",
    "best_depth_RF = 0\n",
    "for est in tqdm(range(10,200,10)):\n",
    "    for depth in range(2,25):\n",
    "        RF = RandomForestClassifier(random_state = 12345,n_estimators = est, max_depth = depth)\n",
    "        RF.fit(train_features,train_target)\n",
    "        prediction_valid_RF = RF.predict(valid_features)\n",
    "        accuracy_RF = accuracy_score(prediction_valid_RF, valid_target)\n",
    "        if best_accuracy_RF < accuracy_RF:\n",
    "            best_RF = RF\n",
    "            best_depth_RF = depth\n",
    "            best_est_RF = est\n",
    "            best_accuracy_RF = accuracy_RF\n",
    "\n",
    "\n",
    "print(best_accuracy_RF)"
   ]
  },
  {
   "cell_type": "code",
   "execution_count": 8,
   "metadata": {},
   "outputs": [
    {
     "name": "stderr",
     "output_type": "stream",
     "text": [
      "100%|██████████| 50/50 [00:00<00:00, 101.17it/s]"
     ]
    },
    {
     "name": "stdout",
     "output_type": "stream",
     "text": [
      "0.7853810264385692\n"
     ]
    },
    {
     "name": "stderr",
     "output_type": "stream",
     "text": [
      "\n"
     ]
    }
   ],
   "source": [
    "best_DT = None\n",
    "best_accuracy_DT = 0\n",
    "best_depth_DT = 0\n",
    "for depth in tqdm(range(2,52)):\n",
    "    DT = DecisionTreeClassifier(random_state = 12345, max_depth = depth)\n",
    "    DT.fit(train_features,train_target)\n",
    "    prediction_valid_DT = DT.predict(valid_features)\n",
    "    accuracy_DT = accuracy_score(prediction_valid_DT, valid_target)\n",
    "    if best_accuracy_DT < accuracy_DT:\n",
    "        best_DT = DT\n",
    "        best_accuracy_DT = accuracy_DT\n",
    "        best_depth_DT = depth\n",
    "\n",
    "\n",
    "print(best_accuracy_DT)"
   ]
  },
  {
   "cell_type": "code",
   "execution_count": 9,
   "metadata": {},
   "outputs": [
    {
     "name": "stderr",
     "output_type": "stream",
     "text": [
      "100%|██████████| 50/50 [00:00<00:00, 50.04it/s]"
     ]
    },
    {
     "name": "stdout",
     "output_type": "stream",
     "text": [
      "0.7107309486780715\n"
     ]
    },
    {
     "name": "stderr",
     "output_type": "stream",
     "text": [
      "\n"
     ]
    }
   ],
   "source": [
    "best_LR = None\n",
    "best_accuracy_LR = 0\n",
    "for est in tqdm(range(2,52)):\n",
    "    LR = LogisticRegression(random_state = 12345,max_iter= 1000,tol=1e-5,solver = 'lbfgs' )\n",
    "    LR.fit(train_features,train_target)\n",
    "    prediction_valid_LR = LR.predict(valid_features)\n",
    "    accuracy_LR = accuracy_score(prediction_valid_LR, valid_target)\n",
    "    if best_accuracy_LR < accuracy_LR:\n",
    "            best_LR = LR\n",
    "            best_accuracy_LR = accuracy_LR\n",
    "print(best_accuracy_LR)"
   ]
  },
  {
   "cell_type": "markdown",
   "metadata": {},
   "source": [
    "вывод:модель 'RandomForest' работает медленно,но точно более 80% удачных предсказаний\n",
    "модель 'DecisionTree' работает намного шустрее, при этом ее предсказания не сильно отличаются от 'RandomForest' (78% правильных предсказаний)по этому я считаю, что это оптимальная для данного проекта\n",
    "моделью.\n",
    "модель 'LogisticRegression' самая не точная, но такая же быстрая как и 'DecisionTree', в рамках данного проекта она проходит понижней границе точности предсказаний 71%."
   ]
  },
  {
   "cell_type": "markdown",
   "metadata": {},
   "source": [
    "## Проверьте модель на тестовой выборке"
   ]
  },
  {
   "cell_type": "code",
   "execution_count": 10,
   "metadata": {},
   "outputs": [
    {
     "name": "stdout",
     "output_type": "stream",
     "text": [
      "дерево решений: 0.7791601866251944\n"
     ]
    }
   ],
   "source": [
    "prediction_test_DT = best_DT.predict(test_features)\n",
    "\n",
    "accuracy_DT_test = accuracy_score(prediction_test_DT, test_target)\n",
    "\n",
    "print(\"дерево решений:\",accuracy_DT_test)"
   ]
  },
  {
   "cell_type": "markdown",
   "metadata": {},
   "source": [
    "вывод: \n",
    "самой оптимальной моделью по скоторсти и точности является \"дерево решений\", его я и спользовал для проверки модели на тестовой вборке"
   ]
  },
  {
   "cell_type": "markdown",
   "metadata": {},
   "source": [
    "## (бонус) Проверьте модели на адекватность"
   ]
  },
  {
   "cell_type": "code",
   "execution_count": 11,
   "metadata": {
    "scrolled": true
   },
   "outputs": [
    {
     "name": "stdout",
     "output_type": "stream",
     "text": [
      "0.7060653188180405\n"
     ]
    }
   ],
   "source": [
    "DC=DummyClassifier(strategy='most_frequent',random_state=12345)\n",
    "DC.fit(train_features,train_target)\n",
    "prediction_valid_DC = DC.predict(valid_features)\n",
    "accuracy_DC = accuracy_score(prediction_valid_DC, valid_target)\n",
    "print(accuracy_DC)"
   ]
  },
  {
   "cell_type": "code",
   "execution_count": 12,
   "metadata": {
    "scrolled": true
   },
   "outputs": [
    {
     "name": "stdout",
     "output_type": "stream",
     "text": [
      "0.6842923794712286\n"
     ]
    }
   ],
   "source": [
    "prediction_test_DС = DC.predict(test_features)\n",
    "accuracy_DС_test = accuracy_score(prediction_test_DС , test_target)\n",
    "print(accuracy_DС_test)"
   ]
  },
  {
   "cell_type": "markdown",
   "metadata": {},
   "source": [
    "вывод: простая модель показазала себя хуже чем более сложная 68% верных предсказаний,маловато будет."
   ]
  },
  {
   "cell_type": "markdown",
   "metadata": {},
   "source": [
    "## Чек-лист готовности проекта"
   ]
  },
  {
   "cell_type": "markdown",
   "metadata": {},
   "source": [
    "Поставьте 'x' в выполненных пунктах. Далее нажмите Shift+Enter."
   ]
  },
  {
   "cell_type": "markdown",
   "metadata": {},
   "source": [
    "- [x] Jupyter Notebook открыт\n",
    "- [x] Весь код исполняется без ошибок\n",
    "- [x] Ячейки с кодом расположены в порядке исполнения\n",
    "- [x] Выполнено задание 1: данные загружены и изучены\n",
    "- [x] Выполнено задание 2: данные разбиты на три выборки\n",
    "- [x] Выполнено задание 3: проведено исследование моделей\n",
    "    - [x] Рассмотрено больше одной модели\n",
    "    - [x] Рассмотрено хотя бы 3 значения гипепараметров для какой-нибудь модели\n",
    "    - [x] Написаны выводы по результатам исследования\n",
    "- [x] Выполнено задание 3: Проведено тестирование\n",
    "- [x] Удалось достичь accuracy не меньше 0.75\n"
   ]
  },
  {
   "cell_type": "code",
   "execution_count": null,
   "metadata": {},
   "outputs": [],
   "source": []
  }
 ],
 "metadata": {
  "ExecuteTimeLog": [
   {
    "duration": 424,
    "start_time": "2023-02-01T10:39:31.437Z"
   },
   {
    "duration": 38,
    "start_time": "2023-02-01T10:39:44.359Z"
   },
   {
    "duration": 46,
    "start_time": "2023-02-01T10:40:35.101Z"
   },
   {
    "duration": 37,
    "start_time": "2023-02-01T10:42:23.448Z"
   },
   {
    "duration": 4,
    "start_time": "2023-02-01T10:42:24.632Z"
   },
   {
    "duration": 60,
    "start_time": "2023-02-01T10:42:25.783Z"
   },
   {
    "duration": 729,
    "start_time": "2023-02-01T10:42:50.410Z"
   },
   {
    "duration": 4,
    "start_time": "2023-02-01T10:42:51.142Z"
   },
   {
    "duration": 6,
    "start_time": "2023-02-01T10:42:53.499Z"
   },
   {
    "duration": 45,
    "start_time": "2023-02-01T10:43:21.593Z"
   },
   {
    "duration": 3,
    "start_time": "2023-02-01T10:43:24.192Z"
   },
   {
    "duration": 5,
    "start_time": "2023-02-01T10:43:25.117Z"
   },
   {
    "duration": 586,
    "start_time": "2023-02-01T10:43:26.034Z"
   },
   {
    "duration": 4,
    "start_time": "2023-02-01T10:43:27.609Z"
   },
   {
    "duration": 5,
    "start_time": "2023-02-01T10:45:31.733Z"
   },
   {
    "duration": 29,
    "start_time": "2023-02-01T10:45:32.702Z"
   },
   {
    "duration": 5,
    "start_time": "2023-02-01T10:45:36.527Z"
   },
   {
    "duration": 4,
    "start_time": "2023-02-01T10:45:56.794Z"
   },
   {
    "duration": 3003,
    "start_time": "2023-02-01T10:48:23.308Z"
   },
   {
    "duration": 35,
    "start_time": "2023-02-01T10:50:52.859Z"
   },
   {
    "duration": 40,
    "start_time": "2023-02-01T10:52:20.738Z"
   },
   {
    "duration": 6,
    "start_time": "2023-02-01T10:52:22.662Z"
   },
   {
    "duration": 38,
    "start_time": "2023-02-01T10:52:23.200Z"
   },
   {
    "duration": 7,
    "start_time": "2023-02-01T10:53:55.125Z"
   },
   {
    "duration": 35,
    "start_time": "2023-02-01T10:53:56.486Z"
   },
   {
    "duration": 9,
    "start_time": "2023-02-01T10:54:59.457Z"
   },
   {
    "duration": 41,
    "start_time": "2023-02-01T10:55:01.036Z"
   },
   {
    "duration": 10,
    "start_time": "2023-02-01T11:02:18.422Z"
   },
   {
    "duration": 12,
    "start_time": "2023-02-01T11:02:22.488Z"
   },
   {
    "duration": 44,
    "start_time": "2023-02-01T11:02:25.514Z"
   },
   {
    "duration": 10,
    "start_time": "2023-02-01T11:02:26.451Z"
   },
   {
    "duration": 19,
    "start_time": "2023-02-01T11:02:30.999Z"
   },
   {
    "duration": 12,
    "start_time": "2023-02-01T11:03:43.487Z"
   },
   {
    "duration": 44,
    "start_time": "2023-02-01T11:03:49.172Z"
   },
   {
    "duration": 9,
    "start_time": "2023-02-01T11:03:50.298Z"
   },
   {
    "duration": 14,
    "start_time": "2023-02-01T11:03:51.231Z"
   },
   {
    "duration": 46,
    "start_time": "2023-02-01T11:04:06.900Z"
   },
   {
    "duration": 10,
    "start_time": "2023-02-01T11:04:07.383Z"
   },
   {
    "duration": 35,
    "start_time": "2023-02-01T11:04:07.729Z"
   },
   {
    "duration": 22,
    "start_time": "2023-02-01T11:05:28.311Z"
   },
   {
    "duration": 20,
    "start_time": "2023-02-01T11:05:31.495Z"
   },
   {
    "duration": 5,
    "start_time": "2023-02-01T11:05:33.929Z"
   },
   {
    "duration": 47,
    "start_time": "2023-02-01T11:06:47.205Z"
   },
   {
    "duration": 52,
    "start_time": "2023-02-01T11:07:17.304Z"
   },
   {
    "duration": 17,
    "start_time": "2023-02-01T11:10:25.514Z"
   },
   {
    "duration": 22,
    "start_time": "2023-02-01T11:10:27.193Z"
   },
   {
    "duration": 53,
    "start_time": "2023-02-01T11:11:18.097Z"
   },
   {
    "duration": 10,
    "start_time": "2023-02-01T11:11:30.488Z"
   },
   {
    "duration": 743,
    "start_time": "2023-02-01T11:11:41.024Z"
   },
   {
    "duration": 18,
    "start_time": "2023-02-01T11:11:43.543Z"
   },
   {
    "duration": 48,
    "start_time": "2023-02-01T11:22:58.590Z"
   },
   {
    "duration": 21,
    "start_time": "2023-02-01T11:23:03.740Z"
   },
   {
    "duration": 37,
    "start_time": "2023-02-01T11:49:16.826Z"
   },
   {
    "duration": 828,
    "start_time": "2023-02-01T11:49:20.002Z"
   },
   {
    "duration": 998,
    "start_time": "2023-02-01T11:49:23.630Z"
   },
   {
    "duration": 13,
    "start_time": "2023-02-01T11:50:05.293Z"
   },
   {
    "duration": 39,
    "start_time": "2023-02-01T11:51:20.618Z"
   },
   {
    "duration": 777,
    "start_time": "2023-02-01T11:51:21.632Z"
   },
   {
    "duration": 4,
    "start_time": "2023-02-01T11:51:24.938Z"
   },
   {
    "duration": 7,
    "start_time": "2023-02-01T11:51:27.906Z"
   },
   {
    "duration": 40,
    "start_time": "2023-02-01T11:51:35.571Z"
   },
   {
    "duration": 862,
    "start_time": "2023-02-01T11:51:36.255Z"
   },
   {
    "duration": 5,
    "start_time": "2023-02-01T11:51:37.394Z"
   },
   {
    "duration": 37,
    "start_time": "2023-02-01T11:51:42.845Z"
   },
   {
    "duration": 798,
    "start_time": "2023-02-01T11:51:43.411Z"
   },
   {
    "duration": 4,
    "start_time": "2023-02-01T11:51:44.244Z"
   },
   {
    "duration": 50,
    "start_time": "2023-02-01T11:52:10.394Z"
   },
   {
    "duration": 800,
    "start_time": "2023-02-01T11:52:12.221Z"
   },
   {
    "duration": 6,
    "start_time": "2023-02-01T11:52:17.136Z"
   },
   {
    "duration": 40,
    "start_time": "2023-02-01T11:52:44.506Z"
   },
   {
    "duration": 770,
    "start_time": "2023-02-01T11:52:46.617Z"
   },
   {
    "duration": 4,
    "start_time": "2023-02-01T11:52:47.521Z"
   },
   {
    "duration": 40,
    "start_time": "2023-02-01T11:53:06.646Z"
   },
   {
    "duration": 888,
    "start_time": "2023-02-01T11:53:08.424Z"
   },
   {
    "duration": 5,
    "start_time": "2023-02-01T11:53:10.425Z"
   },
   {
    "duration": 43,
    "start_time": "2023-02-01T11:54:09.020Z"
   },
   {
    "duration": 898,
    "start_time": "2023-02-01T11:54:09.731Z"
   },
   {
    "duration": 5,
    "start_time": "2023-02-01T11:54:10.907Z"
   },
   {
    "duration": 5,
    "start_time": "2023-02-01T11:54:17.514Z"
   },
   {
    "duration": 41,
    "start_time": "2023-02-01T12:03:45.235Z"
   },
   {
    "duration": 793,
    "start_time": "2023-02-01T12:03:45.686Z"
   },
   {
    "duration": 5,
    "start_time": "2023-02-01T12:03:46.481Z"
   },
   {
    "duration": 40,
    "start_time": "2023-02-01T12:18:07.891Z"
   },
   {
    "duration": 63,
    "start_time": "2023-02-01T12:18:34.328Z"
   },
   {
    "duration": 13,
    "start_time": "2023-02-01T12:24:02.106Z"
   },
   {
    "duration": 47,
    "start_time": "2023-02-01T12:24:14.183Z"
   },
   {
    "duration": 10,
    "start_time": "2023-02-01T12:24:14.231Z"
   },
   {
    "duration": 4741,
    "start_time": "2023-02-01T12:24:14.243Z"
   },
   {
    "duration": 1223,
    "start_time": "2023-02-01T12:24:35.798Z"
   },
   {
    "duration": 10,
    "start_time": "2023-02-01T12:24:37.023Z"
   },
   {
    "duration": 96,
    "start_time": "2023-02-01T12:24:37.906Z"
   },
   {
    "duration": 16,
    "start_time": "2023-02-01T12:27:08.692Z"
   },
   {
    "duration": 54,
    "start_time": "2023-02-01T12:27:19.894Z"
   },
   {
    "duration": 1097,
    "start_time": "2023-02-01T12:27:23.838Z"
   },
   {
    "duration": 10,
    "start_time": "2023-02-01T12:27:24.936Z"
   },
   {
    "duration": 4606,
    "start_time": "2023-02-01T12:27:24.948Z"
   },
   {
    "duration": 64,
    "start_time": "2023-02-01T12:27:29.556Z"
   },
   {
    "duration": 13,
    "start_time": "2023-02-01T12:29:46.324Z"
   },
   {
    "duration": 47,
    "start_time": "2023-02-01T12:30:29.590Z"
   },
   {
    "duration": 9,
    "start_time": "2023-02-01T12:30:29.921Z"
   },
   {
    "duration": 4663,
    "start_time": "2023-02-01T12:30:30.798Z"
   },
   {
    "duration": 13,
    "start_time": "2023-02-01T12:30:35.463Z"
   },
   {
    "duration": 0,
    "start_time": "2023-02-01T12:30:35.478Z"
   },
   {
    "duration": 331,
    "start_time": "2023-02-01T12:30:57.706Z"
   },
   {
    "duration": 19,
    "start_time": "2023-02-01T12:38:05.236Z"
   },
   {
    "duration": 323,
    "start_time": "2023-02-01T12:38:31.627Z"
   },
   {
    "duration": 343,
    "start_time": "2023-02-01T12:38:46.267Z"
   },
   {
    "duration": 31,
    "start_time": "2023-02-01T12:39:25.306Z"
   },
   {
    "duration": 396,
    "start_time": "2023-02-01T12:41:35.614Z"
   },
   {
    "duration": 342,
    "start_time": "2023-02-01T12:42:00.710Z"
   },
   {
    "duration": 38,
    "start_time": "2023-02-01T12:44:08.094Z"
   },
   {
    "duration": 10,
    "start_time": "2023-02-01T12:44:11.306Z"
   },
   {
    "duration": 35,
    "start_time": "2023-02-01T12:44:12.306Z"
   },
   {
    "duration": 343,
    "start_time": "2023-02-01T12:44:14.893Z"
   },
   {
    "duration": 42,
    "start_time": "2023-02-01T12:45:11.023Z"
   },
   {
    "duration": 21,
    "start_time": "2023-02-01T12:45:41.330Z"
   },
   {
    "duration": 13,
    "start_time": "2023-02-01T12:50:14.415Z"
   },
   {
    "duration": 12,
    "start_time": "2023-02-01T12:54:04.842Z"
   },
   {
    "duration": 1419,
    "start_time": "2023-02-02T05:38:53.141Z"
   },
   {
    "duration": 134,
    "start_time": "2023-02-02T05:38:54.562Z"
   },
   {
    "duration": 34,
    "start_time": "2023-02-02T05:38:59.200Z"
   },
   {
    "duration": 270,
    "start_time": "2023-02-02T05:38:59.581Z"
   },
   {
    "duration": 9,
    "start_time": "2023-02-02T05:39:55.397Z"
   },
   {
    "duration": 13,
    "start_time": "2023-02-02T05:40:21.781Z"
   },
   {
    "duration": 35,
    "start_time": "2023-02-02T05:40:25.223Z"
   },
   {
    "duration": 9,
    "start_time": "2023-02-02T05:40:28.097Z"
   },
   {
    "duration": 38,
    "start_time": "2023-02-02T05:40:29.180Z"
   },
   {
    "duration": 13,
    "start_time": "2023-02-02T05:40:29.973Z"
   },
   {
    "duration": 9,
    "start_time": "2023-02-02T05:41:16.445Z"
   },
   {
    "duration": 36,
    "start_time": "2023-02-02T05:41:17.543Z"
   },
   {
    "duration": 13,
    "start_time": "2023-02-02T05:41:18.303Z"
   },
   {
    "duration": 36,
    "start_time": "2023-02-02T05:43:30.279Z"
   },
   {
    "duration": 36,
    "start_time": "2023-02-02T05:44:11.377Z"
   },
   {
    "duration": 33,
    "start_time": "2023-02-02T05:44:34.112Z"
   },
   {
    "duration": 37,
    "start_time": "2023-02-02T05:44:49.347Z"
   },
   {
    "duration": 9,
    "start_time": "2023-02-02T05:45:46.402Z"
   },
   {
    "duration": 37,
    "start_time": "2023-02-02T05:45:47.628Z"
   },
   {
    "duration": 8,
    "start_time": "2023-02-02T05:48:11.485Z"
   },
   {
    "duration": 9,
    "start_time": "2023-02-02T05:48:24.296Z"
   },
   {
    "duration": 34,
    "start_time": "2023-02-02T05:49:15.692Z"
   },
   {
    "duration": 12,
    "start_time": "2023-02-02T05:49:24.955Z"
   },
   {
    "duration": 54,
    "start_time": "2023-02-02T05:49:30.255Z"
   },
   {
    "duration": 54,
    "start_time": "2023-02-02T05:49:36.982Z"
   },
   {
    "duration": 56,
    "start_time": "2023-02-02T05:49:44.759Z"
   },
   {
    "duration": 10,
    "start_time": "2023-02-02T05:49:46.197Z"
   },
   {
    "duration": 32,
    "start_time": "2023-02-02T05:49:47.927Z"
   },
   {
    "duration": 11,
    "start_time": "2023-02-02T05:49:48.861Z"
   },
   {
    "duration": 54,
    "start_time": "2023-02-02T05:51:24.122Z"
   },
   {
    "duration": 9,
    "start_time": "2023-02-02T05:51:24.908Z"
   },
   {
    "duration": 35,
    "start_time": "2023-02-02T05:51:25.857Z"
   },
   {
    "duration": 12,
    "start_time": "2023-02-02T05:51:26.584Z"
   },
   {
    "duration": 36,
    "start_time": "2023-02-02T05:54:37.629Z"
   },
   {
    "duration": 8,
    "start_time": "2023-02-02T05:55:34.116Z"
   },
   {
    "duration": 34,
    "start_time": "2023-02-02T05:55:35.138Z"
   },
   {
    "duration": 65,
    "start_time": "2023-02-02T05:56:34.488Z"
   },
   {
    "duration": 12,
    "start_time": "2023-02-02T05:56:34.983Z"
   },
   {
    "duration": 28,
    "start_time": "2023-02-02T05:56:35.433Z"
   },
   {
    "duration": 39,
    "start_time": "2023-02-02T05:56:40.087Z"
   },
   {
    "duration": 12,
    "start_time": "2023-02-02T05:56:40.751Z"
   },
   {
    "duration": 63,
    "start_time": "2023-02-02T05:58:06.407Z"
   },
   {
    "duration": 7,
    "start_time": "2023-02-02T05:58:06.992Z"
   },
   {
    "duration": 26,
    "start_time": "2023-02-02T05:58:08.042Z"
   },
   {
    "duration": 12,
    "start_time": "2023-02-02T05:58:08.888Z"
   },
   {
    "duration": 8,
    "start_time": "2023-02-02T06:00:03.391Z"
   },
   {
    "duration": 26,
    "start_time": "2023-02-02T06:00:04.280Z"
   },
   {
    "duration": 7,
    "start_time": "2023-02-02T06:00:42.665Z"
   },
   {
    "duration": 33,
    "start_time": "2023-02-02T06:00:43.696Z"
   },
   {
    "duration": 13,
    "start_time": "2023-02-02T06:00:45.411Z"
   },
   {
    "duration": 13,
    "start_time": "2023-02-02T06:02:14.747Z"
   },
   {
    "duration": 16,
    "start_time": "2023-02-02T06:02:21.403Z"
   },
   {
    "duration": 62,
    "start_time": "2023-02-02T06:02:42.175Z"
   },
   {
    "duration": 9,
    "start_time": "2023-02-02T06:02:43.104Z"
   },
   {
    "duration": 14,
    "start_time": "2023-02-02T06:02:44.182Z"
   },
   {
    "duration": 126653,
    "start_time": "2023-02-02T06:02:53.523Z"
   },
   {
    "duration": 0,
    "start_time": "2023-02-02T06:05:00.178Z"
   },
   {
    "duration": 10,
    "start_time": "2023-02-02T06:05:33.306Z"
   },
   {
    "duration": 123867,
    "start_time": "2023-02-02T06:05:34.281Z"
   },
   {
    "duration": 0,
    "start_time": "2023-02-02T06:07:38.149Z"
   },
   {
    "duration": 667,
    "start_time": "2023-02-02T06:10:58.022Z"
   },
   {
    "duration": 99,
    "start_time": "2023-02-02T06:11:00.604Z"
   },
   {
    "duration": 85,
    "start_time": "2023-02-02T06:11:46.742Z"
   },
   {
    "duration": 122,
    "start_time": "2023-02-02T06:12:21.733Z"
   },
   {
    "duration": 13,
    "start_time": "2023-02-02T06:12:50.816Z"
   },
   {
    "duration": 689,
    "start_time": "2023-02-02T06:12:57.345Z"
   },
   {
    "duration": 13,
    "start_time": "2023-02-02T06:13:30.744Z"
   },
   {
    "duration": 53,
    "start_time": "2023-02-02T06:16:33.196Z"
   },
   {
    "duration": 8,
    "start_time": "2023-02-02T06:16:33.695Z"
   },
   {
    "duration": 0,
    "start_time": "2023-02-02T06:16:57.931Z"
   },
   {
    "duration": 0,
    "start_time": "2023-02-02T06:16:57.932Z"
   },
   {
    "duration": 0,
    "start_time": "2023-02-02T06:16:57.933Z"
   },
   {
    "duration": 0,
    "start_time": "2023-02-02T06:16:57.935Z"
   },
   {
    "duration": 9,
    "start_time": "2023-02-02T06:17:00.125Z"
   },
   {
    "duration": 128590,
    "start_time": "2023-02-02T06:17:01.576Z"
   },
   {
    "duration": 739,
    "start_time": "2023-02-02T06:19:44.278Z"
   },
   {
    "duration": 31338,
    "start_time": "2023-02-02T06:19:45.591Z"
   },
   {
    "duration": 11,
    "start_time": "2023-02-02T06:20:53.221Z"
   },
   {
    "duration": 5,
    "start_time": "2023-02-02T06:20:53.713Z"
   },
   {
    "duration": 9,
    "start_time": "2023-02-02T06:25:53.716Z"
   },
   {
    "duration": 12,
    "start_time": "2023-02-02T06:26:54.299Z"
   },
   {
    "duration": 4,
    "start_time": "2023-02-02T06:27:08.676Z"
   },
   {
    "duration": 14,
    "start_time": "2023-02-02T06:30:33.617Z"
   },
   {
    "duration": 73,
    "start_time": "2023-02-02T06:31:59.438Z"
   },
   {
    "duration": 14,
    "start_time": "2023-02-02T06:33:07.038Z"
   },
   {
    "duration": 16,
    "start_time": "2023-02-02T06:33:15.001Z"
   },
   {
    "duration": 17,
    "start_time": "2023-02-02T06:33:23.749Z"
   },
   {
    "duration": 15,
    "start_time": "2023-02-02T06:33:30.149Z"
   },
   {
    "duration": 15,
    "start_time": "2023-02-02T06:33:35.601Z"
   },
   {
    "duration": 18607,
    "start_time": "2023-02-02T06:35:53.517Z"
   },
   {
    "duration": 14,
    "start_time": "2023-02-02T06:36:13.816Z"
   },
   {
    "duration": 31182,
    "start_time": "2023-02-02T06:36:28.444Z"
   },
   {
    "duration": 18,
    "start_time": "2023-02-02T06:37:03.647Z"
   },
   {
    "duration": 18,
    "start_time": "2023-02-02T06:37:10.695Z"
   },
   {
    "duration": 14844,
    "start_time": "2023-02-02T06:37:18.787Z"
   },
   {
    "duration": 15,
    "start_time": "2023-02-02T06:37:42.601Z"
   },
   {
    "duration": 157,
    "start_time": "2023-02-02T06:38:41.769Z"
   },
   {
    "duration": 13,
    "start_time": "2023-02-02T06:38:45.505Z"
   },
   {
    "duration": 57,
    "start_time": "2023-02-02T06:40:38.349Z"
   },
   {
    "duration": 10,
    "start_time": "2023-02-02T06:40:38.835Z"
   },
   {
    "duration": 131373,
    "start_time": "2023-02-02T06:40:39.186Z"
   },
   {
    "duration": 692,
    "start_time": "2023-02-02T06:42:50.561Z"
   },
   {
    "duration": 14,
    "start_time": "2023-02-02T06:42:51.255Z"
   },
   {
    "duration": 20,
    "start_time": "2023-02-02T06:43:19.336Z"
   },
   {
    "duration": 77,
    "start_time": "2023-02-02T06:44:27.822Z"
   },
   {
    "duration": 106,
    "start_time": "2023-02-02T06:44:37.128Z"
   },
   {
    "duration": 171,
    "start_time": "2023-02-02T06:44:55.602Z"
   },
   {
    "duration": 168,
    "start_time": "2023-02-02T06:45:20.384Z"
   },
   {
    "duration": 20,
    "start_time": "2023-02-02T06:45:41.715Z"
   },
   {
    "duration": 189,
    "start_time": "2023-02-02T06:46:08.404Z"
   },
   {
    "duration": 170,
    "start_time": "2023-02-02T06:46:21.946Z"
   },
   {
    "duration": 12,
    "start_time": "2023-02-02T06:46:35.211Z"
   },
   {
    "duration": 17,
    "start_time": "2023-02-02T06:46:38.332Z"
   },
   {
    "duration": 11,
    "start_time": "2023-02-02T06:46:43.147Z"
   },
   {
    "duration": 10,
    "start_time": "2023-02-02T06:46:57.234Z"
   },
   {
    "duration": 21,
    "start_time": "2023-02-02T06:47:16.301Z"
   },
   {
    "duration": 10,
    "start_time": "2023-02-02T06:47:24.022Z"
   },
   {
    "duration": 12,
    "start_time": "2023-02-02T06:47:30.123Z"
   },
   {
    "duration": 10,
    "start_time": "2023-02-02T06:47:36.202Z"
   },
   {
    "duration": 23136,
    "start_time": "2023-02-02T06:47:50.997Z"
   },
   {
    "duration": 16,
    "start_time": "2023-02-02T06:48:14.222Z"
   },
   {
    "duration": 17,
    "start_time": "2023-02-02T06:48:16.320Z"
   },
   {
    "duration": 13,
    "start_time": "2023-02-02T06:53:38.173Z"
   },
   {
    "duration": 73,
    "start_time": "2023-02-02T06:53:44.520Z"
   },
   {
    "duration": 13,
    "start_time": "2023-02-02T06:53:49.123Z"
   },
   {
    "duration": 17,
    "start_time": "2023-02-02T06:53:58.713Z"
   },
   {
    "duration": 16,
    "start_time": "2023-02-02T06:54:07.770Z"
   },
   {
    "duration": 8,
    "start_time": "2023-02-02T06:57:41.891Z"
   },
   {
    "duration": 203,
    "start_time": "2023-02-02T06:57:44.395Z"
   },
   {
    "duration": 15,
    "start_time": "2023-02-02T06:57:47.784Z"
   },
   {
    "duration": 22,
    "start_time": "2023-02-02T06:58:24.732Z"
   },
   {
    "duration": 18,
    "start_time": "2023-02-02T06:58:32.343Z"
   },
   {
    "duration": 17,
    "start_time": "2023-02-02T06:58:41.030Z"
   },
   {
    "duration": 19,
    "start_time": "2023-02-02T06:58:50.374Z"
   },
   {
    "duration": 7,
    "start_time": "2023-02-02T06:59:40.391Z"
   },
   {
    "duration": 58,
    "start_time": "2023-02-02T07:10:24.831Z"
   },
   {
    "duration": 9,
    "start_time": "2023-02-02T07:10:37.004Z"
   },
   {
    "duration": 17,
    "start_time": "2023-02-02T07:10:37.527Z"
   },
   {
    "duration": 7,
    "start_time": "2023-02-02T07:10:42.783Z"
   },
   {
    "duration": 4021,
    "start_time": "2023-02-02T07:33:20.143Z"
   },
   {
    "duration": 83,
    "start_time": "2023-02-02T07:33:24.166Z"
   },
   {
    "duration": 442296,
    "start_time": "2023-02-02T07:33:24.251Z"
   },
   {
    "duration": 2217,
    "start_time": "2023-02-02T07:40:46.550Z"
   },
   {
    "duration": 36801,
    "start_time": "2023-02-02T07:40:48.846Z"
   },
   {
    "duration": 101,
    "start_time": "2023-02-02T07:41:25.658Z"
   },
   {
    "duration": 8,
    "start_time": "2023-02-02T07:41:25.764Z"
   },
   {
    "duration": 96,
    "start_time": "2023-02-02T07:41:25.774Z"
   },
   {
    "duration": 78,
    "start_time": "2023-02-02T07:41:25.871Z"
   },
   {
    "duration": 1188,
    "start_time": "2023-02-02T23:53:29.694Z"
   },
   {
    "duration": 105,
    "start_time": "2023-02-02T23:53:35.008Z"
   },
   {
    "duration": 11,
    "start_time": "2023-02-02T23:53:51.849Z"
   },
   {
    "duration": 9,
    "start_time": "2023-02-02T23:54:11.255Z"
   },
   {
    "duration": 4,
    "start_time": "2023-02-02T23:54:28.367Z"
   },
   {
    "duration": 4,
    "start_time": "2023-02-02T23:54:29.303Z"
   },
   {
    "duration": 284722,
    "start_time": "2023-02-02T23:55:20.783Z"
   },
   {
    "duration": 362,
    "start_time": "2023-02-03T00:01:52.209Z"
   },
   {
    "duration": 1386,
    "start_time": "2023-02-03T00:01:54.225Z"
   },
   {
    "duration": 16,
    "start_time": "2023-02-03T00:02:50.088Z"
   },
   {
    "duration": 11,
    "start_time": "2023-02-03T00:05:16.391Z"
   },
   {
    "duration": 17,
    "start_time": "2023-02-03T00:06:27.693Z"
   },
   {
    "duration": 6,
    "start_time": "2023-02-03T00:06:53.013Z"
   },
   {
    "duration": 3,
    "start_time": "2023-02-03T00:13:47.559Z"
   },
   {
    "duration": 2,
    "start_time": "2023-02-03T00:13:48.982Z"
   },
   {
    "duration": 12,
    "start_time": "2023-02-03T00:19:40.785Z"
   },
   {
    "duration": 4,
    "start_time": "2023-02-03T00:19:48.336Z"
   },
   {
    "duration": 3,
    "start_time": "2023-02-03T00:19:49.974Z"
   },
   {
    "duration": 30,
    "start_time": "2023-02-03T00:20:40.854Z"
   },
   {
    "duration": 6,
    "start_time": "2023-02-03T00:20:45.528Z"
   },
   {
    "duration": 8,
    "start_time": "2023-02-03T00:22:50.085Z"
   },
   {
    "duration": 11,
    "start_time": "2023-02-03T00:22:52.828Z"
   },
   {
    "duration": 9,
    "start_time": "2023-02-03T00:23:08.884Z"
   },
   {
    "duration": 8,
    "start_time": "2023-02-03T00:23:12.150Z"
   },
   {
    "duration": 9,
    "start_time": "2023-02-03T00:23:30.566Z"
   },
   {
    "duration": 14,
    "start_time": "2023-02-03T00:23:37.468Z"
   },
   {
    "duration": 8,
    "start_time": "2023-02-03T00:23:39.603Z"
   },
   {
    "duration": 9,
    "start_time": "2023-02-03T00:23:51.253Z"
   },
   {
    "duration": 5,
    "start_time": "2023-02-03T00:24:18.173Z"
   },
   {
    "duration": 1754,
    "start_time": "2023-02-03T19:11:49.763Z"
   },
   {
    "duration": 170,
    "start_time": "2023-02-03T19:11:51.519Z"
   },
   {
    "duration": 57,
    "start_time": "2023-02-03T19:11:51.690Z"
   },
   {
    "duration": 12,
    "start_time": "2023-02-03T19:11:51.749Z"
   },
   {
    "duration": 21,
    "start_time": "2023-02-03T19:11:51.762Z"
   },
   {
    "duration": 19,
    "start_time": "2023-02-03T19:11:51.785Z"
   },
   {
    "duration": 309697,
    "start_time": "2023-02-03T19:11:51.806Z"
   },
   {
    "duration": 418,
    "start_time": "2023-02-03T19:17:01.505Z"
   },
   {
    "duration": 1609,
    "start_time": "2023-02-03T19:17:01.924Z"
   },
   {
    "duration": 8,
    "start_time": "2023-02-03T19:17:03.536Z"
   },
   {
    "duration": 39,
    "start_time": "2023-02-03T19:17:03.546Z"
   },
   {
    "duration": 20,
    "start_time": "2023-02-03T19:17:03.587Z"
   },
   {
    "duration": 6,
    "start_time": "2023-02-03T19:23:07.847Z"
   },
   {
    "duration": 10,
    "start_time": "2023-02-03T19:25:07.433Z"
   },
   {
    "duration": 4,
    "start_time": "2023-02-03T19:25:09.330Z"
   },
   {
    "duration": 4,
    "start_time": "2023-02-03T19:25:09.762Z"
   },
   {
    "duration": 13,
    "start_time": "2023-02-03T19:25:21.684Z"
   },
   {
    "duration": 5,
    "start_time": "2023-02-03T19:25:22.044Z"
   },
   {
    "duration": 5,
    "start_time": "2023-02-03T19:25:22.436Z"
   },
   {
    "duration": 4,
    "start_time": "2023-02-03T19:46:25.979Z"
   },
   {
    "duration": 4,
    "start_time": "2023-02-03T19:46:26.847Z"
   },
   {
    "duration": 1407,
    "start_time": "2023-02-04T09:27:39.266Z"
   },
   {
    "duration": 240,
    "start_time": "2023-02-04T09:27:40.675Z"
   },
   {
    "duration": 106,
    "start_time": "2023-02-04T09:27:46.323Z"
   },
   {
    "duration": 15,
    "start_time": "2023-02-04T09:28:00.371Z"
   },
   {
    "duration": 6,
    "start_time": "2023-02-04T09:28:01.675Z"
   },
   {
    "duration": 5,
    "start_time": "2023-02-04T09:28:02.277Z"
   },
   {
    "duration": 162923,
    "start_time": "2023-02-04T09:28:36.720Z"
   },
   {
    "duration": 553,
    "start_time": "2023-02-04T09:31:28.115Z"
   },
   {
    "duration": 1321,
    "start_time": "2023-02-04T09:31:30.693Z"
   },
   {
    "duration": 1229,
    "start_time": "2023-02-04T09:32:06.749Z"
   },
   {
    "duration": 9,
    "start_time": "2023-02-04T09:32:12.259Z"
   },
   {
    "duration": 9,
    "start_time": "2023-02-04T09:32:30.247Z"
   },
   {
    "duration": 140,
    "start_time": "2023-02-04T09:32:34.556Z"
   },
   {
    "duration": 8,
    "start_time": "2023-02-04T09:33:23.247Z"
   },
   {
    "duration": 6,
    "start_time": "2023-02-04T09:33:29.542Z"
   },
   {
    "duration": 10,
    "start_time": "2023-02-04T09:33:38.162Z"
   },
   {
    "duration": 9,
    "start_time": "2023-02-04T09:34:33.241Z"
   },
   {
    "duration": 6,
    "start_time": "2023-02-04T09:35:33.956Z"
   },
   {
    "duration": 64,
    "start_time": "2023-02-04T09:41:02.768Z"
   },
   {
    "duration": 19,
    "start_time": "2023-02-04T09:41:05.797Z"
   },
   {
    "duration": 4,
    "start_time": "2023-02-04T09:41:06.857Z"
   },
   {
    "duration": 5,
    "start_time": "2023-02-04T09:41:07.863Z"
   },
   {
    "duration": 143216,
    "start_time": "2023-02-04T09:41:11.698Z"
   },
   {
    "duration": 493,
    "start_time": "2023-02-04T09:43:55.093Z"
   },
   {
    "duration": 1047,
    "start_time": "2023-02-04T09:43:57.127Z"
   },
   {
    "duration": 7,
    "start_time": "2023-02-04T09:45:07.221Z"
   },
   {
    "duration": 12,
    "start_time": "2023-02-04T09:45:11.303Z"
   },
   {
    "duration": 6,
    "start_time": "2023-02-04T09:45:15.577Z"
   },
   {
    "duration": 2267,
    "start_time": "2023-02-04T18:24:35.781Z"
   },
   {
    "duration": 378,
    "start_time": "2023-02-04T18:24:38.050Z"
   },
   {
    "duration": 101,
    "start_time": "2023-02-04T18:24:38.430Z"
   },
   {
    "duration": 10,
    "start_time": "2023-02-04T18:24:38.533Z"
   },
   {
    "duration": 4,
    "start_time": "2023-02-04T18:24:38.605Z"
   },
   {
    "duration": 6,
    "start_time": "2023-02-04T18:24:38.610Z"
   },
   {
    "duration": 226045,
    "start_time": "2023-02-04T18:24:38.618Z"
   },
   {
    "duration": 502,
    "start_time": "2023-02-04T18:28:24.665Z"
   },
   {
    "duration": 1006,
    "start_time": "2023-02-04T18:28:25.169Z"
   },
   {
    "duration": 6,
    "start_time": "2023-02-04T18:28:26.176Z"
   },
   {
    "duration": 20,
    "start_time": "2023-02-04T18:28:26.183Z"
   },
   {
    "duration": 8,
    "start_time": "2023-02-04T18:28:26.205Z"
   }
  ],
  "kernelspec": {
   "display_name": "Python 3 (ipykernel)",
   "language": "python",
   "name": "python3"
  },
  "language_info": {
   "codemirror_mode": {
    "name": "ipython",
    "version": 3
   },
   "file_extension": ".py",
   "mimetype": "text/x-python",
   "name": "python",
   "nbconvert_exporter": "python",
   "pygments_lexer": "ipython3",
   "version": "3.9.5"
  },
  "toc": {
   "base_numbering": 1,
   "nav_menu": {},
   "number_sections": true,
   "sideBar": true,
   "skip_h1_title": true,
   "title_cell": "Table of Contents",
   "title_sidebar": "Contents",
   "toc_cell": false,
   "toc_position": {
    "height": "calc(100% - 180px)",
    "left": "10px",
    "top": "150px",
    "width": "165px"
   },
   "toc_section_display": true,
   "toc_window_display": true
  }
 },
 "nbformat": 4,
 "nbformat_minor": 2
}
